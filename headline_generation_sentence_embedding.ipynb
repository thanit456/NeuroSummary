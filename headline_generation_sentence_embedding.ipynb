{
  "nbformat": 4,
  "nbformat_minor": 0,
  "metadata": {
    "colab": {
      "name": "headline_generation_sentence_embedding.ipynb",
      "provenance": [],
      "collapsed_sections": [],
      "mount_file_id": "1IpDPQKwLBoKUwIg8J9cKasiTfTisox0U",
      "authorship_tag": "ABX9TyOQzCqegNZHjAxXK7mVelpP",
      "include_colab_link": true
    },
    "kernelspec": {
      "name": "python3",
      "display_name": "Python 3"
    }
  },
  "cells": [
    {
      "cell_type": "markdown",
      "metadata": {
        "id": "view-in-github",
        "colab_type": "text"
      },
      "source": [
        "<a href=\"https://colab.research.google.com/github/thanit456/NeuroSummary/blob/master/headline_generation_sentence_embedding.ipynb\" target=\"_parent\"><img src=\"https://colab.research.google.com/assets/colab-badge.svg\" alt=\"Open In Colab\"/></a>"
      ]
    },
    {
      "cell_type": "code",
      "metadata": {
        "id": "vxKeEtLiGWon",
        "colab_type": "code",
        "outputId": "cd855956-1779-4ae5-8a33-7c38f3ec1de8",
        "colab": {
          "base_uri": "https://localhost:8080/",
          "height": 866
        }
      },
      "source": [
        "!pip install tensorflow_text\n",
        "!pip install pythainlp"
      ],
      "execution_count": 3,
      "outputs": [
        {
          "output_type": "stream",
          "text": [
            "Requirement already satisfied: tensorflow_text in /usr/local/lib/python3.6/dist-packages (2.2.0)\n",
            "Requirement already satisfied: tensorflow<2.3,>=2.2.0 in /usr/local/lib/python3.6/dist-packages (from tensorflow_text) (2.2.0)\n",
            "Requirement already satisfied: tensorflow-estimator<2.3.0,>=2.2.0 in /usr/local/lib/python3.6/dist-packages (from tensorflow<2.3,>=2.2.0->tensorflow_text) (2.2.0)\n",
            "Requirement already satisfied: wrapt>=1.11.1 in /usr/local/lib/python3.6/dist-packages (from tensorflow<2.3,>=2.2.0->tensorflow_text) (1.12.1)\n",
            "Requirement already satisfied: google-pasta>=0.1.8 in /usr/local/lib/python3.6/dist-packages (from tensorflow<2.3,>=2.2.0->tensorflow_text) (0.2.0)\n",
            "Requirement already satisfied: gast==0.3.3 in /usr/local/lib/python3.6/dist-packages (from tensorflow<2.3,>=2.2.0->tensorflow_text) (0.3.3)\n",
            "Requirement already satisfied: h5py<2.11.0,>=2.10.0 in /usr/local/lib/python3.6/dist-packages (from tensorflow<2.3,>=2.2.0->tensorflow_text) (2.10.0)\n",
            "Requirement already satisfied: termcolor>=1.1.0 in /usr/local/lib/python3.6/dist-packages (from tensorflow<2.3,>=2.2.0->tensorflow_text) (1.1.0)\n",
            "Requirement already satisfied: six>=1.12.0 in /usr/local/lib/python3.6/dist-packages (from tensorflow<2.3,>=2.2.0->tensorflow_text) (1.12.0)\n",
            "Requirement already satisfied: grpcio>=1.8.6 in /usr/local/lib/python3.6/dist-packages (from tensorflow<2.3,>=2.2.0->tensorflow_text) (1.28.1)\n",
            "Requirement already satisfied: wheel>=0.26; python_version >= \"3\" in /usr/local/lib/python3.6/dist-packages (from tensorflow<2.3,>=2.2.0->tensorflow_text) (0.34.2)\n",
            "Requirement already satisfied: scipy==1.4.1; python_version >= \"3\" in /usr/local/lib/python3.6/dist-packages (from tensorflow<2.3,>=2.2.0->tensorflow_text) (1.4.1)\n",
            "Requirement already satisfied: absl-py>=0.7.0 in /usr/local/lib/python3.6/dist-packages (from tensorflow<2.3,>=2.2.0->tensorflow_text) (0.9.0)\n",
            "Requirement already satisfied: protobuf>=3.8.0 in /usr/local/lib/python3.6/dist-packages (from tensorflow<2.3,>=2.2.0->tensorflow_text) (3.10.0)\n",
            "Requirement already satisfied: astunparse==1.6.3 in /usr/local/lib/python3.6/dist-packages (from tensorflow<2.3,>=2.2.0->tensorflow_text) (1.6.3)\n",
            "Requirement already satisfied: tensorboard<2.3.0,>=2.2.0 in /usr/local/lib/python3.6/dist-packages (from tensorflow<2.3,>=2.2.0->tensorflow_text) (2.2.1)\n",
            "Requirement already satisfied: keras-preprocessing>=1.1.0 in /usr/local/lib/python3.6/dist-packages (from tensorflow<2.3,>=2.2.0->tensorflow_text) (1.1.0)\n",
            "Requirement already satisfied: numpy<2.0,>=1.16.0 in /usr/local/lib/python3.6/dist-packages (from tensorflow<2.3,>=2.2.0->tensorflow_text) (1.18.4)\n",
            "Requirement already satisfied: opt-einsum>=2.3.2 in /usr/local/lib/python3.6/dist-packages (from tensorflow<2.3,>=2.2.0->tensorflow_text) (3.2.1)\n",
            "Requirement already satisfied: setuptools in /usr/local/lib/python3.6/dist-packages (from protobuf>=3.8.0->tensorflow<2.3,>=2.2.0->tensorflow_text) (46.1.3)\n",
            "Requirement already satisfied: google-auth<2,>=1.6.3 in /usr/local/lib/python3.6/dist-packages (from tensorboard<2.3.0,>=2.2.0->tensorflow<2.3,>=2.2.0->tensorflow_text) (1.7.2)\n",
            "Requirement already satisfied: tensorboard-plugin-wit>=1.6.0 in /usr/local/lib/python3.6/dist-packages (from tensorboard<2.3.0,>=2.2.0->tensorflow<2.3,>=2.2.0->tensorflow_text) (1.6.0.post3)\n",
            "Requirement already satisfied: werkzeug>=0.11.15 in /usr/local/lib/python3.6/dist-packages (from tensorboard<2.3.0,>=2.2.0->tensorflow<2.3,>=2.2.0->tensorflow_text) (1.0.1)\n",
            "Requirement already satisfied: requests<3,>=2.21.0 in /usr/local/lib/python3.6/dist-packages (from tensorboard<2.3.0,>=2.2.0->tensorflow<2.3,>=2.2.0->tensorflow_text) (2.23.0)\n",
            "Requirement already satisfied: google-auth-oauthlib<0.5,>=0.4.1 in /usr/local/lib/python3.6/dist-packages (from tensorboard<2.3.0,>=2.2.0->tensorflow<2.3,>=2.2.0->tensorflow_text) (0.4.1)\n",
            "Requirement already satisfied: markdown>=2.6.8 in /usr/local/lib/python3.6/dist-packages (from tensorboard<2.3.0,>=2.2.0->tensorflow<2.3,>=2.2.0->tensorflow_text) (3.2.1)\n",
            "Requirement already satisfied: cachetools<3.2,>=2.0.0 in /usr/local/lib/python3.6/dist-packages (from google-auth<2,>=1.6.3->tensorboard<2.3.0,>=2.2.0->tensorflow<2.3,>=2.2.0->tensorflow_text) (3.1.1)\n",
            "Requirement already satisfied: pyasn1-modules>=0.2.1 in /usr/local/lib/python3.6/dist-packages (from google-auth<2,>=1.6.3->tensorboard<2.3.0,>=2.2.0->tensorflow<2.3,>=2.2.0->tensorflow_text) (0.2.8)\n",
            "Requirement already satisfied: rsa<4.1,>=3.1.4 in /usr/local/lib/python3.6/dist-packages (from google-auth<2,>=1.6.3->tensorboard<2.3.0,>=2.2.0->tensorflow<2.3,>=2.2.0->tensorflow_text) (4.0)\n",
            "Requirement already satisfied: urllib3!=1.25.0,!=1.25.1,<1.26,>=1.21.1 in /usr/local/lib/python3.6/dist-packages (from requests<3,>=2.21.0->tensorboard<2.3.0,>=2.2.0->tensorflow<2.3,>=2.2.0->tensorflow_text) (1.24.3)\n",
            "Requirement already satisfied: idna<3,>=2.5 in /usr/local/lib/python3.6/dist-packages (from requests<3,>=2.21.0->tensorboard<2.3.0,>=2.2.0->tensorflow<2.3,>=2.2.0->tensorflow_text) (2.9)\n",
            "Requirement already satisfied: certifi>=2017.4.17 in /usr/local/lib/python3.6/dist-packages (from requests<3,>=2.21.0->tensorboard<2.3.0,>=2.2.0->tensorflow<2.3,>=2.2.0->tensorflow_text) (2020.4.5.1)\n",
            "Requirement already satisfied: chardet<4,>=3.0.2 in /usr/local/lib/python3.6/dist-packages (from requests<3,>=2.21.0->tensorboard<2.3.0,>=2.2.0->tensorflow<2.3,>=2.2.0->tensorflow_text) (3.0.4)\n",
            "Requirement already satisfied: requests-oauthlib>=0.7.0 in /usr/local/lib/python3.6/dist-packages (from google-auth-oauthlib<0.5,>=0.4.1->tensorboard<2.3.0,>=2.2.0->tensorflow<2.3,>=2.2.0->tensorflow_text) (1.3.0)\n",
            "Requirement already satisfied: pyasn1<0.5.0,>=0.4.6 in /usr/local/lib/python3.6/dist-packages (from pyasn1-modules>=0.2.1->google-auth<2,>=1.6.3->tensorboard<2.3.0,>=2.2.0->tensorflow<2.3,>=2.2.0->tensorflow_text) (0.4.8)\n",
            "Requirement already satisfied: oauthlib>=3.0.0 in /usr/local/lib/python3.6/dist-packages (from requests-oauthlib>=0.7.0->google-auth-oauthlib<0.5,>=0.4.1->tensorboard<2.3.0,>=2.2.0->tensorflow<2.3,>=2.2.0->tensorflow_text) (3.1.0)\n",
            "Requirement already satisfied: pythainlp in /usr/local/lib/python3.6/dist-packages (2.1.4)\n",
            "Requirement already satisfied: nltk>=3.3 in /usr/local/lib/python3.6/dist-packages (from pythainlp) (3.5)\n",
            "Requirement already satisfied: dill>=0.3.0 in /usr/local/lib/python3.6/dist-packages (from pythainlp) (0.3.1.1)\n",
            "Requirement already satisfied: requests>=2.22.0 in /usr/local/lib/python3.6/dist-packages (from pythainlp) (2.23.0)\n",
            "Requirement already satisfied: tinydb>=3.0 in /usr/local/lib/python3.6/dist-packages (from pythainlp) (4.1.1)\n",
            "Requirement already satisfied: tqdm>=4.1 in /usr/local/lib/python3.6/dist-packages (from pythainlp) (4.41.1)\n",
            "Requirement already satisfied: joblib in /usr/local/lib/python3.6/dist-packages (from nltk>=3.3->pythainlp) (0.14.1)\n",
            "Requirement already satisfied: regex in /usr/local/lib/python3.6/dist-packages (from nltk>=3.3->pythainlp) (2019.12.20)\n",
            "Requirement already satisfied: click in /usr/local/lib/python3.6/dist-packages (from nltk>=3.3->pythainlp) (7.1.2)\n",
            "Requirement already satisfied: urllib3!=1.25.0,!=1.25.1,<1.26,>=1.21.1 in /usr/local/lib/python3.6/dist-packages (from requests>=2.22.0->pythainlp) (1.24.3)\n",
            "Requirement already satisfied: idna<3,>=2.5 in /usr/local/lib/python3.6/dist-packages (from requests>=2.22.0->pythainlp) (2.9)\n",
            "Requirement already satisfied: chardet<4,>=3.0.2 in /usr/local/lib/python3.6/dist-packages (from requests>=2.22.0->pythainlp) (3.0.4)\n",
            "Requirement already satisfied: certifi>=2017.4.17 in /usr/local/lib/python3.6/dist-packages (from requests>=2.22.0->pythainlp) (2020.4.5.1)\n"
          ],
          "name": "stdout"
        }
      ]
    },
    {
      "cell_type": "code",
      "metadata": {
        "id": "72g53rqH_17l",
        "colab_type": "code",
        "colab": {
          "base_uri": "https://localhost:8080/",
          "height": 52
        },
        "outputId": "0de23404-9db2-4614-f871-78f5525b3147"
      },
      "source": [
        "import pandas as pd\n",
        "import numpy as np\n",
        "import matplotlib.pyplot as plt\n",
        "import seaborn as sns\n",
        "from statistics import mode\n",
        "import tqdm\n",
        "\n",
        "import tensorflow_hub as hub\n",
        "import tensorflow_text\n",
        "import tensorflow as tf\n",
        "\n",
        "from pythainlp.corpus.common import thai_stopwords"
      ],
      "execution_count": 4,
      "outputs": [
        {
          "output_type": "stream",
          "text": [
            "/usr/local/lib/python3.6/dist-packages/statsmodels/tools/_testing.py:19: FutureWarning: pandas.util.testing is deprecated. Use the functions in the public API at pandas.testing instead.\n",
            "  import pandas.util.testing as tm\n"
          ],
          "name": "stderr"
        }
      ]
    },
    {
      "cell_type": "code",
      "metadata": {
        "id": "e60jXMI0BYnP",
        "colab_type": "code",
        "colab": {}
      },
      "source": [
        "old_df = pd.read_pickle('/content/drive/Shared drives/NeuroSummary/data/all_deepcut_crfcut_thaigov_1_24.pkl')\n",
        "sentence_df = pd.DataFrame({'content': old_df['tokenized_crfcut_content'], 'headline': old_df['tokenized_crfcut_headline'], 'class': old_df['class_name']})"
      ],
      "execution_count": 0,
      "outputs": []
    },
    {
      "cell_type": "code",
      "metadata": {
        "id": "127bRlYfFK3T",
        "colab_type": "code",
        "outputId": "97f2d187-b66c-44b4-ed46-c75138a2ee21",
        "colab": {
          "base_uri": "https://localhost:8080/",
          "height": 202
        }
      },
      "source": [
        "sentence_df.head()"
      ],
      "execution_count": 6,
      "outputs": [
        {
          "output_type": "execute_result",
          "data": {
            "text/html": [
              "<div>\n",
              "<style scoped>\n",
              "    .dataframe tbody tr th:only-of-type {\n",
              "        vertical-align: middle;\n",
              "    }\n",
              "\n",
              "    .dataframe tbody tr th {\n",
              "        vertical-align: top;\n",
              "    }\n",
              "\n",
              "    .dataframe thead th {\n",
              "        text-align: right;\n",
              "    }\n",
              "</style>\n",
              "<table border=\"1\" class=\"dataframe\">\n",
              "  <thead>\n",
              "    <tr style=\"text-align: right;\">\n",
              "      <th></th>\n",
              "      <th>content</th>\n",
              "      <th>headline</th>\n",
              "      <th>class</th>\n",
              "    </tr>\n",
              "  </thead>\n",
              "  <tbody>\n",
              "    <tr>\n",
              "      <th>0</th>\n",
              "      <td>[ธนาคารอาคารสงเคราะห์ (ธอส.) ประกาศมาตรการบรรเ...</td>\n",
              "      <td>[ธอส.ประกาศมาตรการบรรเทาความเดือดร้อนลูกค้าจาก...</td>\n",
              "      <td>ด้านเศรษฐกิจ</td>\n",
              "    </tr>\n",
              "    <tr>\n",
              "      <th>1</th>\n",
              "      <td>[พลเอก ประยุทธ์ จันทร์โอชา นายกรัฐมนตรีได้กล่า...</td>\n",
              "      <td>[สรุปประเด็นนายกรัฐมนตรีกล่าวในรายการศาสตร์พระ...</td>\n",
              "      <td>ข่าวทำเนียบรัฐบาล</td>\n",
              "    </tr>\n",
              "    <tr>\n",
              "      <th>2</th>\n",
              "      <td>[รมว.แรงงาน ยื่นสัตยาบันอนุสัญญา ILO ฉบับที่ 1...</td>\n",
              "      <td>[“บิ๊กอู๋”ยื่นสัตยาบัน C188 ต่อ ILO แสดงเจตนาร...</td>\n",
              "      <td>ด้านความมั่นคง</td>\n",
              "    </tr>\n",
              "    <tr>\n",
              "      <th>3</th>\n",
              "      <td>[ออมสินจัดโปรพิเศษ Thailand Smart Money กรุงเท...</td>\n",
              "      <td>[ออมสิน จัดโปรโมชั่นพิเศษ Thailand Smart Money...</td>\n",
              "      <td>ด้านเศรษฐกิจ</td>\n",
              "    </tr>\n",
              "    <tr>\n",
              "      <th>4</th>\n",
              "      <td>[ศ.คลินิก นพ.อุดม คชินทร รมช.ศธ. ประชุมหารือกั...</td>\n",
              "      <td>[ม.มหิดล เตรียมร่วมมือกับ ม.บูรพา ผลิตพัฒนากำล...</td>\n",
              "      <td>ด้านการศึกษาฯ</td>\n",
              "    </tr>\n",
              "  </tbody>\n",
              "</table>\n",
              "</div>"
            ],
            "text/plain": [
              "                                             content  ...              class\n",
              "0  [ธนาคารอาคารสงเคราะห์ (ธอส.) ประกาศมาตรการบรรเ...  ...       ด้านเศรษฐกิจ\n",
              "1  [พลเอก ประยุทธ์ จันทร์โอชา นายกรัฐมนตรีได้กล่า...  ...  ข่าวทำเนียบรัฐบาล\n",
              "2  [รมว.แรงงาน ยื่นสัตยาบันอนุสัญญา ILO ฉบับที่ 1...  ...     ด้านความมั่นคง\n",
              "3  [ออมสินจัดโปรพิเศษ Thailand Smart Money กรุงเท...  ...       ด้านเศรษฐกิจ\n",
              "4  [ศ.คลินิก นพ.อุดม คชินทร รมช.ศธ. ประชุมหารือกั...  ...      ด้านการศึกษาฯ\n",
              "\n",
              "[5 rows x 3 columns]"
            ]
          },
          "metadata": {
            "tags": []
          },
          "execution_count": 6
        }
      ]
    },
    {
      "cell_type": "code",
      "metadata": {
        "id": "BmRqSX8hBnYb",
        "colab_type": "code",
        "colab": {}
      },
      "source": [
        "# def remove_space_special(content_arr) :\n",
        "#   return list(filter(lambda x: x not in \" (){}!,'`<>=@_:;,\\'\\\"\\\\”“‘’\",np.array(content_arr)))\n",
        "\n",
        "# df.headline = df.headline.apply(remove_space_special)\n",
        "# df.content = df.content.apply(remove_space_special)\n",
        "# df_stop.headline = df_stop.headline.apply(remove_space_special)\n",
        "# df_stop.content = df_stop.content.apply(remove_space_special)"
      ],
      "execution_count": 0,
      "outputs": []
    },
    {
      "cell_type": "code",
      "metadata": {
        "id": "xCxH3xyhBtcx",
        "colab_type": "code",
        "colab": {}
      },
      "source": [
        "sentence_embedding = hub.load(\"https://tfhub.dev/google/universal-sentence-encoder-multilingual/3\")"
      ],
      "execution_count": 0,
      "outputs": []
    },
    {
      "cell_type": "code",
      "metadata": {
        "id": "w0Tq2D02GIfJ",
        "colab_type": "code",
        "outputId": "ad193692-74cb-4065-f417-fc0af418bf96",
        "colab": {
          "base_uri": "https://localhost:8080/",
          "height": 34
        }
      },
      "source": [
        "sentence_df.iloc[0]['content'][0]"
      ],
      "execution_count": 9,
      "outputs": [
        {
          "output_type": "execute_result",
          "data": {
            "text/plain": [
              "'ธนาคารอาคารสงเคราะห์ (ธอส.) ประกาศมาตรการบรรเทาความเดือดร้อนให้กับลูกค้าของธนาคารที่ได้รับผลกระทบจากอิทธิพลของพายุโซนร้อน “ปาบึก” เพิ่มเติมด้วย '"
            ]
          },
          "metadata": {
            "tags": []
          },
          "execution_count": 9
        }
      ]
    },
    {
      "cell_type": "code",
      "metadata": {
        "id": "F2_zOql6FIU-",
        "colab_type": "code",
        "outputId": "3894d66c-4229-42b9-d65f-af48c4f80d77",
        "colab": {
          "base_uri": "https://localhost:8080/",
          "height": 34
        }
      },
      "source": [
        "sentence = sentence_embedding(sentence_df.iloc[0]['content'][0])\n",
        "sentence.shape"
      ],
      "execution_count": 10,
      "outputs": [
        {
          "output_type": "execute_result",
          "data": {
            "text/plain": [
              "TensorShape([1, 512])"
            ]
          },
          "metadata": {
            "tags": []
          },
          "execution_count": 10
        }
      ]
    },
    {
      "cell_type": "code",
      "metadata": {
        "id": "iwUxdgeQGSc-",
        "colab_type": "code",
        "outputId": "2ee65d41-b86c-4e4d-fc54-d50be04146ca",
        "colab": {
          "base_uri": "https://localhost:8080/",
          "height": 52
        }
      },
      "source": [
        "df = sentence_df\n",
        "\n",
        "# the maximum number of sentence in content and headline\n",
        "max_len_headline = max(df.headline.apply(lambda x: len(x)))\n",
        "print(\"max length headline : \",max_len_headline)\n",
        "max_len_content = max(df.content.apply(lambda x: len(x)))\n",
        "print(\"max length content : \",max_len_content)"
      ],
      "execution_count": 11,
      "outputs": [
        {
          "output_type": "stream",
          "text": [
            "max length headline :  4\n",
            "max length content :  764\n"
          ],
          "name": "stdout"
        }
      ]
    },
    {
      "cell_type": "code",
      "metadata": {
        "id": "t7TV4t2XG7MG",
        "colab_type": "code",
        "outputId": "8f646ce0-9d3c-4446-b482-d70940ded809",
        "colab": {
          "base_uri": "https://localhost:8080/",
          "height": 106
        }
      },
      "source": [
        "def find_max_num_char(df, column):\n",
        "  max_ls = []\n",
        "  for i in range(len(df)):\n",
        "    maxx = 0\n",
        "    longest_sent = ''\n",
        "    for sentence in df.iloc[i][column]:\n",
        "      if len(sentence) > maxx:\n",
        "        maxx = len(sentence)\n",
        "        longest_sent = sentence\n",
        "    max_ls.append((maxx, longest_sent))\n",
        "  return max(max_ls)\n",
        "\n",
        "# the maximum number of characters in content and headline\n",
        "(max_char_headline, longest_sent_headline) = find_max_num_char(df, column='headline')\n",
        "print(\"max char in each sentence in Headline : \", max_char_headline)\n",
        "print(\"longest sentence in Headline          : \", longest_sent_headline)\n",
        "(max_char_content, longest_sent_content) = find_max_num_char(df, column='content')\n",
        "print(\"max char in each sentence in Content : \", max_char_content)\n",
        "print(\"longest sentence in Content          : \", longest_sent_content)\n"
      ],
      "execution_count": 12,
      "outputs": [
        {
          "output_type": "stream",
          "text": [
            "max char in each sentence in Headline :  217\n",
            "longest sentence in Headline          :  รองปลัดกระทรวงอุตสาหกรรม นำคณะสื่อมวลชนจากส่วนกลางและท้องถิ่นกว่า 20 ท่าน เยี่ยมชม บริษัท ที แกลเลอรี่ กรุ๊ป (ประเทศไทย) จำกัด ผู้ผลิตและจำหน่ายชาสมุนไพร ที่ได้รับเงินทุนจำนวน 3 ล้านบาทจากกองทุนเอสเอ็มอีตามแนวประชารัฐ\n",
            "max char in each sentence in Content :  8580\n",
            "longest sentence in Content          :  “EXIM BANK เร่งเดินหน้าพัฒนาองค์กรและขับเคลื่อนยุทธศาสตร์การค้าและการลงทุนระหว่างประเทศ โดยนำพาผู้ประกอบการไทยไปสู่โอกาสใหม่ๆ ทางธุรกิจที่เกิดขึ้น โดยเฉพาะในตลาดใหม่ ด้วยการทำงานร่วมกันกับภาครัฐและเอกชนในการเพิ่มขีดความสามารถในการแข่งขันของผู้ประกอบการไทยด้วยความพร้อมทั้งด้านเครือข่ายธุรกิจ การเงิน และองค์ความรู้ นำไปสู่การพัฒนาประเทศไทยอย่างยั่งยืน” นายพิศิษฐ์กล่าว สอบถามรายละเอียดเพิ่มเติมได้ที่ส่วนสื่อสารองค์กร ฝ่ายเลขานุการและสื่อสารองค์กร EXIM BANK สำนักงานใหญ่ โทร. 0 2271 3700, 0 2278 0047, 0 2617 2111 ต่อ 1141, 1144 EXIM Thailand Celebrates 25th Anniversary Promoting Thai Entrepreneurs’ Opportunities in New Frontiers and Product and Knowledge Base Development  to  Enhance SME Exporters’ Global Competitiveness Mr. Pisit Serewiwattana, President of Export-Import Bank of Thailand (EXIM Thailand), has revealed that the year 2019 marks EXIM Thailand’s 25th Anniversary since its inception in February 1994 and the 3rd year after the Bank has redefined its role under the 10-year Enterprise Plan (2017-2027). The Bank has reviewed its strategic plan in line with the changing global economic circumstances and Thai economic outlook. Six main strategies are identified comprising: 1.  Develop and Expand Thai Trade and Investment Globally, 2. Support National Infrastructure and Industrial Development, 3. Provide Protection against International Trade and Investment Risks, 4. Enhance the Competitiveness of Thai Entrepreneurs, 5. Enhance the Bank’s Technological and Digital Efficiency, and 6. Build a High Performance Organization. Under the above strategies, EXIM Thailand plays a role in bridging the gaps of Thai business networks, serving as an intermediary in building new business networks for Thai entrepreneurs interested in penetrating new frontier markets. The Bank seeks to collaborate with the public and private sectors, both at home and abroad, to connect Thai entrepreneurs, products and services, to manufacturing sectors and consumers in such new destinations. Appropriate forms of supporting Thai entrepreneurs in new frontiers are under study following the establishment of EXIM Thailand’s first and second representative offices in Yangon and Vientiane, respectively, and with the third one to be founded in Phnom Penh in March 2019. Meanwhile, EXIM Thailand strives to develop its products with a view to close the financial gap experienced by Thai entrepreneurs by providing them with needed capital as well as international trade and investment risk hedging tools to ease their entry or expansion into new markets. The aim is also to upgrade their manufacturing process with innovation and high technology to increase value added of Thai products in a sustainable manner. Further, EXIM Thailand also aims to narrow the knowledge gap so that Thai entrepreneurs will obtain in-depth and multifaceted information for use in establishing or expanding their trade and investment successfully both at home and overseas. Small enterprises represent as high as 99% of the country’s total business entities. Their share of Thailand’s GDP has consistently grown and contributed to 30% of the country’s GDP in 2017. If these enterprises are successful in turning themselves into exporters, Thailand’s growth potential will also be enhanced substantially. EXIM Thailand has thus established EXIM Excellence Academy (EXAC) as a work unit to initiate and execute activities in support of Thai export businesses for start-up or expansion. These business enterprises are classified by their growth potential as follows: 1. new or start-up exporters (“Neo-exporters”), 2. exporters with some export experience (“Mid-pros” or intermediate exporters), and 3. Advanced exporters (“High-Flyers”). EXAC activities range from incubation courses to provide knowledge necessary for starting or expanding international trade, business trips to survey markets and export opportunities, business matching with foreign traders or buyers, talks or seminars involving experts from public and private sectors invited to give comprehensive consultation and advice, financial product development to support business start-up or expansion, promotion of business partnership network both at home and abroad, to creation of “exporters society” where successful exporters and EXAC graduates are invited to share their experience and act as mentors for new generations of exporters. These activities aim to help nurture a strong community of exporters that can compete well in the global market. On the occasion of its 25th Anniversary, EXIM Thailand has launched EXIM Happier Credit, a pre- and post-shipment revolving credit for export start-ups who are new to the Bank’s services, each with a credit limit of up to 700,000 baht. For existing customers, a credit limit is raised to up to 1 million baht with interest rate/discount purchase rate of 5.50% per annum in the first year and prime rate - 0.50% per annum (or 5.75% per annum) in the second year in conjunction with a forward contract worth up to the amount equal to the approved credit amount. No asset-based collateral is required (only a personal guarantee applies). As an additional benefit, participants of EXAC programs or other activities of the Bank will be eligible for a discount of 0.50% on the first-year interest rate.  The total approval amount of this new credit facility is targeted at 400 million baht and expected to assist at least 550 small enterprises in starting or growing their exports with no hindrance on business liquidity or foreign exchange risks. In view of EXIM Thailand’s operating results under its new role, the Bank has  exceeded the targets set forth. As of the end of December 2018, the Bank’s total outstanding loans reached a record high of 108,589 million baht, a 16,703 million baht or 18.18% growth year-on-year, comprising 38,412 million baht in trade finance and 70,177 million baht in investment finance. Provision of credit facilities contributed to a business turnover of 197,120 million baht, of which 106,362 million baht came from SMEs. As of the end of December 2018, outstanding SME loans amounted to 42,906 million baht, representing a 5,765 million baht or 15.53% year-on-year growth. This contributed to the Bank’s net profit of 1,365 million baht. NPLs ratio as of the end of December 2018 stood at 3.78%, with NPLs amounting to 4,103 million baht. Allowance for doubtful accounts was 9,385 million baht, a 1,436 million baht increase from the corresponding period of the previous year. Of the total allowance, 4,572 million baht was minimum provisioning requirement by the Bank of Thailand, which represented a ratio of loan loss provision against the regulatory requirement of 205.25%, hence enabling the Bank to maintain a strong financial status. In expanding export credit insurance to safeguard Thai exporters against risk of non-payment by foreign trade partners in both existing and new frontier markets, in 2018, EXIM Thailand recorded 92,448 million baht in export credit and investment insurance business turnover, up by 26,545 million baht year-on-year, of which 22,278 million baht came from SMEs’ exports, representing 24.10% of the Bank’s accumulated insurance business turnover. As for support for Thai entrepreneurs’ expansion of international trade and investment, EXIM Thailand currently has a total accumulated loan approval amount of 84,245 million baht for international projects, with outstanding loans accounting for 39,265 million baht as of the end of December 2018. The Bank has also continued its support for Thai trade and investment in the CLMV (Cambodia, Lao PDR, Myanmar and Vietnam) which recorded consistent economic growth, hence providing ample opportunities for Thai exporters’ expansion. As of the end of 2018, outstanding CLMV loans amounted to 29,441 million baht, a 1,546 million baht growth from the end of 2017. “EXIM Thailand remains steadfast in pursuing its organization development and driving its international trade and investment strategies, introducing new business opportunities, particularly those in new frontiers, to Thai entrepreneurs. We have been working closely with public and private entities in maximizing Thai entrepreneurs’ competitive advantage with the availability of our business networks, finance and knowledge bases, in our consistent attempt to help contribute to the country’s sustainable development,” added Mr. Pisit. For further information, please contact Corporate Communication, Secretary and Corporate Communication Department Tel. 0 2271 3700, 0 2278 0047, 0 2617 2111 ext. 1141, 1144\n"
          ],
          "name": "stdout"
        }
      ]
    },
    {
      "cell_type": "code",
      "metadata": {
        "id": "_deMYdFccy4i",
        "colab_type": "code",
        "colab": {}
      },
      "source": [
        "def get_num_sent(df, column):\n",
        "  ls = []\n",
        "  for i in range(len(df)):\n",
        "    ls.append(len(df.iloc[i][column]))\n",
        "  return ls"
      ],
      "execution_count": 0,
      "outputs": []
    },
    {
      "cell_type": "code",
      "metadata": {
        "id": "N2cp5tZqcek_",
        "colab_type": "code",
        "outputId": "0306cb26-f35d-41d5-82f0-a8f1cccdc372",
        "colab": {
          "base_uri": "https://localhost:8080/",
          "height": 298
        }
      },
      "source": [
        "headline_sentence_dist = get_num_sent(df, column='headline')\n",
        "\n",
        "print('Mode of #sentence : ', mode(headline_sentence_dist))\n",
        "plt.title('[Headline] #sentence distribution')\n",
        "sns.distplot(headline_sentence_dist);"
      ],
      "execution_count": 17,
      "outputs": [
        {
          "output_type": "stream",
          "text": [
            "Mode of #sentence :  1\n"
          ],
          "name": "stdout"
        },
        {
          "output_type": "display_data",
          "data": {
            "image/png": "[encoded data removed]",
            "text/plain": [
              "<Figure size 432x288 with 1 Axes>"
            ]
          },
          "metadata": {
            "tags": [],
            "needs_background": "light"
          }
        }
      ]
    },
    {
      "cell_type": "code",
      "metadata": {
        "id": "2pVOBXnucfZe",
        "colab_type": "code",
        "outputId": "5d34e778-2564-4e18-bc9b-dcae8c4cb07a",
        "colab": {
          "base_uri": "https://localhost:8080/",
          "height": 298
        }
      },
      "source": [
        "content_sentence_dist = get_num_sent(df, column='content')\n",
        "\n",
        "print('Mode of #sentence : ', mode(content_sentence_dist))\n",
        "plt.title('[Content] #sentence distribution')\n",
        "sns.distplot(content_sentence_dist);"
      ],
      "execution_count": 18,
      "outputs": [
        {
          "output_type": "stream",
          "text": [
            "Mode of #sentence :  8\n"
          ],
          "name": "stdout"
        },
        {
          "output_type": "display_data",
          "data": {
            "image/png": "[encoded data removed]",
            "text/plain": [
              "<Figure size 432x288 with 1 Axes>"
            ]
          },
          "metadata": {
            "tags": [],
            "needs_background": "light"
          }
        }
      ]
    },
    {
      "cell_type": "code",
      "metadata": {
        "id": "hH5iUwxVJSLA",
        "colab_type": "code",
        "colab": {}
      },
      "source": [
        "def get_num_char_sent(df, column):\n",
        "  ls = []\n",
        "  for i in range(len(df)):\n",
        "    count = 0\n",
        "    for sentence in df.iloc[i][column]:\n",
        "      count += len(sentence)\n",
        "    ls.append(count)\n",
        "  return ls"
      ],
      "execution_count": 0,
      "outputs": []
    },
    {
      "cell_type": "code",
      "metadata": {
        "id": "obSf5CMwJ0HV",
        "colab_type": "code",
        "outputId": "89dda600-a6d2-4866-b60f-cd2200b46d20",
        "colab": {
          "base_uri": "https://localhost:8080/",
          "height": 298
        }
      },
      "source": [
        "headline_dist = get_num_char_sent(df, column='headline')\n",
        "\n",
        "print('Mode of #chars in each sentence : ', mode(headline_dist))\n",
        "plt.title('[Headline] #chars in each sentence distribution')\n",
        "sns.distplot(headline_dist);"
      ],
      "execution_count": 20,
      "outputs": [
        {
          "output_type": "stream",
          "text": [
            "Mode of #chars in each sentence :  180\n"
          ],
          "name": "stdout"
        },
        {
          "output_type": "display_data",
          "data": {
            "image/png": "[encoded data removed]",
            "text/plain": [
              "<Figure size 432x288 with 1 Axes>"
            ]
          },
          "metadata": {
            "tags": [],
            "needs_background": "light"
          }
        }
      ]
    },
    {
      "cell_type": "code",
      "metadata": {
        "id": "EY0ojEkzIVeX",
        "colab_type": "code",
        "outputId": "09eff7af-431d-4c25-ca19-5623de86c1e1",
        "colab": {
          "base_uri": "https://localhost:8080/",
          "height": 298
        }
      },
      "source": [
        "content_dist = get_num_char_sent(df, column='content')\n",
        "\n",
        "print('Mode of #chars in each sentence : ', mode(content_dist))\n",
        "plt.title('[Content] #chars in each sentence distribution')\n",
        "sns.distplot(content_dist);"
      ],
      "execution_count": 21,
      "outputs": [
        {
          "output_type": "stream",
          "text": [
            "Mode of #chars in each sentence :  69\n"
          ],
          "name": "stdout"
        },
        {
          "output_type": "display_data",
          "data": {
            "image/png": "[encoded data removed]",
            "text/plain": [
              "<Figure size 432x288 with 1 Axes>"
            ]
          },
          "metadata": {
            "tags": [],
            "needs_background": "light"
          }
        }
      ]
    },
    {
      "cell_type": "code",
      "metadata": {
        "id": "B9DkxTYaKHNN",
        "colab_type": "code",
        "outputId": "e05b912f-357f-49e1-dc23-5fdd2d0da944",
        "colab": {
          "base_uri": "https://localhost:8080/",
          "height": 398
        }
      },
      "source": [
        "def get_sentence2vector(df, column):\n",
        "  ls = []\n",
        "  for i in tqdm.tqdm(range(len(df))):\n",
        "    tmp = []\n",
        "    for sentence in df.iloc[i][column]:\n",
        "      tmp.append(sentence_embedding(sentence))\n",
        "    ls.append(tmp)\n",
        "  return ls\n",
        "\n",
        "sent_vec_content = get_sentence2vector(df, column='content')\n",
        "sent_vec_headline = get_sentence2vector(df, column='headline')\n",
        "\n",
        "df['content_vector'] = sent_vec_content\n",
        "df['content_headline'] = sent_vec_headline"
      ],
      "execution_count": 22,
      "outputs": [
        {
          "output_type": "stream",
          "text": [
            "  2%|▏         | 408/17367 [01:20<1:15:41,  3.73it/s]"
          ],
          "name": "stderr"
        },
        {
          "output_type": "error",
          "ename": "KeyboardInterrupt",
          "evalue": "ignored",
          "traceback": [
            "\u001b[0;31m---------------------------------------------------------------------------\u001b[0m",
            "\u001b[0;31mKeyboardInterrupt\u001b[0m                         Traceback (most recent call last)",
            "\u001b[0;32m<ipython-input-22-0b2c5c2fe137>\u001b[0m in \u001b[0;36m<module>\u001b[0;34m()\u001b[0m\n\u001b[1;32m      8\u001b[0m   \u001b[0;32mreturn\u001b[0m \u001b[0mls\u001b[0m\u001b[0;34m\u001b[0m\u001b[0;34m\u001b[0m\u001b[0m\n\u001b[1;32m      9\u001b[0m \u001b[0;34m\u001b[0m\u001b[0m\n\u001b[0;32m---> 10\u001b[0;31m \u001b[0msent_vec_content\u001b[0m \u001b[0;34m=\u001b[0m \u001b[0mget_sentence2vector\u001b[0m\u001b[0;34m(\u001b[0m\u001b[0mdf\u001b[0m\u001b[0;34m,\u001b[0m \u001b[0mcolumn\u001b[0m\u001b[0;34m=\u001b[0m\u001b[0;34m'content'\u001b[0m\u001b[0;34m)\u001b[0m\u001b[0;34m\u001b[0m\u001b[0;34m\u001b[0m\u001b[0m\n\u001b[0m\u001b[1;32m     11\u001b[0m \u001b[0msent_vec_headline\u001b[0m \u001b[0;34m=\u001b[0m \u001b[0mget_sentence2vector\u001b[0m\u001b[0;34m(\u001b[0m\u001b[0mdf\u001b[0m\u001b[0;34m,\u001b[0m \u001b[0mcolumn\u001b[0m\u001b[0;34m=\u001b[0m\u001b[0;34m'headline'\u001b[0m\u001b[0;34m)\u001b[0m\u001b[0;34m\u001b[0m\u001b[0;34m\u001b[0m\u001b[0m\n\u001b[1;32m     12\u001b[0m \u001b[0;34m\u001b[0m\u001b[0m\n",
            "\u001b[0;32m<ipython-input-22-0b2c5c2fe137>\u001b[0m in \u001b[0;36mget_sentence2vector\u001b[0;34m(df, column)\u001b[0m\n\u001b[1;32m      4\u001b[0m     \u001b[0mtmp\u001b[0m \u001b[0;34m=\u001b[0m \u001b[0;34m[\u001b[0m\u001b[0;34m]\u001b[0m\u001b[0;34m\u001b[0m\u001b[0;34m\u001b[0m\u001b[0m\n\u001b[1;32m      5\u001b[0m     \u001b[0;32mfor\u001b[0m \u001b[0msentence\u001b[0m \u001b[0;32min\u001b[0m \u001b[0mdf\u001b[0m\u001b[0;34m.\u001b[0m\u001b[0miloc\u001b[0m\u001b[0;34m[\u001b[0m\u001b[0mi\u001b[0m\u001b[0;34m]\u001b[0m\u001b[0;34m[\u001b[0m\u001b[0mcolumn\u001b[0m\u001b[0;34m]\u001b[0m\u001b[0;34m:\u001b[0m\u001b[0;34m\u001b[0m\u001b[0;34m\u001b[0m\u001b[0m\n\u001b[0;32m----> 6\u001b[0;31m       \u001b[0mtmp\u001b[0m\u001b[0;34m.\u001b[0m\u001b[0mappend\u001b[0m\u001b[0;34m(\u001b[0m\u001b[0msentence_embedding\u001b[0m\u001b[0;34m(\u001b[0m\u001b[0msentence\u001b[0m\u001b[0;34m)\u001b[0m\u001b[0;34m)\u001b[0m\u001b[0;34m\u001b[0m\u001b[0;34m\u001b[0m\u001b[0m\n\u001b[0m\u001b[1;32m      7\u001b[0m     \u001b[0mls\u001b[0m\u001b[0;34m.\u001b[0m\u001b[0mappend\u001b[0m\u001b[0;34m(\u001b[0m\u001b[0mtmp\u001b[0m\u001b[0;34m)\u001b[0m\u001b[0;34m\u001b[0m\u001b[0;34m\u001b[0m\u001b[0m\n\u001b[1;32m      8\u001b[0m   \u001b[0;32mreturn\u001b[0m \u001b[0mls\u001b[0m\u001b[0;34m\u001b[0m\u001b[0;34m\u001b[0m\u001b[0m\n",
            "\u001b[0;32m/usr/local/lib/python3.6/dist-packages/tensorflow/python/saved_model/load.py\u001b[0m in \u001b[0;36m_call_attribute\u001b[0;34m(instance, *args, **kwargs)\u001b[0m\n\u001b[1;32m    484\u001b[0m \u001b[0;34m\u001b[0m\u001b[0m\n\u001b[1;32m    485\u001b[0m \u001b[0;32mdef\u001b[0m \u001b[0m_call_attribute\u001b[0m\u001b[0;34m(\u001b[0m\u001b[0minstance\u001b[0m\u001b[0;34m,\u001b[0m \u001b[0;34m*\u001b[0m\u001b[0margs\u001b[0m\u001b[0;34m,\u001b[0m \u001b[0;34m**\u001b[0m\u001b[0mkwargs\u001b[0m\u001b[0;34m)\u001b[0m\u001b[0;34m:\u001b[0m\u001b[0;34m\u001b[0m\u001b[0;34m\u001b[0m\u001b[0m\n\u001b[0;32m--> 486\u001b[0;31m   \u001b[0;32mreturn\u001b[0m \u001b[0minstance\u001b[0m\u001b[0;34m.\u001b[0m\u001b[0m__call__\u001b[0m\u001b[0;34m(\u001b[0m\u001b[0;34m*\u001b[0m\u001b[0margs\u001b[0m\u001b[0;34m,\u001b[0m \u001b[0;34m**\u001b[0m\u001b[0mkwargs\u001b[0m\u001b[0;34m)\u001b[0m\u001b[0;34m\u001b[0m\u001b[0;34m\u001b[0m\u001b[0m\n\u001b[0m\u001b[1;32m    487\u001b[0m \u001b[0;34m\u001b[0m\u001b[0m\n\u001b[1;32m    488\u001b[0m \u001b[0;34m\u001b[0m\u001b[0m\n",
            "\u001b[0;32m/usr/local/lib/python3.6/dist-packages/tensorflow/python/eager/def_function.py\u001b[0m in \u001b[0;36m__call__\u001b[0;34m(self, *args, **kwds)\u001b[0m\n\u001b[1;32m    578\u001b[0m         \u001b[0mxla_context\u001b[0m\u001b[0;34m.\u001b[0m\u001b[0mExit\u001b[0m\u001b[0;34m(\u001b[0m\u001b[0;34m)\u001b[0m\u001b[0;34m\u001b[0m\u001b[0;34m\u001b[0m\u001b[0m\n\u001b[1;32m    579\u001b[0m     \u001b[0;32melse\u001b[0m\u001b[0;34m:\u001b[0m\u001b[0;34m\u001b[0m\u001b[0;34m\u001b[0m\u001b[0m\n\u001b[0;32m--> 580\u001b[0;31m       \u001b[0mresult\u001b[0m \u001b[0;34m=\u001b[0m \u001b[0mself\u001b[0m\u001b[0;34m.\u001b[0m\u001b[0m_call\u001b[0m\u001b[0;34m(\u001b[0m\u001b[0;34m*\u001b[0m\u001b[0margs\u001b[0m\u001b[0;34m,\u001b[0m \u001b[0;34m**\u001b[0m\u001b[0mkwds\u001b[0m\u001b[0;34m)\u001b[0m\u001b[0;34m\u001b[0m\u001b[0;34m\u001b[0m\u001b[0m\n\u001b[0m\u001b[1;32m    581\u001b[0m \u001b[0;34m\u001b[0m\u001b[0m\n\u001b[1;32m    582\u001b[0m     \u001b[0;32mif\u001b[0m \u001b[0mtracing_count\u001b[0m \u001b[0;34m==\u001b[0m \u001b[0mself\u001b[0m\u001b[0;34m.\u001b[0m\u001b[0m_get_tracing_count\u001b[0m\u001b[0;34m(\u001b[0m\u001b[0;34m)\u001b[0m\u001b[0;34m:\u001b[0m\u001b[0;34m\u001b[0m\u001b[0;34m\u001b[0m\u001b[0m\n",
            "\u001b[0;32m/usr/local/lib/python3.6/dist-packages/tensorflow/python/eager/def_function.py\u001b[0m in \u001b[0;36m_call\u001b[0;34m(self, *args, **kwds)\u001b[0m\n\u001b[1;32m    616\u001b[0m       \u001b[0;31m# In this case we have not created variables on the first call. So we can\u001b[0m\u001b[0;34m\u001b[0m\u001b[0;34m\u001b[0m\u001b[0;34m\u001b[0m\u001b[0m\n\u001b[1;32m    617\u001b[0m       \u001b[0;31m# run the first trace but we should fail if variables are created.\u001b[0m\u001b[0;34m\u001b[0m\u001b[0;34m\u001b[0m\u001b[0;34m\u001b[0m\u001b[0m\n\u001b[0;32m--> 618\u001b[0;31m       \u001b[0mresults\u001b[0m \u001b[0;34m=\u001b[0m \u001b[0mself\u001b[0m\u001b[0;34m.\u001b[0m\u001b[0m_stateful_fn\u001b[0m\u001b[0;34m(\u001b[0m\u001b[0;34m*\u001b[0m\u001b[0margs\u001b[0m\u001b[0;34m,\u001b[0m \u001b[0;34m**\u001b[0m\u001b[0mkwds\u001b[0m\u001b[0;34m)\u001b[0m\u001b[0;34m\u001b[0m\u001b[0;34m\u001b[0m\u001b[0m\n\u001b[0m\u001b[1;32m    619\u001b[0m       \u001b[0;32mif\u001b[0m \u001b[0mself\u001b[0m\u001b[0;34m.\u001b[0m\u001b[0m_created_variables\u001b[0m\u001b[0;34m:\u001b[0m\u001b[0;34m\u001b[0m\u001b[0;34m\u001b[0m\u001b[0m\n\u001b[1;32m    620\u001b[0m         raise ValueError(\"Creating variables on a non-first call to a function\"\n",
            "\u001b[0;32m/usr/local/lib/python3.6/dist-packages/tensorflow/python/eager/function.py\u001b[0m in \u001b[0;36m__call__\u001b[0;34m(self, *args, **kwargs)\u001b[0m\n\u001b[1;32m   2418\u001b[0m     \u001b[0;32mwith\u001b[0m \u001b[0mself\u001b[0m\u001b[0;34m.\u001b[0m\u001b[0m_lock\u001b[0m\u001b[0;34m:\u001b[0m\u001b[0;34m\u001b[0m\u001b[0;34m\u001b[0m\u001b[0m\n\u001b[1;32m   2419\u001b[0m       \u001b[0mgraph_function\u001b[0m\u001b[0;34m,\u001b[0m \u001b[0margs\u001b[0m\u001b[0;34m,\u001b[0m \u001b[0mkwargs\u001b[0m \u001b[0;34m=\u001b[0m \u001b[0mself\u001b[0m\u001b[0;34m.\u001b[0m\u001b[0m_maybe_define_function\u001b[0m\u001b[0;34m(\u001b[0m\u001b[0margs\u001b[0m\u001b[0;34m,\u001b[0m \u001b[0mkwargs\u001b[0m\u001b[0;34m)\u001b[0m\u001b[0;34m\u001b[0m\u001b[0;34m\u001b[0m\u001b[0m\n\u001b[0;32m-> 2420\u001b[0;31m     \u001b[0;32mreturn\u001b[0m \u001b[0mgraph_function\u001b[0m\u001b[0;34m.\u001b[0m\u001b[0m_filtered_call\u001b[0m\u001b[0;34m(\u001b[0m\u001b[0margs\u001b[0m\u001b[0;34m,\u001b[0m \u001b[0mkwargs\u001b[0m\u001b[0;34m)\u001b[0m  \u001b[0;31m# pylint: disable=protected-access\u001b[0m\u001b[0;34m\u001b[0m\u001b[0;34m\u001b[0m\u001b[0m\n\u001b[0m\u001b[1;32m   2421\u001b[0m \u001b[0;34m\u001b[0m\u001b[0m\n\u001b[1;32m   2422\u001b[0m   \u001b[0;34m@\u001b[0m\u001b[0mproperty\u001b[0m\u001b[0;34m\u001b[0m\u001b[0;34m\u001b[0m\u001b[0m\n",
            "\u001b[0;32m/usr/local/lib/python3.6/dist-packages/tensorflow/python/eager/function.py\u001b[0m in \u001b[0;36m_filtered_call\u001b[0;34m(self, args, kwargs)\u001b[0m\n\u001b[1;32m   1663\u001b[0m          if isinstance(t, (ops.Tensor,\n\u001b[1;32m   1664\u001b[0m                            resource_variable_ops.BaseResourceVariable))),\n\u001b[0;32m-> 1665\u001b[0;31m         self.captured_inputs)\n\u001b[0m\u001b[1;32m   1666\u001b[0m \u001b[0;34m\u001b[0m\u001b[0m\n\u001b[1;32m   1667\u001b[0m   \u001b[0;32mdef\u001b[0m \u001b[0m_call_flat\u001b[0m\u001b[0;34m(\u001b[0m\u001b[0mself\u001b[0m\u001b[0;34m,\u001b[0m \u001b[0margs\u001b[0m\u001b[0;34m,\u001b[0m \u001b[0mcaptured_inputs\u001b[0m\u001b[0;34m,\u001b[0m \u001b[0mcancellation_manager\u001b[0m\u001b[0;34m=\u001b[0m\u001b[0;32mNone\u001b[0m\u001b[0;34m)\u001b[0m\u001b[0;34m:\u001b[0m\u001b[0;34m\u001b[0m\u001b[0;34m\u001b[0m\u001b[0m\n",
            "\u001b[0;32m/usr/local/lib/python3.6/dist-packages/tensorflow/python/eager/function.py\u001b[0m in \u001b[0;36m_call_flat\u001b[0;34m(self, args, captured_inputs, cancellation_manager)\u001b[0m\n\u001b[1;32m   1744\u001b[0m       \u001b[0;31m# No tape is watching; skip to running the function.\u001b[0m\u001b[0;34m\u001b[0m\u001b[0;34m\u001b[0m\u001b[0;34m\u001b[0m\u001b[0m\n\u001b[1;32m   1745\u001b[0m       return self._build_call_outputs(self._inference_function.call(\n\u001b[0;32m-> 1746\u001b[0;31m           ctx, args, cancellation_manager=cancellation_manager))\n\u001b[0m\u001b[1;32m   1747\u001b[0m     forward_backward = self._select_forward_and_backward_functions(\n\u001b[1;32m   1748\u001b[0m         \u001b[0margs\u001b[0m\u001b[0;34m,\u001b[0m\u001b[0;34m\u001b[0m\u001b[0;34m\u001b[0m\u001b[0m\n",
            "\u001b[0;32m/usr/local/lib/python3.6/dist-packages/tensorflow/python/eager/function.py\u001b[0m in \u001b[0;36mcall\u001b[0;34m(self, ctx, args, cancellation_manager)\u001b[0m\n\u001b[1;32m    596\u001b[0m               \u001b[0minputs\u001b[0m\u001b[0;34m=\u001b[0m\u001b[0margs\u001b[0m\u001b[0;34m,\u001b[0m\u001b[0;34m\u001b[0m\u001b[0;34m\u001b[0m\u001b[0m\n\u001b[1;32m    597\u001b[0m               \u001b[0mattrs\u001b[0m\u001b[0;34m=\u001b[0m\u001b[0mattrs\u001b[0m\u001b[0;34m,\u001b[0m\u001b[0;34m\u001b[0m\u001b[0;34m\u001b[0m\u001b[0m\n\u001b[0;32m--> 598\u001b[0;31m               ctx=ctx)\n\u001b[0m\u001b[1;32m    599\u001b[0m         \u001b[0;32melse\u001b[0m\u001b[0;34m:\u001b[0m\u001b[0;34m\u001b[0m\u001b[0;34m\u001b[0m\u001b[0m\n\u001b[1;32m    600\u001b[0m           outputs = execute.execute_with_cancellation(\n",
            "\u001b[0;32m/usr/local/lib/python3.6/dist-packages/tensorflow/python/eager/execute.py\u001b[0m in \u001b[0;36mquick_execute\u001b[0;34m(op_name, num_outputs, inputs, attrs, ctx, name)\u001b[0m\n\u001b[1;32m     58\u001b[0m     \u001b[0mctx\u001b[0m\u001b[0;34m.\u001b[0m\u001b[0mensure_initialized\u001b[0m\u001b[0;34m(\u001b[0m\u001b[0;34m)\u001b[0m\u001b[0;34m\u001b[0m\u001b[0;34m\u001b[0m\u001b[0m\n\u001b[1;32m     59\u001b[0m     tensors = pywrap_tfe.TFE_Py_Execute(ctx._handle, device_name, op_name,\n\u001b[0;32m---> 60\u001b[0;31m                                         inputs, attrs, num_outputs)\n\u001b[0m\u001b[1;32m     61\u001b[0m   \u001b[0;32mexcept\u001b[0m \u001b[0mcore\u001b[0m\u001b[0;34m.\u001b[0m\u001b[0m_NotOkStatusException\u001b[0m \u001b[0;32mas\u001b[0m \u001b[0me\u001b[0m\u001b[0;34m:\u001b[0m\u001b[0;34m\u001b[0m\u001b[0;34m\u001b[0m\u001b[0m\n\u001b[1;32m     62\u001b[0m     \u001b[0;32mif\u001b[0m \u001b[0mname\u001b[0m \u001b[0;32mis\u001b[0m \u001b[0;32mnot\u001b[0m \u001b[0;32mNone\u001b[0m\u001b[0;34m:\u001b[0m\u001b[0;34m\u001b[0m\u001b[0;34m\u001b[0m\u001b[0m\n",
            "\u001b[0;31mKeyboardInterrupt\u001b[0m: "
          ]
        }
      ]
    },
    {
      "cell_type": "code",
      "metadata": {
        "id": "ntG9Y89DXDZz",
        "colab_type": "code",
        "colab": {}
      },
      "source": [
        "import pickle\n",
        "drive_path = '/content/drive/Shared drives/NeuroSummary/data/two_data_playground/'\n",
        "\n",
        "with open(drive_path + 'sentence2vec_universal_df.pkl', 'wb') as f:\n",
        "  pickle.dump(df, f)"
      ],
      "execution_count": 0,
      "outputs": []
    },
    {
      "cell_type": "code",
      "metadata": {
        "id": "4ohyPRAqguxF",
        "colab_type": "code",
        "colab": {}
      },
      "source": [
        "eiei_df = pd.read_pickle(drive_path + 'sentence2vec_universal_df.pkl')"
      ],
      "execution_count": 0,
      "outputs": []
    },
    {
      "cell_type": "code",
      "metadata": {
        "id": "_Rl4aVNcgu8m",
        "colab_type": "code",
        "outputId": "c6257a78-ec7a-42c8-9667-dbf02c9034cc",
        "colab": {
          "base_uri": "https://localhost:8080/",
          "height": 289
        }
      },
      "source": [
        "eiei_df.head()"
      ],
      "execution_count": 0,
      "outputs": [
        {
          "output_type": "execute_result",
          "data": {
            "text/html": [
              "<div>\n",
              "<style scoped>\n",
              "    .dataframe tbody tr th:only-of-type {\n",
              "        vertical-align: middle;\n",
              "    }\n",
              "\n",
              "    .dataframe tbody tr th {\n",
              "        vertical-align: top;\n",
              "    }\n",
              "\n",
              "    .dataframe thead th {\n",
              "        text-align: right;\n",
              "    }\n",
              "</style>\n",
              "<table border=\"1\" class=\"dataframe\">\n",
              "  <thead>\n",
              "    <tr style=\"text-align: right;\">\n",
              "      <th></th>\n",
              "      <th>content</th>\n",
              "      <th>headline</th>\n",
              "      <th>class</th>\n",
              "      <th>content_vector</th>\n",
              "      <th>content_headline</th>\n",
              "    </tr>\n",
              "  </thead>\n",
              "  <tbody>\n",
              "    <tr>\n",
              "      <th>0</th>\n",
              "      <td>[ธนาคารอาคารสงเคราะห์ (ธอส.) ประกาศมาตรการบรรเ...</td>\n",
              "      <td>[ธอส.ประกาศมาตรการบรรเทาความเดือดร้อนลูกค้าจาก...</td>\n",
              "      <td>ด้านเศรษฐกิจ</td>\n",
              "      <td>[((tf.Tensor(-0.03886919, shape=(), dtype=floa...</td>\n",
              "      <td>[((tf.Tensor(-0.05122369, shape=(), dtype=floa...</td>\n",
              "    </tr>\n",
              "    <tr>\n",
              "      <th>1</th>\n",
              "      <td>[พลเอก ประยุทธ์ จันทร์โอชา นายกรัฐมนตรีได้กล่า...</td>\n",
              "      <td>[สรุปประเด็นนายกรัฐมนตรีกล่าวในรายการศาสตร์พระ...</td>\n",
              "      <td>ข่าวทำเนียบรัฐบาล</td>\n",
              "      <td>[((tf.Tensor(-0.015753765, shape=(), dtype=flo...</td>\n",
              "      <td>[((tf.Tensor(0.032791086, shape=(), dtype=floa...</td>\n",
              "    </tr>\n",
              "    <tr>\n",
              "      <th>2</th>\n",
              "      <td>[รมว.แรงงาน ยื่นสัตยาบันอนุสัญญา ILO ฉบับที่ 1...</td>\n",
              "      <td>[“บิ๊กอู๋”ยื่นสัตยาบัน C188 ต่อ ILO แสดงเจตนาร...</td>\n",
              "      <td>ด้านความมั่นคง</td>\n",
              "      <td>[((tf.Tensor(0.021387877, shape=(), dtype=floa...</td>\n",
              "      <td>[((tf.Tensor(-0.009893261, shape=(), dtype=flo...</td>\n",
              "    </tr>\n",
              "    <tr>\n",
              "      <th>3</th>\n",
              "      <td>[ออมสินจัดโปรพิเศษ Thailand Smart Money กรุงเท...</td>\n",
              "      <td>[ออมสิน จัดโปรโมชั่นพิเศษ Thailand Smart Money...</td>\n",
              "      <td>ด้านเศรษฐกิจ</td>\n",
              "      <td>[((tf.Tensor(-0.041912667, shape=(), dtype=flo...</td>\n",
              "      <td>[((tf.Tensor(-0.014473209, shape=(), dtype=flo...</td>\n",
              "    </tr>\n",
              "    <tr>\n",
              "      <th>4</th>\n",
              "      <td>[ศ.คลินิก นพ.อุดม คชินทร รมช.ศธ. ประชุมหารือกั...</td>\n",
              "      <td>[ม.มหิดล เตรียมร่วมมือกับ ม.บูรพา ผลิตพัฒนากำล...</td>\n",
              "      <td>ด้านการศึกษาฯ</td>\n",
              "      <td>[((tf.Tensor(0.0074925586, shape=(), dtype=flo...</td>\n",
              "      <td>[((tf.Tensor(-0.007146186, shape=(), dtype=flo...</td>\n",
              "    </tr>\n",
              "  </tbody>\n",
              "</table>\n",
              "</div>"
            ],
            "text/plain": [
              "                                             content  ...                                   content_headline\n",
              "0  [ธนาคารอาคารสงเคราะห์ (ธอส.) ประกาศมาตรการบรรเ...  ...  [((tf.Tensor(-0.05122369, shape=(), dtype=floa...\n",
              "1  [พลเอก ประยุทธ์ จันทร์โอชา นายกรัฐมนตรีได้กล่า...  ...  [((tf.Tensor(0.032791086, shape=(), dtype=floa...\n",
              "2  [รมว.แรงงาน ยื่นสัตยาบันอนุสัญญา ILO ฉบับที่ 1...  ...  [((tf.Tensor(-0.009893261, shape=(), dtype=flo...\n",
              "3  [ออมสินจัดโปรพิเศษ Thailand Smart Money กรุงเท...  ...  [((tf.Tensor(-0.014473209, shape=(), dtype=flo...\n",
              "4  [ศ.คลินิก นพ.อุดม คชินทร รมช.ศธ. ประชุมหารือกั...  ...  [((tf.Tensor(-0.007146186, shape=(), dtype=flo...\n",
              "\n",
              "[5 rows x 5 columns]"
            ]
          },
          "metadata": {
            "tags": []
          },
          "execution_count": 74
        }
      ]
    },
    {
      "cell_type": "code",
      "metadata": {
        "id": "NIoLm2ZMgvBB",
        "colab_type": "code",
        "colab": {}
      },
      "source": [
        "-"
      ],
      "execution_count": 0,
      "outputs": []
    },
    {
      "cell_type": "code",
      "metadata": {
        "id": "sPElrS9xXDr5",
        "colab_type": "code",
        "colab": {}
      },
      "source": [
        ""
      ],
      "execution_count": 0,
      "outputs": []
    },
    {
      "cell_type": "code",
      "metadata": {
        "id": "JHdQOUxVXD2i",
        "colab_type": "code",
        "colab": {}
      },
      "source": [
        ""
      ],
      "execution_count": 0,
      "outputs": []
    },
    {
      "cell_type": "code",
      "metadata": {
        "id": "vt5Man8mXDol",
        "colab_type": "code",
        "colab": {}
      },
      "source": [
        ""
      ],
      "execution_count": 0,
      "outputs": []
    }
  ]
}