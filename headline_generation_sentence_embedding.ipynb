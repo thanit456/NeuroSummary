{
  "nbformat": 4,
  "nbformat_minor": 0,
  "metadata": {
    "colab": {
      "name": "headline_generation_sentence_embedding.ipynb",
      "provenance": [],
      "mount_file_id": "1IpDPQKwLBoKUwIg8J9cKasiTfTisox0U",
      "authorship_tag": "ABX9TyNDb22+rF1Cyhr+jPx5xTKB",
      "include_colab_link": true
    },
    "kernelspec": {
      "name": "python3",
      "display_name": "Python 3"
    }
  },
  "cells": [
    {
      "cell_type": "markdown",
      "metadata": {
        "id": "view-in-github",
        "colab_type": "text"
      },
      "source": [
        "<a href=\"https://colab.research.google.com/github/thanit456/NeuroSummary/blob/master/headline_generation_sentence_embedding.ipynb\" target=\"_parent\"><img src=\"https://colab.research.google.com/assets/colab-badge.svg\" alt=\"Open In Colab\"/></a>"
      ]
    },
    {
      "cell_type": "code",
      "metadata": {
        "id": "vxKeEtLiGWon",
        "colab_type": "code",
        "colab": {
          "base_uri": "https://localhost:8080/",
          "height": 1000
        },
        "outputId": "d3028095-c326-4f28-9943-779c1a44b66f"
      },
      "source": [
        "!pip install tensorflow_text\n",
        "!pip install pythainlp"
      ],
      "execution_count": 45,
      "outputs": [
        {
          "output_type": "stream",
          "text": [
            "Requirement already satisfied: tensorflow_text in /usr/local/lib/python3.6/dist-packages (2.2.0)\n",
            "Requirement already satisfied: tensorflow<2.3,>=2.2.0 in /usr/local/lib/python3.6/dist-packages (from tensorflow_text) (2.2.0)\n",
            "Requirement already satisfied: tensorflow-estimator<2.3.0,>=2.2.0 in /usr/local/lib/python3.6/dist-packages (from tensorflow<2.3,>=2.2.0->tensorflow_text) (2.2.0)\n",
            "Requirement already satisfied: grpcio>=1.8.6 in /usr/local/lib/python3.6/dist-packages (from tensorflow<2.3,>=2.2.0->tensorflow_text) (1.28.1)\n",
            "Requirement already satisfied: numpy<2.0,>=1.16.0 in /usr/local/lib/python3.6/dist-packages (from tensorflow<2.3,>=2.2.0->tensorflow_text) (1.18.4)\n",
            "Requirement already satisfied: wrapt>=1.11.1 in /usr/local/lib/python3.6/dist-packages (from tensorflow<2.3,>=2.2.0->tensorflow_text) (1.12.1)\n",
            "Requirement already satisfied: six>=1.12.0 in /usr/local/lib/python3.6/dist-packages (from tensorflow<2.3,>=2.2.0->tensorflow_text) (1.12.0)\n",
            "Requirement already satisfied: termcolor>=1.1.0 in /usr/local/lib/python3.6/dist-packages (from tensorflow<2.3,>=2.2.0->tensorflow_text) (1.1.0)\n",
            "Requirement already satisfied: google-pasta>=0.1.8 in /usr/local/lib/python3.6/dist-packages (from tensorflow<2.3,>=2.2.0->tensorflow_text) (0.2.0)\n",
            "Requirement already satisfied: wheel>=0.26; python_version >= \"3\" in /usr/local/lib/python3.6/dist-packages (from tensorflow<2.3,>=2.2.0->tensorflow_text) (0.34.2)\n",
            "Requirement already satisfied: astunparse==1.6.3 in /usr/local/lib/python3.6/dist-packages (from tensorflow<2.3,>=2.2.0->tensorflow_text) (1.6.3)\n",
            "Requirement already satisfied: h5py<2.11.0,>=2.10.0 in /usr/local/lib/python3.6/dist-packages (from tensorflow<2.3,>=2.2.0->tensorflow_text) (2.10.0)\n",
            "Requirement already satisfied: opt-einsum>=2.3.2 in /usr/local/lib/python3.6/dist-packages (from tensorflow<2.3,>=2.2.0->tensorflow_text) (3.2.1)\n",
            "Requirement already satisfied: absl-py>=0.7.0 in /usr/local/lib/python3.6/dist-packages (from tensorflow<2.3,>=2.2.0->tensorflow_text) (0.9.0)\n",
            "Requirement already satisfied: protobuf>=3.8.0 in /usr/local/lib/python3.6/dist-packages (from tensorflow<2.3,>=2.2.0->tensorflow_text) (3.10.0)\n",
            "Requirement already satisfied: scipy==1.4.1; python_version >= \"3\" in /usr/local/lib/python3.6/dist-packages (from tensorflow<2.3,>=2.2.0->tensorflow_text) (1.4.1)\n",
            "Requirement already satisfied: keras-preprocessing>=1.1.0 in /usr/local/lib/python3.6/dist-packages (from tensorflow<2.3,>=2.2.0->tensorflow_text) (1.1.0)\n",
            "Requirement already satisfied: gast==0.3.3 in /usr/local/lib/python3.6/dist-packages (from tensorflow<2.3,>=2.2.0->tensorflow_text) (0.3.3)\n",
            "Requirement already satisfied: tensorboard<2.3.0,>=2.2.0 in /usr/local/lib/python3.6/dist-packages (from tensorflow<2.3,>=2.2.0->tensorflow_text) (2.2.1)\n",
            "Requirement already satisfied: setuptools in /usr/local/lib/python3.6/dist-packages (from protobuf>=3.8.0->tensorflow<2.3,>=2.2.0->tensorflow_text) (46.1.3)\n",
            "Requirement already satisfied: tensorboard-plugin-wit>=1.6.0 in /usr/local/lib/python3.6/dist-packages (from tensorboard<2.3.0,>=2.2.0->tensorflow<2.3,>=2.2.0->tensorflow_text) (1.6.0.post3)\n",
            "Requirement already satisfied: google-auth<2,>=1.6.3 in /usr/local/lib/python3.6/dist-packages (from tensorboard<2.3.0,>=2.2.0->tensorflow<2.3,>=2.2.0->tensorflow_text) (1.7.2)\n",
            "Requirement already satisfied: requests<3,>=2.21.0 in /usr/local/lib/python3.6/dist-packages (from tensorboard<2.3.0,>=2.2.0->tensorflow<2.3,>=2.2.0->tensorflow_text) (2.23.0)\n",
            "Requirement already satisfied: werkzeug>=0.11.15 in /usr/local/lib/python3.6/dist-packages (from tensorboard<2.3.0,>=2.2.0->tensorflow<2.3,>=2.2.0->tensorflow_text) (1.0.1)\n",
            "Requirement already satisfied: google-auth-oauthlib<0.5,>=0.4.1 in /usr/local/lib/python3.6/dist-packages (from tensorboard<2.3.0,>=2.2.0->tensorflow<2.3,>=2.2.0->tensorflow_text) (0.4.1)\n",
            "Requirement already satisfied: markdown>=2.6.8 in /usr/local/lib/python3.6/dist-packages (from tensorboard<2.3.0,>=2.2.0->tensorflow<2.3,>=2.2.0->tensorflow_text) (3.2.1)\n",
            "Requirement already satisfied: cachetools<3.2,>=2.0.0 in /usr/local/lib/python3.6/dist-packages (from google-auth<2,>=1.6.3->tensorboard<2.3.0,>=2.2.0->tensorflow<2.3,>=2.2.0->tensorflow_text) (3.1.1)\n",
            "Requirement already satisfied: rsa<4.1,>=3.1.4 in /usr/local/lib/python3.6/dist-packages (from google-auth<2,>=1.6.3->tensorboard<2.3.0,>=2.2.0->tensorflow<2.3,>=2.2.0->tensorflow_text) (4.0)\n",
            "Requirement already satisfied: pyasn1-modules>=0.2.1 in /usr/local/lib/python3.6/dist-packages (from google-auth<2,>=1.6.3->tensorboard<2.3.0,>=2.2.0->tensorflow<2.3,>=2.2.0->tensorflow_text) (0.2.8)\n",
            "Requirement already satisfied: idna<3,>=2.5 in /usr/local/lib/python3.6/dist-packages (from requests<3,>=2.21.0->tensorboard<2.3.0,>=2.2.0->tensorflow<2.3,>=2.2.0->tensorflow_text) (2.9)\n",
            "Requirement already satisfied: chardet<4,>=3.0.2 in /usr/local/lib/python3.6/dist-packages (from requests<3,>=2.21.0->tensorboard<2.3.0,>=2.2.0->tensorflow<2.3,>=2.2.0->tensorflow_text) (3.0.4)\n",
            "Requirement already satisfied: certifi>=2017.4.17 in /usr/local/lib/python3.6/dist-packages (from requests<3,>=2.21.0->tensorboard<2.3.0,>=2.2.0->tensorflow<2.3,>=2.2.0->tensorflow_text) (2020.4.5.1)\n",
            "Requirement already satisfied: urllib3!=1.25.0,!=1.25.1,<1.26,>=1.21.1 in /usr/local/lib/python3.6/dist-packages (from requests<3,>=2.21.0->tensorboard<2.3.0,>=2.2.0->tensorflow<2.3,>=2.2.0->tensorflow_text) (1.24.3)\n",
            "Requirement already satisfied: requests-oauthlib>=0.7.0 in /usr/local/lib/python3.6/dist-packages (from google-auth-oauthlib<0.5,>=0.4.1->tensorboard<2.3.0,>=2.2.0->tensorflow<2.3,>=2.2.0->tensorflow_text) (1.3.0)\n",
            "Requirement already satisfied: pyasn1>=0.1.3 in /usr/local/lib/python3.6/dist-packages (from rsa<4.1,>=3.1.4->google-auth<2,>=1.6.3->tensorboard<2.3.0,>=2.2.0->tensorflow<2.3,>=2.2.0->tensorflow_text) (0.4.8)\n",
            "Requirement already satisfied: oauthlib>=3.0.0 in /usr/local/lib/python3.6/dist-packages (from requests-oauthlib>=0.7.0->google-auth-oauthlib<0.5,>=0.4.1->tensorboard<2.3.0,>=2.2.0->tensorflow<2.3,>=2.2.0->tensorflow_text) (3.1.0)\n",
            "Collecting pythainlp\n",
            "\u001b[?25l  Downloading https://files.pythonhosted.org/packages/cb/14/b80930a2cc09ed6b5f8a22da9be6ece56939839ae66d921d9c7123034ba0/pythainlp-2.1.4-py3-none-any.whl (11.1MB)\n",
            "\u001b[K     |████████████████████████████████| 11.1MB 2.5MB/s \n",
            "\u001b[?25hRequirement already satisfied: dill>=0.3.0 in /usr/local/lib/python3.6/dist-packages (from pythainlp) (0.3.1.1)\n",
            "Requirement already satisfied: requests>=2.22.0 in /usr/local/lib/python3.6/dist-packages (from pythainlp) (2.23.0)\n",
            "Collecting nltk>=3.3\n",
            "\u001b[?25l  Downloading https://files.pythonhosted.org/packages/92/75/ce35194d8e3022203cca0d2f896dbb88689f9b3fce8e9f9cff942913519d/nltk-3.5.zip (1.4MB)\n",
            "\u001b[K     |████████████████████████████████| 1.4MB 47.9MB/s \n",
            "\u001b[?25hRequirement already satisfied: tqdm>=4.1 in /usr/local/lib/python3.6/dist-packages (from pythainlp) (4.41.1)\n",
            "Collecting tinydb>=3.0\n",
            "  Downloading https://files.pythonhosted.org/packages/b6/f6/b3e112addc8eb4a097f158124ce8b206767361a381f80c5f0c506d855e4a/tinydb-4.1.1-py3-none-any.whl\n",
            "Requirement already satisfied: chardet<4,>=3.0.2 in /usr/local/lib/python3.6/dist-packages (from requests>=2.22.0->pythainlp) (3.0.4)\n",
            "Requirement already satisfied: certifi>=2017.4.17 in /usr/local/lib/python3.6/dist-packages (from requests>=2.22.0->pythainlp) (2020.4.5.1)\n",
            "Requirement already satisfied: idna<3,>=2.5 in /usr/local/lib/python3.6/dist-packages (from requests>=2.22.0->pythainlp) (2.9)\n",
            "Requirement already satisfied: urllib3!=1.25.0,!=1.25.1,<1.26,>=1.21.1 in /usr/local/lib/python3.6/dist-packages (from requests>=2.22.0->pythainlp) (1.24.3)\n",
            "Requirement already satisfied: click in /usr/local/lib/python3.6/dist-packages (from nltk>=3.3->pythainlp) (7.1.2)\n",
            "Requirement already satisfied: joblib in /usr/local/lib/python3.6/dist-packages (from nltk>=3.3->pythainlp) (0.14.1)\n",
            "Requirement already satisfied: regex in /usr/local/lib/python3.6/dist-packages (from nltk>=3.3->pythainlp) (2019.12.20)\n",
            "Building wheels for collected packages: nltk\n",
            "  Building wheel for nltk (setup.py) ... \u001b[?25l\u001b[?25hdone\n",
            "  Created wheel for nltk: filename=nltk-3.5-cp36-none-any.whl size=1434676 sha256=9f39759dc9b9924f0cce0b4c001561ec68f527e0f7d847396c7e8ddbdfe26c05\n",
            "  Stored in directory: /root/.cache/pip/wheels/ae/8c/3f/b1fe0ba04555b08b57ab52ab7f86023639a526d8bc8d384306\n",
            "Successfully built nltk\n",
            "Installing collected packages: nltk, tinydb, pythainlp\n",
            "  Found existing installation: nltk 3.2.5\n",
            "    Uninstalling nltk-3.2.5:\n",
            "      Successfully uninstalled nltk-3.2.5\n",
            "Successfully installed nltk-3.5 pythainlp-2.1.4 tinydb-4.1.1\n"
          ],
          "name": "stdout"
        }
      ]
    },
    {
      "cell_type": "code",
      "metadata": {
        "id": "72g53rqH_17l",
        "colab_type": "code",
        "colab": {}
      },
      "source": [
        "import pandas as pd\n",
        "import numpy as np\n",
        "import matplotlib.pyplot as plt\n",
        "import seaborn as sns\n",
        "from statistics import mode\n",
        "import tqdm\n",
        "\n",
        "import tensorflow_hub as hub\n",
        "import tensorflow_text\n",
        "import tensorflow as tf\n",
        "\n",
        "from pythainlp.corpus.common import thai_stopwords"
      ],
      "execution_count": 0,
      "outputs": []
    },
    {
      "cell_type": "code",
      "metadata": {
        "id": "e60jXMI0BYnP",
        "colab_type": "code",
        "colab": {}
      },
      "source": [
        "old_df = pd.read_pickle('/content/drive/Shared drives/NeuroSummary/data/all_deepcut_crfcut_thaigov_1_24.pkl')\n",
        "sentence_df = pd.DataFrame({'content': old_df['tokenized_crfcut_content'], 'headline': old_df['tokenized_crfcut_headline'], 'class': old_df['class_name']})"
      ],
      "execution_count": 0,
      "outputs": []
    },
    {
      "cell_type": "code",
      "metadata": {
        "id": "127bRlYfFK3T",
        "colab_type": "code",
        "colab": {
          "base_uri": "https://localhost:8080/",
          "height": 202
        },
        "outputId": "fc58b2c7-c07b-4a64-da24-01b44ac0841c"
      },
      "source": [
        "sentence_df.head()"
      ],
      "execution_count": 12,
      "outputs": [
        {
          "output_type": "execute_result",
          "data": {
            "text/html": [
              "<div>\n",
              "<style scoped>\n",
              "    .dataframe tbody tr th:only-of-type {\n",
              "        vertical-align: middle;\n",
              "    }\n",
              "\n",
              "    .dataframe tbody tr th {\n",
              "        vertical-align: top;\n",
              "    }\n",
              "\n",
              "    .dataframe thead th {\n",
              "        text-align: right;\n",
              "    }\n",
              "</style>\n",
              "<table border=\"1\" class=\"dataframe\">\n",
              "  <thead>\n",
              "    <tr style=\"text-align: right;\">\n",
              "      <th></th>\n",
              "      <th>content</th>\n",
              "      <th>headline</th>\n",
              "      <th>class</th>\n",
              "    </tr>\n",
              "  </thead>\n",
              "  <tbody>\n",
              "    <tr>\n",
              "      <th>0</th>\n",
              "      <td>[ธนาคารอาคารสงเคราะห์ (ธอส.) ประกาศมาตรการบรรเ...</td>\n",
              "      <td>[ธอส.ประกาศมาตรการบรรเทาความเดือดร้อนลูกค้าจาก...</td>\n",
              "      <td>ด้านเศรษฐกิจ</td>\n",
              "    </tr>\n",
              "    <tr>\n",
              "      <th>1</th>\n",
              "      <td>[พลเอก ประยุทธ์ จันทร์โอชา นายกรัฐมนตรีได้กล่า...</td>\n",
              "      <td>[สรุปประเด็นนายกรัฐมนตรีกล่าวในรายการศาสตร์พระ...</td>\n",
              "      <td>ข่าวทำเนียบรัฐบาล</td>\n",
              "    </tr>\n",
              "    <tr>\n",
              "      <th>2</th>\n",
              "      <td>[รมว.แรงงาน ยื่นสัตยาบันอนุสัญญา ILO ฉบับที่ 1...</td>\n",
              "      <td>[“บิ๊กอู๋”ยื่นสัตยาบัน C188 ต่อ ILO แสดงเจตนาร...</td>\n",
              "      <td>ด้านความมั่นคง</td>\n",
              "    </tr>\n",
              "    <tr>\n",
              "      <th>3</th>\n",
              "      <td>[ออมสินจัดโปรพิเศษ Thailand Smart Money กรุงเท...</td>\n",
              "      <td>[ออมสิน จัดโปรโมชั่นพิเศษ Thailand Smart Money...</td>\n",
              "      <td>ด้านเศรษฐกิจ</td>\n",
              "    </tr>\n",
              "    <tr>\n",
              "      <th>4</th>\n",
              "      <td>[ศ.คลินิก นพ.อุดม คชินทร รมช.ศธ. ประชุมหารือกั...</td>\n",
              "      <td>[ม.มหิดล เตรียมร่วมมือกับ ม.บูรพา ผลิตพัฒนากำล...</td>\n",
              "      <td>ด้านการศึกษาฯ</td>\n",
              "    </tr>\n",
              "  </tbody>\n",
              "</table>\n",
              "</div>"
            ],
            "text/plain": [
              "                                             content  ...              class\n",
              "0  [ธนาคารอาคารสงเคราะห์ (ธอส.) ประกาศมาตรการบรรเ...  ...       ด้านเศรษฐกิจ\n",
              "1  [พลเอก ประยุทธ์ จันทร์โอชา นายกรัฐมนตรีได้กล่า...  ...  ข่าวทำเนียบรัฐบาล\n",
              "2  [รมว.แรงงาน ยื่นสัตยาบันอนุสัญญา ILO ฉบับที่ 1...  ...     ด้านความมั่นคง\n",
              "3  [ออมสินจัดโปรพิเศษ Thailand Smart Money กรุงเท...  ...       ด้านเศรษฐกิจ\n",
              "4  [ศ.คลินิก นพ.อุดม คชินทร รมช.ศธ. ประชุมหารือกั...  ...      ด้านการศึกษาฯ\n",
              "\n",
              "[5 rows x 3 columns]"
            ]
          },
          "metadata": {
            "tags": []
          },
          "execution_count": 12
        }
      ]
    },
    {
      "cell_type": "code",
      "metadata": {
        "id": "BmRqSX8hBnYb",
        "colab_type": "code",
        "colab": {}
      },
      "source": [
        "# def remove_space_special(content_arr) :\n",
        "#   return list(filter(lambda x: x not in \" (){}!,'`<>=@_:;,\\'\\\"\\\\”“‘’\",np.array(content_arr)))\n",
        "\n",
        "# df.headline = df.headline.apply(remove_space_special)\n",
        "# df.content = df.content.apply(remove_space_special)\n",
        "# df_stop.headline = df_stop.headline.apply(remove_space_special)\n",
        "# df_stop.content = df_stop.content.apply(remove_space_special)"
      ],
      "execution_count": 0,
      "outputs": []
    },
    {
      "cell_type": "code",
      "metadata": {
        "id": "xCxH3xyhBtcx",
        "colab_type": "code",
        "colab": {}
      },
      "source": [
        "sentence_embedding = hub.load(\"https://tfhub.dev/google/universal-sentence-encoder-multilingual/3\")"
      ],
      "execution_count": 0,
      "outputs": []
    },
    {
      "cell_type": "code",
      "metadata": {
        "id": "w0Tq2D02GIfJ",
        "colab_type": "code",
        "colab": {
          "base_uri": "https://localhost:8080/",
          "height": 34
        },
        "outputId": "c0e119f0-493e-4bdb-af41-32f56f78952b"
      },
      "source": [
        "sentence_df.iloc[0]['content'][0]"
      ],
      "execution_count": 19,
      "outputs": [
        {
          "output_type": "execute_result",
          "data": {
            "text/plain": [
              "'ธนาคารอาคารสงเคราะห์ (ธอส.) ประกาศมาตรการบรรเทาความเดือดร้อนให้กับลูกค้าของธนาคารที่ได้รับผลกระทบจากอิทธิพลของพายุโซนร้อน “ปาบึก” เพิ่มเติมด้วย '"
            ]
          },
          "metadata": {
            "tags": []
          },
          "execution_count": 19
        }
      ]
    },
    {
      "cell_type": "code",
      "metadata": {
        "id": "F2_zOql6FIU-",
        "colab_type": "code",
        "colab": {
          "base_uri": "https://localhost:8080/",
          "height": 34
        },
        "outputId": "5e113cd0-f6c9-42d1-ef6f-55902edbd3cb"
      },
      "source": [
        "sentence = sentence_embedding(sentence_df.iloc[0]['content'][0])\n",
        "sentence.shape"
      ],
      "execution_count": 21,
      "outputs": [
        {
          "output_type": "execute_result",
          "data": {
            "text/plain": [
              "TensorShape([1, 512])"
            ]
          },
          "metadata": {
            "tags": []
          },
          "execution_count": 21
        }
      ]
    },
    {
      "cell_type": "code",
      "metadata": {
        "id": "iwUxdgeQGSc-",
        "colab_type": "code",
        "colab": {
          "base_uri": "https://localhost:8080/",
          "height": 52
        },
        "outputId": "25721730-89c3-488c-f9c2-8fc3d0ae23d8"
      },
      "source": [
        "df = sentence_df\n",
        "\n",
        "# the maximum number of sentence in content and headline\n",
        "max_len_headline = max(df.headline.apply(lambda x: len(x)))\n",
        "print(\"max length headline : \",max_len_headline)\n",
        "max_len_content = max(df.content.apply(lambda x: len(x)))\n",
        "print(\"max length content : \",max_len_content)"
      ],
      "execution_count": 22,
      "outputs": [
        {
          "output_type": "stream",
          "text": [
            "max length headline :  4\n",
            "max length content :  764\n"
          ],
          "name": "stdout"
        }
      ]
    },
    {
      "cell_type": "code",
      "metadata": {
        "id": "t7TV4t2XG7MG",
        "colab_type": "code",
        "colab": {
          "base_uri": "https://localhost:8080/",
          "height": 106
        },
        "outputId": "b1296cbd-8779-4f88-c627-fddc2ce0b5cd"
      },
      "source": [
        "def find_max_num_char(df, column):\n",
        "  max_ls = []\n",
        "  for i in range(len(df)):\n",
        "    maxx = 0\n",
        "    longest_sent = ''\n",
        "    for sentence in df.iloc[i][column]:\n",
        "      if len(sentence) > maxx:\n",
        "        maxx = len(sentence)\n",
        "        longest_sent = sentence\n",
        "    max_ls.append((maxx, longest_sent))\n",
        "  return max(max_ls)\n",
        "\n",
        "# the maximum number of characters in content and headline\n",
        "(max_char_headline, longest_sent_headline) = find_max_num_char(df, column='headline')\n",
        "print(\"max char in each sentence in Headline : \", max_char_headline)\n",
        "print(\"longest sentence in Headline          : \", longest_sent_headline)\n",
        "(max_char_content, longest_sent_content) = find_max_num_char(df, column='content')\n",
        "print(\"max char in each sentence in Content : \", max_char_content)\n",
        "print(\"longest sentence in Content          : \", longest_sent_content)\n"
      ],
      "execution_count": 26,
      "outputs": [
        {
          "output_type": "stream",
          "text": [
            "max char in each sentence in Headline :  217\n",
            "longest sentence in Headline          :  รองปลัดกระทรวงอุตสาหกรรม นำคณะสื่อมวลชนจากส่วนกลางและท้องถิ่นกว่า 20 ท่าน เยี่ยมชม บริษัท ที แกลเลอรี่ กรุ๊ป (ประเทศไทย) จำกัด ผู้ผลิตและจำหน่ายชาสมุนไพร ที่ได้รับเงินทุนจำนวน 3 ล้านบาทจากกองทุนเอสเอ็มอีตามแนวประชารัฐ\n",
            "max char in each sentence in Content :  8580\n",
            "longest sentence in Content          :  “EXIM BANK เร่งเดินหน้าพัฒนาองค์กรและขับเคลื่อนยุทธศาสตร์การค้าและการลงทุนระหว่างประเทศ โดยนำพาผู้ประกอบการไทยไปสู่โอกาสใหม่ๆ ทางธุรกิจที่เกิดขึ้น โดยเฉพาะในตลาดใหม่ ด้วยการทำงานร่วมกันกับภาครัฐและเอกชนในการเพิ่มขีดความสามารถในการแข่งขันของผู้ประกอบการไทยด้วยความพร้อมทั้งด้านเครือข่ายธุรกิจ การเงิน และองค์ความรู้ นำไปสู่การพัฒนาประเทศไทยอย่างยั่งยืน” นายพิศิษฐ์กล่าว สอบถามรายละเอียดเพิ่มเติมได้ที่ส่วนสื่อสารองค์กร ฝ่ายเลขานุการและสื่อสารองค์กร EXIM BANK สำนักงานใหญ่ โทร. 0 2271 3700, 0 2278 0047, 0 2617 2111 ต่อ 1141, 1144 EXIM Thailand Celebrates 25th Anniversary Promoting Thai Entrepreneurs’ Opportunities in New Frontiers and Product and Knowledge Base Development  to  Enhance SME Exporters’ Global Competitiveness Mr. Pisit Serewiwattana, President of Export-Import Bank of Thailand (EXIM Thailand), has revealed that the year 2019 marks EXIM Thailand’s 25th Anniversary since its inception in February 1994 and the 3rd year after the Bank has redefined its role under the 10-year Enterprise Plan (2017-2027). The Bank has reviewed its strategic plan in line with the changing global economic circumstances and Thai economic outlook. Six main strategies are identified comprising: 1.  Develop and Expand Thai Trade and Investment Globally, 2. Support National Infrastructure and Industrial Development, 3. Provide Protection against International Trade and Investment Risks, 4. Enhance the Competitiveness of Thai Entrepreneurs, 5. Enhance the Bank’s Technological and Digital Efficiency, and 6. Build a High Performance Organization. Under the above strategies, EXIM Thailand plays a role in bridging the gaps of Thai business networks, serving as an intermediary in building new business networks for Thai entrepreneurs interested in penetrating new frontier markets. The Bank seeks to collaborate with the public and private sectors, both at home and abroad, to connect Thai entrepreneurs, products and services, to manufacturing sectors and consumers in such new destinations. Appropriate forms of supporting Thai entrepreneurs in new frontiers are under study following the establishment of EXIM Thailand’s first and second representative offices in Yangon and Vientiane, respectively, and with the third one to be founded in Phnom Penh in March 2019. Meanwhile, EXIM Thailand strives to develop its products with a view to close the financial gap experienced by Thai entrepreneurs by providing them with needed capital as well as international trade and investment risk hedging tools to ease their entry or expansion into new markets. The aim is also to upgrade their manufacturing process with innovation and high technology to increase value added of Thai products in a sustainable manner. Further, EXIM Thailand also aims to narrow the knowledge gap so that Thai entrepreneurs will obtain in-depth and multifaceted information for use in establishing or expanding their trade and investment successfully both at home and overseas. Small enterprises represent as high as 99% of the country’s total business entities. Their share of Thailand’s GDP has consistently grown and contributed to 30% of the country’s GDP in 2017. If these enterprises are successful in turning themselves into exporters, Thailand’s growth potential will also be enhanced substantially. EXIM Thailand has thus established EXIM Excellence Academy (EXAC) as a work unit to initiate and execute activities in support of Thai export businesses for start-up or expansion. These business enterprises are classified by their growth potential as follows: 1. new or start-up exporters (“Neo-exporters”), 2. exporters with some export experience (“Mid-pros” or intermediate exporters), and 3. Advanced exporters (“High-Flyers”). EXAC activities range from incubation courses to provide knowledge necessary for starting or expanding international trade, business trips to survey markets and export opportunities, business matching with foreign traders or buyers, talks or seminars involving experts from public and private sectors invited to give comprehensive consultation and advice, financial product development to support business start-up or expansion, promotion of business partnership network both at home and abroad, to creation of “exporters society” where successful exporters and EXAC graduates are invited to share their experience and act as mentors for new generations of exporters. These activities aim to help nurture a strong community of exporters that can compete well in the global market. On the occasion of its 25th Anniversary, EXIM Thailand has launched EXIM Happier Credit, a pre- and post-shipment revolving credit for export start-ups who are new to the Bank’s services, each with a credit limit of up to 700,000 baht. For existing customers, a credit limit is raised to up to 1 million baht with interest rate/discount purchase rate of 5.50% per annum in the first year and prime rate - 0.50% per annum (or 5.75% per annum) in the second year in conjunction with a forward contract worth up to the amount equal to the approved credit amount. No asset-based collateral is required (only a personal guarantee applies). As an additional benefit, participants of EXAC programs or other activities of the Bank will be eligible for a discount of 0.50% on the first-year interest rate.  The total approval amount of this new credit facility is targeted at 400 million baht and expected to assist at least 550 small enterprises in starting or growing their exports with no hindrance on business liquidity or foreign exchange risks. In view of EXIM Thailand’s operating results under its new role, the Bank has  exceeded the targets set forth. As of the end of December 2018, the Bank’s total outstanding loans reached a record high of 108,589 million baht, a 16,703 million baht or 18.18% growth year-on-year, comprising 38,412 million baht in trade finance and 70,177 million baht in investment finance. Provision of credit facilities contributed to a business turnover of 197,120 million baht, of which 106,362 million baht came from SMEs. As of the end of December 2018, outstanding SME loans amounted to 42,906 million baht, representing a 5,765 million baht or 15.53% year-on-year growth. This contributed to the Bank’s net profit of 1,365 million baht. NPLs ratio as of the end of December 2018 stood at 3.78%, with NPLs amounting to 4,103 million baht. Allowance for doubtful accounts was 9,385 million baht, a 1,436 million baht increase from the corresponding period of the previous year. Of the total allowance, 4,572 million baht was minimum provisioning requirement by the Bank of Thailand, which represented a ratio of loan loss provision against the regulatory requirement of 205.25%, hence enabling the Bank to maintain a strong financial status. In expanding export credit insurance to safeguard Thai exporters against risk of non-payment by foreign trade partners in both existing and new frontier markets, in 2018, EXIM Thailand recorded 92,448 million baht in export credit and investment insurance business turnover, up by 26,545 million baht year-on-year, of which 22,278 million baht came from SMEs’ exports, representing 24.10% of the Bank’s accumulated insurance business turnover. As for support for Thai entrepreneurs’ expansion of international trade and investment, EXIM Thailand currently has a total accumulated loan approval amount of 84,245 million baht for international projects, with outstanding loans accounting for 39,265 million baht as of the end of December 2018. The Bank has also continued its support for Thai trade and investment in the CLMV (Cambodia, Lao PDR, Myanmar and Vietnam) which recorded consistent economic growth, hence providing ample opportunities for Thai exporters’ expansion. As of the end of 2018, outstanding CLMV loans amounted to 29,441 million baht, a 1,546 million baht growth from the end of 2017. “EXIM Thailand remains steadfast in pursuing its organization development and driving its international trade and investment strategies, introducing new business opportunities, particularly those in new frontiers, to Thai entrepreneurs. We have been working closely with public and private entities in maximizing Thai entrepreneurs’ competitive advantage with the availability of our business networks, finance and knowledge bases, in our consistent attempt to help contribute to the country’s sustainable development,” added Mr. Pisit. For further information, please contact Corporate Communication, Secretary and Corporate Communication Department Tel. 0 2271 3700, 0 2278 0047, 0 2617 2111 ext. 1141, 1144\n"
          ],
          "name": "stdout"
        }
      ]
    },
    {
      "cell_type": "code",
      "metadata": {
        "id": "_deMYdFccy4i",
        "colab_type": "code",
        "colab": {}
      },
      "source": [
        "def get_num_sent(df, column):\n",
        "  ls = []\n",
        "  for i in range(len(df)):\n",
        "    for sentence in df.iloc[i][column]:\n",
        "      ls.append(len(sentence))\n",
        "  return ls"
      ],
      "execution_count": 0,
      "outputs": []
    },
    {
      "cell_type": "code",
      "metadata": {
        "id": "N2cp5tZqcek_",
        "colab_type": "code",
        "colab": {
          "base_uri": "https://localhost:8080/",
          "height": 298
        },
        "outputId": "1405bb4b-bea1-4ba6-b6c4-40254b5d4bd2"
      },
      "source": [
        "headline_sentence_dist = get_num_sent(df, column='headline')\n",
        "\n",
        "print('Mode of #sentence : ', mode(headline_sentence_dist))\n",
        "plt.title('[Headline] #sentence distribution')\n",
        "sns.distplot(headline_sentence_dist);"
      ],
      "execution_count": 58,
      "outputs": [
        {
          "output_type": "stream",
          "text": [
            "Mode of #sentence :  74\n"
          ],
          "name": "stdout"
        },
        {
          "output_type": "display_data",
          "data": {
            "image/png": "[encoded data removed]",
            "text/plain": [
              "<Figure size 432x288 with 1 Axes>"
            ]
          },
          "metadata": {
            "tags": [],
            "needs_background": "light"
          }
        }
      ]
    },
    {
      "cell_type": "code",
      "metadata": {
        "id": "2pVOBXnucfZe",
        "colab_type": "code",
        "colab": {
          "base_uri": "https://localhost:8080/",
          "height": 298
        },
        "outputId": "efe14e5d-8677-4a38-c3e0-1ed0049ba413"
      },
      "source": [
        "content_sentence_dist = get_num_sent(df, column='content')\n",
        "\n",
        "print('Mode of #sentence : ', mode(content_sentence_dist))\n",
        "plt.title('[Content] #sentence distribution')\n",
        "sns.distplot(content_sentence_dist);"
      ],
      "execution_count": 59,
      "outputs": [
        {
          "output_type": "stream",
          "text": [
            "Mode of #sentence :  9\n"
          ],
          "name": "stdout"
        },
        {
          "output_type": "display_data",
          "data": {
            "image/png": "[encoded data removed]",
            "text/plain": [
              "<Figure size 432x288 with 1 Axes>"
            ]
          },
          "metadata": {
            "tags": [],
            "needs_background": "light"
          }
        }
      ]
    },
    {
      "cell_type": "code",
      "metadata": {
        "id": "hH5iUwxVJSLA",
        "colab_type": "code",
        "colab": {}
      },
      "source": [
        "def get_num_char_sent(df, column):\n",
        "  ls = []\n",
        "  for i in range(len(df)):\n",
        "    for sentence in df.iloc[i][column]:\n",
        "      ls.append(len(sentence))\n",
        "  return ls"
      ],
      "execution_count": 0,
      "outputs": []
    },
    {
      "cell_type": "code",
      "metadata": {
        "id": "obSf5CMwJ0HV",
        "colab_type": "code",
        "colab": {
          "base_uri": "https://localhost:8080/",
          "height": 298
        },
        "outputId": "959f14cd-a55d-428f-b5ad-73689a5574e8"
      },
      "source": [
        "headline_dist = get_num_char_sent(df, column='headline')\n",
        "\n",
        "print('Mode of #chars in each sentence : ', mode(headline_dist))\n",
        "plt.title('[Headline] #chars in each sentence distribution')\n",
        "sns.distplot(headline_dist);"
      ],
      "execution_count": 52,
      "outputs": [
        {
          "output_type": "stream",
          "text": [
            "Mode of #chars in each sentence :  74\n"
          ],
          "name": "stdout"
        },
        {
          "output_type": "display_data",
          "data": {
            "image/png": "[encoded data removed]",
            "text/plain": [
              "<Figure size 432x288 with 1 Axes>"
            ]
          },
          "metadata": {
            "tags": [],
            "needs_background": "light"
          }
        }
      ]
    },
    {
      "cell_type": "code",
      "metadata": {
        "id": "EY0ojEkzIVeX",
        "colab_type": "code",
        "colab": {
          "base_uri": "https://localhost:8080/",
          "height": 298
        },
        "outputId": "0122ca65-4d67-4b1e-baf4-ae53ed3edf5e"
      },
      "source": [
        "content_dist = get_num_char_sent(df, column='content')\n",
        "\n",
        "print('Mode of #chars in each sentence : ', mode(content_dist))\n",
        "plt.title('[Content] #chars in each sentence distribution')\n",
        "sns.distplot(content_dist);"
      ],
      "execution_count": 53,
      "outputs": [
        {
          "output_type": "stream",
          "text": [
            "Mode of #chars in each sentence :  9\n"
          ],
          "name": "stdout"
        },
        {
          "output_type": "display_data",
          "data": {
            "image/png": "[encoded data removed]",
            "text/plain": [
              "<Figure size 432x288 with 1 Axes>"
            ]
          },
          "metadata": {
            "tags": [],
            "needs_background": "light"
          }
        }
      ]
    },
    {
      "cell_type": "code",
      "metadata": {
        "id": "B9DkxTYaKHNN",
        "colab_type": "code",
        "colab": {
          "base_uri": "https://localhost:8080/",
          "height": 52
        },
        "outputId": "d686c774-dde7-4db8-aa0e-ff90920b245f"
      },
      "source": [
        "def get_sentence2vector(df, column):\n",
        "  ls = []\n",
        "  for i in tqdm.tqdm(range(len(df))):\n",
        "    tmp = []\n",
        "    for sentence in df.iloc[i][column]:\n",
        "      tmp.append(sentence_embedding(sentence))\n",
        "    ls.append(tmp)\n",
        "  return ls\n",
        "\n",
        "sent_vec_content = get_sentence2vector(df, column='content')\n",
        "sent_vec_headline = get_sentence2vector(df, column='headline')\n",
        "\n",
        "df['content_vector'] = sent_vec_content\n",
        "df['content_headline'] = sent_vec_headline"
      ],
      "execution_count": 57,
      "outputs": [
        {
          "output_type": "stream",
          "text": [
            "100%|██████████| 17367/17367 [54:37<00:00,  5.30it/s]\n",
            "100%|██████████| 17367/17367 [03:52<00:00, 74.70it/s]\n"
          ],
          "name": "stderr"
        }
      ]
    },
    {
      "cell_type": "code",
      "metadata": {
        "id": "ntG9Y89DXDZz",
        "colab_type": "code",
        "colab": {}
      },
      "source": [
        "import pickle\n",
        "drive_path = '/content/drive/Shared drives/NeuroSummary/data/two_data_playground/'\n",
        "\n",
        "with open(drive_path + 'sentence2vec_universal_df.pkl', 'wb') as f:\n",
        "  pickle.dump(df, f)"
      ],
      "execution_count": 0,
      "outputs": []
    },
    {
      "cell_type": "code",
      "metadata": {
        "id": "4ohyPRAqguxF",
        "colab_type": "code",
        "colab": {}
      },
      "source": [
        "eiei_df = pd.read_pickle(drive_path + 'sentence2vec_universal_df.pkl')"
      ],
      "execution_count": 0,
      "outputs": []
    },
    {
      "cell_type": "code",
      "metadata": {
        "id": "_Rl4aVNcgu8m",
        "colab_type": "code",
        "colab": {
          "base_uri": "https://localhost:8080/",
          "height": 202
        },
        "outputId": "c6257a78-ec7a-42c8-9667-dbf02c9034cc"
      },
      "source": [
        "eiei_df.head()"
      ],
      "execution_count": 74,
      "outputs": [
        {
          "output_type": "execute_result",
          "data": {
            "text/html": [
              "<div>\n",
              "<style scoped>\n",
              "    .dataframe tbody tr th:only-of-type {\n",
              "        vertical-align: middle;\n",
              "    }\n",
              "\n",
              "    .dataframe tbody tr th {\n",
              "        vertical-align: top;\n",
              "    }\n",
              "\n",
              "    .dataframe thead th {\n",
              "        text-align: right;\n",
              "    }\n",
              "</style>\n",
              "<table border=\"1\" class=\"dataframe\">\n",
              "  <thead>\n",
              "    <tr style=\"text-align: right;\">\n",
              "      <th></th>\n",
              "      <th>content</th>\n",
              "      <th>headline</th>\n",
              "      <th>class</th>\n",
              "      <th>content_vector</th>\n",
              "      <th>content_headline</th>\n",
              "    </tr>\n",
              "  </thead>\n",
              "  <tbody>\n",
              "    <tr>\n",
              "      <th>0</th>\n",
              "      <td>[ธนาคารอาคารสงเคราะห์ (ธอส.) ประกาศมาตรการบรรเ...</td>\n",
              "      <td>[ธอส.ประกาศมาตรการบรรเทาความเดือดร้อนลูกค้าจาก...</td>\n",
              "      <td>ด้านเศรษฐกิจ</td>\n",
              "      <td>[((tf.Tensor(-0.03886919, shape=(), dtype=floa...</td>\n",
              "      <td>[((tf.Tensor(-0.05122369, shape=(), dtype=floa...</td>\n",
              "    </tr>\n",
              "    <tr>\n",
              "      <th>1</th>\n",
              "      <td>[พลเอก ประยุทธ์ จันทร์โอชา นายกรัฐมนตรีได้กล่า...</td>\n",
              "      <td>[สรุปประเด็นนายกรัฐมนตรีกล่าวในรายการศาสตร์พระ...</td>\n",
              "      <td>ข่าวทำเนียบรัฐบาล</td>\n",
              "      <td>[((tf.Tensor(-0.015753765, shape=(), dtype=flo...</td>\n",
              "      <td>[((tf.Tensor(0.032791086, shape=(), dtype=floa...</td>\n",
              "    </tr>\n",
              "    <tr>\n",
              "      <th>2</th>\n",
              "      <td>[รมว.แรงงาน ยื่นสัตยาบันอนุสัญญา ILO ฉบับที่ 1...</td>\n",
              "      <td>[“บิ๊กอู๋”ยื่นสัตยาบัน C188 ต่อ ILO แสดงเจตนาร...</td>\n",
              "      <td>ด้านความมั่นคง</td>\n",
              "      <td>[((tf.Tensor(0.021387877, shape=(), dtype=floa...</td>\n",
              "      <td>[((tf.Tensor(-0.009893261, shape=(), dtype=flo...</td>\n",
              "    </tr>\n",
              "    <tr>\n",
              "      <th>3</th>\n",
              "      <td>[ออมสินจัดโปรพิเศษ Thailand Smart Money กรุงเท...</td>\n",
              "      <td>[ออมสิน จัดโปรโมชั่นพิเศษ Thailand Smart Money...</td>\n",
              "      <td>ด้านเศรษฐกิจ</td>\n",
              "      <td>[((tf.Tensor(-0.041912667, shape=(), dtype=flo...</td>\n",
              "      <td>[((tf.Tensor(-0.014473209, shape=(), dtype=flo...</td>\n",
              "    </tr>\n",
              "    <tr>\n",
              "      <th>4</th>\n",
              "      <td>[ศ.คลินิก นพ.อุดม คชินทร รมช.ศธ. ประชุมหารือกั...</td>\n",
              "      <td>[ม.มหิดล เตรียมร่วมมือกับ ม.บูรพา ผลิตพัฒนากำล...</td>\n",
              "      <td>ด้านการศึกษาฯ</td>\n",
              "      <td>[((tf.Tensor(0.0074925586, shape=(), dtype=flo...</td>\n",
              "      <td>[((tf.Tensor(-0.007146186, shape=(), dtype=flo...</td>\n",
              "    </tr>\n",
              "  </tbody>\n",
              "</table>\n",
              "</div>"
            ],
            "text/plain": [
              "                                             content  ...                                   content_headline\n",
              "0  [ธนาคารอาคารสงเคราะห์ (ธอส.) ประกาศมาตรการบรรเ...  ...  [((tf.Tensor(-0.05122369, shape=(), dtype=floa...\n",
              "1  [พลเอก ประยุทธ์ จันทร์โอชา นายกรัฐมนตรีได้กล่า...  ...  [((tf.Tensor(0.032791086, shape=(), dtype=floa...\n",
              "2  [รมว.แรงงาน ยื่นสัตยาบันอนุสัญญา ILO ฉบับที่ 1...  ...  [((tf.Tensor(-0.009893261, shape=(), dtype=flo...\n",
              "3  [ออมสินจัดโปรพิเศษ Thailand Smart Money กรุงเท...  ...  [((tf.Tensor(-0.014473209, shape=(), dtype=flo...\n",
              "4  [ศ.คลินิก นพ.อุดม คชินทร รมช.ศธ. ประชุมหารือกั...  ...  [((tf.Tensor(-0.007146186, shape=(), dtype=flo...\n",
              "\n",
              "[5 rows x 5 columns]"
            ]
          },
          "metadata": {
            "tags": []
          },
          "execution_count": 74
        }
      ]
    },
    {
      "cell_type": "code",
      "metadata": {
        "id": "NIoLm2ZMgvBB",
        "colab_type": "code",
        "colab": {}
      },
      "source": [
        "-"
      ],
      "execution_count": 0,
      "outputs": []
    },
    {
      "cell_type": "code",
      "metadata": {
        "id": "sPElrS9xXDr5",
        "colab_type": "code",
        "colab": {}
      },
      "source": [
        ""
      ],
      "execution_count": 0,
      "outputs": []
    },
    {
      "cell_type": "code",
      "metadata": {
        "id": "JHdQOUxVXD2i",
        "colab_type": "code",
        "colab": {}
      },
      "source": [
        ""
      ],
      "execution_count": 0,
      "outputs": []
    },
    {
      "cell_type": "code",
      "metadata": {
        "id": "vt5Man8mXDol",
        "colab_type": "code",
        "colab": {}
      },
      "source": [
        ""
      ],
      "execution_count": 0,
      "outputs": []
    }
  ]
}