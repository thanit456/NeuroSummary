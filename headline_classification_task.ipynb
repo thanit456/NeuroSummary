{
  "nbformat": 4,
  "nbformat_minor": 0,
  "metadata": {
    "colab": {
      "name": "headline_classification_task.ipynb",
      "provenance": [],
      "collapsed_sections": [],
      "machine_shape": "hm",
      "mount_file_id": "10j8nOczO3YEaCPyEaF4nkwxEspN9A_y0",
      "authorship_tag": "ABX9TyNOL0b6xENv7qsl9raJgaFd",
      "include_colab_link": true
    },
    "kernelspec": {
      "name": "python3",
      "display_name": "Python 3"
    },
    "accelerator": "GPU"
  },
  "cells": [
    {
      "cell_type": "markdown",
      "metadata": {
        "id": "view-in-github",
        "colab_type": "text"
      },
      "source": [
        "<a href=\"https://colab.research.google.com/github/thanit456/NeuroSummary/blob/two/headline_classification_task.ipynb\" target=\"_parent\"><img src=\"https://colab.research.google.com/assets/colab-badge.svg\" alt=\"Open In Colab\"/></a>"
      ]
    },
    {
      "cell_type": "markdown",
      "metadata": {
        "id": "KLksFXdRTNHn",
        "colab_type": "text"
      },
      "source": [
        "# Load preprocessed data"
      ]
    },
    {
      "cell_type": "code",
      "metadata": {
        "id": "FynxtzIPcrgl",
        "colab_type": "code",
        "outputId": "be95d7e3-6507-4098-877a-7d4ce7322e37",
        "colab": {
          "base_uri": "https://localhost:8080/",
          "height": 34
        }
      },
      "source": [
        "import tensorflow as tf\n",
        "tf.__version__"
      ],
      "execution_count": 1,
      "outputs": [
        {
          "output_type": "execute_result",
          "data": {
            "text/plain": [
              "'2.2.0-rc4'"
            ]
          },
          "metadata": {
            "tags": []
          },
          "execution_count": 1
        }
      ]
    },
    {
      "cell_type": "code",
      "metadata": {
        "id": "-0the6StRsK2",
        "colab_type": "code",
        "colab": {}
      },
      "source": [
        "import pickle\n",
        "import numpy as np\n",
        "import tensorflow.keras\n",
        "from tensorflow.keras.preprocessing.sequence import pad_sequences\n",
        "import tqdm\n",
        "\n",
        "THAIGOV_PATH = '/content/drive/Shared drives/NeuroSummary/data/b_data_playground/thai_gov_split/'\n",
        "\n",
        "with open(THAIGOV_PATH + 'train.pkl', 'rb') as f:\n",
        "  train_df = pickle.load(f)\n",
        "\n",
        "with open(THAIGOV_PATH + 'val.pkl', 'rb') as f:\n",
        "  val_df = pickle.load(f)\n",
        "\n",
        "with open(THAIGOV_PATH + 'test.pkl', 'rb') as f:\n",
        "  test_df = pickle.load(f)"
      ],
      "execution_count": 0,
      "outputs": []
    },
    {
      "cell_type": "code",
      "metadata": {
        "id": "SD2_y1PgTQac",
        "colab_type": "code",
        "colab": {}
      },
      "source": [
        "with open(THAIGOV_PATH + 'train_stop.pkl', 'rb') as f:\n",
        "  train_stop_df = pickle.load(f)\n",
        "\n",
        "with open(THAIGOV_PATH + 'val_stop.pkl', 'rb') as f:\n",
        "  val_stop_df = pickle.load(f)\n",
        "\n",
        "with open(THAIGOV_PATH + 'test_stop.pkl', 'rb') as f:\n",
        "  test_stop_df = pickle.load(f)"
      ],
      "execution_count": 0,
      "outputs": []
    },
    {
      "cell_type": "code",
      "metadata": {
        "id": "L6WioxO1WEUs",
        "colab_type": "code",
        "colab": {}
      },
      "source": [
        "def create_label(df_headline, df_content):\n",
        "  labels = []\n",
        "  for idx in tqdm.tqdm(range(len(df_content))):\n",
        "    tmp = []\n",
        "    for word in df_content[idx]:\n",
        "      if word in df_headline.iloc[idx]:\n",
        "        tmp.append(1)\n",
        "      else:\n",
        "        tmp.append(0)\n",
        "    labels.append(tmp)\n",
        "  return labels"
      ],
      "execution_count": 0,
      "outputs": []
    },
    {
      "cell_type": "code",
      "metadata": {
        "id": "UUI7IrqYXmYD",
        "colab_type": "code",
        "outputId": "833e6f49-92d9-4cbd-f275-7e85bc17b8bd",
        "colab": {
          "base_uri": "https://localhost:8080/",
          "height": 202
        }
      },
      "source": [
        "train_df.head()"
      ],
      "execution_count": 5,
      "outputs": [
        {
          "output_type": "execute_result",
          "data": {
            "text/html": [
              "<div>\n",
              "<style scoped>\n",
              "    .dataframe tbody tr th:only-of-type {\n",
              "        vertical-align: middle;\n",
              "    }\n",
              "\n",
              "    .dataframe tbody tr th {\n",
              "        vertical-align: top;\n",
              "    }\n",
              "\n",
              "    .dataframe thead th {\n",
              "        text-align: right;\n",
              "    }\n",
              "</style>\n",
              "<table border=\"1\" class=\"dataframe\">\n",
              "  <thead>\n",
              "    <tr style=\"text-align: right;\">\n",
              "      <th></th>\n",
              "      <th>content</th>\n",
              "      <th>headline</th>\n",
              "      <th>class</th>\n",
              "    </tr>\n",
              "  </thead>\n",
              "  <tbody>\n",
              "    <tr>\n",
              "      <th>8608</th>\n",
              "      <td>[กรมเจ้าท่า, จท., กระทรวงคมนาคม, อาศัย, อำนาจ,...</td>\n",
              "      <td>[กรมเจ้าท่า, ปรับปรุง, อัตรา, ค่า, โดยสาร, เรื...</td>\n",
              "      <td>ด้านเศรษฐกิจ</td>\n",
              "    </tr>\n",
              "    <tr>\n",
              "      <th>8593</th>\n",
              "      <td>[รอง, นรม, พล.อ.ฉัตรชัยฯ, เป็น, ประธาน, การ, ป...</td>\n",
              "      <td>[รอง, นรม, พล.อ.ฉัตรชัยฯ, เป็น, ประธาน, การ, ป...</td>\n",
              "      <td>ข่าวทำเนียบรัฐบาล</td>\n",
              "    </tr>\n",
              "    <tr>\n",
              "      <th>10488</th>\n",
              "      <td>[พลเอก สุรศักดิ์ กาญจนรัตน์, รัฐมนตรี, ว่าการ,...</td>\n",
              "      <td>[รมว., ทส., เปิด, งาน, ประชารัฐร่วมใจ, คน, ลำ,...</td>\n",
              "      <td>ด้านความมั่นคง</td>\n",
              "    </tr>\n",
              "    <tr>\n",
              "      <th>12624</th>\n",
              "      <td>[เมื่อ, วัน, ที่, 5, กุมภาพันธ์, 2561, เวลา, 1...</td>\n",
              "      <td>[นายก, รัฐมนตรี, ลง, พื้นที่, เยี่ยมชม, วิถี, ...</td>\n",
              "      <td>ด้านเศรษฐกิจ</td>\n",
              "    </tr>\n",
              "    <tr>\n",
              "      <th>17242</th>\n",
              "      <td>[กระทรวงดิจิทัลฯ, กระทรวงดิจิทัล, ฯ, สนับสนุน,...</td>\n",
              "      <td>[กระทรวงดิจิทัลฯ, หนุน, สดช., จับ, มือ, ทีโอที...</td>\n",
              "      <td>ด้านสังคม</td>\n",
              "    </tr>\n",
              "  </tbody>\n",
              "</table>\n",
              "</div>"
            ],
            "text/plain": [
              "                                                 content  ...              class\n",
              "8608   [กรมเจ้าท่า, จท., กระทรวงคมนาคม, อาศัย, อำนาจ,...  ...       ด้านเศรษฐกิจ\n",
              "8593   [รอง, นรม, พล.อ.ฉัตรชัยฯ, เป็น, ประธาน, การ, ป...  ...  ข่าวทำเนียบรัฐบาล\n",
              "10488  [พลเอก สุรศักดิ์ กาญจนรัตน์, รัฐมนตรี, ว่าการ,...  ...     ด้านความมั่นคง\n",
              "12624  [เมื่อ, วัน, ที่, 5, กุมภาพันธ์, 2561, เวลา, 1...  ...       ด้านเศรษฐกิจ\n",
              "17242  [กระทรวงดิจิทัลฯ, กระทรวงดิจิทัล, ฯ, สนับสนุน,...  ...          ด้านสังคม\n",
              "\n",
              "[5 rows x 3 columns]"
            ]
          },
          "metadata": {
            "tags": []
          },
          "execution_count": 5
        }
      ]
    },
    {
      "cell_type": "markdown",
      "metadata": {
        "id": "mo95ioPvThGH",
        "colab_type": "text"
      },
      "source": [
        "# Create dictionary"
      ]
    },
    {
      "cell_type": "code",
      "metadata": {
        "id": "C7f4SKVKTjCp",
        "colab_type": "code",
        "colab": {}
      },
      "source": [
        "train_set = train_stop_df \n",
        "val_set = val_stop_df\n",
        "test_set = test_stop_df"
      ],
      "execution_count": 0,
      "outputs": []
    },
    {
      "cell_type": "code",
      "metadata": {
        "id": "2mA-QE7VTj3h",
        "colab_type": "code",
        "outputId": "ade58323-8a6a-4b8f-cdf8-27bee1ea2db6",
        "colab": {
          "base_uri": "https://localhost:8080/",
          "height": 69
        }
      },
      "source": [
        "## ! use only n first words for headline generation\n",
        "def use_firt_n_words(df_content, n):\n",
        "  new_ls = []\n",
        "  for content in df_content:\n",
        "    new_ls.append(content[:n])\n",
        "  return new_ls\n",
        "\n",
        "words_300_train_contents = use_firt_n_words(train_set['content'], n=300)\n",
        "words_300_val_contents = use_firt_n_words(val_set['content'], n=300)\n",
        "words_300_test_contents = use_firt_n_words(test_set['content'], n=300)\n",
        "\n",
        "train_labels = create_label(train_set['headline'],  words_300_train_contents)\n",
        "val_labels = create_label(val_set['headline'],  words_300_val_contents)\n",
        "test_labels = create_label(test_set['headline'],  words_300_test_contents)"
      ],
      "execution_count": 7,
      "outputs": [
        {
          "output_type": "stream",
          "text": [
            "100%|██████████| 10632/10632 [00:24<00:00, 436.92it/s]\n",
            "100%|██████████| 2619/2619 [00:05<00:00, 462.58it/s]\n",
            "100%|██████████| 2619/2619 [00:05<00:00, 443.60it/s]\n"
          ],
          "name": "stderr"
        }
      ]
    },
    {
      "cell_type": "code",
      "metadata": {
        "id": "OHalwf1DTj08",
        "colab_type": "code",
        "outputId": "4008898c-d9f2-4e25-94d4-51d352855c17",
        "colab": {
          "base_uri": "https://localhost:8080/",
          "height": 262
        }
      },
      "source": [
        "import collections\n",
        "def create_index(input_data,threshold):\n",
        "    input_text = [data for data in input_data]\n",
        "    # counts of word type has to be above or equal threshold\n",
        "    words = [word for sublist in input_text for word in sublist]\n",
        "    print(\"words :\",words)\n",
        "    word_count_all = list()\n",
        "    word_count = list()\n",
        "    #use set and len to get the number of unique words\n",
        "    word_count_all.extend(collections.Counter(words).most_common(len(set(words))))\n",
        "    unkcnt = 0\n",
        "    for (word,cnt) in word_count_all:\n",
        "      if cnt >= threshold:\n",
        "        word_count.append((word,cnt))\n",
        "      else:\n",
        "        unkcnt+=cnt\n",
        "    #include a token for unknown word\n",
        "    word_count.append((\"UNK\",unkcnt))\n",
        "    #print out 10 most frequent words\n",
        "    print(\"top 10: \",word_count[:10])\n",
        "    print(\"bottom 10: \",word_count[-10:])\n",
        "    dictionary = dict()\n",
        "    dictionary[\"for_keras_zero_padding\"] = 0\n",
        "    for word in word_count:\n",
        "      dictionary[word[0]] = len(dictionary)\n",
        "    dictionary['<s>'] = len(dictionary) \n",
        "    dictionary['</s>'] = len(dictionary)\n",
        "    reverse_dictionary = dict(zip(dictionary.values(), dictionary.keys()))\n",
        "    \n",
        "    return dictionary, reverse_dictionary\n",
        "dict_t, rev_dict_t = create_index(input_data=words_300_train_contents,threshold=0)\n",
        "print('Vocab size (Content): ',len(dict_t))"
      ],
      "execution_count": 8,
      "outputs": [
        {
          "output_type": "stream",
          "text": [
            "IOPub data rate exceeded.\n",
            "The notebook server will temporarily stop sending output\n",
            "to the client in order to avoid crashing it.\n",
            "To change this limit, set the config variable\n",
            "`--NotebookApp.iopub_data_rate_limit`.\n",
            "\n",
            "Current values:\n",
            "NotebookApp.iopub_data_rate_limit=1000000.0 (bytes/sec)\n",
            "NotebookApp.rate_limit_window=3.0 (secs)\n",
            "\n"
          ],
          "name": "stderr"
        },
        {
          "output_type": "stream",
          "text": [
            "top 10:  [('งาน', 36859), ('.', 24363), ('รัฐมนตรี', 21161), ('พัฒนา', 19106), ('ปี', 18514), ('ทำ', 17615), ('ประเทศ', 15572), ('คน', 14600), ('-', 14314), ('ไทย', 14233)]\n",
            "bottom 10:  [('ดั้ง', 1), ('ประเทศไทยก', 1), ('พระบาทสมเด็จพระปรมินทรมหาภูมิ พลอดุลยเดช', 1), ('พระบรมราชโชวาท', 1), ('พระบามสมเด็จพระรัฐมนตรี', 1), ('เตารีด', 1), ('นาบ', 1), ('คณะวิศวะ', 1), ('มุมา', 1), ('UNK', 0)]\n",
            "Vocab size (Content):  65244\n"
          ],
          "name": "stdout"
        }
      ]
    },
    {
      "cell_type": "code",
      "metadata": {
        "id": "-O1LEbZEslL7",
        "colab_type": "code",
        "outputId": "1e5752a2-df19-41bc-bb2d-adaaae8a4e08",
        "colab": {
          "base_uri": "https://localhost:8080/",
          "height": 34
        }
      },
      "source": [
        "dict_t['<s>']\n",
        "list(dict_t.values())[-5:]"
      ],
      "execution_count": 10,
      "outputs": [
        {
          "output_type": "execute_result",
          "data": {
            "text/plain": [
              "[65239, 65240, 65241, 65242, 65243]"
            ]
          },
          "metadata": {
            "tags": []
          },
          "execution_count": 10
        }
      ]
    },
    {
      "cell_type": "code",
      "metadata": {
        "id": "-BqI9HLgsnvf",
        "colab_type": "code",
        "colab": {}
      },
      "source": [
        "def word_to_idx(input_data,dictionary) :\n",
        "  X = list()\n",
        "  for data in input_data:\n",
        "    sub_data = []\n",
        "    for word in data:\n",
        "      if word in dictionary:\n",
        "        sub_data.append(dictionary[word])\n",
        "      else:\n",
        "        sub_data.append(dictionary[\"UNK\"])\n",
        "    X.append(sub_data)\n",
        "  return np.array(X)"
      ],
      "execution_count": 0,
      "outputs": []
    },
    {
      "cell_type": "code",
      "metadata": {
        "id": "t6yGsptusqcM",
        "colab_type": "code",
        "colab": {}
      },
      "source": [
        "X_train = word_to_idx(words_300_train_contents,dict_t)\n",
        "y_train = train_labels\n",
        "X_val = word_to_idx(words_300_val_contents,dict_t)\n",
        "y_val = val_labels\n",
        "X_test = word_to_idx(words_300_test_contents,dict_t)\n",
        "y_test = test_labels"
      ],
      "execution_count": 0,
      "outputs": []
    },
    {
      "cell_type": "markdown",
      "metadata": {
        "id": "JFkhxZlesyyC",
        "colab_type": "text"
      },
      "source": [
        "# Modelling"
      ]
    },
    {
      "cell_type": "code",
      "metadata": {
        "id": "HPp6Bjvqs0kF",
        "colab_type": "code",
        "colab": {}
      },
      "source": [
        "maxlen = 300\n",
        "maxlen_output = 300\n",
        "vocab_size = len(dict_t)\n",
        "# output_vocab_size = len(dict_t)\n",
        "m=15000\n",
        "Tx=maxlen\n",
        "Ty=maxlen_output"
      ],
      "execution_count": 0,
      "outputs": []
    },
    {
      "cell_type": "code",
      "metadata": {
        "id": "nX_DF1HWs20P",
        "colab_type": "code",
        "colab": {}
      },
      "source": [
        "from tensorflow.keras.preprocessing.sequence import pad_sequences\n",
        "from tensorflow.keras.models import Sequential\n",
        "from tensorflow.keras.layers import Bidirectional, Concatenate, Permute, Dot, Input, LSTM, Multiply,Add,Conv1D,GRU,TimeDistributed\n",
        "from tensorflow.keras.layers import RepeatVector, Dense, Activation, Lambda, Embedding,concatenate\n",
        "from tensorflow.keras.optimizers import Adam\n",
        "from tensorflow.keras.utils import to_categorical\n",
        "from tensorflow.keras.models import load_model, Model\n",
        "from tensorflow.keras.callbacks import ModelCheckpoint,EarlyStopping, TensorBoard\n",
        "import tensorflow.keras.backend as K\n",
        "\n",
        "import numpy as np\n",
        "from datetime import datetime"
      ],
      "execution_count": 0,
      "outputs": []
    },
    {
      "cell_type": "code",
      "metadata": {
        "id": "iocMyANRs8-M",
        "colab_type": "code",
        "colab": {}
      },
      "source": [
        "# callbacks\n",
        "curr_datetime = datetime.now().strftime(\"%Y%m%d-%H%M%S\")\n",
        "\n",
        "drive_path = '/content/drive/My Drive'\n",
        "checkpoint_path=  drive_path + '/headline_thaigov_classification/weights/' + curr_datetime + \"_weights-improvement-{epoch:02d}-{val_loss:.2f}.hdf5\"\n",
        "\n",
        "\n",
        "callback_list = [     \n",
        "      ModelCheckpoint(checkpoint_path, monitor='val_loss', verbose=1, save_best_only=True, mode='min'), \n",
        "      EarlyStopping(monitor='val_loss', mode='min', verbose=1, patience=100),\n",
        "      # ReduceLROnPlateau(monitor='val_loss', factor=0.5, patience=100, min_lr=1e-10),\n",
        "]"
      ],
      "execution_count": 0,
      "outputs": []
    },
    {
      "cell_type": "code",
      "metadata": {
        "id": "NAr5agIZx-pC",
        "colab_type": "code",
        "colab": {}
      },
      "source": [
        "from tensorflow.keras.optimizers import RMSprop\n",
        "from tensorflow.keras.layers import TimeDistributed\n",
        "def extractive_classifcation_model():\n",
        "  inputs = Input(shape=(maxlen, ))\n",
        "  x = Embedding(vocab_size, maxlen, trainable=True)(inputs)\n",
        "  x = LSTM(maxlen, return_sequences=True)(x)\n",
        "  x = LSTM(maxlen, return_sequences=True)(x) \n",
        "  outputs = TimeDistributed(Dense(1, activation='sigmoid'))(x)\n",
        "  model = Model(inputs=inputs, outputs=outputs)\n",
        "  model.compile(optimizer=RMSprop(lr=1e-5), loss=\"binary_crossentropy\", metrics=[\"accuracy\"])\n",
        "  model.summary()\n",
        "  return model"
      ],
      "execution_count": 0,
      "outputs": []
    },
    {
      "cell_type": "code",
      "metadata": {
        "id": "BNgqZ2Cy1DER",
        "colab_type": "code",
        "outputId": "a0749bdb-58e8-4237-cda4-859295314197",
        "colab": {
          "base_uri": "https://localhost:8080/",
          "height": 329
        }
      },
      "source": [
        "extractive_model = extractive_classifcation_model()"
      ],
      "execution_count": 19,
      "outputs": [
        {
          "output_type": "stream",
          "text": [
            "Model: \"model\"\n",
            "_________________________________________________________________\n",
            "Layer (type)                 Output Shape              Param #   \n",
            "=================================================================\n",
            "input_1 (InputLayer)         [(None, 300)]             0         \n",
            "_________________________________________________________________\n",
            "embedding (Embedding)        (None, 300, 300)          19573200  \n",
            "_________________________________________________________________\n",
            "lstm (LSTM)                  (None, 300, 300)          721200    \n",
            "_________________________________________________________________\n",
            "lstm_1 (LSTM)                (None, 300, 300)          721200    \n",
            "_________________________________________________________________\n",
            "time_distributed (TimeDistri (None, 300, 1)            301       \n",
            "=================================================================\n",
            "Total params: 21,015,901\n",
            "Trainable params: 21,015,901\n",
            "Non-trainable params: 0\n",
            "_________________________________________________________________\n"
          ],
          "name": "stdout"
        }
      ]
    },
    {
      "cell_type": "code",
      "metadata": {
        "id": "tie0_GFZW77h",
        "colab_type": "code",
        "colab": {}
      },
      "source": [
        "padded_X_train = np.array(pad_sequences(X_train, maxlen=maxlen, padding='post'))\n",
        "padded_X_val = np.array(pad_sequences(X_val, maxlen=maxlen, padding='post'))\n",
        "padded_X_test = np.array(pad_sequences(X_test, maxlen=maxlen, padding='post'))\n",
        "\n",
        "padded_y_train = np.array(pad_sequences(y_train, maxlen=maxlen_output, padding='post'))\n",
        "padded_y_val = np.array(pad_sequences(y_val, maxlen=maxlen_output, padding='post'))\n",
        "padded_y_test = np.array(pad_sequences(y_test, maxlen=maxlen_output, padding='post'))\n",
        "\n",
        "reshaped_y_train = padded_y_train.reshape(-1, maxlen_output, 1)\n",
        "reshaped_y_val = padded_y_val.reshape(-1, maxlen_output, 1)\n",
        "reshaped_y_test = padded_y_test.reshape(-1, maxlen_output, 1)\n"
      ],
      "execution_count": 0,
      "outputs": []
    },
    {
      "cell_type": "code",
      "metadata": {
        "id": "kreh_p3OZdtG",
        "colab_type": "code",
        "outputId": "19dae44b-25a3-4073-f8ee-56ae6215bd2c",
        "colab": {
          "base_uri": "https://localhost:8080/",
          "height": 104
        }
      },
      "source": [
        "padded_X_train[:5]"
      ],
      "execution_count": 21,
      "outputs": [
        {
          "output_type": "execute_result",
          "data": {
            "text/plain": [
              "array([[ 264,   20,    3, ...,  432,   20,    3],\n",
              "       [7587,   13,  100, ...,   55,   16,  624],\n",
              "       [  87,   77, 2260, ...,    0,    0,    0],\n",
              "       [ 209,   62,  371, ...,    0,    0,    0],\n",
              "       [  35,  405,   26, ...,  329,   25,   82]], dtype=int32)"
            ]
          },
          "metadata": {
            "tags": []
          },
          "execution_count": 21
        }
      ]
    },
    {
      "cell_type": "code",
      "metadata": {
        "id": "mrG58m8FaJHc",
        "colab_type": "code",
        "outputId": "15dfe19b-723f-4a45-fcbc-362e3bb56ffc",
        "colab": {
          "base_uri": "https://localhost:8080/",
          "height": 104
        }
      },
      "source": [
        "padded_X_val[:5]"
      ],
      "execution_count": 22,
      "outputs": [
        {
          "output_type": "execute_result",
          "data": {
            "text/plain": [
              "array([[  264,    20,     3, ...,   811,    55,   807],\n",
              "       [ 2309,    93,  8147, ...,    82, 10272,  8147],\n",
              "       [  431,   529,   163, ...,   167,   108,     7],\n",
              "       [  485,   369,    23, ..., 16251, 29276,   508],\n",
              "       [  485,   886,   315, ...,     0,     0,     0]], dtype=int32)"
            ]
          },
          "metadata": {
            "tags": []
          },
          "execution_count": 22
        }
      ]
    },
    {
      "cell_type": "code",
      "metadata": {
        "id": "U1tBpwnNa08_",
        "colab_type": "code",
        "outputId": "887da742-47c1-4f7d-d23f-ac83f08e05b4",
        "colab": {
          "base_uri": "https://localhost:8080/",
          "height": 34
        }
      },
      "source": [
        "extractive_model"
      ],
      "execution_count": 23,
      "outputs": [
        {
          "output_type": "execute_result",
          "data": {
            "text/plain": [
              "<tensorflow.python.keras.engine.training.Model at 0x7f6221067a20>"
            ]
          },
          "metadata": {
            "tags": []
          },
          "execution_count": 23
        }
      ]
    },
    {
      "cell_type": "code",
      "metadata": {
        "id": "dhNZxMnG1DBJ",
        "colab_type": "code",
        "colab": {}
      },
      "source": [
        "extractive_model.load_weights('/content/drive/My Drive/headline_thaigov_classification/weights/20200509-210429_weights-improvement-141-0.31.hdf5')\n",
        "# K.clear_session()\n",
        "# extractive_model.fit(padded_X_train, reshaped_y_train, batch_size=1024, validation_data=(padded_X_val, reshaped_y_val), epochs=1000,\n",
        "#                      callbacks=callback_list)\n",
        "# extractive_model.fit(, y_train, batch_size = 32,epochs = 1)\n",
        "# extractive_model.fit_generator(generator=training_generator, validation_data=validation_generator, epochs=10)"
      ],
      "execution_count": 0,
      "outputs": []
    },
    {
      "cell_type": "code",
      "metadata": {
        "id": "O3x331kxdu_N",
        "colab_type": "code",
        "outputId": "53ec1296-b9aa-454b-b265-c9e21eb49a7f",
        "colab": {
          "base_uri": "https://localhost:8080/",
          "height": 52
        }
      },
      "source": [
        "extractive_model.evaluate(padded_X_test, reshaped_y_test)"
      ],
      "execution_count": 25,
      "outputs": [
        {
          "output_type": "stream",
          "text": [
            "82/82 [==============================] - 2s 24ms/step - loss: 0.3233 - accuracy: 0.8734\n"
          ],
          "name": "stdout"
        },
        {
          "output_type": "execute_result",
          "data": {
            "text/plain": [
              "[0.32329538464546204, 0.8733994960784912]"
            ]
          },
          "metadata": {
            "tags": []
          },
          "execution_count": 25
        }
      ]
    },
    {
      "cell_type": "code",
      "metadata": {
        "id": "vC8yDI5Jjvs8",
        "colab_type": "code",
        "colab": {}
      },
      "source": [
        "y_pred = extractive_model.predict(padded_X_test)\n",
        "y_pred = np.where(y_pred >= 0.5, 1, 0)"
      ],
      "execution_count": 0,
      "outputs": []
    },
    {
      "cell_type": "code",
      "metadata": {
        "id": "yOJsY0tSkFxX",
        "colab_type": "code",
        "colab": {}
      },
      "source": [
        "# test_df.head()\n",
        "first_300_words = []\n",
        "for i in test_df['content']:\n",
        "  first_300_words.append([i[:300]])\n",
        "test_df['first_300_words_content'] = first_300_words"
      ],
      "execution_count": 0,
      "outputs": []
    },
    {
      "cell_type": "code",
      "metadata": {
        "id": "_xONj8LUcB4P",
        "colab_type": "code",
        "colab": {
          "base_uri": "https://localhost:8080/",
          "height": 34
        },
        "outputId": "899d6d77-f1c2-404c-88bf-a6b04e8f2f67"
      },
      "source": [
        "y_pred = y_pred.reshape()"
      ],
      "execution_count": 44,
      "outputs": [
        {
          "output_type": "execute_result",
          "data": {
            "text/plain": [
              "(2619, 300, 1)"
            ]
          },
          "metadata": {
            "tags": []
          },
          "execution_count": 44
        }
      ]
    },
    {
      "cell_type": "code",
      "metadata": {
        "id": "REn8J67EPz--",
        "colab_type": "code",
        "outputId": "e0230007-96c3-4068-91bb-c5b0f83563e5",
        "colab": {
          "base_uri": "https://localhost:8080/",
          "height": 1000
        }
      },
      "source": [
        "def extractive_text(y_pred, chunk_text):\n",
        "  ls = []\n",
        "  for i in tqdm.tqdm(range(len(chunk_text))):\n",
        "    tmp = []\n",
        "    for j in range(len(chunk_text[i][0])):\n",
        "      if y_pred[i][j] > 0:\n",
        "        tmp.append(chunk_text[i][0][j])\n",
        "    ls.append(tmp)\n",
        "  return ls\n",
        "\n",
        "np_test_df = test_df['first_300_words_content'].to_numpy()\n",
        "extraction = extractive_text(y_pred, np_test_df)\n",
        "\n",
        "# y_pred = [e[0] for e in y_pred]\n",
        "for i in range(20):\n",
        "  print('Content (at most 300 words) :', test_df.iloc[i]['first_300_words_content'])\n",
        "  print('Headline                    :', test_df.iloc[i]['headline'])\n",
        "  print('Prediction.                 :', extraction[i])\n",
        "  print('Predicted Labels            :', *(y_pred.reshape(-1, 300))[i])\n",
        "  print('Truth Labels                :', *(reshaped_y_test.reshape(-1, 300))[i])\n",
        "  print()"
      ],
      "execution_count": 45,
      "outputs": [
        {
          "output_type": "stream",
          "text": [
            "100%|██████████| 2271/2271 [00:00<00:00, 3068.72it/s]\n"
          ],
          "name": "stderr"
        },
        {
          "output_type": "stream",
          "text": [
            "Content (at most 300 words) : [['นางอภิรดี ตันตราภรณ์', 'รัฐมนตรี', 'ว่าการ', 'กระทรวงพาณิชย์', 'ใน', 'ฐานะ', 'ประธาน', 'คณะ', 'กรรมการ', 'พิจารณา', 'การ', 'ทุ่ม', 'ตลาด', 'และ', 'การ', 'อุดหนุน', 'ทตอ.', 'ได้', 'เปิดเผย', 'ว่า', 'เมื่อ', 'ต้น', 'เดือน', 'มีนาคม', '2560', 'ที่', 'ผ่าน', 'มา', 'ได้', 'มี', 'การ', 'ประชุม', 'คณะ', 'กรรมการ ทตอ.', 'ซึ่ง', 'มี', 'มติ', 'ดัง', 'นี้', '1', '.', 'ให้', 'ขยาย', 'ระยะ', 'เวลา', 'การ', 'ใช้', 'มาตรการ', 'ชั่วคราว', 'ตอบโต้', 'การ', 'ทุ่มตลาด', 'ออก', 'ไป', 'อีก', '2', 'เดือน', 'ของ', 'สินค้า', '2', 'รายการ', 'ดัง', 'ต่อ', 'ไป', 'นี้', '1', '.', '1', 'สินค้า', 'หลอด', 'และ', 'ท่อ', 'ทำ', 'ด้วย', 'เหล็ก', 'หรือ', 'เหล็กกล้า', 'ที่', 'มี', 'แหล่ง', 'กำเนิด', 'จาก', 'สาธารณรัฐประชาชนจีน', 'และ', 'สาธารณรัฐเกาหลี', '1', '.', '2', 'สินค้า', 'เหล็ก', 'แผ่น', 'รีดร้อน', 'ชนิด', 'เป็นม้วน', 'และ', 'ไม่', 'เป็นม้วน', 'ที่', 'มี', 'แหล่ง', 'กำเนิด', 'จาก', 'สหพันธ์สาธารณรัฐบราซิล', 'สาธารณรัฐอิสลาม', 'อิหร่าน', 'และ', 'สาธารณรัฐตุรกี', '2', '.', 'ให้', 'เรียก', 'เก็บ', 'อากร', 'ตอบโต้', 'การ', 'ทุ่ม', 'ตลาด', 'สินค้า', 'เหล็ก', 'แผ่น', 'รีด', 'เย็น', 'ชุบ', 'หรือ', 'เคลือบ', 'ด้วย', 'โลหะ', 'เจือ', 'ของ', 'อะลูมิเนียม', 'และ', 'สังกะสี', 'แบบ', 'จุ่มร้อน', 'GL', 'ที่', 'มี', 'แหล่ง', 'กำเนิด', 'จาก', 'สาธารณรัฐ', 'สังคม', 'นิยม', 'เวียดนาม', 'เป็น', 'ระยะ', 'เวลา', '5', 'ปี', 'ใน', 'อัตรา', 'ร้อย', 'ละ', '6', '.', '20', '–', '40', '.', '49', 'ของ', 'ราคา', 'ซี', 'ไอ', 'เอฟ', ' 3', '.', 'ให้', 'เรียก', 'เก็บ', 'อากร', 'ตอบโต้', 'การ', 'ทุ่ม', 'ตลาด', 'สินค้า', 'เหล็ก', 'แผ่น', 'รีดเย็น', 'เคลือบ', 'ด้วย', 'สังกะสี', 'แบบ', 'จุ่มร้อน', 'แล้ว', 'ทาสี', 'และ', 'เหล็ก', 'แผ่น', 'รีด', 'เย็น', 'ชุบ', 'หรือ', 'เคลือบ', 'ด้วย', 'โลหะ', 'เจือ', 'ของ', 'อะลูมิเนียม', 'และ', 'สังกะสี', 'แบบ', 'จุ่มร้อน', 'แล้ว', 'ทาสี', 'PPGI', '/', 'PPGL', 'ที่', 'มี', 'แหล่ง', 'กำเนิด', 'จาก', 'สาธารณรัฐ', 'สังคม', 'นิยม', 'เวียดนาม', 'เป็น', 'ระยะ', 'เวลา', '5', 'ปี', 'ใน', 'อัตรา', 'ร้อย', 'ละ', '4', '.', '30', '–', '60', '.', '26', 'ของ', 'ราคา', 'ซี ไอ เอฟ', 'นอก', 'จาก', 'นี้', 'ยัง', 'เห็น', 'ชอบ', 'ร่าง', 'ผล', 'การ', 'ทบทวน', 'การ', 'เรียก', 'เก็บ', 'อากร', 'ตอบโต้', 'การ', 'ทุ่มตลาด', 'ใน', 'อัตรา', 'ร้อย', 'ละ', '0', 'ของ', 'ราคา', 'ซี ไอ', 'เอฟ', 'สำหรับ', 'สินค้า', 'เหล็ก', 'ลวดคาร์บอนต่ำ', 'ฯ', 'จาก', 'จีน', 'ภาย', 'ใต้', 'พิกัด', '7227', '.', '9000', '.', '090', 'ซึ่ง', 'จะ', 'ได้', 'มี', 'การ', 'ดำเนิน', 'การ', 'จัด', 'รับฟัง', 'ความ', 'คิดเห็น', 'Public', 'Hearing', 'ต่อ', 'ไป', 'รัฐมนตรี', 'ว่าการ', 'กระทรวงพาณิชย์', 'กล่าว', 'ด้วย', 'ว่า', 'การ', 'พิจารณา']]\n",
            "Headline                    : ['มติ', 'การ', 'ประชุม', 'คณะ', 'กรรมการ', 'พิจารณา', 'การ', 'ทุ่ม', 'ตลาด', 'และ', 'การ', 'อุดหนุน']\n",
            "Prediction.                 : ['รัฐมนตรี', 'ว่าการ', 'กระทรวงพาณิชย์', 'ใน', 'ฐานะ', 'ประธาน']\n",
            "Predicted Labels            : 0 1 1 1 1 1 1 0 0 0 0 0 0 0 0 0 0 0 0 0 0 0 0 0 0 0 0 0 0 0 0 0 0 0 0 0 0 0 0 0 0 0 0 0 0 0 0 0 0 0 0 0 0 0 0 0 0 0 0 0 0 0 0 0 0 0 0 0 0 0 0 0 0 0 0 0 0 0 0 0 0 0 0 0 0 0 0 0 0 0 0 0 0 0 0 0 0 0 0 0 0 0 0 0 0 0 0 0 0 0 0 0 0 0 0 0 0 0 0 0 0 0 0 0 0 0 0 0 0 0 0 0 0 0 0 0 0 0 0 0 0 0 0 0 0 0 0 0 0 0 0 0 0 0 0 0 0 0 0 0 0 0 0 0 0 0 0 0 0 0 0 0 0 0 0 0 0 0 0 0 0 0 0 0 0 0 0 0 0 0 0 0 0 0 0 0 0 0 0 0 0 0 0 0 0 0 0 0 0 0 0 0 0 0 0 0 0 0 0 0 0 0 0 0 0 0 0 0 0 0 0 0 0 0 0 0 0 0 0 0 0 0 0 0 0 0 0 0 0 0 0 0 0 0 0 0 0 0 0 0 0 0 0 0 0 0 0 0 0 0 0 0 0 0 0 0 0 0 0 0 0 0 0 0 0 0 0 0 0 0 0 0 0 0 0 0 0 0 0 0\n",
            "Truth Labels                : 1 1 1 1 1 1 1 1 1 1 1 1 1 1 0 0 0 0 0 0 0 0 0 0 0 0 0 0 0 0 0 0 1 0 0 0 0 0 0 0 0 0 0 0 1 1 1 1 0 1 1 1 1 0 1 0 0 0 0 0 0 0 1 1 1 0 1 1 1 1 1 0 0 0 0 1 0 0 1 1 1 1 1 0 1 0 0 0 0 0 0 0 0 0 0 1 0 0 0 0 0 1 1 1 0 1 1 0 0 0 0 0 0 0 1 0 0 0 0 0 1 0 0 1 0 0 0 0 0 1 0 0 0 0 0 0 0 0 0 0 0 0 0 0 0 0 0 0 0 0 0 0 0 0 0 0 0 0 0 0 0 0 0 0 1 0 0 0 0 0 0 0 0 1 0 0 0 0 0 0 0 1 1 1 0 0 0 0 1 0 0 0 0 1 1 1 1 0 0 1 0 0 0 0 0 0 0 0 1 0 0 1 0 0 0 0 0 1 1 0 1 0 0 0 0 0 0 0 1 0 0 0 1 1 1 0 0 0 1 0 0 0 0 0 1 0 0 0 1 0 0 1 0 0 0 0 1 0 0 0 0 0 0 0 0 0 1 0 0 0 1 0 0 0 0 0 1 0 0 0 0 1 0 0 0 1 0 0 0 0 0 0 0 0 0 0 1 0 0 0\n",
            "\n",
            "Content (at most 300 words) : [['เมื่อ', 'วัน', 'ที่', '2', 'มีนาคม', '2560', '/', 'กระทรวงวิทยาศาสตร์และ', 'เทคโนโลยี', 'โดย', 'ศูนย์', 'ความ', 'เป็น', 'เลิศ', 'ด้าน', 'ชีววิทยาศาสตร์', 'องค์การมหาชน', 'TCELS', 'ร่วม', 'กับ', 'บริษัท บัวหลวงเวนเจอร์ส จำกัด', 'ร่วม', 'ผนึก', 'กำลัง', 'ขับเคลื่อน', 'เส้นทาง', 'ธุรกิจ', 'Life', 'Sciences', 'Startups', 'สู่', 'มิติ', 'ใหม่', 'แห่ง', 'วงการ', 'ธุรกิจ', 'จัด', 'กิจกรรม', '“', 'TCELS', 'Life', 'Science', '&', 'MedTech ', 'Acceleration', 'Program', '”', 'ภาย', 'ใต้', 'โครงการ', 'Thailand', 'Startup', 'for', 'Life', 'Sciences', '2017', 'โดย', 'มี', 'ดร.อรรชกา สีบุญเรือง', 'รัฐมนตรี', 'ว่าการ', 'กระทรวงวิทยาศาสตร์และ', 'เทคโนโลยี', 'เป็น', 'ประธาน', 'ณ', 'ห้อง', 'วี', 'ฟังก์ชัน', '1', 'และ', '2', 'ชั้น', '12', 'โรง', 'แรม', 'วี', 'กรุงเทพฯ', 'เอ็มแกลลอรี่', ' บาย', 'โซฟิเทล', 'สำหรับ', 'งาน', 'นี้', 'ได้', 'เชิญชวน', 'ผู้', 'ประกอบ', 'การ', 'รุ่น', 'ใหม่', 'บริษัท Startup', 'นัก', 'วิจัย', 'นัก', 'ศึกษา', 'ที่', 'ทา', 'งาน', 'ด้าน', 'เครื่องมือ', 'แพทย์', 'Medical', 'Devices', 'เครื่อง', 'สำอาง', 'Cosmetics', 'หุ่น', 'ยนต์', 'ทาง', 'การ', 'แพทย์', 'Medical', 'Robotics', 'และ', 'ทุก', 'ด้าน', 'ที่', 'เกี่ยวข้อง', 'กับ', 'สุขภาพ', 'Health', 'and', 'Wellness', 'เข้า', 'ร่วม', 'สมัคร', 'โครงการ', 'Thailand', 'Startup', 'for', 'Life', 'Sciences', '2017', 'เพื่อ', 'คัดเลือก', 'เข้า', 'อบรม', 'ใน', 'หลักสูตร', 'เร่ง', 'การ', 'เติบโต', 'หรือ', 'ที่', 'เรียก', 'ว่า', 'Life', 'Sciences', 'and', 'Med', 'Tech', 'Acceleration', 'Program', 'โดย', 'การ', 'อบรม', 'จะ', 'ควบคู่', 'ไป', 'กับ', 'การ', 'ให้', 'คำ', 'ปรึกษาเพื่อ', 'พัฒนา', 'ผลิตภัณฑ์', 'ต้น', 'แบบ', 'สู่', 'แผน', 'ธุรกิจ', 'ที่', 'ดึงดูด', 'นัก', 'ลง', 'ทุน', 'พร้อม', 'กัน', 'นี้', 'ยัง', 'มี', 'การ', 'สนับสนุน', 'ทุน', 'เร่ง', 'การ', 'เติบโต', 'และ', 'ผลักดัน', 'ให้', 'เกิด', 'การ', 'ลง', 'ทุน', 'ของ', 'เวนเจอร์', 'ส', 'ระ', 'ดับ', 'แนว', 'หน้า', 'อีก', 'ด้วย', 'ดร.อรรชกา สีบุญเรือง', 'รัฐมนตรี', 'ว่าการ', 'กระทรวงวิทยาศาสตร์และ', 'เทคโนโลยี', 'กล่าว', 'ว่า', 'จาก', 'นโยบาย', 'ของ', 'คณะ', 'รัฐมนตรี', 'โดย', 'ฯพณฯ', 'ท่าน', 'นายก', 'รัฐมนตรี', 'พลเอกประยุทธ จันทร์โอชา', 'ที่', 'เล็ง', 'เห็น', 'ถึง', 'ความ', 'สำคัญ', 'ใน', 'การ', 'พัฒนา', 'ประเทศ', 'ทั้ง', 'ทาง', 'ด้าน', 'เศรษฐกิจ', 'และ', 'สังคม', 'ให้', 'ประเทศ', 'มั่นคง', 'ประชาชน', 'มั่งคั่ง', 'อย่าง', 'ยั่งยืน', 'ด้วย', 'การ', 'เร่ง', 'สร้าง', 'ขีด', 'ความ', 'สามารถ', 'ด้าน', 'วิทยาศาสตร์ เทคโนโลยี', 'วิจัย', 'และ', 'นวัตกรรม', 'ของ', 'ประเทศไทย', 'ซึ่ง', 'ได้', 'กำหนด', 'เป้าหมาย', 'ไว้', '3', 'ด้าน', 'คือ', 'เพิ่ม', 'สัดส่วน', 'ค่า', 'ใช้จ่าย', 'การ', 'ลง', 'ทุน', 'เพื่อ', 'การ', 'วิจัย', 'และ', 'พัฒนา', 'สู่', 'ร้อย', 'ละ', '1', '.', '5', 'ของ', 'GDP', 'และ', 'มี', 'สัดส่วน', 'การ', 'ลง', 'ทุน', 'วิจัย', 'และ', 'พัฒนา', 'ของ', 'ภาค', 'เอกชน', 'ต่อ']]\n",
            "Headline                    : ['ก.วิทย์', 'ฯ', 'โดย', 'TCELS', 'จัด', 'แถลง', 'TCELS', 'Life', 'Science', '&', 'MedTech ', 'Acceleration', 'Program']\n",
            "Prediction.                 : []\n",
            "Predicted Labels            : 0 0 0 0 0 0 0 0 0 0 0 0 0 0 0 0 0 0 0 0 0 0 0 0 0 0 0 0 0 0 0 0 0 0 0 0 0 0 0 0 0 0 0 0 0 0 0 0 0 0 0 0 0 0 0 0 0 0 0 0 0 0 0 0 0 0 0 0 0 0 0 0 0 0 0 0 0 0 0 0 0 0 0 0 0 0 0 0 0 0 0 0 0 0 0 0 0 0 0 0 0 0 0 0 0 0 0 0 0 0 0 0 0 0 0 0 0 0 0 0 0 0 0 0 0 0 0 0 0 0 0 0 0 0 0 0 0 0 0 0 0 0 0 0 0 0 0 0 0 0 0 0 0 0 0 0 0 0 0 0 0 0 0 0 0 0 0 0 0 0 0 0 0 0 0 0 0 0 0 0 0 0 0 0 0 0 0 0 0 0 0 0 0 0 0 0 0 0 0 0 0 0 0 0 0 0 0 0 0 0 0 0 0 0 0 0 0 0 0 0 0 0 0 0 0 0 0 0 0 0 0 0 0 0 0 0 0 0 0 0 0 0 0 0 0 0 0 0 0 0 0 0 0 0 0 0 0 0 0 0 0 0 0 0 0 0 0 0 0 0 0 0 0 0 0 0 0 0 0 0 0 0 0 0 0 0 0 0 0 0 0 0 0 0 0 0 0 0 0 0\n",
            "Truth Labels                : 0 0 0 0 0 0 0 0 1 0 0 0 0 0 1 0 0 0 0 0 0 1 0 0 0 0 0 0 0 0 0 0 0 1 0 0 0 0 0 1 0 0 0 0 0 0 1 0 0 1 0 0 0 0 0 1 1 1 1 0 0 0 0 0 0 0 0 0 0 0 0 0 0 0 0 0 0 0 1 0 0 0 0 0 1 0 0 0 0 0 0 1 0 0 0 0 0 0 0 0 0 0 0 0 0 0 0 0 0 0 0 0 0 0 0 0 0 0 0 0 1 1 0 0 0 0 0 0 0 0 0 0 0 0 0 0 0 0 0 0 1 1 0 0 0 0 0 0 0 0 0 1 0 0 0 0 0 0 1 0 0 0 0 0 0 1 1 0 0 0 0 0 0 0 1 0 0 0 0 0 0 0 0 0 0 0 0 0 1 0 0 0 0 0 0 0 0 1 0 0 0 0 0 0 0 0 0 1 1 1 1 1 1 1 0 0 0 0 0 1 0 0 0 0 0 0 0 0 0 0 0 0 0 0 0 0 0 0 0 0 0 0 0 0 0 0 0 0 0 0 0 0 0 0 0 0 0 0 0 0 0 0 0 0 0 0 0 0 0 0 0 0 0 0 0 0 0 0 0 0 0 0 0 0 0 0 0 0 0 0 0 0 0 0 0 0 0 0 0 0\n",
            "\n",
            "Content (at most 300 words) : [['กระทรวงทรัพยากรธรรมชาติ', 'และสิ่ง', 'แวดล้อม', 'ลง', 'พื้นที่', 'จ.ลำพูน', 'เพื่อ', 'รับฟัง', 'ข้อมูล', 'จาก', 'ภาค', 'ส่วน', 'ต่าง', 'ๆ', 'ใน', 'พื้นที่', 'เมื่อ', 'เร็ว', 'ๆ', 'นี้', 'พลเอก สุรศักดิ์ กาญจนรัตน์', 'รัฐมนตรี', 'ว่าการ', 'กระทรวงทรัพยากรธรรมชาติ', 'และสิ่ง', 'แวดล้อม', 'พร้อม', 'ด้วย', 'นายธัญญา เนติธรรมกุล', 'อธิบดี', 'กรมอุทยานแห่งชาติ สัตว์ป่า และ', 'พันธุ์พืช', 'และ', 'ผู้', 'บริหาร', 'ระดับ', 'สูง', 'ลง', 'พื้นที่', 'บ้านแม่สะแงะ', 'อำเภอแม่ทา', 'จังหวัดลำพูน', 'ใน', 'เขต', 'รักษาพันธุ์สัตว์ป่าดอยผาเมือง', 'เพื่อ', 'รับฟัง', 'ข้อมูล', 'จาก', 'ภาค', 'ส่วน', 'ต่างๆ', 'ใน', 'พื้นที่', 'พร้อม', 'ฟัง', 'บท', 'สรุป', 'จาก', 'เวที', 'ถอด', 'บท', 'เรียน', 'จาก', 'เวที', 'ประชาชน', 'รวม', 'ทั้ง', 'พบปะ', 'เด็ก', 'นัก', 'เรียน', 'และ', 'ประชาชน']]\n",
            "Headline                    : ['รมว.', 'ทส.', 'ลง', 'พื้นที่', 'จังหวัดลำพูน', 'และ', 'เชียงใหม่', 'เพื่อ', 'รับฟัง', 'ข้อมูล', 'จาก', 'ภาค', 'ส่วน', 'ต่าง', 'ๆ', 'ใน', 'พื้นที่']\n",
            "Prediction.                 : []\n",
            "Predicted Labels            : 0 0 0 0 0 0 0 0 0 0 0 0 0 0 0 0 0 0 0 0 0 0 0 0 0 0 0 0 0 0 0 0 0 0 0 0 0 0 0 0 0 0 0 0 0 0 0 0 0 0 0 0 0 0 0 0 0 0 0 0 0 0 0 0 0 0 0 0 0 0 0 0 0 0 0 0 0 0 0 0 0 0 0 0 0 0 0 0 0 0 0 0 0 0 0 0 0 0 0 0 0 0 0 0 0 0 0 0 0 0 0 0 0 0 0 0 0 0 0 0 0 0 0 0 0 0 0 0 0 0 0 0 0 0 0 0 0 0 0 0 0 0 0 0 0 0 0 0 0 0 0 0 0 0 0 0 0 0 0 0 0 0 0 0 0 0 0 0 0 0 0 0 0 0 0 0 0 0 0 0 0 0 0 0 0 0 0 0 0 0 0 0 0 0 0 0 0 0 0 0 0 0 0 0 0 0 0 0 0 0 0 0 0 0 0 0 0 0 0 0 0 0 0 0 0 0 0 0 0 0 0 0 0 0 0 0 0 0 0 0 0 0 0 0 0 0 0 0 0 0 0 0 0 0 0 0 0 0 0 0 0 0 0 0 0 0 0 0 0 0 0 0 0 0 0 0 0 0 0 0 0 0 0 0 0 0 0 0 0 0 0 0 0 0 0 0 0 0 0 0\n",
            "Truth Labels                : 0 1 0 1 1 1 1 1 1 1 1 0 0 1 1 1 0 0 0 1 0 0 0 1 1 0 0 0 0 1 0 1 1 1 1 1 1 1 1 0 0 1 1 1 0 0 0 1 0 0 0 1 1 0 0 0 0 0 0 0 0 1 1 1 1 0 0 0 0 0 0 0 0 0 0 0 0 1 0 0 1 0 0 0 0 0 1 0 0 0 0 0 0 0 0 0 0 1 0 0 0 0 0 0 0 0 0 0 0 0 1 1 1 0 0 0 0 0 0 0 0 1 1 0 1 0 0 0 0 0 0 0 1 0 0 0 0 0 0 1 0 0 0 0 1 0 0 0 0 1 0 1 0 0 1 0 0 0 0 0 0 1 0 0 0 0 0 0 0 0 1 0 0 0 0 1 0 0 0 1 0 0 0 0 1 0 0 0 1 1 1 0 0 0 0 0 0 0 0 1 0 0 0 0 0 0 0 1 0 1 0 1 1 1 0 0 0 0 0 0 0 0 0 0 0 0 0 0 0 0 0 0 0 0 0 0 0 0 0 0 0 0 0 0 0 0 0 0 0 0 0 0 0 0 0 0 0 0 0 0 0 0 0 0 0 0 0 0 0 0 0 0 0 0 0 0 0 0 0 0 0 0 0 0 0 0 0 0 0 0 0 0 0 0 0 0 0 0 0 0\n",
            "\n",
            "Content (at most 300 words) : [['นายชาญเชาวน์ ไชยานุกิจ', 'ปลัด', 'กระทรวงยุติธรรม', 'เป็น', 'ประธาน', 'การ', 'ประชุม', 'ขับเคลื่อน', 'เชิง', 'นโยบาย', 'เรือน', 'จำสุขภาวะ', 'ครั้ง', 'ที่', '2', 'เรื่อง', '“', 'สาน', 'พลัง', 'ชุมชน', 'เพื่อ', 'คืน', 'คน', 'ดี', 'สู่', 'สังคม', 'แต่', 'กฎหมาย', 'กลับ', 'ห้าม', 'คน', 'พ้น', 'โทษ', 'ทำ', 'งาน', '”', 'เมื่อ', 'วัน', 'พุธ', 'ที่', '25', 'มกราคม', '2560', 'เวลา', '09', '.', '30', 'น.', 'นายชาญเชาวน์ ไชยานุกิจ', 'ปลัด', 'กระทรวงยุติธรรม', 'เป็น', 'ประธาน', 'การ', 'ประชุม', 'ขับเคลื่อน', 'เชิง', 'นโยบาย', 'เรือน', 'จำสุขภาวะ', 'ครั้ง', 'ที่', '2', 'เรื่อง', '“', 'สาน', 'พลัง', 'ชุมชน', 'เพื่อ', 'คืน', 'คน', 'ดี', 'สู่', 'สังคม', 'แต่', 'กฎหมาย', 'กลับ', 'ห้าม', 'คน', 'พ้น', 'โทษ', 'ทำ', 'งาน', '”', 'เพื่อ', 'พัฒนา', 'เครือข่ายพันธมิตร', 'และ', 'ภาค', 'ส่วน', 'ที่', 'เกี่ยวข้อง', 'ให้', 'เข้า', 'มา', 'มี', 'ส่วน', 'ร่วม', 'ใน', 'งาน', 'ราชทัณฑ์', 'เพื่อ', 'ลดอคติ', 'ทาง', 'สังคม', 'และ', 'ให้', 'ผู้', 'ต้อง', 'ขัง', '/', 'ผู้', 'พ้น', 'โทษ', 'ได้', 'รับ', 'การ', 'ยอม', 'รับ', 'ใน', 'ฐานะ', 'พลเมือง', 'ที่', 'มี', 'บทบาท', 'หน้าที่', 'รับผิดชอบ', 'ใน', 'สังคม', 'จัด', 'โดย', 'สมาคม', 'นักวิจัย', 'ประชากร', 'และ', 'สังคม', 'สถาบันวิจัยประชากรและสังคม', 'มหาวิทยาลัยมหิดล', 'สภา', 'วิชาชีพ', 'สังคมสงเคราะห์', 'และ', 'กรมราชทัณฑ์', 'กระทรวงยุติธรรม', 'สนับสนุน', 'โดย', 'สำนักงานกองทุนสนับสนุนการ', 'เสริมสร้างสุขภาพ', 'สสส.', 'โดย', 'มี', 'นายชาติชาย สุทธิกลม', 'กรรมการ', 'สิทธิมนุษยชนแห่งชาติ', 'และ', 'รอง', 'ศาสตราจารย์ ดร.กฤตยา อาชวนิจกุล', 'นายก', 'สมาคมนักวิจัย', 'ประชากรและ', 'สังคม', 'พร้อม', 'ด้วย', 'ผู้', 'แทน', 'จาก', 'ภาค', 'ส่วน', 'ต่างๆ', 'ที่', 'เกี่ยวข้อง', 'เข้า', 'ร่วม', 'ฯ', 'ณ', 'ห้อง', 'ประชุม', '709', 'สำนักงานคณะกรรมการสิทธิมนุษยชนแห่งชาติ', 'อาคาร', 'รัฐประศาสนภักดี', 'ศูนย์ราชการ', 'เฉลิม', 'พระเกียรติฯ']]\n",
            "Headline                    : ['ปลัด', 'กระทรวงยุติธรรม', 'ประชุม', 'ขับเคลื่อน', 'เชิง', 'นโยบาย', 'เรือน', 'จำสุขภาวะ', 'พัฒนา', 'เครือข่ายพันธมิตร', 'และ', 'ภาค', 'ส่วน', 'ที่', 'เกี่ยวข้อง', '“', 'คืน', 'คน', 'ดี', 'สู่', 'สังคม', '”']\n",
            "Prediction.                 : []\n",
            "Predicted Labels            : 0 0 0 0 0 0 0 0 0 0 0 0 0 0 0 0 0 0 0 0 0 0 0 0 0 0 0 0 0 0 0 0 0 0 0 0 0 0 0 0 0 0 0 0 0 0 0 0 0 0 0 0 0 0 0 0 0 0 0 0 0 0 0 0 0 0 0 0 0 0 0 0 0 0 0 0 0 0 0 0 0 0 0 0 0 0 0 0 0 0 0 0 0 0 0 0 0 0 0 0 0 0 0 0 0 0 0 0 0 0 0 0 0 0 0 0 0 0 0 0 0 0 0 0 0 0 0 0 0 0 0 0 0 0 0 0 0 0 0 0 0 0 0 0 0 0 0 0 0 0 0 0 0 0 0 0 0 0 0 0 0 0 0 0 0 0 0 0 0 0 0 0 0 0 0 0 0 0 0 0 0 0 0 0 0 0 0 0 0 0 0 0 0 0 0 0 0 0 0 0 0 0 0 0 0 0 0 0 0 0 0 0 0 0 0 0 0 0 0 0 0 0 0 0 0 0 0 0 0 0 0 0 0 0 0 0 0 0 0 0 0 0 0 0 0 0 0 0 0 0 0 0 0 0 0 0 0 0 0 0 0 0 0 0 0 0 0 0 0 0 0 0 0 0 0 0 0 0 0 0 0 0 0 0 0 0 0 0 0 0 0 0 0 0 0 0 0 0 0 0\n",
            "Truth Labels                : 0 0 0 0 0 1 1 1 0 0 1 0 0 0 0 0 0 0 0 0 0 0 0 0 0 0 0 0 1 1 1 0 0 1 0 0 0 0 0 0 0 0 0 0 0 0 0 0 0 0 0 0 0 0 0 1 0 0 0 0 0 0 0 0 0 0 0 0 0 0 0 0 0 0 0 0 0 0 0 0 0 0 0 0 0 0 0 0 0 0 0 0 0 0 0 0 0 0 0 0 0 0 0 0 0 0 0 0 0 1 0 0 0 0 0 0 0 0 0 0 0 0 0 0 0 1 0 0 0 0 0 0 0 0 0 0 0 0 0 0 0 0 0 1 0 0 0 0 0 0 0 0 0 0 0 0 0 1 0 0 0 1 0 0 0 0 0 0 0 0 0 0 0 0 1 1 0 0 0 0 0 0 0 0 0 0 0 0 0 0 0 0 0 0 0 0 0 0 0 0 0 0 0 0 0 0 0 0 0 0 0 0 0 0 0 0 0 0 0 0 0 1 0 0 0 1 0 0 0 0 0 1 0 1 0 0 1 0 1 0 0 0 0 0 0 0 0 0 0 1 0 0 1 0 0 0 1 1 1 1 1 1 0 1 1 0 1 0 1 1 0 0 0 1 1 1 1 1 1 1 0 0 0 0 0 0 0 0 0 0 0 0 0 0 0 0 1 0 0 0\n",
            "\n",
            "Content (at most 300 words) : [['ตาม', 'ที่', 'ปรากฏ', 'ข่าว', 'ทาง', 'หน้า', 'นสพ.', 'ใน', 'ประเด็น', 'กรมธนารักษ์', 'เตรียม', 'การ', 'ผลิต', 'เหรียญ', 'กษาปณ์', 'หมุนเวียน', 'ชุด', 'ใหม่', 'ชนิด', 'ราคา', '10', 'บาท', '5', 'บาท', '2', 'บาท', '1', 'บาท', '50', 'สตางค์', '25', 'สตางค์', '10', 'สตางค์', '5', 'สตางค์', 'และ', '1', 'สตางค์', 'ออก', 'ใช้', 'หมุนเวียน', 'ใน', 'ระบบ', 'เศรษฐกิจ', 'ใน', 'ปี', 'งบ', 'ประมาณ', '2561', 'วัน', 'นี้', '16', 'ตุลาคม', '1560', 'ณ', 'กรมธนารักษ์', 'นายพชร อนันตศิลป์', 'อธิบดี', 'กรมธนารักษ์', 'กล่าว', 'ว่า', 'ตาม', 'ที่', 'ปรากฏ', 'ข่าว', 'ทาง', 'หน้า', 'หนังสือพิมพ์', 'ใน', 'ประเด็น', 'กรมธนารักษ์', 'เตรียม', 'การ', 'ผลิต', 'เหรียญ', 'กษาปณ์', 'หมุนเวียน', 'ชุด', 'ใหม่', 'ชนิด', 'ราคา', '10', 'บาท', '5', 'บาท', '2', 'บาท', '1', 'บาท', '50', 'สตางค์', '25', 'สตางค์', '10', 'สตางค์', '5', 'สตางค์', 'และ', '1', 'สตางค์', 'ออก', 'ใช้', 'หมุนเวียน', 'ใน', 'ระบบ', 'เศรษฐกิจ', 'ใน', 'ปี', 'งบ', 'ประมาณ', '2561', 'รวม', 'ทั้ง', 'การ', 'จัดทำ', 'เหรียญ', 'ที่', 'ระลึก', 'พระราชพิธี', 'บรมราชาภิเษก', 'ชนิด', 'ทองคำ', 'พ่น', 'ทราย', 'ชนิด', 'เงิน', 'รม', 'ดำ', 'พ่น', 'ทราย', 'และ', 'ชนิด', 'ทองแดง', 'รม', 'ดำ', 'พ่น', 'ทราย', 'นั้น', 'นายพชร', 'กล่าว', 'ต่อ', 'ว่า', 'กรมธนารักษ์', 'ได้', 'รับ', 'พระราชทาน', 'พระราชานุญาต', 'ให้', 'จัดทำ', 'เหรียญ', 'หมุนเวียน', 'ชุด', 'ใหม่', 'เพื่อ', 'ใช้', 'หมุนเวียน', 'ใน', 'ระบบ', 'เศรษฐกิจ', 'ของ', 'ประเทศ', 'ทุก', 'ชนิด', 'ราคา', 'แล้ว', 'ขณะ', 'นี้', 'อยู่', 'ใน', 'ระหว่าง', 'นำ', 'เสนอ', 'คณะ', 'รัฐมนตรี', 'เพื่อ', 'ออก', 'กฎ', 'กระทรวง', 'กำหนด', 'ลักษณะ', 'ของ', 'เหรียญ', 'กษาปณ์', 'เพื่อ', 'กำหนด', 'ชนิด', 'ราคา', 'โลหะ', 'อัตรา', 'เนื้อ', 'โลหะ', 'น้ำหนัก', 'ขนาด', 'ลวดลาย', 'รวม', 'ทั้ง', 'อัตรา', 'เผื่อ', 'เหลือ', 'เผื่อ', 'ขาด', 'ของ', 'เหรียญ', 'กษาปณ์', 'หมุนเวียน', 'แต่ละ', 'ชนิด', 'ราคา', 'เพื่อ', 'ให้', 'เป็น', 'ไป', 'ตาม', 'พระราชบัญญัติ', 'เงินตรา', 'พ.ศ.', '2501', 'ข้อ', '10', 'สำหรับ', 'การ', 'จัดทำ', 'เหรียญ', 'ที่', 'ระลึก', 'พระราชพิธี', 'บรมราชาภิเษก', 'นั้น', 'ความ', 'คืบหน้า', 'ขณะ', 'นี้', 'เป็น', 'เพียง', 'กรมธนารักษ์', 'ได้', 'รับ', 'พระราชทาน', 'พระราชวินิจฉัย', 'การ', 'ออก', 'แบบ', 'พระบรมฉายาลักษณ์', 'ที่', 'จะ', 'ประทับ', 'บน', 'เหรียญ', 'เท่า', 'นั้น', 'ยัง', 'มิ', 'ได้', 'มี', 'การ', 'กำหนด', 'ประเภท', 'ของ', 'เหรียญ', 'รวม', 'ทั้ง', 'ขนาด', 'น้ำหนัก', 'ของ', 'เหรียญ', 'ที่', 'จะ', 'จัดทำ', 'แต่อย่างใด', 'ซึ่ง', 'การ', 'กำหนด', 'รายละเอียด', 'ดัง', 'กล่าว', 'จะ', 'ต้อง', 'ผ่าน', 'การ', 'พิจารณา', 'กลั่นกรอง', 'โดย', 'คณะ', 'กรรมการ', 'วาง', 'แผน', 'เหรียญ', 'กษาปณ์', 'และ', 'คณะกรรรมการ', 'ที่ปรึกษา', 'เหรียญ', 'กษาปณ์', 'ที่', 'ระลึก', 'หรือ', 'เหรียญ', 'ที่', 'ระลึก']]\n",
            "Headline                    : ['ชี้แจง', 'ข่าว', 'กรณี', 'กรมธนารักษ์', 'ผลิต', 'เหรียญ', 'กษาปณ์', 'หมุนเวียน', 'ชุด', 'ใหม่', 'และ', 'เหรียญ', 'ที่', 'ระลึก', 'พระราชพิธี', 'บรมราชาภิเษก']\n",
            "Prediction.                 : ['ที่']\n",
            "Predicted Labels            : 0 1 0 0 0 0 0 0 0 0 0 0 0 0 0 0 0 0 0 0 0 0 0 0 0 0 0 0 0 0 0 0 0 0 0 0 0 0 0 0 0 0 0 0 0 0 0 0 0 0 0 0 0 0 0 0 0 0 0 0 0 0 0 0 0 0 0 0 0 0 0 0 0 0 0 0 0 0 0 0 0 0 0 0 0 0 0 0 0 0 0 0 0 0 0 0 0 0 0 0 0 0 0 0 0 0 0 0 0 0 0 0 0 0 0 0 0 0 0 0 0 0 0 0 0 0 0 0 0 0 0 0 0 0 0 0 0 0 0 0 0 0 0 0 0 0 0 0 0 0 0 0 0 0 0 0 0 0 0 0 0 0 0 0 0 0 0 0 0 0 0 0 0 0 0 0 0 0 0 0 0 0 0 0 0 0 0 0 0 0 0 0 0 0 0 0 0 0 0 0 0 0 0 0 0 0 0 0 0 0 0 0 0 0 0 0 0 0 0 0 0 0 0 0 0 0 0 0 0 0 0 0 0 0 0 0 0 0 0 0 0 0 0 0 0 0 0 0 0 0 0 0 0 0 0 0 0 0 0 0 0 0 0 0 0 0 0 0 0 0 0 0 0 0 0 0 0 0 0 0 0 0 0 0 0 0 0 0 0 0 0 0 0 0 0 0 0 0 0 0\n",
            "Truth Labels                : 1 0 1 1 1 1 1 1 1 1 1 1 1 1 1 1 0 0 0 0 0 0 0 0 0 1 0 1 1 1 0 0 0 0 0 0 1 1 1 0 1 0 0 1 0 0 1 0 0 0 1 0 1 1 0 0 0 1 1 0 0 0 1 0 0 0 0 0 1 0 0 0 0 0 0 0 0 0 0 0 0 0 0 0 0 0 0 0 0 0 0 0 0 0 0 0 0 0 0 0 0 0 0 0 0 0 0 0 0 0 0 0 0 0 0 0 0 0 0 0 0 0 0 0 0 0 0 0 0 0 0 0 0 0 0 0 0 0 0 0 0 0 0 0 0 0 0 0 0 0 0 0 0 0 0 0 0 0 0 0 0 0 0 0 0 0 0 0 0 0 0 0 0 0 0 0 0 0 0 0 0 0 0 0 0 0 0 0 0 0 0 0 0 0 0 0 0 0 0 0 0 0 0 0 0 0 0 0 0 0 0 0 0 0 0 0 0 0 0 0 0 0 0 0 0 0 0 0 0 0 0 0 0 0 0 0 0 0 0 0 0 0 0 0 0 0 0 0 0 0 0 0 0 0 0 0 0 0 0 0 0 0 0 0 0 0 0 0 0 0 0 0 0 0 0 0 0 0 0 0 0 0 0 0 0 0 0 0 0 0 0 0 0 0 0 0 0 0 0 0\n",
            "\n",
            "Content (at most 300 words) : [['กองทุนการออมแห่งชาติ', 'หรือ', 'กอช.', 'แนะนำ', 'แนวทาง', 'ใน', 'การ', 'ออม', 'ออม', 'ตั้งแต่', 'อายุ', 'ยัง', 'น้อย', 'อย่าง', 'ต่อเนื่อง', 'สม่ำเสมอ', 'มี', 'สิทธิ', 'รับ', 'บำนาญ', 'หลาย', 'พัน', 'บาท', 'ทุก', 'เดือน', 'ไป', 'ตลอด', 'ชีวิต', 'เพื่อ', 'เป็น', 'หลัก', 'ประกัน', 'ยาม', 'ชราภาพ', 'นายสมพร จิต', 'เป็น', 'ธม', 'เลขาธิการ', 'คณะกรรมการกองทุนการออมแห่งชาติ', 'หรือ', 'กอช.', 'กล่าว', 'ว่า', 'กอช.', 'เป็น', 'เครื่องมือ', 'การ', 'ออม', 'ที่', 'มี', 'ความ', 'ยืดหยุ่น', 'สูง', 'ไม่', 'บังคับ', 'ให้', 'สมาชิก', 'ต้อง', 'ออม', 'ทุก', 'เดือน', 'รวม', 'ถึง', 'ไม่', 'มี', 'ยอด', 'เงิน', 'บังคับ', 'ส่ง', 'ต่อ', 'เดือน', 'โดย', 'ใน', 'หนึ่ง', 'ปี', 'เดือน', 'ม.ค.', '–', 'ธ.ค.', 'สมาชิก', 'สามารถ', 'ออม', 'เงิน', 'ได้', 'สูง', 'สุด', 'คน', 'ละ', '13', '200', 'บาท', 'และ', 'สามารถ', 'ออม', 'ได้', 'จนถึง', 'อายุ', 'ครบ', '60', 'ปี', 'บริบูรณ์', 'เมื่อ', 'ครบ', 'กำหนด', 'ทาง', 'กอช.', 'จะ', 'จ่าย', 'เงิน', 'คืน', 'แก่', 'สมาชิก', 'เป็น', 'เงิน', 'บำนาญ', 'หรือ', 'เงิน', 'ดำรง', 'ชีพ', 'ทั้งนี้', 'ขึ้น', 'อยู่', 'กับ', 'จำนวน', 'เงิน', 'ใน', 'บัญชี', 'ของ', 'สมาชิก', 'เอง', 'ซึ่ง', 'เป็น', 'ผล', 'รวม', 'ของ', 'เงิน', 'สะสม', 'เงิน', 'สมทบ', 'จาก', 'รัฐ', 'และ', 'ดอก', 'ผล', 'หาก', 'สมาชิก', 'มี', 'จำนวน', 'เงิน', 'ใน', 'บัญชี', 'ที่', 'มาก', 'พอ', 'มาก', 'กว่า', '144', '000', 'บาท', 'ย่อม', 'ได้', 'รับ', 'เป็น', 'เงิน', 'บำนาญ', 'ตลอด', 'ชีวิต', 'แต่', 'หาก', 'สมาชิก', 'มี', 'จำนวน', 'เงิน', 'ใน', 'บัญชี', 'ไม่', 'มาก', 'พอ', 'จะ', 'ได้', 'รับ', 'เป็น', 'เงิน', 'ดำรง', 'ชีพ', 'แทน', 'โดย', 'กอช.', 'จะ', 'จ่าย', 'คืน', 'ให้', 'สมาชิก', 'เดือน', 'ละ', '600', 'บาท', 'จนกว่า', 'เงิน', 'ใน', 'บัญชี', 'สมาชิก', 'จะ', 'หมด', 'อย่าง', 'ไร', 'ก็ดี', 'เงิน', 'บำนาญ', 'ที่', 'แต่ละ', 'คน', 'ได้', 'รับ', 'จะ', 'มี', 'จำนวน', 'ไม่', 'เท่า', 'กัน', 'ขึ้น', 'อยู่', 'กับ', 'ความ', 'มากน้อย', 'ใน', 'การ', 'ออม', 'ความ', 'สม่ำเสมอ', 'ตลอดจน', 'ระยะ', 'เวลา', 'ใน', 'การ', 'เก็บ', 'ออม', 'ของ', 'แต่ละ', 'คน', 'และ', 'อัตรา', 'ผล', 'ตอบแทน', 'สะสม', 'จาก', 'การ', 'ลง', 'ทุน', 'อีก', 'ด้วย', 'ยิ่ง', 'สมาชิก', 'เริ่ม', 'ออม', 'เร็ว', 'เท่า', 'ไหร่', 'ยิ่ง', 'ดี', 'และ', 'ควร', 'ส่ง', 'เงิน', 'สม่ำเสมอ', 'ด้วย', 'ซึ่ง', 'อาจ', 'ยก', 'ตัวอย่าง', 'การ', 'คำนวณ', 'หา', 'ยอด', 'เงิน', 'บำนาญ', 'โดย', 'ถ้า', 'สมมติ', 'ว่า', 'อัตรา', 'ผล', 'ตอบแทน', 'สะสม', 'จาก', 'การ', 'ลง', 'ทุน', 'เท่า', 'กับ', 'ร้อย', 'ละ', '3', '.', '5', 'ดัง', 'นี้', '-', 'นาย', 'ก']]\n",
            "Headline                    : ['กอช.', 'แนะแนวทาง', '“', 'ออมเร็ว', 'ออม', 'มาก', 'ออม', 'สม่ำเสมอ', '”', 'รอ', 'รับ', 'บำนาญ', 'เดือน', 'ละ', 'หลาย', 'พัน', 'บาท']\n",
            "Prediction.                 : []\n",
            "Predicted Labels            : 0 0 0 0 0 0 0 0 0 0 0 0 0 0 0 0 0 0 0 0 0 0 0 0 0 0 0 0 0 0 0 0 0 0 0 0 0 0 0 0 0 0 0 0 0 0 0 0 0 0 0 0 0 0 0 0 0 0 0 0 0 0 0 0 0 0 0 0 0 0 0 0 0 0 0 0 0 0 0 0 0 0 0 0 0 0 0 0 0 0 0 0 0 0 0 0 0 0 0 0 0 0 0 0 0 0 0 0 0 0 0 0 0 0 0 0 0 0 0 0 0 0 0 0 0 0 0 0 0 0 0 0 0 0 0 0 0 0 0 0 0 0 0 0 0 0 0 0 0 0 0 0 0 0 0 0 0 0 0 0 0 0 0 0 0 0 0 0 0 0 0 0 0 0 0 0 0 0 0 0 0 0 0 0 0 0 0 0 0 0 0 0 0 0 0 0 0 0 0 0 0 0 0 0 0 0 0 0 0 0 0 0 0 0 0 0 0 0 0 0 0 0 0 0 0 0 0 0 0 0 0 0 0 0 0 0 0 0 0 0 0 0 0 0 0 0 0 0 0 0 0 0 0 0 0 0 0 0 0 0 0 0 0 0 0 0 0 0 0 0 0 0 0 0 0 0 0 0 0 0 0 0 0 0 0 0 0 0 0 0 0 0 0 0 0 0 0 0 0 0\n",
            "Truth Labels                : 1 1 1 1 0 1 0 0 0 1 1 0 0 0 0 0 1 1 0 1 0 0 0 0 1 1 1 0 0 0 0 0 1 1 1 1 1 0 1 0 0 0 1 1 0 0 0 0 0 0 0 0 0 0 0 1 0 1 0 0 0 0 0 0 1 1 1 1 1 0 1 0 0 0 0 1 1 0 0 0 0 1 0 0 0 0 1 1 0 0 0 1 0 1 0 1 0 0 0 0 1 1 1 0 1 0 0 0 0 0 1 1 1 0 0 0 0 0 0 0 1 1 1 1 1 1 0 0 0 0 0 0 0 0 0 0 1 0 0 0 0 0 0 0 0 0 0 0 0 0 0 0 0 0 0 1 0 0 0 0 0 0 0 0 0 1 0 0 1 1 1 0 0 0 0 0 0 0 1 0 0 0 0 0 0 1 1 0 0 0 0 0 0 0 0 0 0 0 0 0 0 1 0 1 1 1 1 0 0 0 0 0 0 0 0 0 1 0 0 0 0 0 0 1 1 1 0 1 0 0 0 0 0 0 0 1 0 0 0 0 0 0 0 0 0 1 0 0 0 0 0 0 0 0 0 0 0 0 0 1 1 0 1 1 1 1 1 0 0 0 0 0 0 0 0 0 0 0 0 0 0 0 0 0 0 0 0 0 0 0 0 0 0 0 0 0 0 0 0 0\n",
            "\n",
            "Content (at most 300 words) : [['ยืนยัน', 'ว่า', 'ไทย', 'ใน', 'ฐานะ', 'ประธาน', 'อาเซียน', 'ใน', 'ปี', 'หน้า', 'จะ', 'ผลักดัน', 'ให้', 'การ', 'เจรจา', 'อาร์เซ็ป', 'บรรลุ', 'ข้อ', 'ตกลง', 'ได้', 'ทั้งหมด', 'เพื่อ', 'ผล', 'สำเร็จ', 'ร่วม', 'กัน', 'ของ', 'ทุก', 'ฝ่าย', 'อย่าง', 'สมดุล', 'และ', 'ยั่งยืน', 'วัน', 'นี้', '14', 'พ.ย.', '61', 'เวลา', '17', '.', '00', 'น.', 'ตาม', 'เวลา', 'ท้องถิ่น', 'สาธารณรัฐสิงคโปร์', 'พลเอก ประยุทธ์ จันทร์โอชา', 'นายก', 'รัฐมนตรี', 'เข้า', 'ร่วม', 'ประชุม', 'ผู้', 'นำ', 'ความ', 'ตกลง', 'หุ้นส่วน', 'ทาง', 'เศรษฐกิจ', 'ระดับ', 'ภูมิภาค', 'ครั้ง', 'ที่', '2', 'ณ', 'ศูนย์การประชุม', 'และ', 'นิทรรศการ', 'ซันเทค', ' สิงคโปร์', 'โดย', 'พลโท', 'วีรชน', 'สุคนธปฏิภาค', 'รอง', 'โฆษก', 'ประจำ', 'สำนักนายกรัฐมนตรี', 'กล่าว', 'สรุป', 'สาระ', 'สำคัญ', 'ดัง', 'นี้', 'นายก', 'รัฐมนตรี', 'แสดง', 'ความ', 'ขอบคุณ', 'รัฐมนตรี', 'ของ', 'ประเทศ', 'สมาชิก', 'อาร์เซ็ป', 'ที่', 'ช่วย', 'ผลักดัน', 'ให้', 'การ', 'เจรจา', 'มี', 'ความ', 'คืบหน้า', 'พร้อม', 'ทั้ง', 'แสดง', 'ข้อ', 'คิดเห็น', 'ดัง', 'นี้', 'ประการ', 'แรก', 'ไทย', 'มุ่ง', 'หวัง', 'ให้', 'อาร์เซ็ปเป็น', 'ความ', 'ตกลง', 'ที่', 'มี', 'คุณภาพ', 'มี', 'มาตรฐาน', 'สูง', 'และ', 'ให้', 'ทุประเทศ', 'ได้', 'รับ', 'ประโยชน์', 'อย่าง', 'เท่าเทียม', 'กัน', 'โดย', 'เชื่อ', 'ว่า', 'ความ', 'เป็น', 'หุ้นส่วน', 'ทาง', 'เศรษฐกิจ', 'นี้', 'จะ', 'ช่วย', 'พัฒนา', 'ภูมิภาค', 'อาเซียน', 'ให้', 'เจริญเติบโต', 'อย่าง', 'เข้มแข็ง', 'ไป', 'พร้อม', 'กัน', 'และ', 'จะ', 'เป็น', 'เครื่องมือ', 'ใน', 'การ', 'พัฒนา', 'เศรษฐกิจ', 'โลก', 'ไป', 'สู่', 'การ', 'ค้า', 'ที่', 'เสรี', 'มาก', 'ขึ้น', 'ไทย', 'เชื่อมั่น', 'ว่า', 'การ', 'รวม', 'ตัว', 'ของ', 'อาร์เซ็ป', 'จะ', 'มี', 'ความ', 'แข็งแกร่ง', 'มาก', 'ขึ้น', 'เป็น', 'ที่', 'น่า', 'สนใจ', 'และ', 'ดึงดูด', 'การ', 'ค้า', 'การ', 'ลง', 'ทุน', 'จาก', 'ทั่ว', 'โลก', 'ซึ่ง', 'จะ', 'เสริมสร้าง', 'มูลค่า', 'เพิ่ม', 'ทาง', 'ยุทธศาสตร์', 'ของ', 'อาเซียน', 'และ', 'ภูมิภาค', 'และ', 'ทำ', 'ให้', 'ประชาชน', 'ได้', 'รับ', 'ประโยชน์', 'ทาง', 'เศรษฐกิจ', 'และ', 'การ', 'ค้า', 'อย่าง', 'เท่าเทียม', 'และ', 'ยั่งยืน', 'ประการ', 'ที่', 'สอง', 'ไทย', 'เห็น', 'ว่า', 'ทุก', 'ฝ่าย', 'ต้อง', 'ร่วม', 'กัน', 'หา', 'จุด', 'สมดุล', 'ทาง', 'ผล', 'ประโยชน์', 'ของ', 'สมาชิก', 'ทุก', 'ประเทศ', 'ต้อง', 'มี', 'ความ', 'ยืดหยุ่น', 'อย่าง', 'แท้จริง', 'และ', 'มุ่งเน้น', 'หารือ', 'ใน', 'ประเด็น', 'ที่', 'สมาชิก', 'มี', 'ผล', 'ประโยชน์', 'ร่วม', 'กัน', 'เป็น', 'สำคัญ', 'เพื่อ', 'ให้', 'สามารถ', 'สรุป', 'เจรจา', 'เรื่อง', 'การ', 'เปิด', 'ตลาด', 'และ', 'การ', 'เจรจา', 'ด้าน', 'กฎเกณฑ์', 'ทีี', 'มี', 'มาตรฐาน', 'มี', 'กลไก', 'ชัดเจน', 'และ', 'โปร่งใส', 'และ', 'ไม่', 'ถูก', 'นำ', 'มา', 'ใช้', 'เป็น', 'เครื่องมือ', 'เพื่อ']]\n",
            "Headline                    : ['นายก', 'รัฐมนตรี', 'เข้า', 'ร่วม', 'ประชุม', 'ผู้', 'นำ', 'ความ', 'ตกลง', 'หุ้นส่วน', 'ทาง', 'เศรษฐกิจ', 'ระดับ', 'ภูมิภาค', 'ครั้ง', 'ที่', '2']\n",
            "Prediction.                 : []\n",
            "Predicted Labels            : 0 0 0 0 0 0 0 0 0 0 0 0 0 0 0 0 0 0 0 0 0 0 0 0 0 0 0 0 0 0 0 0 0 0 0 0 0 0 0 0 0 0 0 0 0 0 0 0 0 0 0 0 0 0 0 0 0 0 0 0 0 0 0 0 0 0 0 0 0 0 0 0 0 0 0 0 0 0 0 0 0 0 0 0 0 0 0 0 0 0 0 0 0 0 0 0 0 0 0 0 0 0 0 0 0 0 0 0 0 0 0 0 0 0 0 0 0 0 0 0 0 0 0 0 0 0 0 0 0 0 0 0 0 0 0 0 0 0 0 0 0 0 0 0 0 0 0 0 0 0 0 0 0 0 0 0 0 0 0 0 0 0 0 0 0 0 0 0 0 0 0 0 0 0 0 0 0 0 0 0 0 0 0 0 0 0 0 0 0 0 0 0 0 0 0 0 0 0 0 0 0 0 0 0 0 0 0 0 0 0 0 0 0 0 0 0 0 0 0 0 0 0 0 0 0 0 0 0 0 0 0 0 0 0 0 0 0 0 0 0 0 0 0 0 0 0 0 0 0 0 0 0 0 0 0 0 0 0 0 0 0 0 0 0 0 0 0 0 0 0 0 0 0 0 0 0 0 0 0 0 0 0 0 0 0 0 0 0 0 0 0 0 0 0 0 0 0 0 0 0\n",
            "Truth Labels                : 0 0 0 0 0 0 0 0 0 0 0 0 0 0 0 0 0 0 0 0 0 0 0 1 0 0 0 0 0 0 0 0 0 1 1 1 0 0 0 0 0 0 0 0 0 0 0 0 0 0 0 0 0 0 0 0 0 0 0 0 0 0 0 0 0 0 0 0 0 0 0 0 0 0 0 0 0 0 0 0 0 0 0 0 0 0 0 0 0 0 0 0 0 0 0 0 0 0 0 0 0 0 1 0 1 0 0 0 0 0 0 0 0 0 0 0 0 0 0 0 0 0 0 0 0 0 0 0 0 0 0 0 0 0 0 0 0 0 0 0 0 0 0 0 0 0 0 0 0 0 0 0 0 0 0 0 0 0 0 0 0 0 0 0 0 0 0 0 0 0 0 0 0 0 0 0 0 0 0 0 0 0 0 0 1 0 0 0 0 0 0 0 0 0 0 0 0 0 0 0 0 0 0 0 0 1 0 0 0 0 0 0 0 0 0 0 0 0 0 0 0 0 0 0 0 1 0 0 0 0 0 0 0 0 0 0 0 0 0 0 1 0 1 1 0 0 0 0 0 0 0 0 0 1 0 0 0 0 0 0 0 1 1 1 0 0 0 0 0 0 0 0 0 0 0 0 0 0 0 0 0 0 0 0 0 0 0 0 0 0 0 0 0 0 0 0 0 1 1 0\n",
            "\n",
            "Content (at most 300 words) : [['พลเอก ประยุทธ์ จันทร์โอชา', 'นายก', 'รัฐมนตรี', 'กล่าว', 'ใน', 'รายการ', '“', 'ศาสตร์', 'พระราชา สู่', 'การ', 'พัฒนา', 'อย่าง', 'ยั่งยืน', '”', 'ออก', 'อากาศ', 'ทาง', 'โทรทัศน์รวมการเฉพาะกิจแห่งประเทศไทย', 'วัน', 'ศุกร์', 'ที่', '22', 'กันยายน', '2560', 'เวลา', '20', '.', '15', 'น.', 'สวัสดี', 'ครับ', 'พ่อแม่พี่น้อง', 'ชาว', 'ไทย', 'ที่', 'รัก', 'ทุก', 'ท่าน', 'ตาม', 'ที่', 'สมเด็จพระเจ้าอยู่หัว', 'มหาวชิรา', 'ลง', 'กรณบดิน', 'ทรเทพยวราง', 'กูร', 'ทรง', 'พระกรุณา', 'โปรดเกล้าโปรดกระหม่อม', 'พระราชทาน', 'พระราชานุญาต', 'ให้', 'ประชาชน', 'ได้', 'เข้า', 'กราบ', 'ถวาย', 'บังคม', 'พระบรมศพ', 'พระบาทสมเด็จพระปรมินทรมหาภูมิพลอดุลยเดชบรมนาถบพิตร', 'ณ', 'พระที่นั่งดุสิตมหาปราสาท', 'ใน', 'พระบรมมหาราชวัง', 'ทั้งนี้', 'ตั้งแต่', 'วัน', 'ที่', '28', 'ตุลาคม', '2559', 'และ', 'บัด', 'นี้', 'สำนักพระราชวัง', 'ได้', 'มี', 'ประกาศ', 'ขอ', 'เปิด', 'ให้', 'ประชาชน', 'เข้า', 'กราบ', 'ถวาย', 'บังคม', 'พระบรมศพ', 'ใน', 'วัน', 'ที่', '30', 'กันยายน', '2560', 'นี้', 'เป็น', 'วัน', 'สุดท้าย', 'ทั้งนี้', 'เพื่อ', 'จะ', 'ได้', 'ดำเนิน', 'การ', 'จัด', 'เตรียม', 'การ', 'พระราชพิธี', 'ถวาย', 'พระเพลิง', 'พระบรมศพ', 'ให้', 'สม', 'พระเกียรติ', 'ต่อ', 'ไป', 'นั้น', 'ผม', 'ขอ', 'แสดง', 'ความ', 'ชื่นชม', 'พี่น้อง', 'ประชาชน', 'จาก', 'ทุก', 'ภาค', 'ส่วน', 'ทุก', 'เพศ', 'ทุก', 'วัย', 'ทุก', 'ศาสนา', 'ทั่ว', 'ฟ้า', 'เมืองไทย', 'ใต้ร่ม', 'พระบารมี', 'โดย', 'เฉพาะ', '“', 'จิตอาสา', '”', 'ที่', 'ได้', 'ร่วม', 'กัน', '“', 'ทำ', 'ดี', 'เพื่อ', 'พ่อ', '”', 'ถวาย', 'แด่', '“', 'พระ', 'ผู้', 'เสด็จ', 'สู่', 'สวรรคาลัย', '”', 'ตลอด', 'ระยะ', 'เวลา', '1', 'ปี', 'ที่', 'ผ่าน', 'มา', 'ก็', 'มี', 'ผู้', 'เข้า', 'ถวาย', 'สักการะ', 'พระบรมศพ', 'จำนวน', 'กว่า', '10', 'ล้าน', 'คน', 'สำหรับ', 'ห้วง', 'เวลา', 'ที่', 'เหลือ', 'อยู่', 'อีก', 'ประมาณ', '1', 'เดือน', 'นับ', 'จาก', 'นี้', 'เรา', 'ทุก', 'คน', 'ยังคง', 'มี', 'งาน', '“', 'ขั้น', 'สุดท้าย', '”', 'สำหรับ', 'ภารกิจ', 'ร่วม', 'กัน', 'ใน', 'ครั้ง', 'นี้', 'ทั้ง', 'ใน', 'ส่วน', 'ตน', 'และ', 'ใน', 'ส่วน', 'รวม', 'อาทิ', 'การ', 'ปลูก', 'ดอก', 'ดาวเรือง', 'หรือ', 'ดอก', 'ไม้', 'ที่', 'มี', 'สี', 'เหลือง', 'ณ', 'ที่พักอาศัย', 'อาคารสถานที่', 'ต่างๆ', 'เพื่อ', 'ให้', 'ออก', 'ดอก', 'เบ่งบาน', 'ทั่ว', 'แผ่นดิน', 'ใน', 'ช่วง', 'งาน', 'พระราชพิธี', 'สำคัญ', 'นี้', 'ไป', 'จนถึง', 'การ', 'ซักซ้อม', 'การ', 'ปฏิบัติ', 'ใน', 'ทุก', 'รายละเอียด', 'โดย', 'เฉพาะ', 'ใน', 'ขบวน', 'พระราชอิสริยยศ', 'ซึ่ง', 'เรียก', 'ว่า', '“', 'ริ้ว', 'ขบวน', '”', 'ตาม', 'โบราณราชประเพณี', 'เพื่อ', 'ให้', 'มี', 'ความ', 'พร้อม', 'และ', 'งดงาม', '“', 'ประหนึ่ง', 'ราชรถ', 'เคลื่อน', 'บน', 'หมู่', 'เมฆ', 'ส่ง', 'เสด็จ', 'สู่', 'สวรรค์', '”', 'อัน', 'จะ', 'เป็น', 'ภาพ', 'ความทรงจำ', 'ที่', 'จะ', 'ถูก', 'จารึก']]\n",
            "Headline                    : ['ศาสตร์', 'พระราชา สู่', 'การ', 'พัฒนา', 'อย่าง', 'ยั่งยืน', 'วัน', 'ศุกร์', 'ที่', '22', 'กันยายน', '2560']\n",
            "Prediction.                 : []\n",
            "Predicted Labels            : 0 0 0 0 0 0 0 0 0 0 0 0 0 0 0 0 0 0 0 0 0 0 0 0 0 0 0 0 0 0 0 0 0 0 0 0 0 0 0 0 0 0 0 0 0 0 0 0 0 0 0 0 0 0 0 0 0 0 0 0 0 0 0 0 0 0 0 0 0 0 0 0 0 0 0 0 0 0 0 0 0 0 0 0 0 0 0 0 0 0 0 0 0 0 0 0 0 0 0 0 0 0 0 0 0 0 0 0 0 0 0 0 0 0 0 0 0 0 0 0 0 0 0 0 0 0 0 0 0 0 0 0 0 0 0 0 0 0 0 0 0 0 0 0 0 0 0 0 0 0 0 0 0 0 0 0 0 0 0 0 0 0 0 0 0 0 0 0 0 0 0 0 0 0 0 0 0 0 0 0 0 0 0 0 0 0 0 0 0 0 0 0 0 0 0 0 0 0 0 0 0 0 0 0 0 0 0 0 0 0 0 0 0 0 0 0 0 0 0 0 0 0 0 0 0 0 0 0 0 0 0 0 0 0 0 0 0 0 0 0 0 0 0 0 0 0 0 0 0 0 0 0 0 0 0 0 0 0 0 0 0 0 0 0 0 0 0 0 0 0 0 0 0 0 0 0 0 0 0 0 0 0 0 0 0 0 0 0 0 0 0 0 0 0 0 0 0 0 0 0\n",
            "Truth Labels                : 0 0 0 0 0 1 1 1 1 0 1 0 0 0 0 0 1 0 0 0 0 0 0 0 0 1 0 0 0 0 0 0 0 0 0 0 0 0 0 0 0 0 0 1 0 0 0 0 1 0 0 0 0 1 1 1 0 1 0 0 0 0 0 1 0 1 1 1 0 1 0 1 0 0 1 0 0 0 0 1 0 0 0 0 0 1 1 1 1 0 1 0 0 0 0 0 1 0 0 0 0 0 0 0 0 1 0 0 0 0 0 0 0 0 0 0 0 0 0 0 1 0 0 0 0 0 0 0 0 1 1 0 0 0 0 0 0 0 0 0 1 0 1 0 1 0 0 0 0 0 0 0 0 0 0 0 0 0 1 0 1 0 0 0 1 0 0 0 0 0 0 0 1 1 0 0 0 0 0 0 0 0 0 0 0 0 0 0 0 0 0 0 0 0 0 0 0 0 0 0 0 0 0 0 0 0 0 0 0 0 0 0 0 0 0 0 0 0 0 0 0 0 0 0 0 0 0 0 0 0 0 0 0 0 0 0 0 0 0 0 0 0 0 0 0 0 0 0 0 0 0 0 0 0 0 0 0 0 0 0 0 0 0 0 0 0 0 0 0 0 0 0 0 0 0 0 0 0 0 0 0 0 0 0 0 0 0 0 0 0 0 0 0 0 0 0 0 0 0 0\n",
            "\n",
            "Content (at most 300 words) : [['กระทรวงดิจิทัล', 'ฯ', 'p.p1', 'margin', '0', '.', '0', 'px', '0', '.', '0', 'px', '12', '.', '0', 'px', '0', '.', '0px', 'font', '16', '.', '0', 'px', 'Helvetica', '-', 'webkit', '-', 'text', '-', 'stroke', '#', '000000', 'p.p', '2', 'margin', '0', '.', '0', 'px', '0', '.', '0', 'px', '12', '.', '0', 'px', '0', '.', '0px', 'font', '16', '.', '0', 'px', 'Helvetica', '-', 'webkit', '-', 'text', '-', 'stroke', '#', '000000', 'min', '-', 'height', '19', '.', '0px', 'p.p3', 'margin', '0', '.', '0', 'px', '0', '.', '0', 'px', '10', '.', '0', 'px', '0', '.', '0px', 'text', '-', 'align', 'center', 'font', '16', '.', '0', 'px', 'Helvetica', '-', 'webkit', '-', 'text', '-', 'stroke', '#', '000000', 'span.', 's', '1', 'font', '-', 'kerning', 'none', 'กระทรวงดิจิทัลฯ', 'ดีอี', 'เตรียม', 'ดึง', 'ภาค', 'รัฐ', 'เอกชน', 'และ', 'ประชาสังคม', 'ร่วม', 'คณะ', 'ทำ', 'งาน', '3', 'ฝ่าย', 'ที่', 'จะ', 'จัดตั้ง', 'ขึ้น', 'ใน', 'อีก', '2', 'สัปดาห์', 'ระดม', 'สมอง', 'หา', 'ทาง', 'ออก', 'ร่าง', 'พ.ร.บ.', 'ว่า', 'ด้วย', 'การ', 'รักษาความ', 'มั่นคง', 'ปลอด', 'ภัย', 'ไซเบอร์', 'ปู', 'ทาง', 'สร้าง', 'การ', 'ยอม', 'รับ', 'จาก', 'ทุก', 'ภาค', 'ส่วน', 'ดร.พิเชฐ ดุรงคเวโรจน์', 'รัฐมนตรี', 'ว่าการ', 'กระทรวงดิจิทัล', 'เพื่อ', 'เศรษฐกิจและ', 'สังคม', 'ดีอี', 'กล่าว', 'ว่า', 'กระทรวง', 'ฯ', 'อยู่', 'ระหว่าง', 'จัดทำ', 'รูปแบบ', 'การ', 'จัดตั้ง', 'คณะ', 'ทำ', 'งาน', '3', 'ฝ่าย', 'เพื่อ', 'ร่วม', 'หารือ', 'พิจารณา', 'ข้อ', 'ขัดข้อง', 'และ', 'นำ', 'เสนอ', 'ทางออก', 'ร่วม', 'กัน', 'สำหรับ', 'ร่าง', 'พ.ร.บ.', 'ว่า', 'ด้วย', 'การ', 'รักษาความ', 'มั่นคง', 'ปลอด', 'ภัย', 'ไซเบอร์', 'พ.ศ.', '.', 'ซึ่ง', 'ได้', 'มี', 'การ', 'เปิด', 'รับ', 'ความ', 'คิดเห็น', 'และ', 'พบ', 'ว่า', 'สังคม', 'ยัง', 'มี', 'ความ', 'กังวล', 'ใน', 'บาง', 'เรื่อง', 'โดย', 'คาด', 'ว่า', 'คณะ', 'ทำ', 'งาน', 'ชุด', 'นี้', 'จะ', 'จัดตั้ง', 'ได้', 'ภาย', 'ใน', '2', 'สัปดาห์', 'คาดหมาย', 'ว่า', 'แนวทาง', 'นี้', 'จะ', 'นำ', 'ไป', 'สู่', 'เป้าหมาย', 'ที่', 'ทำ', 'ให้', 'พ.ร.บ.', 'ไซเบอร์', 'เป็น', 'ที่', 'ยอม', 'รับ', 'แนวทาง', 'ดัง', 'กล่าว', 'เพื่อ', 'ให้', 'เกิด', 'การ', 'มี', 'ส่วน', 'ร่วม', 'คณะ', 'ทำ', 'งาน', '3', 'ฝ่าย', 'จะ', 'ประกอบ', 'ด้วย', 'ภาค', 'รัฐ', 'ที่', 'เกี่ยวข้อง', 'ภาค', 'ธุรกิจ', 'หรือ', 'ตัว', 'แทน', 'ฝ่าย', 'เอกชน', 'ที่', 'เกี่ยวข้อง', 'และ', 'ภาค', 'ประชาสังคม', 'ซึ่ง', 'อาจ', 'ครอบคลุม', 'ถึง', 'นัก']]\n",
            "Headline                    : ['กระทรวงดิจิทัล', 'ฯ', 'ตั้ง', 'คณะ', 'ทำ', 'งาน', '3', 'ฝ่าย', 'หา', 'ทาง', 'ออก', 'พ.ร.บ.', 'ไซเบอร์']\n",
            "Prediction.                 : []\n",
            "Predicted Labels            : 0 0 0 0 0 0 0 0 0 0 0 0 0 0 0 0 0 0 0 0 0 0 0 0 0 0 0 0 0 0 0 0 0 0 0 0 0 0 0 0 0 0 0 0 0 0 0 0 0 0 0 0 0 0 0 0 0 0 0 0 0 0 0 0 0 0 0 0 0 0 0 0 0 0 0 0 0 0 0 0 0 0 0 0 0 0 0 0 0 0 0 0 0 0 0 0 0 0 0 0 0 0 0 0 0 0 0 0 0 0 0 0 0 0 0 0 0 0 0 0 0 0 0 0 0 0 0 0 0 0 0 0 0 0 0 0 0 0 0 0 0 0 0 0 0 0 0 0 0 0 0 0 0 0 0 0 0 0 0 0 0 0 0 0 0 0 0 0 0 0 0 0 0 0 0 0 0 0 0 0 0 0 0 0 0 0 0 0 0 0 0 0 0 0 0 0 0 0 0 0 0 0 0 0 0 0 0 0 0 0 0 0 0 0 0 0 0 0 0 0 0 0 0 0 0 0 0 0 0 0 0 0 0 0 0 0 0 0 0 0 0 0 0 0 0 0 0 0 0 0 0 0 0 0 0 0 0 0 0 0 0 0 0 0 0 0 0 0 0 0 0 0 0 0 0 0 0 0 0 0 0 0 0 0 0 0 0 0 0 0 0 0 0 0 0 0 0 0 0 0\n",
            "Truth Labels                : 0 1 1 1 1 1 1 1 1 1 1 1 1 1 1 1 1 0 0 0 0 0 0 0 0 0 1 0 0 0 0 0 0 0 0 0 0 0 1 0 0 0 1 0 0 0 0 0 0 0 0 1 1 1 0 0 0 0 0 0 0 0 0 0 0 0 1 1 1 0 0 0 0 1 0 0 0 1 1 1 1 1 0 0 1 0 0 0 0 1 1 1 1 1 1 1 0 0 0 0 0 0 0 1 0 1 1 0 0 0 0 0 0 0 0 0 0 0 0 0 0 1 0 0 0 0 0 0 0 0 0 0 1 1 0 1 0 0 0 0 0 0 0 1 1 0 0 0 0 0 0 1 0 0 1 0 1 1 1 0 1 0 0 0 0 0 0 0 1 0 1 0 0 0 0 1 1 1 1 0 0 1 0 1 1 0 0 0 0 0 0 0 0 0 0 1 0 0 0 0 0 0 0 1 1 1 0 0 0 0 0 0 0 0 0 0 0 1 1 1 0 0 0 0 0 0 0 0 0 0 0 0 0 0 0 0 0 0 0 0 0 0 0 0 0 0 0 0 0 0 1 1 1 0 0 0 0 0 0 0 0 0 0 0 0 0 0 0 0 0 0 0 0 0 0 0 0 0 0 0 0 0 0 0 0 0 0 0 0 0 0 1 1 1 1 0 0 0 1 0\n",
            "\n",
            "Content (at most 300 words) : [['ม.ล.ปนัดดา ดิศกุล', 'รัฐมนตรี', 'ช่วย', 'ว่าการ', 'กระทรวงศึกษาธิการ', 'เยี่ยมเยียน', 'พบปะ', 'สนทนา', 'กับ', 'ผู้', 'บริหาร', 'คณาจารย์', 'นัก', 'เรียน', 'โรง', 'เรียน', 'ไชยฉิมพลีวิทยาคม', 'และ', 'บรรยาย', 'พิเศษ', 'เรื่อง', '‘', 'ศาสตร์', 'พระราชา', 'จะ', 'ดำรง', 'อยู่', 'กับ', 'ลูกหลาน', 'ตลอด', 'ไป', 'และ', 'โครงการ', 'การ', 'ใช้', 'ภาษา', 'ต่าง', 'ประเทศ', 'เมื่อ', 'วัน', 'ที่', '6', 'พฤศจิกายน', '2560', 'ม.ล.ปนัดดา ดิศกุล', 'รัฐมนตรี', 'ช่วย', 'ว่าการ', 'กระทรวงศึกษาธิการ', 'เยี่ยมเยียน', 'พบปะ', 'สนทนา', 'กับ', 'ผู้', 'บริหาร', 'คณาจารย์', 'นัก', 'เรียน', 'โรง', 'เรียน', 'ไชยฉิมพลีวิทยาคม', 'และ', 'บรรยาย', 'พิเศษ', 'เรื่อง', '‘', 'ศาสตร์', 'พระราชา', 'จะ', 'ดำรง', 'อยู่', 'กับ', 'ลูกหลาน', 'ตลอด', 'ไป', 'และ', 'โครงการ', 'การ', 'ใช้', 'ภาษา', 'ต่าง', 'ประเทศ', 'Diplomatic', 'Language', 'ภาษา', 'ทาง', 'การ', 'ทูต', 'ณ', 'หอประชุม', 'โรง', 'เรียน', 'ไชยฉิมพลีวิทยาคม', 'เขตภาษีเจริญ', 'ขอ', 'ให้', 'ลูกหลาน', 'ช่วย', 'กัน', 'สืบสาน', 'พระราชปณิธาน', 'สถาน', 'ศึกษา', 'คุณธรรม', 'ตาม', 'ที่', 'กระทรวงศึกษาธิการ', 'ได้', 'ดำเนิน', 'โครงการ', 'โรงเรียน', 'คุณธรรม', 'ใน', 'สถาน', 'ศึกษา', 'ทุก', 'สังกัด', 'ทั่ว', 'ประเทศ', 'ซึ่ง', 'มี', 'กรอบ', 'แนว', 'คิด', 'ที่', 'สำคัญ', '5', 'ประการ', 'คือ', 'ความ', 'พอเพียง', 'ความ', 'กตัญญู', 'ความ', 'ซื่อสัตย์', 'ความ', 'รับผิดชอบ', 'และ', 'อุดมการณ์', 'คุณธรรม', 'จริยธรรม', 'อีก', 'ทั้ง', 'ขอ', 'ให้', 'น้อม', 'นำศาสตร์', 'พระราชา', 'ใน', 'เรื่อง', 'ของ', 'ความ', 'ซื่อสัตย์สุจริต', 'ความ', 'เพียร', 'ความ', 'รู้', '-', 'รัก', '-', 'สามัคคี', 'และ', 'เข้าใจ', '-', 'เข้า', 'ถึง', '-', 'พัฒนา', 'รวม', 'ทั้ง', 'พระบรมราโชบาย', 'ด้าน', 'การ', 'ศึกษา', 'ของ', 'สมเด็จพระเจ้าอยู่หัวมหาวชิราลง', 'กรณ', 'บดินทรเทพยวราง', 'กูร', 'รัชกาล', 'ที่', '10', 'ว่า', 'ด้วย', 'ความ', 'เป็น', 'นัก', 'การ', 'ศึกษา', 'ที่', 'ดี', 'การ', 'มี', 'ทัศนคติ', 'ที่', 'ดี', 'ต่อ', 'กัน', 'มา', 'เป็น', 'เข็มทิศ', 'ชีวิต', 'ทั้ง', 'ใน', 'ด้าน', 'การ', 'เรียน', 'การ', 'ทำ', 'งาน', 'และ', 'การ', 'ดำรง', 'ชีวิต', 'อัน', 'จะ', 'นำ', 'พา', 'ทั้ง', 'ตน', 'เอง', 'โรง', 'เรียน', 'องค์กร', 'และ', 'สังคม', 'สู่', 'ความ', 'เจริญ', 'และ', 'สามารถ', 'พัฒนา', 'การ', 'ศึกษา', 'ไป', 'สู่', 'ความ', 'เป็น', 'เลิศ', 'ได้', 'นอก', 'จาก', 'นี้', 'ขอ', 'แนะนำ', 'ให้', 'ลูกหลาน', 'นำ', 'วิธี', 'การ', 'พูด', 'ทาง', 'การ', 'ทูต', 'ที่', 'มี', 'ความ', 'สุภาพ', 'ไพเราะ', 'อ่อนโยน', 'ไป', 'ปรับ', 'ใช้', 'เพื่อ', 'ช่วย', 'ให้', 'การ', 'สื่อสาร', 'มี', 'ประสิทธิภาพ', 'และ', 'ประทับใจ', 'ผู้', 'ฟัง', 'เพราะ', 'ลักษณะ', 'วิธี', 'การ', 'พูด', 'ทาง', 'การ', 'ทูต', 'นั้น', 'วิชาชีพ', 'อื่น', 'ก็', 'สามารถ', 'นำ', 'ไป', 'ใช้', 'ได้', 'สิ่ง', 'สำคัญ', 'อยู่', 'ที่', 'เรา', 'ต้อง', 'คิด', 'ก่อน', 'พูด']]\n",
            "Headline                    : ['ศาสตร์', 'พระราชา', 'จะ', 'ดำรง', 'อยู่', 'กับ', 'ลูกหลาน', 'ตลอด', 'ไป', 'ที่', 'รร.ไชยฉิมพลีวิทยาคม']\n",
            "Prediction.                 : []\n",
            "Predicted Labels            : 0 0 0 0 0 0 0 0 0 0 0 0 0 0 0 0 0 0 0 0 0 0 0 0 0 0 0 0 0 0 0 0 0 0 0 0 0 0 0 0 0 0 0 0 0 0 0 0 0 0 0 0 0 0 0 0 0 0 0 0 0 0 0 0 0 0 0 0 0 0 0 0 0 0 0 0 0 0 0 0 0 0 0 0 0 0 0 0 0 0 0 0 0 0 0 0 0 0 0 0 0 0 0 0 0 0 0 0 0 0 0 0 0 0 0 0 0 0 0 0 0 0 0 0 0 0 0 0 0 0 0 0 0 0 0 0 0 0 0 0 0 0 0 0 0 0 0 0 0 0 0 0 0 0 0 0 0 0 0 0 0 0 0 0 0 0 0 0 0 0 0 0 0 0 0 0 0 0 0 0 0 0 0 0 0 0 0 0 0 0 0 0 0 0 0 0 0 0 0 0 0 0 0 0 0 0 0 0 0 0 0 0 0 0 0 0 0 0 0 0 0 0 0 0 0 0 0 0 0 0 0 0 0 0 0 0 0 0 0 0 0 0 0 0 0 0 0 0 0 0 0 0 0 0 0 0 0 0 0 0 0 0 0 0 0 0 0 0 0 0 0 0 0 0 0 0 0 0 0 0 0 0 0 0 0 0 0 0 0 0 0 0 0 0 0 0 0 0 0 0\n",
            "Truth Labels                : 1 1 1 1 1 1 1 1 1 1 1 1 1 0 1 1 0 0 0 0 0 1 1 0 0 0 0 0 0 0 0 0 1 0 0 0 1 1 0 1 0 0 0 1 1 1 0 0 1 0 0 0 1 0 1 0 1 0 0 1 0 0 0 0 0 0 0 0 0 0 0 0 0 0 0 1 1 1 0 1 1 0 0 1 1 0 0 1 1 0 0 0 0 0 0 0 0 0 0 0 0 0 0 1 0 1 0 0 0 0 0 0 0 0 0 1 0 0 1 1 0 0 1 0 1 0 0 0 0 0 0 1 0 1 0 0 0 0 0 0 0 0 0 0 0 0 0 0 1 0 0 1 0 1 0 0 1 0 1 0 0 1 0 1 0 0 0 0 0 0 0 0 1 0 0 0 0 0 0 0 0 0 0 0 0 0 0 0 0 0 0 1 0 0 0 0 0 0 0 1 0 1 0 0 0 0 0 0 1 0 0 0 0 0 0 0 1 0 0 1 0 0 0 0 0 1 0 0 0 0 1 0 0 0 0 1 0 0 1 0 0 1 0 1 0 0 0 0 0 0 0 0 0 0 0 1 0 0 0 0 1 0 0 0 1 0 1 0 0 0 0 0 0 0 0 0 0 0 0 0 0 0 0 0 0 0 0 1 0 1 0 0 0 0 1 0 0 0 0 1\n",
            "\n",
            "Content (at most 300 words) : [['โฆษก', 'กระทรวงสาธารณสุข', 'เตือน', 'ประชาชน', 'ช่วย', 'กัน', 'ทำลาย', 'แหล่ง', 'เพาะ', 'พันธุ์', 'ลูกน้ำ', 'ยุงลาย', 'ด้วย', 'มาตรการ', '3', 'เก็บ', 'ป้องกัน', '3', 'โรค', 'จาก', 'ยุงลาย', 'คือ', 'โรค', 'ไข้', 'เลือด', 'ออก', 'โรค', 'ติด', 'เชื้อ', 'ไวรัส', 'ซิกา', 'และ', 'โรค', 'ไข้', 'ปวด', 'ข้อ', 'ยุง', 'ลาย', 'โฆษก', 'กระทรวงสาธารณสุข', 'เตือน', 'ประชาชน', 'ช่วย', 'กัน', 'ทำลาย', 'แหล่ง', 'เพาะ', 'พันธุ์', 'ลูกน้ำ', 'ยุงลาย', 'ด้วย', 'มาตรการ', '3', 'เก็บ', 'ป้องกัน', '3', 'โรค', 'จาก', 'ยุงลาย', 'คือ', 'โรค', 'ไข้', 'เลือด', 'ออก', 'โรค', 'ติด', 'เชื้อ', 'ไวรัส', 'ซิกา', 'และ', 'โรค', 'ไข้', 'ปวด', 'ข้อ', 'ยุง', 'ลาย', 'นายแพทย์โอภาส การย์กวินพงศ์', 'รอง', 'ปลัด', 'กระทรวงสาธารณสุข', 'และ', 'โฆษก', 'กระทรวงสาธารณสุข', 'ให้', 'สัมภาษณ์', 'ว่า', 'สถานการณ์', 'โรค', 'ไข้', 'เลือด', 'ออก', 'ใน', 'ปี', '2561', 'ตั้งแต่', '1', 'มกราคม', '–', '20', 'กุมภาพันธ์', '2561', 'พบ', 'ผู้', 'ป่วย', 'เป็น', 'ไข้', 'เลือด', 'ออก', 'แล้ว', '2', '526', 'ราย', 'มี', 'ผู้', 'เสีย', 'ชีวิต', '7', 'ราย', 'ผู้', 'ป่วย', 'ร้อย', 'ละ', '42', 'เป็น', 'เด็ก', 'นัก', 'เรียน', 'แม้', 'จำนวน', 'ผู้', 'ป่วย', 'จะ', 'น้อย', 'กว่า', 'ช่วง', 'เดียว', 'กัน', 'ของ', 'ปี', 'ที่', 'ผ่าน', 'มา', 'แต่', 'ใน', 'ปี', 'นี้', 'มี', 'ฝน', 'ตก', 'ประปราย', 'ต่อเนื่อง', 'ไม่', 'อาจ', 'นิ่ง', 'นอนใจ', 'ได้', 'นายแพทย์เจษฎา', 'โชคดำรง', 'สุข', 'ปลัด', 'กระทรวงสาธารณสุข', 'จึง', 'ได้', 'กำชับ', 'ให้', 'เจ้าหน้าที่', 'สาธารณสุข', 'และ', 'อาสา', 'สมัคร', 'สาธารณสุข', 'ประจำ', 'หมู่', 'บ้าน', 'ประสาน', 'ความ', 'ร่วมมือ', 'กับ', 'ชุมชน', 'และ', 'ท้องถิ่น', 'ใน', 'การ', 'รณรงค์', 'กำจัด', 'แหล่ง', 'เพาะ', 'พันธุ์', 'ลูกน้ำ', 'ยุง', 'ลาย', 'เพื่อ', 'ป้องกัน', 'โรค', 'ไข้', 'เลือด', 'ออก', 'และ', 'ขอ', 'ให้', 'ทุก', 'คน', 'ช่วย', 'กัน', 'กำจัด', 'แหล่ง', 'เพาะ', 'พันธุ์', 'ยุงลาย', 'อย่าง', 'ต่อเนื่อง', 'ใน', 'ภาชนะ', 'ต่าง', 'ๆ', 'ต้น', 'ไม้', 'ใน', 'บริเวณ', 'บ้าน', 'และ', 'โรง', 'เรียน', 'ไม่', 'ให้', 'เป็น', 'แหล่ง', 'เพาะ', 'พันธุ์', 'ลูก', 'น้ำ', 'ยุงลาย', 'ลด', 'การ', 'ป่วย', 'จาก', '3', 'โรค', 'จาก', 'ยุงลาย', 'คือ', 'โรค', 'ไข้', 'เลือด', 'ออก', 'โรค', 'ติด', 'เชื้อ', 'ไวรัส', 'ซิกา', 'และ', 'โรค', 'ไข้', 'ปวด', 'ข้อ', 'ยุง', 'ลาย', 'โดย', 'ใช้', 'มาตรการ', '“', '3', 'เก็บ', 'ป้องกัน', '3', 'โรค', '”', 'ประกอบ', 'ด้วย', '1', '.', 'เก็บ', 'บ้าน', 'ให้', 'สะอาด', 'โล่ง', 'ไม่', 'ให้', 'มี', 'มุม', 'อับทึบ', 'เป็น', 'ที่', 'เกาะ', 'พัก', 'ของ', 'ยุง', '2', '.', 'เก็บ', 'ขยะ', 'เศษ', 'ภาชนะ', 'รอบ', 'บ้าน', 'ทำ', 'ต่อเนื่อง', 'สัปดาห์', 'ละ', 'ครั้ง']]\n",
            "Headline                    : ['โฆษก', 'กระทรวงสธ.', 'เตือน', 'ประชาชน', 'ทำลาย', 'แหล่ง', 'เพาะ', 'พันธุ์', 'ยุง', 'ลาย', 'ป้องกัน', '3', 'โรค', 'จาก', 'ยุงลาย']\n",
            "Prediction.                 : []\n",
            "Predicted Labels            : 0 0 0 0 0 0 0 0 0 0 0 0 0 0 0 0 0 0 0 0 0 0 0 0 0 0 0 0 0 0 0 0 0 0 0 0 0 0 0 0 0 0 0 0 0 0 0 0 0 0 0 0 0 0 0 0 0 0 0 0 0 0 0 0 0 0 0 0 0 0 0 0 0 0 0 0 0 0 0 0 0 0 0 0 0 0 0 0 0 0 0 0 0 0 0 0 0 0 0 0 0 0 0 0 0 0 0 0 0 0 0 0 0 0 0 0 0 0 0 0 0 0 0 0 0 0 0 0 0 0 0 0 0 0 0 0 0 0 0 0 0 0 0 0 0 0 0 0 0 0 0 0 0 0 0 0 0 0 0 0 0 0 0 0 0 0 0 0 0 0 0 0 0 0 0 0 0 0 0 0 0 0 0 0 0 0 0 0 0 0 0 0 0 0 0 0 0 0 0 0 0 0 0 0 0 0 0 0 0 0 0 0 0 0 0 0 0 0 0 0 0 0 0 0 0 0 0 0 0 0 0 0 0 0 0 0 0 0 0 0 0 0 0 0 0 0 0 0 0 0 0 0 0 0 0 0 0 0 0 0 0 0 0 0 0 0 0 0 0 0 0 0 0 0 0 0 0 0 0 0 0 0 0 0 0 0 0 0 0 0 0 0 0 0 0 0 0 0 0 0\n",
            "Truth Labels                : 0 1 0 0 1 1 1 1 1 1 1 0 0 0 0 0 0 0 0 0 0 0 0 1 0 0 0 1 0 0 0 0 0 0 0 0 1 1 1 1 1 1 1 0 0 0 0 0 0 0 0 0 1 1 1 1 1 0 0 0 0 0 0 1 0 0 0 0 1 0 0 0 1 1 1 1 1 1 1 0 0 0 0 0 0 0 0 0 0 0 0 0 0 0 0 0 0 0 0 0 0 0 0 0 0 0 1 0 0 0 0 0 0 0 1 0 0 0 0 0 0 0 0 0 0 0 0 0 0 0 0 0 0 0 0 0 0 0 0 0 0 0 0 0 0 0 0 0 0 0 0 0 0 0 0 0 0 0 0 0 0 0 0 0 0 0 0 0 0 0 0 0 0 0 0 0 0 0 0 0 0 0 0 0 0 0 0 0 0 0 0 0 0 0 0 0 0 0 0 0 0 0 0 0 0 0 0 0 0 0 0 0 0 0 0 0 0 0 0 0 0 0 0 0 0 0 0 0 0 0 0 0 0 0 0 0 0 0 0 0 0 0 0 0 0 0 0 0 0 0 0 0 0 0 0 0 0 0 0 0 0 0 0 0 0 0 0 0 0 0 0 0 0 0 0 0 0 0 0 0 0 0 0 0 0 0 0 0 0 0 0 0 0 0 0 0 0 0 0 0\n",
            "\n",
            "Content (at most 300 words) : [['เมื่อ', 'วัน', 'ที่', '14', 'ก.ค.', '2561', 'เวลา', '13', '.', '00', 'น.', 'ณ', 'ศาลากลางจังหวัดร้อยเอ็ด', 'พลเอก อนุพงษ์ เผ่าจินดา', 'รัฐมนตรี', 'ว่าการ', 'กระทรวงมหาดไทย', 'เป็น', 'ประธาน', 'การ', 'ประชุม', 'หารือ', 'ข้อ', 'ราชการ', 'และ', 'เตรียม', 'ความ', 'พร้อม', 'การ', 'ประชุม', 'คณะ', 'รัฐมนตรี', 'อย่าง', 'เป็น', 'ทางการ', 'นอก', 'สถานที่', 'ครั้ง', 'ที่', '5', '/', '2561', 'โดย', 'มี', 'นายฉัตรชัย พรหมเลิศ', 'ปลัด', 'กระทรวงมหาดไทย', 'ผู้', 'บริหาร', 'ระดับ', 'สูง', 'ของ', 'กระทรวงมหาดไทย', 'อธิบดี', 'ผู้', 'ว่าราชการ', 'จังหวัดร้อยเอ็ด', 'อุบลราชธานี', 'ศรีสะเกษ', 'อำนาจเจริญ', 'ยโสธร', 'และ', 'ผู้', 'เกี่ยวข้อง', 'ร่วม', 'ประชุม', 'พลเอก อนุพงษ์', 'ได้', 'กล่าว', 'ชื่ม', 'ชม', 'ใน', 'ความ', 'กล้าหาญ', 'และ', 'เสียสละ', 'ของ', 'นาวาตรี ', 'สมาน กุนัน', 'ผู้', 'ที่', 'อุทิศ', 'ความ', 'ช่วยเหลือ', 'เพื่อน', 'มนุษย์', 'จนกระทั่ง', 'ตน', 'เอง', 'เสีย', 'ชีวิต', 'ใน', 'การ', 'ลำเลียง', 'ถัง', 'อากาศ', 'เพื่อ', 'สนับสนุน', 'ภารกิจ', 'ช่วยเหลือ', 'ผู้', 'ประสบ', 'ภัย', 'ใน', 'วน', 'อุทยานถ้ำหลวง', '-', 'ขุนน้ำ', 'นางนอน', 'และ', 'ขอ', 'ให้', 'ชาว', 'จังหวัด', 'ร้อยเอ็ด', 'ได้', 'ภาคภูมิใจ', 'ใน', 'ตัว', 'นาวาตรี', 'สมานฯ', 'และ', 'การ', 'ใด', 'ที่', 'จะ', 'ดูแล', 'ครอบครัว', 'คุณ', 'พ่อ', 'คุณ', 'แม่', 'ของ', 'นาวาตรีสมานฯ', 'ได้', 'รัฐบาล', 'ก็', 'พร้อม', 'และ', 'ยินดี', 'เป็น', 'อย่าง', 'ยิ่ง', 'พร้อม', 'ทั้ง', 'มอบหมาย', 'ให้', 'จังหวัดร้อยเอ็ด', 'จัด', 'งาน', 'พระราชทาน', 'เพลิง', 'ศพ', 'ให้', 'สมเกียรติ', 'จาก', 'นั้น', 'รัฐมนตรี', 'ว่าการ', 'กระทรวงมหาดไทย', 'ได้', 'มอบ', 'นโยบาย', 'ใน', 'การ', 'ประชุม', 'หารือ', 'ข้อ', 'ราชการ', 'โดย', 'กล่าว', 'ว่า', 'การ', 'ลง', 'พื้นที่', 'ของ', 'คณะ', 'รัฐมนตรี', 'และ', 'การ', 'ประชุม', 'คณะ', 'รัฐมนตรี', 'อย่าง', 'เป็น', 'ทางการ', 'นอก', 'สถานที่', 'จะ', 'เกิด', 'ประโยชน์', 'ใน', 'การ', 'มา', 'รับฟัง', 'การ', 'สะท้อน', 'ความ', 'ต้องการ', 'ของ', 'คน', 'ใน', 'พื้นที่', 'จริง', 'ๆ', 'ถือ', 'เป็น', 'โอกาส', 'ดี', 'ใน', 'การ', 'นำ', 'เสนอ', 'แผน', 'งาน', '/', 'โครงการ', 'ที่', 'ต้องการ', 'รับ', 'การ', 'สนับสนุน', 'จาก', 'รัฐบาล', 'ซึ่ง', 'มี', 'ผล', 'กระทบ', 'ต่อ', 'ภาพ', 'รวม', 'ของ', 'กลุ่ม', 'จังหวัด', 'ใน', 'วง', 'กว้าง', 'โดย', 'ยึด', 'กับ', 'ยุทธศาสตร์', 'การ', 'พัฒนาภาค', 'หรือ', 'กลุ่ม', 'จังหวัด', 'สุดท้าย', 'นายบุญธรรม เลิศสุขีเกษม', 'รอง', 'ปลัด', 'กระทรวงมหาดไทย', 'ได้', 'กล่าว', 'ถึง', 'การ', 'จัด', 'เตรียม', 'การ', 'ประชุม', 'คณะ', 'รัฐมนตรี', 'อย่าง', 'เป็น', 'ทางการ', 'นอก', 'สถานที่', 'ครั้ง', 'ที่', '5', '/', '2561', 'และ', 'การ', 'เตรียม', 'ความ', 'พร้อม', 'ใน', 'การ', 'ขอ', 'รับ', 'การ', 'สนับสนุน', 'งบ', 'ประมาณ', 'ร่วม', 'กับ', 'ผู้', 'ว่า', 'ราชการ', 'จังหวัด', 'ใน', 'กลุ่ม', 'จังหวัด', 'ภาค', 'ตะวัน', 'ออก', 'เฉียง', 'เหนือ', 'ตอน', 'ล่าง']]\n",
            "Headline                    : ['รมว.', 'มท.', 'เป็น', 'ประธาน', 'การ', 'ประชุม', 'หารือ', 'ข้อ', 'ราชการ', 'ใน', 'พื้นที่', 'จังหวัดร้อยเอ็ด', 'และ', 'กลุ่ม', 'จังหวัด', 'ภาค', 'เหนือ', 'ตอน', 'ล่าง', '2']\n",
            "Prediction.                 : []\n",
            "Predicted Labels            : 0 0 0 0 0 0 0 0 0 0 0 0 0 0 0 0 0 0 0 0 0 0 0 0 0 0 0 0 0 0 0 0 0 0 0 0 0 0 0 0 0 0 0 0 0 0 0 0 0 0 0 0 0 0 0 0 0 0 0 0 0 0 0 0 0 0 0 0 0 0 0 0 0 0 0 0 0 0 0 0 0 0 0 0 0 0 0 0 0 0 0 0 0 0 0 0 0 0 0 0 0 0 0 0 0 0 0 0 0 0 0 0 0 0 0 0 0 0 0 0 0 0 0 0 0 0 0 0 0 0 0 0 0 0 0 0 0 0 0 0 0 0 0 0 0 0 0 0 0 0 0 0 0 0 0 0 0 0 0 0 0 0 0 0 0 0 0 0 0 0 0 0 0 0 0 0 0 0 0 0 0 0 0 0 0 0 0 0 0 0 0 0 0 0 0 0 0 0 0 0 0 0 0 0 0 0 0 0 0 0 0 0 0 0 0 0 0 0 0 0 0 0 0 0 0 0 0 0 0 0 0 0 0 0 0 0 0 0 0 0 0 0 0 0 0 0 0 0 0 0 0 0 0 0 0 0 0 0 0 0 0 0 0 0 0 0 0 0 0 0 0 0 0 0 0 0 0 0 0 0 0 0 0 0 0 0 0 0 0 0 0 0 0 0 0 0 0 0 0 0\n",
            "Truth Labels                : 1 0 0 0 1 1 0 0 0 0 0 0 0 0 0 0 0 0 0 0 0 0 0 0 1 1 1 0 0 1 0 0 0 1 1 0 0 0 0 0 0 0 0 0 0 0 0 0 0 0 0 0 0 1 1 1 0 0 0 0 0 0 0 0 0 0 0 0 0 0 1 1 1 0 0 0 0 0 0 0 0 0 0 0 0 0 0 0 0 0 0 0 0 0 0 0 0 1 0 0 1 0 0 0 0 0 0 0 0 0 0 1 0 0 1 0 0 0 0 1 0 0 0 0 0 0 0 0 0 0 0 0 0 0 0 0 0 0 0 0 0 1 1 1 0 0 0 0 0 0 0 0 1 0 0 1 0 0 0 0 0 0 0 0 0 0 0 0 0 0 1 1 1 0 0 0 0 0 0 0 0 1 0 1 1 1 0 0 0 0 0 0 0 0 0 1 0 0 1 0 0 0 0 0 0 0 0 0 0 0 0 0 0 0 0 0 0 0 0 1 0 0 0 0 0 0 0 0 0 0 0 0 0 0 0 0 0 0 0 0 0 0 0 1 0 0 0 0 0 0 0 0 0 0 0 0 0 0 0 0 0 0 0 0 0 0 0 0 0 0 0 0 0 0 0 0 0 0 0 0 0 0 0 0 0 0 0 0 0 0 0 0 0 0 0 0 0 0 0 0\n",
            "\n",
            "Content (at most 300 words) : [['จ.อุบลราชธานี', 'วัน', 'นี้', '26', 'พฤษภาคม', '2561', 'นายสมชาย หาญหิรัญ', 'รัฐมนตรี', 'ช่วย', 'ว่าการ', 'กระทรวงอุตสาหกรรม', 'ลง', 'พื้นที่', 'ช่อง', 'เม็ก', 'อำเภอสิรินทร', 'จ.อุบลราชธานี', 'มอบ', 'นโยบาย', 'แนวทาง', 'การ', 'ขับเคลื่อน', 'เศรษฐกิจ', 'ฐาน', 'ราก', 'พร้อม', 'เยี่ยมชม', 'กลุ่ม', 'สตรี', 'แม่บ้าน', 'ทอ', 'ผ้า', 'ช่อง', 'เม็ก', 'กลุ่ม', 'วิสาหกิจ', 'ชุมชน', 'แปร', 'รูป', 'ผลิตภัณฑ์', 'อาหาร', 'จาก', 'ปลา', 'โดย', 'มี', 'นางสาวนิสากร', 'จึง', 'เจริญธรรม', 'รอง', 'ปลัด', 'กระทรวงอุตสาหกรรม', 'นายเอกภัทร วังสุวรรณ', 'รอง', 'เลขาธิการ', 'คณะกรรมการ', 'อ้อย', 'และ', 'น้ำตาล', 'ทราย', 'นายภานุวัฒน์', ' ตริยางกูรศรี', 'นายจารุพันธุ์ จารโยภาส', 'รอง', 'อธิบดี', 'กรมส่งเสริมอุตสาหกรรม', 'นายรังสรร บุญสะอาด', 'อุตสาหกรรม', 'จังหวัดอุบลราชธานี', 'ร่วม', 'ลง', 'พื้นที่', 'โดย', 'มี', 'นายอำเภอสิรินทร', 'ข้า', 'ราชการ', 'ใน', 'พื้นที่', 'ให้', 'การ', 'ต้อนรับ', 'กลุ่ม', 'สตรี', 'แม่บ้าน', 'ทอ', 'ผ้า', 'ช่อง', 'เม็ก', 'มี', 'เอกลักษณ์', 'ด้าน', 'การ', 'ทอ', 'ผ้า', 'จาก', 'ภูมิปัญญา', 'ของ', 'ชุมชน', 'เช่น', 'ทอสไบ', 'เรืองแสง', 'หรือ', 'สไบ', 'กลุ่ม', 'เครือข่าย', 'ถนน', 'สาย', 'วัฒนธรรม', 'สไบ', 'ผลิต', 'จาก', 'ผ้า', 'ฝ้าย', 'ย้อม', 'สี', 'ธรรมชาติ', 'ให้', 'มี', 'สีสัน', 'ต่างๆ', 'เป็น', 'มิตร', 'กับ', 'สุขภาพ', 'และ', 'สิ่ง', 'แวดล้อม', 'เอกลักษณ์', 'ของ', 'สไบ', 'คือ', 'สี', 'ม่วง', 'ซึ่ง', 'เป็น', 'สี', 'ประจำ', 'อำเภอสิรินธร', 'พร้อม', 'นี้', 'ได้', 'เยี่ยมชม', 'กลุ่ม', 'วิสาหกิจ', 'ชุมชน', 'แปร', 'รูป', 'ผลิตภัณฑ์', 'อาหาร', 'จาก', 'ปลา', 'บ้าน', 'ด่านใหม่', 'อำเภอโขงเจียม', 'จังหวัดอุบลราชธานี', 'ผลิต', 'ส้ม', 'ปลา', 'อีตู๋', 'ส้มปลา', 'ตอง', 'ปลาก', 'ราย', 'ส้ม', 'ปลา', 'ปึ่ง', 'ปลาเทโพ', 'ปลา', 'แดด', 'เดียว', 'ปลาร้า', 'เป็นต้น', 'ซึ่ง', 'ได้', 'รับ', 'เครื่องหมาย', 'อย.', 'GMP', 'โดย', 'จัด', 'จำหน่าย', 'ใน', 'วิสาหกิจ', 'ชุมชน', 'เอง', 'ตาม', 'งาน', 'OTOP', 'และ', 'ผลิต', 'ให้', 'กลุ่ม', 'โรงแรม', 'รีสอร์ท', 'ใน', 'จังหวัดอุบลราชธานี']]\n",
            "Headline                    : ['รมช.', 'ก.', 'อุต', 'ฯ', 'ลงพื้นที่', 'ช่อง', 'เม็ก', 'เมืองเรืองแสง', 'จ.อุบลราชธานี', 'เยี่ยมชม', 'พร้อม', 'มอบ', 'นโยบาย', 'แนวทาง', 'การ', 'ขับเคลื่อน', 'เศรษฐกิจ', 'ฐานราก']\n",
            "Prediction.                 : []\n",
            "Predicted Labels            : 0 0 0 0 0 0 0 0 0 0 0 0 0 0 0 0 0 0 0 0 0 0 0 0 0 0 0 0 0 0 0 0 0 0 0 0 0 0 0 0 0 0 0 0 0 0 0 0 0 0 0 0 0 0 0 0 0 0 0 0 0 0 0 0 0 0 0 0 0 0 0 0 0 0 0 0 0 0 0 0 0 0 0 0 0 0 0 0 0 0 0 0 0 0 0 0 0 0 0 0 0 0 0 0 0 0 0 0 0 0 0 0 0 0 0 0 0 0 0 0 0 0 0 0 0 0 0 0 0 0 0 0 0 0 0 0 0 0 0 0 0 0 0 0 0 0 0 0 0 0 0 0 0 0 0 0 0 0 0 0 0 0 0 0 0 0 0 0 0 0 0 0 0 0 0 0 0 0 0 0 0 0 0 0 0 0 0 0 0 0 0 0 0 0 0 0 0 0 0 0 0 0 0 0 0 0 0 0 0 0 0 0 0 0 0 0 0 0 0 0 0 0 0 0 0 0 0 0 0 0 0 0 0 0 0 0 0 0 0 0 0 0 0 0 0 0 0 0 0 0 0 0 0 0 0 0 0 0 0 0 0 0 0 0 0 0 0 0 0 0 0 0 0 0 0 0 0 0 0 0 0 0 0 0 0 0 0 0 0 0 0 0 0 0 0 0 0 0 0 0\n",
            "Truth Labels                : 0 0 0 0 0 0 0 0 0 0 0 0 0 0 0 1 1 1 1 0 1 1 0 0 0 0 0 1 0 0 0 0 0 0 0 0 1 0 0 0 0 1 0 0 0 0 0 1 0 1 0 0 0 1 1 0 0 0 1 0 0 0 0 0 0 0 0 0 1 0 0 1 0 0 1 0 0 0 0 0 0 1 0 1 0 0 0 0 0 0 0 0 0 0 1 0 0 0 0 1 1 1 1 1 1 0 1 0 0 0 1 1 1 1 0 0 0 0 0 0 0 0 0 0 0 0 0 0 0 0 0 0 0 0 0 0 0 0 0 0 0 0 0 0 0 0 0 0 0 0 0 0 0 0 0 0 0 0 0 0 0 0 0 0 0 0 0 0 0 0 0 0 0 0 0 0 0 0 0 0 0 0 0 0 0 0 0 0 0 0 0 0 0 0 0 0 0 0 0 0 0 0 0 0 0 0 0 0 0 0 0 0 0 0 0 0 0 0 0 0 0 0 0 0 0 0 0 0 0 0 0 0 0 0 0 0 0 0 0 0 0 0 0 0 0 0 0 0 0 0 0 0 0 0 0 0 0 0 0 0 0 0 0 0 0 0 0 0 0 0 0 0 0 0 0 0 0 0 0 0 0 0 0 0 0 0 0 0 0 0 0 0 0 0 0 0 0 0 0 0\n",
            "\n",
            "Content (at most 300 words) : [['นางอภิรดี ตันตราภรณ์', 'รัฐมนตรี', 'ว่าการ', 'กระทรวงพาณิชย์', 'เปิดเผย', 'รายงาน', 'จาก', 'สำนักงานส่งเสริม', 'การค้า', 'ใน', 'ต่าง', 'ประเทศ', 'ณ', 'กรุงซันติอาโก', 'ประเทศชิลี', 'ว่า', 'แม้ว่า', 'ที่', 'ผ่าน', 'มา', 'หลาย', 'ธุรกิจ', 'ใน', 'ประเทศชิลี', 'ได้', 'รับ', 'ผล', 'กระทบ', 'จาก', 'การ', 'ชะลอ', 'ตัว', 'ของ', 'เศรษฐกิจ', 'อย่าง', 'ไร', 'ก็ดี', 'กลับ', 'พบ', 'ว่า', 'ธุรกิจ', 'ร้าน', 'อาหาร', 'ใน', 'ชิลี', 'มี', 'การ', 'ขยาย', 'ตัว', 'เพิ่ม', 'ขึ้น', 'สวน', 'ทาง', 'กับ', 'กระแส', 'เศรษฐกิจ', 'โดย', 'พิจารณา', 'จาก', 'รายงาน', 'ของ', 'กรมสรรพากร', 'ชิลี', 'ที่', 'ระบุ', 'ว่า', 'ธุรกิจ', 'ภัตตาคาร', 'และ', 'ร้าน', 'อาหาร', 'สร้าง', 'ราย', 'ได้', 'ให้', 'กับ', 'ประเทศ', 'ประมาณ', '4', '700', 'ล้าน', 'เหรียญ', 'สหรัฐฯ', 'คิด', 'เป็น', 'การ', 'ขยาย', 'ตัว', 'เพิ่ม', 'ขึ้น', 'ร้อย', 'ละ', '42', 'ใน', 'รอบ', '10', 'ปี', 'นอก', 'จาก', 'นี้', 'ยัง', 'พบ', 'ว่า', 'จำนวน', 'ภัตตาคาร', 'และ', 'ร้าน', 'อาหาร', 'ใน', 'ประเทศชิลี', 'เพิ่ม', 'สูง', 'ขึ้น', 'ถึง', 'ร้อย', 'ละ', '37', 'หรือ', 'จาก', '29', '200', 'แห่ง', 'ใน', 'ปี', '2006', 'เป็น', 'กว่า', '40', '000', 'แห่ง', 'ใน', 'ปี', '2016', 'ข้อมูล', 'จาก', 'สำนักงานส่งเสริม', 'การค้า', 'ใน', 'ต่าง', 'ประเทศ', 'ณ', 'กรุงซันติอาโก', 'ระบุ', 'ว่า', 'ปัจจัย', 'ที่', 'ทำ', 'ให้', 'ธุรกิจ', 'ร้าน', 'อาหาร', 'ใน', 'ชิลี', 'มี', 'การ', 'ขยาย', 'ตัว', 'เพิ่ม', 'ขึ้น', 'นั้น', 'ส่วน', 'หนึ่ง', 'มาก', 'จาก', 'พฤติกรรม', 'การ', 'บริโภค', 'ของ', 'ชาว', 'ชิลี', 'ที่', 'เปลี่ยน', 'ไป', 'จาก', 'เดิม', 'ที่', 'ชอบ', 'รับประทาน', 'อาหาร', 'ใน', 'บ้าน', 'เปลี่ยน', 'เป็น', 'นิยม', 'ออก', 'ไป', 'รับประทาน', 'อาหาร', 'นอก', 'บ้าน', 'มาก', 'ขึ้น', 'เพราะ', 'ต้องการ', 'ความ', 'สะดวกสบาย', 'และ', 'การ', 'ได้', 'รับ', 'อานิสงส์', 'จาก', 'อุตสาหกรรม', 'การ', 'ท่องเที่ยว', 'ใน', 'ชิลี', 'ที่', 'มี', 'การ', 'ขยาย', 'ตัว', 'เพิ่ม', 'ขึ้น', 'อย่าง', 'ต่อเนื่อง', 'ทำ', 'ให้', 'ผู้', 'มา', 'ใช้', 'บริการ', 'ร้าน', 'อาหาร', 'นอก', 'จาก', 'จะ', 'เป็น', 'ชาว', 'ชิลี', 'แล้ว', 'ยัง', 'เป็น', 'นัก', 'ท่องเที่ยว', 'ที่', 'มี', 'จำนวน', 'เพิ่ม', 'ขึ้น', 'อีก', 'ด้วย', 'ผล', 'การ', 'สำรวจ', 'ยัง', 'พบ', 'ว่า', 'ตัว', 'แปร', 'สำคัญ', 'อีก', 'ประการ', 'คือ', 'การ', 'ที่', 'บริษัท', 'ใน', 'ชิลี', 'จำนวน', 'มาก', 'มี', 'สวัสดิการ', 'ให้', 'กับ', 'พนักงาน', 'ใน', 'รูปแบบ', 'การ', 'ให้', 'คู', 'ปอง', 'อาหาร', 'กลาง', 'วัน', 'เป็น', 'ราย', 'เดือน', 'ซึ่ง', 'พนักงาน', 'สามารถ', 'นำ', 'คู', 'ปอง', 'ดัง', 'กล่าว', 'ไป', 'ใช้', 'กับ', 'ร้าน', 'อาหาร', 'ต่าง', 'ๆ', 'แทน', 'เงิน', 'สด', 'ได้', 'จึง', 'ทำ', 'ให้']]\n",
            "Headline                    : ['ธุรกิจ', 'ร้าน', 'อาหาร', 'ใน', 'ชิลี', 'ขยาย', 'ตัว', 'เพิ่ม', 'ขึ้น', 'สวน', 'ทาง', 'กระแส', 'เศรษฐกิจ', 'พาณิชย์', 'ชี้', 'โอกาส', 'ดี', 'ของ', 'สินค้า', 'อาหาร', '–', 'ร้าน', 'อาหาร', 'ไทย']\n",
            "Prediction.                 : ['จาก', 'สำนักงานส่งเสริม', 'ขยาย', 'ตัว', 'เพิ่ม', 'ขึ้น', 'สวน', 'ทาง', 'กับ', 'กระแส', 'เศรษฐกิจ', 'โดย', 'พิจารณา', 'จาก', 'รายงาน', 'ของ', 'กรมสรรพากร', 'ชิลี', 'ที่', 'ระบุ']\n",
            "Predicted Labels            : 0 0 0 0 0 0 1 1 0 0 0 0 0 0 0 0 0 0 0 0 0 0 0 0 0 0 0 0 0 0 0 0 0 0 0 0 0 0 0 0 0 0 0 0 0 0 0 1 1 1 1 1 1 1 1 1 1 1 1 1 1 1 1 1 1 0 0 0 0 0 0 0 0 0 0 0 0 0 0 0 0 0 0 0 0 0 0 0 0 0 0 0 0 0 0 0 0 0 0 0 0 0 0 0 0 0 0 0 0 0 0 0 0 0 0 0 0 0 0 0 0 0 0 0 0 0 0 0 0 0 0 0 0 0 0 0 0 0 0 0 0 0 0 0 0 0 0 0 0 0 0 0 0 0 0 0 0 0 0 0 0 0 0 0 0 0 0 0 0 0 0 0 0 0 0 0 0 0 0 0 0 0 0 0 0 0 0 0 0 0 0 0 0 0 0 0 0 0 0 0 0 0 0 0 0 0 0 0 0 0 0 0 0 0 0 0 0 0 0 0 0 0 0 0 0 0 0 0 0 0 0 0 0 0 0 0 0 0 0 0 0 0 0 0 0 0 0 0 0 0 0 0 0 0 0 0 0 0 0 0 0 0 0 0 0 0 0 0 0 0 0 0 0 0 0 0 0 0 0 0 0 0 0 0 0 0 0 0 0 0 0 0 0 0 0 0 0 0 0 0\n",
            "Truth Labels                : 0 0 0 1 1 1 1 1 1 1 0 1 1 1 0 0 1 1 1 1 1 1 0 0 0 0 0 0 0 0 0 0 0 0 0 0 0 0 1 0 1 1 0 1 1 0 0 0 0 0 0 0 0 1 1 1 0 1 1 1 1 0 1 1 1 0 0 1 1 1 1 1 1 1 0 0 0 0 0 0 0 0 0 0 1 0 0 0 0 0 0 0 0 0 0 0 1 1 1 1 1 1 1 0 0 0 0 0 0 0 1 1 1 1 1 0 1 0 1 1 1 0 0 1 0 1 1 0 0 0 0 0 0 1 1 0 1 1 0 0 0 0 1 1 1 0 1 1 1 0 0 0 0 0 0 0 0 0 0 0 0 0 0 0 0 0 0 0 0 0 0 0 0 0 0 0 0 0 0 0 0 0 0 0 0 0 0 0 0 0 0 0 0 0 0 0 0 0 0 0 0 0 0 0 0 0 0 0 0 0 0 0 0 0 0 0 0 0 0 0 0 0 0 0 0 0 0 0 0 0 0 0 0 0 0 0 0 0 0 0 0 0 0 0 0 0 0 0 0 0 0 0 0 0 0 0 0 0 0 0 0 0 0 0 0 0 0 0 0 0 0 0 0 0 0 0 0 0 0 0 0 0 0 0 0 0 0 0 0 0 0 0 0 0 0 0 0 0 0 0\n",
            "\n",
            "Content (at most 300 words) : [['กระทรวงทรัพยากรธรรมชาติ', 'และสิ่ง', 'แวดล้อม', 'โดย', 'องค์การสวนสัตว์', 'ได้', 'รับ', 'เกียรติ', 'ให้', 'เป็น', 'เจ้าภาพ', 'จัด', 'การ', 'ประชุม', 'สมาคมสวน', 'สัตว์และ', 'พิพิธภัณฑ์', 'สัตว์', 'น้ำ', 'โลก', 'World', ' Association', 'of', 'Zoos', 'and', 'Aquariums', 'WAZA', 'ครั้ง', 'ที่', '73', 'จัด', 'ขึ้น', 'ระหว่าง', 'วัน', 'ที่', '22', '-', '25', 'ตุลาคม', '2561', 'กระทรวงทรัพยากรธรรมชาติ', 'และสิ่ง', 'แวดล้อม', 'โดย', 'องค์การสวนสัตว์', 'ได้', 'รับ', 'เกียรติ', 'ให้', 'เป็น', 'เจ้าภาพ', 'จัด', 'การ', 'ประชุม', 'สมาคมสวน', 'สัตว์และ', 'พิพิธภัณฑ์', 'สัตว์', 'น้ำ', 'โลก', 'World', ' Association', 'of', 'Zoos', 'and', 'Aquariums', 'WAZA', 'ครั้ง', 'ที่', '73', 'จัด', 'ขึ้น', 'ระหว่าง', 'วัน', 'ที่', '22', '-', '25', 'ตุลาคม', '2561', 'วัน', 'นี้', '22', 'ตุลาคม', '2561', 'รัฐมนตรี', 'ว่าการ', 'กระทรวงทรัพยากรธรรมชาติ', 'และสิ่งแวดล้อม', 'พลเอกสุรศักดิ์  กาญจนรัตน์', 'ให้', 'เกียรติ', 'เป็น', 'ประธาน', 'กล่าว', 'เปิด', 'การ', 'ประชุม', 'ระหว่าง', 'ประเทศ', 'และ', 'ประชุม', 'ใหญ่', 'สามัญ', 'ประจำ', 'ปี', 'ของ', 'สมาคมสวน', 'สัตว์', 'และ', 'และ', 'พิพิธภัณฑ์', 'สัตว์', 'น้ำ', 'โลก', 'World', ' Association', 'of', 'Zoos', 'and', 'Aquariums', 'WAZA', 'ครั้ง', 'ที่', '73', 'ณ', 'แกรนด์ฮอลล์', 'โรงแรมอวานีริเวอร์ไซด์', 'จัด', 'ขึ้น', 'ใน', 'หัวข้อ', 'Wild', 'at', 'Heart', 'เพื่อ', 'การ', 'นำเสนอ', 'เกี่ยว', 'กับ', 'ความ', 'ร่วมมือ', 'ใน', 'การ', 'อนุรักษ์', 'สัตว์', 'ทั้ง', 'ภาย', 'ใน', 'และ', 'ภาย', 'นอก', 'ถิ่น', 'อาศัย', 'ของ', 'ประเทศไทย', 'และ', 'สมาชิก', 'ที่', 'อยู่', 'ใน', 'ภูมิภาค', 'และ', 'การ', 'จัดการ', 'สวน', 'สัตว์และ', 'พิพิธภัณฑ์', 'สัตว์', 'น้ำ', 'ให้', 'เป็น', 'ไป', 'ตาม', 'มาตรฐาน', 'สากล', 'และ', 'หลักสวัสดิภาพ', 'สัตว์', 'โดย', 'จะ', 'มี', 'ผู้', 'เชี่ยวชาญ', 'ด้าน', 'การ', 'อนุรักษ์', 'พันธุ์', 'สัตว์', 'และสิ่ง', 'แวดล้อม', 'มา', 'จาก', 'หลากหลาย', 'ประเทศ', 'ซึ่ง', 'จะ', 'เป็น', 'การ', 'แบ่งปัน', 'ความ', 'รู้', 'ประสบการณ์', 'และ', 'นวัตกรรม', 'ทาง', 'ด้าน', 'การ', 'บริหารจัดการ', 'สวน', 'สัตว์', 'ให้', 'มี', 'ประสิทธิภาพ', 'สำหรับ', 'การ', 'ประชุม', 'ระหว่าง', 'ประเทศ', 'และ', 'ประชุม', 'ใหญ่', 'สามัญ', 'ประจำ', 'ปี', 'ของ', 'สมาคมสวน', 'สัตว์', 'และ', 'และ', 'พิพิธภัณฑ์', 'สัตว์', 'น้ำ', 'โลก', 'World', ' Association', 'of', 'Zoos', 'and', 'Aquariums', 'WAZA', 'ครั้ง', 'ที่', '73', 'นี้', 'ประเทศไทย', 'โดย', 'องค์การสวนสัตว์', 'ได้', 'รับ', 'เกียรติ', 'เป็น', 'ครั้ง', 'แรก', 'ใน', 'การ', 'เป็น', 'เจ้าภาพ', 'จัด', 'การ', 'ประชุม', 'นี้', 'ขึ้น', 'นับ', 'ว่า', 'เป็น', 'ประโยชน์', 'อย่าง', 'ยิ่ง', 'เพราะ', 'จะ', 'เป็น', 'เวที', 'สำหรับ', 'องค์การสวนสัตว์', 'ได้', 'แลกเปลี่ยน', 'เรียนรู้', 'เทคโนโลยี', 'ตลอดจน', 'องค์', 'ความ', 'รู้', 'ใน', 'ด้าน', 'การ', 'บริการ', 'จัดการ', 'สวน', 'สัตว์', 'ใน', 'ระดับ', 'สากล', 'เพิ่ม', 'โอกาส', 'ใน', 'การ', 'พัฒนา', 'บุคลากร', 'ของ']]\n",
            "Headline                    : ['ไทย', 'เป็น', 'เจ้าภาพ', 'จัด', 'ประชุม', 'สมาคมสวน', 'สัตว์และ', 'พิพิธภัณฑ์', 'สัตว์', 'น้ำ', 'โลก', 'World', ' Association', 'of', 'Zoos', 'and', 'Aquariums', 'WAZA', 'ครั้ง', 'ที่', '73']\n",
            "Prediction.                 : []\n",
            "Predicted Labels            : 0 0 0 0 0 0 0 0 0 0 0 0 0 0 0 0 0 0 0 0 0 0 0 0 0 0 0 0 0 0 0 0 0 0 0 0 0 0 0 0 0 0 0 0 0 0 0 0 0 0 0 0 0 0 0 0 0 0 0 0 0 0 0 0 0 0 0 0 0 0 0 0 0 0 0 0 0 0 0 0 0 0 0 0 0 0 0 0 0 0 0 0 0 0 0 0 0 0 0 0 0 0 0 0 0 0 0 0 0 0 0 0 0 0 0 0 0 0 0 0 0 0 0 0 0 0 0 0 0 0 0 0 0 0 0 0 0 0 0 0 0 0 0 0 0 0 0 0 0 0 0 0 0 0 0 0 0 0 0 0 0 0 0 0 0 0 0 0 0 0 0 0 0 0 0 0 0 0 0 0 0 0 0 0 0 0 0 0 0 0 0 0 0 0 0 0 0 0 0 0 0 0 0 0 0 0 0 0 0 0 0 0 0 0 0 0 0 0 0 0 0 0 0 0 0 0 0 0 0 0 0 0 0 0 0 0 0 0 0 0 0 0 0 0 0 0 0 0 0 0 0 0 0 0 0 0 0 0 0 0 0 0 0 0 0 0 0 0 0 0 0 0 0 0 0 0 0 0 0 0 0 0 0 0 0 0 0 0 0 0 0 0 0 0 0 0 0 0 0 0\n",
            "Truth Labels                : 1 1 0 0 0 0 0 0 0 0 0 0 0 0 0 0 0 0 1 0 0 0 0 0 1 0 0 1 0 0 1 0 0 1 0 0 0 0 0 0 0 0 0 0 0 1 0 0 0 0 0 0 0 1 1 1 1 0 0 0 0 1 0 0 0 0 0 0 0 0 0 0 0 0 0 0 0 0 0 0 0 0 0 0 0 0 0 0 0 0 0 0 0 0 0 0 0 0 0 0 0 0 0 0 0 0 0 0 0 0 0 0 0 0 0 0 0 0 0 0 0 0 0 0 0 0 0 0 0 0 0 0 0 0 0 0 0 0 0 0 0 0 0 0 0 0 0 0 0 0 0 0 0 0 0 0 0 0 0 0 0 0 0 0 0 0 0 0 0 0 0 0 0 0 0 0 0 0 0 0 0 0 0 0 0 0 0 0 0 0 0 0 0 0 0 0 0 0 0 0 0 0 0 0 0 0 0 0 0 0 0 0 0 0 0 0 0 0 0 0 0 0 0 0 0 0 0 0 0 0 0 0 0 0 0 0 0 0 0 0 0 0 0 0 0 0 0 0 0 0 0 0 0 0 0 0 0 0 0 0 0 0 0 0 0 0 0 0 0 0 0 0 0 0 0 0 0 0 0 0 0 0 0 0 0 0 0 0 0 0 0 0 0 0 0 0 0 0 0 0\n",
            "\n",
            "Content (at most 300 words) : [['กศน.', 'และ', 'อาชีวศึกษา', 'ร่วม', 'ลง', 'นาม', 'ความ', 'ร่วมมือ', 'ใน', 'การ', 'ส่งเสริม', 'คิดค้น', 'และ', 'พัฒนา', 'นวัตกรรม', 'ชิ้นงาน', 'เพื่อ', 'ป้อน', 'ธุรกิจ', 'SMEs', '-', 'วิสาหกิจ', 'ชุมชน', '-', 'OTOP', 'ใน', 'พื้นที่', '5', 'จชต.', 'ตั้ง', 'เป้า', '1', 'อำเภอ', '1', 'ชิ้น', 'งาน', 'เตรียม', 'คิก', 'ออฟ', 'โชว์', 'นัก', 'ธุรกิจ', 'เพื่อ', 'ติดต่อ', 'ซื้อขาย', 'ครั้ง', 'แรก', 'เดือน', 'มีนาคม', 'นี้', 'กศน.', 'และ', 'อาชีวศึกษา', 'ร่วม', 'ลง', 'นาม', 'ความ', 'ร่วมมือ', 'ใน', 'การ', 'ส่งเสริม', 'คิดค้น', 'และ', 'พัฒนา', 'นวัตกรรม', 'ชิ้นงาน', 'เพื่อ', 'ป้อน', 'ธุรกิจ', 'SMEs', '-', 'วิสาหกิจ', 'ชุมชน', '-', 'OTOP', 'ใน', 'พื้นที่', '5', 'จชต.', 'ตั้ง', 'เป้า', '1', 'อำเภอ', '1', 'ชิ้น', 'งาน', 'เตรียม', 'คิก', 'ออฟ', 'โชว์', 'นัก', 'ธุรกิจ', 'เพื่อ', 'ติดต่อ', 'ซื้อขาย', 'ครั้ง', 'แรก', 'เดือน', 'มีนาคม', 'นี้', 'วัน', 'นี้', '11', 'ก.พ.', '61', 'เวลา', '10', '.', '00', 'น.', 'ที่', 'โรงแรมเซาท์เทิร์นวิว', 'จังหวัดปัตตานี', 'พล.อ.สุรเชษฐ์ ชัยวงศ์', 'รัฐมนตรี', 'ช่วย', 'ว่าการ', 'กระทรวงศึกษาธิการ', 'และ', 'หัวหน้า', 'ผู้', 'แทน', 'พิเศษ', 'ของ', 'รัฐบาล', 'ใน', 'การ', 'แก้ไข', 'ปัญหา', 'จังหวัด', 'ชาย', 'แดน', 'ภาค', 'ใต้', 'พร้อม', 'ด้วย', 'นายพงศ์เทพ ไข่มุกด์', 'รอง', 'ผู้', 'ว่าราชการ', 'จังหวัดปัตตานี', 'และ', 'นายอำนาจ วิชยานุวัติ', 'ผู้', 'ตรวจ', 'ราชการ', 'กระทรวงศึกษาธิการ', 'ร่วม', 'เป็น', 'สัก', 'ขีพยาน', 'การ', 'ลง', 'นาม', 'ความ', 'ร่วมมือ', 'MoU', 'ระหว่าง', 'สำนักงานส่งเสริม', 'การศึกษา', 'นอก', 'ระบบ', 'และ', 'การ', 'ศึกษา', 'ตาม', 'อัธยาศัย', 'กศน.', 'โดย', 'นายกฤตชัย อรุณรัตน์', 'เลขาธิการ', 'กศน.', 'และ', 'สำนักงานคณะกรรมการการอาชีวศึกษา', 'สอศ.', 'โดย', 'นายศรีชัย พรประชาธรรม', 'รอง', 'เลขาธิการ', 'คณะกรรมการการอาชีวศึกษา', 'พล.อ.สุรเชษฐ์', 'กล่าว', 'ว่า', 'การ', 'ลง', 'นาม', 'ความ', 'ร่วมมือ', 'ใน', 'ครั้ง', 'นี้', 'เพื่อ', 'ให้', 'หน่วย', 'งาน', 'กศน.', 'และ', 'สอศ.', 'ใน', 'พื้นที่', 'จังหวัดปัตตานี', 'ยะลา', 'นราธิวาส', 'สตูล', 'และ', 'สงขลา', '4', 'อำเภอ', 'ได้', 'ร่วม', 'กัน', 'สนับสนุน', 'และ', 'ส่งเสริม', 'ธุรกิจ', 'SMEs', 'วิสาหกิจ', 'ชุมชน', 'OTOP', 'ใน', 'การ', 'คิดค้น', 'และ', 'ดำเนินการ', 'ให้', 'เกิด', 'ชิ้นงาน', 'ที่', 'เป็น', 'นวัตกรรม', 'ตาม', 'แนว', 'คิด', 'ของ', 'ประชาชน', 'โดย', 'สำนักงาน กศน.', 'มี', 'บทบาท', 'หน้าที่', 'ใน', 'การ', 'สรรหา', 'และ', 'ตัดสินใจ', 'ใน', 'การ', 'นำ', 'ประชาชน', 'ที่', 'มา', 'ศึกษา', 'ทั้ง', 'หลักสูตร', 'ระยะ', 'ยาว', '/', 'ระยะ', 'สั้น', 'ที่', 'ประกอบ', 'อาชีพ', 'และ', 'มี', 'แนว', 'คิด', 'จะ', 'พัฒนา', 'นวัตกรรม', 'ชิ้น', 'งาน', 'แต่', 'ไม่', 'มี', 'เครื่องมือ', 'เครื่อง', 'จักร', 'ส่ง', 'ต่อ', 'ให้', 'สอศ.', 'ใน', 'พื้นที่', 'ส่วน', 'สอศ.', 'มี', 'หน้าที่', 'ใน', 'การ', 'จัด', 'อาจารย์', 'ช่าง', 'และ', 'ร่วม', 'กับ', 'ผู้', 'ประกอบ', 'การ', 'ใน', 'การ']]\n",
            "Headline                    : ['กศน.', '-', 'อาชีวศึกษา', 'ลง', 'นาม', 'ความ', 'ร่วมมือ', 'ส่งเสริม', 'พัฒนา', 'นวัตกรรม', 'ป้อน', 'ธุรกิจ', 'ชาย', 'แดน', 'ใต้', '1', 'อำเภอ', '1', 'ชิ้น', 'งาน']\n",
            "Prediction.                 : []\n",
            "Predicted Labels            : 0 0 0 0 0 0 0 0 0 0 0 0 0 0 0 0 0 0 0 0 0 0 0 0 0 0 0 0 0 0 0 0 0 0 0 0 0 0 0 0 0 0 0 0 0 0 0 0 0 0 0 0 0 0 0 0 0 0 0 0 0 0 0 0 0 0 0 0 0 0 0 0 0 0 0 0 0 0 0 0 0 0 0 0 0 0 0 0 0 0 0 0 0 0 0 0 0 0 0 0 0 0 0 0 0 0 0 0 0 0 0 0 0 0 0 0 0 0 0 0 0 0 0 0 0 0 0 0 0 0 0 0 0 0 0 0 0 0 0 0 0 0 0 0 0 0 0 0 0 0 0 0 0 0 0 0 0 0 0 0 0 0 0 0 0 0 0 0 0 0 0 0 0 0 0 0 0 0 0 0 0 0 0 0 0 0 0 0 0 0 0 0 0 0 0 0 0 0 0 0 0 0 0 0 0 0 0 0 0 0 0 0 0 0 0 0 0 0 0 0 0 0 0 0 0 0 0 0 0 0 0 0 0 0 0 0 0 0 0 0 0 0 0 0 0 0 0 0 0 0 0 0 0 0 0 0 0 0 0 0 0 0 0 0 0 0 0 0 0 0 0 0 0 0 0 0 0 0 0 0 0 0 0 0 0 0 0 0 0 0 0 0 0 0 0 0 0 0 0 0\n",
            "Truth Labels                : 0 0 0 0 0 0 0 1 1 0 0 0 0 0 0 0 0 0 0 0 0 0 0 0 0 0 0 1 1 0 0 0 1 0 1 1 0 0 0 0 0 0 0 0 0 0 0 0 0 0 0 0 0 0 0 0 0 0 0 0 0 0 0 0 0 0 0 0 0 0 0 0 0 0 0 0 0 0 0 0 0 0 0 0 0 0 0 0 0 0 0 0 0 0 0 0 0 0 0 0 0 0 0 0 0 0 0 0 0 0 0 0 0 0 0 0 0 0 0 0 0 0 0 0 0 0 0 0 0 0 0 0 0 0 0 0 0 0 0 0 0 0 0 0 0 0 0 0 0 0 0 0 0 0 0 0 0 0 0 0 0 0 0 0 0 0 0 0 0 0 0 0 0 0 0 0 0 0 0 0 0 0 0 0 0 0 0 0 0 0 0 0 0 0 0 0 0 0 0 0 0 0 0 0 0 0 0 0 0 0 0 0 0 0 0 0 0 0 0 0 0 0 0 0 0 0 0 0 0 0 0 0 0 0 0 0 0 0 0 0 0 0 0 0 0 0 0 0 0 0 0 0 0 0 0 0 0 0 0 0 0 0 0 0 0 0 0 0 0 0 0 0 0 0 0 0 0 0 0 0 0 0 0 0 0 0 0 0 0 0 0 0 0 0 0 0 0 0 0 0\n",
            "\n",
            "Content (at most 300 words) : [['ธพว.', 'จับ', 'มือ', '4', 'พันธมิตร', 'พัฒนา', 'ผู้', 'ประกอบ', 'การ', 'SMEs', 'สร้าง', 'โอกาส', 'ยุค', 'ดิจิตอล', 'สอด', 'รับ', 'นโยบาย', 'Local', 'Economy', 'ด้วย', 'เทคโนโลยี', 'ระบบ', 'ERP', 'ก้าว', 'สู่', 'ยุค', 'ไทยแลนด์', '4', '.', '0', 'พร้อม', 'ผลักดัน', 'SMEs', 'เตรียม', 'รับมือ', 'มาตรฐาน', 'บัญชี', 'ใหม่', 'หนุน', 'ยื่น', 'กู้', 'จาก', 'สถาบัน', 'การ', 'เงิน', 'ตาม', 'เกณฑ์', 'ราย', 'ได้', 'ดีเดย์', '1', 'ต.ค.', '2561', 'สอด', 'รับ', 'นโยบาย', 'Local', 'Economy', 'ด้วย', 'เทคโนโลยี', 'ระบบ', 'ERP', 'ก้าว', 'สู่', 'ยุค', 'ไทยแลนด์', '4', '.', '0', 'พร้อม', 'ผลักดัน', 'SMEs', 'เตรียม', 'รับมือ', 'มาตรฐาน', 'บัญชี', 'ใหม่', 'หนุน', 'ยื่น', 'กู้', 'จาก', 'สถาบัน', 'การ', 'เงิน', 'ตาม', 'เกณฑ์', 'ราย', 'ได้', 'ดีเดย์', '1', 'ต.ค.', '2561', 'ใน', 'วัน', 'นี้', '19', 'กันยายน', '2560', 'ธนาคาร', 'พัฒนาวิสาหกิจขนาด', 'กลาง', 'และ', 'ขนาด', 'ย่อมแห่งประเทศไทย', 'ธพว.', 'หรือ', 'SME', 'Development', ' Bank', 'จับ', 'มือ', 'พันธมิตร', '4', 'หน่วย', 'งาน', 'ได้แก่', 'จังหวัดอุบลราชธานี', 'กับ', 'สำนักงานพัฒนาวิทยาศาสตร์และเทคโนโลยีแห่งชาติ', 'NSTDA', 'โดย', 'โปรแกรม', 'สนับสนุน', 'การ', 'พัฒนา', 'เทคโนโลยี', 'และนวัตกรรม', 'ITAP', 'และ', 'บมจ. อินเทอร์เน็ตประเทศไทย', 'ไอเน็ต', 'และ', 'บริษัท Intelligent', 'Enterprise Consulting', 'IEC', 'ร่วม', 'แถลง', 'ข่าว', 'โครงการ', '“', 'การ', 'ส่งเสริม', 'ศักยภาพ', 'ผู้', 'ประกอบ', 'การ', 'SMEs', 'ไทย', 'ให้', 'เติบโต', 'อย่าง', 'ยั่งยืน', '”', 'พร้อม', 'ทั้ง', 'ลง', 'นาม', 'บันทึก', 'ข้อ', 'ตกลง', 'ความ', 'ร่วมมือ', 'MOU', 'เพื่อ', 'ร่วม', 'กัน', 'ผลักดัน', 'ส่งเสริม', 'การ', 'พัฒนา', 'ศักยภาพ', 'ของ', 'ผู้', 'ประกอบ', 'การ', 'SMEs', 'ไทย', 'เพิ่ม', 'ขีด', 'ความ', 'สามารถ', 'ใน', 'การ', 'แข่งขัน', 'ทั้ง', 'ใน', 'การ', 'สร้าง', 'โอกาส', 'ทาง', 'การ', 'ตลาด', 'การ', 'ปรับ', 'ตัว', 'ธุรกิจ', 'สู่', 'ระบบ', 'ยุค', 'เศรษฐกิจ', 'ดิจิตอล', 'ด้วย', 'เทคโนโลยี', 'ERP', 'บน', 'ระบบ', 'Cloud', 'Internet', 'ก้าว', 'ไป', 'สู่', 'อุตสาหกรรม', 'ไทยแลนด์', '4', '.', '0', 'เพื่อ', 'ให้', 'SMEs', 'เตรียม', 'รับมือ', 'มาตรฐาน', 'บัญชี', 'ใหม่', 'หนุน', 'ยื่น', 'กู้', 'จาก', 'สถาบัน', 'การ', 'เงิน', 'ตาม', 'เกณฑ์', 'ราย', 'ได้', 'ดีเดย์', '1', 'ต.ค.', '2561', 'เสริม', 'อาวุธ', 'ให้', 'แข็งแกร่ง', 'ติด', 'ปีก', 'ก้าว', 'ไป', 'สู่', 'ตลาด', 'CLMV', 'และ', 'ยัง', 'สนับสนุน', 'ผู้', 'ประกอบ', 'การ', 'ตาม', 'แผน', 'ยุทธศาสตร์แห่ง', 'ชาติ', ' ข้อ', '1', '.', 'ยุทธศาสตร์', 'ด้าน', 'ความ', 'มั่นคง', 'ข้อ', '2', '.', 'ยุทธศาสตร์', 'ด้าน', 'การ', 'สร้าง', 'ความ', 'สามารถ', 'ใน', 'การ', 'แข่งขัน', 'และ', 'ข้อ', '4', '.', 'ยุทธศาสตร์', 'ด้าน', 'การ', 'สร้าง', 'โอกาส', 'ความ', 'เสมอภาค', 'และ', 'เท่าเทียม', 'กัน', 'ทาง', 'สังคม', 'ณ', 'โรงแรมลายทอง', 'จังหวัดอุบลราชธานี', 'ดร. สมศักดิ์ จังตระกุล', 'ผู้']]\n",
            "Headline                    : ['SME', 'Development', ' Bank', 'จับ', 'มือ', '4', 'พันธมิตร', 'พัฒนา', 'ผู้', 'ประกอบ', 'การ', 'SMEs', 'สร้าง', 'โอกาส', 'ยุค', 'ดิจิตอล']\n",
            "Prediction.                 : []\n",
            "Predicted Labels            : 0 0 0 0 0 0 0 0 0 0 0 0 0 0 0 0 0 0 0 0 0 0 0 0 0 0 0 0 0 0 0 0 0 0 0 0 0 0 0 0 0 0 0 0 0 0 0 0 0 0 0 0 0 0 0 0 0 0 0 0 0 0 0 0 0 0 0 0 0 0 0 0 0 0 0 0 0 0 0 0 0 0 0 0 0 0 0 0 0 0 0 0 0 0 0 0 0 0 0 0 0 0 0 0 0 0 0 0 0 0 0 0 0 0 0 0 0 0 0 0 0 0 0 0 0 0 0 0 0 0 0 0 0 0 0 0 0 0 0 0 0 0 0 0 0 0 0 0 0 0 0 0 0 0 0 0 0 0 0 0 0 0 0 0 0 0 0 0 0 0 0 0 0 0 0 0 0 0 0 0 0 0 0 0 0 0 0 0 0 0 0 0 0 0 0 0 0 0 0 0 0 0 0 0 0 0 0 0 0 0 0 0 0 0 0 0 0 0 0 0 0 0 0 0 0 0 0 0 0 0 0 0 0 0 0 0 0 0 0 0 0 0 0 0 0 0 0 0 0 0 0 0 0 0 0 0 0 0 0 0 0 0 0 0 0 0 0 0 0 0 0 0 0 0 0 0 0 0 0 0 0 0 0 0 0 0 0 0 0 0 0 0 0 0 0 0 0 0 0 0\n",
            "Truth Labels                : 0 1 1 0 0 0 1 1 0 0 0 0 0 0 0 0 0 0 0 0 0 0 0 0 0 0 0 0 1 1 0 0 0 1 1 0 0 0 0 0 0 0 0 0 0 0 0 0 0 0 0 0 0 0 1 1 1 1 1 1 1 1 1 1 1 0 0 0 0 0 0 0 0 1 0 0 0 0 0 0 0 0 0 0 0 0 0 0 0 0 0 0 0 1 0 0 0 0 0 0 0 0 0 0 1 1 1 1 1 1 1 1 1 0 0 0 0 0 0 0 0 0 0 0 0 0 0 0 1 1 1 1 1 1 1 1 1 0 0 0 0 0 0 0 0 0 0 0 0 0 0 0 0 0 0 0 0 0 0 0 0 0 0 0 0 0 0 0 0 0 0 0 0 0 0 1 1 1 1 0 0 0 0 1 0 0 0 0 1 0 0 0 1 0 1 0 0 0 0 0 0 0 0 0 0 0 0 0 0 0 0 0 0 0 0 0 0 0 0 0 0 0 0 0 0 0 0 0 0 0 0 0 0 0 0 0 0 0 0 0 0 0 0 0 0 0 0 0 0 0 0 0 0 0 0 0 0 0 0 0 0 0 0 0 0 0 0 0 0 0 0 0 0 0 0 0 0 0 0 0 0 0 0 0 0 0 0 0 0 0 0 0 0 0 0 0 0 0 0 0\n",
            "\n",
            "Content (at most 300 words) : [['วัน', 'นี้', '24', 'เมษายน', '2560', 'เวลา', 'ประมาณ', '11', '.', '00', 'น.', 'ที่', 'สำนักงานสลากกินแบ่ง', 'รัฐบาล', 'สนามบินน้ำ', 'พลตรีฉลอง', 'รัฐ', 'นาคอาทิตย์', 'ผู้', 'อำนวย', 'การ', 'สำนักงานสลากกินแบ่งรัฐบาล', 'เปิดเผย', 'กับ', 'ผู้', 'ส่อ', 'ข่าว', 'ว่า', 'ปัจจุบัน', 'สำนักงานสลากกินแบ่ง', 'รัฐบาล', 'พิมพ์', 'สลาก', 'กิน', 'แบ่ง', 'รัฐบาล', 'ออก', 'จำหน่าย', 'งวด', 'ละ', 'ไม่', 'เกิน', '71', 'ล้าน', 'ฉบับ', 'ใน', 'จำนวน', 'ดัง', 'กล่าว', 'นั้น', 'ร้อย', 'ละ', '40', 'จัดสรร', 'ให้', 'กับ', 'ตัว', 'แทน', 'จำหน่าย', 'ประเทศ', 'บุคคล', 'ทั่วไป', 'ทั้ง', 'ใน', 'ส่วน', 'กลาง', 'และ', 'ส่วน', 'ภูมิภาค', 'ราย', 'ละ', '5', 'เล่ม', 'และ', 'จัดสรร', 'ให้', 'กับ', 'องค์กร', 'มูลนิธิ', 'และ', 'สมาคมเพื่อคน', 'พิการ', 'อีก', 'ประมาณ', '900', 'สมาคมโดย', 'สลาก', 'ใน', 'ระบบ', 'ตัวแทน', 'จำหน่าย', 'จะ', 'ต้อง', 'มี', 'การ', 'ทำ', 'สัญญา', 'ทุก', '6', 'เดือน', 'ส่วน', 'สลาก', 'กิน', 'แบ่ง', 'รัฐบาล', 'อีก', 'ร้อย', 'ละ', '60', 'จัด', 'จำหน่าย', 'ผ่าน', 'โครงการ', 'ซื้อ', '-', 'จอง', 'ล่วงหน้า', 'สลาก', 'กิน', 'แบ่ง', 'รัฐบาล', 'ให้', 'ผู้', 'ที่', 'ลง', 'ทะเบียน', 'ทำ', 'การ', 'ซื้อ', '-', 'จอง', 'ล่วงหน้า', 'ผ่าน', 'ระบบ', 'ธุรกรรม', 'ของ', 'ธนาคารกรุงไทย', 'โดย', 'จะ', 'ทำ', 'รายการ', 'ได้', 'ราย', 'ละ', '5', 'เล่ม', 'เท่า', 'นั้น', 'และ', 'จาก', 'การ', 'ตรวจสอบ', 'ราย', 'ชื่อ', 'ตัวแทน', 'จำหน่าย', 'สลาก', 'และ', 'ราย', 'ชื่อ', 'ผู้', 'ลง', 'ทะเบียน', 'ใน', 'โครงการ', 'ซื้อ', '-', 'จอง', 'ล่วงหน้า', 'ฯ', 'ไม่', 'ปรากฎ', 'ชื่อ', 'ของ', 'รศ.ดร.สวัสดิ์ แสง', 'บางปลา', 'หรือ', 'สหกรณ์', 'ออม', 'ทรัพย์', 'จุฬาลงกรณ์มหาวิทยาลัย จำกัด', 'เป็น', 'ตัวแทน', 'จำหน่าย', 'สลาก', 'กินแบ่ง', 'รัฐบาล', 'หรือ', 'อยู่', 'ใน', 'ราย', 'ชื่อ', 'ผู้', 'ลง', 'ทะเบียน', 'ใน', 'โครงการ', 'ซื้อ', '-', 'จอง', 'ล่วงหน้า', 'ฯ', 'แต่อย่างใด', 'พลตรีฉลอง', 'รัฐฯ', 'กล่าว', 'เพิ่มเติม', 'ว่า', 'ขอ', 'เตือน', 'ประชาชน', 'อย่า', 'ได้', 'หลง', 'เชื่อ', 'การ', 'แอบ', 'อ้าง', 'ระดม', 'เงิน', 'เพื่อ', 'นำ', 'ไป', 'ซื้อ', 'สลาก', 'กิน', 'แบ่ง', 'รัฐบาล', 'หรือ', 'การ', 'แอบอ้าง', 'ว่า', 'ได้', 'รับ', 'การ', 'จัดสรร', 'โควตา', 'สลาก', 'เป็น', 'กรณี', 'พิเศษ', 'รวม', 'ทั้ง', 'การ', 'แอบ', 'อ้าง', 'ชื่อ', 'สำนักงานสลากกินแบ่งรัฐบาล', 'หลอกลวง', 'ใน', 'เรื่อง', 'ต่าง', 'ๆ', 'ไม่ว่า', 'จะ', 'เป็น', 'การ', 'หลอกลวง', 'บอก', 'ใบ้', 'เลข', 'เด็ด', 'ผ่าน', 'จดหมาย', 'หลอกลวง', 'หรือ', 'สื่อ', 'ออนไลน์', 'พร้อม', 'ทั้ง', 'ยืนยัน', 'ว่า', 'สำนักงานสลาก', 'ได้', 'มี', 'การ', 'ประกาศ', 'ย้ำ', 'เตือน', 'อย่าง', 'ต่อเนื่อง', 'เพื่อ', 'ไม่', 'ให้', 'ประชาชน', 'หลง', 'เชื่อ', 'การ', 'หลอกลวง', 'ที่', 'มี', 'หลากหลาย', 'รูปแบบ', 'ใน', 'ขณะ', 'นี้', 'และ', 'หาก', 'พี่น้องประชาชน', 'มี']]\n",
            "Headline                    : ['สำนักงานสลากกินแบ่ง', 'ยืนยัน', 'ไม่', 'มี', 'การ', 'จัดสรร', 'โควตา', 'สลาก', 'เป็น', 'พิเศษ', 'ให้', 'กับ', 'นิติบุคคล', 'ใด', 'ๆ', 'ทั้งสิ้น']\n",
            "Prediction.                 : []\n",
            "Predicted Labels            : 0 0 0 0 0 0 0 0 0 0 0 0 0 0 0 0 0 0 0 0 0 0 0 0 0 0 0 0 0 0 0 0 0 0 0 0 0 0 0 0 0 0 0 0 0 0 0 0 0 0 0 0 0 0 0 0 0 0 0 0 0 0 0 0 0 0 0 0 0 0 0 0 0 0 0 0 0 0 0 0 0 0 0 0 0 0 0 0 0 0 0 0 0 0 0 0 0 0 0 0 0 0 0 0 0 0 0 0 0 0 0 0 0 0 0 0 0 0 0 0 0 0 0 0 0 0 0 0 0 0 0 0 0 0 0 0 0 0 0 0 0 0 0 0 0 0 0 0 0 0 0 0 0 0 0 0 0 0 0 0 0 0 0 0 0 0 0 0 0 0 0 0 0 0 0 0 0 0 0 0 0 0 0 0 0 0 0 0 0 0 0 0 0 0 0 0 0 0 0 0 0 0 0 0 0 0 0 0 0 0 0 0 0 0 0 0 0 0 0 0 0 0 0 0 0 0 0 0 0 0 0 0 0 0 0 0 0 0 0 0 0 0 0 0 0 0 0 0 0 0 0 0 0 0 0 0 0 0 0 0 0 0 0 0 0 0 0 0 0 0 0 0 0 0 0 0 0 0 0 0 0 0 0 0 0 0 0 0 0 0 0 0 0 0 0 0 0 0 0 0\n",
            "Truth Labels                : 0 0 0 0 0 0 0 0 0 0 0 0 0 0 0 0 0 0 0 0 0 0 0 0 0 0 0 0 0 0 0 0 0 0 0 0 0 0 0 0 0 0 0 0 0 0 0 0 0 0 0 0 0 0 0 0 0 0 0 0 0 0 0 0 0 0 0 0 0 0 0 0 0 0 0 0 0 0 0 0 0 0 0 0 0 0 0 0 0 0 0 0 0 0 0 0 0 0 0 0 0 0 0 0 0 0 0 0 0 0 0 0 0 0 0 0 0 0 0 0 0 0 0 0 0 0 0 0 0 0 0 0 0 0 0 0 0 0 0 0 0 0 0 0 0 0 0 0 0 0 0 0 0 0 0 0 0 0 0 0 0 0 0 0 0 0 0 0 0 0 0 0 0 0 0 0 0 0 0 0 0 0 0 0 0 0 0 0 0 0 0 0 0 0 0 0 0 0 0 0 0 0 0 0 0 0 0 0 0 0 0 0 0 0 0 0 0 0 0 0 0 0 0 0 0 0 0 0 0 0 0 0 0 0 0 0 0 0 0 0 0 0 0 0 0 0 0 0 0 0 0 0 0 0 0 0 0 0 0 0 0 0 0 0 0 0 0 0 0 0 0 0 0 0 0 0 0 0 0 0 0 0 0 0 0 0 0 0 0 0 0 0 0 0 0 0 0 0 0 0\n",
            "\n",
            "Content (at most 300 words) : [['ระหว่าง', 'วัน', 'ที่', '25', '–', '27', 'ต.ค.', '2560', 'พร้อม', 'เปิด', 'เดิน', 'รถ', 'ถึง', 'ตี', '2', 'วัน', 'ที่', '26', 'ต.ค.', '2560', 'รถ', 'ไฟฟ้า', 'แอร์พอร์ต', ' เรล ลิงก์', 'เตรียม', 'ให้', 'บริการ', 'ฟรี', 'ใน', 'ช่วง', 'พระราชพิธี', 'ถวาย', 'พระเพลิง', 'พระบรมศพ', 'พระบาทสมเด็จพระปรมินทรมหาภูมิพลอดุลยเดช', 'รัชกาล', 'ที่', '9', 'ระหว่าง', 'วัน', 'ที่', '25', '–', '27', 'ตุลาคม', '2560', 'พร้อม', 'เปิด', 'ให้', 'บริการ', 'เดิน', 'รถ', 'ถึง', 'ตี', '2', 'ใน', 'วัน', 'ที่', '26', 'ตุลาคม', '2560', 'นายวิสุทธิ์ จันมณี', 'กรรมการ', 'และ', 'รักษาการ', 'กรรมการ', 'ผู้', 'อำนวย', 'การ', 'ใหญ่', 'บริษัท', ' รถ', 'ไฟฟ้า', 'ร.ฟ.ท. จำกัด', 'หรือ', 'ผู้', 'ให้', 'บริการ', 'รถ', 'ไฟฟ้าแอร์พอร์ต', ' เรล ลิงก์', 'เปิดเผย', 'ว่า', 'เพื่อ', 'เป็น', 'การ', 'อำนวย', 'ความ', 'สะดวก', 'ใน', 'การ', 'เดินทาง', 'ให้', 'แก่', 'ประชาชน', 'ช่วง', 'พระราชพิธี', 'ถวาย', 'พระเพลิง', 'พระบรมศพ', 'พระบาทสมเด็จพระปรมินทรมหาภูมิพลอดุลยเดช', 'รัชกาล', 'ที่', '9', 'บริษัท', 'ฯ', 'จึง', 'เปิด', 'ให้', 'บริการ', 'ฟรี', 'แก่', 'ผู้', 'โดยสาร', 'ระหว่าง', 'วัน', 'ที่', '25', '–', '27', 'ตุลาคม', '2560', 'โดย', 'ใน', 'วัน', 'ที่', '26', 'ตุลาคม', '2560', 'ซึ่ง', 'เป็น', 'วัน', 'พระราชพิธี', 'ถวาย', 'พระเพลิง', 'พระบรมศพ', 'พระบาทสมเด็จพระปรมินทรมหาภูมิพลอดุลยเดช', 'รัชกาล', 'ที่', '9', 'จะ', 'เปิด', 'ให้', 'บริการ', 'ถึง', 'เวลา', '02', '.', '00', 'น.', 'โดย', 'เตรียม', 'ขบวน', 'รถ', 'ไฟฟ้า', 'ไว้', 'ให้', 'บริการ', 'แก่', 'ผู้', 'โดยสาร', 'เต็ม', 'อัตรา', 'และ', 'จะ', 'มี', 'รถ', 'ให้', 'บริการ', 'ทุก', '10', 'นาที', 'ตลอด', 'ทั้ง', '3', 'วัน', 'สำหรับ', 'ใน', 'กรณี', 'ที่', 'มี', 'ผู้', 'โดยสาร', 'ใช้', 'บริการ', 'หนาแน่น', 'บริษัท', 'ได้', 'เตรียม', 'ขบวน', 'รถ', 'ไฟฟ้า', 'เสริม', 'ไว้', 'เพื่อ', 'ให้', 'สามารถ', 'รองรับ', 'การ', 'ใช้', 'บริการ', 'ของ', 'ประชาชน', 'ได้', 'หาก', 'มี', 'ข้อ', 'สงสัย', 'สามารถ', 'ติดต่อ', 'สอบถาม', 'ข้อมูล', 'และ', 'เงื่อนไข', 'เพิ่มเติม', 'ได้', 'ที่', 'หมายเลข', 'Call', 'Center', '1690', 'หรือ', 'www.srtet.co.th', 'www.facebook.com/AirportRailLink', 'และ', 'Twitter', 'Airport', 'Rail', 'Link']]\n",
            "Headline                    : ['แอร์พอร์ต', ' เรล ลิงก์', 'ให้', 'บริการ', 'ฟรี', '3', 'วัน', 'ช่วง', 'งาน', 'พระราชพิธี', 'ถวาย', 'พระเพลิง', 'พระบรมศพ', 'พระบาทสมเด็จพระปรมินทรมหาภูมิพลอดุลยเดช', 'รัชกาล', 'ที่', '9']\n",
            "Prediction.                 : []\n",
            "Predicted Labels            : 0 0 0 0 0 0 0 0 0 0 0 0 0 0 0 0 0 0 0 0 0 0 0 0 0 0 0 0 0 0 0 0 0 0 0 0 0 0 0 0 0 0 0 0 0 0 0 0 0 0 0 0 0 0 0 0 0 0 0 0 0 0 0 0 0 0 0 0 0 0 0 0 0 0 0 0 0 0 0 0 0 0 0 0 0 0 0 0 0 0 0 0 0 0 0 0 0 0 0 0 0 0 0 0 0 0 0 0 0 0 0 0 0 0 0 0 0 0 0 0 0 0 0 0 0 0 0 0 0 0 0 0 0 0 0 0 0 0 0 0 0 0 0 0 0 0 0 0 0 0 0 0 0 0 0 0 0 0 0 0 0 0 0 0 0 0 0 0 0 0 0 0 0 0 0 0 0 0 0 0 0 0 0 0 0 0 0 0 0 0 0 0 0 0 0 0 0 0 0 0 0 0 0 0 0 0 0 0 0 0 0 0 0 0 0 0 0 0 0 0 0 0 0 0 0 0 0 0 0 0 0 0 0 0 0 0 0 0 0 0 0 0 0 0 0 0 0 0 0 0 0 0 0 0 0 0 0 0 0 0 0 0 0 0 0 0 0 0 0 0 0 0 0 0 0 0 0 0 0 0 0 0 0 0 0 0 0 0 0 0 0 0 0 0 0 0 0 0 0 0\n",
            "Truth Labels                : 0 0 0 0 0 0 0 0 0 0 0 0 0 0 0 0 0 0 0 0 0 0 0 0 0 0 0 0 0 0 1 0 0 0 0 1 1 1 0 0 0 0 0 0 0 0 0 0 0 0 0 0 0 0 0 0 0 0 0 0 0 0 0 0 0 0 0 0 0 0 0 0 0 0 0 0 0 0 0 0 0 0 0 0 0 0 0 0 0 0 0 0 0 0 0 0 0 0 0 0 0 0 0 0 0 0 0 0 0 0 0 0 0 0 0 0 0 0 0 0 0 0 0 0 0 0 0 0 0 0 0 0 0 0 0 0 0 0 0 0 0 0 0 0 0 0 0 0 0 0 0 0 0 0 0 0 0 0 0 0 0 0 0 0 0 0 0 0 0 0 0 0 0 0 0 0 0 0 0 0 0 0 0 0 0 0 0 0 1 0 0 0 0 0 0 0 0 1 0 0 0 0 0 0 0 0 0 0 0 0 0 0 0 0 0 0 0 0 0 0 0 0 0 0 0 0 0 0 0 0 0 0 0 0 0 0 0 0 0 0 0 0 0 0 0 0 0 0 0 0 0 0 0 0 0 0 0 0 0 0 0 0 0 0 0 0 0 0 0 0 0 0 0 0 0 0 0 0 0 0 0 0 0 0 0 0 0 0 0 0 0 0 0 0 0 0 0 0 0 0\n",
            "\n",
            "Content (at most 300 words) : [['ม.ล.ปริยดา ดิศกุล', 'เลขานุการ', 'รัฐมนตรี', 'ว่าการ', 'กระทรวงศึกษาธิการ', 'เป็น', 'ประธาน', 'เปิด', 'การ', 'ประชุม', 'ทาง', 'ไกล', 'สร้าง', 'ความ', 'เข้าใจ', 'งาน', 'การ', 'ศึกษา', 'เอกชน', 'ด้วย', 'ระบบ', 'Video', 'Conference', 'เลขานุการ', 'รมว.', 'ศธ.', 'ย้ำ', 'ให้', 'โรง', 'เรียน', 'เอกชน', 'ปรับ', 'ตัว', 'รองรับ', 'อาชีพ', '4', '.', '0', 'สอน', 'วิชา', 'ใหม่', 'ที่', 'จำเป็น', 'เช่น', 'Coding', 'STEM', 'ภาษา', 'อังกฤษ', 'แต่', 'ต้อง', 'ไม่', 'ลืม', 'สอน', 'ด้าน', 'คุณธรรม', 'จริยธรรม', 'เพื่อ', 'สร้าง', 'เด็ก', 'ดี', 'และ', 'เก่ง', 'โดย', 'ใช้', 'ความ', 'ดี', 'นำ', 'เพื่อ', 'นำ', 'พา', 'ประเทศ', 'เจริญรุ่งเรือง', 'ต่อ', 'ไป', 'วัน', 'นี้', '8', 'มิถุนายน', '2561', 'ม.ล.ปริยดา ดิศกุล', 'เลขานุการ', 'รัฐมนตรี', 'ว่าการ', 'กระทรวงศึกษาธิการ', 'เป็น', 'ประธาน', 'เปิด', 'การ', 'ประชุม', 'ทาง', 'ไกล', 'สร้าง', 'ความ', 'เข้าใจ', 'งาน', 'การ', 'ศึกษา', 'เอกชน', 'ด้วย', 'ระบบ', 'Video', 'Conference', 'จาก', 'ศูนย์ปฏิบัติการ', 'สำนักงานคณะกรรมการการศึกษาขั้นพื้นฐาน', 'ไป', 'ยัง', 'สำนักงานเขตพื้นที่การ', 'ศึกษา', 'ประถมศึกษา', 'เขต', '1', 'ทุก', 'จังหวัด', 'โดย', 'มี', 'ผู้', 'เข้า', 'ร่วม', 'ประชุม', 'อาทิ', 'นายชลำ', 'อรรถธรรม', 'รอง', 'เลขาธิการ', 'คณะกรรมการส่งเสริม', 'การ', 'ศึกษา', 'เอกชน', 'ดร.จิระพันธ์ พิมพ์พันธุ์', 'นายก', 'สมาคมสภาการศึกษา', 'เอกชนแห่งประเทศไทย', 'ดร.ศุภเสฏฐ์ คณากูล', 'นายก', 'สมาคม', 'คณะกรรมการ', 'ประสาน', 'และ', 'ส่งเสริม', 'การ', 'ศึกษา', 'เอกชน', 'ศึกษาธิการจังหวัด', 'ผู้', 'อำนวย', 'การ', 'กลุ่ม', 'ส่งเสริม', 'การ', 'ศึกษา', 'เอกชน', 'จังหวัด', 'คณะ', 'กรรมการ', 'ประสาน', 'และ', 'ส่งเสริม', 'การ', 'ศึกษา', 'เอกชน', 'จังหวัด', 'ผู้', 'อำนวย', 'การ', 'สำนักงานการศึกษา', 'เอกชน', 'จังหวัด', '/', 'อำเภอ', 'ใน', 'เขต', 'พัฒนา', 'พิเศษ', 'เฉพาะ', 'กิจ', 'จังหวัด', 'ชาย', 'แดน', 'ภาค', 'ใต้', 'ม.ล.ปริยดา', 'กล่าว', 'ตอน', 'หนึ่ง', 'ว่า', 'จาก', 'การ', 'ที่', 'ตน', 'เคย', 'บริหาร', 'งาน', 'โรง', 'เรียน', 'เอกชน', 'ทำ', 'ให้', 'เข้าใจ', 'ปัญหา', 'อุปสรรค', 'ที่', 'โรง', 'เรียน', 'เอกชน', 'ประสบ', 'ซึ่ง', 'ขณะ', 'นี้', 'สำนักงานคณะกรรมการส่งเสริม', 'การ', 'ศึกษาเอกชน', 'สช.', 'กำลัง', 'ปรับปรุง', 'แก้ไข', 'กฎระเบียบ', 'ต่างๆ', 'ให้', 'เอื้ออำนวย', 'ต่อ', 'การ', 'บริหาร', 'งาน', 'ของ', 'โรง', 'เรียน', 'เอกชน', 'มาก', 'ขึ้น', 'เนื่อง', 'จาก', 'โรง', 'เรียน', 'เอกชน', 'สามารถ', 'แบ่งเบา', 'ภาระ', 'การ', 'จัด', 'การ', 'ศึกษา', 'ให้', 'กับ', 'รัฐบาล', 'ได้', 'เป็น', 'อย่าง', 'ดี', 'อีก', 'ทั้ง', 'ยัง', 'มี', 'โรง', 'เรียน', 'ที่', 'หลากหลาย', 'รูปแบบ', 'สามารถ', 'เป็น', 'ทาง', 'เลือก', 'ให้', 'กับ', 'ผู้', 'ปกครอง', 'ได้', 'อีก', 'ทาง', 'หนึ่ง', 'ด้วย', 'อย่าง', 'ไร', 'ก็ตาม', 'หาก', 'โรง', 'เรียน', 'เอกชน', 'ยังคง', 'ประสบ', 'ปัญหา', 'หรือ', 'ต้องการ', 'ให้', 'แก้ไข', 'ระเบียบ', 'เพื่อ', 'ให้', 'การ', 'บริหารจัดการ', 'เกิด', 'คุณภาพ', 'ต่อ', 'การ', 'ศึกษา', 'สามารถ', 'รวบรวม', 'ข้อ', 'เสนอ', 'มา']]\n",
            "Headline                    : ['สช.จัด', 'Video', 'Conference', 'เพื่อ', 'สร้าง', 'ความ', 'เข้าใจ', 'งาน', 'การ', 'ศึกษา', 'เอกชน']\n",
            "Prediction.                 : ['Video', 'Conference', 'เลขานุการ', 'รมว.', 'ศธ.', 'ย้ำ']\n",
            "Predicted Labels            : 0 0 0 0 0 0 0 0 0 0 0 0 0 0 0 0 0 0 0 0 0 1 1 1 1 1 1 0 0 0 0 0 0 0 0 0 0 0 0 0 0 0 0 0 0 0 0 0 0 0 0 0 0 0 0 0 0 0 0 0 0 0 0 0 0 0 0 0 0 0 0 0 0 0 0 0 0 0 0 0 0 0 0 0 0 0 0 0 0 0 0 0 0 0 0 0 0 0 0 0 0 0 0 0 0 0 0 0 0 0 0 0 0 0 0 0 0 0 0 0 0 0 0 0 0 0 0 0 0 0 0 0 0 0 0 0 0 0 0 0 0 0 0 0 0 0 0 0 0 0 0 0 0 0 0 0 0 0 0 0 0 0 0 0 0 0 0 0 0 0 0 0 0 0 0 0 0 0 0 0 0 0 0 0 0 0 0 0 0 0 0 0 0 0 0 0 0 0 0 0 0 0 0 0 0 0 0 0 0 0 0 0 0 0 0 0 0 0 0 0 0 0 0 0 0 0 0 0 0 0 0 0 0 0 0 0 0 0 0 0 0 0 0 0 0 0 0 0 0 0 0 0 0 0 0 0 0 0 0 0 0 0 0 0 0 0 0 0 0 0 0 0 0 0 0 0 0 0 0 0 0 0 0 0 0 0 0 0 0 0 0 0 0 0 0 0 0 0 0 0\n",
            "Truth Labels                : 0 0 0 0 0 0 0 0 0 0 0 0 0 0 0 1 1 0 0 0 1 0 0 0 0 0 0 0 0 0 0 0 0 1 1 1 1 1 0 0 0 0 1 1 1 1 0 1 0 0 0 0 1 0 0 0 0 0 0 0 0 0 0 0 0 0 0 0 0 0 0 0 0 0 0 0 0 0 0 0 0 0 0 0 0 0 0 0 0 0 0 0 0 0 0 0 0 0 0 0 0 0 0 0 0 0 0 0 0 0 0 0 0 0 0 0 0 0 0 0 0 0 0 0 0 0 0 0 0 0 0 0 0 0 0 0 0 0 0 0 0 0 0 0 0 0 0 0 0 0 0 0 0 0 0 0 0 0 0 0 0 0 0 0 0 0 0 0 0 0 0 0 0 0 0 0 0 0 0 0 0 0 0 0 0 0 0 0 0 0 0 0 0 0 0 0 0 0 0 0 0 0 0 0 0 0 0 0 0 0 0 0 0 0 0 0 0 0 0 0 0 0 0 0 0 0 0 0 0 0 0 0 0 0 0 0 0 0 0 0 0 0 0 0 0 0 0 0 0 0 0 0 0 0 0 0 0 0 0 0 0 0 0 0 0 0 0 0 0 0 0 0 0 0 0 0 0 0 0 0 0 0 0 0 0 0 0 0 0 0 0 0 0 0 0 0 0 0 0 0\n",
            "\n"
          ],
          "name": "stdout"
        }
      ]
    },
    {
      "cell_type": "code",
      "metadata": {
        "id": "63V3kWfLdpx0",
        "colab_type": "code",
        "colab": {
          "base_uri": "https://localhost:8080/",
          "height": 173
        },
        "outputId": "a984b0df-059c-45e3-866d-f4aadfa9f3ae"
      },
      "source": [
        "eval_y_true = reshaped_y_test.reshape(-1, maxlen)\n",
        "eval_y_pred = y_pred.reshape(-1, 300)\n",
        "\n",
        "true_positive = 0\n",
        "false_positive = 0\n",
        "false_negative = 0\n",
        "true_negative = 0\n",
        "\n",
        "for i in tqdm.tqdm(range(eval_y_true.shape[0])):\n",
        "  for j in range(eval_y_true.shape[1]):\n",
        "    if eval_y_true[i][j] == 1 and eval_y_pred[i][j] == 1:\n",
        "      true_positive += 1\n",
        "    elif eval_y_true[i][j] == 0 and eval_y_pred[i][j] == 1:\n",
        "      false_positive += 1\n",
        "    elif eval_y_true[i][j] == 1 and eval_y_pred[i][j] == 0:\n",
        "      false_negative += 1\n",
        "    elif eval_y_true[i][j] == 0 and eval_y_pred[i][j] == 0:\n",
        "      true_negative += 1\n",
        "\n",
        "print()\n",
        "print('True positive : ', true_positive)\n",
        "print('False positive : ', false_positive)\n",
        "print('False negative : ', false_negative)\n",
        "print('True negative : ', true_negative)\n",
        "\n",
        "recall = true_positive / (true_positive + false_negative)\n",
        "precision = true_positive / (true_positive + false_negative)\n",
        "f1_score = 2 * true_positive / (2 * true_positive + false_positive + false_negative)\n",
        "print('Recall    : ', recall)\n",
        "print('Precision : ', precision)\n",
        "print('F1 score  : ', f1_score)"
      ],
      "execution_count": 55,
      "outputs": [
        {
          "output_type": "stream",
          "text": [
            "100%|██████████| 2619/2619 [00:06<00:00, 381.66it/s]"
          ],
          "name": "stderr"
        },
        {
          "output_type": "stream",
          "text": [
            "\n",
            "True positive :  1247\n",
            "False positive :  833\n",
            "False negative :  98637\n",
            "True negative :  684983\n",
            "Recall    :  0.012484481999118977\n",
            "Precision :  0.012484481999118977\n",
            "F1 score  :  0.024459613196814563\n"
          ],
          "name": "stdout"
        },
        {
          "output_type": "stream",
          "text": [
            "\n"
          ],
          "name": "stderr"
        }
      ]
    },
    {
      "cell_type": "code",
      "metadata": {
        "id": "4Tkx8xtzP1EQ",
        "colab_type": "code",
        "colab": {
          "base_uri": "https://localhost:8080/",
          "height": 201
        },
        "outputId": "9d544818-f18c-4d13-802d-85a359351dd5"
      },
      "source": [
        "# x = np.array([[1,0,0], [0,1,0]])\n",
        "# count_zero = np.count_nonzero(x == 0)\n",
        "# count_one = np.count_nonzero(x == 1)"
      ],
      "execution_count": 49,
      "outputs": [
        {
          "output_type": "error",
          "ename": "AttributeError",
          "evalue": "ignored",
          "traceback": [
            "\u001b[0;31m---------------------------------------------------------------------------\u001b[0m",
            "\u001b[0;31mAttributeError\u001b[0m                            Traceback (most recent call last)",
            "\u001b[0;32m<ipython-input-49-00637c4fbd9e>\u001b[0m in \u001b[0;36m<module>\u001b[0;34m()\u001b[0m\n\u001b[1;32m      1\u001b[0m \u001b[0mx\u001b[0m \u001b[0;34m=\u001b[0m \u001b[0mnp\u001b[0m\u001b[0;34m.\u001b[0m\u001b[0marray\u001b[0m\u001b[0;34m(\u001b[0m\u001b[0;34m[\u001b[0m\u001b[0;34m[\u001b[0m\u001b[0;36m1\u001b[0m\u001b[0;34m,\u001b[0m\u001b[0;36m0\u001b[0m\u001b[0;34m,\u001b[0m\u001b[0;36m0\u001b[0m\u001b[0;34m]\u001b[0m\u001b[0;34m,\u001b[0m \u001b[0;34m[\u001b[0m\u001b[0;36m0\u001b[0m\u001b[0;34m,\u001b[0m\u001b[0;36m1\u001b[0m\u001b[0;34m,\u001b[0m\u001b[0;36m0\u001b[0m\u001b[0;34m]\u001b[0m\u001b[0;34m]\u001b[0m\u001b[0;34m)\u001b[0m\u001b[0;34m\u001b[0m\u001b[0;34m\u001b[0m\u001b[0m\n\u001b[0;32m----> 2\u001b[0;31m \u001b[0mcount\u001b[0m \u001b[0;34m=\u001b[0m \u001b[0mnp\u001b[0m\u001b[0;34m.\u001b[0m\u001b[0mcount_zero\u001b[0m\u001b[0;34m(\u001b[0m\u001b[0mx\u001b[0m\u001b[0;34m)\u001b[0m\u001b[0;34m\u001b[0m\u001b[0;34m\u001b[0m\u001b[0m\n\u001b[0m\u001b[1;32m      3\u001b[0m \u001b[0mcount\u001b[0m\u001b[0;34m\u001b[0m\u001b[0;34m\u001b[0m\u001b[0m\n",
            "\u001b[0;31mAttributeError\u001b[0m: module 'numpy' has no attribute 'count_zero'"
          ]
        }
      ]
    },
    {
      "cell_type": "code",
      "metadata": {
        "id": "8Dd1SqyFP1mk",
        "colab_type": "code",
        "colab": {}
      },
      "source": [
        ""
      ],
      "execution_count": 0,
      "outputs": []
    },
    {
      "cell_type": "code",
      "metadata": {
        "id": "b_ENEar9P1lJ",
        "colab_type": "code",
        "colab": {}
      },
      "source": [
        ""
      ],
      "execution_count": 0,
      "outputs": []
    },
    {
      "cell_type": "code",
      "metadata": {
        "id": "-gm9zbb9P1jG",
        "colab_type": "code",
        "colab": {}
      },
      "source": [
        ""
      ],
      "execution_count": 0,
      "outputs": []
    },
    {
      "cell_type": "code",
      "metadata": {
        "id": "9ecwevsLP1ex",
        "colab_type": "code",
        "colab": {}
      },
      "source": [
        ""
      ],
      "execution_count": 0,
      "outputs": []
    },
    {
      "cell_type": "code",
      "metadata": {
        "id": "Shc7aLKsP1cT",
        "colab_type": "code",
        "colab": {}
      },
      "source": [
        ""
      ],
      "execution_count": 0,
      "outputs": []
    },
    {
      "cell_type": "code",
      "metadata": {
        "id": "tTUJOXpFP1aH",
        "colab_type": "code",
        "colab": {}
      },
      "source": [
        ""
      ],
      "execution_count": 0,
      "outputs": []
    },
    {
      "cell_type": "code",
      "metadata": {
        "id": "CDH4hII3P1W9",
        "colab_type": "code",
        "colab": {}
      },
      "source": [
        ""
      ],
      "execution_count": 0,
      "outputs": []
    },
    {
      "cell_type": "code",
      "metadata": {
        "id": "uIwaFF95P1VR",
        "colab_type": "code",
        "colab": {}
      },
      "source": [
        ""
      ],
      "execution_count": 0,
      "outputs": []
    },
    {
      "cell_type": "code",
      "metadata": {
        "id": "pMUpjKZWP1TA",
        "colab_type": "code",
        "colab": {}
      },
      "source": [
        ""
      ],
      "execution_count": 0,
      "outputs": []
    },
    {
      "cell_type": "code",
      "metadata": {
        "id": "Ira4hg6eP1PO",
        "colab_type": "code",
        "colab": {}
      },
      "source": [
        ""
      ],
      "execution_count": 0,
      "outputs": []
    },
    {
      "cell_type": "code",
      "metadata": {
        "id": "XNflZgwSP1M5",
        "colab_type": "code",
        "colab": {}
      },
      "source": [
        ""
      ],
      "execution_count": 0,
      "outputs": []
    },
    {
      "cell_type": "code",
      "metadata": {
        "id": "Rr8SRdauP1Kg",
        "colab_type": "code",
        "colab": {}
      },
      "source": [
        ""
      ],
      "execution_count": 0,
      "outputs": []
    },
    {
      "cell_type": "code",
      "metadata": {
        "id": "GSqf4K8RP1BM",
        "colab_type": "code",
        "colab": {}
      },
      "source": [
        ""
      ],
      "execution_count": 0,
      "outputs": []
    },
    {
      "cell_type": "code",
      "metadata": {
        "id": "n-a_iFVBP0_B",
        "colab_type": "code",
        "colab": {}
      },
      "source": [
        ""
      ],
      "execution_count": 0,
      "outputs": []
    },
    {
      "cell_type": "code",
      "metadata": {
        "id": "K_ZM35bjknB-",
        "colab_type": "code",
        "outputId": "e1487ea0-b8e2-4b45-c6c2-eaa0a8236fec",
        "colab": {
          "base_uri": "https://localhost:8080/",
          "height": 610
        }
      },
      "source": [
        "def extractive_text(y_pred, chunk_text):\n",
        "  ls = []\n",
        "  for i in tqdm.tqdm(range(len(chunk_text))):\n",
        "    tmp = []\n",
        "    for j in range(len(chunk_text[i][0])):\n",
        "      if y_pred[i][j] == 1:\n",
        "        tmp.append(chunk_text[i][0][j])\n",
        "    ls.append(tmp)\n",
        "  return ls\n",
        "\n",
        "np_test_df = test_df['first_300_words_content'].to_numpy()\n",
        "extraction = extractive_text(y_pred, np_test_df)\n",
        "\n",
        "for i in range(5):\n",
        "  print('Content (at most 300 words) :', test_df.iloc[i]['first_300_words_content'])\n",
        "  print('Headline                    :', test_df.iloc[i]['headline'])\n",
        "  print('Prediction.                 :', extraction[i])\n",
        "  print('Labels                      :', *y_pred[i])\n",
        "  print()"
      ],
      "execution_count": 0,
      "outputs": [
        {
          "output_type": "stream",
          "text": [
            "100%|██████████| 2271/2271 [00:00<00:00, 3135.41it/s]\n"
          ],
          "name": "stderr"
        },
        {
          "output_type": "stream",
          "text": [
            "Content (at most 300 words) : [['นางอภิรดี ตันตราภรณ์', 'รัฐมนตรี', 'ว่าการ', 'กระทรวงพาณิชย์', 'ใน', 'ฐานะ', 'ประธาน', 'คณะ', 'กรรมการ', 'พิจารณา', 'การ', 'ทุ่ม', 'ตลาด', 'และ', 'การ', 'อุดหนุน', 'ทตอ.', 'ได้', 'เปิดเผย', 'ว่า', 'เมื่อ', 'ต้น', 'เดือน', 'มีนาคม', '2560', 'ที่', 'ผ่าน', 'มา', 'ได้', 'มี', 'การ', 'ประชุม', 'คณะ', 'กรรมการ ทตอ.', 'ซึ่ง', 'มี', 'มติ', 'ดัง', 'นี้', '1', '.', 'ให้', 'ขยาย', 'ระยะ', 'เวลา', 'การ', 'ใช้', 'มาตรการ', 'ชั่วคราว', 'ตอบโต้', 'การ', 'ทุ่มตลาด', 'ออก', 'ไป', 'อีก', '2', 'เดือน', 'ของ', 'สินค้า', '2', 'รายการ', 'ดัง', 'ต่อ', 'ไป', 'นี้', '1', '.', '1', 'สินค้า', 'หลอด', 'และ', 'ท่อ', 'ทำ', 'ด้วย', 'เหล็ก', 'หรือ', 'เหล็กกล้า', 'ที่', 'มี', 'แหล่ง', 'กำเนิด', 'จาก', 'สาธารณรัฐประชาชนจีน', 'และ', 'สาธารณรัฐเกาหลี', '1', '.', '2', 'สินค้า', 'เหล็ก', 'แผ่น', 'รีดร้อน', 'ชนิด', 'เป็นม้วน', 'และ', 'ไม่', 'เป็นม้วน', 'ที่', 'มี', 'แหล่ง', 'กำเนิด', 'จาก', 'สหพันธ์สาธารณรัฐบราซิล', 'สาธารณรัฐอิสลาม', 'อิหร่าน', 'และ', 'สาธารณรัฐตุรกี', '2', '.', 'ให้', 'เรียก', 'เก็บ', 'อากร', 'ตอบโต้', 'การ', 'ทุ่ม', 'ตลาด', 'สินค้า', 'เหล็ก', 'แผ่น', 'รีด', 'เย็น', 'ชุบ', 'หรือ', 'เคลือบ', 'ด้วย', 'โลหะ', 'เจือ', 'ของ', 'อะลูมิเนียม', 'และ', 'สังกะสี', 'แบบ', 'จุ่มร้อน', 'GL', 'ที่', 'มี', 'แหล่ง', 'กำเนิด', 'จาก', 'สาธารณรัฐ', 'สังคม', 'นิยม', 'เวียดนาม', 'เป็น', 'ระยะ', 'เวลา', '5', 'ปี', 'ใน', 'อัตรา', 'ร้อย', 'ละ', '6', '.', '20', '–', '40', '.', '49', 'ของ', 'ราคา', 'ซี', 'ไอ', 'เอฟ', ' 3', '.', 'ให้', 'เรียก', 'เก็บ', 'อากร', 'ตอบโต้', 'การ', 'ทุ่ม', 'ตลาด', 'สินค้า', 'เหล็ก', 'แผ่น', 'รีดเย็น', 'เคลือบ', 'ด้วย', 'สังกะสี', 'แบบ', 'จุ่มร้อน', 'แล้ว', 'ทาสี', 'และ', 'เหล็ก', 'แผ่น', 'รีด', 'เย็น', 'ชุบ', 'หรือ', 'เคลือบ', 'ด้วย', 'โลหะ', 'เจือ', 'ของ', 'อะลูมิเนียม', 'และ', 'สังกะสี', 'แบบ', 'จุ่มร้อน', 'แล้ว', 'ทาสี', 'PPGI', '/', 'PPGL', 'ที่', 'มี', 'แหล่ง', 'กำเนิด', 'จาก', 'สาธารณรัฐ', 'สังคม', 'นิยม', 'เวียดนาม', 'เป็น', 'ระยะ', 'เวลา', '5', 'ปี', 'ใน', 'อัตรา', 'ร้อย', 'ละ', '4', '.', '30', '–', '60', '.', '26', 'ของ', 'ราคา', 'ซี ไอ เอฟ', 'นอก', 'จาก', 'นี้', 'ยัง', 'เห็น', 'ชอบ', 'ร่าง', 'ผล', 'การ', 'ทบทวน', 'การ', 'เรียก', 'เก็บ', 'อากร', 'ตอบโต้', 'การ', 'ทุ่มตลาด', 'ใน', 'อัตรา', 'ร้อย', 'ละ', '0', 'ของ', 'ราคา', 'ซี ไอ', 'เอฟ', 'สำหรับ', 'สินค้า', 'เหล็ก', 'ลวดคาร์บอนต่ำ', 'ฯ', 'จาก', 'จีน', 'ภาย', 'ใต้', 'พิกัด', '7227', '.', '9000', '.', '090', 'ซึ่ง', 'จะ', 'ได้', 'มี', 'การ', 'ดำเนิน', 'การ', 'จัด', 'รับฟัง', 'ความ', 'คิดเห็น', 'Public', 'Hearing', 'ต่อ', 'ไป', 'รัฐมนตรี', 'ว่าการ', 'กระทรวงพาณิชย์', 'กล่าว', 'ด้วย', 'ว่า', 'การ', 'พิจารณา']]\n",
            "Headline                    : ['มติ', 'การ', 'ประชุม', 'คณะ', 'กรรมการ', 'พิจารณา', 'การ', 'ทุ่ม', 'ตลาด', 'และ', 'การ', 'อุดหนุน']\n",
            "Prediction.                 : ['การ', 'ทุ่ม', 'ตลาด', 'และ', 'การ', 'อุดหนุน', 'การ']\n",
            "Labels                      : [0] [0] [0] [0] [0] [0] [0] [0] [0] [0] [1] [1] [1] [1] [1] [1] [0] [0] [0] [0] [0] [0] [0] [0] [0] [0] [0] [0] [0] [0] [0] [0] [0] [0] [0] [0] [0] [0] [0] [0] [0] [0] [0] [0] [0] [0] [0] [0] [0] [0] [1] [0] [0] [0] [0] [0] [0] [0] [0] [0] [0] [0] [0] [0] [0] [0] [0] [0] [0] [0] [0] [0] [0] [0] [0] [0] [0] [0] [0] [0] [0] [0] [0] [0] [0] [0] [0] [0] [0] [0] [0] [0] [0] [0] [0] [0] [0] [0] [0] [0] [0] [0] [0] [0] [0] [0] [0] [0] [0] [0] [0] [0] [0] [0] [0] [0] [0] [0] [0] [0] [0] [0] [0] [0] [0] [0] [0] [0] [0] [0] [0] [0] [0] [0] [0] [0] [0] [0] [0] [0] [0] [0] [0] [0] [0] [0] [0] [0] [0] [0] [0] [0] [0] [0] [0] [0] [0] [0] [0] [0] [0] [0] [0] [0] [0] [0] [0] [0] [0] [0] [0] [0] [0] [0] [0] [0] [0] [0] [0] [0] [0] [0] [0] [0] [0] [0] [0] [0] [0] [0] [0] [0] [0] [0] [0] [0] [0] [0] [0] [0] [0] [0] [0] [0] [0] [0] [0] [0] [0] [0] [0] [0] [0] [0] [0] [0] [0] [0] [0] [0] [0] [0] [0] [0] [0] [0] [0] [0] [0] [0] [0] [0] [0] [0] [0] [0] [0] [0] [0] [0] [0] [0] [0] [0] [0] [0] [0] [0] [0] [0] [0] [0] [0] [0] [0] [0] [0] [0] [0] [0] [0] [0] [0] [0] [0] [0] [0] [0] [0] [0] [0] [0] [0] [0] [0] [0] [0] [0] [0] [0] [0] [0] [0] [0] [0] [0] [0] [0] [0] [0] [0] [0] [0] [0] [0] [0] [0] [0] [0] [0]\n",
            "\n",
            "Content (at most 300 words) : [['เมื่อ', 'วัน', 'ที่', '2', 'มีนาคม', '2560', '/', 'กระทรวงวิทยาศาสตร์และ', 'เทคโนโลยี', 'โดย', 'ศูนย์', 'ความ', 'เป็น', 'เลิศ', 'ด้าน', 'ชีววิทยาศาสตร์', 'องค์การมหาชน', 'TCELS', 'ร่วม', 'กับ', 'บริษัท บัวหลวงเวนเจอร์ส จำกัด', 'ร่วม', 'ผนึก', 'กำลัง', 'ขับเคลื่อน', 'เส้นทาง', 'ธุรกิจ', 'Life', 'Sciences', 'Startups', 'สู่', 'มิติ', 'ใหม่', 'แห่ง', 'วงการ', 'ธุรกิจ', 'จัด', 'กิจกรรม', '“', 'TCELS', 'Life', 'Science', '&', 'MedTech ', 'Acceleration', 'Program', '”', 'ภาย', 'ใต้', 'โครงการ', 'Thailand', 'Startup', 'for', 'Life', 'Sciences', '2017', 'โดย', 'มี', 'ดร.อรรชกา สีบุญเรือง', 'รัฐมนตรี', 'ว่าการ', 'กระทรวงวิทยาศาสตร์และ', 'เทคโนโลยี', 'เป็น', 'ประธาน', 'ณ', 'ห้อง', 'วี', 'ฟังก์ชัน', '1', 'และ', '2', 'ชั้น', '12', 'โรง', 'แรม', 'วี', 'กรุงเทพฯ', 'เอ็มแกลลอรี่', ' บาย', 'โซฟิเทล', 'สำหรับ', 'งาน', 'นี้', 'ได้', 'เชิญชวน', 'ผู้', 'ประกอบ', 'การ', 'รุ่น', 'ใหม่', 'บริษัท Startup', 'นัก', 'วิจัย', 'นัก', 'ศึกษา', 'ที่', 'ทา', 'งาน', 'ด้าน', 'เครื่องมือ', 'แพทย์', 'Medical', 'Devices', 'เครื่อง', 'สำอาง', 'Cosmetics', 'หุ่น', 'ยนต์', 'ทาง', 'การ', 'แพทย์', 'Medical', 'Robotics', 'และ', 'ทุก', 'ด้าน', 'ที่', 'เกี่ยวข้อง', 'กับ', 'สุขภาพ', 'Health', 'and', 'Wellness', 'เข้า', 'ร่วม', 'สมัคร', 'โครงการ', 'Thailand', 'Startup', 'for', 'Life', 'Sciences', '2017', 'เพื่อ', 'คัดเลือก', 'เข้า', 'อบรม', 'ใน', 'หลักสูตร', 'เร่ง', 'การ', 'เติบโต', 'หรือ', 'ที่', 'เรียก', 'ว่า', 'Life', 'Sciences', 'and', 'Med', 'Tech', 'Acceleration', 'Program', 'โดย', 'การ', 'อบรม', 'จะ', 'ควบคู่', 'ไป', 'กับ', 'การ', 'ให้', 'คำ', 'ปรึกษาเพื่อ', 'พัฒนา', 'ผลิตภัณฑ์', 'ต้น', 'แบบ', 'สู่', 'แผน', 'ธุรกิจ', 'ที่', 'ดึงดูด', 'นัก', 'ลง', 'ทุน', 'พร้อม', 'กัน', 'นี้', 'ยัง', 'มี', 'การ', 'สนับสนุน', 'ทุน', 'เร่ง', 'การ', 'เติบโต', 'และ', 'ผลักดัน', 'ให้', 'เกิด', 'การ', 'ลง', 'ทุน', 'ของ', 'เวนเจอร์', 'ส', 'ระ', 'ดับ', 'แนว', 'หน้า', 'อีก', 'ด้วย', 'ดร.อรรชกา สีบุญเรือง', 'รัฐมนตรี', 'ว่าการ', 'กระทรวงวิทยาศาสตร์และ', 'เทคโนโลยี', 'กล่าว', 'ว่า', 'จาก', 'นโยบาย', 'ของ', 'คณะ', 'รัฐมนตรี', 'โดย', 'ฯพณฯ', 'ท่าน', 'นายก', 'รัฐมนตรี', 'พลเอกประยุทธ จันทร์โอชา', 'ที่', 'เล็ง', 'เห็น', 'ถึง', 'ความ', 'สำคัญ', 'ใน', 'การ', 'พัฒนา', 'ประเทศ', 'ทั้ง', 'ทาง', 'ด้าน', 'เศรษฐกิจ', 'และ', 'สังคม', 'ให้', 'ประเทศ', 'มั่นคง', 'ประชาชน', 'มั่งคั่ง', 'อย่าง', 'ยั่งยืน', 'ด้วย', 'การ', 'เร่ง', 'สร้าง', 'ขีด', 'ความ', 'สามารถ', 'ด้าน', 'วิทยาศาสตร์ เทคโนโลยี', 'วิจัย', 'และ', 'นวัตกรรม', 'ของ', 'ประเทศไทย', 'ซึ่ง', 'ได้', 'กำหนด', 'เป้าหมาย', 'ไว้', '3', 'ด้าน', 'คือ', 'เพิ่ม', 'สัดส่วน', 'ค่า', 'ใช้จ่าย', 'การ', 'ลง', 'ทุน', 'เพื่อ', 'การ', 'วิจัย', 'และ', 'พัฒนา', 'สู่', 'ร้อย', 'ละ', '1', '.', '5', 'ของ', 'GDP', 'และ', 'มี', 'สัดส่วน', 'การ', 'ลง', 'ทุน', 'วิจัย', 'และ', 'พัฒนา', 'ของ', 'ภาค', 'เอกชน', 'ต่อ']]\n",
            "Headline                    : ['ก.วิทย์', 'ฯ', 'โดย', 'TCELS', 'จัด', 'แถลง', 'TCELS', 'Life', 'Science', '&', 'MedTech ', 'Acceleration', 'Program']\n",
            "Prediction.                 : []\n",
            "Labels                      : [0] [0] [0] [0] [0] [0] [0] [0] [0] [0] [0] [0] [0] [0] [0] [0] [0] [0] [0] [0] [0] [0] [0] [0] [0] [0] [0] [0] [0] [0] [0] [0] [0] [0] [0] [0] [0] [0] [0] [0] [0] [0] [0] [0] [0] [0] [0] [0] [0] [0] [0] [0] [0] [0] [0] [0] [0] [0] [0] [0] [0] [0] [0] [0] [0] [0] [0] [0] [0] [0] [0] [0] [0] [0] [0] [0] [0] [0] [0] [0] [0] [0] [0] [0] [0] [0] [0] [0] [0] [0] [0] [0] [0] [0] [0] [0] [0] [0] [0] [0] [0] [0] [0] [0] [0] [0] [0] [0] [0] [0] [0] [0] [0] [0] [0] [0] [0] [0] [0] [0] [0] [0] [0] [0] [0] [0] [0] [0] [0] [0] [0] [0] [0] [0] [0] [0] [0] [0] [0] [0] [0] [0] [0] [0] [0] [0] [0] [0] [0] [0] [0] [0] [0] [0] [0] [0] [0] [0] [0] [0] [0] [0] [0] [0] [0] [0] [0] [0] [0] [0] [0] [0] [0] [0] [0] [0] [0] [0] [0] [0] [0] [0] [0] [0] [0] [0] [0] [0] [0] [0] [0] [0] [0] [0] [0] [0] [0] [0] [0] [0] [0] [0] [0] [0] [0] [0] [0] [0] [0] [0] [0] [0] [0] [0] [0] [0] [0] [0] [0] [0] [0] [0] [0] [0] [0] [0] [0] [0] [0] [0] [0] [0] [0] [0] [0] [0] [0] [0] [0] [0] [0] [0] [0] [0] [0] [0] [0] [0] [0] [0] [0] [0] [0] [0] [0] [0] [0] [0] [0] [0] [0] [0] [0] [0] [0] [0] [0] [0] [0] [0] [0] [0] [0] [0] [0] [0] [0] [0] [0] [0] [0] [0] [0] [0] [0] [0] [0] [0] [0] [0] [0] [0] [0] [0] [0] [0] [0] [0] [0] [0]\n",
            "\n",
            "Content (at most 300 words) : [['กระทรวงทรัพยากรธรรมชาติ', 'และสิ่ง', 'แวดล้อม', 'ลง', 'พื้นที่', 'จ.ลำพูน', 'เพื่อ', 'รับฟัง', 'ข้อมูล', 'จาก', 'ภาค', 'ส่วน', 'ต่าง', 'ๆ', 'ใน', 'พื้นที่', 'เมื่อ', 'เร็ว', 'ๆ', 'นี้', 'พลเอก สุรศักดิ์ กาญจนรัตน์', 'รัฐมนตรี', 'ว่าการ', 'กระทรวงทรัพยากรธรรมชาติ', 'และสิ่ง', 'แวดล้อม', 'พร้อม', 'ด้วย', 'นายธัญญา เนติธรรมกุล', 'อธิบดี', 'กรมอุทยานแห่งชาติ สัตว์ป่า และ', 'พันธุ์พืช', 'และ', 'ผู้', 'บริหาร', 'ระดับ', 'สูง', 'ลง', 'พื้นที่', 'บ้านแม่สะแงะ', 'อำเภอแม่ทา', 'จังหวัดลำพูน', 'ใน', 'เขต', 'รักษาพันธุ์สัตว์ป่าดอยผาเมือง', 'เพื่อ', 'รับฟัง', 'ข้อมูล', 'จาก', 'ภาค', 'ส่วน', 'ต่างๆ', 'ใน', 'พื้นที่', 'พร้อม', 'ฟัง', 'บท', 'สรุป', 'จาก', 'เวที', 'ถอด', 'บท', 'เรียน', 'จาก', 'เวที', 'ประชาชน', 'รวม', 'ทั้ง', 'พบปะ', 'เด็ก', 'นัก', 'เรียน', 'และ', 'ประชาชน']]\n",
            "Headline                    : ['รมว.', 'ทส.', 'ลง', 'พื้นที่', 'จังหวัดลำพูน', 'และ', 'เชียงใหม่', 'เพื่อ', 'รับฟัง', 'ข้อมูล', 'จาก', 'ภาค', 'ส่วน', 'ต่าง', 'ๆ', 'ใน', 'พื้นที่']\n",
            "Prediction.                 : ['จ.ลำพูน', 'เพื่อ']\n",
            "Labels                      : [0] [0] [0] [0] [0] [1] [1] [0] [0] [0] [0] [0] [0] [0] [0] [0] [0] [0] [0] [0] [0] [0] [0] [0] [0] [0] [0] [0] [0] [0] [0] [0] [0] [0] [0] [0] [0] [0] [0] [0] [0] [0] [0] [0] [0] [0] [0] [0] [0] [0] [0] [0] [0] [0] [0] [0] [0] [0] [0] [0] [0] [0] [0] [0] [0] [0] [0] [0] [0] [0] [0] [0] [0] [0] [0] [0] [0] [0] [0] [0] [0] [0] [0] [0] [0] [0] [0] [0] [0] [0] [0] [0] [0] [0] [0] [0] [0] [0] [0] [0] [0] [0] [0] [0] [0] [0] [0] [0] [0] [0] [0] [0] [0] [0] [0] [0] [0] [0] [0] [0] [0] [0] [0] [0] [0] [0] [0] [0] [0] [0] [0] [0] [0] [0] [0] [0] [0] [0] [0] [0] [0] [0] [0] [0] [0] [0] [0] [0] [0] [0] [0] [0] [0] [0] [0] [0] [0] [0] [0] [0] [0] [0] [0] [0] [0] [0] [0] [0] [0] [0] [0] [0] [0] [0] [0] [0] [0] [0] [0] [0] [0] [0] [0] [0] [0] [0] [0] [0] [0] [0] [0] [0] [0] [0] [0] [0] [0] [0] [0] [0] [0] [0] [0] [0] [0] [0] [0] [0] [0] [0] [0] [0] [0] [0] [0] [0] [0] [0] [0] [0] [0] [0] [0] [0] [0] [0] [0] [0] [0] [0] [0] [0] [0] [0] [0] [0] [0] [0] [0] [0] [0] [0] [0] [0] [0] [0] [0] [0] [0] [0] [0] [0] [0] [0] [0] [0] [0] [0] [0] [0] [0] [0] [0] [0] [0] [0] [0] [0] [0] [0] [0] [0] [0] [0] [0] [0] [0] [0] [0] [0] [0] [0] [0] [0] [0] [0] [0] [0] [0] [0] [0] [0] [0] [0] [0] [0] [0] [0] [0] [0]\n",
            "\n",
            "Content (at most 300 words) : [['นายชาญเชาวน์ ไชยานุกิจ', 'ปลัด', 'กระทรวงยุติธรรม', 'เป็น', 'ประธาน', 'การ', 'ประชุม', 'ขับเคลื่อน', 'เชิง', 'นโยบาย', 'เรือน', 'จำสุขภาวะ', 'ครั้ง', 'ที่', '2', 'เรื่อง', '“', 'สาน', 'พลัง', 'ชุมชน', 'เพื่อ', 'คืน', 'คน', 'ดี', 'สู่', 'สังคม', 'แต่', 'กฎหมาย', 'กลับ', 'ห้าม', 'คน', 'พ้น', 'โทษ', 'ทำ', 'งาน', '”', 'เมื่อ', 'วัน', 'พุธ', 'ที่', '25', 'มกราคม', '2560', 'เวลา', '09', '.', '30', 'น.', 'นายชาญเชาวน์ ไชยานุกิจ', 'ปลัด', 'กระทรวงยุติธรรม', 'เป็น', 'ประธาน', 'การ', 'ประชุม', 'ขับเคลื่อน', 'เชิง', 'นโยบาย', 'เรือน', 'จำสุขภาวะ', 'ครั้ง', 'ที่', '2', 'เรื่อง', '“', 'สาน', 'พลัง', 'ชุมชน', 'เพื่อ', 'คืน', 'คน', 'ดี', 'สู่', 'สังคม', 'แต่', 'กฎหมาย', 'กลับ', 'ห้าม', 'คน', 'พ้น', 'โทษ', 'ทำ', 'งาน', '”', 'เพื่อ', 'พัฒนา', 'เครือข่ายพันธมิตร', 'และ', 'ภาค', 'ส่วน', 'ที่', 'เกี่ยวข้อง', 'ให้', 'เข้า', 'มา', 'มี', 'ส่วน', 'ร่วม', 'ใน', 'งาน', 'ราชทัณฑ์', 'เพื่อ', 'ลดอคติ', 'ทาง', 'สังคม', 'และ', 'ให้', 'ผู้', 'ต้อง', 'ขัง', '/', 'ผู้', 'พ้น', 'โทษ', 'ได้', 'รับ', 'การ', 'ยอม', 'รับ', 'ใน', 'ฐานะ', 'พลเมือง', 'ที่', 'มี', 'บทบาท', 'หน้าที่', 'รับผิดชอบ', 'ใน', 'สังคม', 'จัด', 'โดย', 'สมาคม', 'นักวิจัย', 'ประชากร', 'และ', 'สังคม', 'สถาบันวิจัยประชากรและสังคม', 'มหาวิทยาลัยมหิดล', 'สภา', 'วิชาชีพ', 'สังคมสงเคราะห์', 'และ', 'กรมราชทัณฑ์', 'กระทรวงยุติธรรม', 'สนับสนุน', 'โดย', 'สำนักงานกองทุนสนับสนุนการ', 'เสริมสร้างสุขภาพ', 'สสส.', 'โดย', 'มี', 'นายชาติชาย สุทธิกลม', 'กรรมการ', 'สิทธิมนุษยชนแห่งชาติ', 'และ', 'รอง', 'ศาสตราจารย์ ดร.กฤตยา อาชวนิจกุล', 'นายก', 'สมาคมนักวิจัย', 'ประชากรและ', 'สังคม', 'พร้อม', 'ด้วย', 'ผู้', 'แทน', 'จาก', 'ภาค', 'ส่วน', 'ต่างๆ', 'ที่', 'เกี่ยวข้อง', 'เข้า', 'ร่วม', 'ฯ', 'ณ', 'ห้อง', 'ประชุม', '709', 'สำนักงานคณะกรรมการสิทธิมนุษยชนแห่งชาติ', 'อาคาร', 'รัฐประศาสนภักดี', 'ศูนย์ราชการ', 'เฉลิม', 'พระเกียรติฯ']]\n",
            "Headline                    : ['ปลัด', 'กระทรวงยุติธรรม', 'ประชุม', 'ขับเคลื่อน', 'เชิง', 'นโยบาย', 'เรือน', 'จำสุขภาวะ', 'พัฒนา', 'เครือข่ายพันธมิตร', 'และ', 'ภาค', 'ส่วน', 'ที่', 'เกี่ยวข้อง', '“', 'คืน', 'คน', 'ดี', 'สู่', 'สังคม', '”']\n",
            "Prediction.                 : ['ประชุม', 'ขับเคลื่อน', 'สาน', 'พลัง', 'ชุมชน', 'เพื่อ', 'คืน', 'คน', 'ดี', 'สู่', 'การ', 'พลัง', 'ชุมชน', 'เพื่อ', 'คืน', 'คน']\n",
            "Labels                      : [0] [0] [0] [0] [0] [0] [1] [1] [0] [0] [0] [0] [0] [0] [0] [0] [0] [1] [1] [1] [1] [1] [1] [1] [1] [0] [0] [0] [0] [0] [0] [0] [0] [0] [0] [0] [0] [0] [0] [0] [0] [0] [0] [0] [0] [0] [0] [0] [0] [0] [0] [0] [0] [1] [0] [0] [0] [0] [0] [0] [0] [0] [0] [0] [0] [0] [1] [1] [1] [1] [1] [0] [0] [0] [0] [0] [0] [0] [0] [0] [0] [0] [0] [0] [0] [0] [0] [0] [0] [0] [0] [0] [0] [0] [0] [0] [0] [0] [0] [0] [0] [0] [0] [0] [0] [0] [0] [0] [0] [0] [0] [0] [0] [0] [0] [0] [0] [0] [0] [0] [0] [0] [0] [0] [0] [0] [0] [0] [0] [0] [0] [0] [0] [0] [0] [0] [0] [0] [0] [0] [0] [0] [0] [0] [0] [0] [0] [0] [0] [0] [0] [0] [0] [0] [0] [0] [0] [0] [0] [0] [0] [0] [0] [0] [0] [0] [0] [0] [0] [0] [0] [0] [0] [0] [0] [0] [0] [0] [0] [0] [0] [0] [0] [0] [0] [0] [0] [0] [0] [0] [0] [0] [0] [0] [0] [0] [0] [0] [0] [0] [0] [0] [0] [0] [0] [0] [0] [0] [0] [0] [0] [0] [0] [0] [0] [0] [0] [0] [0] [0] [0] [0] [0] [0] [0] [0] [0] [0] [0] [0] [0] [0] [0] [0] [0] [0] [0] [0] [0] [0] [0] [0] [0] [0] [0] [0] [0] [0] [0] [0] [0] [0] [0] [0] [0] [0] [0] [0] [0] [0] [0] [0] [0] [0] [0] [0] [0] [0] [0] [0] [0] [0] [0] [0] [0] [0] [0] [0] [0] [0] [0] [0] [0] [0] [0] [0] [0] [0] [0] [0] [0] [0] [0] [0] [0] [0] [0] [0] [0] [0]\n",
            "\n",
            "Content (at most 300 words) : [['ตาม', 'ที่', 'ปรากฏ', 'ข่าว', 'ทาง', 'หน้า', 'นสพ.', 'ใน', 'ประเด็น', 'กรมธนารักษ์', 'เตรียม', 'การ', 'ผลิต', 'เหรียญ', 'กษาปณ์', 'หมุนเวียน', 'ชุด', 'ใหม่', 'ชนิด', 'ราคา', '10', 'บาท', '5', 'บาท', '2', 'บาท', '1', 'บาท', '50', 'สตางค์', '25', 'สตางค์', '10', 'สตางค์', '5', 'สตางค์', 'และ', '1', 'สตางค์', 'ออก', 'ใช้', 'หมุนเวียน', 'ใน', 'ระบบ', 'เศรษฐกิจ', 'ใน', 'ปี', 'งบ', 'ประมาณ', '2561', 'วัน', 'นี้', '16', 'ตุลาคม', '1560', 'ณ', 'กรมธนารักษ์', 'นายพชร อนันตศิลป์', 'อธิบดี', 'กรมธนารักษ์', 'กล่าว', 'ว่า', 'ตาม', 'ที่', 'ปรากฏ', 'ข่าว', 'ทาง', 'หน้า', 'หนังสือพิมพ์', 'ใน', 'ประเด็น', 'กรมธนารักษ์', 'เตรียม', 'การ', 'ผลิต', 'เหรียญ', 'กษาปณ์', 'หมุนเวียน', 'ชุด', 'ใหม่', 'ชนิด', 'ราคา', '10', 'บาท', '5', 'บาท', '2', 'บาท', '1', 'บาท', '50', 'สตางค์', '25', 'สตางค์', '10', 'สตางค์', '5', 'สตางค์', 'และ', '1', 'สตางค์', 'ออก', 'ใช้', 'หมุนเวียน', 'ใน', 'ระบบ', 'เศรษฐกิจ', 'ใน', 'ปี', 'งบ', 'ประมาณ', '2561', 'รวม', 'ทั้ง', 'การ', 'จัดทำ', 'เหรียญ', 'ที่', 'ระลึก', 'พระราชพิธี', 'บรมราชาภิเษก', 'ชนิด', 'ทองคำ', 'พ่น', 'ทราย', 'ชนิด', 'เงิน', 'รม', 'ดำ', 'พ่น', 'ทราย', 'และ', 'ชนิด', 'ทองแดง', 'รม', 'ดำ', 'พ่น', 'ทราย', 'นั้น', 'นายพชร', 'กล่าว', 'ต่อ', 'ว่า', 'กรมธนารักษ์', 'ได้', 'รับ', 'พระราชทาน', 'พระราชานุญาต', 'ให้', 'จัดทำ', 'เหรียญ', 'หมุนเวียน', 'ชุด', 'ใหม่', 'เพื่อ', 'ใช้', 'หมุนเวียน', 'ใน', 'ระบบ', 'เศรษฐกิจ', 'ของ', 'ประเทศ', 'ทุก', 'ชนิด', 'ราคา', 'แล้ว', 'ขณะ', 'นี้', 'อยู่', 'ใน', 'ระหว่าง', 'นำ', 'เสนอ', 'คณะ', 'รัฐมนตรี', 'เพื่อ', 'ออก', 'กฎ', 'กระทรวง', 'กำหนด', 'ลักษณะ', 'ของ', 'เหรียญ', 'กษาปณ์', 'เพื่อ', 'กำหนด', 'ชนิด', 'ราคา', 'โลหะ', 'อัตรา', 'เนื้อ', 'โลหะ', 'น้ำหนัก', 'ขนาด', 'ลวดลาย', 'รวม', 'ทั้ง', 'อัตรา', 'เผื่อ', 'เหลือ', 'เผื่อ', 'ขาด', 'ของ', 'เหรียญ', 'กษาปณ์', 'หมุนเวียน', 'แต่ละ', 'ชนิด', 'ราคา', 'เพื่อ', 'ให้', 'เป็น', 'ไป', 'ตาม', 'พระราชบัญญัติ', 'เงินตรา', 'พ.ศ.', '2501', 'ข้อ', '10', 'สำหรับ', 'การ', 'จัดทำ', 'เหรียญ', 'ที่', 'ระลึก', 'พระราชพิธี', 'บรมราชาภิเษก', 'นั้น', 'ความ', 'คืบหน้า', 'ขณะ', 'นี้', 'เป็น', 'เพียง', 'กรมธนารักษ์', 'ได้', 'รับ', 'พระราชทาน', 'พระราชวินิจฉัย', 'การ', 'ออก', 'แบบ', 'พระบรมฉายาลักษณ์', 'ที่', 'จะ', 'ประทับ', 'บน', 'เหรียญ', 'เท่า', 'นั้น', 'ยัง', 'มิ', 'ได้', 'มี', 'การ', 'กำหนด', 'ประเภท', 'ของ', 'เหรียญ', 'รวม', 'ทั้ง', 'ขนาด', 'น้ำหนัก', 'ของ', 'เหรียญ', 'ที่', 'จะ', 'จัดทำ', 'แต่อย่างใด', 'ซึ่ง', 'การ', 'กำหนด', 'รายละเอียด', 'ดัง', 'กล่าว', 'จะ', 'ต้อง', 'ผ่าน', 'การ', 'พิจารณา', 'กลั่นกรอง', 'โดย', 'คณะ', 'กรรมการ', 'วาง', 'แผน', 'เหรียญ', 'กษาปณ์', 'และ', 'คณะกรรรมการ', 'ที่ปรึกษา', 'เหรียญ', 'กษาปณ์', 'ที่', 'ระลึก', 'หรือ', 'เหรียญ', 'ที่', 'ระลึก']]\n",
            "Headline                    : ['ชี้แจง', 'ข่าว', 'กรณี', 'กรมธนารักษ์', 'ผลิต', 'เหรียญ', 'กษาปณ์', 'หมุนเวียน', 'ชุด', 'ใหม่', 'และ', 'เหรียญ', 'ที่', 'ระลึก', 'พระราชพิธี', 'บรมราชาภิเษก']\n",
            "Prediction.                 : ['การ', 'กษาปณ์', 'หมุนเวียน', 'หมุนเวียน', 'ใน', 'ระบบ', 'เศรษฐกิจ', 'ใน', 'ปี', 'งบ', 'ประมาณ', '2561', 'วัน', 'นี้', '16', 'ตุลาคม', '1560', 'กรมธนารักษ์', 'ทาง', 'เตรียม', 'การ', 'ผลิต', 'เหรียญ', 'กษาปณ์', 'หมุนเวียน', 'ชุด', 'ใหม่', 'ชนิด', 'ราคา', '10', 'บาท', '5', 'ใช้', 'หมุนเวียน', 'ใน', 'ระบบ', 'เศรษฐกิจ', 'ใน', 'ปี', 'งบ', 'ประมาณ', '2561', 'รวม', 'ทั้ง', 'การ', 'จัดทำ', 'เหรียญ', 'ที่', 'ระลึก', 'พระราชพิธี', 'บรมราชาภิเษก', 'ชนิด', 'ทองคำ', 'พ่น', 'ทราย', 'ชนิด', 'เงิน', 'กษาปณ์', 'เพื่อ', 'กษาปณ์']\n",
            "Labels                      : [0] [0] [0] [0] [0] [0] [0] [0] [0] [0] [0] [1] [0] [0] [1] [1] [0] [0] [0] [0] [0] [0] [0] [0] [0] [0] [0] [0] [0] [0] [0] [0] [0] [0] [0] [0] [0] [0] [0] [0] [0] [1] [1] [1] [1] [1] [1] [1] [1] [1] [1] [1] [1] [1] [1] [0] [0] [0] [0] [1] [0] [0] [0] [0] [0] [0] [1] [0] [0] [0] [0] [0] [1] [1] [1] [1] [1] [1] [1] [1] [1] [1] [1] [1] [1] [0] [0] [0] [0] [0] [0] [0] [0] [0] [0] [0] [0] [0] [0] [0] [0] [0] [1] [1] [1] [1] [1] [1] [1] [1] [1] [1] [1] [1] [1] [1] [1] [1] [1] [1] [1] [1] [1] [1] [1] [1] [1] [0] [0] [0] [0] [0] [0] [0] [0] [0] [0] [0] [0] [0] [0] [0] [0] [0] [0] [0] [0] [0] [0] [0] [0] [0] [0] [0] [0] [0] [0] [0] [0] [0] [0] [0] [0] [0] [0] [0] [0] [0] [0] [0] [0] [0] [0] [0] [0] [0] [0] [0] [0] [0] [0] [0] [0] [1] [1] [0] [0] [0] [0] [0] [0] [0] [0] [0] [0] [0] [0] [0] [0] [0] [0] [0] [0] [0] [0] [0] [0] [0] [0] [0] [0] [0] [0] [0] [0] [0] [0] [0] [0] [0] [0] [0] [0] [0] [0] [0] [0] [0] [0] [0] [0] [0] [0] [0] [0] [0] [0] [0] [0] [0] [0] [0] [0] [0] [0] [0] [0] [0] [0] [0] [0] [0] [0] [0] [0] [0] [0] [0] [0] [0] [0] [0] [0] [0] [0] [0] [0] [0] [0] [0] [0] [0] [0] [0] [0] [0] [0] [0] [0] [0] [0] [0] [0] [0] [0] [0] [0] [0] [1] [0] [0] [0] [0] [0] [0] [0] [0] [0] [0] [0]\n",
            "\n"
          ],
          "name": "stdout"
        }
      ]
    },
    {
      "cell_type": "code",
      "metadata": {
        "id": "kxGNSQfSnaCl",
        "colab_type": "code",
        "outputId": "0224a216-ee11-48ab-afaf-5feaff1c81ef",
        "colab": {
          "base_uri": "https://localhost:8080/",
          "height": 33
        }
      },
      "source": [
        "len(np_test_df[0][0])"
      ],
      "execution_count": 0,
      "outputs": [
        {
          "output_type": "execute_result",
          "data": {
            "text/plain": [
              "300"
            ]
          },
          "metadata": {
            "tags": []
          },
          "execution_count": 52
        }
      ]
    },
    {
      "cell_type": "code",
      "metadata": {
        "id": "jX4YtglV1C8r",
        "colab_type": "code",
        "colab": {}
      },
      "source": [
        "ls = [1,2,3,4]\n",
        "res = []\n",
        "res.append(ls)\n",
        "res.append(ls)\n",
        "res = np.array(res)\n",
        "res.shape"
      ],
      "execution_count": 0,
      "outputs": []
    },
    {
      "cell_type": "code",
      "metadata": {
        "id": "M11h7Ghm1C4m",
        "colab_type": "code",
        "colab": {}
      },
      "source": [
        "ls = []\n",
        "for i in y_train:\n",
        "  print(np.array(i))\n",
        "  ls.append(np.array(i))\n",
        "  break\n",
        "ls = np.array(ls)\n",
        "ls"
      ],
      "execution_count": 0,
      "outputs": []
    },
    {
      "cell_type": "code",
      "metadata": {
        "id": "i5pF0Kwas9t4",
        "colab_type": "code",
        "colab": {}
      },
      "source": [
        "# def define_models(n_input=maxlen,n_output=maxlen_output,n_units=32) :\n",
        "#   #define training encoder model\n",
        "#   encoder_inputs = Input(shape=(maxlen,))\n",
        "#   encoder_embedding = Embedding(vocab_size, n_units)(encoder_inputs)\n",
        "#   encoder  = LSTM(n_units, return_state=True)\n",
        "#   encoder_outputs, state_h, state_c = encoder(encoder_embedding)\n",
        "#   encoder_states = [state_h, state_c]\n",
        "\n",
        "#   # define training decoder model\n",
        "#   decoder_inputs = Input(shape=(maxlen_output,vocab_size ))\n",
        "#   # decoder_embedding = Embedding(vocab_size, n_units)\n",
        "#   # decoder_inputs2 = decoder_embedding(decoder_inputs)\n",
        "#   decoder_lstm = LSTM(n_units, return_state=True, return_sequences=True)\n",
        "#   decoder_outputs, _, _ = decoder_lstm(decoder_inputs, initial_state=encoder_states)\n",
        "\n",
        "#   # dense_layer = Dense(VOCAB_SIZE, activation='softmax')\n",
        "#   decoder_dense  = Dense(vocab_size, activation='softmax')\n",
        "#   decoder_outputs = decoder_dense(decoder_outputs)\n",
        "#   model = Model([encoder_inputs, decoder_inputs], decoder_outputs)\n",
        "\n",
        "#   #define inferencing encoder model\n",
        "#   encoder_model = Model(encoder_inputs,encoder_states)\n",
        "#   #define inference decoder\n",
        "#   decoder_state_input_h = Input(shape=(n_units,))\n",
        "#   decoder_state_input_c = Input(shape=(n_units,))\n",
        "#   decoder_states_inputs = [decoder_state_input_h, decoder_state_input_c]\n",
        "#   decoder_outputs, state_h, state_c = decoder_lstm(decoder_inputs, initial_state=decoder_states_inputs)\n",
        "#   decoder_states = [state_h, state_c]\n",
        "#   decoder_outputs = decoder_dense(decoder_outputs)\n",
        "#   decoder_model = Model([decoder_inputs] + decoder_states_inputs, [decoder_outputs] + decoder_states)\n",
        "#   # return all models\n",
        "#   return model,encoder_model,decoder_model"
      ],
      "execution_count": 0,
      "outputs": []
    },
    {
      "cell_type": "code",
      "metadata": {
        "id": "kFEPyNL-tEA6",
        "colab_type": "code",
        "colab": {}
      },
      "source": [
        "# configure problem\n",
        "# n_features = 50 + 1\n",
        "n_steps_in = maxlen\n",
        "n_steps_out = maxlen_output\n",
        "train, infenc, infdec = define_models(n_units=64)\n",
        "# train.compile(optimizer='adam', loss='categorical_crossentropy', metrics=['accuracy'])\n",
        "train.compile(loss='categorical_crossentropy', optimizer=\"rmsprop\", metrics=['accuracy'])\n",
        "train.summary()"
      ],
      "execution_count": 0,
      "outputs": []
    },
    {
      "cell_type": "code",
      "metadata": {
        "id": "NRpssltmtFyU",
        "colab_type": "code",
        "colab": {}
      },
      "source": [
        "train.fit_generator(generator=training_generator,\n",
        "                    validation_data=validation_generator,\n",
        "                    epochs=300, callbacks=callback_list)"
      ],
      "execution_count": 0,
      "outputs": []
    }
  ]
}