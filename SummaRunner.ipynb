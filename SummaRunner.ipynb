{
  "nbformat": 4,
  "nbformat_minor": 0,
  "metadata": {
    "colab": {
      "name": "SummaRunner.ipynb",
      "provenance": [],
      "collapsed_sections": [],
      "machine_shape": "hm"
    },
    "kernelspec": {
      "name": "python3",
      "display_name": "Python 3"
    },
    "accelerator": "GPU",
    "widgets": {
      "application/vnd.jupyter.widget-state+json": {
        "3bccbf5aad174377a9708cbf7c56d984": {
          "model_module": "@jupyter-widgets/controls",
          "model_name": "HBoxModel",
          "state": {
            "_view_name": "HBoxView",
            "_dom_classes": [],
            "_model_name": "HBoxModel",
            "_view_module": "@jupyter-widgets/controls",
            "_model_module_version": "1.5.0",
            "_view_count": null,
            "_view_module_version": "1.5.0",
            "box_style": "",
            "layout": "IPY_MODEL_1eb4944e4e6640a7b2439b11c6f1f144",
            "_model_module": "@jupyter-widgets/controls",
            "children": [
              "IPY_MODEL_42b02bc884084d6384bb9ba0e31dffe6",
              "IPY_MODEL_a980e8bb9cb449cb868f575feebb3b36"
            ]
          }
        },
        "1eb4944e4e6640a7b2439b11c6f1f144": {
          "model_module": "@jupyter-widgets/base",
          "model_name": "LayoutModel",
          "state": {
            "_view_name": "LayoutView",
            "grid_template_rows": null,
            "right": null,
            "justify_content": null,
            "_view_module": "@jupyter-widgets/base",
            "overflow": null,
            "_model_module_version": "1.2.0",
            "_view_count": null,
            "flex_flow": null,
            "width": null,
            "min_width": null,
            "border": null,
            "align_items": null,
            "bottom": null,
            "_model_module": "@jupyter-widgets/base",
            "top": null,
            "grid_column": null,
            "overflow_y": null,
            "overflow_x": null,
            "grid_auto_flow": null,
            "grid_area": null,
            "grid_template_columns": null,
            "flex": null,
            "_model_name": "LayoutModel",
            "justify_items": null,
            "grid_row": null,
            "max_height": null,
            "align_content": null,
            "visibility": null,
            "align_self": null,
            "height": null,
            "min_height": null,
            "padding": null,
            "grid_auto_rows": null,
            "grid_gap": null,
            "max_width": null,
            "order": null,
            "_view_module_version": "1.2.0",
            "grid_template_areas": null,
            "object_position": null,
            "object_fit": null,
            "grid_auto_columns": null,
            "margin": null,
            "display": null,
            "left": null
          }
        },
        "42b02bc884084d6384bb9ba0e31dffe6": {
          "model_module": "@jupyter-widgets/controls",
          "model_name": "FloatProgressModel",
          "state": {
            "_view_name": "ProgressView",
            "style": "IPY_MODEL_1b18f78ef3424d3da6b76000daf30316",
            "_dom_classes": [],
            "description": "100%",
            "_model_name": "FloatProgressModel",
            "bar_style": "success",
            "max": 11615,
            "_view_module": "@jupyter-widgets/controls",
            "_model_module_version": "1.5.0",
            "value": 11615,
            "_view_count": null,
            "_view_module_version": "1.5.0",
            "orientation": "horizontal",
            "min": 0,
            "description_tooltip": null,
            "_model_module": "@jupyter-widgets/controls",
            "layout": "IPY_MODEL_a178418345f141ba8133e33ce2ba9345"
          }
        },
        "a980e8bb9cb449cb868f575feebb3b36": {
          "model_module": "@jupyter-widgets/controls",
          "model_name": "HTMLModel",
          "state": {
            "_view_name": "HTMLView",
            "style": "IPY_MODEL_a526819c7dbf454093ab97388546946e",
            "_dom_classes": [],
            "description": "",
            "_model_name": "HTMLModel",
            "placeholder": "​",
            "_view_module": "@jupyter-widgets/controls",
            "_model_module_version": "1.5.0",
            "value": " 11615/11615 [29:28&lt;00:00,  6.57it/s]",
            "_view_count": null,
            "_view_module_version": "1.5.0",
            "description_tooltip": null,
            "_model_module": "@jupyter-widgets/controls",
            "layout": "IPY_MODEL_749e32c2587742e2ad59fee2988984b1"
          }
        },
        "1b18f78ef3424d3da6b76000daf30316": {
          "model_module": "@jupyter-widgets/controls",
          "model_name": "ProgressStyleModel",
          "state": {
            "_view_name": "StyleView",
            "_model_name": "ProgressStyleModel",
            "description_width": "initial",
            "_view_module": "@jupyter-widgets/base",
            "_model_module_version": "1.5.0",
            "_view_count": null,
            "_view_module_version": "1.2.0",
            "bar_color": null,
            "_model_module": "@jupyter-widgets/controls"
          }
        },
        "a178418345f141ba8133e33ce2ba9345": {
          "model_module": "@jupyter-widgets/base",
          "model_name": "LayoutModel",
          "state": {
            "_view_name": "LayoutView",
            "grid_template_rows": null,
            "right": null,
            "justify_content": null,
            "_view_module": "@jupyter-widgets/base",
            "overflow": null,
            "_model_module_version": "1.2.0",
            "_view_count": null,
            "flex_flow": null,
            "width": null,
            "min_width": null,
            "border": null,
            "align_items": null,
            "bottom": null,
            "_model_module": "@jupyter-widgets/base",
            "top": null,
            "grid_column": null,
            "overflow_y": null,
            "overflow_x": null,
            "grid_auto_flow": null,
            "grid_area": null,
            "grid_template_columns": null,
            "flex": null,
            "_model_name": "LayoutModel",
            "justify_items": null,
            "grid_row": null,
            "max_height": null,
            "align_content": null,
            "visibility": null,
            "align_self": null,
            "height": null,
            "min_height": null,
            "padding": null,
            "grid_auto_rows": null,
            "grid_gap": null,
            "max_width": null,
            "order": null,
            "_view_module_version": "1.2.0",
            "grid_template_areas": null,
            "object_position": null,
            "object_fit": null,
            "grid_auto_columns": null,
            "margin": null,
            "display": null,
            "left": null
          }
        },
        "a526819c7dbf454093ab97388546946e": {
          "model_module": "@jupyter-widgets/controls",
          "model_name": "DescriptionStyleModel",
          "state": {
            "_view_name": "StyleView",
            "_model_name": "DescriptionStyleModel",
            "description_width": "",
            "_view_module": "@jupyter-widgets/base",
            "_model_module_version": "1.5.0",
            "_view_count": null,
            "_view_module_version": "1.2.0",
            "_model_module": "@jupyter-widgets/controls"
          }
        },
        "749e32c2587742e2ad59fee2988984b1": {
          "model_module": "@jupyter-widgets/base",
          "model_name": "LayoutModel",
          "state": {
            "_view_name": "LayoutView",
            "grid_template_rows": null,
            "right": null,
            "justify_content": null,
            "_view_module": "@jupyter-widgets/base",
            "overflow": null,
            "_model_module_version": "1.2.0",
            "_view_count": null,
            "flex_flow": null,
            "width": null,
            "min_width": null,
            "border": null,
            "align_items": null,
            "bottom": null,
            "_model_module": "@jupyter-widgets/base",
            "top": null,
            "grid_column": null,
            "overflow_y": null,
            "overflow_x": null,
            "grid_auto_flow": null,
            "grid_area": null,
            "grid_template_columns": null,
            "flex": null,
            "_model_name": "LayoutModel",
            "justify_items": null,
            "grid_row": null,
            "max_height": null,
            "align_content": null,
            "visibility": null,
            "align_self": null,
            "height": null,
            "min_height": null,
            "padding": null,
            "grid_auto_rows": null,
            "grid_gap": null,
            "max_width": null,
            "order": null,
            "_view_module_version": "1.2.0",
            "grid_template_areas": null,
            "object_position": null,
            "object_fit": null,
            "grid_auto_columns": null,
            "margin": null,
            "display": null,
            "left": null
          }
        },
        "2a5c8594eaca413fb89d0afd9d9c4d22": {
          "model_module": "@jupyter-widgets/controls",
          "model_name": "HBoxModel",
          "state": {
            "_view_name": "HBoxView",
            "_dom_classes": [],
            "_model_name": "HBoxModel",
            "_view_module": "@jupyter-widgets/controls",
            "_model_module_version": "1.5.0",
            "_view_count": null,
            "_view_module_version": "1.5.0",
            "box_style": "",
            "layout": "IPY_MODEL_95266f04b86045b58fa686e45b261cb2",
            "_model_module": "@jupyter-widgets/controls",
            "children": [
              "IPY_MODEL_9790470023ab46d3a0f4ae7a1d06cd28",
              "IPY_MODEL_72aad95ba7ff4d4b9579e1feea471521"
            ]
          }
        },
        "95266f04b86045b58fa686e45b261cb2": {
          "model_module": "@jupyter-widgets/base",
          "model_name": "LayoutModel",
          "state": {
            "_view_name": "LayoutView",
            "grid_template_rows": null,
            "right": null,
            "justify_content": null,
            "_view_module": "@jupyter-widgets/base",
            "overflow": null,
            "_model_module_version": "1.2.0",
            "_view_count": null,
            "flex_flow": null,
            "width": null,
            "min_width": null,
            "border": null,
            "align_items": null,
            "bottom": null,
            "_model_module": "@jupyter-widgets/base",
            "top": null,
            "grid_column": null,
            "overflow_y": null,
            "overflow_x": null,
            "grid_auto_flow": null,
            "grid_area": null,
            "grid_template_columns": null,
            "flex": null,
            "_model_name": "LayoutModel",
            "justify_items": null,
            "grid_row": null,
            "max_height": null,
            "align_content": null,
            "visibility": null,
            "align_self": null,
            "height": null,
            "min_height": null,
            "padding": null,
            "grid_auto_rows": null,
            "grid_gap": null,
            "max_width": null,
            "order": null,
            "_view_module_version": "1.2.0",
            "grid_template_areas": null,
            "object_position": null,
            "object_fit": null,
            "grid_auto_columns": null,
            "margin": null,
            "display": null,
            "left": null
          }
        },
        "9790470023ab46d3a0f4ae7a1d06cd28": {
          "model_module": "@jupyter-widgets/controls",
          "model_name": "FloatProgressModel",
          "state": {
            "_view_name": "ProgressView",
            "style": "IPY_MODEL_950f09a9da1e465ab30e7de787900d1e",
            "_dom_classes": [],
            "description": "100%",
            "_model_name": "FloatProgressModel",
            "bar_style": "success",
            "max": 2861,
            "_view_module": "@jupyter-widgets/controls",
            "_model_module_version": "1.5.0",
            "value": 2861,
            "_view_count": null,
            "_view_module_version": "1.5.0",
            "orientation": "horizontal",
            "min": 0,
            "description_tooltip": null,
            "_model_module": "@jupyter-widgets/controls",
            "layout": "IPY_MODEL_444d795cc0324646aa674808fe0a80b6"
          }
        },
        "72aad95ba7ff4d4b9579e1feea471521": {
          "model_module": "@jupyter-widgets/controls",
          "model_name": "HTMLModel",
          "state": {
            "_view_name": "HTMLView",
            "style": "IPY_MODEL_fce6528801624a40a7b8f7034d4c390d",
            "_dom_classes": [],
            "description": "",
            "_model_name": "HTMLModel",
            "placeholder": "​",
            "_view_module": "@jupyter-widgets/controls",
            "_model_module_version": "1.5.0",
            "value": " 2861/2861 [11:37&lt;00:00,  4.10it/s]",
            "_view_count": null,
            "_view_module_version": "1.5.0",
            "description_tooltip": null,
            "_model_module": "@jupyter-widgets/controls",
            "layout": "IPY_MODEL_a7008c38bcde402b8c55f52520684adc"
          }
        },
        "950f09a9da1e465ab30e7de787900d1e": {
          "model_module": "@jupyter-widgets/controls",
          "model_name": "ProgressStyleModel",
          "state": {
            "_view_name": "StyleView",
            "_model_name": "ProgressStyleModel",
            "description_width": "initial",
            "_view_module": "@jupyter-widgets/base",
            "_model_module_version": "1.5.0",
            "_view_count": null,
            "_view_module_version": "1.2.0",
            "bar_color": null,
            "_model_module": "@jupyter-widgets/controls"
          }
        },
        "444d795cc0324646aa674808fe0a80b6": {
          "model_module": "@jupyter-widgets/base",
          "model_name": "LayoutModel",
          "state": {
            "_view_name": "LayoutView",
            "grid_template_rows": null,
            "right": null,
            "justify_content": null,
            "_view_module": "@jupyter-widgets/base",
            "overflow": null,
            "_model_module_version": "1.2.0",
            "_view_count": null,
            "flex_flow": null,
            "width": null,
            "min_width": null,
            "border": null,
            "align_items": null,
            "bottom": null,
            "_model_module": "@jupyter-widgets/base",
            "top": null,
            "grid_column": null,
            "overflow_y": null,
            "overflow_x": null,
            "grid_auto_flow": null,
            "grid_area": null,
            "grid_template_columns": null,
            "flex": null,
            "_model_name": "LayoutModel",
            "justify_items": null,
            "grid_row": null,
            "max_height": null,
            "align_content": null,
            "visibility": null,
            "align_self": null,
            "height": null,
            "min_height": null,
            "padding": null,
            "grid_auto_rows": null,
            "grid_gap": null,
            "max_width": null,
            "order": null,
            "_view_module_version": "1.2.0",
            "grid_template_areas": null,
            "object_position": null,
            "object_fit": null,
            "grid_auto_columns": null,
            "margin": null,
            "display": null,
            "left": null
          }
        },
        "fce6528801624a40a7b8f7034d4c390d": {
          "model_module": "@jupyter-widgets/controls",
          "model_name": "DescriptionStyleModel",
          "state": {
            "_view_name": "StyleView",
            "_model_name": "DescriptionStyleModel",
            "description_width": "",
            "_view_module": "@jupyter-widgets/base",
            "_model_module_version": "1.5.0",
            "_view_count": null,
            "_view_module_version": "1.2.0",
            "_model_module": "@jupyter-widgets/controls"
          }
        },
        "a7008c38bcde402b8c55f52520684adc": {
          "model_module": "@jupyter-widgets/base",
          "model_name": "LayoutModel",
          "state": {
            "_view_name": "LayoutView",
            "grid_template_rows": null,
            "right": null,
            "justify_content": null,
            "_view_module": "@jupyter-widgets/base",
            "overflow": null,
            "_model_module_version": "1.2.0",
            "_view_count": null,
            "flex_flow": null,
            "width": null,
            "min_width": null,
            "border": null,
            "align_items": null,
            "bottom": null,
            "_model_module": "@jupyter-widgets/base",
            "top": null,
            "grid_column": null,
            "overflow_y": null,
            "overflow_x": null,
            "grid_auto_flow": null,
            "grid_area": null,
            "grid_template_columns": null,
            "flex": null,
            "_model_name": "LayoutModel",
            "justify_items": null,
            "grid_row": null,
            "max_height": null,
            "align_content": null,
            "visibility": null,
            "align_self": null,
            "height": null,
            "min_height": null,
            "padding": null,
            "grid_auto_rows": null,
            "grid_gap": null,
            "max_width": null,
            "order": null,
            "_view_module_version": "1.2.0",
            "grid_template_areas": null,
            "object_position": null,
            "object_fit": null,
            "grid_auto_columns": null,
            "margin": null,
            "display": null,
            "left": null
          }
        },
        "08cb08fb86504c5aa61cfd3d54ab0ca3": {
          "model_module": "@jupyter-widgets/controls",
          "model_name": "HBoxModel",
          "state": {
            "_view_name": "HBoxView",
            "_dom_classes": [],
            "_model_name": "HBoxModel",
            "_view_module": "@jupyter-widgets/controls",
            "_model_module_version": "1.5.0",
            "_view_count": null,
            "_view_module_version": "1.5.0",
            "box_style": "",
            "layout": "IPY_MODEL_af65a6d02a3f4721b30f01a6f98d78fa",
            "_model_module": "@jupyter-widgets/controls",
            "children": [
              "IPY_MODEL_1570b5e79c414ba490cb2ce84250092b",
              "IPY_MODEL_8a8507416ab948a69998f89af0ae4d27"
            ]
          }
        },
        "af65a6d02a3f4721b30f01a6f98d78fa": {
          "model_module": "@jupyter-widgets/base",
          "model_name": "LayoutModel",
          "state": {
            "_view_name": "LayoutView",
            "grid_template_rows": null,
            "right": null,
            "justify_content": null,
            "_view_module": "@jupyter-widgets/base",
            "overflow": null,
            "_model_module_version": "1.2.0",
            "_view_count": null,
            "flex_flow": null,
            "width": null,
            "min_width": null,
            "border": null,
            "align_items": null,
            "bottom": null,
            "_model_module": "@jupyter-widgets/base",
            "top": null,
            "grid_column": null,
            "overflow_y": null,
            "overflow_x": null,
            "grid_auto_flow": null,
            "grid_area": null,
            "grid_template_columns": null,
            "flex": null,
            "_model_name": "LayoutModel",
            "justify_items": null,
            "grid_row": null,
            "max_height": null,
            "align_content": null,
            "visibility": null,
            "align_self": null,
            "height": null,
            "min_height": null,
            "padding": null,
            "grid_auto_rows": null,
            "grid_gap": null,
            "max_width": null,
            "order": null,
            "_view_module_version": "1.2.0",
            "grid_template_areas": null,
            "object_position": null,
            "object_fit": null,
            "grid_auto_columns": null,
            "margin": null,
            "display": null,
            "left": null
          }
        },
        "1570b5e79c414ba490cb2ce84250092b": {
          "model_module": "@jupyter-widgets/controls",
          "model_name": "FloatProgressModel",
          "state": {
            "_view_name": "ProgressView",
            "style": "IPY_MODEL_7698feebc53149388c89f9910bd80931",
            "_dom_classes": [],
            "description": "100%",
            "_model_name": "FloatProgressModel",
            "bar_style": "success",
            "max": 2861,
            "_view_module": "@jupyter-widgets/controls",
            "_model_module_version": "1.5.0",
            "value": 2861,
            "_view_count": null,
            "_view_module_version": "1.5.0",
            "orientation": "horizontal",
            "min": 0,
            "description_tooltip": null,
            "_model_module": "@jupyter-widgets/controls",
            "layout": "IPY_MODEL_df05e3a98b0c44f887291339a28dcb1c"
          }
        },
        "8a8507416ab948a69998f89af0ae4d27": {
          "model_module": "@jupyter-widgets/controls",
          "model_name": "HTMLModel",
          "state": {
            "_view_name": "HTMLView",
            "style": "IPY_MODEL_28ec163648b440d1bb1f70177fb20433",
            "_dom_classes": [],
            "description": "",
            "_model_name": "HTMLModel",
            "placeholder": "​",
            "_view_module": "@jupyter-widgets/controls",
            "_model_module_version": "1.5.0",
            "value": " 2861/2861 [17:35&lt;00:00,  2.71it/s]",
            "_view_count": null,
            "_view_module_version": "1.5.0",
            "description_tooltip": null,
            "_model_module": "@jupyter-widgets/controls",
            "layout": "IPY_MODEL_ca9cd2b4a2c74096a6ae6cafdb951bb4"
          }
        },
        "7698feebc53149388c89f9910bd80931": {
          "model_module": "@jupyter-widgets/controls",
          "model_name": "ProgressStyleModel",
          "state": {
            "_view_name": "StyleView",
            "_model_name": "ProgressStyleModel",
            "description_width": "initial",
            "_view_module": "@jupyter-widgets/base",
            "_model_module_version": "1.5.0",
            "_view_count": null,
            "_view_module_version": "1.2.0",
            "bar_color": null,
            "_model_module": "@jupyter-widgets/controls"
          }
        },
        "df05e3a98b0c44f887291339a28dcb1c": {
          "model_module": "@jupyter-widgets/base",
          "model_name": "LayoutModel",
          "state": {
            "_view_name": "LayoutView",
            "grid_template_rows": null,
            "right": null,
            "justify_content": null,
            "_view_module": "@jupyter-widgets/base",
            "overflow": null,
            "_model_module_version": "1.2.0",
            "_view_count": null,
            "flex_flow": null,
            "width": null,
            "min_width": null,
            "border": null,
            "align_items": null,
            "bottom": null,
            "_model_module": "@jupyter-widgets/base",
            "top": null,
            "grid_column": null,
            "overflow_y": null,
            "overflow_x": null,
            "grid_auto_flow": null,
            "grid_area": null,
            "grid_template_columns": null,
            "flex": null,
            "_model_name": "LayoutModel",
            "justify_items": null,
            "grid_row": null,
            "max_height": null,
            "align_content": null,
            "visibility": null,
            "align_self": null,
            "height": null,
            "min_height": null,
            "padding": null,
            "grid_auto_rows": null,
            "grid_gap": null,
            "max_width": null,
            "order": null,
            "_view_module_version": "1.2.0",
            "grid_template_areas": null,
            "object_position": null,
            "object_fit": null,
            "grid_auto_columns": null,
            "margin": null,
            "display": null,
            "left": null
          }
        },
        "28ec163648b440d1bb1f70177fb20433": {
          "model_module": "@jupyter-widgets/controls",
          "model_name": "DescriptionStyleModel",
          "state": {
            "_view_name": "StyleView",
            "_model_name": "DescriptionStyleModel",
            "description_width": "",
            "_view_module": "@jupyter-widgets/base",
            "_model_module_version": "1.5.0",
            "_view_count": null,
            "_view_module_version": "1.2.0",
            "_model_module": "@jupyter-widgets/controls"
          }
        },
        "ca9cd2b4a2c74096a6ae6cafdb951bb4": {
          "model_module": "@jupyter-widgets/base",
          "model_name": "LayoutModel",
          "state": {
            "_view_name": "LayoutView",
            "grid_template_rows": null,
            "right": null,
            "justify_content": null,
            "_view_module": "@jupyter-widgets/base",
            "overflow": null,
            "_model_module_version": "1.2.0",
            "_view_count": null,
            "flex_flow": null,
            "width": null,
            "min_width": null,
            "border": null,
            "align_items": null,
            "bottom": null,
            "_model_module": "@jupyter-widgets/base",
            "top": null,
            "grid_column": null,
            "overflow_y": null,
            "overflow_x": null,
            "grid_auto_flow": null,
            "grid_area": null,
            "grid_template_columns": null,
            "flex": null,
            "_model_name": "LayoutModel",
            "justify_items": null,
            "grid_row": null,
            "max_height": null,
            "align_content": null,
            "visibility": null,
            "align_self": null,
            "height": null,
            "min_height": null,
            "padding": null,
            "grid_auto_rows": null,
            "grid_gap": null,
            "max_width": null,
            "order": null,
            "_view_module_version": "1.2.0",
            "grid_template_areas": null,
            "object_position": null,
            "object_fit": null,
            "grid_auto_columns": null,
            "margin": null,
            "display": null,
            "left": null
          }
        },
        "3379147ca70743a895ca4e269bef15cf": {
          "model_module": "@jupyter-widgets/controls",
          "model_name": "HBoxModel",
          "state": {
            "_view_name": "HBoxView",
            "_dom_classes": [],
            "_model_name": "HBoxModel",
            "_view_module": "@jupyter-widgets/controls",
            "_model_module_version": "1.5.0",
            "_view_count": null,
            "_view_module_version": "1.5.0",
            "box_style": "",
            "layout": "IPY_MODEL_c4e8651ab3e542879d7a791c34dc0793",
            "_model_module": "@jupyter-widgets/controls",
            "children": [
              "IPY_MODEL_f4b23b56d63d43968f19d493962a428b",
              "IPY_MODEL_ad8a0109d6154ed9aaecf705614c6a9b"
            ]
          }
        },
        "c4e8651ab3e542879d7a791c34dc0793": {
          "model_module": "@jupyter-widgets/base",
          "model_name": "LayoutModel",
          "state": {
            "_view_name": "LayoutView",
            "grid_template_rows": null,
            "right": null,
            "justify_content": null,
            "_view_module": "@jupyter-widgets/base",
            "overflow": null,
            "_model_module_version": "1.2.0",
            "_view_count": null,
            "flex_flow": null,
            "width": null,
            "min_width": null,
            "border": null,
            "align_items": null,
            "bottom": null,
            "_model_module": "@jupyter-widgets/base",
            "top": null,
            "grid_column": null,
            "overflow_y": null,
            "overflow_x": null,
            "grid_auto_flow": null,
            "grid_area": null,
            "grid_template_columns": null,
            "flex": null,
            "_model_name": "LayoutModel",
            "justify_items": null,
            "grid_row": null,
            "max_height": null,
            "align_content": null,
            "visibility": null,
            "align_self": null,
            "height": null,
            "min_height": null,
            "padding": null,
            "grid_auto_rows": null,
            "grid_gap": null,
            "max_width": null,
            "order": null,
            "_view_module_version": "1.2.0",
            "grid_template_areas": null,
            "object_position": null,
            "object_fit": null,
            "grid_auto_columns": null,
            "margin": null,
            "display": null,
            "left": null
          }
        },
        "f4b23b56d63d43968f19d493962a428b": {
          "model_module": "@jupyter-widgets/controls",
          "model_name": "FloatProgressModel",
          "state": {
            "_view_name": "ProgressView",
            "style": "IPY_MODEL_946f73dd60944363b6c1cf30e0116f82",
            "_dom_classes": [],
            "description": "100%",
            "_model_name": "FloatProgressModel",
            "bar_style": "success",
            "max": 11568,
            "_view_module": "@jupyter-widgets/controls",
            "_model_module_version": "1.5.0",
            "value": 11568,
            "_view_count": null,
            "_view_module_version": "1.5.0",
            "orientation": "horizontal",
            "min": 0,
            "description_tooltip": null,
            "_model_module": "@jupyter-widgets/controls",
            "layout": "IPY_MODEL_c59950de63e34c29abb1d48137481099"
          }
        },
        "ad8a0109d6154ed9aaecf705614c6a9b": {
          "model_module": "@jupyter-widgets/controls",
          "model_name": "HTMLModel",
          "state": {
            "_view_name": "HTMLView",
            "style": "IPY_MODEL_a3f7de46401748abaff50e67a5b33ec5",
            "_dom_classes": [],
            "description": "",
            "_model_name": "HTMLModel",
            "placeholder": "​",
            "_view_module": "@jupyter-widgets/controls",
            "_model_module_version": "1.5.0",
            "value": " 11568/11568 [01:27&lt;00:00, 132.66it/s]",
            "_view_count": null,
            "_view_module_version": "1.5.0",
            "description_tooltip": null,
            "_model_module": "@jupyter-widgets/controls",
            "layout": "IPY_MODEL_a35edee8517647e081660bb0c2793169"
          }
        },
        "946f73dd60944363b6c1cf30e0116f82": {
          "model_module": "@jupyter-widgets/controls",
          "model_name": "ProgressStyleModel",
          "state": {
            "_view_name": "StyleView",
            "_model_name": "ProgressStyleModel",
            "description_width": "initial",
            "_view_module": "@jupyter-widgets/base",
            "_model_module_version": "1.5.0",
            "_view_count": null,
            "_view_module_version": "1.2.0",
            "bar_color": null,
            "_model_module": "@jupyter-widgets/controls"
          }
        },
        "c59950de63e34c29abb1d48137481099": {
          "model_module": "@jupyter-widgets/base",
          "model_name": "LayoutModel",
          "state": {
            "_view_name": "LayoutView",
            "grid_template_rows": null,
            "right": null,
            "justify_content": null,
            "_view_module": "@jupyter-widgets/base",
            "overflow": null,
            "_model_module_version": "1.2.0",
            "_view_count": null,
            "flex_flow": null,
            "width": null,
            "min_width": null,
            "border": null,
            "align_items": null,
            "bottom": null,
            "_model_module": "@jupyter-widgets/base",
            "top": null,
            "grid_column": null,
            "overflow_y": null,
            "overflow_x": null,
            "grid_auto_flow": null,
            "grid_area": null,
            "grid_template_columns": null,
            "flex": null,
            "_model_name": "LayoutModel",
            "justify_items": null,
            "grid_row": null,
            "max_height": null,
            "align_content": null,
            "visibility": null,
            "align_self": null,
            "height": null,
            "min_height": null,
            "padding": null,
            "grid_auto_rows": null,
            "grid_gap": null,
            "max_width": null,
            "order": null,
            "_view_module_version": "1.2.0",
            "grid_template_areas": null,
            "object_position": null,
            "object_fit": null,
            "grid_auto_columns": null,
            "margin": null,
            "display": null,
            "left": null
          }
        },
        "a3f7de46401748abaff50e67a5b33ec5": {
          "model_module": "@jupyter-widgets/controls",
          "model_name": "DescriptionStyleModel",
          "state": {
            "_view_name": "StyleView",
            "_model_name": "DescriptionStyleModel",
            "description_width": "",
            "_view_module": "@jupyter-widgets/base",
            "_model_module_version": "1.5.0",
            "_view_count": null,
            "_view_module_version": "1.2.0",
            "_model_module": "@jupyter-widgets/controls"
          }
        },
        "a35edee8517647e081660bb0c2793169": {
          "model_module": "@jupyter-widgets/base",
          "model_name": "LayoutModel",
          "state": {
            "_view_name": "LayoutView",
            "grid_template_rows": null,
            "right": null,
            "justify_content": null,
            "_view_module": "@jupyter-widgets/base",
            "overflow": null,
            "_model_module_version": "1.2.0",
            "_view_count": null,
            "flex_flow": null,
            "width": null,
            "min_width": null,
            "border": null,
            "align_items": null,
            "bottom": null,
            "_model_module": "@jupyter-widgets/base",
            "top": null,
            "grid_column": null,
            "overflow_y": null,
            "overflow_x": null,
            "grid_auto_flow": null,
            "grid_area": null,
            "grid_template_columns": null,
            "flex": null,
            "_model_name": "LayoutModel",
            "justify_items": null,
            "grid_row": null,
            "max_height": null,
            "align_content": null,
            "visibility": null,
            "align_self": null,
            "height": null,
            "min_height": null,
            "padding": null,
            "grid_auto_rows": null,
            "grid_gap": null,
            "max_width": null,
            "order": null,
            "_view_module_version": "1.2.0",
            "grid_template_areas": null,
            "object_position": null,
            "object_fit": null,
            "grid_auto_columns": null,
            "margin": null,
            "display": null,
            "left": null
          }
        },
        "4aa523ccc6584661b2e958ae6234958c": {
          "model_module": "@jupyter-widgets/controls",
          "model_name": "HBoxModel",
          "state": {
            "_view_name": "HBoxView",
            "_dom_classes": [],
            "_model_name": "HBoxModel",
            "_view_module": "@jupyter-widgets/controls",
            "_model_module_version": "1.5.0",
            "_view_count": null,
            "_view_module_version": "1.5.0",
            "box_style": "",
            "layout": "IPY_MODEL_e90bdebcaeca44daa847672c19724049",
            "_model_module": "@jupyter-widgets/controls",
            "children": [
              "IPY_MODEL_d1c10f713d714a11a8e429b8224048ae",
              "IPY_MODEL_bee9afd3820f4b21a31cf573883705cd"
            ]
          }
        },
        "e90bdebcaeca44daa847672c19724049": {
          "model_module": "@jupyter-widgets/base",
          "model_name": "LayoutModel",
          "state": {
            "_view_name": "LayoutView",
            "grid_template_rows": null,
            "right": null,
            "justify_content": null,
            "_view_module": "@jupyter-widgets/base",
            "overflow": null,
            "_model_module_version": "1.2.0",
            "_view_count": null,
            "flex_flow": null,
            "width": null,
            "min_width": null,
            "border": null,
            "align_items": null,
            "bottom": null,
            "_model_module": "@jupyter-widgets/base",
            "top": null,
            "grid_column": null,
            "overflow_y": null,
            "overflow_x": null,
            "grid_auto_flow": null,
            "grid_area": null,
            "grid_template_columns": null,
            "flex": null,
            "_model_name": "LayoutModel",
            "justify_items": null,
            "grid_row": null,
            "max_height": null,
            "align_content": null,
            "visibility": null,
            "align_self": null,
            "height": null,
            "min_height": null,
            "padding": null,
            "grid_auto_rows": null,
            "grid_gap": null,
            "max_width": null,
            "order": null,
            "_view_module_version": "1.2.0",
            "grid_template_areas": null,
            "object_position": null,
            "object_fit": null,
            "grid_auto_columns": null,
            "margin": null,
            "display": null,
            "left": null
          }
        },
        "d1c10f713d714a11a8e429b8224048ae": {
          "model_module": "@jupyter-widgets/controls",
          "model_name": "FloatProgressModel",
          "state": {
            "_view_name": "ProgressView",
            "style": "IPY_MODEL_2de35d842901462c9277fb7bdcb53159",
            "_dom_classes": [],
            "description": "100%",
            "_model_name": "FloatProgressModel",
            "bar_style": "success",
            "max": 2851,
            "_view_module": "@jupyter-widgets/controls",
            "_model_module_version": "1.5.0",
            "value": 2851,
            "_view_count": null,
            "_view_module_version": "1.5.0",
            "orientation": "horizontal",
            "min": 0,
            "description_tooltip": null,
            "_model_module": "@jupyter-widgets/controls",
            "layout": "IPY_MODEL_ce14cca43398409590c33412c7bd79ee"
          }
        },
        "bee9afd3820f4b21a31cf573883705cd": {
          "model_module": "@jupyter-widgets/controls",
          "model_name": "HTMLModel",
          "state": {
            "_view_name": "HTMLView",
            "style": "IPY_MODEL_8bf68684d30b417dac03e9c3f875f526",
            "_dom_classes": [],
            "description": "",
            "_model_name": "HTMLModel",
            "placeholder": "​",
            "_view_module": "@jupyter-widgets/controls",
            "_model_module_version": "1.5.0",
            "value": " 2851/2851 [01:19&lt;00:00, 35.78it/s]",
            "_view_count": null,
            "_view_module_version": "1.5.0",
            "description_tooltip": null,
            "_model_module": "@jupyter-widgets/controls",
            "layout": "IPY_MODEL_40f1e1009a1a4451945ca1b1664976b4"
          }
        },
        "2de35d842901462c9277fb7bdcb53159": {
          "model_module": "@jupyter-widgets/controls",
          "model_name": "ProgressStyleModel",
          "state": {
            "_view_name": "StyleView",
            "_model_name": "ProgressStyleModel",
            "description_width": "initial",
            "_view_module": "@jupyter-widgets/base",
            "_model_module_version": "1.5.0",
            "_view_count": null,
            "_view_module_version": "1.2.0",
            "bar_color": null,
            "_model_module": "@jupyter-widgets/controls"
          }
        },
        "ce14cca43398409590c33412c7bd79ee": {
          "model_module": "@jupyter-widgets/base",
          "model_name": "LayoutModel",
          "state": {
            "_view_name": "LayoutView",
            "grid_template_rows": null,
            "right": null,
            "justify_content": null,
            "_view_module": "@jupyter-widgets/base",
            "overflow": null,
            "_model_module_version": "1.2.0",
            "_view_count": null,
            "flex_flow": null,
            "width": null,
            "min_width": null,
            "border": null,
            "align_items": null,
            "bottom": null,
            "_model_module": "@jupyter-widgets/base",
            "top": null,
            "grid_column": null,
            "overflow_y": null,
            "overflow_x": null,
            "grid_auto_flow": null,
            "grid_area": null,
            "grid_template_columns": null,
            "flex": null,
            "_model_name": "LayoutModel",
            "justify_items": null,
            "grid_row": null,
            "max_height": null,
            "align_content": null,
            "visibility": null,
            "align_self": null,
            "height": null,
            "min_height": null,
            "padding": null,
            "grid_auto_rows": null,
            "grid_gap": null,
            "max_width": null,
            "order": null,
            "_view_module_version": "1.2.0",
            "grid_template_areas": null,
            "object_position": null,
            "object_fit": null,
            "grid_auto_columns": null,
            "margin": null,
            "display": null,
            "left": null
          }
        },
        "8bf68684d30b417dac03e9c3f875f526": {
          "model_module": "@jupyter-widgets/controls",
          "model_name": "DescriptionStyleModel",
          "state": {
            "_view_name": "StyleView",
            "_model_name": "DescriptionStyleModel",
            "description_width": "",
            "_view_module": "@jupyter-widgets/base",
            "_model_module_version": "1.5.0",
            "_view_count": null,
            "_view_module_version": "1.2.0",
            "_model_module": "@jupyter-widgets/controls"
          }
        },
        "40f1e1009a1a4451945ca1b1664976b4": {
          "model_module": "@jupyter-widgets/base",
          "model_name": "LayoutModel",
          "state": {
            "_view_name": "LayoutView",
            "grid_template_rows": null,
            "right": null,
            "justify_content": null,
            "_view_module": "@jupyter-widgets/base",
            "overflow": null,
            "_model_module_version": "1.2.0",
            "_view_count": null,
            "flex_flow": null,
            "width": null,
            "min_width": null,
            "border": null,
            "align_items": null,
            "bottom": null,
            "_model_module": "@jupyter-widgets/base",
            "top": null,
            "grid_column": null,
            "overflow_y": null,
            "overflow_x": null,
            "grid_auto_flow": null,
            "grid_area": null,
            "grid_template_columns": null,
            "flex": null,
            "_model_name": "LayoutModel",
            "justify_items": null,
            "grid_row": null,
            "max_height": null,
            "align_content": null,
            "visibility": null,
            "align_self": null,
            "height": null,
            "min_height": null,
            "padding": null,
            "grid_auto_rows": null,
            "grid_gap": null,
            "max_width": null,
            "order": null,
            "_view_module_version": "1.2.0",
            "grid_template_areas": null,
            "object_position": null,
            "object_fit": null,
            "grid_auto_columns": null,
            "margin": null,
            "display": null,
            "left": null
          }
        },
        "d8b3e8c49a43484697247dd55979f0de": {
          "model_module": "@jupyter-widgets/controls",
          "model_name": "HBoxModel",
          "state": {
            "_view_name": "HBoxView",
            "_dom_classes": [],
            "_model_name": "HBoxModel",
            "_view_module": "@jupyter-widgets/controls",
            "_model_module_version": "1.5.0",
            "_view_count": null,
            "_view_module_version": "1.5.0",
            "box_style": "",
            "layout": "IPY_MODEL_55a5eb3e9d3e426594fea242c8e064ad",
            "_model_module": "@jupyter-widgets/controls",
            "children": [
              "IPY_MODEL_addb9621553841cbaf3c0f6b880e54ae",
              "IPY_MODEL_bbbf08ad42374a35b70b90160062b88a"
            ]
          }
        },
        "55a5eb3e9d3e426594fea242c8e064ad": {
          "model_module": "@jupyter-widgets/base",
          "model_name": "LayoutModel",
          "state": {
            "_view_name": "LayoutView",
            "grid_template_rows": null,
            "right": null,
            "justify_content": null,
            "_view_module": "@jupyter-widgets/base",
            "overflow": null,
            "_model_module_version": "1.2.0",
            "_view_count": null,
            "flex_flow": null,
            "width": null,
            "min_width": null,
            "border": null,
            "align_items": null,
            "bottom": null,
            "_model_module": "@jupyter-widgets/base",
            "top": null,
            "grid_column": null,
            "overflow_y": null,
            "overflow_x": null,
            "grid_auto_flow": null,
            "grid_area": null,
            "grid_template_columns": null,
            "flex": null,
            "_model_name": "LayoutModel",
            "justify_items": null,
            "grid_row": null,
            "max_height": null,
            "align_content": null,
            "visibility": null,
            "align_self": null,
            "height": null,
            "min_height": null,
            "padding": null,
            "grid_auto_rows": null,
            "grid_gap": null,
            "max_width": null,
            "order": null,
            "_view_module_version": "1.2.0",
            "grid_template_areas": null,
            "object_position": null,
            "object_fit": null,
            "grid_auto_columns": null,
            "margin": null,
            "display": null,
            "left": null
          }
        },
        "addb9621553841cbaf3c0f6b880e54ae": {
          "model_module": "@jupyter-widgets/controls",
          "model_name": "FloatProgressModel",
          "state": {
            "_view_name": "ProgressView",
            "style": "IPY_MODEL_8ad30be4c4594c0dacc8bd7a70695f8b",
            "_dom_classes": [],
            "description": "100%",
            "_model_name": "FloatProgressModel",
            "bar_style": "success",
            "max": 2848,
            "_view_module": "@jupyter-widgets/controls",
            "_model_module_version": "1.5.0",
            "value": 2848,
            "_view_count": null,
            "_view_module_version": "1.5.0",
            "orientation": "horizontal",
            "min": 0,
            "description_tooltip": null,
            "_model_module": "@jupyter-widgets/controls",
            "layout": "IPY_MODEL_fc9feccf2b564bf394a69bc9b077f4b8"
          }
        },
        "bbbf08ad42374a35b70b90160062b88a": {
          "model_module": "@jupyter-widgets/controls",
          "model_name": "HTMLModel",
          "state": {
            "_view_name": "HTMLView",
            "style": "IPY_MODEL_4ef0d9ff27864f6ab90dfba6187c1e65",
            "_dom_classes": [],
            "description": "",
            "_model_name": "HTMLModel",
            "placeholder": "​",
            "_view_module": "@jupyter-widgets/controls",
            "_model_module_version": "1.5.0",
            "value": " 2848/2848 [01:17&lt;00:00, 36.67it/s]",
            "_view_count": null,
            "_view_module_version": "1.5.0",
            "description_tooltip": null,
            "_model_module": "@jupyter-widgets/controls",
            "layout": "IPY_MODEL_1e2746671270431195bc27e0e3a4bb81"
          }
        },
        "8ad30be4c4594c0dacc8bd7a70695f8b": {
          "model_module": "@jupyter-widgets/controls",
          "model_name": "ProgressStyleModel",
          "state": {
            "_view_name": "StyleView",
            "_model_name": "ProgressStyleModel",
            "description_width": "initial",
            "_view_module": "@jupyter-widgets/base",
            "_model_module_version": "1.5.0",
            "_view_count": null,
            "_view_module_version": "1.2.0",
            "bar_color": null,
            "_model_module": "@jupyter-widgets/controls"
          }
        },
        "fc9feccf2b564bf394a69bc9b077f4b8": {
          "model_module": "@jupyter-widgets/base",
          "model_name": "LayoutModel",
          "state": {
            "_view_name": "LayoutView",
            "grid_template_rows": null,
            "right": null,
            "justify_content": null,
            "_view_module": "@jupyter-widgets/base",
            "overflow": null,
            "_model_module_version": "1.2.0",
            "_view_count": null,
            "flex_flow": null,
            "width": null,
            "min_width": null,
            "border": null,
            "align_items": null,
            "bottom": null,
            "_model_module": "@jupyter-widgets/base",
            "top": null,
            "grid_column": null,
            "overflow_y": null,
            "overflow_x": null,
            "grid_auto_flow": null,
            "grid_area": null,
            "grid_template_columns": null,
            "flex": null,
            "_model_name": "LayoutModel",
            "justify_items": null,
            "grid_row": null,
            "max_height": null,
            "align_content": null,
            "visibility": null,
            "align_self": null,
            "height": null,
            "min_height": null,
            "padding": null,
            "grid_auto_rows": null,
            "grid_gap": null,
            "max_width": null,
            "order": null,
            "_view_module_version": "1.2.0",
            "grid_template_areas": null,
            "object_position": null,
            "object_fit": null,
            "grid_auto_columns": null,
            "margin": null,
            "display": null,
            "left": null
          }
        },
        "4ef0d9ff27864f6ab90dfba6187c1e65": {
          "model_module": "@jupyter-widgets/controls",
          "model_name": "DescriptionStyleModel",
          "state": {
            "_view_name": "StyleView",
            "_model_name": "DescriptionStyleModel",
            "description_width": "",
            "_view_module": "@jupyter-widgets/base",
            "_model_module_version": "1.5.0",
            "_view_count": null,
            "_view_module_version": "1.2.0",
            "_model_module": "@jupyter-widgets/controls"
          }
        },
        "1e2746671270431195bc27e0e3a4bb81": {
          "model_module": "@jupyter-widgets/base",
          "model_name": "LayoutModel",
          "state": {
            "_view_name": "LayoutView",
            "grid_template_rows": null,
            "right": null,
            "justify_content": null,
            "_view_module": "@jupyter-widgets/base",
            "overflow": null,
            "_model_module_version": "1.2.0",
            "_view_count": null,
            "flex_flow": null,
            "width": null,
            "min_width": null,
            "border": null,
            "align_items": null,
            "bottom": null,
            "_model_module": "@jupyter-widgets/base",
            "top": null,
            "grid_column": null,
            "overflow_y": null,
            "overflow_x": null,
            "grid_auto_flow": null,
            "grid_area": null,
            "grid_template_columns": null,
            "flex": null,
            "_model_name": "LayoutModel",
            "justify_items": null,
            "grid_row": null,
            "max_height": null,
            "align_content": null,
            "visibility": null,
            "align_self": null,
            "height": null,
            "min_height": null,
            "padding": null,
            "grid_auto_rows": null,
            "grid_gap": null,
            "max_width": null,
            "order": null,
            "_view_module_version": "1.2.0",
            "grid_template_areas": null,
            "object_position": null,
            "object_fit": null,
            "grid_auto_columns": null,
            "margin": null,
            "display": null,
            "left": null
          }
        },
        "55f96af964414475ade9eb4895a5c825": {
          "model_module": "@jupyter-widgets/controls",
          "model_name": "HBoxModel",
          "state": {
            "_view_name": "HBoxView",
            "_dom_classes": [],
            "_model_name": "HBoxModel",
            "_view_module": "@jupyter-widgets/controls",
            "_model_module_version": "1.5.0",
            "_view_count": null,
            "_view_module_version": "1.5.0",
            "box_style": "",
            "layout": "IPY_MODEL_606f667845004014b67f0683d38f2c7b",
            "_model_module": "@jupyter-widgets/controls",
            "children": [
              "IPY_MODEL_182c1680fe23440c93f6d663f8bc72ef",
              "IPY_MODEL_82fe7011d5d543f9ba64555ca7c66aa0"
            ]
          }
        },
        "606f667845004014b67f0683d38f2c7b": {
          "model_module": "@jupyter-widgets/base",
          "model_name": "LayoutModel",
          "state": {
            "_view_name": "LayoutView",
            "grid_template_rows": null,
            "right": null,
            "justify_content": null,
            "_view_module": "@jupyter-widgets/base",
            "overflow": null,
            "_model_module_version": "1.2.0",
            "_view_count": null,
            "flex_flow": null,
            "width": null,
            "min_width": null,
            "border": null,
            "align_items": null,
            "bottom": null,
            "_model_module": "@jupyter-widgets/base",
            "top": null,
            "grid_column": null,
            "overflow_y": null,
            "overflow_x": null,
            "grid_auto_flow": null,
            "grid_area": null,
            "grid_template_columns": null,
            "flex": null,
            "_model_name": "LayoutModel",
            "justify_items": null,
            "grid_row": null,
            "max_height": null,
            "align_content": null,
            "visibility": null,
            "align_self": null,
            "height": null,
            "min_height": null,
            "padding": null,
            "grid_auto_rows": null,
            "grid_gap": null,
            "max_width": null,
            "order": null,
            "_view_module_version": "1.2.0",
            "grid_template_areas": null,
            "object_position": null,
            "object_fit": null,
            "grid_auto_columns": null,
            "margin": null,
            "display": null,
            "left": null
          }
        },
        "182c1680fe23440c93f6d663f8bc72ef": {
          "model_module": "@jupyter-widgets/controls",
          "model_name": "FloatProgressModel",
          "state": {
            "_view_name": "ProgressView",
            "style": "IPY_MODEL_c37d65713f814e1189b3758985d6bdfe",
            "_dom_classes": [],
            "description": "100%",
            "_model_name": "FloatProgressModel",
            "bar_style": "success",
            "max": 100,
            "_view_module": "@jupyter-widgets/controls",
            "_model_module_version": "1.5.0",
            "value": 100,
            "_view_count": null,
            "_view_module_version": "1.5.0",
            "orientation": "horizontal",
            "min": 0,
            "description_tooltip": null,
            "_model_module": "@jupyter-widgets/controls",
            "layout": "IPY_MODEL_91e01cd42398426690e21f839a9f8988"
          }
        },
        "82fe7011d5d543f9ba64555ca7c66aa0": {
          "model_module": "@jupyter-widgets/controls",
          "model_name": "HTMLModel",
          "state": {
            "_view_name": "HTMLView",
            "style": "IPY_MODEL_e1b0e790a34247f8bf13cc05a993ad7a",
            "_dom_classes": [],
            "description": "",
            "_model_name": "HTMLModel",
            "placeholder": "​",
            "_view_module": "@jupyter-widgets/controls",
            "_model_module_version": "1.5.0",
            "value": " 100/100 [06:13&lt;00:00,  3.73s/it]",
            "_view_count": null,
            "_view_module_version": "1.5.0",
            "description_tooltip": null,
            "_model_module": "@jupyter-widgets/controls",
            "layout": "IPY_MODEL_b8d74fbb8de648a499b6af51e12dc526"
          }
        },
        "c37d65713f814e1189b3758985d6bdfe": {
          "model_module": "@jupyter-widgets/controls",
          "model_name": "ProgressStyleModel",
          "state": {
            "_view_name": "StyleView",
            "_model_name": "ProgressStyleModel",
            "description_width": "initial",
            "_view_module": "@jupyter-widgets/base",
            "_model_module_version": "1.5.0",
            "_view_count": null,
            "_view_module_version": "1.2.0",
            "bar_color": null,
            "_model_module": "@jupyter-widgets/controls"
          }
        },
        "91e01cd42398426690e21f839a9f8988": {
          "model_module": "@jupyter-widgets/base",
          "model_name": "LayoutModel",
          "state": {
            "_view_name": "LayoutView",
            "grid_template_rows": null,
            "right": null,
            "justify_content": null,
            "_view_module": "@jupyter-widgets/base",
            "overflow": null,
            "_model_module_version": "1.2.0",
            "_view_count": null,
            "flex_flow": null,
            "width": null,
            "min_width": null,
            "border": null,
            "align_items": null,
            "bottom": null,
            "_model_module": "@jupyter-widgets/base",
            "top": null,
            "grid_column": null,
            "overflow_y": null,
            "overflow_x": null,
            "grid_auto_flow": null,
            "grid_area": null,
            "grid_template_columns": null,
            "flex": null,
            "_model_name": "LayoutModel",
            "justify_items": null,
            "grid_row": null,
            "max_height": null,
            "align_content": null,
            "visibility": null,
            "align_self": null,
            "height": null,
            "min_height": null,
            "padding": null,
            "grid_auto_rows": null,
            "grid_gap": null,
            "max_width": null,
            "order": null,
            "_view_module_version": "1.2.0",
            "grid_template_areas": null,
            "object_position": null,
            "object_fit": null,
            "grid_auto_columns": null,
            "margin": null,
            "display": null,
            "left": null
          }
        },
        "e1b0e790a34247f8bf13cc05a993ad7a": {
          "model_module": "@jupyter-widgets/controls",
          "model_name": "DescriptionStyleModel",
          "state": {
            "_view_name": "StyleView",
            "_model_name": "DescriptionStyleModel",
            "description_width": "",
            "_view_module": "@jupyter-widgets/base",
            "_model_module_version": "1.5.0",
            "_view_count": null,
            "_view_module_version": "1.2.0",
            "_model_module": "@jupyter-widgets/controls"
          }
        },
        "b8d74fbb8de648a499b6af51e12dc526": {
          "model_module": "@jupyter-widgets/base",
          "model_name": "LayoutModel",
          "state": {
            "_view_name": "LayoutView",
            "grid_template_rows": null,
            "right": null,
            "justify_content": null,
            "_view_module": "@jupyter-widgets/base",
            "overflow": null,
            "_model_module_version": "1.2.0",
            "_view_count": null,
            "flex_flow": null,
            "width": null,
            "min_width": null,
            "border": null,
            "align_items": null,
            "bottom": null,
            "_model_module": "@jupyter-widgets/base",
            "top": null,
            "grid_column": null,
            "overflow_y": null,
            "overflow_x": null,
            "grid_auto_flow": null,
            "grid_area": null,
            "grid_template_columns": null,
            "flex": null,
            "_model_name": "LayoutModel",
            "justify_items": null,
            "grid_row": null,
            "max_height": null,
            "align_content": null,
            "visibility": null,
            "align_self": null,
            "height": null,
            "min_height": null,
            "padding": null,
            "grid_auto_rows": null,
            "grid_gap": null,
            "max_width": null,
            "order": null,
            "_view_module_version": "1.2.0",
            "grid_template_areas": null,
            "object_position": null,
            "object_fit": null,
            "grid_auto_columns": null,
            "margin": null,
            "display": null,
            "left": null
          }
        },
        "9d55aaea47984a779ad176347c7a5923": {
          "model_module": "@jupyter-widgets/controls",
          "model_name": "HBoxModel",
          "state": {
            "_view_name": "HBoxView",
            "_dom_classes": [],
            "_model_name": "HBoxModel",
            "_view_module": "@jupyter-widgets/controls",
            "_model_module_version": "1.5.0",
            "_view_count": null,
            "_view_module_version": "1.5.0",
            "box_style": "",
            "layout": "IPY_MODEL_61b883f258ff415abd3ff69f23684f02",
            "_model_module": "@jupyter-widgets/controls",
            "children": [
              "IPY_MODEL_b868459d45e6460497a56c9c5ca33480",
              "IPY_MODEL_09e191387720454e94a3dfa513800a34"
            ]
          }
        },
        "61b883f258ff415abd3ff69f23684f02": {
          "model_module": "@jupyter-widgets/base",
          "model_name": "LayoutModel",
          "state": {
            "_view_name": "LayoutView",
            "grid_template_rows": null,
            "right": null,
            "justify_content": null,
            "_view_module": "@jupyter-widgets/base",
            "overflow": null,
            "_model_module_version": "1.2.0",
            "_view_count": null,
            "flex_flow": null,
            "width": null,
            "min_width": null,
            "border": null,
            "align_items": null,
            "bottom": null,
            "_model_module": "@jupyter-widgets/base",
            "top": null,
            "grid_column": null,
            "overflow_y": null,
            "overflow_x": null,
            "grid_auto_flow": null,
            "grid_area": null,
            "grid_template_columns": null,
            "flex": null,
            "_model_name": "LayoutModel",
            "justify_items": null,
            "grid_row": null,
            "max_height": null,
            "align_content": null,
            "visibility": null,
            "align_self": null,
            "height": null,
            "min_height": null,
            "padding": null,
            "grid_auto_rows": null,
            "grid_gap": null,
            "max_width": null,
            "order": null,
            "_view_module_version": "1.2.0",
            "grid_template_areas": null,
            "object_position": null,
            "object_fit": null,
            "grid_auto_columns": null,
            "margin": null,
            "display": null,
            "left": null
          }
        },
        "b868459d45e6460497a56c9c5ca33480": {
          "model_module": "@jupyter-widgets/controls",
          "model_name": "FloatProgressModel",
          "state": {
            "_view_name": "ProgressView",
            "style": "IPY_MODEL_335a7f20a4a94f18b77c1a272c21690c",
            "_dom_classes": [],
            "description": "100%",
            "_model_name": "FloatProgressModel",
            "bar_style": "success",
            "max": 2848,
            "_view_module": "@jupyter-widgets/controls",
            "_model_module_version": "1.5.0",
            "value": 2848,
            "_view_count": null,
            "_view_module_version": "1.5.0",
            "orientation": "horizontal",
            "min": 0,
            "description_tooltip": null,
            "_model_module": "@jupyter-widgets/controls",
            "layout": "IPY_MODEL_e53b978e5ff9485491575d308a208715"
          }
        },
        "09e191387720454e94a3dfa513800a34": {
          "model_module": "@jupyter-widgets/controls",
          "model_name": "HTMLModel",
          "state": {
            "_view_name": "HTMLView",
            "style": "IPY_MODEL_3f489c1821ee4fd8aa8415cb1acb022a",
            "_dom_classes": [],
            "description": "",
            "_model_name": "HTMLModel",
            "placeholder": "​",
            "_view_module": "@jupyter-widgets/controls",
            "_model_module_version": "1.5.0",
            "value": " 2848/2848 [10:47&lt;00:00,  4.40it/s]",
            "_view_count": null,
            "_view_module_version": "1.5.0",
            "description_tooltip": null,
            "_model_module": "@jupyter-widgets/controls",
            "layout": "IPY_MODEL_67aa3f2adab4458e909cc031823e37f7"
          }
        },
        "335a7f20a4a94f18b77c1a272c21690c": {
          "model_module": "@jupyter-widgets/controls",
          "model_name": "ProgressStyleModel",
          "state": {
            "_view_name": "StyleView",
            "_model_name": "ProgressStyleModel",
            "description_width": "initial",
            "_view_module": "@jupyter-widgets/base",
            "_model_module_version": "1.5.0",
            "_view_count": null,
            "_view_module_version": "1.2.0",
            "bar_color": null,
            "_model_module": "@jupyter-widgets/controls"
          }
        },
        "e53b978e5ff9485491575d308a208715": {
          "model_module": "@jupyter-widgets/base",
          "model_name": "LayoutModel",
          "state": {
            "_view_name": "LayoutView",
            "grid_template_rows": null,
            "right": null,
            "justify_content": null,
            "_view_module": "@jupyter-widgets/base",
            "overflow": null,
            "_model_module_version": "1.2.0",
            "_view_count": null,
            "flex_flow": null,
            "width": null,
            "min_width": null,
            "border": null,
            "align_items": null,
            "bottom": null,
            "_model_module": "@jupyter-widgets/base",
            "top": null,
            "grid_column": null,
            "overflow_y": null,
            "overflow_x": null,
            "grid_auto_flow": null,
            "grid_area": null,
            "grid_template_columns": null,
            "flex": null,
            "_model_name": "LayoutModel",
            "justify_items": null,
            "grid_row": null,
            "max_height": null,
            "align_content": null,
            "visibility": null,
            "align_self": null,
            "height": null,
            "min_height": null,
            "padding": null,
            "grid_auto_rows": null,
            "grid_gap": null,
            "max_width": null,
            "order": null,
            "_view_module_version": "1.2.0",
            "grid_template_areas": null,
            "object_position": null,
            "object_fit": null,
            "grid_auto_columns": null,
            "margin": null,
            "display": null,
            "left": null
          }
        },
        "3f489c1821ee4fd8aa8415cb1acb022a": {
          "model_module": "@jupyter-widgets/controls",
          "model_name": "DescriptionStyleModel",
          "state": {
            "_view_name": "StyleView",
            "_model_name": "DescriptionStyleModel",
            "description_width": "",
            "_view_module": "@jupyter-widgets/base",
            "_model_module_version": "1.5.0",
            "_view_count": null,
            "_view_module_version": "1.2.0",
            "_model_module": "@jupyter-widgets/controls"
          }
        },
        "67aa3f2adab4458e909cc031823e37f7": {
          "model_module": "@jupyter-widgets/base",
          "model_name": "LayoutModel",
          "state": {
            "_view_name": "LayoutView",
            "grid_template_rows": null,
            "right": null,
            "justify_content": null,
            "_view_module": "@jupyter-widgets/base",
            "overflow": null,
            "_model_module_version": "1.2.0",
            "_view_count": null,
            "flex_flow": null,
            "width": null,
            "min_width": null,
            "border": null,
            "align_items": null,
            "bottom": null,
            "_model_module": "@jupyter-widgets/base",
            "top": null,
            "grid_column": null,
            "overflow_y": null,
            "overflow_x": null,
            "grid_auto_flow": null,
            "grid_area": null,
            "grid_template_columns": null,
            "flex": null,
            "_model_name": "LayoutModel",
            "justify_items": null,
            "grid_row": null,
            "max_height": null,
            "align_content": null,
            "visibility": null,
            "align_self": null,
            "height": null,
            "min_height": null,
            "padding": null,
            "grid_auto_rows": null,
            "grid_gap": null,
            "max_width": null,
            "order": null,
            "_view_module_version": "1.2.0",
            "grid_template_areas": null,
            "object_position": null,
            "object_fit": null,
            "grid_auto_columns": null,
            "margin": null,
            "display": null,
            "left": null
          }
        },
        "437e2ebdd6354be180f6f0b0737082ba": {
          "model_module": "@jupyter-widgets/controls",
          "model_name": "HBoxModel",
          "state": {
            "_view_name": "HBoxView",
            "_dom_classes": [],
            "_model_name": "HBoxModel",
            "_view_module": "@jupyter-widgets/controls",
            "_model_module_version": "1.5.0",
            "_view_count": null,
            "_view_module_version": "1.5.0",
            "box_style": "",
            "layout": "IPY_MODEL_b6a380f47a5945e8b4a9f5a5ee0e421f",
            "_model_module": "@jupyter-widgets/controls",
            "children": [
              "IPY_MODEL_34b7cbbcce3244b8a13edd0e0460c350",
              "IPY_MODEL_a2f17a035c7449ff97640f440396e689"
            ]
          }
        },
        "b6a380f47a5945e8b4a9f5a5ee0e421f": {
          "model_module": "@jupyter-widgets/base",
          "model_name": "LayoutModel",
          "state": {
            "_view_name": "LayoutView",
            "grid_template_rows": null,
            "right": null,
            "justify_content": null,
            "_view_module": "@jupyter-widgets/base",
            "overflow": null,
            "_model_module_version": "1.2.0",
            "_view_count": null,
            "flex_flow": null,
            "width": null,
            "min_width": null,
            "border": null,
            "align_items": null,
            "bottom": null,
            "_model_module": "@jupyter-widgets/base",
            "top": null,
            "grid_column": null,
            "overflow_y": null,
            "overflow_x": null,
            "grid_auto_flow": null,
            "grid_area": null,
            "grid_template_columns": null,
            "flex": null,
            "_model_name": "LayoutModel",
            "justify_items": null,
            "grid_row": null,
            "max_height": null,
            "align_content": null,
            "visibility": null,
            "align_self": null,
            "height": null,
            "min_height": null,
            "padding": null,
            "grid_auto_rows": null,
            "grid_gap": null,
            "max_width": null,
            "order": null,
            "_view_module_version": "1.2.0",
            "grid_template_areas": null,
            "object_position": null,
            "object_fit": null,
            "grid_auto_columns": null,
            "margin": null,
            "display": null,
            "left": null
          }
        },
        "34b7cbbcce3244b8a13edd0e0460c350": {
          "model_module": "@jupyter-widgets/controls",
          "model_name": "FloatProgressModel",
          "state": {
            "_view_name": "ProgressView",
            "style": "IPY_MODEL_b31ffef465d04d098e202333d333fe4d",
            "_dom_classes": [],
            "description": "100%",
            "_model_name": "FloatProgressModel",
            "bar_style": "success",
            "max": 300,
            "_view_module": "@jupyter-widgets/controls",
            "_model_module_version": "1.5.0",
            "value": 300,
            "_view_count": null,
            "_view_module_version": "1.5.0",
            "orientation": "horizontal",
            "min": 0,
            "description_tooltip": null,
            "_model_module": "@jupyter-widgets/controls",
            "layout": "IPY_MODEL_91611d7422c944868f944e5bf0f186b4"
          }
        },
        "a2f17a035c7449ff97640f440396e689": {
          "model_module": "@jupyter-widgets/controls",
          "model_name": "HTMLModel",
          "state": {
            "_view_name": "HTMLView",
            "style": "IPY_MODEL_027dbe257cee44cc85cf70007fdb9dfc",
            "_dom_classes": [],
            "description": "",
            "_model_name": "HTMLModel",
            "placeholder": "​",
            "_view_module": "@jupyter-widgets/controls",
            "_model_module_version": "1.5.0",
            "value": " 300/300 [2:01:10&lt;00:00, 24.24s/it]",
            "_view_count": null,
            "_view_module_version": "1.5.0",
            "description_tooltip": null,
            "_model_module": "@jupyter-widgets/controls",
            "layout": "IPY_MODEL_1edae992d0324159904e96cdd62962eb"
          }
        },
        "b31ffef465d04d098e202333d333fe4d": {
          "model_module": "@jupyter-widgets/controls",
          "model_name": "ProgressStyleModel",
          "state": {
            "_view_name": "StyleView",
            "_model_name": "ProgressStyleModel",
            "description_width": "initial",
            "_view_module": "@jupyter-widgets/base",
            "_model_module_version": "1.5.0",
            "_view_count": null,
            "_view_module_version": "1.2.0",
            "bar_color": null,
            "_model_module": "@jupyter-widgets/controls"
          }
        },
        "91611d7422c944868f944e5bf0f186b4": {
          "model_module": "@jupyter-widgets/base",
          "model_name": "LayoutModel",
          "state": {
            "_view_name": "LayoutView",
            "grid_template_rows": null,
            "right": null,
            "justify_content": null,
            "_view_module": "@jupyter-widgets/base",
            "overflow": null,
            "_model_module_version": "1.2.0",
            "_view_count": null,
            "flex_flow": null,
            "width": null,
            "min_width": null,
            "border": null,
            "align_items": null,
            "bottom": null,
            "_model_module": "@jupyter-widgets/base",
            "top": null,
            "grid_column": null,
            "overflow_y": null,
            "overflow_x": null,
            "grid_auto_flow": null,
            "grid_area": null,
            "grid_template_columns": null,
            "flex": null,
            "_model_name": "LayoutModel",
            "justify_items": null,
            "grid_row": null,
            "max_height": null,
            "align_content": null,
            "visibility": null,
            "align_self": null,
            "height": null,
            "min_height": null,
            "padding": null,
            "grid_auto_rows": null,
            "grid_gap": null,
            "max_width": null,
            "order": null,
            "_view_module_version": "1.2.0",
            "grid_template_areas": null,
            "object_position": null,
            "object_fit": null,
            "grid_auto_columns": null,
            "margin": null,
            "display": null,
            "left": null
          }
        },
        "027dbe257cee44cc85cf70007fdb9dfc": {
          "model_module": "@jupyter-widgets/controls",
          "model_name": "DescriptionStyleModel",
          "state": {
            "_view_name": "StyleView",
            "_model_name": "DescriptionStyleModel",
            "description_width": "",
            "_view_module": "@jupyter-widgets/base",
            "_model_module_version": "1.5.0",
            "_view_count": null,
            "_view_module_version": "1.2.0",
            "_model_module": "@jupyter-widgets/controls"
          }
        },
        "1edae992d0324159904e96cdd62962eb": {
          "model_module": "@jupyter-widgets/base",
          "model_name": "LayoutModel",
          "state": {
            "_view_name": "LayoutView",
            "grid_template_rows": null,
            "right": null,
            "justify_content": null,
            "_view_module": "@jupyter-widgets/base",
            "overflow": null,
            "_model_module_version": "1.2.0",
            "_view_count": null,
            "flex_flow": null,
            "width": null,
            "min_width": null,
            "border": null,
            "align_items": null,
            "bottom": null,
            "_model_module": "@jupyter-widgets/base",
            "top": null,
            "grid_column": null,
            "overflow_y": null,
            "overflow_x": null,
            "grid_auto_flow": null,
            "grid_area": null,
            "grid_template_columns": null,
            "flex": null,
            "_model_name": "LayoutModel",
            "justify_items": null,
            "grid_row": null,
            "max_height": null,
            "align_content": null,
            "visibility": null,
            "align_self": null,
            "height": null,
            "min_height": null,
            "padding": null,
            "grid_auto_rows": null,
            "grid_gap": null,
            "max_width": null,
            "order": null,
            "_view_module_version": "1.2.0",
            "grid_template_areas": null,
            "object_position": null,
            "object_fit": null,
            "grid_auto_columns": null,
            "margin": null,
            "display": null,
            "left": null
          }
        }
      }
    }
  },
  "cells": [
    {
      "cell_type": "code",
      "metadata": {
        "id": "9ldl4dfjQ5IF",
        "colab_type": "code",
        "outputId": "201f9e20-2986-40ac-923f-dba4922ce011",
        "colab": {
          "base_uri": "https://localhost:8080/",
          "height": 680
        }
      },
      "source": [
        "!pip install https://github.com/PyThaiNLP/pythainlp/archive/dev.zip\n",
        "!pip install rouge"
      ],
      "execution_count": 0,
      "outputs": [
        {
          "output_type": "stream",
          "text": [
            "Collecting https://github.com/PyThaiNLP/pythainlp/archive/dev.zip\n",
            "\u001b[?25l  Downloading https://github.com/PyThaiNLP/pythainlp/archive/dev.zip\n",
            "\u001b[K     / 19.7MB 135kB/s\n",
            "\u001b[?25hRequirement already satisfied: dill>=0.3.0 in /usr/local/lib/python3.6/dist-packages (from pythainlp==2.2.0.dev1) (0.3.1.1)\n",
            "Collecting nltk>=3.3\n",
            "\u001b[?25l  Downloading https://files.pythonhosted.org/packages/92/75/ce35194d8e3022203cca0d2f896dbb88689f9b3fce8e9f9cff942913519d/nltk-3.5.zip (1.4MB)\n",
            "\u001b[K     |████████████████████████████████| 1.4MB 2.8MB/s \n",
            "\u001b[?25hCollecting python-crfsuite>=0.9.6\n",
            "\u001b[?25l  Downloading https://files.pythonhosted.org/packages/95/99/869dde6dbf3e0d07a013c8eebfb0a3d30776334e0097f8432b631a9a3a19/python_crfsuite-0.9.7-cp36-cp36m-manylinux1_x86_64.whl (743kB)\n",
            "\u001b[K     |████████████████████████████████| 747kB 19.4MB/s \n",
            "\u001b[?25hRequirement already satisfied: requests>=2.22.0 in /usr/local/lib/python3.6/dist-packages (from pythainlp==2.2.0.dev1) (2.23.0)\n",
            "Collecting tinydb>=3.0\n",
            "  Downloading https://files.pythonhosted.org/packages/b6/f6/b3e112addc8eb4a097f158124ce8b206767361a381f80c5f0c506d855e4a/tinydb-4.1.1-py3-none-any.whl\n",
            "Requirement already satisfied: tqdm>=4.1 in /usr/local/lib/python3.6/dist-packages (from pythainlp==2.2.0.dev1) (4.41.1)\n",
            "Requirement already satisfied: click in /usr/local/lib/python3.6/dist-packages (from nltk>=3.3->pythainlp==2.2.0.dev1) (7.1.2)\n",
            "Requirement already satisfied: joblib in /usr/local/lib/python3.6/dist-packages (from nltk>=3.3->pythainlp==2.2.0.dev1) (0.15.0)\n",
            "Requirement already satisfied: regex in /usr/local/lib/python3.6/dist-packages (from nltk>=3.3->pythainlp==2.2.0.dev1) (2019.12.20)\n",
            "Requirement already satisfied: chardet<4,>=3.0.2 in /usr/local/lib/python3.6/dist-packages (from requests>=2.22.0->pythainlp==2.2.0.dev1) (3.0.4)\n",
            "Requirement already satisfied: idna<3,>=2.5 in /usr/local/lib/python3.6/dist-packages (from requests>=2.22.0->pythainlp==2.2.0.dev1) (2.9)\n",
            "Requirement already satisfied: urllib3!=1.25.0,!=1.25.1,<1.26,>=1.21.1 in /usr/local/lib/python3.6/dist-packages (from requests>=2.22.0->pythainlp==2.2.0.dev1) (1.24.3)\n",
            "Requirement already satisfied: certifi>=2017.4.17 in /usr/local/lib/python3.6/dist-packages (from requests>=2.22.0->pythainlp==2.2.0.dev1) (2020.4.5.1)\n",
            "Building wheels for collected packages: pythainlp, nltk\n",
            "  Building wheel for pythainlp (setup.py) ... \u001b[?25l\u001b[?25hdone\n",
            "  Created wheel for pythainlp: filename=pythainlp-2.2.0.dev1-cp36-none-any.whl size=13151687 sha256=68b4431097dbbfda44c29ef3116c2d91dc5a2a6871100d30907e3b254131415c\n",
            "  Stored in directory: /tmp/pip-ephem-wheel-cache-zlyyf9yt/wheels/79/4e/1e/26f3198c6712ecfbee92928ed1dde923a078da3d222401cc78\n",
            "  Building wheel for nltk (setup.py) ... \u001b[?25l\u001b[?25hdone\n",
            "  Created wheel for nltk: filename=nltk-3.5-cp36-none-any.whl size=1434677 sha256=433cc3fd30d94990ca972f64cb129720b6f23ad15c07acdd329669afb4769722\n",
            "  Stored in directory: /root/.cache/pip/wheels/ae/8c/3f/b1fe0ba04555b08b57ab52ab7f86023639a526d8bc8d384306\n",
            "Successfully built pythainlp nltk\n",
            "Installing collected packages: nltk, python-crfsuite, tinydb, pythainlp\n",
            "  Found existing installation: nltk 3.2.5\n",
            "    Uninstalling nltk-3.2.5:\n",
            "      Successfully uninstalled nltk-3.2.5\n",
            "Successfully installed nltk-3.5 pythainlp-2.2.0.dev1 python-crfsuite-0.9.7 tinydb-4.1.1\n",
            "Collecting rouge\n",
            "  Downloading https://files.pythonhosted.org/packages/43/cc/e18e33be20971ff73a056ebdb023476b5a545e744e3fc22acd8c758f1e0d/rouge-1.0.0-py3-none-any.whl\n",
            "Requirement already satisfied: six in /usr/local/lib/python3.6/dist-packages (from rouge) (1.12.0)\n",
            "Installing collected packages: rouge\n",
            "Successfully installed rouge-1.0.0\n"
          ],
          "name": "stdout"
        }
      ]
    },
    {
      "cell_type": "code",
      "metadata": {
        "id": "efNJ3pUACBWQ",
        "colab_type": "code",
        "outputId": "f9f04956-8a40-4b31-fb61-1334665f9eb7",
        "colab": {
          "base_uri": "https://localhost:8080/",
          "height": 816
        }
      },
      "source": [
        "!pip install deepcut"
      ],
      "execution_count": 0,
      "outputs": [
        {
          "output_type": "stream",
          "text": [
            "Collecting deepcut\n",
            "\u001b[?25l  Downloading https://files.pythonhosted.org/packages/ef/f3/ecda1d7dc51da0689b2df3d002541d0d04ac4db02c5d148eca48c8e3d219/deepcut-0.7.0.0-py3-none-any.whl (2.0MB)\n",
            "\u001b[K     |████████████████████████████████| 2.0MB 2.8MB/s \n",
            "\u001b[?25hRequirement already satisfied: h5py in /usr/local/lib/python3.6/dist-packages (from deepcut) (2.10.0)\n",
            "Requirement already satisfied: pandas in /usr/local/lib/python3.6/dist-packages (from deepcut) (1.0.3)\n",
            "Requirement already satisfied: numpy in /usr/local/lib/python3.6/dist-packages (from deepcut) (1.18.4)\n",
            "Requirement already satisfied: scikit-learn in /usr/local/lib/python3.6/dist-packages (from deepcut) (0.22.2.post1)\n",
            "Requirement already satisfied: tensorflow>=2.0.0 in /usr/local/lib/python3.6/dist-packages (from deepcut) (2.2.0)\n",
            "Requirement already satisfied: scipy in /usr/local/lib/python3.6/dist-packages (from deepcut) (1.4.1)\n",
            "Requirement already satisfied: six in /usr/local/lib/python3.6/dist-packages (from h5py->deepcut) (1.12.0)\n",
            "Requirement already satisfied: python-dateutil>=2.6.1 in /usr/local/lib/python3.6/dist-packages (from pandas->deepcut) (2.8.1)\n",
            "Requirement already satisfied: pytz>=2017.2 in /usr/local/lib/python3.6/dist-packages (from pandas->deepcut) (2018.9)\n",
            "Requirement already satisfied: joblib>=0.11 in /usr/local/lib/python3.6/dist-packages (from scikit-learn->deepcut) (0.15.0)\n",
            "Requirement already satisfied: wheel>=0.26; python_version >= \"3\" in /usr/local/lib/python3.6/dist-packages (from tensorflow>=2.0.0->deepcut) (0.34.2)\n",
            "Requirement already satisfied: termcolor>=1.1.0 in /usr/local/lib/python3.6/dist-packages (from tensorflow>=2.0.0->deepcut) (1.1.0)\n",
            "Requirement already satisfied: absl-py>=0.7.0 in /usr/local/lib/python3.6/dist-packages (from tensorflow>=2.0.0->deepcut) (0.9.0)\n",
            "Requirement already satisfied: opt-einsum>=2.3.2 in /usr/local/lib/python3.6/dist-packages (from tensorflow>=2.0.0->deepcut) (3.2.1)\n",
            "Requirement already satisfied: tensorflow-estimator<2.3.0,>=2.2.0 in /usr/local/lib/python3.6/dist-packages (from tensorflow>=2.0.0->deepcut) (2.2.0)\n",
            "Requirement already satisfied: grpcio>=1.8.6 in /usr/local/lib/python3.6/dist-packages (from tensorflow>=2.0.0->deepcut) (1.29.0)\n",
            "Requirement already satisfied: gast==0.3.3 in /usr/local/lib/python3.6/dist-packages (from tensorflow>=2.0.0->deepcut) (0.3.3)\n",
            "Requirement already satisfied: google-pasta>=0.1.8 in /usr/local/lib/python3.6/dist-packages (from tensorflow>=2.0.0->deepcut) (0.2.0)\n",
            "Requirement already satisfied: protobuf>=3.8.0 in /usr/local/lib/python3.6/dist-packages (from tensorflow>=2.0.0->deepcut) (3.10.0)\n",
            "Requirement already satisfied: tensorboard<2.3.0,>=2.2.0 in /usr/local/lib/python3.6/dist-packages (from tensorflow>=2.0.0->deepcut) (2.2.1)\n",
            "Requirement already satisfied: keras-preprocessing>=1.1.0 in /usr/local/lib/python3.6/dist-packages (from tensorflow>=2.0.0->deepcut) (1.1.2)\n",
            "Requirement already satisfied: wrapt>=1.11.1 in /usr/local/lib/python3.6/dist-packages (from tensorflow>=2.0.0->deepcut) (1.12.1)\n",
            "Requirement already satisfied: astunparse==1.6.3 in /usr/local/lib/python3.6/dist-packages (from tensorflow>=2.0.0->deepcut) (1.6.3)\n",
            "Requirement already satisfied: setuptools in /usr/local/lib/python3.6/dist-packages (from protobuf>=3.8.0->tensorflow>=2.0.0->deepcut) (46.3.0)\n",
            "Requirement already satisfied: google-auth-oauthlib<0.5,>=0.4.1 in /usr/local/lib/python3.6/dist-packages (from tensorboard<2.3.0,>=2.2.0->tensorflow>=2.0.0->deepcut) (0.4.1)\n",
            "Requirement already satisfied: tensorboard-plugin-wit>=1.6.0 in /usr/local/lib/python3.6/dist-packages (from tensorboard<2.3.0,>=2.2.0->tensorflow>=2.0.0->deepcut) (1.6.0.post3)\n",
            "Requirement already satisfied: werkzeug>=0.11.15 in /usr/local/lib/python3.6/dist-packages (from tensorboard<2.3.0,>=2.2.0->tensorflow>=2.0.0->deepcut) (1.0.1)\n",
            "Requirement already satisfied: requests<3,>=2.21.0 in /usr/local/lib/python3.6/dist-packages (from tensorboard<2.3.0,>=2.2.0->tensorflow>=2.0.0->deepcut) (2.23.0)\n",
            "Requirement already satisfied: markdown>=2.6.8 in /usr/local/lib/python3.6/dist-packages (from tensorboard<2.3.0,>=2.2.0->tensorflow>=2.0.0->deepcut) (3.2.2)\n",
            "Requirement already satisfied: google-auth<2,>=1.6.3 in /usr/local/lib/python3.6/dist-packages (from tensorboard<2.3.0,>=2.2.0->tensorflow>=2.0.0->deepcut) (1.7.2)\n",
            "Requirement already satisfied: requests-oauthlib>=0.7.0 in /usr/local/lib/python3.6/dist-packages (from google-auth-oauthlib<0.5,>=0.4.1->tensorboard<2.3.0,>=2.2.0->tensorflow>=2.0.0->deepcut) (1.3.0)\n",
            "Requirement already satisfied: urllib3!=1.25.0,!=1.25.1,<1.26,>=1.21.1 in /usr/local/lib/python3.6/dist-packages (from requests<3,>=2.21.0->tensorboard<2.3.0,>=2.2.0->tensorflow>=2.0.0->deepcut) (1.24.3)\n",
            "Requirement already satisfied: chardet<4,>=3.0.2 in /usr/local/lib/python3.6/dist-packages (from requests<3,>=2.21.0->tensorboard<2.3.0,>=2.2.0->tensorflow>=2.0.0->deepcut) (3.0.4)\n",
            "Requirement already satisfied: idna<3,>=2.5 in /usr/local/lib/python3.6/dist-packages (from requests<3,>=2.21.0->tensorboard<2.3.0,>=2.2.0->tensorflow>=2.0.0->deepcut) (2.9)\n",
            "Requirement already satisfied: certifi>=2017.4.17 in /usr/local/lib/python3.6/dist-packages (from requests<3,>=2.21.0->tensorboard<2.3.0,>=2.2.0->tensorflow>=2.0.0->deepcut) (2020.4.5.1)\n",
            "Requirement already satisfied: importlib-metadata; python_version < \"3.8\" in /usr/local/lib/python3.6/dist-packages (from markdown>=2.6.8->tensorboard<2.3.0,>=2.2.0->tensorflow>=2.0.0->deepcut) (1.6.0)\n",
            "Requirement already satisfied: cachetools<3.2,>=2.0.0 in /usr/local/lib/python3.6/dist-packages (from google-auth<2,>=1.6.3->tensorboard<2.3.0,>=2.2.0->tensorflow>=2.0.0->deepcut) (3.1.1)\n",
            "Requirement already satisfied: pyasn1-modules>=0.2.1 in /usr/local/lib/python3.6/dist-packages (from google-auth<2,>=1.6.3->tensorboard<2.3.0,>=2.2.0->tensorflow>=2.0.0->deepcut) (0.2.8)\n",
            "Requirement already satisfied: rsa<4.1,>=3.1.4 in /usr/local/lib/python3.6/dist-packages (from google-auth<2,>=1.6.3->tensorboard<2.3.0,>=2.2.0->tensorflow>=2.0.0->deepcut) (4.0)\n",
            "Requirement already satisfied: oauthlib>=3.0.0 in /usr/local/lib/python3.6/dist-packages (from requests-oauthlib>=0.7.0->google-auth-oauthlib<0.5,>=0.4.1->tensorboard<2.3.0,>=2.2.0->tensorflow>=2.0.0->deepcut) (3.1.0)\n",
            "Requirement already satisfied: zipp>=0.5 in /usr/local/lib/python3.6/dist-packages (from importlib-metadata; python_version < \"3.8\"->markdown>=2.6.8->tensorboard<2.3.0,>=2.2.0->tensorflow>=2.0.0->deepcut) (3.1.0)\n",
            "Requirement already satisfied: pyasn1<0.5.0,>=0.4.6 in /usr/local/lib/python3.6/dist-packages (from pyasn1-modules>=0.2.1->google-auth<2,>=1.6.3->tensorboard<2.3.0,>=2.2.0->tensorflow>=2.0.0->deepcut) (0.4.8)\n",
            "Installing collected packages: deepcut\n",
            "Successfully installed deepcut-0.7.0.0\n"
          ],
          "name": "stdout"
        }
      ]
    },
    {
      "cell_type": "code",
      "metadata": {
        "id": "ZqFAfvZXBpqO",
        "colab_type": "code",
        "outputId": "aab2201f-856d-43ba-957a-3cab01fd61a8",
        "colab": {
          "base_uri": "https://localhost:8080/",
          "height": 34
        }
      },
      "source": [
        "import tensorflow as tf\n",
        "\n",
        "import matplotlib.pyplot as plt\n",
        "import matplotlib.ticker as ticker\n",
        "from sklearn.model_selection import train_test_split\n",
        "\n",
        "import pythainlp\n",
        "from tqdm import tqdm_notebook\n",
        "from rouge import Rouge \n",
        "\n",
        "from google.colab import drive\n",
        "from pydrive.auth import GoogleAuth\n",
        "from pydrive.drive import GoogleDrive\n",
        "from google.colab import auth\n",
        "from oauth2client.client import GoogleCredentials\n",
        "import pickle\n",
        "import pandas as pd\n",
        "drive.mount('/gdrive')\n",
        "\n",
        "import unicodedata\n",
        "import re\n",
        "import numpy as np\n",
        "import os\n",
        "import io\n",
        "import time"
      ],
      "execution_count": 0,
      "outputs": [
        {
          "output_type": "stream",
          "text": [
            "Drive already mounted at /gdrive; to attempt to forcibly remount, call drive.mount(\"/gdrive\", force_remount=True).\n"
          ],
          "name": "stdout"
        }
      ]
    },
    {
      "cell_type": "code",
      "metadata": {
        "id": "O85jAJxzQTrj",
        "colab_type": "code",
        "colab": {}
      },
      "source": [
        "import pickle\n",
        "THAIGOV_PATH = '/gdrive/Shared drives/NeuroSummary/data/b_data_playground/'\n",
        "with open(THAIGOV_PATH + 'thai_gov_clean_cut.pkl', 'rb') as f:\n",
        "  df = pickle.load(f)\n",
        "with open(THAIGOV_PATH + 'thai_gov_stop_clean_cut.pkl', 'rb') as f:\n",
        "  df_stop = pickle.load(f)"
      ],
      "execution_count": 0,
      "outputs": []
    },
    {
      "cell_type": "markdown",
      "metadata": {
        "id": "R4EEvLSARYcp",
        "colab_type": "text"
      },
      "source": [
        "eliminate len 0"
      ]
    },
    {
      "cell_type": "code",
      "metadata": {
        "id": "j4cnwBzGQY2U",
        "colab_type": "code",
        "outputId": "9c6eb09e-cb81-4b76-fe63-faa9432e609b",
        "colab": {
          "base_uri": "https://localhost:8080/",
          "height": 49
        }
      },
      "source": [
        "df_stop[df_stop.content.apply(lambda x: len(x) == 0)]\n",
        "df[df.content.apply(lambda x: len(x) == 0)]"
      ],
      "execution_count": 0,
      "outputs": [
        {
          "output_type": "execute_result",
          "data": {
            "text/html": [
              "<div>\n",
              "<style scoped>\n",
              "    .dataframe tbody tr th:only-of-type {\n",
              "        vertical-align: middle;\n",
              "    }\n",
              "\n",
              "    .dataframe tbody tr th {\n",
              "        vertical-align: top;\n",
              "    }\n",
              "\n",
              "    .dataframe thead th {\n",
              "        text-align: right;\n",
              "    }\n",
              "</style>\n",
              "<table border=\"1\" class=\"dataframe\">\n",
              "  <thead>\n",
              "    <tr style=\"text-align: right;\">\n",
              "      <th></th>\n",
              "      <th>content</th>\n",
              "      <th>headline</th>\n",
              "      <th>class</th>\n",
              "    </tr>\n",
              "  </thead>\n",
              "  <tbody>\n",
              "  </tbody>\n",
              "</table>\n",
              "</div>"
            ],
            "text/plain": [
              "Empty DataFrame\n",
              "Columns: [content, headline, class]\n",
              "Index: []"
            ]
          },
          "metadata": {
            "tags": []
          },
          "execution_count": 163
        }
      ]
    },
    {
      "cell_type": "code",
      "metadata": {
        "id": "qJg1Z22-T66w",
        "colab_type": "code",
        "colab": {}
      },
      "source": [
        "def avg_f1_rouge(hyp, label):\n",
        "    rouge = Rouge()\n",
        "    t = rouge.get_scores(' '.join(hyp), ' '.join(label))[0]\n",
        "    return t['rouge-1']['f']+2*t['rouge-2']['f']+t['rouge-l']['f']"
      ],
      "execution_count": 0,
      "outputs": []
    },
    {
      "cell_type": "code",
      "metadata": {
        "id": "xiCdrbzwrG3X",
        "colab_type": "code",
        "outputId": "ebd0193f-df7b-4fdd-f537-38776d8d36e0",
        "colab": {
          "base_uri": "https://localhost:8080/",
          "height": 419
        }
      },
      "source": [
        "df"
      ],
      "execution_count": 0,
      "outputs": [
        {
          "output_type": "execute_result",
          "data": {
            "text/html": [
              "<div>\n",
              "<style scoped>\n",
              "    .dataframe tbody tr th:only-of-type {\n",
              "        vertical-align: middle;\n",
              "    }\n",
              "\n",
              "    .dataframe tbody tr th {\n",
              "        vertical-align: top;\n",
              "    }\n",
              "\n",
              "    .dataframe thead th {\n",
              "        text-align: right;\n",
              "    }\n",
              "</style>\n",
              "<table border=\"1\" class=\"dataframe\">\n",
              "  <thead>\n",
              "    <tr style=\"text-align: right;\">\n",
              "      <th></th>\n",
              "      <th>content</th>\n",
              "      <th>headline</th>\n",
              "      <th>class</th>\n",
              "    </tr>\n",
              "  </thead>\n",
              "  <tbody>\n",
              "    <tr>\n",
              "      <th>0</th>\n",
              "      <td>[ธนาคารอาคารสงเคราะห์, ธอส., ประกาศ, มาตรการ, ...</td>\n",
              "      <td>[ธอส., ประกาศ, มาตรการ, บรรเทา, ความ, เดือดร้อ...</td>\n",
              "      <td>ด้านเศรษฐกิจ</td>\n",
              "    </tr>\n",
              "    <tr>\n",
              "      <th>1</th>\n",
              "      <td>[พลเอก ประยุทธ์ จันทร์โอชา, นายก, รัฐมนตรี, ได...</td>\n",
              "      <td>[สรุป, ประเด็น, นายก, รัฐมนตรี, กล่าว, ใน, ราย...</td>\n",
              "      <td>ข่าวทำเนียบรัฐบาล</td>\n",
              "    </tr>\n",
              "    <tr>\n",
              "      <th>2</th>\n",
              "      <td>[รมว., แรงงาน, ยื่น, สัตยาบัน, อนุสัญญา, ILO, ...</td>\n",
              "      <td>[บิ๊กอู๋, ยื่น, สัตยาบัน, C, 188, ต่อ, ILO, แส...</td>\n",
              "      <td>ด้านความมั่นคง</td>\n",
              "    </tr>\n",
              "    <tr>\n",
              "      <th>3</th>\n",
              "      <td>[ออมสิน, จัด, โปรพิเศษ, Thailand, Smart, Money...</td>\n",
              "      <td>[ออมสิน, จัด, โปรโมชั่น, พิเศษ, Thailand, Smar...</td>\n",
              "      <td>ด้านเศรษฐกิจ</td>\n",
              "    </tr>\n",
              "    <tr>\n",
              "      <th>4</th>\n",
              "      <td>[ศ.คลินิก,  นพ.อุดม คชินทร, รมช., ศธ., ประชุม,...</td>\n",
              "      <td>[ม., มหิดล, เตรียม, ร่วมมือ, กับ, ม.บูรพา ผลิต...</td>\n",
              "      <td>ด้านการศึกษาฯ</td>\n",
              "    </tr>\n",
              "    <tr>\n",
              "      <th>...</th>\n",
              "      <td>...</td>\n",
              "      <td>...</td>\n",
              "      <td>...</td>\n",
              "    </tr>\n",
              "    <tr>\n",
              "      <th>17362</th>\n",
              "      <td>[ที่, ประชุม, มี, มติ, เห็น, ชอบ, ร่าง, แผน, ป...</td>\n",
              "      <td>[รอง, นรม., พลเรือ, เอก ณรงค์, ฯ, เป็น, ประธาน...</td>\n",
              "      <td>ข่าวทำเนียบรัฐบาล</td>\n",
              "    </tr>\n",
              "    <tr>\n",
              "      <th>17363</th>\n",
              "      <td>[วัน, นี้, 22, สิงหาคม, 2559, เวลา, 14, ., 00,...</td>\n",
              "      <td>[นายก, รัฐมนตรี, ยืนยัน, รัฐบาล, มุ่งมั่น, ใน,...</td>\n",
              "      <td>ข่าวทำเนียบรัฐบาล</td>\n",
              "    </tr>\n",
              "    <tr>\n",
              "      <th>17364</th>\n",
              "      <td>[วัน, นี้, 22, สิงหาคม, 2559, เวลา, 14, ., 00,...</td>\n",
              "      <td>[นายก, รัฐมนตรี, ย้ำ, รัฐบาล, มุ่ง, พัฒนา, โคร...</td>\n",
              "      <td>ข่าวทำเนียบรัฐบาล</td>\n",
              "    </tr>\n",
              "    <tr>\n",
              "      <th>17365</th>\n",
              "      <td>[วัน, นี้, 25, ส.ค., 59, เวลา, 09, ., 00, น., ...</td>\n",
              "      <td>[คปท., เห็น, ชอบ, การ, จัดทำ, แผน, ปฏิบัติการ,...</td>\n",
              "      <td>ข่าวทำเนียบรัฐบาล</td>\n",
              "    </tr>\n",
              "    <tr>\n",
              "      <th>17366</th>\n",
              "      <td>[กระโดด, 40, %, พลตรี สรรเสริญ แก้วกำเนิด, โฆษ...</td>\n",
              "      <td>[โฆษก, รัฐบาล, เผย, แผน, ดัน, โอท็อป, ขึ้น, เค...</td>\n",
              "      <td>ข่าวทำเนียบรัฐบาล</td>\n",
              "    </tr>\n",
              "  </tbody>\n",
              "</table>\n",
              "<p>17337 rows × 3 columns</p>\n",
              "</div>"
            ],
            "text/plain": [
              "                                                 content  ...              class\n",
              "0      [ธนาคารอาคารสงเคราะห์, ธอส., ประกาศ, มาตรการ, ...  ...       ด้านเศรษฐกิจ\n",
              "1      [พลเอก ประยุทธ์ จันทร์โอชา, นายก, รัฐมนตรี, ได...  ...  ข่าวทำเนียบรัฐบาล\n",
              "2      [รมว., แรงงาน, ยื่น, สัตยาบัน, อนุสัญญา, ILO, ...  ...     ด้านความมั่นคง\n",
              "3      [ออมสิน, จัด, โปรพิเศษ, Thailand, Smart, Money...  ...       ด้านเศรษฐกิจ\n",
              "4      [ศ.คลินิก,  นพ.อุดม คชินทร, รมช., ศธ., ประชุม,...  ...      ด้านการศึกษาฯ\n",
              "...                                                  ...  ...                ...\n",
              "17362  [ที่, ประชุม, มี, มติ, เห็น, ชอบ, ร่าง, แผน, ป...  ...  ข่าวทำเนียบรัฐบาล\n",
              "17363  [วัน, นี้, 22, สิงหาคม, 2559, เวลา, 14, ., 00,...  ...  ข่าวทำเนียบรัฐบาล\n",
              "17364  [วัน, นี้, 22, สิงหาคม, 2559, เวลา, 14, ., 00,...  ...  ข่าวทำเนียบรัฐบาล\n",
              "17365  [วัน, นี้, 25, ส.ค., 59, เวลา, 09, ., 00, น., ...  ...  ข่าวทำเนียบรัฐบาล\n",
              "17366  [กระโดด, 40, %, พลตรี สรรเสริญ แก้วกำเนิด, โฆษ...  ...  ข่าวทำเนียบรัฐบาล\n",
              "\n",
              "[17337 rows x 3 columns]"
            ]
          },
          "metadata": {
            "tags": []
          },
          "execution_count": 165
        }
      ]
    },
    {
      "cell_type": "code",
      "metadata": {
        "id": "bbTiipqkRdfp",
        "colab_type": "code",
        "outputId": "70b22b7d-82d7-4be2-e778-1c958ef22810",
        "colab": {
          "base_uri": "https://localhost:8080/",
          "height": 34
        }
      },
      "source": [
        "len(df['content'].iloc[0])"
      ],
      "execution_count": 0,
      "outputs": [
        {
          "output_type": "execute_result",
          "data": {
            "text/plain": [
              "1064"
            ]
          },
          "metadata": {
            "tags": []
          },
          "execution_count": 166
        }
      ]
    },
    {
      "cell_type": "code",
      "metadata": {
        "id": "26DhEy7ERph_",
        "colab_type": "code",
        "outputId": "d273b238-8284-4d3d-d8df-0a3d68366465",
        "colab": {
          "base_uri": "https://localhost:8080/",
          "height": 54
        }
      },
      "source": [
        "print(df['content'].iloc[0])"
      ],
      "execution_count": 0,
      "outputs": [
        {
          "output_type": "stream",
          "text": [
            "['ธนาคารอาคารสงเคราะห์', 'ธอส.', 'ประกาศ', 'มาตรการ', 'บรรเทา', 'ความ', 'เดือดร้อน', 'ให้', 'กับ', 'ลูกค้า', 'ของ', 'ธนาคาร', 'ที่', 'ได้', 'รับ', 'ผล', 'กระทบ', 'จาก', 'อิทธิพล', 'ของ', 'พายุ', 'โซนร้อน', 'ปาบึก', 'เพิ่มเติม', 'ด้วย', 'มาตรการ', 'พิจารณา', 'สินไหม', 'เร่งด่วน', 'Fastrack', 'ธนาคารอาคารสงเคราะห์', 'ธอส.', 'ประกาศ', 'มาตรการ', 'บรรเทา', 'ความ', 'เดือดร้อน', 'ให้', 'กับ', 'ลูกค้า', 'ของ', 'ธนาคาร', 'ที่', 'ได้', 'รับ', 'ผล', 'กระทบ', 'จาก', 'อิทธิพล', 'ของ', 'พายุ', 'โซนร้อน', 'ปาบึก', 'เพิ่มเติม', 'ด้วย', 'มาตรการ', 'พิจารณา', 'สินไหม', 'เร่งด่วน', 'Fastrack', 'สำหรับ', 'ลูกค้า', 'ที่', 'ทำ', 'กรมธรรม์', 'ประกัน', 'อัคคีภัย', 'สำหรับ', 'ที่อยู่อาศัย', 'ซึ่ง', 'คุ้มครอง', 'ภัย', 'ธรรมชาติ', 'รวม', 'ถึง', 'กรณี', 'น้ำ', 'ท่วม', 'หรือ', 'ลม', 'พายุ', 'พิจารณา', 'จ่าย', 'ค่า', 'สินไหม', 'ให้', 'กับ', 'ลูกค้า', 'ที่', 'เป็น', 'ผู้', 'ประสบ', 'ภัย', 'ทุก', 'ราย', 'อย่าง', 'เร่งด่วน', 'เป็น', 'กรณี', 'พิเศษ', '15', '000', 'บาท', 'และ', 'หาก', 'ประเมิน', 'ความ', 'เสียหาย', 'ของ', 'ที่อยู่อาศัย', 'แล้ว', 'พบ', 'ว่า', 'สูง', 'กว่า', '15', '000', 'บาท', 'หรือ', 'มี', 'น้ำ', 'ท่วม', 'ตัว', 'ที่อยู่อาศัย', 'ตั้งแต่', '100', 'เซนติเมตร', 'ขึ้น', 'ไป', 'ลูกค้า', 'มี', 'สิทธิ์', 'ได้', 'รับ', 'ค่า', 'สินไหม', 'ตาม', 'จริง', 'แต่', 'ไม่', 'เกิน', '20', '000', 'บาท', 'ติดต่อ', 'เพื่อ', 'ขอ', 'รับ', 'การ', 'พิจารณา', 'สินไหม', 'เร่งด่วน', 'ได้', 'ที่', 'สาขา', 'ของ', 'ธนาคารอาคารสงเคราะห์', 'ทุก', 'แห่ง', 'ตั้งแต่', 'วัน', 'ที่', '7', 'มกราคม', '2562', 'เป็นต้น', 'ไป', 'นายฉัตรชัย ศิริไล', 'กรรมการ', 'ผู้', 'จัดการ', 'ธนาคารอาคารสงเคราะห์', 'ธอส.', 'เปิดเผย', 'ว่า', 'เพื่อ', 'เป็น', 'การ', 'บรรเทา', 'ความ', 'เดือดร้อน', 'เพิ่มเติม', 'ให้', 'กับ', 'ลูกค้า', 'ของ', 'ธนาคาร', 'ใน', 'พื้นที่', 'ภาค', 'ใต้', 'ที่', 'ได้', 'รับ', 'ผล', 'กระทบ', 'จาก', 'อิทธิพล', 'ของ', 'พายุ', 'โซนร้อน', 'ปาบึก', 'ซึ่ง', 'อาจ', 'ส่ง', 'ผล', 'ให้', 'ที่อยู่อาศัย', 'ได้', 'รับ', 'ความ', 'เสียหาย', 'ธนาคาร', 'จึง', 'ได้', 'จัดทำ', 'มาตรการ', 'พิจารณา', 'สินไหม', 'เร่งด่วน', 'Fastrack', 'สำหรับ', 'ลูกค้า', 'ที่', 'ทำ', 'กรมธรรม์', 'ประกัน', 'อัคคีภัย', 'สำหรับ', 'ที่อยู่อาศัย', 'ซึ่ง', 'คุ้มครอง', 'ภัย', 'ธรรมชาติ', 'รวม', 'ถึง', 'กรณี', 'น้ำ', 'ท่วม', 'หรือ', 'ลม', 'พายุ', 'โดย', 'ประสาน', 'งาน', 'ให้', 'กลุ่มพันธมิตรประกัน', 'ภัย', 'ของ', 'ธนาคาร', 'พิจารณา', 'จ่าย', 'ค่า', 'สินไหม', 'ให้', 'กับ', 'ลูกค้า', 'ที่', 'เป็น', 'ผู้', 'ประสบ', 'ภัย', 'ทุก', 'ราย', 'อย่าง', 'เร่งด่วน', 'เป็น', 'กรณี', 'พิเศษ', 'จำนวน', '15', '000', 'บาท', 'เพียง', 'กรอก', 'แบบ', 'ฟอร์ม', 'พร้อม', 'แสดง', 'ภาพ', 'ถ่าย', 'ความ', 'เสียหาย', 'ของ', 'ที่อยู่อาศัย', 'ที่', 'ชัดเจน', 'และ', 'หลักฐาน', 'อื่น', 'ๆ', 'ที่', 'ธนาคาร', 'กำหนด', 'และ', 'หาก', 'กลุ่มพันธมิตรประกัน', 'ภัย', 'ของ', 'ธนาคาร', 'ประเมิน', 'ความ', 'เสียหาย', 'ของ', 'ที่อยู่อาศัย', 'แล้ว', 'พบ', 'ว่า', 'สูง', 'กว่า', '15', '000', 'บาท', 'หรือ', 'มี', 'น้ำ', 'ท่วม', 'ตัว', 'ที่อยู่อาศัย', 'ตั้งแต่', '100', 'เซนติเมตร', 'ขึ้น', 'ไป', 'ลูกค้า', 'มี', 'สิทธิ์', 'ได้', 'รับ', 'ค่า', 'สินไหม', 'ตาม', 'จริง', 'แต่', 'ไม่', 'เกิน', '20', '000', 'บาท', 'ทั้งนี้', 'สามารถ', 'ติดต่อ', 'เพื่อ', 'ขอ', 'รับ', 'การ', 'พิจารณา', 'สินไหม', 'เร่งด่วน', 'ได้', 'ที่', 'สาขา', 'ของ', 'ธนาคารอาคารสงเคราะห์', 'ทุก', 'แห่ง', 'ตั้งแต่', 'วัน', 'ที่', '7', 'มกราคม', '2562', 'เป็นต้น', 'ไป', 'สอบถาม', 'รายละเอียด', 'เพิ่มเติม', 'ได้', 'ที่', 'ธอส.', 'ทุก', 'สาขา', 'ทั่ว', 'ประเทศ', 'หรือ', 'ศูนย์', 'ลูกค้า', 'สัมพันธ์', 'Call ', 'Center', 'โทร', '0', '-', '2645', '-', '9000', 'หรือ', 'www.ghbank.co.th', 'และ', 'Facebook', 'Fanpage', 'ธนาคารอาคารสงเคราะห์', 'ทั้งนี้', 'เมื่อ', 'วัน', 'ที่', '4', 'มกราคม', '2562', 'ธอส.', 'ได้', 'ประกาศ', 'จัดทำ', 'โครงการ', 'ช่วยเหลือ', 'ผู้', 'ประสบ', 'อุทกภัย', 'ปี', '2562', 'ภาย', 'ใต้', 'กรอบ', 'วง', 'เงิน', '1', '000', 'ล้าน', 'บาท', 'เพื่อ', 'เป็น', 'มาตรการ', 'ช่วยเหลือ', 'บรรเทา', 'ความ', 'เดือดร้อน', 'ด้าน', 'ที่อยู่อาศัย', 'ให้', 'กับ', 'ลูกค้า', 'ประชาชน', 'ที่', 'ประสบ', 'อุทกภัย', 'ใน', 'พื้นที่', 'ภาค', 'ใต้', 'รวม', 'ถึง', 'มาตรการ', 'ฟื้นฟู', 'ภาย', 'หลัง', 'น้ำ', 'ลด', 'ระดับ', 'ลง', 'โดย', 'ธนาคาร', 'จะ', 'พิจารณา', 'ตาม', 'ระดับ', 'ความ', 'เสียหาย', 'ซึ่ง', 'มี', 'รายละเอียด', 'ประกอบ', 'ด้วย', 'มาตรการ', 'ที่', '1', 'สำหรับ', 'ลูกค้า', 'เดิม', 'ของ', 'ธอส.', 'กรณี', 'หลักประกัน', 'ที่อยู่อาศัย', 'ที่', 'จดจำนอง', 'กับ', 'ธนาคาร', 'ของ', 'ตน', 'เอง', 'หรือ', 'คู่', 'สมรส', 'ได้', 'รับ', 'ความ', 'เสียหาย', 'จาก', 'การ', 'ประสบ', 'อุทกภัย', 'สามารถ', 'ขอ', 'ลด', 'อัตรา', 'ดอกเบี้ย', 'และ', 'เงิน', 'งวด', 'ผ่อน', 'ชำระ', 'เดือน', 'ที่', '1', '-', '4', 'อัตรา', 'ดอกเบี้ย', '0', '%', 'ต่อ', 'ปี', 'เดือน', 'ที่', '5', '-', '16', 'อัตรา', 'ดอกเบี้ย', 'MRR', '-', '2', '.', '50', '%', 'ต่อ', 'ปี', 'เดือน', 'ที่', '17', '-', '24', 'อัตรา', 'ดอกเบี้ย', 'MRR', '-', '2', '.', '00', '%', 'ต่อ', 'ปี', 'ปี', 'ที่', '3', 'อัตรา', 'ดอกเบี้ย', 'MRR', '-', '1', '.', '00', '%', 'ต่อ', 'ปี', 'และ', 'ปี', 'ที่', '4', 'จนถึง', 'ตลอด', 'อายุ', 'สัญญา', 'เงิน', 'กู้', 'กรณี', 'ลูกค้า', 'สวัสดิการ', 'ดอกเบี้ย', 'เท่า', 'กับ', 'MRR', '-', '1', '.', '00', '%', 'ต่อ', 'ปี', 'กรณี', 'ลูกค้า', 'ราย', 'ย่อย', 'ทั่วไป', 'ดอกเบี้ย', 'เท่า', 'กับ', 'MRR', '-', '0', '.', '50', '%', 'ต่อ', 'ปี', 'กรณี', 'กู้', 'เพื่อ', 'ชำระ', 'หนี้', 'หรือ', 'ซื้อ', 'อุปกรณ์', 'และ', 'สิ่ง', 'อำนวย', 'ความ', 'สะดวก', 'ฯ', 'ดอกเบี้ย', 'เท่า', 'กับ', 'MRR', 'ปัจจุบัน', 'อัตรา', 'ดอกเบี้ย', 'MRR', 'ธอส.', 'อยู่', 'ที่', '6', '.', '75', '%', 'ต่อ', 'ปี', 'มาตรการ', 'ที่', '2', 'สำหรับ', 'ลูกค้า', 'ใหม่', 'หรือ', 'ลูกค้า', 'เดิม', 'ของ', 'ธอส.', 'ที่', 'หลักประกัน', 'ของ', 'ตน', 'เอง', 'หรือ', 'คู่', 'สมรส', 'ได้', 'รับ', 'ความ', 'เสียหาย', 'จาก', 'การ', 'ประสบ', 'อุทกภัย', 'สามารถ', 'ขอกู้', 'เพิ่ม', 'หรือ', 'กู้', 'ใหม่', 'เพื่อ', 'ปลูกสร้าง', 'อาคารทดแทน', 'หลัง', 'เดิม', 'หรือ', 'กู้', 'ซ่อมแซม', 'อาคาร', 'ที่', 'ได้', 'รับ', 'ความ', 'เสียหาย', 'คิด', 'อัตรา', 'ดอกเบี้ย', 'เงิน', 'กู้', 'คง', 'ที่', '3', '.', '00', '%', 'ต่อ', 'ปี', 'นาน', '3', 'ปี', 'หลัง', 'จาก', 'นั้น', 'กรณี', 'ลูกค้า', 'สวัสดิการ', 'คิด', 'อัตรา', 'ดอกเบี้ย', 'MRR', '-', '1', '.', '00', '%', 'ต่อ', 'ปี', 'ส่วน', 'ลูกค้า', 'ราย', 'ย่อย', 'คิด', 'อัตรา', 'ดอกเบี้ย', 'MRR', '-', '0', '.', '50', '%', 'ต่อ', 'ปี', 'สำหรับ', 'ลูกค้า', 'ผู้', 'ที่', 'ต้องการ', 'ยื่น', 'กู้', 'ตาม', 'มาตรการ', 'ที่', '2', 'ธนาคาร', 'กำหนด', 'วง', 'เงิน', 'ให้', 'กู้', 'ต่อ', 'ราย', 'ไม่', 'เกิน', '1', 'ล้าน', 'บาท', 'ต่อ', '1', 'หลัก', 'ประกัน', 'และ', 'ยัง', 'ยกเว้น', 'ค่า', 'ธรรมเนียม', 'ใน', 'รายการ', 'ที่', 'เกี่ยวข้อง', 'ประกอบ', 'ด้วย', 'ค่า', 'ตรวจสอบ', 'หลัก', 'ประกัน', 'ค่า', 'ประเมิน', 'ราคา', 'หลัก', 'ประกัน', 'ค่า', 'ธรรมเนียม', 'การ', 'ยื่น', 'กู้', 'ค่า', 'ธรรมเนียม', 'การ', 'ขอ', 'เปลี่ยนแปลง', 'อัตรา', 'ดอกเบี้ย', 'เงิน', 'กู้', 'และ', 'ค่า', 'ธรรมเนียม', 'การ', 'ขอ', 'เปลี่ยนแปลง', 'เงื่อนไข', 'การ', 'กู้', 'มาตรการ', 'ที่', '3', 'ลูกหนี้', 'ที่', 'หลัก', 'ประกัน', 'ได้', 'รับ', 'ความ', 'เสียหาย', 'และ', 'กระทบ', 'ต่อ', 'ความ', 'สามารถ', 'ใน', 'การ', 'ชำระ', 'หนี้', 'ให้', 'ลูกหนี้ประนอม', 'หนี้', 'ระยะ', 'เวลา', 'ไม่', 'เกิน', '1', 'ปี', '4', 'เดือน', 'คิด', 'อัตรา', 'ดอกเบี้ย', '0', '%', 'ต่อ', 'ปี', 'นาน', '4', 'เดือน', 'แรก', 'โดย', 'ไม่', 'ต้อง', 'ชำระ', 'เงิน', 'งวด', 'จาก', 'นั้น', 'เดือน', 'ที่', '5', '-', '16', 'อัตรา', 'ดอกเบี้ย', '1', '%', 'ต่อ', 'ปี', 'โดย', 'ให้', 'ผ่อน', 'ชำระ', 'เงิน', 'งวด', 'ไม่', 'น้อย', 'กว่า', 'ดอกเบี้ย', 'ราย', 'เดือน', 'และ', 'เมื่อ', 'ครบ', 'ระยะ', 'เวลา', 'ประนอม', 'หนี้', 'ให้', 'ลูกหนี้', 'กลับ', 'มา', 'ใช้', 'อัตรา', 'ดอกเบี้ย', 'ตาม', 'สิทธิ', 'เดิม', 'ก่อน', 'ที่', 'จะ', 'ใช้', 'มาตรการ', 'นี้', 'มาตรการ', 'ที่', '4', 'ลูก', 'หนี้', 'ที่', 'ได้', 'รับ', 'ผล', 'กระทบ', 'ด้าน', 'ราย', 'ได้', 'ให้', 'ประนอม', 'หนี้', 'เป็น', 'ระยะ', 'เวลา', 'ไม่', 'เกิน', '1', 'ปี', 'อัตรา', 'ดอกเบี้ย', '1', '%', 'ต่อ', 'ปี', 'โดย', 'ให้', 'ผ่อน', 'ชำระ', 'เงิน', 'งวด', 'ไม่', 'น้อย', 'กว่า', 'ดอกเบี้ย', 'ราย', 'เดือน', 'และ', 'เมื่อ', 'ครบ', 'ระยะ', 'เวลา', 'ประนอม', 'หนี้', 'ให้', 'ลูกหนี้', 'กลับ', 'มา', 'ใช้', 'อัตรา', 'ดอกเบี้ย', 'ตาม', 'สิทธิ', 'เดิม', 'ก่อน', 'ที่', 'จะ', 'ใช้', 'มาตรการ', 'นี้', 'มาตรการ', 'ที่', '5', 'ลูกหนี้', 'ที่', 'เสีย', 'ชีวิต', 'หรือ', 'ทุพพลภาพ', 'ถาวร', 'ให้', 'ผ่อน', 'ชำระ', 'โดย', 'ใช้', 'อัตรา', 'ดอกเบี้ย', '0', '.', '01', '%', 'ต่อ', 'ปี', 'ตลอด', 'ระยะ', 'เวลา', 'ที่', 'คงเหลือ', 'ตาม', 'สัญญา', 'กู้', 'มาตรการ', 'ที่', '6', 'กรณี', 'ที่อยู่อาศัย', 'ได้', 'รับ', 'ความ', 'เสียหาย', 'ทั้ง', 'หลัง', 'และ', 'ไม่', 'สามารถ', 'ซ่อมแซม', 'ได้', 'ให้', 'ปลอดหนี้', 'ใน', 'ส่วน', 'ของ', 'ราคา', 'อาคาร', 'และ', 'ให้', 'ผ่อน', 'ชำระ', 'ต่อ', 'เฉพาะ', 'ใน', 'ส่วน', 'ของ', 'ที่ดิน', 'ที่', 'คงเหลือ', 'เท่า', 'นั้น', 'ทั้งนี้', 'ลูกค้า', 'ที่', 'ประสงค์', 'ขอ', 'รับ', 'บริการ', 'ของ', 'โครงการ', 'ช่วยเหลือ', 'ผู้', 'ประสบ', 'อุทกภัย', 'ปี', '2562', 'สามารถ', 'ติดต่อ', 'ได้', 'ที่', 'สาขา', 'ของ', 'ธอส.', 'ตั้งแต่', 'บัด', 'นี้', 'เป็นต้น', 'ไป', 'ถึง', 'ภาย', 'ใน', 'วัน', 'ที่', '30', 'ธันวาคม', '2562', 'หรือ', 'ภาย', 'ใต้', 'กรอบ', 'วง', 'เงิน', 'ที่', 'ธนาคาร', 'กำหนด']\n"
          ],
          "name": "stdout"
        }
      ]
    },
    {
      "cell_type": "code",
      "metadata": {
        "id": "HrwQlU14TupX",
        "colab_type": "code",
        "outputId": "90659c91-a296-412d-ad56-24367a5dd258",
        "colab": {
          "base_uri": "https://localhost:8080/",
          "height": 34
        }
      },
      "source": [
        "''.join(df['headline'].iloc[0])"
      ],
      "execution_count": 0,
      "outputs": [
        {
          "output_type": "execute_result",
          "data": {
            "text/plain": [
              "'ธอส.ประกาศมาตรการบรรเทาความเดือดร้อนลูกค้าจากพายุโซนร้อนปาบึกเพิ่มเติมพิจารณาจ่ายค่าสินไหมทุกรายเร่งด่วนสูงสุด20000บาท'"
            ]
          },
          "metadata": {
            "tags": []
          },
          "execution_count": 168
        }
      ]
    },
    {
      "cell_type": "code",
      "metadata": {
        "id": "8vNJFDwJRuHX",
        "colab_type": "code",
        "outputId": "00f6517e-f9cc-4e8b-a3ee-fdec0c6196dc",
        "colab": {
          "base_uri": "https://localhost:8080/",
          "height": 1000
        }
      },
      "source": [
        "# pythainlp.tokenize.sent_tokenize(' '.join(df['content'].iloc[0]))\n",
        "[' '.join(df['content'].iloc[0][i:i+10]) for i in range(0, len(df['content'].iloc[0]),10)]"
      ],
      "execution_count": 0,
      "outputs": [
        {
          "output_type": "execute_result",
          "data": {
            "text/plain": [
              "['ธนาคารอาคารสงเคราะห์ ธอส. ประกาศ มาตรการ บรรเทา ความ เดือดร้อน ให้ กับ ลูกค้า',\n",
              " 'ของ ธนาคาร ที่ ได้ รับ ผล กระทบ จาก อิทธิพล ของ',\n",
              " 'พายุ โซนร้อน ปาบึก เพิ่มเติม ด้วย มาตรการ พิจารณา สินไหม เร่งด่วน Fastrack',\n",
              " 'ธนาคารอาคารสงเคราะห์ ธอส. ประกาศ มาตรการ บรรเทา ความ เดือดร้อน ให้ กับ ลูกค้า',\n",
              " 'ของ ธนาคาร ที่ ได้ รับ ผล กระทบ จาก อิทธิพล ของ',\n",
              " 'พายุ โซนร้อน ปาบึก เพิ่มเติม ด้วย มาตรการ พิจารณา สินไหม เร่งด่วน Fastrack',\n",
              " 'สำหรับ ลูกค้า ที่ ทำ กรมธรรม์ ประกัน อัคคีภัย สำหรับ ที่อยู่อาศัย ซึ่ง',\n",
              " 'คุ้มครอง ภัย ธรรมชาติ รวม ถึง กรณี น้ำ ท่วม หรือ ลม',\n",
              " 'พายุ พิจารณา จ่าย ค่า สินไหม ให้ กับ ลูกค้า ที่ เป็น',\n",
              " 'ผู้ ประสบ ภัย ทุก ราย อย่าง เร่งด่วน เป็น กรณี พิเศษ',\n",
              " '15 000 บาท และ หาก ประเมิน ความ เสียหาย ของ ที่อยู่อาศัย',\n",
              " 'แล้ว พบ ว่า สูง กว่า 15 000 บาท หรือ มี',\n",
              " 'น้ำ ท่วม ตัว ที่อยู่อาศัย ตั้งแต่ 100 เซนติเมตร ขึ้น ไป ลูกค้า',\n",
              " 'มี สิทธิ์ ได้ รับ ค่า สินไหม ตาม จริง แต่ ไม่',\n",
              " 'เกิน 20 000 บาท ติดต่อ เพื่อ ขอ รับ การ พิจารณา',\n",
              " 'สินไหม เร่งด่วน ได้ ที่ สาขา ของ ธนาคารอาคารสงเคราะห์ ทุก แห่ง ตั้งแต่',\n",
              " 'วัน ที่ 7 มกราคม 2562 เป็นต้น ไป นายฉัตรชัย ศิริไล กรรมการ ผู้',\n",
              " 'จัดการ ธนาคารอาคารสงเคราะห์ ธอส. เปิดเผย ว่า เพื่อ เป็น การ บรรเทา ความ',\n",
              " 'เดือดร้อน เพิ่มเติม ให้ กับ ลูกค้า ของ ธนาคาร ใน พื้นที่ ภาค',\n",
              " 'ใต้ ที่ ได้ รับ ผล กระทบ จาก อิทธิพล ของ พายุ',\n",
              " 'โซนร้อน ปาบึก ซึ่ง อาจ ส่ง ผล ให้ ที่อยู่อาศัย ได้ รับ',\n",
              " 'ความ เสียหาย ธนาคาร จึง ได้ จัดทำ มาตรการ พิจารณา สินไหม เร่งด่วน',\n",
              " 'Fastrack สำหรับ ลูกค้า ที่ ทำ กรมธรรม์ ประกัน อัคคีภัย สำหรับ ที่อยู่อาศัย',\n",
              " 'ซึ่ง คุ้มครอง ภัย ธรรมชาติ รวม ถึง กรณี น้ำ ท่วม หรือ',\n",
              " 'ลม พายุ โดย ประสาน งาน ให้ กลุ่มพันธมิตรประกัน ภัย ของ ธนาคาร',\n",
              " 'พิจารณา จ่าย ค่า สินไหม ให้ กับ ลูกค้า ที่ เป็น ผู้',\n",
              " 'ประสบ ภัย ทุก ราย อย่าง เร่งด่วน เป็น กรณี พิเศษ จำนวน',\n",
              " '15 000 บาท เพียง กรอก แบบ ฟอร์ม พร้อม แสดง ภาพ',\n",
              " 'ถ่าย ความ เสียหาย ของ ที่อยู่อาศัย ที่ ชัดเจน และ หลักฐาน อื่น',\n",
              " 'ๆ ที่ ธนาคาร กำหนด และ หาก กลุ่มพันธมิตรประกัน ภัย ของ ธนาคาร',\n",
              " 'ประเมิน ความ เสียหาย ของ ที่อยู่อาศัย แล้ว พบ ว่า สูง กว่า',\n",
              " '15 000 บาท หรือ มี น้ำ ท่วม ตัว ที่อยู่อาศัย ตั้งแต่',\n",
              " '100 เซนติเมตร ขึ้น ไป ลูกค้า มี สิทธิ์ ได้ รับ ค่า',\n",
              " 'สินไหม ตาม จริง แต่ ไม่ เกิน 20 000 บาท ทั้งนี้',\n",
              " 'สามารถ ติดต่อ เพื่อ ขอ รับ การ พิจารณา สินไหม เร่งด่วน ได้',\n",
              " 'ที่ สาขา ของ ธนาคารอาคารสงเคราะห์ ทุก แห่ง ตั้งแต่ วัน ที่ 7',\n",
              " 'มกราคม 2562 เป็นต้น ไป สอบถาม รายละเอียด เพิ่มเติม ได้ ที่ ธอส.',\n",
              " 'ทุก สาขา ทั่ว ประเทศ หรือ ศูนย์ ลูกค้า สัมพันธ์ Call  Center',\n",
              " 'โทร 0 - 2645 - 9000 หรือ www.ghbank.co.th และ Facebook',\n",
              " 'Fanpage ธนาคารอาคารสงเคราะห์ ทั้งนี้ เมื่อ วัน ที่ 4 มกราคม 2562 ธอส.',\n",
              " 'ได้ ประกาศ จัดทำ โครงการ ช่วยเหลือ ผู้ ประสบ อุทกภัย ปี 2562',\n",
              " 'ภาย ใต้ กรอบ วง เงิน 1 000 ล้าน บาท เพื่อ',\n",
              " 'เป็น มาตรการ ช่วยเหลือ บรรเทา ความ เดือดร้อน ด้าน ที่อยู่อาศัย ให้ กับ',\n",
              " 'ลูกค้า ประชาชน ที่ ประสบ อุทกภัย ใน พื้นที่ ภาค ใต้ รวม',\n",
              " 'ถึง มาตรการ ฟื้นฟู ภาย หลัง น้ำ ลด ระดับ ลง โดย',\n",
              " 'ธนาคาร จะ พิจารณา ตาม ระดับ ความ เสียหาย ซึ่ง มี รายละเอียด',\n",
              " 'ประกอบ ด้วย มาตรการ ที่ 1 สำหรับ ลูกค้า เดิม ของ ธอส.',\n",
              " 'กรณี หลักประกัน ที่อยู่อาศัย ที่ จดจำนอง กับ ธนาคาร ของ ตน เอง',\n",
              " 'หรือ คู่ สมรส ได้ รับ ความ เสียหาย จาก การ ประสบ',\n",
              " 'อุทกภัย สามารถ ขอ ลด อัตรา ดอกเบี้ย และ เงิน งวด ผ่อน',\n",
              " 'ชำระ เดือน ที่ 1 - 4 อัตรา ดอกเบี้ย 0 %',\n",
              " 'ต่อ ปี เดือน ที่ 5 - 16 อัตรา ดอกเบี้ย MRR',\n",
              " '- 2 . 50 % ต่อ ปี เดือน ที่ 17',\n",
              " '- 24 อัตรา ดอกเบี้ย MRR - 2 . 00 %',\n",
              " 'ต่อ ปี ปี ที่ 3 อัตรา ดอกเบี้ย MRR - 1',\n",
              " '. 00 % ต่อ ปี และ ปี ที่ 4 จนถึง',\n",
              " 'ตลอด อายุ สัญญา เงิน กู้ กรณี ลูกค้า สวัสดิการ ดอกเบี้ย เท่า',\n",
              " 'กับ MRR - 1 . 00 % ต่อ ปี กรณี',\n",
              " 'ลูกค้า ราย ย่อย ทั่วไป ดอกเบี้ย เท่า กับ MRR - 0',\n",
              " '. 50 % ต่อ ปี กรณี กู้ เพื่อ ชำระ หนี้',\n",
              " 'หรือ ซื้อ อุปกรณ์ และ สิ่ง อำนวย ความ สะดวก ฯ ดอกเบี้ย',\n",
              " 'เท่า กับ MRR ปัจจุบัน อัตรา ดอกเบี้ย MRR ธอส. อยู่ ที่',\n",
              " '6 . 75 % ต่อ ปี มาตรการ ที่ 2 สำหรับ',\n",
              " 'ลูกค้า ใหม่ หรือ ลูกค้า เดิม ของ ธอส. ที่ หลักประกัน ของ',\n",
              " 'ตน เอง หรือ คู่ สมรส ได้ รับ ความ เสียหาย จาก',\n",
              " 'การ ประสบ อุทกภัย สามารถ ขอกู้ เพิ่ม หรือ กู้ ใหม่ เพื่อ',\n",
              " 'ปลูกสร้าง อาคารทดแทน หลัง เดิม หรือ กู้ ซ่อมแซม อาคาร ที่ ได้',\n",
              " 'รับ ความ เสียหาย คิด อัตรา ดอกเบี้ย เงิน กู้ คง ที่',\n",
              " '3 . 00 % ต่อ ปี นาน 3 ปี หลัง',\n",
              " 'จาก นั้น กรณี ลูกค้า สวัสดิการ คิด อัตรา ดอกเบี้ย MRR -',\n",
              " '1 . 00 % ต่อ ปี ส่วน ลูกค้า ราย ย่อย',\n",
              " 'คิด อัตรา ดอกเบี้ย MRR - 0 . 50 % ต่อ',\n",
              " 'ปี สำหรับ ลูกค้า ผู้ ที่ ต้องการ ยื่น กู้ ตาม มาตรการ',\n",
              " 'ที่ 2 ธนาคาร กำหนด วง เงิน ให้ กู้ ต่อ ราย',\n",
              " 'ไม่ เกิน 1 ล้าน บาท ต่อ 1 หลัก ประกัน และ',\n",
              " 'ยัง ยกเว้น ค่า ธรรมเนียม ใน รายการ ที่ เกี่ยวข้อง ประกอบ ด้วย',\n",
              " 'ค่า ตรวจสอบ หลัก ประกัน ค่า ประเมิน ราคา หลัก ประกัน ค่า',\n",
              " 'ธรรมเนียม การ ยื่น กู้ ค่า ธรรมเนียม การ ขอ เปลี่ยนแปลง อัตรา',\n",
              " 'ดอกเบี้ย เงิน กู้ และ ค่า ธรรมเนียม การ ขอ เปลี่ยนแปลง เงื่อนไข',\n",
              " 'การ กู้ มาตรการ ที่ 3 ลูกหนี้ ที่ หลัก ประกัน ได้',\n",
              " 'รับ ความ เสียหาย และ กระทบ ต่อ ความ สามารถ ใน การ',\n",
              " 'ชำระ หนี้ ให้ ลูกหนี้ประนอม หนี้ ระยะ เวลา ไม่ เกิน 1',\n",
              " 'ปี 4 เดือน คิด อัตรา ดอกเบี้ย 0 % ต่อ ปี',\n",
              " 'นาน 4 เดือน แรก โดย ไม่ ต้อง ชำระ เงิน งวด',\n",
              " 'จาก นั้น เดือน ที่ 5 - 16 อัตรา ดอกเบี้ย 1',\n",
              " '% ต่อ ปี โดย ให้ ผ่อน ชำระ เงิน งวด ไม่',\n",
              " 'น้อย กว่า ดอกเบี้ย ราย เดือน และ เมื่อ ครบ ระยะ เวลา',\n",
              " 'ประนอม หนี้ ให้ ลูกหนี้ กลับ มา ใช้ อัตรา ดอกเบี้ย ตาม',\n",
              " 'สิทธิ เดิม ก่อน ที่ จะ ใช้ มาตรการ นี้ มาตรการ ที่',\n",
              " '4 ลูก หนี้ ที่ ได้ รับ ผล กระทบ ด้าน ราย',\n",
              " 'ได้ ให้ ประนอม หนี้ เป็น ระยะ เวลา ไม่ เกิน 1',\n",
              " 'ปี อัตรา ดอกเบี้ย 1 % ต่อ ปี โดย ให้ ผ่อน',\n",
              " 'ชำระ เงิน งวด ไม่ น้อย กว่า ดอกเบี้ย ราย เดือน และ',\n",
              " 'เมื่อ ครบ ระยะ เวลา ประนอม หนี้ ให้ ลูกหนี้ กลับ มา',\n",
              " 'ใช้ อัตรา ดอกเบี้ย ตาม สิทธิ เดิม ก่อน ที่ จะ ใช้',\n",
              " 'มาตรการ นี้ มาตรการ ที่ 5 ลูกหนี้ ที่ เสีย ชีวิต หรือ',\n",
              " 'ทุพพลภาพ ถาวร ให้ ผ่อน ชำระ โดย ใช้ อัตรา ดอกเบี้ย 0',\n",
              " '. 01 % ต่อ ปี ตลอด ระยะ เวลา ที่ คงเหลือ',\n",
              " 'ตาม สัญญา กู้ มาตรการ ที่ 6 กรณี ที่อยู่อาศัย ได้ รับ',\n",
              " 'ความ เสียหาย ทั้ง หลัง และ ไม่ สามารถ ซ่อมแซม ได้ ให้',\n",
              " 'ปลอดหนี้ ใน ส่วน ของ ราคา อาคาร และ ให้ ผ่อน ชำระ',\n",
              " 'ต่อ เฉพาะ ใน ส่วน ของ ที่ดิน ที่ คงเหลือ เท่า นั้น',\n",
              " 'ทั้งนี้ ลูกค้า ที่ ประสงค์ ขอ รับ บริการ ของ โครงการ ช่วยเหลือ',\n",
              " 'ผู้ ประสบ อุทกภัย ปี 2562 สามารถ ติดต่อ ได้ ที่ สาขา',\n",
              " 'ของ ธอส. ตั้งแต่ บัด นี้ เป็นต้น ไป ถึง ภาย ใน',\n",
              " 'วัน ที่ 30 ธันวาคม 2562 หรือ ภาย ใต้ กรอบ วง',\n",
              " 'เงิน ที่ ธนาคาร กำหนด']"
            ]
          },
          "metadata": {
            "tags": []
          },
          "execution_count": 169
        }
      ]
    },
    {
      "cell_type": "code",
      "metadata": {
        "id": "_EVi4nYdSYJw",
        "colab_type": "code",
        "colab": {}
      },
      "source": [
        "def parse_data(idx, k, df=df):\n",
        "    sentences = [df['content'].iloc[idx][i:i+k] for i in range(0, len(df['content'].iloc[idx]),k)]\n",
        "    gold_summary = df['headline'].iloc[idx]\n",
        "    selected = []\n",
        "    y = np.zeros(len(sentences))\n",
        "    best_avg_f1 = 0\n",
        "    candidate = []\n",
        "    # for i in range(len(sentences)):\n",
        "    #     mx = 0\n",
        "    #     mxpos = 0\n",
        "    #     for j in range(len(sentences)):\n",
        "    #         if y[j] == 1:\n",
        "    #             continue\n",
        "    #         _t = []\n",
        "    #         for c in sorted(candidate+[j]):\n",
        "    #             _t += sentences[c]\n",
        "    #         if(len(_t) == 0):\n",
        "    #             continue\n",
        "    #         try:\n",
        "    #             avg_f1 = avg_f1_rouge(_t, gold_summary)\n",
        "    #         except:\n",
        "    #             continue\n",
        "    #         if avg_f1 > mx:\n",
        "    #             mx = avg_f1\n",
        "    #             mxpos = j\n",
        "    #     if mx > best_avg_f1:\n",
        "    #         best_avg_f1 = mx\n",
        "    #         candidate.append(mxpos)\n",
        "    #         y[mxpos] = 1\n",
        "    # print(candidate)\n",
        "    # for c in sorted(candidate):\n",
        "    #     selected += sentences[c]\n",
        "    \n",
        "    val = []\n",
        "    for i in range(len(sentences)):\n",
        "        if len(sentences[i]) == 0:\n",
        "            continue\n",
        "        val.append((i, avg_f1_rouge(sentences[i], gold_summary)))\n",
        "    val = sorted(val, key=lambda tup: tup[1])[::-1]\n",
        "    _t = []\n",
        "    for i in range(len(val)):\n",
        "        _t = []\n",
        "        for c in sorted(candidate+[val[i][0]]):\n",
        "            _t += sentences[c]\n",
        "        avg_f1 = avg_f1_rouge(_t, gold_summary)\n",
        "        if avg_f1 > best_avg_f1:\n",
        "            best_avg_f1 = avg_f1\n",
        "            candidate.append(val[i][0])\n",
        "    for c in sorted(candidate):\n",
        "        selected += sentences[c]\n",
        "        y[c] = 1\n",
        "    best_avg_f1 = avg_f1_rouge(selected, gold_summary)\n",
        "    # print('hyp:',''.join(selected))\n",
        "    # print('gol:',''.join(df['headline'].iloc[idx]))\n",
        "    # print('labels',y)\n",
        "    # print('best_f1:',best_avg_f1)\n",
        "    # print()\n",
        "    return y"
      ],
      "execution_count": 0,
      "outputs": []
    },
    {
      "cell_type": "code",
      "metadata": {
        "id": "RMVHi9oQgvUM",
        "colab_type": "code",
        "outputId": "c2e28726-7334-4fc1-94f4-f7c7f2546c5e",
        "colab": {
          "base_uri": "https://localhost:8080/",
          "height": 1000
        }
      },
      "source": [
        "for i in range(20):\n",
        "    f(i,8)"
      ],
      "execution_count": 0,
      "outputs": [
        {
          "output_type": "stream",
          "text": [
            "hyp: ธนาคารอาคารสงเคราะห์ธอส.ประกาศมาตรการบรรเทาความเดือดร้อนให้กระทบจากอิทธิพลของพายุโซนร้อนปาบึกเพิ่มเติมพายุพิจารณาจ่ายค่าสินไหมให้กับลูกค้า20000บาททั้งนี้สามารถติดต่อเพื่อขอ\n",
            "gol: ธอส.ประกาศมาตรการบรรเทาความเดือดร้อนลูกค้าจากพายุโซนร้อนปาบึกเพิ่มเติมพิจารณาจ่ายค่าสินไหมทุกรายเร่งด่วนสูงสุด20000บาท\n",
            "best_f1: 2.0497607458289533\n",
            "\n",
            "hyp: รายการศาสตร์พระราชา สู่การพัฒนาอย่างยั่งยืนทางสถานีโทรทัศน์รวมการเฉพาะกิจแห่งประเทศไทยในวันศุกร์ที่8กุมภาพันธ์2562\n",
            "gol: สรุปประเด็นนายกรัฐมนตรีกล่าวในรายการศาสตร์พระราชา สู่การพัฒนาอย่างยั่งยืนวันศุกร์ที่8กุมภาพันธ์2562\n",
            "best_f1: 2.5653594571896496\n",
            "\n",
            "hyp: ILOแสดงเจตจำนงของรัฐบาลไทยยกระดับมาตรฐานสากลเมื่อวันที่30มกราคม2562ใบเหลืองของภาคประมงไทยอันแสดงประเทศไทยได้เข้ายื่นสัตยาบันอนุสัญญาILOฉบับ\n",
            "gol: บิ๊กอู๋ยื่นสัตยาบันC188ต่อILOแสดงเจตนารมณ์ไทยคุ้มครองภาคประมงสู่มาตรฐานสากล\n",
            "best_f1: 0.9500987963665356\n",
            "\n",
            "hyp: ออมสินจัดโปรพิเศษThailandSmartMoneyกรุงเทพฯ14–16ธ.ค.นี้พบเงินฝากประเภท\n",
            "gol: ออมสินจัดโปรโมชั่นพิเศษThailandSmartMoneyกรุงเทพฯ14–16ธ.ค.นี้\n",
            "best_f1: 2.927697421802448\n",
            "\n",
            "hyp: พัฒนากำลังคนให้สอดคล้องกับภาคอุตสาหกรรมภาคอุตสาหกรรมในพื้นที่โดยม.มหิดล-บูรพาจะร่วมฝึกอบรมระยะสั้นและส่งเสริมTechnical\n",
            "gol: ม.มหิดลเตรียมร่วมมือกับม.บูรพา ผลิตพัฒนากำลังคนให้สอดคล้องกับภาคอุตสาหกรรมรองรับพื้นที่EECเน้นหลักสูตรฝึกอบรมระยะสั้นและภาษาอังกฤษ\n",
            "best_f1: 2.162051262083359\n",
            "\n",
            "hyp: กองทุนการออมแห่งชาติกอช.ห่วงใยประชาชนจากสถานการณ์ฝุ่นพิษPM2.5สามารถสมัครสมาชิกหรือส่งเงินสะสมได้ที่แอปพลิเคชันApplicationกอช.\n",
            "gol: กอช.ห่วงใยสมาชิกสมัครและส่งเงินสะสมผ่านแอปฯได้ที่บ้านลดความเสี่ยงสถานการณ์ฝุ่นละอองPM2.5\n",
            "best_f1: 1.8642940838368653\n",
            "\n",
            "hyp: ไม่ได้ทุกคนต้องช่วยกันพร้อมปฏิบัติตามกฎหมายอีกทั้งขอให้เจ้าหน้าที่\n",
            "gol: นายกรัฐมนตรีเผยการแก้ไขปัญหาเจ้าหน้าที่ไม่สามารถแก้ไขได้ฝ่ายเดียวทุกคนต้องช่วยกันปฏิบัติตามกฎหมาย\n",
            "best_f1: 1.8358644162215536\n",
            "\n",
            "hyp: ประชาชนมหาวิทยาลัยมหามกุฏราชวิทยาลัยและมูลนิธิหอจดหมายเหตุพุทธทาส อินทปัญโญจัดงานพิธีสมโภชพระไตรปิฎกฉบับสำหรับประชาชนฉบับวาระ100วาระ100ปีชาตกาลอาจารย์สุชีพ ปุญญานุภาพโดยจัดขึ้น\n",
            "gol: วธ.ร่วมกับ4หน่วยงานจัดงานพิธีสมโภชพระไตรปิฎกฉบับสำหรับประชาชนฉบับวาระ100ปีชาตกาลอาจารย์สุชีพ ปุญญานุภาพ\n",
            "best_f1: 2.582742296977414\n",
            "\n",
            "hyp: อนุกรรมการช่วยเหลือเยียวยาผู้ได้รับผลกระทบในพื้นที่จังหวัดชายแดนภาคใต้ครั้งผู้ได้รับผลกระทบในพื้นที่จังหวัด\n",
            "gol: กระทรวงยุติธรรมพิจารณาร่างระเบียบฯการช่วยเหลือเยียวยาผู้ได้รับผลกระทบในพื้นที่จังหวัดชายแดนภาคใต้\n",
            "best_f1: 2.652236632430406\n",
            "\n",
            "hyp: ดาราศาสตร์เพื่อพัฒนาโครงงานดาราศาสตร์ระดับโรงเรียนมอบกล้องโทรทรรศน์และสื่อการเรียนรู้ดาราศาสตร์\n",
            "gol: สดร.เชิญชวนสมัครรับมอบกล้องโทรทรรศน์และสื่อการเรียนรู้ดาราศาสตร์หนุนสร้างงานวิจัยดาราศาสตร์ระดับโรงเรียน\n",
            "best_f1: 2.327985720065367\n",
            "\n",
            "hyp: ผลการประชุมคณะกรรมการข้าราชการครูและบุคลากรทางการศึกษาก.ค.ศ.ครั้งที่14/2561\n",
            "gol: ผลการประชุมก.ค.ศ.14/2561\n",
            "best_f1: 2.2933333157404445\n",
            "\n",
            "hyp: กรมบังคับคดีเข้าร่วมประชุมคณะกรรมาธิการสหประชาชาติว่าด้วยคณะกรรมาธิการสหประชาชาติว่าด้วยกฎหมายการค้าระหว่างประเทศUNCITRALคณะทำงานที่6ว่าด้วยกฎหมายหลักประกันทางธุรกิจสมัยที่34ทำงานที่6ว่าด้วยกฎหมายหลัก\n",
            "gol: กระทรวงยุติธรรมโดยกรมบังคับคดีเข้าร่วมประชุมคณะกรรมาธิการสหประชาชาติว่าด้วยกฎหมายการค้าระหว่างประเทศUNCITRALคณะทำงานที่6ว่าด้วยกฎหมายหลักประกันทางธุรกิจณกรุงเวียนนา ประเ\n",
            "best_f1: 2.983193257647971\n",
            "\n",
            "hyp: และสังคมกล่าวปิดงานและปาฐถกถาSmart CityFrameworkDevelopmentWorkshopเมื่อวันที่\n",
            "gol: รมว.กระทรวงดิจิทัลฯกล่าวปิดงานและปาฐถกถาSmart CityFrameworkDevelopmentWorkshop\n",
            "best_f1: 3.0258164370534146\n",
            "\n",
            "hyp: บันทึกข้อตกลงความร่วมมือการบริหารจัดการน้ำ\n",
            "gol: ทส.ร่วมพิธีบันทึกข้อตกลงความร่วมมือ\n",
            "best_f1: 2.3928571228571434\n",
            "\n",
            "hyp: กสทช.ลงพื้นที่จริงของสนามทดสอบ5G5GTestbedสมบูรณ์แบบในพื้นที่อีอีซี\n",
            "gol: ดีอีนำพันธมิตร5Gทุกภาคส่วนลงพื้นที่จริง5GTestbedในพื้นที่อีอีซี\n",
            "best_f1: 2.1624850457327285\n",
            "\n",
            "hyp: วงเงินกู้ไม่เกิน1ล้านบาทเพิ่มกับบัญชีเงินฝากประจำเจ้าสัวแสน\n",
            "gol: อิ่มท้องรับปีใหม่ธอส.มอบข้าวออร์แกนิคลูกค้าวงเงินกู้ไม่เกิน1ล้านบาทด้านผู้รักการออมชวนออมเงินฝากประจำเจ้าสัวแสนล้าน\n",
            "best_f1: 2.1366459446166175\n",
            "\n",
            "hyp: กระทรวงดิจิทัลฯเผยผลสำรวจมูลค่าตลาดดิจิทัลไทยอุตสาหกรรมพบตลาดฮาร์ดแวร์และอุปกรณ์อัจฉริยะมีมูลค่าเกือบ3แสนล้านบาทe-Payment\n",
            "gol: กระทรวงดิจิทัลฯเผยผลสำรวจมูลค่าตลาดดิจิทัลไทย3อุตสาหกรรมเติบโตพบตลาดฮาร์ดแวร์และอุปกรณ์อัจฉริยะมีมูลค่าเกือบ3แสนล้านบาท\n",
            "best_f1: 3.4027079103850375\n",
            "\n",
            "hyp: การดำเนินงานด้านการคุ้มครองผู้บริโภค\n",
            "gol: คปภ.ผนึกกำลังหน่วยงานเครือข่ายเดินหน้าขับเคลื่อนกลไกการคุ้มครองผู้บริโภคเชิงรุก\n",
            "best_f1: 1.4607566169050843\n",
            "\n",
            "hyp: ประเทศไทยเข้าเยี่ยมคารวะนายกอบศักดิ์ ภูตระกูลรัฐมนตรีประจำสำนักนายกรัฐมนตรี\n",
            "gol: เอกอัครราชทูตแคนาดาประจำประเทศไทยเข้าเยี่ยมคารวะรัฐมนตรีประจำสำนักนายกรัฐมนตรี\n",
            "best_f1: 2.6910904513246825\n",
            "\n",
            "hyp: ราคาข้าวสารอาจจะปรับตัวสูงจริงจนกระทบต่อผู้บริโภคหากผู้ขึ้นราคาข้าวสูงเกินสมควรหรือไม่\n",
            "gol: พาณิชย์ยันราคาข้าวสารหอมมะลิบรรจุถุงยังไม่ปรับตัวสูงขึ้นและกระทบผู้บริโภค\n",
            "best_f1: 1.1250950568153626\n",
            "\n"
          ],
          "name": "stdout"
        }
      ]
    },
    {
      "cell_type": "code",
      "metadata": {
        "id": "QUi0kZvuZ2mB",
        "colab_type": "code",
        "outputId": "09fab8eb-290c-4db5-c166-3cee05f1b0b4",
        "colab": {
          "base_uri": "https://localhost:8080/",
          "height": 1000
        }
      },
      "source": [
        "plt.figure(figsize=(15,8))\n",
        "for j in range(5,13):\n",
        "    t = []\n",
        "    for i in range(1,20):\n",
        "        val = f(i, j)\n",
        "        t.append(val)\n",
        "    plt.plot(t, label=j)\n",
        "plt.legend()"
      ],
      "execution_count": 0,
      "outputs": [
        {
          "output_type": "stream",
          "text": [
            "hyp: พระราชา สู่การพัฒนาอย่างยั่งยืนทางสถานีโทรทัศน์รวมการเฉพาะกิจแห่งประเทศไทยในวันศุกร์ที่8กุมภาพันธ์2562เวลาท้ายนายกรัฐมนตรีกล่าวว่า\n",
            "gol: สรุปประเด็นนายกรัฐมนตรีกล่าวในรายการศาสตร์พระราชา สู่การพัฒนาอย่างยั่งยืนวันศุกร์ที่8กุมภาพันธ์2562\n",
            "best_f1: 2.663157874789543\n",
            "\n",
            "hyp: ILOฉบับที่188ว่ากล่าวเป็นการแสดงเจตนารมณ์มาตรฐานสากลและป้องกันความในภาคประมงต่อไปคุ้มครองแรงงานในภาคประมงประเทศไทยได้เข้ายื่นสัตยาบัน\n",
            "gol: บิ๊กอู๋ยื่นสัตยาบันC188ต่อILOแสดงเจตนารมณ์ไทยคุ้มครองภาคประมงสู่มาตรฐานสากล\n",
            "best_f1: 1.1644452433157457\n",
            "\n",
            "hyp: ออมสินจัดโปรพิเศษThailandSmartMoneyกรุงเทพฯ14–16ธ.ค.นี้พบเงินฝากธนาคารออมสินนำเสนอโปรโมชั่นพิเศษThailandSmartMoneyกรุงเทพฯครั้ง\n",
            "gol: ออมสินจัดโปรโมชั่นพิเศษThailandSmartMoneyกรุงเทพฯ14–16ธ.ค.นี้\n",
            "best_f1: 2.7409356542087635\n",
            "\n",
            "hyp: มาช่วยผลิตพัฒนากำลังคนให้สอดคล้องกับภาคอุตสาหกรรมในพื้นที่โดยม.มหิดล-บูรพาจะร่วมฝึกอบรมระยะสั้นและส่งเสริมTechnicalพัฒนากำลังคนให้สอดคล้องกับภาคอุตสาหกรรมและลดทักษะภาษาอังกฤษในวิชาชีพ\n",
            "gol: ม.มหิดลเตรียมร่วมมือกับม.บูรพา ผลิตพัฒนากำลังคนให้สอดคล้องกับภาคอุตสาหกรรมรองรับพื้นที่EECเน้นหลักสูตรฝึกอบรมระยะสั้นและภาษาอังกฤษ\n",
            "best_f1: 1.947542634144296\n",
            "\n",
            "hyp: สถานการณ์ฝุ่นพิษPM2ว่ากอช.ห่วงใยประชาชนใน2.5อาจจะฝุ่นพิษPM2.ส่งเงินสะสมได้ที่\n",
            "gol: กอช.ห่วงใยสมาชิกสมัครและส่งเงินสะสมผ่านแอปฯได้ที่บ้านลดความเสี่ยงสถานการณ์ฝุ่นละอองPM2.5\n",
            "best_f1: 1.7844961040888854\n",
            "\n",
            "hyp: ที่เจ้าหน้าที่อย่างเดียวไม่ได้ทุกคนต้องช่วยร่วมมือให้ประชาชนช่วยกันปฏิบัติตามกฎหมายอีกทั้ง\n",
            "gol: นายกรัฐมนตรีเผยการแก้ไขปัญหาเจ้าหน้าที่ไม่สามารถแก้ไขได้ฝ่ายเดียวทุกคนต้องช่วยกันปฏิบัติตามกฎหมาย\n",
            "best_f1: 1.8674171157226551\n",
            "\n",
            "hyp: แถลงข่าวงานพิธีสมโภชวาระ100ปีชาตกาลอาจารย์สุชีพ ปุญญานุภาพวธ.ร่วมกับมูลนิธิมหามกุฏราชวิทยาลัย ในพระบรมราชูปถัมภ์สมโภชพระไตรปิฎกฉบับสำหรับประชาชนประชาชนฉบับวาระ100ปี\n",
            "gol: วธ.ร่วมกับ4หน่วยงานจัดงานพิธีสมโภชพระไตรปิฎกฉบับสำหรับประชาชนฉบับวาระ100ปีชาตกาลอาจารย์สุชีพ ปุญญานุภาพ\n",
            "best_f1: 2.8772503893486334\n",
            "\n",
            "hyp: อนุกรรมการช่วยเหลือเยียวยาผู้ได้จังหวัดชายแดนภาคใต้ผู้ได้รับผลกระทบในพื้นที่จังหวัดชายแดน.ร่างระเบียบกพต.ว่า\n",
            "gol: กระทรวงยุติธรรมพิจารณาร่างระเบียบฯการช่วยเหลือเยียวยาผู้ได้รับผลกระทบในพื้นที่จังหวัดชายแดนภาคใต้\n",
            "best_f1: 2.7785547586900914\n",
            "\n",
            "hyp: กล้องโทรทรรศน์และสื่อการดาราศาสตร์ระดับโรงเรียนหวังผลิตงานวิจัยดาราศาสตร์เผยแพร่โครงการมอบกล้องโทรทรรศน์และสื่อการเรียนรู้ดาราศาสตร์เพื่อโทรทรรศน์และสื่อการเรียนรู้\n",
            "gol: สดร.เชิญชวนสมัครรับมอบกล้องโทรทรรศน์และสื่อการเรียนรู้ดาราศาสตร์หนุนสร้างงานวิจัยดาราศาสตร์ระดับโรงเรียน\n",
            "best_f1: 2.0464864671241667\n",
            "\n",
            "hyp: ผลการประชุมคณะกรรมการข้าราชการก.ค.ศ.ครั้งที่14/\n",
            "gol: ผลการประชุมก.ค.ศ.14/2561\n",
            "best_f1: 2.5764410832102818\n",
            "\n",
            "hyp: เข้าร่วมประชุมคณะกรรมาธิการสหประชาชาติว่าด้วยกฎหมายการค้าระหว่างประเทศUNCITRALคณะทำงานว่าด้วยกฎหมายหลักประกันงานที่6ว่าด้วยกฎหมายหลักประกันทางธุรกิจ\n",
            "gol: กระทรวงยุติธรรมโดยกรมบังคับคดีเข้าร่วมประชุมคณะกรรมาธิการสหประชาชาติว่าด้วยกฎหมายการค้าระหว่างประเทศUNCITRALคณะทำงานที่6ว่าด้วยกฎหมายหลักประกันทางธุรกิจณกรุงเวียนนา ประเ\n",
            "best_f1: 3.255772094028095\n",
            "\n",
            "hyp: กล่าวปิดงานและปาฐถกถาSmart CityFrameworkDevelopment\n",
            "gol: รมว.กระทรวงดิจิทัลฯกล่าวปิดงานและปาฐถกถาSmart CityFrameworkDevelopmentWorkshop\n",
            "best_f1: 3.4534161294425374\n",
            "\n",
            "hyp: ในบันทึกข้อตกลงความ\n",
            "gol: ทส.ร่วมพิธีบันทึกข้อตกลงความร่วมมือ\n",
            "best_f1: 2.321678302954668\n",
            "\n",
            "hyp: รายสำคัญลงพื้นที่จริง5G5GTestbedทดสอบเทคโนโลยี 5GTestbedในพื้นที่\n",
            "gol: ดีอีนำพันธมิตร5Gทุกภาคส่วนลงพื้นที่จริง5GTestbedในพื้นที่อีอีซี\n",
            "best_f1: 2.221651984063955\n",
            "\n",
            "hyp: ไม่เกิน1ล้านบาทปีเก่าต้อนรับปีใหม่วงเงินกู้ไม่เกินธนาคารยังส่งเสริมการออมบัญชีเงินฝากประจำเจ้าสัวแสนล้าน8เดือนและ\n",
            "gol: อิ่มท้องรับปีใหม่ธอส.มอบข้าวออร์แกนิคลูกค้าวงเงินกู้ไม่เกิน1ล้านบาทด้านผู้รักการออมชวนออมเงินฝากประจำเจ้าสัวแสนล้าน\n",
            "best_f1: 2.103978759848246\n",
            "\n",
            "hyp: กระทรวงดิจิทัลฯเผยผลสำรวจมูลค่าพบตลาดฮาร์ดแวร์และอุปกรณ์อัจฉริยะมีมูลค่าเกือบ3แสนตลาดดิจิทัลไทย3อุตสาหกรรม\n",
            "gol: กระทรวงดิจิทัลฯเผยผลสำรวจมูลค่าตลาดดิจิทัลไทย3อุตสาหกรรมเติบโตพบตลาดฮาร์ดแวร์และอุปกรณ์อัจฉริยะมีมูลค่าเกือบ3แสนล้านบาท\n",
            "best_f1: 3.3067178415615697\n",
            "\n",
            "hyp: จากทั้งหน่วยงานภาคและการคุ้มครองผู้บริโภค\n",
            "gol: คปภ.ผนึกกำลังหน่วยงานเครือข่ายเดินหน้าขับเคลื่อนกลไกการคุ้มครองผู้บริโภคเชิงรุก\n",
            "best_f1: 1.6556521547856335\n",
            "\n",
            "hyp: ประจำประเทศไทยเข้าเยี่ยมคารวะรัฐมนตรีประจำสำนักนายกรัฐมนตรียินดีที่\n",
            "gol: เอกอัครราชทูตแคนาดาประจำประเทศไทยเข้าเยี่ยมคารวะรัฐมนตรีประจำสำนักนายกรัฐมนตรี\n",
            "best_f1: 3.1333333133333334\n",
            "\n",
            "hyp: ผลกระทบต่อผู้บริโภคลงเหลือประมาณ6.ราคาข้าวสารอาจจะราคาสูงขึ้นเกินความ\n",
            "gol: พาณิชย์ยันราคาข้าวสารหอมมะลิบรรจุถุงยังไม่ปรับตัวสูงขึ้นและกระทบผู้บริโภค\n",
            "best_f1: 1.3721755169355352\n",
            "\n",
            "hyp: ประชาชนผ่านรายการศาสตร์พระราชา สู่การพัฒนาอย่างยั่งยืนทางสถานีโทรทัศน์รวมการเฉพาะกิจแห่งประเทศไทยในวันศุกร์ที่8กุมภาพันธ์2562ท้ายนายกรัฐมนตรีกล่าวว่าตลอด\n",
            "gol: สรุปประเด็นนายกรัฐมนตรีกล่าวในรายการศาสตร์พระราชา สู่การพัฒนาอย่างยั่งยืนวันศุกร์ที่8กุมภาพันธ์2562\n",
            "best_f1: 2.415584395974448\n",
            "\n",
            "hyp: ทำงานในภาคประมงต่อILOแสดงเจตจำนงของรัฐบาลไทยภาคประมงไทยและสินค้าประมงการแสดงเจตนารมณ์ของไทยในและสอดคล้องกับมาตรฐานสากลและเข้ายื่นสัตยาบันอนุสัญญาILOฉบับ\n",
            "gol: บิ๊กอู๋ยื่นสัตยาบันC188ต่อILOแสดงเจตนารมณ์ไทยคุ้มครองภาคประมงสู่มาตรฐานสากล\n",
            "best_f1: 1.2933208080965208\n",
            "\n",
            "hyp: ออมสินจัดโปรพิเศษThailandSmartMoneyกรุงเทพฯ14–16ธ.ค.นี้\n",
            "gol: ออมสินจัดโปรโมชั่นพิเศษThailandSmartMoneyกรุงเทพฯ14–16ธ.ค.นี้\n",
            "best_f1: 3.377777757807496\n",
            "\n",
            "hyp: พัฒนากำลังคนให้สอดคล้องกับคนให้สอดคล้องกับภาคอุตสาหกรรมในพื้นที่โดยม.มหิดล-บูรพาจะร่วมฝึกอบรมระยะสั้นและได้พัฒนาทักษะภาษาอังกฤษใน\n",
            "gol: ม.มหิดลเตรียมร่วมมือกับม.บูรพา ผลิตพัฒนากำลังคนให้สอดคล้องกับภาคอุตสาหกรรมรองรับพื้นที่EECเน้นหลักสูตรฝึกอบรมระยะสั้นและภาษาอังกฤษ\n",
            "best_f1: 2.2323152510107622\n",
            "\n",
            "hyp: กองทุนการออมแห่งชาติกอช.ห่วงใยประชาชนจากสถานการณ์สะสมได้ที่แอปพลิเคชันApplicationกอช.ฝุ่นพิษPM2.5นอกบ้านไปส่งเงินสะสมสมัครสมาชิกกอช.พร้อมส่งเงิน\n",
            "gol: กอช.ห่วงใยสมาชิกสมัครและส่งเงินสะสมผ่านแอปฯได้ที่บ้านลดความเสี่ยงสถานการณ์ฝุ่นละอองPM2.5\n",
            "best_f1: 1.5562920623579397\n",
            "\n",
            "hyp: นายกรัฐมนตรีให้กล่าวภายหลังที่เจ้าหน้าที่อย่างเดียวไม่ได้ทุกคนต้องช่วยกันพร้อมช่วยกันปฏิบัติตามกฎหมายอีก\n",
            "gol: นายกรัฐมนตรีเผยการแก้ไขปัญหาเจ้าหน้าที่ไม่สามารถแก้ไขได้ฝ่ายเดียวทุกคนต้องช่วยกันปฏิบัติตามกฎหมาย\n",
            "best_f1: 1.9854558678637044\n",
            "\n",
            "hyp: นั้นวธ.ร่วมกับมูลนิธิมหามกุฏราชวิทยาลัย ในพระบรมราชูปถัมภ์พุทธทาส อินทปัญโญจัดงานพิธีสมโภชพระไตรปิฎกฉบับสำหรับประชาชนฉบับวาระ100ปีชาตกาลอาจารย์สุชีพ ปุญญานุภาพโดยจัดขึ้น\n",
            "gol: วธ.ร่วมกับ4หน่วยงานจัดงานพิธีสมโภชพระไตรปิฎกฉบับสำหรับประชาชนฉบับวาระ100ปีชาตกาลอาจารย์สุชีพ ปุญญานุภาพ\n",
            "best_f1: 2.9788773236969854\n",
            "\n",
            "hyp: อนุกรรมการช่วยเหลือเยียวยาผู้ได้รับผู้ได้รับผลกระทบในพื้นที่จังหวัดชายแดนภาคใต้\n",
            "gol: กระทรวงยุติธรรมพิจารณาร่างระเบียบฯการช่วยเหลือเยียวยาผู้ได้รับผลกระทบในพื้นที่จังหวัดชายแดนภาคใต้\n",
            "best_f1: 2.981286529854358\n",
            "\n",
            "hyp: มอบกล้องโทรทรรศน์และสื่อการระดับโรงเรียนและชุมชนอย่างโทรทรรศน์และสื่อการเรียนรู้ดาราศาสตร์\n",
            "gol: สดร.เชิญชวนสมัครรับมอบกล้องโทรทรรศน์และสื่อการเรียนรู้ดาราศาสตร์หนุนสร้างงานวิจัยดาราศาสตร์ระดับโรงเรียน\n",
            "best_f1: 2.141447348641549\n",
            "\n",
            "hyp: นางสาวอุษณีย์ ธโนศวรรย์เลขาธิการก.ค.ศ.เปิดเผยผลการ/2561เมื่อวันพุธที่\n",
            "gol: ผลการประชุมก.ค.ศ.14/2561\n",
            "best_f1: 1.8939393753081957\n",
            "\n",
            "hyp: กรมบังคับคดีเข้าร่วมประชุมคณะกรรมาธิการสหประชาชาติคณะกรรมาธิการสหประชาชาติว่าด้วยกฎหมายการค้าระหว่างประเทศUNCITRALคณะทำงานที่6ว่าด้วยกฎหมายหลักที่6ว่าด้วยกฎหมายหลักประกันทางธุรกิจการประชุมครั้ง\n",
            "gol: กระทรวงยุติธรรมโดยกรมบังคับคดีเข้าร่วมประชุมคณะกรรมาธิการสหประชาชาติว่าด้วยกฎหมายการค้าระหว่างประเทศUNCITRALคณะทำงานที่6ว่าด้วยกฎหมายหลักประกันทางธุรกิจณกรุงเวียนนา ประเ\n",
            "best_f1: 3.132575737739693\n",
            "\n",
            "hyp: งานและปาฐถกถาSmart CityFrameworkDevelopmentWorkshopเมื่อวันที่\n",
            "gol: รมว.กระทรวงดิจิทัลฯกล่าวปิดงานและปาฐถกถาSmart CityFrameworkDevelopmentWorkshop\n",
            "best_f1: 2.8313043278609906\n",
            "\n",
            "hyp: นามในบันทึกข้อตกลงความ\n",
            "gol: ทส.ร่วมพิธีบันทึกข้อตกลงความร่วมมือ\n",
            "best_f1: 2.142857123339003\n",
            "\n",
            "hyp: noneกระทรวงดิจิทัลฯนำพันธมิตรทั้งบริษัท5Gรายสำคัญลงพื้นที่5G5GTestbedสมบูรณ์แบบ\n",
            "gol: ดีอีนำพันธมิตร5Gทุกภาคส่วนลงพื้นที่จริง5GTestbedในพื้นที่อีอีซี\n",
            "best_f1: 1.6203463003595848\n",
            "\n",
            "hyp: เกิน1ล้านบาทธนาคารอาคารสงเคราะห์ขอบคุณวงเงินกู้ไม่เกิน1เงินฝากประจำเจ้าสัวแสนล้าน\n",
            "gol: อิ่มท้องรับปีใหม่ธอส.มอบข้าวออร์แกนิคลูกค้าวงเงินกู้ไม่เกิน1ล้านบาทด้านผู้รักการออมชวนออมเงินฝากประจำเจ้าสัวแสนล้าน\n",
            "best_f1: 2.163396941552264\n",
            "\n",
            "hyp: กระทรวงดิจิทัลฯเผยผลสำรวจมูลค่าตลาดตลาดดิจิทัลไทย3อุตสาหกรรมพบตลาดฮาร์ดแวร์และอุปกรณ์อัจฉริยะมีมูลค่าเกือบ3แสนล้านบาทe\n",
            "gol: กระทรวงดิจิทัลฯเผยผลสำรวจมูลค่าตลาดดิจิทัลไทย3อุตสาหกรรมเติบโตพบตลาดฮาร์ดแวร์และอุปกรณ์อัจฉริยะมีมูลค่าเกือบ3แสนล้านบาท\n",
            "best_f1: 3.6663289229318896\n",
            "\n",
            "hyp: จากทั้งหน่วยงานภาครัฐคุ้มครองผู้บริโภคสมาพันธ์ชมรมคุ้มครองผู้บริโภคร้องเรียนซ้ำซ้อนการคุ้มครองผู้พิการผู้บริโภคของสำนักงาน คปภ.ตาม\n",
            "gol: คปภ.ผนึกกำลังหน่วยงานเครือข่ายเดินหน้าขับเคลื่อนกลไกการคุ้มครองผู้บริโภคเชิงรุก\n",
            "best_f1: 1.2156491965484832\n",
            "\n",
            "hyp: Pottieเอกอัครราชทูตแคนาดาประจำประเทศไทยเข้าเยี่ยมคารวะนายกอบศักดิ์ ภูตระกูลรัฐมนตรีประจำสำนักนายกรัฐมนตรี\n",
            "gol: เอกอัครราชทูตแคนาดาประจำประเทศไทยเข้าเยี่ยมคารวะรัฐมนตรีประจำสำนักนายกรัฐมนตรี\n",
            "best_f1: 3.2505175787348746\n",
            "\n",
            "hyp: จนกระทบต่อราคาข้าวสารราคาสูงขึ้นเกินความเป็นจริงจนกระทบต่อผู้บริโภค\n",
            "gol: พาณิชย์ยันราคาข้าวสารหอมมะลิบรรจุถุงยังไม่ปรับตัวสูงขึ้นและกระทบผู้บริโภค\n",
            "best_f1: 1.4581203543094974\n",
            "\n",
            "hyp: ผ่านรายการศาสตร์พระราชา สู่การพัฒนาอย่างยั่งยืนทางสถานีโทรทัศน์รวมการเฉพาะกิจแห่งประเทศไทยในวันศุกร์ที่8กุมภาพันธ์2562เวลา20.15สาระสำคัญดังนี้นายกรัฐมนตรีกล่าว\n",
            "gol: สรุปประเด็นนายกรัฐมนตรีกล่าวในรายการศาสตร์พระราชา สู่การพัฒนาอย่างยั่งยืนวันศุกร์ที่8กุมภาพันธ์2562\n",
            "best_f1: 2.385815583603561\n",
            "\n",
            "hyp: กระทรวงแรงงานและคณะยื่นสัตยาบันอนุสัญญาILOของภาคประมงไทยและสินค้าประมงและสอดคล้องกับมาตรฐานสากลและป้องกัน\n",
            "gol: บิ๊กอู๋ยื่นสัตยาบันC188ต่อILOแสดงเจตนารมณ์ไทยคุ้มครองภาคประมงสู่มาตรฐานสากล\n",
            "best_f1: 1.1995319798319803\n",
            "\n",
            "hyp: ออมสินจัดโปรพิเศษThailandSmartMoneyกรุงเทพฯ14–16ธ.ค.นี้พบเงิน\n",
            "gol: ออมสินจัดโปรโมชั่นพิเศษThailandSmartMoneyกรุงเทพฯ14–16ธ.ค.นี้\n",
            "best_f1: 3.1366538753001936\n",
            "\n",
            "hyp: ช่วยผลิตพัฒนากำลังคนให้สอดคล้องกับภาคอุตสาหกรรมในพื้นที่โดยม.มหิดล-บูรพาจะร่วมฝึกอบรมระยะสั้นกำลังคนให้สอดคล้องกับภาคอุตสาหกรรม\n",
            "gol: ม.มหิดลเตรียมร่วมมือกับม.บูรพา ผลิตพัฒนากำลังคนให้สอดคล้องกับภาคอุตสาหกรรมรองรับพื้นที่EECเน้นหลักสูตรฝึกอบรมระยะสั้นและภาษาอังกฤษ\n",
            "best_f1: 1.9751491413598408\n",
            "\n",
            "hyp: กองทุนการออมแห่งชาติกอช.ห่วงใยประชาชนจากสถานการณ์ฝุ่นปัญหาฝุ่นพิษPM2.5กอช.พร้อมส่งเงินสะสมได้ที่\n",
            "gol: กอช.ห่วงใยสมาชิกสมัครและส่งเงินสะสมผ่านแอปฯได้ที่บ้านลดความเสี่ยงสถานการณ์ฝุ่นละอองPM2.5\n",
            "best_f1: 1.8714285515149096\n",
            "\n",
            "hyp: เดียวไม่ได้ทุกคนต้องช่วยประชาชนช่วยกันปฏิบัติตามกฎหมายอีก\n",
            "gol: นายกรัฐมนตรีเผยการแก้ไขปัญหาเจ้าหน้าที่ไม่สามารถแก้ไขได้ฝ่ายเดียวทุกคนต้องช่วยกันปฏิบัติตามกฎหมาย\n",
            "best_f1: 2.0831168639918145\n",
            "\n",
            "hyp: พิธีสมโภชพระไตรปิฎกฉบับสำหรับประชาชนฉบับพระไตรปิฎกฉบับสำหรับประชาชนฉบับวาระ100ฉบับวาระ100ปีชาตกาลอาจารย์สุชีพ ปุญญานุภาพโดย\n",
            "gol: วธ.ร่วมกับ4หน่วยงานจัดงานพิธีสมโภชพระไตรปิฎกฉบับสำหรับประชาชนฉบับวาระ100ปีชาตกาลอาจารย์สุชีพ ปุญญานุภาพ\n",
            "best_f1: 2.5253828502922055\n",
            "\n",
            "hyp: คณะอนุกรรมการช่วยเหลือเยียวยาผู้ได้รับผลกระทบในพื้นที่จังหวัดชายแดนผู้ได้รับผลกระทบในพื้นที่พื้นที่จังหวัดชายแดนภาคใต้และ\n",
            "gol: กระทรวงยุติธรรมพิจารณาร่างระเบียบฯการช่วยเหลือเยียวยาผู้ได้รับผลกระทบในพื้นที่จังหวัดชายแดนภาคใต้\n",
            "best_f1: 2.470524853173003\n",
            "\n",
            "hyp: โทรทรรศน์และสื่อการเรียนรู้ดาราศาสตร์เพื่อสื่อการเรียนรู้ดาราศาสตร์แก่โรงเรียนโครงงานดาราศาสตร์ระดับโรงเรียนสนับสนุนกล้องจากมอบกล้องโทรทรรศน์และสื่อการ\n",
            "gol: สดร.เชิญชวนสมัครรับมอบกล้องโทรทรรศน์และสื่อการเรียนรู้ดาราศาสตร์หนุนสร้างงานวิจัยดาราศาสตร์ระดับโรงเรียน\n",
            "best_f1: 1.8838509121550997\n",
            "\n",
            "hyp: การศึกษาก.ค.ศ.ครั้งที่14/2561\n",
            "gol: ผลการประชุมก.ค.ศ.14/2561\n",
            "best_f1: 2.333333313333334\n",
            "\n",
            "hyp: กรมบังคับคดีเข้าร่วมประชุมคณะกรรมาธิการสหประชาชาติว่าด้วยกฎหมายการค้าระหว่างประเทศUNCITRALคณะกรรมาธิการสหประชาชาติว่าด้วยกฎหมายการค้าระหว่างประเทศUNCITRALคณะทำงานที่6ว่าด้วยกฎหมายหลักประกันทางธุรกิจการ\n",
            "gol: กระทรวงยุติธรรมโดยกรมบังคับคดีเข้าร่วมประชุมคณะกรรมาธิการสหประชาชาติว่าด้วยกฎหมายการค้าระหว่างประเทศUNCITRALคณะทำงานที่6ว่าด้วยกฎหมายหลักประกันทางธุรกิจณกรุงเวียนนา ประเ\n",
            "best_f1: 3.18665729446605\n",
            "\n",
            "hyp: เศรษฐกิจและสังคมกล่าวปิดงานและปาฐถกถาSmart CityFrameworkDevelopmentWorkshop\n",
            "gol: รมว.กระทรวงดิจิทัลฯกล่าวปิดงานและปาฐถกถาSmart CityFrameworkDevelopmentWorkshop\n",
            "best_f1: 3.26096864099152\n",
            "\n",
            "hyp: บันทึกข้อตกลงความร่วมมือการบริหารจัดการ\n",
            "gol: ทส.ร่วมพิธีบันทึกข้อตกลงความร่วมมือ\n",
            "best_f1: 2.5641025442061802\n",
            "\n",
            "hyp: ลงพื้นที่จริงของสนามทดสอบ5G5GTestbedสมบูรณ์แบบในพื้นที่\n",
            "gol: ดีอีนำพันธมิตร5Gทุกภาคส่วนลงพื้นที่จริง5GTestbedในพื้นที่อีอีซี\n",
            "best_f1: 2.0327474774449743\n",
            "\n",
            "hyp: ปีเก่าต้อนรับปีใหม่2562มอบที่มีวงเงินกู้ไม่เกินไม่เกิน1ล้านบาทซึ่งมีกับบัญชีเงินฝากประจำเจ้าสัวแสน\n",
            "gol: อิ่มท้องรับปีใหม่ธอส.มอบข้าวออร์แกนิคลูกค้าวงเงินกู้ไม่เกิน1ล้านบาทด้านผู้รักการออมชวนออมเงินฝากประจำเจ้าสัวแสนล้าน\n",
            "best_f1: 2.008866975124592\n",
            "\n",
            "hyp: กระทรวงดิจิทัลฯเผยผลสำรวจมูลค่าตลาดดิจิทัล3อุตสาหกรรมพบตลาดฮาร์ดแวร์และอุปกรณ์อัจฉริยะมีมูลค่าเกือบ3แสนล้านบาท\n",
            "gol: กระทรวงดิจิทัลฯเผยผลสำรวจมูลค่าตลาดดิจิทัลไทย3อุตสาหกรรมเติบโตพบตลาดฮาร์ดแวร์และอุปกรณ์อัจฉริยะมีมูลค่าเกือบ3แสนล้านบาท\n",
            "best_f1: 3.6188311488766756\n",
            "\n",
            "hyp: ประชาชนได้แก่สำนักงาน คปภ.สำนักงานคณะกรรมการคุ้มครองผู้บริโภคกรมคุ้มครองการดำเนินงานด้านการคุ้มครองผู้\n",
            "gol: คปภ.ผนึกกำลังหน่วยงานเครือข่ายเดินหน้าขับเคลื่อนกลไกการคุ้มครองผู้บริโภคเชิงรุก\n",
            "best_f1: 1.185714265739796\n",
            "\n",
            "hyp: แคนาดาประจำประเทศไทยเข้าเยี่ยมคารวะนายกอบศักดิ์ ภูตระกูลดังนี้รัฐมนตรีประจำสำนักนายกรัฐมนตรีและเอกอัครราชทูต\n",
            "gol: เอกอัครราชทูตแคนาดาประจำประเทศไทยเข้าเยี่ยมคารวะรัฐมนตรีประจำสำนักนายกรัฐมนตรี\n",
            "best_f1: 2.713043459169755\n",
            "\n",
            "hyp: บรรจุถุงมีราคาปรับตัวสูงว่าราคาข้าวสารอาจจะปรับสูงขึ้นจนกระทบต่อราคาข้าวจนกระทบต่อผู้บริโภคหากผู้\n",
            "gol: พาณิชย์ยันราคาข้าวสารหอมมะลิบรรจุถุงยังไม่ปรับตัวสูงขึ้นและกระทบผู้บริโภค\n",
            "best_f1: 1.3540051489272618\n",
            "\n",
            "hyp: รายการศาสตร์พระราชา สู่การพัฒนาอย่างยั่งยืนทางสถานีโทรทัศน์รวมการเฉพาะกิจแห่งประเทศไทยในวันศุกร์ที่8กุมภาพันธ์2562\n",
            "gol: สรุปประเด็นนายกรัฐมนตรีกล่าวในรายการศาสตร์พระราชา สู่การพัฒนาอย่างยั่งยืนวันศุกร์ที่8กุมภาพันธ์2562\n",
            "best_f1: 2.5653594571896496\n",
            "\n",
            "hyp: ILOแสดงเจตจำนงของรัฐบาลไทยยกระดับมาตรฐานสากลเมื่อวันที่30มกราคม2562ใบเหลืองของภาคประมงไทยอันแสดงประเทศไทยได้เข้ายื่นสัตยาบันอนุสัญญาILOฉบับ\n",
            "gol: บิ๊กอู๋ยื่นสัตยาบันC188ต่อILOแสดงเจตนารมณ์ไทยคุ้มครองภาคประมงสู่มาตรฐานสากล\n",
            "best_f1: 0.9500987963665356\n",
            "\n",
            "hyp: ออมสินจัดโปรพิเศษThailandSmartMoneyกรุงเทพฯ14–16ธ.ค.นี้พบเงินฝากประเภท\n",
            "gol: ออมสินจัดโปรโมชั่นพิเศษThailandSmartMoneyกรุงเทพฯ14–16ธ.ค.นี้\n",
            "best_f1: 2.927697421802448\n",
            "\n",
            "hyp: พัฒนากำลังคนให้สอดคล้องกับภาคอุตสาหกรรมภาคอุตสาหกรรมในพื้นที่โดยม.มหิดล-บูรพาจะร่วมฝึกอบรมระยะสั้นและส่งเสริมTechnical\n",
            "gol: ม.มหิดลเตรียมร่วมมือกับม.บูรพา ผลิตพัฒนากำลังคนให้สอดคล้องกับภาคอุตสาหกรรมรองรับพื้นที่EECเน้นหลักสูตรฝึกอบรมระยะสั้นและภาษาอังกฤษ\n",
            "best_f1: 2.162051262083359\n",
            "\n",
            "hyp: กองทุนการออมแห่งชาติกอช.ห่วงใยประชาชนจากสถานการณ์ฝุ่นพิษPM2.5สามารถสมัครสมาชิกหรือส่งเงินสะสมได้ที่แอปพลิเคชันApplicationกอช.\n",
            "gol: กอช.ห่วงใยสมาชิกสมัครและส่งเงินสะสมผ่านแอปฯได้ที่บ้านลดความเสี่ยงสถานการณ์ฝุ่นละอองPM2.5\n",
            "best_f1: 1.8642940838368653\n",
            "\n",
            "hyp: ไม่ได้ทุกคนต้องช่วยกันพร้อมปฏิบัติตามกฎหมายอีกทั้งขอให้เจ้าหน้าที่\n",
            "gol: นายกรัฐมนตรีเผยการแก้ไขปัญหาเจ้าหน้าที่ไม่สามารถแก้ไขได้ฝ่ายเดียวทุกคนต้องช่วยกันปฏิบัติตามกฎหมาย\n",
            "best_f1: 1.8358644162215536\n",
            "\n",
            "hyp: ประชาชนมหาวิทยาลัยมหามกุฏราชวิทยาลัยและมูลนิธิหอจดหมายเหตุพุทธทาส อินทปัญโญจัดงานพิธีสมโภชพระไตรปิฎกฉบับสำหรับประชาชนฉบับวาระ100วาระ100ปีชาตกาลอาจารย์สุชีพ ปุญญานุภาพโดยจัดขึ้น\n",
            "gol: วธ.ร่วมกับ4หน่วยงานจัดงานพิธีสมโภชพระไตรปิฎกฉบับสำหรับประชาชนฉบับวาระ100ปีชาตกาลอาจารย์สุชีพ ปุญญานุภาพ\n",
            "best_f1: 2.582742296977414\n",
            "\n",
            "hyp: อนุกรรมการช่วยเหลือเยียวยาผู้ได้รับผลกระทบในพื้นที่จังหวัดชายแดนภาคใต้ครั้งผู้ได้รับผลกระทบในพื้นที่จังหวัด\n",
            "gol: กระทรวงยุติธรรมพิจารณาร่างระเบียบฯการช่วยเหลือเยียวยาผู้ได้รับผลกระทบในพื้นที่จังหวัดชายแดนภาคใต้\n",
            "best_f1: 2.652236632430406\n",
            "\n",
            "hyp: ดาราศาสตร์เพื่อพัฒนาโครงงานดาราศาสตร์ระดับโรงเรียนมอบกล้องโทรทรรศน์และสื่อการเรียนรู้ดาราศาสตร์\n",
            "gol: สดร.เชิญชวนสมัครรับมอบกล้องโทรทรรศน์และสื่อการเรียนรู้ดาราศาสตร์หนุนสร้างงานวิจัยดาราศาสตร์ระดับโรงเรียน\n",
            "best_f1: 2.327985720065367\n",
            "\n",
            "hyp: ผลการประชุมคณะกรรมการข้าราชการครูและบุคลากรทางการศึกษาก.ค.ศ.ครั้งที่14/2561\n",
            "gol: ผลการประชุมก.ค.ศ.14/2561\n",
            "best_f1: 2.2933333157404445\n",
            "\n",
            "hyp: กรมบังคับคดีเข้าร่วมประชุมคณะกรรมาธิการสหประชาชาติว่าด้วยคณะกรรมาธิการสหประชาชาติว่าด้วยกฎหมายการค้าระหว่างประเทศUNCITRALคณะทำงานที่6ว่าด้วยกฎหมายหลักประกันทางธุรกิจสมัยที่34ทำงานที่6ว่าด้วยกฎหมายหลัก\n",
            "gol: กระทรวงยุติธรรมโดยกรมบังคับคดีเข้าร่วมประชุมคณะกรรมาธิการสหประชาชาติว่าด้วยกฎหมายการค้าระหว่างประเทศUNCITRALคณะทำงานที่6ว่าด้วยกฎหมายหลักประกันทางธุรกิจณกรุงเวียนนา ประเ\n",
            "best_f1: 2.983193257647971\n",
            "\n",
            "hyp: และสังคมกล่าวปิดงานและปาฐถกถาSmart CityFrameworkDevelopmentWorkshopเมื่อวันที่\n",
            "gol: รมว.กระทรวงดิจิทัลฯกล่าวปิดงานและปาฐถกถาSmart CityFrameworkDevelopmentWorkshop\n",
            "best_f1: 3.0258164370534146\n",
            "\n",
            "hyp: บันทึกข้อตกลงความร่วมมือการบริหารจัดการน้ำ\n",
            "gol: ทส.ร่วมพิธีบันทึกข้อตกลงความร่วมมือ\n",
            "best_f1: 2.3928571228571434\n",
            "\n",
            "hyp: กสทช.ลงพื้นที่จริงของสนามทดสอบ5G5GTestbedสมบูรณ์แบบในพื้นที่อีอีซี\n",
            "gol: ดีอีนำพันธมิตร5Gทุกภาคส่วนลงพื้นที่จริง5GTestbedในพื้นที่อีอีซี\n",
            "best_f1: 2.1624850457327285\n",
            "\n",
            "hyp: วงเงินกู้ไม่เกิน1ล้านบาทเพิ่มกับบัญชีเงินฝากประจำเจ้าสัวแสน\n",
            "gol: อิ่มท้องรับปีใหม่ธอส.มอบข้าวออร์แกนิคลูกค้าวงเงินกู้ไม่เกิน1ล้านบาทด้านผู้รักการออมชวนออมเงินฝากประจำเจ้าสัวแสนล้าน\n",
            "best_f1: 2.1366459446166175\n",
            "\n",
            "hyp: กระทรวงดิจิทัลฯเผยผลสำรวจมูลค่าตลาดดิจิทัลไทยอุตสาหกรรมพบตลาดฮาร์ดแวร์และอุปกรณ์อัจฉริยะมีมูลค่าเกือบ3แสนล้านบาทe-Payment\n",
            "gol: กระทรวงดิจิทัลฯเผยผลสำรวจมูลค่าตลาดดิจิทัลไทย3อุตสาหกรรมเติบโตพบตลาดฮาร์ดแวร์และอุปกรณ์อัจฉริยะมีมูลค่าเกือบ3แสนล้านบาท\n",
            "best_f1: 3.4027079103850375\n",
            "\n",
            "hyp: การดำเนินงานด้านการคุ้มครองผู้บริโภค\n",
            "gol: คปภ.ผนึกกำลังหน่วยงานเครือข่ายเดินหน้าขับเคลื่อนกลไกการคุ้มครองผู้บริโภคเชิงรุก\n",
            "best_f1: 1.4607566169050843\n",
            "\n",
            "hyp: ประเทศไทยเข้าเยี่ยมคารวะนายกอบศักดิ์ ภูตระกูลรัฐมนตรีประจำสำนักนายกรัฐมนตรี\n",
            "gol: เอกอัครราชทูตแคนาดาประจำประเทศไทยเข้าเยี่ยมคารวะรัฐมนตรีประจำสำนักนายกรัฐมนตรี\n",
            "best_f1: 2.6910904513246825\n",
            "\n",
            "hyp: ราคาข้าวสารอาจจะปรับตัวสูงจริงจนกระทบต่อผู้บริโภคหากผู้ขึ้นราคาข้าวสูงเกินสมควรหรือไม่\n",
            "gol: พาณิชย์ยันราคาข้าวสารหอมมะลิบรรจุถุงยังไม่ปรับตัวสูงขึ้นและกระทบผู้บริโภค\n",
            "best_f1: 1.1250950568153626\n",
            "\n",
            "hyp: ศาสตร์พระราชา สู่การพัฒนาอย่างยั่งยืนทางสถานีโทรทัศน์รวมการเฉพาะกิจแห่งประเทศไทยในวันศุกร์ที่8กุมภาพันธ์2562เวลา20.สำคัญดังนี้นายกรัฐมนตรีกล่าวในรายการฯ\n",
            "gol: สรุปประเด็นนายกรัฐมนตรีกล่าวในรายการศาสตร์พระราชา สู่การพัฒนาอย่างยั่งยืนวันศุกร์ที่8กุมภาพันธ์2562\n",
            "best_f1: 2.5885814474451316\n",
            "\n",
            "hyp: รมว.แรงงานยื่นสัตยาบันอนุสัญญาILOฉบับที่188ให้สัตยาบันอนุสัญญาดังกล่าวเป็นการแสดงเจตนารมณ์ของไทยในการยกระดับมาตรฐานการคุ้มครองภาคประมงไทยอันแสดงถึงการยอมรับ\n",
            "gol: บิ๊กอู๋ยื่นสัตยาบันC188ต่อILOแสดงเจตนารมณ์ไทยคุ้มครองภาคประมงสู่มาตรฐานสากล\n",
            "best_f1: 1.1430769058338524\n",
            "\n",
            "hyp: ออมสินจัดโปรพิเศษThailandSmartMoneyกรุงเทพฯ14–16ธ.ค.นี้พบเงินฝากประเภทเผื่อเรียก\n",
            "gol: ออมสินจัดโปรโมชั่นพิเศษThailandSmartMoneyกรุงเทพฯ14–16ธ.ค.นี้\n",
            "best_f1: 2.7448680156803302\n",
            "\n",
            "hyp: เข้ามาช่วยผลิตพัฒนากำลังคนให้สอดคล้องกับภาคอุตสาหกรรมในพื้นที่โดยม.มหิดล-บูรพาจะร่วมฝึกอบรมระยะสั้นและส่งเสริมTechnicalEnglishให้สอดคล้องกับภาคอุตสาหกรรมและลดข้อจำกัด\n",
            "gol: ม.มหิดลเตรียมร่วมมือกับม.บูรพา ผลิตพัฒนากำลังคนให้สอดคล้องกับภาคอุตสาหกรรมรองรับพื้นที่EECเน้นหลักสูตรฝึกอบรมระยะสั้นและภาษาอังกฤษ\n",
            "best_f1: 1.836693528826711\n",
            "\n",
            "hyp: กองทุนการออมแห่งชาติกอช.ห่วงใยประชาชนจากสถานการณ์ฝุ่นพิษPM2.5สามารถสมัครสมาชิกหรือส่งเงินสมัครสมาชิกกอช.พร้อมส่งเงินสะสมได้ที่\n",
            "gol: กอช.ห่วงใยสมาชิกสมัครและส่งเงินสะสมผ่านแอปฯได้ที่บ้านลดความเสี่ยงสถานการณ์ฝุ่นละอองPM2.5\n",
            "best_f1: 1.7966801284109852\n",
            "\n",
            "hyp: นายกรัฐมนตรีให้กล่าวภายหลังการเป็นประธานเดียวไม่ได้ทุกคนต้องช่วยกันพร้อมตามกฎหมายอีกทั้งขอให้เจ้าหน้าที่ปฏิบัติตาม\n",
            "gol: นายกรัฐมนตรีเผยการแก้ไขปัญหาเจ้าหน้าที่ไม่สามารถแก้ไขได้ฝ่ายเดียวทุกคนต้องช่วยกันปฏิบัติตามกฎหมาย\n",
            "best_f1: 1.7670289658172322\n",
            "\n",
            "hyp: พิธีสมโภชพระไตรปิฎกฉบับสำหรับประชาชนฉบับวาระ100ปีชาตกาลอาจารย์สุชีพ ปุญญานุภาพโดยจัดขึ้นระหว่างวันที่\n",
            "gol: วธ.ร่วมกับ4หน่วยงานจัดงานพิธีสมโภชพระไตรปิฎกฉบับสำหรับประชาชนฉบับวาระ100ปีชาตกาลอาจารย์สุชีพ ปุญญานุภาพ\n",
            "best_f1: 2.611806523429344\n",
            "\n",
            "hyp: กระทรวงยุติธรรมเป็นประธานการประชุมคณะอนุกรรมการช่วยเหลือเยียวยาผู้ได้รับผลกระทบในพื้นที่จังหวัดชายพื้นที่จังหวัดชายแดนภาคใต้และร่วมพิจารณา\n",
            "gol: กระทรวงยุติธรรมพิจารณาร่างระเบียบฯการช่วยเหลือเยียวยาผู้ได้รับผลกระทบในพื้นที่จังหวัดชายแดนภาคใต้\n",
            "best_f1: 2.6062325185416397\n",
            "\n",
            "hyp: มอบกล้องโทรทรรศน์และสื่อการเรียนรู้ดาราศาสตร์เพื่อการเรียนรู้ดาราศาสตร์เพื่อพัฒนาโครงงานดาราศาสตร์ระดับโรง\n",
            "gol: สดร.เชิญชวนสมัครรับมอบกล้องโทรทรรศน์และสื่อการเรียนรู้ดาราศาสตร์หนุนสร้างงานวิจัยดาราศาสตร์ระดับโรงเรียน\n",
            "best_f1: 2.203947348641549\n",
            "\n",
            "hyp: นางสาวอุษณีย์ ธโนศวรรย์เลขาธิการก.ค.ศ.เปิดเผยผลการประชุมคณะกรรมการข้าราชการ\n",
            "gol: ผลการประชุมก.ค.ศ.14/2561\n",
            "best_f1: 1.984962386468427\n",
            "\n",
            "hyp: ว่าด้วยกฎหมายหลักประกันทางธุรกิจณกรุงเวียนนาเข้าร่วมประชุมคณะกรรมาธิการสหประชาชาติว่าด้วยกฎหมายการค้าระหว่างประเทศUNCITRALคณะทำงานที่6ว่า\n",
            "gol: กระทรวงยุติธรรมโดยกรมบังคับคดีเข้าร่วมประชุมคณะกรรมาธิการสหประชาชาติว่าด้วยกฎหมายการค้าระหว่างประเทศUNCITRALคณะทำงานที่6ว่าด้วยกฎหมายหลักประกันทางธุรกิจณกรุงเวียนนา ประเ\n",
            "best_f1: 3.397129166681196\n",
            "\n",
            "hyp: สังคมกล่าวปิดงานและปาฐถกถาSmart City\n",
            "gol: รมว.กระทรวงดิจิทัลฯกล่าวปิดงานและปาฐถกถาSmart CityFrameworkDevelopmentWorkshop\n",
            "best_f1: 2.8545454352760333\n",
            "\n",
            "hyp: นามในบันทึกข้อตกลงความร่วมมือการบริหารจัดการ\n",
            "gol: ทส.ร่วมพิธีบันทึกข้อตกลงความร่วมมือ\n",
            "best_f1: 2.2431372349810075\n",
            "\n",
            "hyp: พื้นที่จริงของสนามทดสอบ5G5GTestbedสมบูรณ์แบบในพื้นที่อีอีซีที่มหาวิทยาลัยเกษตรศาสตร์วิทยาเขตศรีราชาสร้างสนับสนุนการพัฒนาศูนย์การทดสอบเทคโนโลยี 5GTestbedใน\n",
            "gol: ดีอีนำพันธมิตร5Gทุกภาคส่วนลงพื้นที่จริง5GTestbedในพื้นที่อีอีซี\n",
            "best_f1: 1.5073719221333544\n",
            "\n",
            "hyp: ปีเก่าต้อนรับปีใหม่2562มอบข้าวออร์แกนิคฝากเงินเพิ่มกับบัญชีเงินฝากประจำเจ้ามีวงเงินกู้ไม่เกิน1ล้านบาทเจ้าสัวแสนล้าน8เดือนและ18เดือนนอก\n",
            "gol: อิ่มท้องรับปีใหม่ธอส.มอบข้าวออร์แกนิคลูกค้าวงเงินกู้ไม่เกิน1ล้านบาทด้านผู้รักการออมชวนออมเงินฝากประจำเจ้าสัวแสนล้าน\n",
            "best_f1: 1.7919372095728203\n",
            "\n",
            "hyp: กระทรวงดิจิทัลฯเผยผลสำรวจมูลค่าตลาดดิจิทัลไทย33อุตสาหกรรมพบตลาดฮาร์ดแวร์และอุปกรณ์อัจฉริยะมีมูลค่าเกือบ3แสนล้านบาทe-Paymentเงิน\n",
            "gol: กระทรวงดิจิทัลฯเผยผลสำรวจมูลค่าตลาดดิจิทัลไทย3อุตสาหกรรมเติบโตพบตลาดฮาร์ดแวร์และอุปกรณ์อัจฉริยะมีมูลค่าเกือบ3แสนล้านบาท\n",
            "best_f1: 3.4355555356792227\n",
            "\n",
            "hyp: การดำเนินงานด้านการคุ้มครองผู้บริโภคของ\n",
            "gol: คปภ.ผนึกกำลังหน่วยงานเครือข่ายเดินหน้าขับเคลื่อนกลไกการคุ้มครองผู้บริโภคเชิงรุก\n",
            "best_f1: 1.396903802336304\n",
            "\n",
            "hyp: น.นางโดนิกา พอตตีH.E. Ms. Donica Pottieเอกอัครราชทูตแคนาดาประจำประเทศไทยเข้าเยี่ยมคารวะนายกอบศักดิ์ ภูตระกูลรัฐมนตรีประจำสำนักนายกรัฐมนตรีณห้องรับรอง\n",
            "gol: เอกอัครราชทูตแคนาดาประจำประเทศไทยเข้าเยี่ยมคารวะรัฐมนตรีประจำสำนักนายกรัฐมนตรี\n",
            "best_f1: 2.218963815280876\n",
            "\n",
            "hyp: ปรับสูงขึ้นจนกระทบต่อราคาข้าวสารจริงจนกระทบต่อผู้บริโภคหากผู้บริโภค\n",
            "gol: พาณิชย์ยันราคาข้าวสารหอมมะลิบรรจุถุงยังไม่ปรับตัวสูงขึ้นและกระทบผู้บริโภค\n",
            "best_f1: 1.3419913220934956\n",
            "\n",
            "hyp: พระราชา สู่การพัฒนาอย่างยั่งยืนทางสถานีโทรทัศน์รวมการเฉพาะกิจแห่งประเทศไทยในวันศุกร์ที่8กุมภาพันธ์2562เวลา20.15น.ใน\n",
            "gol: สรุปประเด็นนายกรัฐมนตรีกล่าวในรายการศาสตร์พระราชา สู่การพัฒนาอย่างยั่งยืนวันศุกร์ที่8กุมภาพันธ์2562\n",
            "best_f1: 2.431958254074129\n",
            "\n",
            "hyp: ประมงของแรงงานไทยและต่างด้าวสอดคล้องมาตรฐานสากลกล่าวเป็นการแสดงเจตนารมณ์ของไทยในการยกของภาคประมงไทยอันแสดงถึงการยอมรับประเทศไทยได้เข้ายื่นสัตยาบันอนุสัญญาILOฉบับที่188\n",
            "gol: บิ๊กอู๋ยื่นสัตยาบันC188ต่อILOแสดงเจตนารมณ์ไทยคุ้มครองภาคประมงสู่มาตรฐานสากล\n",
            "best_f1: 0.8974867559360044\n",
            "\n",
            "hyp: ออมสินจัดโปรพิเศษThailandSmartMoneyกรุงเทพฯ14–16\n",
            "gol: ออมสินจัดโปรโมชั่นพิเศษThailandSmartMoneyกรุงเทพฯ14–16ธ.ค.นี้\n",
            "best_f1: 2.772727253335629\n",
            "\n",
            "hyp: เข้ามาช่วยผลิตพัฒนากำลังคนให้สอดคล้องกับคนให้สอดคล้องกับภาคอุตสาหกรรมในพื้นที่โดยม.มหิดล-บูรพาจะร่วมฝึกอบรมระยะสั้นและส่งเสริมTechnical\n",
            "gol: ม.มหิดลเตรียมร่วมมือกับม.บูรพา ผลิตพัฒนากำลังคนให้สอดคล้องกับภาคอุตสาหกรรมรองรับพื้นที่EECเน้นหลักสูตรฝึกอบรมระยะสั้นและภาษาอังกฤษ\n",
            "best_f1: 2.131678646243623\n",
            "\n",
            "hyp: กองทุนการออมแห่งชาติกอช.ห่วงใยประชาชนจากสถานการณ์ฝุ่นพิษPM2.5สามารถสมัครสมาชิกหรือส่งเงินสะสมได้\n",
            "gol: กอช.ห่วงใยสมาชิกสมัครและส่งเงินสะสมผ่านแอปฯได้ที่บ้านลดความเสี่ยงสถานการณ์ฝุ่นละอองPM2.5\n",
            "best_f1: 1.8348967906192781\n",
            "\n",
            "hyp: ที่เจ้าหน้าที่อย่างเดียวไม่ได้ทุกคนต้องช่วยปฏิบัติตามกฎหมายอีกทั้งขอให้เจ้าหน้าที่ปฏิบัติตาม\n",
            "gol: นายกรัฐมนตรีเผยการแก้ไขปัญหาเจ้าหน้าที่ไม่สามารถแก้ไขได้ฝ่ายเดียวทุกคนต้องช่วยกันปฏิบัติตามกฎหมาย\n",
            "best_f1: 1.589946399257132\n",
            "\n",
            "hyp: สมโภชพระไตรปิฎกฉบับสำหรับประชาชนฉบับวาระ100ปีชาตกาล\n",
            "gol: วธ.ร่วมกับ4หน่วยงานจัดงานพิธีสมโภชพระไตรปิฎกฉบับสำหรับประชาชนฉบับวาระ100ปีชาตกาลอาจารย์สุชีพ ปุญญานุภาพ\n",
            "best_f1: 2.5293977262306226\n",
            "\n",
            "hyp: ผู้ได้รับผลกระทบในพื้นที่จังหวัดชายแดนภาคใต้และร่วมพิจารณาร่างระเบียบกพต.ว่าด้วย\n",
            "gol: กระทรวงยุติธรรมพิจารณาร่างระเบียบฯการช่วยเหลือเยียวยาผู้ได้รับผลกระทบในพื้นที่จังหวัดชายแดนภาคใต้\n",
            "best_f1: 2.7184210326315794\n",
            "\n",
            "hyp: สดร.เดินหน้ามอบกล้องโทรทรรศน์ต่อเนื่องในปี2562เชิญชวนสื่อการเรียนรู้ดาราศาสตร์เพื่อพัฒนาโครงงานดาราศาสตร์ระดับโรงเรียนสนับสนุนกล้องโทรทรรศน์และสื่อการเรียนรู้ทางดาราศาสตร์\n",
            "gol: สดร.เชิญชวนสมัครรับมอบกล้องโทรทรรศน์และสื่อการเรียนรู้ดาราศาสตร์หนุนสร้างงานวิจัยดาราศาสตร์ระดับโรงเรียน\n",
            "best_f1: 1.9171428378222366\n",
            "\n",
            "hyp: ก.ค.ศ.ครั้งที่14/2561เมื่อวันพุธที่\n",
            "gol: ผลการประชุมก.ค.ศ.14/2561\n",
            "best_f1: 2.013533814987815\n",
            "\n",
            "hyp: กรมบังคับคดีเข้าร่วมประชุมคณะกรรมาธิการสหประชาชาติว่าด้วยกฎหมายการค้าระหว่างประเทศUNCITRALคณะทำงานที่6ว่าด้วยว่าด้วยกฎหมายการค้าระหว่างประเทศUNCITRALคณะทำงานที่6ว่าด้วยกฎหมายหลักประกันทางธุรกิจสมัย\n",
            "gol: กระทรวงยุติธรรมโดยกรมบังคับคดีเข้าร่วมประชุมคณะกรรมาธิการสหประชาชาติว่าด้วยกฎหมายการค้าระหว่างประเทศUNCITRALคณะทำงานที่6ว่าด้วยกฎหมายหลักประกันทางธุรกิจณกรุงเวียนนา ประเ\n",
            "best_f1: 3.001050400521094\n",
            "\n",
            "hyp: กล่าวปิดงานและปาฐถกถาSmart CityFrameworkDevelopment\n",
            "gol: รมว.กระทรวงดิจิทัลฯกล่าวปิดงานและปาฐถกถาSmart CityFrameworkDevelopmentWorkshop\n",
            "best_f1: 3.4534161294425374\n",
            "\n",
            "hyp: กระทรวงทรัพยากรธรรมชาติและสิ่งแวดล้อมลงนามในบันทึกข้อตกลงความ\n",
            "gol: ทส.ร่วมพิธีบันทึกข้อตกลงความร่วมมือ\n",
            "best_f1: 1.6388888691685959\n",
            "\n",
            "hyp: กสทช.ลงพื้นที่จริงของสนามทดสอบ5G5ทดสอบเทคโนโลยี 5GTestbedในพื้นที่EECทั้งในรูปแบบการ\n",
            "gol: ดีอีนำพันธมิตร5Gทุกภาคส่วนลงพื้นที่จริง5GTestbedในพื้นที่อีอีซี\n",
            "best_f1: 1.7707602141192096\n",
            "\n",
            "hyp: ที่มีวงเงินกู้ไม่เกิน1ล้านบาทบัญชีเงินฝากประจำเจ้าสัวแสนล้าน8เดือนและ\n",
            "gol: อิ่มท้องรับปีใหม่ธอส.มอบข้าวออร์แกนิคลูกค้าวงเงินกู้ไม่เกิน1ล้านบาทด้านผู้รักการออมชวนออมเงินฝากประจำเจ้าสัวแสนล้าน\n",
            "best_f1: 2.0933333141673613\n",
            "\n",
            "hyp: กระทรวงดิจิทัลฯเผยผลสำรวจมูลค่าตลาดดิจิทัลไทย3อุตสาหกรรมตลาดดิจิทัลไทย3อุตสาหกรรมพบตลาดฮาร์ดแวร์และอุปกรณ์อัจฉริยะมีมูลค่าเกือบ3แสนล้านบาทe-Payment\n",
            "gol: กระทรวงดิจิทัลฯเผยผลสำรวจมูลค่าตลาดดิจิทัลไทย3อุตสาหกรรมเติบโตพบตลาดฮาร์ดแวร์และอุปกรณ์อัจฉริยะมีมูลค่าเกือบ3แสนล้านบาท\n",
            "best_f1: 3.3079070196025238\n",
            "\n",
            "hyp: จากทั้งหน่วยงานภาครัฐภาคเอกชนและภาครู้ด้านประกันภัยแก่ประชาชนและการคุ้มครองผู้บริโภค\n",
            "gol: คปภ.ผนึกกำลังหน่วยงานเครือข่ายเดินหน้าขับเคลื่อนกลไกการคุ้มครองผู้บริโภคเชิงรุก\n",
            "best_f1: 1.2027056080567684\n",
            "\n",
            "hyp: นางโดนิกา พอตตีH.E. Ms. Donica Pottieเอกอัครราชทูตแคนาดาประจำประเทศไทยเข้าเยี่ยมคารวะรัฐมนตรีประจำสำนักนายกรัฐมนตรียินดีที่แคนาดาสนับสนุนความสนใจที่\n",
            "gol: เอกอัครราชทูตแคนาดาประจำประเทศไทยเข้าเยี่ยมคารวะรัฐมนตรีประจำสำนักนายกรัฐมนตรี\n",
            "best_f1: 2.3132352776794605\n",
            "\n",
            "hyp: ราคาข้าวสารอาจจะปรับตัวสูงขึ้นทั้งนี้ผู้บริโภคหากผู้บริโภคไม่ได้รับความเป็นธรรม\n",
            "gol: พาณิชย์ยันราคาข้าวสารหอมมะลิบรรจุถุงยังไม่ปรับตัวสูงขึ้นและกระทบผู้บริโภค\n",
            "best_f1: 1.2895752696857115\n",
            "\n",
            "hyp: พลเอก ประยุทธ์ จันทร์โอชานายกรัฐมนตรีได้กล่าวกับประชาชนผ่านรายการศาสตร์พระราชา สู่การพัฒนาอย่างยั่งยืนทางสถานีโทรทัศน์รวมการเฉพาะกิจแห่งประเทศไทยในวันศุกร์ที่8\n",
            "gol: สรุปประเด็นนายกรัฐมนตรีกล่าวในรายการศาสตร์พระราชา สู่การพัฒนาอย่างยั่งยืนวันศุกร์ที่8กุมภาพันธ์2562\n",
            "best_f1: 2.084415564805617\n",
            "\n",
            "hyp: รมว.แรงงานยื่นสัตยาบันอนุสัญญาILOฉบับที่188ว่าด้วยการใหญ่ILOแสดงเจตจำนงของรัฐบาลไทยยกระดับมาตรฐานการคุ้มครองแรงงานในภาคประมงควบคู่ไปกับการแก้ไข\n",
            "gol: บิ๊กอู๋ยื่นสัตยาบันC188ต่อILOแสดงเจตนารมณ์ไทยคุ้มครองภาคประมงสู่มาตรฐานสากล\n",
            "best_f1: 1.0634823965696938\n",
            "\n",
            "hyp: ออมสินจัดโปรพิเศษThailandSmartMoneyกรุงเทพฯ14–16ธ.ค.\n",
            "gol: ออมสินจัดโปรโมชั่นพิเศษThailandSmartMoneyกรุงเทพฯ14–16ธ.ค.นี้\n",
            "best_f1: 3.192307672436309\n",
            "\n",
            "hyp: มาช่วยผลิตพัฒนากำลังคนให้สอดคล้องกับภาคอุตสาหกรรมในพื้นที่โดยม.มหิดล-บูรพาจะร่วมฝึกอบรมระยะสั้น\n",
            "gol: ม.มหิดลเตรียมร่วมมือกับม.บูรพา ผลิตพัฒนากำลังคนให้สอดคล้องกับภาคอุตสาหกรรมรองรับพื้นที่EECเน้นหลักสูตรฝึกอบรมระยะสั้นและภาษาอังกฤษ\n",
            "best_f1: 2.2233333134434585\n",
            "\n",
            "hyp: กองทุนการออมแห่งชาติกอช.ห่วงใยประชาชนจากสถานการณ์ฝุ่นพิษPM2.5สามารถสมัครสมาชิกหรือส่งเงินสะสมได้ที่แอปพลิเคชัน\n",
            "gol: กอช.ห่วงใยสมาชิกสมัครและส่งเงินสะสมผ่านแอปฯได้ที่บ้านลดความเสี่ยงสถานการณ์ฝุ่นละอองPM2.5\n",
            "best_f1: 1.9387407627680222\n",
            "\n",
            "hyp: การแก้ปัญหาจะแก้ที่เจ้าหน้าที่อย่างเดียวไม่ได้ทุกคนต้องช่วยกันพร้อมกับขอความร่วมมือให้ประชาชนช่วยกันปฏิบัติตามกฎหมายอีกทั้งขอให้เจ้าหน้าที่\n",
            "gol: นายกรัฐมนตรีเผยการแก้ไขปัญหาเจ้าหน้าที่ไม่สามารถแก้ไขได้ฝ่ายเดียวทุกคนต้องช่วยกันปฏิบัติตามกฎหมาย\n",
            "best_f1: 1.6101715272321273\n",
            "\n",
            "hyp: ฉบับสำหรับประชาชนฉบับวาระ100ปีชาตกาลอาจารย์สุชีพ ปุญญานุภาพโดยมีดังนั้นวธ.ร่วมกับมูลนิธิมหามกุฏราชวิทยาลัย ในพระบรมราชูปถัมภ์มูลนิธิพระไตรปิฎกเพื่อประชาชนมหาวิทยาลัยมหามกุฏราชวิทยาลัยและมูลนิธิหอจดหมายเหตุพุทธทาส อินทปัญโญจัดงานพิธีสมโภชพระไตรปิฎกฉบับสำหรับประชาชน\n",
            "gol: วธ.ร่วมกับ4หน่วยงานจัดงานพิธีสมโภชพระไตรปิฎกฉบับสำหรับประชาชนฉบับวาระ100ปีชาตกาลอาจารย์สุชีพ ปุญญานุภาพ\n",
            "best_f1: 2.5219198602993687\n",
            "\n",
            "hyp: ได้รับผลกระทบในพื้นที่จังหวัดชายแดนภาคใต้\n",
            "gol: กระทรวงยุติธรรมพิจารณาร่างระเบียบฯการช่วยเหลือเยียวยาผู้ได้รับผลกระทบในพื้นที่จังหวัดชายแดนภาคใต้\n",
            "best_f1: 2.798665165343275\n",
            "\n",
            "hyp: เกิดเป็นโครงการมอบกล้องโทรทรรศน์และสื่อการเรียนรู้ดาราศาสตร์เพื่อพัฒนาโครงงานดาราศาสตร์ระดับโรงเรียนสนับสนุนกล้องโทรทรรศน์และ\n",
            "gol: สดร.เชิญชวนสมัครรับมอบกล้องโทรทรรศน์และสื่อการเรียนรู้ดาราศาสตร์หนุนสร้างงานวิจัยดาราศาสตร์ระดับโรงเรียน\n",
            "best_f1: 2.1660231460631563\n",
            "\n",
            "hyp: บุคลากรทางการศึกษาก.ค.ศ.ครั้งที่14/2561เมื่อวัน\n",
            "gol: ผลการประชุมก.ค.ศ.14/2561\n",
            "best_f1: 1.8909090716396697\n",
            "\n",
            "hyp: กรมบังคับคดีเข้าร่วมประชุมคณะกรรมาธิการสหประชาชาติว่าด้วยกฎหมายการค้าระหว่างประเทศUNCITRALคณะทำงานที่6ว่าด้วยกฎหมายหลักประกันทางธุรกิจสมัยที่34ณกรุงเวียนนาประเทศออสเตรียในระหว่าง\n",
            "gol: กระทรวงยุติธรรมโดยกรมบังคับคดีเข้าร่วมประชุมคณะกรรมาธิการสหประชาชาติว่าด้วยกฎหมายการค้าระหว่างประเทศUNCITRALคณะทำงานที่6ว่าด้วยกฎหมายหลักประกันทางธุรกิจณกรุงเวียนนา ประเ\n",
            "best_f1: 3.348338951332175\n",
            "\n",
            "hyp: ปิดงานและปาฐถกถาSmart CityFrameworkDevelopmentWorkshopเมื่อ\n",
            "gol: รมว.กระทรวงดิจิทัลฯกล่าวปิดงานและปาฐถกถาSmart CityFrameworkDevelopmentWorkshop\n",
            "best_f1: 3.3030302831823923\n",
            "\n",
            "hyp: ในบันทึกข้อตกลงความร่วมมือการบริหารจัดการน้ำชุมชนตาม\n",
            "gol: ทส.ร่วมพิธีบันทึกข้อตกลงความร่วมมือ\n",
            "best_f1: 1.99380803009633\n",
            "\n",
            "hyp: สนามทดสอบ5G5GTestbedสมบูรณ์แบบในพื้นที่อีอีซี\n",
            "gol: ดีอีนำพันธมิตร5Gทุกภาคส่วนลงพื้นที่จริง5GTestbedในพื้นที่อีอีซี\n",
            "best_f1: 1.8623984520925547\n",
            "\n",
            "hyp: เงินกู้ไม่เกิน1ล้านบาทธนาคารอาคารสงเคราะห์ขอบคุณลูกค้าสินเชื่อเพิ่มกับบัญชีเงินฝากประจำเจ้าสัวแสนล้าน8เดือน\n",
            "gol: อิ่มท้องรับปีใหม่ธอส.มอบข้าวออร์แกนิคลูกค้าวงเงินกู้ไม่เกิน1ล้านบาทด้านผู้รักการออมชวนออมเงินฝากประจำเจ้าสัวแสนล้าน\n",
            "best_f1: 1.8865466253297707\n",
            "\n",
            "hyp: กระทรวงดิจิทัลฯเผยผลสำรวจมูลค่าตลาดดิจิทัลไทย3อุตสาหกรรมเติบโตตลาดฮาร์ดแวร์และอุปกรณ์อัจฉริยะมีมูลค่าเกือบ3แสนล้านบาท\n",
            "gol: กระทรวงดิจิทัลฯเผยผลสำรวจมูลค่าตลาดดิจิทัลไทย3อุตสาหกรรมเติบโตพบตลาดฮาร์ดแวร์และอุปกรณ์อัจฉริยะมีมูลค่าเกือบ3แสนล้านบาท\n",
            "best_f1: 3.8138526301652607\n",
            "\n",
            "hyp: งานด้านการคุ้มครองผู้บริโภคของสำนักงาน คปภ.ตาม5\n",
            "gol: คปภ.ผนึกกำลังหน่วยงานเครือข่ายเดินหน้าขับเคลื่อนกลไกการคุ้มครองผู้บริโภคเชิงรุก\n",
            "best_f1: 1.4230769035913875\n",
            "\n",
            "hyp: H.E. Ms. Donica Pottieเอกอัครราชทูตแคนาดาประจำประเทศไทยเข้าเยี่ยมคารวะนายกอบศักดิ์ ภูตระกูลรัฐมนตรี\n",
            "gol: เอกอัครราชทูตแคนาดาประจำประเทศไทยเข้าเยี่ยมคารวะรัฐมนตรีประจำสำนักนายกรัฐมนตรี\n",
            "best_f1: 2.350144908521322\n",
            "\n",
            "hyp: สูงขึ้นจนกระทบต่อราคาข้าวสารแต่อย่างใดและคาดผู้บริโภคหากผู้บริโภคไม่ได้รับความเป็นธรรมมี\n",
            "gol: พาณิชย์ยันราคาข้าวสารหอมมะลิบรรจุถุงยังไม่ปรับตัวสูงขึ้นและกระทบผู้บริโภค\n",
            "best_f1: 1.2695772498749385\n",
            "\n",
            "hyp: พลเอก ประยุทธ์ จันทร์โอชานายกรัฐมนตรีได้กล่าวกับประชาชนผ่านรายการศาสตร์พระราชา สู่การพัฒนาอย่างยั่งยืนทางสถานีโทรทัศน์รวมการเฉพาะกิจแห่งประเทศไทยในวันศุกร์ที่8กุมภาพันธ์2562\n",
            "gol: สรุปประเด็นนายกรัฐมนตรีกล่าวในรายการศาสตร์พระราชา สู่การพัฒนาอย่างยั่งยืนวันศุกร์ที่8กุมภาพันธ์2562\n",
            "best_f1: 2.3478260675895584\n",
            "\n",
            "hyp: ILOแสดงเจตจำนงของรัฐบาลไทยยกระดับมาตรฐานการคุ้มครองการมาตรฐานสากลเมื่อวันที่30มกราคม2562เวลา21.00กระทรวงแรงงานและคณะยื่นสัตยาบันอนุสัญญาILOฉบับที่188ว่าด้วยภาคประมงไทยและสินค้าประมงไทยพล.ต.อ.อดุลย์ฯกล่าวต่อว่าการ\n",
            "gol: บิ๊กอู๋ยื่นสัตยาบันC188ต่อILOแสดงเจตนารมณ์ไทยคุ้มครองภาคประมงสู่มาตรฐานสากล\n",
            "best_f1: 1.006493491561045\n",
            "\n",
            "hyp: ออมสินจัดโปรพิเศษThailandSmartMoneyกรุงเทพฯ14–16ธ.ค.นี้\n",
            "gol: ออมสินจัดโปรโมชั่นพิเศษThailandSmartMoneyกรุงเทพฯ14–16ธ.ค.นี้\n",
            "best_f1: 3.377777757807496\n",
            "\n",
            "hyp: คนให้สอดคล้องกับภาคอุตสาหกรรมในพื้นที่โดยม.มหิดล-บูรพาพื้นที่ผลิตและพัฒนากำลังคนให้สอดคล้องกับภาคอุตสาหกรรมและ\n",
            "gol: ม.มหิดลเตรียมร่วมมือกับม.บูรพา ผลิตพัฒนากำลังคนให้สอดคล้องกับภาคอุตสาหกรรมรองรับพื้นที่EECเน้นหลักสูตรฝึกอบรมระยะสั้นและภาษาอังกฤษ\n",
            "best_f1: 1.8835897237945463\n",
            "\n",
            "hyp: กองทุนการออมแห่งชาติกอช.ห่วงใยประชาชนจากสถานการณ์ฝุ่นพิษPM2.5สามารถสมัครสมาชิกหรือส่งเงินสะสมได้ที่แอปพลิเคชันApplicationกอช.\n",
            "gol: กอช.ห่วงใยสมาชิกสมัครและส่งเงินสะสมผ่านแอปฯได้ที่บ้านลดความเสี่ยงสถานการณ์ฝุ่นละอองPM2.5\n",
            "best_f1: 1.8642940838368653\n",
            "\n",
            "hyp: ที่เจ้าหน้าที่อย่างเดียวไม่ได้ทุกคนต้องช่วยกันพร้อมกับขอความร่วมมือให้ประชาชนช่วยกันปฏิบัติตามกฎหมายอีก\n",
            "gol: นายกรัฐมนตรีเผยการแก้ไขปัญหาเจ้าหน้าที่ไม่สามารถแก้ไขได้ฝ่ายเดียวทุกคนต้องช่วยกันปฏิบัติตามกฎหมาย\n",
            "best_f1: 1.7083056279227669\n",
            "\n",
            "hyp: พุทธทาส อินทปัญโญจัดงานพิธีสมโภชพระไตรปิฎกฉบับสำหรับประชาชนฉบับวาระ100ฉบับสำหรับประชาชนฉบับวาระ100ปีชาตกาลอาจารย์สุชีพ ปุญญานุภาพโดยจัดขึ้น\n",
            "gol: วธ.ร่วมกับ4หน่วยงานจัดงานพิธีสมโภชพระไตรปิฎกฉบับสำหรับประชาชนฉบับวาระ100ปีชาตกาลอาจารย์สุชีพ ปุญญานุภาพ\n",
            "best_f1: 2.6394990537253227\n",
            "\n",
            "hyp: ผู้ได้รับผลกระทบในพื้นที่จังหวัดชายแดนภาคใต้\n",
            "gol: กระทรวงยุติธรรมพิจารณาร่างระเบียบฯการช่วยเหลือเยียวยาผู้ได้รับผลกระทบในพื้นที่จังหวัดชายแดนภาคใต้\n",
            "best_f1: 2.9666666480027777\n",
            "\n",
            "hyp: ดาราศาสตร์เกิดเป็นโครงการมอบกล้องโทรทรรศน์และสื่อการเรียนรู้ดาราศาสตร์เพื่อพัฒนาโครงงานดาราศาสตร์ระดับโรงเรียนสนับสนุนกล้องโทรทรรศน์และสื่อ\n",
            "gol: สดร.เชิญชวนสมัครรับมอบกล้องโทรทรรศน์และสื่อการเรียนรู้ดาราศาสตร์หนุนสร้างงานวิจัยดาราศาสตร์ระดับโรงเรียน\n",
            "best_f1: 2.09243007256577\n",
            "\n",
            "hyp: ทางการศึกษาก.ค.ศ.ครั้งที่14/2561เมื่อวันพุธที่\n",
            "gol: ผลการประชุมก.ค.ศ.14/2561\n",
            "best_f1: 1.8290984187625678\n",
            "\n",
            "hyp: กรมบังคับคดีเข้าร่วมประชุมคณะกรรมาธิการสหประชาชาติว่าด้วยกฎหมายการค้าระหว่างประเทศUNCITRALคณะทำงานที่6ว่าด้วยกฎหมายหลักประกันทาง\n",
            "gol: กระทรวงยุติธรรมโดยกรมบังคับคดีเข้าร่วมประชุมคณะกรรมาธิการสหประชาชาติว่าด้วยกฎหมายการค้าระหว่างประเทศUNCITRALคณะทำงานที่6ว่าด้วยกฎหมายหลักประกันทางธุรกิจณกรุงเวียนนา ประเ\n",
            "best_f1: 3.527684855790893\n",
            "\n",
            "hyp: งานและปาฐถกถาSmart CityFrameworkDevelopmentWorkshopเมื่อวันที่\n",
            "gol: รมว.กระทรวงดิจิทัลฯกล่าวปิดงานและปาฐถกถาSmart CityFrameworkDevelopmentWorkshop\n",
            "best_f1: 2.8313043278609906\n",
            "\n",
            "hyp: สิมาฉายาปลัดกระทรวงทรัพยากรธรรมชาติและสิ่งแวดล้อมลงนามในบันทึกข้อตกลงความ\n",
            "gol: ทส.ร่วมพิธีบันทึกข้อตกลงความร่วมมือ\n",
            "best_f1: 1.4666666475604937\n",
            "\n",
            "hyp: G5GTestbedสมบูรณ์แบบในพื้นที่อีอีซีที่มหาวิทยาลัยเกษตรศาสตร์วิทยาเขตศรีราชาสร้าง5Gรายสำคัญลงพื้นที่จริงเพื่อการพัฒนาสนามทดสอบ\n",
            "gol: ดีอีนำพันธมิตร5Gทุกภาคส่วนลงพื้นที่จริง5GTestbedในพื้นที่อีอีซี\n",
            "best_f1: 1.6074752408965773\n",
            "\n",
            "hyp: วงเงินกู้ไม่เกิน1ล้านบาทซึ่งมีลูกค้าเข้าการออมให้แก่ประชาชนในช่วงปีใหม่เพียงเปิดบัญชีหรือฝากเงินเพิ่มกับบัญชีเงินฝากประจำเจ้าสัวแสนล้าน\n",
            "gol: อิ่มท้องรับปีใหม่ธอส.มอบข้าวออร์แกนิคลูกค้าวงเงินกู้ไม่เกิน1ล้านบาทด้านผู้รักการออมชวนออมเงินฝากประจำเจ้าสัวแสนล้าน\n",
            "best_f1: 2.002481693841605\n",
            "\n",
            "hyp: กระทรวงดิจิทัลฯเผยผลสำรวจมูลค่าตลาดดิจิทัลไทย3อุตสาหกรรมเติบโตดร.พิเชฐ ดุรงคเวโรจน์ตลาดดิจิทัลไทย3อุตสาหกรรมพบตลาดฮาร์ดแวร์และอุปกรณ์อัจฉริยะมีมูลค่าเกือบ3แสนล้านบาทe-Paymentเงินสะพัดทำกำไร\n",
            "gol: กระทรวงดิจิทัลฯเผยผลสำรวจมูลค่าตลาดดิจิทัลไทย3อุตสาหกรรมเติบโตพบตลาดฮาร์ดแวร์และอุปกรณ์อัจฉริยะมีมูลค่าเกือบ3แสนล้านบาท\n",
            "best_f1: 2.985519463040983\n",
            "\n",
            "hyp: การดำเนินงานด้านการคุ้มครองผู้บริโภคของสำนักงาน คปภ.ตาม\n",
            "gol: คปภ.ผนึกกำลังหน่วยงานเครือข่ายเดินหน้าขับเคลื่อนกลไกการคุ้มครองผู้บริโภคเชิงรุก\n",
            "best_f1: 1.3859828863069779\n",
            "\n",
            "hyp: Pottieเอกอัครราชทูตแคนาดาประจำประเทศไทยเข้าเยี่ยมคารวะนายกอบศักดิ์ ภูตระกูลรัฐมนตรีประจำสำนักนายกรัฐมนตรี\n",
            "gol: เอกอัครราชทูตแคนาดาประจำประเทศไทยเข้าเยี่ยมคารวะรัฐมนตรีประจำสำนักนายกรัฐมนตรี\n",
            "best_f1: 3.2505175787348746\n",
            "\n",
            "hyp: ราคาข้าวสารอาจจะปรับตัวสูงขึ้นทั้งนี้ช่วงที่จริงจนกระทบต่อผู้บริโภคหากผู้บริโภคไม่ได้รับ\n",
            "gol: พาณิชย์ยันราคาข้าวสารหอมมะลิบรรจุถุงยังไม่ปรับตัวสูงขึ้นและกระทบผู้บริโภค\n",
            "best_f1: 1.2595371913068092\n",
            "\n"
          ],
          "name": "stdout"
        },
        {
          "output_type": "execute_result",
          "data": {
            "text/plain": [
              "<matplotlib.legend.Legend at 0x7f1f1c3f3358>"
            ]
          },
          "metadata": {
            "tags": []
          },
          "execution_count": 20
        },
        {
          "output_type": "display_data",
          "data": {
            "image/png": "[encoded data removed]",
            "text/plain": [
              "<Figure size 1080x576 with 1 Axes>"
            ]
          },
          "metadata": {
            "tags": [],
            "needs_background": "light"
          }
        }
      ]
    },
    {
      "cell_type": "markdown",
      "metadata": {
        "id": "rI_mEqO_0dCf",
        "colab_type": "text"
      },
      "source": [
        "this data has no zero len"
      ]
    },
    {
      "cell_type": "code",
      "metadata": {
        "id": "IEBdbK_IbIvh",
        "colab_type": "code",
        "colab": {}
      },
      "source": [
        "with open(THAIGOV_PATH + 'thai_gov_split/train_v2.pkl', 'rb') as f:\n",
        "  train_set = pickle.load(f)\n",
        "with open(THAIGOV_PATH + 'thai_gov_split/val_v2.pkl', 'rb') as f:\n",
        "  val_set = pickle.load(f)\n",
        "with open(THAIGOV_PATH + 'thai_gov_split/test_v2.pkl', 'rb') as f:\n",
        "  test_set = pickle.load(f)"
      ],
      "execution_count": 0,
      "outputs": []
    },
    {
      "cell_type": "code",
      "metadata": {
        "id": "i3RQxMTgzmgE",
        "colab_type": "code",
        "outputId": "0a6a0dda-e595-4f90-dfc6-a5b1b6f8820c",
        "colab": {
          "base_uri": "https://localhost:8080/",
          "height": 34
        }
      },
      "source": [
        "len(train_set), len(val_set), len(test_set)"
      ],
      "execution_count": 0,
      "outputs": [
        {
          "output_type": "execute_result",
          "data": {
            "text/plain": [
              "(11615, 2861, 2861)"
            ]
          },
          "metadata": {
            "tags": []
          },
          "execution_count": 180
        }
      ]
    },
    {
      "cell_type": "code",
      "metadata": {
        "id": "PVIL92ZQ0T-t",
        "colab_type": "code",
        "outputId": "4c8ff3ee-e442-41d6-ecd8-f3cce1fc0d82",
        "colab": {
          "base_uri": "https://localhost:8080/",
          "height": 419
        }
      },
      "source": [
        "train_set"
      ],
      "execution_count": 0,
      "outputs": [
        {
          "output_type": "execute_result",
          "data": {
            "text/html": [
              "<div>\n",
              "<style scoped>\n",
              "    .dataframe tbody tr th:only-of-type {\n",
              "        vertical-align: middle;\n",
              "    }\n",
              "\n",
              "    .dataframe tbody tr th {\n",
              "        vertical-align: top;\n",
              "    }\n",
              "\n",
              "    .dataframe thead th {\n",
              "        text-align: right;\n",
              "    }\n",
              "</style>\n",
              "<table border=\"1\" class=\"dataframe\">\n",
              "  <thead>\n",
              "    <tr style=\"text-align: right;\">\n",
              "      <th></th>\n",
              "      <th>content</th>\n",
              "      <th>headline</th>\n",
              "      <th>class</th>\n",
              "    </tr>\n",
              "  </thead>\n",
              "  <tbody>\n",
              "    <tr>\n",
              "      <th>11629</th>\n",
              "      <td>[กระทรวงทรัพยากรธรรมชาติ, และสิ่ง, แวดล้อม, โด...</td>\n",
              "      <td>[ทส., จัด, การ, ประชุม, การ, ลด, ปริมาณ, ขยะ, ...</td>\n",
              "      <td>ด้านความมั่นคง</td>\n",
              "    </tr>\n",
              "    <tr>\n",
              "      <th>8470</th>\n",
              "      <td>[วัน, นี้, 28, มิถุนายน, 2560, เวลา, 11, ., 30...</td>\n",
              "      <td>[นายก, รัฐมนตรี, เผย, ต้องการ, ให้, การ, เปลี่...</td>\n",
              "      <td>ข่าวทำเนียบรัฐบาล</td>\n",
              "    </tr>\n",
              "    <tr>\n",
              "      <th>6389</th>\n",
              "      <td>[เมื่อ, วัน, จันทร์, ที่, 9, กรกฎาคม, 2561, เว...</td>\n",
              "      <td>[ม.ล.ปนัดดาฯ, กล่าว, สุนทรพจน์, ใน, พิธี, เปิด...</td>\n",
              "      <td>ด้านกฎหมายฯ</td>\n",
              "    </tr>\n",
              "    <tr>\n",
              "      <th>1058</th>\n",
              "      <td>[รอง, ปลัด, กระทรวงดิจิทัลฯ, นางวรรณพร เทพหัสด...</td>\n",
              "      <td>[รอง, ปลัด, กระทรวงดิจิทัลฯ, เปิด, งาน, การ, พ...</td>\n",
              "      <td>ด้านสังคม</td>\n",
              "    </tr>\n",
              "    <tr>\n",
              "      <th>6155</th>\n",
              "      <td>[รัฐบาล, เร่งรัด, ขับ, เคลื่อน, งาน, สำคัญ, เพ...</td>\n",
              "      <td>[เร่ง, เดินหน้า, 5, โครงการ, ลด, ความ, เหลื่อม...</td>\n",
              "      <td>รายการวิทยุไทยคู่ฟ้า</td>\n",
              "    </tr>\n",
              "    <tr>\n",
              "      <th>...</th>\n",
              "      <td>...</td>\n",
              "      <td>...</td>\n",
              "      <td>...</td>\n",
              "    </tr>\n",
              "    <tr>\n",
              "      <th>11303</th>\n",
              "      <td>[บีโอ, ไอ, นำ, คณะ, ผู้, ประกอบ, การ, เอสเอ็มอ...</td>\n",
              "      <td>[บีโอ, ไอ, จัด, คณะ, เอสเอ็มอีบุก, แม่สอด, เล็...</td>\n",
              "      <td>ด้านเศรษฐกิจ</td>\n",
              "    </tr>\n",
              "    <tr>\n",
              "      <th>11984</th>\n",
              "      <td>[นายสุวพันธุ์ ตันยุวรรธนะ, รัฐมนตรี, ว่าการ, ก...</td>\n",
              "      <td>[ยุติธรรม, ประชุม, คณะ, กรรมการกองทุนยุติธรรม,...</td>\n",
              "      <td>ด้านกฎหมายฯ</td>\n",
              "    </tr>\n",
              "    <tr>\n",
              "      <th>5401</th>\n",
              "      <td>[นายธวัชชัย ไทยเขียว, รอง, ปลัด, กระทรวงยุติธร...</td>\n",
              "      <td>[รอง, ปลัด, กระทรวงยุติธรรม, เป็น, ประธาน, พิจ...</td>\n",
              "      <td>ด้านกฎหมายฯ</td>\n",
              "    </tr>\n",
              "    <tr>\n",
              "      <th>862</th>\n",
              "      <td>[ใน, วัน, จันทร์, ที่, 24, ธันวาคม, 2561, เวลา...</td>\n",
              "      <td>[กระทรวงยุติธรรม, โดย, กรมคุม, ประพฤติ, เปิด, ...</td>\n",
              "      <td>ด้านกฎหมายฯ</td>\n",
              "    </tr>\n",
              "    <tr>\n",
              "      <th>15820</th>\n",
              "      <td>[ใน, วัน, นี้, 3, เม.ย., 2561, เวลา, 13, ., 30...</td>\n",
              "      <td>[นายก, รัฐมนตรี, แถลง, ต่อ, สื่อ, มวล, ชน, กรณ...</td>\n",
              "      <td>ข่าวทำเนียบรัฐบาล</td>\n",
              "    </tr>\n",
              "  </tbody>\n",
              "</table>\n",
              "<p>11615 rows × 3 columns</p>\n",
              "</div>"
            ],
            "text/plain": [
              "                                                 content  ...                 class\n",
              "11629  [กระทรวงทรัพยากรธรรมชาติ, และสิ่ง, แวดล้อม, โด...  ...        ด้านความมั่นคง\n",
              "8470   [วัน, นี้, 28, มิถุนายน, 2560, เวลา, 11, ., 30...  ...     ข่าวทำเนียบรัฐบาล\n",
              "6389   [เมื่อ, วัน, จันทร์, ที่, 9, กรกฎาคม, 2561, เว...  ...           ด้านกฎหมายฯ\n",
              "1058   [รอง, ปลัด, กระทรวงดิจิทัลฯ, นางวรรณพร เทพหัสด...  ...             ด้านสังคม\n",
              "6155   [รัฐบาล, เร่งรัด, ขับ, เคลื่อน, งาน, สำคัญ, เพ...  ...  รายการวิทยุไทยคู่ฟ้า\n",
              "...                                                  ...  ...                   ...\n",
              "11303  [บีโอ, ไอ, นำ, คณะ, ผู้, ประกอบ, การ, เอสเอ็มอ...  ...          ด้านเศรษฐกิจ\n",
              "11984  [นายสุวพันธุ์ ตันยุวรรธนะ, รัฐมนตรี, ว่าการ, ก...  ...           ด้านกฎหมายฯ\n",
              "5401   [นายธวัชชัย ไทยเขียว, รอง, ปลัด, กระทรวงยุติธร...  ...           ด้านกฎหมายฯ\n",
              "862    [ใน, วัน, จันทร์, ที่, 24, ธันวาคม, 2561, เวลา...  ...           ด้านกฎหมายฯ\n",
              "15820  [ใน, วัน, นี้, 3, เม.ย., 2561, เวลา, 13, ., 30...  ...     ข่าวทำเนียบรัฐบาล\n",
              "\n",
              "[11615 rows x 3 columns]"
            ]
          },
          "metadata": {
            "tags": []
          },
          "execution_count": 181
        }
      ]
    },
    {
      "cell_type": "code",
      "metadata": {
        "id": "geqRnp8WHjts",
        "colab_type": "code",
        "outputId": "97aa53e7-3885-4d21-b772-e445ba63704c",
        "colab": {
          "base_uri": "https://localhost:8080/",
          "height": 419
        }
      },
      "source": [
        "val_set"
      ],
      "execution_count": 0,
      "outputs": [
        {
          "output_type": "execute_result",
          "data": {
            "text/html": [
              "<div>\n",
              "<style scoped>\n",
              "    .dataframe tbody tr th:only-of-type {\n",
              "        vertical-align: middle;\n",
              "    }\n",
              "\n",
              "    .dataframe tbody tr th {\n",
              "        vertical-align: top;\n",
              "    }\n",
              "\n",
              "    .dataframe thead th {\n",
              "        text-align: right;\n",
              "    }\n",
              "</style>\n",
              "<table border=\"1\" class=\"dataframe\">\n",
              "  <thead>\n",
              "    <tr style=\"text-align: right;\">\n",
              "      <th></th>\n",
              "      <th>content</th>\n",
              "      <th>headline</th>\n",
              "      <th>class</th>\n",
              "    </tr>\n",
              "  </thead>\n",
              "  <tbody>\n",
              "    <tr>\n",
              "      <th>3456</th>\n",
              "      <td>[ธอส., ลุย, อีสาน, จัดสิน, เชื่อ, บ้าน, ดอกเบี...</td>\n",
              "      <td>[ธอส., ให้, บริการ, ลูกค้า, ใน, งาน, Thailand,...</td>\n",
              "      <td>ด้านเศรษฐกิจ</td>\n",
              "    </tr>\n",
              "    <tr>\n",
              "      <th>13751</th>\n",
              "      <td>[ปลัด, กระทรวงดิจิทัล, ฯ, นางสาวอัจฉรินทร์ พัฒ...</td>\n",
              "      <td>[ปลัด, กระทรวงดิจิทัลฯ, ร่วม, ลง, นาม, ใน, ข้อ...</td>\n",
              "      <td>ด้านสังคม</td>\n",
              "    </tr>\n",
              "    <tr>\n",
              "      <th>8417</th>\n",
              "      <td>[ปลัด, กระทรวงดิจิทัล, ฯ, นางสาวอัจฉรินทร์ พัฒ...</td>\n",
              "      <td>[ปลัด, กระทรวงดิจิทัลฯ, เปิด, การ, อบรม, หลักส...</td>\n",
              "      <td>ด้านการศึกษาฯ</td>\n",
              "    </tr>\n",
              "    <tr>\n",
              "      <th>15825</th>\n",
              "      <td>[ชี้แจง, ความ, คืบหน้า, การ, ดำเนิน, การ, แก้ไ...</td>\n",
              "      <td>[พลเอกฉัตรชัย สาริกัลยะ, รอง, นายก, รัฐมนตรี, ...</td>\n",
              "      <td>สื่ออยากรู้+MeetThePress</td>\n",
              "    </tr>\n",
              "    <tr>\n",
              "      <th>11665</th>\n",
              "      <td>[ต่อเนื่อง, เป็น, ปี, ที่, สอง, เล็ง, เป้า, พื...</td>\n",
              "      <td>[เกษตรฯ, สาน, ต่อ, พระราชปณิธาน, รัชกาล, ที่, ...</td>\n",
              "      <td>ด้านเศรษฐกิจ</td>\n",
              "    </tr>\n",
              "    <tr>\n",
              "      <th>...</th>\n",
              "      <td>...</td>\n",
              "      <td>...</td>\n",
              "      <td>...</td>\n",
              "    </tr>\n",
              "    <tr>\n",
              "      <th>12552</th>\n",
              "      <td>[SME, Development, Bank, สานฝัน, วัย, เก๋า, ยั...</td>\n",
              "      <td>[โดนใจวัย, เก๋า, ธพว., คลอด, สินเชื่อ, เพื่อ, ...</td>\n",
              "      <td>ด้านเศรษฐกิจ</td>\n",
              "    </tr>\n",
              "    <tr>\n",
              "      <th>131</th>\n",
              "      <td>[กระทรวงสาธารณสุข, เผยไทย, ได้, รับ, การ, ชื่น...</td>\n",
              "      <td>[สธ., เผยไทย, เป็น, ประเทศ, แกนนำ, ด้าน, การ, ...</td>\n",
              "      <td>ด้านสังคม</td>\n",
              "    </tr>\n",
              "    <tr>\n",
              "      <th>12461</th>\n",
              "      <td>[วัน, ที่, 27, ส.ค., 60, เวลา, 11, ., 00, น., ...</td>\n",
              "      <td>[รมว., พม., เป็น, ประธาน, ใน, งาน, มอบ, รางวัล...</td>\n",
              "      <td>ด้านสังคม</td>\n",
              "    </tr>\n",
              "    <tr>\n",
              "      <th>16094</th>\n",
              "      <td>[ตาม, ที่, มี, การ, วิจารณ์, ตัว, เลข, ประมาณ,...</td>\n",
              "      <td>[ชี้แจง, ข้อ, วิจารณ์, ตัว, เลข, ประมาณ, การ, ...</td>\n",
              "      <td>ด้านเศรษฐกิจ</td>\n",
              "    </tr>\n",
              "    <tr>\n",
              "      <th>2601</th>\n",
              "      <td>[รอง, นรม., พลเอก ฉัตรชัยฯ, เป็น, ประธาน, การ,...</td>\n",
              "      <td>[คณะ, กรรมการ, ต่อต้าน, การ, ทุจริตแห่งชาติ, ค...</td>\n",
              "      <td>ข่าวทำเนียบรัฐบาล</td>\n",
              "    </tr>\n",
              "  </tbody>\n",
              "</table>\n",
              "<p>2861 rows × 3 columns</p>\n",
              "</div>"
            ],
            "text/plain": [
              "                                                 content  ...                     class\n",
              "3456   [ธอส., ลุย, อีสาน, จัดสิน, เชื่อ, บ้าน, ดอกเบี...  ...              ด้านเศรษฐกิจ\n",
              "13751  [ปลัด, กระทรวงดิจิทัล, ฯ, นางสาวอัจฉรินทร์ พัฒ...  ...                 ด้านสังคม\n",
              "8417   [ปลัด, กระทรวงดิจิทัล, ฯ, นางสาวอัจฉรินทร์ พัฒ...  ...             ด้านการศึกษาฯ\n",
              "15825  [ชี้แจง, ความ, คืบหน้า, การ, ดำเนิน, การ, แก้ไ...  ...  สื่ออยากรู้+MeetThePress\n",
              "11665  [ต่อเนื่อง, เป็น, ปี, ที่, สอง, เล็ง, เป้า, พื...  ...              ด้านเศรษฐกิจ\n",
              "...                                                  ...  ...                       ...\n",
              "12552  [SME, Development, Bank, สานฝัน, วัย, เก๋า, ยั...  ...              ด้านเศรษฐกิจ\n",
              "131    [กระทรวงสาธารณสุข, เผยไทย, ได้, รับ, การ, ชื่น...  ...                 ด้านสังคม\n",
              "12461  [วัน, ที่, 27, ส.ค., 60, เวลา, 11, ., 00, น., ...  ...                 ด้านสังคม\n",
              "16094  [ตาม, ที่, มี, การ, วิจารณ์, ตัว, เลข, ประมาณ,...  ...              ด้านเศรษฐกิจ\n",
              "2601   [รอง, นรม., พลเอก ฉัตรชัยฯ, เป็น, ประธาน, การ,...  ...         ข่าวทำเนียบรัฐบาล\n",
              "\n",
              "[2861 rows x 3 columns]"
            ]
          },
          "metadata": {
            "tags": []
          },
          "execution_count": 182
        }
      ]
    },
    {
      "cell_type": "code",
      "metadata": {
        "id": "UKmtt_Zi4ObC",
        "colab_type": "code",
        "outputId": "314abe1d-bde4-4888-93ef-2877856f7e64",
        "colab": {
          "base_uri": "https://localhost:8080/",
          "height": 34
        }
      },
      "source": [
        "vocab = set()\n",
        "for i in range(len(df)):\n",
        "    vocab |= set([t.strip() for t in df['content'].iloc[i]])\n",
        "print('vocab size is',len(vocab))\n",
        "#word2idx and idx2word\n",
        "word2idx = {'<PAD>':0, '<UNK>':1}\n",
        "idx2word = ['<PAD>', '<UNK>']\n",
        "for w in sorted(list(vocab)):\n",
        "    word2idx[w] = len(idx2word)\n",
        "    idx2word.append(w)"
      ],
      "execution_count": 0,
      "outputs": [
        {
          "output_type": "stream",
          "text": [
            "vocab size is 102432\n"
          ],
          "name": "stdout"
        }
      ]
    },
    {
      "cell_type": "code",
      "metadata": {
        "id": "Id1XI9aTBB0b",
        "colab_type": "code",
        "colab": {}
      },
      "source": [
        "def convert_to_sequence(a, word2idx):\n",
        "    ans = []\n",
        "    for item in a:\n",
        "        try:\n",
        "            ans.append(word2idx[item])\n",
        "        except:\n",
        "            ans.append(word2idx['<UNK>'])\n",
        "    return ans"
      ],
      "execution_count": 0,
      "outputs": []
    },
    {
      "cell_type": "code",
      "metadata": {
        "id": "rhrCzoMY9cUD",
        "colab_type": "code",
        "colab": {}
      },
      "source": [
        "from tqdm import tqdm_notebook\n",
        "def preprocess_data(df):\n",
        "    X = []\n",
        "    y = []\n",
        "    for i in tqdm_notebook(range(len(df))):\n",
        "        #generate gold summary labels\n",
        "        try:\n",
        "            _y = parse_data(i, 5, df)\n",
        "        except Exception as e:\n",
        "            print(e)\n",
        "            continue\n",
        "        y.append(_y)\n",
        "        _X = []\n",
        "        for j in range(0, len(df['content'].iloc[i]), 5):\n",
        "            _t = convert_to_sequence(df['content'].iloc[i][j: j+5], word2idx)\n",
        "            _X.append(_t)\n",
        "        X.append(_X)\n",
        "    print(len(X), len(y))\n",
        "    return X, y"
      ],
      "execution_count": 0,
      "outputs": []
    },
    {
      "cell_type": "code",
      "metadata": {
        "id": "JrwqZ3CuGF8g",
        "colab_type": "code",
        "outputId": "84fa5920-c509-4dd3-d661-ee18df6606ab",
        "colab": {
          "base_uri": "https://localhost:8080/",
          "height": 1000,
          "referenced_widgets": [
            "3bccbf5aad174377a9708cbf7c56d984",
            "1eb4944e4e6640a7b2439b11c6f1f144",
            "42b02bc884084d6384bb9ba0e31dffe6",
            "a980e8bb9cb449cb868f575feebb3b36",
            "1b18f78ef3424d3da6b76000daf30316",
            "a178418345f141ba8133e33ce2ba9345",
            "a526819c7dbf454093ab97388546946e",
            "749e32c2587742e2ad59fee2988984b1",
            "2a5c8594eaca413fb89d0afd9d9c4d22",
            "95266f04b86045b58fa686e45b261cb2",
            "9790470023ab46d3a0f4ae7a1d06cd28",
            "72aad95ba7ff4d4b9579e1feea471521",
            "950f09a9da1e465ab30e7de787900d1e",
            "444d795cc0324646aa674808fe0a80b6",
            "fce6528801624a40a7b8f7034d4c390d",
            "a7008c38bcde402b8c55f52520684adc",
            "08cb08fb86504c5aa61cfd3d54ab0ca3",
            "af65a6d02a3f4721b30f01a6f98d78fa",
            "1570b5e79c414ba490cb2ce84250092b",
            "8a8507416ab948a69998f89af0ae4d27",
            "7698feebc53149388c89f9910bd80931",
            "df05e3a98b0c44f887291339a28dcb1c",
            "28ec163648b440d1bb1f70177fb20433",
            "ca9cd2b4a2c74096a6ae6cafdb951bb4"
          ]
        }
      },
      "source": [
        "X_train, y_train = preprocess_data(train_set)\n",
        "X_val, y_val = preprocess_data(val_set)\n",
        "X_test, y_test = preprocess_data(test_set)"
      ],
      "execution_count": 0,
      "outputs": [
        {
          "output_type": "stream",
          "text": [
            "/usr/local/lib/python3.6/dist-packages/ipykernel_launcher.py:5: TqdmDeprecationWarning: This function will be removed in tqdm==5.0.0\n",
            "Please use `tqdm.notebook.tqdm` instead of `tqdm.tqdm_notebook`\n",
            "  \"\"\"\n"
          ],
          "name": "stderr"
        },
        {
          "output_type": "display_data",
          "data": {
            "application/vnd.jupyter.widget-view+json": {
              "model_id": "3bccbf5aad174377a9708cbf7c56d984",
              "version_minor": 0,
              "version_major": 2
            },
            "text/plain": [
              "HBox(children=(FloatProgress(value=0.0, max=11615.0), HTML(value='')))"
            ]
          },
          "metadata": {
            "tags": []
          }
        },
        {
          "output_type": "stream",
          "text": [
            "Hypothesis is empty.\n",
            "Hypothesis is empty.\n",
            "Hypothesis is empty.\n",
            "Hypothesis is empty.\n",
            "Hypothesis is empty.\n",
            "Hypothesis is empty.\n",
            "Hypothesis is empty.\n",
            "Hypothesis is empty.\n",
            "Hypothesis is empty.\n",
            "Hypothesis is empty.\n",
            "Hypothesis is empty.\n",
            "Hypothesis is empty.\n",
            "Hypothesis is empty.\n",
            "Hypothesis is empty.\n",
            "Hypothesis is empty.\n",
            "Hypothesis is empty.\n",
            "Hypothesis is empty.\n",
            "Hypothesis is empty.\n",
            "Hypothesis is empty.\n",
            "Hypothesis is empty.\n",
            "Hypothesis is empty.\n",
            "Hypothesis is empty.\n",
            "Hypothesis is empty.\n",
            "Hypothesis is empty.\n",
            "Hypothesis is empty.\n",
            "Hypothesis is empty.\n",
            "Hypothesis is empty.\n",
            "Hypothesis is empty.\n",
            "Hypothesis is empty.\n",
            "Hypothesis is empty.\n",
            "Hypothesis is empty.\n",
            "Hypothesis is empty.\n",
            "Hypothesis is empty.\n",
            "Hypothesis is empty.\n",
            "Hypothesis is empty.\n",
            "Hypothesis is empty.\n",
            "Hypothesis is empty.\n",
            "Hypothesis is empty.\n",
            "Hypothesis is empty.\n",
            "Hypothesis is empty.\n",
            "Hypothesis is empty.\n",
            "Hypothesis is empty.\n",
            "Hypothesis is empty.\n",
            "Hypothesis is empty.\n",
            "Hypothesis is empty.\n",
            "Hypothesis is empty.\n",
            "Hypothesis is empty.\n",
            "\n",
            "11568 11568\n"
          ],
          "name": "stdout"
        },
        {
          "output_type": "display_data",
          "data": {
            "application/vnd.jupyter.widget-view+json": {
              "model_id": "2a5c8594eaca413fb89d0afd9d9c4d22",
              "version_minor": 0,
              "version_major": 2
            },
            "text/plain": [
              "HBox(children=(FloatProgress(value=0.0, max=2861.0), HTML(value='')))"
            ]
          },
          "metadata": {
            "tags": []
          }
        },
        {
          "output_type": "stream",
          "text": [
            "Hypothesis is empty.\n",
            "Hypothesis is empty.\n",
            "Hypothesis is empty.\n",
            "Hypothesis is empty.\n",
            "Hypothesis is empty.\n",
            "Hypothesis is empty.\n",
            "Hypothesis is empty.\n",
            "Hypothesis is empty.\n",
            "Hypothesis is empty.\n",
            "Hypothesis is empty.\n",
            "\n",
            "2851 2851\n"
          ],
          "name": "stdout"
        },
        {
          "output_type": "display_data",
          "data": {
            "application/vnd.jupyter.widget-view+json": {
              "model_id": "08cb08fb86504c5aa61cfd3d54ab0ca3",
              "version_minor": 0,
              "version_major": 2
            },
            "text/plain": [
              "HBox(children=(FloatProgress(value=0.0, max=2861.0), HTML(value='')))"
            ]
          },
          "metadata": {
            "tags": []
          }
        },
        {
          "output_type": "stream",
          "text": [
            "Hypothesis is empty.\n",
            "Hypothesis is empty.\n",
            "Hypothesis is empty.\n",
            "Hypothesis is empty.\n",
            "Hypothesis is empty.\n",
            "Hypothesis is empty.\n",
            "Hypothesis is empty.\n",
            "Hypothesis is empty.\n",
            "Hypothesis is empty.\n",
            "Hypothesis is empty.\n",
            "Hypothesis is empty.\n",
            "Hypothesis is empty.\n",
            "Hypothesis is empty.\n",
            "\n",
            "2848 2848\n"
          ],
          "name": "stdout"
        }
      ]
    },
    {
      "cell_type": "code",
      "metadata": {
        "id": "NbbbIucu0Uw7",
        "colab_type": "code",
        "colab": {}
      },
      "source": [
        "# with open('/gdrive/Shared drives/NeuroSummary/data/dai_data/word2idx.pkl', 'wb') as f2:\n",
        "#     pickle.dump(word2idx, f2)\n",
        "# with open('/gdrive/Shared drives/NeuroSummary/data/dai_data/idx2word.pkl', 'wb') as f2:\n",
        "#     pickle.dump(idx2word, f2)\n",
        "# with open('/gdrive/Shared drives/NeuroSummary/data/dai_data/X_train.pkl', 'wb') as f2:\n",
        "#     pickle.dump(X_train, f2)\n",
        "# with open('/gdrive/Shared drives/NeuroSummary/data/dai_data/X_val.pkl', 'wb') as f2:\n",
        "#     pickle.dump(X_val, f2)\n",
        "# with open('/gdrive/Shared drives/NeuroSummary/data/dai_data/X_test.pkl', 'wb') as f2:\n",
        "#     pickle.dump(X_test, f2)\n",
        "# with open('/gdrive/Shared drives/NeuroSummary/data/dai_data/y_train.pkl', 'wb') as f2:\n",
        "#     pickle.dump(y_train, f2)\n",
        "# with open('/gdrive/Shared drives/NeuroSummary/data/dai_data/y_val.pkl', 'wb') as f2:\n",
        "#     pickle.dump(y_val, f2)\n",
        "# with open('/gdrive/Shared drives/NeuroSummary/data/dai_data/y_test.pkl', 'wb') as f2:\n",
        "#     pickle.dump(y_test, f2)"
      ],
      "execution_count": 0,
      "outputs": []
    },
    {
      "cell_type": "code",
      "metadata": {
        "id": "PjZEw6H1iE2L",
        "colab_type": "code",
        "colab": {}
      },
      "source": [
        "# with open('/gdrive/Shared drives/NeuroSummary/data/dai_data/word2idx.pkl', 'rb') as f2:\n",
        "#     word2idx = pickle.load(f2)\n",
        "# with open('/gdrive/Shared drives/NeuroSummary/data/dai_data/idx2word.pkl', 'rb') as f2:\n",
        "#     idx2word = pickle.load(f2)\n",
        "# with open('/gdrive/Shared drives/NeuroSummary/data/dai_data/X_train.pkl', 'rb') as f2:\n",
        "#     X_train = pickle.load(f2)\n",
        "# with open('/gdrive/Shared drives/NeuroSummary/data/dai_data/X_val.pkl', 'rb') as f2:\n",
        "#     X_val = pickle.load(f2)\n",
        "# with open('/gdrive/Shared drives/NeuroSummary/data/dai_data/X_test.pkl', 'rb') as f2:\n",
        "#     X_test = pickle.load(f2)\n",
        "# with open('/gdrive/Shared drives/NeuroSummary/data/dai_data/y_train.pkl', 'rb') as f2:\n",
        "#     y_train = pickle.load(f2)\n",
        "# with open('/gdrive/Shared drives/NeuroSummary/data/dai_data/y_val.pkl', 'rb') as f2:\n",
        "#     y_val = pickle.load(f2)\n",
        "# with open('/gdrive/Shared drives/NeuroSummary/data/dai_data/y_test.pkl', 'rb') as f2:\n",
        "#     y_test = pickle.load(f2)"
      ],
      "execution_count": 0,
      "outputs": []
    },
    {
      "cell_type": "code",
      "metadata": {
        "id": "yrdmA59HSvY3",
        "colab_type": "code",
        "outputId": "062bf986-45c5-405b-a97d-6529b370d9f0",
        "colab": {
          "base_uri": "https://localhost:8080/",
          "height": 306
        }
      },
      "source": [
        "len(X_val), len(X_val[0]), y_val[:2]"
      ],
      "execution_count": 0,
      "outputs": [
        {
          "output_type": "execute_result",
          "data": {
            "text/plain": [
              "(2851,\n",
              " 191,\n",
              " [array([0., 0., 0., 0., 0., 0., 0., 0., 0., 0., 0., 0., 0., 0., 0., 1., 0.,\n",
              "         0., 0., 0., 0., 0., 0., 0., 0., 0., 0., 0., 0., 0., 0., 0., 0., 0.,\n",
              "         0., 0., 0., 0., 0., 0., 0., 0., 0., 0., 1., 0., 0., 0., 0., 0., 0.,\n",
              "         0., 0., 0., 0., 0., 0., 0., 0., 0., 0., 0., 0., 0., 0., 0., 0., 0.,\n",
              "         0., 0., 0., 0., 0., 0., 0., 0., 0., 0., 0., 0., 0., 0., 0., 0., 0.,\n",
              "         0., 0., 0., 0., 0., 0., 0., 0., 0., 0., 0., 0., 0., 0., 0., 0., 0.,\n",
              "         0., 0., 0., 0., 0., 0., 0., 0., 0., 0., 0., 0., 0., 0., 0., 0., 0.,\n",
              "         0., 0., 0., 0., 0., 0., 0., 0., 0., 0., 0., 0., 0., 0., 0., 0., 0.,\n",
              "         0., 0., 0., 0., 0., 0., 0., 0., 0., 0., 0., 0., 0., 0., 0., 0., 0.,\n",
              "         0., 0., 0., 0., 0., 0., 0., 0., 0., 0., 0., 0., 0., 0., 0., 0., 0.,\n",
              "         0., 0., 0., 0., 0., 0., 0., 0., 0., 0., 0., 0., 0., 1., 0., 0., 0.,\n",
              "         0., 0., 0., 0.]),\n",
              "  array([0., 0., 1., 1., 0., 0., 0., 0., 1., 1., 0., 0., 0., 0., 0., 0., 0.,\n",
              "         0., 0., 0., 0., 0., 0., 0., 0., 0., 0., 0., 0., 0., 0., 0., 0., 0.,\n",
              "         0., 0., 0., 0., 0., 0., 0., 0., 0., 0., 0., 0., 0., 0., 0., 0.])])"
            ]
          },
          "metadata": {
            "tags": []
          },
          "execution_count": 224
        }
      ]
    },
    {
      "cell_type": "markdown",
      "metadata": {
        "id": "vxiN6l-xbqxK",
        "colab_type": "text"
      },
      "source": [
        "padding"
      ]
    },
    {
      "cell_type": "code",
      "metadata": {
        "id": "x5dw7-IrlE9k",
        "colab_type": "code",
        "outputId": "a7e15cb7-4ea7-45b9-8f1b-8f0bf5d4366f",
        "colab": {
          "base_uri": "https://localhost:8080/",
          "height": 317,
          "referenced_widgets": [
            "3379147ca70743a895ca4e269bef15cf",
            "c4e8651ab3e542879d7a791c34dc0793",
            "f4b23b56d63d43968f19d493962a428b",
            "ad8a0109d6154ed9aaecf705614c6a9b",
            "946f73dd60944363b6c1cf30e0116f82",
            "c59950de63e34c29abb1d48137481099",
            "a3f7de46401748abaff50e67a5b33ec5",
            "a35edee8517647e081660bb0c2793169",
            "4aa523ccc6584661b2e958ae6234958c",
            "e90bdebcaeca44daa847672c19724049",
            "d1c10f713d714a11a8e429b8224048ae",
            "bee9afd3820f4b21a31cf573883705cd",
            "2de35d842901462c9277fb7bdcb53159",
            "ce14cca43398409590c33412c7bd79ee",
            "8bf68684d30b417dac03e9c3f875f526",
            "40f1e1009a1a4451945ca1b1664976b4",
            "d8b3e8c49a43484697247dd55979f0de",
            "55a5eb3e9d3e426594fea242c8e064ad",
            "addb9621553841cbaf3c0f6b880e54ae",
            "bbbf08ad42374a35b70b90160062b88a",
            "8ad30be4c4594c0dacc8bd7a70695f8b",
            "fc9feccf2b564bf394a69bc9b077f4b8",
            "4ef0d9ff27864f6ab90dfba6187c1e65",
            "1e2746671270431195bc27e0e3a4bb81"
          ]
        }
      },
      "source": [
        "# for i in tqdm_notebook(range(len(X_train))):\n",
        "#     X_train[i] = tf.keras.preprocessing.sequence.pad_sequences(X_train[i], padding='post')\n",
        "# for i in tqdm_notebook(range(len(X_val))):\n",
        "#     X_val[i] = tf.keras.preprocessing.sequence.pad_sequences(X_val[i], padding='post')\n",
        "# for i in tqdm_notebook(range(len(X_test))):\n",
        "#     X_test[i] = tf.keras.preprocessing.sequence.pad_sequences(X_test[i], padding='post')"
      ],
      "execution_count": 0,
      "outputs": [
        {
          "output_type": "stream",
          "text": [
            "/usr/local/lib/python3.6/dist-packages/ipykernel_launcher.py:1: TqdmDeprecationWarning: This function will be removed in tqdm==5.0.0\n",
            "Please use `tqdm.notebook.tqdm` instead of `tqdm.tqdm_notebook`\n",
            "  \"\"\"Entry point for launching an IPython kernel.\n"
          ],
          "name": "stderr"
        },
        {
          "output_type": "display_data",
          "data": {
            "application/vnd.jupyter.widget-view+json": {
              "model_id": "3379147ca70743a895ca4e269bef15cf",
              "version_minor": 0,
              "version_major": 2
            },
            "text/plain": [
              "HBox(children=(FloatProgress(value=0.0, max=11568.0), HTML(value='')))"
            ]
          },
          "metadata": {
            "tags": []
          }
        },
        {
          "output_type": "stream",
          "text": [
            "\n"
          ],
          "name": "stdout"
        },
        {
          "output_type": "stream",
          "text": [
            "/usr/local/lib/python3.6/dist-packages/ipykernel_launcher.py:3: TqdmDeprecationWarning: This function will be removed in tqdm==5.0.0\n",
            "Please use `tqdm.notebook.tqdm` instead of `tqdm.tqdm_notebook`\n",
            "  This is separate from the ipykernel package so we can avoid doing imports until\n"
          ],
          "name": "stderr"
        },
        {
          "output_type": "display_data",
          "data": {
            "application/vnd.jupyter.widget-view+json": {
              "model_id": "4aa523ccc6584661b2e958ae6234958c",
              "version_minor": 0,
              "version_major": 2
            },
            "text/plain": [
              "HBox(children=(FloatProgress(value=0.0, max=2851.0), HTML(value='')))"
            ]
          },
          "metadata": {
            "tags": []
          }
        },
        {
          "output_type": "stream",
          "text": [
            "\n"
          ],
          "name": "stdout"
        },
        {
          "output_type": "stream",
          "text": [
            "/usr/local/lib/python3.6/dist-packages/ipykernel_launcher.py:5: TqdmDeprecationWarning: This function will be removed in tqdm==5.0.0\n",
            "Please use `tqdm.notebook.tqdm` instead of `tqdm.tqdm_notebook`\n",
            "  \"\"\"\n"
          ],
          "name": "stderr"
        },
        {
          "output_type": "display_data",
          "data": {
            "application/vnd.jupyter.widget-view+json": {
              "model_id": "d8b3e8c49a43484697247dd55979f0de",
              "version_minor": 0,
              "version_major": 2
            },
            "text/plain": [
              "HBox(children=(FloatProgress(value=0.0, max=2848.0), HTML(value='')))"
            ]
          },
          "metadata": {
            "tags": []
          }
        },
        {
          "output_type": "stream",
          "text": [
            "\n"
          ],
          "name": "stdout"
        }
      ]
    },
    {
      "cell_type": "code",
      "metadata": {
        "id": "3il9YElWT0aB",
        "colab_type": "code",
        "colab": {}
      },
      "source": [
        "def get_batch_data(data, label, idx, batch_size=64, random=False):\n",
        "    if random:\n",
        "        idx = np.random.randint(0, len(data))\n",
        "        return (data[idx:idx+batch_size], label[idx:idx+batch_size])\n",
        "    return (data[idx:idx+batch_size], label[idx:idx+batch_size])"
      ],
      "execution_count": 0,
      "outputs": []
    },
    {
      "cell_type": "code",
      "metadata": {
        "id": "khWDvOgFk-Id",
        "colab_type": "code",
        "outputId": "72a5c176-4341-4f51-8eaa-27a23672c26b",
        "colab": {
          "base_uri": "https://localhost:8080/",
          "height": 374
        }
      },
      "source": [
        "get_batch_data(X_train, y_train, idx=0, batch_size=1, random=True)"
      ],
      "execution_count": 0,
      "outputs": [
        {
          "output_type": "execute_result",
          "data": {
            "text/plain": [
              "([array([[ 61504,  45225,  68166, 101448,  25726],\n",
              "         [ 26433,  56105,  58678,  68712,  73300],\n",
              "         [ 60297,  80826,  26567,  61840,  84471],\n",
              "         ...,\n",
              "         [102326, 102326, 102326, 102326, 102326],\n",
              "         [102326, 102326,    349,  25489,  56246],\n",
              "         [ 97326,  91965,  80055,      0,      0]], dtype=int32)],\n",
              " [array([0., 0., 1., 1., 1., 0., 0., 0., 0., 0., 0., 0., 0., 0., 0., 0., 0.,\n",
              "         0., 0., 0., 0., 0., 0., 0., 0., 0., 0., 0., 0., 0., 0., 0., 0., 0.,\n",
              "         0., 0., 0., 0., 0., 0., 0., 0., 0., 0., 0., 0., 0., 0., 0., 0., 0.,\n",
              "         0., 0., 0., 0., 0., 0., 0., 0., 0., 0., 0., 0., 0., 0., 0., 0., 0.,\n",
              "         0., 0., 0., 0., 0., 0., 0., 0., 0., 0., 0., 0., 0., 0., 0., 0., 0.,\n",
              "         0., 0., 0., 0., 0., 0., 0., 0., 0., 0., 0., 0., 0., 0., 0., 0., 0.,\n",
              "         0., 0., 0., 0., 0., 0., 0., 0., 0., 0., 0., 0., 0., 0., 0., 0., 0.,\n",
              "         0., 0., 0., 0., 0., 0., 0., 0., 0., 0., 0., 0., 0., 0., 0., 0., 0.,\n",
              "         0., 0., 0., 0., 0., 0., 0., 0., 0., 0., 0., 0., 0., 0., 0., 0., 0.,\n",
              "         0., 0., 0., 0., 0., 0., 0., 0., 0., 0., 0., 0., 0., 0., 0., 0., 0.,\n",
              "         0., 0., 0., 0., 0., 0., 0., 0., 0., 0., 0., 0., 0., 0., 0., 0., 0.,\n",
              "         0., 0., 0., 0., 0., 0., 0., 0., 0., 0., 0., 0., 0., 0., 0., 0., 0.,\n",
              "         0., 0., 0., 0., 0., 0., 0., 0., 0., 0., 0., 0., 0., 0., 0., 0., 0.,\n",
              "         0., 0., 0., 0., 0., 0., 0.])])"
            ]
          },
          "metadata": {
            "tags": []
          },
          "execution_count": 379
        }
      ]
    },
    {
      "cell_type": "code",
      "metadata": {
        "id": "7sMVKIeFwQ2S",
        "colab_type": "code",
        "outputId": "014e4450-6bc9-4a82-9f85-90ed17d754e0",
        "colab": {
          "base_uri": "https://localhost:8080/",
          "height": 34
        }
      },
      "source": [
        "max([k.shape[0] for k in X_train]),max([k.shape[1] for k in X_train])"
      ],
      "execution_count": 0,
      "outputs": [
        {
          "output_type": "execute_result",
          "data": {
            "text/plain": [
              "(2728, 5)"
            ]
          },
          "metadata": {
            "tags": []
          },
          "execution_count": 51
        }
      ]
    },
    {
      "cell_type": "code",
      "metadata": {
        "id": "V3qiDW4cUXcB",
        "colab_type": "code",
        "outputId": "5fab3e37-2c0c-41a6-c344-fad6c885eea9",
        "colab": {
          "base_uri": "https://localhost:8080/",
          "height": 238
        }
      },
      "source": [
        "!pip install fasttext"
      ],
      "execution_count": 0,
      "outputs": [
        {
          "output_type": "stream",
          "text": [
            "Collecting fasttext\n",
            "\u001b[?25l  Downloading https://files.pythonhosted.org/packages/f8/85/e2b368ab6d3528827b147fdb814f8189acc981a4bc2f99ab894650e05c40/fasttext-0.9.2.tar.gz (68kB)\n",
            "\r\u001b[K     |████▊                           | 10kB 20.6MB/s eta 0:00:01\r\u001b[K     |█████████▌                      | 20kB 1.7MB/s eta 0:00:01\r\u001b[K     |██████████████▎                 | 30kB 2.3MB/s eta 0:00:01\r\u001b[K     |███████████████████             | 40kB 1.7MB/s eta 0:00:01\r\u001b[K     |███████████████████████▉        | 51kB 1.9MB/s eta 0:00:01\r\u001b[K     |████████████████████████████▋   | 61kB 2.2MB/s eta 0:00:01\r\u001b[K     |████████████████████████████████| 71kB 2.0MB/s \n",
            "\u001b[?25hRequirement already satisfied: pybind11>=2.2 in /usr/local/lib/python3.6/dist-packages (from fasttext) (2.5.0)\n",
            "Requirement already satisfied: setuptools>=0.7.0 in /usr/local/lib/python3.6/dist-packages (from fasttext) (46.3.0)\n",
            "Requirement already satisfied: numpy in /usr/local/lib/python3.6/dist-packages (from fasttext) (1.18.4)\n",
            "Building wheels for collected packages: fasttext\n",
            "  Building wheel for fasttext (setup.py) ... \u001b[?25l\u001b[?25hdone\n",
            "  Created wheel for fasttext: filename=fasttext-0.9.2-cp36-cp36m-linux_x86_64.whl size=3014493 sha256=a2b2644ee8150a8b0780a4e8e5209747e635f8016b186c62b2dfe0361360bcd6\n",
            "  Stored in directory: /root/.cache/pip/wheels/98/ba/7f/b154944a1cf5a8cee91c154b75231136cc3a3321ab0e30f592\n",
            "Successfully built fasttext\n",
            "Installing collected packages: fasttext\n",
            "Successfully installed fasttext-0.9.2\n"
          ],
          "name": "stdout"
        }
      ]
    },
    {
      "cell_type": "code",
      "metadata": {
        "id": "75YHOgaQS9yr",
        "colab_type": "code",
        "outputId": "53840eb9-5261-40a3-dbdf-8d8955e28b8b",
        "colab": {
          "base_uri": "https://localhost:8080/",
          "height": 402
        }
      },
      "source": [
        "!wget --no-check-certificate https://dl.fbaipublicfiles.com/fasttext/vectors-crawl/cc.th.300.bin.gz \n",
        "!gunzip cc.th.300.bin.gz"
      ],
      "execution_count": 0,
      "outputs": [
        {
          "output_type": "stream",
          "text": [
            "--2020-05-21 12:53:42--  https://dl.fbaipublicfiles.com/fasttext/vectors-crawl/cc.th.300.bin.gz\n",
            "Resolving dl.fbaipublicfiles.com (dl.fbaipublicfiles.com)... 104.22.75.142, 104.22.74.142, 2606:4700:10::6816:4b8e, ...\n",
            "Connecting to dl.fbaipublicfiles.com (dl.fbaipublicfiles.com)|104.22.75.142|:443... connected.\n",
            "HTTP request sent, awaiting response... 200 OK\n",
            "Length: 4509650360 (4.2G) [application/octet-stream]\n",
            "Saving to: ‘cc.th.300.bin.gz’\n",
            "\n",
            "cc.th.300.bin.gz    100%[===================>]   4.20G  22.4MB/s    in 3m 13s  \n",
            "\n",
            "2020-05-21 12:56:56 (22.3 MB/s) - ‘cc.th.300.bin.gz’ saved [4509650360/4509650360]\n",
            "\n"
          ],
          "name": "stdout"
        },
        {
          "output_type": "error",
          "ename": "NameError",
          "evalue": "ignored",
          "traceback": [
            "\u001b[0;31m---------------------------------------------------------------------------\u001b[0m",
            "\u001b[0;31mNameError\u001b[0m                                 Traceback (most recent call last)",
            "\u001b[0;32m<ipython-input-349-eef6a5f6360d>\u001b[0m in \u001b[0;36m<module>\u001b[0;34m()\u001b[0m\n\u001b[1;32m      1\u001b[0m \u001b[0mget_ipython\u001b[0m\u001b[0;34m(\u001b[0m\u001b[0;34m)\u001b[0m\u001b[0;34m.\u001b[0m\u001b[0msystem\u001b[0m\u001b[0;34m(\u001b[0m\u001b[0;34m'wget --no-check-certificate https://dl.fbaipublicfiles.com/fasttext/vectors-crawl/cc.th.300.bin.gz '\u001b[0m\u001b[0;34m)\u001b[0m\u001b[0;34m\u001b[0m\u001b[0;34m\u001b[0m\u001b[0m\n\u001b[1;32m      2\u001b[0m \u001b[0mget_ipython\u001b[0m\u001b[0;34m(\u001b[0m\u001b[0;34m)\u001b[0m\u001b[0;34m.\u001b[0m\u001b[0msystem\u001b[0m\u001b[0;34m(\u001b[0m\u001b[0;34m'gunzip cc.th.300.bin.gz'\u001b[0m\u001b[0;34m)\u001b[0m\u001b[0;34m\u001b[0m\u001b[0;34m\u001b[0m\u001b[0m\n\u001b[0;32m----> 3\u001b[0;31m \u001b[0mft\u001b[0m \u001b[0;34m=\u001b[0m \u001b[0mfasttext\u001b[0m\u001b[0;34m.\u001b[0m\u001b[0mload_model\u001b[0m\u001b[0;34m(\u001b[0m\u001b[0;34m'cc.th.300.bin'\u001b[0m\u001b[0;34m)\u001b[0m\u001b[0;34m\u001b[0m\u001b[0;34m\u001b[0m\u001b[0m\n\u001b[0m\u001b[1;32m      4\u001b[0m \u001b[0mft\u001b[0m\u001b[0;34m.\u001b[0m\u001b[0mget_dimension\u001b[0m\u001b[0;34m(\u001b[0m\u001b[0;34m)\u001b[0m\u001b[0;34m\u001b[0m\u001b[0;34m\u001b[0m\u001b[0m\n",
            "\u001b[0;31mNameError\u001b[0m: name 'fasttext' is not defined"
          ]
        }
      ]
    },
    {
      "cell_type": "code",
      "metadata": {
        "id": "soq7BiHSUa_Z",
        "colab_type": "code",
        "outputId": "2e4c8b4c-b390-4ef8-c1f7-14d393a4c662",
        "colab": {
          "base_uri": "https://localhost:8080/",
          "height": 51
        }
      },
      "source": [
        "import fasttext\n",
        "ft = fasttext.load_model('cc.th.300.bin')\n",
        "ft.get_dimension()"
      ],
      "execution_count": 0,
      "outputs": [
        {
          "output_type": "stream",
          "text": [
            "Warning : `load_model` does not return WordVectorModel or SupervisedModel any more, but a `FastText` object which is very similar.\n"
          ],
          "name": "stderr"
        },
        {
          "output_type": "execute_result",
          "data": {
            "text/plain": [
              "300"
            ]
          },
          "metadata": {
            "tags": []
          },
          "execution_count": 352
        }
      ]
    },
    {
      "cell_type": "code",
      "metadata": {
        "id": "3mi_ZKfxUrhE",
        "colab_type": "code",
        "outputId": "e7ac3b29-464a-4685-8807-b0c8663ef0f8",
        "colab": {
          "base_uri": "https://localhost:8080/",
          "referenced_widgets": [
            "788d7be3d3e449c6a898558937bed175"
          ]
        }
      },
      "source": [
        "W = np.zeros((len(idx2word), 300))\n",
        "cnt = 0\n",
        "for i in tqdm_notebook(range(len(idx2word))):\n",
        "    if idx2word[i] in ft:\n",
        "        W[i] = ft[idx2word[i]]\n",
        "        cnt += 1\n",
        "print('Found {} words out of {}, {}%'.format(cnt, len(idx2word), cnt/len(idx2word)))\n",
        "print(W.shape)"
      ],
      "execution_count": 0,
      "outputs": [
        {
          "output_type": "stream",
          "text": [
            "/usr/local/lib/python3.6/dist-packages/ipykernel_launcher.py:3: TqdmDeprecationWarning: This function will be removed in tqdm==5.0.0\n",
            "Please use `tqdm.notebook.tqdm` instead of `tqdm.tqdm_notebook`\n",
            "  This is separate from the ipykernel package so we can avoid doing imports until\n"
          ],
          "name": "stderr"
        },
        {
          "output_type": "display_data",
          "data": {
            "application/vnd.jupyter.widget-view+json": {
              "model_id": "788d7be3d3e449c6a898558937bed175",
              "version_minor": 0,
              "version_major": 2
            },
            "text/plain": [
              "HBox(children=(FloatProgress(value=0.0, max=102434.0), HTML(value='')))"
            ]
          },
          "metadata": {
            "tags": []
          }
        },
        {
          "output_type": "error",
          "ename": "IndexError",
          "evalue": "ignored",
          "traceback": [
            "\u001b[0;31m---------------------------------------------------------------------------\u001b[0m",
            "\u001b[0;31mIndexError\u001b[0m                                Traceback (most recent call last)",
            "\u001b[0;32m<ipython-input-358-1a98ba9fd57c>\u001b[0m in \u001b[0;36m<module>\u001b[0;34m()\u001b[0m\n\u001b[1;32m      3\u001b[0m \u001b[0;32mfor\u001b[0m \u001b[0mi\u001b[0m \u001b[0;32min\u001b[0m \u001b[0mtqdm_notebook\u001b[0m\u001b[0;34m(\u001b[0m\u001b[0mrange\u001b[0m\u001b[0;34m(\u001b[0m\u001b[0mlen\u001b[0m\u001b[0;34m(\u001b[0m\u001b[0midx2word\u001b[0m\u001b[0;34m)\u001b[0m\u001b[0;34m)\u001b[0m\u001b[0;34m)\u001b[0m\u001b[0;34m:\u001b[0m\u001b[0;34m\u001b[0m\u001b[0;34m\u001b[0m\u001b[0m\n\u001b[1;32m      4\u001b[0m     \u001b[0;32mif\u001b[0m \u001b[0midx2word\u001b[0m\u001b[0;34m[\u001b[0m\u001b[0mi\u001b[0m\u001b[0;34m]\u001b[0m \u001b[0;32min\u001b[0m \u001b[0mft\u001b[0m\u001b[0;34m:\u001b[0m\u001b[0;34m\u001b[0m\u001b[0;34m\u001b[0m\u001b[0m\n\u001b[0;32m----> 5\u001b[0;31m         \u001b[0mW\u001b[0m\u001b[0;34m[\u001b[0m\u001b[0mi\u001b[0m\u001b[0;34m]\u001b[0m \u001b[0;34m=\u001b[0m \u001b[0mft\u001b[0m\u001b[0;34m[\u001b[0m\u001b[0midx2word\u001b[0m\u001b[0;34m[\u001b[0m\u001b[0mi\u001b[0m\u001b[0;34m]\u001b[0m\u001b[0;34m]\u001b[0m\u001b[0;34m\u001b[0m\u001b[0;34m\u001b[0m\u001b[0m\n\u001b[0m\u001b[1;32m      6\u001b[0m         \u001b[0mcnt\u001b[0m \u001b[0;34m+=\u001b[0m \u001b[0;36m1\u001b[0m\u001b[0;34m\u001b[0m\u001b[0;34m\u001b[0m\u001b[0m\n\u001b[1;32m      7\u001b[0m \u001b[0mprint\u001b[0m\u001b[0;34m(\u001b[0m\u001b[0;34m'Found {} words out of {}, {}%'\u001b[0m\u001b[0;34m.\u001b[0m\u001b[0mformat\u001b[0m\u001b[0;34m(\u001b[0m\u001b[0mcnt\u001b[0m\u001b[0;34m,\u001b[0m \u001b[0mlen\u001b[0m\u001b[0;34m(\u001b[0m\u001b[0midx2word\u001b[0m\u001b[0;34m)\u001b[0m\u001b[0;34m,\u001b[0m \u001b[0mcnt\u001b[0m\u001b[0;34m/\u001b[0m\u001b[0mlen\u001b[0m\u001b[0;34m(\u001b[0m\u001b[0midx2word\u001b[0m\u001b[0;34m)\u001b[0m\u001b[0;34m)\u001b[0m\u001b[0;34m)\u001b[0m\u001b[0;34m\u001b[0m\u001b[0;34m\u001b[0m\u001b[0m\n",
            "\u001b[0;31mIndexError\u001b[0m: index 102433 is out of bounds for axis 0 with size 102432"
          ]
        }
      ]
    },
    {
      "cell_type": "code",
      "metadata": {
        "id": "Qc6Z_9M-qoZw",
        "colab_type": "code",
        "outputId": "f5fb0988-1b04-44f7-e3f5-7cbf4e4370af",
        "colab": {
          "base_uri": "https://localhost:8080/",
          "height": 34
        }
      },
      "source": [
        "print('Found {} words out of {}, {}%'.format(cnt, len(idx2word), cnt/len(idx2word)))"
      ],
      "execution_count": 0,
      "outputs": [
        {
          "output_type": "stream",
          "text": [
            "Found 28817 words out of 102434, 0.28132260772790285%\n"
          ],
          "name": "stdout"
        }
      ]
    },
    {
      "cell_type": "code",
      "metadata": {
        "id": "QY5D5wbVXFZJ",
        "colab_type": "code",
        "colab": {}
      },
      "source": [
        "# with open('/gdrive/Shared drives/NeuroSummary/data/dai_data/fasttext_vec.pkl', 'wb') as f2:\n",
        "#     pickle.dump(W, f2)\n",
        "# with open('/gdrive/Shared drives/NeuroSummary/data/dai_data/fasttext_vec.pkl', 'rb') as f2:\n",
        "#     W = pickle.load(f2)\n",
        "# with open('/gdrive/Shared drives/NeuroSummary/data/dai_data/fasttext_vec_2.pkl', 'wb') as f2:\n",
        "#     pickle.dump(W2, f2)\n",
        "# with open('/gdrive/Shared drives/NeuroSummary/data/dai_data/fasttext_vec_2.pkl', 'rb') as f2:\n",
        "#     W = pickle.load(f2)\n"
      ],
      "execution_count": 0,
      "outputs": []
    },
    {
      "cell_type": "code",
      "metadata": {
        "id": "QrU_DUfbLOHH",
        "colab_type": "code",
        "colab": {}
      },
      "source": [
        "class WordEncoder(tf.keras.Model):\n",
        "    \n",
        "    def __init__(self, batch_size=128, hidden_units=200):\n",
        "        super(WordEncoder, self).__init__()\n",
        "        self.hidden_units = hidden_units\n",
        "        self.batch_size = batch_size\n",
        "\n",
        "        self.emb = tf.keras.layers.Embedding(len(word2idx), 300, weights=[W])\n",
        "        self.bigru1 = tf.keras.layers.Bidirectional(tf.keras.layers.GRU(self.hidden_units, return_sequences=True, return_state=False))\n",
        "        self.dense1 = tf.keras.layers.Dense(100, activation='tanh')\n",
        "\n",
        "    def call(self, x):\n",
        "        outputs = []\n",
        "        for i in range(len(x)):\n",
        "            _x = self.emb(x[i])\n",
        "            output = self.bigru1(_x, initial_state=[tf.zeros((_x.shape[0], self.hidden_units)),tf.zeros((_x.shape[0], self.hidden_units))])\n",
        "            # print('A',output.shape)\n",
        "            output = tf.reduce_mean(output, axis=1, keepdims=False) / 5\n",
        "            output = self.dense1(output)\n",
        "            outputs.append(output)\n",
        "        return outputs\n",
        "\n",
        "class SentenceEncoder(tf.keras.Model):\n",
        "    \n",
        "    def __init__(self, batch_size=64, hidden_units=200):\n",
        "        super(SentenceEncoder, self).__init__()\n",
        "        self.hidden_units = hidden_units\n",
        "        self.batch_size = batch_size\n",
        "\n",
        "        self.bigru1 = tf.keras.layers.Bidirectional(tf.keras.layers.GRU(self.hidden_units, return_sequences=True, return_state=False))\n",
        "        self.dense1 = tf.keras.layers.Dense(100, activation='tanh')\n",
        "\n",
        "    def call(self, x):\n",
        "        outputs = []\n",
        "        for i in range(len(x)):\n",
        "            # print(x[i].shape)\n",
        "            #initial state shape = (batch_size, hidden_units)\n",
        "            output = self.bigru1(tf.expand_dims(x[i],0), initial_state=[tf.zeros((1, self.hidden_units)),tf.zeros((1, self.hidden_units))])\n",
        "            # print('B',output.shape)\n",
        "            output = tf.reduce_mean(output, axis=1, keepdims=False) / x[i].shape[0]\n",
        "            output = self.dense1(output)\n",
        "            outputs.append(output)\n",
        "        return outputs\n",
        "\n",
        "class SentenceProbability(tf.keras.Model):\n",
        "    def __init__(self, batch_size=64):\n",
        "        super(SentenceProbability, self).__init__()\n",
        "        self.batch_size = batch_size\n",
        "\n",
        "        w_init = tf.random_normal_initializer()\n",
        "        self.w_c = tf.Variable(initial_value=w_init(shape=(100, 1),dtype='float32'),trainable=True)\n",
        "        self.w_s = tf.Variable(initial_value=w_init(shape=(100, 100),dtype='float32'),trainable=True)\n",
        "        self.w_r = tf.Variable(initial_value=w_init(shape=(100, 100),dtype='float32'),trainable=True)\n",
        "\n",
        "        self.pos_emb = tf.keras.layers.Embedding(3000, 100)\n",
        "        self.w_ap = tf.Variable(initial_value=w_init(shape=(100, 1),dtype='float32'),trainable=True)\n",
        "\n",
        "        b_init = tf.zeros_initializer()\n",
        "        self.b = tf.Variable(initial_value=b_init(shape=(1,),dtype='float32'),trainable=True)\n",
        "\n",
        "\n",
        "    def call(self, h, d):\n",
        "        P = []\n",
        "        for i in range(len(d)):\n",
        "            content = tf.matmul(h[i], self.w_c)\n",
        "            # print('content', content.shape)\n",
        "            _t = tf.matmul(d[i],self.w_s)\n",
        "            # print('_t', _t.shape)\n",
        "            salience = tf.matmul(h[i], tf.transpose(_t))\n",
        "            # print('salience',salience.shape)\n",
        "            emb = self.pos_emb(tf.range(h[i].shape[0]))\n",
        "            # print('emb', emb.shape)\n",
        "            abs_pos_imp = tf.matmul(emb, self.w_ap)\n",
        "            # print('abs_pos_imp', abs_pos_imp.shape)\n",
        "\n",
        "            novelty = 0\n",
        "            p = [] \n",
        "            for j in range(h[i].shape[0]):\n",
        "                if j == 0:\n",
        "                    s = tf.zeros((1, 100))\n",
        "                    p.append(tf.math.sigmoid(content[j]+salience[j]+abs_pos_imp[j]+self.b)[0])\n",
        "                else:\n",
        "                    # print('s', s.shape)\n",
        "                    _k = tf.matmul(tf.math.tanh(s),self.w_r)\n",
        "                    # print('_k', _k.shape)\n",
        "                    _h = tf.expand_dims(h[i][j],0)\n",
        "                    # print('_h', _h.shape)\n",
        "                    novelty = tf.matmul(_h, tf.transpose(_k))\n",
        "                    # print('novelty', novelty.shape)\n",
        "                    p.append(tf.math.sigmoid(content[j]+salience[j]-novelty+abs_pos_imp[j]+self.b)[0,0])\n",
        "                    # print('p(y=1):', p[-1])\n",
        "                    s += _h *  p[-1]\n",
        "            # print(tf.stack(p, axis=0))\n",
        "            P.append(tf.stack(p, axis=0))\n",
        "        return P"
      ],
      "execution_count": 0,
      "outputs": []
    },
    {
      "cell_type": "code",
      "metadata": {
        "id": "hqEtmoNoSqZO",
        "colab_type": "code",
        "outputId": "cd90d9ee-de61-4187-bff4-cc76d70cc45a",
        "colab": {
          "base_uri": "https://localhost:8080/",
          "height": 340
        }
      },
      "source": [
        "word_encoder = WordEncoder(64, 200)\n",
        "# word_hidden = word_encoder.initialize_hidden_state()\n",
        "sent_encoder = SentenceEncoder(64, 200)\n",
        "# sent_hidden = sent_encoder.initialize_hidden_state()\n",
        "\n",
        "sample_outputs = word_encoder(get_batch_data(X_train, y_train, 0, 1)[0])\n",
        "for item in sample_outputs:\n",
        "    print(item.shape)\n",
        "\n",
        "sample_outputs2 = sent_encoder(sample_outputs)\n",
        "for item in sample_outputs2:\n",
        "    print(item.shape)\n",
        "sentence_prob = SentenceProbability(64)\n",
        "sentence_prob(sample_outputs, sample_outputs2)"
      ],
      "execution_count": 0,
      "outputs": [
        {
          "output_type": "stream",
          "text": [
            "(76, 100)\n",
            "(1, 100)\n"
          ],
          "name": "stdout"
        },
        {
          "output_type": "execute_result",
          "data": {
            "text/plain": [
              "[<tf.Tensor: shape=(76,), dtype=float32, numpy=\n",
              " array([0.49961084, 0.4974384 , 0.50005734, 0.4971649 , 0.49840117,\n",
              "        0.5038111 , 0.4991033 , 0.50103223, 0.5015615 , 0.5052605 ,\n",
              "        0.49951172, 0.5000709 , 0.49669147, 0.49910954, 0.49634066,\n",
              "        0.5020022 , 0.4886597 , 0.5029169 , 0.50202984, 0.49700186,\n",
              "        0.49556518, 0.5036414 , 0.49637508, 0.49794036, 0.5008308 ,\n",
              "        0.49539062, 0.49011648, 0.4972732 , 0.49867648, 0.4947498 ,\n",
              "        0.49633417, 0.5002686 , 0.50522447, 0.5003384 , 0.5040729 ,\n",
              "        0.49820504, 0.49677145, 0.49973783, 0.4987824 , 0.50146973,\n",
              "        0.50389737, 0.4985355 , 0.50073826, 0.50012416, 0.49358097,\n",
              "        0.5022396 , 0.50408876, 0.497866  , 0.5008936 , 0.49880242,\n",
              "        0.5037251 , 0.49794155, 0.49823114, 0.49873695, 0.5106773 ,\n",
              "        0.49879888, 0.49887505, 0.5032835 , 0.4990434 , 0.4983462 ,\n",
              "        0.5007859 , 0.5030328 , 0.5019903 , 0.50015795, 0.50112075,\n",
              "        0.50227267, 0.50058776, 0.49838543, 0.502055  , 0.4996381 ,\n",
              "        0.5031527 , 0.4980022 , 0.4953815 , 0.49451685, 0.49907604,\n",
              "        0.49713746], dtype=float32)>]"
            ]
          },
          "metadata": {
            "tags": []
          },
          "execution_count": 440
        }
      ]
    },
    {
      "cell_type": "code",
      "metadata": {
        "id": "7RdqOaoQPGKe",
        "colab_type": "code",
        "colab": {}
      },
      "source": [
        "optimizer = tf.keras.optimizers.Adam(lr=1e-2)\n",
        "loss_fn = tf.keras.losses.BinaryCrossentropy()\n",
        "\n",
        "def train_step(inp, targ, mode='inference'):\n",
        "\n",
        "    with tf.GradientTape() as tape:\n",
        "        # print(len(inp))\n",
        "        h = word_encoder(inp)\n",
        "        # print('h:', h)\n",
        "        d = sent_encoder(h)\n",
        "        tape.watch(d)\n",
        "        # print('d:',d)\n",
        "        #calculate P(y_j = 1 | h_j, s_j, d) for each docs\n",
        "        p = sentence_prob(h, d)\n",
        "        # print('p',p)\n",
        "        # print('targ',targ)\n",
        "        batch_loss = 0\n",
        "        for i in range(len(d)):\n",
        "            # print(p[i].shape)\n",
        "            # print(targ[i].shape)\n",
        "            batch_loss += loss_fn(p[i], targ[i])\n",
        "        batch_loss /= len(inp)\n",
        "\n",
        "    if mode == 'train':\n",
        "        variables = word_encoder.trainable_variables + sent_encoder.trainable_variables + sentence_prob.trainable_variables\n",
        "        gradients = tape.gradient(batch_loss, variables)\n",
        "        gradients, _ = tf.clip_by_global_norm(gradients, 5.0)\n",
        "        # print(gradients)\n",
        "        optimizer.apply_gradients(zip(gradients, variables))\n",
        "\n",
        "    return batch_loss"
      ],
      "execution_count": 0,
      "outputs": []
    },
    {
      "cell_type": "code",
      "metadata": {
        "id": "UPErnsR5d2LX",
        "colab_type": "code",
        "outputId": "a4876671-aebc-4f5f-c69d-b208f5176017",
        "colab": {
          "base_uri": "https://localhost:8080/",
          "height": 1000
        }
      },
      "source": [
        "EPOCHS = 1\n",
        "batch_size = 64\n",
        "log = {'loss': [], 'val_loss': [], 'ar1':[],'ar2':[],'arL':[]}\n",
        "for epoch in range(EPOCHS):\n",
        "    print('EPOCH',epoch)\n",
        "    batch = len(X_train) // batch_size\n",
        "    \n",
        "    total_loss = 0\n",
        "    idx = 0\n",
        "    for i in range(batch):\n",
        "        x_batch, y_batch = get_batch_data(X_train, y_train, idx, batch_size=batch_size)\n",
        "        batch_loss = train_step(x_batch, y_batch, mode='train')\n",
        "        log['loss'].append(batch_loss)\n",
        "        if i % 5 == 0:\n",
        "            x_batch, y_batch = get_batch_data(X_val, y_val, idx, batch_size=batch_size, random=True)\n",
        "            val_loss = train_step(x_batch, y_batch, mode='inference')\n",
        "            print('EPOCH {}, batch #{} {}-{}, batch_loss: {}, val_batch_loss: {}'.format(epoch, i, idx, idx+batch_size, batch_loss, val_loss))\n",
        "            ar1,ar2,arL = try_rouge()\n",
        "            log['ar1'].append(ar1)\n",
        "            log['ar2'].append(ar2)\n",
        "            log['arL'].append(arL)\n",
        "            log['val_loss'].append(val_loss)\n",
        "\n",
        "            with open('/gdrive/Shared drives/NeuroSummary/data/dai_data/weights/word_encoder_weights_{}_{}_{}_{}.pkl'.format(i,ar1,ar2,arL), 'wb') as f2:\n",
        "                pickle.dump(word_encoder.get_weights(), f2)\n",
        "            with open('/gdrive/Shared drives/NeuroSummary/data/dai_data/weights/sent_encoder_weights_{}_{}_{}_{}.pkl'.format(i,ar1,ar2,arL), 'wb') as f2:\n",
        "                pickle.dump(sent_encoder.get_weights(), f2)\n",
        "            with open('/gdrive/Shared drives/NeuroSummary/data/dai_data/weights/sentence_prob_weights_{}_{}_{}_{}.pkl'.format(i,ar1,ar2,arL), 'wb') as f2:\n",
        "                pickle.dump(sentence_prob.get_weights(), f2)\n",
        "\n",
        "\n",
        "\n",
        "        idx += batch_size\n",
        "        total_loss += batch_loss\n",
        "    print('total loss:',total_loss)\n",
        "    \n",
        "    #calculate validation loss\n",
        "\n",
        "    # idx = 0\n",
        "    # val_loss = 0\n",
        "    # batch = len(X_val) // batch_size\n",
        "    # for i in range(batch):\n",
        "    #     x_batch, y_batch = get_batch_data(X_val, y_val, idx, batch_size=batch_size)\n",
        "    #     batch_loss = train_step(x_batch, y_batch, mode='inference')\n",
        "    #     log['val_loss'].append(batch_loss)\n",
        "    #     if i % 5 == 0:\n",
        "    #         print('EPOCH {}, batch {}-{}, val_loss: {}'.format(epoch, idx, idx+batch_size, batch_loss))\n",
        "    #     val_loss += batch_loss\n",
        "    #     idx += batch_size\n",
        "    # print('val_loss:', val_loss)\n",
        "    # idx += batch_size"
      ],
      "execution_count": 0,
      "outputs": [
        {
          "output_type": "stream",
          "text": [
            "EPOCH 0\n",
            "EPOCH 0, batch #0 0-64, batch_loss: 7.707298390567303, val_batch_loss: 6.588085412979126\n",
            "-----------------------------------------\n",
            "avg r1 (f): 0.16355073438113396\n",
            "avg r2 (f): 0.058374298074116406\n",
            "avg rL (f): 0.15585638069566887\n",
            "-----------------------------------------\n",
            "EPOCH 0, batch #5 320-384, batch_loss: 0.8556468070019037, val_batch_loss: 0.6377781517221592\n",
            "-----------------------------------------\n",
            "avg r1 (f): 0.1824745463899601\n",
            "avg r2 (f): 0.07234085710637428\n",
            "avg rL (f): 0.16350603043308717\n",
            "-----------------------------------------\n",
            "EPOCH 0, batch #10 640-704, batch_loss: 1.0361761105596088, val_batch_loss: 1.1060678926878609\n",
            "-----------------------------------------\n",
            "avg r1 (f): 0.20939110965107005\n",
            "avg r2 (f): 0.11655954679759768\n",
            "avg rL (f): 0.21360579869771956\n",
            "-----------------------------------------\n",
            "EPOCH 0, batch #15 960-1024, batch_loss: 0.9312398999463767, val_batch_loss: 0.8865216441336088\n",
            "-----------------------------------------\n",
            "avg r1 (f): 0.27830822437148034\n",
            "avg r2 (f): 0.205329186315057\n",
            "avg rL (f): 0.286516431259903\n",
            "-----------------------------------------\n",
            "EPOCH 0, batch #20 1280-1344, batch_loss: 0.8997751761926338, val_batch_loss: 1.0304311701329425\n",
            "-----------------------------------------\n",
            "avg r1 (f): 0.3030494604839312\n",
            "avg r2 (f): 0.22661110677424837\n",
            "avg rL (f): 0.30990053185790145\n",
            "-----------------------------------------\n",
            "EPOCH 0, batch #25 1600-1664, batch_loss: 1.1324895911384374, val_batch_loss: 0.9684528200887144\n",
            "-----------------------------------------\n",
            "avg r1 (f): 0.3213754196933683\n",
            "avg r2 (f): 0.24478595141253323\n",
            "avg rL (f): 0.32880112075468715\n",
            "-----------------------------------------\n",
            "EPOCH 0, batch #30 1920-1984, batch_loss: 0.961787836975418, val_batch_loss: 1.0792919445084408\n",
            "-----------------------------------------\n",
            "avg r1 (f): 0.3392451848918931\n",
            "avg r2 (f): 0.26214258377242566\n",
            "avg rL (f): 0.3474428461846397\n",
            "-----------------------------------------\n",
            "EPOCH 0, batch #35 2240-2304, batch_loss: 0.9995658291736618, val_batch_loss: 0.8360599775332958\n",
            "-----------------------------------------\n",
            "avg r1 (f): 0.3370807972676315\n",
            "avg r2 (f): 0.26347720169428207\n",
            "avg rL (f): 0.34716730438897414\n",
            "-----------------------------------------\n",
            "EPOCH 0, batch #40 2560-2624, batch_loss: 0.9439833520445973, val_batch_loss: 0.9016027045436203\n",
            "-----------------------------------------\n",
            "avg r1 (f): 0.3370807972676315\n",
            "avg r2 (f): 0.26347720169428207\n",
            "avg rL (f): 0.34733397105268937\n",
            "-----------------------------------------\n",
            "EPOCH 0, batch #45 2880-2944, batch_loss: 1.0294234331231564, val_batch_loss: 0.8358653797768056\n",
            "-----------------------------------------\n",
            "avg r1 (f): 0.3388976470898484\n",
            "avg r2 (f): 0.2644272426500314\n",
            "avg rL (f): 0.34695301867899325\n",
            "-----------------------------------------\n",
            "EPOCH 0, batch #50 3200-3264, batch_loss: 0.9260887032141909, val_batch_loss: 0.8503307395149022\n",
            "-----------------------------------------\n",
            "avg r1 (f): 0.3388976470898484\n",
            "avg r2 (f): 0.2644272426500314\n",
            "avg rL (f): 0.34695301867899325\n",
            "-----------------------------------------\n",
            "EPOCH 0, batch #55 3520-3584, batch_loss: 0.7853896494489163, val_batch_loss: 0.9794386443682015\n",
            "-----------------------------------------\n",
            "avg r1 (f): 0.3388976470898484\n",
            "avg r2 (f): 0.2644272426500314\n",
            "avg rL (f): 0.34695301867899325\n",
            "-----------------------------------------\n",
            "EPOCH 0, batch #60 3840-3904, batch_loss: 0.9633629258314613, val_batch_loss: 0.9521192202228121\n",
            "-----------------------------------------\n",
            "avg r1 (f): 0.3388976470898484\n",
            "avg r2 (f): 0.2644272426500314\n",
            "avg rL (f): 0.34695301867899325\n",
            "-----------------------------------------\n",
            "EPOCH 0, batch #65 4160-4224, batch_loss: 1.0346851123031229, val_batch_loss: 1.0294748961459845\n",
            "-----------------------------------------\n",
            "avg r1 (f): 0.3388976470898484\n",
            "avg r2 (f): 0.2644272426500314\n",
            "avg rL (f): 0.34695301867899325\n",
            "-----------------------------------------\n",
            "EPOCH 0, batch #70 4480-4544, batch_loss: 1.0401960728340782, val_batch_loss: 1.0357544291182421\n",
            "-----------------------------------------\n",
            "avg r1 (f): 0.3388976470898484\n",
            "avg r2 (f): 0.2644272426500314\n",
            "avg rL (f): 0.34695301867899325\n",
            "-----------------------------------------\n",
            "EPOCH 0, batch #75 4800-4864, batch_loss: 0.9150739231845364, val_batch_loss: 1.0651544095017016\n",
            "-----------------------------------------\n",
            "avg r1 (f): 0.3388976470898484\n",
            "avg r2 (f): 0.2644272426500314\n",
            "avg rL (f): 0.34695301867899325\n",
            "-----------------------------------------\n",
            "EPOCH 0, batch #80 5120-5184, batch_loss: 1.234763910761103, val_batch_loss: 0.9171458666678518\n",
            "-----------------------------------------\n",
            "avg r1 (f): 0.3388976470898484\n",
            "avg r2 (f): 0.2644272426500314\n",
            "avg rL (f): 0.34695301867899325\n",
            "-----------------------------------------\n",
            "EPOCH 0, batch #85 5440-5504, batch_loss: 0.8066865333239548, val_batch_loss: 1.028679383918643\n",
            "-----------------------------------------\n",
            "avg r1 (f): 0.3388976470898484\n",
            "avg r2 (f): 0.2644272426500314\n",
            "avg rL (f): 0.34695301867899325\n",
            "-----------------------------------------\n",
            "EPOCH 0, batch #90 5760-5824, batch_loss: 0.7795452319551259, val_batch_loss: 1.4159876554040238\n",
            "-----------------------------------------\n",
            "avg r1 (f): 0.3388976470898484\n",
            "avg r2 (f): 0.2644272426500314\n",
            "avg rL (f): 0.34695301867899325\n",
            "-----------------------------------------\n",
            "EPOCH 0, batch #95 6080-6144, batch_loss: 0.862901029526256, val_batch_loss: 0.9863297254778445\n",
            "-----------------------------------------\n",
            "avg r1 (f): 0.3388976470898484\n",
            "avg r2 (f): 0.2644272426500314\n",
            "avg rL (f): 0.34695301867899325\n",
            "-----------------------------------------\n",
            "EPOCH 0, batch #100 6400-6464, batch_loss: 0.8558243131847121, val_batch_loss: 0.827719827007968\n",
            "-----------------------------------------\n",
            "avg r1 (f): 0.3388976470898484\n",
            "avg r2 (f): 0.2644272426500314\n",
            "avg rL (f): 0.34695301867899325\n",
            "-----------------------------------------\n",
            "EPOCH 0, batch #105 6720-6784, batch_loss: 1.0435973340645432, val_batch_loss: 0.8327384917065501\n",
            "-----------------------------------------\n",
            "avg r1 (f): 0.3388976470898484\n",
            "avg r2 (f): 0.2644272426500314\n",
            "avg rL (f): 0.34695301867899325\n",
            "-----------------------------------------\n",
            "EPOCH 0, batch #110 7040-7104, batch_loss: 1.1027848701924086, val_batch_loss: 0.7178503533359617\n",
            "-----------------------------------------\n",
            "avg r1 (f): 0.3388976470898484\n",
            "avg r2 (f): 0.2644272426500314\n",
            "avg rL (f): 0.34695301867899325\n",
            "-----------------------------------------\n",
            "EPOCH 0, batch #115 7360-7424, batch_loss: 0.8286151613574475, val_batch_loss: 0.7972526747034863\n",
            "-----------------------------------------\n",
            "avg r1 (f): 0.3388976470898484\n",
            "avg r2 (f): 0.2644272426500314\n",
            "avg rL (f): 0.34695301867899325\n",
            "-----------------------------------------\n",
            "EPOCH 0, batch #120 7680-7744, batch_loss: 0.8180414515081793, val_batch_loss: 0.8815709528280422\n",
            "-----------------------------------------\n",
            "avg r1 (f): 0.3388976470898484\n",
            "avg r2 (f): 0.2644272426500314\n",
            "avg rL (f): 0.34695301867899325\n",
            "-----------------------------------------\n",
            "EPOCH 0, batch #125 8000-8064, batch_loss: 0.9574536957079545, val_batch_loss: 1.102396004833281\n",
            "-----------------------------------------\n",
            "avg r1 (f): 0.3388976470898484\n",
            "avg r2 (f): 0.2644272426500314\n",
            "avg rL (f): 0.34695301867899325\n",
            "-----------------------------------------\n"
          ],
          "name": "stdout"
        },
        {
          "output_type": "error",
          "ename": "KeyboardInterrupt",
          "evalue": "ignored",
          "traceback": [
            "\u001b[0;31m---------------------------------------------------------------------------\u001b[0m",
            "\u001b[0;31mKeyboardInterrupt\u001b[0m                         Traceback (most recent call last)",
            "\u001b[0;32m<ipython-input-442-5c6e75229166>\u001b[0m in \u001b[0;36m<module>\u001b[0;34m()\u001b[0m\n\u001b[1;32m     14\u001b[0m         \u001b[0;32mif\u001b[0m \u001b[0mi\u001b[0m \u001b[0;34m%\u001b[0m \u001b[0;36m5\u001b[0m \u001b[0;34m==\u001b[0m \u001b[0;36m0\u001b[0m\u001b[0;34m:\u001b[0m\u001b[0;34m\u001b[0m\u001b[0;34m\u001b[0m\u001b[0m\n\u001b[1;32m     15\u001b[0m             \u001b[0mx_batch\u001b[0m\u001b[0;34m,\u001b[0m \u001b[0my_batch\u001b[0m \u001b[0;34m=\u001b[0m \u001b[0mget_batch_data\u001b[0m\u001b[0;34m(\u001b[0m\u001b[0mX_val\u001b[0m\u001b[0;34m,\u001b[0m \u001b[0my_val\u001b[0m\u001b[0;34m,\u001b[0m \u001b[0midx\u001b[0m\u001b[0;34m,\u001b[0m \u001b[0mbatch_size\u001b[0m\u001b[0;34m=\u001b[0m\u001b[0mbatch_size\u001b[0m\u001b[0;34m,\u001b[0m \u001b[0mrandom\u001b[0m\u001b[0;34m=\u001b[0m\u001b[0;32mTrue\u001b[0m\u001b[0;34m)\u001b[0m\u001b[0;34m\u001b[0m\u001b[0;34m\u001b[0m\u001b[0m\n\u001b[0;32m---> 16\u001b[0;31m             \u001b[0mval_loss\u001b[0m \u001b[0;34m=\u001b[0m \u001b[0mtrain_step\u001b[0m\u001b[0;34m(\u001b[0m\u001b[0mx_batch\u001b[0m\u001b[0;34m,\u001b[0m \u001b[0my_batch\u001b[0m\u001b[0;34m,\u001b[0m \u001b[0mmode\u001b[0m\u001b[0;34m=\u001b[0m\u001b[0;34m'inference'\u001b[0m\u001b[0;34m)\u001b[0m\u001b[0;34m\u001b[0m\u001b[0;34m\u001b[0m\u001b[0m\n\u001b[0m\u001b[1;32m     17\u001b[0m             \u001b[0mprint\u001b[0m\u001b[0;34m(\u001b[0m\u001b[0;34m'EPOCH {}, batch #{} {}-{}, batch_loss: {}, val_batch_loss: {}'\u001b[0m\u001b[0;34m.\u001b[0m\u001b[0mformat\u001b[0m\u001b[0;34m(\u001b[0m\u001b[0mepoch\u001b[0m\u001b[0;34m,\u001b[0m \u001b[0mi\u001b[0m\u001b[0;34m,\u001b[0m \u001b[0midx\u001b[0m\u001b[0;34m,\u001b[0m \u001b[0midx\u001b[0m\u001b[0;34m+\u001b[0m\u001b[0mbatch_size\u001b[0m\u001b[0;34m,\u001b[0m \u001b[0mbatch_loss\u001b[0m\u001b[0;34m,\u001b[0m \u001b[0mval_loss\u001b[0m\u001b[0;34m)\u001b[0m\u001b[0;34m)\u001b[0m\u001b[0;34m\u001b[0m\u001b[0;34m\u001b[0m\u001b[0m\n\u001b[1;32m     18\u001b[0m             \u001b[0mar1\u001b[0m\u001b[0;34m,\u001b[0m\u001b[0mar2\u001b[0m\u001b[0;34m,\u001b[0m\u001b[0marL\u001b[0m \u001b[0;34m=\u001b[0m \u001b[0mtry_rouge\u001b[0m\u001b[0;34m(\u001b[0m\u001b[0;34m)\u001b[0m\u001b[0;34m\u001b[0m\u001b[0;34m\u001b[0m\u001b[0m\n",
            "\u001b[0;32m<ipython-input-441-e0b3e192a6fc>\u001b[0m in \u001b[0;36mtrain_step\u001b[0;34m(inp, targ, mode)\u001b[0m\n\u001b[1;32m     12\u001b[0m         \u001b[0;31m# print('d:',d)\u001b[0m\u001b[0;34m\u001b[0m\u001b[0;34m\u001b[0m\u001b[0;34m\u001b[0m\u001b[0m\n\u001b[1;32m     13\u001b[0m         \u001b[0;31m#calculate P(y_j = 1 | h_j, s_j, d) for each docs\u001b[0m\u001b[0;34m\u001b[0m\u001b[0;34m\u001b[0m\u001b[0;34m\u001b[0m\u001b[0m\n\u001b[0;32m---> 14\u001b[0;31m         \u001b[0mp\u001b[0m \u001b[0;34m=\u001b[0m \u001b[0msentence_prob\u001b[0m\u001b[0;34m(\u001b[0m\u001b[0mh\u001b[0m\u001b[0;34m,\u001b[0m \u001b[0md\u001b[0m\u001b[0;34m)\u001b[0m\u001b[0;34m\u001b[0m\u001b[0;34m\u001b[0m\u001b[0m\n\u001b[0m\u001b[1;32m     15\u001b[0m         \u001b[0;31m# print('p',p)\u001b[0m\u001b[0;34m\u001b[0m\u001b[0;34m\u001b[0m\u001b[0;34m\u001b[0m\u001b[0m\n\u001b[1;32m     16\u001b[0m         \u001b[0;31m# print('targ',targ)\u001b[0m\u001b[0;34m\u001b[0m\u001b[0;34m\u001b[0m\u001b[0;34m\u001b[0m\u001b[0m\n",
            "\u001b[0;32m/usr/local/lib/python3.6/dist-packages/tensorflow/python/keras/engine/base_layer.py\u001b[0m in \u001b[0;36m__call__\u001b[0;34m(self, *args, **kwargs)\u001b[0m\n\u001b[1;32m    966\u001b[0m           with base_layer_utils.autocast_context_manager(\n\u001b[1;32m    967\u001b[0m               self._compute_dtype):\n\u001b[0;32m--> 968\u001b[0;31m             \u001b[0moutputs\u001b[0m \u001b[0;34m=\u001b[0m \u001b[0mself\u001b[0m\u001b[0;34m.\u001b[0m\u001b[0mcall\u001b[0m\u001b[0;34m(\u001b[0m\u001b[0mcast_inputs\u001b[0m\u001b[0;34m,\u001b[0m \u001b[0;34m*\u001b[0m\u001b[0margs\u001b[0m\u001b[0;34m,\u001b[0m \u001b[0;34m**\u001b[0m\u001b[0mkwargs\u001b[0m\u001b[0;34m)\u001b[0m\u001b[0;34m\u001b[0m\u001b[0;34m\u001b[0m\u001b[0m\n\u001b[0m\u001b[1;32m    969\u001b[0m           \u001b[0mself\u001b[0m\u001b[0;34m.\u001b[0m\u001b[0m_handle_activity_regularization\u001b[0m\u001b[0;34m(\u001b[0m\u001b[0minputs\u001b[0m\u001b[0;34m,\u001b[0m \u001b[0moutputs\u001b[0m\u001b[0;34m)\u001b[0m\u001b[0;34m\u001b[0m\u001b[0;34m\u001b[0m\u001b[0m\n\u001b[1;32m    970\u001b[0m           \u001b[0mself\u001b[0m\u001b[0;34m.\u001b[0m\u001b[0m_set_mask_metadata\u001b[0m\u001b[0;34m(\u001b[0m\u001b[0minputs\u001b[0m\u001b[0;34m,\u001b[0m \u001b[0moutputs\u001b[0m\u001b[0;34m,\u001b[0m \u001b[0minput_masks\u001b[0m\u001b[0;34m)\u001b[0m\u001b[0;34m\u001b[0m\u001b[0;34m\u001b[0m\u001b[0m\n",
            "\u001b[0;32m<ipython-input-433-27da8c852c9e>\u001b[0m in \u001b[0;36mcall\u001b[0;34m(self, h, d)\u001b[0m\n\u001b[1;32m     88\u001b[0m                     \u001b[0mnovelty\u001b[0m \u001b[0;34m=\u001b[0m \u001b[0mtf\u001b[0m\u001b[0;34m.\u001b[0m\u001b[0mmatmul\u001b[0m\u001b[0;34m(\u001b[0m\u001b[0m_h\u001b[0m\u001b[0;34m,\u001b[0m \u001b[0mtf\u001b[0m\u001b[0;34m.\u001b[0m\u001b[0mtranspose\u001b[0m\u001b[0;34m(\u001b[0m\u001b[0m_k\u001b[0m\u001b[0;34m)\u001b[0m\u001b[0;34m)\u001b[0m\u001b[0;34m\u001b[0m\u001b[0;34m\u001b[0m\u001b[0m\n\u001b[1;32m     89\u001b[0m                     \u001b[0;31m# print('novelty', novelty.shape)\u001b[0m\u001b[0;34m\u001b[0m\u001b[0;34m\u001b[0m\u001b[0;34m\u001b[0m\u001b[0m\n\u001b[0;32m---> 90\u001b[0;31m                     \u001b[0mp\u001b[0m\u001b[0;34m.\u001b[0m\u001b[0mappend\u001b[0m\u001b[0;34m(\u001b[0m\u001b[0mtf\u001b[0m\u001b[0;34m.\u001b[0m\u001b[0mmath\u001b[0m\u001b[0;34m.\u001b[0m\u001b[0msigmoid\u001b[0m\u001b[0;34m(\u001b[0m\u001b[0mcontent\u001b[0m\u001b[0;34m[\u001b[0m\u001b[0mj\u001b[0m\u001b[0;34m]\u001b[0m\u001b[0;34m+\u001b[0m\u001b[0msalience\u001b[0m\u001b[0;34m[\u001b[0m\u001b[0mj\u001b[0m\u001b[0;34m]\u001b[0m\u001b[0;34m-\u001b[0m\u001b[0mnovelty\u001b[0m\u001b[0;34m+\u001b[0m\u001b[0mabs_pos_imp\u001b[0m\u001b[0;34m[\u001b[0m\u001b[0mj\u001b[0m\u001b[0;34m]\u001b[0m\u001b[0;34m+\u001b[0m\u001b[0mself\u001b[0m\u001b[0;34m.\u001b[0m\u001b[0mb\u001b[0m\u001b[0;34m)\u001b[0m\u001b[0;34m[\u001b[0m\u001b[0;36m0\u001b[0m\u001b[0;34m,\u001b[0m\u001b[0;36m0\u001b[0m\u001b[0;34m]\u001b[0m\u001b[0;34m)\u001b[0m\u001b[0;34m\u001b[0m\u001b[0;34m\u001b[0m\u001b[0m\n\u001b[0m\u001b[1;32m     91\u001b[0m                     \u001b[0;31m# print('p(y=1):', p[-1])\u001b[0m\u001b[0;34m\u001b[0m\u001b[0;34m\u001b[0m\u001b[0;34m\u001b[0m\u001b[0m\n\u001b[1;32m     92\u001b[0m                     \u001b[0ms\u001b[0m \u001b[0;34m+=\u001b[0m \u001b[0m_h\u001b[0m \u001b[0;34m*\u001b[0m  \u001b[0mp\u001b[0m\u001b[0;34m[\u001b[0m\u001b[0;34m-\u001b[0m\u001b[0;36m1\u001b[0m\u001b[0;34m]\u001b[0m\u001b[0;34m\u001b[0m\u001b[0;34m\u001b[0m\u001b[0m\n",
            "\u001b[0;32m/usr/local/lib/python3.6/dist-packages/tensorflow/python/ops/array_ops.py\u001b[0m in \u001b[0;36m_slice_helper\u001b[0;34m(tensor, slice_spec, var)\u001b[0m\n\u001b[1;32m    982\u001b[0m         \u001b[0mellipsis_mask\u001b[0m\u001b[0;34m=\u001b[0m\u001b[0mellipsis_mask\u001b[0m\u001b[0;34m,\u001b[0m\u001b[0;34m\u001b[0m\u001b[0;34m\u001b[0m\u001b[0m\n\u001b[1;32m    983\u001b[0m         \u001b[0mvar\u001b[0m\u001b[0;34m=\u001b[0m\u001b[0mvar\u001b[0m\u001b[0;34m,\u001b[0m\u001b[0;34m\u001b[0m\u001b[0;34m\u001b[0m\u001b[0m\n\u001b[0;32m--> 984\u001b[0;31m         name=name)\n\u001b[0m\u001b[1;32m    985\u001b[0m \u001b[0;34m\u001b[0m\u001b[0m\n\u001b[1;32m    986\u001b[0m \u001b[0;34m\u001b[0m\u001b[0m\n",
            "\u001b[0;32m/usr/local/lib/python3.6/dist-packages/tensorflow/python/ops/array_ops.py\u001b[0m in \u001b[0;36mstrided_slice\u001b[0;34m(input_, begin, end, strides, begin_mask, end_mask, ellipsis_mask, new_axis_mask, shrink_axis_mask, var, name)\u001b[0m\n\u001b[1;32m   1148\u001b[0m       \u001b[0mellipsis_mask\u001b[0m\u001b[0;34m=\u001b[0m\u001b[0mellipsis_mask\u001b[0m\u001b[0;34m,\u001b[0m\u001b[0;34m\u001b[0m\u001b[0;34m\u001b[0m\u001b[0m\n\u001b[1;32m   1149\u001b[0m       \u001b[0mnew_axis_mask\u001b[0m\u001b[0;34m=\u001b[0m\u001b[0mnew_axis_mask\u001b[0m\u001b[0;34m,\u001b[0m\u001b[0;34m\u001b[0m\u001b[0;34m\u001b[0m\u001b[0m\n\u001b[0;32m-> 1150\u001b[0;31m       shrink_axis_mask=shrink_axis_mask)\n\u001b[0m\u001b[1;32m   1151\u001b[0m \u001b[0;34m\u001b[0m\u001b[0m\n\u001b[1;32m   1152\u001b[0m   \u001b[0mparent_name\u001b[0m \u001b[0;34m=\u001b[0m \u001b[0mname\u001b[0m\u001b[0;34m\u001b[0m\u001b[0;34m\u001b[0m\u001b[0m\n",
            "\u001b[0;32m/usr/local/lib/python3.6/dist-packages/tensorflow/python/ops/gen_array_ops.py\u001b[0m in \u001b[0;36mstrided_slice\u001b[0;34m(input, begin, end, strides, begin_mask, end_mask, ellipsis_mask, new_axis_mask, shrink_axis_mask, name)\u001b[0m\n\u001b[1;32m  10143\u001b[0m         \u001b[0mtld\u001b[0m\u001b[0;34m.\u001b[0m\u001b[0mop_callbacks\u001b[0m\u001b[0;34m,\u001b[0m \u001b[0minput\u001b[0m\u001b[0;34m,\u001b[0m \u001b[0mbegin\u001b[0m\u001b[0;34m,\u001b[0m \u001b[0mend\u001b[0m\u001b[0;34m,\u001b[0m \u001b[0mstrides\u001b[0m\u001b[0;34m,\u001b[0m \u001b[0;34m\"begin_mask\"\u001b[0m\u001b[0;34m,\u001b[0m\u001b[0;34m\u001b[0m\u001b[0;34m\u001b[0m\u001b[0m\n\u001b[1;32m  10144\u001b[0m         \u001b[0mbegin_mask\u001b[0m\u001b[0;34m,\u001b[0m \u001b[0;34m\"end_mask\"\u001b[0m\u001b[0;34m,\u001b[0m \u001b[0mend_mask\u001b[0m\u001b[0;34m,\u001b[0m \u001b[0;34m\"ellipsis_mask\"\u001b[0m\u001b[0;34m,\u001b[0m \u001b[0mellipsis_mask\u001b[0m\u001b[0;34m,\u001b[0m\u001b[0;34m\u001b[0m\u001b[0;34m\u001b[0m\u001b[0m\n\u001b[0;32m> 10145\u001b[0;31m         \"new_axis_mask\", new_axis_mask, \"shrink_axis_mask\", shrink_axis_mask)\n\u001b[0m\u001b[1;32m  10146\u001b[0m       \u001b[0;32mreturn\u001b[0m \u001b[0m_result\u001b[0m\u001b[0;34m\u001b[0m\u001b[0;34m\u001b[0m\u001b[0m\n\u001b[1;32m  10147\u001b[0m     \u001b[0;32mexcept\u001b[0m \u001b[0m_core\u001b[0m\u001b[0;34m.\u001b[0m\u001b[0m_FallbackException\u001b[0m\u001b[0;34m:\u001b[0m\u001b[0;34m\u001b[0m\u001b[0;34m\u001b[0m\u001b[0m\n",
            "\u001b[0;31mKeyboardInterrupt\u001b[0m: "
          ]
        }
      ]
    },
    {
      "cell_type": "code",
      "metadata": {
        "id": "bl9cqBW7SIzp",
        "colab_type": "code",
        "outputId": "efd2698f-8038-4760-b5e8-b0c41b508ebf",
        "colab": {
          "base_uri": "https://localhost:8080/",
          "height": 285
        }
      },
      "source": [
        "plt.plot(log['loss'])\n",
        "plt.plot(log['val_loss'])"
      ],
      "execution_count": 0,
      "outputs": [
        {
          "output_type": "execute_result",
          "data": {
            "text/plain": [
              "[<matplotlib.lines.Line2D at 0x7f9f404c63c8>]"
            ]
          },
          "metadata": {
            "tags": []
          },
          "execution_count": 443
        },
        {
          "output_type": "display_data",
          "data": {
            "image/png": "[encoded data removed]",
            "text/plain": [
              "<Figure size 432x288 with 1 Axes>"
            ]
          },
          "metadata": {
            "tags": [],
            "needs_background": "light"
          }
        }
      ]
    },
    {
      "cell_type": "code",
      "metadata": {
        "id": "2rxAJAdR0dQS",
        "colab_type": "code",
        "outputId": "6063509a-8be4-480b-a58f-9824547e4d64",
        "colab": {
          "base_uri": "https://localhost:8080/",
          "height": 282
        }
      },
      "source": [
        "plt.plot(log['ar1'], label='ar1')\n",
        "plt.plot(log['ar2'], label='ar2')\n",
        "plt.plot(log['arL'], label='arL')\n",
        "plt.legend()"
      ],
      "execution_count": 0,
      "outputs": [
        {
          "output_type": "execute_result",
          "data": {
            "text/plain": [
              "<matplotlib.legend.Legend at 0x7f9f3484f2b0>"
            ]
          },
          "metadata": {
            "tags": []
          },
          "execution_count": 444
        },
        {
          "output_type": "display_data",
          "data": {
            "image/png": "[encoded data removed]",
            "text/plain": [
              "<Figure size 432x288 with 1 Axes>"
            ]
          },
          "metadata": {
            "tags": [],
            "needs_background": "light"
          }
        }
      ]
    },
    {
      "cell_type": "markdown",
      "metadata": {
        "id": "rN5QGAn_1AHY",
        "colab_type": "text"
      },
      "source": [
        "save trained weights"
      ]
    },
    {
      "cell_type": "code",
      "metadata": {
        "id": "KOG0o89504t4",
        "colab_type": "code",
        "colab": {}
      },
      "source": [
        "# with open('/gdrive/Shared drives/NeuroSummary/data/dai_data/word_encoder_weights_final.pkl', 'wb') as f2:\n",
        "#     pickle.dump(word_encoder.get_weights(), f2)\n",
        "# with open('/gdrive/Shared drives/NeuroSummary/data/dai_data/sent_encoder_weights_final.pkl', 'wb') as f2:\n",
        "#     pickle.dump(sent_encoder.get_weights(), f2)\n",
        "# with open('/gdrive/Shared drives/NeuroSummary/data/dai_data/sentence_prob_weights_final.pkl', 'wb') as f2:\n",
        "#     pickle.dump(sentence_prob.get_weights(), f2)\n",
        "\n",
        "# with open('/gdrive/Shared drives/NeuroSummary/data/dai_data/word_encoder_weights.pkl', 'rb') as f2:\n",
        "#     word_encoder.set_weights(pickle.load(f2))\n",
        "# with open('/gdrive/Shared drives/NeuroSummary/data/dai_data/sent_encoder_weights.pkl', 'rb') as f2:\n",
        "#     sent_encoder.set_weights(pickle.load(f2))\n",
        "# with open('/gdrive/Shared drives/NeuroSummary/data/dai_data/sentence_prob_weights.pkl', 'rb') as f2:\n",
        "#     sentence_prob.set_weights(pickle.load(f2))"
      ],
      "execution_count": 0,
      "outputs": []
    },
    {
      "cell_type": "code",
      "metadata": {
        "id": "oEblg5Fz7XWh",
        "colab_type": "code",
        "colab": {}
      },
      "source": [
        "rouge = Rouge()"
      ],
      "execution_count": 0,
      "outputs": []
    },
    {
      "cell_type": "code",
      "metadata": {
        "id": "jF_D5zAX7pNL",
        "colab_type": "code",
        "colab": {}
      },
      "source": [
        "np.set_printoptions(suppress=True)"
      ],
      "execution_count": 0,
      "outputs": []
    },
    {
      "cell_type": "code",
      "metadata": {
        "id": "4IoIDlqmtU-V",
        "colab_type": "code",
        "colab": {}
      },
      "source": [
        "def convert_to_text(a):\n",
        "    s = []\n",
        "    for item in a:\n",
        "        try:\n",
        "            s.append(idx2word[item])\n",
        "        except:\n",
        "            s.append('<UNK>')\n",
        "    return s\n",
        "\n",
        "def inference(X, idx):\n",
        "    _x = X[idx]\n",
        "    \n",
        "    # print(len(inp))\n",
        "    h = word_encoder([_x])\n",
        "    # print('h:', h)\n",
        "    d = sent_encoder(h)\n",
        "    # print('d:',d)\n",
        "    #calculate P(y_j = 1 | h_j, s_j, d) for each docs\n",
        "    p = np.array(sentence_prob(h, d))[0]\n",
        "    choose = sorted([(i, p[i]) for i in range(len(p))],key=lambda tup: tup[1])\n",
        "    # print(choose[:5])\n",
        "    sen = []\n",
        "    for c in sorted(choose[:5],key=lambda tup: tup[0]):\n",
        "        sen += convert_to_text(_x[c[0]])\n",
        "    # print(''.join(sen))\n",
        "    return sen\n",
        "\n",
        "def get_label(X, y, idx):\n",
        "    choose = [k for k in range(len(X[idx])) if y[idx][k] == 1]\n",
        "    sen = []\n",
        "    for c in choose:\n",
        "        sen += convert_to_text(X[idx][c])\n",
        "    return sen\n",
        "\n",
        "def get_true_label(df, idx):\n",
        "    return df['headline'].iloc[idx]\n",
        "\n",
        "def eval(idx):\n",
        "    rouge = Rouge()\n",
        "    hyp = inference(X_test, idx)\n",
        "    label = get_label(X_test, y_test, idx)\n",
        "    print('hyp', ''.join(hyp))\n",
        "    print('label', ''.join(label))\n",
        "    t = rouge.get_scores(' '.join(hyp), ' '.join(label))[0]\n",
        "    return t\n",
        "\n",
        "def try_rouge():\n",
        "    res = []\n",
        "    for i in range(len(X_test[:50])):\n",
        "        rouge = Rouge()\n",
        "        hyp = inference(X_test, i)\n",
        "        label = get_label(X_test, y_test, i)\n",
        "        t = rouge.get_scores(' '.join(hyp), ' '.join(label))[0]\n",
        "        res.append((t['rouge-1']['f'], t['rouge-2']['f'], t['rouge-l']['f']))\n",
        "    ar1 = np.mean([k[0] for k in res])\n",
        "    ar2 = np.mean([k[1] for k in res])\n",
        "    arL = np.mean([k[2] for k in res])\n",
        "    print('-----------------------------------------')\n",
        "    print('avg r1 (f):', ar1)\n",
        "    print('avg r2 (f):', ar2)\n",
        "    print('avg rL (f):', arL)\n",
        "    print('-----------------------------------------')\n",
        "    return (ar1,ar2,arL)\n",
        "\n",
        "def model_predict(st):\n",
        "    sen = pythainlp.tokenize.word_tokenize(st, engine='deepcut')\n",
        "    sen2 = list(sen)\n",
        "    for i in range(len(sen)):\n",
        "        try:\n",
        "            sen[i] = word2idx[sen[i]]\n",
        "        except:\n",
        "            sen[i] = word2idx['<UNK>']\n",
        "    sentences = []\n",
        "    ans = []\n",
        "    for i in range(0, len(sen), 5):\n",
        "        sentences.append(sen[i: i+5])\n",
        "        ans.append(sen2[i: i+5])\n",
        "    inp = np.array(tf.keras.preprocessing.sequence.pad_sequences(sentences, padding='post'))\n",
        "    # print(len(inp))\n",
        "    h = word_encoder([inp])\n",
        "    # print('h:', h)\n",
        "    d = sent_encoder(h)\n",
        "    # print('d:',d)\n",
        "    #calculate P(y_j = 1 | h_j, s_j, d) for each docs\n",
        "    p = np.array(sentence_prob(h, d))[0]\n",
        "    choose = sorted([(i, p[i]) for i in range(len(p))],key=lambda tup: tup[1])\n",
        "    # print(choose[:5])\n",
        "    sen = []\n",
        "    for c in sorted(choose[:5],key=lambda tup: tup[0]):\n",
        "        sen += ans[c[0]]\n",
        "    print(''.join(sen))\n",
        "    return sen"
      ],
      "execution_count": 0,
      "outputs": []
    },
    {
      "cell_type": "code",
      "metadata": {
        "id": "SCsiIC2GB6CP",
        "colab_type": "code",
        "outputId": "c0fef6f7-9e11-4fc4-b378-5837ad72067e",
        "colab": {
          "base_uri": "https://localhost:8080/",
          "height": 54
        }
      },
      "source": [
        "st = input()"
      ],
      "execution_count": 0,
      "outputs": [
        {
          "output_type": "stream",
          "text": [
            "“ยุติธรรม” เตรียมความพร้อมร่วมกับองค์กรปกครองส่วนท้องถิ่น เพื่อส่งเสริมการดำเนินงานของศูนย์ยุติธรรมชุมชน กระทรวงยุติธรรม เตรียมความพร้อมร่วมกับองค์กรปกครองส่วนท้องถิ่น เพื่อส่งเสริมการดำเนินงานของศูนย์ยุติธรรมชุมชน ในวันพฤหัสบดีที่ ๒๗ กันยายน ๒๕๖๑ เวลา ๐๙.๐๐ น. นางกรรณิการ์ แสงทอง รองปลัดกระทรวงยุติธรรม เป็นประธานการประชุมเชิงปฏิบัติการ โครงการวิจัยศักยภาพและความพร้อมขององค์กรปกครองส่วนท้องถิ่น ในการส่งเสริมการดำเนินงานศูนย์ยุติธรรมชุมชน : กิจกรรมของหน่วยงานที่เกี่ยวข้อง ครั้งที่ ๑ เพื่อแลกเปลี่ยนความคิดเห็นในการศึกษาศักยภาพและความพร้อมขององค์กรปกครองส่วนท้องถิ่น ในการดำเนินงานศูนย์ยุติธรรมชุมชนและศึกษาความต้องการของชุมชน ในการดำเนินงานยุติธรรมชุมชนในพื้นที่โดยมีผู้แทนจากหน่วยงานที่เกี่ยวข้อง เข้าร่วมประชุมฯ ณ โรงแรม อมารี ดอนเมือง แอร์พอร์ต กรุงเทพฯ รองปลัดกระทรวงยุติธรรม กล่าวว่า กระทรวงยุติธรรม มีนโยบายให้มีการบูรณาการ การทำงานของส่วนราชการในสังกัด ทั้งในส่วนกลางและระดับจังหวัด เน้นบทบาทหน้าที่ของสำนักงานยุติธรรมจังหวัด และศูนย์ยุติธรรมชุมชน โดยประสานงานกับศูนย์ดำรงธรรม และหน่วยงานอื่นๆ ที่เกี่ยวข้อง เพื่ออำนวยความยุติธรรม ลดความเหลื่อมล้ำ ให้แก่ประชาชนระดับพื้นที่ อาทิ การสร้างการรับรู้ด้านกฎหมายในชีวิตประจำวัน การให้คำปรึกษาด้านกฎหมาย การทำให้ประชาชนเข้าถึงงานบริการของกองทุนยุติธรรม การช่วยเหลือเยียวยาประชาชนที่ถูกละเมิดสิทธิ การสร้างมาตรการไกล่เกลี่ยระงับข้อพิพาทให้เกิดขึ้นในชุมชน การคุ้มครองพยาน และการคืนคนดีสู่สังคม เป็นต้น ดังนั้น การศึกษาความต้องการของประชาชนในระดับพื้นที่ และการดำเนินงาน ร่วมกับหน่วยงานที่เกี่ยวข้องในระดับพื้นที่จึงมีความจำเป็นอย่างมาก ซึ่งโครงการศึกษาฯ ดังกล่าว จะทำให้ได้ข้อมูลรูปแบบความต้องการของประชาชน และปัจจัยที่ช่วยส่งเสริมการดำเนินงานของศูนย์ยุติธรรมชุมชน อันจะนำไปสู่การสังเคราะห์แนวทาง วิธีการดำเนินงานขององค์กรปกครองส่วนท้องถิ่น ในการบริหารจัดการศูนย์ยุติธรรมชุมชนอย่างเป็นรูปธรรม ต่อไป                             \n"
          ],
          "name": "stdout"
        }
      ]
    },
    {
      "cell_type": "code",
      "metadata": {
        "id": "k8Tc2osXDEJj",
        "colab_type": "code",
        "outputId": "a6886170-e053-409a-cebc-db1e3f3f4578",
        "colab": {
          "base_uri": "https://localhost:8080/",
          "height": 459
        }
      },
      "source": [
        "model_predict(st)"
      ],
      "execution_count": 0,
      "outputs": [
        {
          "output_type": "stream",
          "text": [
            "“ยุติธรรม” เตรียมความพร้อมร่วมกับองค์กรปกครองส่วนท้องถิ่น เพื่อส่งเสริมการดำเนินงานของศูนย์ยุติธรรมชุมชน กระทรวงยุติธรรม เตรียมความ\n"
          ],
          "name": "stdout"
        },
        {
          "output_type": "execute_result",
          "data": {
            "text/plain": [
              "['“',\n",
              " 'ยุติธรรม',\n",
              " '”',\n",
              " ' ',\n",
              " 'เตรียม',\n",
              " 'ความ',\n",
              " 'พร้อม',\n",
              " 'ร่วม',\n",
              " 'กับ',\n",
              " 'องค์กร',\n",
              " 'ปกครอง',\n",
              " 'ส่วนท้องถิ่น',\n",
              " ' ',\n",
              " 'เพื่อ',\n",
              " 'ส่งเสริม',\n",
              " 'การ',\n",
              " 'ดำเนิน',\n",
              " 'งาน',\n",
              " 'ของ',\n",
              " 'ศูนย์ยุติธรรมชุมชน',\n",
              " ' ',\n",
              " 'กระทรวงยุติธรรม',\n",
              " ' ',\n",
              " 'เตรียม',\n",
              " 'ความ']"
            ]
          },
          "metadata": {
            "tags": []
          },
          "execution_count": 439
        }
      ]
    },
    {
      "cell_type": "code",
      "metadata": {
        "id": "dWt8UG6DAv-m",
        "colab_type": "code",
        "outputId": "3f3cff40-9b55-4712-9123-e0dba89f4b84",
        "colab": {
          "base_uri": "https://localhost:8080/",
          "height": 1000
        }
      },
      "source": [
        "for i in range(20):\n",
        "    print('-----------------------------------------')\n",
        "    eval(i)\n",
        "    print('-----------------------------------------')"
      ],
      "execution_count": 0,
      "outputs": [
        {
          "output_type": "stream",
          "text": [
            "-----------------------------------------\n",
            "hyp เมื่อวันที่7ก.ย.2561พลตำรวจตรี ประสิทธิ์ เฉลิมวุฒิศักดิ์เลขาธิการคณะกรรมการคุ้มครองผู้บริโภคสำนักงานคณะกรรมการคุ้มครองผู้บริโภคชี้แจงประเด็นผลิตภัณฑ์เสริมอาหารน้ำพลูคาวจากกรณี\n",
            "label ผลิตภัณฑ์เสริมอาหารน้ำพลูคาว\n",
            "-----------------------------------------\n",
            "-----------------------------------------\n",
            "hyp เมื่อวันที่28สิงหาคม2561นายจุลพงษ์ ทวีศรีโดยมีนายสดุดี พุทธังนายอำเภอโกสัมพีนครจังหวัดกำแพงเพชรพร้อมด้วยเจ้าหน้าที่อุตสาหกรรมจังหวัดกำแพงเพชรให้การต้อนรับนอกจากนี้ยังได้\n",
            "label ลงพื้นที่เพื่อตรวจเยี่ยมนโยบายของรัฐบาลและจังหวัดกำแพงเพชร\n",
            "-----------------------------------------\n",
            "-----------------------------------------\n",
            "hyp วันนี้25พฤษภาคม2561พลโท สรรเสริญ แก้วกำเนิดโฆษกประจำสำนักนายกรัฐมนตรีกล่าวถึงกรณีที่มีการแชร์ข้อความและภาพระบุประยุทธ์ขอประชาชนจ่ายภาษีมูลค่า\n",
            "label ไม่มีแนวคิดที่จะปรับขึ้นภาษีVATตื่นตระหนกและหลงเชื่อหรือนายกทำโพลสอบถามประชาชนทำหน้าที่ทุกอย่างให้จะเป็นผู้ตัดสินเอง\n",
            "-----------------------------------------\n",
            "-----------------------------------------\n",
            "hyp รัฐบาลเปิดโอกาสให้ผู้มีความสามารถในหลากหลายสาขาอาชีพสามารถสอบครูผู้ช่วยในสาขาที่ขาดแคลนได้โดยจะฝึกอบรม\n",
            "label ครูสามารถสมัครสอบครูผู้ช่วยได้เพื่อแก้มุ่งหวังผลิตครูที่\n",
            "-----------------------------------------\n",
            "-----------------------------------------\n",
            "hyp พล.อ.สุรเชษฐ์ ชัยวงศ์รัฐมนตรีช่วยว่าการกระทรวงศึกษาธิการเป็นประธานพิธีปิดงานชุมนุมลูกเสือจังหวัดชายแดนภาคใต้ครั้งที่12ณค่ายลูกเสือปากบางอำเภอละงู\n",
            "label งานชุมนุมลูกเสือจังหวัดจังหวัดชายแดนภาคใต้ครั้งที่12ซึ่งจัด\n",
            "-----------------------------------------\n",
            "-----------------------------------------\n",
            "hyp กรมสวัสดิการและคุ้มครองแรงงานเตือนนายจ้างให้ลูกจ้างทำงานในวันหยุดผิดกฎหมายหากจำเป็นต้องได้รับความยินยอมจากลูกจ้าง\n",
            "label นายจ้างให้ลูกจ้างทำจ้างให้ลูกจ้างทำงานทำงานในวันหยุด\n",
            "-----------------------------------------\n",
            "-----------------------------------------\n",
            "hyp กระแสเงินสดในช่วง461404060879512899512439.85.ดุลเปนร้อยละ63\n",
            "label ช่วง8เดือนแรกของปีงบประมาณ2560เดือนเดือนแรกของปีงบ2ฐานะการคลังของการคลังในช่วง88เดือนแรกของปีเปรียบเทียบปีงบประมาณ2560\n",
            "-----------------------------------------\n",
            "-----------------------------------------\n",
            "hyp วันนี้12ม.ค.61เวลา08.30น.กระทรวงการพัฒนาสังคมและความมั่นคงของมนุษย์พม.โดยนายณรงค์ คงคำรองปลัดกระทรวงการพัฒนาสังคมและความมั่นคงของมนุษย์รองปลัดพม.เป็นประธานการประชุมศูนย์\n",
            "label ทราบปัญหาทางสังคมต่างๆสาวทอมวัย15ปีถูกลุงเขยบังคับข่มขืนกระทรวงพม.พร้อมเร่งเยียวยากำชับให้ทีมOneHome\n",
            "-----------------------------------------\n",
            "-----------------------------------------\n",
            "hyp ก่อนการประชุมคณะรัฐมนตรีนายสุวพันธุ์ ตันยุวรรธนะรมต.นร.ได้เข้าพบนายกรัฐมนตรีเพื่อประชาสัมพันธ์ในการจัดสัปดาห์เผยแผ่พระพุทธศาสนาเนื่องในเทศกาลวัน\n",
            "label เผยแผ่พระพุทธศาสนาเนื่องในเทศกาลวันมาฆบูชาประจำปีกุมภาพันธ์2561–2มีนาคมณ<UNK>จังหวัดนครปฐมระหว่างวัน\n",
            "-----------------------------------------\n",
            "-----------------------------------------\n",
            "hyp วันนี้วันจันทร์ที่5มีนาคม2561เวลา13.15น.นายยูริ เฟโดทอฟMr. YuriFedotovผู้อำนวยการบริหารสำนักงานว่าด้วยยาเสพติด\n",
            "label การป้องกันอาชญากรรมและสังคมป้องกันและปราบปรามยาเสพติดการสำคัญในการแก้ไขปัญหาและกฎหมายในการแก้ไขให้การต่อต้านการทุจริต\n",
            "-----------------------------------------\n",
            "-----------------------------------------\n",
            "hyp โรงพยาบาลพระศรีมหาโพธิ์พัฒนาแอพพลิเคชั่นมายด์ฟิตMindFitAppicationตรวจสอบอาการซึมเศร้าได้ด้วยตัวเองเพื่อให้เข้าถึงกลุ่มวัยรุ่นในการป้องกันและลดอาการ\n",
            "label โรงพยาบาลพระศรีมหาโพธิ์พัฒนาแอพพลิเคชั่นมายด์ฟิตMindFitAppicationถึงกลุ่มวัยรุ่นในการป้องกันและลดอาการขึ้นและหายซึมเศร้าในวัยรุ่นมีอาการโรค\n",
            "-----------------------------------------\n",
            "-----------------------------------------\n",
            "hyp รมว.กระทรวงดิจิทัลฯp.p1margin0.0px0.0px10.0px0.0pxtext-indent36.\n",
            "label รมว.กระทรวงดิจิทัลฯp.p1marginการต้อนรับคณะGeekParkซึ่งเป็นหนึ่งในผู้นำการลงทุนด้านดิจิทัลในไทยค่อนข้างมากหลัง\n",
            "-----------------------------------------\n",
            "-----------------------------------------\n",
            "hyp ธ.ก.ส.เผยสถานการณ์ราคาสินค้าเกษตรปรับตัวสูงขึ้นต้อนรับปีใหม่2561จากอานิสงค์นโยบายกระตุ้นของภาครัฐทั้งข้าวข้าวโพดเลี้ยงสัตว์\n",
            "label ธ.ก.ส.เผยสถานการณ์ราคาสินค้าเกษตรปรับตัวสูงขึ้นสูงขึ้นต้อนรับปีใหม่\n",
            "-----------------------------------------\n",
            "-----------------------------------------\n",
            "hyp วันนี้2ก.พ.2560เวลา11.00น.GeneralRyamizard Ryacudu<UNK>ราชูดูรัฐมนตรีว่าการกระทรวงกลาโหมสาธารณรัฐอินโดนีเซียเข้าเยี่ยมคารวะพลเอก ประยุทธ์ จันทร์โอชานายกรัฐมนตรีณ\n",
            "label ว่าการกระทรวงกลาโหมสาธารณรัฐอินโดนีเซียเข้าเยี่ยมคารวะพลเอก ประยุทธ์ จันทร์โอชานายกรัฐมนตรีณ\n",
            "-----------------------------------------\n",
            "-----------------------------------------\n",
            "hyp นางอภิรดี ตันตราภรณ์รัฐมนตรีว่าการกระทรวงพาณิชย์เปิดเผยว่าเมื่อวันที่28เมษายน2560สำนักงานผู้แทนการค้าสหรัฐฯUSTRได้ประกาศผลการจัดสถานะการคุ้มครองทรัพย์สิน\n",
            "label จัดไทยเป็นประเทศที่ต้องจับตามองเป็นพิเศษสถานะของไทยให้ดีขึ้นในปีนี้หาก\n",
            "-----------------------------------------\n",
            "-----------------------------------------\n",
            "hyp การปรับภูมิทัศน์ในเขตเมืองให้สวยงามสบายตาและปลอดภัยด้วยการจัดระเบียบสายไฟฟ้าและสายโทรคมนาคมเป็นอีกหนึ่ง\n",
            "label การปรับภูมิทัศน์ในเขตรัฐบาลจัดระเบียบทางเท้าในกทม.ให้มีความ\n",
            "-----------------------------------------\n",
            "-----------------------------------------\n",
            "hyp นายพิศักดิ์ จิตวิริยะวศินอธิบดีกรมทางหลวงชนบทกระทรวงคมนาคมชี้แจงประเด็นการคัดค้านโครงการสะพานข้ามแม่น้ำเจ้าพระยาวันที่24สิงหาคม2560นายพิศักดิ์ จิตวิริยะวศินอธิบดีกรมทางหลวงชนบทกระทรวงคมนาคมได้ชี้แจง\n",
            "label นายพิศักดิ์ จิตวิริยะวศินอธิบดีกรมทางหลวงชนบทกระทรวงคมนาคมประเด็นการคัดค้านโครงการสะพานโครงการสะพานข้ามแม่น้ำเจ้าพระยาบริเวณ\n",
            "-----------------------------------------\n",
            "-----------------------------------------\n",
            "hyp วันนี้19เม.ย.61พลเอก สุรศักดิ์ กาญจนรัตน์รัฐมนตรีว่าการกระทรวงทรัพยากรธรรมชาติและสิ่งแวดล้อมเป็นประธานการประชุมหารือการปฏิรูปด้านทรัพยากรธรรมชาติและสิ่งแวดล้อมโดยมี\n",
            "label แวดล้อมเป็นประธานการประชุมหารือการปฏิรูปด้านทรัพยากรที่สำคัญที่สังคมไทยควรรับรู้ได้แก่การด้านทรัพยากรธรรมชาติและสิ่งแวดล้อม\n",
            "-----------------------------------------\n",
            "-----------------------------------------\n",
            "hyp สำหรับสัปดาห์นี้นายกรัฐมนตรีได้ออกกำลังกายด้วยการเต้นแอโรบิคตามจังหวะดนตรีร่วมกับผู้ออกกำลังกายทุกคนประมาณ25\n",
            "label ทำเนียบรัฐบาลพลเอก ประยุทธ์ จันทร์โอชานายกรัฐมนตรีนำรัฐมนตรีได้ออกกำลังกาย\n",
            "-----------------------------------------\n",
            "-----------------------------------------\n",
            "hyp นายกรัฐมนตรีเป็นประธานการประชุมคณะกรรมการนโยบายยางธรรมชาติแห่งชาติย้ำให้มีการเพิ่มสัดส่วนการใช้ยางภายในประเทศให้มาก\n",
            "label เป็นประธานการประชุมคณะกรรมการนโยบาย\n",
            "-----------------------------------------\n"
          ],
          "name": "stdout"
        }
      ]
    },
    {
      "cell_type": "markdown",
      "metadata": {
        "id": "w_cPL_uDQImi",
        "colab_type": "text"
      },
      "source": [
        "test model"
      ]
    },
    {
      "cell_type": "code",
      "metadata": {
        "id": "UslnecB4GdVF",
        "colab_type": "code",
        "outputId": "34978adb-ed55-4830-a6c2-6794f4490ba6",
        "colab": {
          "base_uri": "https://localhost:8080/",
          "height": 168,
          "referenced_widgets": [
            "55f96af964414475ade9eb4895a5c825",
            "606f667845004014b67f0683d38f2c7b",
            "182c1680fe23440c93f6d663f8bc72ef",
            "82fe7011d5d543f9ba64555ca7c66aa0",
            "c37d65713f814e1189b3758985d6bdfe",
            "91e01cd42398426690e21f839a9f8988",
            "e1b0e790a34247f8bf13cc05a993ad7a",
            "b8d74fbb8de648a499b6af51e12dc526"
          ]
        }
      },
      "source": [
        "res = []\n",
        "for i in tqdm_notebook(range(len(X_test[:100]))):\n",
        "    rouge = Rouge()\n",
        "    hyp = inference(X_test, i)\n",
        "    label = get_label(X_test, y_test, i)\n",
        "    t = rouge.get_scores(' '.join(hyp), ' '.join(label))[0]\n",
        "    res.append((t['rouge-1']['f'], t['rouge-2']['f'], t['rouge-l']['f']))\n",
        "print('avg r1 (f):', np.mean([k[0] for k in res]))\n",
        "print('avg r2 (f):', np.mean([k[1] for k in res]))\n",
        "print('avg rL (f):', np.mean([k[2] for k in res]))"
      ],
      "execution_count": 0,
      "outputs": [
        {
          "output_type": "stream",
          "text": [
            "/usr/local/lib/python3.6/dist-packages/ipykernel_launcher.py:2: TqdmDeprecationWarning: This function will be removed in tqdm==5.0.0\n",
            "Please use `tqdm.notebook.tqdm` instead of `tqdm.tqdm_notebook`\n",
            "  \n"
          ],
          "name": "stderr"
        },
        {
          "output_type": "display_data",
          "data": {
            "application/vnd.jupyter.widget-view+json": {
              "model_id": "55f96af964414475ade9eb4895a5c825",
              "version_minor": 0,
              "version_major": 2
            },
            "text/plain": [
              "HBox(children=(FloatProgress(value=0.0), HTML(value='')))"
            ]
          },
          "metadata": {
            "tags": []
          }
        },
        {
          "output_type": "stream",
          "text": [
            "\n",
            "avg r1 (f): 0.3394582071861234\n",
            "avg r2 (f): 0.2615291694392282\n",
            "avg rL (f): 0.3449876990563815\n"
          ],
          "name": "stdout"
        }
      ]
    },
    {
      "cell_type": "code",
      "metadata": {
        "id": "cbnouacCQIGl",
        "colab_type": "code",
        "outputId": "78eaf494-7d5c-413c-fe32-fcc454c3af4e",
        "colab": {
          "base_uri": "https://localhost:8080/",
          "height": 168,
          "referenced_widgets": [
            "9d55aaea47984a779ad176347c7a5923",
            "61b883f258ff415abd3ff69f23684f02",
            "b868459d45e6460497a56c9c5ca33480",
            "09e191387720454e94a3dfa513800a34",
            "335a7f20a4a94f18b77c1a272c21690c",
            "e53b978e5ff9485491575d308a208715",
            "3f489c1821ee4fd8aa8415cb1acb022a",
            "67aa3f2adab4458e909cc031823e37f7"
          ]
        }
      },
      "source": [
        "res = []\n",
        "for i in tqdm_notebook(range(len(X_test))):\n",
        "    rouge = Rouge()\n",
        "    hyp = inference(X_test, i)\n",
        "    label = get_label(X_test, y_test, i)\n",
        "    t = rouge.get_scores(' '.join(hyp), ' '.join(label))[0]\n",
        "    res.append((t['rouge-1']['f'], t['rouge-2']['f'], t['rouge-l']['f']))\n",
        "print('avg r1 (f):', np.mean([k[0] for k in res]))\n",
        "print('avg r2 (f):', np.mean([k[1] for k in res]))\n",
        "print('avg rL (f):', np.mean([k[2] for k in res]))"
      ],
      "execution_count": 0,
      "outputs": [
        {
          "output_type": "stream",
          "text": [
            "/usr/local/lib/python3.6/dist-packages/ipykernel_launcher.py:2: TqdmDeprecationWarning: This function will be removed in tqdm==5.0.0\n",
            "Please use `tqdm.notebook.tqdm` instead of `tqdm.tqdm_notebook`\n",
            "  \n"
          ],
          "name": "stderr"
        },
        {
          "output_type": "display_data",
          "data": {
            "application/vnd.jupyter.widget-view+json": {
              "model_id": "9d55aaea47984a779ad176347c7a5923",
              "version_minor": 0,
              "version_major": 2
            },
            "text/plain": [
              "HBox(children=(FloatProgress(value=0.0, max=2848.0), HTML(value='')))"
            ]
          },
          "metadata": {
            "tags": []
          }
        },
        {
          "output_type": "stream",
          "text": [
            "\n",
            "avg r1 (f): 0.34669860899201005\n",
            "avg r2 (f): 0.2700534512326033\n",
            "avg rL (f): 0.348491991862085\n"
          ],
          "name": "stdout"
        }
      ]
    },
    {
      "cell_type": "markdown",
      "metadata": {
        "id": "s4bZyRTNQJ7N",
        "colab_type": "text"
      },
      "source": [
        "test generated labels"
      ]
    },
    {
      "cell_type": "code",
      "metadata": {
        "id": "gwEVg0F-JpXj",
        "colab_type": "code",
        "outputId": "f693703a-4c82-4aea-df05-ae5a7bc93e33",
        "colab": {
          "base_uri": "https://localhost:8080/",
          "height": 168,
          "referenced_widgets": [
            "437e2ebdd6354be180f6f0b0737082ba",
            "b6a380f47a5945e8b4a9f5a5ee0e421f",
            "34b7cbbcce3244b8a13edd0e0460c350",
            "a2f17a035c7449ff97640f440396e689",
            "b31ffef465d04d098e202333d333fe4d",
            "91611d7422c944868f944e5bf0f186b4",
            "027dbe257cee44cc85cf70007fdb9dfc",
            "1edae992d0324159904e96cdd62962eb"
          ]
        }
      },
      "source": [
        "res = []\n",
        "for i in tqdm_notebook(range(len(X_test[:300]))):\n",
        "    rouge = Rouge()\n",
        "    hyp = get_true_label(test_set, i)\n",
        "    label = get_label(X_test, y_test, i)\n",
        "    t = rouge.get_scores(' '.join(hyp), ' '.join(label))[0]\n",
        "    res.append((t['rouge-1']['f'], t['rouge-2']['f'], t['rouge-l']['f']))\n",
        "print('avg r1 (f):', np.mean([k[0] for k in res]))\n",
        "print('avg r2 (f):', np.mean([k[1] for k in res]))\n",
        "print('avg rL (f):', np.mean([k[2] for k in res]))"
      ],
      "execution_count": 0,
      "outputs": [
        {
          "output_type": "stream",
          "text": [
            "/usr/local/lib/python3.6/dist-packages/ipykernel_launcher.py:2: TqdmDeprecationWarning: This function will be removed in tqdm==5.0.0\n",
            "Please use `tqdm.notebook.tqdm` instead of `tqdm.tqdm_notebook`\n",
            "  \n"
          ],
          "name": "stderr"
        },
        {
          "output_type": "display_data",
          "data": {
            "application/vnd.jupyter.widget-view+json": {
              "model_id": "437e2ebdd6354be180f6f0b0737082ba",
              "version_minor": 0,
              "version_major": 2
            },
            "text/plain": [
              "HBox(children=(FloatProgress(value=0.0, max=300.0), HTML(value='')))"
            ]
          },
          "metadata": {
            "tags": []
          }
        },
        {
          "output_type": "stream",
          "text": [
            "\n",
            "avg r1 (f): 0.5335531706688063\n",
            "avg r2 (f): 0.4223716405159349\n",
            "avg rL (f): 0.5250223363527889\n"
          ],
          "name": "stdout"
        }
      ]
    },
    {
      "cell_type": "code",
      "metadata": {
        "id": "g8uM5Sk5Jvqw",
        "colab_type": "code",
        "colab": {}
      },
      "source": [
        ""
      ],
      "execution_count": 0,
      "outputs": []
    }
  ]
}