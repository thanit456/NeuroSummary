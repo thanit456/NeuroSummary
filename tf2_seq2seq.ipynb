{
  "nbformat": 4,
  "nbformat_minor": 0,
  "metadata": {
    "colab": {
      "name": "tf2_seq2seq.ipynb",
      "provenance": [],
      "collapsed_sections": [],
      "toc_visible": true,
      "machine_shape": "hm",
      "mount_file_id": "1aG95B81oj5fYc_GDosoSRFscLwCZqHJM",
      "authorship_tag": "ABX9TyMSsk08omYT4oU2lwmSZcmP",
      "include_colab_link": true
    },
    "kernelspec": {
      "name": "python3",
      "display_name": "Python 3"
    },
    "accelerator": "GPU",
    "widgets": {
      "application/vnd.jupyter.widget-state+json": {
        "0bb6b2dc3b96429fadefa35737498f62": {
          "model_module": "@jupyter-widgets/controls",
          "model_name": "HBoxModel",
          "state": {
            "_view_name": "HBoxView",
            "_dom_classes": [],
            "_model_name": "HBoxModel",
            "_view_module": "@jupyter-widgets/controls",
            "_model_module_version": "1.5.0",
            "_view_count": null,
            "_view_module_version": "1.5.0",
            "box_style": "",
            "layout": "IPY_MODEL_451b90c0b03343fc910c32d92a6ceaba",
            "_model_module": "@jupyter-widgets/controls",
            "children": [
              "IPY_MODEL_e5da89e8053f48db831de8d25431eaf5",
              "IPY_MODEL_506cc07f33d44fb58b6eb8f29816b861"
            ]
          }
        },
        "451b90c0b03343fc910c32d92a6ceaba": {
          "model_module": "@jupyter-widgets/base",
          "model_name": "LayoutModel",
          "state": {
            "_view_name": "LayoutView",
            "grid_template_rows": null,
            "right": null,
            "justify_content": null,
            "_view_module": "@jupyter-widgets/base",
            "overflow": null,
            "_model_module_version": "1.2.0",
            "_view_count": null,
            "flex_flow": null,
            "width": null,
            "min_width": null,
            "border": null,
            "align_items": null,
            "bottom": null,
            "_model_module": "@jupyter-widgets/base",
            "top": null,
            "grid_column": null,
            "overflow_y": null,
            "overflow_x": null,
            "grid_auto_flow": null,
            "grid_area": null,
            "grid_template_columns": null,
            "flex": null,
            "_model_name": "LayoutModel",
            "justify_items": null,
            "grid_row": null,
            "max_height": null,
            "align_content": null,
            "visibility": null,
            "align_self": null,
            "height": null,
            "min_height": null,
            "padding": null,
            "grid_auto_rows": null,
            "grid_gap": null,
            "max_width": null,
            "order": null,
            "_view_module_version": "1.2.0",
            "grid_template_areas": null,
            "object_position": null,
            "object_fit": null,
            "grid_auto_columns": null,
            "margin": null,
            "display": null,
            "left": null
          }
        },
        "e5da89e8053f48db831de8d25431eaf5": {
          "model_module": "@jupyter-widgets/controls",
          "model_name": "FloatProgressModel",
          "state": {
            "_view_name": "ProgressView",
            "style": "IPY_MODEL_2be5d1d4b4454d3bb02aac0df1222ac5",
            "_dom_classes": [],
            "description": "100%",
            "_model_name": "FloatProgressModel",
            "bar_style": "success",
            "max": 11615,
            "_view_module": "@jupyter-widgets/controls",
            "_model_module_version": "1.5.0",
            "value": 11615,
            "_view_count": null,
            "_view_module_version": "1.5.0",
            "orientation": "horizontal",
            "min": 0,
            "description_tooltip": null,
            "_model_module": "@jupyter-widgets/controls",
            "layout": "IPY_MODEL_f4a8fc73f9264ffba1d7ee6781ad81cd"
          }
        },
        "506cc07f33d44fb58b6eb8f29816b861": {
          "model_module": "@jupyter-widgets/controls",
          "model_name": "HTMLModel",
          "state": {
            "_view_name": "HTMLView",
            "style": "IPY_MODEL_5348992af11145228933cb93b1609ded",
            "_dom_classes": [],
            "description": "",
            "_model_name": "HTMLModel",
            "placeholder": "​",
            "_view_module": "@jupyter-widgets/controls",
            "_model_module_version": "1.5.0",
            "value": " 11615/11615 [42:03&lt;00:00,  4.60it/s]",
            "_view_count": null,
            "_view_module_version": "1.5.0",
            "description_tooltip": null,
            "_model_module": "@jupyter-widgets/controls",
            "layout": "IPY_MODEL_cc7bc40d0cfc4332acb88adcee5c3275"
          }
        },
        "2be5d1d4b4454d3bb02aac0df1222ac5": {
          "model_module": "@jupyter-widgets/controls",
          "model_name": "ProgressStyleModel",
          "state": {
            "_view_name": "StyleView",
            "_model_name": "ProgressStyleModel",
            "description_width": "initial",
            "_view_module": "@jupyter-widgets/base",
            "_model_module_version": "1.5.0",
            "_view_count": null,
            "_view_module_version": "1.2.0",
            "bar_color": null,
            "_model_module": "@jupyter-widgets/controls"
          }
        },
        "f4a8fc73f9264ffba1d7ee6781ad81cd": {
          "model_module": "@jupyter-widgets/base",
          "model_name": "LayoutModel",
          "state": {
            "_view_name": "LayoutView",
            "grid_template_rows": null,
            "right": null,
            "justify_content": null,
            "_view_module": "@jupyter-widgets/base",
            "overflow": null,
            "_model_module_version": "1.2.0",
            "_view_count": null,
            "flex_flow": null,
            "width": null,
            "min_width": null,
            "border": null,
            "align_items": null,
            "bottom": null,
            "_model_module": "@jupyter-widgets/base",
            "top": null,
            "grid_column": null,
            "overflow_y": null,
            "overflow_x": null,
            "grid_auto_flow": null,
            "grid_area": null,
            "grid_template_columns": null,
            "flex": null,
            "_model_name": "LayoutModel",
            "justify_items": null,
            "grid_row": null,
            "max_height": null,
            "align_content": null,
            "visibility": null,
            "align_self": null,
            "height": null,
            "min_height": null,
            "padding": null,
            "grid_auto_rows": null,
            "grid_gap": null,
            "max_width": null,
            "order": null,
            "_view_module_version": "1.2.0",
            "grid_template_areas": null,
            "object_position": null,
            "object_fit": null,
            "grid_auto_columns": null,
            "margin": null,
            "display": null,
            "left": null
          }
        },
        "5348992af11145228933cb93b1609ded": {
          "model_module": "@jupyter-widgets/controls",
          "model_name": "DescriptionStyleModel",
          "state": {
            "_view_name": "StyleView",
            "_model_name": "DescriptionStyleModel",
            "description_width": "",
            "_view_module": "@jupyter-widgets/base",
            "_model_module_version": "1.5.0",
            "_view_count": null,
            "_view_module_version": "1.2.0",
            "_model_module": "@jupyter-widgets/controls"
          }
        },
        "cc7bc40d0cfc4332acb88adcee5c3275": {
          "model_module": "@jupyter-widgets/base",
          "model_name": "LayoutModel",
          "state": {
            "_view_name": "LayoutView",
            "grid_template_rows": null,
            "right": null,
            "justify_content": null,
            "_view_module": "@jupyter-widgets/base",
            "overflow": null,
            "_model_module_version": "1.2.0",
            "_view_count": null,
            "flex_flow": null,
            "width": null,
            "min_width": null,
            "border": null,
            "align_items": null,
            "bottom": null,
            "_model_module": "@jupyter-widgets/base",
            "top": null,
            "grid_column": null,
            "overflow_y": null,
            "overflow_x": null,
            "grid_auto_flow": null,
            "grid_area": null,
            "grid_template_columns": null,
            "flex": null,
            "_model_name": "LayoutModel",
            "justify_items": null,
            "grid_row": null,
            "max_height": null,
            "align_content": null,
            "visibility": null,
            "align_self": null,
            "height": null,
            "min_height": null,
            "padding": null,
            "grid_auto_rows": null,
            "grid_gap": null,
            "max_width": null,
            "order": null,
            "_view_module_version": "1.2.0",
            "grid_template_areas": null,
            "object_position": null,
            "object_fit": null,
            "grid_auto_columns": null,
            "margin": null,
            "display": null,
            "left": null
          }
        },
        "4229270d2eea49a4bffbaf7cba8e0cfd": {
          "model_module": "@jupyter-widgets/controls",
          "model_name": "HBoxModel",
          "state": {
            "_view_name": "HBoxView",
            "_dom_classes": [],
            "_model_name": "HBoxModel",
            "_view_module": "@jupyter-widgets/controls",
            "_model_module_version": "1.5.0",
            "_view_count": null,
            "_view_module_version": "1.5.0",
            "box_style": "",
            "layout": "IPY_MODEL_9a0b2f494dd647158474d7cf3dfdb8f8",
            "_model_module": "@jupyter-widgets/controls",
            "children": [
              "IPY_MODEL_709b348178924b4a873d1b1350e3f994",
              "IPY_MODEL_53fa44fdad3b42b1ad64e23be7946c50"
            ]
          }
        },
        "9a0b2f494dd647158474d7cf3dfdb8f8": {
          "model_module": "@jupyter-widgets/base",
          "model_name": "LayoutModel",
          "state": {
            "_view_name": "LayoutView",
            "grid_template_rows": null,
            "right": null,
            "justify_content": null,
            "_view_module": "@jupyter-widgets/base",
            "overflow": null,
            "_model_module_version": "1.2.0",
            "_view_count": null,
            "flex_flow": null,
            "width": null,
            "min_width": null,
            "border": null,
            "align_items": null,
            "bottom": null,
            "_model_module": "@jupyter-widgets/base",
            "top": null,
            "grid_column": null,
            "overflow_y": null,
            "overflow_x": null,
            "grid_auto_flow": null,
            "grid_area": null,
            "grid_template_columns": null,
            "flex": null,
            "_model_name": "LayoutModel",
            "justify_items": null,
            "grid_row": null,
            "max_height": null,
            "align_content": null,
            "visibility": null,
            "align_self": null,
            "height": null,
            "min_height": null,
            "padding": null,
            "grid_auto_rows": null,
            "grid_gap": null,
            "max_width": null,
            "order": null,
            "_view_module_version": "1.2.0",
            "grid_template_areas": null,
            "object_position": null,
            "object_fit": null,
            "grid_auto_columns": null,
            "margin": null,
            "display": null,
            "left": null
          }
        },
        "709b348178924b4a873d1b1350e3f994": {
          "model_module": "@jupyter-widgets/controls",
          "model_name": "FloatProgressModel",
          "state": {
            "_view_name": "ProgressView",
            "style": "IPY_MODEL_09bdf25af578476fa41930de026796a6",
            "_dom_classes": [],
            "description": "100%",
            "_model_name": "FloatProgressModel",
            "bar_style": "success",
            "max": 2861,
            "_view_module": "@jupyter-widgets/controls",
            "_model_module_version": "1.5.0",
            "value": 2861,
            "_view_count": null,
            "_view_module_version": "1.5.0",
            "orientation": "horizontal",
            "min": 0,
            "description_tooltip": null,
            "_model_module": "@jupyter-widgets/controls",
            "layout": "IPY_MODEL_0424b61fddaa459cbeca655b5a4e6f0e"
          }
        },
        "53fa44fdad3b42b1ad64e23be7946c50": {
          "model_module": "@jupyter-widgets/controls",
          "model_name": "HTMLModel",
          "state": {
            "_view_name": "HTMLView",
            "style": "IPY_MODEL_6a3dbb519ff94aa381a7c661b9b31895",
            "_dom_classes": [],
            "description": "",
            "_model_name": "HTMLModel",
            "placeholder": "​",
            "_view_module": "@jupyter-widgets/controls",
            "_model_module_version": "1.5.0",
            "value": " 2861/2861 [13:54&lt;00:00,  3.43it/s]",
            "_view_count": null,
            "_view_module_version": "1.5.0",
            "description_tooltip": null,
            "_model_module": "@jupyter-widgets/controls",
            "layout": "IPY_MODEL_9018bd54810d4d72b30d367b1535fc7c"
          }
        },
        "09bdf25af578476fa41930de026796a6": {
          "model_module": "@jupyter-widgets/controls",
          "model_name": "ProgressStyleModel",
          "state": {
            "_view_name": "StyleView",
            "_model_name": "ProgressStyleModel",
            "description_width": "initial",
            "_view_module": "@jupyter-widgets/base",
            "_model_module_version": "1.5.0",
            "_view_count": null,
            "_view_module_version": "1.2.0",
            "bar_color": null,
            "_model_module": "@jupyter-widgets/controls"
          }
        },
        "0424b61fddaa459cbeca655b5a4e6f0e": {
          "model_module": "@jupyter-widgets/base",
          "model_name": "LayoutModel",
          "state": {
            "_view_name": "LayoutView",
            "grid_template_rows": null,
            "right": null,
            "justify_content": null,
            "_view_module": "@jupyter-widgets/base",
            "overflow": null,
            "_model_module_version": "1.2.0",
            "_view_count": null,
            "flex_flow": null,
            "width": null,
            "min_width": null,
            "border": null,
            "align_items": null,
            "bottom": null,
            "_model_module": "@jupyter-widgets/base",
            "top": null,
            "grid_column": null,
            "overflow_y": null,
            "overflow_x": null,
            "grid_auto_flow": null,
            "grid_area": null,
            "grid_template_columns": null,
            "flex": null,
            "_model_name": "LayoutModel",
            "justify_items": null,
            "grid_row": null,
            "max_height": null,
            "align_content": null,
            "visibility": null,
            "align_self": null,
            "height": null,
            "min_height": null,
            "padding": null,
            "grid_auto_rows": null,
            "grid_gap": null,
            "max_width": null,
            "order": null,
            "_view_module_version": "1.2.0",
            "grid_template_areas": null,
            "object_position": null,
            "object_fit": null,
            "grid_auto_columns": null,
            "margin": null,
            "display": null,
            "left": null
          }
        },
        "6a3dbb519ff94aa381a7c661b9b31895": {
          "model_module": "@jupyter-widgets/controls",
          "model_name": "DescriptionStyleModel",
          "state": {
            "_view_name": "StyleView",
            "_model_name": "DescriptionStyleModel",
            "description_width": "",
            "_view_module": "@jupyter-widgets/base",
            "_model_module_version": "1.5.0",
            "_view_count": null,
            "_view_module_version": "1.2.0",
            "_model_module": "@jupyter-widgets/controls"
          }
        },
        "9018bd54810d4d72b30d367b1535fc7c": {
          "model_module": "@jupyter-widgets/base",
          "model_name": "LayoutModel",
          "state": {
            "_view_name": "LayoutView",
            "grid_template_rows": null,
            "right": null,
            "justify_content": null,
            "_view_module": "@jupyter-widgets/base",
            "overflow": null,
            "_model_module_version": "1.2.0",
            "_view_count": null,
            "flex_flow": null,
            "width": null,
            "min_width": null,
            "border": null,
            "align_items": null,
            "bottom": null,
            "_model_module": "@jupyter-widgets/base",
            "top": null,
            "grid_column": null,
            "overflow_y": null,
            "overflow_x": null,
            "grid_auto_flow": null,
            "grid_area": null,
            "grid_template_columns": null,
            "flex": null,
            "_model_name": "LayoutModel",
            "justify_items": null,
            "grid_row": null,
            "max_height": null,
            "align_content": null,
            "visibility": null,
            "align_self": null,
            "height": null,
            "min_height": null,
            "padding": null,
            "grid_auto_rows": null,
            "grid_gap": null,
            "max_width": null,
            "order": null,
            "_view_module_version": "1.2.0",
            "grid_template_areas": null,
            "object_position": null,
            "object_fit": null,
            "grid_auto_columns": null,
            "margin": null,
            "display": null,
            "left": null
          }
        },
        "7ef1f51f12c0465c999a056f0856d16f": {
          "model_module": "@jupyter-widgets/controls",
          "model_name": "HBoxModel",
          "state": {
            "_view_name": "HBoxView",
            "_dom_classes": [],
            "_model_name": "HBoxModel",
            "_view_module": "@jupyter-widgets/controls",
            "_model_module_version": "1.5.0",
            "_view_count": null,
            "_view_module_version": "1.5.0",
            "box_style": "",
            "layout": "IPY_MODEL_8591d7e072b440f4a9bee52ec02f7ab9",
            "_model_module": "@jupyter-widgets/controls",
            "children": [
              "IPY_MODEL_01b8fb42cea2460b9ddc519e9350e40c",
              "IPY_MODEL_c45f50ac27e643f59a1e0a37fcd8c6ec"
            ]
          }
        },
        "8591d7e072b440f4a9bee52ec02f7ab9": {
          "model_module": "@jupyter-widgets/base",
          "model_name": "LayoutModel",
          "state": {
            "_view_name": "LayoutView",
            "grid_template_rows": null,
            "right": null,
            "justify_content": null,
            "_view_module": "@jupyter-widgets/base",
            "overflow": null,
            "_model_module_version": "1.2.0",
            "_view_count": null,
            "flex_flow": null,
            "width": null,
            "min_width": null,
            "border": null,
            "align_items": null,
            "bottom": null,
            "_model_module": "@jupyter-widgets/base",
            "top": null,
            "grid_column": null,
            "overflow_y": null,
            "overflow_x": null,
            "grid_auto_flow": null,
            "grid_area": null,
            "grid_template_columns": null,
            "flex": null,
            "_model_name": "LayoutModel",
            "justify_items": null,
            "grid_row": null,
            "max_height": null,
            "align_content": null,
            "visibility": null,
            "align_self": null,
            "height": null,
            "min_height": null,
            "padding": null,
            "grid_auto_rows": null,
            "grid_gap": null,
            "max_width": null,
            "order": null,
            "_view_module_version": "1.2.0",
            "grid_template_areas": null,
            "object_position": null,
            "object_fit": null,
            "grid_auto_columns": null,
            "margin": null,
            "display": null,
            "left": null
          }
        },
        "01b8fb42cea2460b9ddc519e9350e40c": {
          "model_module": "@jupyter-widgets/controls",
          "model_name": "FloatProgressModel",
          "state": {
            "_view_name": "ProgressView",
            "style": "IPY_MODEL_c819322e83b345bfb6bfd88fceb2fa96",
            "_dom_classes": [],
            "description": "100%",
            "_model_name": "FloatProgressModel",
            "bar_style": "success",
            "max": 2861,
            "_view_module": "@jupyter-widgets/controls",
            "_model_module_version": "1.5.0",
            "value": 2861,
            "_view_count": null,
            "_view_module_version": "1.5.0",
            "orientation": "horizontal",
            "min": 0,
            "description_tooltip": null,
            "_model_module": "@jupyter-widgets/controls",
            "layout": "IPY_MODEL_8d2ad656c8c54e1481a63fc714235308"
          }
        },
        "c45f50ac27e643f59a1e0a37fcd8c6ec": {
          "model_module": "@jupyter-widgets/controls",
          "model_name": "HTMLModel",
          "state": {
            "_view_name": "HTMLView",
            "style": "IPY_MODEL_13714a1771bd40a2861c4483fb48c435",
            "_dom_classes": [],
            "description": "",
            "_model_name": "HTMLModel",
            "placeholder": "​",
            "_view_module": "@jupyter-widgets/controls",
            "_model_module_version": "1.5.0",
            "value": " 2861/2861 [06:57&lt;00:00,  6.85it/s]",
            "_view_count": null,
            "_view_module_version": "1.5.0",
            "description_tooltip": null,
            "_model_module": "@jupyter-widgets/controls",
            "layout": "IPY_MODEL_d8eed74ae0a942aa886a36cfba1a2440"
          }
        },
        "c819322e83b345bfb6bfd88fceb2fa96": {
          "model_module": "@jupyter-widgets/controls",
          "model_name": "ProgressStyleModel",
          "state": {
            "_view_name": "StyleView",
            "_model_name": "ProgressStyleModel",
            "description_width": "initial",
            "_view_module": "@jupyter-widgets/base",
            "_model_module_version": "1.5.0",
            "_view_count": null,
            "_view_module_version": "1.2.0",
            "bar_color": null,
            "_model_module": "@jupyter-widgets/controls"
          }
        },
        "8d2ad656c8c54e1481a63fc714235308": {
          "model_module": "@jupyter-widgets/base",
          "model_name": "LayoutModel",
          "state": {
            "_view_name": "LayoutView",
            "grid_template_rows": null,
            "right": null,
            "justify_content": null,
            "_view_module": "@jupyter-widgets/base",
            "overflow": null,
            "_model_module_version": "1.2.0",
            "_view_count": null,
            "flex_flow": null,
            "width": null,
            "min_width": null,
            "border": null,
            "align_items": null,
            "bottom": null,
            "_model_module": "@jupyter-widgets/base",
            "top": null,
            "grid_column": null,
            "overflow_y": null,
            "overflow_x": null,
            "grid_auto_flow": null,
            "grid_area": null,
            "grid_template_columns": null,
            "flex": null,
            "_model_name": "LayoutModel",
            "justify_items": null,
            "grid_row": null,
            "max_height": null,
            "align_content": null,
            "visibility": null,
            "align_self": null,
            "height": null,
            "min_height": null,
            "padding": null,
            "grid_auto_rows": null,
            "grid_gap": null,
            "max_width": null,
            "order": null,
            "_view_module_version": "1.2.0",
            "grid_template_areas": null,
            "object_position": null,
            "object_fit": null,
            "grid_auto_columns": null,
            "margin": null,
            "display": null,
            "left": null
          }
        },
        "13714a1771bd40a2861c4483fb48c435": {
          "model_module": "@jupyter-widgets/controls",
          "model_name": "DescriptionStyleModel",
          "state": {
            "_view_name": "StyleView",
            "_model_name": "DescriptionStyleModel",
            "description_width": "",
            "_view_module": "@jupyter-widgets/base",
            "_model_module_version": "1.5.0",
            "_view_count": null,
            "_view_module_version": "1.2.0",
            "_model_module": "@jupyter-widgets/controls"
          }
        },
        "d8eed74ae0a942aa886a36cfba1a2440": {
          "model_module": "@jupyter-widgets/base",
          "model_name": "LayoutModel",
          "state": {
            "_view_name": "LayoutView",
            "grid_template_rows": null,
            "right": null,
            "justify_content": null,
            "_view_module": "@jupyter-widgets/base",
            "overflow": null,
            "_model_module_version": "1.2.0",
            "_view_count": null,
            "flex_flow": null,
            "width": null,
            "min_width": null,
            "border": null,
            "align_items": null,
            "bottom": null,
            "_model_module": "@jupyter-widgets/base",
            "top": null,
            "grid_column": null,
            "overflow_y": null,
            "overflow_x": null,
            "grid_auto_flow": null,
            "grid_area": null,
            "grid_template_columns": null,
            "flex": null,
            "_model_name": "LayoutModel",
            "justify_items": null,
            "grid_row": null,
            "max_height": null,
            "align_content": null,
            "visibility": null,
            "align_self": null,
            "height": null,
            "min_height": null,
            "padding": null,
            "grid_auto_rows": null,
            "grid_gap": null,
            "max_width": null,
            "order": null,
            "_view_module_version": "1.2.0",
            "grid_template_areas": null,
            "object_position": null,
            "object_fit": null,
            "grid_auto_columns": null,
            "margin": null,
            "display": null,
            "left": null
          }
        },
        "64685ef6cb39455db7fe41caa9392c0d": {
          "model_module": "@jupyter-widgets/controls",
          "model_name": "HBoxModel",
          "state": {
            "_view_name": "HBoxView",
            "_dom_classes": [],
            "_model_name": "HBoxModel",
            "_view_module": "@jupyter-widgets/controls",
            "_model_module_version": "1.5.0",
            "_view_count": null,
            "_view_module_version": "1.5.0",
            "box_style": "",
            "layout": "IPY_MODEL_bf2e447971a34292bbf9d9d5f1637d0c",
            "_model_module": "@jupyter-widgets/controls",
            "children": [
              "IPY_MODEL_59d2ad34a9bd4f549cf829494e328c80",
              "IPY_MODEL_4778ccb8997a41beabc402db6de88926"
            ]
          }
        },
        "bf2e447971a34292bbf9d9d5f1637d0c": {
          "model_module": "@jupyter-widgets/base",
          "model_name": "LayoutModel",
          "state": {
            "_view_name": "LayoutView",
            "grid_template_rows": null,
            "right": null,
            "justify_content": null,
            "_view_module": "@jupyter-widgets/base",
            "overflow": null,
            "_model_module_version": "1.2.0",
            "_view_count": null,
            "flex_flow": null,
            "width": null,
            "min_width": null,
            "border": null,
            "align_items": null,
            "bottom": null,
            "_model_module": "@jupyter-widgets/base",
            "top": null,
            "grid_column": null,
            "overflow_y": null,
            "overflow_x": null,
            "grid_auto_flow": null,
            "grid_area": null,
            "grid_template_columns": null,
            "flex": null,
            "_model_name": "LayoutModel",
            "justify_items": null,
            "grid_row": null,
            "max_height": null,
            "align_content": null,
            "visibility": null,
            "align_self": null,
            "height": null,
            "min_height": null,
            "padding": null,
            "grid_auto_rows": null,
            "grid_gap": null,
            "max_width": null,
            "order": null,
            "_view_module_version": "1.2.0",
            "grid_template_areas": null,
            "object_position": null,
            "object_fit": null,
            "grid_auto_columns": null,
            "margin": null,
            "display": null,
            "left": null
          }
        },
        "59d2ad34a9bd4f549cf829494e328c80": {
          "model_module": "@jupyter-widgets/controls",
          "model_name": "FloatProgressModel",
          "state": {
            "_view_name": "ProgressView",
            "style": "IPY_MODEL_532c8589f49a40a1abd368a1fc7ecd77",
            "_dom_classes": [],
            "description": "100%",
            "_model_name": "FloatProgressModel",
            "bar_style": "success",
            "max": 11615,
            "_view_module": "@jupyter-widgets/controls",
            "_model_module_version": "1.5.0",
            "value": 11615,
            "_view_count": null,
            "_view_module_version": "1.5.0",
            "orientation": "horizontal",
            "min": 0,
            "description_tooltip": null,
            "_model_module": "@jupyter-widgets/controls",
            "layout": "IPY_MODEL_d018f6e20b444b9489e81dc80c42000f"
          }
        },
        "4778ccb8997a41beabc402db6de88926": {
          "model_module": "@jupyter-widgets/controls",
          "model_name": "HTMLModel",
          "state": {
            "_view_name": "HTMLView",
            "style": "IPY_MODEL_ee09674c42ba4b7dbc70b4ad902390bd",
            "_dom_classes": [],
            "description": "",
            "_model_name": "HTMLModel",
            "placeholder": "​",
            "_view_module": "@jupyter-widgets/controls",
            "_model_module_version": "1.5.0",
            "value": " 11615/11615 [43:31&lt;00:00,  4.45it/s]",
            "_view_count": null,
            "_view_module_version": "1.5.0",
            "description_tooltip": null,
            "_model_module": "@jupyter-widgets/controls",
            "layout": "IPY_MODEL_c41a5f79e8ac4805b8f846e69e203bed"
          }
        },
        "532c8589f49a40a1abd368a1fc7ecd77": {
          "model_module": "@jupyter-widgets/controls",
          "model_name": "ProgressStyleModel",
          "state": {
            "_view_name": "StyleView",
            "_model_name": "ProgressStyleModel",
            "description_width": "initial",
            "_view_module": "@jupyter-widgets/base",
            "_model_module_version": "1.5.0",
            "_view_count": null,
            "_view_module_version": "1.2.0",
            "bar_color": null,
            "_model_module": "@jupyter-widgets/controls"
          }
        },
        "d018f6e20b444b9489e81dc80c42000f": {
          "model_module": "@jupyter-widgets/base",
          "model_name": "LayoutModel",
          "state": {
            "_view_name": "LayoutView",
            "grid_template_rows": null,
            "right": null,
            "justify_content": null,
            "_view_module": "@jupyter-widgets/base",
            "overflow": null,
            "_model_module_version": "1.2.0",
            "_view_count": null,
            "flex_flow": null,
            "width": null,
            "min_width": null,
            "border": null,
            "align_items": null,
            "bottom": null,
            "_model_module": "@jupyter-widgets/base",
            "top": null,
            "grid_column": null,
            "overflow_y": null,
            "overflow_x": null,
            "grid_auto_flow": null,
            "grid_area": null,
            "grid_template_columns": null,
            "flex": null,
            "_model_name": "LayoutModel",
            "justify_items": null,
            "grid_row": null,
            "max_height": null,
            "align_content": null,
            "visibility": null,
            "align_self": null,
            "height": null,
            "min_height": null,
            "padding": null,
            "grid_auto_rows": null,
            "grid_gap": null,
            "max_width": null,
            "order": null,
            "_view_module_version": "1.2.0",
            "grid_template_areas": null,
            "object_position": null,
            "object_fit": null,
            "grid_auto_columns": null,
            "margin": null,
            "display": null,
            "left": null
          }
        },
        "ee09674c42ba4b7dbc70b4ad902390bd": {
          "model_module": "@jupyter-widgets/controls",
          "model_name": "DescriptionStyleModel",
          "state": {
            "_view_name": "StyleView",
            "_model_name": "DescriptionStyleModel",
            "description_width": "",
            "_view_module": "@jupyter-widgets/base",
            "_model_module_version": "1.5.0",
            "_view_count": null,
            "_view_module_version": "1.2.0",
            "_model_module": "@jupyter-widgets/controls"
          }
        },
        "c41a5f79e8ac4805b8f846e69e203bed": {
          "model_module": "@jupyter-widgets/base",
          "model_name": "LayoutModel",
          "state": {
            "_view_name": "LayoutView",
            "grid_template_rows": null,
            "right": null,
            "justify_content": null,
            "_view_module": "@jupyter-widgets/base",
            "overflow": null,
            "_model_module_version": "1.2.0",
            "_view_count": null,
            "flex_flow": null,
            "width": null,
            "min_width": null,
            "border": null,
            "align_items": null,
            "bottom": null,
            "_model_module": "@jupyter-widgets/base",
            "top": null,
            "grid_column": null,
            "overflow_y": null,
            "overflow_x": null,
            "grid_auto_flow": null,
            "grid_area": null,
            "grid_template_columns": null,
            "flex": null,
            "_model_name": "LayoutModel",
            "justify_items": null,
            "grid_row": null,
            "max_height": null,
            "align_content": null,
            "visibility": null,
            "align_self": null,
            "height": null,
            "min_height": null,
            "padding": null,
            "grid_auto_rows": null,
            "grid_gap": null,
            "max_width": null,
            "order": null,
            "_view_module_version": "1.2.0",
            "grid_template_areas": null,
            "object_position": null,
            "object_fit": null,
            "grid_auto_columns": null,
            "margin": null,
            "display": null,
            "left": null
          }
        },
        "2a296f4cf0014db3923bc5c739602461": {
          "model_module": "@jupyter-widgets/controls",
          "model_name": "HBoxModel",
          "state": {
            "_view_name": "HBoxView",
            "_dom_classes": [],
            "_model_name": "HBoxModel",
            "_view_module": "@jupyter-widgets/controls",
            "_model_module_version": "1.5.0",
            "_view_count": null,
            "_view_module_version": "1.5.0",
            "box_style": "",
            "layout": "IPY_MODEL_17c1273087564c02bfd15198ea35ae3f",
            "_model_module": "@jupyter-widgets/controls",
            "children": [
              "IPY_MODEL_6bc1a988a66a44cc93a4735c304355b0",
              "IPY_MODEL_e20610fae12c49f5b9563150e2fa47e5"
            ]
          }
        },
        "17c1273087564c02bfd15198ea35ae3f": {
          "model_module": "@jupyter-widgets/base",
          "model_name": "LayoutModel",
          "state": {
            "_view_name": "LayoutView",
            "grid_template_rows": null,
            "right": null,
            "justify_content": null,
            "_view_module": "@jupyter-widgets/base",
            "overflow": null,
            "_model_module_version": "1.2.0",
            "_view_count": null,
            "flex_flow": null,
            "width": null,
            "min_width": null,
            "border": null,
            "align_items": null,
            "bottom": null,
            "_model_module": "@jupyter-widgets/base",
            "top": null,
            "grid_column": null,
            "overflow_y": null,
            "overflow_x": null,
            "grid_auto_flow": null,
            "grid_area": null,
            "grid_template_columns": null,
            "flex": null,
            "_model_name": "LayoutModel",
            "justify_items": null,
            "grid_row": null,
            "max_height": null,
            "align_content": null,
            "visibility": null,
            "align_self": null,
            "height": null,
            "min_height": null,
            "padding": null,
            "grid_auto_rows": null,
            "grid_gap": null,
            "max_width": null,
            "order": null,
            "_view_module_version": "1.2.0",
            "grid_template_areas": null,
            "object_position": null,
            "object_fit": null,
            "grid_auto_columns": null,
            "margin": null,
            "display": null,
            "left": null
          }
        },
        "6bc1a988a66a44cc93a4735c304355b0": {
          "model_module": "@jupyter-widgets/controls",
          "model_name": "FloatProgressModel",
          "state": {
            "_view_name": "ProgressView",
            "style": "IPY_MODEL_abb5e45aa46f49f4b9cda6ed0e039653",
            "_dom_classes": [],
            "description": "100%",
            "_model_name": "FloatProgressModel",
            "bar_style": "success",
            "max": 2861,
            "_view_module": "@jupyter-widgets/controls",
            "_model_module_version": "1.5.0",
            "value": 2861,
            "_view_count": null,
            "_view_module_version": "1.5.0",
            "orientation": "horizontal",
            "min": 0,
            "description_tooltip": null,
            "_model_module": "@jupyter-widgets/controls",
            "layout": "IPY_MODEL_8b6f0d8ed145455a95228c95e4d763ea"
          }
        },
        "e20610fae12c49f5b9563150e2fa47e5": {
          "model_module": "@jupyter-widgets/controls",
          "model_name": "HTMLModel",
          "state": {
            "_view_name": "HTMLView",
            "style": "IPY_MODEL_1ec423851e6d40ba92329b277387bb2e",
            "_dom_classes": [],
            "description": "",
            "_model_name": "HTMLModel",
            "placeholder": "​",
            "_view_module": "@jupyter-widgets/controls",
            "_model_module_version": "1.5.0",
            "value": " 2861/2861 [14:21&lt;00:00,  3.32it/s]",
            "_view_count": null,
            "_view_module_version": "1.5.0",
            "description_tooltip": null,
            "_model_module": "@jupyter-widgets/controls",
            "layout": "IPY_MODEL_608faaca0ed54ff2b2ce4f866aee516d"
          }
        },
        "abb5e45aa46f49f4b9cda6ed0e039653": {
          "model_module": "@jupyter-widgets/controls",
          "model_name": "ProgressStyleModel",
          "state": {
            "_view_name": "StyleView",
            "_model_name": "ProgressStyleModel",
            "description_width": "initial",
            "_view_module": "@jupyter-widgets/base",
            "_model_module_version": "1.5.0",
            "_view_count": null,
            "_view_module_version": "1.2.0",
            "bar_color": null,
            "_model_module": "@jupyter-widgets/controls"
          }
        },
        "8b6f0d8ed145455a95228c95e4d763ea": {
          "model_module": "@jupyter-widgets/base",
          "model_name": "LayoutModel",
          "state": {
            "_view_name": "LayoutView",
            "grid_template_rows": null,
            "right": null,
            "justify_content": null,
            "_view_module": "@jupyter-widgets/base",
            "overflow": null,
            "_model_module_version": "1.2.0",
            "_view_count": null,
            "flex_flow": null,
            "width": null,
            "min_width": null,
            "border": null,
            "align_items": null,
            "bottom": null,
            "_model_module": "@jupyter-widgets/base",
            "top": null,
            "grid_column": null,
            "overflow_y": null,
            "overflow_x": null,
            "grid_auto_flow": null,
            "grid_area": null,
            "grid_template_columns": null,
            "flex": null,
            "_model_name": "LayoutModel",
            "justify_items": null,
            "grid_row": null,
            "max_height": null,
            "align_content": null,
            "visibility": null,
            "align_self": null,
            "height": null,
            "min_height": null,
            "padding": null,
            "grid_auto_rows": null,
            "grid_gap": null,
            "max_width": null,
            "order": null,
            "_view_module_version": "1.2.0",
            "grid_template_areas": null,
            "object_position": null,
            "object_fit": null,
            "grid_auto_columns": null,
            "margin": null,
            "display": null,
            "left": null
          }
        },
        "1ec423851e6d40ba92329b277387bb2e": {
          "model_module": "@jupyter-widgets/controls",
          "model_name": "DescriptionStyleModel",
          "state": {
            "_view_name": "StyleView",
            "_model_name": "DescriptionStyleModel",
            "description_width": "",
            "_view_module": "@jupyter-widgets/base",
            "_model_module_version": "1.5.0",
            "_view_count": null,
            "_view_module_version": "1.2.0",
            "_model_module": "@jupyter-widgets/controls"
          }
        },
        "608faaca0ed54ff2b2ce4f866aee516d": {
          "model_module": "@jupyter-widgets/base",
          "model_name": "LayoutModel",
          "state": {
            "_view_name": "LayoutView",
            "grid_template_rows": null,
            "right": null,
            "justify_content": null,
            "_view_module": "@jupyter-widgets/base",
            "overflow": null,
            "_model_module_version": "1.2.0",
            "_view_count": null,
            "flex_flow": null,
            "width": null,
            "min_width": null,
            "border": null,
            "align_items": null,
            "bottom": null,
            "_model_module": "@jupyter-widgets/base",
            "top": null,
            "grid_column": null,
            "overflow_y": null,
            "overflow_x": null,
            "grid_auto_flow": null,
            "grid_area": null,
            "grid_template_columns": null,
            "flex": null,
            "_model_name": "LayoutModel",
            "justify_items": null,
            "grid_row": null,
            "max_height": null,
            "align_content": null,
            "visibility": null,
            "align_self": null,
            "height": null,
            "min_height": null,
            "padding": null,
            "grid_auto_rows": null,
            "grid_gap": null,
            "max_width": null,
            "order": null,
            "_view_module_version": "1.2.0",
            "grid_template_areas": null,
            "object_position": null,
            "object_fit": null,
            "grid_auto_columns": null,
            "margin": null,
            "display": null,
            "left": null
          }
        },
        "e4cef2890a1b4a3ba355bb51cfe386ea": {
          "model_module": "@jupyter-widgets/controls",
          "model_name": "HBoxModel",
          "state": {
            "_view_name": "HBoxView",
            "_dom_classes": [],
            "_model_name": "HBoxModel",
            "_view_module": "@jupyter-widgets/controls",
            "_model_module_version": "1.5.0",
            "_view_count": null,
            "_view_module_version": "1.5.0",
            "box_style": "",
            "layout": "IPY_MODEL_0ca61b5aa02e466789ce3d93bbf4b64e",
            "_model_module": "@jupyter-widgets/controls",
            "children": [
              "IPY_MODEL_df622e8c6bd5415b8d50cb5db6e7870d",
              "IPY_MODEL_eaa28f4ef4eb4a7eb2d85426f13c65c2"
            ]
          }
        },
        "0ca61b5aa02e466789ce3d93bbf4b64e": {
          "model_module": "@jupyter-widgets/base",
          "model_name": "LayoutModel",
          "state": {
            "_view_name": "LayoutView",
            "grid_template_rows": null,
            "right": null,
            "justify_content": null,
            "_view_module": "@jupyter-widgets/base",
            "overflow": null,
            "_model_module_version": "1.2.0",
            "_view_count": null,
            "flex_flow": null,
            "width": null,
            "min_width": null,
            "border": null,
            "align_items": null,
            "bottom": null,
            "_model_module": "@jupyter-widgets/base",
            "top": null,
            "grid_column": null,
            "overflow_y": null,
            "overflow_x": null,
            "grid_auto_flow": null,
            "grid_area": null,
            "grid_template_columns": null,
            "flex": null,
            "_model_name": "LayoutModel",
            "justify_items": null,
            "grid_row": null,
            "max_height": null,
            "align_content": null,
            "visibility": null,
            "align_self": null,
            "height": null,
            "min_height": null,
            "padding": null,
            "grid_auto_rows": null,
            "grid_gap": null,
            "max_width": null,
            "order": null,
            "_view_module_version": "1.2.0",
            "grid_template_areas": null,
            "object_position": null,
            "object_fit": null,
            "grid_auto_columns": null,
            "margin": null,
            "display": null,
            "left": null
          }
        },
        "df622e8c6bd5415b8d50cb5db6e7870d": {
          "model_module": "@jupyter-widgets/controls",
          "model_name": "FloatProgressModel",
          "state": {
            "_view_name": "ProgressView",
            "style": "IPY_MODEL_8294279cbbb6456cadee381b71cb392c",
            "_dom_classes": [],
            "description": "100%",
            "_model_name": "FloatProgressModel",
            "bar_style": "success",
            "max": 2861,
            "_view_module": "@jupyter-widgets/controls",
            "_model_module_version": "1.5.0",
            "value": 2861,
            "_view_count": null,
            "_view_module_version": "1.5.0",
            "orientation": "horizontal",
            "min": 0,
            "description_tooltip": null,
            "_model_module": "@jupyter-widgets/controls",
            "layout": "IPY_MODEL_8b99d46c652f4f688dddc7a9da3a4fcb"
          }
        },
        "eaa28f4ef4eb4a7eb2d85426f13c65c2": {
          "model_module": "@jupyter-widgets/controls",
          "model_name": "HTMLModel",
          "state": {
            "_view_name": "HTMLView",
            "style": "IPY_MODEL_eba29afd26574adbb19c92e6364de264",
            "_dom_classes": [],
            "description": "",
            "_model_name": "HTMLModel",
            "placeholder": "​",
            "_view_module": "@jupyter-widgets/controls",
            "_model_module_version": "1.5.0",
            "value": " 2861/2861 [07:11&lt;00:00,  6.63it/s]",
            "_view_count": null,
            "_view_module_version": "1.5.0",
            "description_tooltip": null,
            "_model_module": "@jupyter-widgets/controls",
            "layout": "IPY_MODEL_ea8d090380a145ceaafe4262bc34e72e"
          }
        },
        "8294279cbbb6456cadee381b71cb392c": {
          "model_module": "@jupyter-widgets/controls",
          "model_name": "ProgressStyleModel",
          "state": {
            "_view_name": "StyleView",
            "_model_name": "ProgressStyleModel",
            "description_width": "initial",
            "_view_module": "@jupyter-widgets/base",
            "_model_module_version": "1.5.0",
            "_view_count": null,
            "_view_module_version": "1.2.0",
            "bar_color": null,
            "_model_module": "@jupyter-widgets/controls"
          }
        },
        "8b99d46c652f4f688dddc7a9da3a4fcb": {
          "model_module": "@jupyter-widgets/base",
          "model_name": "LayoutModel",
          "state": {
            "_view_name": "LayoutView",
            "grid_template_rows": null,
            "right": null,
            "justify_content": null,
            "_view_module": "@jupyter-widgets/base",
            "overflow": null,
            "_model_module_version": "1.2.0",
            "_view_count": null,
            "flex_flow": null,
            "width": null,
            "min_width": null,
            "border": null,
            "align_items": null,
            "bottom": null,
            "_model_module": "@jupyter-widgets/base",
            "top": null,
            "grid_column": null,
            "overflow_y": null,
            "overflow_x": null,
            "grid_auto_flow": null,
            "grid_area": null,
            "grid_template_columns": null,
            "flex": null,
            "_model_name": "LayoutModel",
            "justify_items": null,
            "grid_row": null,
            "max_height": null,
            "align_content": null,
            "visibility": null,
            "align_self": null,
            "height": null,
            "min_height": null,
            "padding": null,
            "grid_auto_rows": null,
            "grid_gap": null,
            "max_width": null,
            "order": null,
            "_view_module_version": "1.2.0",
            "grid_template_areas": null,
            "object_position": null,
            "object_fit": null,
            "grid_auto_columns": null,
            "margin": null,
            "display": null,
            "left": null
          }
        },
        "eba29afd26574adbb19c92e6364de264": {
          "model_module": "@jupyter-widgets/controls",
          "model_name": "DescriptionStyleModel",
          "state": {
            "_view_name": "StyleView",
            "_model_name": "DescriptionStyleModel",
            "description_width": "",
            "_view_module": "@jupyter-widgets/base",
            "_model_module_version": "1.5.0",
            "_view_count": null,
            "_view_module_version": "1.2.0",
            "_model_module": "@jupyter-widgets/controls"
          }
        },
        "ea8d090380a145ceaafe4262bc34e72e": {
          "model_module": "@jupyter-widgets/base",
          "model_name": "LayoutModel",
          "state": {
            "_view_name": "LayoutView",
            "grid_template_rows": null,
            "right": null,
            "justify_content": null,
            "_view_module": "@jupyter-widgets/base",
            "overflow": null,
            "_model_module_version": "1.2.0",
            "_view_count": null,
            "flex_flow": null,
            "width": null,
            "min_width": null,
            "border": null,
            "align_items": null,
            "bottom": null,
            "_model_module": "@jupyter-widgets/base",
            "top": null,
            "grid_column": null,
            "overflow_y": null,
            "overflow_x": null,
            "grid_auto_flow": null,
            "grid_area": null,
            "grid_template_columns": null,
            "flex": null,
            "_model_name": "LayoutModel",
            "justify_items": null,
            "grid_row": null,
            "max_height": null,
            "align_content": null,
            "visibility": null,
            "align_self": null,
            "height": null,
            "min_height": null,
            "padding": null,
            "grid_auto_rows": null,
            "grid_gap": null,
            "max_width": null,
            "order": null,
            "_view_module_version": "1.2.0",
            "grid_template_areas": null,
            "object_position": null,
            "object_fit": null,
            "grid_auto_columns": null,
            "margin": null,
            "display": null,
            "left": null
          }
        }
      }
    }
  },
  "cells": [
    {
      "cell_type": "markdown",
      "metadata": {
        "id": "view-in-github",
        "colab_type": "text"
      },
      "source": [
        "<a href=\"https://colab.research.google.com/github/thanit456/NeuroSummary/blob/master/tf2_seq2seq.ipynb\" target=\"_parent\"><img src=\"https://colab.research.google.com/assets/colab-badge.svg\" alt=\"Open In Colab\"/></a>"
      ]
    },
    {
      "cell_type": "code",
      "metadata": {
        "id": "3I_74sVLkOas",
        "colab_type": "code",
        "colab": {}
      },
      "source": [
        "import tensorflow as tf\n",
        "\n",
        "import matplotlib.pyplot as plt\n",
        "import matplotlib.ticker as ticker\n",
        "from sklearn.model_selection import train_test_split\n",
        "\n",
        "\n",
        "import pickle\n",
        "import unicodedata\n",
        "import re\n",
        "import numpy as np\n",
        "import os\n",
        "import io\n",
        "import time"
      ],
      "execution_count": 0,
      "outputs": []
    },
    {
      "cell_type": "code",
      "metadata": {
        "id": "DclqMXRWgzEQ",
        "colab_type": "code",
        "outputId": "214a8a60-7c85-425e-cb40-8ab3ccd0b7f2",
        "colab": {
          "base_uri": "https://localhost:8080/",
          "height": 289
        }
      },
      "source": [
        "!wget https://github.com/Phonbopit/sarabun-webfont/raw/master/fonts/thsarabunnew-webfont.ttf\n",
        "import matplotlib.pyplot as plt\n",
        "\n",
        "import matplotlib as mpl\n",
        "mpl.font_manager.fontManager.addfont('thsarabunnew-webfont.ttf') # 3.2+\n",
        "mpl.rc('font', family='TH Sarabun New')\n",
        "\n",
        "plt.rcParams['font.family']='TH Sarabun New'  \n",
        "%matplotlib inline"
      ],
      "execution_count": 0,
      "outputs": [
        {
          "output_type": "stream",
          "text": [
            "--2020-05-19 20:11:34--  https://github.com/Phonbopit/sarabun-webfont/raw/master/fonts/thsarabunnew-webfont.ttf\n",
            "Resolving github.com (github.com)... 192.30.255.113\n",
            "Connecting to github.com (github.com)|192.30.255.113|:443... connected.\n",
            "HTTP request sent, awaiting response... 302 Found\n",
            "Location: https://raw.githubusercontent.com/Phonbopit/sarabun-webfont/master/fonts/thsarabunnew-webfont.ttf [following]\n",
            "--2020-05-19 20:11:34--  https://raw.githubusercontent.com/Phonbopit/sarabun-webfont/master/fonts/thsarabunnew-webfont.ttf\n",
            "Resolving raw.githubusercontent.com (raw.githubusercontent.com)... 151.101.0.133, 151.101.64.133, 151.101.128.133, ...\n",
            "Connecting to raw.githubusercontent.com (raw.githubusercontent.com)|151.101.0.133|:443... connected.\n",
            "HTTP request sent, awaiting response... 200 OK\n",
            "Length: 98308 (96K) [application/octet-stream]\n",
            "Saving to: ‘thsarabunnew-webfont.ttf.4’\n",
            "\n",
            "\r          thsarabun   0%[                    ]       0  --.-KB/s               \rthsarabunnew-webfon 100%[===================>]  96.00K  --.-KB/s    in 0.02s   \n",
            "\n",
            "2020-05-19 20:11:34 (5.25 MB/s) - ‘thsarabunnew-webfont.ttf.4’ saved [98308/98308]\n",
            "\n"
          ],
          "name": "stdout"
        }
      ]
    },
    {
      "cell_type": "markdown",
      "metadata": {
        "id": "ac-1l8f2ol8Y",
        "colab_type": "text"
      },
      "source": [
        "# My own data preparation"
      ]
    },
    {
      "cell_type": "code",
      "metadata": {
        "id": "GBizBXMZmYTj",
        "colab_type": "code",
        "colab": {}
      },
      "source": [
        "with open('/content/drive/Shared drives/NeuroSummary/data/b_data_playground/thai_gov_split/train_v2.pkl', 'rb') as f:\n",
        "  train_set = pickle.load(f)\n",
        "\n",
        "with open('/content/drive/Shared drives/NeuroSummary/data/b_data_playground/thai_gov_split/val_v2.pkl', 'rb') as f:\n",
        "  val_set = pickle.load(f)\n",
        "\n",
        "with open('/content/drive/Shared drives/NeuroSummary/data/b_data_playground/thai_gov_split/test_v2.pkl', 'rb') as f:\n",
        "  test_set = pickle.load(f)"
      ],
      "execution_count": 0,
      "outputs": []
    },
    {
      "cell_type": "code",
      "metadata": {
        "id": "GiBgSduzmt5J",
        "colab_type": "code",
        "outputId": "58c8b778-0aaf-496c-d0ea-84f0e74b82d1",
        "colab": {
          "base_uri": "https://localhost:8080/",
          "height": 204
        }
      },
      "source": [
        "train_set.head()"
      ],
      "execution_count": 0,
      "outputs": [
        {
          "output_type": "execute_result",
          "data": {
            "text/html": [
              "<div>\n",
              "<style scoped>\n",
              "    .dataframe tbody tr th:only-of-type {\n",
              "        vertical-align: middle;\n",
              "    }\n",
              "\n",
              "    .dataframe tbody tr th {\n",
              "        vertical-align: top;\n",
              "    }\n",
              "\n",
              "    .dataframe thead th {\n",
              "        text-align: right;\n",
              "    }\n",
              "</style>\n",
              "<table border=\"1\" class=\"dataframe\">\n",
              "  <thead>\n",
              "    <tr style=\"text-align: right;\">\n",
              "      <th></th>\n",
              "      <th>content</th>\n",
              "      <th>headline</th>\n",
              "      <th>class</th>\n",
              "    </tr>\n",
              "  </thead>\n",
              "  <tbody>\n",
              "    <tr>\n",
              "      <th>11629</th>\n",
              "      <td>[กระทรวงทรัพยากรธรรมชาติ, และสิ่ง, แวดล้อม, โด...</td>\n",
              "      <td>[ทส., จัด, การ, ประชุม, การ, ลด, ปริมาณ, ขยะ, ...</td>\n",
              "      <td>ด้านความมั่นคง</td>\n",
              "    </tr>\n",
              "    <tr>\n",
              "      <th>8470</th>\n",
              "      <td>[วัน, นี้, 28, มิถุนายน, 2560, เวลา, 11, ., 30...</td>\n",
              "      <td>[นายก, รัฐมนตรี, เผย, ต้องการ, ให้, การ, เปลี่...</td>\n",
              "      <td>ข่าวทำเนียบรัฐบาล</td>\n",
              "    </tr>\n",
              "    <tr>\n",
              "      <th>6389</th>\n",
              "      <td>[เมื่อ, วัน, จันทร์, ที่, 9, กรกฎาคม, 2561, เว...</td>\n",
              "      <td>[ม.ล.ปนัดดาฯ, กล่าว, สุนทรพจน์, ใน, พิธี, เปิด...</td>\n",
              "      <td>ด้านกฎหมายฯ</td>\n",
              "    </tr>\n",
              "    <tr>\n",
              "      <th>1058</th>\n",
              "      <td>[รอง, ปลัด, กระทรวงดิจิทัลฯ, นางวรรณพร เทพหัสด...</td>\n",
              "      <td>[รอง, ปลัด, กระทรวงดิจิทัลฯ, เปิด, งาน, การ, พ...</td>\n",
              "      <td>ด้านสังคม</td>\n",
              "    </tr>\n",
              "    <tr>\n",
              "      <th>6155</th>\n",
              "      <td>[รัฐบาล, เร่งรัด, ขับ, เคลื่อน, งาน, สำคัญ, เพ...</td>\n",
              "      <td>[เร่ง, เดินหน้า, 5, โครงการ, ลด, ความ, เหลื่อม...</td>\n",
              "      <td>รายการวิทยุไทยคู่ฟ้า</td>\n",
              "    </tr>\n",
              "  </tbody>\n",
              "</table>\n",
              "</div>"
            ],
            "text/plain": [
              "                                                 content  ...                 class\n",
              "11629  [กระทรวงทรัพยากรธรรมชาติ, และสิ่ง, แวดล้อม, โด...  ...        ด้านความมั่นคง\n",
              "8470   [วัน, นี้, 28, มิถุนายน, 2560, เวลา, 11, ., 30...  ...     ข่าวทำเนียบรัฐบาล\n",
              "6389   [เมื่อ, วัน, จันทร์, ที่, 9, กรกฎาคม, 2561, เว...  ...           ด้านกฎหมายฯ\n",
              "1058   [รอง, ปลัด, กระทรวงดิจิทัลฯ, นางวรรณพร เทพหัสด...  ...             ด้านสังคม\n",
              "6155   [รัฐบาล, เร่งรัด, ขับ, เคลื่อน, งาน, สำคัญ, เพ...  ...  รายการวิทยุไทยคู่ฟ้า\n",
              "\n",
              "[5 rows x 3 columns]"
            ]
          },
          "metadata": {
            "tags": []
          },
          "execution_count": 139
        }
      ]
    },
    {
      "cell_type": "code",
      "metadata": {
        "id": "HyKepj1KnYkC",
        "colab_type": "code",
        "colab": {}
      },
      "source": [
        "## ! use only n first words for headline generation\n",
        "def use_firt_n_words(df_content, n):\n",
        "  new_ls = []\n",
        "  for content in df_content:\n",
        "    new_ls.append(['<s>'] + content[:n] + ['</s>'])\n",
        "  return new_ls\n",
        "\n",
        "#define_n_first_words\n",
        "n_first_content = 50\n",
        "n_first_headline = 20\n",
        "\n",
        "#trim sentence\n",
        "words_train_contents = use_firt_n_words(train_set['content'], n=n_first_content)\n",
        "words_train_headlines = use_firt_n_words(train_set['headline'], n=n_first_headline)\n",
        "words_val_contents = use_firt_n_words(val_set['content'], n=n_first_content)\n",
        "words_val_headlines = use_firt_n_words(val_set['headline'], n=n_first_headline)\n",
        "words_test_contents = use_firt_n_words(test_set['content'], n=n_first_content)\n",
        "words_test_headlines = use_firt_n_words(test_set['headline'], n=n_first_headline)\n",
        "\n",
        "# generate gold_sum\n",
        "gold_sum_train = list(map(lambda x: \" \".join(x),words_train_headlines))\n",
        "gold_sum_val = list(map(lambda x: \" \".join(x),words_val_headlines))\n",
        "gold_sum_test = list(map(lambda x: \" \".join(x),words_test_headlines))"
      ],
      "execution_count": 0,
      "outputs": []
    },
    {
      "cell_type": "code",
      "metadata": {
        "id": "d9NaFhjyoQih",
        "colab_type": "code",
        "outputId": "40ee23ce-3386-4e4a-aad5-2a0648526354",
        "colab": {
          "base_uri": "https://localhost:8080/",
          "height": 204
        }
      },
      "source": [
        "import collections\n",
        "def create_index(input_data,threshold):\n",
        "    input_text = [data for data in input_data]\n",
        "    # counts of word type has to be above or equal threshold\n",
        "    words = [word for sublist in input_text for word in sublist]\n",
        "    print(\"words :\",words)\n",
        "    word_count_all = list()\n",
        "    word_count = list()\n",
        "    #use set and len to get the number of unique words\n",
        "    word_count_all.extend(collections.Counter(words).most_common(len(set(words))))\n",
        "    unkcnt = 0\n",
        "    for (word,cnt) in word_count_all:\n",
        "      if cnt >= threshold:\n",
        "        word_count.append((word,cnt))\n",
        "      else:\n",
        "        unkcnt+=cnt\n",
        "    #include a token for unknown word\n",
        "    word_count.append((\"UNK\",unkcnt))\n",
        "    #print out 10 most frequent words\n",
        "    # print(\"top 10: \",word_count[:10])\n",
        "    # print(\"bottom 10: \",word_count[-10:])\n",
        "    dictionary = dict()\n",
        "    dictionary[\"for_keras_zero_padding\"] = 0\n",
        "    for word in word_count:\n",
        "      dictionary[word[0]] = len(dictionary)\n",
        "    # dictionary['<s>'] = len(dictionary) \n",
        "    # dictionary['</s>'] = len(dictionary)\n",
        "    reverse_dictionary = dict(zip(dictionary.values(), dictionary.keys()))\n",
        "    \n",
        "    return dictionary, reverse_dictionary\n",
        "dict_t, rev_dict_t = create_index(input_data=words_train_contents+words_train_headlines,threshold=0)\n",
        "# dict_stop_t, rev_dict_stop_t = create_index(input_data=words_70_train_stop_contents+words_20_train_stop_headlines,threshold=0)\n",
        "print('Vocab size (Content): ',len(dict_t))\n",
        "# print('Vocab stop ?size (Content): ',len(dict_stop_t))\n"
      ],
      "execution_count": 0,
      "outputs": [
        {
          "output_type": "stream",
          "text": [
            "IOPub data rate exceeded.\n",
            "The notebook server will temporarily stop sending output\n",
            "to the client in order to avoid crashing it.\n",
            "To change this limit, set the config variable\n",
            "`--NotebookApp.iopub_data_rate_limit`.\n",
            "\n",
            "Current values:\n",
            "NotebookApp.iopub_data_rate_limit=1000000.0 (bytes/sec)\n",
            "NotebookApp.rate_limit_window=3.0 (secs)\n",
            "\n"
          ],
          "name": "stderr"
        },
        {
          "output_type": "stream",
          "text": [
            "Vocab size (Content):  25313\n"
          ],
          "name": "stdout"
        }
      ]
    },
    {
      "cell_type": "code",
      "metadata": {
        "id": "gLXP2Q0MoXxd",
        "colab_type": "code",
        "colab": {}
      },
      "source": [
        "def convert(input_data,dictionary) :\n",
        "  X = list()\n",
        "  for data in input_data:\n",
        "    sub_data = []\n",
        "    for word in data:\n",
        "      if word in dictionary:\n",
        "        sub_data.append(dictionary[word])\n",
        "      else:\n",
        "        sub_data.append(dictionary[\"UNK\"])\n",
        "    X.append(sub_data)\n",
        "  return np.array(X)"
      ],
      "execution_count": 0,
      "outputs": []
    },
    {
      "cell_type": "code",
      "metadata": {
        "id": "oywVf0IJoh0R",
        "colab_type": "code",
        "colab": {}
      },
      "source": [
        "X_train = convert(words_train_contents,dict_t)\n",
        "y_train = convert(words_train_headlines,dict_t)\n",
        "X_val = convert(words_val_contents,dict_t)\n",
        "y_val = convert(words_val_headlines,dict_t)\n",
        "X_test = convert(words_test_contents,dict_t)\n",
        "y_test = convert(words_test_headlines,dict_t)"
      ],
      "execution_count": 0,
      "outputs": []
    },
    {
      "cell_type": "code",
      "metadata": {
        "id": "SYItOIK1ppV8",
        "colab_type": "code",
        "colab": {}
      },
      "source": [
        "from tensorflow.keras.preprocessing.sequence import pad_sequences\n",
        "\n",
        "maxlen_input = 50\n",
        "maxlen_output = 20\n",
        "\n",
        "X_train = pad_sequences(X_train, maxlen=maxlen_input, padding='post')\n",
        "y_train = pad_sequences(y_train, maxlen=maxlen_output, padding='post')\n",
        "X_val = pad_sequences(X_val, maxlen=maxlen_input, padding='post')\n",
        "y_val = pad_sequences(y_val, maxlen=maxlen_output, padding='post')\n",
        "X_test = pad_sequences(X_test, maxlen=maxlen_input, padding='post')\n",
        "y_test = pad_sequences(y_test, maxlen=maxlen_output, padding='post')"
      ],
      "execution_count": 0,
      "outputs": []
    },
    {
      "cell_type": "markdown",
      "metadata": {
        "id": "ySfS2GaJb2eZ",
        "colab_type": "text"
      },
      "source": [
        "# TF 2.0 data preparation"
      ]
    },
    {
      "cell_type": "code",
      "metadata": {
        "id": "sX_mhTL6kp0J",
        "colab_type": "code",
        "colab": {}
      },
      "source": [
        "BUFFER_SIZE = len(X_train)\n",
        "BATCH_SIZE = 64\n",
        "VAL_BATCH_SIZE = 64\n",
        "VAL_BUFFER_SIZE = len(X_val)\n",
        "steps_per_epoch = len(X_train)//BATCH_SIZE\n",
        "val_steps_per_epoch = len(X_val)//VAL_BATCH_SIZE\n",
        "embedding_dim = 256\n",
        "units = 1024\n",
        "vocab_inp_size = len(dict_t)\n",
        "vocab_tar_size = len(dict_t)\n",
        "\n",
        "dataset = tf.data.Dataset.from_tensor_slices((X_train, y_train)).shuffle(BUFFER_SIZE)\n",
        "dataset = dataset.batch(BATCH_SIZE, drop_remainder=True)"
      ],
      "execution_count": 0,
      "outputs": []
    },
    {
      "cell_type": "code",
      "metadata": {
        "id": "lLMxeodJUW4C",
        "colab_type": "code",
        "colab": {}
      },
      "source": [
        "val_dataset = tf.data.Dataset.from_tensor_slices((X_val, y_val)).shuffle(VAL_BUFFER_SIZE)\n",
        "val_dataset = val_dataset.batch(VAL_BATCH_SIZE, drop_remainder=True)"
      ],
      "execution_count": 0,
      "outputs": []
    },
    {
      "cell_type": "code",
      "metadata": {
        "id": "AEfgLUCkU2Id",
        "colab_type": "code",
        "outputId": "2d968e8a-07a4-4f98-ba2c-5dbea9ab498f",
        "colab": {
          "base_uri": "https://localhost:8080/",
          "height": 34
        }
      },
      "source": [
        "val_example_input_batch, val_example_target_batch = next(iter(val_dataset))\n",
        "val_example_input_batch.shape, val_example_target_batch.shape"
      ],
      "execution_count": 0,
      "outputs": [
        {
          "output_type": "execute_result",
          "data": {
            "text/plain": [
              "(TensorShape([64, 50]), TensorShape([64, 20]))"
            ]
          },
          "metadata": {
            "tags": []
          },
          "execution_count": 147
        }
      ]
    },
    {
      "cell_type": "code",
      "metadata": {
        "id": "NC2QzEqDksWA",
        "colab_type": "code",
        "outputId": "9e0bcf9b-dafb-46c7-8ac2-24bde883ddaf",
        "colab": {
          "base_uri": "https://localhost:8080/",
          "height": 34
        }
      },
      "source": [
        "example_input_batch, example_target_batch = next(iter(dataset))\n",
        "example_input_batch.shape, example_target_batch.shape"
      ],
      "execution_count": 0,
      "outputs": [
        {
          "output_type": "execute_result",
          "data": {
            "text/plain": [
              "(TensorShape([64, 50]), TensorShape([64, 20]))"
            ]
          },
          "metadata": {
            "tags": []
          },
          "execution_count": 148
        }
      ]
    },
    {
      "cell_type": "code",
      "metadata": {
        "id": "QlOkn2uMkt4Q",
        "colab_type": "code",
        "colab": {}
      },
      "source": [
        "class Encoder(tf.keras.Model):\n",
        "  def __init__(self, vocab_size, embedding_dim, enc_units, batch_sz):\n",
        "    super(Encoder, self).__init__()\n",
        "    self.batch_sz = batch_sz\n",
        "    self.enc_units = enc_units\n",
        "    self.embedding = tf.keras.layers.Embedding(vocab_size, embedding_dim)\n",
        "    self.gru = tf.keras.layers.GRU(self.enc_units,\n",
        "                                   return_sequences=True,\n",
        "                                   return_state=True,\n",
        "                                   recurrent_initializer='glorot_uniform')\n",
        "\n",
        "  def call(self, x, hidden):\n",
        "    x = self.embedding(x)\n",
        "    output, state = self.gru(x, initial_state = hidden)\n",
        "    return output, state\n",
        "\n",
        "  def initialize_hidden_state(self):\n",
        "    return tf.zeros((self.batch_sz, self.enc_units))"
      ],
      "execution_count": 0,
      "outputs": []
    },
    {
      "cell_type": "code",
      "metadata": {
        "id": "YUE-AfmOaHHh",
        "colab_type": "code",
        "outputId": "92786156-5663-4b61-dd93-92d34510dd2c",
        "colab": {
          "base_uri": "https://localhost:8080/",
          "height": 85
        }
      },
      "source": [
        "print(vocab_inp_size)\n",
        "print(embedding_dim)\n",
        "print(units)\n",
        "print(BATCH_SIZE)"
      ],
      "execution_count": 0,
      "outputs": [
        {
          "output_type": "stream",
          "text": [
            "25313\n",
            "256\n",
            "1024\n",
            "64\n"
          ],
          "name": "stdout"
        }
      ]
    },
    {
      "cell_type": "code",
      "metadata": {
        "id": "AYqEmfJnWGbX",
        "colab_type": "code",
        "colab": {}
      },
      "source": [
        ""
      ],
      "execution_count": 0,
      "outputs": []
    },
    {
      "cell_type": "code",
      "metadata": {
        "id": "TEwHO5I6kvvj",
        "colab_type": "code",
        "outputId": "8bd5e34b-466a-4e5d-ddd1-bb2e54df3d76",
        "colab": {
          "base_uri": "https://localhost:8080/",
          "height": 51
        }
      },
      "source": [
        "encoder = Encoder(vocab_inp_size, embedding_dim, units, BATCH_SIZE)\n",
        "\n",
        "# sample input\n",
        "sample_hidden = encoder.initialize_hidden_state()\n",
        "sample_output, sample_hidden = encoder(example_input_batch, sample_hidden)\n",
        "print ('Encoder output shape: (batch size, sequence length, units) {}'.format(sample_output.shape))\n",
        "print ('Encoder Hidden state shape: (batch size, units) {}'.format(sample_hidden.shape))"
      ],
      "execution_count": 0,
      "outputs": [
        {
          "output_type": "stream",
          "text": [
            "Encoder output shape: (batch size, sequence length, units) (64, 50, 1024)\n",
            "Encoder Hidden state shape: (batch size, units) (64, 1024)\n"
          ],
          "name": "stdout"
        }
      ]
    },
    {
      "cell_type": "code",
      "metadata": {
        "id": "lEiqYV-4aW0W",
        "colab_type": "code",
        "outputId": "53dff743-da11-49b2-b14c-ee9dcbecefc9",
        "colab": {
          "base_uri": "https://localhost:8080/",
          "height": 51
        }
      },
      "source": [
        "# sample input\n",
        "sample_hidden = encoder.initialize_hidden_state()\n",
        "print(sample_hidden.shape)\n",
        "print(example_input_batch.shape)"
      ],
      "execution_count": 0,
      "outputs": [
        {
          "output_type": "stream",
          "text": [
            "(64, 1024)\n",
            "(64, 50)\n"
          ],
          "name": "stdout"
        }
      ]
    },
    {
      "cell_type": "code",
      "metadata": {
        "id": "ZlTq-DvlkxKk",
        "colab_type": "code",
        "colab": {}
      },
      "source": [
        "class BahdanauAttention(tf.keras.layers.Layer):\n",
        "  def __init__(self, units):\n",
        "    super(BahdanauAttention, self).__init__()\n",
        "    self.W1 = tf.keras.layers.Dense(units)\n",
        "    self.W2 = tf.keras.layers.Dense(units)\n",
        "    self.V = tf.keras.layers.Dense(1)\n",
        "\n",
        "  def call(self, query, values):\n",
        "    # query hidden state shape == (batch_size, hidden size)\n",
        "    # query_with_time_axis shape == (batch_size, 1, hidden size)\n",
        "    # values shape == (batch_size, max_len, hidden size)\n",
        "    # we are doing this to broadcast addition along the time axis to calculate the score\n",
        "    query_with_time_axis = tf.expand_dims(query, 1)\n",
        "\n",
        "    # score shape == (batch_size, max_length, 1)\n",
        "    # we get 1 at the last axis because we are applying score to self.V\n",
        "    # the shape of the tensor before applying self.V is (batch_size, max_length, units)\n",
        "    score = self.V(tf.nn.tanh(\n",
        "        self.W1(query_with_time_axis) + self.W2(values)))\n",
        "\n",
        "    # attention_weights shape == (batch_size, max_length, 1)\n",
        "    attention_weights = tf.nn.softmax(score, axis=1)\n",
        "\n",
        "    # context_vector shape after sum == (batch_size, hidden_size)\n",
        "    context_vector = attention_weights * values\n",
        "    context_vector = tf.reduce_sum(context_vector, axis=1)\n",
        "\n",
        "    return context_vector, attention_weights"
      ],
      "execution_count": 0,
      "outputs": []
    },
    {
      "cell_type": "code",
      "metadata": {
        "id": "0zEjs03zkzKQ",
        "colab_type": "code",
        "outputId": "1f6a8660-9661-458f-f4a8-75e26067dee6",
        "colab": {
          "base_uri": "https://localhost:8080/",
          "height": 51
        }
      },
      "source": [
        "attention_layer = BahdanauAttention(20)\n",
        "attention_result, attention_weights = attention_layer(sample_hidden, sample_output)\n",
        "\n",
        "print(\"Attention result shape: (batch size, units) {}\".format(attention_result.shape))\n",
        "print(\"Attention weights shape: (batch_size, sequence_length, 1) {}\".format(attention_weights.shape))"
      ],
      "execution_count": 0,
      "outputs": [
        {
          "output_type": "stream",
          "text": [
            "Attention result shape: (batch size, units) (64, 1024)\n",
            "Attention weights shape: (batch_size, sequence_length, 1) (64, 50, 1)\n"
          ],
          "name": "stdout"
        }
      ]
    },
    {
      "cell_type": "code",
      "metadata": {
        "id": "_G6OZ1lWk01-",
        "colab_type": "code",
        "colab": {}
      },
      "source": [
        "class Decoder(tf.keras.Model):\n",
        "  def __init__(self, vocab_size, embedding_dim, dec_units, batch_sz):\n",
        "    super(Decoder, self).__init__()\n",
        "    self.batch_sz = batch_sz\n",
        "    self.dec_units = dec_units\n",
        "    self.embedding = tf.keras.layers.Embedding(vocab_size, embedding_dim)\n",
        "    self.gru = tf.keras.layers.GRU(self.dec_units,\n",
        "                                   return_sequences=True,\n",
        "                                   return_state=True,\n",
        "                                   recurrent_initializer='glorot_uniform')\n",
        "    self.fc = tf.keras.layers.Dense(vocab_size)\n",
        "\n",
        "    # used for attention\n",
        "    self.attention = BahdanauAttention(self.dec_units)\n",
        "\n",
        "  def call(self, x, hidden, enc_output):\n",
        "    # enc_output shape == (batch_size, max_length, hidden_size)\n",
        "    context_vector, attention_weights = self.attention(hidden, enc_output)\n",
        "\n",
        "    # x shape after passing through embedding == (batch_size, 1, embedding_dim)\n",
        "    x = self.embedding(x)\n",
        "\n",
        "    # x shape after concatenation == (batch_size, 1, embedding_dim + hidden_size)\n",
        "    x = tf.concat([tf.expand_dims(context_vector, 1), x], axis=-1)\n",
        "\n",
        "    # passing the concatenated vector to the GRU\n",
        "    output, state = self.gru(x)\n",
        "\n",
        "    # output shape == (batch_size * 1, hidden_size)\n",
        "    output = tf.reshape(output, (-1, output.shape[2]))\n",
        "\n",
        "    # output shape == (batch_size, vocab)\n",
        "    x = self.fc(output)\n",
        "\n",
        "    return x, state, attention_weights"
      ],
      "execution_count": 0,
      "outputs": []
    },
    {
      "cell_type": "code",
      "metadata": {
        "id": "RklTuaFqk3B0",
        "colab_type": "code",
        "outputId": "bc4b21e5-a712-4b0c-cbb1-6cb6d239a43a",
        "colab": {
          "base_uri": "https://localhost:8080/",
          "height": 34
        }
      },
      "source": [
        "decoder = Decoder(vocab_tar_size, embedding_dim, units, BATCH_SIZE)\n",
        "\n",
        "sample_decoder_output, _, _ = decoder(tf.random.uniform((BATCH_SIZE, 1)),\n",
        "                                      sample_hidden, sample_output)\n",
        "\n",
        "print ('Decoder output shape: (batch_size, vocab size) {}'.format(sample_decoder_output.shape))"
      ],
      "execution_count": 0,
      "outputs": [
        {
          "output_type": "stream",
          "text": [
            "Decoder output shape: (batch_size, vocab size) (64, 25313)\n"
          ],
          "name": "stdout"
        }
      ]
    },
    {
      "cell_type": "code",
      "metadata": {
        "id": "8r3VzoTAk4ug",
        "colab_type": "code",
        "colab": {}
      },
      "source": [
        "optimizer = tf.keras.optimizers.Adam()\n",
        "loss_object = tf.keras.losses.SparseCategoricalCrossentropy(\n",
        "    from_logits=True, reduction='none')\n",
        "\n",
        "def loss_function(real, pred):\n",
        "  mask = tf.math.logical_not(tf.math.equal(real, 0))\n",
        "  loss_ = loss_object(real, pred)\n",
        "\n",
        "  mask = tf.cast(mask, dtype=loss_.dtype)\n",
        "  loss_ *= mask\n",
        "\n",
        "  return tf.reduce_mean(loss_)"
      ],
      "execution_count": 0,
      "outputs": []
    },
    {
      "cell_type": "code",
      "metadata": {
        "id": "liuxYPX5k6kF",
        "colab_type": "code",
        "colab": {}
      },
      "source": [
        "checkpoint_dir = './training_checkpoints_scheduled_sampling'\n",
        "checkpoint_prefix = os.path.join(checkpoint_dir, \"ckpt\")\n",
        "checkpoint = tf.train.Checkpoint(optimizer=optimizer,\n",
        "                                 encoder=encoder,\n",
        "                                 decoder=decoder)"
      ],
      "execution_count": 0,
      "outputs": []
    },
    {
      "cell_type": "markdown",
      "metadata": {
        "id": "zjfyXOUdGtDG",
        "colab_type": "text"
      },
      "source": [
        "# Teacher forcing"
      ]
    },
    {
      "cell_type": "code",
      "metadata": {
        "id": "aE3LfZrRk8UG",
        "colab_type": "code",
        "colab": {}
      },
      "source": [
        "@tf.function\n",
        "def train_step(inp, targ, enc_hidden):\n",
        "  loss = 0\n",
        "\n",
        "  with tf.GradientTape() as tape:\n",
        "    enc_output, enc_hidden = encoder(inp, enc_hidden)\n",
        "\n",
        "    dec_hidden = enc_hidden\n",
        "\n",
        "    dec_input = tf.expand_dims([dict_t['<s>']] * BATCH_SIZE, 1)\n",
        "\n",
        "    # Teacher forcing - feeding the target as the next input\n",
        "    for t in range(1, targ.shape[1]):\n",
        "\n",
        "      # passing enc_output to the decoder\n",
        "      predictions, dec_hidden, _ = decoder(dec_input, dec_hidden, enc_output)\n",
        "\n",
        "      loss += loss_function(targ[:, t], predictions)\n",
        "\n",
        "      # using teacher forcing\n",
        "      dec_input = tf.expand_dims(targ[:, t], 1)\n",
        "\n",
        "  batch_loss = (loss / int(targ.shape[1]))\n",
        "\n",
        "  variables = encoder.trainable_variables + decoder.trainable_variables\n",
        "\n",
        "  gradients = tape.gradient(loss, variables)\n",
        "\n",
        "  optimizer.apply_gradients(zip(gradients, variables))\n",
        "\n",
        "  return batch_loss\n",
        "\n",
        "@tf.function\n",
        "def val_step(inp, targ, enc_hidden):\n",
        "  loss = 0\n",
        "\n",
        "  with tf.GradientTape() as tape:\n",
        "    enc_output, enc_hidden = encoder(inp, enc_hidden)\n",
        "\n",
        "    dec_hidden = enc_hidden\n",
        "\n",
        "    dec_input = tf.expand_dims([dict_t['<s>']] * BATCH_SIZE, 1)\n",
        "\n",
        "    # Teacher forcing - feeding the target as the next input\n",
        "    for t in range(1, targ.shape[1]):\n",
        "\n",
        "      # passing enc_output to the decoder\n",
        "      predictions, dec_hidden, _ = decoder(dec_input, dec_hidden, enc_output)\n",
        "\n",
        "      loss += loss_function(targ[:, t], predictions)\n",
        "\n",
        "      # using teacher forcing\n",
        "      dec_input = tf.expand_dims(targ[:, t], 1)\n",
        "\n",
        "  batch_loss = (loss / int(targ.shape[1]))\n",
        "\n",
        "  return batch_loss\n"
      ],
      "execution_count": 0,
      "outputs": []
    },
    {
      "cell_type": "code",
      "metadata": {
        "id": "jc-BT58bOi6i",
        "colab_type": "code",
        "colab": {}
      },
      "source": [
        "from tqdm import tqdm_notebook\n",
        "EPOCHS = 10\n",
        "\n",
        "for epoch in range(EPOCHS):\n",
        "  start = time.time()\n",
        "\n",
        "\n",
        "  enc_hidden = encoder.initialize_hidden_state()\n",
        "  total_loss = 0\n",
        "  val_total_loss = 0\n",
        "\n",
        "\n",
        "  for (batch, (inp, targ)) in enumerate(dataset.take(steps_per_epoch)):\n",
        "\n",
        "    batch_loss = train_step(inp, targ, enc_hidden)\n",
        "    total_loss += batch_loss\n",
        "\n",
        "    if batch % 50 == 0:\n",
        "      print('Epoch {} Batch {} Loss {:.4f}'.format(epoch + 1,\n",
        "                                                   batch,\n",
        "                                                   batch_loss.numpy()))\n",
        "  for (batch, (val_inp, val_targ)) in enumerate(val_dataset.take(val_steps_per_epoch)):\n",
        "    val_batch_loss = val_step(val_inp, val_targ, enc_hidden)\n",
        "    val_total_loss += val_batch_loss\n",
        "  \n",
        "  # saving (checkpoint) the model every 10 epochs\n",
        "  if (epoch + 1) % 10 == 0:\n",
        "    checkpoint.save(file_prefix = checkpoint_prefix)\n",
        "\n",
        "  print('Epoch {} Loss {:.4f}'.format(epoch + 1,\n",
        "                                      total_loss / steps_per_epoch), end=', ')\n",
        "  print('Val loss {:.4f}'.format(val_total_loss / val_steps_per_epoch))\n",
        "  print('Time taken for 1 epoch {} sec\\n'.format(time.time() - start))"
      ],
      "execution_count": 0,
      "outputs": []
    },
    {
      "cell_type": "markdown",
      "metadata": {
        "id": "n_gxfhscI2xc",
        "colab_type": "text"
      },
      "source": [
        "# Scheduled sampling\n"
      ]
    },
    {
      "cell_type": "code",
      "metadata": {
        "id": "o0Q25A9tKg0F",
        "colab_type": "code",
        "colab": {}
      },
      "source": [
        "@tf.function\n",
        "def train_step(inp, targ, enc_hidden, it):\n",
        "  loss = 0\n",
        "  epsilon = 0.9999999\n",
        "  k = 3\n",
        "  c = 0.1\n",
        "\n",
        "\n",
        "  with tf.GradientTape() as tape:\n",
        "    enc_output, enc_hidden = encoder(inp, enc_hidden)\n",
        "\n",
        "    dec_hidden = enc_hidden\n",
        "\n",
        "    dec_input = tf.expand_dims([dict_t['<s>']] * BATCH_SIZE, 1)\n",
        "\n",
        "    eps = tf.math.maximum(epsilon, k-c*it)\n",
        "\n",
        "    # Teacher forcing - feeding the target as the next input\n",
        "    for t in range(1, targ.shape[1]):\n",
        "\n",
        "      # passing enc_output to the decoder\n",
        "      predictions, dec_hidden, _ = decoder(dec_input, dec_hidden, enc_output)\n",
        "\n",
        "      loss += loss_function(targ[:, t], predictions)\n",
        "\n",
        "      _x = tf.random.uniform(shape=[], minval=0,maxval=1)\n",
        "      if _x < eps:\n",
        "        # using teacher forcing\n",
        "        dec_input = tf.expand_dims(targ[:, t], 1)\n",
        "      else:\n",
        "        # dont use teacher forcing\n",
        "        # print(predictions)\n",
        "        # print(tf.math.argmax(predictions, axis=1))\n",
        "        dec_input = tf.cast(tf.expand_dims(tf.math.argmax(predictions, axis=1), 1), dtype=tf.int32)\n",
        "\n",
        "  batch_loss = (loss / int(targ.shape[1]))\n",
        "\n",
        "  variables = encoder.trainable_variables + decoder.trainable_variables\n",
        "\n",
        "  gradients = tape.gradient(loss, variables)\n",
        "\n",
        "  optimizer.apply_gradients(zip(gradients, variables))\n",
        "\n",
        "  return batch_loss\n",
        "\n",
        "@tf.function\n",
        "def val_step(inp, targ, enc_hidden):\n",
        "  loss = 0\n",
        "\n",
        "  with tf.GradientTape() as tape:\n",
        "    enc_output, enc_hidden = encoder(inp, enc_hidden)\n",
        "\n",
        "    dec_hidden = enc_hidden\n",
        "\n",
        "    dec_input = tf.expand_dims([dict_t['<s>']] * BATCH_SIZE, 1)\n",
        "\n",
        "    # Teacher forcing - feeding the target as the next input\n",
        "    for t in range(1, targ.shape[1]):\n",
        "\n",
        "      # passing enc_output to the decoder\n",
        "      predictions, dec_hidden, _ = decoder(dec_input, dec_hidden, enc_output)\n",
        "\n",
        "      loss += loss_function(targ[:, t], predictions)\n",
        "\n",
        "      # using teacher forcing\n",
        "      dec_input = tf.expand_dims(targ[:, t], 1)\n",
        "\n",
        "  batch_loss = (loss / int(targ.shape[1]))\n",
        "\n",
        "  return batch_loss\n"
      ],
      "execution_count": 0,
      "outputs": []
    },
    {
      "cell_type": "code",
      "metadata": {
        "id": "A84MC18sOYz1",
        "colab_type": "code",
        "outputId": "7ffecc8d-4687-49c9-dfff-2305ce33878c",
        "colab": {
          "base_uri": "https://localhost:8080/",
          "height": 1000
        }
      },
      "source": [
        "from tqdm import tqdm_notebook\n",
        "EPOCHS = 10\n",
        "\n",
        "for epoch in range(EPOCHS):\n",
        "  start = time.time()\n",
        "\n",
        "\n",
        "  enc_hidden = encoder.initialize_hidden_state()\n",
        "  total_loss = 0\n",
        "  val_total_loss = 0\n",
        "\n",
        "\n",
        "  for (batch, (inp, targ)) in enumerate(dataset.take(steps_per_epoch)):\n",
        "\n",
        "    batch_loss = train_step(inp, targ, enc_hidden, epoch)\n",
        "    total_loss += batch_loss\n",
        "\n",
        "    if batch % 50 == 0:\n",
        "      print('Epoch {} Batch {} Loss {:.4f}'.format(epoch + 1,\n",
        "                                                   batch,\n",
        "                                                   batch_loss.numpy()))\n",
        "  for (batch, (val_inp, val_targ)) in enumerate(val_dataset.take(val_steps_per_epoch)):\n",
        "    val_batch_loss = val_step(val_inp, val_targ, enc_hidden)\n",
        "    val_total_loss += val_batch_loss\n",
        "  \n",
        "  # saving (checkpoint) the model every 10 epochs\n",
        "  if (epoch + 1) % 10 == 0:\n",
        "    checkpoint.save(file_prefix = checkpoint_prefix)\n",
        "\n",
        "  print('Epoch {} Loss {:.4f}'.format(epoch + 1,\n",
        "                                      total_loss / steps_per_epoch), end=', ')\n",
        "  print('Val loss {:.4f}'.format(val_total_loss / val_steps_per_epoch))\n",
        "  print('Time taken for 1 epoch {} sec\\n'.format(time.time() - start))"
      ],
      "execution_count": 0,
      "outputs": [
        {
          "output_type": "stream",
          "text": [
            "Epoch 1 Batch 0 Loss 8.1588\n",
            "Epoch 1 Batch 50 Loss 5.7090\n",
            "Epoch 1 Batch 100 Loss 5.4567\n",
            "Epoch 1 Batch 150 Loss 5.5036\n",
            "Epoch 1 Loss 5.6833, Val loss 5.4745\n",
            "Time taken for 1 epoch 85.2891309261322 sec\n",
            "\n",
            "Epoch 2 Batch 0 Loss 5.3380\n",
            "Epoch 2 Batch 50 Loss 4.9778\n",
            "Epoch 2 Batch 100 Loss 4.8725\n",
            "Epoch 2 Batch 150 Loss 4.7886\n",
            "Epoch 2 Loss 5.0528, Val loss 4.7663\n",
            "Time taken for 1 epoch 61.56448531150818 sec\n",
            "\n",
            "Epoch 3 Batch 0 Loss 4.2595\n",
            "Epoch 3 Batch 50 Loss 4.4805\n",
            "Epoch 3 Batch 100 Loss 4.4802\n",
            "Epoch 3 Batch 150 Loss 4.1096\n",
            "Epoch 3 Loss 4.3575, Val loss 4.3397\n",
            "Time taken for 1 epoch 62.042478799819946 sec\n",
            "\n",
            "Epoch 4 Batch 0 Loss 4.0784\n",
            "Epoch 4 Batch 50 Loss 3.9081\n",
            "Epoch 4 Batch 100 Loss 3.9292\n",
            "Epoch 4 Batch 150 Loss 3.6772\n",
            "Epoch 4 Loss 3.8807, Val loss 4.0960\n",
            "Time taken for 1 epoch 62.008618116378784 sec\n",
            "\n",
            "Epoch 5 Batch 0 Loss 3.7025\n",
            "Epoch 5 Batch 50 Loss 3.2536\n",
            "Epoch 5 Batch 100 Loss 3.1784\n",
            "Epoch 5 Batch 150 Loss 3.3773\n",
            "Epoch 5 Loss 3.4919, Val loss 3.9394\n",
            "Time taken for 1 epoch 61.29388499259949 sec\n",
            "\n",
            "Epoch 6 Batch 0 Loss 3.1875\n",
            "Epoch 6 Batch 50 Loss 3.0716\n",
            "Epoch 6 Batch 100 Loss 3.2884\n",
            "Epoch 6 Batch 150 Loss 3.2603\n",
            "Epoch 6 Loss 3.1645, Val loss 3.8560\n",
            "Time taken for 1 epoch 62.01043343544006 sec\n",
            "\n",
            "Epoch 7 Batch 0 Loss 2.7830\n",
            "Epoch 7 Batch 50 Loss 2.7553\n",
            "Epoch 7 Batch 100 Loss 3.2344\n",
            "Epoch 7 Batch 150 Loss 3.1759\n",
            "Epoch 7 Loss 2.8833, Val loss 3.8221\n",
            "Time taken for 1 epoch 61.276437282562256 sec\n",
            "\n",
            "Epoch 8 Batch 0 Loss 2.5203\n",
            "Epoch 8 Batch 50 Loss 2.6690\n",
            "Epoch 8 Batch 100 Loss 2.5368\n",
            "Epoch 8 Batch 150 Loss 2.6916\n",
            "Epoch 8 Loss 2.6264, Val loss 3.8160\n",
            "Time taken for 1 epoch 62.290931940078735 sec\n",
            "\n",
            "Epoch 9 Batch 0 Loss 2.3143\n",
            "Epoch 9 Batch 50 Loss 2.3584\n",
            "Epoch 9 Batch 100 Loss 2.3035\n",
            "Epoch 9 Batch 150 Loss 2.3392\n",
            "Epoch 9 Loss 2.3860, Val loss 3.8366\n",
            "Time taken for 1 epoch 62.91480541229248 sec\n",
            "\n",
            "Epoch 10 Batch 0 Loss 2.0225\n",
            "Epoch 10 Batch 50 Loss 2.1268\n",
            "Epoch 10 Batch 100 Loss 2.3629\n",
            "Epoch 10 Batch 150 Loss 2.3460\n",
            "Epoch 10 Loss 2.1576, Val loss 3.8556\n",
            "Time taken for 1 epoch 63.46512484550476 sec\n",
            "\n"
          ],
          "name": "stdout"
        }
      ]
    },
    {
      "cell_type": "markdown",
      "metadata": {
        "id": "0f-9WC_-Khu1",
        "colab_type": "text"
      },
      "source": [
        "# Generation"
      ]
    },
    {
      "cell_type": "code",
      "metadata": {
        "id": "zPBuOwPUlAFU",
        "colab_type": "code",
        "colab": {}
      },
      "source": [
        "def evaluate(sentence):\n",
        "  attention_plot = np.zeros((maxlen_output, maxlen_input))\n",
        "\n",
        "  inputs = sentence.reshape(1, maxlen_input)\n",
        "  # sentence = preprocess_sentence(sentence)\n",
        "\n",
        "  # inputs = [rev_dict_t[i] for i in sentence.split(' ')]\n",
        "  # inputs = tf.keras.preprocessing.sequence.pad_sequences([inputs],\n",
        "  #                                                        maxlen=max_length_inp,\n",
        "  #                                                        padding='post')\n",
        "  inputs = tf.convert_to_tensor(inputs)\n",
        "\n",
        "  result = '<s> '\n",
        "\n",
        "  hidden = [tf.zeros((1, units))]\n",
        "  enc_out, enc_hidden = encoder(inputs, hidden)\n",
        "\n",
        "  dec_hidden = enc_hidden\n",
        "  dec_input = tf.expand_dims([dict_t['<s>']], 0)\n",
        "\n",
        "  for t in range(maxlen_output):\n",
        "    predictions, dec_hidden, attention_weights = decoder(dec_input,\n",
        "                                                         dec_hidden,\n",
        "                                                         enc_out)\n",
        "\n",
        "    # storing the attention weights to plot later on\n",
        "    attention_weights = tf.reshape(attention_weights, (-1, ))\n",
        "    attention_plot[t] = attention_weights.numpy()\n",
        "\n",
        "    predicted_id = tf.argmax(predictions[0]).numpy()\n",
        "\n",
        "    result += rev_dict_t[predicted_id] + ' '\n",
        "\n",
        "    if rev_dict_t[predicted_id] == '</s>':\n",
        "      return result, sentence, attention_plot\n",
        "\n",
        "    # the predicted ID is fed back into the model\n",
        "    dec_input = tf.expand_dims([predicted_id], 0)\n",
        "\n",
        "  return result, sentence, attention_plot"
      ],
      "execution_count": 0,
      "outputs": []
    },
    {
      "cell_type": "code",
      "metadata": {
        "id": "4XOKuwY4lCSj",
        "colab_type": "code",
        "colab": {}
      },
      "source": [
        "# function for plotting the attention weights\n",
        "def plot_attention(attention, sentence, predicted_sentence):\n",
        "  fig = plt.figure(figsize=(10,10))\n",
        "  ax = fig.add_subplot(1, 1, 1)\n",
        "  ax.matshow(attention, cmap='viridis')\n",
        "\n",
        "  fontdict = {'fontsize': 14}\n",
        "\n",
        "  ax.set_xticklabels([''] + sentence, fontdict=fontdict, rotation=90)\n",
        "  ax.set_yticklabels([''] + predicted_sentence, fontdict=fontdict)\n",
        "\n",
        "  ax.xaxis.set_major_locator(ticker.MultipleLocator(1))\n",
        "  ax.yaxis.set_major_locator(ticker.MultipleLocator(1))\n",
        "   \n",
        "  plt.show()"
      ],
      "execution_count": 0,
      "outputs": []
    },
    {
      "cell_type": "code",
      "metadata": {
        "id": "oot50W0ilDtQ",
        "colab_type": "code",
        "colab": {}
      },
      "source": [
        "import seaborn as sns\n",
        "def index2sentence(indexes):\n",
        "  result = ''\n",
        "  for i, index in enumerate(indexes):\n",
        "    result += rev_dict_t[index] + ' '\n",
        "\n",
        "    if rev_dict_t[index] == '</s>':\n",
        "      return result\n",
        "    \n",
        "  return result\n",
        "\n",
        "def translate(sentence, plot=True):\n",
        "  result, sentence, attention_plot = evaluate(sentence)\n",
        "\n",
        "  if not plot:\n",
        "    return result\n",
        "\n",
        "  print('Input: %s' % (sentence))\n",
        "  print('prediction : {}'.format(result))\n",
        "  \n",
        "  \n",
        "  sentence = index2sentence(sentence)\n",
        "  \n",
        "  if plot:\n",
        "    attention_plot = attention_plot[:len(result.split(' ')), :len(sentence.split(' '))]\n",
        "    # plot_attention(attention_plot, sentence.split(' '), result.split(' '))\n",
        "    plt.figure(figsize=(20,10))\n",
        "    sns.heatmap(attention_plot, yticklabels = result.split(' '), xticklabels = sentence.split(' '), linewidths=0.01)\n",
        "    plt.show()"
      ],
      "execution_count": 0,
      "outputs": []
    },
    {
      "cell_type": "code",
      "metadata": {
        "id": "K65Z0UQMlHDm",
        "colab_type": "code",
        "outputId": "09a14857-d865-417c-e329-d1b1a8fbbaf2",
        "colab": {
          "base_uri": "https://localhost:8080/",
          "height": 34
        }
      },
      "source": [
        "# restoring the latest checkpoint in checkpoint_dir\n",
        "checkpoint.restore(tf.train.latest_checkpoint(checkpoint_dir))"
      ],
      "execution_count": 0,
      "outputs": [
        {
          "output_type": "execute_result",
          "data": {
            "text/plain": [
              "<tensorflow.python.training.tracking.util.CheckpointLoadStatus at 0x7fafa655f9b0>"
            ]
          },
          "metadata": {
            "tags": []
          },
          "execution_count": 162
        }
      ]
    },
    {
      "cell_type": "code",
      "metadata": {
        "id": "5kCiD5bkpfhB",
        "colab_type": "code",
        "colab": {}
      },
      "source": [
        ""
      ],
      "execution_count": 0,
      "outputs": []
    },
    {
      "cell_type": "code",
      "metadata": {
        "id": "weaBznWCcvvv",
        "colab_type": "code",
        "outputId": "6dfe04d6-ff53-4d5d-850b-b6a8bc484f74",
        "colab": {
          "base_uri": "https://localhost:8080/",
          "height": 34
        }
      },
      "source": [
        "X_test[0].shape"
      ],
      "execution_count": 0,
      "outputs": [
        {
          "output_type": "execute_result",
          "data": {
            "text/plain": [
              "(50,)"
            ]
          },
          "metadata": {
            "tags": []
          },
          "execution_count": 163
        }
      ]
    },
    {
      "cell_type": "code",
      "metadata": {
        "id": "n95H8ouhZZ7d",
        "colab_type": "code",
        "outputId": "aedd27de-109a-4fa1-959d-8e29542be460",
        "colab": {
          "base_uri": "https://localhost:8080/",
          "height": 71
        }
      },
      "source": [
        "print('headline : ',index2sentence(y_test[0]))\n",
        "print('content  : ',index2sentence(X_test[0]))"
      ],
      "execution_count": 0,
      "outputs": [
        {
          "output_type": "stream",
          "text": [
            "headline :  <s> สคบ. ชี้แจง กรณี ผลิตภัณฑ์ เสริม อาหาร น้ำ UNK </s> \n",
            "content  :  วัน ที่ 7 ก.ย. 2561 พลตำรวจตรี ประสิทธิ์ เฉลิมวุฒิศักดิ์ เลขาธิการ คณะ กรรมการคุ้มครอง ผู้ บริโภค สำนักงานคณะกรรมการคุ้มครอง ผู้ บริโภค ชี้แจง ประเด็น ผลิตภัณฑ์ เสริม อาหาร น้ำ UNK UNK จาก กรณี UNK อายุ 56 ปี ชาว บ้าน UNK จ.ขอนแก่น ร้องเรียน ต่อ สื่อ มวล ชน เกี่ยว กับ ผลิตภัณฑ์ เสริม อาหาร น้ำ UNK ที่ มี พนักงาน ขาย นำ </s> \n"
          ],
          "name": "stdout"
        }
      ]
    },
    {
      "cell_type": "code",
      "metadata": {
        "id": "y8rUjDW7b7XG",
        "colab_type": "code",
        "outputId": "2b7e3a21-9780-4c33-e156-d57bdaa9b59a",
        "colab": {
          "base_uri": "https://localhost:8080/",
          "height": 813
        }
      },
      "source": [
        "translate(X_test[0])"
      ],
      "execution_count": 0,
      "outputs": [
        {
          "output_type": "stream",
          "text": [
            "Input: [    8     4   232   532    25 11519   226    32  2419    10   578  8225\n",
            "    10   578   166   319   405   727   389   121 25312 25312    41   153\n",
            " 25312   673  2876    28   288   219 25312  2111  1040    96   347   574\n",
            "   511   357    35   405   727   389   121 25312     4    19   867   461\n",
            "    63     3]\n",
            "prediction : <s> สำนักงานนโยบายและแผนทรัพยากรธรรมชาติ และสิ่ง แวดล้อม ชี้แจง กรณี การ ยางแห่งประเทศไทย ชี้แจง กรณี การ ยางแห่งประเทศไทย ชี้แจง กรณี การ ยางแห่งประเทศไทย ชี้แจง กรณี การ ยางแห่งประเทศไทย ชี้แจง \n"
          ],
          "name": "stdout"
        },
        {
          "output_type": "display_data",
          "data": {
            "image/png": "[encoded data removed]",
            "text/plain": [
              "<Figure size 1440x720 with 2 Axes>"
            ]
          },
          "metadata": {
            "tags": [],
            "needs_background": "light"
          }
        }
      ]
    },
    {
      "cell_type": "code",
      "metadata": {
        "id": "ag_79T9za82y",
        "colab_type": "code",
        "outputId": "1497c47d-8061-47f6-a94b-5a2773164bea",
        "colab": {
          "base_uri": "https://localhost:8080/",
          "height": 1000
        }
      },
      "source": [
        "for i in range(10):\n",
        "  print('headline  : ',index2sentence(y_test[i]))\n",
        "  print('content   : ',index2sentence(X_test[i]))\n",
        "  translate(X_test[i])\n",
        "  print( '#' * 150)"
      ],
      "execution_count": 0,
      "outputs": [
        {
          "output_type": "stream",
          "text": [
            "headline  :  <s> สคบ. ชี้แจง กรณี ผลิตภัณฑ์ เสริม อาหาร น้ำ UNK </s> \n",
            "content   :  วัน ที่ 7 ก.ย. 2561 พลตำรวจตรี ประสิทธิ์ เฉลิมวุฒิศักดิ์ เลขาธิการ คณะ กรรมการคุ้มครอง ผู้ บริโภค สำนักงานคณะกรรมการคุ้มครอง ผู้ บริโภค ชี้แจง ประเด็น ผลิตภัณฑ์ เสริม อาหาร น้ำ UNK UNK จาก กรณี UNK อายุ 56 ปี ชาว บ้าน UNK จ.ขอนแก่น ร้องเรียน ต่อ สื่อ มวล ชน เกี่ยว กับ ผลิตภัณฑ์ เสริม อาหาร น้ำ UNK ที่ มี พนักงาน ขาย นำ </s> \n",
            "Input: [    8     4   232   532    25 11519   226    32  2419    10   578  8225\n",
            "    10   578   166   319   405   727   389   121 25312 25312    41   153\n",
            " 25312   673  2876    28   288   219 25312  2111  1040    96   347   574\n",
            "   511   357    35   405   727   389   121 25312     4    19   867   461\n",
            "    63     3]\n",
            "prediction : <s> สำนักงานนโยบายและแผนทรัพยากรธรรมชาติ และสิ่ง แวดล้อม ชี้แจง กรณี การ ยางแห่งประเทศไทย ชี้แจง กรณี การ ยางแห่งประเทศไทย ชี้แจง กรณี การ ยางแห่งประเทศไทย ชี้แจง กรณี การ ยางแห่งประเทศไทย ชี้แจง \n"
          ],
          "name": "stdout"
        },
        {
          "output_type": "display_data",
          "data": {
            "image/png": "[encoded data removed]",
            "text/plain": [
              "<Figure size 1440x720 with 2 Axes>"
            ]
          },
          "metadata": {
            "tags": [],
            "needs_background": "light"
          }
        },
        {
          "output_type": "stream",
          "text": [
            "######################################################################################################################################################\n",
            "headline  :  ตรวจ ราชการ กระทรวงอุตสาหกรรม ลง พื้นที่ ตรวจ ราชการ รอบ 2 ประจำ ปี งบ ประมาณ พ.ศ. 2561 ใน เขต พื้นที่ รับผิดชอบ </s> \n",
            "content   :  วัน ที่ 28 สิงหาคม 2561 นายจุลพงษ์ ทวีศรี โดย มี UNK UNK จังหวัดกำแพงเพชร พร้อม ด้วย เจ้าหน้าที่ อุตสาหกรรม จังหวัดกำแพงเพชร ให้ การ ต้อนรับ นอก จาก นี้ ยัง ได้ ลง พื้นที่ เพื่อ ตรวจ เยี่ยม โครงการ เสริมสร้าง เศรษฐกิจ ฐาน ชุมชน หรือ UNK UNK หมู่ บ้าน CIV กระทง เปลือก ข้าวโพด UNK ดอก ไม้ ตก UNK จ.กำแพงเพชร </s> \n",
            "Input: [    8     4   376   243    25  1777    34    19 25312 25312  6129    29\n",
            "    64   245   186  6129    12     1   248   353    41    17   377    23\n",
            "    44    47    20    86   104    45   596    95   749   183   197 25312\n",
            " 25312   533   219  1772  2011  1770  1393 25312   951   644   864 25312\n",
            "  3301     3]\n",
            "prediction : <s> การ ประชุม คณะ กรรมการ ผู้ แทน กองทุนการเงินระหว่างประเทศ IMF และ ผู้ บริหาร ราชการ แผ่นดิน คณะ ทำ งาน ของ รัฐบาล </s> \n"
          ],
          "name": "stdout"
        },
        {
          "output_type": "display_data",
          "data": {
            "image/png": "[encoded data removed]",
            "text/plain": [
              "<Figure size 1440x720 with 2 Axes>"
            ]
          },
          "metadata": {
            "tags": [],
            "needs_background": "light"
          }
        },
        {
          "output_type": "stream",
          "text": [
            "######################################################################################################################################################\n",
            "headline  :  ยืนยัน ยัง ไม่ มี แนว คิด ปรับ ขึ้น ภาษี VAT วอน สังคม อย่า ตื่นตระหนก และ หลง เชื่อ ย้ำ นายก </s> \n",
            "content   :  นี้ 25 พฤษภาคม 2561 พลโท สรรเสริญ แก้วกำเนิด โฆษก ประจำ สำนักนายกรัฐมนตรี กล่าว ถึง กรณี ที่ มี การ แชร์ ข้อความ และ ภาพ ระบุ UNK ประชาชน จ่าย ภาษี มูลค่า เพิ่ม เป็น 8 % ถ้า ไม่ ขึ้น ประเทศ จะ ล้มละลาย ใน ช่วง นี้ ว่า ข้อความ และ ภาพ ดัง กล่าว เป็น เรื่อง เก่า เมื่อ เดือน มี.ค. </s> \n",
            "Input: [   17   390   308    25   991    99    50   215    87   110   153     4\n",
            "    19     1  1637  1300     5   753   617 25312    53   543   354   554\n",
            "   141     9   222   559  5475   118   127    65   178  1797     6   246\n",
            "    17    42  1300     5   753   281    87     9   145  1388    62   202\n",
            "   556     3]\n",
            "prediction : <s> เผย รัฐบาล ไม่ละเลย การ แก้ไข ปัญหา ฝุ่น ละออง ขนาด เล็ก PM 2 ที่สุด ใน ช่วง ฤดู ฝน ตก หนัก แนะ \n"
          ],
          "name": "stdout"
        },
        {
          "output_type": "display_data",
          "data": {
            "image/png": "[encoded data removed]",
            "text/plain": [
              "<Figure size 1440x720 with 2 Axes>"
            ]
          },
          "metadata": {
            "tags": [],
            "needs_background": "light"
          }
        },
        {
          "output_type": "stream",
          "text": [
            "######################################################################################################################################################\n",
            "headline  :  <s> นโยบาย การ ผลิต ครู ผู้ ช่วย เลือด ใหม่ </s> \n",
            "content   :  เปิด โอกาส ให้ ผู้ มี ความ สามารถ ใน หลากหลาย สาขา อาชีพ สามารถ สอบ ครู ผู้ ช่วย ใน สาขา ที่ ขาดแคลน ได้ โดย จะ ฝึกอบรม อย่าง เข้มข้น ก่อน บรรจุ ต่อ จาก นี้ ไป ขอ เชิญ รับฟัง ไทย คู่ฟ้า ครับ จาก นโยบาย ของ รัฐบาล ที่ เปิด โอกาส ให้ ผู้ ไม่ มี </s> \n",
            "Input: [  38  136   12   10   19   11  302    6 1633  768  488  302 1162  391\n",
            "   10   58    6  768    4 1863   23   34  178  639   76 1829  404 1263\n",
            "   96   41   17   90  157  388  270   36  590  449   41   98   18   57\n",
            "    4   38  136   12   10  118   19    3]\n",
            "prediction : <s> กระทรวงเกษตรฯ จัด งาน วัน คุ้มครอง โลก </s> \n"
          ],
          "name": "stdout"
        },
        {
          "output_type": "display_data",
          "data": {
            "image/png": "[encoded data removed]",
            "text/plain": [
              "<Figure size 1440x720 with 2 Axes>"
            ]
          },
          "metadata": {
            "tags": [],
            "needs_background": "light"
          }
        },
        {
          "output_type": "stream",
          "text": [
            "######################################################################################################################################################\n",
            "headline  :  <s> ปิด งาน ชุมนุม ลูก เสือ จังหวัด ชาย แดน ภาค ใต้ ครั้ง ที่ 12 จังหวัดสตูล </s> \n",
            "content   :  รัฐมนตรี ช่วย ว่าการ กระทรวงศึกษาธิการ เป็น ประธาน พิธี ปิด งาน ชุมนุม ลูก เสือ จังหวัด ชาย แดน ภาค ใต้ ครั้ง ที่ 12 ณ ค่าย ลูกเสือปากบาง อำเภอละงู จังหวัดสตูล พล.อ.สุรเชษฐ์ ชัยวงศ์ รมช. ศึกษาธิการ ได้ กล่าว ใน พิธี ปิด ดัง นี้ ท่าน ผู้ บังคับบัญชา ลูกเสือ ลูกเสือ - UNK ที่ เข้า ร่วม ชุมนุม คณะ ลูกเสือ จาก </s> \n",
            "Input: [    7    58    22   103     9    21    82   626    13  1724   828  3510\n",
            "   158   271   430    51   109    54     4   264    26  1564 20511  7945\n",
            "  3491   585   480   884    23    87     6    82   626   281    17   800\n",
            "    10  3709  2066  2066    39 25312     4    46    27  1724    32  2066\n",
            "    41     3]\n",
            "prediction : <s> ศธ. จัด งาน วัน สถาปนา สำนัก งานเลขาธิการคุรุสภา </s> \n"
          ],
          "name": "stdout"
        },
        {
          "output_type": "display_data",
          "data": {
            "image/png": "[encoded data removed]",
            "text/plain": [
              "<Figure size 1440x720 with 2 Axes>"
            ]
          },
          "metadata": {
            "tags": [],
            "needs_background": "light"
          }
        },
        {
          "output_type": "stream",
          "text": [
            "######################################################################################################################################################\n",
            "headline  :  <s> เตือน นาย จ้าง ห้าม บังคับ ลูกจ้าง ทำ งาน วัน หยุด </s> \n",
            "content   :  และ คุ้มครอง แรงงาน เตือน นาย จ้าง ให้ ลูกจ้าง ทำ งาน ใน วัน หยุด ผิด กฎหมาย หาก จำเป็น ต้อง ได้ รับ ความ ยินยอม จาก ลูกจ้าง ก่อน และ ต้อง จ่าย ค่า ทำ งาน ใน วัน หยุด นายอนันต์ชัย อุทัยพัฒนา ชีพ อธิบดี กรมสวัสดิการ และ คุ้มครอง แรงงาน กสร. เปิดเผย ว่า พระราชบัญญัติ คุ้มครอง แรงงาน พ.ศ. 2541 </s> \n",
            "Input: [    5   251    88   484   384   330    12   512    79    13     6     8\n",
            "  1038   418   199   744  1188   265    23    48    11  8692    41   512\n",
            "   404     5   265   543   237    79    13     6     8  1038   863   566\n",
            "   190   481     5   251    88   518    67    42   705   251    88   212\n",
            " 10437     3]\n",
            "prediction : <s> กสร. เตือน นาย จ้าง อย่า ลืม จัด ซ้อม หนี ไฟ ไหม้ </s> \n"
          ],
          "name": "stdout"
        },
        {
          "output_type": "display_data",
          "data": {
            "image/png": "[encoded data removed]",
            "text/plain": [
              "<Figure size 1440x720 with 2 Axes>"
            ]
          },
          "metadata": {
            "tags": [],
            "needs_background": "light"
          }
        },
        {
          "output_type": "stream",
          "text": [
            "######################################################################################################################################################\n",
            "headline  :  <s> ฐานะ การ คลัง ของ รัฐบาล ใน ช่วง 8 เดือน แรก ของ ปี งบ ประมาณ 2560 </s> \n",
            "content   :  สํานัก งาน เศรษฐกิจการ คลัง ใน ฐานะ โฆษก กระทรวงการคลัง แถลง ข่าว ฐานะ การ คลัง ของ รัฐบาล ตาม ระบบ กระแส เงิน สด ใน ช่วง 8 เดือน แรก ของ ปี งบ ประมาณ 2560 เดือน ตุลาคม 2559 – เดือน พฤษภาคม 2560 นายกฤษฎา  จี นะ วิจารณะ UNK  อํานวยการ สํานัก งาน เศรษฐกิจการ คลัง ใน ฐานะ </s> \n",
            "Input: [ 5540    13  1608   415     6   262    99   286   207   179   262     1\n",
            "   415    18    57    55   113  1127    74   940     6   246   222   202\n",
            "   363    18    28   240   221    31   202   266   256   227   202   308\n",
            "    31  5893  3581  1378 25312  4671  5539  5540    13  1608   415     6\n",
            "   262     3]\n",
            "prediction : <s> รายงาน ความ คืบหน้า การ คลัง ของ รัฐบาล ใน ช่วง ครึ่ง แรก ของ สำนักงานบริหารหนี้สาธารณะ </s> \n"
          ],
          "name": "stdout"
        },
        {
          "output_type": "display_data",
          "data": {
            "image/png": "[encoded data removed]",
            "text/plain": [
              "<Figure size 1440x720 with 2 Axes>"
            ]
          },
          "metadata": {
            "tags": [],
            "needs_background": "light"
          }
        },
        {
          "output_type": "stream",
          "text": [
            "######################################################################################################################################################\n",
            "headline  :  กำชับ ทีม One Home เร่ง เยียวยา จิตใจ สาว UNK วัย 15 ปี ที่ ถูก ลุง เขย บังคับ ข่มขืน จน </s> \n",
            "content   :  นี้ 12 ม.ค. 61 เวลา 08 . 30 น. กระทรวงการพัฒนาสังคมและความมั่นคงของมนุษย์ พม. โดย นายณรงค์ คงคำ รอง ปลัด กระทรวงการพัฒนาสังคมและความมั่นคงของมนุษย์ รอง ปลัด พม. เป็น ประธาน การ ประชุม ศูนย์ ปฏิบัติการ กระทรวงการพัฒนาสังคมและความมั่นคงของมนุษย์ ศปก.พม. ครั้ง ที่ 20 / 2561 เพื่อ รับ ทราบ ปัญหา ทาง สังคม ต่างๆ ที่ เกิด ขึ้น ใน แต่ละ วัน และ ร่วมหา แนวทาง การ </s> \n",
            "Input: [  17  264  623  130   24  373   14   66   33  132   97   34  605   30\n",
            "   37  132   30   37   97    9   21    1   15  151  257  132  730   54\n",
            "    4  205   68   25   20   48  380   85   52  106  757    4  241  127\n",
            "    6  792    8    5 1286  180    1    3]\n",
            "prediction : <s> ทีม One Home เร่ง ช่วยเหลือ ผู้ ด้อย โอกาส และ ประสบ ปัญหา ทาง สังคม ที่ จ.สุรินทร์ พร้อม กำชับ ช่วยเหลือ ผู้ ประสบ \n"
          ],
          "name": "stdout"
        },
        {
          "output_type": "display_data",
          "data": {
            "image/png": "[encoded data removed]",
            "text/plain": [
              "<Figure size 1440x720 with 2 Axes>"
            ]
          },
          "metadata": {
            "tags": [],
            "needs_background": "light"
          }
        },
        {
          "output_type": "stream",
          "text": [
            "######################################################################################################################################################\n",
            "headline  :  เชิญชวน ประชาชน ร่วม กิจกรรม สัปดาห์ เผยแผ่ พระพุทธศาสนา เนื่อง ใน เทศกาล วัน มา ฆบูชา ประจำ ปี 2561 ณ พุทธมณฑล 25 </s> \n",
            "content   :  การ ประชุม คณะ รัฐมนตรี นายสุวพันธุ์ ตันยุวรรธนะ รมต. นร. ได้ เข้า พบ นายก รัฐมนตรี เพื่อ ประชาสัมพันธ์ ใน การ จัด สัปดาห์ เผยแผ่ พระพุทธศาสนา เนื่อง ใน เทศกาล วัน มาฆบูชา พร้อม ย้ำ ให้ ยึด หลัก คำ สอน ของ พระพุทธเจ้า ใน การ ดำเนิน ชีวิต ประจำ วัน วัน นี้ 20 กุมภาพันธ์ 2561 เวลา 08 . 30 </s> \n",
            "Input: [   1   15   32    7  857  698 1457   23   46  250   16    7   20  731\n",
            "    6    1   43  950 4884 1624  214    6  479    8 2754   29  213   12\n",
            "  858  292  398 1335   18 6779    6    1   77  193   50    8    8   17\n",
            "  205  282   25   24  373   14   66    3]\n",
            "prediction : <s> รมต. นร. ออมสิน ฯ เป็น ประธาน การ ประชุม คณะ กรรมการ ขับเคลื่อน และ เร่งรัด การ ดำเนิน งาน ตาม นโยบาย รัฐบาล กขร. ครั้ง \n"
          ],
          "name": "stdout"
        },
        {
          "output_type": "display_data",
          "data": {
            "image/png": "[encoded data removed]",
            "text/plain": [
              "<Figure size 1440x720 with 2 Axes>"
            ]
          },
          "metadata": {
            "tags": [],
            "needs_background": "light"
          }
        },
        {
          "output_type": "stream",
          "text": [
            "######################################################################################################################################################\n",
            "headline  :  <s> ไทย และ UNK เจตนารมณ์ ร่วม กัน ใน การ แก้ไข ปัญหา ยา เสพ ติด อาชญากรรม และ การ ทุจริต </s> \n",
            "content   :  นี้ วัน จันทร์ ที่ 5 มีนาคม 2561 เวลา 13 . 15 น. นายยูริ เฟโดทอฟ UNK Fedotov ผู้ อำนวย การ บริหาร UNK ด้วย ยา เสพ ติด และ UNK UNODC และ รอง เลขาธิการ สหประชาชาติ เข้า เยี่ยม คารวะ พลอากาศ เอก  ประจิน จั่นตอง รอง นายก รัฐมนตรี และ รัฐมนตรี ว่าการ กระทรวงยุติธรรม ณ ห้อง รับรอง 1 ตึกบัญชา </s> \n",
            "Input: [   17     8   507     4   117   236    25    24   134    14   163    33\n",
            "  6589 25312  8200    10   167     1    89 25312    64   394   622   385\n",
            "     5 25312  4235     5    30   226  1848    46   104   295   591   361\n",
            "   477    30    16     7     5     7    22    70    26    75   471    49\n",
            "   555     3]\n",
            "prediction : <s> รัฐมนตรี ว่าการ กระทรวงยุติธรรม ให้ การ ต้อนรับ เอกอัครราชทูต แคนาดา ประจำ ประเทศไทย เข้า เยี่ยม คารวะ นายก รัฐมนตรี </s> \n"
          ],
          "name": "stdout"
        },
        {
          "output_type": "display_data",
          "data": {
            "image/png": "[encoded data removed]",
            "text/plain": [
              "<Figure size 1440x720 with 2 Axes>"
            ]
          },
          "metadata": {
            "tags": [],
            "needs_background": "light"
          }
        },
        {
          "output_type": "stream",
          "text": [
            "######################################################################################################################################################\n"
          ],
          "name": "stdout"
        }
      ]
    },
    {
      "cell_type": "code",
      "metadata": {
        "id": "e_ZPsVC8a80H",
        "colab_type": "code",
        "outputId": "dbaba334-ee97-4625-8f9e-5c91e19c4af1",
        "colab": {
          "base_uri": "https://localhost:8080/",
          "height": 221
        }
      },
      "source": [
        "encoder.summary()"
      ],
      "execution_count": 0,
      "outputs": [
        {
          "output_type": "stream",
          "text": [
            "Model: \"encoder_3\"\n",
            "_________________________________________________________________\n",
            "Layer (type)                 Output Shape              Param #   \n",
            "=================================================================\n",
            "embedding_6 (Embedding)      multiple                  6480128   \n",
            "_________________________________________________________________\n",
            "gru_6 (GRU)                  multiple                  3938304   \n",
            "=================================================================\n",
            "Total params: 10,418,432\n",
            "Trainable params: 10,418,432\n",
            "Non-trainable params: 0\n",
            "_________________________________________________________________\n"
          ],
          "name": "stdout"
        }
      ]
    },
    {
      "cell_type": "code",
      "metadata": {
        "id": "T6yR217_a8xB",
        "colab_type": "code",
        "outputId": "0cad92cc-f770-40a7-ebd9-afba9ed6992d",
        "colab": {
          "base_uri": "https://localhost:8080/",
          "height": 289
        }
      },
      "source": [
        "decoder.summary()"
      ],
      "execution_count": 0,
      "outputs": [
        {
          "output_type": "stream",
          "text": [
            "Model: \"decoder_3\"\n",
            "_________________________________________________________________\n",
            "Layer (type)                 Output Shape              Param #   \n",
            "=================================================================\n",
            "embedding_7 (Embedding)      multiple                  6480128   \n",
            "_________________________________________________________________\n",
            "gru_7 (GRU)                  multiple                  7084032   \n",
            "_________________________________________________________________\n",
            "dense_24 (Dense)             multiple                  25945825  \n",
            "_________________________________________________________________\n",
            "bahdanau_attention_7 (Bahdan multiple                  2100225   \n",
            "=================================================================\n",
            "Total params: 41,610,210\n",
            "Trainable params: 41,610,210\n",
            "Non-trainable params: 0\n",
            "_________________________________________________________________\n"
          ],
          "name": "stdout"
        }
      ]
    },
    {
      "cell_type": "markdown",
      "metadata": {
        "id": "roPCp7QkkmQP",
        "colab_type": "text"
      },
      "source": [
        "# Evaluation"
      ]
    },
    {
      "cell_type": "code",
      "metadata": {
        "id": "dWxwHbMfa8rE",
        "colab_type": "code",
        "outputId": "332b2639-dfd6-490b-b10c-3425228f1dd2",
        "colab": {
          "base_uri": "https://localhost:8080/",
          "height": 51
        }
      },
      "source": [
        "!pip install rouge"
      ],
      "execution_count": 0,
      "outputs": [
        {
          "output_type": "stream",
          "text": [
            "Requirement already satisfied: rouge in /usr/local/lib/python3.6/dist-packages (1.0.0)\n",
            "Requirement already satisfied: six in /usr/local/lib/python3.6/dist-packages (from rouge) (1.12.0)\n"
          ],
          "name": "stdout"
        }
      ]
    },
    {
      "cell_type": "code",
      "metadata": {
        "id": "KKKyWh96v1wx",
        "colab_type": "code",
        "colab": {}
      },
      "source": [
        "from tqdm import tqdm_notebook\n",
        "from rouge import Rouge\n",
        "def inference(dataset) :\n",
        "  pred_sum = []\n",
        "  for c in tqdm_notebook(dataset):\n",
        "    pred_sum.append(translate(c, plot=False))\n",
        "  return pred_sum\n",
        "def evaluate_result(gold_sum,pred_sum) : \n",
        "  rouge = Rouge()\n",
        "  avg_scores = rouge.get_scores(pred_sum, gold_sum, avg=True)\n",
        "  return avg_scores \n",
        "\n",
        "y_train_pred = inference(X_train)\n",
        "y_val_pred = inference(X_val)\n",
        "y_test_pred = inference(X_test)\n",
        "\n",
        "print('Eval train :', evaluate_result(gold_sum_train, y_train_pred))\n",
        "print('Eval val   :', evaluate_result(gold_sum_val, y_val_pred))\n",
        "print('Eval test  :', evaluate_result(gold_sum_test, y_test_pred))"
      ],
      "execution_count": 0,
      "outputs": []
    },
    {
      "cell_type": "markdown",
      "metadata": {
        "id": "FObGFyaJIELa",
        "colab_type": "text"
      },
      "source": [
        "# Result"
      ]
    },
    {
      "cell_type": "code",
      "metadata": {
        "id": "ljNkDKo4HC3Z",
        "colab_type": "code",
        "outputId": "8dd099a5-80b7-4616-eac6-b74c5c9965dc",
        "colab": {
          "base_uri": "https://localhost:8080/",
          "height": 286,
          "referenced_widgets": [
            "0bb6b2dc3b96429fadefa35737498f62",
            "451b90c0b03343fc910c32d92a6ceaba",
            "e5da89e8053f48db831de8d25431eaf5",
            "506cc07f33d44fb58b6eb8f29816b861",
            "2be5d1d4b4454d3bb02aac0df1222ac5",
            "f4a8fc73f9264ffba1d7ee6781ad81cd",
            "5348992af11145228933cb93b1609ded",
            "cc7bc40d0cfc4332acb88adcee5c3275",
            "4229270d2eea49a4bffbaf7cba8e0cfd",
            "9a0b2f494dd647158474d7cf3dfdb8f8",
            "709b348178924b4a873d1b1350e3f994",
            "53fa44fdad3b42b1ad64e23be7946c50",
            "09bdf25af578476fa41930de026796a6",
            "0424b61fddaa459cbeca655b5a4e6f0e",
            "6a3dbb519ff94aa381a7c661b9b31895",
            "9018bd54810d4d72b30d367b1535fc7c",
            "7ef1f51f12c0465c999a056f0856d16f",
            "8591d7e072b440f4a9bee52ec02f7ab9",
            "01b8fb42cea2460b9ddc519e9350e40c",
            "c45f50ac27e643f59a1e0a37fcd8c6ec",
            "c819322e83b345bfb6bfd88fceb2fa96",
            "8d2ad656c8c54e1481a63fc714235308",
            "13714a1771bd40a2861c4483fb48c435",
            "d8eed74ae0a942aa886a36cfba1a2440"
          ]
        }
      },
      "source": [
        "# scheduled sampling with stopwords v2\n",
        "from tqdm import tqdm_notebook\n",
        "from rouge import Rouge\n",
        "def inference(dataset) :\n",
        "  pred_sum = []\n",
        "  for c in tqdm_notebook(dataset):\n",
        "    pred_sum.append(translate(c, plot=False))\n",
        "  return pred_sum\n",
        "def evaluate_result(gold_sum,pred_sum) : \n",
        "  rouge = Rouge()\n",
        "  avg_scores = rouge.get_scores(pred_sum, gold_sum, avg=True)\n",
        "  return avg_scores \n",
        "\n",
        "y_train_pred = inference(X_train)\n",
        "y_val_pred = inference(X_val)\n",
        "y_test_pred = inference(X_test)\n",
        "\n",
        "print('Eval train :', evaluate_result(gold_sum_train, y_train_pred))\n",
        "print('Eval val   :', evaluate_result(gold_sum_val, y_val_pred))\n",
        "print('Eval test  :', evaluate_result(gold_sum_test, y_test_pred))"
      ],
      "execution_count": 0,
      "outputs": [
        {
          "output_type": "stream",
          "text": [
            "/usr/local/lib/python3.6/dist-packages/ipykernel_launcher.py:5: TqdmDeprecationWarning: This function will be removed in tqdm==5.0.0\n",
            "Please use `tqdm.notebook.tqdm` instead of `tqdm.tqdm_notebook`\n",
            "  \"\"\"\n"
          ],
          "name": "stderr"
        },
        {
          "output_type": "display_data",
          "data": {
            "application/vnd.jupyter.widget-view+json": {
              "model_id": "0bb6b2dc3b96429fadefa35737498f62",
              "version_minor": 0,
              "version_major": 2
            },
            "text/plain": [
              "HBox(children=(FloatProgress(value=0.0, max=11615.0), HTML(value='')))"
            ]
          },
          "metadata": {
            "tags": []
          }
        },
        {
          "output_type": "stream",
          "text": [
            "\n"
          ],
          "name": "stdout"
        },
        {
          "output_type": "display_data",
          "data": {
            "application/vnd.jupyter.widget-view+json": {
              "model_id": "4229270d2eea49a4bffbaf7cba8e0cfd",
              "version_minor": 0,
              "version_major": 2
            },
            "text/plain": [
              "HBox(children=(FloatProgress(value=0.0, max=2861.0), HTML(value='')))"
            ]
          },
          "metadata": {
            "tags": []
          }
        },
        {
          "output_type": "stream",
          "text": [
            "\n"
          ],
          "name": "stdout"
        },
        {
          "output_type": "display_data",
          "data": {
            "application/vnd.jupyter.widget-view+json": {
              "model_id": "7ef1f51f12c0465c999a056f0856d16f",
              "version_minor": 0,
              "version_major": 2
            },
            "text/plain": [
              "HBox(children=(FloatProgress(value=0.0, max=2861.0), HTML(value='')))"
            ]
          },
          "metadata": {
            "tags": []
          }
        },
        {
          "output_type": "stream",
          "text": [
            "\n",
            "Eval train : {'rouge-1': {'f': 0.3316216664676006, 'p': 0.39584552756168767, 'r': 0.3043822771264748}, 'rouge-2': {'f': 0.14539594442405668, 'p': 0.16653982639058618, 'r': 0.13704949243104267}, 'rouge-l': {'f': 0.3411716701418495, 'p': 0.4265433187135071, 'r': 0.302346349912178}}\n",
            "Eval val   : {'rouge-1': {'f': 0.2753238649040949, 'p': 0.3312370714680459, 'r': 0.2523167631232138}, 'rouge-2': {'f': 0.09332359440670134, 'p': 0.10657701641468456, 'r': 0.0877801989930994}, 'rouge-l': {'f': 0.2842083111855991, 'p': 0.35679757437524784, 'r': 0.2516226344043467}}\n",
            "Eval test  : {'rouge-1': {'f': 0.2772315095364518, 'p': 0.332982683027399, 'r': 0.25433679121886066}, 'rouge-2': {'f': 0.09368943296864761, 'p': 0.10680276491684366, 'r': 0.08852816663196328}, 'rouge-l': {'f': 0.2846344066931298, 'p': 0.3562378807841689, 'r': 0.25295440473734976}}\n"
          ],
          "name": "stdout"
        }
      ]
    },
    {
      "cell_type": "code",
      "metadata": {
        "id": "2ppDiKroksMy",
        "colab_type": "code",
        "outputId": "b8792dc2-a03c-43f2-cb6b-7023fd6c9379",
        "colab": {
          "base_uri": "https://localhost:8080/",
          "height": 278,
          "referenced_widgets": [
            "64685ef6cb39455db7fe41caa9392c0d",
            "bf2e447971a34292bbf9d9d5f1637d0c",
            "59d2ad34a9bd4f549cf829494e328c80",
            "4778ccb8997a41beabc402db6de88926",
            "532c8589f49a40a1abd368a1fc7ecd77",
            "d018f6e20b444b9489e81dc80c42000f",
            "ee09674c42ba4b7dbc70b4ad902390bd",
            "c41a5f79e8ac4805b8f846e69e203bed",
            "2a296f4cf0014db3923bc5c739602461",
            "17c1273087564c02bfd15198ea35ae3f",
            "6bc1a988a66a44cc93a4735c304355b0",
            "e20610fae12c49f5b9563150e2fa47e5",
            "abb5e45aa46f49f4b9cda6ed0e039653",
            "8b6f0d8ed145455a95228c95e4d763ea",
            "1ec423851e6d40ba92329b277387bb2e",
            "608faaca0ed54ff2b2ce4f866aee516d",
            "e4cef2890a1b4a3ba355bb51cfe386ea",
            "0ca61b5aa02e466789ce3d93bbf4b64e",
            "df622e8c6bd5415b8d50cb5db6e7870d",
            "eaa28f4ef4eb4a7eb2d85426f13c65c2",
            "8294279cbbb6456cadee381b71cb392c",
            "8b99d46c652f4f688dddc7a9da3a4fcb",
            "eba29afd26574adbb19c92e6364de264",
            "ea8d090380a145ceaafe4262bc34e72e"
          ]
        }
      },
      "source": [
        "# teacher forcing with stopwords v2 (cleaned and resplitted)\n",
        "\n",
        "from tqdm import tqdm_notebook\n",
        "from rouge import Rouge\n",
        "def inference(dataset) :\n",
        "  pred_sum = []\n",
        "  for c in tqdm_notebook(dataset):\n",
        "    pred_sum.append(translate(c, plot=False))\n",
        "  return pred_sum\n",
        "def evaluate_result(gold_sum,pred_sum) : \n",
        "  rouge = Rouge()\n",
        "  avg_scores = rouge.get_scores(pred_sum, gold_sum, avg=True)\n",
        "  return avg_scores \n",
        "\n",
        "y_train_pred = inference(X_train)\n",
        "y_val_pred = inference(X_val)\n",
        "y_test_pred = inference(X_test)\n",
        "\n",
        "print('Eval train :', evaluate_result(gold_sum_train, y_train_pred))\n",
        "print('Eval val   :', evaluate_result(gold_sum_val, y_val_pred))\n",
        "print('Eval test  :', evaluate_result(gold_sum_test, y_test_pred))"
      ],
      "execution_count": 0,
      "outputs": [
        {
          "output_type": "stream",
          "text": [
            "/usr/local/lib/python3.6/dist-packages/ipykernel_launcher.py:5: TqdmDeprecationWarning: This function will be removed in tqdm==5.0.0\n",
            "Please use `tqdm.notebook.tqdm` instead of `tqdm.tqdm_notebook`\n",
            "  \"\"\"\n"
          ],
          "name": "stderr"
        },
        {
          "output_type": "display_data",
          "data": {
            "application/vnd.jupyter.widget-view+json": {
              "model_id": "64685ef6cb39455db7fe41caa9392c0d",
              "version_minor": 0,
              "version_major": 2
            },
            "text/plain": [
              "HBox(children=(FloatProgress(value=0.0, max=11615.0), HTML(value='')))"
            ]
          },
          "metadata": {
            "tags": []
          }
        },
        {
          "output_type": "stream",
          "text": [
            "\n"
          ],
          "name": "stdout"
        },
        {
          "output_type": "display_data",
          "data": {
            "application/vnd.jupyter.widget-view+json": {
              "model_id": "2a296f4cf0014db3923bc5c739602461",
              "version_minor": 0,
              "version_major": 2
            },
            "text/plain": [
              "HBox(children=(FloatProgress(value=0.0, max=2861.0), HTML(value='')))"
            ]
          },
          "metadata": {
            "tags": []
          }
        },
        {
          "output_type": "stream",
          "text": [
            "\n"
          ],
          "name": "stdout"
        },
        {
          "output_type": "display_data",
          "data": {
            "application/vnd.jupyter.widget-view+json": {
              "model_id": "e4cef2890a1b4a3ba355bb51cfe386ea",
              "version_minor": 0,
              "version_major": 2
            },
            "text/plain": [
              "HBox(children=(FloatProgress(value=0.0, max=2861.0), HTML(value='')))"
            ]
          },
          "metadata": {
            "tags": []
          }
        },
        {
          "output_type": "stream",
          "text": [
            "\n",
            "Eval train : {'rouge-1': {'f': 0.31255606618074416, 'p': 0.3699522595639823, 'r': 0.29118707247256176}, 'rouge-2': {'f': 0.13921053678939652, 'p': 0.15919970804256284, 'r': 0.1329544137673485}, 'rouge-l': {'f': 0.3252717405570767, 'p': 0.412626343182596, 'r': 0.28984010064706206}}\n",
            "Eval val   : {'rouge-1': {'f': 0.26077731568818086, 'p': 0.3138555705697845, 'r': 0.24185617029094433}, 'rouge-2': {'f': 0.0878659722637187, 'p': 0.10085893141122382, 'r': 0.08389562453305079}, 'rouge-l': {'f': 0.2712526981536289, 'p': 0.35058526743159263, 'r': 0.24076205725434838}}\n",
            "Eval test  : {'rouge-1': {'f': 0.25838712445233686, 'p': 0.31063618231042167, 'r': 0.2405915591012182}, 'rouge-2': {'f': 0.08814604824395639, 'p': 0.10113048852663067, 'r': 0.08452106747164245}, 'rouge-l': {'f': 0.2697474693034942, 'p': 0.3499145752717843, 'r': 0.23965010689122512}}\n"
          ],
          "name": "stdout"
        }
      ]
    },
    {
      "cell_type": "code",
      "metadata": {
        "id": "t3zgVRF9kslK",
        "colab_type": "code",
        "outputId": "d0de3da3-8d68-4ae1-ccef-63d2a7cf2e8e",
        "colab": {
          "base_uri": "https://localhost:8080/",
          "height": 86
        }
      },
      "source": [
        "# teacher forcing with stopwords v1 (cleaned and not resplitted)\n",
        "from rouge import Rouge\n",
        "def evaluate_result(gold_sum,pred_sum) : \n",
        "  rouge = Rouge()\n",
        "  avg_scores = rouge.get_scores(pred_sum, gold_sum, avg=True)\n",
        "  return avg_scores \n",
        "print('Eval train :', evaluate_result(gold_sum_train, y_train_pred))\n",
        "print('Eval val   :', evaluate_result(gold_sum_val, y_val_pred))\n",
        "print('Eval test  :', evaluate_result(gold_sum_test, y_test_pred))\n"
      ],
      "execution_count": 0,
      "outputs": [
        {
          "output_type": "stream",
          "text": [
            "Eval train : {'rouge-1': {'f': 0.2795673425761507, 'p': 0.3557595652463653, 'r': 0.25352607870171523}, 'rouge-2': {'f': 0.09932441987108667, 'p': 0.12613012960819406, 'r': 0.09226585948787162}, 'rouge-l': {'f': 0.28737431689730497, 'p': 0.3731399927570879, 'r': 0.25371851798119666}}\n",
            "Eval val   : {'rouge-1': {'f': 0.25329514942133546, 'p': 0.3274296069330234, 'r': 0.22779928431398458}, 'rouge-2': {'f': 0.07118651085296651, 'p': 0.09311496548861718, 'r': 0.06528372785626006}, 'rouge-l': {'f': 0.26002256056456724, 'p': 0.3417097761580575, 'r': 0.2282872326099331}}\n",
            "Eval test  : {'rouge-1': {'f': 0.25344063948426654, 'p': 0.32598460418102326, 'r': 0.22866659593474578}, 'rouge-2': {'f': 0.07427264694055888, 'p': 0.09647897270043032, 'r': 0.06867201271640855}, 'rouge-l': {'f': 0.2606687205468006, 'p': 0.34019529076833227, 'r': 0.2298648872657804}}\n"
          ],
          "name": "stdout"
        }
      ]
    },
    {
      "cell_type": "code",
      "metadata": {
        "id": "AI61q1ylkshm",
        "colab_type": "code",
        "colab": {}
      },
      "source": [
        ""
      ],
      "execution_count": 0,
      "outputs": []
    },
    {
      "cell_type": "code",
      "metadata": {
        "id": "g0z4sXSTksf1",
        "colab_type": "code",
        "colab": {}
      },
      "source": [
        ""
      ],
      "execution_count": 0,
      "outputs": []
    },
    {
      "cell_type": "code",
      "metadata": {
        "id": "4PC30KfFksd3",
        "colab_type": "code",
        "colab": {}
      },
      "source": [
        ""
      ],
      "execution_count": 0,
      "outputs": []
    },
    {
      "cell_type": "code",
      "metadata": {
        "id": "NaFhx9QhksY7",
        "colab_type": "code",
        "colab": {}
      },
      "source": [
        ""
      ],
      "execution_count": 0,
      "outputs": []
    },
    {
      "cell_type": "markdown",
      "metadata": {
        "id": "Zp4fmYqsko1c",
        "colab_type": "text"
      },
      "source": [
        "# sth\n"
      ]
    },
    {
      "cell_type": "code",
      "metadata": {
        "id": "x9ZgBmeylIuc",
        "colab_type": "code",
        "outputId": "43d3bcf4-a64b-432c-9d64-7c547e2deb05",
        "colab": {
          "base_uri": "https://localhost:8080/",
          "height": 316
        }
      },
      "source": [
        "text = '“ยุติธรรม” เตรียมความพร้อมร่วมกับองค์กรปกครองส่วนท้องถิ่น เพื่อส่งเสริมการดำเนินงานของศูนย์ยุติธรรมชุมชน\\\n",
        "กระทรวงยุติธรรม เตรียมความพร้อมร่วมกับองค์กรปกครองส่วนท้องถิ่น เพื่อส่งเสริมการดำเนินงานของศูนย์ยุติธรรมชุมชน\\\n",
        "ในวันพฤหัสบดีที่ ๒๗ กันยายน ๒๕๖๑ เวลา ๐๙.๐๐ น.\\\n",
        "นางกรรณิการ์ แสงทอง รองปลัดกระทรวงยุติธรรม\\\n",
        "เป็นประธานการประชุมเชิงปฏิบัติการ\\\n",
        "โครงการวิจัยศักยภาพและความพร้อมขององค์กรปกครองส่วนท้องถิ่น\\\n",
        "ในการส่งเสริมการดำเนินงานศูนย์ยุติธรรมชุมชน : กิจกรรมของหน่วยงานที่เกี่ยวข้อง ครั้งที่ ๑\\\n",
        "เพื่อแลกเปลี่ยนความคิดเห็นในการศึกษาศักยภาพและความพร้อมขององค์กรปกครองส่วนท้องถิ่น\\\n",
        "ในการดำเนินงานศูนย์ยุติธรรมชุมชนและศึกษาความต้องการของชุมชน\\\n",
        "ในการดำเนินงานยุติธรรมชุมชนในพื้นที่โดยมีผู้แทนจากหน่วยงานที่เกี่ยวข้อง เข้าร่วมประชุมฯ\\\n",
        "ณ โรงแรม อมารี ดอนเมือง แอร์พอร์ต กรุงเทพฯ\\\n",
        "รองปลัดกระทรวงยุติธรรม กล่าวว่า กระทรวงยุติธรรม มีนโยบายให้มีการบูรณาการ\\\n",
        "การทำงานของส่วนราชการในสังกัด ทั้งในส่วนกลางและระดับจังหวัด\\\n",
        "เน้นบทบาทหน้าที่ของสำนักงานยุติธรรมจังหวัด และศูนย์ยุติธรรมชุมชน\\\n",
        "โดยประสานงานกับศูนย์ดำรงธรรม และหน่วยงานอื่นๆ ที่เกี่ยวข้อง\\\n",
        "เพื่ออำนวยความยุติธรรม ลดความเหลื่อมล้ำ ให้แก่ประชาชนระดับพื้นที่\\\n",
        "อาทิ การสร้างการรับรู้ด้านกฎหมายในชีวิตประจำวัน การให้คำปรึกษาด้านกฎหมาย\\\n",
        "การทำให้ประชาชนเข้าถึงงานบริการของกองทุนยุติธรรม การช่วยเหลือเยียวยาประชาชนที่ถูกละเมิดสิทธิ\\\n",
        "การสร้างมาตรการไกล่เกลี่ยระงับข้อพิพาทให้เกิดขึ้นในชุมชน การคุ้มครองพยาน\\\n",
        "และการคืนคนดีสู่สังคม เป็นต้น\\\n",
        "ดังนั้น การศึกษาความต้องการของประชาชนในระดับพื้นที่ และการดำเนินงาน\\\n",
        "ร่วมกับหน่วยงานที่เกี่ยวข้องในระดับพื้นที่จึงมีความจำเป็นอย่างมาก\\\n",
        "ซึ่งโครงการศึกษาฯ ดังกล่าว จะทำให้ได้ข้อมูลรูปแบบความต้องการของประชาชน\\\n",
        "และปัจจัยที่ช่วยส่งเสริมการดำเนินงานของศูนย์ยุติธรรมชุมชน\\\n",
        "อันจะนำไปสู่การสังเคราะห์แนวทาง วิธีการดำเนินงานขององค์กรปกครองส่วนท้องถิ่น\\\n",
        "ในการบริหารจัดการศูนย์ยุติธรรมชุมชนอย่างเป็นรูปธรรม ต่อไป\\\n",
        "                            '\n",
        "  \n",
        "                          "
      ],
      "execution_count": 0,
      "outputs": [
        {
          "output_type": "error",
          "ename": "AttributeError",
          "evalue": "ignored",
          "traceback": [
            "\u001b[0;31m---------------------------------------------------------------------------\u001b[0m",
            "\u001b[0;31mAttributeError\u001b[0m                            Traceback (most recent call last)",
            "\u001b[0;32m<ipython-input-145-15706304b652>\u001b[0m in \u001b[0;36m<module>\u001b[0;34m()\u001b[0m\n\u001b[0;32m----> 1\u001b[0;31m \u001b[0mtranslate\u001b[0m\u001b[0;34m(\u001b[0m\u001b[0;34m'“ยุติธรรม” เตรียมความพร้อมร่วมกับองค์กรปกครองส่วนท้องถิ่น เพื่อส่งเสริมการดำเนินงานของศูนย์ยุติธรรมชุมชนกระทรวงยุติธรรม เตรียมความพร้อมร่วมกับองค์กรปกครองส่วนท้องถิ่น เพื่อส่งเสริมการดำเนินงานของศูนย์ยุติธรรมชุมชนในวันพฤหัสบดีที่ ๒๗ กันยายน ๒๕๖๑ เวลา ๐๙.๐๐ น.นางกรรณิการ์ แสงทอง รองปลัดกระทรวงยุติธรรมเป็นประธานการประชุมเชิงปฏิบัติการโครงการวิจัยศักยภาพและความพร้อมขององค์กรปกครองส่วนท้องถิ่นในการส่งเสริมการดำเนินงานศูนย์ยุติธรรมชุมชน : กิจกรรมของหน่วยงานที่เกี่ยวข้อง ครั้งที่ ๑เพื่อแลกเปลี่ยนความคิดเห็นในการศึกษาศักยภาพและความพร้อมขององค์กรปกครองส่วนท้องถิ่นในการดำเนินงานศูนย์ยุติธรรมชุมชนและศึกษาความต้องการของชุมชนในการดำเนินงานยุติธรรมชุมชนในพื้นที่โดยมีผู้แทนจากหน่วยงานที่เกี่ยวข้อง เข้าร่วมประชุมฯณ โรงแรม อมารี ดอนเมือง แอร์พอร์ต กรุงเทพฯรองปลัดกระทรวงยุติธรรม กล่าวว่า กระทรวงยุติธรรม มีนโยบายให้มีการบูรณาการการทำงานของส่วนราชการในสังกัด ทั้งในส่วนกลางและระดับจังหวัดเน้นบทบาทหน้าที่ของสำนักงานยุติธรรมจังหวัด และศูนย์ยุติธรรมชุมชนโดยประสานงานกับศูนย์ดำรงธรรม และหน่วยงานอื่นๆ ที่เกี่ยวข้องเพื่ออำนวยความยุติธรรม ลดความเหลื่อมล้ำ ให้แก่ประชาชนระดับพื้นที่อาทิ การสร้างการรับรู้ด้านกฎหมายในชีวิตประจำวัน การให้คำปรึกษาด้านกฎหมายการทำให้ประชาชนเข้าถึงงานบริการของกองทุนยุติธรรม การช่วยเหลือเยียวยาประชาชนที่ถูกละเมิดสิทธิการสร้างมาตรการไกล่เกลี่ยระงับข้อพิพาทให้เกิดขึ้นในชุมชน การคุ้มครองพยานและการคืนคนดีสู่สังคม เป็นต้นดังนั้น การศึกษาความต้องการของประชาชนในระดับพื้นที่ และการดำเนินงานร่วมกับหน่วยงานที่เกี่ยวข้องในระดับพื...\n\u001b[0m",
            "\u001b[0;32m<ipython-input-137-11e0d778f1e1>\u001b[0m in \u001b[0;36mtranslate\u001b[0;34m(sentence)\u001b[0m\n\u001b[1;32m      1\u001b[0m \u001b[0;32mdef\u001b[0m \u001b[0mtranslate\u001b[0m\u001b[0;34m(\u001b[0m\u001b[0msentence\u001b[0m\u001b[0;34m)\u001b[0m\u001b[0;34m:\u001b[0m\u001b[0;34m\u001b[0m\u001b[0;34m\u001b[0m\u001b[0m\n\u001b[0;32m----> 2\u001b[0;31m   \u001b[0mresult\u001b[0m\u001b[0;34m,\u001b[0m \u001b[0msentence\u001b[0m\u001b[0;34m,\u001b[0m \u001b[0mattention_plot\u001b[0m \u001b[0;34m=\u001b[0m \u001b[0mevaluate\u001b[0m\u001b[0;34m(\u001b[0m\u001b[0msentence\u001b[0m\u001b[0;34m)\u001b[0m\u001b[0;34m\u001b[0m\u001b[0;34m\u001b[0m\u001b[0m\n\u001b[0m\u001b[1;32m      3\u001b[0m \u001b[0;34m\u001b[0m\u001b[0m\n\u001b[1;32m      4\u001b[0m   \u001b[0mprint\u001b[0m\u001b[0;34m(\u001b[0m\u001b[0;34m'Input: %s'\u001b[0m \u001b[0;34m%\u001b[0m \u001b[0;34m(\u001b[0m\u001b[0msentence\u001b[0m\u001b[0;34m)\u001b[0m\u001b[0;34m)\u001b[0m\u001b[0;34m\u001b[0m\u001b[0;34m\u001b[0m\u001b[0m\n\u001b[1;32m      5\u001b[0m   \u001b[0mprint\u001b[0m\u001b[0;34m(\u001b[0m\u001b[0;34m'Predicted translation: {}'\u001b[0m\u001b[0;34m.\u001b[0m\u001b[0mformat\u001b[0m\u001b[0;34m(\u001b[0m\u001b[0mresult\u001b[0m\u001b[0;34m)\u001b[0m\u001b[0;34m)\u001b[0m\u001b[0;34m\u001b[0m\u001b[0;34m\u001b[0m\u001b[0m\n",
            "\u001b[0;32m<ipython-input-135-35fb32fc9085>\u001b[0m in \u001b[0;36mevaluate\u001b[0;34m(sentence)\u001b[0m\n\u001b[1;32m      2\u001b[0m   \u001b[0mattention_plot\u001b[0m \u001b[0;34m=\u001b[0m \u001b[0mnp\u001b[0m\u001b[0;34m.\u001b[0m\u001b[0mzeros\u001b[0m\u001b[0;34m(\u001b[0m\u001b[0;34m(\u001b[0m\u001b[0mmaxlen_output\u001b[0m\u001b[0;34m,\u001b[0m \u001b[0mmaxlen_input\u001b[0m\u001b[0;34m)\u001b[0m\u001b[0;34m)\u001b[0m\u001b[0;34m\u001b[0m\u001b[0;34m\u001b[0m\u001b[0m\n\u001b[1;32m      3\u001b[0m \u001b[0;34m\u001b[0m\u001b[0m\n\u001b[0;32m----> 4\u001b[0;31m   \u001b[0minputs\u001b[0m \u001b[0;34m=\u001b[0m \u001b[0msentence\u001b[0m\u001b[0;34m.\u001b[0m\u001b[0mreshape\u001b[0m\u001b[0;34m(\u001b[0m\u001b[0;36m1\u001b[0m\u001b[0;34m,\u001b[0m \u001b[0mmaxlen_input\u001b[0m\u001b[0;34m)\u001b[0m\u001b[0;34m\u001b[0m\u001b[0;34m\u001b[0m\u001b[0m\n\u001b[0m\u001b[1;32m      5\u001b[0m   \u001b[0;31m# sentence = preprocess_sentence(sentence)\u001b[0m\u001b[0;34m\u001b[0m\u001b[0;34m\u001b[0m\u001b[0;34m\u001b[0m\u001b[0m\n\u001b[1;32m      6\u001b[0m \u001b[0;34m\u001b[0m\u001b[0m\n",
            "\u001b[0;31mAttributeError\u001b[0m: 'str' object has no attribute 'reshape'"
          ]
        }
      ]
    },
    {
      "cell_type": "code",
      "metadata": {
        "id": "VVYfsRcWlKw-",
        "colab_type": "code",
        "colab": {}
      },
      "source": [
        "translate(u'¿todavia estan en casa?')"
      ],
      "execution_count": 0,
      "outputs": []
    },
    {
      "cell_type": "code",
      "metadata": {
        "id": "st5MifFvdGCR",
        "colab_type": "code",
        "colab": {}
      },
      "source": [
        "# Converts the unicode file to ascii\n",
        "def unicode_to_ascii(s):\n",
        "  return ''.join(c for c in unicodedata.normalize('NFD', s)\n",
        "      if unicodedata.category(c) != 'Mn')\n",
        "\n",
        "\n",
        "def preprocess_sentence(w):\n",
        "  w = unicode_to_ascii(w.lower().strip())\n",
        "\n",
        "  # creating a space between a word and the punctuation following it\n",
        "  # eg: \"he is a boy.\" => \"he is a boy .\"\n",
        "  # Reference:- https://stackoverflow.com/questions/3645931/python-padding-punctuation-with-white-spaces-keeping-punctuation\n",
        "  w = re.sub(r\"([?.!,¿])\", r\" \\1 \", w)\n",
        "  w = re.sub(r'[\" \"]+', \" \", w)\n",
        "\n",
        "  # replacing everything with space except (a-z, A-Z, \".\", \"?\", \"!\", \",\")\n",
        "  w = re.sub(r\"[^a-zA-Z?.!,¿]+\", \" \", w)\n",
        "\n",
        "  w = w.strip()\n",
        "\n",
        "  # adding a start and an end token to the sentence\n",
        "  # so that the model know when to start and stop predicting.\n",
        "  w = '<s> ' + w + ' </s>'\n",
        "  return w"
      ],
      "execution_count": 0,
      "outputs": []
    },
    {
      "cell_type": "code",
      "metadata": {
        "id": "1qKSerOMdRxj",
        "colab_type": "code",
        "colab": {}
      },
      "source": [
        ""
      ],
      "execution_count": 0,
      "outputs": []
    }
  ]
}