{
  "nbformat": 4,
  "nbformat_minor": 0,
  "metadata": {
    "colab": {
      "name": "tf2_seq2seq.ipynb",
      "provenance": [],
      "collapsed_sections": [
        "9QCxUmUZuRlN",
        "n_gxfhscI2xc"
      ],
      "machine_shape": "hm",
      "mount_file_id": "1aG95B81oj5fYc_GDosoSRFscLwCZqHJM",
      "authorship_tag": "ABX9TyPikwQGCxYPeFTvip/UhOXA",
      "include_colab_link": true
    },
    "kernelspec": {
      "name": "python3",
      "display_name": "Python 3"
    },
    "accelerator": "GPU",
    "widgets": {
      "application/vnd.jupyter.widget-state+json": {
        "f77c7c5d3d7e463a944062d113ebcf4c": {
          "model_module": "@jupyter-widgets/controls",
          "model_name": "HBoxModel",
          "state": {
            "_view_name": "HBoxView",
            "_dom_classes": [],
            "_model_name": "HBoxModel",
            "_view_module": "@jupyter-widgets/controls",
            "_model_module_version": "1.5.0",
            "_view_count": null,
            "_view_module_version": "1.5.0",
            "box_style": "",
            "layout": "IPY_MODEL_f54eb1d099184f498b2c9fbdc57745d3",
            "_model_module": "@jupyter-widgets/controls",
            "children": [
              "IPY_MODEL_db44e4f3c6674c60a9fcb6cbb398a09f",
              "IPY_MODEL_63c68cf6fc7f4431872963e88fe0427f"
            ]
          }
        },
        "f54eb1d099184f498b2c9fbdc57745d3": {
          "model_module": "@jupyter-widgets/base",
          "model_name": "LayoutModel",
          "state": {
            "_view_name": "LayoutView",
            "grid_template_rows": null,
            "right": null,
            "justify_content": null,
            "_view_module": "@jupyter-widgets/base",
            "overflow": null,
            "_model_module_version": "1.2.0",
            "_view_count": null,
            "flex_flow": null,
            "width": null,
            "min_width": null,
            "border": null,
            "align_items": null,
            "bottom": null,
            "_model_module": "@jupyter-widgets/base",
            "top": null,
            "grid_column": null,
            "overflow_y": null,
            "overflow_x": null,
            "grid_auto_flow": null,
            "grid_area": null,
            "grid_template_columns": null,
            "flex": null,
            "_model_name": "LayoutModel",
            "justify_items": null,
            "grid_row": null,
            "max_height": null,
            "align_content": null,
            "visibility": null,
            "align_self": null,
            "height": null,
            "min_height": null,
            "padding": null,
            "grid_auto_rows": null,
            "grid_gap": null,
            "max_width": null,
            "order": null,
            "_view_module_version": "1.2.0",
            "grid_template_areas": null,
            "object_position": null,
            "object_fit": null,
            "grid_auto_columns": null,
            "margin": null,
            "display": null,
            "left": null
          }
        },
        "db44e4f3c6674c60a9fcb6cbb398a09f": {
          "model_module": "@jupyter-widgets/controls",
          "model_name": "FloatProgressModel",
          "state": {
            "_view_name": "ProgressView",
            "style": "IPY_MODEL_808214307ca94cbe9bb708ebd2610e07",
            "_dom_classes": [],
            "description": "100%",
            "_model_name": "FloatProgressModel",
            "bar_style": "success",
            "max": 11615,
            "_view_module": "@jupyter-widgets/controls",
            "_model_module_version": "1.5.0",
            "value": 11615,
            "_view_count": null,
            "_view_module_version": "1.5.0",
            "orientation": "horizontal",
            "min": 0,
            "description_tooltip": null,
            "_model_module": "@jupyter-widgets/controls",
            "layout": "IPY_MODEL_0c3c83fc3c65470fbd3e7d6d7e4c62d9"
          }
        },
        "63c68cf6fc7f4431872963e88fe0427f": {
          "model_module": "@jupyter-widgets/controls",
          "model_name": "HTMLModel",
          "state": {
            "_view_name": "HTMLView",
            "style": "IPY_MODEL_c8f3b1b2134a48f0a730572d6545bc3e",
            "_dom_classes": [],
            "description": "",
            "_model_name": "HTMLModel",
            "placeholder": "​",
            "_view_module": "@jupyter-widgets/controls",
            "_model_module_version": "1.5.0",
            "value": " 11615/11615 [51:14&lt;00:00,  3.78it/s]",
            "_view_count": null,
            "_view_module_version": "1.5.0",
            "description_tooltip": null,
            "_model_module": "@jupyter-widgets/controls",
            "layout": "IPY_MODEL_7d3b58ecadb04b589c699061dc86bec8"
          }
        },
        "808214307ca94cbe9bb708ebd2610e07": {
          "model_module": "@jupyter-widgets/controls",
          "model_name": "ProgressStyleModel",
          "state": {
            "_view_name": "StyleView",
            "_model_name": "ProgressStyleModel",
            "description_width": "initial",
            "_view_module": "@jupyter-widgets/base",
            "_model_module_version": "1.5.0",
            "_view_count": null,
            "_view_module_version": "1.2.0",
            "bar_color": null,
            "_model_module": "@jupyter-widgets/controls"
          }
        },
        "0c3c83fc3c65470fbd3e7d6d7e4c62d9": {
          "model_module": "@jupyter-widgets/base",
          "model_name": "LayoutModel",
          "state": {
            "_view_name": "LayoutView",
            "grid_template_rows": null,
            "right": null,
            "justify_content": null,
            "_view_module": "@jupyter-widgets/base",
            "overflow": null,
            "_model_module_version": "1.2.0",
            "_view_count": null,
            "flex_flow": null,
            "width": null,
            "min_width": null,
            "border": null,
            "align_items": null,
            "bottom": null,
            "_model_module": "@jupyter-widgets/base",
            "top": null,
            "grid_column": null,
            "overflow_y": null,
            "overflow_x": null,
            "grid_auto_flow": null,
            "grid_area": null,
            "grid_template_columns": null,
            "flex": null,
            "_model_name": "LayoutModel",
            "justify_items": null,
            "grid_row": null,
            "max_height": null,
            "align_content": null,
            "visibility": null,
            "align_self": null,
            "height": null,
            "min_height": null,
            "padding": null,
            "grid_auto_rows": null,
            "grid_gap": null,
            "max_width": null,
            "order": null,
            "_view_module_version": "1.2.0",
            "grid_template_areas": null,
            "object_position": null,
            "object_fit": null,
            "grid_auto_columns": null,
            "margin": null,
            "display": null,
            "left": null
          }
        },
        "c8f3b1b2134a48f0a730572d6545bc3e": {
          "model_module": "@jupyter-widgets/controls",
          "model_name": "DescriptionStyleModel",
          "state": {
            "_view_name": "StyleView",
            "_model_name": "DescriptionStyleModel",
            "description_width": "",
            "_view_module": "@jupyter-widgets/base",
            "_model_module_version": "1.5.0",
            "_view_count": null,
            "_view_module_version": "1.2.0",
            "_model_module": "@jupyter-widgets/controls"
          }
        },
        "7d3b58ecadb04b589c699061dc86bec8": {
          "model_module": "@jupyter-widgets/base",
          "model_name": "LayoutModel",
          "state": {
            "_view_name": "LayoutView",
            "grid_template_rows": null,
            "right": null,
            "justify_content": null,
            "_view_module": "@jupyter-widgets/base",
            "overflow": null,
            "_model_module_version": "1.2.0",
            "_view_count": null,
            "flex_flow": null,
            "width": null,
            "min_width": null,
            "border": null,
            "align_items": null,
            "bottom": null,
            "_model_module": "@jupyter-widgets/base",
            "top": null,
            "grid_column": null,
            "overflow_y": null,
            "overflow_x": null,
            "grid_auto_flow": null,
            "grid_area": null,
            "grid_template_columns": null,
            "flex": null,
            "_model_name": "LayoutModel",
            "justify_items": null,
            "grid_row": null,
            "max_height": null,
            "align_content": null,
            "visibility": null,
            "align_self": null,
            "height": null,
            "min_height": null,
            "padding": null,
            "grid_auto_rows": null,
            "grid_gap": null,
            "max_width": null,
            "order": null,
            "_view_module_version": "1.2.0",
            "grid_template_areas": null,
            "object_position": null,
            "object_fit": null,
            "grid_auto_columns": null,
            "margin": null,
            "display": null,
            "left": null
          }
        },
        "01a4997c0e914c2aaaced33a12891022": {
          "model_module": "@jupyter-widgets/controls",
          "model_name": "HBoxModel",
          "state": {
            "_view_name": "HBoxView",
            "_dom_classes": [],
            "_model_name": "HBoxModel",
            "_view_module": "@jupyter-widgets/controls",
            "_model_module_version": "1.5.0",
            "_view_count": null,
            "_view_module_version": "1.5.0",
            "box_style": "",
            "layout": "IPY_MODEL_c62369c00498409e910a083711430139",
            "_model_module": "@jupyter-widgets/controls",
            "children": [
              "IPY_MODEL_465bc66639704058b04b3da3eb6227ce",
              "IPY_MODEL_68bed1690d134cb28263ce535181a279"
            ]
          }
        },
        "c62369c00498409e910a083711430139": {
          "model_module": "@jupyter-widgets/base",
          "model_name": "LayoutModel",
          "state": {
            "_view_name": "LayoutView",
            "grid_template_rows": null,
            "right": null,
            "justify_content": null,
            "_view_module": "@jupyter-widgets/base",
            "overflow": null,
            "_model_module_version": "1.2.0",
            "_view_count": null,
            "flex_flow": null,
            "width": null,
            "min_width": null,
            "border": null,
            "align_items": null,
            "bottom": null,
            "_model_module": "@jupyter-widgets/base",
            "top": null,
            "grid_column": null,
            "overflow_y": null,
            "overflow_x": null,
            "grid_auto_flow": null,
            "grid_area": null,
            "grid_template_columns": null,
            "flex": null,
            "_model_name": "LayoutModel",
            "justify_items": null,
            "grid_row": null,
            "max_height": null,
            "align_content": null,
            "visibility": null,
            "align_self": null,
            "height": null,
            "min_height": null,
            "padding": null,
            "grid_auto_rows": null,
            "grid_gap": null,
            "max_width": null,
            "order": null,
            "_view_module_version": "1.2.0",
            "grid_template_areas": null,
            "object_position": null,
            "object_fit": null,
            "grid_auto_columns": null,
            "margin": null,
            "display": null,
            "left": null
          }
        },
        "465bc66639704058b04b3da3eb6227ce": {
          "model_module": "@jupyter-widgets/controls",
          "model_name": "FloatProgressModel",
          "state": {
            "_view_name": "ProgressView",
            "style": "IPY_MODEL_06a9b73c9b6f413f8e9593d62683cd83",
            "_dom_classes": [],
            "description": "100%",
            "_model_name": "FloatProgressModel",
            "bar_style": "success",
            "max": 2861,
            "_view_module": "@jupyter-widgets/controls",
            "_model_module_version": "1.5.0",
            "value": 2861,
            "_view_count": null,
            "_view_module_version": "1.5.0",
            "orientation": "horizontal",
            "min": 0,
            "description_tooltip": null,
            "_model_module": "@jupyter-widgets/controls",
            "layout": "IPY_MODEL_d7d34ee4f44c4e37854a57bea9da0969"
          }
        },
        "68bed1690d134cb28263ce535181a279": {
          "model_module": "@jupyter-widgets/controls",
          "model_name": "HTMLModel",
          "state": {
            "_view_name": "HTMLView",
            "style": "IPY_MODEL_f0ca5886f9ae4cb98f39236ad1367af3",
            "_dom_classes": [],
            "description": "",
            "_model_name": "HTMLModel",
            "placeholder": "​",
            "_view_module": "@jupyter-widgets/controls",
            "_model_module_version": "1.5.0",
            "value": " 2861/2861 [15:43&lt;00:00,  3.03it/s]",
            "_view_count": null,
            "_view_module_version": "1.5.0",
            "description_tooltip": null,
            "_model_module": "@jupyter-widgets/controls",
            "layout": "IPY_MODEL_e996b2f4782541569c1559d1fa4b27e7"
          }
        },
        "06a9b73c9b6f413f8e9593d62683cd83": {
          "model_module": "@jupyter-widgets/controls",
          "model_name": "ProgressStyleModel",
          "state": {
            "_view_name": "StyleView",
            "_model_name": "ProgressStyleModel",
            "description_width": "initial",
            "_view_module": "@jupyter-widgets/base",
            "_model_module_version": "1.5.0",
            "_view_count": null,
            "_view_module_version": "1.2.0",
            "bar_color": null,
            "_model_module": "@jupyter-widgets/controls"
          }
        },
        "d7d34ee4f44c4e37854a57bea9da0969": {
          "model_module": "@jupyter-widgets/base",
          "model_name": "LayoutModel",
          "state": {
            "_view_name": "LayoutView",
            "grid_template_rows": null,
            "right": null,
            "justify_content": null,
            "_view_module": "@jupyter-widgets/base",
            "overflow": null,
            "_model_module_version": "1.2.0",
            "_view_count": null,
            "flex_flow": null,
            "width": null,
            "min_width": null,
            "border": null,
            "align_items": null,
            "bottom": null,
            "_model_module": "@jupyter-widgets/base",
            "top": null,
            "grid_column": null,
            "overflow_y": null,
            "overflow_x": null,
            "grid_auto_flow": null,
            "grid_area": null,
            "grid_template_columns": null,
            "flex": null,
            "_model_name": "LayoutModel",
            "justify_items": null,
            "grid_row": null,
            "max_height": null,
            "align_content": null,
            "visibility": null,
            "align_self": null,
            "height": null,
            "min_height": null,
            "padding": null,
            "grid_auto_rows": null,
            "grid_gap": null,
            "max_width": null,
            "order": null,
            "_view_module_version": "1.2.0",
            "grid_template_areas": null,
            "object_position": null,
            "object_fit": null,
            "grid_auto_columns": null,
            "margin": null,
            "display": null,
            "left": null
          }
        },
        "f0ca5886f9ae4cb98f39236ad1367af3": {
          "model_module": "@jupyter-widgets/controls",
          "model_name": "DescriptionStyleModel",
          "state": {
            "_view_name": "StyleView",
            "_model_name": "DescriptionStyleModel",
            "description_width": "",
            "_view_module": "@jupyter-widgets/base",
            "_model_module_version": "1.5.0",
            "_view_count": null,
            "_view_module_version": "1.2.0",
            "_model_module": "@jupyter-widgets/controls"
          }
        },
        "e996b2f4782541569c1559d1fa4b27e7": {
          "model_module": "@jupyter-widgets/base",
          "model_name": "LayoutModel",
          "state": {
            "_view_name": "LayoutView",
            "grid_template_rows": null,
            "right": null,
            "justify_content": null,
            "_view_module": "@jupyter-widgets/base",
            "overflow": null,
            "_model_module_version": "1.2.0",
            "_view_count": null,
            "flex_flow": null,
            "width": null,
            "min_width": null,
            "border": null,
            "align_items": null,
            "bottom": null,
            "_model_module": "@jupyter-widgets/base",
            "top": null,
            "grid_column": null,
            "overflow_y": null,
            "overflow_x": null,
            "grid_auto_flow": null,
            "grid_area": null,
            "grid_template_columns": null,
            "flex": null,
            "_model_name": "LayoutModel",
            "justify_items": null,
            "grid_row": null,
            "max_height": null,
            "align_content": null,
            "visibility": null,
            "align_self": null,
            "height": null,
            "min_height": null,
            "padding": null,
            "grid_auto_rows": null,
            "grid_gap": null,
            "max_width": null,
            "order": null,
            "_view_module_version": "1.2.0",
            "grid_template_areas": null,
            "object_position": null,
            "object_fit": null,
            "grid_auto_columns": null,
            "margin": null,
            "display": null,
            "left": null
          }
        },
        "2992ce5606f949ae99785b0b3601d5d4": {
          "model_module": "@jupyter-widgets/controls",
          "model_name": "HBoxModel",
          "state": {
            "_view_name": "HBoxView",
            "_dom_classes": [],
            "_model_name": "HBoxModel",
            "_view_module": "@jupyter-widgets/controls",
            "_model_module_version": "1.5.0",
            "_view_count": null,
            "_view_module_version": "1.5.0",
            "box_style": "",
            "layout": "IPY_MODEL_cd2e72985323495ebde94c65afc8c724",
            "_model_module": "@jupyter-widgets/controls",
            "children": [
              "IPY_MODEL_47a723077e394c3f926fbfb9e57f68ab",
              "IPY_MODEL_0fc0a20357344debb3bafcde4ae2822b"
            ]
          }
        },
        "cd2e72985323495ebde94c65afc8c724": {
          "model_module": "@jupyter-widgets/base",
          "model_name": "LayoutModel",
          "state": {
            "_view_name": "LayoutView",
            "grid_template_rows": null,
            "right": null,
            "justify_content": null,
            "_view_module": "@jupyter-widgets/base",
            "overflow": null,
            "_model_module_version": "1.2.0",
            "_view_count": null,
            "flex_flow": null,
            "width": null,
            "min_width": null,
            "border": null,
            "align_items": null,
            "bottom": null,
            "_model_module": "@jupyter-widgets/base",
            "top": null,
            "grid_column": null,
            "overflow_y": null,
            "overflow_x": null,
            "grid_auto_flow": null,
            "grid_area": null,
            "grid_template_columns": null,
            "flex": null,
            "_model_name": "LayoutModel",
            "justify_items": null,
            "grid_row": null,
            "max_height": null,
            "align_content": null,
            "visibility": null,
            "align_self": null,
            "height": null,
            "min_height": null,
            "padding": null,
            "grid_auto_rows": null,
            "grid_gap": null,
            "max_width": null,
            "order": null,
            "_view_module_version": "1.2.0",
            "grid_template_areas": null,
            "object_position": null,
            "object_fit": null,
            "grid_auto_columns": null,
            "margin": null,
            "display": null,
            "left": null
          }
        },
        "47a723077e394c3f926fbfb9e57f68ab": {
          "model_module": "@jupyter-widgets/controls",
          "model_name": "FloatProgressModel",
          "state": {
            "_view_name": "ProgressView",
            "style": "IPY_MODEL_25c48d84fbdb4ee194a77aaf10743804",
            "_dom_classes": [],
            "description": "100%",
            "_model_name": "FloatProgressModel",
            "bar_style": "success",
            "max": 2861,
            "_view_module": "@jupyter-widgets/controls",
            "_model_module_version": "1.5.0",
            "value": 2861,
            "_view_count": null,
            "_view_module_version": "1.5.0",
            "orientation": "horizontal",
            "min": 0,
            "description_tooltip": null,
            "_model_module": "@jupyter-widgets/controls",
            "layout": "IPY_MODEL_c27d1a38680c427f90336a87cbfc2fc9"
          }
        },
        "0fc0a20357344debb3bafcde4ae2822b": {
          "model_module": "@jupyter-widgets/controls",
          "model_name": "HTMLModel",
          "state": {
            "_view_name": "HTMLView",
            "style": "IPY_MODEL_2a88adfa60664b73a044116fb27d5019",
            "_dom_classes": [],
            "description": "",
            "_model_name": "HTMLModel",
            "placeholder": "​",
            "_view_module": "@jupyter-widgets/controls",
            "_model_module_version": "1.5.0",
            "value": " 2861/2861 [07:53&lt;00:00,  6.05it/s]",
            "_view_count": null,
            "_view_module_version": "1.5.0",
            "description_tooltip": null,
            "_model_module": "@jupyter-widgets/controls",
            "layout": "IPY_MODEL_1b2705ab60ef44b08134a0d38f23543f"
          }
        },
        "25c48d84fbdb4ee194a77aaf10743804": {
          "model_module": "@jupyter-widgets/controls",
          "model_name": "ProgressStyleModel",
          "state": {
            "_view_name": "StyleView",
            "_model_name": "ProgressStyleModel",
            "description_width": "initial",
            "_view_module": "@jupyter-widgets/base",
            "_model_module_version": "1.5.0",
            "_view_count": null,
            "_view_module_version": "1.2.0",
            "bar_color": null,
            "_model_module": "@jupyter-widgets/controls"
          }
        },
        "c27d1a38680c427f90336a87cbfc2fc9": {
          "model_module": "@jupyter-widgets/base",
          "model_name": "LayoutModel",
          "state": {
            "_view_name": "LayoutView",
            "grid_template_rows": null,
            "right": null,
            "justify_content": null,
            "_view_module": "@jupyter-widgets/base",
            "overflow": null,
            "_model_module_version": "1.2.0",
            "_view_count": null,
            "flex_flow": null,
            "width": null,
            "min_width": null,
            "border": null,
            "align_items": null,
            "bottom": null,
            "_model_module": "@jupyter-widgets/base",
            "top": null,
            "grid_column": null,
            "overflow_y": null,
            "overflow_x": null,
            "grid_auto_flow": null,
            "grid_area": null,
            "grid_template_columns": null,
            "flex": null,
            "_model_name": "LayoutModel",
            "justify_items": null,
            "grid_row": null,
            "max_height": null,
            "align_content": null,
            "visibility": null,
            "align_self": null,
            "height": null,
            "min_height": null,
            "padding": null,
            "grid_auto_rows": null,
            "grid_gap": null,
            "max_width": null,
            "order": null,
            "_view_module_version": "1.2.0",
            "grid_template_areas": null,
            "object_position": null,
            "object_fit": null,
            "grid_auto_columns": null,
            "margin": null,
            "display": null,
            "left": null
          }
        },
        "2a88adfa60664b73a044116fb27d5019": {
          "model_module": "@jupyter-widgets/controls",
          "model_name": "DescriptionStyleModel",
          "state": {
            "_view_name": "StyleView",
            "_model_name": "DescriptionStyleModel",
            "description_width": "",
            "_view_module": "@jupyter-widgets/base",
            "_model_module_version": "1.5.0",
            "_view_count": null,
            "_view_module_version": "1.2.0",
            "_model_module": "@jupyter-widgets/controls"
          }
        },
        "1b2705ab60ef44b08134a0d38f23543f": {
          "model_module": "@jupyter-widgets/base",
          "model_name": "LayoutModel",
          "state": {
            "_view_name": "LayoutView",
            "grid_template_rows": null,
            "right": null,
            "justify_content": null,
            "_view_module": "@jupyter-widgets/base",
            "overflow": null,
            "_model_module_version": "1.2.0",
            "_view_count": null,
            "flex_flow": null,
            "width": null,
            "min_width": null,
            "border": null,
            "align_items": null,
            "bottom": null,
            "_model_module": "@jupyter-widgets/base",
            "top": null,
            "grid_column": null,
            "overflow_y": null,
            "overflow_x": null,
            "grid_auto_flow": null,
            "grid_area": null,
            "grid_template_columns": null,
            "flex": null,
            "_model_name": "LayoutModel",
            "justify_items": null,
            "grid_row": null,
            "max_height": null,
            "align_content": null,
            "visibility": null,
            "align_self": null,
            "height": null,
            "min_height": null,
            "padding": null,
            "grid_auto_rows": null,
            "grid_gap": null,
            "max_width": null,
            "order": null,
            "_view_module_version": "1.2.0",
            "grid_template_areas": null,
            "object_position": null,
            "object_fit": null,
            "grid_auto_columns": null,
            "margin": null,
            "display": null,
            "left": null
          }
        },
        "540f8f9034714934be0f09f42752e994": {
          "model_module": "@jupyter-widgets/controls",
          "model_name": "HBoxModel",
          "state": {
            "_view_name": "HBoxView",
            "_dom_classes": [],
            "_model_name": "HBoxModel",
            "_view_module": "@jupyter-widgets/controls",
            "_model_module_version": "1.5.0",
            "_view_count": null,
            "_view_module_version": "1.5.0",
            "box_style": "",
            "layout": "IPY_MODEL_fd5deff8fc3847749b4ae47a7be48213",
            "_model_module": "@jupyter-widgets/controls",
            "children": [
              "IPY_MODEL_2bf86275eca7420ba75213450ec3e9cd",
              "IPY_MODEL_ecbbab9978344ddfb38a90a2ca31e30d"
            ]
          }
        },
        "fd5deff8fc3847749b4ae47a7be48213": {
          "model_module": "@jupyter-widgets/base",
          "model_name": "LayoutModel",
          "state": {
            "_view_name": "LayoutView",
            "grid_template_rows": null,
            "right": null,
            "justify_content": null,
            "_view_module": "@jupyter-widgets/base",
            "overflow": null,
            "_model_module_version": "1.2.0",
            "_view_count": null,
            "flex_flow": null,
            "width": null,
            "min_width": null,
            "border": null,
            "align_items": null,
            "bottom": null,
            "_model_module": "@jupyter-widgets/base",
            "top": null,
            "grid_column": null,
            "overflow_y": null,
            "overflow_x": null,
            "grid_auto_flow": null,
            "grid_area": null,
            "grid_template_columns": null,
            "flex": null,
            "_model_name": "LayoutModel",
            "justify_items": null,
            "grid_row": null,
            "max_height": null,
            "align_content": null,
            "visibility": null,
            "align_self": null,
            "height": null,
            "min_height": null,
            "padding": null,
            "grid_auto_rows": null,
            "grid_gap": null,
            "max_width": null,
            "order": null,
            "_view_module_version": "1.2.0",
            "grid_template_areas": null,
            "object_position": null,
            "object_fit": null,
            "grid_auto_columns": null,
            "margin": null,
            "display": null,
            "left": null
          }
        },
        "2bf86275eca7420ba75213450ec3e9cd": {
          "model_module": "@jupyter-widgets/controls",
          "model_name": "FloatProgressModel",
          "state": {
            "_view_name": "ProgressView",
            "style": "IPY_MODEL_5142cae9f94f4799a4a074edd737d589",
            "_dom_classes": [],
            "description": "100%",
            "_model_name": "FloatProgressModel",
            "bar_style": "success",
            "max": 11615,
            "_view_module": "@jupyter-widgets/controls",
            "_model_module_version": "1.5.0",
            "value": 11615,
            "_view_count": null,
            "_view_module_version": "1.5.0",
            "orientation": "horizontal",
            "min": 0,
            "description_tooltip": null,
            "_model_module": "@jupyter-widgets/controls",
            "layout": "IPY_MODEL_010c881da62042f2914d748b77d4f738"
          }
        },
        "ecbbab9978344ddfb38a90a2ca31e30d": {
          "model_module": "@jupyter-widgets/controls",
          "model_name": "HTMLModel",
          "state": {
            "_view_name": "HTMLView",
            "style": "IPY_MODEL_ec0029b7bbd54126818c4931ab84e610",
            "_dom_classes": [],
            "description": "",
            "_model_name": "HTMLModel",
            "placeholder": "​",
            "_view_module": "@jupyter-widgets/controls",
            "_model_module_version": "1.5.0",
            "value": " 11615/11615 [48:47&lt;00:00,  3.97it/s]",
            "_view_count": null,
            "_view_module_version": "1.5.0",
            "description_tooltip": null,
            "_model_module": "@jupyter-widgets/controls",
            "layout": "IPY_MODEL_6ecb4ca57a5041958b530404391f042e"
          }
        },
        "5142cae9f94f4799a4a074edd737d589": {
          "model_module": "@jupyter-widgets/controls",
          "model_name": "ProgressStyleModel",
          "state": {
            "_view_name": "StyleView",
            "_model_name": "ProgressStyleModel",
            "description_width": "initial",
            "_view_module": "@jupyter-widgets/base",
            "_model_module_version": "1.5.0",
            "_view_count": null,
            "_view_module_version": "1.2.0",
            "bar_color": null,
            "_model_module": "@jupyter-widgets/controls"
          }
        },
        "010c881da62042f2914d748b77d4f738": {
          "model_module": "@jupyter-widgets/base",
          "model_name": "LayoutModel",
          "state": {
            "_view_name": "LayoutView",
            "grid_template_rows": null,
            "right": null,
            "justify_content": null,
            "_view_module": "@jupyter-widgets/base",
            "overflow": null,
            "_model_module_version": "1.2.0",
            "_view_count": null,
            "flex_flow": null,
            "width": null,
            "min_width": null,
            "border": null,
            "align_items": null,
            "bottom": null,
            "_model_module": "@jupyter-widgets/base",
            "top": null,
            "grid_column": null,
            "overflow_y": null,
            "overflow_x": null,
            "grid_auto_flow": null,
            "grid_area": null,
            "grid_template_columns": null,
            "flex": null,
            "_model_name": "LayoutModel",
            "justify_items": null,
            "grid_row": null,
            "max_height": null,
            "align_content": null,
            "visibility": null,
            "align_self": null,
            "height": null,
            "min_height": null,
            "padding": null,
            "grid_auto_rows": null,
            "grid_gap": null,
            "max_width": null,
            "order": null,
            "_view_module_version": "1.2.0",
            "grid_template_areas": null,
            "object_position": null,
            "object_fit": null,
            "grid_auto_columns": null,
            "margin": null,
            "display": null,
            "left": null
          }
        },
        "ec0029b7bbd54126818c4931ab84e610": {
          "model_module": "@jupyter-widgets/controls",
          "model_name": "DescriptionStyleModel",
          "state": {
            "_view_name": "StyleView",
            "_model_name": "DescriptionStyleModel",
            "description_width": "",
            "_view_module": "@jupyter-widgets/base",
            "_model_module_version": "1.5.0",
            "_view_count": null,
            "_view_module_version": "1.2.0",
            "_model_module": "@jupyter-widgets/controls"
          }
        },
        "6ecb4ca57a5041958b530404391f042e": {
          "model_module": "@jupyter-widgets/base",
          "model_name": "LayoutModel",
          "state": {
            "_view_name": "LayoutView",
            "grid_template_rows": null,
            "right": null,
            "justify_content": null,
            "_view_module": "@jupyter-widgets/base",
            "overflow": null,
            "_model_module_version": "1.2.0",
            "_view_count": null,
            "flex_flow": null,
            "width": null,
            "min_width": null,
            "border": null,
            "align_items": null,
            "bottom": null,
            "_model_module": "@jupyter-widgets/base",
            "top": null,
            "grid_column": null,
            "overflow_y": null,
            "overflow_x": null,
            "grid_auto_flow": null,
            "grid_area": null,
            "grid_template_columns": null,
            "flex": null,
            "_model_name": "LayoutModel",
            "justify_items": null,
            "grid_row": null,
            "max_height": null,
            "align_content": null,
            "visibility": null,
            "align_self": null,
            "height": null,
            "min_height": null,
            "padding": null,
            "grid_auto_rows": null,
            "grid_gap": null,
            "max_width": null,
            "order": null,
            "_view_module_version": "1.2.0",
            "grid_template_areas": null,
            "object_position": null,
            "object_fit": null,
            "grid_auto_columns": null,
            "margin": null,
            "display": null,
            "left": null
          }
        },
        "c03f7e35f49249c58d6b7fe669d7d141": {
          "model_module": "@jupyter-widgets/controls",
          "model_name": "HBoxModel",
          "state": {
            "_view_name": "HBoxView",
            "_dom_classes": [],
            "_model_name": "HBoxModel",
            "_view_module": "@jupyter-widgets/controls",
            "_model_module_version": "1.5.0",
            "_view_count": null,
            "_view_module_version": "1.5.0",
            "box_style": "",
            "layout": "IPY_MODEL_539478cd181e4699a6ac5a1eba9b71d4",
            "_model_module": "@jupyter-widgets/controls",
            "children": [
              "IPY_MODEL_a4b5b332ca9a4e1bb29813d6c2b32f4f",
              "IPY_MODEL_76514f9571cd4b2fada23d85c3eb0ea5"
            ]
          }
        },
        "539478cd181e4699a6ac5a1eba9b71d4": {
          "model_module": "@jupyter-widgets/base",
          "model_name": "LayoutModel",
          "state": {
            "_view_name": "LayoutView",
            "grid_template_rows": null,
            "right": null,
            "justify_content": null,
            "_view_module": "@jupyter-widgets/base",
            "overflow": null,
            "_model_module_version": "1.2.0",
            "_view_count": null,
            "flex_flow": null,
            "width": null,
            "min_width": null,
            "border": null,
            "align_items": null,
            "bottom": null,
            "_model_module": "@jupyter-widgets/base",
            "top": null,
            "grid_column": null,
            "overflow_y": null,
            "overflow_x": null,
            "grid_auto_flow": null,
            "grid_area": null,
            "grid_template_columns": null,
            "flex": null,
            "_model_name": "LayoutModel",
            "justify_items": null,
            "grid_row": null,
            "max_height": null,
            "align_content": null,
            "visibility": null,
            "align_self": null,
            "height": null,
            "min_height": null,
            "padding": null,
            "grid_auto_rows": null,
            "grid_gap": null,
            "max_width": null,
            "order": null,
            "_view_module_version": "1.2.0",
            "grid_template_areas": null,
            "object_position": null,
            "object_fit": null,
            "grid_auto_columns": null,
            "margin": null,
            "display": null,
            "left": null
          }
        },
        "a4b5b332ca9a4e1bb29813d6c2b32f4f": {
          "model_module": "@jupyter-widgets/controls",
          "model_name": "FloatProgressModel",
          "state": {
            "_view_name": "ProgressView",
            "style": "IPY_MODEL_5702164d1f0d42e5a17d6c80eec09291",
            "_dom_classes": [],
            "description": "100%",
            "_model_name": "FloatProgressModel",
            "bar_style": "success",
            "max": 2861,
            "_view_module": "@jupyter-widgets/controls",
            "_model_module_version": "1.5.0",
            "value": 2861,
            "_view_count": null,
            "_view_module_version": "1.5.0",
            "orientation": "horizontal",
            "min": 0,
            "description_tooltip": null,
            "_model_module": "@jupyter-widgets/controls",
            "layout": "IPY_MODEL_70704be6703b49f4af5bd4935cbe9256"
          }
        },
        "76514f9571cd4b2fada23d85c3eb0ea5": {
          "model_module": "@jupyter-widgets/controls",
          "model_name": "HTMLModel",
          "state": {
            "_view_name": "HTMLView",
            "style": "IPY_MODEL_03b98a4112734396acbfb7f4d9b44302",
            "_dom_classes": [],
            "description": "",
            "_model_name": "HTMLModel",
            "placeholder": "​",
            "_view_module": "@jupyter-widgets/controls",
            "_model_module_version": "1.5.0",
            "value": " 2861/2861 [15:18&lt;00:00,  3.11it/s]",
            "_view_count": null,
            "_view_module_version": "1.5.0",
            "description_tooltip": null,
            "_model_module": "@jupyter-widgets/controls",
            "layout": "IPY_MODEL_3b25f4715b304e6cab9cb3236e3985f4"
          }
        },
        "5702164d1f0d42e5a17d6c80eec09291": {
          "model_module": "@jupyter-widgets/controls",
          "model_name": "ProgressStyleModel",
          "state": {
            "_view_name": "StyleView",
            "_model_name": "ProgressStyleModel",
            "description_width": "initial",
            "_view_module": "@jupyter-widgets/base",
            "_model_module_version": "1.5.0",
            "_view_count": null,
            "_view_module_version": "1.2.0",
            "bar_color": null,
            "_model_module": "@jupyter-widgets/controls"
          }
        },
        "70704be6703b49f4af5bd4935cbe9256": {
          "model_module": "@jupyter-widgets/base",
          "model_name": "LayoutModel",
          "state": {
            "_view_name": "LayoutView",
            "grid_template_rows": null,
            "right": null,
            "justify_content": null,
            "_view_module": "@jupyter-widgets/base",
            "overflow": null,
            "_model_module_version": "1.2.0",
            "_view_count": null,
            "flex_flow": null,
            "width": null,
            "min_width": null,
            "border": null,
            "align_items": null,
            "bottom": null,
            "_model_module": "@jupyter-widgets/base",
            "top": null,
            "grid_column": null,
            "overflow_y": null,
            "overflow_x": null,
            "grid_auto_flow": null,
            "grid_area": null,
            "grid_template_columns": null,
            "flex": null,
            "_model_name": "LayoutModel",
            "justify_items": null,
            "grid_row": null,
            "max_height": null,
            "align_content": null,
            "visibility": null,
            "align_self": null,
            "height": null,
            "min_height": null,
            "padding": null,
            "grid_auto_rows": null,
            "grid_gap": null,
            "max_width": null,
            "order": null,
            "_view_module_version": "1.2.0",
            "grid_template_areas": null,
            "object_position": null,
            "object_fit": null,
            "grid_auto_columns": null,
            "margin": null,
            "display": null,
            "left": null
          }
        },
        "03b98a4112734396acbfb7f4d9b44302": {
          "model_module": "@jupyter-widgets/controls",
          "model_name": "DescriptionStyleModel",
          "state": {
            "_view_name": "StyleView",
            "_model_name": "DescriptionStyleModel",
            "description_width": "",
            "_view_module": "@jupyter-widgets/base",
            "_model_module_version": "1.5.0",
            "_view_count": null,
            "_view_module_version": "1.2.0",
            "_model_module": "@jupyter-widgets/controls"
          }
        },
        "3b25f4715b304e6cab9cb3236e3985f4": {
          "model_module": "@jupyter-widgets/base",
          "model_name": "LayoutModel",
          "state": {
            "_view_name": "LayoutView",
            "grid_template_rows": null,
            "right": null,
            "justify_content": null,
            "_view_module": "@jupyter-widgets/base",
            "overflow": null,
            "_model_module_version": "1.2.0",
            "_view_count": null,
            "flex_flow": null,
            "width": null,
            "min_width": null,
            "border": null,
            "align_items": null,
            "bottom": null,
            "_model_module": "@jupyter-widgets/base",
            "top": null,
            "grid_column": null,
            "overflow_y": null,
            "overflow_x": null,
            "grid_auto_flow": null,
            "grid_area": null,
            "grid_template_columns": null,
            "flex": null,
            "_model_name": "LayoutModel",
            "justify_items": null,
            "grid_row": null,
            "max_height": null,
            "align_content": null,
            "visibility": null,
            "align_self": null,
            "height": null,
            "min_height": null,
            "padding": null,
            "grid_auto_rows": null,
            "grid_gap": null,
            "max_width": null,
            "order": null,
            "_view_module_version": "1.2.0",
            "grid_template_areas": null,
            "object_position": null,
            "object_fit": null,
            "grid_auto_columns": null,
            "margin": null,
            "display": null,
            "left": null
          }
        },
        "39795919526f4cf492ae0fcbf425f6b9": {
          "model_module": "@jupyter-widgets/controls",
          "model_name": "HBoxModel",
          "state": {
            "_view_name": "HBoxView",
            "_dom_classes": [],
            "_model_name": "HBoxModel",
            "_view_module": "@jupyter-widgets/controls",
            "_model_module_version": "1.5.0",
            "_view_count": null,
            "_view_module_version": "1.5.0",
            "box_style": "",
            "layout": "IPY_MODEL_b6c2c51d9fe84405845795b9e148e4fc",
            "_model_module": "@jupyter-widgets/controls",
            "children": [
              "IPY_MODEL_3745dc82e04747b88678eca3cbdc1fe5",
              "IPY_MODEL_2576265ee4f244b6ab7e6f3a2fc5e6fe"
            ]
          }
        },
        "b6c2c51d9fe84405845795b9e148e4fc": {
          "model_module": "@jupyter-widgets/base",
          "model_name": "LayoutModel",
          "state": {
            "_view_name": "LayoutView",
            "grid_template_rows": null,
            "right": null,
            "justify_content": null,
            "_view_module": "@jupyter-widgets/base",
            "overflow": null,
            "_model_module_version": "1.2.0",
            "_view_count": null,
            "flex_flow": null,
            "width": null,
            "min_width": null,
            "border": null,
            "align_items": null,
            "bottom": null,
            "_model_module": "@jupyter-widgets/base",
            "top": null,
            "grid_column": null,
            "overflow_y": null,
            "overflow_x": null,
            "grid_auto_flow": null,
            "grid_area": null,
            "grid_template_columns": null,
            "flex": null,
            "_model_name": "LayoutModel",
            "justify_items": null,
            "grid_row": null,
            "max_height": null,
            "align_content": null,
            "visibility": null,
            "align_self": null,
            "height": null,
            "min_height": null,
            "padding": null,
            "grid_auto_rows": null,
            "grid_gap": null,
            "max_width": null,
            "order": null,
            "_view_module_version": "1.2.0",
            "grid_template_areas": null,
            "object_position": null,
            "object_fit": null,
            "grid_auto_columns": null,
            "margin": null,
            "display": null,
            "left": null
          }
        },
        "3745dc82e04747b88678eca3cbdc1fe5": {
          "model_module": "@jupyter-widgets/controls",
          "model_name": "FloatProgressModel",
          "state": {
            "_view_name": "ProgressView",
            "style": "IPY_MODEL_3db8b7bd7eec44908b75a63eaaeadf7d",
            "_dom_classes": [],
            "description": "100%",
            "_model_name": "FloatProgressModel",
            "bar_style": "success",
            "max": 2861,
            "_view_module": "@jupyter-widgets/controls",
            "_model_module_version": "1.5.0",
            "value": 2861,
            "_view_count": null,
            "_view_module_version": "1.5.0",
            "orientation": "horizontal",
            "min": 0,
            "description_tooltip": null,
            "_model_module": "@jupyter-widgets/controls",
            "layout": "IPY_MODEL_20ac5aabb3be47d890d415b7fe049c09"
          }
        },
        "2576265ee4f244b6ab7e6f3a2fc5e6fe": {
          "model_module": "@jupyter-widgets/controls",
          "model_name": "HTMLModel",
          "state": {
            "_view_name": "HTMLView",
            "style": "IPY_MODEL_5e79a0203a00477b9d8edba10aebff65",
            "_dom_classes": [],
            "description": "",
            "_model_name": "HTMLModel",
            "placeholder": "​",
            "_view_module": "@jupyter-widgets/controls",
            "_model_module_version": "1.5.0",
            "value": " 2861/2861 [07:43&lt;00:00,  6.17it/s]",
            "_view_count": null,
            "_view_module_version": "1.5.0",
            "description_tooltip": null,
            "_model_module": "@jupyter-widgets/controls",
            "layout": "IPY_MODEL_2c3db646880b4d4bbcd99b5fca7b93d7"
          }
        },
        "3db8b7bd7eec44908b75a63eaaeadf7d": {
          "model_module": "@jupyter-widgets/controls",
          "model_name": "ProgressStyleModel",
          "state": {
            "_view_name": "StyleView",
            "_model_name": "ProgressStyleModel",
            "description_width": "initial",
            "_view_module": "@jupyter-widgets/base",
            "_model_module_version": "1.5.0",
            "_view_count": null,
            "_view_module_version": "1.2.0",
            "bar_color": null,
            "_model_module": "@jupyter-widgets/controls"
          }
        },
        "20ac5aabb3be47d890d415b7fe049c09": {
          "model_module": "@jupyter-widgets/base",
          "model_name": "LayoutModel",
          "state": {
            "_view_name": "LayoutView",
            "grid_template_rows": null,
            "right": null,
            "justify_content": null,
            "_view_module": "@jupyter-widgets/base",
            "overflow": null,
            "_model_module_version": "1.2.0",
            "_view_count": null,
            "flex_flow": null,
            "width": null,
            "min_width": null,
            "border": null,
            "align_items": null,
            "bottom": null,
            "_model_module": "@jupyter-widgets/base",
            "top": null,
            "grid_column": null,
            "overflow_y": null,
            "overflow_x": null,
            "grid_auto_flow": null,
            "grid_area": null,
            "grid_template_columns": null,
            "flex": null,
            "_model_name": "LayoutModel",
            "justify_items": null,
            "grid_row": null,
            "max_height": null,
            "align_content": null,
            "visibility": null,
            "align_self": null,
            "height": null,
            "min_height": null,
            "padding": null,
            "grid_auto_rows": null,
            "grid_gap": null,
            "max_width": null,
            "order": null,
            "_view_module_version": "1.2.0",
            "grid_template_areas": null,
            "object_position": null,
            "object_fit": null,
            "grid_auto_columns": null,
            "margin": null,
            "display": null,
            "left": null
          }
        },
        "5e79a0203a00477b9d8edba10aebff65": {
          "model_module": "@jupyter-widgets/controls",
          "model_name": "DescriptionStyleModel",
          "state": {
            "_view_name": "StyleView",
            "_model_name": "DescriptionStyleModel",
            "description_width": "",
            "_view_module": "@jupyter-widgets/base",
            "_model_module_version": "1.5.0",
            "_view_count": null,
            "_view_module_version": "1.2.0",
            "_model_module": "@jupyter-widgets/controls"
          }
        },
        "2c3db646880b4d4bbcd99b5fca7b93d7": {
          "model_module": "@jupyter-widgets/base",
          "model_name": "LayoutModel",
          "state": {
            "_view_name": "LayoutView",
            "grid_template_rows": null,
            "right": null,
            "justify_content": null,
            "_view_module": "@jupyter-widgets/base",
            "overflow": null,
            "_model_module_version": "1.2.0",
            "_view_count": null,
            "flex_flow": null,
            "width": null,
            "min_width": null,
            "border": null,
            "align_items": null,
            "bottom": null,
            "_model_module": "@jupyter-widgets/base",
            "top": null,
            "grid_column": null,
            "overflow_y": null,
            "overflow_x": null,
            "grid_auto_flow": null,
            "grid_area": null,
            "grid_template_columns": null,
            "flex": null,
            "_model_name": "LayoutModel",
            "justify_items": null,
            "grid_row": null,
            "max_height": null,
            "align_content": null,
            "visibility": null,
            "align_self": null,
            "height": null,
            "min_height": null,
            "padding": null,
            "grid_auto_rows": null,
            "grid_gap": null,
            "max_width": null,
            "order": null,
            "_view_module_version": "1.2.0",
            "grid_template_areas": null,
            "object_position": null,
            "object_fit": null,
            "grid_auto_columns": null,
            "margin": null,
            "display": null,
            "left": null
          }
        },
        "c67b62589b024f808c3fcee2a1d8e9a9": {
          "model_module": "@jupyter-widgets/controls",
          "model_name": "HBoxModel",
          "state": {
            "_view_name": "HBoxView",
            "_dom_classes": [],
            "_model_name": "HBoxModel",
            "_view_module": "@jupyter-widgets/controls",
            "_model_module_version": "1.5.0",
            "_view_count": null,
            "_view_module_version": "1.5.0",
            "box_style": "",
            "layout": "IPY_MODEL_4c007c5c58d243f5ab34d68e4a7801fe",
            "_model_module": "@jupyter-widgets/controls",
            "children": [
              "IPY_MODEL_2c6fec0bc0b04bab94da4e97714f9448",
              "IPY_MODEL_47363f6493cb4799806b81e19a0eb226"
            ]
          }
        },
        "4c007c5c58d243f5ab34d68e4a7801fe": {
          "model_module": "@jupyter-widgets/base",
          "model_name": "LayoutModel",
          "state": {
            "_view_name": "LayoutView",
            "grid_template_rows": null,
            "right": null,
            "justify_content": null,
            "_view_module": "@jupyter-widgets/base",
            "overflow": null,
            "_model_module_version": "1.2.0",
            "_view_count": null,
            "flex_flow": null,
            "width": null,
            "min_width": null,
            "border": null,
            "align_items": null,
            "bottom": null,
            "_model_module": "@jupyter-widgets/base",
            "top": null,
            "grid_column": null,
            "overflow_y": null,
            "overflow_x": null,
            "grid_auto_flow": null,
            "grid_area": null,
            "grid_template_columns": null,
            "flex": null,
            "_model_name": "LayoutModel",
            "justify_items": null,
            "grid_row": null,
            "max_height": null,
            "align_content": null,
            "visibility": null,
            "align_self": null,
            "height": null,
            "min_height": null,
            "padding": null,
            "grid_auto_rows": null,
            "grid_gap": null,
            "max_width": null,
            "order": null,
            "_view_module_version": "1.2.0",
            "grid_template_areas": null,
            "object_position": null,
            "object_fit": null,
            "grid_auto_columns": null,
            "margin": null,
            "display": null,
            "left": null
          }
        },
        "2c6fec0bc0b04bab94da4e97714f9448": {
          "model_module": "@jupyter-widgets/controls",
          "model_name": "FloatProgressModel",
          "state": {
            "_view_name": "ProgressView",
            "style": "IPY_MODEL_1ea6623d3171428ebacd7dfcb5e4b8c0",
            "_dom_classes": [],
            "description": "100%",
            "_model_name": "FloatProgressModel",
            "bar_style": "success",
            "max": 11615,
            "_view_module": "@jupyter-widgets/controls",
            "_model_module_version": "1.5.0",
            "value": 11615,
            "_view_count": null,
            "_view_module_version": "1.5.0",
            "orientation": "horizontal",
            "min": 0,
            "description_tooltip": null,
            "_model_module": "@jupyter-widgets/controls",
            "layout": "IPY_MODEL_33fc744303954d6087952305d2df4d35"
          }
        },
        "47363f6493cb4799806b81e19a0eb226": {
          "model_module": "@jupyter-widgets/controls",
          "model_name": "HTMLModel",
          "state": {
            "_view_name": "HTMLView",
            "style": "IPY_MODEL_63aa84de09784dad894137030de2d2c6",
            "_dom_classes": [],
            "description": "",
            "_model_name": "HTMLModel",
            "placeholder": "​",
            "_view_module": "@jupyter-widgets/controls",
            "_model_module_version": "1.5.0",
            "value": " 11615/11615 [44:46&lt;00:00,  4.32it/s]",
            "_view_count": null,
            "_view_module_version": "1.5.0",
            "description_tooltip": null,
            "_model_module": "@jupyter-widgets/controls",
            "layout": "IPY_MODEL_37f55a9ce0c44e80b93e40cde0e4598d"
          }
        },
        "1ea6623d3171428ebacd7dfcb5e4b8c0": {
          "model_module": "@jupyter-widgets/controls",
          "model_name": "ProgressStyleModel",
          "state": {
            "_view_name": "StyleView",
            "_model_name": "ProgressStyleModel",
            "description_width": "initial",
            "_view_module": "@jupyter-widgets/base",
            "_model_module_version": "1.5.0",
            "_view_count": null,
            "_view_module_version": "1.2.0",
            "bar_color": null,
            "_model_module": "@jupyter-widgets/controls"
          }
        },
        "33fc744303954d6087952305d2df4d35": {
          "model_module": "@jupyter-widgets/base",
          "model_name": "LayoutModel",
          "state": {
            "_view_name": "LayoutView",
            "grid_template_rows": null,
            "right": null,
            "justify_content": null,
            "_view_module": "@jupyter-widgets/base",
            "overflow": null,
            "_model_module_version": "1.2.0",
            "_view_count": null,
            "flex_flow": null,
            "width": null,
            "min_width": null,
            "border": null,
            "align_items": null,
            "bottom": null,
            "_model_module": "@jupyter-widgets/base",
            "top": null,
            "grid_column": null,
            "overflow_y": null,
            "overflow_x": null,
            "grid_auto_flow": null,
            "grid_area": null,
            "grid_template_columns": null,
            "flex": null,
            "_model_name": "LayoutModel",
            "justify_items": null,
            "grid_row": null,
            "max_height": null,
            "align_content": null,
            "visibility": null,
            "align_self": null,
            "height": null,
            "min_height": null,
            "padding": null,
            "grid_auto_rows": null,
            "grid_gap": null,
            "max_width": null,
            "order": null,
            "_view_module_version": "1.2.0",
            "grid_template_areas": null,
            "object_position": null,
            "object_fit": null,
            "grid_auto_columns": null,
            "margin": null,
            "display": null,
            "left": null
          }
        },
        "63aa84de09784dad894137030de2d2c6": {
          "model_module": "@jupyter-widgets/controls",
          "model_name": "DescriptionStyleModel",
          "state": {
            "_view_name": "StyleView",
            "_model_name": "DescriptionStyleModel",
            "description_width": "",
            "_view_module": "@jupyter-widgets/base",
            "_model_module_version": "1.5.0",
            "_view_count": null,
            "_view_module_version": "1.2.0",
            "_model_module": "@jupyter-widgets/controls"
          }
        },
        "37f55a9ce0c44e80b93e40cde0e4598d": {
          "model_module": "@jupyter-widgets/base",
          "model_name": "LayoutModel",
          "state": {
            "_view_name": "LayoutView",
            "grid_template_rows": null,
            "right": null,
            "justify_content": null,
            "_view_module": "@jupyter-widgets/base",
            "overflow": null,
            "_model_module_version": "1.2.0",
            "_view_count": null,
            "flex_flow": null,
            "width": null,
            "min_width": null,
            "border": null,
            "align_items": null,
            "bottom": null,
            "_model_module": "@jupyter-widgets/base",
            "top": null,
            "grid_column": null,
            "overflow_y": null,
            "overflow_x": null,
            "grid_auto_flow": null,
            "grid_area": null,
            "grid_template_columns": null,
            "flex": null,
            "_model_name": "LayoutModel",
            "justify_items": null,
            "grid_row": null,
            "max_height": null,
            "align_content": null,
            "visibility": null,
            "align_self": null,
            "height": null,
            "min_height": null,
            "padding": null,
            "grid_auto_rows": null,
            "grid_gap": null,
            "max_width": null,
            "order": null,
            "_view_module_version": "1.2.0",
            "grid_template_areas": null,
            "object_position": null,
            "object_fit": null,
            "grid_auto_columns": null,
            "margin": null,
            "display": null,
            "left": null
          }
        },
        "6e5c74a16c354223a696a817da72fab9": {
          "model_module": "@jupyter-widgets/controls",
          "model_name": "HBoxModel",
          "state": {
            "_view_name": "HBoxView",
            "_dom_classes": [],
            "_model_name": "HBoxModel",
            "_view_module": "@jupyter-widgets/controls",
            "_model_module_version": "1.5.0",
            "_view_count": null,
            "_view_module_version": "1.5.0",
            "box_style": "",
            "layout": "IPY_MODEL_78dccd284cc448e586fe2c20d82ba868",
            "_model_module": "@jupyter-widgets/controls",
            "children": [
              "IPY_MODEL_c2941b72ec554cba913dd918e6f4d4f5",
              "IPY_MODEL_5f2da1743ec64b749c558983840996e7"
            ]
          }
        },
        "78dccd284cc448e586fe2c20d82ba868": {
          "model_module": "@jupyter-widgets/base",
          "model_name": "LayoutModel",
          "state": {
            "_view_name": "LayoutView",
            "grid_template_rows": null,
            "right": null,
            "justify_content": null,
            "_view_module": "@jupyter-widgets/base",
            "overflow": null,
            "_model_module_version": "1.2.0",
            "_view_count": null,
            "flex_flow": null,
            "width": null,
            "min_width": null,
            "border": null,
            "align_items": null,
            "bottom": null,
            "_model_module": "@jupyter-widgets/base",
            "top": null,
            "grid_column": null,
            "overflow_y": null,
            "overflow_x": null,
            "grid_auto_flow": null,
            "grid_area": null,
            "grid_template_columns": null,
            "flex": null,
            "_model_name": "LayoutModel",
            "justify_items": null,
            "grid_row": null,
            "max_height": null,
            "align_content": null,
            "visibility": null,
            "align_self": null,
            "height": null,
            "min_height": null,
            "padding": null,
            "grid_auto_rows": null,
            "grid_gap": null,
            "max_width": null,
            "order": null,
            "_view_module_version": "1.2.0",
            "grid_template_areas": null,
            "object_position": null,
            "object_fit": null,
            "grid_auto_columns": null,
            "margin": null,
            "display": null,
            "left": null
          }
        },
        "c2941b72ec554cba913dd918e6f4d4f5": {
          "model_module": "@jupyter-widgets/controls",
          "model_name": "FloatProgressModel",
          "state": {
            "_view_name": "ProgressView",
            "style": "IPY_MODEL_0b58be59e9724002bd6692cfe05b246b",
            "_dom_classes": [],
            "description": "100%",
            "_model_name": "FloatProgressModel",
            "bar_style": "success",
            "max": 2861,
            "_view_module": "@jupyter-widgets/controls",
            "_model_module_version": "1.5.0",
            "value": 2861,
            "_view_count": null,
            "_view_module_version": "1.5.0",
            "orientation": "horizontal",
            "min": 0,
            "description_tooltip": null,
            "_model_module": "@jupyter-widgets/controls",
            "layout": "IPY_MODEL_afd43c58236e4875b598c7fec4566855"
          }
        },
        "5f2da1743ec64b749c558983840996e7": {
          "model_module": "@jupyter-widgets/controls",
          "model_name": "HTMLModel",
          "state": {
            "_view_name": "HTMLView",
            "style": "IPY_MODEL_383e09f2f28d4cd4a7a5f0699a52a1d4",
            "_dom_classes": [],
            "description": "",
            "_model_name": "HTMLModel",
            "placeholder": "​",
            "_view_module": "@jupyter-widgets/controls",
            "_model_module_version": "1.5.0",
            "value": " 2861/2861 [14:40&lt;00:00,  3.25it/s]",
            "_view_count": null,
            "_view_module_version": "1.5.0",
            "description_tooltip": null,
            "_model_module": "@jupyter-widgets/controls",
            "layout": "IPY_MODEL_b1edf197242f43f58c489eff4e36c36f"
          }
        },
        "0b58be59e9724002bd6692cfe05b246b": {
          "model_module": "@jupyter-widgets/controls",
          "model_name": "ProgressStyleModel",
          "state": {
            "_view_name": "StyleView",
            "_model_name": "ProgressStyleModel",
            "description_width": "initial",
            "_view_module": "@jupyter-widgets/base",
            "_model_module_version": "1.5.0",
            "_view_count": null,
            "_view_module_version": "1.2.0",
            "bar_color": null,
            "_model_module": "@jupyter-widgets/controls"
          }
        },
        "afd43c58236e4875b598c7fec4566855": {
          "model_module": "@jupyter-widgets/base",
          "model_name": "LayoutModel",
          "state": {
            "_view_name": "LayoutView",
            "grid_template_rows": null,
            "right": null,
            "justify_content": null,
            "_view_module": "@jupyter-widgets/base",
            "overflow": null,
            "_model_module_version": "1.2.0",
            "_view_count": null,
            "flex_flow": null,
            "width": null,
            "min_width": null,
            "border": null,
            "align_items": null,
            "bottom": null,
            "_model_module": "@jupyter-widgets/base",
            "top": null,
            "grid_column": null,
            "overflow_y": null,
            "overflow_x": null,
            "grid_auto_flow": null,
            "grid_area": null,
            "grid_template_columns": null,
            "flex": null,
            "_model_name": "LayoutModel",
            "justify_items": null,
            "grid_row": null,
            "max_height": null,
            "align_content": null,
            "visibility": null,
            "align_self": null,
            "height": null,
            "min_height": null,
            "padding": null,
            "grid_auto_rows": null,
            "grid_gap": null,
            "max_width": null,
            "order": null,
            "_view_module_version": "1.2.0",
            "grid_template_areas": null,
            "object_position": null,
            "object_fit": null,
            "grid_auto_columns": null,
            "margin": null,
            "display": null,
            "left": null
          }
        },
        "383e09f2f28d4cd4a7a5f0699a52a1d4": {
          "model_module": "@jupyter-widgets/controls",
          "model_name": "DescriptionStyleModel",
          "state": {
            "_view_name": "StyleView",
            "_model_name": "DescriptionStyleModel",
            "description_width": "",
            "_view_module": "@jupyter-widgets/base",
            "_model_module_version": "1.5.0",
            "_view_count": null,
            "_view_module_version": "1.2.0",
            "_model_module": "@jupyter-widgets/controls"
          }
        },
        "b1edf197242f43f58c489eff4e36c36f": {
          "model_module": "@jupyter-widgets/base",
          "model_name": "LayoutModel",
          "state": {
            "_view_name": "LayoutView",
            "grid_template_rows": null,
            "right": null,
            "justify_content": null,
            "_view_module": "@jupyter-widgets/base",
            "overflow": null,
            "_model_module_version": "1.2.0",
            "_view_count": null,
            "flex_flow": null,
            "width": null,
            "min_width": null,
            "border": null,
            "align_items": null,
            "bottom": null,
            "_model_module": "@jupyter-widgets/base",
            "top": null,
            "grid_column": null,
            "overflow_y": null,
            "overflow_x": null,
            "grid_auto_flow": null,
            "grid_area": null,
            "grid_template_columns": null,
            "flex": null,
            "_model_name": "LayoutModel",
            "justify_items": null,
            "grid_row": null,
            "max_height": null,
            "align_content": null,
            "visibility": null,
            "align_self": null,
            "height": null,
            "min_height": null,
            "padding": null,
            "grid_auto_rows": null,
            "grid_gap": null,
            "max_width": null,
            "order": null,
            "_view_module_version": "1.2.0",
            "grid_template_areas": null,
            "object_position": null,
            "object_fit": null,
            "grid_auto_columns": null,
            "margin": null,
            "display": null,
            "left": null
          }
        },
        "f1aa3ebbbc094400a1b019319c2888ac": {
          "model_module": "@jupyter-widgets/controls",
          "model_name": "HBoxModel",
          "state": {
            "_view_name": "HBoxView",
            "_dom_classes": [],
            "_model_name": "HBoxModel",
            "_view_module": "@jupyter-widgets/controls",
            "_model_module_version": "1.5.0",
            "_view_count": null,
            "_view_module_version": "1.5.0",
            "box_style": "",
            "layout": "IPY_MODEL_10c6429b5a854a8cb64dbe2d5e5f4b9e",
            "_model_module": "@jupyter-widgets/controls",
            "children": [
              "IPY_MODEL_a89dfa47d4e54763bdf17c8087b56596",
              "IPY_MODEL_42360dabe15b401daf3f52d88e706cc8"
            ]
          }
        },
        "10c6429b5a854a8cb64dbe2d5e5f4b9e": {
          "model_module": "@jupyter-widgets/base",
          "model_name": "LayoutModel",
          "state": {
            "_view_name": "LayoutView",
            "grid_template_rows": null,
            "right": null,
            "justify_content": null,
            "_view_module": "@jupyter-widgets/base",
            "overflow": null,
            "_model_module_version": "1.2.0",
            "_view_count": null,
            "flex_flow": null,
            "width": null,
            "min_width": null,
            "border": null,
            "align_items": null,
            "bottom": null,
            "_model_module": "@jupyter-widgets/base",
            "top": null,
            "grid_column": null,
            "overflow_y": null,
            "overflow_x": null,
            "grid_auto_flow": null,
            "grid_area": null,
            "grid_template_columns": null,
            "flex": null,
            "_model_name": "LayoutModel",
            "justify_items": null,
            "grid_row": null,
            "max_height": null,
            "align_content": null,
            "visibility": null,
            "align_self": null,
            "height": null,
            "min_height": null,
            "padding": null,
            "grid_auto_rows": null,
            "grid_gap": null,
            "max_width": null,
            "order": null,
            "_view_module_version": "1.2.0",
            "grid_template_areas": null,
            "object_position": null,
            "object_fit": null,
            "grid_auto_columns": null,
            "margin": null,
            "display": null,
            "left": null
          }
        },
        "a89dfa47d4e54763bdf17c8087b56596": {
          "model_module": "@jupyter-widgets/controls",
          "model_name": "FloatProgressModel",
          "state": {
            "_view_name": "ProgressView",
            "style": "IPY_MODEL_ab2db7b323fb4e638b87c7bfb376aa01",
            "_dom_classes": [],
            "description": "100%",
            "_model_name": "FloatProgressModel",
            "bar_style": "success",
            "max": 2861,
            "_view_module": "@jupyter-widgets/controls",
            "_model_module_version": "1.5.0",
            "value": 2861,
            "_view_count": null,
            "_view_module_version": "1.5.0",
            "orientation": "horizontal",
            "min": 0,
            "description_tooltip": null,
            "_model_module": "@jupyter-widgets/controls",
            "layout": "IPY_MODEL_4fd8f387a7f2427389ca2951984865a9"
          }
        },
        "42360dabe15b401daf3f52d88e706cc8": {
          "model_module": "@jupyter-widgets/controls",
          "model_name": "HTMLModel",
          "state": {
            "_view_name": "HTMLView",
            "style": "IPY_MODEL_0363475f416d45d7b1fd610655ad7116",
            "_dom_classes": [],
            "description": "",
            "_model_name": "HTMLModel",
            "placeholder": "​",
            "_view_module": "@jupyter-widgets/controls",
            "_model_module_version": "1.5.0",
            "value": " 2861/2861 [13:34&lt;00:00,  3.51it/s]",
            "_view_count": null,
            "_view_module_version": "1.5.0",
            "description_tooltip": null,
            "_model_module": "@jupyter-widgets/controls",
            "layout": "IPY_MODEL_6728053ad7fc48ada21066cf8f3ee879"
          }
        },
        "ab2db7b323fb4e638b87c7bfb376aa01": {
          "model_module": "@jupyter-widgets/controls",
          "model_name": "ProgressStyleModel",
          "state": {
            "_view_name": "StyleView",
            "_model_name": "ProgressStyleModel",
            "description_width": "initial",
            "_view_module": "@jupyter-widgets/base",
            "_model_module_version": "1.5.0",
            "_view_count": null,
            "_view_module_version": "1.2.0",
            "bar_color": null,
            "_model_module": "@jupyter-widgets/controls"
          }
        },
        "4fd8f387a7f2427389ca2951984865a9": {
          "model_module": "@jupyter-widgets/base",
          "model_name": "LayoutModel",
          "state": {
            "_view_name": "LayoutView",
            "grid_template_rows": null,
            "right": null,
            "justify_content": null,
            "_view_module": "@jupyter-widgets/base",
            "overflow": null,
            "_model_module_version": "1.2.0",
            "_view_count": null,
            "flex_flow": null,
            "width": null,
            "min_width": null,
            "border": null,
            "align_items": null,
            "bottom": null,
            "_model_module": "@jupyter-widgets/base",
            "top": null,
            "grid_column": null,
            "overflow_y": null,
            "overflow_x": null,
            "grid_auto_flow": null,
            "grid_area": null,
            "grid_template_columns": null,
            "flex": null,
            "_model_name": "LayoutModel",
            "justify_items": null,
            "grid_row": null,
            "max_height": null,
            "align_content": null,
            "visibility": null,
            "align_self": null,
            "height": null,
            "min_height": null,
            "padding": null,
            "grid_auto_rows": null,
            "grid_gap": null,
            "max_width": null,
            "order": null,
            "_view_module_version": "1.2.0",
            "grid_template_areas": null,
            "object_position": null,
            "object_fit": null,
            "grid_auto_columns": null,
            "margin": null,
            "display": null,
            "left": null
          }
        },
        "0363475f416d45d7b1fd610655ad7116": {
          "model_module": "@jupyter-widgets/controls",
          "model_name": "DescriptionStyleModel",
          "state": {
            "_view_name": "StyleView",
            "_model_name": "DescriptionStyleModel",
            "description_width": "",
            "_view_module": "@jupyter-widgets/base",
            "_model_module_version": "1.5.0",
            "_view_count": null,
            "_view_module_version": "1.2.0",
            "_model_module": "@jupyter-widgets/controls"
          }
        },
        "6728053ad7fc48ada21066cf8f3ee879": {
          "model_module": "@jupyter-widgets/base",
          "model_name": "LayoutModel",
          "state": {
            "_view_name": "LayoutView",
            "grid_template_rows": null,
            "right": null,
            "justify_content": null,
            "_view_module": "@jupyter-widgets/base",
            "overflow": null,
            "_model_module_version": "1.2.0",
            "_view_count": null,
            "flex_flow": null,
            "width": null,
            "min_width": null,
            "border": null,
            "align_items": null,
            "bottom": null,
            "_model_module": "@jupyter-widgets/base",
            "top": null,
            "grid_column": null,
            "overflow_y": null,
            "overflow_x": null,
            "grid_auto_flow": null,
            "grid_area": null,
            "grid_template_columns": null,
            "flex": null,
            "_model_name": "LayoutModel",
            "justify_items": null,
            "grid_row": null,
            "max_height": null,
            "align_content": null,
            "visibility": null,
            "align_self": null,
            "height": null,
            "min_height": null,
            "padding": null,
            "grid_auto_rows": null,
            "grid_gap": null,
            "max_width": null,
            "order": null,
            "_view_module_version": "1.2.0",
            "grid_template_areas": null,
            "object_position": null,
            "object_fit": null,
            "grid_auto_columns": null,
            "margin": null,
            "display": null,
            "left": null
          }
        },
        "71a6a2d285444ae9a020d87c99ee02af": {
          "model_module": "@jupyter-widgets/controls",
          "model_name": "HBoxModel",
          "state": {
            "_view_name": "HBoxView",
            "_dom_classes": [],
            "_model_name": "HBoxModel",
            "_view_module": "@jupyter-widgets/controls",
            "_model_module_version": "1.5.0",
            "_view_count": null,
            "_view_module_version": "1.5.0",
            "box_style": "",
            "layout": "IPY_MODEL_43e28d3493eb431a80522eefaf451403",
            "_model_module": "@jupyter-widgets/controls",
            "children": [
              "IPY_MODEL_0fd5d3166410428491c9126b3753fd2b",
              "IPY_MODEL_70b3fedffa95461e965c57653be62bbe"
            ]
          }
        },
        "43e28d3493eb431a80522eefaf451403": {
          "model_module": "@jupyter-widgets/base",
          "model_name": "LayoutModel",
          "state": {
            "_view_name": "LayoutView",
            "grid_template_rows": null,
            "right": null,
            "justify_content": null,
            "_view_module": "@jupyter-widgets/base",
            "overflow": null,
            "_model_module_version": "1.2.0",
            "_view_count": null,
            "flex_flow": null,
            "width": null,
            "min_width": null,
            "border": null,
            "align_items": null,
            "bottom": null,
            "_model_module": "@jupyter-widgets/base",
            "top": null,
            "grid_column": null,
            "overflow_y": null,
            "overflow_x": null,
            "grid_auto_flow": null,
            "grid_area": null,
            "grid_template_columns": null,
            "flex": null,
            "_model_name": "LayoutModel",
            "justify_items": null,
            "grid_row": null,
            "max_height": null,
            "align_content": null,
            "visibility": null,
            "align_self": null,
            "height": null,
            "min_height": null,
            "padding": null,
            "grid_auto_rows": null,
            "grid_gap": null,
            "max_width": null,
            "order": null,
            "_view_module_version": "1.2.0",
            "grid_template_areas": null,
            "object_position": null,
            "object_fit": null,
            "grid_auto_columns": null,
            "margin": null,
            "display": null,
            "left": null
          }
        },
        "0fd5d3166410428491c9126b3753fd2b": {
          "model_module": "@jupyter-widgets/controls",
          "model_name": "FloatProgressModel",
          "state": {
            "_view_name": "ProgressView",
            "style": "IPY_MODEL_1d9a04d831944778890e09a6f7cf2da1",
            "_dom_classes": [],
            "description": "100%",
            "_model_name": "FloatProgressModel",
            "bar_style": "success",
            "max": 11615,
            "_view_module": "@jupyter-widgets/controls",
            "_model_module_version": "1.5.0",
            "value": 11615,
            "_view_count": null,
            "_view_module_version": "1.5.0",
            "orientation": "horizontal",
            "min": 0,
            "description_tooltip": null,
            "_model_module": "@jupyter-widgets/controls",
            "layout": "IPY_MODEL_47d07fd6ddab45118053b02ad5dc4178"
          }
        },
        "70b3fedffa95461e965c57653be62bbe": {
          "model_module": "@jupyter-widgets/controls",
          "model_name": "HTMLModel",
          "state": {
            "_view_name": "HTMLView",
            "style": "IPY_MODEL_45410a4044cc4081bf40ae555d6ec14e",
            "_dom_classes": [],
            "description": "",
            "_model_name": "HTMLModel",
            "placeholder": "​",
            "_view_module": "@jupyter-widgets/controls",
            "_model_module_version": "1.5.0",
            "value": " 11615/11615 [42:38&lt;00:00,  4.54it/s]",
            "_view_count": null,
            "_view_module_version": "1.5.0",
            "description_tooltip": null,
            "_model_module": "@jupyter-widgets/controls",
            "layout": "IPY_MODEL_65e440b21ba24e2f930fa17c1a6dad9a"
          }
        },
        "1d9a04d831944778890e09a6f7cf2da1": {
          "model_module": "@jupyter-widgets/controls",
          "model_name": "ProgressStyleModel",
          "state": {
            "_view_name": "StyleView",
            "_model_name": "ProgressStyleModel",
            "description_width": "initial",
            "_view_module": "@jupyter-widgets/base",
            "_model_module_version": "1.5.0",
            "_view_count": null,
            "_view_module_version": "1.2.0",
            "bar_color": null,
            "_model_module": "@jupyter-widgets/controls"
          }
        },
        "47d07fd6ddab45118053b02ad5dc4178": {
          "model_module": "@jupyter-widgets/base",
          "model_name": "LayoutModel",
          "state": {
            "_view_name": "LayoutView",
            "grid_template_rows": null,
            "right": null,
            "justify_content": null,
            "_view_module": "@jupyter-widgets/base",
            "overflow": null,
            "_model_module_version": "1.2.0",
            "_view_count": null,
            "flex_flow": null,
            "width": null,
            "min_width": null,
            "border": null,
            "align_items": null,
            "bottom": null,
            "_model_module": "@jupyter-widgets/base",
            "top": null,
            "grid_column": null,
            "overflow_y": null,
            "overflow_x": null,
            "grid_auto_flow": null,
            "grid_area": null,
            "grid_template_columns": null,
            "flex": null,
            "_model_name": "LayoutModel",
            "justify_items": null,
            "grid_row": null,
            "max_height": null,
            "align_content": null,
            "visibility": null,
            "align_self": null,
            "height": null,
            "min_height": null,
            "padding": null,
            "grid_auto_rows": null,
            "grid_gap": null,
            "max_width": null,
            "order": null,
            "_view_module_version": "1.2.0",
            "grid_template_areas": null,
            "object_position": null,
            "object_fit": null,
            "grid_auto_columns": null,
            "margin": null,
            "display": null,
            "left": null
          }
        },
        "45410a4044cc4081bf40ae555d6ec14e": {
          "model_module": "@jupyter-widgets/controls",
          "model_name": "DescriptionStyleModel",
          "state": {
            "_view_name": "StyleView",
            "_model_name": "DescriptionStyleModel",
            "description_width": "",
            "_view_module": "@jupyter-widgets/base",
            "_model_module_version": "1.5.0",
            "_view_count": null,
            "_view_module_version": "1.2.0",
            "_model_module": "@jupyter-widgets/controls"
          }
        },
        "65e440b21ba24e2f930fa17c1a6dad9a": {
          "model_module": "@jupyter-widgets/base",
          "model_name": "LayoutModel",
          "state": {
            "_view_name": "LayoutView",
            "grid_template_rows": null,
            "right": null,
            "justify_content": null,
            "_view_module": "@jupyter-widgets/base",
            "overflow": null,
            "_model_module_version": "1.2.0",
            "_view_count": null,
            "flex_flow": null,
            "width": null,
            "min_width": null,
            "border": null,
            "align_items": null,
            "bottom": null,
            "_model_module": "@jupyter-widgets/base",
            "top": null,
            "grid_column": null,
            "overflow_y": null,
            "overflow_x": null,
            "grid_auto_flow": null,
            "grid_area": null,
            "grid_template_columns": null,
            "flex": null,
            "_model_name": "LayoutModel",
            "justify_items": null,
            "grid_row": null,
            "max_height": null,
            "align_content": null,
            "visibility": null,
            "align_self": null,
            "height": null,
            "min_height": null,
            "padding": null,
            "grid_auto_rows": null,
            "grid_gap": null,
            "max_width": null,
            "order": null,
            "_view_module_version": "1.2.0",
            "grid_template_areas": null,
            "object_position": null,
            "object_fit": null,
            "grid_auto_columns": null,
            "margin": null,
            "display": null,
            "left": null
          }
        },
        "e0a435d0c859496ab3a664e3f5c33b2c": {
          "model_module": "@jupyter-widgets/controls",
          "model_name": "HBoxModel",
          "state": {
            "_view_name": "HBoxView",
            "_dom_classes": [],
            "_model_name": "HBoxModel",
            "_view_module": "@jupyter-widgets/controls",
            "_model_module_version": "1.5.0",
            "_view_count": null,
            "_view_module_version": "1.5.0",
            "box_style": "",
            "layout": "IPY_MODEL_e27db0632c0c401ea4a7b4fa6f59757b",
            "_model_module": "@jupyter-widgets/controls",
            "children": [
              "IPY_MODEL_29e45d92c6bf4664a6c467d204f929a8",
              "IPY_MODEL_07f8af1cd694476db8a3def3b43f746a"
            ]
          }
        },
        "e27db0632c0c401ea4a7b4fa6f59757b": {
          "model_module": "@jupyter-widgets/base",
          "model_name": "LayoutModel",
          "state": {
            "_view_name": "LayoutView",
            "grid_template_rows": null,
            "right": null,
            "justify_content": null,
            "_view_module": "@jupyter-widgets/base",
            "overflow": null,
            "_model_module_version": "1.2.0",
            "_view_count": null,
            "flex_flow": null,
            "width": null,
            "min_width": null,
            "border": null,
            "align_items": null,
            "bottom": null,
            "_model_module": "@jupyter-widgets/base",
            "top": null,
            "grid_column": null,
            "overflow_y": null,
            "overflow_x": null,
            "grid_auto_flow": null,
            "grid_area": null,
            "grid_template_columns": null,
            "flex": null,
            "_model_name": "LayoutModel",
            "justify_items": null,
            "grid_row": null,
            "max_height": null,
            "align_content": null,
            "visibility": null,
            "align_self": null,
            "height": null,
            "min_height": null,
            "padding": null,
            "grid_auto_rows": null,
            "grid_gap": null,
            "max_width": null,
            "order": null,
            "_view_module_version": "1.2.0",
            "grid_template_areas": null,
            "object_position": null,
            "object_fit": null,
            "grid_auto_columns": null,
            "margin": null,
            "display": null,
            "left": null
          }
        },
        "29e45d92c6bf4664a6c467d204f929a8": {
          "model_module": "@jupyter-widgets/controls",
          "model_name": "FloatProgressModel",
          "state": {
            "_view_name": "ProgressView",
            "style": "IPY_MODEL_603f67b6d8914f97a49b62bc5d0a3712",
            "_dom_classes": [],
            "description": "100%",
            "_model_name": "FloatProgressModel",
            "bar_style": "success",
            "max": 2861,
            "_view_module": "@jupyter-widgets/controls",
            "_model_module_version": "1.5.0",
            "value": 2861,
            "_view_count": null,
            "_view_module_version": "1.5.0",
            "orientation": "horizontal",
            "min": 0,
            "description_tooltip": null,
            "_model_module": "@jupyter-widgets/controls",
            "layout": "IPY_MODEL_2d87367702f547249e5f0060568d357f"
          }
        },
        "07f8af1cd694476db8a3def3b43f746a": {
          "model_module": "@jupyter-widgets/controls",
          "model_name": "HTMLModel",
          "state": {
            "_view_name": "HTMLView",
            "style": "IPY_MODEL_6981e58916574109a364eb2a25b380d2",
            "_dom_classes": [],
            "description": "",
            "_model_name": "HTMLModel",
            "placeholder": "​",
            "_view_module": "@jupyter-widgets/controls",
            "_model_module_version": "1.5.0",
            "value": " 2861/2861 [13:56&lt;00:00,  3.42it/s]",
            "_view_count": null,
            "_view_module_version": "1.5.0",
            "description_tooltip": null,
            "_model_module": "@jupyter-widgets/controls",
            "layout": "IPY_MODEL_84a8872bff264a22b814aef6625d0976"
          }
        },
        "603f67b6d8914f97a49b62bc5d0a3712": {
          "model_module": "@jupyter-widgets/controls",
          "model_name": "ProgressStyleModel",
          "state": {
            "_view_name": "StyleView",
            "_model_name": "ProgressStyleModel",
            "description_width": "initial",
            "_view_module": "@jupyter-widgets/base",
            "_model_module_version": "1.5.0",
            "_view_count": null,
            "_view_module_version": "1.2.0",
            "bar_color": null,
            "_model_module": "@jupyter-widgets/controls"
          }
        },
        "2d87367702f547249e5f0060568d357f": {
          "model_module": "@jupyter-widgets/base",
          "model_name": "LayoutModel",
          "state": {
            "_view_name": "LayoutView",
            "grid_template_rows": null,
            "right": null,
            "justify_content": null,
            "_view_module": "@jupyter-widgets/base",
            "overflow": null,
            "_model_module_version": "1.2.0",
            "_view_count": null,
            "flex_flow": null,
            "width": null,
            "min_width": null,
            "border": null,
            "align_items": null,
            "bottom": null,
            "_model_module": "@jupyter-widgets/base",
            "top": null,
            "grid_column": null,
            "overflow_y": null,
            "overflow_x": null,
            "grid_auto_flow": null,
            "grid_area": null,
            "grid_template_columns": null,
            "flex": null,
            "_model_name": "LayoutModel",
            "justify_items": null,
            "grid_row": null,
            "max_height": null,
            "align_content": null,
            "visibility": null,
            "align_self": null,
            "height": null,
            "min_height": null,
            "padding": null,
            "grid_auto_rows": null,
            "grid_gap": null,
            "max_width": null,
            "order": null,
            "_view_module_version": "1.2.0",
            "grid_template_areas": null,
            "object_position": null,
            "object_fit": null,
            "grid_auto_columns": null,
            "margin": null,
            "display": null,
            "left": null
          }
        },
        "6981e58916574109a364eb2a25b380d2": {
          "model_module": "@jupyter-widgets/controls",
          "model_name": "DescriptionStyleModel",
          "state": {
            "_view_name": "StyleView",
            "_model_name": "DescriptionStyleModel",
            "description_width": "",
            "_view_module": "@jupyter-widgets/base",
            "_model_module_version": "1.5.0",
            "_view_count": null,
            "_view_module_version": "1.2.0",
            "_model_module": "@jupyter-widgets/controls"
          }
        },
        "84a8872bff264a22b814aef6625d0976": {
          "model_module": "@jupyter-widgets/base",
          "model_name": "LayoutModel",
          "state": {
            "_view_name": "LayoutView",
            "grid_template_rows": null,
            "right": null,
            "justify_content": null,
            "_view_module": "@jupyter-widgets/base",
            "overflow": null,
            "_model_module_version": "1.2.0",
            "_view_count": null,
            "flex_flow": null,
            "width": null,
            "min_width": null,
            "border": null,
            "align_items": null,
            "bottom": null,
            "_model_module": "@jupyter-widgets/base",
            "top": null,
            "grid_column": null,
            "overflow_y": null,
            "overflow_x": null,
            "grid_auto_flow": null,
            "grid_area": null,
            "grid_template_columns": null,
            "flex": null,
            "_model_name": "LayoutModel",
            "justify_items": null,
            "grid_row": null,
            "max_height": null,
            "align_content": null,
            "visibility": null,
            "align_self": null,
            "height": null,
            "min_height": null,
            "padding": null,
            "grid_auto_rows": null,
            "grid_gap": null,
            "max_width": null,
            "order": null,
            "_view_module_version": "1.2.0",
            "grid_template_areas": null,
            "object_position": null,
            "object_fit": null,
            "grid_auto_columns": null,
            "margin": null,
            "display": null,
            "left": null
          }
        },
        "05ddc192882546c087d508cc178f6018": {
          "model_module": "@jupyter-widgets/controls",
          "model_name": "HBoxModel",
          "state": {
            "_view_name": "HBoxView",
            "_dom_classes": [],
            "_model_name": "HBoxModel",
            "_view_module": "@jupyter-widgets/controls",
            "_model_module_version": "1.5.0",
            "_view_count": null,
            "_view_module_version": "1.5.0",
            "box_style": "",
            "layout": "IPY_MODEL_077cbc6199dc492f831f2a145f5d14cc",
            "_model_module": "@jupyter-widgets/controls",
            "children": [
              "IPY_MODEL_95162762a1d143378bfec047d2aaa46c",
              "IPY_MODEL_97114c959f3a4568a76fb4d0be754f5d"
            ]
          }
        },
        "077cbc6199dc492f831f2a145f5d14cc": {
          "model_module": "@jupyter-widgets/base",
          "model_name": "LayoutModel",
          "state": {
            "_view_name": "LayoutView",
            "grid_template_rows": null,
            "right": null,
            "justify_content": null,
            "_view_module": "@jupyter-widgets/base",
            "overflow": null,
            "_model_module_version": "1.2.0",
            "_view_count": null,
            "flex_flow": null,
            "width": null,
            "min_width": null,
            "border": null,
            "align_items": null,
            "bottom": null,
            "_model_module": "@jupyter-widgets/base",
            "top": null,
            "grid_column": null,
            "overflow_y": null,
            "overflow_x": null,
            "grid_auto_flow": null,
            "grid_area": null,
            "grid_template_columns": null,
            "flex": null,
            "_model_name": "LayoutModel",
            "justify_items": null,
            "grid_row": null,
            "max_height": null,
            "align_content": null,
            "visibility": null,
            "align_self": null,
            "height": null,
            "min_height": null,
            "padding": null,
            "grid_auto_rows": null,
            "grid_gap": null,
            "max_width": null,
            "order": null,
            "_view_module_version": "1.2.0",
            "grid_template_areas": null,
            "object_position": null,
            "object_fit": null,
            "grid_auto_columns": null,
            "margin": null,
            "display": null,
            "left": null
          }
        },
        "95162762a1d143378bfec047d2aaa46c": {
          "model_module": "@jupyter-widgets/controls",
          "model_name": "FloatProgressModel",
          "state": {
            "_view_name": "ProgressView",
            "style": "IPY_MODEL_5e5d5e1fe3ef4d37b310a5ca205563ed",
            "_dom_classes": [],
            "description": "100%",
            "_model_name": "FloatProgressModel",
            "bar_style": "success",
            "max": 2861,
            "_view_module": "@jupyter-widgets/controls",
            "_model_module_version": "1.5.0",
            "value": 2861,
            "_view_count": null,
            "_view_module_version": "1.5.0",
            "orientation": "horizontal",
            "min": 0,
            "description_tooltip": null,
            "_model_module": "@jupyter-widgets/controls",
            "layout": "IPY_MODEL_fd4c5b82f0884073a37430071d5c8807"
          }
        },
        "97114c959f3a4568a76fb4d0be754f5d": {
          "model_module": "@jupyter-widgets/controls",
          "model_name": "HTMLModel",
          "state": {
            "_view_name": "HTMLView",
            "style": "IPY_MODEL_1744b28ad2d04967b274b890d0528c6e",
            "_dom_classes": [],
            "description": "",
            "_model_name": "HTMLModel",
            "placeholder": "​",
            "_view_module": "@jupyter-widgets/controls",
            "_model_module_version": "1.5.0",
            "value": " 2861/2861 [1:03:27&lt;00:00,  1.33s/it]",
            "_view_count": null,
            "_view_module_version": "1.5.0",
            "description_tooltip": null,
            "_model_module": "@jupyter-widgets/controls",
            "layout": "IPY_MODEL_cbe5f3acd43143c085a8eb90dff1d519"
          }
        },
        "5e5d5e1fe3ef4d37b310a5ca205563ed": {
          "model_module": "@jupyter-widgets/controls",
          "model_name": "ProgressStyleModel",
          "state": {
            "_view_name": "StyleView",
            "_model_name": "ProgressStyleModel",
            "description_width": "initial",
            "_view_module": "@jupyter-widgets/base",
            "_model_module_version": "1.5.0",
            "_view_count": null,
            "_view_module_version": "1.2.0",
            "bar_color": null,
            "_model_module": "@jupyter-widgets/controls"
          }
        },
        "fd4c5b82f0884073a37430071d5c8807": {
          "model_module": "@jupyter-widgets/base",
          "model_name": "LayoutModel",
          "state": {
            "_view_name": "LayoutView",
            "grid_template_rows": null,
            "right": null,
            "justify_content": null,
            "_view_module": "@jupyter-widgets/base",
            "overflow": null,
            "_model_module_version": "1.2.0",
            "_view_count": null,
            "flex_flow": null,
            "width": null,
            "min_width": null,
            "border": null,
            "align_items": null,
            "bottom": null,
            "_model_module": "@jupyter-widgets/base",
            "top": null,
            "grid_column": null,
            "overflow_y": null,
            "overflow_x": null,
            "grid_auto_flow": null,
            "grid_area": null,
            "grid_template_columns": null,
            "flex": null,
            "_model_name": "LayoutModel",
            "justify_items": null,
            "grid_row": null,
            "max_height": null,
            "align_content": null,
            "visibility": null,
            "align_self": null,
            "height": null,
            "min_height": null,
            "padding": null,
            "grid_auto_rows": null,
            "grid_gap": null,
            "max_width": null,
            "order": null,
            "_view_module_version": "1.2.0",
            "grid_template_areas": null,
            "object_position": null,
            "object_fit": null,
            "grid_auto_columns": null,
            "margin": null,
            "display": null,
            "left": null
          }
        },
        "1744b28ad2d04967b274b890d0528c6e": {
          "model_module": "@jupyter-widgets/controls",
          "model_name": "DescriptionStyleModel",
          "state": {
            "_view_name": "StyleView",
            "_model_name": "DescriptionStyleModel",
            "description_width": "",
            "_view_module": "@jupyter-widgets/base",
            "_model_module_version": "1.5.0",
            "_view_count": null,
            "_view_module_version": "1.2.0",
            "_model_module": "@jupyter-widgets/controls"
          }
        },
        "cbe5f3acd43143c085a8eb90dff1d519": {
          "model_module": "@jupyter-widgets/base",
          "model_name": "LayoutModel",
          "state": {
            "_view_name": "LayoutView",
            "grid_template_rows": null,
            "right": null,
            "justify_content": null,
            "_view_module": "@jupyter-widgets/base",
            "overflow": null,
            "_model_module_version": "1.2.0",
            "_view_count": null,
            "flex_flow": null,
            "width": null,
            "min_width": null,
            "border": null,
            "align_items": null,
            "bottom": null,
            "_model_module": "@jupyter-widgets/base",
            "top": null,
            "grid_column": null,
            "overflow_y": null,
            "overflow_x": null,
            "grid_auto_flow": null,
            "grid_area": null,
            "grid_template_columns": null,
            "flex": null,
            "_model_name": "LayoutModel",
            "justify_items": null,
            "grid_row": null,
            "max_height": null,
            "align_content": null,
            "visibility": null,
            "align_self": null,
            "height": null,
            "min_height": null,
            "padding": null,
            "grid_auto_rows": null,
            "grid_gap": null,
            "max_width": null,
            "order": null,
            "_view_module_version": "1.2.0",
            "grid_template_areas": null,
            "object_position": null,
            "object_fit": null,
            "grid_auto_columns": null,
            "margin": null,
            "display": null,
            "left": null
          }
        },
        "4b34cc1969bc4862ad2876dfaed3ccae": {
          "model_module": "@jupyter-widgets/controls",
          "model_name": "HBoxModel",
          "state": {
            "_view_name": "HBoxView",
            "_dom_classes": [],
            "_model_name": "HBoxModel",
            "_view_module": "@jupyter-widgets/controls",
            "_model_module_version": "1.5.0",
            "_view_count": null,
            "_view_module_version": "1.5.0",
            "box_style": "",
            "layout": "IPY_MODEL_f6cbd95d01794d0b86f9ddc8658309f1",
            "_model_module": "@jupyter-widgets/controls",
            "children": [
              "IPY_MODEL_ff26b074a87c45d3a082126d80eefc37",
              "IPY_MODEL_afc42680ab3d4c9c86e4fde6966283d8"
            ]
          }
        },
        "f6cbd95d01794d0b86f9ddc8658309f1": {
          "model_module": "@jupyter-widgets/base",
          "model_name": "LayoutModel",
          "state": {
            "_view_name": "LayoutView",
            "grid_template_rows": null,
            "right": null,
            "justify_content": null,
            "_view_module": "@jupyter-widgets/base",
            "overflow": null,
            "_model_module_version": "1.2.0",
            "_view_count": null,
            "flex_flow": null,
            "width": null,
            "min_width": null,
            "border": null,
            "align_items": null,
            "bottom": null,
            "_model_module": "@jupyter-widgets/base",
            "top": null,
            "grid_column": null,
            "overflow_y": null,
            "overflow_x": null,
            "grid_auto_flow": null,
            "grid_area": null,
            "grid_template_columns": null,
            "flex": null,
            "_model_name": "LayoutModel",
            "justify_items": null,
            "grid_row": null,
            "max_height": null,
            "align_content": null,
            "visibility": null,
            "align_self": null,
            "height": null,
            "min_height": null,
            "padding": null,
            "grid_auto_rows": null,
            "grid_gap": null,
            "max_width": null,
            "order": null,
            "_view_module_version": "1.2.0",
            "grid_template_areas": null,
            "object_position": null,
            "object_fit": null,
            "grid_auto_columns": null,
            "margin": null,
            "display": null,
            "left": null
          }
        },
        "ff26b074a87c45d3a082126d80eefc37": {
          "model_module": "@jupyter-widgets/controls",
          "model_name": "FloatProgressModel",
          "state": {
            "_view_name": "ProgressView",
            "style": "IPY_MODEL_50592eef4ce94e10a05791a71cd0ac9e",
            "_dom_classes": [],
            "description": "100%",
            "_model_name": "FloatProgressModel",
            "bar_style": "success",
            "max": 11615,
            "_view_module": "@jupyter-widgets/controls",
            "_model_module_version": "1.5.0",
            "value": 11615,
            "_view_count": null,
            "_view_module_version": "1.5.0",
            "orientation": "horizontal",
            "min": 0,
            "description_tooltip": null,
            "_model_module": "@jupyter-widgets/controls",
            "layout": "IPY_MODEL_c12642295e664b639750977a61187bef"
          }
        },
        "afc42680ab3d4c9c86e4fde6966283d8": {
          "model_module": "@jupyter-widgets/controls",
          "model_name": "HTMLModel",
          "state": {
            "_view_name": "HTMLView",
            "style": "IPY_MODEL_eb1e50589d5f446aab56495c1a532858",
            "_dom_classes": [],
            "description": "",
            "_model_name": "HTMLModel",
            "placeholder": "​",
            "_view_module": "@jupyter-widgets/controls",
            "_model_module_version": "1.5.0",
            "value": " 11615/11615 [52:00&lt;00:00,  3.72it/s]",
            "_view_count": null,
            "_view_module_version": "1.5.0",
            "description_tooltip": null,
            "_model_module": "@jupyter-widgets/controls",
            "layout": "IPY_MODEL_cb86854d24c84a4c9a3c1dadd42a7d19"
          }
        },
        "50592eef4ce94e10a05791a71cd0ac9e": {
          "model_module": "@jupyter-widgets/controls",
          "model_name": "ProgressStyleModel",
          "state": {
            "_view_name": "StyleView",
            "_model_name": "ProgressStyleModel",
            "description_width": "initial",
            "_view_module": "@jupyter-widgets/base",
            "_model_module_version": "1.5.0",
            "_view_count": null,
            "_view_module_version": "1.2.0",
            "bar_color": null,
            "_model_module": "@jupyter-widgets/controls"
          }
        },
        "c12642295e664b639750977a61187bef": {
          "model_module": "@jupyter-widgets/base",
          "model_name": "LayoutModel",
          "state": {
            "_view_name": "LayoutView",
            "grid_template_rows": null,
            "right": null,
            "justify_content": null,
            "_view_module": "@jupyter-widgets/base",
            "overflow": null,
            "_model_module_version": "1.2.0",
            "_view_count": null,
            "flex_flow": null,
            "width": null,
            "min_width": null,
            "border": null,
            "align_items": null,
            "bottom": null,
            "_model_module": "@jupyter-widgets/base",
            "top": null,
            "grid_column": null,
            "overflow_y": null,
            "overflow_x": null,
            "grid_auto_flow": null,
            "grid_area": null,
            "grid_template_columns": null,
            "flex": null,
            "_model_name": "LayoutModel",
            "justify_items": null,
            "grid_row": null,
            "max_height": null,
            "align_content": null,
            "visibility": null,
            "align_self": null,
            "height": null,
            "min_height": null,
            "padding": null,
            "grid_auto_rows": null,
            "grid_gap": null,
            "max_width": null,
            "order": null,
            "_view_module_version": "1.2.0",
            "grid_template_areas": null,
            "object_position": null,
            "object_fit": null,
            "grid_auto_columns": null,
            "margin": null,
            "display": null,
            "left": null
          }
        },
        "eb1e50589d5f446aab56495c1a532858": {
          "model_module": "@jupyter-widgets/controls",
          "model_name": "DescriptionStyleModel",
          "state": {
            "_view_name": "StyleView",
            "_model_name": "DescriptionStyleModel",
            "description_width": "",
            "_view_module": "@jupyter-widgets/base",
            "_model_module_version": "1.5.0",
            "_view_count": null,
            "_view_module_version": "1.2.0",
            "_model_module": "@jupyter-widgets/controls"
          }
        },
        "cb86854d24c84a4c9a3c1dadd42a7d19": {
          "model_module": "@jupyter-widgets/base",
          "model_name": "LayoutModel",
          "state": {
            "_view_name": "LayoutView",
            "grid_template_rows": null,
            "right": null,
            "justify_content": null,
            "_view_module": "@jupyter-widgets/base",
            "overflow": null,
            "_model_module_version": "1.2.0",
            "_view_count": null,
            "flex_flow": null,
            "width": null,
            "min_width": null,
            "border": null,
            "align_items": null,
            "bottom": null,
            "_model_module": "@jupyter-widgets/base",
            "top": null,
            "grid_column": null,
            "overflow_y": null,
            "overflow_x": null,
            "grid_auto_flow": null,
            "grid_area": null,
            "grid_template_columns": null,
            "flex": null,
            "_model_name": "LayoutModel",
            "justify_items": null,
            "grid_row": null,
            "max_height": null,
            "align_content": null,
            "visibility": null,
            "align_self": null,
            "height": null,
            "min_height": null,
            "padding": null,
            "grid_auto_rows": null,
            "grid_gap": null,
            "max_width": null,
            "order": null,
            "_view_module_version": "1.2.0",
            "grid_template_areas": null,
            "object_position": null,
            "object_fit": null,
            "grid_auto_columns": null,
            "margin": null,
            "display": null,
            "left": null
          }
        },
        "d6d9a46ed6024debb8b492512acafc5e": {
          "model_module": "@jupyter-widgets/controls",
          "model_name": "HBoxModel",
          "state": {
            "_view_name": "HBoxView",
            "_dom_classes": [],
            "_model_name": "HBoxModel",
            "_view_module": "@jupyter-widgets/controls",
            "_model_module_version": "1.5.0",
            "_view_count": null,
            "_view_module_version": "1.5.0",
            "box_style": "",
            "layout": "IPY_MODEL_fed504140b814b9c85ce203fe6fa3c40",
            "_model_module": "@jupyter-widgets/controls",
            "children": [
              "IPY_MODEL_7e776006d2f64d138cc5d2c163bc7f66",
              "IPY_MODEL_39fbf01b36a941899be65222f96ded88"
            ]
          }
        },
        "fed504140b814b9c85ce203fe6fa3c40": {
          "model_module": "@jupyter-widgets/base",
          "model_name": "LayoutModel",
          "state": {
            "_view_name": "LayoutView",
            "grid_template_rows": null,
            "right": null,
            "justify_content": null,
            "_view_module": "@jupyter-widgets/base",
            "overflow": null,
            "_model_module_version": "1.2.0",
            "_view_count": null,
            "flex_flow": null,
            "width": null,
            "min_width": null,
            "border": null,
            "align_items": null,
            "bottom": null,
            "_model_module": "@jupyter-widgets/base",
            "top": null,
            "grid_column": null,
            "overflow_y": null,
            "overflow_x": null,
            "grid_auto_flow": null,
            "grid_area": null,
            "grid_template_columns": null,
            "flex": null,
            "_model_name": "LayoutModel",
            "justify_items": null,
            "grid_row": null,
            "max_height": null,
            "align_content": null,
            "visibility": null,
            "align_self": null,
            "height": null,
            "min_height": null,
            "padding": null,
            "grid_auto_rows": null,
            "grid_gap": null,
            "max_width": null,
            "order": null,
            "_view_module_version": "1.2.0",
            "grid_template_areas": null,
            "object_position": null,
            "object_fit": null,
            "grid_auto_columns": null,
            "margin": null,
            "display": null,
            "left": null
          }
        },
        "7e776006d2f64d138cc5d2c163bc7f66": {
          "model_module": "@jupyter-widgets/controls",
          "model_name": "FloatProgressModel",
          "state": {
            "_view_name": "ProgressView",
            "style": "IPY_MODEL_504577277b6a4dd7a260e347545b819f",
            "_dom_classes": [],
            "description": "100%",
            "_model_name": "FloatProgressModel",
            "bar_style": "success",
            "max": 2861,
            "_view_module": "@jupyter-widgets/controls",
            "_model_module_version": "1.5.0",
            "value": 2861,
            "_view_count": null,
            "_view_module_version": "1.5.0",
            "orientation": "horizontal",
            "min": 0,
            "description_tooltip": null,
            "_model_module": "@jupyter-widgets/controls",
            "layout": "IPY_MODEL_2bc941eb7fb54208afa6c96b9a78d6f2"
          }
        },
        "39fbf01b36a941899be65222f96ded88": {
          "model_module": "@jupyter-widgets/controls",
          "model_name": "HTMLModel",
          "state": {
            "_view_name": "HTMLView",
            "style": "IPY_MODEL_f38a0014a4884b939b6830492c447658",
            "_dom_classes": [],
            "description": "",
            "_model_name": "HTMLModel",
            "placeholder": "​",
            "_view_module": "@jupyter-widgets/controls",
            "_model_module_version": "1.5.0",
            "value": " 2861/2861 [15:56&lt;00:00,  2.99it/s]",
            "_view_count": null,
            "_view_module_version": "1.5.0",
            "description_tooltip": null,
            "_model_module": "@jupyter-widgets/controls",
            "layout": "IPY_MODEL_d9166dbc60d04ca49f79e27d1a466b8a"
          }
        },
        "504577277b6a4dd7a260e347545b819f": {
          "model_module": "@jupyter-widgets/controls",
          "model_name": "ProgressStyleModel",
          "state": {
            "_view_name": "StyleView",
            "_model_name": "ProgressStyleModel",
            "description_width": "initial",
            "_view_module": "@jupyter-widgets/base",
            "_model_module_version": "1.5.0",
            "_view_count": null,
            "_view_module_version": "1.2.0",
            "bar_color": null,
            "_model_module": "@jupyter-widgets/controls"
          }
        },
        "2bc941eb7fb54208afa6c96b9a78d6f2": {
          "model_module": "@jupyter-widgets/base",
          "model_name": "LayoutModel",
          "state": {
            "_view_name": "LayoutView",
            "grid_template_rows": null,
            "right": null,
            "justify_content": null,
            "_view_module": "@jupyter-widgets/base",
            "overflow": null,
            "_model_module_version": "1.2.0",
            "_view_count": null,
            "flex_flow": null,
            "width": null,
            "min_width": null,
            "border": null,
            "align_items": null,
            "bottom": null,
            "_model_module": "@jupyter-widgets/base",
            "top": null,
            "grid_column": null,
            "overflow_y": null,
            "overflow_x": null,
            "grid_auto_flow": null,
            "grid_area": null,
            "grid_template_columns": null,
            "flex": null,
            "_model_name": "LayoutModel",
            "justify_items": null,
            "grid_row": null,
            "max_height": null,
            "align_content": null,
            "visibility": null,
            "align_self": null,
            "height": null,
            "min_height": null,
            "padding": null,
            "grid_auto_rows": null,
            "grid_gap": null,
            "max_width": null,
            "order": null,
            "_view_module_version": "1.2.0",
            "grid_template_areas": null,
            "object_position": null,
            "object_fit": null,
            "grid_auto_columns": null,
            "margin": null,
            "display": null,
            "left": null
          }
        },
        "f38a0014a4884b939b6830492c447658": {
          "model_module": "@jupyter-widgets/controls",
          "model_name": "DescriptionStyleModel",
          "state": {
            "_view_name": "StyleView",
            "_model_name": "DescriptionStyleModel",
            "description_width": "",
            "_view_module": "@jupyter-widgets/base",
            "_model_module_version": "1.5.0",
            "_view_count": null,
            "_view_module_version": "1.2.0",
            "_model_module": "@jupyter-widgets/controls"
          }
        },
        "d9166dbc60d04ca49f79e27d1a466b8a": {
          "model_module": "@jupyter-widgets/base",
          "model_name": "LayoutModel",
          "state": {
            "_view_name": "LayoutView",
            "grid_template_rows": null,
            "right": null,
            "justify_content": null,
            "_view_module": "@jupyter-widgets/base",
            "overflow": null,
            "_model_module_version": "1.2.0",
            "_view_count": null,
            "flex_flow": null,
            "width": null,
            "min_width": null,
            "border": null,
            "align_items": null,
            "bottom": null,
            "_model_module": "@jupyter-widgets/base",
            "top": null,
            "grid_column": null,
            "overflow_y": null,
            "overflow_x": null,
            "grid_auto_flow": null,
            "grid_area": null,
            "grid_template_columns": null,
            "flex": null,
            "_model_name": "LayoutModel",
            "justify_items": null,
            "grid_row": null,
            "max_height": null,
            "align_content": null,
            "visibility": null,
            "align_self": null,
            "height": null,
            "min_height": null,
            "padding": null,
            "grid_auto_rows": null,
            "grid_gap": null,
            "max_width": null,
            "order": null,
            "_view_module_version": "1.2.0",
            "grid_template_areas": null,
            "object_position": null,
            "object_fit": null,
            "grid_auto_columns": null,
            "margin": null,
            "display": null,
            "left": null
          }
        },
        "2de530ccca92403fafe7033bbd69ab23": {
          "model_module": "@jupyter-widgets/controls",
          "model_name": "HBoxModel",
          "state": {
            "_view_name": "HBoxView",
            "_dom_classes": [],
            "_model_name": "HBoxModel",
            "_view_module": "@jupyter-widgets/controls",
            "_model_module_version": "1.5.0",
            "_view_count": null,
            "_view_module_version": "1.5.0",
            "box_style": "",
            "layout": "IPY_MODEL_0f6801e94f174d75a39e6daa34f4d65e",
            "_model_module": "@jupyter-widgets/controls",
            "children": [
              "IPY_MODEL_6856a291821f406dbe6f7fe6ccdd2be6",
              "IPY_MODEL_c7808e3b754347fea1b7d3a461234c0e"
            ]
          }
        },
        "0f6801e94f174d75a39e6daa34f4d65e": {
          "model_module": "@jupyter-widgets/base",
          "model_name": "LayoutModel",
          "state": {
            "_view_name": "LayoutView",
            "grid_template_rows": null,
            "right": null,
            "justify_content": null,
            "_view_module": "@jupyter-widgets/base",
            "overflow": null,
            "_model_module_version": "1.2.0",
            "_view_count": null,
            "flex_flow": null,
            "width": null,
            "min_width": null,
            "border": null,
            "align_items": null,
            "bottom": null,
            "_model_module": "@jupyter-widgets/base",
            "top": null,
            "grid_column": null,
            "overflow_y": null,
            "overflow_x": null,
            "grid_auto_flow": null,
            "grid_area": null,
            "grid_template_columns": null,
            "flex": null,
            "_model_name": "LayoutModel",
            "justify_items": null,
            "grid_row": null,
            "max_height": null,
            "align_content": null,
            "visibility": null,
            "align_self": null,
            "height": null,
            "min_height": null,
            "padding": null,
            "grid_auto_rows": null,
            "grid_gap": null,
            "max_width": null,
            "order": null,
            "_view_module_version": "1.2.0",
            "grid_template_areas": null,
            "object_position": null,
            "object_fit": null,
            "grid_auto_columns": null,
            "margin": null,
            "display": null,
            "left": null
          }
        },
        "6856a291821f406dbe6f7fe6ccdd2be6": {
          "model_module": "@jupyter-widgets/controls",
          "model_name": "FloatProgressModel",
          "state": {
            "_view_name": "ProgressView",
            "style": "IPY_MODEL_ac95a40afe23490692c33e4ee61b93c2",
            "_dom_classes": [],
            "description": "100%",
            "_model_name": "FloatProgressModel",
            "bar_style": "success",
            "max": 2861,
            "_view_module": "@jupyter-widgets/controls",
            "_model_module_version": "1.5.0",
            "value": 2861,
            "_view_count": null,
            "_view_module_version": "1.5.0",
            "orientation": "horizontal",
            "min": 0,
            "description_tooltip": null,
            "_model_module": "@jupyter-widgets/controls",
            "layout": "IPY_MODEL_43fa813026f441bab9d912a01275b10c"
          }
        },
        "c7808e3b754347fea1b7d3a461234c0e": {
          "model_module": "@jupyter-widgets/controls",
          "model_name": "HTMLModel",
          "state": {
            "_view_name": "HTMLView",
            "style": "IPY_MODEL_ff932a56c0db4ff2af4d880c717d2374",
            "_dom_classes": [],
            "description": "",
            "_model_name": "HTMLModel",
            "placeholder": "​",
            "_view_module": "@jupyter-widgets/controls",
            "_model_module_version": "1.5.0",
            "value": " 2861/2861 [12:37&lt;00:00,  3.78it/s]",
            "_view_count": null,
            "_view_module_version": "1.5.0",
            "description_tooltip": null,
            "_model_module": "@jupyter-widgets/controls",
            "layout": "IPY_MODEL_3970627920de4e8ab1d79e358ca237aa"
          }
        },
        "ac95a40afe23490692c33e4ee61b93c2": {
          "model_module": "@jupyter-widgets/controls",
          "model_name": "ProgressStyleModel",
          "state": {
            "_view_name": "StyleView",
            "_model_name": "ProgressStyleModel",
            "description_width": "initial",
            "_view_module": "@jupyter-widgets/base",
            "_model_module_version": "1.5.0",
            "_view_count": null,
            "_view_module_version": "1.2.0",
            "bar_color": null,
            "_model_module": "@jupyter-widgets/controls"
          }
        },
        "43fa813026f441bab9d912a01275b10c": {
          "model_module": "@jupyter-widgets/base",
          "model_name": "LayoutModel",
          "state": {
            "_view_name": "LayoutView",
            "grid_template_rows": null,
            "right": null,
            "justify_content": null,
            "_view_module": "@jupyter-widgets/base",
            "overflow": null,
            "_model_module_version": "1.2.0",
            "_view_count": null,
            "flex_flow": null,
            "width": null,
            "min_width": null,
            "border": null,
            "align_items": null,
            "bottom": null,
            "_model_module": "@jupyter-widgets/base",
            "top": null,
            "grid_column": null,
            "overflow_y": null,
            "overflow_x": null,
            "grid_auto_flow": null,
            "grid_area": null,
            "grid_template_columns": null,
            "flex": null,
            "_model_name": "LayoutModel",
            "justify_items": null,
            "grid_row": null,
            "max_height": null,
            "align_content": null,
            "visibility": null,
            "align_self": null,
            "height": null,
            "min_height": null,
            "padding": null,
            "grid_auto_rows": null,
            "grid_gap": null,
            "max_width": null,
            "order": null,
            "_view_module_version": "1.2.0",
            "grid_template_areas": null,
            "object_position": null,
            "object_fit": null,
            "grid_auto_columns": null,
            "margin": null,
            "display": null,
            "left": null
          }
        },
        "ff932a56c0db4ff2af4d880c717d2374": {
          "model_module": "@jupyter-widgets/controls",
          "model_name": "DescriptionStyleModel",
          "state": {
            "_view_name": "StyleView",
            "_model_name": "DescriptionStyleModel",
            "description_width": "",
            "_view_module": "@jupyter-widgets/base",
            "_model_module_version": "1.5.0",
            "_view_count": null,
            "_view_module_version": "1.2.0",
            "_model_module": "@jupyter-widgets/controls"
          }
        },
        "3970627920de4e8ab1d79e358ca237aa": {
          "model_module": "@jupyter-widgets/base",
          "model_name": "LayoutModel",
          "state": {
            "_view_name": "LayoutView",
            "grid_template_rows": null,
            "right": null,
            "justify_content": null,
            "_view_module": "@jupyter-widgets/base",
            "overflow": null,
            "_model_module_version": "1.2.0",
            "_view_count": null,
            "flex_flow": null,
            "width": null,
            "min_width": null,
            "border": null,
            "align_items": null,
            "bottom": null,
            "_model_module": "@jupyter-widgets/base",
            "top": null,
            "grid_column": null,
            "overflow_y": null,
            "overflow_x": null,
            "grid_auto_flow": null,
            "grid_area": null,
            "grid_template_columns": null,
            "flex": null,
            "_model_name": "LayoutModel",
            "justify_items": null,
            "grid_row": null,
            "max_height": null,
            "align_content": null,
            "visibility": null,
            "align_self": null,
            "height": null,
            "min_height": null,
            "padding": null,
            "grid_auto_rows": null,
            "grid_gap": null,
            "max_width": null,
            "order": null,
            "_view_module_version": "1.2.0",
            "grid_template_areas": null,
            "object_position": null,
            "object_fit": null,
            "grid_auto_columns": null,
            "margin": null,
            "display": null,
            "left": null
          }
        },
        "6a969c0dd2694168ab054339d2adaca8": {
          "model_module": "@jupyter-widgets/controls",
          "model_name": "HBoxModel",
          "state": {
            "_view_name": "HBoxView",
            "_dom_classes": [],
            "_model_name": "HBoxModel",
            "_view_module": "@jupyter-widgets/controls",
            "_model_module_version": "1.5.0",
            "_view_count": null,
            "_view_module_version": "1.5.0",
            "box_style": "",
            "layout": "IPY_MODEL_c3f011acb49c489bb06cb662d5edafc8",
            "_model_module": "@jupyter-widgets/controls",
            "children": [
              "IPY_MODEL_209419caf1ce4796867b0b2a5279b356",
              "IPY_MODEL_9d77d585fe784ef0856851b2c2f2808e"
            ]
          }
        },
        "c3f011acb49c489bb06cb662d5edafc8": {
          "model_module": "@jupyter-widgets/base",
          "model_name": "LayoutModel",
          "state": {
            "_view_name": "LayoutView",
            "grid_template_rows": null,
            "right": null,
            "justify_content": null,
            "_view_module": "@jupyter-widgets/base",
            "overflow": null,
            "_model_module_version": "1.2.0",
            "_view_count": null,
            "flex_flow": null,
            "width": null,
            "min_width": null,
            "border": null,
            "align_items": null,
            "bottom": null,
            "_model_module": "@jupyter-widgets/base",
            "top": null,
            "grid_column": null,
            "overflow_y": null,
            "overflow_x": null,
            "grid_auto_flow": null,
            "grid_area": null,
            "grid_template_columns": null,
            "flex": null,
            "_model_name": "LayoutModel",
            "justify_items": null,
            "grid_row": null,
            "max_height": null,
            "align_content": null,
            "visibility": null,
            "align_self": null,
            "height": null,
            "min_height": null,
            "padding": null,
            "grid_auto_rows": null,
            "grid_gap": null,
            "max_width": null,
            "order": null,
            "_view_module_version": "1.2.0",
            "grid_template_areas": null,
            "object_position": null,
            "object_fit": null,
            "grid_auto_columns": null,
            "margin": null,
            "display": null,
            "left": null
          }
        },
        "209419caf1ce4796867b0b2a5279b356": {
          "model_module": "@jupyter-widgets/controls",
          "model_name": "FloatProgressModel",
          "state": {
            "_view_name": "ProgressView",
            "style": "IPY_MODEL_bf67e67e83e74f3c92128d6600e25598",
            "_dom_classes": [],
            "description": "100%",
            "_model_name": "FloatProgressModel",
            "bar_style": "success",
            "max": 11615,
            "_view_module": "@jupyter-widgets/controls",
            "_model_module_version": "1.5.0",
            "value": 11615,
            "_view_count": null,
            "_view_module_version": "1.5.0",
            "orientation": "horizontal",
            "min": 0,
            "description_tooltip": null,
            "_model_module": "@jupyter-widgets/controls",
            "layout": "IPY_MODEL_dedc6daec47b4aeb885823585090bc4e"
          }
        },
        "9d77d585fe784ef0856851b2c2f2808e": {
          "model_module": "@jupyter-widgets/controls",
          "model_name": "HTMLModel",
          "state": {
            "_view_name": "HTMLView",
            "style": "IPY_MODEL_d56eb5f747074168ab314587a4f6f52f",
            "_dom_classes": [],
            "description": "",
            "_model_name": "HTMLModel",
            "placeholder": "​",
            "_view_module": "@jupyter-widgets/controls",
            "_model_module_version": "1.5.0",
            "value": " 11615/11615 [48:31&lt;00:00,  3.99it/s]",
            "_view_count": null,
            "_view_module_version": "1.5.0",
            "description_tooltip": null,
            "_model_module": "@jupyter-widgets/controls",
            "layout": "IPY_MODEL_e5fb5cd8df364a02807d56d50569985c"
          }
        },
        "bf67e67e83e74f3c92128d6600e25598": {
          "model_module": "@jupyter-widgets/controls",
          "model_name": "ProgressStyleModel",
          "state": {
            "_view_name": "StyleView",
            "_model_name": "ProgressStyleModel",
            "description_width": "initial",
            "_view_module": "@jupyter-widgets/base",
            "_model_module_version": "1.5.0",
            "_view_count": null,
            "_view_module_version": "1.2.0",
            "bar_color": null,
            "_model_module": "@jupyter-widgets/controls"
          }
        },
        "dedc6daec47b4aeb885823585090bc4e": {
          "model_module": "@jupyter-widgets/base",
          "model_name": "LayoutModel",
          "state": {
            "_view_name": "LayoutView",
            "grid_template_rows": null,
            "right": null,
            "justify_content": null,
            "_view_module": "@jupyter-widgets/base",
            "overflow": null,
            "_model_module_version": "1.2.0",
            "_view_count": null,
            "flex_flow": null,
            "width": null,
            "min_width": null,
            "border": null,
            "align_items": null,
            "bottom": null,
            "_model_module": "@jupyter-widgets/base",
            "top": null,
            "grid_column": null,
            "overflow_y": null,
            "overflow_x": null,
            "grid_auto_flow": null,
            "grid_area": null,
            "grid_template_columns": null,
            "flex": null,
            "_model_name": "LayoutModel",
            "justify_items": null,
            "grid_row": null,
            "max_height": null,
            "align_content": null,
            "visibility": null,
            "align_self": null,
            "height": null,
            "min_height": null,
            "padding": null,
            "grid_auto_rows": null,
            "grid_gap": null,
            "max_width": null,
            "order": null,
            "_view_module_version": "1.2.0",
            "grid_template_areas": null,
            "object_position": null,
            "object_fit": null,
            "grid_auto_columns": null,
            "margin": null,
            "display": null,
            "left": null
          }
        },
        "d56eb5f747074168ab314587a4f6f52f": {
          "model_module": "@jupyter-widgets/controls",
          "model_name": "DescriptionStyleModel",
          "state": {
            "_view_name": "StyleView",
            "_model_name": "DescriptionStyleModel",
            "description_width": "",
            "_view_module": "@jupyter-widgets/base",
            "_model_module_version": "1.5.0",
            "_view_count": null,
            "_view_module_version": "1.2.0",
            "_model_module": "@jupyter-widgets/controls"
          }
        },
        "e5fb5cd8df364a02807d56d50569985c": {
          "model_module": "@jupyter-widgets/base",
          "model_name": "LayoutModel",
          "state": {
            "_view_name": "LayoutView",
            "grid_template_rows": null,
            "right": null,
            "justify_content": null,
            "_view_module": "@jupyter-widgets/base",
            "overflow": null,
            "_model_module_version": "1.2.0",
            "_view_count": null,
            "flex_flow": null,
            "width": null,
            "min_width": null,
            "border": null,
            "align_items": null,
            "bottom": null,
            "_model_module": "@jupyter-widgets/base",
            "top": null,
            "grid_column": null,
            "overflow_y": null,
            "overflow_x": null,
            "grid_auto_flow": null,
            "grid_area": null,
            "grid_template_columns": null,
            "flex": null,
            "_model_name": "LayoutModel",
            "justify_items": null,
            "grid_row": null,
            "max_height": null,
            "align_content": null,
            "visibility": null,
            "align_self": null,
            "height": null,
            "min_height": null,
            "padding": null,
            "grid_auto_rows": null,
            "grid_gap": null,
            "max_width": null,
            "order": null,
            "_view_module_version": "1.2.0",
            "grid_template_areas": null,
            "object_position": null,
            "object_fit": null,
            "grid_auto_columns": null,
            "margin": null,
            "display": null,
            "left": null
          }
        },
        "a6c61cd9f0984c349324c6849a7ef0d4": {
          "model_module": "@jupyter-widgets/controls",
          "model_name": "HBoxModel",
          "state": {
            "_view_name": "HBoxView",
            "_dom_classes": [],
            "_model_name": "HBoxModel",
            "_view_module": "@jupyter-widgets/controls",
            "_model_module_version": "1.5.0",
            "_view_count": null,
            "_view_module_version": "1.5.0",
            "box_style": "",
            "layout": "IPY_MODEL_0dc72e1e377e4fe2ac3818e3850e29a4",
            "_model_module": "@jupyter-widgets/controls",
            "children": [
              "IPY_MODEL_e7ee37c415524f8c9161af5734a9708c",
              "IPY_MODEL_b024a00dc13f4e1597abf72e45e388b2"
            ]
          }
        },
        "0dc72e1e377e4fe2ac3818e3850e29a4": {
          "model_module": "@jupyter-widgets/base",
          "model_name": "LayoutModel",
          "state": {
            "_view_name": "LayoutView",
            "grid_template_rows": null,
            "right": null,
            "justify_content": null,
            "_view_module": "@jupyter-widgets/base",
            "overflow": null,
            "_model_module_version": "1.2.0",
            "_view_count": null,
            "flex_flow": null,
            "width": null,
            "min_width": null,
            "border": null,
            "align_items": null,
            "bottom": null,
            "_model_module": "@jupyter-widgets/base",
            "top": null,
            "grid_column": null,
            "overflow_y": null,
            "overflow_x": null,
            "grid_auto_flow": null,
            "grid_area": null,
            "grid_template_columns": null,
            "flex": null,
            "_model_name": "LayoutModel",
            "justify_items": null,
            "grid_row": null,
            "max_height": null,
            "align_content": null,
            "visibility": null,
            "align_self": null,
            "height": null,
            "min_height": null,
            "padding": null,
            "grid_auto_rows": null,
            "grid_gap": null,
            "max_width": null,
            "order": null,
            "_view_module_version": "1.2.0",
            "grid_template_areas": null,
            "object_position": null,
            "object_fit": null,
            "grid_auto_columns": null,
            "margin": null,
            "display": null,
            "left": null
          }
        },
        "e7ee37c415524f8c9161af5734a9708c": {
          "model_module": "@jupyter-widgets/controls",
          "model_name": "FloatProgressModel",
          "state": {
            "_view_name": "ProgressView",
            "style": "IPY_MODEL_788d4571c1644992bbbc35f10e2a6c71",
            "_dom_classes": [],
            "description": "100%",
            "_model_name": "FloatProgressModel",
            "bar_style": "success",
            "max": 2861,
            "_view_module": "@jupyter-widgets/controls",
            "_model_module_version": "1.5.0",
            "value": 2861,
            "_view_count": null,
            "_view_module_version": "1.5.0",
            "orientation": "horizontal",
            "min": 0,
            "description_tooltip": null,
            "_model_module": "@jupyter-widgets/controls",
            "layout": "IPY_MODEL_ba0f88ac8e4349abbd5ed7e36b97d732"
          }
        },
        "b024a00dc13f4e1597abf72e45e388b2": {
          "model_module": "@jupyter-widgets/controls",
          "model_name": "HTMLModel",
          "state": {
            "_view_name": "HTMLView",
            "style": "IPY_MODEL_904df0bd81594075b513781050353671",
            "_dom_classes": [],
            "description": "",
            "_model_name": "HTMLModel",
            "placeholder": "​",
            "_view_module": "@jupyter-widgets/controls",
            "_model_module_version": "1.5.0",
            "value": " 2861/2861 [14:41&lt;00:00,  3.24it/s]",
            "_view_count": null,
            "_view_module_version": "1.5.0",
            "description_tooltip": null,
            "_model_module": "@jupyter-widgets/controls",
            "layout": "IPY_MODEL_35212485bfe44ca1a6dd2bd86a79efa7"
          }
        },
        "788d4571c1644992bbbc35f10e2a6c71": {
          "model_module": "@jupyter-widgets/controls",
          "model_name": "ProgressStyleModel",
          "state": {
            "_view_name": "StyleView",
            "_model_name": "ProgressStyleModel",
            "description_width": "initial",
            "_view_module": "@jupyter-widgets/base",
            "_model_module_version": "1.5.0",
            "_view_count": null,
            "_view_module_version": "1.2.0",
            "bar_color": null,
            "_model_module": "@jupyter-widgets/controls"
          }
        },
        "ba0f88ac8e4349abbd5ed7e36b97d732": {
          "model_module": "@jupyter-widgets/base",
          "model_name": "LayoutModel",
          "state": {
            "_view_name": "LayoutView",
            "grid_template_rows": null,
            "right": null,
            "justify_content": null,
            "_view_module": "@jupyter-widgets/base",
            "overflow": null,
            "_model_module_version": "1.2.0",
            "_view_count": null,
            "flex_flow": null,
            "width": null,
            "min_width": null,
            "border": null,
            "align_items": null,
            "bottom": null,
            "_model_module": "@jupyter-widgets/base",
            "top": null,
            "grid_column": null,
            "overflow_y": null,
            "overflow_x": null,
            "grid_auto_flow": null,
            "grid_area": null,
            "grid_template_columns": null,
            "flex": null,
            "_model_name": "LayoutModel",
            "justify_items": null,
            "grid_row": null,
            "max_height": null,
            "align_content": null,
            "visibility": null,
            "align_self": null,
            "height": null,
            "min_height": null,
            "padding": null,
            "grid_auto_rows": null,
            "grid_gap": null,
            "max_width": null,
            "order": null,
            "_view_module_version": "1.2.0",
            "grid_template_areas": null,
            "object_position": null,
            "object_fit": null,
            "grid_auto_columns": null,
            "margin": null,
            "display": null,
            "left": null
          }
        },
        "904df0bd81594075b513781050353671": {
          "model_module": "@jupyter-widgets/controls",
          "model_name": "DescriptionStyleModel",
          "state": {
            "_view_name": "StyleView",
            "_model_name": "DescriptionStyleModel",
            "description_width": "",
            "_view_module": "@jupyter-widgets/base",
            "_model_module_version": "1.5.0",
            "_view_count": null,
            "_view_module_version": "1.2.0",
            "_model_module": "@jupyter-widgets/controls"
          }
        },
        "35212485bfe44ca1a6dd2bd86a79efa7": {
          "model_module": "@jupyter-widgets/base",
          "model_name": "LayoutModel",
          "state": {
            "_view_name": "LayoutView",
            "grid_template_rows": null,
            "right": null,
            "justify_content": null,
            "_view_module": "@jupyter-widgets/base",
            "overflow": null,
            "_model_module_version": "1.2.0",
            "_view_count": null,
            "flex_flow": null,
            "width": null,
            "min_width": null,
            "border": null,
            "align_items": null,
            "bottom": null,
            "_model_module": "@jupyter-widgets/base",
            "top": null,
            "grid_column": null,
            "overflow_y": null,
            "overflow_x": null,
            "grid_auto_flow": null,
            "grid_area": null,
            "grid_template_columns": null,
            "flex": null,
            "_model_name": "LayoutModel",
            "justify_items": null,
            "grid_row": null,
            "max_height": null,
            "align_content": null,
            "visibility": null,
            "align_self": null,
            "height": null,
            "min_height": null,
            "padding": null,
            "grid_auto_rows": null,
            "grid_gap": null,
            "max_width": null,
            "order": null,
            "_view_module_version": "1.2.0",
            "grid_template_areas": null,
            "object_position": null,
            "object_fit": null,
            "grid_auto_columns": null,
            "margin": null,
            "display": null,
            "left": null
          }
        },
        "301a2a0bbc864afca002ccee5a43b300": {
          "model_module": "@jupyter-widgets/controls",
          "model_name": "HBoxModel",
          "state": {
            "_view_name": "HBoxView",
            "_dom_classes": [],
            "_model_name": "HBoxModel",
            "_view_module": "@jupyter-widgets/controls",
            "_model_module_version": "1.5.0",
            "_view_count": null,
            "_view_module_version": "1.5.0",
            "box_style": "",
            "layout": "IPY_MODEL_b2cb604af71243df874ba9b1e2572354",
            "_model_module": "@jupyter-widgets/controls",
            "children": [
              "IPY_MODEL_8485c6ea27354376ab9297d93df43808",
              "IPY_MODEL_8f3e342366304910a3cb3e2cdbf5d4b6"
            ]
          }
        },
        "b2cb604af71243df874ba9b1e2572354": {
          "model_module": "@jupyter-widgets/base",
          "model_name": "LayoutModel",
          "state": {
            "_view_name": "LayoutView",
            "grid_template_rows": null,
            "right": null,
            "justify_content": null,
            "_view_module": "@jupyter-widgets/base",
            "overflow": null,
            "_model_module_version": "1.2.0",
            "_view_count": null,
            "flex_flow": null,
            "width": null,
            "min_width": null,
            "border": null,
            "align_items": null,
            "bottom": null,
            "_model_module": "@jupyter-widgets/base",
            "top": null,
            "grid_column": null,
            "overflow_y": null,
            "overflow_x": null,
            "grid_auto_flow": null,
            "grid_area": null,
            "grid_template_columns": null,
            "flex": null,
            "_model_name": "LayoutModel",
            "justify_items": null,
            "grid_row": null,
            "max_height": null,
            "align_content": null,
            "visibility": null,
            "align_self": null,
            "height": null,
            "min_height": null,
            "padding": null,
            "grid_auto_rows": null,
            "grid_gap": null,
            "max_width": null,
            "order": null,
            "_view_module_version": "1.2.0",
            "grid_template_areas": null,
            "object_position": null,
            "object_fit": null,
            "grid_auto_columns": null,
            "margin": null,
            "display": null,
            "left": null
          }
        },
        "8485c6ea27354376ab9297d93df43808": {
          "model_module": "@jupyter-widgets/controls",
          "model_name": "FloatProgressModel",
          "state": {
            "_view_name": "ProgressView",
            "style": "IPY_MODEL_d2592cd220bf4b718aacf49f64c4f9fe",
            "_dom_classes": [],
            "description": "100%",
            "_model_name": "FloatProgressModel",
            "bar_style": "success",
            "max": 2861,
            "_view_module": "@jupyter-widgets/controls",
            "_model_module_version": "1.5.0",
            "value": 2861,
            "_view_count": null,
            "_view_module_version": "1.5.0",
            "orientation": "horizontal",
            "min": 0,
            "description_tooltip": null,
            "_model_module": "@jupyter-widgets/controls",
            "layout": "IPY_MODEL_e12c4bfd42d34445824c8c5c9422eea1"
          }
        },
        "8f3e342366304910a3cb3e2cdbf5d4b6": {
          "model_module": "@jupyter-widgets/controls",
          "model_name": "HTMLModel",
          "state": {
            "_view_name": "HTMLView",
            "style": "IPY_MODEL_fc1230f61bb84069b24af09376cdf990",
            "_dom_classes": [],
            "description": "",
            "_model_name": "HTMLModel",
            "placeholder": "​",
            "_view_module": "@jupyter-widgets/controls",
            "_model_module_version": "1.5.0",
            "value": " 2861/2861 [1:09:22&lt;00:00,  1.45s/it]",
            "_view_count": null,
            "_view_module_version": "1.5.0",
            "description_tooltip": null,
            "_model_module": "@jupyter-widgets/controls",
            "layout": "IPY_MODEL_5817e9ea83f5435a8b3b9c860489ee93"
          }
        },
        "d2592cd220bf4b718aacf49f64c4f9fe": {
          "model_module": "@jupyter-widgets/controls",
          "model_name": "ProgressStyleModel",
          "state": {
            "_view_name": "StyleView",
            "_model_name": "ProgressStyleModel",
            "description_width": "initial",
            "_view_module": "@jupyter-widgets/base",
            "_model_module_version": "1.5.0",
            "_view_count": null,
            "_view_module_version": "1.2.0",
            "bar_color": null,
            "_model_module": "@jupyter-widgets/controls"
          }
        },
        "e12c4bfd42d34445824c8c5c9422eea1": {
          "model_module": "@jupyter-widgets/base",
          "model_name": "LayoutModel",
          "state": {
            "_view_name": "LayoutView",
            "grid_template_rows": null,
            "right": null,
            "justify_content": null,
            "_view_module": "@jupyter-widgets/base",
            "overflow": null,
            "_model_module_version": "1.2.0",
            "_view_count": null,
            "flex_flow": null,
            "width": null,
            "min_width": null,
            "border": null,
            "align_items": null,
            "bottom": null,
            "_model_module": "@jupyter-widgets/base",
            "top": null,
            "grid_column": null,
            "overflow_y": null,
            "overflow_x": null,
            "grid_auto_flow": null,
            "grid_area": null,
            "grid_template_columns": null,
            "flex": null,
            "_model_name": "LayoutModel",
            "justify_items": null,
            "grid_row": null,
            "max_height": null,
            "align_content": null,
            "visibility": null,
            "align_self": null,
            "height": null,
            "min_height": null,
            "padding": null,
            "grid_auto_rows": null,
            "grid_gap": null,
            "max_width": null,
            "order": null,
            "_view_module_version": "1.2.0",
            "grid_template_areas": null,
            "object_position": null,
            "object_fit": null,
            "grid_auto_columns": null,
            "margin": null,
            "display": null,
            "left": null
          }
        },
        "fc1230f61bb84069b24af09376cdf990": {
          "model_module": "@jupyter-widgets/controls",
          "model_name": "DescriptionStyleModel",
          "state": {
            "_view_name": "StyleView",
            "_model_name": "DescriptionStyleModel",
            "description_width": "",
            "_view_module": "@jupyter-widgets/base",
            "_model_module_version": "1.5.0",
            "_view_count": null,
            "_view_module_version": "1.2.0",
            "_model_module": "@jupyter-widgets/controls"
          }
        },
        "5817e9ea83f5435a8b3b9c860489ee93": {
          "model_module": "@jupyter-widgets/base",
          "model_name": "LayoutModel",
          "state": {
            "_view_name": "LayoutView",
            "grid_template_rows": null,
            "right": null,
            "justify_content": null,
            "_view_module": "@jupyter-widgets/base",
            "overflow": null,
            "_model_module_version": "1.2.0",
            "_view_count": null,
            "flex_flow": null,
            "width": null,
            "min_width": null,
            "border": null,
            "align_items": null,
            "bottom": null,
            "_model_module": "@jupyter-widgets/base",
            "top": null,
            "grid_column": null,
            "overflow_y": null,
            "overflow_x": null,
            "grid_auto_flow": null,
            "grid_area": null,
            "grid_template_columns": null,
            "flex": null,
            "_model_name": "LayoutModel",
            "justify_items": null,
            "grid_row": null,
            "max_height": null,
            "align_content": null,
            "visibility": null,
            "align_self": null,
            "height": null,
            "min_height": null,
            "padding": null,
            "grid_auto_rows": null,
            "grid_gap": null,
            "max_width": null,
            "order": null,
            "_view_module_version": "1.2.0",
            "grid_template_areas": null,
            "object_position": null,
            "object_fit": null,
            "grid_auto_columns": null,
            "margin": null,
            "display": null,
            "left": null
          }
        },
        "bb2bb337e21947f9bba88ad545928490": {
          "model_module": "@jupyter-widgets/controls",
          "model_name": "HBoxModel",
          "state": {
            "_view_name": "HBoxView",
            "_dom_classes": [],
            "_model_name": "HBoxModel",
            "_view_module": "@jupyter-widgets/controls",
            "_model_module_version": "1.5.0",
            "_view_count": null,
            "_view_module_version": "1.5.0",
            "box_style": "",
            "layout": "IPY_MODEL_171167c222b04d4e82e2e5da6fee869d",
            "_model_module": "@jupyter-widgets/controls",
            "children": [
              "IPY_MODEL_30b948a96c5a4f3b90112e24919ef8f0",
              "IPY_MODEL_1b409f5264d44b96a94151227bb4f470"
            ]
          }
        },
        "171167c222b04d4e82e2e5da6fee869d": {
          "model_module": "@jupyter-widgets/base",
          "model_name": "LayoutModel",
          "state": {
            "_view_name": "LayoutView",
            "grid_template_rows": null,
            "right": null,
            "justify_content": null,
            "_view_module": "@jupyter-widgets/base",
            "overflow": null,
            "_model_module_version": "1.2.0",
            "_view_count": null,
            "flex_flow": null,
            "width": null,
            "min_width": null,
            "border": null,
            "align_items": null,
            "bottom": null,
            "_model_module": "@jupyter-widgets/base",
            "top": null,
            "grid_column": null,
            "overflow_y": null,
            "overflow_x": null,
            "grid_auto_flow": null,
            "grid_area": null,
            "grid_template_columns": null,
            "flex": null,
            "_model_name": "LayoutModel",
            "justify_items": null,
            "grid_row": null,
            "max_height": null,
            "align_content": null,
            "visibility": null,
            "align_self": null,
            "height": null,
            "min_height": null,
            "padding": null,
            "grid_auto_rows": null,
            "grid_gap": null,
            "max_width": null,
            "order": null,
            "_view_module_version": "1.2.0",
            "grid_template_areas": null,
            "object_position": null,
            "object_fit": null,
            "grid_auto_columns": null,
            "margin": null,
            "display": null,
            "left": null
          }
        },
        "30b948a96c5a4f3b90112e24919ef8f0": {
          "model_module": "@jupyter-widgets/controls",
          "model_name": "FloatProgressModel",
          "state": {
            "_view_name": "ProgressView",
            "style": "IPY_MODEL_7d02e3b60f9e44b7acb3f71b1d272a53",
            "_dom_classes": [],
            "description": "100%",
            "_model_name": "FloatProgressModel",
            "bar_style": "success",
            "max": 11615,
            "_view_module": "@jupyter-widgets/controls",
            "_model_module_version": "1.5.0",
            "value": 11615,
            "_view_count": null,
            "_view_module_version": "1.5.0",
            "orientation": "horizontal",
            "min": 0,
            "description_tooltip": null,
            "_model_module": "@jupyter-widgets/controls",
            "layout": "IPY_MODEL_fedccd7207b9499e92104c80ed04f856"
          }
        },
        "1b409f5264d44b96a94151227bb4f470": {
          "model_module": "@jupyter-widgets/controls",
          "model_name": "HTMLModel",
          "state": {
            "_view_name": "HTMLView",
            "style": "IPY_MODEL_3f70110a45bf442ebf8c181b5fb6ea42",
            "_dom_classes": [],
            "description": "",
            "_model_name": "HTMLModel",
            "placeholder": "​",
            "_view_module": "@jupyter-widgets/controls",
            "_model_module_version": "1.5.0",
            "value": " 11615/11615 [47:00&lt;00:00,  4.12it/s]",
            "_view_count": null,
            "_view_module_version": "1.5.0",
            "description_tooltip": null,
            "_model_module": "@jupyter-widgets/controls",
            "layout": "IPY_MODEL_34e2870ef8834f21ab23e964b31f0e48"
          }
        },
        "7d02e3b60f9e44b7acb3f71b1d272a53": {
          "model_module": "@jupyter-widgets/controls",
          "model_name": "ProgressStyleModel",
          "state": {
            "_view_name": "StyleView",
            "_model_name": "ProgressStyleModel",
            "description_width": "initial",
            "_view_module": "@jupyter-widgets/base",
            "_model_module_version": "1.5.0",
            "_view_count": null,
            "_view_module_version": "1.2.0",
            "bar_color": null,
            "_model_module": "@jupyter-widgets/controls"
          }
        },
        "fedccd7207b9499e92104c80ed04f856": {
          "model_module": "@jupyter-widgets/base",
          "model_name": "LayoutModel",
          "state": {
            "_view_name": "LayoutView",
            "grid_template_rows": null,
            "right": null,
            "justify_content": null,
            "_view_module": "@jupyter-widgets/base",
            "overflow": null,
            "_model_module_version": "1.2.0",
            "_view_count": null,
            "flex_flow": null,
            "width": null,
            "min_width": null,
            "border": null,
            "align_items": null,
            "bottom": null,
            "_model_module": "@jupyter-widgets/base",
            "top": null,
            "grid_column": null,
            "overflow_y": null,
            "overflow_x": null,
            "grid_auto_flow": null,
            "grid_area": null,
            "grid_template_columns": null,
            "flex": null,
            "_model_name": "LayoutModel",
            "justify_items": null,
            "grid_row": null,
            "max_height": null,
            "align_content": null,
            "visibility": null,
            "align_self": null,
            "height": null,
            "min_height": null,
            "padding": null,
            "grid_auto_rows": null,
            "grid_gap": null,
            "max_width": null,
            "order": null,
            "_view_module_version": "1.2.0",
            "grid_template_areas": null,
            "object_position": null,
            "object_fit": null,
            "grid_auto_columns": null,
            "margin": null,
            "display": null,
            "left": null
          }
        },
        "3f70110a45bf442ebf8c181b5fb6ea42": {
          "model_module": "@jupyter-widgets/controls",
          "model_name": "DescriptionStyleModel",
          "state": {
            "_view_name": "StyleView",
            "_model_name": "DescriptionStyleModel",
            "description_width": "",
            "_view_module": "@jupyter-widgets/base",
            "_model_module_version": "1.5.0",
            "_view_count": null,
            "_view_module_version": "1.2.0",
            "_model_module": "@jupyter-widgets/controls"
          }
        },
        "34e2870ef8834f21ab23e964b31f0e48": {
          "model_module": "@jupyter-widgets/base",
          "model_name": "LayoutModel",
          "state": {
            "_view_name": "LayoutView",
            "grid_template_rows": null,
            "right": null,
            "justify_content": null,
            "_view_module": "@jupyter-widgets/base",
            "overflow": null,
            "_model_module_version": "1.2.0",
            "_view_count": null,
            "flex_flow": null,
            "width": null,
            "min_width": null,
            "border": null,
            "align_items": null,
            "bottom": null,
            "_model_module": "@jupyter-widgets/base",
            "top": null,
            "grid_column": null,
            "overflow_y": null,
            "overflow_x": null,
            "grid_auto_flow": null,
            "grid_area": null,
            "grid_template_columns": null,
            "flex": null,
            "_model_name": "LayoutModel",
            "justify_items": null,
            "grid_row": null,
            "max_height": null,
            "align_content": null,
            "visibility": null,
            "align_self": null,
            "height": null,
            "min_height": null,
            "padding": null,
            "grid_auto_rows": null,
            "grid_gap": null,
            "max_width": null,
            "order": null,
            "_view_module_version": "1.2.0",
            "grid_template_areas": null,
            "object_position": null,
            "object_fit": null,
            "grid_auto_columns": null,
            "margin": null,
            "display": null,
            "left": null
          }
        },
        "d637fcbb3f7248ffadd381b2d27f8036": {
          "model_module": "@jupyter-widgets/controls",
          "model_name": "HBoxModel",
          "state": {
            "_view_name": "HBoxView",
            "_dom_classes": [],
            "_model_name": "HBoxModel",
            "_view_module": "@jupyter-widgets/controls",
            "_model_module_version": "1.5.0",
            "_view_count": null,
            "_view_module_version": "1.5.0",
            "box_style": "",
            "layout": "IPY_MODEL_72c1c82cbec44afe87c7327f9f3e7d3c",
            "_model_module": "@jupyter-widgets/controls",
            "children": [
              "IPY_MODEL_0f20b0e1c3204b28a94e2e1f5fe96862",
              "IPY_MODEL_0457ecadafd3400fb384a6746ab80894"
            ]
          }
        },
        "72c1c82cbec44afe87c7327f9f3e7d3c": {
          "model_module": "@jupyter-widgets/base",
          "model_name": "LayoutModel",
          "state": {
            "_view_name": "LayoutView",
            "grid_template_rows": null,
            "right": null,
            "justify_content": null,
            "_view_module": "@jupyter-widgets/base",
            "overflow": null,
            "_model_module_version": "1.2.0",
            "_view_count": null,
            "flex_flow": null,
            "width": null,
            "min_width": null,
            "border": null,
            "align_items": null,
            "bottom": null,
            "_model_module": "@jupyter-widgets/base",
            "top": null,
            "grid_column": null,
            "overflow_y": null,
            "overflow_x": null,
            "grid_auto_flow": null,
            "grid_area": null,
            "grid_template_columns": null,
            "flex": null,
            "_model_name": "LayoutModel",
            "justify_items": null,
            "grid_row": null,
            "max_height": null,
            "align_content": null,
            "visibility": null,
            "align_self": null,
            "height": null,
            "min_height": null,
            "padding": null,
            "grid_auto_rows": null,
            "grid_gap": null,
            "max_width": null,
            "order": null,
            "_view_module_version": "1.2.0",
            "grid_template_areas": null,
            "object_position": null,
            "object_fit": null,
            "grid_auto_columns": null,
            "margin": null,
            "display": null,
            "left": null
          }
        },
        "0f20b0e1c3204b28a94e2e1f5fe96862": {
          "model_module": "@jupyter-widgets/controls",
          "model_name": "FloatProgressModel",
          "state": {
            "_view_name": "ProgressView",
            "style": "IPY_MODEL_96381eedeab045a3acbc3c89236d9a76",
            "_dom_classes": [],
            "description": "100%",
            "_model_name": "FloatProgressModel",
            "bar_style": "success",
            "max": 2861,
            "_view_module": "@jupyter-widgets/controls",
            "_model_module_version": "1.5.0",
            "value": 2861,
            "_view_count": null,
            "_view_module_version": "1.5.0",
            "orientation": "horizontal",
            "min": 0,
            "description_tooltip": null,
            "_model_module": "@jupyter-widgets/controls",
            "layout": "IPY_MODEL_90caf8598e4e48b3808616a5318c9b1c"
          }
        },
        "0457ecadafd3400fb384a6746ab80894": {
          "model_module": "@jupyter-widgets/controls",
          "model_name": "HTMLModel",
          "state": {
            "_view_name": "HTMLView",
            "style": "IPY_MODEL_21ac7d72ee884e94afb7c3402cb5653e",
            "_dom_classes": [],
            "description": "",
            "_model_name": "HTMLModel",
            "placeholder": "​",
            "_view_module": "@jupyter-widgets/controls",
            "_model_module_version": "1.5.0",
            "value": " 2861/2861 [15:04&lt;00:00,  3.16it/s]",
            "_view_count": null,
            "_view_module_version": "1.5.0",
            "description_tooltip": null,
            "_model_module": "@jupyter-widgets/controls",
            "layout": "IPY_MODEL_b328ec87eadd416c9984cd57a510cf25"
          }
        },
        "96381eedeab045a3acbc3c89236d9a76": {
          "model_module": "@jupyter-widgets/controls",
          "model_name": "ProgressStyleModel",
          "state": {
            "_view_name": "StyleView",
            "_model_name": "ProgressStyleModel",
            "description_width": "initial",
            "_view_module": "@jupyter-widgets/base",
            "_model_module_version": "1.5.0",
            "_view_count": null,
            "_view_module_version": "1.2.0",
            "bar_color": null,
            "_model_module": "@jupyter-widgets/controls"
          }
        },
        "90caf8598e4e48b3808616a5318c9b1c": {
          "model_module": "@jupyter-widgets/base",
          "model_name": "LayoutModel",
          "state": {
            "_view_name": "LayoutView",
            "grid_template_rows": null,
            "right": null,
            "justify_content": null,
            "_view_module": "@jupyter-widgets/base",
            "overflow": null,
            "_model_module_version": "1.2.0",
            "_view_count": null,
            "flex_flow": null,
            "width": null,
            "min_width": null,
            "border": null,
            "align_items": null,
            "bottom": null,
            "_model_module": "@jupyter-widgets/base",
            "top": null,
            "grid_column": null,
            "overflow_y": null,
            "overflow_x": null,
            "grid_auto_flow": null,
            "grid_area": null,
            "grid_template_columns": null,
            "flex": null,
            "_model_name": "LayoutModel",
            "justify_items": null,
            "grid_row": null,
            "max_height": null,
            "align_content": null,
            "visibility": null,
            "align_self": null,
            "height": null,
            "min_height": null,
            "padding": null,
            "grid_auto_rows": null,
            "grid_gap": null,
            "max_width": null,
            "order": null,
            "_view_module_version": "1.2.0",
            "grid_template_areas": null,
            "object_position": null,
            "object_fit": null,
            "grid_auto_columns": null,
            "margin": null,
            "display": null,
            "left": null
          }
        },
        "21ac7d72ee884e94afb7c3402cb5653e": {
          "model_module": "@jupyter-widgets/controls",
          "model_name": "DescriptionStyleModel",
          "state": {
            "_view_name": "StyleView",
            "_model_name": "DescriptionStyleModel",
            "description_width": "",
            "_view_module": "@jupyter-widgets/base",
            "_model_module_version": "1.5.0",
            "_view_count": null,
            "_view_module_version": "1.2.0",
            "_model_module": "@jupyter-widgets/controls"
          }
        },
        "b328ec87eadd416c9984cd57a510cf25": {
          "model_module": "@jupyter-widgets/base",
          "model_name": "LayoutModel",
          "state": {
            "_view_name": "LayoutView",
            "grid_template_rows": null,
            "right": null,
            "justify_content": null,
            "_view_module": "@jupyter-widgets/base",
            "overflow": null,
            "_model_module_version": "1.2.0",
            "_view_count": null,
            "flex_flow": null,
            "width": null,
            "min_width": null,
            "border": null,
            "align_items": null,
            "bottom": null,
            "_model_module": "@jupyter-widgets/base",
            "top": null,
            "grid_column": null,
            "overflow_y": null,
            "overflow_x": null,
            "grid_auto_flow": null,
            "grid_area": null,
            "grid_template_columns": null,
            "flex": null,
            "_model_name": "LayoutModel",
            "justify_items": null,
            "grid_row": null,
            "max_height": null,
            "align_content": null,
            "visibility": null,
            "align_self": null,
            "height": null,
            "min_height": null,
            "padding": null,
            "grid_auto_rows": null,
            "grid_gap": null,
            "max_width": null,
            "order": null,
            "_view_module_version": "1.2.0",
            "grid_template_areas": null,
            "object_position": null,
            "object_fit": null,
            "grid_auto_columns": null,
            "margin": null,
            "display": null,
            "left": null
          }
        },
        "147d3fad04b244b4af582d1f8b41efff": {
          "model_module": "@jupyter-widgets/controls",
          "model_name": "HBoxModel",
          "state": {
            "_view_name": "HBoxView",
            "_dom_classes": [],
            "_model_name": "HBoxModel",
            "_view_module": "@jupyter-widgets/controls",
            "_model_module_version": "1.5.0",
            "_view_count": null,
            "_view_module_version": "1.5.0",
            "box_style": "",
            "layout": "IPY_MODEL_13e3d099175a47b4b4dfde79ee85b86b",
            "_model_module": "@jupyter-widgets/controls",
            "children": [
              "IPY_MODEL_6891388dbac14b34a2eeb52523af98e2",
              "IPY_MODEL_8ec986a4acd14cc89347713bc1f5bde5"
            ]
          }
        },
        "13e3d099175a47b4b4dfde79ee85b86b": {
          "model_module": "@jupyter-widgets/base",
          "model_name": "LayoutModel",
          "state": {
            "_view_name": "LayoutView",
            "grid_template_rows": null,
            "right": null,
            "justify_content": null,
            "_view_module": "@jupyter-widgets/base",
            "overflow": null,
            "_model_module_version": "1.2.0",
            "_view_count": null,
            "flex_flow": null,
            "width": null,
            "min_width": null,
            "border": null,
            "align_items": null,
            "bottom": null,
            "_model_module": "@jupyter-widgets/base",
            "top": null,
            "grid_column": null,
            "overflow_y": null,
            "overflow_x": null,
            "grid_auto_flow": null,
            "grid_area": null,
            "grid_template_columns": null,
            "flex": null,
            "_model_name": "LayoutModel",
            "justify_items": null,
            "grid_row": null,
            "max_height": null,
            "align_content": null,
            "visibility": null,
            "align_self": null,
            "height": null,
            "min_height": null,
            "padding": null,
            "grid_auto_rows": null,
            "grid_gap": null,
            "max_width": null,
            "order": null,
            "_view_module_version": "1.2.0",
            "grid_template_areas": null,
            "object_position": null,
            "object_fit": null,
            "grid_auto_columns": null,
            "margin": null,
            "display": null,
            "left": null
          }
        },
        "6891388dbac14b34a2eeb52523af98e2": {
          "model_module": "@jupyter-widgets/controls",
          "model_name": "FloatProgressModel",
          "state": {
            "_view_name": "ProgressView",
            "style": "IPY_MODEL_cc13a7ddebce428ea0bccb0b9425fdaa",
            "_dom_classes": [],
            "description": "100%",
            "_model_name": "FloatProgressModel",
            "bar_style": "success",
            "max": 2861,
            "_view_module": "@jupyter-widgets/controls",
            "_model_module_version": "1.5.0",
            "value": 2861,
            "_view_count": null,
            "_view_module_version": "1.5.0",
            "orientation": "horizontal",
            "min": 0,
            "description_tooltip": null,
            "_model_module": "@jupyter-widgets/controls",
            "layout": "IPY_MODEL_4461911c79444086b72e82c3430cbc9b"
          }
        },
        "8ec986a4acd14cc89347713bc1f5bde5": {
          "model_module": "@jupyter-widgets/controls",
          "model_name": "HTMLModel",
          "state": {
            "_view_name": "HTMLView",
            "style": "IPY_MODEL_26db73cb771e4a52ba4b650072069ef5",
            "_dom_classes": [],
            "description": "",
            "_model_name": "HTMLModel",
            "placeholder": "​",
            "_view_module": "@jupyter-widgets/controls",
            "_model_module_version": "1.5.0",
            "value": " 2861/2861 [2:04:51&lt;00:00,  2.62s/it]",
            "_view_count": null,
            "_view_module_version": "1.5.0",
            "description_tooltip": null,
            "_model_module": "@jupyter-widgets/controls",
            "layout": "IPY_MODEL_5f247a7ade53425a89d44393e23dd15b"
          }
        },
        "cc13a7ddebce428ea0bccb0b9425fdaa": {
          "model_module": "@jupyter-widgets/controls",
          "model_name": "ProgressStyleModel",
          "state": {
            "_view_name": "StyleView",
            "_model_name": "ProgressStyleModel",
            "description_width": "initial",
            "_view_module": "@jupyter-widgets/base",
            "_model_module_version": "1.5.0",
            "_view_count": null,
            "_view_module_version": "1.2.0",
            "bar_color": null,
            "_model_module": "@jupyter-widgets/controls"
          }
        },
        "4461911c79444086b72e82c3430cbc9b": {
          "model_module": "@jupyter-widgets/base",
          "model_name": "LayoutModel",
          "state": {
            "_view_name": "LayoutView",
            "grid_template_rows": null,
            "right": null,
            "justify_content": null,
            "_view_module": "@jupyter-widgets/base",
            "overflow": null,
            "_model_module_version": "1.2.0",
            "_view_count": null,
            "flex_flow": null,
            "width": null,
            "min_width": null,
            "border": null,
            "align_items": null,
            "bottom": null,
            "_model_module": "@jupyter-widgets/base",
            "top": null,
            "grid_column": null,
            "overflow_y": null,
            "overflow_x": null,
            "grid_auto_flow": null,
            "grid_area": null,
            "grid_template_columns": null,
            "flex": null,
            "_model_name": "LayoutModel",
            "justify_items": null,
            "grid_row": null,
            "max_height": null,
            "align_content": null,
            "visibility": null,
            "align_self": null,
            "height": null,
            "min_height": null,
            "padding": null,
            "grid_auto_rows": null,
            "grid_gap": null,
            "max_width": null,
            "order": null,
            "_view_module_version": "1.2.0",
            "grid_template_areas": null,
            "object_position": null,
            "object_fit": null,
            "grid_auto_columns": null,
            "margin": null,
            "display": null,
            "left": null
          }
        },
        "26db73cb771e4a52ba4b650072069ef5": {
          "model_module": "@jupyter-widgets/controls",
          "model_name": "DescriptionStyleModel",
          "state": {
            "_view_name": "StyleView",
            "_model_name": "DescriptionStyleModel",
            "description_width": "",
            "_view_module": "@jupyter-widgets/base",
            "_model_module_version": "1.5.0",
            "_view_count": null,
            "_view_module_version": "1.2.0",
            "_model_module": "@jupyter-widgets/controls"
          }
        },
        "5f247a7ade53425a89d44393e23dd15b": {
          "model_module": "@jupyter-widgets/base",
          "model_name": "LayoutModel",
          "state": {
            "_view_name": "LayoutView",
            "grid_template_rows": null,
            "right": null,
            "justify_content": null,
            "_view_module": "@jupyter-widgets/base",
            "overflow": null,
            "_model_module_version": "1.2.0",
            "_view_count": null,
            "flex_flow": null,
            "width": null,
            "min_width": null,
            "border": null,
            "align_items": null,
            "bottom": null,
            "_model_module": "@jupyter-widgets/base",
            "top": null,
            "grid_column": null,
            "overflow_y": null,
            "overflow_x": null,
            "grid_auto_flow": null,
            "grid_area": null,
            "grid_template_columns": null,
            "flex": null,
            "_model_name": "LayoutModel",
            "justify_items": null,
            "grid_row": null,
            "max_height": null,
            "align_content": null,
            "visibility": null,
            "align_self": null,
            "height": null,
            "min_height": null,
            "padding": null,
            "grid_auto_rows": null,
            "grid_gap": null,
            "max_width": null,
            "order": null,
            "_view_module_version": "1.2.0",
            "grid_template_areas": null,
            "object_position": null,
            "object_fit": null,
            "grid_auto_columns": null,
            "margin": null,
            "display": null,
            "left": null
          }
        },
        "48bc74d46f7542cfa93bcdd1b0e0543b": {
          "model_module": "@jupyter-widgets/controls",
          "model_name": "HBoxModel",
          "state": {
            "_view_name": "HBoxView",
            "_dom_classes": [],
            "_model_name": "HBoxModel",
            "_view_module": "@jupyter-widgets/controls",
            "_model_module_version": "1.5.0",
            "_view_count": null,
            "_view_module_version": "1.5.0",
            "box_style": "",
            "layout": "IPY_MODEL_5bfc3688e224427ab7d6493f8f86ff83",
            "_model_module": "@jupyter-widgets/controls",
            "children": [
              "IPY_MODEL_dd949e067a684777ba0733f2e648a39a",
              "IPY_MODEL_ca82898a7dff484ea9dd60f77dc1457d"
            ]
          }
        },
        "5bfc3688e224427ab7d6493f8f86ff83": {
          "model_module": "@jupyter-widgets/base",
          "model_name": "LayoutModel",
          "state": {
            "_view_name": "LayoutView",
            "grid_template_rows": null,
            "right": null,
            "justify_content": null,
            "_view_module": "@jupyter-widgets/base",
            "overflow": null,
            "_model_module_version": "1.2.0",
            "_view_count": null,
            "flex_flow": null,
            "width": null,
            "min_width": null,
            "border": null,
            "align_items": null,
            "bottom": null,
            "_model_module": "@jupyter-widgets/base",
            "top": null,
            "grid_column": null,
            "overflow_y": null,
            "overflow_x": null,
            "grid_auto_flow": null,
            "grid_area": null,
            "grid_template_columns": null,
            "flex": null,
            "_model_name": "LayoutModel",
            "justify_items": null,
            "grid_row": null,
            "max_height": null,
            "align_content": null,
            "visibility": null,
            "align_self": null,
            "height": null,
            "min_height": null,
            "padding": null,
            "grid_auto_rows": null,
            "grid_gap": null,
            "max_width": null,
            "order": null,
            "_view_module_version": "1.2.0",
            "grid_template_areas": null,
            "object_position": null,
            "object_fit": null,
            "grid_auto_columns": null,
            "margin": null,
            "display": null,
            "left": null
          }
        },
        "dd949e067a684777ba0733f2e648a39a": {
          "model_module": "@jupyter-widgets/controls",
          "model_name": "FloatProgressModel",
          "state": {
            "_view_name": "ProgressView",
            "style": "IPY_MODEL_afb50d209b674459b26f5a2bb444a5d2",
            "_dom_classes": [],
            "description": "100%",
            "_model_name": "FloatProgressModel",
            "bar_style": "success",
            "max": 11615,
            "_view_module": "@jupyter-widgets/controls",
            "_model_module_version": "1.5.0",
            "value": 11615,
            "_view_count": null,
            "_view_module_version": "1.5.0",
            "orientation": "horizontal",
            "min": 0,
            "description_tooltip": null,
            "_model_module": "@jupyter-widgets/controls",
            "layout": "IPY_MODEL_43439e57bba444c5b60d248e99b5a788"
          }
        },
        "ca82898a7dff484ea9dd60f77dc1457d": {
          "model_module": "@jupyter-widgets/controls",
          "model_name": "HTMLModel",
          "state": {
            "_view_name": "HTMLView",
            "style": "IPY_MODEL_4558fd347094424c83bd6dd86f8a1d2a",
            "_dom_classes": [],
            "description": "",
            "_model_name": "HTMLModel",
            "placeholder": "​",
            "_view_module": "@jupyter-widgets/controls",
            "_model_module_version": "1.5.0",
            "value": " 11615/11615 [45:38&lt;00:00,  4.24it/s]",
            "_view_count": null,
            "_view_module_version": "1.5.0",
            "description_tooltip": null,
            "_model_module": "@jupyter-widgets/controls",
            "layout": "IPY_MODEL_d9adedf0623e439e87bdce1652290978"
          }
        },
        "afb50d209b674459b26f5a2bb444a5d2": {
          "model_module": "@jupyter-widgets/controls",
          "model_name": "ProgressStyleModel",
          "state": {
            "_view_name": "StyleView",
            "_model_name": "ProgressStyleModel",
            "description_width": "initial",
            "_view_module": "@jupyter-widgets/base",
            "_model_module_version": "1.5.0",
            "_view_count": null,
            "_view_module_version": "1.2.0",
            "bar_color": null,
            "_model_module": "@jupyter-widgets/controls"
          }
        },
        "43439e57bba444c5b60d248e99b5a788": {
          "model_module": "@jupyter-widgets/base",
          "model_name": "LayoutModel",
          "state": {
            "_view_name": "LayoutView",
            "grid_template_rows": null,
            "right": null,
            "justify_content": null,
            "_view_module": "@jupyter-widgets/base",
            "overflow": null,
            "_model_module_version": "1.2.0",
            "_view_count": null,
            "flex_flow": null,
            "width": null,
            "min_width": null,
            "border": null,
            "align_items": null,
            "bottom": null,
            "_model_module": "@jupyter-widgets/base",
            "top": null,
            "grid_column": null,
            "overflow_y": null,
            "overflow_x": null,
            "grid_auto_flow": null,
            "grid_area": null,
            "grid_template_columns": null,
            "flex": null,
            "_model_name": "LayoutModel",
            "justify_items": null,
            "grid_row": null,
            "max_height": null,
            "align_content": null,
            "visibility": null,
            "align_self": null,
            "height": null,
            "min_height": null,
            "padding": null,
            "grid_auto_rows": null,
            "grid_gap": null,
            "max_width": null,
            "order": null,
            "_view_module_version": "1.2.0",
            "grid_template_areas": null,
            "object_position": null,
            "object_fit": null,
            "grid_auto_columns": null,
            "margin": null,
            "display": null,
            "left": null
          }
        },
        "4558fd347094424c83bd6dd86f8a1d2a": {
          "model_module": "@jupyter-widgets/controls",
          "model_name": "DescriptionStyleModel",
          "state": {
            "_view_name": "StyleView",
            "_model_name": "DescriptionStyleModel",
            "description_width": "",
            "_view_module": "@jupyter-widgets/base",
            "_model_module_version": "1.5.0",
            "_view_count": null,
            "_view_module_version": "1.2.0",
            "_model_module": "@jupyter-widgets/controls"
          }
        },
        "d9adedf0623e439e87bdce1652290978": {
          "model_module": "@jupyter-widgets/base",
          "model_name": "LayoutModel",
          "state": {
            "_view_name": "LayoutView",
            "grid_template_rows": null,
            "right": null,
            "justify_content": null,
            "_view_module": "@jupyter-widgets/base",
            "overflow": null,
            "_model_module_version": "1.2.0",
            "_view_count": null,
            "flex_flow": null,
            "width": null,
            "min_width": null,
            "border": null,
            "align_items": null,
            "bottom": null,
            "_model_module": "@jupyter-widgets/base",
            "top": null,
            "grid_column": null,
            "overflow_y": null,
            "overflow_x": null,
            "grid_auto_flow": null,
            "grid_area": null,
            "grid_template_columns": null,
            "flex": null,
            "_model_name": "LayoutModel",
            "justify_items": null,
            "grid_row": null,
            "max_height": null,
            "align_content": null,
            "visibility": null,
            "align_self": null,
            "height": null,
            "min_height": null,
            "padding": null,
            "grid_auto_rows": null,
            "grid_gap": null,
            "max_width": null,
            "order": null,
            "_view_module_version": "1.2.0",
            "grid_template_areas": null,
            "object_position": null,
            "object_fit": null,
            "grid_auto_columns": null,
            "margin": null,
            "display": null,
            "left": null
          }
        },
        "6d49557b5ad2481caf821478dde2b096": {
          "model_module": "@jupyter-widgets/controls",
          "model_name": "HBoxModel",
          "state": {
            "_view_name": "HBoxView",
            "_dom_classes": [],
            "_model_name": "HBoxModel",
            "_view_module": "@jupyter-widgets/controls",
            "_model_module_version": "1.5.0",
            "_view_count": null,
            "_view_module_version": "1.5.0",
            "box_style": "",
            "layout": "IPY_MODEL_41ba33b7eb5c4f28b3bee32855a23634",
            "_model_module": "@jupyter-widgets/controls",
            "children": [
              "IPY_MODEL_399eab1a98384c34a2d33870ff100158",
              "IPY_MODEL_b0cd68243e7240a28f5d537258e0b83d"
            ]
          }
        },
        "41ba33b7eb5c4f28b3bee32855a23634": {
          "model_module": "@jupyter-widgets/base",
          "model_name": "LayoutModel",
          "state": {
            "_view_name": "LayoutView",
            "grid_template_rows": null,
            "right": null,
            "justify_content": null,
            "_view_module": "@jupyter-widgets/base",
            "overflow": null,
            "_model_module_version": "1.2.0",
            "_view_count": null,
            "flex_flow": null,
            "width": null,
            "min_width": null,
            "border": null,
            "align_items": null,
            "bottom": null,
            "_model_module": "@jupyter-widgets/base",
            "top": null,
            "grid_column": null,
            "overflow_y": null,
            "overflow_x": null,
            "grid_auto_flow": null,
            "grid_area": null,
            "grid_template_columns": null,
            "flex": null,
            "_model_name": "LayoutModel",
            "justify_items": null,
            "grid_row": null,
            "max_height": null,
            "align_content": null,
            "visibility": null,
            "align_self": null,
            "height": null,
            "min_height": null,
            "padding": null,
            "grid_auto_rows": null,
            "grid_gap": null,
            "max_width": null,
            "order": null,
            "_view_module_version": "1.2.0",
            "grid_template_areas": null,
            "object_position": null,
            "object_fit": null,
            "grid_auto_columns": null,
            "margin": null,
            "display": null,
            "left": null
          }
        },
        "399eab1a98384c34a2d33870ff100158": {
          "model_module": "@jupyter-widgets/controls",
          "model_name": "FloatProgressModel",
          "state": {
            "_view_name": "ProgressView",
            "style": "IPY_MODEL_aabef3126fec444dad352a01aa75b8a6",
            "_dom_classes": [],
            "description": "100%",
            "_model_name": "FloatProgressModel",
            "bar_style": "success",
            "max": 2861,
            "_view_module": "@jupyter-widgets/controls",
            "_model_module_version": "1.5.0",
            "value": 2861,
            "_view_count": null,
            "_view_module_version": "1.5.0",
            "orientation": "horizontal",
            "min": 0,
            "description_tooltip": null,
            "_model_module": "@jupyter-widgets/controls",
            "layout": "IPY_MODEL_73b2035d93ad40899712b2ee90c1ce81"
          }
        },
        "b0cd68243e7240a28f5d537258e0b83d": {
          "model_module": "@jupyter-widgets/controls",
          "model_name": "HTMLModel",
          "state": {
            "_view_name": "HTMLView",
            "style": "IPY_MODEL_1ec63c2110b94d90b05ac34defe8e530",
            "_dom_classes": [],
            "description": "",
            "_model_name": "HTMLModel",
            "placeholder": "​",
            "_view_module": "@jupyter-widgets/controls",
            "_model_module_version": "1.5.0",
            "value": " 2861/2861 [15:00&lt;00:00,  3.18it/s]",
            "_view_count": null,
            "_view_module_version": "1.5.0",
            "description_tooltip": null,
            "_model_module": "@jupyter-widgets/controls",
            "layout": "IPY_MODEL_df893f7f64b04b83a0246086050aa5b0"
          }
        },
        "aabef3126fec444dad352a01aa75b8a6": {
          "model_module": "@jupyter-widgets/controls",
          "model_name": "ProgressStyleModel",
          "state": {
            "_view_name": "StyleView",
            "_model_name": "ProgressStyleModel",
            "description_width": "initial",
            "_view_module": "@jupyter-widgets/base",
            "_model_module_version": "1.5.0",
            "_view_count": null,
            "_view_module_version": "1.2.0",
            "bar_color": null,
            "_model_module": "@jupyter-widgets/controls"
          }
        },
        "73b2035d93ad40899712b2ee90c1ce81": {
          "model_module": "@jupyter-widgets/base",
          "model_name": "LayoutModel",
          "state": {
            "_view_name": "LayoutView",
            "grid_template_rows": null,
            "right": null,
            "justify_content": null,
            "_view_module": "@jupyter-widgets/base",
            "overflow": null,
            "_model_module_version": "1.2.0",
            "_view_count": null,
            "flex_flow": null,
            "width": null,
            "min_width": null,
            "border": null,
            "align_items": null,
            "bottom": null,
            "_model_module": "@jupyter-widgets/base",
            "top": null,
            "grid_column": null,
            "overflow_y": null,
            "overflow_x": null,
            "grid_auto_flow": null,
            "grid_area": null,
            "grid_template_columns": null,
            "flex": null,
            "_model_name": "LayoutModel",
            "justify_items": null,
            "grid_row": null,
            "max_height": null,
            "align_content": null,
            "visibility": null,
            "align_self": null,
            "height": null,
            "min_height": null,
            "padding": null,
            "grid_auto_rows": null,
            "grid_gap": null,
            "max_width": null,
            "order": null,
            "_view_module_version": "1.2.0",
            "grid_template_areas": null,
            "object_position": null,
            "object_fit": null,
            "grid_auto_columns": null,
            "margin": null,
            "display": null,
            "left": null
          }
        },
        "1ec63c2110b94d90b05ac34defe8e530": {
          "model_module": "@jupyter-widgets/controls",
          "model_name": "DescriptionStyleModel",
          "state": {
            "_view_name": "StyleView",
            "_model_name": "DescriptionStyleModel",
            "description_width": "",
            "_view_module": "@jupyter-widgets/base",
            "_model_module_version": "1.5.0",
            "_view_count": null,
            "_view_module_version": "1.2.0",
            "_model_module": "@jupyter-widgets/controls"
          }
        },
        "df893f7f64b04b83a0246086050aa5b0": {
          "model_module": "@jupyter-widgets/base",
          "model_name": "LayoutModel",
          "state": {
            "_view_name": "LayoutView",
            "grid_template_rows": null,
            "right": null,
            "justify_content": null,
            "_view_module": "@jupyter-widgets/base",
            "overflow": null,
            "_model_module_version": "1.2.0",
            "_view_count": null,
            "flex_flow": null,
            "width": null,
            "min_width": null,
            "border": null,
            "align_items": null,
            "bottom": null,
            "_model_module": "@jupyter-widgets/base",
            "top": null,
            "grid_column": null,
            "overflow_y": null,
            "overflow_x": null,
            "grid_auto_flow": null,
            "grid_area": null,
            "grid_template_columns": null,
            "flex": null,
            "_model_name": "LayoutModel",
            "justify_items": null,
            "grid_row": null,
            "max_height": null,
            "align_content": null,
            "visibility": null,
            "align_self": null,
            "height": null,
            "min_height": null,
            "padding": null,
            "grid_auto_rows": null,
            "grid_gap": null,
            "max_width": null,
            "order": null,
            "_view_module_version": "1.2.0",
            "grid_template_areas": null,
            "object_position": null,
            "object_fit": null,
            "grid_auto_columns": null,
            "margin": null,
            "display": null,
            "left": null
          }
        },
        "f6ccbb7ff59541debe92eb542c3dd043": {
          "model_module": "@jupyter-widgets/controls",
          "model_name": "HBoxModel",
          "state": {
            "_view_name": "HBoxView",
            "_dom_classes": [],
            "_model_name": "HBoxModel",
            "_view_module": "@jupyter-widgets/controls",
            "_model_module_version": "1.5.0",
            "_view_count": null,
            "_view_module_version": "1.5.0",
            "box_style": "",
            "layout": "IPY_MODEL_c257d48a03a64c97bab9522d92ecf20e",
            "_model_module": "@jupyter-widgets/controls",
            "children": [
              "IPY_MODEL_06c31885075a41f5acc0b8ef711e4f0c",
              "IPY_MODEL_7ee2bcd6a85a41609bd862d7388aacc1"
            ]
          }
        },
        "c257d48a03a64c97bab9522d92ecf20e": {
          "model_module": "@jupyter-widgets/base",
          "model_name": "LayoutModel",
          "state": {
            "_view_name": "LayoutView",
            "grid_template_rows": null,
            "right": null,
            "justify_content": null,
            "_view_module": "@jupyter-widgets/base",
            "overflow": null,
            "_model_module_version": "1.2.0",
            "_view_count": null,
            "flex_flow": null,
            "width": null,
            "min_width": null,
            "border": null,
            "align_items": null,
            "bottom": null,
            "_model_module": "@jupyter-widgets/base",
            "top": null,
            "grid_column": null,
            "overflow_y": null,
            "overflow_x": null,
            "grid_auto_flow": null,
            "grid_area": null,
            "grid_template_columns": null,
            "flex": null,
            "_model_name": "LayoutModel",
            "justify_items": null,
            "grid_row": null,
            "max_height": null,
            "align_content": null,
            "visibility": null,
            "align_self": null,
            "height": null,
            "min_height": null,
            "padding": null,
            "grid_auto_rows": null,
            "grid_gap": null,
            "max_width": null,
            "order": null,
            "_view_module_version": "1.2.0",
            "grid_template_areas": null,
            "object_position": null,
            "object_fit": null,
            "grid_auto_columns": null,
            "margin": null,
            "display": null,
            "left": null
          }
        },
        "06c31885075a41f5acc0b8ef711e4f0c": {
          "model_module": "@jupyter-widgets/controls",
          "model_name": "FloatProgressModel",
          "state": {
            "_view_name": "ProgressView",
            "style": "IPY_MODEL_2ff846cc939b461c86d2701e7fae8cb6",
            "_dom_classes": [],
            "description": "100%",
            "_model_name": "FloatProgressModel",
            "bar_style": "success",
            "max": 2861,
            "_view_module": "@jupyter-widgets/controls",
            "_model_module_version": "1.5.0",
            "value": 2861,
            "_view_count": null,
            "_view_module_version": "1.5.0",
            "orientation": "horizontal",
            "min": 0,
            "description_tooltip": null,
            "_model_module": "@jupyter-widgets/controls",
            "layout": "IPY_MODEL_1531b5eacf964374bf7b377d26a5daed"
          }
        },
        "7ee2bcd6a85a41609bd862d7388aacc1": {
          "model_module": "@jupyter-widgets/controls",
          "model_name": "HTMLModel",
          "state": {
            "_view_name": "HTMLView",
            "style": "IPY_MODEL_640624a01da04d2791bef756a2399447",
            "_dom_classes": [],
            "description": "",
            "_model_name": "HTMLModel",
            "placeholder": "​",
            "_view_module": "@jupyter-widgets/controls",
            "_model_module_version": "1.5.0",
            "value": " 2861/2861 [3:15:48&lt;00:00,  4.11s/it]",
            "_view_count": null,
            "_view_module_version": "1.5.0",
            "description_tooltip": null,
            "_model_module": "@jupyter-widgets/controls",
            "layout": "IPY_MODEL_fa77f85418454b7fa6095d7b83c21e54"
          }
        },
        "2ff846cc939b461c86d2701e7fae8cb6": {
          "model_module": "@jupyter-widgets/controls",
          "model_name": "ProgressStyleModel",
          "state": {
            "_view_name": "StyleView",
            "_model_name": "ProgressStyleModel",
            "description_width": "initial",
            "_view_module": "@jupyter-widgets/base",
            "_model_module_version": "1.5.0",
            "_view_count": null,
            "_view_module_version": "1.2.0",
            "bar_color": null,
            "_model_module": "@jupyter-widgets/controls"
          }
        },
        "1531b5eacf964374bf7b377d26a5daed": {
          "model_module": "@jupyter-widgets/base",
          "model_name": "LayoutModel",
          "state": {
            "_view_name": "LayoutView",
            "grid_template_rows": null,
            "right": null,
            "justify_content": null,
            "_view_module": "@jupyter-widgets/base",
            "overflow": null,
            "_model_module_version": "1.2.0",
            "_view_count": null,
            "flex_flow": null,
            "width": null,
            "min_width": null,
            "border": null,
            "align_items": null,
            "bottom": null,
            "_model_module": "@jupyter-widgets/base",
            "top": null,
            "grid_column": null,
            "overflow_y": null,
            "overflow_x": null,
            "grid_auto_flow": null,
            "grid_area": null,
            "grid_template_columns": null,
            "flex": null,
            "_model_name": "LayoutModel",
            "justify_items": null,
            "grid_row": null,
            "max_height": null,
            "align_content": null,
            "visibility": null,
            "align_self": null,
            "height": null,
            "min_height": null,
            "padding": null,
            "grid_auto_rows": null,
            "grid_gap": null,
            "max_width": null,
            "order": null,
            "_view_module_version": "1.2.0",
            "grid_template_areas": null,
            "object_position": null,
            "object_fit": null,
            "grid_auto_columns": null,
            "margin": null,
            "display": null,
            "left": null
          }
        },
        "640624a01da04d2791bef756a2399447": {
          "model_module": "@jupyter-widgets/controls",
          "model_name": "DescriptionStyleModel",
          "state": {
            "_view_name": "StyleView",
            "_model_name": "DescriptionStyleModel",
            "description_width": "",
            "_view_module": "@jupyter-widgets/base",
            "_model_module_version": "1.5.0",
            "_view_count": null,
            "_view_module_version": "1.2.0",
            "_model_module": "@jupyter-widgets/controls"
          }
        },
        "fa77f85418454b7fa6095d7b83c21e54": {
          "model_module": "@jupyter-widgets/base",
          "model_name": "LayoutModel",
          "state": {
            "_view_name": "LayoutView",
            "grid_template_rows": null,
            "right": null,
            "justify_content": null,
            "_view_module": "@jupyter-widgets/base",
            "overflow": null,
            "_model_module_version": "1.2.0",
            "_view_count": null,
            "flex_flow": null,
            "width": null,
            "min_width": null,
            "border": null,
            "align_items": null,
            "bottom": null,
            "_model_module": "@jupyter-widgets/base",
            "top": null,
            "grid_column": null,
            "overflow_y": null,
            "overflow_x": null,
            "grid_auto_flow": null,
            "grid_area": null,
            "grid_template_columns": null,
            "flex": null,
            "_model_name": "LayoutModel",
            "justify_items": null,
            "grid_row": null,
            "max_height": null,
            "align_content": null,
            "visibility": null,
            "align_self": null,
            "height": null,
            "min_height": null,
            "padding": null,
            "grid_auto_rows": null,
            "grid_gap": null,
            "max_width": null,
            "order": null,
            "_view_module_version": "1.2.0",
            "grid_template_areas": null,
            "object_position": null,
            "object_fit": null,
            "grid_auto_columns": null,
            "margin": null,
            "display": null,
            "left": null
          }
        },
        "52f5bd8c8e164a61b766b0be3aa7ea34": {
          "model_module": "@jupyter-widgets/controls",
          "model_name": "HBoxModel",
          "state": {
            "_view_name": "HBoxView",
            "_dom_classes": [],
            "_model_name": "HBoxModel",
            "_view_module": "@jupyter-widgets/controls",
            "_model_module_version": "1.5.0",
            "_view_count": null,
            "_view_module_version": "1.5.0",
            "box_style": "",
            "layout": "IPY_MODEL_3a20fa21a8ab4bc8bfef9b36ac22f09b",
            "_model_module": "@jupyter-widgets/controls",
            "children": [
              "IPY_MODEL_008df303e3594c6c801b947e70b062d2",
              "IPY_MODEL_4e921945f91a492d9e01d39e34bcac0e"
            ]
          }
        },
        "3a20fa21a8ab4bc8bfef9b36ac22f09b": {
          "model_module": "@jupyter-widgets/base",
          "model_name": "LayoutModel",
          "state": {
            "_view_name": "LayoutView",
            "grid_template_rows": null,
            "right": null,
            "justify_content": null,
            "_view_module": "@jupyter-widgets/base",
            "overflow": null,
            "_model_module_version": "1.2.0",
            "_view_count": null,
            "flex_flow": null,
            "width": null,
            "min_width": null,
            "border": null,
            "align_items": null,
            "bottom": null,
            "_model_module": "@jupyter-widgets/base",
            "top": null,
            "grid_column": null,
            "overflow_y": null,
            "overflow_x": null,
            "grid_auto_flow": null,
            "grid_area": null,
            "grid_template_columns": null,
            "flex": null,
            "_model_name": "LayoutModel",
            "justify_items": null,
            "grid_row": null,
            "max_height": null,
            "align_content": null,
            "visibility": null,
            "align_self": null,
            "height": null,
            "min_height": null,
            "padding": null,
            "grid_auto_rows": null,
            "grid_gap": null,
            "max_width": null,
            "order": null,
            "_view_module_version": "1.2.0",
            "grid_template_areas": null,
            "object_position": null,
            "object_fit": null,
            "grid_auto_columns": null,
            "margin": null,
            "display": null,
            "left": null
          }
        },
        "008df303e3594c6c801b947e70b062d2": {
          "model_module": "@jupyter-widgets/controls",
          "model_name": "FloatProgressModel",
          "state": {
            "_view_name": "ProgressView",
            "style": "IPY_MODEL_c0b797ae951c428d8d953daea0ba391c",
            "_dom_classes": [],
            "description": "100%",
            "_model_name": "FloatProgressModel",
            "bar_style": "success",
            "max": 11615,
            "_view_module": "@jupyter-widgets/controls",
            "_model_module_version": "1.5.0",
            "value": 11615,
            "_view_count": null,
            "_view_module_version": "1.5.0",
            "orientation": "horizontal",
            "min": 0,
            "description_tooltip": null,
            "_model_module": "@jupyter-widgets/controls",
            "layout": "IPY_MODEL_fb32517ca30c4de5bf2841a71e110e80"
          }
        },
        "4e921945f91a492d9e01d39e34bcac0e": {
          "model_module": "@jupyter-widgets/controls",
          "model_name": "HTMLModel",
          "state": {
            "_view_name": "HTMLView",
            "style": "IPY_MODEL_432bcd5736a04465ad8551bdb1dc8d55",
            "_dom_classes": [],
            "description": "",
            "_model_name": "HTMLModel",
            "placeholder": "​",
            "_view_module": "@jupyter-widgets/controls",
            "_model_module_version": "1.5.0",
            "value": " 11615/11615 [42:18&lt;00:00,  4.58it/s]",
            "_view_count": null,
            "_view_module_version": "1.5.0",
            "description_tooltip": null,
            "_model_module": "@jupyter-widgets/controls",
            "layout": "IPY_MODEL_84e33a9dce4046eab59a51d8b48c04b7"
          }
        },
        "c0b797ae951c428d8d953daea0ba391c": {
          "model_module": "@jupyter-widgets/controls",
          "model_name": "ProgressStyleModel",
          "state": {
            "_view_name": "StyleView",
            "_model_name": "ProgressStyleModel",
            "description_width": "initial",
            "_view_module": "@jupyter-widgets/base",
            "_model_module_version": "1.5.0",
            "_view_count": null,
            "_view_module_version": "1.2.0",
            "bar_color": null,
            "_model_module": "@jupyter-widgets/controls"
          }
        },
        "fb32517ca30c4de5bf2841a71e110e80": {
          "model_module": "@jupyter-widgets/base",
          "model_name": "LayoutModel",
          "state": {
            "_view_name": "LayoutView",
            "grid_template_rows": null,
            "right": null,
            "justify_content": null,
            "_view_module": "@jupyter-widgets/base",
            "overflow": null,
            "_model_module_version": "1.2.0",
            "_view_count": null,
            "flex_flow": null,
            "width": null,
            "min_width": null,
            "border": null,
            "align_items": null,
            "bottom": null,
            "_model_module": "@jupyter-widgets/base",
            "top": null,
            "grid_column": null,
            "overflow_y": null,
            "overflow_x": null,
            "grid_auto_flow": null,
            "grid_area": null,
            "grid_template_columns": null,
            "flex": null,
            "_model_name": "LayoutModel",
            "justify_items": null,
            "grid_row": null,
            "max_height": null,
            "align_content": null,
            "visibility": null,
            "align_self": null,
            "height": null,
            "min_height": null,
            "padding": null,
            "grid_auto_rows": null,
            "grid_gap": null,
            "max_width": null,
            "order": null,
            "_view_module_version": "1.2.0",
            "grid_template_areas": null,
            "object_position": null,
            "object_fit": null,
            "grid_auto_columns": null,
            "margin": null,
            "display": null,
            "left": null
          }
        },
        "432bcd5736a04465ad8551bdb1dc8d55": {
          "model_module": "@jupyter-widgets/controls",
          "model_name": "DescriptionStyleModel",
          "state": {
            "_view_name": "StyleView",
            "_model_name": "DescriptionStyleModel",
            "description_width": "",
            "_view_module": "@jupyter-widgets/base",
            "_model_module_version": "1.5.0",
            "_view_count": null,
            "_view_module_version": "1.2.0",
            "_model_module": "@jupyter-widgets/controls"
          }
        },
        "84e33a9dce4046eab59a51d8b48c04b7": {
          "model_module": "@jupyter-widgets/base",
          "model_name": "LayoutModel",
          "state": {
            "_view_name": "LayoutView",
            "grid_template_rows": null,
            "right": null,
            "justify_content": null,
            "_view_module": "@jupyter-widgets/base",
            "overflow": null,
            "_model_module_version": "1.2.0",
            "_view_count": null,
            "flex_flow": null,
            "width": null,
            "min_width": null,
            "border": null,
            "align_items": null,
            "bottom": null,
            "_model_module": "@jupyter-widgets/base",
            "top": null,
            "grid_column": null,
            "overflow_y": null,
            "overflow_x": null,
            "grid_auto_flow": null,
            "grid_area": null,
            "grid_template_columns": null,
            "flex": null,
            "_model_name": "LayoutModel",
            "justify_items": null,
            "grid_row": null,
            "max_height": null,
            "align_content": null,
            "visibility": null,
            "align_self": null,
            "height": null,
            "min_height": null,
            "padding": null,
            "grid_auto_rows": null,
            "grid_gap": null,
            "max_width": null,
            "order": null,
            "_view_module_version": "1.2.0",
            "grid_template_areas": null,
            "object_position": null,
            "object_fit": null,
            "grid_auto_columns": null,
            "margin": null,
            "display": null,
            "left": null
          }
        },
        "e631fb3afffb47bda3e2ac74f75eaa4b": {
          "model_module": "@jupyter-widgets/controls",
          "model_name": "HBoxModel",
          "state": {
            "_view_name": "HBoxView",
            "_dom_classes": [],
            "_model_name": "HBoxModel",
            "_view_module": "@jupyter-widgets/controls",
            "_model_module_version": "1.5.0",
            "_view_count": null,
            "_view_module_version": "1.5.0",
            "box_style": "",
            "layout": "IPY_MODEL_9b4fa6929291499cbaddb1a1c8506e3e",
            "_model_module": "@jupyter-widgets/controls",
            "children": [
              "IPY_MODEL_b5e138e83222473bbecc9533b53154ad",
              "IPY_MODEL_936976d89ef44ab0aee4abff490d9ac5"
            ]
          }
        },
        "9b4fa6929291499cbaddb1a1c8506e3e": {
          "model_module": "@jupyter-widgets/base",
          "model_name": "LayoutModel",
          "state": {
            "_view_name": "LayoutView",
            "grid_template_rows": null,
            "right": null,
            "justify_content": null,
            "_view_module": "@jupyter-widgets/base",
            "overflow": null,
            "_model_module_version": "1.2.0",
            "_view_count": null,
            "flex_flow": null,
            "width": null,
            "min_width": null,
            "border": null,
            "align_items": null,
            "bottom": null,
            "_model_module": "@jupyter-widgets/base",
            "top": null,
            "grid_column": null,
            "overflow_y": null,
            "overflow_x": null,
            "grid_auto_flow": null,
            "grid_area": null,
            "grid_template_columns": null,
            "flex": null,
            "_model_name": "LayoutModel",
            "justify_items": null,
            "grid_row": null,
            "max_height": null,
            "align_content": null,
            "visibility": null,
            "align_self": null,
            "height": null,
            "min_height": null,
            "padding": null,
            "grid_auto_rows": null,
            "grid_gap": null,
            "max_width": null,
            "order": null,
            "_view_module_version": "1.2.0",
            "grid_template_areas": null,
            "object_position": null,
            "object_fit": null,
            "grid_auto_columns": null,
            "margin": null,
            "display": null,
            "left": null
          }
        },
        "b5e138e83222473bbecc9533b53154ad": {
          "model_module": "@jupyter-widgets/controls",
          "model_name": "FloatProgressModel",
          "state": {
            "_view_name": "ProgressView",
            "style": "IPY_MODEL_5a9becc3e52f42df9ae84c2946eebbfe",
            "_dom_classes": [],
            "description": "100%",
            "_model_name": "FloatProgressModel",
            "bar_style": "success",
            "max": 2861,
            "_view_module": "@jupyter-widgets/controls",
            "_model_module_version": "1.5.0",
            "value": 2861,
            "_view_count": null,
            "_view_module_version": "1.5.0",
            "orientation": "horizontal",
            "min": 0,
            "description_tooltip": null,
            "_model_module": "@jupyter-widgets/controls",
            "layout": "IPY_MODEL_ca70a0c2d20843ba92f1c8d7e7683469"
          }
        },
        "936976d89ef44ab0aee4abff490d9ac5": {
          "model_module": "@jupyter-widgets/controls",
          "model_name": "HTMLModel",
          "state": {
            "_view_name": "HTMLView",
            "style": "IPY_MODEL_94c6e04f19ad4086965391dad60a5f48",
            "_dom_classes": [],
            "description": "",
            "_model_name": "HTMLModel",
            "placeholder": "​",
            "_view_module": "@jupyter-widgets/controls",
            "_model_module_version": "1.5.0",
            "value": " 2861/2861 [13:53&lt;00:00,  3.43it/s]",
            "_view_count": null,
            "_view_module_version": "1.5.0",
            "description_tooltip": null,
            "_model_module": "@jupyter-widgets/controls",
            "layout": "IPY_MODEL_1a7c3735e61b449ba6a8eebab2e04d2a"
          }
        },
        "5a9becc3e52f42df9ae84c2946eebbfe": {
          "model_module": "@jupyter-widgets/controls",
          "model_name": "ProgressStyleModel",
          "state": {
            "_view_name": "StyleView",
            "_model_name": "ProgressStyleModel",
            "description_width": "initial",
            "_view_module": "@jupyter-widgets/base",
            "_model_module_version": "1.5.0",
            "_view_count": null,
            "_view_module_version": "1.2.0",
            "bar_color": null,
            "_model_module": "@jupyter-widgets/controls"
          }
        },
        "ca70a0c2d20843ba92f1c8d7e7683469": {
          "model_module": "@jupyter-widgets/base",
          "model_name": "LayoutModel",
          "state": {
            "_view_name": "LayoutView",
            "grid_template_rows": null,
            "right": null,
            "justify_content": null,
            "_view_module": "@jupyter-widgets/base",
            "overflow": null,
            "_model_module_version": "1.2.0",
            "_view_count": null,
            "flex_flow": null,
            "width": null,
            "min_width": null,
            "border": null,
            "align_items": null,
            "bottom": null,
            "_model_module": "@jupyter-widgets/base",
            "top": null,
            "grid_column": null,
            "overflow_y": null,
            "overflow_x": null,
            "grid_auto_flow": null,
            "grid_area": null,
            "grid_template_columns": null,
            "flex": null,
            "_model_name": "LayoutModel",
            "justify_items": null,
            "grid_row": null,
            "max_height": null,
            "align_content": null,
            "visibility": null,
            "align_self": null,
            "height": null,
            "min_height": null,
            "padding": null,
            "grid_auto_rows": null,
            "grid_gap": null,
            "max_width": null,
            "order": null,
            "_view_module_version": "1.2.0",
            "grid_template_areas": null,
            "object_position": null,
            "object_fit": null,
            "grid_auto_columns": null,
            "margin": null,
            "display": null,
            "left": null
          }
        },
        "94c6e04f19ad4086965391dad60a5f48": {
          "model_module": "@jupyter-widgets/controls",
          "model_name": "DescriptionStyleModel",
          "state": {
            "_view_name": "StyleView",
            "_model_name": "DescriptionStyleModel",
            "description_width": "",
            "_view_module": "@jupyter-widgets/base",
            "_model_module_version": "1.5.0",
            "_view_count": null,
            "_view_module_version": "1.2.0",
            "_model_module": "@jupyter-widgets/controls"
          }
        },
        "1a7c3735e61b449ba6a8eebab2e04d2a": {
          "model_module": "@jupyter-widgets/base",
          "model_name": "LayoutModel",
          "state": {
            "_view_name": "LayoutView",
            "grid_template_rows": null,
            "right": null,
            "justify_content": null,
            "_view_module": "@jupyter-widgets/base",
            "overflow": null,
            "_model_module_version": "1.2.0",
            "_view_count": null,
            "flex_flow": null,
            "width": null,
            "min_width": null,
            "border": null,
            "align_items": null,
            "bottom": null,
            "_model_module": "@jupyter-widgets/base",
            "top": null,
            "grid_column": null,
            "overflow_y": null,
            "overflow_x": null,
            "grid_auto_flow": null,
            "grid_area": null,
            "grid_template_columns": null,
            "flex": null,
            "_model_name": "LayoutModel",
            "justify_items": null,
            "grid_row": null,
            "max_height": null,
            "align_content": null,
            "visibility": null,
            "align_self": null,
            "height": null,
            "min_height": null,
            "padding": null,
            "grid_auto_rows": null,
            "grid_gap": null,
            "max_width": null,
            "order": null,
            "_view_module_version": "1.2.0",
            "grid_template_areas": null,
            "object_position": null,
            "object_fit": null,
            "grid_auto_columns": null,
            "margin": null,
            "display": null,
            "left": null
          }
        },
        "cea2c53020944ae6a34d19aaac00108a": {
          "model_module": "@jupyter-widgets/controls",
          "model_name": "HBoxModel",
          "state": {
            "_view_name": "HBoxView",
            "_dom_classes": [],
            "_model_name": "HBoxModel",
            "_view_module": "@jupyter-widgets/controls",
            "_model_module_version": "1.5.0",
            "_view_count": null,
            "_view_module_version": "1.5.0",
            "box_style": "",
            "layout": "IPY_MODEL_a3be952fda874ce1aa25e0b9674af2da",
            "_model_module": "@jupyter-widgets/controls",
            "children": [
              "IPY_MODEL_49d73a328244402c95bd491b509bddb8",
              "IPY_MODEL_e583ebdfa1e547f2b716bb24381be339"
            ]
          }
        },
        "a3be952fda874ce1aa25e0b9674af2da": {
          "model_module": "@jupyter-widgets/base",
          "model_name": "LayoutModel",
          "state": {
            "_view_name": "LayoutView",
            "grid_template_rows": null,
            "right": null,
            "justify_content": null,
            "_view_module": "@jupyter-widgets/base",
            "overflow": null,
            "_model_module_version": "1.2.0",
            "_view_count": null,
            "flex_flow": null,
            "width": null,
            "min_width": null,
            "border": null,
            "align_items": null,
            "bottom": null,
            "_model_module": "@jupyter-widgets/base",
            "top": null,
            "grid_column": null,
            "overflow_y": null,
            "overflow_x": null,
            "grid_auto_flow": null,
            "grid_area": null,
            "grid_template_columns": null,
            "flex": null,
            "_model_name": "LayoutModel",
            "justify_items": null,
            "grid_row": null,
            "max_height": null,
            "align_content": null,
            "visibility": null,
            "align_self": null,
            "height": null,
            "min_height": null,
            "padding": null,
            "grid_auto_rows": null,
            "grid_gap": null,
            "max_width": null,
            "order": null,
            "_view_module_version": "1.2.0",
            "grid_template_areas": null,
            "object_position": null,
            "object_fit": null,
            "grid_auto_columns": null,
            "margin": null,
            "display": null,
            "left": null
          }
        },
        "49d73a328244402c95bd491b509bddb8": {
          "model_module": "@jupyter-widgets/controls",
          "model_name": "FloatProgressModel",
          "state": {
            "_view_name": "ProgressView",
            "style": "IPY_MODEL_bfeed4260c5149818dcb999c8a8d5b2c",
            "_dom_classes": [],
            "description": "100%",
            "_model_name": "FloatProgressModel",
            "bar_style": "success",
            "max": 2861,
            "_view_module": "@jupyter-widgets/controls",
            "_model_module_version": "1.5.0",
            "value": 2861,
            "_view_count": null,
            "_view_module_version": "1.5.0",
            "orientation": "horizontal",
            "min": 0,
            "description_tooltip": null,
            "_model_module": "@jupyter-widgets/controls",
            "layout": "IPY_MODEL_8dc3dac9b4c940d6bc0b539306cb5e9d"
          }
        },
        "e583ebdfa1e547f2b716bb24381be339": {
          "model_module": "@jupyter-widgets/controls",
          "model_name": "HTMLModel",
          "state": {
            "_view_name": "HTMLView",
            "style": "IPY_MODEL_9f87d5603f7b47e793b20d732515f91b",
            "_dom_classes": [],
            "description": "",
            "_model_name": "HTMLModel",
            "placeholder": "​",
            "_view_module": "@jupyter-widgets/controls",
            "_model_module_version": "1.5.0",
            "value": " 2861/2861 [4:23:53&lt;00:00,  5.53s/it]",
            "_view_count": null,
            "_view_module_version": "1.5.0",
            "description_tooltip": null,
            "_model_module": "@jupyter-widgets/controls",
            "layout": "IPY_MODEL_e37ad3f9976f4dc29e1987154f2964ca"
          }
        },
        "bfeed4260c5149818dcb999c8a8d5b2c": {
          "model_module": "@jupyter-widgets/controls",
          "model_name": "ProgressStyleModel",
          "state": {
            "_view_name": "StyleView",
            "_model_name": "ProgressStyleModel",
            "description_width": "initial",
            "_view_module": "@jupyter-widgets/base",
            "_model_module_version": "1.5.0",
            "_view_count": null,
            "_view_module_version": "1.2.0",
            "bar_color": null,
            "_model_module": "@jupyter-widgets/controls"
          }
        },
        "8dc3dac9b4c940d6bc0b539306cb5e9d": {
          "model_module": "@jupyter-widgets/base",
          "model_name": "LayoutModel",
          "state": {
            "_view_name": "LayoutView",
            "grid_template_rows": null,
            "right": null,
            "justify_content": null,
            "_view_module": "@jupyter-widgets/base",
            "overflow": null,
            "_model_module_version": "1.2.0",
            "_view_count": null,
            "flex_flow": null,
            "width": null,
            "min_width": null,
            "border": null,
            "align_items": null,
            "bottom": null,
            "_model_module": "@jupyter-widgets/base",
            "top": null,
            "grid_column": null,
            "overflow_y": null,
            "overflow_x": null,
            "grid_auto_flow": null,
            "grid_area": null,
            "grid_template_columns": null,
            "flex": null,
            "_model_name": "LayoutModel",
            "justify_items": null,
            "grid_row": null,
            "max_height": null,
            "align_content": null,
            "visibility": null,
            "align_self": null,
            "height": null,
            "min_height": null,
            "padding": null,
            "grid_auto_rows": null,
            "grid_gap": null,
            "max_width": null,
            "order": null,
            "_view_module_version": "1.2.0",
            "grid_template_areas": null,
            "object_position": null,
            "object_fit": null,
            "grid_auto_columns": null,
            "margin": null,
            "display": null,
            "left": null
          }
        },
        "9f87d5603f7b47e793b20d732515f91b": {
          "model_module": "@jupyter-widgets/controls",
          "model_name": "DescriptionStyleModel",
          "state": {
            "_view_name": "StyleView",
            "_model_name": "DescriptionStyleModel",
            "description_width": "",
            "_view_module": "@jupyter-widgets/base",
            "_model_module_version": "1.5.0",
            "_view_count": null,
            "_view_module_version": "1.2.0",
            "_model_module": "@jupyter-widgets/controls"
          }
        },
        "e37ad3f9976f4dc29e1987154f2964ca": {
          "model_module": "@jupyter-widgets/base",
          "model_name": "LayoutModel",
          "state": {
            "_view_name": "LayoutView",
            "grid_template_rows": null,
            "right": null,
            "justify_content": null,
            "_view_module": "@jupyter-widgets/base",
            "overflow": null,
            "_model_module_version": "1.2.0",
            "_view_count": null,
            "flex_flow": null,
            "width": null,
            "min_width": null,
            "border": null,
            "align_items": null,
            "bottom": null,
            "_model_module": "@jupyter-widgets/base",
            "top": null,
            "grid_column": null,
            "overflow_y": null,
            "overflow_x": null,
            "grid_auto_flow": null,
            "grid_area": null,
            "grid_template_columns": null,
            "flex": null,
            "_model_name": "LayoutModel",
            "justify_items": null,
            "grid_row": null,
            "max_height": null,
            "align_content": null,
            "visibility": null,
            "align_self": null,
            "height": null,
            "min_height": null,
            "padding": null,
            "grid_auto_rows": null,
            "grid_gap": null,
            "max_width": null,
            "order": null,
            "_view_module_version": "1.2.0",
            "grid_template_areas": null,
            "object_position": null,
            "object_fit": null,
            "grid_auto_columns": null,
            "margin": null,
            "display": null,
            "left": null
          }
        },
        "9d5a8a7c13b1446e9a19d4457ee6fb0d": {
          "model_module": "@jupyter-widgets/controls",
          "model_name": "HBoxModel",
          "state": {
            "_view_name": "HBoxView",
            "_dom_classes": [],
            "_model_name": "HBoxModel",
            "_view_module": "@jupyter-widgets/controls",
            "_model_module_version": "1.5.0",
            "_view_count": null,
            "_view_module_version": "1.5.0",
            "box_style": "",
            "layout": "IPY_MODEL_629ea2e4e89047f69c35434c8bca141e",
            "_model_module": "@jupyter-widgets/controls",
            "children": [
              "IPY_MODEL_cd5f98a2f71f425e822379a778b448d6",
              "IPY_MODEL_83197686b11c4720813fbd05cda07cf6"
            ]
          }
        },
        "629ea2e4e89047f69c35434c8bca141e": {
          "model_module": "@jupyter-widgets/base",
          "model_name": "LayoutModel",
          "state": {
            "_view_name": "LayoutView",
            "grid_template_rows": null,
            "right": null,
            "justify_content": null,
            "_view_module": "@jupyter-widgets/base",
            "overflow": null,
            "_model_module_version": "1.2.0",
            "_view_count": null,
            "flex_flow": null,
            "width": null,
            "min_width": null,
            "border": null,
            "align_items": null,
            "bottom": null,
            "_model_module": "@jupyter-widgets/base",
            "top": null,
            "grid_column": null,
            "overflow_y": null,
            "overflow_x": null,
            "grid_auto_flow": null,
            "grid_area": null,
            "grid_template_columns": null,
            "flex": null,
            "_model_name": "LayoutModel",
            "justify_items": null,
            "grid_row": null,
            "max_height": null,
            "align_content": null,
            "visibility": null,
            "align_self": null,
            "height": null,
            "min_height": null,
            "padding": null,
            "grid_auto_rows": null,
            "grid_gap": null,
            "max_width": null,
            "order": null,
            "_view_module_version": "1.2.0",
            "grid_template_areas": null,
            "object_position": null,
            "object_fit": null,
            "grid_auto_columns": null,
            "margin": null,
            "display": null,
            "left": null
          }
        },
        "cd5f98a2f71f425e822379a778b448d6": {
          "model_module": "@jupyter-widgets/controls",
          "model_name": "FloatProgressModel",
          "state": {
            "_view_name": "ProgressView",
            "style": "IPY_MODEL_b61d6d9d1b774890a60c4febac894788",
            "_dom_classes": [],
            "description": "100%",
            "_model_name": "FloatProgressModel",
            "bar_style": "success",
            "max": 11615,
            "_view_module": "@jupyter-widgets/controls",
            "_model_module_version": "1.5.0",
            "value": 11615,
            "_view_count": null,
            "_view_module_version": "1.5.0",
            "orientation": "horizontal",
            "min": 0,
            "description_tooltip": null,
            "_model_module": "@jupyter-widgets/controls",
            "layout": "IPY_MODEL_8df161b980ee467f83b233d7d451e133"
          }
        },
        "83197686b11c4720813fbd05cda07cf6": {
          "model_module": "@jupyter-widgets/controls",
          "model_name": "HTMLModel",
          "state": {
            "_view_name": "HTMLView",
            "style": "IPY_MODEL_e8ad5e7dac3b461781416388f0d699e2",
            "_dom_classes": [],
            "description": "",
            "_model_name": "HTMLModel",
            "placeholder": "​",
            "_view_module": "@jupyter-widgets/controls",
            "_model_module_version": "1.5.0",
            "value": " 11615/11615 [38:45&lt;00:00,  5.00it/s]",
            "_view_count": null,
            "_view_module_version": "1.5.0",
            "description_tooltip": null,
            "_model_module": "@jupyter-widgets/controls",
            "layout": "IPY_MODEL_7bb70255a0f74cdf982cc3a95312a7cb"
          }
        },
        "b61d6d9d1b774890a60c4febac894788": {
          "model_module": "@jupyter-widgets/controls",
          "model_name": "ProgressStyleModel",
          "state": {
            "_view_name": "StyleView",
            "_model_name": "ProgressStyleModel",
            "description_width": "initial",
            "_view_module": "@jupyter-widgets/base",
            "_model_module_version": "1.5.0",
            "_view_count": null,
            "_view_module_version": "1.2.0",
            "bar_color": null,
            "_model_module": "@jupyter-widgets/controls"
          }
        },
        "8df161b980ee467f83b233d7d451e133": {
          "model_module": "@jupyter-widgets/base",
          "model_name": "LayoutModel",
          "state": {
            "_view_name": "LayoutView",
            "grid_template_rows": null,
            "right": null,
            "justify_content": null,
            "_view_module": "@jupyter-widgets/base",
            "overflow": null,
            "_model_module_version": "1.2.0",
            "_view_count": null,
            "flex_flow": null,
            "width": null,
            "min_width": null,
            "border": null,
            "align_items": null,
            "bottom": null,
            "_model_module": "@jupyter-widgets/base",
            "top": null,
            "grid_column": null,
            "overflow_y": null,
            "overflow_x": null,
            "grid_auto_flow": null,
            "grid_area": null,
            "grid_template_columns": null,
            "flex": null,
            "_model_name": "LayoutModel",
            "justify_items": null,
            "grid_row": null,
            "max_height": null,
            "align_content": null,
            "visibility": null,
            "align_self": null,
            "height": null,
            "min_height": null,
            "padding": null,
            "grid_auto_rows": null,
            "grid_gap": null,
            "max_width": null,
            "order": null,
            "_view_module_version": "1.2.0",
            "grid_template_areas": null,
            "object_position": null,
            "object_fit": null,
            "grid_auto_columns": null,
            "margin": null,
            "display": null,
            "left": null
          }
        },
        "e8ad5e7dac3b461781416388f0d699e2": {
          "model_module": "@jupyter-widgets/controls",
          "model_name": "DescriptionStyleModel",
          "state": {
            "_view_name": "StyleView",
            "_model_name": "DescriptionStyleModel",
            "description_width": "",
            "_view_module": "@jupyter-widgets/base",
            "_model_module_version": "1.5.0",
            "_view_count": null,
            "_view_module_version": "1.2.0",
            "_model_module": "@jupyter-widgets/controls"
          }
        },
        "7bb70255a0f74cdf982cc3a95312a7cb": {
          "model_module": "@jupyter-widgets/base",
          "model_name": "LayoutModel",
          "state": {
            "_view_name": "LayoutView",
            "grid_template_rows": null,
            "right": null,
            "justify_content": null,
            "_view_module": "@jupyter-widgets/base",
            "overflow": null,
            "_model_module_version": "1.2.0",
            "_view_count": null,
            "flex_flow": null,
            "width": null,
            "min_width": null,
            "border": null,
            "align_items": null,
            "bottom": null,
            "_model_module": "@jupyter-widgets/base",
            "top": null,
            "grid_column": null,
            "overflow_y": null,
            "overflow_x": null,
            "grid_auto_flow": null,
            "grid_area": null,
            "grid_template_columns": null,
            "flex": null,
            "_model_name": "LayoutModel",
            "justify_items": null,
            "grid_row": null,
            "max_height": null,
            "align_content": null,
            "visibility": null,
            "align_self": null,
            "height": null,
            "min_height": null,
            "padding": null,
            "grid_auto_rows": null,
            "grid_gap": null,
            "max_width": null,
            "order": null,
            "_view_module_version": "1.2.0",
            "grid_template_areas": null,
            "object_position": null,
            "object_fit": null,
            "grid_auto_columns": null,
            "margin": null,
            "display": null,
            "left": null
          }
        },
        "0bb6b2dc3b96429fadefa35737498f62": {
          "model_module": "@jupyter-widgets/controls",
          "model_name": "HBoxModel",
          "state": {
            "_view_name": "HBoxView",
            "_dom_classes": [],
            "_model_name": "HBoxModel",
            "_view_module": "@jupyter-widgets/controls",
            "_model_module_version": "1.5.0",
            "_view_count": null,
            "_view_module_version": "1.5.0",
            "box_style": "",
            "layout": "IPY_MODEL_451b90c0b03343fc910c32d92a6ceaba",
            "_model_module": "@jupyter-widgets/controls",
            "children": [
              "IPY_MODEL_e5da89e8053f48db831de8d25431eaf5",
              "IPY_MODEL_506cc07f33d44fb58b6eb8f29816b861"
            ]
          }
        },
        "451b90c0b03343fc910c32d92a6ceaba": {
          "model_module": "@jupyter-widgets/base",
          "model_name": "LayoutModel",
          "state": {
            "_view_name": "LayoutView",
            "grid_template_rows": null,
            "right": null,
            "justify_content": null,
            "_view_module": "@jupyter-widgets/base",
            "overflow": null,
            "_model_module_version": "1.2.0",
            "_view_count": null,
            "flex_flow": null,
            "width": null,
            "min_width": null,
            "border": null,
            "align_items": null,
            "bottom": null,
            "_model_module": "@jupyter-widgets/base",
            "top": null,
            "grid_column": null,
            "overflow_y": null,
            "overflow_x": null,
            "grid_auto_flow": null,
            "grid_area": null,
            "grid_template_columns": null,
            "flex": null,
            "_model_name": "LayoutModel",
            "justify_items": null,
            "grid_row": null,
            "max_height": null,
            "align_content": null,
            "visibility": null,
            "align_self": null,
            "height": null,
            "min_height": null,
            "padding": null,
            "grid_auto_rows": null,
            "grid_gap": null,
            "max_width": null,
            "order": null,
            "_view_module_version": "1.2.0",
            "grid_template_areas": null,
            "object_position": null,
            "object_fit": null,
            "grid_auto_columns": null,
            "margin": null,
            "display": null,
            "left": null
          }
        },
        "e5da89e8053f48db831de8d25431eaf5": {
          "model_module": "@jupyter-widgets/controls",
          "model_name": "FloatProgressModel",
          "state": {
            "_view_name": "ProgressView",
            "style": "IPY_MODEL_2be5d1d4b4454d3bb02aac0df1222ac5",
            "_dom_classes": [],
            "description": "100%",
            "_model_name": "FloatProgressModel",
            "bar_style": "success",
            "max": 11615,
            "_view_module": "@jupyter-widgets/controls",
            "_model_module_version": "1.5.0",
            "value": 11615,
            "_view_count": null,
            "_view_module_version": "1.5.0",
            "orientation": "horizontal",
            "min": 0,
            "description_tooltip": null,
            "_model_module": "@jupyter-widgets/controls",
            "layout": "IPY_MODEL_f4a8fc73f9264ffba1d7ee6781ad81cd"
          }
        },
        "506cc07f33d44fb58b6eb8f29816b861": {
          "model_module": "@jupyter-widgets/controls",
          "model_name": "HTMLModel",
          "state": {
            "_view_name": "HTMLView",
            "style": "IPY_MODEL_5348992af11145228933cb93b1609ded",
            "_dom_classes": [],
            "description": "",
            "_model_name": "HTMLModel",
            "placeholder": "​",
            "_view_module": "@jupyter-widgets/controls",
            "_model_module_version": "1.5.0",
            "value": " 11615/11615 [42:03&lt;00:00,  4.60it/s]",
            "_view_count": null,
            "_view_module_version": "1.5.0",
            "description_tooltip": null,
            "_model_module": "@jupyter-widgets/controls",
            "layout": "IPY_MODEL_cc7bc40d0cfc4332acb88adcee5c3275"
          }
        },
        "2be5d1d4b4454d3bb02aac0df1222ac5": {
          "model_module": "@jupyter-widgets/controls",
          "model_name": "ProgressStyleModel",
          "state": {
            "_view_name": "StyleView",
            "_model_name": "ProgressStyleModel",
            "description_width": "initial",
            "_view_module": "@jupyter-widgets/base",
            "_model_module_version": "1.5.0",
            "_view_count": null,
            "_view_module_version": "1.2.0",
            "bar_color": null,
            "_model_module": "@jupyter-widgets/controls"
          }
        },
        "f4a8fc73f9264ffba1d7ee6781ad81cd": {
          "model_module": "@jupyter-widgets/base",
          "model_name": "LayoutModel",
          "state": {
            "_view_name": "LayoutView",
            "grid_template_rows": null,
            "right": null,
            "justify_content": null,
            "_view_module": "@jupyter-widgets/base",
            "overflow": null,
            "_model_module_version": "1.2.0",
            "_view_count": null,
            "flex_flow": null,
            "width": null,
            "min_width": null,
            "border": null,
            "align_items": null,
            "bottom": null,
            "_model_module": "@jupyter-widgets/base",
            "top": null,
            "grid_column": null,
            "overflow_y": null,
            "overflow_x": null,
            "grid_auto_flow": null,
            "grid_area": null,
            "grid_template_columns": null,
            "flex": null,
            "_model_name": "LayoutModel",
            "justify_items": null,
            "grid_row": null,
            "max_height": null,
            "align_content": null,
            "visibility": null,
            "align_self": null,
            "height": null,
            "min_height": null,
            "padding": null,
            "grid_auto_rows": null,
            "grid_gap": null,
            "max_width": null,
            "order": null,
            "_view_module_version": "1.2.0",
            "grid_template_areas": null,
            "object_position": null,
            "object_fit": null,
            "grid_auto_columns": null,
            "margin": null,
            "display": null,
            "left": null
          }
        },
        "5348992af11145228933cb93b1609ded": {
          "model_module": "@jupyter-widgets/controls",
          "model_name": "DescriptionStyleModel",
          "state": {
            "_view_name": "StyleView",
            "_model_name": "DescriptionStyleModel",
            "description_width": "",
            "_view_module": "@jupyter-widgets/base",
            "_model_module_version": "1.5.0",
            "_view_count": null,
            "_view_module_version": "1.2.0",
            "_model_module": "@jupyter-widgets/controls"
          }
        },
        "cc7bc40d0cfc4332acb88adcee5c3275": {
          "model_module": "@jupyter-widgets/base",
          "model_name": "LayoutModel",
          "state": {
            "_view_name": "LayoutView",
            "grid_template_rows": null,
            "right": null,
            "justify_content": null,
            "_view_module": "@jupyter-widgets/base",
            "overflow": null,
            "_model_module_version": "1.2.0",
            "_view_count": null,
            "flex_flow": null,
            "width": null,
            "min_width": null,
            "border": null,
            "align_items": null,
            "bottom": null,
            "_model_module": "@jupyter-widgets/base",
            "top": null,
            "grid_column": null,
            "overflow_y": null,
            "overflow_x": null,
            "grid_auto_flow": null,
            "grid_area": null,
            "grid_template_columns": null,
            "flex": null,
            "_model_name": "LayoutModel",
            "justify_items": null,
            "grid_row": null,
            "max_height": null,
            "align_content": null,
            "visibility": null,
            "align_self": null,
            "height": null,
            "min_height": null,
            "padding": null,
            "grid_auto_rows": null,
            "grid_gap": null,
            "max_width": null,
            "order": null,
            "_view_module_version": "1.2.0",
            "grid_template_areas": null,
            "object_position": null,
            "object_fit": null,
            "grid_auto_columns": null,
            "margin": null,
            "display": null,
            "left": null
          }
        },
        "4229270d2eea49a4bffbaf7cba8e0cfd": {
          "model_module": "@jupyter-widgets/controls",
          "model_name": "HBoxModel",
          "state": {
            "_view_name": "HBoxView",
            "_dom_classes": [],
            "_model_name": "HBoxModel",
            "_view_module": "@jupyter-widgets/controls",
            "_model_module_version": "1.5.0",
            "_view_count": null,
            "_view_module_version": "1.5.0",
            "box_style": "",
            "layout": "IPY_MODEL_9a0b2f494dd647158474d7cf3dfdb8f8",
            "_model_module": "@jupyter-widgets/controls",
            "children": [
              "IPY_MODEL_709b348178924b4a873d1b1350e3f994",
              "IPY_MODEL_53fa44fdad3b42b1ad64e23be7946c50"
            ]
          }
        },
        "9a0b2f494dd647158474d7cf3dfdb8f8": {
          "model_module": "@jupyter-widgets/base",
          "model_name": "LayoutModel",
          "state": {
            "_view_name": "LayoutView",
            "grid_template_rows": null,
            "right": null,
            "justify_content": null,
            "_view_module": "@jupyter-widgets/base",
            "overflow": null,
            "_model_module_version": "1.2.0",
            "_view_count": null,
            "flex_flow": null,
            "width": null,
            "min_width": null,
            "border": null,
            "align_items": null,
            "bottom": null,
            "_model_module": "@jupyter-widgets/base",
            "top": null,
            "grid_column": null,
            "overflow_y": null,
            "overflow_x": null,
            "grid_auto_flow": null,
            "grid_area": null,
            "grid_template_columns": null,
            "flex": null,
            "_model_name": "LayoutModel",
            "justify_items": null,
            "grid_row": null,
            "max_height": null,
            "align_content": null,
            "visibility": null,
            "align_self": null,
            "height": null,
            "min_height": null,
            "padding": null,
            "grid_auto_rows": null,
            "grid_gap": null,
            "max_width": null,
            "order": null,
            "_view_module_version": "1.2.0",
            "grid_template_areas": null,
            "object_position": null,
            "object_fit": null,
            "grid_auto_columns": null,
            "margin": null,
            "display": null,
            "left": null
          }
        },
        "709b348178924b4a873d1b1350e3f994": {
          "model_module": "@jupyter-widgets/controls",
          "model_name": "FloatProgressModel",
          "state": {
            "_view_name": "ProgressView",
            "style": "IPY_MODEL_09bdf25af578476fa41930de026796a6",
            "_dom_classes": [],
            "description": "100%",
            "_model_name": "FloatProgressModel",
            "bar_style": "success",
            "max": 2861,
            "_view_module": "@jupyter-widgets/controls",
            "_model_module_version": "1.5.0",
            "value": 2861,
            "_view_count": null,
            "_view_module_version": "1.5.0",
            "orientation": "horizontal",
            "min": 0,
            "description_tooltip": null,
            "_model_module": "@jupyter-widgets/controls",
            "layout": "IPY_MODEL_0424b61fddaa459cbeca655b5a4e6f0e"
          }
        },
        "53fa44fdad3b42b1ad64e23be7946c50": {
          "model_module": "@jupyter-widgets/controls",
          "model_name": "HTMLModel",
          "state": {
            "_view_name": "HTMLView",
            "style": "IPY_MODEL_6a3dbb519ff94aa381a7c661b9b31895",
            "_dom_classes": [],
            "description": "",
            "_model_name": "HTMLModel",
            "placeholder": "​",
            "_view_module": "@jupyter-widgets/controls",
            "_model_module_version": "1.5.0",
            "value": " 2861/2861 [13:54&lt;00:00,  3.43it/s]",
            "_view_count": null,
            "_view_module_version": "1.5.0",
            "description_tooltip": null,
            "_model_module": "@jupyter-widgets/controls",
            "layout": "IPY_MODEL_9018bd54810d4d72b30d367b1535fc7c"
          }
        },
        "09bdf25af578476fa41930de026796a6": {
          "model_module": "@jupyter-widgets/controls",
          "model_name": "ProgressStyleModel",
          "state": {
            "_view_name": "StyleView",
            "_model_name": "ProgressStyleModel",
            "description_width": "initial",
            "_view_module": "@jupyter-widgets/base",
            "_model_module_version": "1.5.0",
            "_view_count": null,
            "_view_module_version": "1.2.0",
            "bar_color": null,
            "_model_module": "@jupyter-widgets/controls"
          }
        },
        "0424b61fddaa459cbeca655b5a4e6f0e": {
          "model_module": "@jupyter-widgets/base",
          "model_name": "LayoutModel",
          "state": {
            "_view_name": "LayoutView",
            "grid_template_rows": null,
            "right": null,
            "justify_content": null,
            "_view_module": "@jupyter-widgets/base",
            "overflow": null,
            "_model_module_version": "1.2.0",
            "_view_count": null,
            "flex_flow": null,
            "width": null,
            "min_width": null,
            "border": null,
            "align_items": null,
            "bottom": null,
            "_model_module": "@jupyter-widgets/base",
            "top": null,
            "grid_column": null,
            "overflow_y": null,
            "overflow_x": null,
            "grid_auto_flow": null,
            "grid_area": null,
            "grid_template_columns": null,
            "flex": null,
            "_model_name": "LayoutModel",
            "justify_items": null,
            "grid_row": null,
            "max_height": null,
            "align_content": null,
            "visibility": null,
            "align_self": null,
            "height": null,
            "min_height": null,
            "padding": null,
            "grid_auto_rows": null,
            "grid_gap": null,
            "max_width": null,
            "order": null,
            "_view_module_version": "1.2.0",
            "grid_template_areas": null,
            "object_position": null,
            "object_fit": null,
            "grid_auto_columns": null,
            "margin": null,
            "display": null,
            "left": null
          }
        },
        "6a3dbb519ff94aa381a7c661b9b31895": {
          "model_module": "@jupyter-widgets/controls",
          "model_name": "DescriptionStyleModel",
          "state": {
            "_view_name": "StyleView",
            "_model_name": "DescriptionStyleModel",
            "description_width": "",
            "_view_module": "@jupyter-widgets/base",
            "_model_module_version": "1.5.0",
            "_view_count": null,
            "_view_module_version": "1.2.0",
            "_model_module": "@jupyter-widgets/controls"
          }
        },
        "9018bd54810d4d72b30d367b1535fc7c": {
          "model_module": "@jupyter-widgets/base",
          "model_name": "LayoutModel",
          "state": {
            "_view_name": "LayoutView",
            "grid_template_rows": null,
            "right": null,
            "justify_content": null,
            "_view_module": "@jupyter-widgets/base",
            "overflow": null,
            "_model_module_version": "1.2.0",
            "_view_count": null,
            "flex_flow": null,
            "width": null,
            "min_width": null,
            "border": null,
            "align_items": null,
            "bottom": null,
            "_model_module": "@jupyter-widgets/base",
            "top": null,
            "grid_column": null,
            "overflow_y": null,
            "overflow_x": null,
            "grid_auto_flow": null,
            "grid_area": null,
            "grid_template_columns": null,
            "flex": null,
            "_model_name": "LayoutModel",
            "justify_items": null,
            "grid_row": null,
            "max_height": null,
            "align_content": null,
            "visibility": null,
            "align_self": null,
            "height": null,
            "min_height": null,
            "padding": null,
            "grid_auto_rows": null,
            "grid_gap": null,
            "max_width": null,
            "order": null,
            "_view_module_version": "1.2.0",
            "grid_template_areas": null,
            "object_position": null,
            "object_fit": null,
            "grid_auto_columns": null,
            "margin": null,
            "display": null,
            "left": null
          }
        },
        "7ef1f51f12c0465c999a056f0856d16f": {
          "model_module": "@jupyter-widgets/controls",
          "model_name": "HBoxModel",
          "state": {
            "_view_name": "HBoxView",
            "_dom_classes": [],
            "_model_name": "HBoxModel",
            "_view_module": "@jupyter-widgets/controls",
            "_model_module_version": "1.5.0",
            "_view_count": null,
            "_view_module_version": "1.5.0",
            "box_style": "",
            "layout": "IPY_MODEL_8591d7e072b440f4a9bee52ec02f7ab9",
            "_model_module": "@jupyter-widgets/controls",
            "children": [
              "IPY_MODEL_01b8fb42cea2460b9ddc519e9350e40c",
              "IPY_MODEL_c45f50ac27e643f59a1e0a37fcd8c6ec"
            ]
          }
        },
        "8591d7e072b440f4a9bee52ec02f7ab9": {
          "model_module": "@jupyter-widgets/base",
          "model_name": "LayoutModel",
          "state": {
            "_view_name": "LayoutView",
            "grid_template_rows": null,
            "right": null,
            "justify_content": null,
            "_view_module": "@jupyter-widgets/base",
            "overflow": null,
            "_model_module_version": "1.2.0",
            "_view_count": null,
            "flex_flow": null,
            "width": null,
            "min_width": null,
            "border": null,
            "align_items": null,
            "bottom": null,
            "_model_module": "@jupyter-widgets/base",
            "top": null,
            "grid_column": null,
            "overflow_y": null,
            "overflow_x": null,
            "grid_auto_flow": null,
            "grid_area": null,
            "grid_template_columns": null,
            "flex": null,
            "_model_name": "LayoutModel",
            "justify_items": null,
            "grid_row": null,
            "max_height": null,
            "align_content": null,
            "visibility": null,
            "align_self": null,
            "height": null,
            "min_height": null,
            "padding": null,
            "grid_auto_rows": null,
            "grid_gap": null,
            "max_width": null,
            "order": null,
            "_view_module_version": "1.2.0",
            "grid_template_areas": null,
            "object_position": null,
            "object_fit": null,
            "grid_auto_columns": null,
            "margin": null,
            "display": null,
            "left": null
          }
        },
        "01b8fb42cea2460b9ddc519e9350e40c": {
          "model_module": "@jupyter-widgets/controls",
          "model_name": "FloatProgressModel",
          "state": {
            "_view_name": "ProgressView",
            "style": "IPY_MODEL_c819322e83b345bfb6bfd88fceb2fa96",
            "_dom_classes": [],
            "description": "100%",
            "_model_name": "FloatProgressModel",
            "bar_style": "success",
            "max": 2861,
            "_view_module": "@jupyter-widgets/controls",
            "_model_module_version": "1.5.0",
            "value": 2861,
            "_view_count": null,
            "_view_module_version": "1.5.0",
            "orientation": "horizontal",
            "min": 0,
            "description_tooltip": null,
            "_model_module": "@jupyter-widgets/controls",
            "layout": "IPY_MODEL_8d2ad656c8c54e1481a63fc714235308"
          }
        },
        "c45f50ac27e643f59a1e0a37fcd8c6ec": {
          "model_module": "@jupyter-widgets/controls",
          "model_name": "HTMLModel",
          "state": {
            "_view_name": "HTMLView",
            "style": "IPY_MODEL_13714a1771bd40a2861c4483fb48c435",
            "_dom_classes": [],
            "description": "",
            "_model_name": "HTMLModel",
            "placeholder": "​",
            "_view_module": "@jupyter-widgets/controls",
            "_model_module_version": "1.5.0",
            "value": " 2861/2861 [06:57&lt;00:00,  6.85it/s]",
            "_view_count": null,
            "_view_module_version": "1.5.0",
            "description_tooltip": null,
            "_model_module": "@jupyter-widgets/controls",
            "layout": "IPY_MODEL_d8eed74ae0a942aa886a36cfba1a2440"
          }
        },
        "c819322e83b345bfb6bfd88fceb2fa96": {
          "model_module": "@jupyter-widgets/controls",
          "model_name": "ProgressStyleModel",
          "state": {
            "_view_name": "StyleView",
            "_model_name": "ProgressStyleModel",
            "description_width": "initial",
            "_view_module": "@jupyter-widgets/base",
            "_model_module_version": "1.5.0",
            "_view_count": null,
            "_view_module_version": "1.2.0",
            "bar_color": null,
            "_model_module": "@jupyter-widgets/controls"
          }
        },
        "8d2ad656c8c54e1481a63fc714235308": {
          "model_module": "@jupyter-widgets/base",
          "model_name": "LayoutModel",
          "state": {
            "_view_name": "LayoutView",
            "grid_template_rows": null,
            "right": null,
            "justify_content": null,
            "_view_module": "@jupyter-widgets/base",
            "overflow": null,
            "_model_module_version": "1.2.0",
            "_view_count": null,
            "flex_flow": null,
            "width": null,
            "min_width": null,
            "border": null,
            "align_items": null,
            "bottom": null,
            "_model_module": "@jupyter-widgets/base",
            "top": null,
            "grid_column": null,
            "overflow_y": null,
            "overflow_x": null,
            "grid_auto_flow": null,
            "grid_area": null,
            "grid_template_columns": null,
            "flex": null,
            "_model_name": "LayoutModel",
            "justify_items": null,
            "grid_row": null,
            "max_height": null,
            "align_content": null,
            "visibility": null,
            "align_self": null,
            "height": null,
            "min_height": null,
            "padding": null,
            "grid_auto_rows": null,
            "grid_gap": null,
            "max_width": null,
            "order": null,
            "_view_module_version": "1.2.0",
            "grid_template_areas": null,
            "object_position": null,
            "object_fit": null,
            "grid_auto_columns": null,
            "margin": null,
            "display": null,
            "left": null
          }
        },
        "13714a1771bd40a2861c4483fb48c435": {
          "model_module": "@jupyter-widgets/controls",
          "model_name": "DescriptionStyleModel",
          "state": {
            "_view_name": "StyleView",
            "_model_name": "DescriptionStyleModel",
            "description_width": "",
            "_view_module": "@jupyter-widgets/base",
            "_model_module_version": "1.5.0",
            "_view_count": null,
            "_view_module_version": "1.2.0",
            "_model_module": "@jupyter-widgets/controls"
          }
        },
        "d8eed74ae0a942aa886a36cfba1a2440": {
          "model_module": "@jupyter-widgets/base",
          "model_name": "LayoutModel",
          "state": {
            "_view_name": "LayoutView",
            "grid_template_rows": null,
            "right": null,
            "justify_content": null,
            "_view_module": "@jupyter-widgets/base",
            "overflow": null,
            "_model_module_version": "1.2.0",
            "_view_count": null,
            "flex_flow": null,
            "width": null,
            "min_width": null,
            "border": null,
            "align_items": null,
            "bottom": null,
            "_model_module": "@jupyter-widgets/base",
            "top": null,
            "grid_column": null,
            "overflow_y": null,
            "overflow_x": null,
            "grid_auto_flow": null,
            "grid_area": null,
            "grid_template_columns": null,
            "flex": null,
            "_model_name": "LayoutModel",
            "justify_items": null,
            "grid_row": null,
            "max_height": null,
            "align_content": null,
            "visibility": null,
            "align_self": null,
            "height": null,
            "min_height": null,
            "padding": null,
            "grid_auto_rows": null,
            "grid_gap": null,
            "max_width": null,
            "order": null,
            "_view_module_version": "1.2.0",
            "grid_template_areas": null,
            "object_position": null,
            "object_fit": null,
            "grid_auto_columns": null,
            "margin": null,
            "display": null,
            "left": null
          }
        },
        "64685ef6cb39455db7fe41caa9392c0d": {
          "model_module": "@jupyter-widgets/controls",
          "model_name": "HBoxModel",
          "state": {
            "_view_name": "HBoxView",
            "_dom_classes": [],
            "_model_name": "HBoxModel",
            "_view_module": "@jupyter-widgets/controls",
            "_model_module_version": "1.5.0",
            "_view_count": null,
            "_view_module_version": "1.5.0",
            "box_style": "",
            "layout": "IPY_MODEL_bf2e447971a34292bbf9d9d5f1637d0c",
            "_model_module": "@jupyter-widgets/controls",
            "children": [
              "IPY_MODEL_59d2ad34a9bd4f549cf829494e328c80",
              "IPY_MODEL_4778ccb8997a41beabc402db6de88926"
            ]
          }
        },
        "bf2e447971a34292bbf9d9d5f1637d0c": {
          "model_module": "@jupyter-widgets/base",
          "model_name": "LayoutModel",
          "state": {
            "_view_name": "LayoutView",
            "grid_template_rows": null,
            "right": null,
            "justify_content": null,
            "_view_module": "@jupyter-widgets/base",
            "overflow": null,
            "_model_module_version": "1.2.0",
            "_view_count": null,
            "flex_flow": null,
            "width": null,
            "min_width": null,
            "border": null,
            "align_items": null,
            "bottom": null,
            "_model_module": "@jupyter-widgets/base",
            "top": null,
            "grid_column": null,
            "overflow_y": null,
            "overflow_x": null,
            "grid_auto_flow": null,
            "grid_area": null,
            "grid_template_columns": null,
            "flex": null,
            "_model_name": "LayoutModel",
            "justify_items": null,
            "grid_row": null,
            "max_height": null,
            "align_content": null,
            "visibility": null,
            "align_self": null,
            "height": null,
            "min_height": null,
            "padding": null,
            "grid_auto_rows": null,
            "grid_gap": null,
            "max_width": null,
            "order": null,
            "_view_module_version": "1.2.0",
            "grid_template_areas": null,
            "object_position": null,
            "object_fit": null,
            "grid_auto_columns": null,
            "margin": null,
            "display": null,
            "left": null
          }
        },
        "59d2ad34a9bd4f549cf829494e328c80": {
          "model_module": "@jupyter-widgets/controls",
          "model_name": "FloatProgressModel",
          "state": {
            "_view_name": "ProgressView",
            "style": "IPY_MODEL_532c8589f49a40a1abd368a1fc7ecd77",
            "_dom_classes": [],
            "description": "100%",
            "_model_name": "FloatProgressModel",
            "bar_style": "success",
            "max": 11615,
            "_view_module": "@jupyter-widgets/controls",
            "_model_module_version": "1.5.0",
            "value": 11615,
            "_view_count": null,
            "_view_module_version": "1.5.0",
            "orientation": "horizontal",
            "min": 0,
            "description_tooltip": null,
            "_model_module": "@jupyter-widgets/controls",
            "layout": "IPY_MODEL_d018f6e20b444b9489e81dc80c42000f"
          }
        },
        "4778ccb8997a41beabc402db6de88926": {
          "model_module": "@jupyter-widgets/controls",
          "model_name": "HTMLModel",
          "state": {
            "_view_name": "HTMLView",
            "style": "IPY_MODEL_ee09674c42ba4b7dbc70b4ad902390bd",
            "_dom_classes": [],
            "description": "",
            "_model_name": "HTMLModel",
            "placeholder": "​",
            "_view_module": "@jupyter-widgets/controls",
            "_model_module_version": "1.5.0",
            "value": " 11615/11615 [43:31&lt;00:00,  4.45it/s]",
            "_view_count": null,
            "_view_module_version": "1.5.0",
            "description_tooltip": null,
            "_model_module": "@jupyter-widgets/controls",
            "layout": "IPY_MODEL_c41a5f79e8ac4805b8f846e69e203bed"
          }
        },
        "532c8589f49a40a1abd368a1fc7ecd77": {
          "model_module": "@jupyter-widgets/controls",
          "model_name": "ProgressStyleModel",
          "state": {
            "_view_name": "StyleView",
            "_model_name": "ProgressStyleModel",
            "description_width": "initial",
            "_view_module": "@jupyter-widgets/base",
            "_model_module_version": "1.5.0",
            "_view_count": null,
            "_view_module_version": "1.2.0",
            "bar_color": null,
            "_model_module": "@jupyter-widgets/controls"
          }
        },
        "d018f6e20b444b9489e81dc80c42000f": {
          "model_module": "@jupyter-widgets/base",
          "model_name": "LayoutModel",
          "state": {
            "_view_name": "LayoutView",
            "grid_template_rows": null,
            "right": null,
            "justify_content": null,
            "_view_module": "@jupyter-widgets/base",
            "overflow": null,
            "_model_module_version": "1.2.0",
            "_view_count": null,
            "flex_flow": null,
            "width": null,
            "min_width": null,
            "border": null,
            "align_items": null,
            "bottom": null,
            "_model_module": "@jupyter-widgets/base",
            "top": null,
            "grid_column": null,
            "overflow_y": null,
            "overflow_x": null,
            "grid_auto_flow": null,
            "grid_area": null,
            "grid_template_columns": null,
            "flex": null,
            "_model_name": "LayoutModel",
            "justify_items": null,
            "grid_row": null,
            "max_height": null,
            "align_content": null,
            "visibility": null,
            "align_self": null,
            "height": null,
            "min_height": null,
            "padding": null,
            "grid_auto_rows": null,
            "grid_gap": null,
            "max_width": null,
            "order": null,
            "_view_module_version": "1.2.0",
            "grid_template_areas": null,
            "object_position": null,
            "object_fit": null,
            "grid_auto_columns": null,
            "margin": null,
            "display": null,
            "left": null
          }
        },
        "ee09674c42ba4b7dbc70b4ad902390bd": {
          "model_module": "@jupyter-widgets/controls",
          "model_name": "DescriptionStyleModel",
          "state": {
            "_view_name": "StyleView",
            "_model_name": "DescriptionStyleModel",
            "description_width": "",
            "_view_module": "@jupyter-widgets/base",
            "_model_module_version": "1.5.0",
            "_view_count": null,
            "_view_module_version": "1.2.0",
            "_model_module": "@jupyter-widgets/controls"
          }
        },
        "c41a5f79e8ac4805b8f846e69e203bed": {
          "model_module": "@jupyter-widgets/base",
          "model_name": "LayoutModel",
          "state": {
            "_view_name": "LayoutView",
            "grid_template_rows": null,
            "right": null,
            "justify_content": null,
            "_view_module": "@jupyter-widgets/base",
            "overflow": null,
            "_model_module_version": "1.2.0",
            "_view_count": null,
            "flex_flow": null,
            "width": null,
            "min_width": null,
            "border": null,
            "align_items": null,
            "bottom": null,
            "_model_module": "@jupyter-widgets/base",
            "top": null,
            "grid_column": null,
            "overflow_y": null,
            "overflow_x": null,
            "grid_auto_flow": null,
            "grid_area": null,
            "grid_template_columns": null,
            "flex": null,
            "_model_name": "LayoutModel",
            "justify_items": null,
            "grid_row": null,
            "max_height": null,
            "align_content": null,
            "visibility": null,
            "align_self": null,
            "height": null,
            "min_height": null,
            "padding": null,
            "grid_auto_rows": null,
            "grid_gap": null,
            "max_width": null,
            "order": null,
            "_view_module_version": "1.2.0",
            "grid_template_areas": null,
            "object_position": null,
            "object_fit": null,
            "grid_auto_columns": null,
            "margin": null,
            "display": null,
            "left": null
          }
        },
        "2a296f4cf0014db3923bc5c739602461": {
          "model_module": "@jupyter-widgets/controls",
          "model_name": "HBoxModel",
          "state": {
            "_view_name": "HBoxView",
            "_dom_classes": [],
            "_model_name": "HBoxModel",
            "_view_module": "@jupyter-widgets/controls",
            "_model_module_version": "1.5.0",
            "_view_count": null,
            "_view_module_version": "1.5.0",
            "box_style": "",
            "layout": "IPY_MODEL_17c1273087564c02bfd15198ea35ae3f",
            "_model_module": "@jupyter-widgets/controls",
            "children": [
              "IPY_MODEL_6bc1a988a66a44cc93a4735c304355b0",
              "IPY_MODEL_e20610fae12c49f5b9563150e2fa47e5"
            ]
          }
        },
        "17c1273087564c02bfd15198ea35ae3f": {
          "model_module": "@jupyter-widgets/base",
          "model_name": "LayoutModel",
          "state": {
            "_view_name": "LayoutView",
            "grid_template_rows": null,
            "right": null,
            "justify_content": null,
            "_view_module": "@jupyter-widgets/base",
            "overflow": null,
            "_model_module_version": "1.2.0",
            "_view_count": null,
            "flex_flow": null,
            "width": null,
            "min_width": null,
            "border": null,
            "align_items": null,
            "bottom": null,
            "_model_module": "@jupyter-widgets/base",
            "top": null,
            "grid_column": null,
            "overflow_y": null,
            "overflow_x": null,
            "grid_auto_flow": null,
            "grid_area": null,
            "grid_template_columns": null,
            "flex": null,
            "_model_name": "LayoutModel",
            "justify_items": null,
            "grid_row": null,
            "max_height": null,
            "align_content": null,
            "visibility": null,
            "align_self": null,
            "height": null,
            "min_height": null,
            "padding": null,
            "grid_auto_rows": null,
            "grid_gap": null,
            "max_width": null,
            "order": null,
            "_view_module_version": "1.2.0",
            "grid_template_areas": null,
            "object_position": null,
            "object_fit": null,
            "grid_auto_columns": null,
            "margin": null,
            "display": null,
            "left": null
          }
        },
        "6bc1a988a66a44cc93a4735c304355b0": {
          "model_module": "@jupyter-widgets/controls",
          "model_name": "FloatProgressModel",
          "state": {
            "_view_name": "ProgressView",
            "style": "IPY_MODEL_abb5e45aa46f49f4b9cda6ed0e039653",
            "_dom_classes": [],
            "description": "100%",
            "_model_name": "FloatProgressModel",
            "bar_style": "success",
            "max": 2861,
            "_view_module": "@jupyter-widgets/controls",
            "_model_module_version": "1.5.0",
            "value": 2861,
            "_view_count": null,
            "_view_module_version": "1.5.0",
            "orientation": "horizontal",
            "min": 0,
            "description_tooltip": null,
            "_model_module": "@jupyter-widgets/controls",
            "layout": "IPY_MODEL_8b6f0d8ed145455a95228c95e4d763ea"
          }
        },
        "e20610fae12c49f5b9563150e2fa47e5": {
          "model_module": "@jupyter-widgets/controls",
          "model_name": "HTMLModel",
          "state": {
            "_view_name": "HTMLView",
            "style": "IPY_MODEL_1ec423851e6d40ba92329b277387bb2e",
            "_dom_classes": [],
            "description": "",
            "_model_name": "HTMLModel",
            "placeholder": "​",
            "_view_module": "@jupyter-widgets/controls",
            "_model_module_version": "1.5.0",
            "value": " 2861/2861 [14:21&lt;00:00,  3.32it/s]",
            "_view_count": null,
            "_view_module_version": "1.5.0",
            "description_tooltip": null,
            "_model_module": "@jupyter-widgets/controls",
            "layout": "IPY_MODEL_608faaca0ed54ff2b2ce4f866aee516d"
          }
        },
        "abb5e45aa46f49f4b9cda6ed0e039653": {
          "model_module": "@jupyter-widgets/controls",
          "model_name": "ProgressStyleModel",
          "state": {
            "_view_name": "StyleView",
            "_model_name": "ProgressStyleModel",
            "description_width": "initial",
            "_view_module": "@jupyter-widgets/base",
            "_model_module_version": "1.5.0",
            "_view_count": null,
            "_view_module_version": "1.2.0",
            "bar_color": null,
            "_model_module": "@jupyter-widgets/controls"
          }
        },
        "8b6f0d8ed145455a95228c95e4d763ea": {
          "model_module": "@jupyter-widgets/base",
          "model_name": "LayoutModel",
          "state": {
            "_view_name": "LayoutView",
            "grid_template_rows": null,
            "right": null,
            "justify_content": null,
            "_view_module": "@jupyter-widgets/base",
            "overflow": null,
            "_model_module_version": "1.2.0",
            "_view_count": null,
            "flex_flow": null,
            "width": null,
            "min_width": null,
            "border": null,
            "align_items": null,
            "bottom": null,
            "_model_module": "@jupyter-widgets/base",
            "top": null,
            "grid_column": null,
            "overflow_y": null,
            "overflow_x": null,
            "grid_auto_flow": null,
            "grid_area": null,
            "grid_template_columns": null,
            "flex": null,
            "_model_name": "LayoutModel",
            "justify_items": null,
            "grid_row": null,
            "max_height": null,
            "align_content": null,
            "visibility": null,
            "align_self": null,
            "height": null,
            "min_height": null,
            "padding": null,
            "grid_auto_rows": null,
            "grid_gap": null,
            "max_width": null,
            "order": null,
            "_view_module_version": "1.2.0",
            "grid_template_areas": null,
            "object_position": null,
            "object_fit": null,
            "grid_auto_columns": null,
            "margin": null,
            "display": null,
            "left": null
          }
        },
        "1ec423851e6d40ba92329b277387bb2e": {
          "model_module": "@jupyter-widgets/controls",
          "model_name": "DescriptionStyleModel",
          "state": {
            "_view_name": "StyleView",
            "_model_name": "DescriptionStyleModel",
            "description_width": "",
            "_view_module": "@jupyter-widgets/base",
            "_model_module_version": "1.5.0",
            "_view_count": null,
            "_view_module_version": "1.2.0",
            "_model_module": "@jupyter-widgets/controls"
          }
        },
        "608faaca0ed54ff2b2ce4f866aee516d": {
          "model_module": "@jupyter-widgets/base",
          "model_name": "LayoutModel",
          "state": {
            "_view_name": "LayoutView",
            "grid_template_rows": null,
            "right": null,
            "justify_content": null,
            "_view_module": "@jupyter-widgets/base",
            "overflow": null,
            "_model_module_version": "1.2.0",
            "_view_count": null,
            "flex_flow": null,
            "width": null,
            "min_width": null,
            "border": null,
            "align_items": null,
            "bottom": null,
            "_model_module": "@jupyter-widgets/base",
            "top": null,
            "grid_column": null,
            "overflow_y": null,
            "overflow_x": null,
            "grid_auto_flow": null,
            "grid_area": null,
            "grid_template_columns": null,
            "flex": null,
            "_model_name": "LayoutModel",
            "justify_items": null,
            "grid_row": null,
            "max_height": null,
            "align_content": null,
            "visibility": null,
            "align_self": null,
            "height": null,
            "min_height": null,
            "padding": null,
            "grid_auto_rows": null,
            "grid_gap": null,
            "max_width": null,
            "order": null,
            "_view_module_version": "1.2.0",
            "grid_template_areas": null,
            "object_position": null,
            "object_fit": null,
            "grid_auto_columns": null,
            "margin": null,
            "display": null,
            "left": null
          }
        },
        "e4cef2890a1b4a3ba355bb51cfe386ea": {
          "model_module": "@jupyter-widgets/controls",
          "model_name": "HBoxModel",
          "state": {
            "_view_name": "HBoxView",
            "_dom_classes": [],
            "_model_name": "HBoxModel",
            "_view_module": "@jupyter-widgets/controls",
            "_model_module_version": "1.5.0",
            "_view_count": null,
            "_view_module_version": "1.5.0",
            "box_style": "",
            "layout": "IPY_MODEL_0ca61b5aa02e466789ce3d93bbf4b64e",
            "_model_module": "@jupyter-widgets/controls",
            "children": [
              "IPY_MODEL_df622e8c6bd5415b8d50cb5db6e7870d",
              "IPY_MODEL_eaa28f4ef4eb4a7eb2d85426f13c65c2"
            ]
          }
        },
        "0ca61b5aa02e466789ce3d93bbf4b64e": {
          "model_module": "@jupyter-widgets/base",
          "model_name": "LayoutModel",
          "state": {
            "_view_name": "LayoutView",
            "grid_template_rows": null,
            "right": null,
            "justify_content": null,
            "_view_module": "@jupyter-widgets/base",
            "overflow": null,
            "_model_module_version": "1.2.0",
            "_view_count": null,
            "flex_flow": null,
            "width": null,
            "min_width": null,
            "border": null,
            "align_items": null,
            "bottom": null,
            "_model_module": "@jupyter-widgets/base",
            "top": null,
            "grid_column": null,
            "overflow_y": null,
            "overflow_x": null,
            "grid_auto_flow": null,
            "grid_area": null,
            "grid_template_columns": null,
            "flex": null,
            "_model_name": "LayoutModel",
            "justify_items": null,
            "grid_row": null,
            "max_height": null,
            "align_content": null,
            "visibility": null,
            "align_self": null,
            "height": null,
            "min_height": null,
            "padding": null,
            "grid_auto_rows": null,
            "grid_gap": null,
            "max_width": null,
            "order": null,
            "_view_module_version": "1.2.0",
            "grid_template_areas": null,
            "object_position": null,
            "object_fit": null,
            "grid_auto_columns": null,
            "margin": null,
            "display": null,
            "left": null
          }
        },
        "df622e8c6bd5415b8d50cb5db6e7870d": {
          "model_module": "@jupyter-widgets/controls",
          "model_name": "FloatProgressModel",
          "state": {
            "_view_name": "ProgressView",
            "style": "IPY_MODEL_8294279cbbb6456cadee381b71cb392c",
            "_dom_classes": [],
            "description": "100%",
            "_model_name": "FloatProgressModel",
            "bar_style": "success",
            "max": 2861,
            "_view_module": "@jupyter-widgets/controls",
            "_model_module_version": "1.5.0",
            "value": 2861,
            "_view_count": null,
            "_view_module_version": "1.5.0",
            "orientation": "horizontal",
            "min": 0,
            "description_tooltip": null,
            "_model_module": "@jupyter-widgets/controls",
            "layout": "IPY_MODEL_8b99d46c652f4f688dddc7a9da3a4fcb"
          }
        },
        "eaa28f4ef4eb4a7eb2d85426f13c65c2": {
          "model_module": "@jupyter-widgets/controls",
          "model_name": "HTMLModel",
          "state": {
            "_view_name": "HTMLView",
            "style": "IPY_MODEL_eba29afd26574adbb19c92e6364de264",
            "_dom_classes": [],
            "description": "",
            "_model_name": "HTMLModel",
            "placeholder": "​",
            "_view_module": "@jupyter-widgets/controls",
            "_model_module_version": "1.5.0",
            "value": " 2861/2861 [07:11&lt;00:00,  6.63it/s]",
            "_view_count": null,
            "_view_module_version": "1.5.0",
            "description_tooltip": null,
            "_model_module": "@jupyter-widgets/controls",
            "layout": "IPY_MODEL_ea8d090380a145ceaafe4262bc34e72e"
          }
        },
        "8294279cbbb6456cadee381b71cb392c": {
          "model_module": "@jupyter-widgets/controls",
          "model_name": "ProgressStyleModel",
          "state": {
            "_view_name": "StyleView",
            "_model_name": "ProgressStyleModel",
            "description_width": "initial",
            "_view_module": "@jupyter-widgets/base",
            "_model_module_version": "1.5.0",
            "_view_count": null,
            "_view_module_version": "1.2.0",
            "bar_color": null,
            "_model_module": "@jupyter-widgets/controls"
          }
        },
        "8b99d46c652f4f688dddc7a9da3a4fcb": {
          "model_module": "@jupyter-widgets/base",
          "model_name": "LayoutModel",
          "state": {
            "_view_name": "LayoutView",
            "grid_template_rows": null,
            "right": null,
            "justify_content": null,
            "_view_module": "@jupyter-widgets/base",
            "overflow": null,
            "_model_module_version": "1.2.0",
            "_view_count": null,
            "flex_flow": null,
            "width": null,
            "min_width": null,
            "border": null,
            "align_items": null,
            "bottom": null,
            "_model_module": "@jupyter-widgets/base",
            "top": null,
            "grid_column": null,
            "overflow_y": null,
            "overflow_x": null,
            "grid_auto_flow": null,
            "grid_area": null,
            "grid_template_columns": null,
            "flex": null,
            "_model_name": "LayoutModel",
            "justify_items": null,
            "grid_row": null,
            "max_height": null,
            "align_content": null,
            "visibility": null,
            "align_self": null,
            "height": null,
            "min_height": null,
            "padding": null,
            "grid_auto_rows": null,
            "grid_gap": null,
            "max_width": null,
            "order": null,
            "_view_module_version": "1.2.0",
            "grid_template_areas": null,
            "object_position": null,
            "object_fit": null,
            "grid_auto_columns": null,
            "margin": null,
            "display": null,
            "left": null
          }
        },
        "eba29afd26574adbb19c92e6364de264": {
          "model_module": "@jupyter-widgets/controls",
          "model_name": "DescriptionStyleModel",
          "state": {
            "_view_name": "StyleView",
            "_model_name": "DescriptionStyleModel",
            "description_width": "",
            "_view_module": "@jupyter-widgets/base",
            "_model_module_version": "1.5.0",
            "_view_count": null,
            "_view_module_version": "1.2.0",
            "_model_module": "@jupyter-widgets/controls"
          }
        },
        "ea8d090380a145ceaafe4262bc34e72e": {
          "model_module": "@jupyter-widgets/base",
          "model_name": "LayoutModel",
          "state": {
            "_view_name": "LayoutView",
            "grid_template_rows": null,
            "right": null,
            "justify_content": null,
            "_view_module": "@jupyter-widgets/base",
            "overflow": null,
            "_model_module_version": "1.2.0",
            "_view_count": null,
            "flex_flow": null,
            "width": null,
            "min_width": null,
            "border": null,
            "align_items": null,
            "bottom": null,
            "_model_module": "@jupyter-widgets/base",
            "top": null,
            "grid_column": null,
            "overflow_y": null,
            "overflow_x": null,
            "grid_auto_flow": null,
            "grid_area": null,
            "grid_template_columns": null,
            "flex": null,
            "_model_name": "LayoutModel",
            "justify_items": null,
            "grid_row": null,
            "max_height": null,
            "align_content": null,
            "visibility": null,
            "align_self": null,
            "height": null,
            "min_height": null,
            "padding": null,
            "grid_auto_rows": null,
            "grid_gap": null,
            "max_width": null,
            "order": null,
            "_view_module_version": "1.2.0",
            "grid_template_areas": null,
            "object_position": null,
            "object_fit": null,
            "grid_auto_columns": null,
            "margin": null,
            "display": null,
            "left": null
          }
        }
      }
    }
  },
  "cells": [
    {
      "cell_type": "markdown",
      "metadata": {
        "id": "view-in-github",
        "colab_type": "text"
      },
      "source": [
        "<a href=\"https://colab.research.google.com/github/thanit456/NeuroSummary/blob/master/tf2_seq2seq.ipynb\" target=\"_parent\"><img src=\"https://colab.research.google.com/assets/colab-badge.svg\" alt=\"Open In Colab\"/></a>"
      ]
    },
    {
      "cell_type": "code",
      "metadata": {
        "id": "3I_74sVLkOas",
        "colab_type": "code",
        "colab": {}
      },
      "source": [
        "import tensorflow as tf\n",
        "\n",
        "import matplotlib.pyplot as plt\n",
        "import matplotlib.ticker as ticker\n",
        "from sklearn.model_selection import train_test_split\n",
        "\n",
        "\n",
        "import pickle\n",
        "import unicodedata\n",
        "import re\n",
        "import numpy as np\n",
        "import os\n",
        "import io\n",
        "import time"
      ],
      "execution_count": 0,
      "outputs": []
    },
    {
      "cell_type": "code",
      "metadata": {
        "id": "DclqMXRWgzEQ",
        "colab_type": "code",
        "outputId": "fd26653a-fa1f-4b95-ee53-8044510123a1",
        "colab": {
          "base_uri": "https://localhost:8080/",
          "height": 309
        }
      },
      "source": [
        "!wget https://github.com/Phonbopit/sarabun-webfont/raw/master/fonts/thsarabunnew-webfont.ttf\n",
        "import matplotlib.pyplot as plt\n",
        "\n",
        "import matplotlib as mpl\n",
        "mpl.font_manager.fontManager.addfont('thsarabunnew-webfont.ttf') # 3.2+\n",
        "mpl.rc('font', family='TH Sarabun New')\n",
        "\n",
        "plt.rcParams['font.family']='TH Sarabun New'  \n",
        "%matplotlib inline"
      ],
      "execution_count": 0,
      "outputs": [
        {
          "output_type": "stream",
          "text": [
            "--2020-05-21 04:51:58--  https://github.com/Phonbopit/sarabun-webfont/raw/master/fonts/thsarabunnew-webfont.ttf\n",
            "Resolving github.com (github.com)... 140.82.112.3\n",
            "Connecting to github.com (github.com)|140.82.112.3|:443... connected.\n",
            "HTTP request sent, awaiting response... 302 Found\n",
            "Location: https://raw.githubusercontent.com/Phonbopit/sarabun-webfont/master/fonts/thsarabunnew-webfont.ttf [following]\n",
            "--2020-05-21 04:51:58--  https://raw.githubusercontent.com/Phonbopit/sarabun-webfont/master/fonts/thsarabunnew-webfont.ttf\n",
            "Resolving raw.githubusercontent.com (raw.githubusercontent.com)... 151.101.0.133, 151.101.64.133, 151.101.128.133, ...\n",
            "Connecting to raw.githubusercontent.com (raw.githubusercontent.com)|151.101.0.133|:443... connected.\n",
            "HTTP request sent, awaiting response... 200 OK\n",
            "Length: 98308 (96K) [application/octet-stream]\n",
            "Saving to: ‘thsarabunnew-webfont.ttf’\n",
            "\n",
            "thsarabunnew-webfon 100%[===================>]  96.00K  --.-KB/s    in 0.03s   \n",
            "\n",
            "2020-05-21 04:51:59 (3.01 MB/s) - ‘thsarabunnew-webfont.ttf’ saved [98308/98308]\n",
            "\n"
          ],
          "name": "stdout"
        }
      ]
    },
    {
      "cell_type": "markdown",
      "metadata": {
        "id": "ac-1l8f2ol8Y",
        "colab_type": "text"
      },
      "source": [
        "# My own data preparation"
      ]
    },
    {
      "cell_type": "code",
      "metadata": {
        "id": "GBizBXMZmYTj",
        "colab_type": "code",
        "colab": {}
      },
      "source": [
        "with open('/content/drive/Shared drives/NeuroSummary/data/b_data_playground/thai_gov_split/train_v2.pkl', 'rb') as f:\n",
        "  train_set = pickle.load(f)\n",
        "\n",
        "with open('/content/drive/Shared drives/NeuroSummary/data/b_data_playground/thai_gov_split/val_v2.pkl', 'rb') as f:\n",
        "  val_set = pickle.load(f)\n",
        "\n",
        "with open('/content/drive/Shared drives/NeuroSummary/data/b_data_playground/thai_gov_split/test_v2.pkl', 'rb') as f:\n",
        "  test_set = pickle.load(f)"
      ],
      "execution_count": 0,
      "outputs": []
    },
    {
      "cell_type": "code",
      "metadata": {
        "id": "GiBgSduzmt5J",
        "colab_type": "code",
        "outputId": "052d66b4-2d9c-4a74-8b10-b5f850359720",
        "colab": {
          "base_uri": "https://localhost:8080/",
          "height": 204
        }
      },
      "source": [
        "train_set.head()"
      ],
      "execution_count": 0,
      "outputs": [
        {
          "output_type": "execute_result",
          "data": {
            "text/html": [
              "<div>\n",
              "<style scoped>\n",
              "    .dataframe tbody tr th:only-of-type {\n",
              "        vertical-align: middle;\n",
              "    }\n",
              "\n",
              "    .dataframe tbody tr th {\n",
              "        vertical-align: top;\n",
              "    }\n",
              "\n",
              "    .dataframe thead th {\n",
              "        text-align: right;\n",
              "    }\n",
              "</style>\n",
              "<table border=\"1\" class=\"dataframe\">\n",
              "  <thead>\n",
              "    <tr style=\"text-align: right;\">\n",
              "      <th></th>\n",
              "      <th>content</th>\n",
              "      <th>headline</th>\n",
              "      <th>class</th>\n",
              "    </tr>\n",
              "  </thead>\n",
              "  <tbody>\n",
              "    <tr>\n",
              "      <th>11629</th>\n",
              "      <td>[กระทรวงทรัพยากรธรรมชาติ, และสิ่ง, แวดล้อม, โด...</td>\n",
              "      <td>[ทส., จัด, การ, ประชุม, การ, ลด, ปริมาณ, ขยะ, ...</td>\n",
              "      <td>ด้านความมั่นคง</td>\n",
              "    </tr>\n",
              "    <tr>\n",
              "      <th>8470</th>\n",
              "      <td>[วัน, นี้, 28, มิถุนายน, 2560, เวลา, 11, ., 30...</td>\n",
              "      <td>[นายก, รัฐมนตรี, เผย, ต้องการ, ให้, การ, เปลี่...</td>\n",
              "      <td>ข่าวทำเนียบรัฐบาล</td>\n",
              "    </tr>\n",
              "    <tr>\n",
              "      <th>6389</th>\n",
              "      <td>[เมื่อ, วัน, จันทร์, ที่, 9, กรกฎาคม, 2561, เว...</td>\n",
              "      <td>[ม.ล.ปนัดดาฯ, กล่าว, สุนทรพจน์, ใน, พิธี, เปิด...</td>\n",
              "      <td>ด้านกฎหมายฯ</td>\n",
              "    </tr>\n",
              "    <tr>\n",
              "      <th>1058</th>\n",
              "      <td>[รอง, ปลัด, กระทรวงดิจิทัลฯ, นางวรรณพร เทพหัสด...</td>\n",
              "      <td>[รอง, ปลัด, กระทรวงดิจิทัลฯ, เปิด, งาน, การ, พ...</td>\n",
              "      <td>ด้านสังคม</td>\n",
              "    </tr>\n",
              "    <tr>\n",
              "      <th>6155</th>\n",
              "      <td>[รัฐบาล, เร่งรัด, ขับ, เคลื่อน, งาน, สำคัญ, เพ...</td>\n",
              "      <td>[เร่ง, เดินหน้า, 5, โครงการ, ลด, ความ, เหลื่อม...</td>\n",
              "      <td>รายการวิทยุไทยคู่ฟ้า</td>\n",
              "    </tr>\n",
              "  </tbody>\n",
              "</table>\n",
              "</div>"
            ],
            "text/plain": [
              "                                                 content  ...                 class\n",
              "11629  [กระทรวงทรัพยากรธรรมชาติ, และสิ่ง, แวดล้อม, โด...  ...        ด้านความมั่นคง\n",
              "8470   [วัน, นี้, 28, มิถุนายน, 2560, เวลา, 11, ., 30...  ...     ข่าวทำเนียบรัฐบาล\n",
              "6389   [เมื่อ, วัน, จันทร์, ที่, 9, กรกฎาคม, 2561, เว...  ...           ด้านกฎหมายฯ\n",
              "1058   [รอง, ปลัด, กระทรวงดิจิทัลฯ, นางวรรณพร เทพหัสด...  ...             ด้านสังคม\n",
              "6155   [รัฐบาล, เร่งรัด, ขับ, เคลื่อน, งาน, สำคัญ, เพ...  ...  รายการวิทยุไทยคู่ฟ้า\n",
              "\n",
              "[5 rows x 3 columns]"
            ]
          },
          "metadata": {
            "tags": []
          },
          "execution_count": 97
        }
      ]
    },
    {
      "cell_type": "code",
      "metadata": {
        "id": "HyKepj1KnYkC",
        "colab_type": "code",
        "colab": {}
      },
      "source": [
        "## ! use only n first words for headline generation\n",
        "def use_first_n_words(df_content, n, start_stop):\n",
        "  new_ls = []\n",
        "  for content in df_content:\n",
        "    if start_stop:\n",
        "      tmp = content[:n-2]\n",
        "      tmp.insert(0, '<s>')\n",
        "      tmp.append('</s>')\n",
        "    else:\n",
        "      tmp = content[:n]\n",
        "    new_ls.append(tmp)\n",
        "  return new_ls\n",
        "\n",
        "# def use_first_n_words(df_content, n, start_stop=False):\n",
        "#   new_ls = []\n",
        "#   for content in df_content:\n",
        "#     tmp = content[:n]\n",
        "#     new_ls.append(tmp)\n",
        "#   return new_ls\n",
        "\n",
        "#define_n_first_words\n",
        "n_first_content = 50\n",
        "n_first_headline = 22\n",
        "\n",
        "#trim sentence\n",
        "words_train_contents = use_first_n_words(train_set['content'], n=n_first_content,start_stop=False)\n",
        "words_train_headlines = use_first_n_words(train_set['headline'], n=n_first_headline,start_stop=True)\n",
        "words_val_contents = use_first_n_words(val_set['content'], n=n_first_content, start_stop=False)\n",
        "words_val_headlines = use_first_n_words(val_set['headline'], n=n_first_headline,start_stop=True)\n",
        "words_test_contents = use_first_n_words(test_set['content'], n=n_first_content, start_stop=False)\n",
        "words_test_headlines = use_first_n_words(test_set['headline'], n=n_first_headline, start_stop=True)\n",
        "# words_val_headlines = use_first_n_words(val_set['headline'], n=n_first_headline,start_stop=False)\n",
        "# words_test_contents = use_first_n_words(test_set['content'], n=n_first_content, start_stop=False)\n",
        "# words_test_headlines = use_first_n_words(test_set['headline'], n=n_first_headline, start_stop=False)\n",
        "\n",
        "\n",
        "# generate gold_sum\n",
        "gold_sum_train = list(map(lambda x: \" \".join(x),words_train_headlines))\n",
        "gold_sum_val = list(map(lambda x: \" \".join(x),words_val_headlines))\n",
        "gold_sum_test = list(map(lambda x: \" \".join(x),words_test_headlines))"
      ],
      "execution_count": 0,
      "outputs": []
    },
    {
      "cell_type": "code",
      "metadata": {
        "id": "d9NaFhjyoQih",
        "colab_type": "code",
        "outputId": "0560bdc0-41bd-4f2d-f8fa-b007f413bf16",
        "colab": {
          "base_uri": "https://localhost:8080/",
          "height": 187
        }
      },
      "source": [
        "import collections\n",
        "def create_index(input_data,threshold):\n",
        "    input_text = [data for data in input_data]\n",
        "    # counts of word type has to be above or equal threshold\n",
        "    words = [word for sublist in input_text for word in sublist]\n",
        "    print(\"words :\",words)\n",
        "    word_count_all = list()\n",
        "    word_count = list()\n",
        "    #use set and len to get the number of unique words\n",
        "    word_count_all.extend(collections.Counter(words).most_common(len(set(words))))\n",
        "    unkcnt = 0\n",
        "    for (word,cnt) in word_count_all:\n",
        "      if cnt >= threshold:\n",
        "        word_count.append((word,cnt))\n",
        "      else:\n",
        "        unkcnt+=cnt\n",
        "    #include a token for unknown word\n",
        "    word_count.append((\"UNK\",unkcnt))\n",
        "    #print out 10 most frequent words\n",
        "    # print(\"top 10: \",word_count[:10])\n",
        "    # print(\"bottom 10: \",word_count[-10:])\n",
        "    dictionary = dict()\n",
        "    dictionary[\"for_keras_zero_padding\"] = 0\n",
        "    for word in word_count:\n",
        "      dictionary[word[0]] = len(dictionary)\n",
        "    # dictionary['<s>'] = len(dictionary) \n",
        "    # dictionary['</s>'] = len(dictionary)\n",
        "    reverse_dictionary = dict(zip(dictionary.values(), dictionary.keys()))\n",
        "    \n",
        "    return dictionary, reverse_dictionary\n",
        "dict_t, rev_dict_t = create_index(input_data=words_train_contents+words_train_headlines,threshold=0)\n",
        "# dict_t, rev_dict_t = create_index(input_data=words_train_contents,threshold=0)\n",
        "\n",
        "# dict_stop_t, rev_dict_stop_t = create_index(input_data=words_70_train_stop_contents+words_20_train_stop_headlines,threshold=0)\n",
        "print('Vocab size (Content): ',len(dict_t))\n",
        "# print('Vocab stop ?size (Content): ',len(dict_stop_t))\n"
      ],
      "execution_count": 0,
      "outputs": [
        {
          "output_type": "stream",
          "text": [
            "words : "
          ],
          "name": "stdout"
        },
        {
          "output_type": "stream",
          "text": [
            "IOPub data rate exceeded.\n",
            "The notebook server will temporarily stop sending output\n",
            "to the client in order to avoid crashing it.\n",
            "To change this limit, set the config variable\n",
            "`--NotebookApp.iopub_data_rate_limit`.\n",
            "\n",
            "Current values:\n",
            "NotebookApp.iopub_data_rate_limit=1000000.0 (bytes/sec)\n",
            "NotebookApp.rate_limit_window=3.0 (secs)\n",
            "\n"
          ],
          "name": "stderr"
        }
      ]
    },
    {
      "cell_type": "code",
      "metadata": {
        "id": "0Uq3wos_6dOz",
        "colab_type": "code",
        "colab": {}
      },
      "source": [
        "# with open('/content/drive/Shared drives/NeuroSummary/data/two_data_playground/dictionary/seq2seq_gru_additive/gru_dict.pkl', 'wb') as f:\n",
        "#   pickle.dump(dict_t, f)\n",
        "# with open('/content/drive/Shared drives/NeuroSummary/data/two_data_playground/dictionary/seq2seq_gru_additive/gru_rev_dict.pkl', 'wb') as f:\n",
        "#   pickle.dump(rev_dict_t, f)"
      ],
      "execution_count": 0,
      "outputs": []
    },
    {
      "cell_type": "code",
      "metadata": {
        "id": "gLXP2Q0MoXxd",
        "colab_type": "code",
        "colab": {}
      },
      "source": [
        "def convert(input_data,dictionary) :\n",
        "  X = list()\n",
        "  for data in input_data:\n",
        "    sub_data = []\n",
        "    for word in data:\n",
        "      if word in dictionary:\n",
        "        sub_data.append(dictionary[word])\n",
        "      else:\n",
        "        sub_data.append(dictionary[\"UNK\"])\n",
        "    X.append(sub_data)\n",
        "  return np.array(X)"
      ],
      "execution_count": 0,
      "outputs": []
    },
    {
      "cell_type": "code",
      "metadata": {
        "id": "oywVf0IJoh0R",
        "colab_type": "code",
        "colab": {}
      },
      "source": [
        "X_train = convert(words_train_contents,dict_t)\n",
        "y_train = convert(words_train_headlines,dict_t)\n",
        "X_val = convert(words_val_contents,dict_t)\n",
        "y_val = convert(words_val_headlines,dict_t)\n",
        "X_test = convert(words_test_contents,dict_t)\n",
        "y_test = convert(words_test_headlines,dict_t)"
      ],
      "execution_count": 0,
      "outputs": []
    },
    {
      "cell_type": "code",
      "metadata": {
        "id": "SYItOIK1ppV8",
        "colab_type": "code",
        "colab": {}
      },
      "source": [
        "from tensorflow.keras.preprocessing.sequence import pad_sequences\n",
        "\n",
        "maxlen_input = 50\n",
        "maxlen_output = 22\n",
        "\n",
        "X_train = pad_sequences(X_train, maxlen=maxlen_input, padding='post')\n",
        "y_train = pad_sequences(y_train, maxlen=maxlen_output, padding='post')\n",
        "X_val = pad_sequences(X_val, maxlen=maxlen_input, padding='post')\n",
        "y_val = pad_sequences(y_val, maxlen=maxlen_output, padding='post')\n",
        "X_test = pad_sequences(X_test, maxlen=maxlen_input, padding='post')\n",
        "y_test = pad_sequences(y_test, maxlen=maxlen_output, padding='post')"
      ],
      "execution_count": 0,
      "outputs": []
    },
    {
      "cell_type": "markdown",
      "metadata": {
        "id": "ySfS2GaJb2eZ",
        "colab_type": "text"
      },
      "source": [
        "# TF 2.0 data preparation"
      ]
    },
    {
      "cell_type": "code",
      "metadata": {
        "id": "sX_mhTL6kp0J",
        "colab_type": "code",
        "colab": {}
      },
      "source": [
        "BUFFER_SIZE = len(X_train)\n",
        "BATCH_SIZE = 64\n",
        "VAL_BATCH_SIZE = 64\n",
        "VAL_BUFFER_SIZE = len(X_val)\n",
        "steps_per_epoch = len(X_train)//BATCH_SIZE\n",
        "val_steps_per_epoch = len(X_val)//VAL_BATCH_SIZE\n",
        "embedding_dim = 256\n",
        "units = 1024\n",
        "vocab_inp_size = len(dict_t)\n",
        "vocab_tar_size = len(dict_t)\n",
        "\n",
        "dataset = tf.data.Dataset.from_tensor_slices((X_train, y_train)).shuffle(BUFFER_SIZE)\n",
        "dataset = dataset.batch(BATCH_SIZE, drop_remainder=True)"
      ],
      "execution_count": 0,
      "outputs": []
    },
    {
      "cell_type": "code",
      "metadata": {
        "id": "lLMxeodJUW4C",
        "colab_type": "code",
        "colab": {}
      },
      "source": [
        "val_dataset = tf.data.Dataset.from_tensor_slices((X_val, y_val)).shuffle(VAL_BUFFER_SIZE)\n",
        "val_dataset = val_dataset.batch(VAL_BATCH_SIZE, drop_remainder=True)"
      ],
      "execution_count": 0,
      "outputs": []
    },
    {
      "cell_type": "code",
      "metadata": {
        "id": "AEfgLUCkU2Id",
        "colab_type": "code",
        "outputId": "1199ae06-fec2-44c4-d6af-69e5df010a42",
        "colab": {
          "base_uri": "https://localhost:8080/",
          "height": 34
        }
      },
      "source": [
        "val_example_input_batch, val_example_target_batch = next(iter(val_dataset))\n",
        "val_example_input_batch.shape, val_example_target_batch.shape"
      ],
      "execution_count": 0,
      "outputs": [
        {
          "output_type": "execute_result",
          "data": {
            "text/plain": [
              "(TensorShape([64, 50]), TensorShape([64, 22]))"
            ]
          },
          "metadata": {
            "tags": []
          },
          "execution_count": 105
        }
      ]
    },
    {
      "cell_type": "code",
      "metadata": {
        "id": "NC2QzEqDksWA",
        "colab_type": "code",
        "outputId": "9524e678-19ca-4d93-bf37-4787d0116ade",
        "colab": {
          "base_uri": "https://localhost:8080/",
          "height": 34
        }
      },
      "source": [
        "example_input_batch, example_target_batch = next(iter(dataset))\n",
        "example_input_batch.shape, example_target_batch.shape"
      ],
      "execution_count": 0,
      "outputs": [
        {
          "output_type": "execute_result",
          "data": {
            "text/plain": [
              "(TensorShape([64, 50]), TensorShape([64, 22]))"
            ]
          },
          "metadata": {
            "tags": []
          },
          "execution_count": 106
        }
      ]
    },
    {
      "cell_type": "code",
      "metadata": {
        "id": "QlOkn2uMkt4Q",
        "colab_type": "code",
        "colab": {}
      },
      "source": [
        "class Encoder(tf.keras.Model):\n",
        "  def __init__(self, vocab_size, embedding_dim, enc_units, batch_sz):\n",
        "    super(Encoder, self).__init__()\n",
        "    self.batch_sz = batch_sz\n",
        "    self.enc_units = enc_units\n",
        "    self.embedding = tf.keras.layers.Embedding(vocab_size, embedding_dim)\n",
        "    self.gru = tf.keras.layers.GRU(self.enc_units,\n",
        "                                   return_sequences=True,\n",
        "                                   return_state=True,\n",
        "                                   recurrent_initializer='glorot_uniform')\n",
        "\n",
        "  def call(self, x, hidden):\n",
        "    x = self.embedding(x)\n",
        "    output, state = self.gru(x, initial_state = hidden)\n",
        "    return output, state\n",
        "\n",
        "  def initialize_hidden_state(self):\n",
        "    return tf.zeros((self.batch_sz, self.enc_units))"
      ],
      "execution_count": 0,
      "outputs": []
    },
    {
      "cell_type": "code",
      "metadata": {
        "id": "YUE-AfmOaHHh",
        "colab_type": "code",
        "outputId": "c20de1e5-02a4-4f51-81cc-e311e42b5266",
        "colab": {
          "base_uri": "https://localhost:8080/",
          "height": 85
        }
      },
      "source": [
        "print(vocab_inp_size)\n",
        "print(embedding_dim)\n",
        "print(units)\n",
        "print(BATCH_SIZE)"
      ],
      "execution_count": 0,
      "outputs": [
        {
          "output_type": "stream",
          "text": [
            "25313\n",
            "256\n",
            "1024\n",
            "64\n"
          ],
          "name": "stdout"
        }
      ]
    },
    {
      "cell_type": "code",
      "metadata": {
        "id": "TEwHO5I6kvvj",
        "colab_type": "code",
        "outputId": "e0b3d9cf-3659-4b58-f1d3-5a094233a5bf",
        "colab": {
          "base_uri": "https://localhost:8080/",
          "height": 51
        }
      },
      "source": [
        "encoder = Encoder(vocab_inp_size, embedding_dim, units, BATCH_SIZE)\n",
        "\n",
        "# sample input\n",
        "sample_hidden = encoder.initialize_hidden_state()\n",
        "sample_output, sample_hidden = encoder(example_input_batch, sample_hidden)\n",
        "print ('Encoder output shape: (batch size, sequence length, units) {}'.format(sample_output.shape))\n",
        "print ('Encoder Hidden state shape: (batch size, units) {}'.format(sample_hidden.shape))"
      ],
      "execution_count": 0,
      "outputs": [
        {
          "output_type": "stream",
          "text": [
            "Encoder output shape: (batch size, sequence length, units) (64, 50, 1024)\n",
            "Encoder Hidden state shape: (batch size, units) (64, 1024)\n"
          ],
          "name": "stdout"
        }
      ]
    },
    {
      "cell_type": "code",
      "metadata": {
        "id": "lEiqYV-4aW0W",
        "colab_type": "code",
        "outputId": "648cf641-26d2-4532-9b07-5cf7e2930669",
        "colab": {
          "base_uri": "https://localhost:8080/",
          "height": 51
        }
      },
      "source": [
        "# sample input\n",
        "sample_hidden = encoder.initialize_hidden_state()\n",
        "print(sample_hidden.shape)\n",
        "print(example_input_batch.shape)"
      ],
      "execution_count": 0,
      "outputs": [
        {
          "output_type": "stream",
          "text": [
            "(64, 1024)\n",
            "(64, 50)\n"
          ],
          "name": "stdout"
        }
      ]
    },
    {
      "cell_type": "markdown",
      "metadata": {
        "id": "Igl2NA8YuKLb",
        "colab_type": "text"
      },
      "source": [
        "# Additive attention"
      ]
    },
    {
      "cell_type": "code",
      "metadata": {
        "id": "ZlTq-DvlkxKk",
        "colab_type": "code",
        "colab": {}
      },
      "source": [
        "class BahdanauAttention(tf.keras.layers.Layer):\n",
        "  def __init__(self, units):\n",
        "    super(BahdanauAttention, self).__init__()\n",
        "    self.W1 = tf.keras.layers.Dense(units)\n",
        "    self.W2 = tf.keras.layers.Dense(units)\n",
        "    self.V = tf.keras.layers.Dense(1)\n",
        "\n",
        "  def call(self, query, values):\n",
        "    # query hidden state shape == (batch_size, hidden size)\n",
        "    # query_with_time_axis shape == (batch_size, 1, hidden size)\n",
        "    # values shape == (batch_size, max_len, hidden size)\n",
        "    # we are doing this to broadcast addition along the time axis to calculate the score\n",
        "    query_with_time_axis = tf.expand_dims(query, 1)\n",
        "\n",
        "    # score shape == (batch_size, max_length, 1)\n",
        "    # we get 1 at the last axis because we are applying score to self.V\n",
        "    # the shape of the tensor before applying self.V is (batch_size, max_length, units)\n",
        "    score = self.V(tf.nn.tanh(\n",
        "        self.W1(query_with_time_axis) + self.W2(values)))\n",
        "\n",
        "    # attention_weights shape == (batch_size, max_length, 1)\n",
        "    attention_weights = tf.nn.softmax(score, axis=1)\n",
        "\n",
        "    # context_vector shape after sum == (batch_size, hidden_size)\n",
        "    context_vector = attention_weights * values\n",
        "    context_vector = tf.reduce_sum(context_vector, axis=1)\n",
        "\n",
        "    return context_vector, attention_weights"
      ],
      "execution_count": 0,
      "outputs": []
    },
    {
      "cell_type": "code",
      "metadata": {
        "id": "hcf4T7Hq3sXj",
        "colab_type": "code",
        "colab": {}
      },
      "source": [
        "# class BahdanauAttention(tf.keras.layers.Layer):\n",
        "#     def __init__(self, num_units):\n",
        "#         super(BahdanauAttention, self).__init__()\n",
        "#         self.W1 = tf.keras.layers.Dense(num_units)\n",
        "#         self.W2 = tf.keras.layers.Dense(num_units)\n",
        "#         self.V = tf.keras.layers.Dense(1)\n",
        "\n",
        "#     def call(self, query, values):\n",
        "#         # query is the decoder state at time step j\n",
        "#         # query.shape: (batch_size, num_units)\n",
        "#         # values are encoder states at every timestep i\n",
        "#         # values.shape: (batch_size, num_timesteps, num_units)\n",
        "\n",
        "#         # add time axis to query: (batch_size, 1, num_units)\n",
        "#         query_with_time_axis = tf.expand_dims(query, axis=1)\n",
        "#         # compute score:\n",
        "#         score = self.V(tf.keras.activations.tanh(\n",
        "#             self.W1(values) + self.W2(query_with_time_axis)))\n",
        "#         # compute softmax\n",
        "#         alignment = tf.nn.softmax(score, axis=1)\n",
        "#         # compute attended output\n",
        "#         context = tf.reduce_sum(\n",
        "#             tf.linalg.matmul(\n",
        "#                 tf.linalg.matrix_transpose(alignment),\n",
        "#                 values\n",
        "#             ), axis=1\n",
        "#         )\n",
        "#         context = tf.expand_dims(context, axis=1)\n",
        "#         return context, alignment\n"
      ],
      "execution_count": 0,
      "outputs": []
    },
    {
      "cell_type": "code",
      "metadata": {
        "id": "0zEjs03zkzKQ",
        "colab_type": "code",
        "outputId": "c0bdce3b-35fd-4c3d-b980-eb2b5c8abedd",
        "colab": {
          "base_uri": "https://localhost:8080/",
          "height": 51
        }
      },
      "source": [
        "attention_layer = BahdanauAttention(21)\n",
        "attention_result, attention_weights = attention_layer(sample_hidden, sample_output)\n",
        "\n",
        "print(\"Attention result shape: (batch size, units) {}\".format(attention_result.shape))\n",
        "print(\"Attention weights shape: (batch_size, sequence_length, 1) {}\".format(attention_weights.shape))"
      ],
      "execution_count": 0,
      "outputs": [
        {
          "output_type": "stream",
          "text": [
            "Attention result shape: (batch size, units) (64, 1024)\n",
            "Attention weights shape: (batch_size, sequence_length, 1) (64, 50, 1)\n"
          ],
          "name": "stdout"
        }
      ]
    },
    {
      "cell_type": "markdown",
      "metadata": {
        "id": "9QCxUmUZuRlN",
        "colab_type": "text"
      },
      "source": [
        "# Multiplicative attention"
      ]
    },
    {
      "cell_type": "code",
      "metadata": {
        "id": "6FS90kid4ZAN",
        "colab_type": "code",
        "outputId": "59b904d0-7b5e-489b-da84-eeef0fc5f82a",
        "colab": {
          "base_uri": "https://localhost:8080/",
          "height": 52
        }
      },
      "source": [
        "!pip install tensorflow-addons"
      ],
      "execution_count": 0,
      "outputs": [
        {
          "output_type": "stream",
          "text": [
            "Requirement already satisfied: tensorflow-addons in /usr/local/lib/python3.6/dist-packages (0.8.3)\n",
            "Requirement already satisfied: typeguard in /usr/local/lib/python3.6/dist-packages (from tensorflow-addons) (2.7.1)\n"
          ],
          "name": "stdout"
        }
      ]
    },
    {
      "cell_type": "code",
      "metadata": {
        "id": "oFxdrbny4agb",
        "colab_type": "code",
        "colab": {}
      },
      "source": [
        "import tensorflow_addons as tfa"
      ],
      "execution_count": 0,
      "outputs": []
    },
    {
      "cell_type": "code",
      "metadata": {
        "id": "8Ox_Tyk3uggZ",
        "colab_type": "code",
        "colab": {}
      },
      "source": [
        "# class LuongAttention(tf.keras.layers.Layer):\n",
        "#     def __init__(self, num_units):\n",
        "#         super(LuongAttention, self).__init__()\n",
        "#         self.W = tf.keras.layers.Dense(num_units)\n",
        "\n",
        "#     def call(self, query, values):\n",
        "#         # add time axis to query\n",
        "#         query_with_time_axis = tf.expand_dims(query, axis=1)\n",
        "#         # compute score\n",
        "#         score = tf.linalg.matmul(\n",
        "#             query_with_time_axis, self.W(values), transpose_a=True)\n",
        "#         # compute softmax\n",
        "#         attention_weights = tf.nn.softmax(score, axis=1)\n",
        "#         # compute attended output\n",
        "#         context_vector = attention_weights * values\n",
        "#         context_vector = tf.reduce_sum(context_vector, axis=1)\n",
        "#         return context_vector, attention_weights\n",
        "class LuongAttention(tf.keras.layers.Layer):\n",
        "    def __init__(self, num_units):\n",
        "        super(LuongAttention, self).__init__()\n",
        "        self.W = tf.keras.layers.Dense(num_units)\n",
        "\n",
        "    def call(self, query, values):\n",
        "        # query hidden state shape == (batch_size, hidden size)\n",
        "        # query_with_time_axis shape == (batch_size, 1, hidden size)\n",
        "        # values shape == (batch_size, max_len, hidden size)\n",
        "        # add time axis to query\n",
        "        query_with_time_axis = tf.expand_dims(query, axis=1)\n",
        "        # compute score\n",
        "        score = tf.matmul(\n",
        "            tf.transpose(query_with_time_axis), self.W(values)\n",
        "        )\n",
        "        \n",
        "        # compute softmax\n",
        "        alignment = tf.nn.softmax(score, axis=2)\n",
        "        # compute attended output\n",
        "        context = tf.matmul(alignment, values)\n",
        "        return context, alignment"
      ],
      "execution_count": 0,
      "outputs": []
    },
    {
      "cell_type": "code",
      "metadata": {
        "id": "worf417V190v",
        "colab_type": "code",
        "colab": {}
      },
      "source": [
        "# a = tf.constant(np.arange(64*1024), shape=(64,1,1024))\n",
        "# transposed_a = tf.transpose(a)\n",
        "# b = tf.constant(np.arange(64*50*20), shape=(64, 50, 20))\n",
        "# tf.matmul(transposed_a, b)"
      ],
      "execution_count": 0,
      "outputs": []
    },
    {
      "cell_type": "code",
      "metadata": {
        "id": "W9lvoSTzujeT",
        "colab_type": "code",
        "outputId": "fa37564f-08be-42cb-a957-58f488bd1c07",
        "colab": {
          "base_uri": "https://localhost:8080/",
          "height": 1000
        }
      },
      "source": [
        "attention_layer = LuongAttention(20)\n",
        "# attention_result, attention_weights = tfa.seq2seq.LuongAttention(1, sample_hidden, sample_output)\n",
        "# attention_result, attention_weights = tfa.seq2seq.BahdanauAttention(1, sample_hidden, sample_output)\n",
        "attention_result, attention_weights = attention_layer(sample_hidden, sample_output)\n",
        "\n",
        "print(\"Attention result shape: (batch size, units) {}\".format(attention_result.shape))\n",
        "print(\"Attention weights shape: (batch_size, sequence_length, 1) {}\".format(attention_weights.shape))"
      ],
      "execution_count": 0,
      "outputs": [
        {
          "output_type": "stream",
          "text": [
            "tf.Tensor(\n",
            "[[[0. 0. 0. ... 0. 0. 0.]]\n",
            "\n",
            " [[0. 0. 0. ... 0. 0. 0.]]\n",
            "\n",
            " [[0. 0. 0. ... 0. 0. 0.]]\n",
            "\n",
            " ...\n",
            "\n",
            " [[0. 0. 0. ... 0. 0. 0.]]\n",
            "\n",
            " [[0. 0. 0. ... 0. 0. 0.]]\n",
            "\n",
            " [[0. 0. 0. ... 0. 0. 0.]]], shape=(64, 1, 1024), dtype=float32)\n",
            "tf.Tensor(\n",
            "[[[-7.17063434e-04  1.62409421e-03 -2.61773239e-04 ... -1.49421534e-02\n",
            "   -3.34295281e-03  1.14487382e-02]\n",
            "  [-7.21063977e-03 -5.81972161e-03 -6.31409511e-03 ... -2.05455348e-02\n",
            "   -2.05000560e-03  6.40905520e-04]\n",
            "  [ 5.64627117e-03 -4.73918021e-03 -2.68094148e-03 ... -2.14975309e-02\n",
            "    3.98038328e-03 -1.15925970e-03]\n",
            "  ...\n",
            "  [-1.53931626e-03  7.67851993e-03  6.64917473e-03 ...  5.87779377e-03\n",
            "    8.39167100e-04 -5.31987706e-03]\n",
            "  [ 1.12890517e-02 -9.44389205e-04 -9.04045301e-04 ...  5.83717134e-03\n",
            "    1.97062409e-03 -1.83952767e-02]\n",
            "  [ 7.90937524e-03  9.63620492e-04 -1.72815379e-03 ... -9.10516421e-04\n",
            "    1.19058066e-03 -9.17660445e-03]]\n",
            "\n",
            " [[ 8.65265168e-03  6.07459852e-03  2.64923112e-03 ...  3.16177565e-03\n",
            "    3.49644292e-03  1.53211877e-03]\n",
            "  [-1.07575627e-03 -4.02801344e-03  6.26862468e-03 ... -3.97013268e-03\n",
            "    4.99456050e-03 -1.18910996e-02]\n",
            "  [ 6.19415892e-03  4.12741676e-04  3.07883462e-03 ... -1.31627945e-02\n",
            "   -1.71923335e-03 -8.18687398e-03]\n",
            "  ...\n",
            "  [ 2.26893066e-03  4.79300274e-03  2.55779567e-04 ... -7.24796159e-03\n",
            "   -3.27420258e-03 -2.12605475e-04]\n",
            "  [ 9.67827998e-03  2.01281765e-03 -1.75821024e-03 ...  6.96892571e-03\n",
            "   -5.74829802e-03  7.64265237e-03]\n",
            "  [ 8.87478516e-03 -1.02770526e-03  7.21371092e-04 ... -1.87311310e-03\n",
            "    1.31091778e-03  1.72361289e-03]]\n",
            "\n",
            " [[-7.94733502e-03  5.38770249e-03 -7.33719533e-03 ...  2.74876878e-03\n",
            "   -3.60572664e-03  4.80767200e-03]\n",
            "  [-6.17494667e-03  9.09040961e-03  1.06865400e-02 ...  1.35557931e-02\n",
            "    1.70766609e-03  7.09875720e-03]\n",
            "  [-7.69224251e-03  8.11758358e-03  6.10801531e-03 ...  7.54242344e-03\n",
            "   -1.87457562e-03  7.58141512e-03]\n",
            "  ...\n",
            "  [-5.55368559e-03 -4.06241836e-03 -5.63322287e-03 ... -1.32922421e-03\n",
            "   -2.75010522e-03 -1.14334151e-02]\n",
            "  [ 8.43962654e-03  3.64008080e-03  2.59103486e-04 ...  1.89246668e-03\n",
            "    1.22649723e-03 -3.92386829e-03]\n",
            "  [ 9.67983436e-03  1.72575843e-03  3.07037798e-03 ... -5.67415403e-03\n",
            "    1.91233249e-03 -4.14939970e-03]]\n",
            "\n",
            " ...\n",
            "\n",
            " [[ 4.04264499e-03  1.42295868e-03 -4.53650299e-03 ... -4.14124504e-03\n",
            "   -3.04929190e-03 -6.77864184e-04]\n",
            "  [-4.88118792e-04  2.75976886e-03 -4.81772423e-03 ... -1.06396638e-02\n",
            "    1.82062027e-03 -9.57383029e-03]\n",
            "  [ 2.52573215e-03 -8.52095021e-04 -7.47174490e-03 ... -1.14398180e-02\n",
            "   -2.38878187e-03 -1.12935370e-02]\n",
            "  ...\n",
            "  [ 7.24600628e-03  2.47367416e-06  5.45961084e-03 ... -1.58915808e-03\n",
            "    1.22517962e-02 -1.90466288e-02]\n",
            "  [ 9.84336995e-03 -1.02866057e-03 -2.29339683e-04 ... -2.38792738e-03\n",
            "    1.02529989e-03 -1.77308749e-02]\n",
            "  [ 8.77912529e-03 -6.71381655e-04  1.33340480e-03 ... -4.65215323e-03\n",
            "    3.47587233e-03 -1.14203971e-02]]\n",
            "\n",
            " [[ 3.73770623e-03 -6.44071866e-03  1.61842152e-03 ... -7.02737190e-04\n",
            "    2.34756852e-03  6.76010316e-03]\n",
            "  [ 9.98238917e-04  1.31183420e-03 -2.48176348e-03 ... -7.84558186e-04\n",
            "    7.90368114e-03  4.33255406e-03]\n",
            "  [-3.36895767e-03  4.45037935e-04 -6.10667653e-03 ...  8.82203924e-04\n",
            "    9.84016433e-03  8.31272546e-03]\n",
            "  ...\n",
            "  [ 2.99012032e-03  3.97671713e-03 -8.14330112e-03 ... -1.57958716e-02\n",
            "    1.67656224e-03 -7.42919790e-03]\n",
            "  [-6.46105176e-03  6.58150110e-03 -9.09954030e-03 ... -6.58785738e-03\n",
            "   -9.35476040e-04  1.66379090e-03]\n",
            "  [-1.12336455e-03  3.89451813e-03 -3.02552246e-03 ... -9.14492551e-03\n",
            "    2.07658787e-03  2.74383754e-04]]\n",
            "\n",
            " [[ 3.73770623e-03 -6.44071866e-03  1.61842152e-03 ... -7.02737190e-04\n",
            "    2.34756852e-03  6.76010316e-03]\n",
            "  [ 1.34419696e-03  2.57912790e-03 -4.12252219e-03 ... -3.84901487e-03\n",
            "    5.67387184e-03 -7.80428352e-04]\n",
            "  [-5.67318872e-03  7.67503679e-03 -1.33638810e-02 ...  6.78051682e-03\n",
            "   -5.40614128e-03 -7.72219757e-03]\n",
            "  ...\n",
            "  [ 5.42170741e-03 -3.70197743e-03 -7.82395992e-03 ... -7.58278091e-03\n",
            "   -1.00486318e-03 -4.61143488e-03]\n",
            "  [ 2.72471429e-04 -1.06900958e-02  4.73642442e-03 ... -4.06826800e-03\n",
            "    7.79855018e-03 -8.96444952e-04]\n",
            "  [ 4.73843189e-03 -4.33657458e-03  3.18449805e-03 ... -9.13164113e-03\n",
            "    6.87153824e-03 -2.45320238e-03]]], shape=(64, 50, 1024), dtype=float32)\n"
          ],
          "name": "stdout"
        },
        {
          "output_type": "error",
          "ename": "InvalidArgumentError",
          "evalue": "ignored",
          "traceback": [
            "\u001b[0;31m---------------------------------------------------------------------------\u001b[0m",
            "\u001b[0;31mInvalidArgumentError\u001b[0m                      Traceback (most recent call last)",
            "\u001b[0;32m<ipython-input-55-f72ab9ed776a>\u001b[0m in \u001b[0;36m<module>\u001b[0;34m()\u001b[0m\n\u001b[1;32m      2\u001b[0m \u001b[0;31m# attention_result, attention_weights = tfa.seq2seq.LuongAttention(1, sample_hidden, sample_output)\u001b[0m\u001b[0;34m\u001b[0m\u001b[0;34m\u001b[0m\u001b[0;34m\u001b[0m\u001b[0m\n\u001b[1;32m      3\u001b[0m \u001b[0;31m# attention_result, attention_weights = tfa.seq2seq.BahdanauAttention(1, sample_hidden, sample_output)\u001b[0m\u001b[0;34m\u001b[0m\u001b[0;34m\u001b[0m\u001b[0;34m\u001b[0m\u001b[0m\n\u001b[0;32m----> 4\u001b[0;31m \u001b[0mattention_result\u001b[0m\u001b[0;34m,\u001b[0m \u001b[0mattention_weights\u001b[0m \u001b[0;34m=\u001b[0m \u001b[0mattention_layer\u001b[0m\u001b[0;34m(\u001b[0m\u001b[0msample_hidden\u001b[0m\u001b[0;34m,\u001b[0m \u001b[0msample_output\u001b[0m\u001b[0;34m)\u001b[0m\u001b[0;34m\u001b[0m\u001b[0;34m\u001b[0m\u001b[0m\n\u001b[0m\u001b[1;32m      5\u001b[0m \u001b[0;34m\u001b[0m\u001b[0m\n\u001b[1;32m      6\u001b[0m \u001b[0mprint\u001b[0m\u001b[0;34m(\u001b[0m\u001b[0;34m\"Attention result shape: (batch size, units) {}\"\u001b[0m\u001b[0;34m.\u001b[0m\u001b[0mformat\u001b[0m\u001b[0;34m(\u001b[0m\u001b[0mattention_result\u001b[0m\u001b[0;34m.\u001b[0m\u001b[0mshape\u001b[0m\u001b[0;34m)\u001b[0m\u001b[0;34m)\u001b[0m\u001b[0;34m\u001b[0m\u001b[0;34m\u001b[0m\u001b[0m\n",
            "\u001b[0;32m/usr/local/lib/python3.6/dist-packages/tensorflow/python/keras/engine/base_layer.py\u001b[0m in \u001b[0;36m__call__\u001b[0;34m(self, *args, **kwargs)\u001b[0m\n\u001b[1;32m    966\u001b[0m           with base_layer_utils.autocast_context_manager(\n\u001b[1;32m    967\u001b[0m               self._compute_dtype):\n\u001b[0;32m--> 968\u001b[0;31m             \u001b[0moutputs\u001b[0m \u001b[0;34m=\u001b[0m \u001b[0mself\u001b[0m\u001b[0;34m.\u001b[0m\u001b[0mcall\u001b[0m\u001b[0;34m(\u001b[0m\u001b[0mcast_inputs\u001b[0m\u001b[0;34m,\u001b[0m \u001b[0;34m*\u001b[0m\u001b[0margs\u001b[0m\u001b[0;34m,\u001b[0m \u001b[0;34m**\u001b[0m\u001b[0mkwargs\u001b[0m\u001b[0;34m)\u001b[0m\u001b[0;34m\u001b[0m\u001b[0;34m\u001b[0m\u001b[0m\n\u001b[0m\u001b[1;32m    969\u001b[0m           \u001b[0mself\u001b[0m\u001b[0;34m.\u001b[0m\u001b[0m_handle_activity_regularization\u001b[0m\u001b[0;34m(\u001b[0m\u001b[0minputs\u001b[0m\u001b[0;34m,\u001b[0m \u001b[0moutputs\u001b[0m\u001b[0;34m)\u001b[0m\u001b[0;34m\u001b[0m\u001b[0;34m\u001b[0m\u001b[0m\n\u001b[1;32m    970\u001b[0m           \u001b[0mself\u001b[0m\u001b[0;34m.\u001b[0m\u001b[0m_set_mask_metadata\u001b[0m\u001b[0;34m(\u001b[0m\u001b[0minputs\u001b[0m\u001b[0;34m,\u001b[0m \u001b[0moutputs\u001b[0m\u001b[0;34m,\u001b[0m \u001b[0minput_masks\u001b[0m\u001b[0;34m)\u001b[0m\u001b[0;34m\u001b[0m\u001b[0;34m\u001b[0m\u001b[0m\n",
            "\u001b[0;32m<ipython-input-53-f05b5ec63d40>\u001b[0m in \u001b[0;36mcall\u001b[0;34m(self, query, values)\u001b[0m\n\u001b[1;32m     31\u001b[0m         \u001b[0;31m# compute score\u001b[0m\u001b[0;34m\u001b[0m\u001b[0;34m\u001b[0m\u001b[0;34m\u001b[0m\u001b[0m\n\u001b[1;32m     32\u001b[0m         score = tf.matmul(\n\u001b[0;32m---> 33\u001b[0;31m             tf.transpose(query_with_time_axis), self.W(tf.nn.tanh(values)))\n\u001b[0m\u001b[1;32m     34\u001b[0m \u001b[0;34m\u001b[0m\u001b[0m\n\u001b[1;32m     35\u001b[0m         \u001b[0;31m# compute softmax\u001b[0m\u001b[0;34m\u001b[0m\u001b[0;34m\u001b[0m\u001b[0;34m\u001b[0m\u001b[0m\n",
            "\u001b[0;32m/usr/local/lib/python3.6/dist-packages/tensorflow/python/util/dispatch.py\u001b[0m in \u001b[0;36mwrapper\u001b[0;34m(*args, **kwargs)\u001b[0m\n\u001b[1;32m    178\u001b[0m     \u001b[0;34m\"\"\"Call target, and fall back on dispatchers if there is a TypeError.\"\"\"\u001b[0m\u001b[0;34m\u001b[0m\u001b[0;34m\u001b[0m\u001b[0m\n\u001b[1;32m    179\u001b[0m     \u001b[0;32mtry\u001b[0m\u001b[0;34m:\u001b[0m\u001b[0;34m\u001b[0m\u001b[0;34m\u001b[0m\u001b[0m\n\u001b[0;32m--> 180\u001b[0;31m       \u001b[0;32mreturn\u001b[0m \u001b[0mtarget\u001b[0m\u001b[0;34m(\u001b[0m\u001b[0;34m*\u001b[0m\u001b[0margs\u001b[0m\u001b[0;34m,\u001b[0m \u001b[0;34m**\u001b[0m\u001b[0mkwargs\u001b[0m\u001b[0;34m)\u001b[0m\u001b[0;34m\u001b[0m\u001b[0;34m\u001b[0m\u001b[0m\n\u001b[0m\u001b[1;32m    181\u001b[0m     \u001b[0;32mexcept\u001b[0m \u001b[0;34m(\u001b[0m\u001b[0mTypeError\u001b[0m\u001b[0;34m,\u001b[0m \u001b[0mValueError\u001b[0m\u001b[0;34m)\u001b[0m\u001b[0;34m:\u001b[0m\u001b[0;34m\u001b[0m\u001b[0;34m\u001b[0m\u001b[0m\n\u001b[1;32m    182\u001b[0m       \u001b[0;31m# Note: convert_to_eager_tensor currently raises a ValueError, not a\u001b[0m\u001b[0;34m\u001b[0m\u001b[0;34m\u001b[0m\u001b[0;34m\u001b[0m\u001b[0m\n",
            "\u001b[0;32m/usr/local/lib/python3.6/dist-packages/tensorflow/python/ops/math_ops.py\u001b[0m in \u001b[0;36mmatmul\u001b[0;34m(a, b, transpose_a, transpose_b, adjoint_a, adjoint_b, a_is_sparse, b_is_sparse, name)\u001b[0m\n\u001b[1;32m   2944\u001b[0m         \u001b[0madjoint_b\u001b[0m \u001b[0;34m=\u001b[0m \u001b[0;32mTrue\u001b[0m\u001b[0;34m\u001b[0m\u001b[0;34m\u001b[0m\u001b[0m\n\u001b[1;32m   2945\u001b[0m       return gen_math_ops.batch_mat_mul_v2(\n\u001b[0;32m-> 2946\u001b[0;31m           a, b, adj_x=adjoint_a, adj_y=adjoint_b, name=name)\n\u001b[0m\u001b[1;32m   2947\u001b[0m \u001b[0;34m\u001b[0m\u001b[0m\n\u001b[1;32m   2948\u001b[0m     \u001b[0;31m# Neither matmul nor sparse_matmul support adjoint, so we conjugate\u001b[0m\u001b[0;34m\u001b[0m\u001b[0;34m\u001b[0m\u001b[0;34m\u001b[0m\u001b[0m\n",
            "\u001b[0;32m/usr/local/lib/python3.6/dist-packages/tensorflow/python/ops/gen_math_ops.py\u001b[0m in \u001b[0;36mbatch_mat_mul_v2\u001b[0;34m(x, y, adj_x, adj_y, name)\u001b[0m\n\u001b[1;32m   1515\u001b[0m         \u001b[0;32mpass\u001b[0m  \u001b[0;31m# Add nodes to the TensorFlow graph.\u001b[0m\u001b[0;34m\u001b[0m\u001b[0;34m\u001b[0m\u001b[0m\n\u001b[1;32m   1516\u001b[0m     \u001b[0;32mexcept\u001b[0m \u001b[0m_core\u001b[0m\u001b[0;34m.\u001b[0m\u001b[0m_NotOkStatusException\u001b[0m \u001b[0;32mas\u001b[0m \u001b[0me\u001b[0m\u001b[0;34m:\u001b[0m\u001b[0;34m\u001b[0m\u001b[0;34m\u001b[0m\u001b[0m\n\u001b[0;32m-> 1517\u001b[0;31m       \u001b[0m_ops\u001b[0m\u001b[0;34m.\u001b[0m\u001b[0mraise_from_not_ok_status\u001b[0m\u001b[0;34m(\u001b[0m\u001b[0me\u001b[0m\u001b[0;34m,\u001b[0m \u001b[0mname\u001b[0m\u001b[0;34m)\u001b[0m\u001b[0;34m\u001b[0m\u001b[0;34m\u001b[0m\u001b[0m\n\u001b[0m\u001b[1;32m   1518\u001b[0m   \u001b[0;31m# Add nodes to the TensorFlow graph.\u001b[0m\u001b[0;34m\u001b[0m\u001b[0;34m\u001b[0m\u001b[0;34m\u001b[0m\u001b[0m\n\u001b[1;32m   1519\u001b[0m   \u001b[0;32mif\u001b[0m \u001b[0madj_x\u001b[0m \u001b[0;32mis\u001b[0m \u001b[0;32mNone\u001b[0m\u001b[0;34m:\u001b[0m\u001b[0;34m\u001b[0m\u001b[0;34m\u001b[0m\u001b[0m\n",
            "\u001b[0;32m/usr/local/lib/python3.6/dist-packages/tensorflow/python/framework/ops.py\u001b[0m in \u001b[0;36mraise_from_not_ok_status\u001b[0;34m(e, name)\u001b[0m\n\u001b[1;32m   6651\u001b[0m   \u001b[0mmessage\u001b[0m \u001b[0;34m=\u001b[0m \u001b[0me\u001b[0m\u001b[0;34m.\u001b[0m\u001b[0mmessage\u001b[0m \u001b[0;34m+\u001b[0m \u001b[0;34m(\u001b[0m\u001b[0;34m\" name: \"\u001b[0m \u001b[0;34m+\u001b[0m \u001b[0mname\u001b[0m \u001b[0;32mif\u001b[0m \u001b[0mname\u001b[0m \u001b[0;32mis\u001b[0m \u001b[0;32mnot\u001b[0m \u001b[0;32mNone\u001b[0m \u001b[0;32melse\u001b[0m \u001b[0;34m\"\"\u001b[0m\u001b[0;34m)\u001b[0m\u001b[0;34m\u001b[0m\u001b[0;34m\u001b[0m\u001b[0m\n\u001b[1;32m   6652\u001b[0m   \u001b[0;31m# pylint: disable=protected-access\u001b[0m\u001b[0;34m\u001b[0m\u001b[0;34m\u001b[0m\u001b[0;34m\u001b[0m\u001b[0m\n\u001b[0;32m-> 6653\u001b[0;31m   \u001b[0msix\u001b[0m\u001b[0;34m.\u001b[0m\u001b[0mraise_from\u001b[0m\u001b[0;34m(\u001b[0m\u001b[0mcore\u001b[0m\u001b[0;34m.\u001b[0m\u001b[0m_status_to_exception\u001b[0m\u001b[0;34m(\u001b[0m\u001b[0me\u001b[0m\u001b[0;34m.\u001b[0m\u001b[0mcode\u001b[0m\u001b[0;34m,\u001b[0m \u001b[0mmessage\u001b[0m\u001b[0;34m)\u001b[0m\u001b[0;34m,\u001b[0m \u001b[0;32mNone\u001b[0m\u001b[0;34m)\u001b[0m\u001b[0;34m\u001b[0m\u001b[0;34m\u001b[0m\u001b[0m\n\u001b[0m\u001b[1;32m   6654\u001b[0m   \u001b[0;31m# pylint: enable=protected-access\u001b[0m\u001b[0;34m\u001b[0m\u001b[0;34m\u001b[0m\u001b[0;34m\u001b[0m\u001b[0m\n\u001b[1;32m   6655\u001b[0m \u001b[0;34m\u001b[0m\u001b[0m\n",
            "\u001b[0;32m/usr/local/lib/python3.6/dist-packages/six.py\u001b[0m in \u001b[0;36mraise_from\u001b[0;34m(value, from_value)\u001b[0m\n",
            "\u001b[0;31mInvalidArgumentError\u001b[0m: In[0] and In[1] must have compatible batch dimensions: [1024,1,64] vs. [64,50,20] [Op:BatchMatMulV2]"
          ]
        }
      ]
    },
    {
      "cell_type": "markdown",
      "metadata": {
        "id": "irlugdiPumJY",
        "colab_type": "text"
      },
      "source": [
        "# Decoding"
      ]
    },
    {
      "cell_type": "code",
      "metadata": {
        "id": "_G6OZ1lWk01-",
        "colab_type": "code",
        "colab": {}
      },
      "source": [
        "class Decoder(tf.keras.Model):\n",
        "  def __init__(self, vocab_size, embedding_dim, dec_units, batch_sz):\n",
        "    super(Decoder, self).__init__()\n",
        "    self.batch_sz = batch_sz\n",
        "    self.dec_units = dec_units\n",
        "    self.embedding = tf.keras.layers.Embedding(vocab_size, embedding_dim)\n",
        "    self.gru = tf.keras.layers.GRU(self.dec_units,\n",
        "                                   return_sequences=True,\n",
        "                                   return_state=True,\n",
        "                                   recurrent_initializer='glorot_uniform')\n",
        "    self.fc = tf.keras.layers.Dense(vocab_size)\n",
        "\n",
        "    # used for additive attention\n",
        "    self.attention = BahdanauAttention(self.dec_units)\n",
        "    \n",
        "    # used for multiplicative attention\n",
        "    # self.attention = LuongAttention(self.dec_units)\n",
        "\n",
        "  def call(self, x, hidden, enc_output):\n",
        "    # enc_output shape == (batch_size, max_length, hidden_size)\n",
        "    context_vector, attention_weights = self.attention(hidden, enc_output)\n",
        "\n",
        "    # x shape after passing through embedding == (batch_size, 1, embedding_dim)\n",
        "    x = self.embedding(x)\n",
        "\n",
        "    # x shape after concatenation == (batch_size, 1, embedding_dim + hidden_size)\n",
        "    x = tf.concat([tf.expand_dims(context_vector, 1), x], axis=-1)\n",
        "\n",
        "    # passing the concatenated vector to the GRU\n",
        "    output, state = self.gru(x)\n",
        "\n",
        "    # output shape == (batch_size * 1, hidden_size)\n",
        "    output = tf.reshape(output, (-1, output.shape[2]))\n",
        "\n",
        "    # output shape == (batch_size, vocab)\n",
        "    x = self.fc(output)\n",
        "\n",
        "    return x, state, attention_weights"
      ],
      "execution_count": 0,
      "outputs": []
    },
    {
      "cell_type": "code",
      "metadata": {
        "id": "RklTuaFqk3B0",
        "colab_type": "code",
        "outputId": "a13883c7-5ca4-4ce0-986f-14354f5f4a18",
        "colab": {
          "base_uri": "https://localhost:8080/",
          "height": 34
        }
      },
      "source": [
        "decoder = Decoder(vocab_tar_size, embedding_dim, units, BATCH_SIZE)\n",
        "\n",
        "sample_decoder_output, _, _ = decoder(tf.random.uniform((BATCH_SIZE, 1)),\n",
        "                                      sample_hidden, sample_output)\n",
        "\n",
        "print ('Decoder output shape: (batch_size, vocab size) {}'.format(sample_decoder_output.shape))"
      ],
      "execution_count": 0,
      "outputs": [
        {
          "output_type": "stream",
          "text": [
            "Decoder output shape: (batch_size, vocab size) (64, 25313)\n"
          ],
          "name": "stdout"
        }
      ]
    },
    {
      "cell_type": "code",
      "metadata": {
        "id": "8r3VzoTAk4ug",
        "colab_type": "code",
        "colab": {}
      },
      "source": [
        "optimizer = tf.keras.optimizers.Adam()\n",
        "loss_object = tf.keras.losses.SparseCategoricalCrossentropy(\n",
        "    from_logits=True, reduction='none')\n",
        "\n",
        "def loss_function(real, pred):\n",
        "  mask = tf.math.logical_not(tf.math.equal(real, 0))\n",
        "  loss_ = loss_object(real, pred)\n",
        "\n",
        "  mask = tf.cast(mask, dtype=loss_.dtype)\n",
        "  loss_ *= mask\n",
        "\n",
        "  return tf.reduce_mean(loss_)"
      ],
      "execution_count": 0,
      "outputs": []
    },
    {
      "cell_type": "code",
      "metadata": {
        "id": "liuxYPX5k6kF",
        "colab_type": "code",
        "colab": {}
      },
      "source": [
        "# checkpoint_dir = '/content/drive/Shared drives/NeuroSummary/checkpoint/seq2seq_gru_additive_teacher_forcing_v2'\n",
        "checkpoint_dir = '/content/drive/Shared drives/NeuroSummary/checkpoint/seq2seq_gru_additive_scheduled_v2'\n",
        "\n",
        "checkpoint_prefix = os.path.join(checkpoint_dir, \"ckpt\")\n",
        "checkpoint = tf.train.Checkpoint(optimizer=optimizer,\n",
        "                                 encoder=encoder,\n",
        "                                 decoder=decoder)"
      ],
      "execution_count": 0,
      "outputs": []
    },
    {
      "cell_type": "markdown",
      "metadata": {
        "id": "zjfyXOUdGtDG",
        "colab_type": "text"
      },
      "source": [
        "# Teacher forcing"
      ]
    },
    {
      "cell_type": "code",
      "metadata": {
        "id": "aE3LfZrRk8UG",
        "colab_type": "code",
        "colab": {}
      },
      "source": [
        "@tf.function\n",
        "def train_step(inp, targ, enc_hidden):\n",
        "  loss = 0\n",
        "\n",
        "  with tf.GradientTape() as tape:\n",
        "    enc_output, enc_hidden = encoder(inp, enc_hidden)\n",
        "\n",
        "    dec_hidden = enc_hidden\n",
        "\n",
        "    dec_input = tf.expand_dims([dict_t['<s>']] * BATCH_SIZE, 1)\n",
        "\n",
        "    # Teacher forcing - feeding the target as the next input\n",
        "    for t in range(1, targ.shape[1]):\n",
        "\n",
        "      # passing enc_output to the decoder\n",
        "      predictions, dec_hidden, _ = decoder(dec_input, dec_hidden, enc_output)\n",
        "\n",
        "      loss += loss_function(targ[:, t], predictions)\n",
        "\n",
        "      # using teacher forcing\n",
        "      dec_input = tf.expand_dims(targ[:, t], 1)\n",
        "\n",
        "  batch_loss = (loss / int(targ.shape[1]))\n",
        "\n",
        "  variables = encoder.trainable_variables + decoder.trainable_variables\n",
        "\n",
        "  gradients = tape.gradient(loss, variables)\n",
        "\n",
        "  optimizer.apply_gradients(zip(gradients, variables))\n",
        "\n",
        "  return batch_loss\n",
        "\n",
        "@tf.function\n",
        "def val_step(inp, targ, enc_hidden):\n",
        "  loss = 0\n",
        "\n",
        "  with tf.GradientTape() as tape:\n",
        "    enc_output, enc_hidden = encoder(inp, enc_hidden)\n",
        "\n",
        "    dec_hidden = enc_hidden\n",
        "\n",
        "    dec_input = tf.expand_dims([dict_t['<s>']] * BATCH_SIZE, 1)\n",
        "\n",
        "    # Teacher forcing - feeding the target as the next input\n",
        "    for t in range(1, targ.shape[1]):\n",
        "\n",
        "      # passing enc_output to the decoder\n",
        "      predictions, dec_hidden, _ = decoder(dec_input, dec_hidden, enc_output)\n",
        "\n",
        "      loss += loss_function(targ[:, t], predictions)\n",
        "\n",
        "      # using teacher forcing\n",
        "      dec_input = tf.expand_dims(targ[:, t], 1)\n",
        "\n",
        "  batch_loss = (loss / int(targ.shape[1]))\n",
        "\n",
        "  return batch_loss\n"
      ],
      "execution_count": 0,
      "outputs": []
    },
    {
      "cell_type": "code",
      "metadata": {
        "id": "jc-BT58bOi6i",
        "colab_type": "code",
        "outputId": "981a5e54-7d89-4fe3-e7c9-c9d7cd5ccba6",
        "colab": {
          "base_uri": "https://localhost:8080/",
          "height": 1000
        }
      },
      "source": [
        "from tqdm import tqdm_notebook\n",
        "EPOCHS = 10\n",
        "\n",
        "for epoch in range(EPOCHS):\n",
        "  start = time.time()\n",
        "\n",
        "\n",
        "  enc_hidden = encoder.initialize_hidden_state()\n",
        "  total_loss = 0\n",
        "  val_total_loss = 0\n",
        "\n",
        "\n",
        "  for (batch, (inp, targ)) in enumerate(dataset.take(steps_per_epoch)):\n",
        "\n",
        "    batch_loss = train_step(inp, targ, enc_hidden)\n",
        "    total_loss += batch_loss\n",
        "\n",
        "    if batch % 50 == 0:\n",
        "      print('Epoch {} Batch {} Loss {:.4f}'.format(epoch + 1,\n",
        "                                                   batch,\n",
        "                                                   batch_loss.numpy()))\n",
        "  for (batch, (val_inp, val_targ)) in enumerate(val_dataset.take(val_steps_per_epoch)):\n",
        "    val_batch_loss = val_step(val_inp, val_targ, enc_hidden)\n",
        "    val_total_loss += val_batch_loss\n",
        "  \n",
        "  # saving (checkpoint) the model every 10 epochs\n",
        "  if (epoch + 1) % 1 == 0:\n",
        "    checkpoint.save(file_prefix = checkpoint_prefix)\n",
        "\n",
        "  print('Epoch {} Loss {:.4f}'.format(epoch + 1,\n",
        "                                      total_loss / steps_per_epoch), end=', ')\n",
        "  print('Val loss {:.4f}'.format(val_total_loss / val_steps_per_epoch))\n",
        "  print('Time taken for 1 epoch {} sec\\n'.format(time.time() - start))"
      ],
      "execution_count": 0,
      "outputs": [
        {
          "output_type": "stream",
          "text": [
            "Epoch 1 Batch 0 Loss 8.0651\n",
            "Epoch 1 Batch 50 Loss 5.0778\n",
            "Epoch 1 Batch 100 Loss 5.4042\n",
            "Epoch 1 Batch 150 Loss 5.2119\n",
            "Epoch 1 Loss 5.3894, Val loss 5.0852\n",
            "Time taken for 1 epoch 94.33695602416992 sec\n",
            "\n",
            "Epoch 2 Batch 0 Loss 5.3600\n",
            "Epoch 2 Batch 50 Loss 4.7633\n",
            "Epoch 2 Batch 100 Loss 4.8950\n",
            "Epoch 2 Batch 150 Loss 4.6291\n",
            "Epoch 2 Loss 4.7722, Val loss 4.5247\n",
            "Time taken for 1 epoch 53.996204137802124 sec\n",
            "\n",
            "Epoch 3 Batch 0 Loss 4.0716\n",
            "Epoch 3 Batch 50 Loss 4.3674\n",
            "Epoch 3 Batch 100 Loss 4.1488\n",
            "Epoch 3 Batch 150 Loss 3.8562\n",
            "Epoch 3 Loss 4.0934, Val loss 4.0009\n",
            "Time taken for 1 epoch 54.344038009643555 sec\n",
            "\n",
            "Epoch 4 Batch 0 Loss 3.6084\n",
            "Epoch 4 Batch 50 Loss 3.6677\n",
            "Epoch 4 Batch 100 Loss 3.6035\n",
            "Epoch 4 Batch 150 Loss 3.3083\n",
            "Epoch 4 Loss 3.5365, Val loss 3.7337\n",
            "Time taken for 1 epoch 53.64350938796997 sec\n",
            "\n",
            "Epoch 5 Batch 0 Loss 3.0440\n",
            "Epoch 5 Batch 50 Loss 3.0202\n",
            "Epoch 5 Batch 100 Loss 3.2369\n",
            "Epoch 5 Batch 150 Loss 2.9608\n",
            "Epoch 5 Loss 3.1408, Val loss 3.6279\n",
            "Time taken for 1 epoch 53.80135750770569 sec\n",
            "\n",
            "Epoch 6 Batch 0 Loss 2.6228\n",
            "Epoch 6 Batch 50 Loss 2.9322\n",
            "Epoch 6 Batch 100 Loss 2.8665\n",
            "Epoch 6 Batch 150 Loss 3.0685\n",
            "Epoch 6 Loss 2.8468, Val loss 3.5869\n",
            "Time taken for 1 epoch 53.514724254608154 sec\n",
            "\n",
            "Epoch 7 Batch 0 Loss 2.6204\n",
            "Epoch 7 Batch 50 Loss 2.4944\n",
            "Epoch 7 Batch 100 Loss 2.6483\n",
            "Epoch 7 Batch 150 Loss 2.6148\n",
            "Epoch 7 Loss 2.5950, Val loss 3.5361\n",
            "Time taken for 1 epoch 53.92237997055054 sec\n",
            "\n",
            "Epoch 8 Batch 0 Loss 2.3263\n",
            "Epoch 8 Batch 50 Loss 2.4003\n",
            "Epoch 8 Batch 100 Loss 2.4379\n",
            "Epoch 8 Batch 150 Loss 2.5980\n",
            "Epoch 8 Loss 2.3538, Val loss 3.5109\n",
            "Time taken for 1 epoch 54.183138847351074 sec\n",
            "\n",
            "Epoch 9 Batch 0 Loss 2.0709\n",
            "Epoch 9 Batch 50 Loss 1.9564\n",
            "Epoch 9 Batch 100 Loss 2.1509\n",
            "Epoch 9 Batch 150 Loss 2.1523\n",
            "Epoch 9 Loss 2.1241, Val loss 3.5093\n",
            "Time taken for 1 epoch 53.98804783821106 sec\n",
            "\n",
            "Epoch 10 Batch 0 Loss 1.9590\n",
            "Epoch 10 Batch 50 Loss 2.0005\n",
            "Epoch 10 Batch 100 Loss 1.7397\n",
            "Epoch 10 Batch 150 Loss 2.0006\n",
            "Epoch 10 Loss 1.9015, Val loss 3.5279\n",
            "Time taken for 1 epoch 54.1468346118927 sec\n",
            "\n"
          ],
          "name": "stdout"
        }
      ]
    },
    {
      "cell_type": "code",
      "metadata": {
        "id": "dhT3DeCGPtbU",
        "colab_type": "code",
        "outputId": "a42f96d1-9238-4157-abc1-921794b3985f",
        "colab": {
          "base_uri": "https://localhost:8080/",
          "height": 1000
        }
      },
      "source": [
        "from tqdm import tqdm_notebook\n",
        "INITIAL_EPOCH = 10\n",
        "EPOCHS = 15\n",
        "\n",
        "for epoch in range(EPOCHS):\n",
        "  start = time.time()\n",
        "\n",
        "\n",
        "  enc_hidden = encoder.initialize_hidden_state()\n",
        "  total_loss = 0\n",
        "  val_total_loss = 0\n",
        "\n",
        "\n",
        "  for (batch, (inp, targ)) in enumerate(dataset.take(steps_per_epoch)):\n",
        "\n",
        "    batch_loss = train_step(inp, targ, enc_hidden)\n",
        "    total_loss += batch_loss\n",
        "\n",
        "    if batch % 50 == 0:\n",
        "      print('Epoch {} Batch {} Loss {:.4f}'.format(epoch + 1,\n",
        "                                                   batch,\n",
        "                                                   batch_loss.numpy()))\n",
        "  for (batch, (val_inp, val_targ)) in enumerate(val_dataset.take(val_steps_per_epoch)):\n",
        "    val_batch_loss = val_step(val_inp, val_targ, enc_hidden)\n",
        "    val_total_loss += val_batch_loss\n",
        "  \n",
        "  # saving (checkpoint) the model every 10 epochs\n",
        "  if (epoch + 1) % 1 == 0:\n",
        "    checkpoint.save(file_prefix = checkpoint_prefix)\n",
        "\n",
        "  print('Epoch {} Loss {:.4f}'.format(epoch + 1,\n",
        "                                      total_loss / steps_per_epoch), end=', ')\n",
        "  print('Val loss {:.4f}'.format(val_total_loss / val_steps_per_epoch))\n",
        "  print('Time taken for 1 epoch {} sec\\n'.format(time.time() - start))"
      ],
      "execution_count": 0,
      "outputs": [
        {
          "output_type": "stream",
          "text": [
            "Epoch 1 Batch 0 Loss 1.5302\n",
            "Epoch 1 Batch 50 Loss 1.6325\n",
            "Epoch 1 Batch 100 Loss 1.7675\n",
            "Epoch 1 Batch 150 Loss 1.6108\n",
            "Epoch 1 Loss 1.6849, Val loss 3.5731\n",
            "Time taken for 1 epoch 54.555976152420044 sec\n",
            "\n",
            "Epoch 2 Batch 0 Loss 1.3882\n",
            "Epoch 2 Batch 50 Loss 1.5733\n",
            "Epoch 2 Batch 100 Loss 1.4389\n",
            "Epoch 2 Batch 150 Loss 1.6034\n",
            "Epoch 2 Loss 1.4760, Val loss 3.6284\n",
            "Time taken for 1 epoch 54.39212512969971 sec\n",
            "\n",
            "Epoch 3 Batch 0 Loss 1.1301\n",
            "Epoch 3 Batch 50 Loss 1.0508\n",
            "Epoch 3 Batch 100 Loss 1.1531\n",
            "Epoch 3 Batch 150 Loss 1.2841\n",
            "Epoch 3 Loss 1.2748, Val loss 3.7020\n",
            "Time taken for 1 epoch 54.13847804069519 sec\n",
            "\n",
            "Epoch 4 Batch 0 Loss 1.1317\n",
            "Epoch 4 Batch 50 Loss 1.1055\n",
            "Epoch 4 Batch 100 Loss 1.0166\n",
            "Epoch 4 Batch 150 Loss 1.2660\n",
            "Epoch 4 Loss 1.0870, Val loss 3.7780\n",
            "Time taken for 1 epoch 53.798510789871216 sec\n",
            "\n",
            "Epoch 5 Batch 0 Loss 0.8433\n",
            "Epoch 5 Batch 50 Loss 0.9200\n",
            "Epoch 5 Batch 100 Loss 0.9540\n",
            "Epoch 5 Batch 150 Loss 1.0242\n",
            "Epoch 5 Loss 0.9111, Val loss 3.8541\n",
            "Time taken for 1 epoch 53.56099772453308 sec\n",
            "\n",
            "Epoch 6 Batch 0 Loss 0.6956\n",
            "Epoch 6 Batch 50 Loss 0.7191\n",
            "Epoch 6 Batch 100 Loss 0.8308\n",
            "Epoch 6 Batch 150 Loss 0.8267\n",
            "Epoch 6 Loss 0.7560, Val loss 3.9671\n",
            "Time taken for 1 epoch 54.15758657455444 sec\n",
            "\n",
            "Epoch 7 Batch 0 Loss 0.5822\n",
            "Epoch 7 Batch 50 Loss 0.5226\n",
            "Epoch 7 Batch 100 Loss 0.6327\n",
            "Epoch 7 Batch 150 Loss 0.5487\n",
            "Epoch 7 Loss 0.6159, Val loss 4.0693\n",
            "Time taken for 1 epoch 54.122724533081055 sec\n",
            "\n",
            "Epoch 8 Batch 0 Loss 0.5331\n",
            "Epoch 8 Batch 50 Loss 0.4871\n",
            "Epoch 8 Batch 100 Loss 0.4999\n",
            "Epoch 8 Batch 150 Loss 0.5076\n",
            "Epoch 8 Loss 0.4882, Val loss 4.1539\n",
            "Time taken for 1 epoch 53.999502182006836 sec\n",
            "\n",
            "Epoch 9 Batch 0 Loss 0.2972\n",
            "Epoch 9 Batch 50 Loss 0.3693\n",
            "Epoch 9 Batch 100 Loss 0.3595\n",
            "Epoch 9 Batch 150 Loss 0.4540\n",
            "Epoch 9 Loss 0.3806, Val loss 4.2738\n",
            "Time taken for 1 epoch 53.95487117767334 sec\n",
            "\n",
            "Epoch 10 Batch 0 Loss 0.2418\n",
            "Epoch 10 Batch 50 Loss 0.4134\n",
            "Epoch 10 Batch 100 Loss 0.3310\n",
            "Epoch 10 Batch 150 Loss 0.2883\n",
            "Epoch 10 Loss 0.2968, Val loss 4.3686\n",
            "Time taken for 1 epoch 53.723965883255005 sec\n",
            "\n",
            "Epoch 11 Batch 0 Loss 0.2041\n",
            "Epoch 11 Batch 50 Loss 0.2749\n",
            "Epoch 11 Batch 100 Loss 0.2220\n",
            "Epoch 11 Batch 150 Loss 0.2547\n",
            "Epoch 11 Loss 0.2264, Val loss 4.4550\n",
            "Time taken for 1 epoch 53.889370918273926 sec\n",
            "\n",
            "Epoch 12 Batch 0 Loss 0.1695\n",
            "Epoch 12 Batch 50 Loss 0.1556\n",
            "Epoch 12 Batch 100 Loss 0.1757\n",
            "Epoch 12 Batch 150 Loss 0.2015\n",
            "Epoch 12 Loss 0.1735, Val loss 4.5432\n",
            "Time taken for 1 epoch 53.683926820755005 sec\n",
            "\n",
            "Epoch 13 Batch 0 Loss 0.1194\n",
            "Epoch 13 Batch 50 Loss 0.1342\n",
            "Epoch 13 Batch 100 Loss 0.1479\n",
            "Epoch 13 Batch 150 Loss 0.1235\n",
            "Epoch 13 Loss 0.1311, Val loss 4.6302\n",
            "Time taken for 1 epoch 53.80753517150879 sec\n",
            "\n",
            "Epoch 14 Batch 0 Loss 0.0980\n",
            "Epoch 14 Batch 50 Loss 0.0916\n",
            "Epoch 14 Batch 100 Loss 0.1328\n",
            "Epoch 14 Batch 150 Loss 0.1109\n",
            "Epoch 14 Loss 0.0993, Val loss 4.7040\n",
            "Time taken for 1 epoch 53.750017166137695 sec\n",
            "\n",
            "Epoch 15 Batch 0 Loss 0.0792\n",
            "Epoch 15 Batch 50 Loss 0.0648\n",
            "Epoch 15 Batch 100 Loss 0.0683\n",
            "Epoch 15 Batch 150 Loss 0.0826\n",
            "Epoch 15 Loss 0.0786, Val loss 4.7707\n",
            "Time taken for 1 epoch 53.82798504829407 sec\n",
            "\n"
          ],
          "name": "stdout"
        }
      ]
    },
    {
      "cell_type": "markdown",
      "metadata": {
        "id": "n_gxfhscI2xc",
        "colab_type": "text"
      },
      "source": [
        "# Scheduled sampling\n"
      ]
    },
    {
      "cell_type": "code",
      "metadata": {
        "id": "o0Q25A9tKg0F",
        "colab_type": "code",
        "colab": {}
      },
      "source": [
        "@tf.function\n",
        "def train_step(inp, targ, enc_hidden, it):\n",
        "  loss = 0\n",
        "  epsilon = 0.9999999\n",
        "  k = 3\n",
        "  c = 0.1\n",
        "\n",
        "\n",
        "  with tf.GradientTape() as tape:\n",
        "    enc_output, enc_hidden = encoder(inp, enc_hidden)\n",
        "\n",
        "    dec_hidden = enc_hidden\n",
        "\n",
        "    dec_input = tf.expand_dims([dict_t['<s>']] * BATCH_SIZE, 1)\n",
        "\n",
        "    eps = tf.math.maximum(epsilon, k-c*it)\n",
        "\n",
        "    # Teacher forcing - feeding the target as the next input\n",
        "    for t in range(1, targ.shape[1]):\n",
        "\n",
        "      # passing enc_output to the decoder\n",
        "      predictions, dec_hidden, _ = decoder(dec_input, dec_hidden, enc_output)\n",
        "\n",
        "      loss += loss_function(targ[:, t], predictions)\n",
        "\n",
        "      _x = tf.random.uniform(shape=[], minval=0,maxval=1)\n",
        "      if _x < eps:\n",
        "        # using teacher forcing\n",
        "        dec_input = tf.expand_dims(targ[:, t], 1)\n",
        "      else:\n",
        "        # dont use teacher forcing\n",
        "        # print(predictions)\n",
        "        # print(tf.math.argmax(predictions, axis=1))\n",
        "        dec_input = tf.cast(tf.expand_dims(tf.math.argmax(predictions, axis=1), 1), dtype=tf.int32)\n",
        "\n",
        "  batch_loss = (loss / int(targ.shape[1]))\n",
        "\n",
        "  variables = encoder.trainable_variables + decoder.trainable_variables\n",
        "\n",
        "  gradients = tape.gradient(loss, variables)\n",
        "\n",
        "  optimizer.apply_gradients(zip(gradients, variables))\n",
        "\n",
        "  return batch_loss\n",
        "\n",
        "@tf.function\n",
        "def val_step(inp, targ, enc_hidden):\n",
        "  loss = 0\n",
        "\n",
        "  with tf.GradientTape() as tape:\n",
        "    enc_output, enc_hidden = encoder(inp, enc_hidden)\n",
        "\n",
        "    dec_hidden = enc_hidden\n",
        "\n",
        "    dec_input = tf.expand_dims([dict_t['<s>']] * BATCH_SIZE, 1)\n",
        "\n",
        "    # Teacher forcing - feeding the target as the next input\n",
        "    for t in range(1, targ.shape[1]):\n",
        "\n",
        "      # passing enc_output to the decoder\n",
        "      predictions, dec_hidden, _ = decoder(dec_input, dec_hidden, enc_output)\n",
        "\n",
        "      loss += loss_function(targ[:, t], predictions)\n",
        "\n",
        "      # using teacher forcing\n",
        "      dec_input = tf.expand_dims(targ[:, t], 1)\n",
        "\n",
        "  batch_loss = (loss / int(targ.shape[1]))\n",
        "\n",
        "  return batch_loss\n"
      ],
      "execution_count": 0,
      "outputs": []
    },
    {
      "cell_type": "code",
      "metadata": {
        "id": "A84MC18sOYz1",
        "colab_type": "code",
        "outputId": "a7112597-c688-4b73-841f-27df17a7d99a",
        "colab": {
          "base_uri": "https://localhost:8080/",
          "height": 1000
        }
      },
      "source": [
        "from tqdm import tqdm_notebook\n",
        "EPOCHS = 10\n",
        "\n",
        "for epoch in range(EPOCHS):\n",
        "  start = time.time()\n",
        "\n",
        "\n",
        "  enc_hidden = encoder.initialize_hidden_state()\n",
        "  total_loss = 0\n",
        "  val_total_loss = 0\n",
        "\n",
        "\n",
        "  for (batch, (inp, targ)) in enumerate(dataset.take(steps_per_epoch)):\n",
        "\n",
        "    batch_loss = train_step(inp, targ, enc_hidden, epoch)\n",
        "    total_loss += batch_loss\n",
        "\n",
        "    if batch % 50 == 0:\n",
        "      print('Epoch {} Batch {} Loss {:.4f}'.format(epoch + 1,\n",
        "                                                   batch,\n",
        "                                                   batch_loss.numpy()))\n",
        "  for (batch, (val_inp, val_targ)) in enumerate(val_dataset.take(val_steps_per_epoch)):\n",
        "    val_batch_loss = val_step(val_inp, val_targ, enc_hidden)\n",
        "    val_total_loss += val_batch_loss\n",
        "    \n",
        "  \n",
        "  # saving (checkpoint) the model every 10 epochs\n",
        "  if (epoch + 1) % 1 == 0:\n",
        "    checkpoint.save(file_prefix = checkpoint_prefix)\n",
        "\n",
        "  print('Epoch {} Loss {:.4f}'.format(epoch + 1,\n",
        "                                      total_loss / steps_per_epoch), end=', ')\n",
        "  print('Val loss {:.4f}'.format(val_total_loss / val_steps_per_epoch))\n",
        "  print('Time taken for 1 epoch {} sec\\n'.format(time.time() - start))"
      ],
      "execution_count": 0,
      "outputs": [
        {
          "output_type": "stream",
          "text": [
            "Epoch 1 Batch 0 Loss 7.8780\n",
            "Epoch 1 Batch 50 Loss 5.1970\n",
            "Epoch 1 Batch 100 Loss 4.9083\n",
            "Epoch 1 Batch 150 Loss 5.2637\n",
            "Epoch 1 Loss 5.4086, Val loss 5.1159\n",
            "Time taken for 1 epoch 100.53334522247314 sec\n",
            "\n",
            "Epoch 2 Batch 0 Loss 5.0425\n",
            "Epoch 2 Batch 50 Loss 5.0003\n",
            "Epoch 2 Batch 100 Loss 5.0092\n",
            "Epoch 2 Batch 150 Loss 4.9233\n",
            "Epoch 2 Loss 4.7777, Val loss 4.5657\n",
            "Time taken for 1 epoch 72.61401915550232 sec\n",
            "\n",
            "Epoch 3 Batch 0 Loss 4.4000\n",
            "Epoch 3 Batch 50 Loss 3.9984\n",
            "Epoch 3 Batch 100 Loss 4.2950\n",
            "Epoch 3 Batch 150 Loss 3.9079\n",
            "Epoch 3 Loss 4.1861, Val loss 4.1462\n",
            "Time taken for 1 epoch 72.43060111999512 sec\n",
            "\n",
            "Epoch 4 Batch 0 Loss 3.7138\n",
            "Epoch 4 Batch 50 Loss 3.5746\n",
            "Epoch 4 Batch 100 Loss 3.8774\n",
            "Epoch 4 Batch 150 Loss 3.7605\n",
            "Epoch 4 Loss 3.7613, Val loss 3.9277\n",
            "Time taken for 1 epoch 74.3675184249878 sec\n",
            "\n",
            "Epoch 5 Batch 0 Loss 3.1640\n",
            "Epoch 5 Batch 50 Loss 3.4662\n",
            "Epoch 5 Batch 100 Loss 3.2167\n",
            "Epoch 5 Batch 150 Loss 3.3937\n",
            "Epoch 5 Loss 3.4426, Val loss 3.7726\n",
            "Time taken for 1 epoch 75.61679553985596 sec\n",
            "\n",
            "Epoch 6 Batch 0 Loss 3.3382\n",
            "Epoch 6 Batch 50 Loss 3.0561\n",
            "Epoch 6 Batch 100 Loss 3.3465\n",
            "Epoch 6 Batch 150 Loss 2.9568\n",
            "Epoch 6 Loss 3.1678, Val loss 3.6759\n",
            "Time taken for 1 epoch 72.62250757217407 sec\n",
            "\n",
            "Epoch 7 Batch 0 Loss 2.9967\n",
            "Epoch 7 Batch 50 Loss 2.9447\n",
            "Epoch 7 Batch 100 Loss 2.9283\n",
            "Epoch 7 Batch 150 Loss 2.8326\n",
            "Epoch 7 Loss 2.9228, Val loss 3.6209\n",
            "Time taken for 1 epoch 73.30709528923035 sec\n",
            "\n",
            "Epoch 8 Batch 0 Loss 2.8573\n",
            "Epoch 8 Batch 50 Loss 2.8111\n",
            "Epoch 8 Batch 100 Loss 2.6105\n",
            "Epoch 8 Batch 150 Loss 2.5081\n",
            "Epoch 8 Loss 2.7154, Val loss 3.5751\n",
            "Time taken for 1 epoch 72.36263656616211 sec\n",
            "\n",
            "Epoch 9 Batch 0 Loss 2.6153\n",
            "Epoch 9 Batch 50 Loss 2.3301\n",
            "Epoch 9 Batch 100 Loss 2.6113\n",
            "Epoch 9 Batch 150 Loss 2.5797\n",
            "Epoch 9 Loss 2.5253, Val loss 3.5692\n",
            "Time taken for 1 epoch 71.89994382858276 sec\n",
            "\n",
            "Epoch 10 Batch 0 Loss 2.1013\n",
            "Epoch 10 Batch 50 Loss 2.2497\n",
            "Epoch 10 Batch 100 Loss 2.3273\n",
            "Epoch 10 Batch 150 Loss 2.2121\n",
            "Epoch 10 Loss 2.3473, Val loss 3.5564\n",
            "Time taken for 1 epoch 76.01852488517761 sec\n",
            "\n"
          ],
          "name": "stdout"
        }
      ]
    },
    {
      "cell_type": "code",
      "metadata": {
        "id": "6uIMHAg0x8LC",
        "colab_type": "code",
        "outputId": "b41bb43a-f6fe-42f2-b5e8-157026b115e5",
        "colab": {
          "base_uri": "https://localhost:8080/",
          "height": 1000
        }
      },
      "source": [
        "from tqdm import tqdm_notebook\n",
        "INITIAL_EPOCH = 10\n",
        "EPOCHS = 20\n",
        "\n",
        "for epoch in range(INITIAL_EPOCH, EPOCHS):\n",
        "  start = time.time()\n",
        "\n",
        "\n",
        "  enc_hidden = encoder.initialize_hidden_state()\n",
        "  total_loss = 0\n",
        "  val_total_loss = 0\n",
        "\n",
        "\n",
        "  for (batch, (inp, targ)) in enumerate(dataset.take(steps_per_epoch)):\n",
        "\n",
        "    batch_loss = train_step(inp, targ, enc_hidden, epoch)\n",
        "    total_loss += batch_loss\n",
        "\n",
        "    if batch % 50 == 0:\n",
        "      print('Epoch {} Batch {} Loss {:.4f}'.format(epoch + 1,\n",
        "                                                   batch,\n",
        "                                                   batch_loss.numpy()))\n",
        "  for (batch, (val_inp, val_targ)) in enumerate(val_dataset.take(val_steps_per_epoch)):\n",
        "    val_batch_loss = val_step(val_inp, val_targ, enc_hidden)\n",
        "    val_total_loss += val_batch_loss\n",
        "    \n",
        "  \n",
        "  # saving (checkpoint) the model every epochs\n",
        "  if (epoch + 1) % 1 == 0:\n",
        "    checkpoint.save(file_prefix = checkpoint_prefix)\n",
        "\n",
        "  print('Epoch {} Loss {:.4f}'.format(epoch + 1,\n",
        "                                      total_loss / steps_per_epoch), end=', ')\n",
        "  print('Val loss {:.4f}'.format(val_total_loss / val_steps_per_epoch))\n",
        "  print('Time taken for 1 epoch {} sec\\n'.format(time.time() - start))"
      ],
      "execution_count": 0,
      "outputs": [
        {
          "output_type": "stream",
          "text": [
            "Epoch 11 Batch 0 Loss 2.1112\n",
            "Epoch 11 Batch 50 Loss 2.2165\n",
            "Epoch 11 Batch 100 Loss 1.9869\n",
            "Epoch 11 Batch 150 Loss 2.4663\n",
            "Epoch 11 Loss 2.1818, Val loss 3.5631\n",
            "Time taken for 1 epoch 69.56328654289246 sec\n",
            "\n",
            "Epoch 12 Batch 0 Loss 2.0357\n",
            "Epoch 12 Batch 50 Loss 2.1683\n",
            "Epoch 12 Batch 100 Loss 2.0346\n",
            "Epoch 12 Batch 150 Loss 2.0967\n",
            "Epoch 12 Loss 2.0275, Val loss 3.5722\n",
            "Time taken for 1 epoch 73.05270290374756 sec\n",
            "\n",
            "Epoch 13 Batch 0 Loss 1.7976\n",
            "Epoch 13 Batch 50 Loss 1.8571\n",
            "Epoch 13 Batch 100 Loss 1.8191\n",
            "Epoch 13 Batch 150 Loss 2.0240\n",
            "Epoch 13 Loss 1.8785, Val loss 3.5863\n",
            "Time taken for 1 epoch 72.75101017951965 sec\n",
            "\n",
            "Epoch 14 Batch 0 Loss 1.6867\n",
            "Epoch 14 Batch 50 Loss 1.7160\n",
            "Epoch 14 Batch 100 Loss 1.7201\n",
            "Epoch 14 Batch 150 Loss 1.7364\n",
            "Epoch 14 Loss 1.7362, Val loss 3.6131\n",
            "Time taken for 1 epoch 70.98681879043579 sec\n",
            "\n",
            "Epoch 15 Batch 0 Loss 1.4626\n",
            "Epoch 15 Batch 50 Loss 1.6035\n",
            "Epoch 15 Batch 100 Loss 1.7036\n",
            "Epoch 15 Batch 150 Loss 1.5490\n",
            "Epoch 15 Loss 1.5998, Val loss 3.6551\n",
            "Time taken for 1 epoch 71.09343004226685 sec\n",
            "\n",
            "Epoch 16 Batch 0 Loss 1.5352\n",
            "Epoch 16 Batch 50 Loss 1.4580\n",
            "Epoch 16 Batch 100 Loss 1.4923\n",
            "Epoch 16 Batch 150 Loss 1.4405\n",
            "Epoch 16 Loss 1.4642, Val loss 3.6805\n",
            "Time taken for 1 epoch 73.15829992294312 sec\n",
            "\n",
            "Epoch 17 Batch 0 Loss 1.3146\n",
            "Epoch 17 Batch 50 Loss 1.1680\n",
            "Epoch 17 Batch 100 Loss 1.4479\n",
            "Epoch 17 Batch 150 Loss 1.2347\n",
            "Epoch 17 Loss 1.3322, Val loss 3.7104\n",
            "Time taken for 1 epoch 72.19032692909241 sec\n",
            "\n",
            "Epoch 18 Batch 0 Loss 1.0286\n",
            "Epoch 18 Batch 50 Loss 0.8584\n",
            "Epoch 18 Batch 100 Loss 1.2330\n",
            "Epoch 18 Batch 150 Loss 1.1615\n",
            "Epoch 18 Loss 1.2036, Val loss 3.7565\n",
            "Time taken for 1 epoch 70.4141640663147 sec\n",
            "\n",
            "Epoch 19 Batch 0 Loss 0.9306\n",
            "Epoch 19 Batch 50 Loss 0.9362\n",
            "Epoch 19 Batch 100 Loss 1.1108\n",
            "Epoch 19 Batch 150 Loss 1.1800\n",
            "Epoch 19 Loss 1.0788, Val loss 3.8005\n",
            "Time taken for 1 epoch 70.04022169113159 sec\n",
            "\n",
            "Epoch 20 Batch 0 Loss 0.9860\n",
            "Epoch 20 Batch 50 Loss 0.8434\n",
            "Epoch 20 Batch 100 Loss 1.0598\n",
            "Epoch 20 Batch 150 Loss 1.0542\n",
            "Epoch 20 Loss 0.9602, Val loss 3.8625\n",
            "Time taken for 1 epoch 73.33528852462769 sec\n",
            "\n"
          ],
          "name": "stdout"
        }
      ]
    },
    {
      "cell_type": "code",
      "metadata": {
        "id": "_qWfRMGyRk1m",
        "colab_type": "code",
        "outputId": "e374c84a-bdab-4d5d-b0b8-d906b0b22194",
        "colab": {
          "base_uri": "https://localhost:8080/",
          "height": 1000
        }
      },
      "source": [
        "from tqdm import tqdm_notebook\n",
        "INITIAL_EPOCH = 20\n",
        "EPOCHS = 40\n",
        "\n",
        "for epoch in range(INITIAL_EPOCH, EPOCHS):\n",
        "  start = time.time()\n",
        "\n",
        "\n",
        "  enc_hidden = encoder.initialize_hidden_state()\n",
        "  total_loss = 0\n",
        "  val_total_loss = 0\n",
        "\n",
        "\n",
        "  for (batch, (inp, targ)) in enumerate(dataset.take(steps_per_epoch)):\n",
        "\n",
        "    batch_loss = train_step(inp, targ, enc_hidden, epoch)\n",
        "    total_loss += batch_loss\n",
        "\n",
        "    if batch % 50 == 0:\n",
        "      print('Epoch {} Batch {} Loss {:.4f}'.format(epoch + 1,\n",
        "                                                   batch,\n",
        "                                                   batch_loss.numpy()))\n",
        "  for (batch, (val_inp, val_targ)) in enumerate(val_dataset.take(val_steps_per_epoch)):\n",
        "    val_batch_loss = val_step(val_inp, val_targ, enc_hidden)\n",
        "    val_total_loss += val_batch_loss\n",
        "    \n",
        "  \n",
        "  # saving (checkpoint) the model every epochs\n",
        "  if (epoch + 1) % 1 == 0:\n",
        "    checkpoint.save(file_prefix = checkpoint_prefix)\n",
        "\n",
        "  print('Epoch {} Loss {:.4f}'.format(epoch + 1,\n",
        "                                      total_loss / steps_per_epoch), end=', ')\n",
        "  print('Val loss {:.4f}'.format(val_total_loss / val_steps_per_epoch))\n",
        "  print('Time taken for 1 epoch {} sec\\n'.format(time.time() - start))"
      ],
      "execution_count": 0,
      "outputs": [
        {
          "output_type": "stream",
          "text": [
            "Epoch 21 Batch 0 Loss 0.8668\n",
            "Epoch 21 Batch 50 Loss 0.8523\n",
            "Epoch 21 Batch 100 Loss 0.9039\n",
            "Epoch 21 Batch 150 Loss 0.7580\n",
            "Epoch 21 Loss 0.8422, Val loss 3.9264\n",
            "Time taken for 1 epoch 84.32172107696533 sec\n",
            "\n",
            "Epoch 22 Batch 0 Loss 0.6782\n",
            "Epoch 22 Batch 50 Loss 0.6382\n",
            "Epoch 22 Batch 100 Loss 0.6597\n",
            "Epoch 22 Batch 150 Loss 0.7107\n",
            "Epoch 22 Loss 0.7260, Val loss 3.9761\n",
            "Time taken for 1 epoch 71.97866463661194 sec\n",
            "\n",
            "Epoch 23 Batch 0 Loss 0.6342\n",
            "Epoch 23 Batch 50 Loss 0.5682\n",
            "Epoch 23 Batch 100 Loss 0.5277\n",
            "Epoch 23 Batch 150 Loss 0.7235\n",
            "Epoch 23 Loss 0.6217, Val loss 4.0617\n",
            "Time taken for 1 epoch 74.23924994468689 sec\n",
            "\n",
            "Epoch 24 Batch 0 Loss 0.4734\n",
            "Epoch 24 Batch 50 Loss 0.5441\n",
            "Epoch 24 Batch 100 Loss 0.5544\n",
            "Epoch 24 Batch 150 Loss 0.6479\n",
            "Epoch 24 Loss 0.5251, Val loss 4.1134\n",
            "Time taken for 1 epoch 74.15986752510071 sec\n",
            "\n",
            "Epoch 25 Batch 0 Loss 0.4107\n",
            "Epoch 25 Batch 50 Loss 0.4252\n",
            "Epoch 25 Batch 100 Loss 0.4879\n",
            "Epoch 25 Batch 150 Loss 0.5161\n",
            "Epoch 25 Loss 0.4421, Val loss 4.1946\n",
            "Time taken for 1 epoch 72.71017336845398 sec\n",
            "\n",
            "Epoch 26 Batch 0 Loss 0.3081\n",
            "Epoch 26 Batch 50 Loss 0.3823\n",
            "Epoch 26 Batch 100 Loss 0.3545\n",
            "Epoch 26 Batch 150 Loss 0.3699\n",
            "Epoch 26 Loss 0.3554, Val loss 4.2613\n",
            "Time taken for 1 epoch 76.3621072769165 sec\n",
            "\n",
            "Epoch 27 Batch 0 Loss 0.2903\n",
            "Epoch 27 Batch 50 Loss 0.3106\n",
            "Epoch 27 Batch 100 Loss 0.2619\n",
            "Epoch 27 Batch 150 Loss 0.3217\n",
            "Epoch 27 Loss 0.2843, Val loss 4.3273\n",
            "Time taken for 1 epoch 74.76462244987488 sec\n",
            "\n",
            "Epoch 28 Batch 0 Loss 0.2163\n",
            "Epoch 28 Batch 50 Loss 0.2391\n",
            "Epoch 28 Batch 100 Loss 0.2377\n",
            "Epoch 28 Batch 150 Loss 0.2422\n",
            "Epoch 28 Loss 0.2263, Val loss 4.3893\n",
            "Time taken for 1 epoch 71.72884631156921 sec\n",
            "\n",
            "Epoch 29 Batch 0 Loss 0.1437\n",
            "Epoch 29 Batch 50 Loss 0.1807\n",
            "Epoch 29 Batch 100 Loss 0.1925\n",
            "Epoch 29 Batch 150 Loss 0.1928\n",
            "Epoch 29 Loss 0.1813, Val loss 4.4654\n",
            "Time taken for 1 epoch 74.27655386924744 sec\n",
            "\n",
            "Epoch 30 Batch 0 Loss 0.1276\n",
            "Epoch 30 Batch 50 Loss 0.1646\n",
            "Epoch 30 Batch 100 Loss 0.1670\n",
            "Epoch 30 Batch 150 Loss 0.1876\n",
            "Epoch 30 Loss 0.1533, Val loss 4.5238\n",
            "Time taken for 1 epoch 73.99299478530884 sec\n",
            "\n",
            "Epoch 31 Batch 0 Loss 0.1131\n",
            "Epoch 31 Batch 50 Loss 0.1180\n",
            "Epoch 31 Batch 100 Loss 0.1195\n",
            "Epoch 31 Batch 150 Loss 0.0966\n",
            "Epoch 31 Loss 0.1239, Val loss 4.5880\n",
            "Time taken for 1 epoch 71.60679578781128 sec\n",
            "\n",
            "Epoch 32 Batch 0 Loss 0.0887\n",
            "Epoch 32 Batch 50 Loss 0.0924\n",
            "Epoch 32 Batch 100 Loss 0.0942\n",
            "Epoch 32 Batch 150 Loss 0.1041\n",
            "Epoch 32 Loss 0.1007, Val loss 4.6298\n",
            "Time taken for 1 epoch 74.59700512886047 sec\n",
            "\n",
            "Epoch 33 Batch 0 Loss 0.0710\n",
            "Epoch 33 Batch 50 Loss 0.0715\n",
            "Epoch 33 Batch 100 Loss 0.0644\n",
            "Epoch 33 Batch 150 Loss 0.0815\n",
            "Epoch 33 Loss 0.0832, Val loss 4.6928\n",
            "Time taken for 1 epoch 72.91217112541199 sec\n",
            "\n",
            "Epoch 34 Batch 0 Loss 0.0587\n",
            "Epoch 34 Batch 50 Loss 0.0778\n",
            "Epoch 34 Batch 100 Loss 0.0823\n",
            "Epoch 34 Batch 150 Loss 0.0720\n",
            "Epoch 34 Loss 0.0716, Val loss 4.7358\n",
            "Time taken for 1 epoch 72.1388463973999 sec\n",
            "\n",
            "Epoch 35 Batch 0 Loss 0.0646\n",
            "Epoch 35 Batch 50 Loss 0.0499\n",
            "Epoch 35 Batch 100 Loss 0.0574\n",
            "Epoch 35 Batch 150 Loss 0.0727\n",
            "Epoch 35 Loss 0.0653, Val loss 4.7869\n",
            "Time taken for 1 epoch 76.33052253723145 sec\n",
            "\n",
            "Epoch 36 Batch 0 Loss 0.0494\n",
            "Epoch 36 Batch 50 Loss 0.0598\n",
            "Epoch 36 Batch 100 Loss 0.0726\n",
            "Epoch 36 Batch 150 Loss 0.0483\n",
            "Epoch 36 Loss 0.0619, Val loss 4.8046\n",
            "Time taken for 1 epoch 72.48965573310852 sec\n",
            "\n",
            "Epoch 37 Batch 0 Loss 0.0399\n",
            "Epoch 37 Batch 50 Loss 0.0593\n",
            "Epoch 37 Batch 100 Loss 0.0445\n",
            "Epoch 37 Batch 150 Loss 0.0539\n",
            "Epoch 37 Loss 0.0589, Val loss 4.8839\n",
            "Time taken for 1 epoch 73.23807191848755 sec\n",
            "\n",
            "Epoch 38 Batch 0 Loss 0.0369\n",
            "Epoch 38 Batch 50 Loss 0.0568\n",
            "Epoch 38 Batch 100 Loss 0.0502\n",
            "Epoch 38 Batch 150 Loss 0.0514\n",
            "Epoch 38 Loss 0.0567, Val loss 4.9044\n",
            "Time taken for 1 epoch 72.21268439292908 sec\n",
            "\n",
            "Epoch 39 Batch 0 Loss 0.0704\n",
            "Epoch 39 Batch 50 Loss 0.0553\n",
            "Epoch 39 Batch 100 Loss 0.0538\n",
            "Epoch 39 Batch 150 Loss 0.0926\n",
            "Epoch 39 Loss 0.0627, Val loss 4.9684\n",
            "Time taken for 1 epoch 71.3160285949707 sec\n",
            "\n",
            "Epoch 40 Batch 0 Loss 0.0651\n",
            "Epoch 40 Batch 50 Loss 0.0689\n",
            "Epoch 40 Batch 100 Loss 0.0790\n",
            "Epoch 40 Batch 150 Loss 0.0565\n",
            "Epoch 40 Loss 0.0733, Val loss 4.9919\n",
            "Time taken for 1 epoch 74.34792804718018 sec\n",
            "\n"
          ],
          "name": "stdout"
        }
      ]
    },
    {
      "cell_type": "markdown",
      "metadata": {
        "id": "0f-9WC_-Khu1",
        "colab_type": "text"
      },
      "source": [
        "# Generation"
      ]
    },
    {
      "cell_type": "code",
      "metadata": {
        "id": "zPBuOwPUlAFU",
        "colab_type": "code",
        "colab": {}
      },
      "source": [
        "def evaluate(sentence):\n",
        "  attention_plot = np.zeros((maxlen_output, maxlen_input))\n",
        "\n",
        "  inputs = sentence.reshape(1, maxlen_input)\n",
        "  # sentence = preprocess_sentence(sentence)\n",
        "\n",
        "  # inputs = [rev_dict_t[i] for i in sentence.split(' ')]\n",
        "  # inputs = tf.keras.preprocessing.sequence.pad_sequences([inputs],\n",
        "  #                                                        maxlen=max_length_inp,\n",
        "  #                                                        padding='post')\n",
        "  inputs = tf.convert_to_tensor(inputs)\n",
        "\n",
        "  result = '<s> '\n",
        "\n",
        "  hidden = [tf.zeros((1, units))]\n",
        "  enc_out, enc_hidden = encoder(inputs, hidden)\n",
        "\n",
        "  dec_hidden = enc_hidden\n",
        "  dec_input = tf.expand_dims([dict_t['<s>']], 0)\n",
        "\n",
        "  for t in range(maxlen_output):\n",
        "    predictions, dec_hidden, attention_weights = decoder(dec_input,\n",
        "                                                         dec_hidden,\n",
        "                                                         enc_out)\n",
        "\n",
        "    # storing the attention weights to plot later on\n",
        "    attention_weights = tf.reshape(attention_weights, (-1, ))\n",
        "    attention_plot[t] = attention_weights.numpy()\n",
        "\n",
        "    predicted_id = tf.argmax(predictions[0]).numpy()\n",
        "\n",
        "    result += rev_dict_t[predicted_id] + ' '\n",
        "\n",
        "    if rev_dict_t[predicted_id] == '</s>':\n",
        "      return result, sentence, attention_plot\n",
        "\n",
        "    # the predicted ID is fed back into the model\n",
        "    dec_input = tf.expand_dims([predicted_id], 0)\n",
        "\n",
        "  return result, sentence, attention_plot"
      ],
      "execution_count": 0,
      "outputs": []
    },
    {
      "cell_type": "code",
      "metadata": {
        "id": "4XOKuwY4lCSj",
        "colab_type": "code",
        "colab": {}
      },
      "source": [
        "# function for plotting the attention weights\n",
        "def plot_attention(attention, sentence, predicted_sentence):\n",
        "  fig = plt.figure(figsize=(10,10))\n",
        "  ax = fig.add_subplot(1, 1, 1)\n",
        "  ax.matshow(attention, cmap='viridis')\n",
        "\n",
        "  fontdict = {'fontsize': 14}\n",
        "\n",
        "  ax.set_xticklabels([''] + sentence, fontdict=fontdict, rotation=90)\n",
        "  ax.set_yticklabels([''] + predicted_sentence, fontdict=fontdict)\n",
        "\n",
        "  ax.xaxis.set_major_locator(ticker.MultipleLocator(1))\n",
        "  ax.yaxis.set_major_locator(ticker.MultipleLocator(1))\n",
        "   \n",
        "  plt.show()"
      ],
      "execution_count": 0,
      "outputs": []
    },
    {
      "cell_type": "code",
      "metadata": {
        "id": "oot50W0ilDtQ",
        "colab_type": "code",
        "colab": {}
      },
      "source": [
        "import seaborn as sns\n",
        "def index2sentence(indexes):\n",
        "  result = ''\n",
        "  for i, index in enumerate(indexes):\n",
        "    result += rev_dict_t[index] + ' '\n",
        "\n",
        "    if rev_dict_t[index] == '</s>':\n",
        "      return result\n",
        "    \n",
        "  return result\n",
        "\n",
        "def translate(sentence, plot=True):\n",
        "  result, sentence, attention_plot = evaluate(sentence)\n",
        "\n",
        "  if not plot:\n",
        "    return result\n",
        "\n",
        "  print('Input: %s' % (sentence))\n",
        "  print('prediction : {}'.format(result))\n",
        "  \n",
        "  \n",
        "  sentence = index2sentence(sentence)\n",
        "  \n",
        "  if plot:\n",
        "    attention_plot = attention_plot[:len(result.split(' ')), :len(sentence.split(' '))]\n",
        "    # plot_attention(attention_plot, sentence.split(' '), result.split(' '))\n",
        "    plt.figure(figsize=(20,10))\n",
        "    sns.heatmap(attention_plot, yticklabels = result.split(' '), xticklabels = sentence.split(' '), linewidths=0.01)\n",
        "    plt.show()"
      ],
      "execution_count": 0,
      "outputs": []
    },
    {
      "cell_type": "code",
      "metadata": {
        "id": "K65Z0UQMlHDm",
        "colab_type": "code",
        "outputId": "0ab6a624-9c2d-42a7-a2fa-422e1a17996b",
        "colab": {
          "base_uri": "https://localhost:8080/",
          "height": 34
        }
      },
      "source": [
        "# restoring the latest checkpoint in checkpoint_dir\n",
        "# checkpoint.restore(tf.train.latest_checkpoint(checkpoint_dir))\n",
        "checkpoint.restore(os.path.join(checkpoint_dir, 'ckpt-40'))"
      ],
      "execution_count": 0,
      "outputs": [
        {
          "output_type": "execute_result",
          "data": {
            "text/plain": [
              "<tensorflow.python.training.tracking.util.CheckpointLoadStatus at 0x7f7f90689b38>"
            ]
          },
          "metadata": {
            "tags": []
          },
          "execution_count": 195
        }
      ]
    },
    {
      "cell_type": "code",
      "metadata": {
        "id": "weaBznWCcvvv",
        "colab_type": "code",
        "outputId": "c430537d-5065-465b-a1c0-d0b40833a1e2",
        "colab": {
          "base_uri": "https://localhost:8080/",
          "height": 34
        }
      },
      "source": [
        "X_test[0].shape"
      ],
      "execution_count": 0,
      "outputs": [
        {
          "output_type": "execute_result",
          "data": {
            "text/plain": [
              "(50,)"
            ]
          },
          "metadata": {
            "tags": []
          },
          "execution_count": 196
        }
      ]
    },
    {
      "cell_type": "code",
      "metadata": {
        "id": "n95H8ouhZZ7d",
        "colab_type": "code",
        "outputId": "be910d83-0c2c-4fdc-ed16-b84e4fb12e6d",
        "colab": {
          "base_uri": "https://localhost:8080/",
          "height": 71
        }
      },
      "source": [
        "print('headline : ',index2sentence(y_test[0]))\n",
        "print('content  : ',index2sentence(X_test[0]))"
      ],
      "execution_count": 0,
      "outputs": [
        {
          "output_type": "stream",
          "text": [
            "headline :  <s> สคบ. ชี้แจง กรณี ผลิตภัณฑ์ เสริม อาหาร น้ำ UNK </s> \n",
            "content  :  เมื่อ วัน ที่ 7 ก.ย. 2561 พลตำรวจตรี ประสิทธิ์ เฉลิมวุฒิศักดิ์ เลขาธิการ คณะ กรรมการคุ้มครอง ผู้ บริโภค สำนักงานคณะกรรมการคุ้มครอง ผู้ บริโภค ชี้แจง ประเด็น ผลิตภัณฑ์ เสริม อาหาร น้ำ UNK UNK จาก กรณี UNK อายุ 56 ปี ชาว บ้าน UNK จ.ขอนแก่น ร้องเรียน ต่อ สื่อ มวล ชน เกี่ยว กับ ผลิตภัณฑ์ เสริม อาหาร น้ำ UNK ที่ มี พนักงาน ขาย นำ \n"
          ],
          "name": "stdout"
        }
      ]
    },
    {
      "cell_type": "code",
      "metadata": {
        "id": "y8rUjDW7b7XG",
        "colab_type": "code",
        "outputId": "1c04f5ea-951a-4cdd-9324-204fa102f9bf",
        "colab": {
          "base_uri": "https://localhost:8080/",
          "height": 663
        }
      },
      "source": [
        "translate(X_test[0])"
      ],
      "execution_count": 0,
      "outputs": [
        {
          "output_type": "stream",
          "text": [
            "Input: [   62     8     2   232   532    25 11519   226    32  2419    10   578\n",
            "  8225    10   578   166   319   405   727   389   121 25312 25312    41\n",
            "   153 25312   673  2876    28   288   219 25312  2111  1040    96   347\n",
            "   574   511   357    35   405   727   389   121 25312     2    19   867\n",
            "   461    63]\n",
            "prediction : <s> ผู้ ว่า ฯ เรื่อง ข้อ กล่าวหา การ ใช้ รถ โดยสาร ประจำทาง </s> \n"
          ],
          "name": "stdout"
        },
        {
          "output_type": "display_data",
          "data": {
            "image/png": "[encoded data removed]",
            "text/plain": [
              "<Figure size 1440x720 with 2 Axes>"
            ]
          },
          "metadata": {
            "tags": [],
            "needs_background": "light"
          }
        }
      ]
    },
    {
      "cell_type": "code",
      "metadata": {
        "id": "ag_79T9za82y",
        "colab_type": "code",
        "outputId": "fd661353-9050-4252-e2d7-952e5b4ca4a8",
        "colab": {
          "base_uri": "https://localhost:8080/",
          "height": 1000
        }
      },
      "source": [
        "for i in range(10):\n",
        "  print('headline  : ',index2sentence(y_test[i]))\n",
        "  print('content   : ',index2sentence(X_test[i]))\n",
        "  translate(X_test[i])\n",
        "  print( '#' * 150)"
      ],
      "execution_count": 0,
      "outputs": [
        {
          "output_type": "stream",
          "text": [
            "headline  :  <s> สคบ. ชี้แจง กรณี ผลิตภัณฑ์ เสริม อาหาร น้ำ UNK </s> \n",
            "content   :  เมื่อ วัน ที่ 7 ก.ย. 2561 พลตำรวจตรี ประสิทธิ์ เฉลิมวุฒิศักดิ์ เลขาธิการ คณะ กรรมการคุ้มครอง ผู้ บริโภค สำนักงานคณะกรรมการคุ้มครอง ผู้ บริโภค ชี้แจง ประเด็น ผลิตภัณฑ์ เสริม อาหาร น้ำ UNK UNK จาก กรณี UNK อายุ 56 ปี ชาว บ้าน UNK จ.ขอนแก่น ร้องเรียน ต่อ สื่อ มวล ชน เกี่ยว กับ ผลิตภัณฑ์ เสริม อาหาร น้ำ UNK ที่ มี พนักงาน ขาย นำ \n",
            "Input: [   62     8     2   232   532    25 11519   226    32  2419    10   578\n",
            "  8225    10   578   166   319   405   727   389   121 25312 25312    41\n",
            "   153 25312   673  2876    28   288   219 25312  2111  1040    96   347\n",
            "   574   511   357    35   405   727   389   121 25312     2    19   867\n",
            "   461    63]\n",
            "prediction : <s> ผู้ ว่า ฯ เรื่อง ข้อ กล่าวหา การ ใช้ รถ โดยสาร ประจำทาง </s> \n"
          ],
          "name": "stdout"
        },
        {
          "output_type": "display_data",
          "data": {
            "image/png": "[encoded data removed]",
            "text/plain": [
              "<Figure size 1440x720 with 2 Axes>"
            ]
          },
          "metadata": {
            "tags": [],
            "needs_background": "light"
          }
        },
        {
          "output_type": "stream",
          "text": [
            "######################################################################################################################################################\n",
            "headline  :  <s> ผู้ ตรวจ ราชการ กระทรวงอุตสาหกรรม ลง พื้นที่ ตรวจ ราชการ รอบ 2 ประจำ ปี งบ ประมาณ พ.ศ. 2561 ใน เขต พื้นที่ รับผิดชอบ </s> \n",
            "content   :  เมื่อ วัน ที่ 28 สิงหาคม 2561 นายจุลพงษ์ ทวีศรี โดย มี UNK UNK จังหวัดกำแพงเพชร พร้อม ด้วย เจ้าหน้าที่ อุตสาหกรรม จังหวัดกำแพงเพชร ให้ การ ต้อนรับ นอก จาก นี้ ยัง ได้ ลง พื้นที่ เพื่อ ตรวจ เยี่ยม โครงการ เสริมสร้าง เศรษฐกิจ ฐาน ชุมชน หรือ UNK UNK หมู่ บ้าน CIV กระทง เปลือก ข้าวโพด UNK ดอก ไม้ ตก UNK จ.กำแพงเพชร \n",
            "Input: [   62     8     2   376   243    25  1777    34    19 25312 25312  6129\n",
            "    29    64   245   186  6129    12     1   248   353    41    17   377\n",
            "    23    44    47    20    86   104    45   596    95   749   183   197\n",
            " 25312 25312   533   219  1772  2011  1770  1393 25312   951   644   864\n",
            " 25312  3301]\n",
            "prediction : <s> รัฐมนตรี ประจำ พื้นที่ ตรวจ ราชการ กระทรวงอุตสาหกรรม ลง พื้นที่ ตรวจ ราชการ กระทรวงอุตสาหกรรม ลง พื้นที่ ตรวจ ราชการ กระทรวงอุตสาหกรรม ลง พื้นที่ ตรวจ ราชการ กระทรวงอุตสาหกรรม ลง \n"
          ],
          "name": "stdout"
        },
        {
          "output_type": "display_data",
          "data": {
            "image/png": "[encoded data removed]",
            "text/plain": [
              "<Figure size 1440x720 with 2 Axes>"
            ]
          },
          "metadata": {
            "tags": [],
            "needs_background": "light"
          }
        },
        {
          "output_type": "stream",
          "text": [
            "######################################################################################################################################################\n",
            "headline  :  <s> รัฐบาล ยืนยัน ยัง ไม่ มี แนว คิด ปรับ ขึ้น ภาษี VAT วอน สังคม อย่า ตื่นตระหนก และ หลง เชื่อ ย้ำ นายก </s> \n",
            "content   :  วัน นี้ 25 พฤษภาคม 2561 พลโท สรรเสริญ แก้วกำเนิด โฆษก ประจำ สำนักนายกรัฐมนตรี กล่าว ถึง กรณี ที่ มี การ แชร์ ข้อความ และ ภาพ ระบุ UNK ประชาชน จ่าย ภาษี มูลค่า เพิ่ม เป็น 8 % ถ้า ไม่ ขึ้น ประเทศ จะ ล้มละลาย ใน ช่วง นี้ ว่า ข้อความ และ ภาพ ดัง กล่าว เป็น เรื่อง เก่า เมื่อ เดือน มี.ค. \n",
            "Input: [    8    17   390   308    25   991    99    50   215    87   110   153\n",
            "     2    19     1  1637  1300     3   753   617 25312    53   543   354\n",
            "   554   141     9   222   559  5475   118   127    65   178  1797     4\n",
            "   246    17    42  1300     3   753   281    87     9   145  1388    62\n",
            "   202   556]\n",
            "prediction : <s> รัฐบาล แจง มือ มืด ปล่อย คลิป อ้าง เดินหน้า แก้ไข ปัญหา คน ไทย ชี้ 317 ปี ล่าสุด ดึง ราย ชื่อ เศรษฐกิจ ฐาน ราก \n"
          ],
          "name": "stdout"
        },
        {
          "output_type": "display_data",
          "data": {
            "image/png": "[encoded data removed]",
            "text/plain": [
              "<Figure size 1440x720 with 2 Axes>"
            ]
          },
          "metadata": {
            "tags": [],
            "needs_background": "light"
          }
        },
        {
          "output_type": "stream",
          "text": [
            "######################################################################################################################################################\n",
            "headline  :  <s> นโยบาย การ ผลิต ครู ผู้ ช่วย เลือด ใหม่ </s> \n",
            "content   :  รัฐบาล เปิด โอกาส ให้ ผู้ มี ความ สามารถ ใน หลากหลาย สาขา อาชีพ สามารถ สอบ ครู ผู้ ช่วย ใน สาขา ที่ ขาดแคลน ได้ โดย จะ ฝึกอบรม อย่าง เข้มข้น ก่อน บรรจุ ต่อ จาก นี้ ไป ขอ เชิญ รับฟัง ไทย คู่ฟ้า ครับ จาก นโยบาย ของ รัฐบาล ที่ เปิด โอกาส ให้ ผู้ ไม่ มี \n",
            "Input: [  57   38  136   12   10   19   11  302    4 1633  768  488  302 1162\n",
            "  391   10   58    4  768    2 1863   23   34  178  639   76 1829  404\n",
            " 1263   96   41   17   90  157  388  270   36  590  449   41   98   18\n",
            "   57    2   38  136   12   10  118   19]\n",
            "prediction : <s> รัฐบาล เชิญชวน ประชาชน รับ ทราบ ความ พร้อม เป็น เจ้าภาพ จัด การ เปิด งาน เลี้ยง รับรอง มาตรฐาน แรงงาน นอก ระบบ การ เป็น ครัว \n"
          ],
          "name": "stdout"
        },
        {
          "output_type": "display_data",
          "data": {
            "image/png": "[encoded data removed]",
            "text/plain": [
              "<Figure size 1440x720 with 2 Axes>"
            ]
          },
          "metadata": {
            "tags": [],
            "needs_background": "light"
          }
        },
        {
          "output_type": "stream",
          "text": [
            "######################################################################################################################################################\n",
            "headline  :  <s> ปิด งาน ชุมนุม ลูก เสือ จังหวัด ชาย แดน ภาค ใต้ ครั้ง ที่ 12 จังหวัดสตูล </s> \n",
            "content   :  พล.อ.สุรเชษฐ์ ชัยวงศ์ รัฐมนตรี ช่วย ว่าการ กระทรวงศึกษาธิการ เป็น ประธาน พิธี ปิด งาน ชุมนุม ลูก เสือ จังหวัด ชาย แดน ภาค ใต้ ครั้ง ที่ 12 ณ ค่าย ลูกเสือปากบาง อำเภอละงู จังหวัดสตูล พล.อ.สุรเชษฐ์ ชัยวงศ์ รมช. ศึกษาธิการ ได้ กล่าว ใน พิธี ปิด ดัง นี้ ท่าน ผู้ บังคับบัญชา ลูกเสือ ลูกเสือ - UNK ที่ เข้า ร่วม ชุมนุม คณะ ลูกเสือ จาก \n",
            "Input: [  585     7    58    22   103     9    21    82   626    13  1724   828\n",
            "  3510   158   271   430    51   109    54     2   264    26  1564 20511\n",
            "  7945  3491   585   480   884    23    87     4    82   626   281    17\n",
            "   800    10  3709  2066  2066    39 25312     2    46    27  1724    32\n",
            "  2066    41]\n",
            "prediction : <s> สุรเชษฐ์ ประชุม เตรียม งาน ชุมนุม ลูก เสือ จังหวัด ชาย แดน ภาค ใต้ ครั้ง ที่ 12 </s> \n"
          ],
          "name": "stdout"
        },
        {
          "output_type": "display_data",
          "data": {
            "image/png": "[encoded data removed]",
            "text/plain": [
              "<Figure size 1440x720 with 2 Axes>"
            ]
          },
          "metadata": {
            "tags": [],
            "needs_background": "light"
          }
        },
        {
          "output_type": "stream",
          "text": [
            "######################################################################################################################################################\n",
            "headline  :  <s> เตือน นาย จ้าง ห้าม บังคับ ลูกจ้าง ทำ งาน วัน หยุด </s> \n",
            "content   :  กรมสวัสดิการ และ คุ้มครอง แรงงาน เตือน นาย จ้าง ให้ ลูกจ้าง ทำ งาน ใน วัน หยุด ผิด กฎหมาย หาก จำเป็น ต้อง ได้ รับ ความ ยินยอม จาก ลูกจ้าง ก่อน และ ต้อง จ่าย ค่า ทำ งาน ใน วัน หยุด นายอนันต์ชัย อุทัยพัฒนา ชีพ อธิบดี กรมสวัสดิการ และ คุ้มครอง แรงงาน กสร. เปิดเผย ว่า พระราชบัญญัติ คุ้มครอง แรงงาน พ.ศ. 2541 \n",
            "Input: [  481     3   251    88   484   384   330    12   512    79    13     4\n",
            "     8  1038   418   199   744  1188   265    23    48    11  8692    41\n",
            "   512   404     3   265   543   237    79    13     4     8  1038   863\n",
            "   566   190   481     3   251    88   518    67    42   705   251    88\n",
            "   212 10437]\n",
            "prediction : <s> กสร. เตือน ภัย อย่า ลง เชื่อ เพจ หลอก ให้ ลูกจ้าง ทำ งาน กระทบ การ จ่าย ค่า จ้าง </s> \n"
          ],
          "name": "stdout"
        },
        {
          "output_type": "display_data",
          "data": {
            "image/png": "[encoded data removed]",
            "text/plain": [
              "<Figure size 1440x720 with 2 Axes>"
            ]
          },
          "metadata": {
            "tags": [],
            "needs_background": "light"
          }
        },
        {
          "output_type": "stream",
          "text": [
            "######################################################################################################################################################\n",
            "headline  :  <s> ฐานะ การ คลัง ของ รัฐบาล ใน ช่วง 8 เดือน แรก ของ ปี งบ ประมาณ 2560 </s> \n",
            "content   :  UNK สํานัก งาน เศรษฐกิจการ คลัง ใน ฐานะ โฆษก กระทรวงการคลัง แถลง ข่าว ฐานะ การ คลัง ของ รัฐบาล ตาม ระบบ กระแส เงิน สด ใน ช่วง 8 เดือน แรก ของ ปี งบ ประมาณ 2560 เดือน ตุลาคม 2559 – เดือน พฤษภาคม 2560 นายกฤษฎา  จี นะ วิจารณะ UNK  อํานวยการ สํานัก งาน เศรษฐกิจการ คลัง ใน ฐานะ \n",
            "Input: [25312  5540    13  1608   415     4   262    99   286   207   179   262\n",
            "     1   415    18    57    55   113  1127    74   940     4   246   222\n",
            "   202   363    18    28   240   221    31   202   266   256   227   202\n",
            "   308    31  5893  3581  1378 25312  4671  5539  5540    13  1608   415\n",
            "     4   262]\n",
            "prediction : <s> ผล การ จัด มหกรรม วัน ที่ 1 ปี 2560 </s> \n"
          ],
          "name": "stdout"
        },
        {
          "output_type": "display_data",
          "data": {
            "image/png": "[encoded data removed]",
            "text/plain": [
              "<Figure size 1440x720 with 2 Axes>"
            ]
          },
          "metadata": {
            "tags": [],
            "needs_background": "light"
          }
        },
        {
          "output_type": "stream",
          "text": [
            "######################################################################################################################################################\n",
            "headline  :  <s> พม. กำชับ ทีม One Home เร่ง เยียวยา จิตใจ สาว UNK วัย 15 ปี ที่ ถูก ลุง เขย บังคับ ข่มขืน จน </s> \n",
            "content   :  วัน นี้ 12 ม.ค. 61 เวลา 08 . 30 น. กระทรวงการพัฒนาสังคมและความมั่นคงของมนุษย์ พม. โดย นายณรงค์ คงคำ รอง ปลัด กระทรวงการพัฒนาสังคมและความมั่นคงของมนุษย์ รอง ปลัด พม. เป็น ประธาน การ ประชุม ศูนย์ ปฏิบัติการ กระทรวงการพัฒนาสังคมและความมั่นคงของมนุษย์ ศปก.พม. ครั้ง ที่ 20 / 2561 เพื่อ รับ ทราบ ปัญหา ทาง สังคม ต่างๆ ที่ เกิด ขึ้น ใน แต่ละ วัน และ ร่วมหา แนวทาง การ \n",
            "Input: [   8   17  264  623  130   24  373   14   66   33  132   97   34  605\n",
            "   30   37  132   30   37   97    9   21    1   15  151  257  132  730\n",
            "   54    2  205   68   25   20   48  380   85   52  106  757    2  241\n",
            "  127    4  792    8    3 1286  180    1]\n",
            "prediction : <s> พม. กำชับ ทีม One Home เร่ง ช่วยเหลือ พร้อม เยียวยา จิตใจ เด็ก หญิง วัย 12 ปี ที่ ถูก รุ่น พี่ล่วง </s> \n"
          ],
          "name": "stdout"
        },
        {
          "output_type": "display_data",
          "data": {
            "image/png": "[encoded data removed]",
            "text/plain": [
              "<Figure size 1440x720 with 2 Axes>"
            ]
          },
          "metadata": {
            "tags": [],
            "needs_background": "light"
          }
        },
        {
          "output_type": "stream",
          "text": [
            "######################################################################################################################################################\n",
            "headline  :  <s> นรม. เชิญชวน ประชาชน ร่วม กิจกรรม สัปดาห์ เผยแผ่ พระพุทธศาสนา เนื่อง ใน เทศกาล วัน มา ฆบูชา ประจำ ปี 2561 ณ พุทธมณฑล 25 </s> \n",
            "content   :  ก่อน การ ประชุม คณะ รัฐมนตรี นายสุวพันธุ์ ตันยุวรรธนะ รมต. นร. ได้ เข้า พบ นายก รัฐมนตรี เพื่อ ประชาสัมพันธ์ ใน การ จัด สัปดาห์ เผยแผ่ พระพุทธศาสนา เนื่อง ใน เทศกาล วัน มาฆบูชา พร้อม ย้ำ ให้ ยึด หลัก คำ สอน ของ พระพุทธเจ้า ใน การ ดำเนิน ชีวิต ประจำ วัน วัน นี้ 20 กุมภาพันธ์ 2561 เวลา 08 . 30 \n",
            "Input: [ 404    1   15   32    7  857  698 1457   23   46  250   16    7   20\n",
            "  731    4    1   43  950 4884 1624  214    4  479    8 2754   29  213\n",
            "   12  858  292  398 1335   18 6779    4    1   77  193   50    8    8\n",
            "   17  205  282   25   24  373   14   66]\n",
            "prediction : <s> นายก รัฐมนตรี เป็น ประธาน การ ประชุม คณะ รัฐมนตรี 7 หน่วย งาน ใน โอกาส เข้า รับ ตำแหน่ง วัน งด สูบ บุหรี่ โลก ก่อน \n"
          ],
          "name": "stdout"
        },
        {
          "output_type": "display_data",
          "data": {
            "image/png": "[encoded data removed]",
            "text/plain": [
              "<Figure size 1440x720 with 2 Axes>"
            ]
          },
          "metadata": {
            "tags": [],
            "needs_background": "light"
          }
        },
        {
          "output_type": "stream",
          "text": [
            "######################################################################################################################################################\n",
            "headline  :  <s> ไทย และ UNK เจตนารมณ์ ร่วม กัน ใน การ แก้ไข ปัญหา ยา เสพ ติด อาชญากรรม และ การ ทุจริต </s> \n",
            "content   :  วัน นี้ วัน จันทร์ ที่ 5 มีนาคม 2561 เวลา 13 . 15 น. นายยูริ เฟโดทอฟ UNK Fedotov ผู้ อำนวย การ บริหาร UNK ด้วย ยา เสพ ติด และ UNK UNODC และ รอง เลขาธิการ สหประชาชาติ เข้า เยี่ยม คารวะ พลอากาศ เอก  ประจิน จั่นตอง รอง นายก รัฐมนตรี และ รัฐมนตรี ว่าการ กระทรวงยุติธรรม ณ ห้อง รับรอง 1 ตึกบัญชา \n",
            "Input: [    8    17     8   507     2   117   236    25    24   134    14   163\n",
            "    33  6589 25312  8200    10   167     1    89 25312    64   394   622\n",
            "   385     3 25312  4235     3    30   226  1848    46   104   295   591\n",
            "   361   477    30    16     7     3     7    22    70    26    75   471\n",
            "    49   555]\n",
            "prediction : <s> รอง นายก รัฐมนตรี และ รัฐมนตรี ว่าการ กระทรวงกลาโหม สาธารณรัฐอินเดีย และ รอง นายก รัฐมนตรี และ รัฐมนตรี ว่าการ กระทรวงกลาโหม สาธารณรัฐอินเดีย และ รอง นายก รัฐมนตรี และ \n"
          ],
          "name": "stdout"
        },
        {
          "output_type": "display_data",
          "data": {
            "image/png": "[encoded data removed]",
            "text/plain": [
              "<Figure size 1440x720 with 2 Axes>"
            ]
          },
          "metadata": {
            "tags": [],
            "needs_background": "light"
          }
        },
        {
          "output_type": "stream",
          "text": [
            "######################################################################################################################################################\n"
          ],
          "name": "stdout"
        }
      ]
    },
    {
      "cell_type": "code",
      "metadata": {
        "id": "e_ZPsVC8a80H",
        "colab_type": "code",
        "outputId": "b4e85ea2-fca2-47ad-c433-6678c643a6f3",
        "colab": {
          "base_uri": "https://localhost:8080/",
          "height": 221
        }
      },
      "source": [
        "encoder.summary()"
      ],
      "execution_count": 0,
      "outputs": [
        {
          "output_type": "stream",
          "text": [
            "Model: \"encoder_2\"\n",
            "_________________________________________________________________\n",
            "Layer (type)                 Output Shape              Param #   \n",
            "=================================================================\n",
            "embedding_4 (Embedding)      multiple                  6480128   \n",
            "_________________________________________________________________\n",
            "gru_4 (GRU)                  multiple                  3938304   \n",
            "=================================================================\n",
            "Total params: 10,418,432\n",
            "Trainable params: 10,418,432\n",
            "Non-trainable params: 0\n",
            "_________________________________________________________________\n"
          ],
          "name": "stdout"
        }
      ]
    },
    {
      "cell_type": "code",
      "metadata": {
        "id": "T6yR217_a8xB",
        "colab_type": "code",
        "outputId": "8127ac12-2ca0-4bba-ba7e-268e1e9bdcc6",
        "colab": {
          "base_uri": "https://localhost:8080/",
          "height": 289
        }
      },
      "source": [
        "decoder.summary()"
      ],
      "execution_count": 0,
      "outputs": [
        {
          "output_type": "stream",
          "text": [
            "Model: \"decoder_2\"\n",
            "_________________________________________________________________\n",
            "Layer (type)                 Output Shape              Param #   \n",
            "=================================================================\n",
            "embedding_5 (Embedding)      multiple                  6480128   \n",
            "_________________________________________________________________\n",
            "gru_5 (GRU)                  multiple                  7084032   \n",
            "_________________________________________________________________\n",
            "dense_20 (Dense)             multiple                  25945825  \n",
            "_________________________________________________________________\n",
            "bahdanau_attention_6 (Bahdan multiple                  2100225   \n",
            "=================================================================\n",
            "Total params: 41,610,210\n",
            "Trainable params: 41,610,210\n",
            "Non-trainable params: 0\n",
            "_________________________________________________________________\n"
          ],
          "name": "stdout"
        }
      ]
    },
    {
      "cell_type": "markdown",
      "metadata": {
        "id": "roPCp7QkkmQP",
        "colab_type": "text"
      },
      "source": [
        "# Evaluation"
      ]
    },
    {
      "cell_type": "code",
      "metadata": {
        "id": "dWxwHbMfa8rE",
        "colab_type": "code",
        "outputId": "503633ae-1049-445c-e131-859ad08115ce",
        "colab": {
          "base_uri": "https://localhost:8080/",
          "height": 51
        }
      },
      "source": [
        "!pip install rouge"
      ],
      "execution_count": 0,
      "outputs": [
        {
          "output_type": "stream",
          "text": [
            "Requirement already satisfied: rouge in /usr/local/lib/python3.6/dist-packages (1.0.0)\n",
            "Requirement already satisfied: six in /usr/local/lib/python3.6/dist-packages (from rouge) (1.12.0)\n"
          ],
          "name": "stdout"
        }
      ]
    },
    {
      "cell_type": "code",
      "metadata": {
        "id": "5-7kAVijR_Kp",
        "colab_type": "code",
        "outputId": "80580e88-a0b6-4bc4-9eea-79c0d12a0439",
        "colab": {
          "base_uri": "https://localhost:8080/",
          "height": 286,
          "referenced_widgets": [
            "f77c7c5d3d7e463a944062d113ebcf4c",
            "f54eb1d099184f498b2c9fbdc57745d3",
            "db44e4f3c6674c60a9fcb6cbb398a09f",
            "63c68cf6fc7f4431872963e88fe0427f",
            "808214307ca94cbe9bb708ebd2610e07",
            "0c3c83fc3c65470fbd3e7d6d7e4c62d9",
            "c8f3b1b2134a48f0a730572d6545bc3e",
            "7d3b58ecadb04b589c699061dc86bec8",
            "01a4997c0e914c2aaaced33a12891022",
            "c62369c00498409e910a083711430139",
            "465bc66639704058b04b3da3eb6227ce",
            "68bed1690d134cb28263ce535181a279",
            "06a9b73c9b6f413f8e9593d62683cd83",
            "d7d34ee4f44c4e37854a57bea9da0969",
            "f0ca5886f9ae4cb98f39236ad1367af3",
            "e996b2f4782541569c1559d1fa4b27e7",
            "2992ce5606f949ae99785b0b3601d5d4",
            "cd2e72985323495ebde94c65afc8c724",
            "47a723077e394c3f926fbfb9e57f68ab",
            "0fc0a20357344debb3bafcde4ae2822b",
            "25c48d84fbdb4ee194a77aaf10743804",
            "c27d1a38680c427f90336a87cbfc2fc9",
            "2a88adfa60664b73a044116fb27d5019",
            "1b2705ab60ef44b08134a0d38f23543f"
          ]
        }
      },
      "source": [
        "# additive + scheduled sampling with stopwords v2\n",
        "# v2 + fixed vocab @ checkpoint-25 to see result\n",
        "from tqdm import tqdm_notebook\n",
        "from rouge import Rouge\n",
        "def inference(dataset) :\n",
        "  pred_sum = []\n",
        "  for c in tqdm_notebook(dataset):\n",
        "    pred_sum.append(translate(c, plot=False))\n",
        "  return pred_sum\n",
        "def evaluate_result(gold_sum,pred_sum) : \n",
        "  rouge = Rouge()\n",
        "  avg_scores = rouge.get_scores(pred_sum, gold_sum, avg=True)\n",
        "  return avg_scores \n",
        "\n",
        "y_train_pred = inference(X_train)\n",
        "y_val_pred = inference(X_val)\n",
        "y_test_pred = inference(X_test)\n",
        "\n",
        "print('Eval train :', evaluate_result(gold_sum_train, y_train_pred))\n",
        "print('Eval val   :', evaluate_result(gold_sum_val, y_val_pred))\n",
        "print('Eval test  :', evaluate_result(gold_sum_test, y_test_pred))"
      ],
      "execution_count": 0,
      "outputs": [
        {
          "output_type": "stream",
          "text": [
            "/usr/local/lib/python3.6/dist-packages/ipykernel_launcher.py:7: TqdmDeprecationWarning: This function will be removed in tqdm==5.0.0\n",
            "Please use `tqdm.notebook.tqdm` instead of `tqdm.tqdm_notebook`\n",
            "  import sys\n"
          ],
          "name": "stderr"
        },
        {
          "output_type": "display_data",
          "data": {
            "application/vnd.jupyter.widget-view+json": {
              "model_id": "f77c7c5d3d7e463a944062d113ebcf4c",
              "version_minor": 0,
              "version_major": 2
            },
            "text/plain": [
              "HBox(children=(FloatProgress(value=0.0, max=11615.0), HTML(value='')))"
            ]
          },
          "metadata": {
            "tags": []
          }
        },
        {
          "output_type": "stream",
          "text": [
            "\n"
          ],
          "name": "stdout"
        },
        {
          "output_type": "display_data",
          "data": {
            "application/vnd.jupyter.widget-view+json": {
              "model_id": "01a4997c0e914c2aaaced33a12891022",
              "version_minor": 0,
              "version_major": 2
            },
            "text/plain": [
              "HBox(children=(FloatProgress(value=0.0, max=2861.0), HTML(value='')))"
            ]
          },
          "metadata": {
            "tags": []
          }
        },
        {
          "output_type": "stream",
          "text": [
            "\n"
          ],
          "name": "stdout"
        },
        {
          "output_type": "display_data",
          "data": {
            "application/vnd.jupyter.widget-view+json": {
              "model_id": "2992ce5606f949ae99785b0b3601d5d4",
              "version_minor": 0,
              "version_major": 2
            },
            "text/plain": [
              "HBox(children=(FloatProgress(value=0.0, max=2861.0), HTML(value='')))"
            ]
          },
          "metadata": {
            "tags": []
          }
        },
        {
          "output_type": "stream",
          "text": [
            "\n",
            "Eval train : {'rouge-1': {'f': 0.9438678720831742, 'p': 0.9549408554315265, 'r': 0.9390878225425167}, 'rouge-2': {'f': 0.9297755438920957, 'p': 0.9400960246733056, 'r': 0.9253951117545213}, 'rouge-l': {'f': 0.9499689347419972, 'p': 0.966245063470805, 'r': 0.9408460446305874}}\n",
            "Eval val   : {'rouge-1': {'f': 0.30696986904541884, 'p': 0.3441157267098016, 'r': 0.295776334679094}, 'rouge-2': {'f': 0.13969712443591825, 'p': 0.1524255401047246, 'r': 0.13624046482582075}, 'rouge-l': {'f': 0.3150038260504538, 'p': 0.36395123771687127, 'r': 0.29421264574014744}}\n",
            "Eval test  : {'rouge-1': {'f': 0.30774954594178605, 'p': 0.34410322336521426, 'r': 0.29772220776952013}, 'rouge-2': {'f': 0.14070226601997562, 'p': 0.15239995024524688, 'r': 0.13821015598564737}, 'rouge-l': {'f': 0.31534850091930056, 'p': 0.3630970526742413, 'r': 0.29580947145323233}}\n"
          ],
          "name": "stdout"
        }
      ]
    },
    {
      "cell_type": "code",
      "metadata": {
        "id": "pGzAb0rmR_NI",
        "colab_type": "code",
        "colab": {}
      },
      "source": [
        ""
      ],
      "execution_count": 0,
      "outputs": []
    },
    {
      "cell_type": "code",
      "metadata": {
        "id": "nIzLDCzXR_Py",
        "colab_type": "code",
        "colab": {}
      },
      "source": [
        ""
      ],
      "execution_count": 0,
      "outputs": []
    },
    {
      "cell_type": "code",
      "metadata": {
        "id": "94EX9dKZR_R_",
        "colab_type": "code",
        "colab": {}
      },
      "source": [
        ""
      ],
      "execution_count": 0,
      "outputs": []
    },
    {
      "cell_type": "code",
      "metadata": {
        "id": "JDe6JczdR_UY",
        "colab_type": "code",
        "colab": {}
      },
      "source": [
        ""
      ],
      "execution_count": 0,
      "outputs": []
    },
    {
      "cell_type": "code",
      "metadata": {
        "id": "8_S0XeaqR_Y7",
        "colab_type": "code",
        "colab": {}
      },
      "source": [
        ""
      ],
      "execution_count": 0,
      "outputs": []
    },
    {
      "cell_type": "code",
      "metadata": {
        "id": "EDV39n0fR_XM",
        "colab_type": "code",
        "colab": {}
      },
      "source": [
        ""
      ],
      "execution_count": 0,
      "outputs": []
    },
    {
      "cell_type": "code",
      "metadata": {
        "id": "D4KlsaAyx3Qt",
        "colab_type": "code",
        "colab": {}
      },
      "source": [
        ""
      ],
      "execution_count": 0,
      "outputs": []
    },
    {
      "cell_type": "code",
      "metadata": {
        "id": "Gt-jyrekx3M9",
        "colab_type": "code",
        "colab": {}
      },
      "source": [
        ""
      ],
      "execution_count": 0,
      "outputs": []
    },
    {
      "cell_type": "markdown",
      "metadata": {
        "id": "FObGFyaJIELa",
        "colab_type": "text"
      },
      "source": [
        "# Result"
      ]
    },
    {
      "cell_type": "code",
      "metadata": {
        "id": "DdBnKh9_x3br",
        "colab_type": "code",
        "outputId": "bc550c4b-d909-4997-cfcb-e74f9fe6f414",
        "colab": {
          "base_uri": "https://localhost:8080/",
          "height": 286,
          "referenced_widgets": [
            "540f8f9034714934be0f09f42752e994",
            "fd5deff8fc3847749b4ae47a7be48213",
            "2bf86275eca7420ba75213450ec3e9cd",
            "ecbbab9978344ddfb38a90a2ca31e30d",
            "5142cae9f94f4799a4a074edd737d589",
            "010c881da62042f2914d748b77d4f738",
            "ec0029b7bbd54126818c4931ab84e610",
            "6ecb4ca57a5041958b530404391f042e",
            "c03f7e35f49249c58d6b7fe669d7d141",
            "539478cd181e4699a6ac5a1eba9b71d4",
            "a4b5b332ca9a4e1bb29813d6c2b32f4f",
            "76514f9571cd4b2fada23d85c3eb0ea5",
            "5702164d1f0d42e5a17d6c80eec09291",
            "70704be6703b49f4af5bd4935cbe9256",
            "03b98a4112734396acbfb7f4d9b44302",
            "3b25f4715b304e6cab9cb3236e3985f4",
            "39795919526f4cf492ae0fcbf425f6b9",
            "b6c2c51d9fe84405845795b9e148e4fc",
            "3745dc82e04747b88678eca3cbdc1fe5",
            "2576265ee4f244b6ab7e6f3a2fc5e6fe",
            "3db8b7bd7eec44908b75a63eaaeadf7d",
            "20ac5aabb3be47d890d415b7fe049c09",
            "5e79a0203a00477b9d8edba10aebff65",
            "2c3db646880b4d4bbcd99b5fca7b93d7"
          ]
        }
      },
      "source": [
        "# additive + scheduled sampling with stopwords v2\n",
        "# v2 + fixed vocab @ checkpoint-25 to see result\n",
        "from tqdm import tqdm_notebook\n",
        "from rouge import Rouge\n",
        "def inference(dataset) :\n",
        "  pred_sum = []\n",
        "  for c in tqdm_notebook(dataset):\n",
        "    pred_sum.append(translate(c, plot=False))\n",
        "  return pred_sum\n",
        "def evaluate_result(gold_sum,pred_sum) : \n",
        "  rouge = Rouge()\n",
        "  avg_scores = rouge.get_scores(pred_sum, gold_sum, avg=True)\n",
        "  return avg_scores \n",
        "\n",
        "y_train_pred = inference(X_train)\n",
        "y_val_pred = inference(X_val)\n",
        "y_test_pred = inference(X_test)\n",
        "\n",
        "print('Eval train :', evaluate_result(gold_sum_train, y_train_pred))\n",
        "print('Eval val   :', evaluate_result(gold_sum_val, y_val_pred))\n",
        "print('Eval test  :', evaluate_result(gold_sum_test, y_test_pred))"
      ],
      "execution_count": 0,
      "outputs": [
        {
          "output_type": "stream",
          "text": [
            "/usr/local/lib/python3.6/dist-packages/ipykernel_launcher.py:7: TqdmDeprecationWarning: This function will be removed in tqdm==5.0.0\n",
            "Please use `tqdm.notebook.tqdm` instead of `tqdm.tqdm_notebook`\n",
            "  import sys\n"
          ],
          "name": "stderr"
        },
        {
          "output_type": "display_data",
          "data": {
            "application/vnd.jupyter.widget-view+json": {
              "model_id": "540f8f9034714934be0f09f42752e994",
              "version_minor": 0,
              "version_major": 2
            },
            "text/plain": [
              "HBox(children=(FloatProgress(value=0.0, max=11615.0), HTML(value='')))"
            ]
          },
          "metadata": {
            "tags": []
          }
        },
        {
          "output_type": "stream",
          "text": [
            "\n"
          ],
          "name": "stdout"
        },
        {
          "output_type": "display_data",
          "data": {
            "application/vnd.jupyter.widget-view+json": {
              "model_id": "c03f7e35f49249c58d6b7fe669d7d141",
              "version_minor": 0,
              "version_major": 2
            },
            "text/plain": [
              "HBox(children=(FloatProgress(value=0.0, max=2861.0), HTML(value='')))"
            ]
          },
          "metadata": {
            "tags": []
          }
        },
        {
          "output_type": "stream",
          "text": [
            "\n"
          ],
          "name": "stdout"
        },
        {
          "output_type": "display_data",
          "data": {
            "application/vnd.jupyter.widget-view+json": {
              "model_id": "39795919526f4cf492ae0fcbf425f6b9",
              "version_minor": 0,
              "version_major": 2
            },
            "text/plain": [
              "HBox(children=(FloatProgress(value=0.0, max=2861.0), HTML(value='')))"
            ]
          },
          "metadata": {
            "tags": []
          }
        },
        {
          "output_type": "stream",
          "text": [
            "\n",
            "Eval train : {'rouge-1': {'f': 0.7548389208837086, 'p': 0.7912428118627294, 'r': 0.7387089023635651}, 'rouge-2': {'f': 0.689113277674863, 'p': 0.7185561387691819, 'r': 0.6766853387906568}, 'rouge-l': {'f': 0.7690897317922787, 'p': 0.8198946858836164, 'r': 0.7410594341653409}}\n",
            "Eval val   : {'rouge-1': {'f': 0.30578730783123675, 'p': 0.3446574229487299, 'r': 0.2935064517849565}, 'rouge-2': {'f': 0.13657465220793744, 'p': 0.15019344853906752, 'r': 0.13243244237960503}, 'rouge-l': {'f': 0.31221659171383526, 'p': 0.36183328120131214, 'r': 0.291603488904633}}\n",
            "Eval test  : {'rouge-1': {'f': 0.3034180407678131, 'p': 0.3391320342893865, 'r': 0.29314421520162287}, 'rouge-2': {'f': 0.1363159418994327, 'p': 0.14849590525579986, 'r': 0.13323571023988423}, 'rouge-l': {'f': 0.31060185372678223, 'p': 0.3562275440146554, 'r': 0.29203362116465936}}\n"
          ],
          "name": "stdout"
        }
      ]
    },
    {
      "cell_type": "code",
      "metadata": {
        "id": "KLNk0q5Ux4CG",
        "colab_type": "code",
        "outputId": "edece1b5-a50d-4064-d9e9-e5170c34edda",
        "colab": {
          "base_uri": "https://localhost:8080/",
          "height": 286,
          "referenced_widgets": [
            "c67b62589b024f808c3fcee2a1d8e9a9",
            "4c007c5c58d243f5ab34d68e4a7801fe",
            "2c6fec0bc0b04bab94da4e97714f9448",
            "47363f6493cb4799806b81e19a0eb226",
            "1ea6623d3171428ebacd7dfcb5e4b8c0",
            "33fc744303954d6087952305d2df4d35",
            "63aa84de09784dad894137030de2d2c6",
            "37f55a9ce0c44e80b93e40cde0e4598d",
            "6e5c74a16c354223a696a817da72fab9",
            "78dccd284cc448e586fe2c20d82ba868",
            "c2941b72ec554cba913dd918e6f4d4f5",
            "5f2da1743ec64b749c558983840996e7",
            "0b58be59e9724002bd6692cfe05b246b",
            "afd43c58236e4875b598c7fec4566855",
            "383e09f2f28d4cd4a7a5f0699a52a1d4",
            "b1edf197242f43f58c489eff4e36c36f",
            "f1aa3ebbbc094400a1b019319c2888ac",
            "10c6429b5a854a8cb64dbe2d5e5f4b9e",
            "a89dfa47d4e54763bdf17c8087b56596",
            "42360dabe15b401daf3f52d88e706cc8",
            "ab2db7b323fb4e638b87c7bfb376aa01",
            "4fd8f387a7f2427389ca2951984865a9",
            "0363475f416d45d7b1fd610655ad7116",
            "6728053ad7fc48ada21066cf8f3ee879"
          ]
        }
      },
      "source": [
        "# additive + scheduled sampling with stopwords v2\n",
        "# v2 + fixed vocab @ checkpoint-20 to see result\n",
        "from tqdm import tqdm_notebook\n",
        "from rouge import Rouge\n",
        "def inference(dataset) :\n",
        "  pred_sum = []\n",
        "  for c in tqdm_notebook(dataset):\n",
        "    pred_sum.append(translate(c, plot=False))\n",
        "  return pred_sum\n",
        "def evaluate_result(gold_sum,pred_sum) : \n",
        "  rouge = Rouge()\n",
        "  avg_scores = rouge.get_scores(pred_sum, gold_sum, avg=True)\n",
        "  return avg_scores \n",
        "\n",
        "y_train_pred = inference(X_train)\n",
        "y_val_pred = inference(X_val)\n",
        "y_test_pred = inference(X_test)\n",
        "\n",
        "print('Eval train :', evaluate_result(gold_sum_train, y_train_pred))\n",
        "print('Eval val   :', evaluate_result(gold_sum_val, y_val_pred))\n",
        "print('Eval test  :', evaluate_result(gold_sum_test, y_test_pred))"
      ],
      "execution_count": 0,
      "outputs": [
        {
          "output_type": "stream",
          "text": [
            "/usr/local/lib/python3.6/dist-packages/ipykernel_launcher.py:7: TqdmDeprecationWarning: This function will be removed in tqdm==5.0.0\n",
            "Please use `tqdm.notebook.tqdm` instead of `tqdm.tqdm_notebook`\n",
            "  import sys\n"
          ],
          "name": "stderr"
        },
        {
          "output_type": "display_data",
          "data": {
            "application/vnd.jupyter.widget-view+json": {
              "model_id": "c67b62589b024f808c3fcee2a1d8e9a9",
              "version_minor": 0,
              "version_major": 2
            },
            "text/plain": [
              "HBox(children=(FloatProgress(value=0.0, max=11615.0), HTML(value='')))"
            ]
          },
          "metadata": {
            "tags": []
          }
        },
        {
          "output_type": "stream",
          "text": [
            "\n"
          ],
          "name": "stdout"
        },
        {
          "output_type": "display_data",
          "data": {
            "application/vnd.jupyter.widget-view+json": {
              "model_id": "6e5c74a16c354223a696a817da72fab9",
              "version_minor": 0,
              "version_major": 2
            },
            "text/plain": [
              "HBox(children=(FloatProgress(value=0.0, max=2861.0), HTML(value='')))"
            ]
          },
          "metadata": {
            "tags": []
          }
        },
        {
          "output_type": "stream",
          "text": [
            "\n"
          ],
          "name": "stdout"
        },
        {
          "output_type": "display_data",
          "data": {
            "application/vnd.jupyter.widget-view+json": {
              "model_id": "f1aa3ebbbc094400a1b019319c2888ac",
              "version_minor": 0,
              "version_major": 2
            },
            "text/plain": [
              "HBox(children=(FloatProgress(value=0.0, max=2861.0), HTML(value='')))"
            ]
          },
          "metadata": {
            "tags": []
          }
        },
        {
          "output_type": "stream",
          "text": [
            "\n",
            "Eval train : {'rouge-1': {'f': 0.5304172703267782, 'p': 0.5993890530213747, 'r': 0.4984496871399446}, 'rouge-2': {'f': 0.39853716822806046, 'p': 0.4471655350479614, 'r': 0.3769511685806194}, 'rouge-l': {'f': 0.5418479574877827, 'p': 0.6221696013583277, 'r': 0.5005365522888521}}\n",
            "Eval val   : {'rouge-1': {'f': 0.3049746348456849, 'p': 0.35455041626939415, 'r': 0.28559127506638454}, 'rouge-2': {'f': 0.12922987608705377, 'p': 0.14607809584916812, 'r': 0.12252981797811215}, 'rouge-l': {'f': 0.31002063738237773, 'p': 0.36605344676931884, 'r': 0.28507264865247467}}\n",
            "Eval test  : {'rouge-1': {'f': 0.303334813912574, 'p': 0.35050080812414547, 'r': 0.2852018591213316}, 'rouge-2': {'f': 0.13023211436431348, 'p': 0.14632215453052758, 'r': 0.1240777651436665}, 'rouge-l': {'f': 0.3093743308520958, 'p': 0.3638490294407184, 'r': 0.28545016797108613}}\n"
          ],
          "name": "stdout"
        }
      ]
    },
    {
      "cell_type": "code",
      "metadata": {
        "id": "y6OJAMWzx31T",
        "colab_type": "code",
        "outputId": "6d03207d-b275-43af-ae24-92d4dff0cd79",
        "colab": {
          "base_uri": "https://localhost:8080/",
          "height": 286,
          "referenced_widgets": [
            "71a6a2d285444ae9a020d87c99ee02af",
            "43e28d3493eb431a80522eefaf451403",
            "0fd5d3166410428491c9126b3753fd2b",
            "70b3fedffa95461e965c57653be62bbe",
            "1d9a04d831944778890e09a6f7cf2da1",
            "47d07fd6ddab45118053b02ad5dc4178",
            "45410a4044cc4081bf40ae555d6ec14e",
            "65e440b21ba24e2f930fa17c1a6dad9a",
            "e0a435d0c859496ab3a664e3f5c33b2c",
            "e27db0632c0c401ea4a7b4fa6f59757b",
            "29e45d92c6bf4664a6c467d204f929a8",
            "07f8af1cd694476db8a3def3b43f746a",
            "603f67b6d8914f97a49b62bc5d0a3712",
            "2d87367702f547249e5f0060568d357f",
            "6981e58916574109a364eb2a25b380d2",
            "84a8872bff264a22b814aef6625d0976",
            "05ddc192882546c087d508cc178f6018",
            "077cbc6199dc492f831f2a145f5d14cc",
            "95162762a1d143378bfec047d2aaa46c",
            "97114c959f3a4568a76fb4d0be754f5d",
            "5e5d5e1fe3ef4d37b310a5ca205563ed",
            "fd4c5b82f0884073a37430071d5c8807",
            "1744b28ad2d04967b274b890d0528c6e",
            "cbe5f3acd43143c085a8eb90dff1d519"
          ]
        }
      },
      "source": [
        "# additive + scheduled sampling with stopwords v2\n",
        "# v2 + fixed vocab @ checkpoint-15 to see result\n",
        "from tqdm import tqdm_notebook\n",
        "from rouge import Rouge\n",
        "def inference(dataset) :\n",
        "  pred_sum = []\n",
        "  for c in tqdm_notebook(dataset):\n",
        "    pred_sum.append(translate(c, plot=False))\n",
        "  return pred_sum\n",
        "def evaluate_result(gold_sum,pred_sum) : \n",
        "  rouge = Rouge()\n",
        "  avg_scores = rouge.get_scores(pred_sum, gold_sum, avg=True)\n",
        "  return avg_scores \n",
        "\n",
        "y_train_pred = inference(X_train)\n",
        "y_val_pred = inference(X_val)\n",
        "y_test_pred = inference(X_test)\n",
        "\n",
        "print('Eval train :', evaluate_result(gold_sum_train, y_train_pred))\n",
        "print('Eval val   :', evaluate_result(gold_sum_val, y_val_pred))\n",
        "print('Eval test  :', evaluate_result(gold_sum_test, y_test_pred))"
      ],
      "execution_count": 0,
      "outputs": [
        {
          "output_type": "stream",
          "text": [
            "/usr/local/lib/python3.6/dist-packages/ipykernel_launcher.py:7: TqdmDeprecationWarning: This function will be removed in tqdm==5.0.0\n",
            "Please use `tqdm.notebook.tqdm` instead of `tqdm.tqdm_notebook`\n",
            "  import sys\n"
          ],
          "name": "stderr"
        },
        {
          "output_type": "display_data",
          "data": {
            "application/vnd.jupyter.widget-view+json": {
              "model_id": "71a6a2d285444ae9a020d87c99ee02af",
              "version_minor": 0,
              "version_major": 2
            },
            "text/plain": [
              "HBox(children=(FloatProgress(value=0.0, max=11615.0), HTML(value='')))"
            ]
          },
          "metadata": {
            "tags": []
          }
        },
        {
          "output_type": "stream",
          "text": [
            "\n"
          ],
          "name": "stdout"
        },
        {
          "output_type": "display_data",
          "data": {
            "application/vnd.jupyter.widget-view+json": {
              "model_id": "e0a435d0c859496ab3a664e3f5c33b2c",
              "version_minor": 0,
              "version_major": 2
            },
            "text/plain": [
              "HBox(children=(FloatProgress(value=0.0, max=2861.0), HTML(value='')))"
            ]
          },
          "metadata": {
            "tags": []
          }
        },
        {
          "output_type": "stream",
          "text": [
            "\n"
          ],
          "name": "stdout"
        },
        {
          "output_type": "display_data",
          "data": {
            "application/vnd.jupyter.widget-view+json": {
              "model_id": "05ddc192882546c087d508cc178f6018",
              "version_minor": 0,
              "version_major": 2
            },
            "text/plain": [
              "HBox(children=(FloatProgress(value=0.0, max=2861.0), HTML(value='')))"
            ]
          },
          "metadata": {
            "tags": []
          }
        },
        {
          "output_type": "stream",
          "text": [
            "\n",
            "Eval train : {'rouge-1': {'f': 0.37172562529205394, 'p': 0.43580071140542276, 'r': 0.3442959877071209}, 'rouge-2': {'f': 0.2056614537538205, 'p': 0.2383172600452637, 'r': 0.19247994525486503}, 'rouge-l': {'f': 0.3789555026014549, 'p': 0.4514550643573715, 'r': 0.344755925675575}}\n",
            "Eval val   : {'rouge-1': {'f': 0.29248236879298045, 'p': 0.34692026181358177, 'r': 0.2697241629081007}, 'rouge-2': {'f': 0.11870913352701626, 'p': 0.13785344079019626, 'r': 0.11061428847226491}, 'rouge-l': {'f': 0.2967996538531784, 'p': 0.35626396176168496, 'r': 0.2695705527702785}}\n",
            "Eval test  : {'rouge-1': {'f': 0.29244192056781054, 'p': 0.3465432627526856, 'r': 0.27012735971159046}, 'rouge-2': {'f': 0.11787626285853411, 'p': 0.13633280346606874, 'r': 0.11054048882887647}, 'rouge-l': {'f': 0.29710125192637904, 'p': 0.3563547282336313, 'r': 0.2700384316110387}}\n"
          ],
          "name": "stdout"
        }
      ]
    },
    {
      "cell_type": "code",
      "metadata": {
        "id": "ee2S4hMOsQ4r",
        "colab_type": "code",
        "outputId": "04af2f02-c3c7-47e2-9dc3-b348f212d3e6",
        "colab": {
          "base_uri": "https://localhost:8080/",
          "height": 286,
          "referenced_widgets": [
            "4b34cc1969bc4862ad2876dfaed3ccae",
            "f6cbd95d01794d0b86f9ddc8658309f1",
            "ff26b074a87c45d3a082126d80eefc37",
            "afc42680ab3d4c9c86e4fde6966283d8",
            "50592eef4ce94e10a05791a71cd0ac9e",
            "c12642295e664b639750977a61187bef",
            "eb1e50589d5f446aab56495c1a532858",
            "cb86854d24c84a4c9a3c1dadd42a7d19",
            "d6d9a46ed6024debb8b492512acafc5e",
            "fed504140b814b9c85ce203fe6fa3c40",
            "7e776006d2f64d138cc5d2c163bc7f66",
            "39fbf01b36a941899be65222f96ded88",
            "504577277b6a4dd7a260e347545b819f",
            "2bc941eb7fb54208afa6c96b9a78d6f2",
            "f38a0014a4884b939b6830492c447658",
            "d9166dbc60d04ca49f79e27d1a466b8a",
            "2de530ccca92403fafe7033bbd69ab23",
            "0f6801e94f174d75a39e6daa34f4d65e",
            "6856a291821f406dbe6f7fe6ccdd2be6",
            "c7808e3b754347fea1b7d3a461234c0e",
            "ac95a40afe23490692c33e4ee61b93c2",
            "43fa813026f441bab9d912a01275b10c",
            "ff932a56c0db4ff2af4d880c717d2374",
            "3970627920de4e8ab1d79e358ca237aa"
          ]
        }
      },
      "source": [
        "# additive + teacher forcing with stopwords v2\n",
        "# v2 + fixed vocab @ checkpoint-25 to see result\n",
        "from tqdm import tqdm_notebook\n",
        "from rouge import Rouge\n",
        "def inference(dataset) :\n",
        "  pred_sum = []\n",
        "  for c in tqdm_notebook(dataset):\n",
        "    pred_sum.append(translate(c, plot=False))\n",
        "  return pred_sum\n",
        "def evaluate_result(gold_sum,pred_sum) : \n",
        "  rouge = Rouge()\n",
        "  avg_scores = rouge.get_scores(pred_sum, gold_sum, avg=True)\n",
        "  return avg_scores \n",
        "\n",
        "y_train_pred = inference(X_train)\n",
        "y_val_pred = inference(X_val)\n",
        "y_test_pred = inference(X_test)\n",
        "\n",
        "print('Eval train :', evaluate_result(gold_sum_train, y_train_pred))\n",
        "print('Eval val   :', evaluate_result(gold_sum_val, y_val_pred))\n",
        "print('Eval test  :', evaluate_result(gold_sum_test, y_test_pred))"
      ],
      "execution_count": 0,
      "outputs": [
        {
          "output_type": "stream",
          "text": [
            "/usr/local/lib/python3.6/dist-packages/ipykernel_launcher.py:7: TqdmDeprecationWarning: This function will be removed in tqdm==5.0.0\n",
            "Please use `tqdm.notebook.tqdm` instead of `tqdm.tqdm_notebook`\n",
            "  import sys\n"
          ],
          "name": "stderr"
        },
        {
          "output_type": "display_data",
          "data": {
            "application/vnd.jupyter.widget-view+json": {
              "model_id": "4b34cc1969bc4862ad2876dfaed3ccae",
              "version_minor": 0,
              "version_major": 2
            },
            "text/plain": [
              "HBox(children=(FloatProgress(value=0.0, max=11615.0), HTML(value='')))"
            ]
          },
          "metadata": {
            "tags": []
          }
        },
        {
          "output_type": "stream",
          "text": [
            "\n"
          ],
          "name": "stdout"
        },
        {
          "output_type": "display_data",
          "data": {
            "application/vnd.jupyter.widget-view+json": {
              "model_id": "d6d9a46ed6024debb8b492512acafc5e",
              "version_minor": 0,
              "version_major": 2
            },
            "text/plain": [
              "HBox(children=(FloatProgress(value=0.0, max=2861.0), HTML(value='')))"
            ]
          },
          "metadata": {
            "tags": []
          }
        },
        {
          "output_type": "stream",
          "text": [
            "\n"
          ],
          "name": "stdout"
        },
        {
          "output_type": "display_data",
          "data": {
            "application/vnd.jupyter.widget-view+json": {
              "model_id": "2de530ccca92403fafe7033bbd69ab23",
              "version_minor": 0,
              "version_major": 2
            },
            "text/plain": [
              "HBox(children=(FloatProgress(value=0.0, max=2861.0), HTML(value='')))"
            ]
          },
          "metadata": {
            "tags": []
          }
        },
        {
          "output_type": "stream",
          "text": [
            "\n",
            "Eval train : {'rouge-1': {'f': 0.9662168389472602, 'p': 0.9727647572665007, 'r': 0.9633702062972419}, 'rouge-2': {'f': 0.9587241710979536, 'p': 0.9651172692402957, 'r': 0.9560491526891611}, 'rouge-l': {'f': 0.97235077456486, 'p': 0.9849774545541656, 'r': 0.9646856441145866}}\n",
            "Eval val   : {'rouge-1': {'f': 0.3308676911735756, 'p': 0.37096859115308584, 'r': 0.3203642645720994}, 'rouge-2': {'f': 0.15894359886859713, 'p': 0.17403404070903472, 'r': 0.15505904047179223}, 'rouge-l': {'f': 0.3442784690742953, 'p': 0.40774445735972437, 'r': 0.3167720239243984}}\n",
            "Eval test  : {'rouge-1': {'f': 0.33041231945852423, 'p': 0.3732768598448143, 'r': 0.3181120354663976}, 'rouge-2': {'f': 0.15725300056933297, 'p': 0.1727002909424983, 'r': 0.15381001667441377}, 'rouge-l': {'f': 0.3440851392647615, 'p': 0.4101359992443464, 'r': 0.3147566919821559}}\n"
          ],
          "name": "stdout"
        }
      ]
    },
    {
      "cell_type": "code",
      "metadata": {
        "id": "HaZSHWJpgHdr",
        "colab_type": "code",
        "outputId": "0c5a6baa-1e2f-4087-81aa-b13bc5566a9d",
        "colab": {
          "base_uri": "https://localhost:8080/",
          "height": 286,
          "referenced_widgets": [
            "6a969c0dd2694168ab054339d2adaca8",
            "c3f011acb49c489bb06cb662d5edafc8",
            "209419caf1ce4796867b0b2a5279b356",
            "9d77d585fe784ef0856851b2c2f2808e",
            "bf67e67e83e74f3c92128d6600e25598",
            "dedc6daec47b4aeb885823585090bc4e",
            "d56eb5f747074168ab314587a4f6f52f",
            "e5fb5cd8df364a02807d56d50569985c",
            "a6c61cd9f0984c349324c6849a7ef0d4",
            "0dc72e1e377e4fe2ac3818e3850e29a4",
            "e7ee37c415524f8c9161af5734a9708c",
            "b024a00dc13f4e1597abf72e45e388b2",
            "788d4571c1644992bbbc35f10e2a6c71",
            "ba0f88ac8e4349abbd5ed7e36b97d732",
            "904df0bd81594075b513781050353671",
            "35212485bfe44ca1a6dd2bd86a79efa7",
            "301a2a0bbc864afca002ccee5a43b300",
            "b2cb604af71243df874ba9b1e2572354",
            "8485c6ea27354376ab9297d93df43808",
            "8f3e342366304910a3cb3e2cdbf5d4b6",
            "d2592cd220bf4b718aacf49f64c4f9fe",
            "e12c4bfd42d34445824c8c5c9422eea1",
            "fc1230f61bb84069b24af09376cdf990",
            "5817e9ea83f5435a8b3b9c860489ee93"
          ]
        }
      },
      "source": [
        "# additive + teacher forcing with stopwords v2\n",
        "# v2 + fixed vocab @ checkpoint-20 to see result\n",
        "from tqdm import tqdm_notebook\n",
        "from rouge import Rouge\n",
        "def inference(dataset) :\n",
        "  pred_sum = []\n",
        "  for c in tqdm_notebook(dataset):\n",
        "    pred_sum.append(translate(c, plot=False))\n",
        "  return pred_sum\n",
        "def evaluate_result(gold_sum,pred_sum) : \n",
        "  rouge = Rouge()\n",
        "  avg_scores = rouge.get_scores(pred_sum, gold_sum, avg=True)\n",
        "  return avg_scores \n",
        "\n",
        "y_train_pred = inference(X_train)\n",
        "y_val_pred = inference(X_val)\n",
        "y_test_pred = inference(X_test)\n",
        "\n",
        "print('Eval train :', evaluate_result(gold_sum_train, y_train_pred))\n",
        "print('Eval val   :', evaluate_result(gold_sum_val, y_val_pred))\n",
        "print('Eval test  :', evaluate_result(gold_sum_test, y_test_pred))"
      ],
      "execution_count": 0,
      "outputs": [
        {
          "output_type": "stream",
          "text": [
            "/usr/local/lib/python3.6/dist-packages/ipykernel_launcher.py:7: TqdmDeprecationWarning: This function will be removed in tqdm==5.0.0\n",
            "Please use `tqdm.notebook.tqdm` instead of `tqdm.tqdm_notebook`\n",
            "  import sys\n"
          ],
          "name": "stderr"
        },
        {
          "output_type": "display_data",
          "data": {
            "application/vnd.jupyter.widget-view+json": {
              "model_id": "6a969c0dd2694168ab054339d2adaca8",
              "version_minor": 0,
              "version_major": 2
            },
            "text/plain": [
              "HBox(children=(FloatProgress(value=0.0, max=11615.0), HTML(value='')))"
            ]
          },
          "metadata": {
            "tags": []
          }
        },
        {
          "output_type": "stream",
          "text": [
            "\n"
          ],
          "name": "stdout"
        },
        {
          "output_type": "display_data",
          "data": {
            "application/vnd.jupyter.widget-view+json": {
              "model_id": "a6c61cd9f0984c349324c6849a7ef0d4",
              "version_minor": 0,
              "version_major": 2
            },
            "text/plain": [
              "HBox(children=(FloatProgress(value=0.0, max=2861.0), HTML(value='')))"
            ]
          },
          "metadata": {
            "tags": []
          }
        },
        {
          "output_type": "stream",
          "text": [
            "\n"
          ],
          "name": "stdout"
        },
        {
          "output_type": "display_data",
          "data": {
            "application/vnd.jupyter.widget-view+json": {
              "model_id": "301a2a0bbc864afca002ccee5a43b300",
              "version_minor": 0,
              "version_major": 2
            },
            "text/plain": [
              "HBox(children=(FloatProgress(value=0.0, max=2861.0), HTML(value='')))"
            ]
          },
          "metadata": {
            "tags": []
          }
        },
        {
          "output_type": "stream",
          "text": [
            "\n",
            "Eval train : {'rouge-1': {'f': 0.8618713244816213, 'p': 0.8954041057181046, 'r': 0.8449872339495396}, 'rouge-2': {'f': 0.8204679373219833, 'p': 0.849352936047989, 'r': 0.8065425559759847}, 'rouge-l': {'f': 0.8770113139327204, 'p': 0.9275265397824172, 'r': 0.8471213271370575}}\n",
            "Eval val   : {'rouge-1': {'f': 0.3356767014342266, 'p': 0.39153752070662723, 'r': 0.31458926417730176}, 'rouge-2': {'f': 0.15785649356158138, 'p': 0.17921193449084913, 'r': 0.15001458550781066}, 'rouge-l': {'f': 0.347239023057033, 'p': 0.421662641608993, 'r': 0.3128314316886619}}\n",
            "Eval test  : {'rouge-1': {'f': 0.3327623481361007, 'p': 0.39003127081730415, 'r': 0.3112243156089811}, 'rouge-2': {'f': 0.154783605196145, 'p': 0.17586101498065607, 'r': 0.14754677692477514}, 'rouge-l': {'f': 0.3444899776727106, 'p': 0.4223651932395827, 'r': 0.3089191099110118}}\n"
          ],
          "name": "stdout"
        }
      ]
    },
    {
      "cell_type": "code",
      "metadata": {
        "id": "09NG7Fggx3n1",
        "colab_type": "code",
        "outputId": "6fafdbc6-7700-4c29-fed6-e8a731e7f067",
        "colab": {
          "base_uri": "https://localhost:8080/",
          "height": 286,
          "referenced_widgets": [
            "bb2bb337e21947f9bba88ad545928490",
            "171167c222b04d4e82e2e5da6fee869d",
            "30b948a96c5a4f3b90112e24919ef8f0",
            "1b409f5264d44b96a94151227bb4f470",
            "7d02e3b60f9e44b7acb3f71b1d272a53",
            "fedccd7207b9499e92104c80ed04f856",
            "3f70110a45bf442ebf8c181b5fb6ea42",
            "34e2870ef8834f21ab23e964b31f0e48",
            "d637fcbb3f7248ffadd381b2d27f8036",
            "72c1c82cbec44afe87c7327f9f3e7d3c",
            "0f20b0e1c3204b28a94e2e1f5fe96862",
            "0457ecadafd3400fb384a6746ab80894",
            "96381eedeab045a3acbc3c89236d9a76",
            "90caf8598e4e48b3808616a5318c9b1c",
            "21ac7d72ee884e94afb7c3402cb5653e",
            "b328ec87eadd416c9984cd57a510cf25",
            "147d3fad04b244b4af582d1f8b41efff",
            "13e3d099175a47b4b4dfde79ee85b86b",
            "6891388dbac14b34a2eeb52523af98e2",
            "8ec986a4acd14cc89347713bc1f5bde5",
            "cc13a7ddebce428ea0bccb0b9425fdaa",
            "4461911c79444086b72e82c3430cbc9b",
            "26db73cb771e4a52ba4b650072069ef5",
            "5f247a7ade53425a89d44393e23dd15b"
          ]
        }
      },
      "source": [
        "# additive + teacher forcing with stopwords v2\n",
        "# v2 + fixed vocab @ checkpoint-15 to see result\n",
        "from tqdm import tqdm_notebook\n",
        "from rouge import Rouge\n",
        "def inference(dataset) :\n",
        "  pred_sum = []\n",
        "  for c in tqdm_notebook(dataset):\n",
        "    pred_sum.append(translate(c, plot=False))\n",
        "  return pred_sum\n",
        "def evaluate_result(gold_sum,pred_sum) : \n",
        "  rouge = Rouge()\n",
        "  avg_scores = rouge.get_scores(pred_sum, gold_sum, avg=True)\n",
        "  return avg_scores \n",
        "\n",
        "y_train_pred = inference(X_train)\n",
        "y_val_pred = inference(X_val)\n",
        "y_test_pred = inference(X_test)\n",
        "\n",
        "print('Eval train :', evaluate_result(gold_sum_train, y_train_pred))\n",
        "print('Eval val   :', evaluate_result(gold_sum_val, y_val_pred))\n",
        "print('Eval test  :', evaluate_result(gold_sum_test, y_test_pred))"
      ],
      "execution_count": 0,
      "outputs": [
        {
          "output_type": "stream",
          "text": [
            "/usr/local/lib/python3.6/dist-packages/ipykernel_launcher.py:7: TqdmDeprecationWarning: This function will be removed in tqdm==5.0.0\n",
            "Please use `tqdm.notebook.tqdm` instead of `tqdm.tqdm_notebook`\n",
            "  import sys\n"
          ],
          "name": "stderr"
        },
        {
          "output_type": "display_data",
          "data": {
            "application/vnd.jupyter.widget-view+json": {
              "model_id": "bb2bb337e21947f9bba88ad545928490",
              "version_minor": 0,
              "version_major": 2
            },
            "text/plain": [
              "HBox(children=(FloatProgress(value=0.0, max=11615.0), HTML(value='')))"
            ]
          },
          "metadata": {
            "tags": []
          }
        },
        {
          "output_type": "stream",
          "text": [
            "\n"
          ],
          "name": "stdout"
        },
        {
          "output_type": "display_data",
          "data": {
            "application/vnd.jupyter.widget-view+json": {
              "model_id": "d637fcbb3f7248ffadd381b2d27f8036",
              "version_minor": 0,
              "version_major": 2
            },
            "text/plain": [
              "HBox(children=(FloatProgress(value=0.0, max=2861.0), HTML(value='')))"
            ]
          },
          "metadata": {
            "tags": []
          }
        },
        {
          "output_type": "stream",
          "text": [
            "\n"
          ],
          "name": "stdout"
        },
        {
          "output_type": "display_data",
          "data": {
            "application/vnd.jupyter.widget-view+json": {
              "model_id": "147d3fad04b244b4af582d1f8b41efff",
              "version_minor": 0,
              "version_major": 2
            },
            "text/plain": [
              "HBox(children=(FloatProgress(value=0.0, max=2861.0), HTML(value='')))"
            ]
          },
          "metadata": {
            "tags": []
          }
        },
        {
          "output_type": "stream",
          "text": [
            "\n",
            "Eval train : {'rouge-1': {'f': 0.602520389192302, 'p': 0.6590124545760045, 'r': 0.5783448618766882}, 'rouge-2': {'f': 0.47995675228725565, 'p': 0.5201821575872969, 'r': 0.46383843921028195}, 'rouge-l': {'f': 0.623714886296468, 'p': 0.7130680492217536, 'r': 0.5765407158709911}}\n",
            "Eval val   : {'rouge-1': {'f': 0.325933433495238, 'p': 0.37313068851342557, 'r': 0.30982435193151026}, 'rouge-2': {'f': 0.15065950571859868, 'p': 0.16900366705644598, 'r': 0.14458284520606993}, 'rouge-l': {'f': 0.33770904310261096, 'p': 0.4031875865855255, 'r': 0.30822738992653753}}\n",
            "Eval test  : {'rouge-1': {'f': 0.3195299301086969, 'p': 0.3690765281840161, 'r': 0.30160708314535384}, 'rouge-2': {'f': 0.14243288196552878, 'p': 0.16039717508807136, 'r': 0.1362738953103057}, 'rouge-l': {'f': 0.3303587210657502, 'p': 0.3991446715964117, 'r': 0.29945156505220905}}\n"
          ],
          "name": "stdout"
        }
      ]
    },
    {
      "cell_type": "code",
      "metadata": {
        "id": "uE1R9pyMx3f4",
        "colab_type": "code",
        "outputId": "efe9be44-e10c-4ae4-d7b6-620fafe1d13d",
        "colab": {
          "base_uri": "https://localhost:8080/",
          "height": 286,
          "referenced_widgets": [
            "48bc74d46f7542cfa93bcdd1b0e0543b",
            "5bfc3688e224427ab7d6493f8f86ff83",
            "dd949e067a684777ba0733f2e648a39a",
            "ca82898a7dff484ea9dd60f77dc1457d",
            "afb50d209b674459b26f5a2bb444a5d2",
            "43439e57bba444c5b60d248e99b5a788",
            "4558fd347094424c83bd6dd86f8a1d2a",
            "d9adedf0623e439e87bdce1652290978",
            "6d49557b5ad2481caf821478dde2b096",
            "41ba33b7eb5c4f28b3bee32855a23634",
            "399eab1a98384c34a2d33870ff100158",
            "b0cd68243e7240a28f5d537258e0b83d",
            "aabef3126fec444dad352a01aa75b8a6",
            "73b2035d93ad40899712b2ee90c1ce81",
            "1ec63c2110b94d90b05ac34defe8e530",
            "df893f7f64b04b83a0246086050aa5b0",
            "f6ccbb7ff59541debe92eb542c3dd043",
            "c257d48a03a64c97bab9522d92ecf20e",
            "06c31885075a41f5acc0b8ef711e4f0c",
            "7ee2bcd6a85a41609bd862d7388aacc1",
            "2ff846cc939b461c86d2701e7fae8cb6",
            "1531b5eacf964374bf7b377d26a5daed",
            "640624a01da04d2791bef756a2399447",
            "fa77f85418454b7fa6095d7b83c21e54"
          ]
        }
      },
      "source": [
        "# additive + teacher forcing with stopwords v2\n",
        "# v2 + fixed vocab ckpt 10\n",
        "from tqdm import tqdm_notebook\n",
        "from rouge import Rouge\n",
        "def inference(dataset) :\n",
        "  pred_sum = []\n",
        "  for c in tqdm_notebook(dataset):\n",
        "    pred_sum.append(translate(c, plot=False))\n",
        "  return pred_sum\n",
        "def evaluate_result(gold_sum,pred_sum) : \n",
        "  rouge = Rouge()\n",
        "  avg_scores = rouge.get_scores(pred_sum, gold_sum, avg=True)\n",
        "  return avg_scores \n",
        "\n",
        "y_train_pred = inference(X_train)\n",
        "y_val_pred = inference(X_val)\n",
        "y_test_pred = inference(X_test)\n",
        "\n",
        "print('Eval train :', evaluate_result(gold_sum_train, y_train_pred))\n",
        "print('Eval val   :', evaluate_result(gold_sum_val, y_val_pred))\n",
        "print('Eval test  :', evaluate_result(gold_sum_test, y_test_pred))"
      ],
      "execution_count": 0,
      "outputs": [
        {
          "output_type": "stream",
          "text": [
            "/usr/local/lib/python3.6/dist-packages/ipykernel_launcher.py:7: TqdmDeprecationWarning: This function will be removed in tqdm==5.0.0\n",
            "Please use `tqdm.notebook.tqdm` instead of `tqdm.tqdm_notebook`\n",
            "  import sys\n"
          ],
          "name": "stderr"
        },
        {
          "output_type": "display_data",
          "data": {
            "application/vnd.jupyter.widget-view+json": {
              "model_id": "48bc74d46f7542cfa93bcdd1b0e0543b",
              "version_minor": 0,
              "version_major": 2
            },
            "text/plain": [
              "HBox(children=(FloatProgress(value=0.0, max=11615.0), HTML(value='')))"
            ]
          },
          "metadata": {
            "tags": []
          }
        },
        {
          "output_type": "stream",
          "text": [
            "\n"
          ],
          "name": "stdout"
        },
        {
          "output_type": "display_data",
          "data": {
            "application/vnd.jupyter.widget-view+json": {
              "model_id": "6d49557b5ad2481caf821478dde2b096",
              "version_minor": 0,
              "version_major": 2
            },
            "text/plain": [
              "HBox(children=(FloatProgress(value=0.0, max=2861.0), HTML(value='')))"
            ]
          },
          "metadata": {
            "tags": []
          }
        },
        {
          "output_type": "stream",
          "text": [
            "\n"
          ],
          "name": "stdout"
        },
        {
          "output_type": "display_data",
          "data": {
            "application/vnd.jupyter.widget-view+json": {
              "model_id": "f6ccbb7ff59541debe92eb542c3dd043",
              "version_minor": 0,
              "version_major": 2
            },
            "text/plain": [
              "HBox(children=(FloatProgress(value=0.0, max=2861.0), HTML(value='')))"
            ]
          },
          "metadata": {
            "tags": []
          }
        },
        {
          "output_type": "stream",
          "text": [
            "\n",
            "Eval train : {'rouge-1': {'f': 0.36655762343009773, 'p': 0.4206753611203633, 'r': 0.3466667387299848}, 'rouge-2': {'f': 0.19580436109948418, 'p': 0.2218584626243906, 'r': 0.18718571853063407}, 'rouge-l': {'f': 0.3786571060137065, 'p': 0.45246451517757325, 'r': 0.34477736320591335}}\n",
            "Eval val   : {'rouge-1': {'f': 0.3032901414336108, 'p': 0.3485531719781343, 'r': 0.2876507575166949}, 'rouge-2': {'f': 0.12884460921147545, 'p': 0.14569630898390473, 'r': 0.12308629599269463}, 'rouge-l': {'f': 0.3117866453864012, 'p': 0.370259305775853, 'r': 0.2863799015126213}}\n",
            "Eval test  : {'rouge-1': {'f': 0.2979315135676048, 'p': 0.34302721751237375, 'r': 0.28252433406648203}, 'rouge-2': {'f': 0.12228913656132939, 'p': 0.13735781172260575, 'r': 0.11768348143574965}, 'rouge-l': {'f': 0.3059871993176538, 'p': 0.3641457760378274, 'r': 0.2812306943062481}}\n"
          ],
          "name": "stdout"
        }
      ]
    },
    {
      "cell_type": "code",
      "metadata": {
        "id": "JtrX6SMBx3Tb",
        "colab_type": "code",
        "outputId": "4fe54737-756a-4c16-86a4-bb2860f5c1d7",
        "colab": {
          "base_uri": "https://localhost:8080/",
          "height": 286,
          "referenced_widgets": [
            "52f5bd8c8e164a61b766b0be3aa7ea34",
            "3a20fa21a8ab4bc8bfef9b36ac22f09b",
            "008df303e3594c6c801b947e70b062d2",
            "4e921945f91a492d9e01d39e34bcac0e",
            "c0b797ae951c428d8d953daea0ba391c",
            "fb32517ca30c4de5bf2841a71e110e80",
            "432bcd5736a04465ad8551bdb1dc8d55",
            "84e33a9dce4046eab59a51d8b48c04b7",
            "e631fb3afffb47bda3e2ac74f75eaa4b",
            "9b4fa6929291499cbaddb1a1c8506e3e",
            "b5e138e83222473bbecc9533b53154ad",
            "936976d89ef44ab0aee4abff490d9ac5",
            "5a9becc3e52f42df9ae84c2946eebbfe",
            "ca70a0c2d20843ba92f1c8d7e7683469",
            "94c6e04f19ad4086965391dad60a5f48",
            "1a7c3735e61b449ba6a8eebab2e04d2a",
            "cea2c53020944ae6a34d19aaac00108a",
            "a3be952fda874ce1aa25e0b9674af2da",
            "49d73a328244402c95bd491b509bddb8",
            "e583ebdfa1e547f2b716bb24381be339",
            "bfeed4260c5149818dcb999c8a8d5b2c",
            "8dc3dac9b4c940d6bc0b539306cb5e9d",
            "9f87d5603f7b47e793b20d732515f91b",
            "e37ad3f9976f4dc29e1987154f2964ca"
          ]
        }
      },
      "source": [
        "# additive + scheduled sampling with stopwords v2\n",
        "# v2 + fixed vocab ckpt 10\n",
        "from tqdm import tqdm_notebook\n",
        "from rouge import Rouge\n",
        "def inference(dataset) :\n",
        "  pred_sum = []\n",
        "  for c in tqdm_notebook(dataset):\n",
        "    pred_sum.append(translate(c, plot=False))\n",
        "  return pred_sum\n",
        "def evaluate_result(gold_sum,pred_sum) : \n",
        "  rouge = Rouge()\n",
        "  avg_scores = rouge.get_scores(pred_sum, gold_sum, avg=True)\n",
        "  return avg_scores \n",
        "\n",
        "y_train_pred = inference(X_train)\n",
        "y_val_pred = inference(X_val)\n",
        "y_test_pred = inference(X_test)\n",
        "\n",
        "print('Eval train :', evaluate_result(gold_sum_train, y_train_pred))\n",
        "print('Eval val   :', evaluate_result(gold_sum_val, y_val_pred))\n",
        "print('Eval test  :', evaluate_result(gold_sum_test, y_test_pred))"
      ],
      "execution_count": 0,
      "outputs": [
        {
          "output_type": "stream",
          "text": [
            "/usr/local/lib/python3.6/dist-packages/ipykernel_launcher.py:7: TqdmDeprecationWarning: This function will be removed in tqdm==5.0.0\n",
            "Please use `tqdm.notebook.tqdm` instead of `tqdm.tqdm_notebook`\n",
            "  import sys\n"
          ],
          "name": "stderr"
        },
        {
          "output_type": "display_data",
          "data": {
            "application/vnd.jupyter.widget-view+json": {
              "model_id": "52f5bd8c8e164a61b766b0be3aa7ea34",
              "version_minor": 0,
              "version_major": 2
            },
            "text/plain": [
              "HBox(children=(FloatProgress(value=0.0, max=11615.0), HTML(value='')))"
            ]
          },
          "metadata": {
            "tags": []
          }
        },
        {
          "output_type": "stream",
          "text": [
            "\n"
          ],
          "name": "stdout"
        },
        {
          "output_type": "display_data",
          "data": {
            "application/vnd.jupyter.widget-view+json": {
              "model_id": "e631fb3afffb47bda3e2ac74f75eaa4b",
              "version_minor": 0,
              "version_major": 2
            },
            "text/plain": [
              "HBox(children=(FloatProgress(value=0.0, max=2861.0), HTML(value='')))"
            ]
          },
          "metadata": {
            "tags": []
          }
        },
        {
          "output_type": "stream",
          "text": [
            "\n"
          ],
          "name": "stdout"
        },
        {
          "output_type": "display_data",
          "data": {
            "application/vnd.jupyter.widget-view+json": {
              "model_id": "cea2c53020944ae6a34d19aaac00108a",
              "version_minor": 0,
              "version_major": 2
            },
            "text/plain": [
              "HBox(children=(FloatProgress(value=0.0, max=2861.0), HTML(value='')))"
            ]
          },
          "metadata": {
            "tags": []
          }
        },
        {
          "output_type": "stream",
          "text": [
            "\n",
            "Eval train : {'rouge-1': {'f': 0.2857692998580363, 'p': 0.33984538688372334, 'r': 0.2632036992227574}, 'rouge-2': {'f': 0.11131073795111544, 'p': 0.13046424285213265, 'r': 0.10352839338307904}, 'rouge-l': {'f': 0.2925474338905055, 'p': 0.3547720666304806, 'r': 0.2633720498187271}}\n",
            "Eval val   : {'rouge-1': {'f': 0.26433203933258537, 'p': 0.3166000361180193, 'r': 0.24241521685158415}, 'rouge-2': {'f': 0.09282777273210452, 'p': 0.10905427615296993, 'r': 0.08574383377245741}, 'rouge-l': {'f': 0.2704605758813509, 'p': 0.3296029381665433, 'r': 0.2427115797612706}}\n",
            "Eval test  : {'rouge-1': {'f': 0.25982173646103246, 'p': 0.30732083598254767, 'r': 0.24054312854948898}, 'rouge-2': {'f': 0.08819917957148159, 'p': 0.10169174621542343, 'r': 0.08269974725814738}, 'rouge-l': {'f': 0.2658007890639804, 'p': 0.3204611992400917, 'r': 0.24077987067427364}}\n"
          ],
          "name": "stdout"
        }
      ]
    },
    {
      "cell_type": "code",
      "metadata": {
        "id": "KKKyWh96v1wx",
        "colab_type": "code",
        "outputId": "5d73769a-bd3d-413b-a1e6-c1826101c8cb",
        "colab": {
          "base_uri": "https://localhost:8080/",
          "height": 100,
          "referenced_widgets": [
            "9d5a8a7c13b1446e9a19d4457ee6fb0d",
            "629ea2e4e89047f69c35434c8bca141e",
            "cd5f98a2f71f425e822379a778b448d6",
            "83197686b11c4720813fbd05cda07cf6",
            "b61d6d9d1b774890a60c4febac894788",
            "8df161b980ee467f83b233d7d451e133",
            "e8ad5e7dac3b461781416388f0d699e2",
            "7bb70255a0f74cdf982cc3a95312a7cb",
            "bd574e826b7349dea8d8a58efa51fd7d",
            "c0fc8ef62827454bb21d042cc71c62bd"
          ]
        }
      },
      "source": [
        "# additive + scheduled sampling with stopwords v2\n",
        "# v2\n",
        "from tqdm import tqdm_notebook\n",
        "from rouge import Rouge\n",
        "def inference(dataset) :\n",
        "  pred_sum = []\n",
        "  for c in tqdm_notebook(dataset):\n",
        "    pred_sum.append(translate(c, plot=False))\n",
        "  return pred_sum\n",
        "def evaluate_result(gold_sum,pred_sum) : \n",
        "  rouge = Rouge()\n",
        "  avg_scores = rouge.get_scores(pred_sum, gold_sum, avg=True)\n",
        "  return avg_scores \n",
        "\n",
        "y_train_pred = inference(X_train)\n",
        "y_val_pred = inference(X_val)\n",
        "y_test_pred = inference(X_test)\n",
        "\n",
        "print('Eval train :', evaluate_result(gold_sum_train, y_train_pred))\n",
        "print('Eval val   :', evaluate_result(gold_sum_val, y_val_pred))\n",
        "print('Eval test  :', evaluate_result(gold_sum_test, y_test_pred))"
      ],
      "execution_count": 0,
      "outputs": [
        {
          "output_type": "stream",
          "text": [
            "/usr/local/lib/python3.6/dist-packages/ipykernel_launcher.py:6: TqdmDeprecationWarning: This function will be removed in tqdm==5.0.0\n",
            "Please use `tqdm.notebook.tqdm` instead of `tqdm.tqdm_notebook`\n",
            "  \n"
          ],
          "name": "stderr"
        },
        {
          "output_type": "display_data",
          "data": {
            "application/vnd.jupyter.widget-view+json": {
              "model_id": "9d5a8a7c13b1446e9a19d4457ee6fb0d",
              "version_minor": 0,
              "version_major": 2
            },
            "text/plain": [
              "HBox(children=(FloatProgress(value=0.0, max=11615.0), HTML(value='')))"
            ]
          },
          "metadata": {
            "tags": []
          }
        },
        {
          "output_type": "stream",
          "text": [
            "\n"
          ],
          "name": "stdout"
        },
        {
          "output_type": "display_data",
          "data": {
            "application/vnd.jupyter.widget-view+json": {
              "model_id": "bd574e826b7349dea8d8a58efa51fd7d",
              "version_minor": 0,
              "version_major": 2
            },
            "text/plain": [
              "HBox(children=(FloatProgress(value=0.0, max=2861.0), HTML(value='')))"
            ]
          },
          "metadata": {
            "tags": []
          }
        },
        {
          "output_type": "stream",
          "text": [
            "\n"
          ],
          "name": "stdout"
        },
        {
          "output_type": "display_data",
          "data": {
            "application/vnd.jupyter.widget-view+json": {
              "model_id": "c0fc8ef62827454bb21d042cc71c62bd",
              "version_minor": 0,
              "version_major": 2
            },
            "text/plain": [
              "HBox(children=(FloatProgress(value=0.0, max=2861.0), HTML(value='')))"
            ]
          },
          "metadata": {
            "tags": []
          }
        },
        {
          "output_type": "stream",
          "text": [
            "\n",
            "Eval train : {'rouge-1': {'f': 0.3286664089616957, 'p': 0.404950467168354, 'r': 0.2977129916374333}, 'rouge-2': {'f': 0.14299377786426826, 'p': 0.169381041361291, 'r': 0.13314184864926706}, 'rouge-l': {'f': 0.3344764918737491, 'p': 0.4202166229376877, 'r': 0.29686118839779196}}\n",
            "Eval val   : {'rouge-1': {'f': 0.2832006924369142, 'p': 0.35014599935721674, 'r': 0.2566932391058568}, 'rouge-2': {'f': 0.09637917906137111, 'p': 0.11364987221166616, 'r': 0.09014548246137458}, 'rouge-l': {'f': 0.28848018463745745, 'p': 0.3621162492856999, 'r': 0.25661134247457146}}\n",
            "Eval test  : {'rouge-1': {'f': 0.2791956342447045, 'p': 0.3474173736824684, 'r': 0.2527249455199971}, 'rouge-2': {'f': 0.09443519376201552, 'p': 0.1124588376955152, 'r': 0.08824042381007838}, 'rouge-l': {'f': 0.2846726115626745, 'p': 0.3627509837622427, 'r': 0.252038387180245}}\n"
          ],
          "name": "stdout"
        }
      ]
    },
    {
      "cell_type": "code",
      "metadata": {
        "id": "ljNkDKo4HC3Z",
        "colab_type": "code",
        "outputId": "8dd099a5-80b7-4616-eac6-b74c5c9965dc",
        "colab": {
          "base_uri": "https://localhost:8080/",
          "height": 286,
          "referenced_widgets": [
            "0bb6b2dc3b96429fadefa35737498f62",
            "451b90c0b03343fc910c32d92a6ceaba",
            "e5da89e8053f48db831de8d25431eaf5",
            "506cc07f33d44fb58b6eb8f29816b861",
            "2be5d1d4b4454d3bb02aac0df1222ac5",
            "f4a8fc73f9264ffba1d7ee6781ad81cd",
            "5348992af11145228933cb93b1609ded",
            "cc7bc40d0cfc4332acb88adcee5c3275",
            "4229270d2eea49a4bffbaf7cba8e0cfd",
            "9a0b2f494dd647158474d7cf3dfdb8f8",
            "709b348178924b4a873d1b1350e3f994",
            "53fa44fdad3b42b1ad64e23be7946c50",
            "09bdf25af578476fa41930de026796a6",
            "0424b61fddaa459cbeca655b5a4e6f0e",
            "6a3dbb519ff94aa381a7c661b9b31895",
            "9018bd54810d4d72b30d367b1535fc7c",
            "7ef1f51f12c0465c999a056f0856d16f",
            "8591d7e072b440f4a9bee52ec02f7ab9",
            "01b8fb42cea2460b9ddc519e9350e40c",
            "c45f50ac27e643f59a1e0a37fcd8c6ec",
            "c819322e83b345bfb6bfd88fceb2fa96",
            "8d2ad656c8c54e1481a63fc714235308",
            "13714a1771bd40a2861c4483fb48c435",
            "d8eed74ae0a942aa886a36cfba1a2440"
          ]
        }
      },
      "source": [
        "# additive + scheduled sampling with stopwords v2\n",
        "from tqdm import tqdm_notebook\n",
        "from rouge import Rouge\n",
        "def inference(dataset) :\n",
        "  pred_sum = []\n",
        "  for c in tqdm_notebook(dataset):\n",
        "    pred_sum.append(translate(c, plot=False))\n",
        "  return pred_sum\n",
        "def evaluate_result(gold_sum,pred_sum) : \n",
        "  rouge = Rouge()\n",
        "  avg_scores = rouge.get_scores(pred_sum, gold_sum, avg=True)\n",
        "  return avg_scores \n",
        "\n",
        "y_train_pred = inference(X_train)\n",
        "y_val_pred = inference(X_val)\n",
        "y_test_pred = inference(X_test)\n",
        "\n",
        "print('Eval train :', evaluate_result(gold_sum_train, y_train_pred))\n",
        "print('Eval val   :', evaluate_result(gold_sum_val, y_val_pred))\n",
        "print('Eval test  :', evaluate_result(gold_sum_test, y_test_pred))"
      ],
      "execution_count": 0,
      "outputs": [
        {
          "output_type": "stream",
          "text": [
            "/usr/local/lib/python3.6/dist-packages/ipykernel_launcher.py:5: TqdmDeprecationWarning: This function will be removed in tqdm==5.0.0\n",
            "Please use `tqdm.notebook.tqdm` instead of `tqdm.tqdm_notebook`\n",
            "  \"\"\"\n"
          ],
          "name": "stderr"
        },
        {
          "output_type": "display_data",
          "data": {
            "application/vnd.jupyter.widget-view+json": {
              "model_id": "0bb6b2dc3b96429fadefa35737498f62",
              "version_minor": 0,
              "version_major": 2
            },
            "text/plain": [
              "HBox(children=(FloatProgress(value=0.0, max=11615.0), HTML(value='')))"
            ]
          },
          "metadata": {
            "tags": []
          }
        },
        {
          "output_type": "stream",
          "text": [
            "\n"
          ],
          "name": "stdout"
        },
        {
          "output_type": "display_data",
          "data": {
            "application/vnd.jupyter.widget-view+json": {
              "model_id": "4229270d2eea49a4bffbaf7cba8e0cfd",
              "version_minor": 0,
              "version_major": 2
            },
            "text/plain": [
              "HBox(children=(FloatProgress(value=0.0, max=2861.0), HTML(value='')))"
            ]
          },
          "metadata": {
            "tags": []
          }
        },
        {
          "output_type": "stream",
          "text": [
            "\n"
          ],
          "name": "stdout"
        },
        {
          "output_type": "display_data",
          "data": {
            "application/vnd.jupyter.widget-view+json": {
              "model_id": "7ef1f51f12c0465c999a056f0856d16f",
              "version_minor": 0,
              "version_major": 2
            },
            "text/plain": [
              "HBox(children=(FloatProgress(value=0.0, max=2861.0), HTML(value='')))"
            ]
          },
          "metadata": {
            "tags": []
          }
        },
        {
          "output_type": "stream",
          "text": [
            "\n",
            "Eval train : {'rouge-1': {'f': 0.3316216664676006, 'p': 0.39584552756168767, 'r': 0.3043822771264748}, 'rouge-2': {'f': 0.14539594442405668, 'p': 0.16653982639058618, 'r': 0.13704949243104267}, 'rouge-l': {'f': 0.3411716701418495, 'p': 0.4265433187135071, 'r': 0.302346349912178}}\n",
            "Eval val   : {'rouge-1': {'f': 0.2753238649040949, 'p': 0.3312370714680459, 'r': 0.2523167631232138}, 'rouge-2': {'f': 0.09332359440670134, 'p': 0.10657701641468456, 'r': 0.0877801989930994}, 'rouge-l': {'f': 0.2842083111855991, 'p': 0.35679757437524784, 'r': 0.2516226344043467}}\n",
            "Eval test  : {'rouge-1': {'f': 0.2772315095364518, 'p': 0.332982683027399, 'r': 0.25433679121886066}, 'rouge-2': {'f': 0.09368943296864761, 'p': 0.10680276491684366, 'r': 0.08852816663196328}, 'rouge-l': {'f': 0.2846344066931298, 'p': 0.3562378807841689, 'r': 0.25295440473734976}}\n"
          ],
          "name": "stdout"
        }
      ]
    },
    {
      "cell_type": "code",
      "metadata": {
        "id": "2ppDiKroksMy",
        "colab_type": "code",
        "outputId": "b8792dc2-a03c-43f2-cb6b-7023fd6c9379",
        "colab": {
          "base_uri": "https://localhost:8080/",
          "height": 278,
          "referenced_widgets": [
            "64685ef6cb39455db7fe41caa9392c0d",
            "bf2e447971a34292bbf9d9d5f1637d0c",
            "59d2ad34a9bd4f549cf829494e328c80",
            "4778ccb8997a41beabc402db6de88926",
            "532c8589f49a40a1abd368a1fc7ecd77",
            "d018f6e20b444b9489e81dc80c42000f",
            "ee09674c42ba4b7dbc70b4ad902390bd",
            "c41a5f79e8ac4805b8f846e69e203bed",
            "2a296f4cf0014db3923bc5c739602461",
            "17c1273087564c02bfd15198ea35ae3f",
            "6bc1a988a66a44cc93a4735c304355b0",
            "e20610fae12c49f5b9563150e2fa47e5",
            "abb5e45aa46f49f4b9cda6ed0e039653",
            "8b6f0d8ed145455a95228c95e4d763ea",
            "1ec423851e6d40ba92329b277387bb2e",
            "608faaca0ed54ff2b2ce4f866aee516d",
            "e4cef2890a1b4a3ba355bb51cfe386ea",
            "0ca61b5aa02e466789ce3d93bbf4b64e",
            "df622e8c6bd5415b8d50cb5db6e7870d",
            "eaa28f4ef4eb4a7eb2d85426f13c65c2",
            "8294279cbbb6456cadee381b71cb392c",
            "8b99d46c652f4f688dddc7a9da3a4fcb",
            "eba29afd26574adbb19c92e6364de264",
            "ea8d090380a145ceaafe4262bc34e72e"
          ]
        }
      },
      "source": [
        "# additive + teacher forcing with stopwords v2 (cleaned and resplitted)\n",
        "\n",
        "from tqdm import tqdm_notebook\n",
        "from rouge import Rouge\n",
        "def inference(dataset) :\n",
        "  pred_sum = []\n",
        "  for c in tqdm_notebook(dataset):\n",
        "    pred_sum.append(translate(c, plot=False))\n",
        "  return pred_sum\n",
        "def evaluate_result(gold_sum,pred_sum) : \n",
        "  rouge = Rouge()\n",
        "  avg_scores = rouge.get_scores(pred_sum, gold_sum, avg=True)\n",
        "  return avg_scores \n",
        "\n",
        "y_train_pred = inference(X_train)\n",
        "y_val_pred = inference(X_val)\n",
        "y_test_pred = inference(X_test)\n",
        "\n",
        "print('Eval train :', evaluate_result(gold_sum_train, y_train_pred))\n",
        "print('Eval val   :', evaluate_result(gold_sum_val, y_val_pred))\n",
        "print('Eval test  :', evaluate_result(gold_sum_test, y_test_pred))"
      ],
      "execution_count": 0,
      "outputs": [
        {
          "output_type": "stream",
          "text": [
            "/usr/local/lib/python3.6/dist-packages/ipykernel_launcher.py:5: TqdmDeprecationWarning: This function will be removed in tqdm==5.0.0\n",
            "Please use `tqdm.notebook.tqdm` instead of `tqdm.tqdm_notebook`\n",
            "  \"\"\"\n"
          ],
          "name": "stderr"
        },
        {
          "output_type": "display_data",
          "data": {
            "application/vnd.jupyter.widget-view+json": {
              "model_id": "64685ef6cb39455db7fe41caa9392c0d",
              "version_minor": 0,
              "version_major": 2
            },
            "text/plain": [
              "HBox(children=(FloatProgress(value=0.0, max=11615.0), HTML(value='')))"
            ]
          },
          "metadata": {
            "tags": []
          }
        },
        {
          "output_type": "stream",
          "text": [
            "\n"
          ],
          "name": "stdout"
        },
        {
          "output_type": "display_data",
          "data": {
            "application/vnd.jupyter.widget-view+json": {
              "model_id": "2a296f4cf0014db3923bc5c739602461",
              "version_minor": 0,
              "version_major": 2
            },
            "text/plain": [
              "HBox(children=(FloatProgress(value=0.0, max=2861.0), HTML(value='')))"
            ]
          },
          "metadata": {
            "tags": []
          }
        },
        {
          "output_type": "stream",
          "text": [
            "\n"
          ],
          "name": "stdout"
        },
        {
          "output_type": "display_data",
          "data": {
            "application/vnd.jupyter.widget-view+json": {
              "model_id": "e4cef2890a1b4a3ba355bb51cfe386ea",
              "version_minor": 0,
              "version_major": 2
            },
            "text/plain": [
              "HBox(children=(FloatProgress(value=0.0, max=2861.0), HTML(value='')))"
            ]
          },
          "metadata": {
            "tags": []
          }
        },
        {
          "output_type": "stream",
          "text": [
            "\n",
            "Eval train : {'rouge-1': {'f': 0.31255606618074416, 'p': 0.3699522595639823, 'r': 0.29118707247256176}, 'rouge-2': {'f': 0.13921053678939652, 'p': 0.15919970804256284, 'r': 0.1329544137673485}, 'rouge-l': {'f': 0.3252717405570767, 'p': 0.412626343182596, 'r': 0.28984010064706206}}\n",
            "Eval val   : {'rouge-1': {'f': 0.26077731568818086, 'p': 0.3138555705697845, 'r': 0.24185617029094433}, 'rouge-2': {'f': 0.0878659722637187, 'p': 0.10085893141122382, 'r': 0.08389562453305079}, 'rouge-l': {'f': 0.2712526981536289, 'p': 0.35058526743159263, 'r': 0.24076205725434838}}\n",
            "Eval test  : {'rouge-1': {'f': 0.25838712445233686, 'p': 0.31063618231042167, 'r': 0.2405915591012182}, 'rouge-2': {'f': 0.08814604824395639, 'p': 0.10113048852663067, 'r': 0.08452106747164245}, 'rouge-l': {'f': 0.2697474693034942, 'p': 0.3499145752717843, 'r': 0.23965010689122512}}\n"
          ],
          "name": "stdout"
        }
      ]
    },
    {
      "cell_type": "code",
      "metadata": {
        "id": "t3zgVRF9kslK",
        "colab_type": "code",
        "outputId": "d0de3da3-8d68-4ae1-ccef-63d2a7cf2e8e",
        "colab": {
          "base_uri": "https://localhost:8080/",
          "height": 86
        }
      },
      "source": [
        "# additive + teacher forcing with stopwords v1 (cleaned and not resplitted)\n",
        "from rouge import Rouge\n",
        "def evaluate_result(gold_sum,pred_sum) : \n",
        "  rouge = Rouge()\n",
        "  avg_scores = rouge.get_scores(pred_sum, gold_sum, avg=True)\n",
        "  return avg_scores \n",
        "print('Eval train :', evaluate_result(gold_sum_train, y_train_pred))\n",
        "print('Eval val   :', evaluate_result(gold_sum_val, y_val_pred))\n",
        "print('Eval test  :', evaluate_result(gold_sum_test, y_test_pred))\n"
      ],
      "execution_count": 0,
      "outputs": [
        {
          "output_type": "stream",
          "text": [
            "Eval train : {'rouge-1': {'f': 0.2795673425761507, 'p': 0.3557595652463653, 'r': 0.25352607870171523}, 'rouge-2': {'f': 0.09932441987108667, 'p': 0.12613012960819406, 'r': 0.09226585948787162}, 'rouge-l': {'f': 0.28737431689730497, 'p': 0.3731399927570879, 'r': 0.25371851798119666}}\n",
            "Eval val   : {'rouge-1': {'f': 0.25329514942133546, 'p': 0.3274296069330234, 'r': 0.22779928431398458}, 'rouge-2': {'f': 0.07118651085296651, 'p': 0.09311496548861718, 'r': 0.06528372785626006}, 'rouge-l': {'f': 0.26002256056456724, 'p': 0.3417097761580575, 'r': 0.2282872326099331}}\n",
            "Eval test  : {'rouge-1': {'f': 0.25344063948426654, 'p': 0.32598460418102326, 'r': 0.22866659593474578}, 'rouge-2': {'f': 0.07427264694055888, 'p': 0.09647897270043032, 'r': 0.06867201271640855}, 'rouge-l': {'f': 0.2606687205468006, 'p': 0.34019529076833227, 'r': 0.2298648872657804}}\n"
          ],
          "name": "stdout"
        }
      ]
    },
    {
      "cell_type": "code",
      "metadata": {
        "id": "AI61q1ylkshm",
        "colab_type": "code",
        "colab": {}
      },
      "source": [
        ""
      ],
      "execution_count": 0,
      "outputs": []
    },
    {
      "cell_type": "code",
      "metadata": {
        "id": "g0z4sXSTksf1",
        "colab_type": "code",
        "colab": {}
      },
      "source": [
        ""
      ],
      "execution_count": 0,
      "outputs": []
    },
    {
      "cell_type": "code",
      "metadata": {
        "id": "4PC30KfFksd3",
        "colab_type": "code",
        "colab": {}
      },
      "source": [
        ""
      ],
      "execution_count": 0,
      "outputs": []
    },
    {
      "cell_type": "code",
      "metadata": {
        "id": "NaFhx9QhksY7",
        "colab_type": "code",
        "colab": {}
      },
      "source": [
        ""
      ],
      "execution_count": 0,
      "outputs": []
    },
    {
      "cell_type": "markdown",
      "metadata": {
        "id": "Zp4fmYqsko1c",
        "colab_type": "text"
      },
      "source": [
        "# sth\n"
      ]
    },
    {
      "cell_type": "code",
      "metadata": {
        "id": "x9ZgBmeylIuc",
        "colab_type": "code",
        "outputId": "43d3bcf4-a64b-432c-9d64-7c547e2deb05",
        "colab": {
          "base_uri": "https://localhost:8080/",
          "height": 316
        }
      },
      "source": [
        "text = '“ยุติธรรม” เตรียมความพร้อมร่วมกับองค์กรปกครองส่วนท้องถิ่น เพื่อส่งเสริมการดำเนินงานของศูนย์ยุติธรรมชุมชน\\\n",
        "กระทรวงยุติธรรม เตรียมความพร้อมร่วมกับองค์กรปกครองส่วนท้องถิ่น เพื่อส่งเสริมการดำเนินงานของศูนย์ยุติธรรมชุมชน\\\n",
        "ในวันพฤหัสบดีที่ ๒๗ กันยายน ๒๕๖๑ เวลา ๐๙.๐๐ น.\\\n",
        "นางกรรณิการ์ แสงทอง รองปลัดกระทรวงยุติธรรม\\\n",
        "เป็นประธานการประชุมเชิงปฏิบัติการ\\\n",
        "โครงการวิจัยศักยภาพและความพร้อมขององค์กรปกครองส่วนท้องถิ่น\\\n",
        "ในการส่งเสริมการดำเนินงานศูนย์ยุติธรรมชุมชน : กิจกรรมของหน่วยงานที่เกี่ยวข้อง ครั้งที่ ๑\\\n",
        "เพื่อแลกเปลี่ยนความคิดเห็นในการศึกษาศักยภาพและความพร้อมขององค์กรปกครองส่วนท้องถิ่น\\\n",
        "ในการดำเนินงานศูนย์ยุติธรรมชุมชนและศึกษาความต้องการของชุมชน\\\n",
        "ในการดำเนินงานยุติธรรมชุมชนในพื้นที่โดยมีผู้แทนจากหน่วยงานที่เกี่ยวข้อง เข้าร่วมประชุมฯ\\\n",
        "ณ โรงแรม อมารี ดอนเมือง แอร์พอร์ต กรุงเทพฯ\\\n",
        "รองปลัดกระทรวงยุติธรรม กล่าวว่า กระทรวงยุติธรรม มีนโยบายให้มีการบูรณาการ\\\n",
        "การทำงานของส่วนราชการในสังกัด ทั้งในส่วนกลางและระดับจังหวัด\\\n",
        "เน้นบทบาทหน้าที่ของสำนักงานยุติธรรมจังหวัด และศูนย์ยุติธรรมชุมชน\\\n",
        "โดยประสานงานกับศูนย์ดำรงธรรม และหน่วยงานอื่นๆ ที่เกี่ยวข้อง\\\n",
        "เพื่ออำนวยความยุติธรรม ลดความเหลื่อมล้ำ ให้แก่ประชาชนระดับพื้นที่\\\n",
        "อาทิ การสร้างการรับรู้ด้านกฎหมายในชีวิตประจำวัน การให้คำปรึกษาด้านกฎหมาย\\\n",
        "การทำให้ประชาชนเข้าถึงงานบริการของกองทุนยุติธรรม การช่วยเหลือเยียวยาประชาชนที่ถูกละเมิดสิทธิ\\\n",
        "การสร้างมาตรการไกล่เกลี่ยระงับข้อพิพาทให้เกิดขึ้นในชุมชน การคุ้มครองพยาน\\\n",
        "และการคืนคนดีสู่สังคม เป็นต้น\\\n",
        "ดังนั้น การศึกษาความต้องการของประชาชนในระดับพื้นที่ และการดำเนินงาน\\\n",
        "ร่วมกับหน่วยงานที่เกี่ยวข้องในระดับพื้นที่จึงมีความจำเป็นอย่างมาก\\\n",
        "ซึ่งโครงการศึกษาฯ ดังกล่าว จะทำให้ได้ข้อมูลรูปแบบความต้องการของประชาชน\\\n",
        "และปัจจัยที่ช่วยส่งเสริมการดำเนินงานของศูนย์ยุติธรรมชุมชน\\\n",
        "อันจะนำไปสู่การสังเคราะห์แนวทาง วิธีการดำเนินงานขององค์กรปกครองส่วนท้องถิ่น\\\n",
        "ในการบริหารจัดการศูนย์ยุติธรรมชุมชนอย่างเป็นรูปธรรม ต่อไป\\\n",
        "                            '\n",
        "  \n",
        "                          "
      ],
      "execution_count": 0,
      "outputs": [
        {
          "output_type": "error",
          "ename": "AttributeError",
          "evalue": "ignored",
          "traceback": [
            "\u001b[0;31m---------------------------------------------------------------------------\u001b[0m",
            "\u001b[0;31mAttributeError\u001b[0m                            Traceback (most recent call last)",
            "\u001b[0;32m<ipython-input-145-15706304b652>\u001b[0m in \u001b[0;36m<module>\u001b[0;34m()\u001b[0m\n\u001b[0;32m----> 1\u001b[0;31m \u001b[0mtranslate\u001b[0m\u001b[0;34m(\u001b[0m\u001b[0;34m'“ยุติธรรม” เตรียมความพร้อมร่วมกับองค์กรปกครองส่วนท้องถิ่น เพื่อส่งเสริมการดำเนินงานของศูนย์ยุติธรรมชุมชนกระทรวงยุติธรรม เตรียมความพร้อมร่วมกับองค์กรปกครองส่วนท้องถิ่น เพื่อส่งเสริมการดำเนินงานของศูนย์ยุติธรรมชุมชนในวันพฤหัสบดีที่ ๒๗ กันยายน ๒๕๖๑ เวลา ๐๙.๐๐ น.นางกรรณิการ์ แสงทอง รองปลัดกระทรวงยุติธรรมเป็นประธานการประชุมเชิงปฏิบัติการโครงการวิจัยศักยภาพและความพร้อมขององค์กรปกครองส่วนท้องถิ่นในการส่งเสริมการดำเนินงานศูนย์ยุติธรรมชุมชน : กิจกรรมของหน่วยงานที่เกี่ยวข้อง ครั้งที่ ๑เพื่อแลกเปลี่ยนความคิดเห็นในการศึกษาศักยภาพและความพร้อมขององค์กรปกครองส่วนท้องถิ่นในการดำเนินงานศูนย์ยุติธรรมชุมชนและศึกษาความต้องการของชุมชนในการดำเนินงานยุติธรรมชุมชนในพื้นที่โดยมีผู้แทนจากหน่วยงานที่เกี่ยวข้อง เข้าร่วมประชุมฯณ โรงแรม อมารี ดอนเมือง แอร์พอร์ต กรุงเทพฯรองปลัดกระทรวงยุติธรรม กล่าวว่า กระทรวงยุติธรรม มีนโยบายให้มีการบูรณาการการทำงานของส่วนราชการในสังกัด ทั้งในส่วนกลางและระดับจังหวัดเน้นบทบาทหน้าที่ของสำนักงานยุติธรรมจังหวัด และศูนย์ยุติธรรมชุมชนโดยประสานงานกับศูนย์ดำรงธรรม และหน่วยงานอื่นๆ ที่เกี่ยวข้องเพื่ออำนวยความยุติธรรม ลดความเหลื่อมล้ำ ให้แก่ประชาชนระดับพื้นที่อาทิ การสร้างการรับรู้ด้านกฎหมายในชีวิตประจำวัน การให้คำปรึกษาด้านกฎหมายการทำให้ประชาชนเข้าถึงงานบริการของกองทุนยุติธรรม การช่วยเหลือเยียวยาประชาชนที่ถูกละเมิดสิทธิการสร้างมาตรการไกล่เกลี่ยระงับข้อพิพาทให้เกิดขึ้นในชุมชน การคุ้มครองพยานและการคืนคนดีสู่สังคม เป็นต้นดังนั้น การศึกษาความต้องการของประชาชนในระดับพื้นที่ และการดำเนินงานร่วมกับหน่วยงานที่เกี่ยวข้องในระดับพื...\n\u001b[0m",
            "\u001b[0;32m<ipython-input-137-11e0d778f1e1>\u001b[0m in \u001b[0;36mtranslate\u001b[0;34m(sentence)\u001b[0m\n\u001b[1;32m      1\u001b[0m \u001b[0;32mdef\u001b[0m \u001b[0mtranslate\u001b[0m\u001b[0;34m(\u001b[0m\u001b[0msentence\u001b[0m\u001b[0;34m)\u001b[0m\u001b[0;34m:\u001b[0m\u001b[0;34m\u001b[0m\u001b[0;34m\u001b[0m\u001b[0m\n\u001b[0;32m----> 2\u001b[0;31m   \u001b[0mresult\u001b[0m\u001b[0;34m,\u001b[0m \u001b[0msentence\u001b[0m\u001b[0;34m,\u001b[0m \u001b[0mattention_plot\u001b[0m \u001b[0;34m=\u001b[0m \u001b[0mevaluate\u001b[0m\u001b[0;34m(\u001b[0m\u001b[0msentence\u001b[0m\u001b[0;34m)\u001b[0m\u001b[0;34m\u001b[0m\u001b[0;34m\u001b[0m\u001b[0m\n\u001b[0m\u001b[1;32m      3\u001b[0m \u001b[0;34m\u001b[0m\u001b[0m\n\u001b[1;32m      4\u001b[0m   \u001b[0mprint\u001b[0m\u001b[0;34m(\u001b[0m\u001b[0;34m'Input: %s'\u001b[0m \u001b[0;34m%\u001b[0m \u001b[0;34m(\u001b[0m\u001b[0msentence\u001b[0m\u001b[0;34m)\u001b[0m\u001b[0;34m)\u001b[0m\u001b[0;34m\u001b[0m\u001b[0;34m\u001b[0m\u001b[0m\n\u001b[1;32m      5\u001b[0m   \u001b[0mprint\u001b[0m\u001b[0;34m(\u001b[0m\u001b[0;34m'Predicted translation: {}'\u001b[0m\u001b[0;34m.\u001b[0m\u001b[0mformat\u001b[0m\u001b[0;34m(\u001b[0m\u001b[0mresult\u001b[0m\u001b[0;34m)\u001b[0m\u001b[0;34m)\u001b[0m\u001b[0;34m\u001b[0m\u001b[0;34m\u001b[0m\u001b[0m\n",
            "\u001b[0;32m<ipython-input-135-35fb32fc9085>\u001b[0m in \u001b[0;36mevaluate\u001b[0;34m(sentence)\u001b[0m\n\u001b[1;32m      2\u001b[0m   \u001b[0mattention_plot\u001b[0m \u001b[0;34m=\u001b[0m \u001b[0mnp\u001b[0m\u001b[0;34m.\u001b[0m\u001b[0mzeros\u001b[0m\u001b[0;34m(\u001b[0m\u001b[0;34m(\u001b[0m\u001b[0mmaxlen_output\u001b[0m\u001b[0;34m,\u001b[0m \u001b[0mmaxlen_input\u001b[0m\u001b[0;34m)\u001b[0m\u001b[0;34m)\u001b[0m\u001b[0;34m\u001b[0m\u001b[0;34m\u001b[0m\u001b[0m\n\u001b[1;32m      3\u001b[0m \u001b[0;34m\u001b[0m\u001b[0m\n\u001b[0;32m----> 4\u001b[0;31m   \u001b[0minputs\u001b[0m \u001b[0;34m=\u001b[0m \u001b[0msentence\u001b[0m\u001b[0;34m.\u001b[0m\u001b[0mreshape\u001b[0m\u001b[0;34m(\u001b[0m\u001b[0;36m1\u001b[0m\u001b[0;34m,\u001b[0m \u001b[0mmaxlen_input\u001b[0m\u001b[0;34m)\u001b[0m\u001b[0;34m\u001b[0m\u001b[0;34m\u001b[0m\u001b[0m\n\u001b[0m\u001b[1;32m      5\u001b[0m   \u001b[0;31m# sentence = preprocess_sentence(sentence)\u001b[0m\u001b[0;34m\u001b[0m\u001b[0;34m\u001b[0m\u001b[0;34m\u001b[0m\u001b[0m\n\u001b[1;32m      6\u001b[0m \u001b[0;34m\u001b[0m\u001b[0m\n",
            "\u001b[0;31mAttributeError\u001b[0m: 'str' object has no attribute 'reshape'"
          ]
        }
      ]
    },
    {
      "cell_type": "code",
      "metadata": {
        "id": "VVYfsRcWlKw-",
        "colab_type": "code",
        "colab": {}
      },
      "source": [
        "translate(u'¿todavia estan en casa?')"
      ],
      "execution_count": 0,
      "outputs": []
    },
    {
      "cell_type": "code",
      "metadata": {
        "id": "st5MifFvdGCR",
        "colab_type": "code",
        "colab": {}
      },
      "source": [
        "# Converts the unicode file to ascii\n",
        "def unicode_to_ascii(s):\n",
        "  return ''.join(c for c in unicodedata.normalize('NFD', s)\n",
        "      if unicodedata.category(c) != 'Mn')\n",
        "\n",
        "\n",
        "def preprocess_sentence(w):\n",
        "  w = unicode_to_ascii(w.lower().strip())\n",
        "\n",
        "  # creating a space between a word and the punctuation following it\n",
        "  # eg: \"he is a boy.\" => \"he is a boy .\"\n",
        "  # Reference:- https://stackoverflow.com/questions/3645931/python-padding-punctuation-with-white-spaces-keeping-punctuation\n",
        "  w = re.sub(r\"([?.!,¿])\", r\" \\1 \", w)\n",
        "  w = re.sub(r'[\" \"]+', \" \", w)\n",
        "\n",
        "  # replacing everything with space except (a-z, A-Z, \".\", \"?\", \"!\", \",\")\n",
        "  w = re.sub(r\"[^a-zA-Z?.!,¿]+\", \" \", w)\n",
        "\n",
        "  w = w.strip()\n",
        "\n",
        "  # adding a start and an end token to the sentence\n",
        "  # so that the model know when to start and stop predicting.\n",
        "  w = '<s> ' + w + ' </s>'\n",
        "  return w"
      ],
      "execution_count": 0,
      "outputs": []
    },
    {
      "cell_type": "code",
      "metadata": {
        "id": "1qKSerOMdRxj",
        "colab_type": "code",
        "colab": {}
      },
      "source": [
        ""
      ],
      "execution_count": 0,
      "outputs": []
    }
  ]
}