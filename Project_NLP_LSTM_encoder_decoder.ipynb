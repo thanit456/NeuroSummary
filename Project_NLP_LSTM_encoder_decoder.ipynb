{
  "nbformat": 4,
  "nbformat_minor": 0,
  "metadata": {
    "colab": {
      "name": "Project_NLP_LSTM-encoder-decoder.ipynb",
      "provenance": [],
      "collapsed_sections": [
        "xNM-iqXmIaah",
        "S8sqn3w1InNE",
        "V2NFXsnnAKcz",
        "GXzQ3m2Web5d",
        "AggntgSLFLGQ",
        "p2dmKRXTkXNV"
      ],
      "toc_visible": true,
      "machine_shape": "hm",
      "authorship_tag": "ABX9TyOdnNaJTipU4yRqoYxngRku",
      "include_colab_link": true
    },
    "kernelspec": {
      "name": "python3",
      "display_name": "Python 3"
    },
    "accelerator": "GPU"
  },
  "cells": [
    {
      "cell_type": "markdown",
      "metadata": {
        "id": "view-in-github",
        "colab_type": "text"
      },
      "source": [
        "<a href=\"https://colab.research.google.com/github/thanit456/NeuroSummary/blob/master/Project_NLP_LSTM_encoder_decoder.ipynb\" target=\"_parent\"><img src=\"https://colab.research.google.com/assets/colab-badge.svg\" alt=\"Open In Colab\"/></a>"
      ]
    },
    {
      "cell_type": "markdown",
      "metadata": {
        "id": "xNM-iqXmIaah",
        "colab_type": "text"
      },
      "source": [
        "# Data Prep"
      ]
    },
    {
      "cell_type": "markdown",
      "metadata": {
        "id": "S8sqn3w1InNE",
        "colab_type": "text"
      },
      "source": [
        "### Cleaning\n",
        "- remove special case"
      ]
    },
    {
      "cell_type": "code",
      "metadata": {
        "id": "ZCiIj5L53Y0J",
        "colab_type": "code",
        "colab": {}
      },
      "source": [
        "import re\n",
        "def basic_cleaner(text) :\n",
        "  special_char = '!|\"|#|%|&|\\'|,|-|/|:|;|<|=|>|@|_|`|~|\\.|\\$'.split(\"|\")# type(result)\n",
        "  nstr = text\n",
        "  for special in special_char :\n",
        "    nstr = re.sub(special+\"+\",special.replace('\\\\',''),nstr)\n",
        "  nstr = re.sub(\"|^||'\",\"\",nstr).replace(\"|\",\"\").replace(\"*\",\"\").replace(\"  \",\" \").replace(u'\\xa0', u' ')\n",
        "  return nstr"
      ],
      "execution_count": 0,
      "outputs": []
    },
    {
      "cell_type": "code",
      "metadata": {
        "id": "LtPGV2HuFShH",
        "colab_type": "code",
        "outputId": "d7e5f7e0-5b9b-4eef-a115-fa911c35697f",
        "colab": {
          "base_uri": "https://localhost:8080/"
        }
      },
      "source": [
        "df_content = thaigov_dataset.loc[:,'content'] "
      ],
      "execution_count": 0,
      "outputs": [
        {
          "output_type": "error",
          "ename": "NameError",
          "evalue": "ignored",
          "traceback": [
            "\u001b[0;31m---------------------------------------------------------------------------\u001b[0m",
            "\u001b[0;31mNameError\u001b[0m                                 Traceback (most recent call last)",
            "\u001b[0;32m<ipython-input-2-2aa617a37827>\u001b[0m in \u001b[0;36m<module>\u001b[0;34m()\u001b[0m\n\u001b[0;32m----> 1\u001b[0;31m \u001b[0mdf_content\u001b[0m \u001b[0;34m=\u001b[0m \u001b[0mthaigov_dataset\u001b[0m\u001b[0;34m.\u001b[0m\u001b[0mloc\u001b[0m\u001b[0;34m[\u001b[0m\u001b[0;34m:\u001b[0m\u001b[0;34m,\u001b[0m\u001b[0;34m'content'\u001b[0m\u001b[0;34m]\u001b[0m\u001b[0;34m\u001b[0m\u001b[0;34m\u001b[0m\u001b[0m\n\u001b[0m",
            "\u001b[0;31mNameError\u001b[0m: name 'thaigov_dataset' is not defined"
          ]
        }
      ]
    },
    {
      "cell_type": "code",
      "metadata": {
        "id": "Lnd0AMbKRtsz",
        "colab_type": "code",
        "colab": {}
      },
      "source": [
        "df_content_clean = df_content.apply(basic_cleaner)\n",
        "df_content_diff = df_content_clean[df_content != df_content_clean]"
      ],
      "execution_count": 0,
      "outputs": []
    },
    {
      "cell_type": "markdown",
      "metadata": {
        "id": "7jrMN3adol7e",
        "colab_type": "text"
      },
      "source": [
        "## Split Dataset\\"
      ]
    },
    {
      "cell_type": "code",
      "metadata": {
        "id": "0pCGbYTNseKu",
        "colab_type": "code",
        "outputId": "99a3afcd-7b7e-4377-d900-c0ab40e11740",
        "colab": {
          "base_uri": "https://localhost:8080/",
          "height": 71
        }
      },
      "source": [
        "import pandas as pd\n",
        "import numpy as np\n",
        "import seaborn as sns\n",
        "import matplotlib.pyplot as plt\n",
        "from scipy import stats\n",
        "\n",
        "import re\n",
        "\n",
        "import matplotlib.pyplot as plt\n",
        "from sklearn.model_selection import train_test_split\n",
        "from tqdm import tqdm_notebook\n",
        "import copy"
      ],
      "execution_count": 0,
      "outputs": [
        {
          "output_type": "stream",
          "text": [
            "/usr/local/lib/python3.6/dist-packages/statsmodels/tools/_testing.py:19: FutureWarning: pandas.util.testing is deprecated. Use the functions in the public API at pandas.testing instead.\n",
            "  import pandas.util.testing as tm\n"
          ],
          "name": "stderr"
        }
      ]
    },
    {
      "cell_type": "code",
      "metadata": {
        "id": "-3tkL75Gonp8",
        "colab_type": "code",
        "colab": {}
      },
      "source": [
        "old_df = pd.read_pickle('/content/drive/Shared drives/NeuroSummary/data/all_deepcut_thaigov_1_24.pkl')\n",
        "df = pd.DataFrame({'content': old_df['tokenized_deepcut_content'], 'headline': old_df['tokenized_deepcut_headline'], 'class': old_df['class_name']})"
      ],
      "execution_count": 0,
      "outputs": []
    },
    {
      "cell_type": "code",
      "metadata": {
        "id": "k_UEthbzdDgs",
        "colab_type": "code",
        "outputId": "fea96d1d-ac46-477f-bec6-487275a55819",
        "colab": {
          "base_uri": "https://localhost:8080/",
          "height": 34
        }
      },
      "source": [
        "len(df)"
      ],
      "execution_count": 0,
      "outputs": [
        {
          "output_type": "execute_result",
          "data": {
            "text/plain": [
              "17367"
            ]
          },
          "metadata": {
            "tags": []
          },
          "execution_count": 25
        }
      ]
    },
    {
      "cell_type": "code",
      "metadata": {
        "id": "qj09dZX_vsmp",
        "colab_type": "code",
        "colab": {}
      },
      "source": [
        "print(old_df.columns)"
      ],
      "execution_count": 0,
      "outputs": []
    },
    {
      "cell_type": "code",
      "metadata": {
        "id": "ucJvxZkMvoau",
        "colab_type": "code",
        "colab": {}
      },
      "source": [
        "df_stop = pd.DataFrame({'content': old_df['removed_stopwords_content'], 'headline': old_df['removed_stopwords_headline'], 'class': old_df['class_name']})"
      ],
      "execution_count": 0,
      "outputs": []
    },
    {
      "cell_type": "code",
      "metadata": {
        "id": "YyKjBXWcsyuP",
        "colab_type": "code",
        "outputId": "5c1df85f-7cc6-448d-ca16-c136aac26233",
        "colab": {
          "base_uri": "https://localhost:8080/"
        }
      },
      "source": [
        "headline_dist = list(map(lambda x: len(x),list(df.headline)))\n",
        "sns.distplot(headline_dist);"
      ],
      "execution_count": 0,
      "outputs": [
        {
          "output_type": "display_data",
          "data": {
            "image/png": "[encoded data removed]",
            "text/plain": [
              "<Figure size 432x288 with 1 Axes>"
            ]
          },
          "metadata": {
            "tags": [],
            "needs_background": "light"
          }
        }
      ]
    },
    {
      "cell_type": "code",
      "metadata": {
        "id": "AtZkwIMrwWM5",
        "colab_type": "code",
        "outputId": "5f936e29-4250-4f64-884f-e0d33a5982ee",
        "colab": {
          "base_uri": "https://localhost:8080/"
        }
      },
      "source": [
        "headline_dist = list(map(lambda x: len(x),list(df_stop.headline)))\n",
        "sns.distplot(headline_dist);"
      ],
      "execution_count": 0,
      "outputs": [
        {
          "output_type": "display_data",
          "data": {
            "image/png": "[encoded data removed]",
            "text/plain": [
              "<Figure size 432x288 with 1 Axes>"
            ]
          },
          "metadata": {
            "tags": [],
            "needs_background": "light"
          }
        }
      ]
    },
    {
      "cell_type": "code",
      "metadata": {
        "id": "Mz2sM6vGIIV5",
        "colab_type": "code",
        "outputId": "2cf0cd47-23b7-4c13-c3eb-896989edcf0f",
        "colab": {
          "base_uri": "https://localhost:8080/"
        }
      },
      "source": [
        "content_dist = list(map(lambda x: len(x),list(df.content)))\n",
        "sns.distplot(content_dist);"
      ],
      "execution_count": 0,
      "outputs": [
        {
          "output_type": "display_data",
          "data": {
            "image/png": "[encoded data removed]",
            "text/plain": [
              "<Figure size 432x288 with 1 Axes>"
            ]
          },
          "metadata": {
            "tags": [],
            "needs_background": "light"
          }
        }
      ]
    },
    {
      "cell_type": "code",
      "metadata": {
        "id": "prOpbQGOwdri",
        "colab_type": "code",
        "outputId": "cfa8a835-bdcc-4589-cacf-3d6c4a4236f2",
        "colab": {
          "base_uri": "https://localhost:8080/"
        }
      },
      "source": [
        "content_dist = list(map(lambda x: len(x),list(df_stop.content)))\n",
        "sns.distplot(content_dist);"
      ],
      "execution_count": 0,
      "outputs": [
        {
          "output_type": "display_data",
          "data": {
            "image/png": "[encoded data removed]",
            "text/plain": [
              "<Figure size 432x288 with 1 Axes>"
            ]
          },
          "metadata": {
            "tags": [],
            "needs_background": "light"
          }
        }
      ]
    },
    {
      "cell_type": "code",
      "metadata": {
        "id": "dXcKgbRyOWWU",
        "colab_type": "code",
        "colab": {}
      },
      "source": [
        "def remove_space_special(content_arr) :\n",
        "  return list(filter(lambda x: x not in \" (){}!,'`<>=@_:;,\\'\\\"\\\\”“‘’\",np.array(content_arr)))\n",
        "# def replace_ห\n",
        "df.headline = df.headline.apply(remove_space_special)\n",
        "df.content = df.content.apply(remove_space_special)\n",
        "df_stop.headline = df_stop.headline.apply(remove_space_special)\n",
        "df_stop.content = df_stop.content.apply(remove_space_special)"
      ],
      "execution_count": 0,
      "outputs": []
    },
    {
      "cell_type": "code",
      "metadata": {
        "id": "RnoRDPpOdibu",
        "colab_type": "code",
        "outputId": "ab10d73f-6629-4416-c983-caeab914259e",
        "colab": {
          "base_uri": "https://localhost:8080/"
        }
      },
      "source": [
        "headline_dist = list(map(lambda x: len(x),list(df.headline)))\n",
        "sns.distplot(headline_dist);"
      ],
      "execution_count": 0,
      "outputs": [
        {
          "output_type": "display_data",
          "data": {
            "image/png": "[encoded data removed]",
            "text/plain": [
              "<Figure size 432x288 with 1 Axes>"
            ]
          },
          "metadata": {
            "tags": [],
            "needs_background": "light"
          }
        }
      ]
    },
    {
      "cell_type": "code",
      "metadata": {
        "id": "A57NTU0mwx9x",
        "colab_type": "code",
        "outputId": "239de293-7de5-4df4-de7c-5dcffd96d91f",
        "colab": {
          "base_uri": "https://localhost:8080/"
        }
      },
      "source": [
        "headline_dist = list(map(lambda x: len(x),list(df_stop.headline)))\n",
        "sns.distplot(headline_dist);"
      ],
      "execution_count": 0,
      "outputs": [
        {
          "output_type": "display_data",
          "data": {
            "image/png": "[encoded data removed]",
            "text/plain": [
              "<Figure size 432x288 with 1 Axes>"
            ]
          },
          "metadata": {
            "tags": [],
            "needs_background": "light"
          }
        }
      ]
    },
    {
      "cell_type": "code",
      "metadata": {
        "id": "uDsjcV-0dmTd",
        "colab_type": "code",
        "outputId": "c1869ef6-80ab-46c1-b73a-b548e1c3ec45",
        "colab": {
          "base_uri": "https://localhost:8080/"
        }
      },
      "source": [
        "content_dist = list(map(lambda x: len(x),list(df.content)))\n",
        "sns.distplot(content_dist);"
      ],
      "execution_count": 0,
      "outputs": [
        {
          "output_type": "display_data",
          "data": {
            "image/png": "[encoded data removed]",
            "text/plain": [
              "<Figure size 432x288 with 1 Axes>"
            ]
          },
          "metadata": {
            "tags": [],
            "needs_background": "light"
          }
        }
      ]
    },
    {
      "cell_type": "code",
      "metadata": {
        "id": "e6TCD4Rrwzc3",
        "colab_type": "code",
        "outputId": "8cee1864-85ba-4dba-fec1-de15946384d7",
        "colab": {
          "base_uri": "https://localhost:8080/"
        }
      },
      "source": [
        "content_dist = list(map(lambda x: len(x),list(df_stop.content)))\n",
        "sns.distplot(content_dist);"
      ],
      "execution_count": 0,
      "outputs": [
        {
          "output_type": "display_data",
          "data": {
            "image/png": "[encoded data removed]",
            "text/plain": [
              "<Figure size 432x288 with 1 Axes>"
            ]
          },
          "metadata": {
            "tags": [],
            "needs_background": "light"
          }
        }
      ]
    },
    {
      "cell_type": "code",
      "metadata": {
        "id": "_bBhhRPKeibZ",
        "colab_type": "code",
        "outputId": "7871ee2f-14f0-4147-fdc9-9139f272bc1e",
        "colab": {
          "base_uri": "https://localhost:8080/"
        }
      },
      "source": [
        "max_len_headline = max(df.headline.apply(lambda x: len(x)))\n",
        "print(\"max len headline : \",max_len_headline)\n",
        "max_len_content = max(df.content.apply(lambda x: len(x)))\n",
        "print(\"max len content : \",max_len_content)\n",
        "\n",
        "print(\"df shape :\" ,df.shape)\n",
        "max_len_headline_stop = max(df_stop.headline.apply(lambda x: len(x)))\n",
        "print(\"max len headline stop: \",max_len_headline_stop)\n",
        "max_len_content_stop = max(df_stop.content.apply(lambda x: len(x)))\n",
        "print(\"max len content stop: \",max_len_content_stop)\n",
        "# print(\"removed stop df shape :\" ,df_stop.shape)\n"
      ],
      "execution_count": 0,
      "outputs": [
        {
          "output_type": "stream",
          "text": [
            "max len headline :  48\n",
            "max len content :  16373\n",
            "df shape : (17367, 3)\n",
            "max len headline stop:  39\n",
            "max len content stop:  7242\n"
          ],
          "name": "stdout"
        }
      ]
    },
    {
      "cell_type": "code",
      "metadata": {
        "id": "ZuhRyekylAh6",
        "colab_type": "code",
        "outputId": "db26a23d-7397-4497-ee99-6e96e2c28161",
        "colab": {
          "base_uri": "https://localhost:8080/"
        }
      },
      "source": [
        "df = df[df.content.apply(lambda x: len(x) != 0)]\n",
        "df.shape"
      ],
      "execution_count": 0,
      "outputs": [
        {
          "output_type": "execute_result",
          "data": {
            "text/plain": [
              "(17337, 3)"
            ]
          },
          "metadata": {
            "tags": []
          },
          "execution_count": 31
        }
      ]
    },
    {
      "cell_type": "code",
      "metadata": {
        "id": "n9tJResJtLcS",
        "colab_type": "code",
        "colab": {}
      },
      "source": [
        "# import pickle\n",
        "# THAIGOV_PATH = '/content/drive/Shared drives/NeuroSummary/data/b_data_playground/'\n",
        "# with open(THAIGOV_PATH + 'thai_gov_clean_cut.pkl', 'wb') as f:\n",
        "#   pickle.dump(df, f)\n",
        "# with open(THAIGOV_PATH + 'thai_gov_stop_clean_cut.pkl', 'wb') as f:\n",
        "#   pickle.dump(df_stop, f)"
      ],
      "execution_count": 0,
      "outputs": []
    },
    {
      "cell_type": "code",
      "metadata": {
        "id": "AhsecerdTpWq",
        "colab_type": "code",
        "colab": {}
      },
      "source": [
        "import pickle\n",
        "THAIGOV_PATH = '/content/drive/Shared drives/NeuroSummary/data/b_data_playground/'\n",
        "with open(THAIGOV_PATH + 'thai_gov_clean_cut.pkl', 'rb') as f:\n",
        "  df = pickle.load(f)\n",
        "with open(THAIGOV_PATH + 'thai_gov_stop_clean_cut.pkl', 'rb') as f:\n",
        "  df_stop = pickle.load(f)"
      ],
      "execution_count": 0,
      "outputs": []
    },
    {
      "cell_type": "code",
      "metadata": {
        "id": "DTPe4S8WbVnd",
        "colab_type": "code",
        "colab": {}
      },
      "source": [
        "df_stop[df_stop.content.apply(lambda x: len(x) == 0)]\n",
        "df[df.content.apply(lambda x: len(x) == 0)]"
      ],
      "execution_count": 0,
      "outputs": []
    },
    {
      "cell_type": "code",
      "metadata": {
        "id": "liY5wlIrjcPu",
        "colab_type": "code",
        "colab": {}
      },
      "source": [
        "# content_len_dist = [(df.content[df.content.apply(lambda x: len(x) == n)].shape[0],n) for n in range(max_len_content)][0]\n",
        "# content_len_dist"
      ],
      "execution_count": 0,
      "outputs": []
    },
    {
      "cell_type": "code",
      "metadata": {
        "id": "P6nmNvCKyYck",
        "colab_type": "code",
        "outputId": "de3876e3-0f66-4797-b71f-b690636d1b5c",
        "colab": {
          "base_uri": "https://localhost:8080/"
        }
      },
      "source": [
        "headline_len_dist = [(df_stop.headline[df_stop.headline.apply(lambda x: len(x) < n)].shape[0],n) for n in range(max_len_headline_stop)]\n",
        "headline_len_dist\n",
        "# sns.distplot(headline_len_dist);\n",
        "# len(df.content)"
      ],
      "execution_count": 0,
      "outputs": [
        {
          "output_type": "execute_result",
          "data": {
            "text/plain": [
              "[(0, 0),\n",
              " (9, 1),\n",
              " (41, 2),\n",
              " (147, 3),\n",
              " (357, 4),\n",
              " (802, 5),\n",
              " (1564, 6),\n",
              " (2618, 7),\n",
              " (4100, 8),\n",
              " (5497, 9),\n",
              " (6948, 10),\n",
              " (8376, 11),\n",
              " (9757, 12),\n",
              " (11027, 13),\n",
              " (12117, 14),\n",
              " (13029, 15),\n",
              " (13798, 16),\n",
              " (14471, 17),\n",
              " (15019, 18),\n",
              " (15478, 19),\n",
              " (15870, 20),\n",
              " (16217, 21),\n",
              " (16443, 22),\n",
              " (16683, 23),\n",
              " (16839, 24),\n",
              " (16970, 25),\n",
              " (17068, 26),\n",
              " (17149, 27),\n",
              " (17217, 28),\n",
              " (17263, 29),\n",
              " (17294, 30),\n",
              " (17318, 31),\n",
              " (17334, 32),\n",
              " (17344, 33),\n",
              " (17358, 34),\n",
              " (17360, 35),\n",
              " (17363, 36),\n",
              " (17364, 37),\n",
              " (17366, 38)]"
            ]
          },
          "metadata": {
            "tags": []
          },
          "execution_count": 36
        }
      ]
    },
    {
      "cell_type": "code",
      "metadata": {
        "id": "Cjkzn11dNKFd",
        "colab_type": "code",
        "outputId": "1a9f9131-f7dc-47c5-c45c-714a380807d0",
        "colab": {
          "base_uri": "https://localhost:8080/"
        }
      },
      "source": [
        "headline_len_dist = [(df.headline[df.headline.apply(lambda x: len(x) < n)].shape[0],n) for n in range(max_len_headline)]\n",
        "headline_len_dist\n",
        "# sns.distplot(headline_len_dist);\n",
        "# len(df.content)"
      ],
      "execution_count": 0,
      "outputs": [
        {
          "output_type": "execute_result",
          "data": {
            "text/plain": [
              "[(0, 0),\n",
              " (1, 1),\n",
              " (12, 2),\n",
              " (55, 3),\n",
              " (119, 4),\n",
              " (221, 5),\n",
              " (400, 6),\n",
              " (754, 7),\n",
              " (1184, 8),\n",
              " (1903, 9),\n",
              " (2608, 10),\n",
              " (3346, 11),\n",
              " (4206, 12),\n",
              " (5162, 13),\n",
              " (6111, 14),\n",
              " (7079, 15),\n",
              " (8023, 16),\n",
              " (8928, 17),\n",
              " (9800, 18),\n",
              " (10611, 19),\n",
              " (11340, 20),\n",
              " (11936, 21),\n",
              " (12534, 22),\n",
              " (13061, 23),\n",
              " (13524, 24),\n",
              " (13908, 25),\n",
              " (14342, 26),\n",
              " (14696, 27),\n",
              " (15015, 28),\n",
              " (15336, 29),\n",
              " (15599, 30),\n",
              " (15846, 31),\n",
              " (16064, 32),\n",
              " (16269, 33),\n",
              " (16454, 34),\n",
              " (16614, 35),\n",
              " (16743, 36),\n",
              " (16883, 37),\n",
              " (16970, 38),\n",
              " (17103, 39),\n",
              " (17176, 40),\n",
              " (17225, 41),\n",
              " (17272, 42),\n",
              " (17296, 43),\n",
              " (17316, 44),\n",
              " (17326, 45),\n",
              " (17331, 46),\n",
              " (17336, 47)]"
            ]
          },
          "metadata": {
            "tags": []
          },
          "execution_count": 34
        }
      ]
    },
    {
      "cell_type": "code",
      "metadata": {
        "id": "A6whY-uDgjim",
        "colab_type": "code",
        "colab": {}
      },
      "source": [
        "# df = df[df.headline.apply(lambda x: len(x) <= 20)]\n",
        "# df_stop = df_stop[df_stop.headline.apply(lambda x: len(x) <= 20)]"
      ],
      "execution_count": 0,
      "outputs": []
    },
    {
      "cell_type": "code",
      "metadata": {
        "id": "4FgvntPeg2tU",
        "colab_type": "code",
        "outputId": "702acf98-015e-409d-ccab-1a0cd39239bd",
        "colab": {
          "base_uri": "https://localhost:8080/"
        }
      },
      "source": [
        "df.shape"
      ],
      "execution_count": 0,
      "outputs": [
        {
          "output_type": "execute_result",
          "data": {
            "text/plain": [
              "(11340, 3)"
            ]
          },
          "metadata": {
            "tags": []
          },
          "execution_count": 38
        }
      ]
    },
    {
      "cell_type": "code",
      "metadata": {
        "id": "33kxz5i12y_0",
        "colab_type": "code",
        "outputId": "7015bb45-e47d-497e-d5c0-62349dc5d97a",
        "colab": {
          "base_uri": "https://localhost:8080/"
        }
      },
      "source": [
        "df"
      ],
      "execution_count": 0,
      "outputs": [
        {
          "output_type": "execute_result",
          "data": {
            "text/html": [
              "<div>\n",
              "<style scoped>\n",
              "    .dataframe tbody tr th:only-of-type {\n",
              "        vertical-align: middle;\n",
              "    }\n",
              "\n",
              "    .dataframe tbody tr th {\n",
              "        vertical-align: top;\n",
              "    }\n",
              "\n",
              "    .dataframe thead th {\n",
              "        text-align: right;\n",
              "    }\n",
              "</style>\n",
              "<table border=\"1\" class=\"dataframe\">\n",
              "  <thead>\n",
              "    <tr style=\"text-align: right;\">\n",
              "      <th></th>\n",
              "      <th>content</th>\n",
              "      <th>headline</th>\n",
              "      <th>class</th>\n",
              "    </tr>\n",
              "  </thead>\n",
              "  <tbody>\n",
              "    <tr>\n",
              "      <th>1</th>\n",
              "      <td>[พลเอก ประยุทธ์ จันทร์โอชา, นายก, รัฐมนตรี, ได...</td>\n",
              "      <td>[สรุป, ประเด็น, นายก, รัฐมนตรี, กล่าว, ใน, ราย...</td>\n",
              "      <td>ข่าวทำเนียบรัฐบาล</td>\n",
              "    </tr>\n",
              "    <tr>\n",
              "      <th>2</th>\n",
              "      <td>[รมว., แรงงาน, ยื่น, สัตยาบัน, อนุสัญญา, ILO, ...</td>\n",
              "      <td>[บิ๊กอู๋, ยื่น, สัตยาบัน, C, 188, ต่อ, ILO, แส...</td>\n",
              "      <td>ด้านความมั่นคง</td>\n",
              "    </tr>\n",
              "    <tr>\n",
              "      <th>3</th>\n",
              "      <td>[ออมสิน, จัด, โปรพิเศษ, Thailand, Smart, Money...</td>\n",
              "      <td>[ออมสิน, จัด, โปรโมชั่น, พิเศษ, Thailand, Smar...</td>\n",
              "      <td>ด้านเศรษฐกิจ</td>\n",
              "    </tr>\n",
              "    <tr>\n",
              "      <th>7</th>\n",
              "      <td>[เผย, เป็น, ผล, งาน, สำคัญ, และ, พระไตรปิฎก, ย...</td>\n",
              "      <td>[วธ., ร่วม, กับ, 4, หน่วย, งาน, จัด, งาน, พิธี...</td>\n",
              "      <td>ด้านวัฒนธรรมท่องเที่ยวฯ</td>\n",
              "    </tr>\n",
              "    <tr>\n",
              "      <th>8</th>\n",
              "      <td>[ศาสตราจารย์พิเศษวิศิษฏ์ วิศิษฏ์สรอรรถ, ปลัด, ...</td>\n",
              "      <td>[กระทรวงยุติธรรม, พิจารณา, ร่าง, ระเบียบ, ฯ, ก...</td>\n",
              "      <td>ด้านกฎหมายฯ</td>\n",
              "    </tr>\n",
              "    <tr>\n",
              "      <th>...</th>\n",
              "      <td>...</td>\n",
              "      <td>...</td>\n",
              "      <td>...</td>\n",
              "    </tr>\n",
              "    <tr>\n",
              "      <th>17359</th>\n",
              "      <td>[นายปรัก สุคน, Mr. Prak Sokhonn, รัฐมนตรี, อาว...</td>\n",
              "      <td>[รัฐมนตรี, อาวุโส, และ, รัฐมนตรี, ว่าการ, กระท...</td>\n",
              "      <td>ข่าวทำเนียบรัฐบาล</td>\n",
              "    </tr>\n",
              "    <tr>\n",
              "      <th>17360</th>\n",
              "      <td>[นายก, รัฐมนตรี, เข้า, ร่วม, ประชุม, เพื่อ, ติ...</td>\n",
              "      <td>[นายก, รัฐมนตรี, ประชุม, พิจารณา, แนวทาง, การ,...</td>\n",
              "      <td>ข่าวทำเนียบรัฐบาล</td>\n",
              "    </tr>\n",
              "    <tr>\n",
              "      <th>17361</th>\n",
              "      <td>[วัน, นี้, 30, ส.ค., 59, เวลา, 09, ., 15, น., ...</td>\n",
              "      <td>[นรม., ชื่นชม, สมุนไพร, และ, ผลิตภัณฑ์, สมุนไพ...</td>\n",
              "      <td>ข่าวทำเนียบรัฐบาล</td>\n",
              "    </tr>\n",
              "    <tr>\n",
              "      <th>17362</th>\n",
              "      <td>[ที่, ประชุม, มี, มติ, เห็น, ชอบ, ร่าง, แผน, ป...</td>\n",
              "      <td>[รอง, นรม., พลเรือ, เอก ณรงค์, ฯ, เป็น, ประธาน...</td>\n",
              "      <td>ข่าวทำเนียบรัฐบาล</td>\n",
              "    </tr>\n",
              "    <tr>\n",
              "      <th>17364</th>\n",
              "      <td>[วัน, นี้, 22, สิงหาคม, 2559, เวลา, 14, ., 00,...</td>\n",
              "      <td>[นายก, รัฐมนตรี, ย้ำ, รัฐบาล, มุ่ง, พัฒนา, โคร...</td>\n",
              "      <td>ข่าวทำเนียบรัฐบาล</td>\n",
              "    </tr>\n",
              "  </tbody>\n",
              "</table>\n",
              "<p>11340 rows × 3 columns</p>\n",
              "</div>"
            ],
            "text/plain": [
              "                                                 content  ...                    class\n",
              "1      [พลเอก ประยุทธ์ จันทร์โอชา, นายก, รัฐมนตรี, ได...  ...        ข่าวทำเนียบรัฐบาล\n",
              "2      [รมว., แรงงาน, ยื่น, สัตยาบัน, อนุสัญญา, ILO, ...  ...           ด้านความมั่นคง\n",
              "3      [ออมสิน, จัด, โปรพิเศษ, Thailand, Smart, Money...  ...             ด้านเศรษฐกิจ\n",
              "7      [เผย, เป็น, ผล, งาน, สำคัญ, และ, พระไตรปิฎก, ย...  ...  ด้านวัฒนธรรมท่องเที่ยวฯ\n",
              "8      [ศาสตราจารย์พิเศษวิศิษฏ์ วิศิษฏ์สรอรรถ, ปลัด, ...  ...              ด้านกฎหมายฯ\n",
              "...                                                  ...  ...                      ...\n",
              "17359  [นายปรัก สุคน, Mr. Prak Sokhonn, รัฐมนตรี, อาว...  ...        ข่าวทำเนียบรัฐบาล\n",
              "17360  [นายก, รัฐมนตรี, เข้า, ร่วม, ประชุม, เพื่อ, ติ...  ...        ข่าวทำเนียบรัฐบาล\n",
              "17361  [วัน, นี้, 30, ส.ค., 59, เวลา, 09, ., 15, น., ...  ...        ข่าวทำเนียบรัฐบาล\n",
              "17362  [ที่, ประชุม, มี, มติ, เห็น, ชอบ, ร่าง, แผน, ป...  ...        ข่าวทำเนียบรัฐบาล\n",
              "17364  [วัน, นี้, 22, สิงหาคม, 2559, เวลา, 14, ., 00,...  ...        ข่าวทำเนียบรัฐบาล\n",
              "\n",
              "[11340 rows x 3 columns]"
            ]
          },
          "metadata": {
            "tags": []
          },
          "execution_count": 40
        }
      ]
    },
    {
      "cell_type": "code",
      "metadata": {
        "id": "QdYHX_r_23vs",
        "colab_type": "code",
        "outputId": "5ed80242-cbba-4663-8887-c08c0d312237",
        "colab": {
          "base_uri": "https://localhost:8080/"
        }
      },
      "source": [
        "df_stop"
      ],
      "execution_count": 0,
      "outputs": [
        {
          "output_type": "execute_result",
          "data": {
            "text/html": [
              "<div>\n",
              "<style scoped>\n",
              "    .dataframe tbody tr th:only-of-type {\n",
              "        vertical-align: middle;\n",
              "    }\n",
              "\n",
              "    .dataframe tbody tr th {\n",
              "        vertical-align: top;\n",
              "    }\n",
              "\n",
              "    .dataframe thead th {\n",
              "        text-align: right;\n",
              "    }\n",
              "</style>\n",
              "<table border=\"1\" class=\"dataframe\">\n",
              "  <thead>\n",
              "    <tr style=\"text-align: right;\">\n",
              "      <th></th>\n",
              "      <th>content</th>\n",
              "      <th>headline</th>\n",
              "      <th>class</th>\n",
              "    </tr>\n",
              "  </thead>\n",
              "  <tbody>\n",
              "    <tr>\n",
              "      <th>0</th>\n",
              "      <td>[ธนาคารอาคารสงเคราะห์, ธอส., ประกาศ, มาตรการ, ...</td>\n",
              "      <td>[ธอส., ประกาศ, มาตรการ, บรรเทา, เดือดร้อน, ลูก...</td>\n",
              "      <td>ด้านเศรษฐกิจ</td>\n",
              "    </tr>\n",
              "    <tr>\n",
              "      <th>1</th>\n",
              "      <td>[พลเอก ประยุทธ์ จันทร์โอชา, นายก, รัฐมนตรี, ปร...</td>\n",
              "      <td>[สรุป, ประเด็น, นายก, รัฐมนตรี, รายการศาสตร์, ...</td>\n",
              "      <td>ข่าวทำเนียบรัฐบาล</td>\n",
              "    </tr>\n",
              "    <tr>\n",
              "      <th>2</th>\n",
              "      <td>[รมว., แรงงาน, ยื่น, สัตยาบัน, อนุสัญญา, ILO, ...</td>\n",
              "      <td>[บิ๊กอู๋, ยื่น, สัตยาบัน, C, 188, ILO, เจตนารม...</td>\n",
              "      <td>ด้านความมั่นคง</td>\n",
              "    </tr>\n",
              "    <tr>\n",
              "      <th>3</th>\n",
              "      <td>[ออมสิน, โปรพิเศษ, Thailand, Smart, Money, กรุ...</td>\n",
              "      <td>[ออมสิน, โปรโมชั่น, พิเศษ, Thailand, Smart, Mo...</td>\n",
              "      <td>ด้านเศรษฐกิจ</td>\n",
              "    </tr>\n",
              "    <tr>\n",
              "      <th>4</th>\n",
              "      <td>[ศ.คลินิก,  นพ.อุดม คชินทร, รมช., ศธ., ประชุม,...</td>\n",
              "      <td>[ม., มหิดล, เตรียม, ม.บูรพา ผลิต, พัฒนา, คน, ส...</td>\n",
              "      <td>ด้านการศึกษาฯ</td>\n",
              "    </tr>\n",
              "    <tr>\n",
              "      <th>...</th>\n",
              "      <td>...</td>\n",
              "      <td>...</td>\n",
              "      <td>...</td>\n",
              "    </tr>\n",
              "    <tr>\n",
              "      <th>17361</th>\n",
              "      <td>[30, ส.ค., 59, เวลา, 09, ., 15, น., บริเวณ, หน...</td>\n",
              "      <td>[นรม., ชื่นชม, สมุนไพร, ผลิตภัณฑ์, สมุนไพร, ดี...</td>\n",
              "      <td>ข่าวทำเนียบรัฐบาล</td>\n",
              "    </tr>\n",
              "    <tr>\n",
              "      <th>17362</th>\n",
              "      <td>[ประชุม, มติ, ชอบ, ร่าง, แผน, ดำเนิน, ส่งเสริม...</td>\n",
              "      <td>[รอง, นรม., พลเรือ, เอก ณรงค์, ประธาน, ประชุม,...</td>\n",
              "      <td>ข่าวทำเนียบรัฐบาล</td>\n",
              "    </tr>\n",
              "    <tr>\n",
              "      <th>17363</th>\n",
              "      <td>[22, สิงหาคม, 2559, เวลา, 14, ., 00, น., บริเว...</td>\n",
              "      <td>[นายก, รัฐมนตรี, รัฐบาล, มุ่งมั่น, ปัญหา, พื้น...</td>\n",
              "      <td>ข่าวทำเนียบรัฐบาล</td>\n",
              "    </tr>\n",
              "    <tr>\n",
              "      <th>17364</th>\n",
              "      <td>[22, สิงหาคม, 2559, เวลา, 14, ., 00, น., บริเว...</td>\n",
              "      <td>[นายก, รัฐมนตรี, ย้ำ, รัฐบาล, พัฒนา, โครงสร้าง...</td>\n",
              "      <td>ข่าวทำเนียบรัฐบาล</td>\n",
              "    </tr>\n",
              "    <tr>\n",
              "      <th>17365</th>\n",
              "      <td>[25, ส.ค., 59, เวลา, 09, ., 00, น., ตึกสันติไม...</td>\n",
              "      <td>[คปท., ชอบ, แผน, ปฏิบัติการ, ทรัพย์สิน, ปัญญา,...</td>\n",
              "      <td>ข่าวทำเนียบรัฐบาล</td>\n",
              "    </tr>\n",
              "  </tbody>\n",
              "</table>\n",
              "<p>15870 rows × 3 columns</p>\n",
              "</div>"
            ],
            "text/plain": [
              "                                                 content  ...              class\n",
              "0      [ธนาคารอาคารสงเคราะห์, ธอส., ประกาศ, มาตรการ, ...  ...       ด้านเศรษฐกิจ\n",
              "1      [พลเอก ประยุทธ์ จันทร์โอชา, นายก, รัฐมนตรี, ปร...  ...  ข่าวทำเนียบรัฐบาล\n",
              "2      [รมว., แรงงาน, ยื่น, สัตยาบัน, อนุสัญญา, ILO, ...  ...     ด้านความมั่นคง\n",
              "3      [ออมสิน, โปรพิเศษ, Thailand, Smart, Money, กรุ...  ...       ด้านเศรษฐกิจ\n",
              "4      [ศ.คลินิก,  นพ.อุดม คชินทร, รมช., ศธ., ประชุม,...  ...      ด้านการศึกษาฯ\n",
              "...                                                  ...  ...                ...\n",
              "17361  [30, ส.ค., 59, เวลา, 09, ., 15, น., บริเวณ, หน...  ...  ข่าวทำเนียบรัฐบาล\n",
              "17362  [ประชุม, มติ, ชอบ, ร่าง, แผน, ดำเนิน, ส่งเสริม...  ...  ข่าวทำเนียบรัฐบาล\n",
              "17363  [22, สิงหาคม, 2559, เวลา, 14, ., 00, น., บริเว...  ...  ข่าวทำเนียบรัฐบาล\n",
              "17364  [22, สิงหาคม, 2559, เวลา, 14, ., 00, น., บริเว...  ...  ข่าวทำเนียบรัฐบาล\n",
              "17365  [25, ส.ค., 59, เวลา, 09, ., 00, น., ตึกสันติไม...  ...  ข่าวทำเนียบรัฐบาล\n",
              "\n",
              "[15870 rows x 3 columns]"
            ]
          },
          "metadata": {
            "tags": []
          },
          "execution_count": 41
        }
      ]
    },
    {
      "cell_type": "code",
      "metadata": {
        "id": "kW1XDBIAgTok",
        "colab_type": "code",
        "colab": {}
      },
      "source": [
        "train_df, val_test_df = train_test_split(df, test_size=0.33, random_state=42)\n",
        "val_df, test_df = train_test_split(val_test_df, test_size=0.5, random_state=123)"
      ],
      "execution_count": 0,
      "outputs": []
    },
    {
      "cell_type": "code",
      "metadata": {
        "id": "qJ6mZ-m_KdLH",
        "colab_type": "code",
        "colab": {}
      },
      "source": [
        "import pickle\n",
        "THAIGOV_PATH = '/content/drive/Shared drives/NeuroSummary/data/b_data_playground/thai_gov_split/'\n",
        "with open(THAIGOV_PATH + 'train.pkl', 'wb') as f:\n",
        "  pickle.dump(train_df, f)\n",
        "\n",
        "with open(THAIGOV_PATH + 'val.pkl', 'wb') as f:\n",
        "  pickle.dump(val_df, f)\n",
        "\n",
        "with open(THAIGOV_PATH + 'test.pkl', 'wb') as f:\n",
        "  pickle.dump(test_df, f)"
      ],
      "execution_count": 0,
      "outputs": []
    },
    {
      "cell_type": "code",
      "metadata": {
        "id": "qcGCSqge2_4y",
        "colab_type": "code",
        "colab": {}
      },
      "source": [
        "train_df_stop, val_test_df_stop = train_test_split(df_stop, test_size=0.33, random_state=42)\n",
        "val_df_stop, test_df_stop = train_test_split(val_test_df_stop, test_size=0.5, random_state=123)"
      ],
      "execution_count": 0,
      "outputs": []
    },
    {
      "cell_type": "code",
      "metadata": {
        "id": "BBpkq_ZA3Ajf",
        "colab_type": "code",
        "colab": {}
      },
      "source": [
        "import pickle\n",
        "THAIGOV_PATH = '/content/drive/Shared drives/NeuroSummary/data/b_data_playground/thai_gov_split/'\n",
        "with open(THAIGOV_PATH + 'train_stop.pkl', 'wb') as f:\n",
        "  pickle.dump(train_df_stop, f)\n",
        "\n",
        "with open(THAIGOV_PATH + 'val_stop.pkl', 'wb') as f:\n",
        "  pickle.dump(val_df_stop, f)\n",
        "\n",
        "with open(THAIGOV_PATH + 'test_stop.pkl', 'wb') as f:\n",
        "  pickle.dump(test_df_stop, f)"
      ],
      "execution_count": 0,
      "outputs": []
    },
    {
      "cell_type": "markdown",
      "metadata": {
        "id": "gknmV4Hj_K0K",
        "colab_type": "text"
      },
      "source": [
        "# Creade Dictionary"
      ]
    },
    {
      "cell_type": "markdown",
      "metadata": {
        "id": "Q_nzsuy-BJ9H",
        "colab_type": "text"
      },
      "source": [
        "## load train,val,test_set"
      ]
    },
    {
      "cell_type": "code",
      "metadata": {
        "id": "3mC-XeejK9To",
        "colab_type": "code",
        "outputId": "9fd5915f-0695-423a-a057-901d11731f10",
        "colab": {
          "base_uri": "https://localhost:8080/",
          "height": 34
        }
      },
      "source": [
        "import pickle \n",
        "import numpy as np\n",
        "import keras\n",
        "import numpy as np\n",
        "import pandas as pd\n",
        "from keras.preprocessing.sequence import pad_sequences\n",
        "THAIGOV_PATH = '/content/drive/Shared drives/NeuroSummary/data/b_data_playground/thai_gov_split/'\n",
        "\n",
        "from google.colab import drive\n",
        "drive.mount('/content/drive',force_remount=True)\n"
      ],
      "execution_count": 0,
      "outputs": [
        {
          "output_type": "stream",
          "text": [
            "Mounted at /content/drive\n"
          ],
          "name": "stdout"
        }
      ]
    },
    {
      "cell_type": "markdown",
      "metadata": {
        "id": "U5kbAv94EYZJ",
        "colab_type": "text"
      },
      "source": [
        "**Choose *HAS_STOP_WORD* or *NO_STOP_WORD* `DATASET`**"
      ]
    },
    {
      "cell_type": "code",
      "metadata": {
        "id": "cohwyRK3Yxw_",
        "colab_type": "code",
        "colab": {}
      },
      "source": [
        "with open(THAIGOV_PATH + 'train_v2.pkl', 'rb') as f:\n",
        "  train_set = pickle.load(f)\n",
        "with open(THAIGOV_PATH + 'val_v2.pkl', 'rb') as f:\n",
        "  val_set = pickle.load(f)\n",
        "with open(THAIGOV_PATH + 'test_v2.pkl', 'rb') as f:\n",
        "  test_set = pickle.load(f)"
      ],
      "execution_count": 0,
      "outputs": []
    },
    {
      "cell_type": "code",
      "metadata": {
        "id": "GMg6xWWwdhTz",
        "colab_type": "code",
        "outputId": "8d6b9a9a-3ade-4e7b-e0b7-4e30096065d7",
        "colab": {
          "base_uri": "https://localhost:8080/",
          "height": 34
        }
      },
      "source": [
        "len(train_set) + len(val_set) + len(test_set)"
      ],
      "execution_count": 0,
      "outputs": [
        {
          "output_type": "execute_result",
          "data": {
            "text/plain": [
              "17337"
            ]
          },
          "metadata": {
            "tags": []
          },
          "execution_count": 28
        }
      ]
    },
    {
      "cell_type": "code",
      "metadata": {
        "id": "d5_of2G5dsSm",
        "colab_type": "code",
        "outputId": "86e7ded9-f251-460b-c420-23c9e4ba2e7c",
        "colab": {
          "base_uri": "https://localhost:8080/",
          "height": 49
        }
      },
      "source": [
        "train_set[train_set.content.apply(lambda x : len(x) == 0)]"
      ],
      "execution_count": 0,
      "outputs": [
        {
          "output_type": "execute_result",
          "data": {
            "text/html": [
              "<div>\n",
              "<style scoped>\n",
              "    .dataframe tbody tr th:only-of-type {\n",
              "        vertical-align: middle;\n",
              "    }\n",
              "\n",
              "    .dataframe tbody tr th {\n",
              "        vertical-align: top;\n",
              "    }\n",
              "\n",
              "    .dataframe thead th {\n",
              "        text-align: right;\n",
              "    }\n",
              "</style>\n",
              "<table border=\"1\" class=\"dataframe\">\n",
              "  <thead>\n",
              "    <tr style=\"text-align: right;\">\n",
              "      <th></th>\n",
              "      <th>content</th>\n",
              "      <th>headline</th>\n",
              "      <th>class</th>\n",
              "    </tr>\n",
              "  </thead>\n",
              "  <tbody>\n",
              "  </tbody>\n",
              "</table>\n",
              "</div>"
            ],
            "text/plain": [
              "Empty DataFrame\n",
              "Columns: [content, headline, class]\n",
              "Index: []"
            ]
          },
          "metadata": {
            "tags": []
          },
          "execution_count": 32
        }
      ]
    },
    {
      "cell_type": "code",
      "metadata": {
        "id": "B4lQ0Fyxy0ty",
        "colab_type": "code",
        "colab": {}
      },
      "source": [
        "# with open(THAIGOV_PATH + 'train_stop_v2.pkl', 'rb') as f:\n",
        "#   train_set = pickle.load(f)\n",
        "# with open(THAIGOV_PATH + 'val_stop_v2.pkl', 'rb') as f:\n",
        "#   val_set = pickle.load(f)\n",
        "# with open(THAIGOV_PATH + 'test_stop_v2.pkl', 'rb') as f:\n",
        "#   test_set = pickle.load(f)\n"
      ],
      "execution_count": 0,
      "outputs": []
    },
    {
      "cell_type": "code",
      "metadata": {
        "id": "sux0VXZ7LN5k",
        "colab_type": "code",
        "colab": {}
      },
      "source": [
        "## ! use only n first words for headline generation\n",
        "def use_firt_n_words(df_content, n):\n",
        "  new_ls = []\n",
        "  for content in df_content:\n",
        "    new_ls.append(content[:n])\n",
        "  return new_ls\n",
        "\n",
        "#define_n_first_words\n",
        "n_first_content = 50\n",
        "n_first_headline = 20\n",
        "\n",
        "#trim sentence\n",
        "words_train_contents = use_firt_n_words(train_set['content'], n=n_first_content)\n",
        "words_train_headlines = use_firt_n_words(train_set['headline'], n=n_first_headline)\n",
        "words_val_contents = use_firt_n_words(val_set['content'], n=n_first_content)\n",
        "words_val_headlines = use_firt_n_words(val_set['headline'], n=n_first_headline)\n",
        "words_test_contents = use_firt_n_words(test_set['content'], n=n_first_content)\n",
        "words_test_headlines = use_firt_n_words(test_set['headline'], n=n_first_headline)\n",
        "\n",
        "# generate gold_sum\n",
        "gold_sum_train = list(map(lambda x: \" \".join(x),words_train_headlines))\n",
        "gold_sum_val = list(map(lambda x: \" \".join(x),words_val_headlines))\n",
        "gold_sum_test = list(map(lambda x: \" \".join(x),words_test_headlines))"
      ],
      "execution_count": 0,
      "outputs": []
    },
    {
      "cell_type": "code",
      "metadata": {
        "id": "T12laYRRLJlf",
        "colab_type": "code",
        "outputId": "f892383a-7628-4dd1-e55f-645ece5824ad",
        "colab": {
          "base_uri": "https://localhost:8080/",
          "height": 204
        }
      },
      "source": [
        "import collections\n",
        "def create_index(input_data,threshold):\n",
        "    input_text = [data for data in input_data]\n",
        "    # counts of word type has to be above or equal threshold\n",
        "    words = [word for sublist in input_text for word in sublist]\n",
        "    print(\"words :\",words)\n",
        "    word_count_all = list()\n",
        "    word_count = list()\n",
        "    #use set and len to get the number of unique words\n",
        "    word_count_all.extend(collections.Counter(words).most_common(len(set(words))))\n",
        "    unkcnt = 0\n",
        "    for (word,cnt) in word_count_all:\n",
        "      if cnt >= threshold:\n",
        "        word_count.append((word,cnt))\n",
        "      else:\n",
        "        unkcnt+=cnt\n",
        "    #include a token for unknown word\n",
        "    word_count.append((\"UNK\",unkcnt))\n",
        "    #print out 10 most frequent words\n",
        "    # print(\"top 10: \",word_count[:10])\n",
        "    # print(\"bottom 10: \",word_count[-10:])\n",
        "    dictionary = dict()\n",
        "    dictionary[\"for_keras_zero_padding\"] = 0\n",
        "    for word in word_count:\n",
        "      dictionary[word[0]] = len(dictionary)\n",
        "    dictionary['<s>'] = len(dictionary) \n",
        "    dictionary['</s>'] = len(dictionary)\n",
        "    reverse_dictionary = dict(zip(dictionary.values(), dictionary.keys()))\n",
        "    \n",
        "    return dictionary, reverse_dictionary\n",
        "dict_t, rev_dict_t = create_index(input_data=words_train_contents+words_train_headlines,threshold=0)\n",
        "# dict_stop_t, rev_dict_stop_t = create_index(input_data=words_70_train_stop_contents+words_20_train_stop_headlines,threshold=0)\n",
        "print('Vocab size (Content): ',len(dict_t))\n",
        "# print('Vocab stop ?size (Content): ',len(dict_stop_t))\n"
      ],
      "execution_count": 0,
      "outputs": [
        {
          "output_type": "stream",
          "text": [
            "IOPub data rate exceeded.\n",
            "The notebook server will temporarily stop sending output\n",
            "to the client in order to avoid crashing it.\n",
            "To change this limit, set the config variable\n",
            "`--NotebookApp.iopub_data_rate_limit`.\n",
            "\n",
            "Current values:\n",
            "NotebookApp.iopub_data_rate_limit=1000000.0 (bytes/sec)\n",
            "NotebookApp.rate_limit_window=3.0 (secs)\n",
            "\n"
          ],
          "name": "stderr"
        },
        {
          "output_type": "stream",
          "text": [
            "Vocab size (Content):  37243\n"
          ],
          "name": "stdout"
        }
      ]
    },
    {
      "cell_type": "code",
      "metadata": {
        "id": "IvINZ2LTVdGY",
        "colab_type": "code",
        "outputId": "0f3aae73-5724-444a-b681-a15ba7ba2534",
        "colab": {
          "base_uri": "https://localhost:8080/",
          "height": 34
        }
      },
      "source": [
        "print('Vocab size (Content): ',len(dict_t))\n",
        "# print('Vocab stop size (Content): ',len(dict_stop_t))"
      ],
      "execution_count": 0,
      "outputs": [
        {
          "output_type": "stream",
          "text": [
            "Vocab size (Content):  37243\n"
          ],
          "name": "stdout"
        }
      ]
    },
    {
      "cell_type": "code",
      "metadata": {
        "id": "NAKgPlBYeiVP",
        "colab_type": "code",
        "colab": {}
      },
      "source": [
        "def convert(input_data,dictionary) :\n",
        "  X = list()\n",
        "  for data in input_data:\n",
        "    sub_data = []\n",
        "    for word in data:\n",
        "      if word in dictionary:\n",
        "        sub_data.append(dictionary[word])\n",
        "      else:\n",
        "        sub_data.append(dictionary[\"UNK\"])\n",
        "    X.append(sub_data)\n",
        "  return np.array(X)"
      ],
      "execution_count": 0,
      "outputs": []
    },
    {
      "cell_type": "code",
      "metadata": {
        "id": "q9WDq2xU_-9k",
        "colab_type": "code",
        "colab": {}
      },
      "source": [
        "X_train = convert(words_train_contents,dict_t)\n",
        "y_train = convert(words_train_headlines,dict_t)\n",
        "X_val = convert(words_val_contents,dict_t)\n",
        "y_val = convert(words_val_headlines,dict_t)\n",
        "X_test = convert(words_test_contents,dict_t)\n",
        "y_test = convert(words_test_headlines,dict_t)"
      ],
      "execution_count": 0,
      "outputs": []
    },
    {
      "cell_type": "markdown",
      "metadata": {
        "id": "V2NFXsnnAKcz",
        "colab_type": "text"
      },
      "source": [
        "# Create Model"
      ]
    },
    {
      "cell_type": "code",
      "metadata": {
        "id": "2WCYCKZSzyii",
        "colab_type": "code",
        "colab": {}
      },
      "source": [
        "%matplotlib inline\n",
        "from keras.preprocessing.sequence import pad_sequences\n",
        "from keras.models import Sequential\n",
        "from keras.layers import Bidirectional, Concatenate, Permute, Dot, Input, LSTM, Multiply,Add,Conv1D,GRU,TimeDistributed\n",
        "from keras.layers import RepeatVector, Dense, Activation, Lambda, Embedding,concatenate\n",
        "from keras.optimizers import Adam, RMSprop\n",
        "from keras.utils import to_categorical\n",
        "from keras.callbacks import ModelCheckpoint,EarlyStopping,ReduceLROnPlateau\n",
        "from keras.models import load_model, Model\n",
        "import keras.backend as K\n",
        "import numpy as np\n",
        "import random"
      ],
      "execution_count": 0,
      "outputs": []
    },
    {
      "cell_type": "code",
      "metadata": {
        "id": "h9HANePVkWMv",
        "colab_type": "code",
        "colab": {}
      },
      "source": [
        "# https://stanford.edu/~shervine/blog/keras-how-to-generate-data-on-the-fly\n",
        "from keras.utils import Sequence\n",
        "\n",
        "class DataGenerator(Sequence):\n",
        "    'Generates data for Keras'\n",
        "    def __init__(self, X, Y, batch_size=32, dimX=n_first_content,dimY=n_first_headline, n_channels=1,\n",
        "                 n_classes=10, shuffle=True):\n",
        "        'Initialization'\n",
        "        self.dimX = dimX\n",
        "        self.dimY = dimY\n",
        "        self.batch_size = batch_size\n",
        "        self.Y = Y\n",
        "        self.X = X\n",
        "        self.n_channels = n_channels\n",
        "        self.n_classes = n_classes\n",
        "        self.shuffle = shuffle\n",
        "        self.on_epoch_end()\n",
        "\n",
        "    def __len__(self):\n",
        "        'Denotes the number of batches per epoch'\n",
        "        return int(np.floor(len(self.X) / self.batch_size))\n",
        "\n",
        "    def __getitem__(self, index):\n",
        "        'Generate one batch of data'\n",
        "        # Generate indexes of the batch\n",
        "        indexes = self.indexes[index*self.batch_size:(index+1)*self.batch_size]\n",
        "\n",
        "        # Find list of IDs\n",
        "        X_temp = [self.X[k] for k in indexes]\n",
        "        Y_temp = [self.Y[k] for k in indexes]\n",
        "        # Generate data\n",
        "        X, y_shift,y = self.__data_generation(X_temp,Y_temp)\n",
        "        return [X,y_shift],y\n",
        "\n",
        "    def on_epoch_end(self):\n",
        "        'Updates indexes after each epoch'\n",
        "        self.indexes = np.arange(len(self.X))\n",
        "        if self.shuffle == True:\n",
        "            np.random.shuffle(self.indexes)\n",
        "\n",
        "    def __data_generation(self, X,y):\n",
        "        'Generates data containing batch_size samples' # X : (n_samples, *dim, n_channels)\n",
        "        \n",
        "        y = list(map(lambda mem :np.append(mem,[len(dict_t)-1]),y))\n",
        "        y_shift = list(map(lambda mem :np.append([len(dict_t)-2], mem[:-1]),y))\n",
        "        X = pad_sequences(X,maxlen=maxlen,padding='post')\n",
        "        y = pad_sequences(y,maxlen=maxlen_output,padding='post') \n",
        "        y_shift = pad_sequences(y_shift,maxlen=maxlen_output,padding='post')\n",
        "        # X = np.array(tf.keras.utils.to_categorical(X, num_classes=self.n_classes), dtype=object)\n",
        "        y = np.array(keras.utils.to_categorical(y, num_classes=self.n_classes))\n",
        "        # y_shift = np.array(tf.keras.utils.to_categorical(y_shift, num_classes=self.n_classes))\n",
        "        return np.array(X), np.array(y_shift),y"
      ],
      "execution_count": 0,
      "outputs": []
    },
    {
      "cell_type": "code",
      "metadata": {
        "id": "eZQFp3HqgLdT",
        "colab_type": "code",
        "colab": {}
      },
      "source": [
        "maxlen_output = n_first_headline+1\n",
        "maxlen = n_first_content\n",
        "vocab_size = len(dict_t)\n",
        "output_vocab_size = vocab_size"
      ],
      "execution_count": 0,
      "outputs": []
    },
    {
      "cell_type": "code",
      "metadata": {
        "id": "leyZMFFc7Qzt",
        "colab_type": "code",
        "colab": {}
      },
      "source": [
        "def define_models(n_input=maxlen,n_output=maxlen_output,n_units=32,dropout_rate=0.0) :\n",
        "  #define training encoder model\n",
        "  encoder_inputs = Input(shape=(maxlen,))\n",
        "  embed = Embedding(vocab_size, n_units)\n",
        "  encoder_embedding = embed(encoder_inputs)\n",
        "  # add dropout to LSTM\n",
        "  encoder  = LSTM(n_units, return_state=True, dropout=dropout_rate)\n",
        "  encoder_outputs, state_h, state_c = encoder(encoder_embedding)\n",
        "  encoder_states = [state_h, state_c]\n",
        "\n",
        "  # define training decoder model\n",
        "  decoder_inputs = Input(shape=(maxlen_output, ))\n",
        "  # decoder_embedding = Embedding(vocab_size, n_units)\n",
        "  decoder_inputs2 = embed(decoder_inputs)\n",
        "  # add dropout to LSTM\n",
        "  decoder_lstm = LSTM(n_units, return_state=True, return_sequences=True, dropout=dropout_rate)\n",
        "  decoder_outputs, _, _ = decoder_lstm(decoder_inputs2, initial_state=encoder_states)\n",
        "\n",
        "  # dense_layer = Dense(VOCAB_SIZE, activation='softmax')\n",
        "  decoder_dense  = Dense(vocab_size, activation='softmax')\n",
        "  decoder_outputs = decoder_dense(decoder_outputs)\n",
        "  model = Model([encoder_inputs, decoder_inputs], decoder_outputs)\n",
        "\n",
        "  #define inferencing encoder model\n",
        "  encoder_model = Model(encoder_inputs,encoder_states)\n",
        "  #define inference decoder \n",
        "  decoder_state_input_h = Input(shape=(n_units,))\n",
        "  decoder_state_input_c = Input(shape=(n_units,))\n",
        "  decoder_states_inputs = [decoder_state_input_h, decoder_state_input_c]\n",
        "  decoder_inputs = Input(shape=(1,))\n",
        "  decoder_inputs_embeded = embed(decoder_inputs)\n",
        "  decoder_outputs, state_h, state_c = decoder_lstm(decoder_inputs_embeded, initial_state=decoder_states_inputs)\n",
        "  decoder_states = [state_h, state_c]\n",
        "  decoder_outputs = decoder_dense(decoder_outputs)\n",
        "  # decoder_outputs = embed(decoder_outputs)\n",
        "  decoder_model = Model([decoder_inputs] + decoder_states_inputs, [decoder_outputs] + decoder_states)\n",
        "  return model,encoder_model,decoder_model"
      ],
      "execution_count": 0,
      "outputs": []
    },
    {
      "cell_type": "code",
      "metadata": {
        "id": "8gN5cKYKVWrC",
        "colab_type": "code",
        "colab": {}
      },
      "source": [
        "drive_path = f'/content/drive/Shared drives/NeuroSummary/evaluation/result/thai_gov/{n_first_content}_{n_first_headline}/logB'\n",
        "optimizer = 'rmsprop'\n",
        "lr=0.01\n",
        "epoch_num=50\n",
        "batch_size = 128\n",
        "# units=256\n",
        "dropout_rate = 0.0\n",
        "type_dataset = \"train\"\n",
        "# checkpoint_path=  drive_path + f'/epoch:{epoch_num},lr={lr},{optimizer},batch_size:{batch_size},LSTM_units:{units},dataset:{type_dataset},dropout:{dropout_rate}.hdf5'"
      ],
      "execution_count": 0,
      "outputs": []
    },
    {
      "cell_type": "code",
      "metadata": {
        "id": "7fwztMJDkWQw",
        "colab_type": "code",
        "colab": {}
      },
      "source": [
        "# from my_classes import DataGenerator\n",
        "\n",
        "# Parameters\n",
        "params = {'dimX': maxlen,\n",
        "          'dimY': maxlen_output,\n",
        "          'batch_size': batch_size,\n",
        "          'n_classes': vocab_size,\n",
        "          'n_channels': 1,\n",
        "          'shuffle': True\n",
        "          }\n",
        "units_to_train = [32,64,128,256,512,1024]\n",
        "# Generators\n",
        "training_generator = DataGenerator(X_train, y_train, **params)\n",
        "validation_generator = DataGenerator(X_val, y_val, **params)"
      ],
      "execution_count": 0,
      "outputs": []
    },
    {
      "cell_type": "code",
      "metadata": {
        "id": "jvdFW5JlBEE-",
        "colab_type": "code",
        "outputId": "a3698d0e-a06b-49f8-a89a-678f3805de4d",
        "colab": {
          "base_uri": "https://localhost:8080/",
          "height": 35
        }
      },
      "source": [
        "training_generator[0][1].shape"
      ],
      "execution_count": 0,
      "outputs": [
        {
          "output_type": "execute_result",
          "data": {
            "text/plain": [
              "(128, 21, 29499)"
            ]
          },
          "metadata": {
            "tags": []
          },
          "execution_count": 204
        }
      ]
    },
    {
      "cell_type": "code",
      "metadata": {
        "id": "lno2Ob187rMk",
        "colab_type": "code",
        "colab": {}
      },
      "source": [
        "# configure problem\n",
        "# n_features = 50 + 1\n",
        "n_steps_in = maxlen\n",
        "n_steps_out = maxlen_output\n",
        "def build_all_model_at_once(units_to_train=units_to_train):\n",
        "  models = {}\n",
        "  for unit in units_to_train :\n",
        "    train, infenc, infdec = define_models(unit,dropout_rate)\n",
        "    train.compile(loss='categorical_crossentropy', optimizer=RMSprop(lr=lr), metrics=['accuracy'])\n",
        "    models[unit] = {}\n",
        "    checkpoint_path=  drive_path + f'/{n_first_content}_{n_first_headline}_val_acc_watch:epoch:{epoch_num},lr={lr},{optimizer},batch_size:{batch_size},LSTM_units:{unit},dataset:{type_dataset},dropout:{dropout_rate}.hdf5'\n",
        "    callback_list = [\n",
        "      ModelCheckpoint(checkpoint_path, monitor='val_loss', verbose=1, save_best_only=True, mode='min'), \n",
        "      EarlyStopping(monitor='val_loss', mode='min', verbose=1, patience=5),\n",
        "      ReduceLROnPlateau(monitor='val_loss', factor=0.9, patience=2, min_lr=1e-10),\n",
        "    ]\n",
        "    train.fit_generator(generator=training_generator,\n",
        "                    validation_data=validation_generator,\n",
        "                    callbacks=callback_list,\n",
        "                    epochs=epoch_num)\n",
        "    models[unit][\"train\"] = train\n",
        "    models[unit][\"infenc\"] = infenc\n",
        "    models[unit][\"infdec\"] = infdec\n",
        "  return models"
      ],
      "execution_count": 0,
      "outputs": []
    },
    {
      "cell_type": "code",
      "metadata": {
        "id": "zyWymRdhTYht",
        "colab_type": "code",
        "outputId": "6f26467f-a247-4934-87e7-5ab43d237611",
        "colab": {
          "base_uri": "https://localhost:8080/",
          "height": 1000
        }
      },
      "source": [
        "models = build_all_model_at_once()"
      ],
      "execution_count": 0,
      "outputs": [
        {
          "output_type": "stream",
          "text": [
            "/usr/local/lib/python3.6/dist-packages/tensorflow/python/framework/indexed_slices.py:434: UserWarning: Converting sparse IndexedSlices to a dense Tensor of unknown shape. This may consume a large amount of memory.\n",
            "  \"Converting sparse IndexedSlices to a dense Tensor of unknown shape. \"\n"
          ],
          "name": "stderr"
        },
        {
          "output_type": "stream",
          "text": [
            "Epoch 1/50\n",
            "90/90 [==============================] - 38s 425ms/step - loss: 5.7307 - accuracy: 0.2293 - val_loss: 4.8968 - val_accuracy: 0.2684\n",
            "\n",
            "Epoch 00001: val_loss improved from inf to 4.89676, saving model to /content/drive/Shared drives/NeuroSummary/evaluation/result/thai_gov/70_20/logB/70_20_val_acc_watch:epoch:50,lr=0.01,rmsprop,batch_size:128,LSTM_units:32,dataset:train,dropout:0.0.hdf5\n",
            "Epoch 2/50\n",
            "90/90 [==============================] - 37s 408ms/step - loss: 4.8033 - accuracy: 0.2943 - val_loss: 4.7142 - val_accuracy: 0.3168\n",
            "\n",
            "Epoch 00002: val_loss improved from 4.89676 to 4.71422, saving model to /content/drive/Shared drives/NeuroSummary/evaluation/result/thai_gov/70_20/logB/70_20_val_acc_watch:epoch:50,lr=0.01,rmsprop,batch_size:128,LSTM_units:32,dataset:train,dropout:0.0.hdf5\n",
            "Epoch 3/50\n",
            "90/90 [==============================] - 37s 409ms/step - loss: 4.3379 - accuracy: 0.3387 - val_loss: 4.4387 - val_accuracy: 0.3509\n",
            "\n",
            "Epoch 00003: val_loss improved from 4.71422 to 4.43873, saving model to /content/drive/Shared drives/NeuroSummary/evaluation/result/thai_gov/70_20/logB/70_20_val_acc_watch:epoch:50,lr=0.01,rmsprop,batch_size:128,LSTM_units:32,dataset:train,dropout:0.0.hdf5\n",
            "Epoch 4/50\n",
            "90/90 [==============================] - 37s 410ms/step - loss: 4.0082 - accuracy: 0.3694 - val_loss: 4.4264 - val_accuracy: 0.3743\n",
            "\n",
            "Epoch 00004: val_loss improved from 4.43873 to 4.42640, saving model to /content/drive/Shared drives/NeuroSummary/evaluation/result/thai_gov/70_20/logB/70_20_val_acc_watch:epoch:50,lr=0.01,rmsprop,batch_size:128,LSTM_units:32,dataset:train,dropout:0.0.hdf5\n",
            "Epoch 5/50\n",
            "90/90 [==============================] - 37s 408ms/step - loss: 3.7805 - accuracy: 0.3921 - val_loss: 4.2688 - val_accuracy: 0.3868\n",
            "\n",
            "Epoch 00005: val_loss improved from 4.42640 to 4.26876, saving model to /content/drive/Shared drives/NeuroSummary/evaluation/result/thai_gov/70_20/logB/70_20_val_acc_watch:epoch:50,lr=0.01,rmsprop,batch_size:128,LSTM_units:32,dataset:train,dropout:0.0.hdf5\n",
            "Epoch 6/50\n",
            "90/90 [==============================] - 37s 412ms/step - loss: 3.6073 - accuracy: 0.4105 - val_loss: 3.8735 - val_accuracy: 0.3990\n",
            "\n",
            "Epoch 00006: val_loss improved from 4.26876 to 3.87349, saving model to /content/drive/Shared drives/NeuroSummary/evaluation/result/thai_gov/70_20/logB/70_20_val_acc_watch:epoch:50,lr=0.01,rmsprop,batch_size:128,LSTM_units:32,dataset:train,dropout:0.0.hdf5\n",
            "Epoch 7/50\n",
            "90/90 [==============================] - 37s 413ms/step - loss: 3.4701 - accuracy: 0.4245 - val_loss: 3.8573 - val_accuracy: 0.4091\n",
            "\n",
            "Epoch 00007: val_loss improved from 3.87349 to 3.85728, saving model to /content/drive/Shared drives/NeuroSummary/evaluation/result/thai_gov/70_20/logB/70_20_val_acc_watch:epoch:50,lr=0.01,rmsprop,batch_size:128,LSTM_units:32,dataset:train,dropout:0.0.hdf5\n",
            "Epoch 8/50\n",
            "90/90 [==============================] - 37s 410ms/step - loss: 3.3555 - accuracy: 0.4369 - val_loss: 3.6728 - val_accuracy: 0.4134\n",
            "\n",
            "Epoch 00008: val_loss improved from 3.85728 to 3.67278, saving model to /content/drive/Shared drives/NeuroSummary/evaluation/result/thai_gov/70_20/logB/70_20_val_acc_watch:epoch:50,lr=0.01,rmsprop,batch_size:128,LSTM_units:32,dataset:train,dropout:0.0.hdf5\n",
            "Epoch 9/50\n",
            "90/90 [==============================] - 37s 411ms/step - loss: 3.2634 - accuracy: 0.4476 - val_loss: 4.1418 - val_accuracy: 0.4180\n",
            "\n",
            "Epoch 00009: val_loss did not improve from 3.67278\n",
            "Epoch 10/50\n",
            "90/90 [==============================] - 37s 411ms/step - loss: 3.1826 - accuracy: 0.4564 - val_loss: 3.7032 - val_accuracy: 0.4238\n",
            "\n",
            "Epoch 00010: val_loss did not improve from 3.67278\n",
            "Epoch 11/50\n",
            "90/90 [==============================] - 37s 414ms/step - loss: 3.0990 - accuracy: 0.4669 - val_loss: 3.9106 - val_accuracy: 0.4269\n",
            "\n",
            "Epoch 00011: val_loss did not improve from 3.67278\n",
            "Epoch 12/50\n",
            "90/90 [==============================] - 37s 411ms/step - loss: 3.0386 - accuracy: 0.4740 - val_loss: 3.6703 - val_accuracy: 0.4298\n",
            "\n",
            "Epoch 00012: val_loss improved from 3.67278 to 3.67029, saving model to /content/drive/Shared drives/NeuroSummary/evaluation/result/thai_gov/70_20/logB/70_20_val_acc_watch:epoch:50,lr=0.01,rmsprop,batch_size:128,LSTM_units:32,dataset:train,dropout:0.0.hdf5\n",
            "Epoch 13/50\n",
            "90/90 [==============================] - 37s 411ms/step - loss: 2.9841 - accuracy: 0.4807 - val_loss: 3.7084 - val_accuracy: 0.4292\n",
            "\n",
            "Epoch 00013: val_loss did not improve from 3.67029\n",
            "Epoch 14/50\n",
            "90/90 [==============================] - 37s 413ms/step - loss: 2.9350 - accuracy: 0.4865 - val_loss: 4.0898 - val_accuracy: 0.4293\n",
            "\n",
            "Epoch 00014: val_loss did not improve from 3.67029\n",
            "Epoch 15/50\n",
            "90/90 [==============================] - 37s 412ms/step - loss: 2.8791 - accuracy: 0.4938 - val_loss: 3.4809 - val_accuracy: 0.4323\n",
            "\n",
            "Epoch 00015: val_loss improved from 3.67029 to 3.48093, saving model to /content/drive/Shared drives/NeuroSummary/evaluation/result/thai_gov/70_20/logB/70_20_val_acc_watch:epoch:50,lr=0.01,rmsprop,batch_size:128,LSTM_units:32,dataset:train,dropout:0.0.hdf5\n",
            "Epoch 16/50\n",
            "90/90 [==============================] - 37s 411ms/step - loss: 2.8384 - accuracy: 0.4989 - val_loss: 3.7647 - val_accuracy: 0.4303\n",
            "\n",
            "Epoch 00016: val_loss did not improve from 3.48093\n",
            "Epoch 17/50\n",
            "90/90 [==============================] - 37s 408ms/step - loss: 2.8042 - accuracy: 0.5038 - val_loss: 3.6901 - val_accuracy: 0.4324\n",
            "\n",
            "Epoch 00017: val_loss did not improve from 3.48093\n",
            "Epoch 18/50\n",
            "90/90 [==============================] - 37s 410ms/step - loss: 2.7584 - accuracy: 0.5091 - val_loss: 4.0309 - val_accuracy: 0.4321\n",
            "\n",
            "Epoch 00018: val_loss did not improve from 3.48093\n",
            "Epoch 19/50\n",
            "90/90 [==============================] - 37s 414ms/step - loss: 2.7310 - accuracy: 0.5131 - val_loss: 3.8794 - val_accuracy: 0.4312\n",
            "\n",
            "Epoch 00019: val_loss did not improve from 3.48093\n",
            "Epoch 20/50\n",
            "90/90 [==============================] - 37s 412ms/step - loss: 2.6905 - accuracy: 0.5190 - val_loss: 3.8065 - val_accuracy: 0.4318\n",
            "\n",
            "Epoch 00020: val_loss did not improve from 3.48093\n",
            "Epoch 00020: early stopping\n",
            "Epoch 1/50\n",
            "90/90 [==============================] - 38s 427ms/step - loss: 5.7352 - accuracy: 0.2277 - val_loss: 5.2948 - val_accuracy: 0.2682\n",
            "\n",
            "Epoch 00001: val_loss improved from inf to 5.29479, saving model to /content/drive/Shared drives/NeuroSummary/evaluation/result/thai_gov/70_20/logB/70_20_val_acc_watch:epoch:50,lr=0.01,rmsprop,batch_size:128,LSTM_units:64,dataset:train,dropout:0.0.hdf5\n",
            "Epoch 2/50\n",
            "90/90 [==============================] - 37s 415ms/step - loss: 4.8458 - accuracy: 0.2916 - val_loss: 4.6140 - val_accuracy: 0.3115\n",
            "\n",
            "Epoch 00002: val_loss improved from 5.29479 to 4.61400, saving model to /content/drive/Shared drives/NeuroSummary/evaluation/result/thai_gov/70_20/logB/70_20_val_acc_watch:epoch:50,lr=0.01,rmsprop,batch_size:128,LSTM_units:64,dataset:train,dropout:0.0.hdf5\n",
            "Epoch 3/50\n",
            "90/90 [==============================] - 37s 414ms/step - loss: 4.3836 - accuracy: 0.3318 - val_loss: 4.4848 - val_accuracy: 0.3463\n",
            "\n",
            "Epoch 00003: val_loss improved from 4.61400 to 4.48478, saving model to /content/drive/Shared drives/NeuroSummary/evaluation/result/thai_gov/70_20/logB/70_20_val_acc_watch:epoch:50,lr=0.01,rmsprop,batch_size:128,LSTM_units:64,dataset:train,dropout:0.0.hdf5\n",
            "Epoch 4/50\n",
            "90/90 [==============================] - 37s 416ms/step - loss: 4.0607 - accuracy: 0.3632 - val_loss: 3.9817 - val_accuracy: 0.3714\n",
            "\n",
            "Epoch 00004: val_loss improved from 4.48478 to 3.98166, saving model to /content/drive/Shared drives/NeuroSummary/evaluation/result/thai_gov/70_20/logB/70_20_val_acc_watch:epoch:50,lr=0.01,rmsprop,batch_size:128,LSTM_units:64,dataset:train,dropout:0.0.hdf5\n",
            "Epoch 5/50\n",
            "90/90 [==============================] - 37s 412ms/step - loss: 3.8246 - accuracy: 0.3884 - val_loss: 4.1456 - val_accuracy: 0.3857\n",
            "\n",
            "Epoch 00005: val_loss did not improve from 3.98166\n",
            "Epoch 6/50\n",
            "90/90 [==============================] - 37s 414ms/step - loss: 3.6432 - accuracy: 0.4082 - val_loss: 4.0102 - val_accuracy: 0.4024\n",
            "\n",
            "Epoch 00006: val_loss did not improve from 3.98166\n",
            "Epoch 7/50\n",
            "90/90 [==============================] - 37s 411ms/step - loss: 3.4952 - accuracy: 0.4238 - val_loss: 4.1094 - val_accuracy: 0.4100\n",
            "\n",
            "Epoch 00007: val_loss did not improve from 3.98166\n",
            "Epoch 8/50\n",
            "90/90 [==============================] - 37s 411ms/step - loss: 3.3861 - accuracy: 0.4358 - val_loss: 3.8897 - val_accuracy: 0.4145\n",
            "\n",
            "Epoch 00008: val_loss improved from 3.98166 to 3.88972, saving model to /content/drive/Shared drives/NeuroSummary/evaluation/result/thai_gov/70_20/logB/70_20_val_acc_watch:epoch:50,lr=0.01,rmsprop,batch_size:128,LSTM_units:64,dataset:train,dropout:0.0.hdf5\n",
            "Epoch 9/50\n",
            "90/90 [==============================] - 37s 410ms/step - loss: 3.2937 - accuracy: 0.4452 - val_loss: 3.9972 - val_accuracy: 0.4199\n",
            "\n",
            "Epoch 00009: val_loss did not improve from 3.88972\n",
            "Epoch 10/50\n",
            "90/90 [==============================] - 37s 412ms/step - loss: 3.2128 - accuracy: 0.4540 - val_loss: 3.6894 - val_accuracy: 0.4212\n",
            "\n",
            "Epoch 00010: val_loss improved from 3.88972 to 3.68942, saving model to /content/drive/Shared drives/NeuroSummary/evaluation/result/thai_gov/70_20/logB/70_20_val_acc_watch:epoch:50,lr=0.01,rmsprop,batch_size:128,LSTM_units:64,dataset:train,dropout:0.0.hdf5\n",
            "Epoch 11/50\n",
            "90/90 [==============================] - 37s 408ms/step - loss: 3.1437 - accuracy: 0.4625 - val_loss: 3.7004 - val_accuracy: 0.4261\n",
            "\n",
            "Epoch 00011: val_loss did not improve from 3.68942\n",
            "Epoch 12/50\n",
            "90/90 [==============================] - 37s 415ms/step - loss: 3.0820 - accuracy: 0.4699 - val_loss: 3.7212 - val_accuracy: 0.4290\n",
            "\n",
            "Epoch 00012: val_loss did not improve from 3.68942\n",
            "Epoch 13/50\n",
            "90/90 [==============================] - 37s 409ms/step - loss: 3.0156 - accuracy: 0.4774 - val_loss: 3.4370 - val_accuracy: 0.4295\n",
            "\n",
            "Epoch 00013: val_loss improved from 3.68942 to 3.43703, saving model to /content/drive/Shared drives/NeuroSummary/evaluation/result/thai_gov/70_20/logB/70_20_val_acc_watch:epoch:50,lr=0.01,rmsprop,batch_size:128,LSTM_units:64,dataset:train,dropout:0.0.hdf5\n",
            "Epoch 14/50\n",
            "90/90 [==============================] - 37s 410ms/step - loss: 2.9673 - accuracy: 0.4846 - val_loss: 3.8940 - val_accuracy: 0.4312\n",
            "\n",
            "Epoch 00014: val_loss did not improve from 3.43703\n",
            "Epoch 15/50\n",
            "90/90 [==============================] - 37s 409ms/step - loss: 2.9244 - accuracy: 0.4894 - val_loss: 3.6417 - val_accuracy: 0.4319\n",
            "\n",
            "Epoch 00015: val_loss did not improve from 3.43703\n",
            "Epoch 16/50\n",
            "90/90 [==============================] - 37s 411ms/step - loss: 2.8735 - accuracy: 0.4961 - val_loss: 3.8131 - val_accuracy: 0.4309\n",
            "\n",
            "Epoch 00016: val_loss did not improve from 3.43703\n",
            "Epoch 17/50\n",
            "90/90 [==============================] - 37s 410ms/step - loss: 2.8364 - accuracy: 0.5011 - val_loss: 4.0021 - val_accuracy: 0.4322\n",
            "\n",
            "Epoch 00017: val_loss did not improve from 3.43703\n",
            "Epoch 18/50\n",
            "90/90 [==============================] - 37s 406ms/step - loss: 2.7970 - accuracy: 0.5067 - val_loss: 3.6786 - val_accuracy: 0.4332\n",
            "\n",
            "Epoch 00018: val_loss did not improve from 3.43703\n",
            "Epoch 00018: early stopping\n",
            "Epoch 1/50\n",
            "90/90 [==============================] - 38s 425ms/step - loss: 5.7457 - accuracy: 0.2224 - val_loss: 5.2701 - val_accuracy: 0.2704\n",
            "\n",
            "Epoch 00001: val_loss improved from inf to 5.27015, saving model to /content/drive/Shared drives/NeuroSummary/evaluation/result/thai_gov/70_20/logB/70_20_val_acc_watch:epoch:50,lr=0.01,rmsprop,batch_size:128,LSTM_units:128,dataset:train,dropout:0.0.hdf5\n",
            "Epoch 2/50\n",
            "90/90 [==============================] - 37s 409ms/step - loss: 4.8422 - accuracy: 0.2894 - val_loss: 4.3842 - val_accuracy: 0.3053\n",
            "\n",
            "Epoch 00002: val_loss improved from 5.27015 to 4.38424, saving model to /content/drive/Shared drives/NeuroSummary/evaluation/result/thai_gov/70_20/logB/70_20_val_acc_watch:epoch:50,lr=0.01,rmsprop,batch_size:128,LSTM_units:128,dataset:train,dropout:0.0.hdf5\n",
            "Epoch 3/50\n",
            "90/90 [==============================] - 37s 407ms/step - loss: 4.4039 - accuracy: 0.3316 - val_loss: 4.4383 - val_accuracy: 0.3474\n",
            "\n",
            "Epoch 00003: val_loss did not improve from 4.38424\n",
            "Epoch 4/50\n",
            "90/90 [==============================] - 37s 407ms/step - loss: 4.0685 - accuracy: 0.3628 - val_loss: 4.1318 - val_accuracy: 0.3673\n",
            "\n",
            "Epoch 00004: val_loss improved from 4.38424 to 4.13176, saving model to /content/drive/Shared drives/NeuroSummary/evaluation/result/thai_gov/70_20/logB/70_20_val_acc_watch:epoch:50,lr=0.01,rmsprop,batch_size:128,LSTM_units:128,dataset:train,dropout:0.0.hdf5\n",
            "Epoch 5/50\n",
            "90/90 [==============================] - 37s 407ms/step - loss: 3.8367 - accuracy: 0.3845 - val_loss: 4.0739 - val_accuracy: 0.3827\n",
            "\n",
            "Epoch 00005: val_loss improved from 4.13176 to 4.07386, saving model to /content/drive/Shared drives/NeuroSummary/evaluation/result/thai_gov/70_20/logB/70_20_val_acc_watch:epoch:50,lr=0.01,rmsprop,batch_size:128,LSTM_units:128,dataset:train,dropout:0.0.hdf5\n",
            "Epoch 6/50\n",
            "90/90 [==============================] - 37s 407ms/step - loss: 3.6531 - accuracy: 0.4052 - val_loss: 4.0829 - val_accuracy: 0.3963\n",
            "\n",
            "Epoch 00006: val_loss did not improve from 4.07386\n",
            "Epoch 7/50\n",
            "90/90 [==============================] - 37s 406ms/step - loss: 3.5042 - accuracy: 0.4207 - val_loss: 4.0190 - val_accuracy: 0.4071\n",
            "\n",
            "Epoch 00007: val_loss improved from 4.07386 to 4.01895, saving model to /content/drive/Shared drives/NeuroSummary/evaluation/result/thai_gov/70_20/logB/70_20_val_acc_watch:epoch:50,lr=0.01,rmsprop,batch_size:128,LSTM_units:128,dataset:train,dropout:0.0.hdf5\n",
            "Epoch 8/50\n",
            "90/90 [==============================] - 37s 407ms/step - loss: 3.3818 - accuracy: 0.4337 - val_loss: 3.5317 - val_accuracy: 0.4131\n",
            "\n",
            "Epoch 00008: val_loss improved from 4.01895 to 3.53175, saving model to /content/drive/Shared drives/NeuroSummary/evaluation/result/thai_gov/70_20/logB/70_20_val_acc_watch:epoch:50,lr=0.01,rmsprop,batch_size:128,LSTM_units:128,dataset:train,dropout:0.0.hdf5\n",
            "Epoch 9/50\n",
            "90/90 [==============================] - 37s 410ms/step - loss: 3.2825 - accuracy: 0.4443 - val_loss: 3.5623 - val_accuracy: 0.4172\n",
            "\n",
            "Epoch 00009: val_loss did not improve from 3.53175\n",
            "Epoch 10/50\n",
            "90/90 [==============================] - 37s 407ms/step - loss: 3.1955 - accuracy: 0.4539 - val_loss: 3.9422 - val_accuracy: 0.4235\n",
            "\n",
            "Epoch 00010: val_loss did not improve from 3.53175\n",
            "Epoch 11/50\n",
            "90/90 [==============================] - 37s 406ms/step - loss: 3.1085 - accuracy: 0.4642 - val_loss: 3.7832 - val_accuracy: 0.4270\n",
            "\n",
            "Epoch 00011: val_loss did not improve from 3.53175\n",
            "Epoch 12/50\n",
            "90/90 [==============================] - 36s 404ms/step - loss: 3.0433 - accuracy: 0.4721 - val_loss: 3.9211 - val_accuracy: 0.4310\n",
            "\n",
            "Epoch 00012: val_loss did not improve from 3.53175\n",
            "Epoch 13/50\n",
            "90/90 [==============================] - 36s 405ms/step - loss: 2.9792 - accuracy: 0.4797 - val_loss: 3.6218 - val_accuracy: 0.4315\n",
            "\n",
            "Epoch 00013: val_loss did not improve from 3.53175\n",
            "Epoch 00013: early stopping\n",
            "Epoch 1/50\n",
            "90/90 [==============================] - 38s 420ms/step - loss: 5.7316 - accuracy: 0.2291 - val_loss: 4.9442 - val_accuracy: 0.2677\n",
            "\n",
            "Epoch 00001: val_loss improved from inf to 4.94419, saving model to /content/drive/Shared drives/NeuroSummary/evaluation/result/thai_gov/70_20/logB/70_20_val_acc_watch:epoch:50,lr=0.01,rmsprop,batch_size:128,LSTM_units:256,dataset:train,dropout:0.0.hdf5\n",
            "Epoch 2/50\n",
            "90/90 [==============================] - 37s 409ms/step - loss: 4.8298 - accuracy: 0.2908 - val_loss: 4.7491 - val_accuracy: 0.3124\n",
            "\n",
            "Epoch 00002: val_loss improved from 4.94419 to 4.74909, saving model to /content/drive/Shared drives/NeuroSummary/evaluation/result/thai_gov/70_20/logB/70_20_val_acc_watch:epoch:50,lr=0.01,rmsprop,batch_size:128,LSTM_units:256,dataset:train,dropout:0.0.hdf5\n",
            "Epoch 3/50\n",
            "90/90 [==============================] - 36s 405ms/step - loss: 4.3694 - accuracy: 0.3357 - val_loss: 4.2828 - val_accuracy: 0.3510\n",
            "\n",
            "Epoch 00003: val_loss improved from 4.74909 to 4.28284, saving model to /content/drive/Shared drives/NeuroSummary/evaluation/result/thai_gov/70_20/logB/70_20_val_acc_watch:epoch:50,lr=0.01,rmsprop,batch_size:128,LSTM_units:256,dataset:train,dropout:0.0.hdf5\n",
            "Epoch 4/50\n",
            "90/90 [==============================] - 37s 409ms/step - loss: 4.0376 - accuracy: 0.3658 - val_loss: 4.1761 - val_accuracy: 0.3716\n",
            "\n",
            "Epoch 00004: val_loss improved from 4.28284 to 4.17613, saving model to /content/drive/Shared drives/NeuroSummary/evaluation/result/thai_gov/70_20/logB/70_20_val_acc_watch:epoch:50,lr=0.01,rmsprop,batch_size:128,LSTM_units:256,dataset:train,dropout:0.0.hdf5\n",
            "Epoch 5/50\n",
            "90/90 [==============================] - 37s 410ms/step - loss: 3.8027 - accuracy: 0.3896 - val_loss: 4.0847 - val_accuracy: 0.3890\n",
            "\n",
            "Epoch 00005: val_loss improved from 4.17613 to 4.08472, saving model to /content/drive/Shared drives/NeuroSummary/evaluation/result/thai_gov/70_20/logB/70_20_val_acc_watch:epoch:50,lr=0.01,rmsprop,batch_size:128,LSTM_units:256,dataset:train,dropout:0.0.hdf5\n",
            "Epoch 6/50\n",
            "90/90 [==============================] - 37s 409ms/step - loss: 3.6298 - accuracy: 0.4085 - val_loss: 4.1483 - val_accuracy: 0.3996\n",
            "\n",
            "Epoch 00006: val_loss did not improve from 4.08472\n",
            "Epoch 7/50\n",
            "90/90 [==============================] - 37s 409ms/step - loss: 3.4921 - accuracy: 0.4223 - val_loss: 3.8037 - val_accuracy: 0.4078\n",
            "\n",
            "Epoch 00007: val_loss improved from 4.08472 to 3.80368, saving model to /content/drive/Shared drives/NeuroSummary/evaluation/result/thai_gov/70_20/logB/70_20_val_acc_watch:epoch:50,lr=0.01,rmsprop,batch_size:128,LSTM_units:256,dataset:train,dropout:0.0.hdf5\n",
            "Epoch 8/50\n",
            "90/90 [==============================] - 37s 406ms/step - loss: 3.3802 - accuracy: 0.4338 - val_loss: 3.7359 - val_accuracy: 0.4125\n",
            "\n",
            "Epoch 00008: val_loss improved from 3.80368 to 3.73586, saving model to /content/drive/Shared drives/NeuroSummary/evaluation/result/thai_gov/70_20/logB/70_20_val_acc_watch:epoch:50,lr=0.01,rmsprop,batch_size:128,LSTM_units:256,dataset:train,dropout:0.0.hdf5\n",
            "Epoch 9/50\n",
            "90/90 [==============================] - 37s 406ms/step - loss: 3.2805 - accuracy: 0.4450 - val_loss: 3.8407 - val_accuracy: 0.4162\n",
            "\n",
            "Epoch 00009: val_loss did not improve from 3.73586\n",
            "Epoch 10/50\n",
            "90/90 [==============================] - 37s 408ms/step - loss: 3.1961 - accuracy: 0.4545 - val_loss: 3.6254 - val_accuracy: 0.4229\n",
            "\n",
            "Epoch 00010: val_loss improved from 3.73586 to 3.62541, saving model to /content/drive/Shared drives/NeuroSummary/evaluation/result/thai_gov/70_20/logB/70_20_val_acc_watch:epoch:50,lr=0.01,rmsprop,batch_size:128,LSTM_units:256,dataset:train,dropout:0.0.hdf5\n",
            "Epoch 11/50\n",
            "90/90 [==============================] - 37s 406ms/step - loss: 3.1185 - accuracy: 0.4637 - val_loss: 3.8393 - val_accuracy: 0.4236\n",
            "\n",
            "Epoch 00011: val_loss did not improve from 3.62541\n",
            "Epoch 12/50\n",
            "90/90 [==============================] - 37s 407ms/step - loss: 3.0512 - accuracy: 0.4725 - val_loss: 3.7628 - val_accuracy: 0.4284\n",
            "\n",
            "Epoch 00012: val_loss did not improve from 3.62541\n",
            "Epoch 13/50\n",
            "90/90 [==============================] - 37s 409ms/step - loss: 2.9812 - accuracy: 0.4806 - val_loss: 3.7897 - val_accuracy: 0.4287\n",
            "\n",
            "Epoch 00013: val_loss did not improve from 3.62541\n",
            "Epoch 14/50\n",
            "90/90 [==============================] - 37s 410ms/step - loss: 2.9290 - accuracy: 0.4869 - val_loss: 3.7289 - val_accuracy: 0.4290\n",
            "\n",
            "Epoch 00014: val_loss did not improve from 3.62541\n",
            "Epoch 15/50\n",
            "90/90 [==============================] - 37s 407ms/step - loss: 2.8702 - accuracy: 0.4944 - val_loss: 3.7046 - val_accuracy: 0.4336\n",
            "\n",
            "Epoch 00015: val_loss did not improve from 3.62541\n",
            "Epoch 00015: early stopping\n",
            "Epoch 1/50\n",
            "90/90 [==============================] - 38s 422ms/step - loss: 5.7696 - accuracy: 0.2265 - val_loss: 4.9223 - val_accuracy: 0.2699\n",
            "\n",
            "Epoch 00001: val_loss improved from inf to 4.92235, saving model to /content/drive/Shared drives/NeuroSummary/evaluation/result/thai_gov/70_20/logB/70_20_val_acc_watch:epoch:50,lr=0.01,rmsprop,batch_size:128,LSTM_units:512,dataset:train,dropout:0.0.hdf5\n",
            "Epoch 2/50\n",
            "90/90 [==============================] - 37s 409ms/step - loss: 4.8599 - accuracy: 0.2893 - val_loss: 4.6869 - val_accuracy: 0.3085\n",
            "\n",
            "Epoch 00002: val_loss improved from 4.92235 to 4.68695, saving model to /content/drive/Shared drives/NeuroSummary/evaluation/result/thai_gov/70_20/logB/70_20_val_acc_watch:epoch:50,lr=0.01,rmsprop,batch_size:128,LSTM_units:512,dataset:train,dropout:0.0.hdf5\n",
            "Epoch 3/50\n",
            "90/90 [==============================] - 37s 410ms/step - loss: 4.3810 - accuracy: 0.3329 - val_loss: 4.5579 - val_accuracy: 0.3477\n",
            "\n",
            "Epoch 00003: val_loss improved from 4.68695 to 4.55787, saving model to /content/drive/Shared drives/NeuroSummary/evaluation/result/thai_gov/70_20/logB/70_20_val_acc_watch:epoch:50,lr=0.01,rmsprop,batch_size:128,LSTM_units:512,dataset:train,dropout:0.0.hdf5\n",
            "Epoch 4/50\n",
            "90/90 [==============================] - 37s 411ms/step - loss: 4.0377 - accuracy: 0.3678 - val_loss: 4.1901 - val_accuracy: 0.3733\n",
            "\n",
            "Epoch 00004: val_loss improved from 4.55787 to 4.19015, saving model to /content/drive/Shared drives/NeuroSummary/evaluation/result/thai_gov/70_20/logB/70_20_val_acc_watch:epoch:50,lr=0.01,rmsprop,batch_size:128,LSTM_units:512,dataset:train,dropout:0.0.hdf5\n",
            "Epoch 5/50\n",
            "90/90 [==============================] - 37s 411ms/step - loss: 3.7985 - accuracy: 0.3914 - val_loss: 4.0255 - val_accuracy: 0.3887\n",
            "\n",
            "Epoch 00005: val_loss improved from 4.19015 to 4.02554, saving model to /content/drive/Shared drives/NeuroSummary/evaluation/result/thai_gov/70_20/logB/70_20_val_acc_watch:epoch:50,lr=0.01,rmsprop,batch_size:128,LSTM_units:512,dataset:train,dropout:0.0.hdf5\n",
            "Epoch 6/50\n",
            "90/90 [==============================] - 37s 412ms/step - loss: 3.6172 - accuracy: 0.4099 - val_loss: 3.8571 - val_accuracy: 0.4025\n",
            "\n",
            "Epoch 00006: val_loss improved from 4.02554 to 3.85713, saving model to /content/drive/Shared drives/NeuroSummary/evaluation/result/thai_gov/70_20/logB/70_20_val_acc_watch:epoch:50,lr=0.01,rmsprop,batch_size:128,LSTM_units:512,dataset:train,dropout:0.0.hdf5\n",
            "Epoch 7/50\n",
            "90/90 [==============================] - 37s 410ms/step - loss: 3.4760 - accuracy: 0.4238 - val_loss: 3.8242 - val_accuracy: 0.4065\n",
            "\n",
            "Epoch 00007: val_loss improved from 3.85713 to 3.82420, saving model to /content/drive/Shared drives/NeuroSummary/evaluation/result/thai_gov/70_20/logB/70_20_val_acc_watch:epoch:50,lr=0.01,rmsprop,batch_size:128,LSTM_units:512,dataset:train,dropout:0.0.hdf5\n",
            "Epoch 8/50\n",
            "90/90 [==============================] - 37s 413ms/step - loss: 3.3603 - accuracy: 0.4368 - val_loss: 3.9546 - val_accuracy: 0.4152\n",
            "\n",
            "Epoch 00008: val_loss did not improve from 3.82420\n",
            "Epoch 9/50\n",
            "90/90 [==============================] - 37s 409ms/step - loss: 3.2616 - accuracy: 0.4477 - val_loss: 4.0443 - val_accuracy: 0.4195\n",
            "\n",
            "Epoch 00009: val_loss did not improve from 3.82420\n",
            "Epoch 10/50\n",
            "90/90 [==============================] - 37s 409ms/step - loss: 3.1669 - accuracy: 0.4590 - val_loss: 3.8206 - val_accuracy: 0.4251\n",
            "\n",
            "Epoch 00010: val_loss improved from 3.82420 to 3.82060, saving model to /content/drive/Shared drives/NeuroSummary/evaluation/result/thai_gov/70_20/logB/70_20_val_acc_watch:epoch:50,lr=0.01,rmsprop,batch_size:128,LSTM_units:512,dataset:train,dropout:0.0.hdf5\n",
            "Epoch 11/50\n",
            "90/90 [==============================] - 37s 411ms/step - loss: 3.0968 - accuracy: 0.4673 - val_loss: 3.7795 - val_accuracy: 0.4281\n",
            "\n",
            "Epoch 00011: val_loss improved from 3.82060 to 3.77949, saving model to /content/drive/Shared drives/NeuroSummary/evaluation/result/thai_gov/70_20/logB/70_20_val_acc_watch:epoch:50,lr=0.01,rmsprop,batch_size:128,LSTM_units:512,dataset:train,dropout:0.0.hdf5\n",
            "Epoch 12/50\n",
            "90/90 [==============================] - 37s 407ms/step - loss: 3.0333 - accuracy: 0.4748 - val_loss: 3.5395 - val_accuracy: 0.4287\n",
            "\n",
            "Epoch 00012: val_loss improved from 3.77949 to 3.53955, saving model to /content/drive/Shared drives/NeuroSummary/evaluation/result/thai_gov/70_20/logB/70_20_val_acc_watch:epoch:50,lr=0.01,rmsprop,batch_size:128,LSTM_units:512,dataset:train,dropout:0.0.hdf5\n",
            "Epoch 13/50\n",
            "90/90 [==============================] - 37s 412ms/step - loss: 2.9768 - accuracy: 0.4814 - val_loss: 3.9492 - val_accuracy: 0.4315\n",
            "\n",
            "Epoch 00013: val_loss did not improve from 3.53955\n",
            "Epoch 14/50\n",
            "90/90 [==============================] - 37s 411ms/step - loss: 2.9234 - accuracy: 0.4874 - val_loss: 4.0691 - val_accuracy: 0.4322\n",
            "\n",
            "Epoch 00014: val_loss did not improve from 3.53955\n",
            "Epoch 15/50\n",
            "90/90 [==============================] - 37s 408ms/step - loss: 2.8679 - accuracy: 0.4940 - val_loss: 3.9672 - val_accuracy: 0.4332\n",
            "\n",
            "Epoch 00015: val_loss did not improve from 3.53955\n",
            "Epoch 16/50\n",
            "90/90 [==============================] - 37s 411ms/step - loss: 2.8253 - accuracy: 0.4996 - val_loss: 3.6528 - val_accuracy: 0.4338\n",
            "\n",
            "Epoch 00016: val_loss did not improve from 3.53955\n",
            "Epoch 17/50\n",
            "90/90 [==============================] - 37s 410ms/step - loss: 2.7767 - accuracy: 0.5055 - val_loss: 3.7328 - val_accuracy: 0.4338\n",
            "\n",
            "Epoch 00017: val_loss did not improve from 3.53955\n",
            "Epoch 00017: early stopping\n",
            "Epoch 1/50\n",
            "90/90 [==============================] - 39s 428ms/step - loss: 5.7463 - accuracy: 0.2275 - val_loss: 5.1684 - val_accuracy: 0.2691\n",
            "\n",
            "Epoch 00001: val_loss improved from inf to 5.16841, saving model to /content/drive/Shared drives/NeuroSummary/evaluation/result/thai_gov/70_20/logB/70_20_val_acc_watch:epoch:50,lr=0.01,rmsprop,batch_size:128,LSTM_units:1024,dataset:train,dropout:0.0.hdf5\n",
            "Epoch 2/50\n",
            "90/90 [==============================] - 37s 409ms/step - loss: 4.8234 - accuracy: 0.2912 - val_loss: 4.6681 - val_accuracy: 0.3150\n",
            "\n",
            "Epoch 00002: val_loss improved from 5.16841 to 4.66814, saving model to /content/drive/Shared drives/NeuroSummary/evaluation/result/thai_gov/70_20/logB/70_20_val_acc_watch:epoch:50,lr=0.01,rmsprop,batch_size:128,LSTM_units:1024,dataset:train,dropout:0.0.hdf5\n",
            "Epoch 3/50\n",
            "90/90 [==============================] - 37s 409ms/step - loss: 4.3558 - accuracy: 0.3354 - val_loss: 4.3618 - val_accuracy: 0.3493\n",
            "\n",
            "Epoch 00003: val_loss improved from 4.66814 to 4.36178, saving model to /content/drive/Shared drives/NeuroSummary/evaluation/result/thai_gov/70_20/logB/70_20_val_acc_watch:epoch:50,lr=0.01,rmsprop,batch_size:128,LSTM_units:1024,dataset:train,dropout:0.0.hdf5\n",
            "Epoch 4/50\n",
            "90/90 [==============================] - 37s 412ms/step - loss: 4.0285 - accuracy: 0.3667 - val_loss: 4.0687 - val_accuracy: 0.3712\n",
            "\n",
            "Epoch 00004: val_loss improved from 4.36178 to 4.06867, saving model to /content/drive/Shared drives/NeuroSummary/evaluation/result/thai_gov/70_20/logB/70_20_val_acc_watch:epoch:50,lr=0.01,rmsprop,batch_size:128,LSTM_units:1024,dataset:train,dropout:0.0.hdf5\n",
            "Epoch 5/50\n",
            "90/90 [==============================] - 37s 408ms/step - loss: 3.7960 - accuracy: 0.3895 - val_loss: 4.0924 - val_accuracy: 0.3876\n",
            "\n",
            "Epoch 00005: val_loss did not improve from 4.06867\n",
            "Epoch 6/50\n",
            "90/90 [==============================] - 37s 408ms/step - loss: 3.6199 - accuracy: 0.4084 - val_loss: 3.8724 - val_accuracy: 0.4013\n",
            "\n",
            "Epoch 00006: val_loss improved from 4.06867 to 3.87245, saving model to /content/drive/Shared drives/NeuroSummary/evaluation/result/thai_gov/70_20/logB/70_20_val_acc_watch:epoch:50,lr=0.01,rmsprop,batch_size:128,LSTM_units:1024,dataset:train,dropout:0.0.hdf5\n",
            "Epoch 7/50\n",
            "90/90 [==============================] - 37s 410ms/step - loss: 3.4748 - accuracy: 0.4247 - val_loss: 3.8452 - val_accuracy: 0.4088\n",
            "\n",
            "Epoch 00007: val_loss improved from 3.87245 to 3.84515, saving model to /content/drive/Shared drives/NeuroSummary/evaluation/result/thai_gov/70_20/logB/70_20_val_acc_watch:epoch:50,lr=0.01,rmsprop,batch_size:128,LSTM_units:1024,dataset:train,dropout:0.0.hdf5\n",
            "Epoch 8/50\n",
            "90/90 [==============================] - 37s 407ms/step - loss: 3.3589 - accuracy: 0.4364 - val_loss: 3.9748 - val_accuracy: 0.4160\n",
            "\n",
            "Epoch 00008: val_loss did not improve from 3.84515\n",
            "Epoch 9/50\n",
            "90/90 [==============================] - 37s 407ms/step - loss: 3.2628 - accuracy: 0.4481 - val_loss: 3.7800 - val_accuracy: 0.4212\n",
            "\n",
            "Epoch 00009: val_loss improved from 3.84515 to 3.78002, saving model to /content/drive/Shared drives/NeuroSummary/evaluation/result/thai_gov/70_20/logB/70_20_val_acc_watch:epoch:50,lr=0.01,rmsprop,batch_size:128,LSTM_units:1024,dataset:train,dropout:0.0.hdf5\n",
            "Epoch 10/50\n",
            "90/90 [==============================] - 36s 405ms/step - loss: 3.1794 - accuracy: 0.4575 - val_loss: 3.5169 - val_accuracy: 0.4242\n",
            "\n",
            "Epoch 00010: val_loss improved from 3.78002 to 3.51692, saving model to /content/drive/Shared drives/NeuroSummary/evaluation/result/thai_gov/70_20/logB/70_20_val_acc_watch:epoch:50,lr=0.01,rmsprop,batch_size:128,LSTM_units:1024,dataset:train,dropout:0.0.hdf5\n",
            "Epoch 11/50\n",
            "90/90 [==============================] - 37s 406ms/step - loss: 3.1080 - accuracy: 0.4655 - val_loss: 3.6002 - val_accuracy: 0.4267\n",
            "\n",
            "Epoch 00011: val_loss did not improve from 3.51692\n",
            "Epoch 12/50\n",
            "90/90 [==============================] - 36s 404ms/step - loss: 3.0487 - accuracy: 0.4722 - val_loss: 3.6524 - val_accuracy: 0.4277\n",
            "\n",
            "Epoch 00012: val_loss did not improve from 3.51692\n",
            "Epoch 13/50\n",
            "90/90 [==============================] - 37s 407ms/step - loss: 2.9799 - accuracy: 0.4802 - val_loss: 3.8286 - val_accuracy: 0.4314\n",
            "\n",
            "Epoch 00013: val_loss did not improve from 3.51692\n",
            "Epoch 14/50\n",
            "90/90 [==============================] - 36s 405ms/step - loss: 2.9333 - accuracy: 0.4865 - val_loss: 3.6008 - val_accuracy: 0.4313\n",
            "\n",
            "Epoch 00014: val_loss did not improve from 3.51692\n",
            "Epoch 15/50\n",
            "90/90 [==============================] - 37s 407ms/step - loss: 2.8775 - accuracy: 0.4935 - val_loss: 3.9720 - val_accuracy: 0.4317\n",
            "\n",
            "Epoch 00015: val_loss did not improve from 3.51692\n",
            "Epoch 00015: early stopping\n"
          ],
          "name": "stdout"
        }
      ]
    },
    {
      "cell_type": "code",
      "metadata": {
        "id": "VGV-oUdfL4cv",
        "colab_type": "code",
        "outputId": "31196be2-2dce-4c6c-e58d-8c9cd39e15be",
        "colab": {
          "base_uri": "https://localhost:8080/",
          "height": 354
        }
      },
      "source": [
        " from tensorflow.keras.models import load_model\n",
        " modelX = load_model(\"/content/drive/Shared drives/NeuroSummary/evaluation/result/thai_gov/50_20/model/200_20_v2.2_normal_best_200_20_attention_best.h5\")"
      ],
      "execution_count": 0,
      "outputs": [
        {
          "output_type": "error",
          "ename": "OSError",
          "evalue": "ignored",
          "traceback": [
            "\u001b[0;31m---------------------------------------------------------------------------\u001b[0m",
            "\u001b[0;31mOSError\u001b[0m                                   Traceback (most recent call last)",
            "\u001b[0;32m<ipython-input-1-05a02408a8b2>\u001b[0m in \u001b[0;36m<module>\u001b[0;34m()\u001b[0m\n\u001b[1;32m      1\u001b[0m \u001b[0;32mfrom\u001b[0m \u001b[0mtensorflow\u001b[0m\u001b[0;34m.\u001b[0m\u001b[0mkeras\u001b[0m\u001b[0;34m.\u001b[0m\u001b[0mmodels\u001b[0m \u001b[0;32mimport\u001b[0m \u001b[0mload_model\u001b[0m\u001b[0;34m\u001b[0m\u001b[0;34m\u001b[0m\u001b[0m\n\u001b[0;32m----> 2\u001b[0;31m \u001b[0mmodelX\u001b[0m \u001b[0;34m=\u001b[0m \u001b[0mload_model\u001b[0m\u001b[0;34m(\u001b[0m\u001b[0;34m\"/content/drive/Shared drives/NeuroSummary/evaluation/result/thai_gov/50_20/model/200_20_v2.2_normal_best_200_20_attention_best.h5\"\u001b[0m\u001b[0;34m)\u001b[0m\u001b[0;34m\u001b[0m\u001b[0;34m\u001b[0m\u001b[0m\n\u001b[0m",
            "\u001b[0;32m/usr/local/lib/python3.6/dist-packages/tensorflow/python/keras/saving/save.py\u001b[0m in \u001b[0;36mload_model\u001b[0;34m(filepath, custom_objects, compile)\u001b[0m\n\u001b[1;32m    187\u001b[0m       \u001b[0mfilepath\u001b[0m \u001b[0;34m=\u001b[0m \u001b[0mstr\u001b[0m\u001b[0;34m(\u001b[0m\u001b[0mfilepath\u001b[0m\u001b[0;34m)\u001b[0m\u001b[0;34m\u001b[0m\u001b[0;34m\u001b[0m\u001b[0m\n\u001b[1;32m    188\u001b[0m     \u001b[0;32mif\u001b[0m \u001b[0misinstance\u001b[0m\u001b[0;34m(\u001b[0m\u001b[0mfilepath\u001b[0m\u001b[0;34m,\u001b[0m \u001b[0msix\u001b[0m\u001b[0;34m.\u001b[0m\u001b[0mstring_types\u001b[0m\u001b[0;34m)\u001b[0m\u001b[0;34m:\u001b[0m\u001b[0;34m\u001b[0m\u001b[0;34m\u001b[0m\u001b[0m\n\u001b[0;32m--> 189\u001b[0;31m       \u001b[0mloader_impl\u001b[0m\u001b[0;34m.\u001b[0m\u001b[0mparse_saved_model\u001b[0m\u001b[0;34m(\u001b[0m\u001b[0mfilepath\u001b[0m\u001b[0;34m)\u001b[0m\u001b[0;34m\u001b[0m\u001b[0;34m\u001b[0m\u001b[0m\n\u001b[0m\u001b[1;32m    190\u001b[0m       \u001b[0;32mreturn\u001b[0m \u001b[0msaved_model_load\u001b[0m\u001b[0;34m.\u001b[0m\u001b[0mload\u001b[0m\u001b[0;34m(\u001b[0m\u001b[0mfilepath\u001b[0m\u001b[0;34m,\u001b[0m \u001b[0mcompile\u001b[0m\u001b[0;34m)\u001b[0m\u001b[0;34m\u001b[0m\u001b[0;34m\u001b[0m\u001b[0m\n\u001b[1;32m    191\u001b[0m \u001b[0;34m\u001b[0m\u001b[0m\n",
            "\u001b[0;32m/usr/local/lib/python3.6/dist-packages/tensorflow/python/saved_model/loader_impl.py\u001b[0m in \u001b[0;36mparse_saved_model\u001b[0;34m(export_dir)\u001b[0m\n\u001b[1;32m    111\u001b[0m                   (export_dir,\n\u001b[1;32m    112\u001b[0m                    \u001b[0mconstants\u001b[0m\u001b[0;34m.\u001b[0m\u001b[0mSAVED_MODEL_FILENAME_PBTXT\u001b[0m\u001b[0;34m,\u001b[0m\u001b[0;34m\u001b[0m\u001b[0;34m\u001b[0m\u001b[0m\n\u001b[0;32m--> 113\u001b[0;31m                    constants.SAVED_MODEL_FILENAME_PB))\n\u001b[0m\u001b[1;32m    114\u001b[0m \u001b[0;34m\u001b[0m\u001b[0m\n\u001b[1;32m    115\u001b[0m \u001b[0;34m\u001b[0m\u001b[0m\n",
            "\u001b[0;31mOSError\u001b[0m: SavedModel file does not exist at: /content/drive/Shared drives/NeuroSummary/evaluation/result/thai_gov/50_20/model/200_20_v2.2_normal_best_200_20_attention_best.h5/{saved_model.pbtxt|saved_model.pb}"
          ]
        }
      ]
    },
    {
      "cell_type": "markdown",
      "metadata": {
        "id": "GXzQ3m2Web5d",
        "colab_type": "text"
      },
      "source": [
        "# Inference & Evaluate with Rouge N"
      ]
    },
    {
      "cell_type": "code",
      "metadata": {
        "id": "MQZ7UXksSUhQ",
        "colab_type": "code",
        "outputId": "63427254-3a2c-4a43-9413-ebefb8e7b541",
        "colab": {
          "base_uri": "https://localhost:8080/",
          "height": 52
        }
      },
      "source": [
        "!pip install rouge\n",
        "from rouge import Rouge "
      ],
      "execution_count": 0,
      "outputs": [
        {
          "output_type": "stream",
          "text": [
            "Requirement already satisfied: rouge in /usr/local/lib/python3.6/dist-packages (1.0.0)\n",
            "Requirement already satisfied: six in /usr/local/lib/python3.6/dist-packages (from rouge) (1.12.0)\n"
          ],
          "name": "stdout"
        }
      ]
    },
    {
      "cell_type": "code",
      "metadata": {
        "id": "xpq5JXxTZJeT",
        "colab_type": "code",
        "colab": {}
      },
      "source": [
        "# generate target given source sequence\n",
        "# 1 21 vocabsize\n",
        "def predict_sequence(infenc, infdec, source, n_steps, num_decoder_tokens=vocab_size):\n",
        "\t# encode\n",
        "    state = infenc.predict(source)\n",
        "    # start of sequence input\n",
        "    target_seq=[dict_t['<s>']]\n",
        "    decoded_sentence  = ''\n",
        "    for t in range(n_steps):\n",
        "      # predict next char\n",
        "      output_tokens, h, c = infdec.predict([target_seq] + state)\n",
        "      # store prediction\n",
        "      sampled_token_index = np.argmax(output_tokens[0, -1, :])\n",
        "      sampled_char = rev_dict_t[sampled_token_index]\n",
        "      if(sampled_char == \"</s>\") :\n",
        "        if(len(decoded_sentence)==0) :\n",
        "          return \"</s>\"\n",
        "        return decoded_sentence\n",
        "      decoded_sentence += \" \" +sampled_char\n",
        "      # update state &  target sequence\n",
        "      target_seq = [sampled_token_index]\n",
        "      state = [h, c]\n",
        "    return decoded_sentence"
      ],
      "execution_count": 0,
      "outputs": []
    },
    {
      "cell_type": "code",
      "metadata": {
        "id": "J1fTRy0AednY",
        "colab_type": "code",
        "colab": {}
      },
      "source": [
        "def inference(dataset, inf_enc, inf_dec, steps=maxlen_output,vocab_size=vocab_size) :\n",
        "  pred_sum = []\n",
        "  for c in dataset:\n",
        "    pred = predict_sequence(inf_enc, inf_dec, pad_sequences([c],maxlen=maxlen,padding='post'), steps, num_decoder_tokens=vocab_size)\n",
        "    pred_sum.append(pred.strip())\n",
        "  return pred_sum\n",
        "def evaluate_result(gold_sum,pred_sum) : \n",
        "  rouge = Rouge()\n",
        "  avg_scores = rouge.get_scores(pred_sum, gold_sum, avg=True)\n",
        "  return avg_scores \n",
        "def eval_all(infenc,infdec) :\n",
        "  # results = []\n",
        "  pred1 = inference(dataset=X_train, inf_enc = infenc,inf_dec=infdec) \n",
        "  pred2 = inference(dataset=X_val, inf_enc = infenc,inf_dec=infdec) \n",
        "  pred3 = inference(dataset=X_test, inf_enc = infenc,inf_dec=infdec)\n",
        "  return [pred1, pred2, pred3]\n",
        "def eval_all_models() :\n",
        "  results_dec = {}\n",
        "  rouge_scores = {}\n",
        "  for unit in models :\n",
        "    infenc = models[unit]['infenc']\n",
        "    infdec = models[unit]['infdec']\n",
        "    result = eval_all(infenc,infdec)\n",
        "    results_dec[unit] = {}\n",
        "    results_dec[unit][\"train\"] = result[0]\n",
        "    results_dec[unit][\"val\"] = result[1]\n",
        "    results_dec[unit][\"test\"] = result[2]\n",
        "    results_dec[unit][\"gold_train\"] = gold_sum_train\n",
        "    results_dec[unit][\"gold_val\"] = gold_sum_val\n",
        "    results_dec[unit][\"gold_test\"] = gold_sum_test\n",
        "    rouge_scores[unit] = {}\n",
        "    rouge_scores[unit][\"train\"] = evaluate_result(gold_sum_train,result[0])\n",
        "    rouge_scores[unit][\"val\"] = evaluate_result(gold_sum_val,result[1])\n",
        "    rouge_scores[unit][\"test\"] = evaluate_result(gold_sum_test,result[2])\n",
        "  return results_dec,rouge_scores"
      ],
      "execution_count": 0,
      "outputs": []
    },
    {
      "cell_type": "code",
      "metadata": {
        "id": "ABi1-adzoCMl",
        "colab_type": "code",
        "colab": {}
      },
      "source": [
        "results_dec, rouge_scores = eval_all_models()"
      ],
      "execution_count": 0,
      "outputs": []
    },
    {
      "cell_type": "code",
      "metadata": {
        "id": "Sj45vOQm2X7-",
        "colab_type": "code",
        "outputId": "9fd57a1a-bdf8-434b-d408-e1ab0282a584",
        "colab": {
          "base_uri": "https://localhost:8080/",
          "height": 1000
        }
      },
      "source": [
        "rouge_scores"
      ],
      "execution_count": 0,
      "outputs": [
        {
          "output_type": "execute_result",
          "data": {
            "text/plain": [
              "{32: {'test': {'rouge-1': {'f': 0.15428065871034524,\n",
              "    'p': 0.15580878567964576,\n",
              "    'r': 0.1603094239294811},\n",
              "   'rouge-2': {'f': 0.060609330782143325,\n",
              "    'p': 0.06122815606013996,\n",
              "    'r': 0.06295945196051472},\n",
              "   'rouge-l': {'f': 0.15141918026507442,\n",
              "    'p': 0.15664469776968276,\n",
              "    'r': 0.1533071753270122}},\n",
              "  'train': {'rouge-1': {'f': 0.1912233846953776,\n",
              "    'p': 0.19495016898950948,\n",
              "    'r': 0.1952445198373563},\n",
              "   'rouge-2': {'f': 0.08825434193933081,\n",
              "    'p': 0.0904451896235947,\n",
              "    'r': 0.09009912917923846},\n",
              "   'rouge-l': {'f': 0.19033261690444572,\n",
              "    'p': 0.19859696793150944,\n",
              "    'r': 0.18990519114448373}},\n",
              "  'val': {'rouge-1': {'f': 0.15613025796026975,\n",
              "    'p': 0.15971073949808978,\n",
              "    'r': 0.16147100649037122},\n",
              "   'rouge-2': {'f': 0.0634177480005409,\n",
              "    'p': 0.06619088989357857,\n",
              "    'r': 0.06462337368542657},\n",
              "   'rouge-l': {'f': 0.15391516697976917,\n",
              "    'p': 0.16157197835598208,\n",
              "    'r': 0.1548541351749881}}},\n",
              " 64: {'test': {'rouge-1': {'f': 0.14507332742215173,\n",
              "    'p': 0.1510022322093246,\n",
              "    'r': 0.14734514031088972},\n",
              "   'rouge-2': {'f': 0.05647821577997384,\n",
              "    'p': 0.05755403731877955,\n",
              "    'r': 0.05833021209145437},\n",
              "   'rouge-l': {'f': 0.14322047271436938,\n",
              "    'p': 0.1514054448137009,\n",
              "    'r': 0.14256222473408625}},\n",
              "  'train': {'rouge-1': {'f': 0.17817947618611799,\n",
              "    'p': 0.18581970230952036,\n",
              "    'r': 0.1795936618861311},\n",
              "   'rouge-2': {'f': 0.07926725775042913,\n",
              "    'p': 0.08155583542486755,\n",
              "    'r': 0.08073366196159537},\n",
              "   'rouge-l': {'f': 0.1777772547531085,\n",
              "    'p': 0.18809146955486086,\n",
              "    'r': 0.1761504539560885}},\n",
              "  'val': {'rouge-1': {'f': 0.14878448787683116,\n",
              "    'p': 0.1557838117598739,\n",
              "    'r': 0.1501536273272431},\n",
              "   'rouge-2': {'f': 0.05981002834311524,\n",
              "    'p': 0.061630856880777796,\n",
              "    'r': 0.06091188062088815},\n",
              "   'rouge-l': {'f': 0.14742043760899526,\n",
              "    'p': 0.1566951649181385,\n",
              "    'r': 0.1458264841465653}}},\n",
              " 128: {'test': {'rouge-1': {'f': 0.13303528990845084,\n",
              "    'p': 0.14100217251305816,\n",
              "    'r': 0.1342918395184759},\n",
              "   'rouge-2': {'f': 0.04739544573991876,\n",
              "    'p': 0.04920735931489084,\n",
              "    'r': 0.04894974042678354},\n",
              "   'rouge-l': {'f': 0.13195453976403673,\n",
              "    'p': 0.14295714706151236,\n",
              "    'r': 0.13021334663363035}},\n",
              "  'train': {'rouge-1': {'f': 0.15017003507579385,\n",
              "    'p': 0.15960935030664924,\n",
              "    'r': 0.15044439199039827},\n",
              "   'rouge-2': {'f': 0.05752781314068876,\n",
              "    'p': 0.06008853508834315,\n",
              "    'r': 0.05882271046131825},\n",
              "   'rouge-l': {'f': 0.14937508177452755,\n",
              "    'p': 0.16202812929280752,\n",
              "    'r': 0.1465847622441446}},\n",
              "  'val': {'rouge-1': {'f': 0.13489794400694463,\n",
              "    'p': 0.14346449164544778,\n",
              "    'r': 0.13636368661701462},\n",
              "   'rouge-2': {'f': 0.05025422054764955,\n",
              "    'p': 0.05189614006069,\n",
              "    'r': 0.05261926105812626},\n",
              "   'rouge-l': {'f': 0.13327170775337852,\n",
              "    'p': 0.14473278058410516,\n",
              "    'r': 0.13176068296049548}}},\n",
              " 256: {'test': {'rouge-1': {'f': 0.1503113760322308,\n",
              "    'p': 0.1569908436927029,\n",
              "    'r': 0.15289980415375568},\n",
              "   'rouge-2': {'f': 0.05783504549091089,\n",
              "    'p': 0.059336531340251575,\n",
              "    'r': 0.0599528480212314},\n",
              "   'rouge-l': {'f': 0.15128531676543455,\n",
              "    'p': 0.16553252294423682,\n",
              "    'r': 0.14652050319885795}},\n",
              "  'train': {'rouge-1': {'f': 0.17851703423000548,\n",
              "    'p': 0.18799482318314364,\n",
              "    'r': 0.17949321449438588},\n",
              "   'rouge-2': {'f': 0.07637311526399608,\n",
              "    'p': 0.0791643879550543,\n",
              "    'r': 0.07831600128902942},\n",
              "   'rouge-l': {'f': 0.1804057412583359,\n",
              "    'p': 0.1978353588240193,\n",
              "    'r': 0.17382941645715544}},\n",
              "  'val': {'rouge-1': {'f': 0.1513039733401628,\n",
              "    'p': 0.1576416015018937,\n",
              "    'r': 0.15531976375066062},\n",
              "   'rouge-2': {'f': 0.05838176933748375,\n",
              "    'p': 0.059131571102389015,\n",
              "    'r': 0.062071993337667095},\n",
              "   'rouge-l': {'f': 0.1525137894190724,\n",
              "    'p': 0.1666977245074054,\n",
              "    'r': 0.1489312592702231}}},\n",
              " 512: {'test': {'rouge-1': {'f': 0.15161248023627855,\n",
              "    'p': 0.1600059658955179,\n",
              "    'r': 0.15177744933678636},\n",
              "   'rouge-2': {'f': 0.06000628841394371,\n",
              "    'p': 0.0627834520880941,\n",
              "    'r': 0.06013617435237352},\n",
              "   'rouge-l': {'f': 0.14946647585146047,\n",
              "    'p': 0.16009795338119864,\n",
              "    'r': 0.1468118455362311}},\n",
              "  'train': {'rouge-1': {'f': 0.18491157723617846,\n",
              "    'p': 0.19536927109355695,\n",
              "    'r': 0.18435068035232274},\n",
              "   'rouge-2': {'f': 0.08280231644875345,\n",
              "    'p': 0.08691667562357801,\n",
              "    'r': 0.08281669157596566},\n",
              "   'rouge-l': {'f': 0.1834437579506049,\n",
              "    'p': 0.19682251586459065,\n",
              "    'r': 0.1797392087036951}},\n",
              "  'val': {'rouge-1': {'f': 0.14910787482990012,\n",
              "    'p': 0.15760327239242033,\n",
              "    'r': 0.14956141399698789},\n",
              "   'rouge-2': {'f': 0.05853990152873675,\n",
              "    'p': 0.06131590219470592,\n",
              "    'r': 0.05877717862539743},\n",
              "   'rouge-l': {'f': 0.14678430122575245,\n",
              "    'p': 0.15767805207547023,\n",
              "    'r': 0.14457530568416946}}},\n",
              " 1024: {'test': {'rouge-1': {'f': 0.15569775334624117,\n",
              "    'p': 0.16046075567066317,\n",
              "    'r': 0.15758911684309118},\n",
              "   'rouge-2': {'f': 0.06317517207967403,\n",
              "    'p': 0.06482050071828506,\n",
              "    'r': 0.0639807054652936},\n",
              "   'rouge-l': {'f': 0.1551571398976277,\n",
              "    'p': 0.16408611625716726,\n",
              "    'r': 0.1530659553502088}},\n",
              "  'train': {'rouge-1': {'f': 0.17660455835806677,\n",
              "    'p': 0.18316296552176464,\n",
              "    'r': 0.17637131378625948},\n",
              "   'rouge-2': {'f': 0.07678206076078117,\n",
              "    'p': 0.07980161510733629,\n",
              "    'r': 0.07647530742661734},\n",
              "   'rouge-l': {'f': 0.17699464170136614,\n",
              "    'p': 0.18873951853765666,\n",
              "    'r': 0.17233207439379244}},\n",
              "  'val': {'rouge-1': {'f': 0.1543403657283776,\n",
              "    'p': 0.16012293264785646,\n",
              "    'r': 0.1559549016875181},\n",
              "   'rouge-2': {'f': 0.06404275247929492,\n",
              "    'p': 0.06626588512900164,\n",
              "    'r': 0.06452107152136077},\n",
              "   'rouge-l': {'f': 0.15381006029207822,\n",
              "    'p': 0.16344156593713405,\n",
              "    'r': 0.15162459861525082}}}}"
            ]
          },
          "metadata": {
            "tags": []
          },
          "execution_count": 211
        }
      ]
    },
    {
      "cell_type": "code",
      "metadata": {
        "id": "hDI4P2mS3gaW",
        "colab_type": "code",
        "colab": {}
      },
      "source": [
        "   from keras.models import load_model\n",
        "\n",
        "MODEL_PATH = f'/content/drive/Shared drives/NeuroSummary/evaluation/result/thai_gov/{n_first_content}_{n_first_headline}/model/'\n",
        "for units in models :\n",
        "  trainN = f\"v2_{n_first_content}_{n_first_headline}_model:train_units_{units}_batch:{batch_size}_lr:{lr}_drop:{dropout_rate}_save_best\"\n",
        "  infencN = f\"v2_{n_first_content}_{n_first_headline}_model:infenc_units_{units}_batch:{batch_size}_lr:{lr}_drop:{dropout_rate}_save_best\"\n",
        "  infdecN = f\"v2_{n_first_content}_{n_first_headline}_model:infdec_units_{units}_batch:{batch_size}_lr:{lr}_drop:{dropout_rate}_save_best\"\n",
        "  train = models[units]['train']\n",
        "  infenc = models[units]['infenc']\n",
        "  infdec = models[units]['infdec']\n",
        "  train.save(MODEL_PATH+trainN)\n",
        "  infenc.save(MODEL_PATH+infencN)\n",
        "  infdec.save(MODEL_PATH+infdecN)"
      ],
      "execution_count": 0,
      "outputs": []
    },
    {
      "cell_type": "code",
      "metadata": {
        "id": "ovAZS6dqvdOR",
        "colab_type": "code",
        "colab": {}
      },
      "source": [
        "import pandas as pd\n",
        "import pickle\n",
        "pd.set_option('display.expand_frame_repr', False)\n",
        "\n",
        "# pd.set_option('display.max_rows', 500)\n",
        "# pd.set_option('display.max_columns', 500)\n",
        "import pickle\n",
        "# pd.set_option('display.width', 1000)"
      ],
      "execution_count": 0,
      "outputs": []
    },
    {
      "cell_type": "code",
      "metadata": {
        "id": "9MWh1OMIvncM",
        "colab_type": "code",
        "colab": {}
      },
      "source": [
        "df = pd.DataFrame(results_dec[32][\"train\"], columns=[\"dec_train\"])\n",
        "df[\"gold_train\"] = results_dec[32][\"gold_train\"]"
      ],
      "execution_count": 0,
      "outputs": []
    },
    {
      "cell_type": "code",
      "metadata": {
        "id": "DARWgSS7v1Xw",
        "colab_type": "code",
        "outputId": "a8642aae-494d-4968-c87c-a3ba7970b336",
        "colab": {
          "base_uri": "https://localhost:8080/",
          "height": 321
        }
      },
      "source": [
        "pd.set_option('display.max_columns', None)  \n",
        "pd.set_option('display.expand_frame_repr', False)\n",
        "pd.set_option('max_colwidth', -1)\n",
        "print (df)"
      ],
      "execution_count": 0,
      "outputs": [
        {
          "output_type": "stream",
          "text": [
            "                                                                                                                                      dec_train                                                                                                                   gold_train\n",
            "0     บก. เปิด ประชุม คณะกรรมการส่งเสริม การ ดำเนิน งาน ของ การ ดำเนิน งาน ตาม นโยบาย รัฐบาล และ เยาวชน                                          กรมเจ้าท่า ปรับปรุง อัตรา ค่า โดยสาร เรือ กล เดิน ประจำ ทาง ใน เขต กรุงเทพมหานคร และ ปริมณฑล                               \n",
            "1     รอง นรม. พล.อ.อ. ประจินฯ เป็น ประธาน การ ประชุม คณะ กรรมการ ขับเคลื่อน และ ปฏิรูป การ ศึกษา เพื่อ พัฒนา การ ศึกษา คุณธรรม                  รอง นรม พล.อ.ฉัตรชัยฯ เป็น ประธาน การ ประชุม คณะ อนุกรรมการ แก้ไข ปัญหา การ ทำ การ ประมง ผิด กฎหมาย IUU                    \n",
            "2     รมว. ทส. เปิด งาน “ โครงการ “ อุ่นไอ รัก ” ใหม่                                                                                            รมว. ทส. เปิด งาน ประชารัฐร่วมใจ คน ลำ พูน ไร้ ขยะ เปียก                                                                   \n",
            "3     นายก รัฐมนตรี เป็น ประธาน การ ประชุม คณะ กรรมการ บริหาร กองทุนพัฒนาการกีฬาแห่งชาติ ครั้ง ที่ 1 / 2561                                      นายก รัฐมนตรี ลง พื้นที่ เยี่ยมชม วิถี ชีวิต ชุมชน ริม น้ำจันทบูร และ วิสาหกิจ เพื่อ สังคม “ จันทบูรโมเดล ” จังหวัดจันทบุรี\n",
            "4     กระทรวงดิจิทัลฯ หนุน จับ มือ ภาคี เครือข่าย จัด งาน “ Digital Thailand Big Bang Regional 2018 ”                                            กระทรวงดิจิทัลฯ หนุน สดช. จับ มือ ทีโอที- กสทฯ - เอไอเอส - ทรู ให้ บริการ Free Wi - Fi ทั่ว ประเทศ ด้วย “                  \n",
            "...                                                                                               ...                                                                                                                                                  ...                  \n",
            "9214  กระทรวงยุติธรรม โดย กรมบังคับคดี จัด การ ผลิต ไฟฟ้า พลังงาน ไฟฟ้า และ ปรับปรุง คดี อาญา                                                    กระทรวงยุติธรรม โดย กรมบังคับคดี ขาย ทรัพย์ ได้ กว่า 143 ล้าน บาท ใน งาน บ้าน ธอส. เอ็กซ์ โป@ กรุงเทพฯ ประจำ ปี 2561       \n",
            "9215  กสร. เผย ยอด การ ดำเนิน งาน การ ใช้ บัตร เดบิต ครั้ง ที่ 2 / 2561                                                                          กสร. ชู คน ทำ งาน รุ่น ใหม่ ต้อง ปลอด ภัย และ สุขภาพ ดี                                                                    \n",
            "9216  ออมสิน เปิด ตัว Application “ สุดยอด SME Development Bank ออก สำนักงานเศรษฐกิจการ คลัง ” ประจำ วัน                                         ออมสิน แก้ไข ปัญหา หนี้สิน ครู เพื่อ ช่วยเหลือ ครู อย่าง แท้จริง                                                           \n",
            "9217  นายก ฯ ห่วงใย ประชาชน ให้ ความ คืบหน้า การ ดำเนิน งาน ตาม นโยบาย รัฐบาล และ เยาวชน ”                                                       นายก ฯ สั่งสร้าง การ รับ รู้ ดูแล ป้องกัน ภัย ฝุ่น ละออง พร้อม กำชับ แก้ ปัญหา คุณภาพ อากาศ เร่งด่วน                       \n",
            "9218  รอง นายก รัฐมนตรี และ รัฐมนตรี ว่าการ กระทรวงยุติธรรม ให้ การ ต้อนรับ เอกอัครราชทูต วิสามัญ ผู้ มี อำนาจ เต็ม แห่ง เข้า เยี่ยม คารวะ นายก  รอง นายก รัฐมนตรี และ รัฐมนตรี ว่าการ กระทรวงยุติธรรม ให้ สัมภาษณ์ พิเศษ หนังสือพิมพ์ มติชน                                \n",
            "\n",
            "[9219 rows x 2 columns]\n"
          ],
          "name": "stdout"
        },
        {
          "output_type": "stream",
          "text": [
            "/usr/local/lib/python3.6/dist-packages/ipykernel_launcher.py:3: FutureWarning: Passing a negative integer is deprecated in version 1.0 and will not be supported in future version. Instead, use None to not limit the column width.\n",
            "  This is separate from the ipykernel package so we can avoid doing imports until\n"
          ],
          "name": "stderr"
        }
      ]
    },
    {
      "cell_type": "code",
      "metadata": {
        "id": "cUK0gh0Uysbw",
        "colab_type": "code",
        "outputId": "44542d37-61d2-4400-9bee-687fa47151b1",
        "colab": {
          "base_uri": "https://localhost:8080/",
          "height": 517
        }
      },
      "source": [
        "df"
      ],
      "execution_count": 0,
      "outputs": [
        {
          "output_type": "execute_result",
          "data": {
            "text/html": [
              "<div>\n",
              "<style scoped>\n",
              "    .dataframe tbody tr th:only-of-type {\n",
              "        vertical-align: middle;\n",
              "    }\n",
              "\n",
              "    .dataframe tbody tr th {\n",
              "        vertical-align: top;\n",
              "    }\n",
              "\n",
              "    .dataframe thead th {\n",
              "        text-align: right;\n",
              "    }\n",
              "</style>\n",
              "<table border=\"1\" class=\"dataframe\">\n",
              "  <thead>\n",
              "    <tr style=\"text-align: right;\">\n",
              "      <th></th>\n",
              "      <th>dec_train</th>\n",
              "      <th>gold_train</th>\n",
              "    </tr>\n",
              "  </thead>\n",
              "  <tbody>\n",
              "    <tr>\n",
              "      <th>0</th>\n",
              "      <td>บก. เปิด ประชุม คณะกรรมการส่งเสริม การ ดำเนิน งาน ของ การ ดำเนิน งาน ตาม นโยบาย รัฐบาล และ เยาวชน</td>\n",
              "      <td>กรมเจ้าท่า ปรับปรุง อัตรา ค่า โดยสาร เรือ กล เดิน ประจำ ทาง ใน เขต กรุงเทพมหานคร และ ปริมณฑล</td>\n",
              "    </tr>\n",
              "    <tr>\n",
              "      <th>1</th>\n",
              "      <td>รอง นรม. พล.อ.อ. ประจินฯ เป็น ประธาน การ ประชุม คณะ กรรมการ ขับเคลื่อน และ ปฏิรูป การ ศึกษา เพื่อ พัฒนา การ ศึกษา คุณธรรม</td>\n",
              "      <td>รอง นรม พล.อ.ฉัตรชัยฯ เป็น ประธาน การ ประชุม คณะ อนุกรรมการ แก้ไข ปัญหา การ ทำ การ ประมง ผิด กฎหมาย IUU</td>\n",
              "    </tr>\n",
              "    <tr>\n",
              "      <th>2</th>\n",
              "      <td>รมว. ทส. เปิด งาน “ โครงการ “ อุ่นไอ รัก ” ใหม่</td>\n",
              "      <td>รมว. ทส. เปิด งาน ประชารัฐร่วมใจ คน ลำ พูน ไร้ ขยะ เปียก</td>\n",
              "    </tr>\n",
              "    <tr>\n",
              "      <th>3</th>\n",
              "      <td>นายก รัฐมนตรี เป็น ประธาน การ ประชุม คณะ กรรมการ บริหาร กองทุนพัฒนาการกีฬาแห่งชาติ ครั้ง ที่ 1 / 2561</td>\n",
              "      <td>นายก รัฐมนตรี ลง พื้นที่ เยี่ยมชม วิถี ชีวิต ชุมชน ริม น้ำจันทบูร และ วิสาหกิจ เพื่อ สังคม “ จันทบูรโมเดล ” จังหวัดจันทบุรี</td>\n",
              "    </tr>\n",
              "    <tr>\n",
              "      <th>4</th>\n",
              "      <td>กระทรวงดิจิทัลฯ หนุน จับ มือ ภาคี เครือข่าย จัด งาน “ Digital Thailand Big Bang Regional 2018 ”</td>\n",
              "      <td>กระทรวงดิจิทัลฯ หนุน สดช. จับ มือ ทีโอที- กสทฯ - เอไอเอส - ทรู ให้ บริการ Free Wi - Fi ทั่ว ประเทศ ด้วย “</td>\n",
              "    </tr>\n",
              "    <tr>\n",
              "      <th>...</th>\n",
              "      <td>...</td>\n",
              "      <td>...</td>\n",
              "    </tr>\n",
              "    <tr>\n",
              "      <th>9214</th>\n",
              "      <td>กระทรวงยุติธรรม โดย กรมบังคับคดี จัด การ ผลิต ไฟฟ้า พลังงาน ไฟฟ้า และ ปรับปรุง คดี อาญา</td>\n",
              "      <td>กระทรวงยุติธรรม โดย กรมบังคับคดี ขาย ทรัพย์ ได้ กว่า 143 ล้าน บาท ใน งาน บ้าน ธอส. เอ็กซ์ โป@ กรุงเทพฯ ประจำ ปี 2561</td>\n",
              "    </tr>\n",
              "    <tr>\n",
              "      <th>9215</th>\n",
              "      <td>กสร. เผย ยอด การ ดำเนิน งาน การ ใช้ บัตร เดบิต ครั้ง ที่ 2 / 2561</td>\n",
              "      <td>กสร. ชู คน ทำ งาน รุ่น ใหม่ ต้อง ปลอด ภัย และ สุขภาพ ดี</td>\n",
              "    </tr>\n",
              "    <tr>\n",
              "      <th>9216</th>\n",
              "      <td>ออมสิน เปิด ตัว Application “ สุดยอด SME Development Bank ออก สำนักงานเศรษฐกิจการ คลัง ” ประจำ วัน</td>\n",
              "      <td>ออมสิน แก้ไข ปัญหา หนี้สิน ครู เพื่อ ช่วยเหลือ ครู อย่าง แท้จริง</td>\n",
              "    </tr>\n",
              "    <tr>\n",
              "      <th>9217</th>\n",
              "      <td>นายก ฯ ห่วงใย ประชาชน ให้ ความ คืบหน้า การ ดำเนิน งาน ตาม นโยบาย รัฐบาล และ เยาวชน ”</td>\n",
              "      <td>นายก ฯ สั่งสร้าง การ รับ รู้ ดูแล ป้องกัน ภัย ฝุ่น ละออง พร้อม กำชับ แก้ ปัญหา คุณภาพ อากาศ เร่งด่วน</td>\n",
              "    </tr>\n",
              "    <tr>\n",
              "      <th>9218</th>\n",
              "      <td>รอง นายก รัฐมนตรี และ รัฐมนตรี ว่าการ กระทรวงยุติธรรม ให้ การ ต้อนรับ เอกอัครราชทูต วิสามัญ ผู้ มี อำนาจ เต็ม แห่ง เข้า เยี่ยม คารวะ นายก</td>\n",
              "      <td>รอง นายก รัฐมนตรี และ รัฐมนตรี ว่าการ กระทรวงยุติธรรม ให้ สัมภาษณ์ พิเศษ หนังสือพิมพ์ มติชน</td>\n",
              "    </tr>\n",
              "  </tbody>\n",
              "</table>\n",
              "<p>9219 rows × 2 columns</p>\n",
              "</div>"
            ],
            "text/plain": [
              "                                                                                                                                      dec_train                                                                                                                   gold_train\n",
              "0     บก. เปิด ประชุม คณะกรรมการส่งเสริม การ ดำเนิน งาน ของ การ ดำเนิน งาน ตาม นโยบาย รัฐบาล และ เยาวชน                                          กรมเจ้าท่า ปรับปรุง อัตรา ค่า โดยสาร เรือ กล เดิน ประจำ ทาง ใน เขต กรุงเทพมหานคร และ ปริมณฑล                               \n",
              "1     รอง นรม. พล.อ.อ. ประจินฯ เป็น ประธาน การ ประชุม คณะ กรรมการ ขับเคลื่อน และ ปฏิรูป การ ศึกษา เพื่อ พัฒนา การ ศึกษา คุณธรรม                  รอง นรม พล.อ.ฉัตรชัยฯ เป็น ประธาน การ ประชุม คณะ อนุกรรมการ แก้ไข ปัญหา การ ทำ การ ประมง ผิด กฎหมาย IUU                    \n",
              "2     รมว. ทส. เปิด งาน “ โครงการ “ อุ่นไอ รัก ” ใหม่                                                                                            รมว. ทส. เปิด งาน ประชารัฐร่วมใจ คน ลำ พูน ไร้ ขยะ เปียก                                                                   \n",
              "3     นายก รัฐมนตรี เป็น ประธาน การ ประชุม คณะ กรรมการ บริหาร กองทุนพัฒนาการกีฬาแห่งชาติ ครั้ง ที่ 1 / 2561                                      นายก รัฐมนตรี ลง พื้นที่ เยี่ยมชม วิถี ชีวิต ชุมชน ริม น้ำจันทบูร และ วิสาหกิจ เพื่อ สังคม “ จันทบูรโมเดล ” จังหวัดจันทบุรี\n",
              "4     กระทรวงดิจิทัลฯ หนุน จับ มือ ภาคี เครือข่าย จัด งาน “ Digital Thailand Big Bang Regional 2018 ”                                            กระทรวงดิจิทัลฯ หนุน สดช. จับ มือ ทีโอที- กสทฯ - เอไอเอส - ทรู ให้ บริการ Free Wi - Fi ทั่ว ประเทศ ด้วย “                  \n",
              "...                                                                                               ...                                                                                                                                                  ...                  \n",
              "9214  กระทรวงยุติธรรม โดย กรมบังคับคดี จัด การ ผลิต ไฟฟ้า พลังงาน ไฟฟ้า และ ปรับปรุง คดี อาญา                                                    กระทรวงยุติธรรม โดย กรมบังคับคดี ขาย ทรัพย์ ได้ กว่า 143 ล้าน บาท ใน งาน บ้าน ธอส. เอ็กซ์ โป@ กรุงเทพฯ ประจำ ปี 2561       \n",
              "9215  กสร. เผย ยอด การ ดำเนิน งาน การ ใช้ บัตร เดบิต ครั้ง ที่ 2 / 2561                                                                          กสร. ชู คน ทำ งาน รุ่น ใหม่ ต้อง ปลอด ภัย และ สุขภาพ ดี                                                                    \n",
              "9216  ออมสิน เปิด ตัว Application “ สุดยอด SME Development Bank ออก สำนักงานเศรษฐกิจการ คลัง ” ประจำ วัน                                         ออมสิน แก้ไข ปัญหา หนี้สิน ครู เพื่อ ช่วยเหลือ ครู อย่าง แท้จริง                                                           \n",
              "9217  นายก ฯ ห่วงใย ประชาชน ให้ ความ คืบหน้า การ ดำเนิน งาน ตาม นโยบาย รัฐบาล และ เยาวชน ”                                                       นายก ฯ สั่งสร้าง การ รับ รู้ ดูแล ป้องกัน ภัย ฝุ่น ละออง พร้อม กำชับ แก้ ปัญหา คุณภาพ อากาศ เร่งด่วน                       \n",
              "9218  รอง นายก รัฐมนตรี และ รัฐมนตรี ว่าการ กระทรวงยุติธรรม ให้ การ ต้อนรับ เอกอัครราชทูต วิสามัญ ผู้ มี อำนาจ เต็ม แห่ง เข้า เยี่ยม คารวะ นายก  รอง นายก รัฐมนตรี และ รัฐมนตรี ว่าการ กระทรวงยุติธรรม ให้ สัมภาษณ์ พิเศษ หนังสือพิมพ์ มติชน                                \n",
              "\n",
              "[9219 rows x 2 columns]"
            ]
          },
          "metadata": {
            "tags": []
          },
          "execution_count": 41
        }
      ]
    },
    {
      "cell_type": "markdown",
      "metadata": {
        "id": "YcxYGVQKeuSw",
        "colab_type": "text"
      },
      "source": [
        "- I have found that some empty hypothesis ??"
      ]
    },
    {
      "cell_type": "markdown",
      "metadata": {
        "id": "xlCVbkjSD-d5",
        "colab_type": "text"
      },
      "source": [
        "- Save Results"
      ]
    },
    {
      "cell_type": "code",
      "metadata": {
        "id": "CJYc4v_MpSux",
        "colab_type": "code",
        "colab": {}
      },
      "source": [
        "import pickle\n",
        "THAIGOV_PATH = '/content/drive/Shared drives/NeuroSummary/evaluation/result/thai_gov/50_20/output/'\n",
        "# with open(THAIGOV_PATH + f'lr={lr},{optimizer},batch_size:{batch_size},LSTM_units:{units}.pkl', 'wb') as f:\n",
        "#   pickle.dump(results, f)\n",
        "with open(THAIGOV_PATH + f'{n_first_content}_{n_first_headline}_result_decode_result_{units_to_train}_save_best_val_loss.pkl', 'wb') as f:\n",
        "  pickle.dump(rouge_scores, f)\n",
        "with open(THAIGOV_PATH + f'{n_first_content}_{n_first_headline}_result_rouge_score_{units_to_train}_save_best_val_loss.pkl', 'wb') as f:\n",
        "  pickle.dump(results_dec, f)\n",
        "# with open(THAIGOV_PATH + f'/all_result_dropout.pkl', 'wb') as f:\n",
        "#   pickle.dump(results, f)"
      ],
      "execution_count": 0,
      "outputs": []
    },
    {
      "cell_type": "code",
      "metadata": {
        "id": "hCIayVDFiImS",
        "colab_type": "code",
        "colab": {}
      },
      "source": [
        "with open(THAIGOV_PATH + f'result_decode_result_{units_to_train}_save_best_val_acc.pkl', 'rb') as f:\n",
        "  result_decode = pickle.load(f)\n",
        "with open(THAIGOV_PATH + f'result_rouge_score_{units_to_train}_save_best_val_acc.pkl', 'rb') as f:\n",
        "  rouge_scores2 = pickle.load(f)\n"
      ],
      "execution_count": 0,
      "outputs": []
    },
    {
      "cell_type": "markdown",
      "metadata": {
        "id": "Azo0YJ-OEAMW",
        "colab_type": "text"
      },
      "source": [
        "- Save Models"
      ]
    },
    {
      "cell_type": "code",
      "metadata": {
        "id": "0ayTkk44pKeg",
        "colab_type": "code",
        "colab": {}
      },
      "source": [
        " from keras.models import load_model\n",
        "\n",
        "MODEL_PATH = '/content/drive/Shared drives/NeuroSummary/evaluation/result/thai_gov/50_20/model/'\n",
        "for units in models :\n",
        "  trainN = f\"70_20_model:train_units_{units}_batch:{batch_size}_lr:{lr}_drop:{dropout_rate}_save_best\"\n",
        "  infencN = f\"70_20_model:infenc_units_{units}_batch:{batch_size}_lr:{lr}_drop:{dropout_rate}_save_best\"\n",
        "  infdecN = f\"70_20_model:infdec_units_{units}_batch:{batch_size}_lr:{lr}_drop:{dropout_rate}_save_best\"\n",
        "  train = models[units]['train']\n",
        "  infenc = models[units]['infenc']\n",
        "  infdec = models[units]['infdec']\n",
        "  train.save(MODEL_PATH+trainN)\n",
        "  infenc.save(MODEL_PATH+infencN)\n",
        "  infdec.save(MODEL_PATH+infdecN)"
      ],
      "execution_count": 0,
      "outputs": []
    },
    {
      "cell_type": "markdown",
      "metadata": {
        "id": "Qsejn1G4wwAT",
        "colab_type": "text"
      },
      "source": [
        ""
      ]
    },
    {
      "cell_type": "markdown",
      "metadata": {
        "id": "AggntgSLFLGQ",
        "colab_type": "text"
      },
      "source": [
        "# อย่่ามาดูอันนี้"
      ]
    },
    {
      "cell_type": "code",
      "metadata": {
        "id": "U0w-YZugoIhy",
        "colab_type": "code",
        "outputId": "ce2b6f91-9077-48d7-f587-51ec7be5c3fa",
        "colab": {
          "base_uri": "https://localhost:8080/",
          "height": 70
        }
      },
      "source": [
        "# model.save('/content/drive/Shared drives/NeuroSummary/data/b_data_playground/my_model')\n",
        "from keras.models import load_model\n",
        "model = load_model('/content/drive/Shared drives/NeuroSummary/data/b_data_playground/my_model')"
      ],
      "execution_count": 0,
      "outputs": [
        {
          "output_type": "stream",
          "text": [
            "/usr/local/lib/python3.6/dist-packages/tensorflow/python/framework/indexed_slices.py:434: UserWarning: Converting sparse IndexedSlices to a dense Tensor of unknown shape. This may consume a large amount of memory.\n",
            "  \"Converting sparse IndexedSlices to a dense Tensor of unknown shape. \"\n"
          ],
          "name": "stderr"
        }
      ]
    },
    {
      "cell_type": "code",
      "metadata": {
        "id": "BCIkRlNAD2pN",
        "colab_type": "code",
        "outputId": "723a38ad-8258-4ae4-feb3-a9a0d68c434e",
        "colab": {
          "base_uri": "https://localhost:8080/",
          "height": 118
        }
      },
      "source": [
        "model.layers"
      ],
      "execution_count": 0,
      "outputs": [
        {
          "output_type": "execute_result",
          "data": {
            "text/plain": [
              "[<keras.engine.input_layer.InputLayer at 0x7f1ba855d2e8>,\n",
              " <keras.layers.embeddings.Embedding at 0x7f1ba855d240>,\n",
              " <keras.engine.input_layer.InputLayer at 0x7f1ba855d7f0>,\n",
              " <keras.layers.recurrent.LSTM at 0x7f1ba855d9b0>,\n",
              " <keras.layers.recurrent.LSTM at 0x7f1ba855da58>,\n",
              " <keras.layers.wrappers.TimeDistributed at 0x7f1ba855d400>]"
            ]
          },
          "metadata": {
            "tags": []
          },
          "execution_count": 35
        }
      ]
    },
    {
      "cell_type": "code",
      "metadata": {
        "id": "5ZMQcrF7FKuV",
        "colab_type": "code",
        "colab": {}
      },
      "source": [
        "encoder_inputs = model.layers[0]\n",
        "encoded_inputs = model.layers[1](encoder_inputs)\n",
        "encoder = model.layers[3]\n",
        "encoder_outputs, state_h, state_c = encoder(encoder_inputs)\n",
        "encoder_states = [state_h, state_c]\n",
        "\n",
        "decoder_inputs = model.layers[0]\n",
        "# decoder_embedding = Embedding(vocab_size, 64)(decoder_inputs)\n",
        "decoder_lstm = LSTM(64, return_state=True, return_sequences=True)\n",
        "decoder_outputs, _, _ = decoder_lstm(decoder_inputs, initial_state=encoder_states)\n",
        "\n",
        "# dense_layer = Dense(VOCAB_SIZE, activation='softmax')\n",
        "decoder_dense  = TimeDistributed(Dense(vocab_size, activation='softmax'))\n",
        "decoder_outputs = decoder_dense(decoder_outputs)\n",
        "------------------------------------\n",
        "\n",
        "\n",
        "\n",
        "encoder_model = Model(encoder_inputs, encoder_states)\n",
        "\n",
        "decoder_state_input_h = Input(shape=(latent_dim,))\n",
        "decoder_state_input_c = Input(shape=(latent_dim,))\n",
        "decoder_states_inputs = [decoder_state_input_h, decoder_state_input_c]\n",
        "decoder_outputs, state_h, state_c = decoder_lstm(\n",
        "    decoder_inputs, initial_state=decoder_states_inputs)\n",
        "decoder_states = [state_h, state_c]\n",
        "decoder_outputs = decoder_dense(decoder_outputs)\n",
        "decoder_model = Model(\n",
        "    [decoder_inputs] + decoder_states_inputs,\n",
        "    [decoder_outputs] + decoder_states)"
      ],
      "execution_count": 0,
      "outputs": []
    },
    {
      "cell_type": "code",
      "metadata": {
        "id": "ZqUMK57qEQV2",
        "colab_type": "code",
        "outputId": "c717f7fb-47b3-4b79-8bcc-8f476416a329",
        "colab": {
          "base_uri": "https://localhost:8080/",
          "height": 34
        }
      },
      "source": [
        "encoder_inpit"
      ],
      "execution_count": 0,
      "outputs": [
        {
          "output_type": "execute_result",
          "data": {
            "text/plain": [
              "<tf.Tensor 'time_distributed_3/Reshape_1:0' shape=(None, 21, 22122) dtype=float32>"
            ]
          },
          "metadata": {
            "tags": []
          },
          "execution_count": 36
        }
      ]
    },
    {
      "cell_type": "code",
      "metadata": {
        "id": "TaWLjYxxDX9O",
        "colab_type": "code",
        "outputId": "4071298b-a632-40b0-8396-12803eafefb4",
        "colab": {
          "base_uri": "https://localhost:8080/",
          "height": 323
        }
      },
      "source": [
        "# inf_Model = Model(inputs=model.inputs[0], outputs=[model.get_layer('attention_scores').get_output_at(e) for e in range(Ty)])\n",
        "inf_Model = Model(inputs=model.inputs[0], outputs=model.output)"
      ],
      "execution_count": 0,
      "outputs": [
        {
          "output_type": "error",
          "ename": "ValueError",
          "evalue": "ignored",
          "traceback": [
            "\u001b[0;31m---------------------------------------------------------------------------\u001b[0m",
            "\u001b[0;31mValueError\u001b[0m                                Traceback (most recent call last)",
            "\u001b[0;32m<ipython-input-37-2abd9c402c52>\u001b[0m in \u001b[0;36m<module>\u001b[0;34m()\u001b[0m\n\u001b[0;32m----> 1\u001b[0;31m \u001b[0minf_Model\u001b[0m \u001b[0;34m=\u001b[0m \u001b[0mModel\u001b[0m\u001b[0;34m(\u001b[0m\u001b[0minputs\u001b[0m\u001b[0;34m=\u001b[0m\u001b[0mmodel\u001b[0m\u001b[0;34m.\u001b[0m\u001b[0minputs\u001b[0m\u001b[0;34m[\u001b[0m\u001b[0;36m0\u001b[0m\u001b[0;34m]\u001b[0m\u001b[0;34m,\u001b[0m \u001b[0moutputs\u001b[0m\u001b[0;34m=\u001b[0m\u001b[0mmodel\u001b[0m\u001b[0;34m.\u001b[0m\u001b[0moutput\u001b[0m\u001b[0;34m)\u001b[0m\u001b[0;34m\u001b[0m\u001b[0;34m\u001b[0m\u001b[0m\n\u001b[0m",
            "\u001b[0;32m/usr/local/lib/python3.6/dist-packages/keras/legacy/interfaces.py\u001b[0m in \u001b[0;36mwrapper\u001b[0;34m(*args, **kwargs)\u001b[0m\n\u001b[1;32m     89\u001b[0m                 warnings.warn('Update your `' + object_name + '` call to the ' +\n\u001b[1;32m     90\u001b[0m                               'Keras 2 API: ' + signature, stacklevel=2)\n\u001b[0;32m---> 91\u001b[0;31m             \u001b[0;32mreturn\u001b[0m \u001b[0mfunc\u001b[0m\u001b[0;34m(\u001b[0m\u001b[0;34m*\u001b[0m\u001b[0margs\u001b[0m\u001b[0;34m,\u001b[0m \u001b[0;34m**\u001b[0m\u001b[0mkwargs\u001b[0m\u001b[0;34m)\u001b[0m\u001b[0;34m\u001b[0m\u001b[0;34m\u001b[0m\u001b[0m\n\u001b[0m\u001b[1;32m     92\u001b[0m         \u001b[0mwrapper\u001b[0m\u001b[0;34m.\u001b[0m\u001b[0m_original_function\u001b[0m \u001b[0;34m=\u001b[0m \u001b[0mfunc\u001b[0m\u001b[0;34m\u001b[0m\u001b[0;34m\u001b[0m\u001b[0m\n\u001b[1;32m     93\u001b[0m         \u001b[0;32mreturn\u001b[0m \u001b[0mwrapper\u001b[0m\u001b[0;34m\u001b[0m\u001b[0;34m\u001b[0m\u001b[0m\n",
            "\u001b[0;32m/usr/local/lib/python3.6/dist-packages/keras/engine/network.py\u001b[0m in \u001b[0;36m__init__\u001b[0;34m(self, *args, **kwargs)\u001b[0m\n\u001b[1;32m     92\u001b[0m                 'inputs' in kwargs and 'outputs' in kwargs):\n\u001b[1;32m     93\u001b[0m             \u001b[0;31m# Graph network\u001b[0m\u001b[0;34m\u001b[0m\u001b[0;34m\u001b[0m\u001b[0;34m\u001b[0m\u001b[0m\n\u001b[0;32m---> 94\u001b[0;31m             \u001b[0mself\u001b[0m\u001b[0;34m.\u001b[0m\u001b[0m_init_graph_network\u001b[0m\u001b[0;34m(\u001b[0m\u001b[0;34m*\u001b[0m\u001b[0margs\u001b[0m\u001b[0;34m,\u001b[0m \u001b[0;34m**\u001b[0m\u001b[0mkwargs\u001b[0m\u001b[0;34m)\u001b[0m\u001b[0;34m\u001b[0m\u001b[0;34m\u001b[0m\u001b[0m\n\u001b[0m\u001b[1;32m     95\u001b[0m         \u001b[0;32melse\u001b[0m\u001b[0;34m:\u001b[0m\u001b[0;34m\u001b[0m\u001b[0;34m\u001b[0m\u001b[0m\n\u001b[1;32m     96\u001b[0m             \u001b[0;31m# Subclassed network\u001b[0m\u001b[0;34m\u001b[0m\u001b[0;34m\u001b[0m\u001b[0;34m\u001b[0m\u001b[0m\n",
            "\u001b[0;32m/usr/local/lib/python3.6/dist-packages/keras/engine/network.py\u001b[0m in \u001b[0;36m_init_graph_network\u001b[0;34m(self, inputs, outputs, name, **kwargs)\u001b[0m\n\u001b[1;32m    239\u001b[0m         \u001b[0;31m# Keep track of the network's nodes and layers.\u001b[0m\u001b[0;34m\u001b[0m\u001b[0;34m\u001b[0m\u001b[0;34m\u001b[0m\u001b[0m\n\u001b[1;32m    240\u001b[0m         nodes, nodes_by_depth, layers, layers_by_depth = _map_graph_network(\n\u001b[0;32m--> 241\u001b[0;31m             self.inputs, self.outputs)\n\u001b[0m\u001b[1;32m    242\u001b[0m         \u001b[0mself\u001b[0m\u001b[0;34m.\u001b[0m\u001b[0m_network_nodes\u001b[0m \u001b[0;34m=\u001b[0m \u001b[0mnodes\u001b[0m\u001b[0;34m\u001b[0m\u001b[0;34m\u001b[0m\u001b[0m\n\u001b[1;32m    243\u001b[0m         \u001b[0mself\u001b[0m\u001b[0;34m.\u001b[0m\u001b[0m_nodes_by_depth\u001b[0m \u001b[0;34m=\u001b[0m \u001b[0mnodes_by_depth\u001b[0m\u001b[0;34m\u001b[0m\u001b[0;34m\u001b[0m\u001b[0m\n",
            "\u001b[0;32m/usr/local/lib/python3.6/dist-packages/keras/engine/network.py\u001b[0m in \u001b[0;36m_map_graph_network\u001b[0;34m(inputs, outputs)\u001b[0m\n\u001b[1;32m   1509\u001b[0m                                          \u001b[0;34m'The following previous layers '\u001b[0m\u001b[0;34m\u001b[0m\u001b[0;34m\u001b[0m\u001b[0m\n\u001b[1;32m   1510\u001b[0m                                          \u001b[0;34m'were accessed without issue: '\u001b[0m \u001b[0;34m+\u001b[0m\u001b[0;34m\u001b[0m\u001b[0;34m\u001b[0m\u001b[0m\n\u001b[0;32m-> 1511\u001b[0;31m                                          str(layers_with_complete_input))\n\u001b[0m\u001b[1;32m   1512\u001b[0m                 \u001b[0;32mfor\u001b[0m \u001b[0mx\u001b[0m \u001b[0;32min\u001b[0m \u001b[0mnode\u001b[0m\u001b[0;34m.\u001b[0m\u001b[0moutput_tensors\u001b[0m\u001b[0;34m:\u001b[0m\u001b[0;34m\u001b[0m\u001b[0;34m\u001b[0m\u001b[0m\n\u001b[1;32m   1513\u001b[0m                     \u001b[0mcomputable_tensors\u001b[0m\u001b[0;34m.\u001b[0m\u001b[0mappend\u001b[0m\u001b[0;34m(\u001b[0m\u001b[0mx\u001b[0m\u001b[0;34m)\u001b[0m\u001b[0;34m\u001b[0m\u001b[0;34m\u001b[0m\u001b[0m\n",
            "\u001b[0;31mValueError\u001b[0m: Graph disconnected: cannot obtain value for tensor Tensor(\"input_8:0\", shape=(None, 21, 22122), dtype=float32) at layer \"input_8\". The following previous layers were accessed without issue: ['input_7', 'embedding_7']"
          ]
        }
      ]
    },
    {
      "cell_type": "code",
      "metadata": {
        "id": "o1JAs855shL7",
        "colab_type": "code",
        "outputId": "9a9c7626-7611-4142-e2d1-d6762cdb09f2",
        "colab": {
          "base_uri": "https://localhost:8080/",
          "height": 533
        }
      },
      "source": [
        "from keras.utils import plot_model\n",
        "\n",
        "plot_model(model, to_file='model.png', show_shapes=True, show_layer_names=True, rankdir='TB', expand_nested=False, dpi=96)"
      ],
      "execution_count": 0,
      "outputs": [
        {
          "output_type": "execute_result",
          "data": {
            "image/png": "[encoded data removed]",
            "text/plain": [
              "<IPython.core.display.Image object>"
            ]
          },
          "metadata": {
            "tags": []
          },
          "execution_count": 27
        }
      ]
    },
    {
      "cell_type": "code",
      "metadata": {
        "id": "stzb8yN7C7tu",
        "colab_type": "code",
        "colab": {}
      },
      "source": [
        "class DataGenerator2(keras.utils.Sequence):\n",
        "    'Generates data for Keras'\n",
        "    def __init__(self, list_IDs, labels, batch_size=32, dimX=70,dimY=20, n_channels=1,\n",
        "                 n_classes=10, shuffle=True):\n",
        "        'Initialization'\n",
        "        self.dimX = dimX\n",
        "        self.dimY = dimY\n",
        "        self.batch_size = batch_size\n",
        "        self.labels = labels\n",
        "        self.list_IDs = list_IDs\n",
        "        self.n_channels = n_channels\n",
        "        self.n_classes = n_classes\n",
        "        self.shuffle = shuffle\n",
        "        self.on_epoch_end()\n",
        "\n",
        "    def __len__(self):\n",
        "        'Denotes the number of batches per epoch'\n",
        "        return int(np.floor(len(self.list_IDs) / self.batch_size))\n",
        "\n",
        "    def __getitem__(self, index):\n",
        "        'Generate one batch of data'\n",
        "        # Generate indexes of the batch\n",
        "        indexes = self.indexes[index*self.batch_size:(index+1)*self.batch_size]\n",
        "\n",
        "        # Find list of IDs\n",
        "        list_IDs_temp = [self.list_IDs[k] for k in indexes]\n",
        "        label_temp = [self.labels[k] for k in indexes]\n",
        "        # Generate data\n",
        "        X,y = self.__data_generation(list_IDs_temp,label_temp)\n",
        "        return X,y\n",
        "\n",
        "    def on_epoch_end(self):\n",
        "        'Updates indexes after each epoch'\n",
        "        self.indexes = np.arange(len(self.list_IDs))\n",
        "        if self.shuffle == True:\n",
        "            np.random.shuffle(self.indexes)\n",
        "\n",
        "    def __data_generation(self, X,y):\n",
        "        'Generates data containing batch_size samples' # X : (n_samples, *dim, n_channels)\n",
        "        # Initialization\n",
        "        # X = np.empty((self.batch_size, self.dimX))\n",
        "        # y = np.empty((self.batch_size, self.dimY))\n",
        "\n",
        "        # Generate data\n",
        "        # for i, ID in enumerate(list_IDs_temp):\n",
        "        #     # Store sample\n",
        "        #     X[i,] = list_IDs_temp\n",
        "        \n",
        "        y = list(map(lambda mem :np.append(mem,[len(dict_t)-1]),y))\n",
        "        # y_shift = list(map(lambda mem :np.append([len(dict_t)-2], mem[:-1]),y))\n",
        "        # print(y_shift.shape)\n",
        "        # print(X)\n",
        "        X = pad_sequences(X,maxlen=maxlen,padding='post')\n",
        "        y = pad_sequences(y,maxlen=maxlen_output,padding='post') \n",
        "        # y_shift = pad_sequences(y_shift,maxlen=maxlen_output,padding='post')\n",
        "        # X = np.array(keras.utils.to_categorical(X, num_classes=self.n_classes), dtype=object)\n",
        "        # print(np.array(y).shape)\n",
        "        y = np.array(keras.utils.to_categorical(y, num_classes=self.n_classes))\n",
        "        # y_shift = np.array(keras.utils.to_categorical(y_shift, num_classes=self.n_classes))\n",
        "        # Y_v = pad_sequences(y_val,maxlen=maxlen_output) \n",
        "        #     Store class\n",
        "        #     y[i] = self.labels[ID]\n",
        "        return X,y"
      ],
      "execution_count": 0,
      "outputs": []
    },
    {
      "cell_type": "code",
      "metadata": {
        "id": "1k90p8SNCBdO",
        "colab_type": "code",
        "colab": {}
      },
      "source": [
        "params = {'dimX': maxlen,\n",
        "          'dimY': maxlen_output,\n",
        "          'batch_size': 1,\n",
        "          'n_classes': vocab_size,\n",
        "          'n_channels': 1,\n",
        "          'shuffle': True}\n",
        "\n",
        "# Datasets\n",
        "# partition = # IDs\n",
        "# labels = # Labels\n",
        "\n",
        "# Generators\n",
        "train_for_test_generator = DataGenerator2(X_train[:10], y_train[:10], **params)\n",
        "# training_generator = DataGenerator(X_train, y_train, **params)\n",
        "# validation_generator = DataGenerator(X_val, y_val, **params)"
      ],
      "execution_count": 0,
      "outputs": []
    },
    {
      "cell_type": "code",
      "metadata": {
        "id": "Jp9HRu9Urdk6",
        "colab_type": "code",
        "colab": {}
      },
      "source": [
        "m\n",
        "pred = model.predict_generator(train_for_test_generator)"
      ],
      "execution_count": 0,
      "outputs": []
    },
    {
      "cell_type": "code",
      "metadata": {
        "id": "gSB-CiLDCNhA",
        "colab_type": "code",
        "colab": {}
      },
      "source": [
        "pred"
      ],
      "execution_count": 0,
      "outputs": []
    },
    {
      "cell_type": "markdown",
      "metadata": {
        "id": "t6WW-dEvVhyV",
        "colab_type": "text"
      },
      "source": [
        "**bold text**# อย่่ามาดูอันนี้"
      ]
    },
    {
      "cell_type": "code",
      "metadata": {
        "id": "e6IejdvuVk4R",
        "colab_type": "code",
        "colab": {}
      },
      "source": [
        "encoder_model = Model(encoder_inputs, encoder_states)\n",
        "\n",
        "decoder_state_input_h = Input(shape=(64,))\n",
        "decoder_state_input_c = Input(shape=(64,))\n",
        "decoder_states_inputs = [decoder_state_input_h, decoder_state_input_c]\n",
        "decoder_outputs, state_h, state_c = decoder_lstm(\n",
        "    decoder_inputs, initial_state=decoder_states_inputs)\n",
        "decoder_states = [state_h, state_c]\n",
        "decoder_outputs = decoder_dense(decoder_outputs)\n",
        "decoder_model = Model(\n",
        "    [decoder_inputs] + decoder_states_inputs,\n",
        "    [decoder_outputs] + decoder_states)"
      ],
      "execution_count": 0,
      "outputs": []
    },
    {
      "cell_type": "code",
      "metadata": {
        "id": "VAVImY6ScLHM",
        "colab_type": "code",
        "colab": {}
      },
      "source": [
        "X_t = pad_sequences(X_train,maxlen=maxlen,padding='post')"
      ],
      "execution_count": 0,
      "outputs": []
    },
    {
      "cell_type": "code",
      "metadata": {
        "id": "aHTLDRnkcW-w",
        "colab_type": "code",
        "outputId": "c25cf261-1745-4857-e292-fc73dd6cbc15",
        "colab": {
          "base_uri": "https://localhost:8080/",
          "height": 568
        }
      },
      "source": [
        "model.predict(np.array(X_t[0]))"
      ],
      "execution_count": 0,
      "outputs": [
        {
          "output_type": "error",
          "ename": "ValueError",
          "evalue": "ignored",
          "traceback": [
            "\u001b[0;31m---------------------------------------------------------------------------\u001b[0m",
            "\u001b[0;31mValueError\u001b[0m                                Traceback (most recent call last)",
            "\u001b[0;32m<ipython-input-116-6c51dc20cbc6>\u001b[0m in \u001b[0;36m<module>\u001b[0;34m()\u001b[0m\n\u001b[0;32m----> 1\u001b[0;31m \u001b[0mmodel\u001b[0m\u001b[0;34m.\u001b[0m\u001b[0mpredict\u001b[0m\u001b[0;34m(\u001b[0m\u001b[0mnp\u001b[0m\u001b[0;34m.\u001b[0m\u001b[0marray\u001b[0m\u001b[0;34m(\u001b[0m\u001b[0mX_t\u001b[0m\u001b[0;34m[\u001b[0m\u001b[0;36m0\u001b[0m\u001b[0;34m]\u001b[0m\u001b[0;34m)\u001b[0m\u001b[0;34m)\u001b[0m\u001b[0;34m\u001b[0m\u001b[0;34m\u001b[0m\u001b[0m\n\u001b[0m",
            "\u001b[0;32m/usr/local/lib/python3.6/dist-packages/keras/engine/training.py\u001b[0m in \u001b[0;36mpredict\u001b[0;34m(self, x, batch_size, verbose, steps, callbacks, max_queue_size, workers, use_multiprocessing)\u001b[0m\n\u001b[1;32m   1439\u001b[0m \u001b[0;34m\u001b[0m\u001b[0m\n\u001b[1;32m   1440\u001b[0m         \u001b[0;31m# Case 2: Symbolic tensors or Numpy array-like.\u001b[0m\u001b[0;34m\u001b[0m\u001b[0;34m\u001b[0m\u001b[0;34m\u001b[0m\u001b[0m\n\u001b[0;32m-> 1441\u001b[0;31m         \u001b[0mx\u001b[0m\u001b[0;34m,\u001b[0m \u001b[0m_\u001b[0m\u001b[0;34m,\u001b[0m \u001b[0m_\u001b[0m \u001b[0;34m=\u001b[0m \u001b[0mself\u001b[0m\u001b[0;34m.\u001b[0m\u001b[0m_standardize_user_data\u001b[0m\u001b[0;34m(\u001b[0m\u001b[0mx\u001b[0m\u001b[0;34m)\u001b[0m\u001b[0;34m\u001b[0m\u001b[0;34m\u001b[0m\u001b[0m\n\u001b[0m\u001b[1;32m   1442\u001b[0m         \u001b[0;32mif\u001b[0m \u001b[0mself\u001b[0m\u001b[0;34m.\u001b[0m\u001b[0mstateful\u001b[0m\u001b[0;34m:\u001b[0m\u001b[0;34m\u001b[0m\u001b[0;34m\u001b[0m\u001b[0m\n\u001b[1;32m   1443\u001b[0m             \u001b[0;32mif\u001b[0m \u001b[0mx\u001b[0m\u001b[0;34m[\u001b[0m\u001b[0;36m0\u001b[0m\u001b[0;34m]\u001b[0m\u001b[0;34m.\u001b[0m\u001b[0mshape\u001b[0m\u001b[0;34m[\u001b[0m\u001b[0;36m0\u001b[0m\u001b[0;34m]\u001b[0m \u001b[0;34m>\u001b[0m \u001b[0mbatch_size\u001b[0m \u001b[0;32mand\u001b[0m \u001b[0mx\u001b[0m\u001b[0;34m[\u001b[0m\u001b[0;36m0\u001b[0m\u001b[0;34m]\u001b[0m\u001b[0;34m.\u001b[0m\u001b[0mshape\u001b[0m\u001b[0;34m[\u001b[0m\u001b[0;36m0\u001b[0m\u001b[0;34m]\u001b[0m \u001b[0;34m%\u001b[0m \u001b[0mbatch_size\u001b[0m \u001b[0;34m!=\u001b[0m \u001b[0;36m0\u001b[0m\u001b[0;34m:\u001b[0m\u001b[0;34m\u001b[0m\u001b[0;34m\u001b[0m\u001b[0m\n",
            "\u001b[0;32m/usr/local/lib/python3.6/dist-packages/keras/engine/training.py\u001b[0m in \u001b[0;36m_standardize_user_data\u001b[0;34m(self, x, y, sample_weight, class_weight, check_array_lengths, batch_size)\u001b[0m\n\u001b[1;32m    577\u001b[0m             \u001b[0mfeed_input_shapes\u001b[0m\u001b[0;34m,\u001b[0m\u001b[0;34m\u001b[0m\u001b[0;34m\u001b[0m\u001b[0m\n\u001b[1;32m    578\u001b[0m             \u001b[0mcheck_batch_axis\u001b[0m\u001b[0;34m=\u001b[0m\u001b[0;32mFalse\u001b[0m\u001b[0;34m,\u001b[0m  \u001b[0;31m# Don't enforce the batch size.\u001b[0m\u001b[0;34m\u001b[0m\u001b[0;34m\u001b[0m\u001b[0m\n\u001b[0;32m--> 579\u001b[0;31m             exception_prefix='input')\n\u001b[0m\u001b[1;32m    580\u001b[0m \u001b[0;34m\u001b[0m\u001b[0m\n\u001b[1;32m    581\u001b[0m         \u001b[0;32mif\u001b[0m \u001b[0my\u001b[0m \u001b[0;32mis\u001b[0m \u001b[0;32mnot\u001b[0m \u001b[0;32mNone\u001b[0m\u001b[0;34m:\u001b[0m\u001b[0;34m\u001b[0m\u001b[0;34m\u001b[0m\u001b[0m\n",
            "\u001b[0;32m/usr/local/lib/python3.6/dist-packages/keras/engine/training_utils.py\u001b[0m in \u001b[0;36mstandardize_input_data\u001b[0;34m(data, names, shapes, check_batch_axis, exception_prefix)\u001b[0m\n\u001b[1;32m    107\u001b[0m                 \u001b[0;34m'Expected to see '\u001b[0m \u001b[0;34m+\u001b[0m \u001b[0mstr\u001b[0m\u001b[0;34m(\u001b[0m\u001b[0mlen\u001b[0m\u001b[0;34m(\u001b[0m\u001b[0mnames\u001b[0m\u001b[0;34m)\u001b[0m\u001b[0;34m)\u001b[0m \u001b[0;34m+\u001b[0m \u001b[0;34m' array(s), '\u001b[0m\u001b[0;34m\u001b[0m\u001b[0;34m\u001b[0m\u001b[0m\n\u001b[1;32m    108\u001b[0m                 \u001b[0;34m'but instead got the following list of '\u001b[0m \u001b[0;34m+\u001b[0m\u001b[0;34m\u001b[0m\u001b[0;34m\u001b[0m\u001b[0m\n\u001b[0;32m--> 109\u001b[0;31m                 str(len(data)) + ' arrays: ' + str(data)[:200] + '...')\n\u001b[0m\u001b[1;32m    110\u001b[0m         \u001b[0;32melif\u001b[0m \u001b[0mlen\u001b[0m\u001b[0;34m(\u001b[0m\u001b[0mnames\u001b[0m\u001b[0;34m)\u001b[0m \u001b[0;34m>\u001b[0m \u001b[0;36m1\u001b[0m\u001b[0;34m:\u001b[0m\u001b[0;34m\u001b[0m\u001b[0;34m\u001b[0m\u001b[0m\n\u001b[1;32m    111\u001b[0m             raise ValueError(\n",
            "\u001b[0;31mValueError\u001b[0m: Error when checking model input: the list of Numpy arrays that you are passing to your model is not the size the model expected. Expected to see 2 array(s), but instead got the following list of 1 arrays: [array([[2894],\n       [5910],\n       [ 429],\n       [1416],\n       [1134],\n       [  54],\n       [   9],\n       [   4],\n       [ 162],\n       [  91],\n       [  18],\n       [ 232],\n       [  27],\n    ..."
          ]
        }
      ]
    },
    {
      "cell_type": "code",
      "metadata": {
        "id": "y64XYPPAbf7J",
        "colab_type": "code",
        "colab": {}
      },
      "source": [
        "def decode_sequence(input_seq):\n",
        "    # Encode the input as state vectors.\n",
        "    states_value = encoder_model.predict(input_seq)\n",
        "\n",
        "    # Generate empty target sequence of length 1.\n",
        "    target_seq = np.zeros((1, maxlen_output))\n",
        "    print(target_seq.shape)\n",
        "    # Populate the first character of target sequence with the start character.\n",
        "    target_seq[0] = dict_t['<s>']\n",
        "\n",
        "    # Sampling loop for a batch of sequences\n",
        "    # (to simplify, here we assume a batch of size 1).\n",
        "    stop_condition = False\n",
        "    decoded_sentence = ''\n",
        "    while not stop_condition:\n",
        "        output_tokens, h, c = decoder_model.predict(\n",
        "            [target_seq] + states_value)\n",
        "        # Sample a token\n",
        "        sampled_token_index = np.argmax(output_tokens[0, -1, :])\n",
        "        sampled_char = rev_dict_t[sampled_token_index]\n",
        "        decoded_sentence += sampled_char\n",
        "\n",
        "        # Exit condition: either hit max length\n",
        "        # or find stop character.\n",
        "        if (sampled_char == '</s>' or\n",
        "           len(decoded_sentence) > max_decoder_seq_length):\n",
        "            stop_condition = True\n",
        "\n",
        "        # Update the target sequence (of length 1).\n",
        "        target_seq = np.zeros((1, 1, num_decoder_tokens))\n",
        "        target_seq[0, 0, sampled_token_index] = 1.\n",
        "\n",
        "        # Update states\n",
        "        states_value = [h, c]\n",
        "\n",
        "    return decoded_sentence"
      ],
      "execution_count": 0,
      "outputs": []
    },
    {
      "cell_type": "code",
      "metadata": {
        "id": "1ctdIB1kc1rB",
        "colab_type": "code",
        "outputId": "e38365af-8e39-4f09-9f80-944142bac2d0",
        "colab": {
          "base_uri": "https://localhost:8080/",
          "height": 106
        }
      },
      "source": [
        "X_t[0]"
      ],
      "execution_count": 0,
      "outputs": [
        {
          "output_type": "execute_result",
          "data": {
            "text/plain": [
              "array([2894, 5910,  429, 1416, 1134,   54,    9,    4,  162,   91,   18,\n",
              "        232,   27,  100,   16,  396,  339,   35,  655,  857,   48,   59,\n",
              "         42,    6,    2,  478,  290,  233,   22,   17,  232,  141,  544,\n",
              "        647,  221,  761,  655, 2895,  857,   48,   59,    4,  328,  465,\n",
              "          3, 1029,  232,  647,  221,  761], dtype=int32)"
            ]
          },
          "metadata": {
            "tags": []
          },
          "execution_count": 111
        }
      ]
    },
    {
      "cell_type": "code",
      "metadata": {
        "id": "XGicgYv3ckf6",
        "colab_type": "code",
        "outputId": "32acf0d4-f6e5-4266-c11b-b822bb0665db",
        "colab": {
          "base_uri": "https://localhost:8080/",
          "height": 728
        }
      },
      "source": [
        "decode_sequence(X_t[:64])"
      ],
      "execution_count": 0,
      "outputs": [
        {
          "output_type": "stream",
          "text": [
            "(1, 21)\n"
          ],
          "name": "stdout"
        },
        {
          "output_type": "error",
          "ename": "ValueError",
          "evalue": "ignored",
          "traceback": [
            "\u001b[0;31m---------------------------------------------------------------------------\u001b[0m",
            "\u001b[0;31mValueError\u001b[0m                                Traceback (most recent call last)",
            "\u001b[0;32m<ipython-input-112-008ae9d849cf>\u001b[0m in \u001b[0;36m<module>\u001b[0;34m()\u001b[0m\n\u001b[0;32m----> 1\u001b[0;31m \u001b[0mdecode_sequence\u001b[0m\u001b[0;34m(\u001b[0m\u001b[0mX_t\u001b[0m\u001b[0;34m[\u001b[0m\u001b[0;34m:\u001b[0m\u001b[0;36m64\u001b[0m\u001b[0;34m]\u001b[0m\u001b[0;34m)\u001b[0m\u001b[0;34m\u001b[0m\u001b[0;34m\u001b[0m\u001b[0m\n\u001b[0m",
            "\u001b[0;32m<ipython-input-110-264c81565bb8>\u001b[0m in \u001b[0;36mdecode_sequence\u001b[0;34m(input_seq)\u001b[0m\n\u001b[1;32m     15\u001b[0m     \u001b[0;32mwhile\u001b[0m \u001b[0;32mnot\u001b[0m \u001b[0mstop_condition\u001b[0m\u001b[0;34m:\u001b[0m\u001b[0;34m\u001b[0m\u001b[0;34m\u001b[0m\u001b[0m\n\u001b[1;32m     16\u001b[0m         output_tokens, h, c = decoder_model.predict(\n\u001b[0;32m---> 17\u001b[0;31m             [target_seq] + states_value)\n\u001b[0m\u001b[1;32m     18\u001b[0m         \u001b[0;31m# Sample a token\u001b[0m\u001b[0;34m\u001b[0m\u001b[0;34m\u001b[0m\u001b[0;34m\u001b[0m\u001b[0m\n\u001b[1;32m     19\u001b[0m         \u001b[0msampled_token_index\u001b[0m \u001b[0;34m=\u001b[0m \u001b[0mnp\u001b[0m\u001b[0;34m.\u001b[0m\u001b[0margmax\u001b[0m\u001b[0;34m(\u001b[0m\u001b[0moutput_tokens\u001b[0m\u001b[0;34m[\u001b[0m\u001b[0;36m0\u001b[0m\u001b[0;34m,\u001b[0m \u001b[0;34m-\u001b[0m\u001b[0;36m1\u001b[0m\u001b[0;34m,\u001b[0m \u001b[0;34m:\u001b[0m\u001b[0;34m]\u001b[0m\u001b[0;34m)\u001b[0m\u001b[0;34m\u001b[0m\u001b[0;34m\u001b[0m\u001b[0m\n",
            "\u001b[0;32m/usr/local/lib/python3.6/dist-packages/keras/engine/training.py\u001b[0m in \u001b[0;36mpredict\u001b[0;34m(self, x, batch_size, verbose, steps, callbacks, max_queue_size, workers, use_multiprocessing)\u001b[0m\n\u001b[1;32m   1439\u001b[0m \u001b[0;34m\u001b[0m\u001b[0m\n\u001b[1;32m   1440\u001b[0m         \u001b[0;31m# Case 2: Symbolic tensors or Numpy array-like.\u001b[0m\u001b[0;34m\u001b[0m\u001b[0;34m\u001b[0m\u001b[0;34m\u001b[0m\u001b[0m\n\u001b[0;32m-> 1441\u001b[0;31m         \u001b[0mx\u001b[0m\u001b[0;34m,\u001b[0m \u001b[0m_\u001b[0m\u001b[0;34m,\u001b[0m \u001b[0m_\u001b[0m \u001b[0;34m=\u001b[0m \u001b[0mself\u001b[0m\u001b[0;34m.\u001b[0m\u001b[0m_standardize_user_data\u001b[0m\u001b[0;34m(\u001b[0m\u001b[0mx\u001b[0m\u001b[0;34m)\u001b[0m\u001b[0;34m\u001b[0m\u001b[0;34m\u001b[0m\u001b[0m\n\u001b[0m\u001b[1;32m   1442\u001b[0m         \u001b[0;32mif\u001b[0m \u001b[0mself\u001b[0m\u001b[0;34m.\u001b[0m\u001b[0mstateful\u001b[0m\u001b[0;34m:\u001b[0m\u001b[0;34m\u001b[0m\u001b[0;34m\u001b[0m\u001b[0m\n\u001b[1;32m   1443\u001b[0m             \u001b[0;32mif\u001b[0m \u001b[0mx\u001b[0m\u001b[0;34m[\u001b[0m\u001b[0;36m0\u001b[0m\u001b[0;34m]\u001b[0m\u001b[0;34m.\u001b[0m\u001b[0mshape\u001b[0m\u001b[0;34m[\u001b[0m\u001b[0;36m0\u001b[0m\u001b[0;34m]\u001b[0m \u001b[0;34m>\u001b[0m \u001b[0mbatch_size\u001b[0m \u001b[0;32mand\u001b[0m \u001b[0mx\u001b[0m\u001b[0;34m[\u001b[0m\u001b[0;36m0\u001b[0m\u001b[0;34m]\u001b[0m\u001b[0;34m.\u001b[0m\u001b[0mshape\u001b[0m\u001b[0;34m[\u001b[0m\u001b[0;36m0\u001b[0m\u001b[0;34m]\u001b[0m \u001b[0;34m%\u001b[0m \u001b[0mbatch_size\u001b[0m \u001b[0;34m!=\u001b[0m \u001b[0;36m0\u001b[0m\u001b[0;34m:\u001b[0m\u001b[0;34m\u001b[0m\u001b[0;34m\u001b[0m\u001b[0m\n",
            "\u001b[0;32m/usr/local/lib/python3.6/dist-packages/keras/engine/training.py\u001b[0m in \u001b[0;36m_standardize_user_data\u001b[0;34m(self, x, y, sample_weight, class_weight, check_array_lengths, batch_size)\u001b[0m\n\u001b[1;32m    577\u001b[0m             \u001b[0mfeed_input_shapes\u001b[0m\u001b[0;34m,\u001b[0m\u001b[0;34m\u001b[0m\u001b[0;34m\u001b[0m\u001b[0m\n\u001b[1;32m    578\u001b[0m             \u001b[0mcheck_batch_axis\u001b[0m\u001b[0;34m=\u001b[0m\u001b[0;32mFalse\u001b[0m\u001b[0;34m,\u001b[0m  \u001b[0;31m# Don't enforce the batch size.\u001b[0m\u001b[0;34m\u001b[0m\u001b[0;34m\u001b[0m\u001b[0m\n\u001b[0;32m--> 579\u001b[0;31m             exception_prefix='input')\n\u001b[0m\u001b[1;32m    580\u001b[0m \u001b[0;34m\u001b[0m\u001b[0m\n\u001b[1;32m    581\u001b[0m         \u001b[0;32mif\u001b[0m \u001b[0my\u001b[0m \u001b[0;32mis\u001b[0m \u001b[0;32mnot\u001b[0m \u001b[0;32mNone\u001b[0m\u001b[0;34m:\u001b[0m\u001b[0;34m\u001b[0m\u001b[0;34m\u001b[0m\u001b[0m\n",
            "\u001b[0;32m/usr/local/lib/python3.6/dist-packages/keras/engine/training_utils.py\u001b[0m in \u001b[0;36mstandardize_input_data\u001b[0;34m(data, names, shapes, check_batch_axis, exception_prefix)\u001b[0m\n\u001b[1;32m    133\u001b[0m                         \u001b[0;34m': expected '\u001b[0m \u001b[0;34m+\u001b[0m \u001b[0mnames\u001b[0m\u001b[0;34m[\u001b[0m\u001b[0mi\u001b[0m\u001b[0;34m]\u001b[0m \u001b[0;34m+\u001b[0m \u001b[0;34m' to have '\u001b[0m \u001b[0;34m+\u001b[0m\u001b[0;34m\u001b[0m\u001b[0;34m\u001b[0m\u001b[0m\n\u001b[1;32m    134\u001b[0m                         \u001b[0mstr\u001b[0m\u001b[0;34m(\u001b[0m\u001b[0mlen\u001b[0m\u001b[0;34m(\u001b[0m\u001b[0mshape\u001b[0m\u001b[0;34m)\u001b[0m\u001b[0;34m)\u001b[0m \u001b[0;34m+\u001b[0m \u001b[0;34m' dimensions, but got array '\u001b[0m\u001b[0;34m\u001b[0m\u001b[0;34m\u001b[0m\u001b[0m\n\u001b[0;32m--> 135\u001b[0;31m                         'with shape ' + str(data_shape))\n\u001b[0m\u001b[1;32m    136\u001b[0m                 \u001b[0;32mif\u001b[0m \u001b[0;32mnot\u001b[0m \u001b[0mcheck_batch_axis\u001b[0m\u001b[0;34m:\u001b[0m\u001b[0;34m\u001b[0m\u001b[0;34m\u001b[0m\u001b[0m\n\u001b[1;32m    137\u001b[0m                     \u001b[0mdata_shape\u001b[0m \u001b[0;34m=\u001b[0m \u001b[0mdata_shape\u001b[0m\u001b[0;34m[\u001b[0m\u001b[0;36m1\u001b[0m\u001b[0;34m:\u001b[0m\u001b[0;34m]\u001b[0m\u001b[0;34m\u001b[0m\u001b[0;34m\u001b[0m\u001b[0m\n",
            "\u001b[0;31mValueError\u001b[0m: Error when checking input: expected input_8 to have 3 dimensions, but got array with shape (1, 21)"
          ]
        }
      ]
    },
    {
      "cell_type": "markdown",
      "metadata": {
        "id": "p2dmKRXTkXNV",
        "colab_type": "text"
      },
      "source": [
        "## MODEL STH"
      ]
    },
    {
      "cell_type": "code",
      "metadata": {
        "id": "tusWvpC6kWWD",
        "colab_type": "code",
        "outputId": "47274a21-9bf4-4fcd-d010-ff1688526a0b",
        "colab": {
          "base_uri": "https://localhost:8080/",
          "height": 159
        }
      },
      "source": [
        "!pip install --upgrade Keras"
      ],
      "execution_count": 0,
      "outputs": [
        {
          "output_type": "stream",
          "text": [
            "Requirement already up-to-date: Keras in /usr/local/lib/python3.6/dist-packages (2.3.1)\n",
            "Requirement already satisfied, skipping upgrade: numpy>=1.9.1 in /usr/local/lib/python3.6/dist-packages (from Keras) (1.18.3)\n",
            "Requirement already satisfied, skipping upgrade: h5py in /usr/local/lib/python3.6/dist-packages (from Keras) (2.10.0)\n",
            "Requirement already satisfied, skipping upgrade: six>=1.9.0 in /usr/local/lib/python3.6/dist-packages (from Keras) (1.12.0)\n",
            "Requirement already satisfied, skipping upgrade: scipy>=0.14 in /usr/local/lib/python3.6/dist-packages (from Keras) (1.4.1)\n",
            "Requirement already satisfied, skipping upgrade: keras-applications>=1.0.6 in /usr/local/lib/python3.6/dist-packages (from Keras) (1.0.8)\n",
            "Requirement already satisfied, skipping upgrade: pyyaml in /usr/local/lib/python3.6/dist-packages (from Keras) (3.13)\n",
            "Requirement already satisfied, skipping upgrade: keras-preprocessing>=1.0.5 in /usr/local/lib/python3.6/dist-packages (from Keras) (1.1.0)\n"
          ],
          "name": "stdout"
        }
      ]
    },
    {
      "cell_type": "code",
      "metadata": {
        "id": "EZuTRYdAANpl",
        "colab_type": "code",
        "outputId": "97840430-82e7-4d74-c179-c6e028d774f3",
        "colab": {
          "base_uri": "https://localhost:8080/",
          "height": 35
        }
      },
      "source": [
        "%matplotlib inline\n",
        "\n",
        "try:\n",
        "  # %tensorflow_version only exists in Colab.\n",
        "  %tensorflow_version 2.x\n",
        "except Exception:\n",
        "  pass\n",
        "\n",
        "import tensorflow as tf\n",
        "print(tf.__version__)\n",
        "\n",
        "from tensorflow.keras.preprocessing.sequence import pad_sequences\n",
        "from tensorflow.keras.layers import Bidirectional, Concatenate, Permute, Dot, Input, LSTM, Multiply,Add\n",
        "from tensorflow.keras.layers import RepeatVector, Dense, Activation, Lambda, Embedding\n",
        "from tensorflow.keras.optimizers import Adam\n",
        "from tensorflow.keras.utils import to_categorical\n",
        "from tensorflow.keras.models import load_model, Model\n",
        "import tensorflow.keras.backend as K\n",
        "import numpy as np\n",
        "%matplotlib inline\n",
        "import random\n"
      ],
      "execution_count": 0,
      "outputs": [
        {
          "output_type": "stream",
          "text": [
            "2.2.0-rc3\n"
          ],
          "name": "stdout"
        }
      ]
    },
    {
      "cell_type": "code",
      "metadata": {
        "id": "LYEQ9IaQBCQo",
        "colab_type": "code",
        "outputId": "e52e4605-1d55-4e12-acab-028f9daad425",
        "colab": {
          "base_uri": "https://localhost:8080/",
          "height": 35
        }
      },
      "source": [
        "# maxlen = 100\n",
        "print(\"Max input length:\", maxlen)\n",
        "m=15000\n",
        "Tx=maxlen\n",
        "Ty=maxlen_output"
      ],
      "execution_count": 0,
      "outputs": [
        {
          "output_type": "stream",
          "text": [
            "Max input length: 50\n"
          ],
          "name": "stdout"
        }
      ]
    },
    {
      "cell_type": "code",
      "metadata": {
        "id": "7qgbT14ZAoC9",
        "colab_type": "code",
        "colab": {}
      },
      "source": [
        "from tensorflow.keras.activations import softmax\n",
        "def softMaxAxis1(x):\n",
        "    return softmax(x,axis=1)\n"
      ],
      "execution_count": 0,
      "outputs": []
    },
    {
      "cell_type": "code",
      "metadata": {
        "id": "9-lNf1WTAoQQ",
        "colab_type": "code",
        "colab": {}
      },
      "source": [
        "#These are global variables (shared layers)\n",
        "repeator = RepeatVector(Tx)\n",
        "concatenator = Concatenate(axis=-1)\n",
        "#Attention function###\n",
        "fattn_1 = Dense(10, activation = \"tanh\")\n",
        "fattn_2 = Dense(1, activation = \"relu\")\n",
        "###\n",
        "activator = Activation(softMaxAxis1, name='attention_scores') \n",
        "dotor = Dot(axes = 1) \n",
        "# เพื่อทำให้เป็น context vector"
      ],
      "execution_count": 0,
      "outputs": []
    },
    {
      "cell_type": "code",
      "metadata": {
        "id": "cgc171u7AsgM",
        "colab_type": "code",
        "colab": {}
      },
      "source": [
        "def one_step_attention(a, s_prev):\n",
        "\n",
        "    # Repeat the decoder hidden state to concat with encoder hidden states\n",
        "    s_prev = repeator(s_prev)\n",
        "    concat = concatenator([a,s_prev])\n",
        "    # attention function\n",
        "    e = fattn_1(concat)\n",
        "    energies =fattn_2(e)\n",
        "    # calculate attention_scores (softmax)\n",
        "    attention_scores = activator(energies)\n",
        "    #calculate a context vector\n",
        "    context = dotor([attention_scores,a])\n",
        "\n",
        "    return context"
      ],
      "execution_count": 0,
      "outputs": []
    },
    {
      "cell_type": "code",
      "metadata": {
        "id": "j5Liqd1NAs9h",
        "colab_type": "code",
        "colab": {}
      },
      "source": [
        "n_h = 32 #hidden dimensions for encoder \n",
        "n_s = 64 #hidden dimensions for decoder\n",
        "# output_vocab_size = len(output_chars)+1 #number of vocab is the same number of the vocab number \n",
        "output_vocab_size = 20000\n",
        "encoder_LSTM =  Bidirectional(LSTM(n_h, return_sequences=True),input_shape=(-1, Tx, n_h*2))\n",
        "decoder_LSTM_cell = LSTM(n_s, return_state = True) #decoder_LSTM_cell\n",
        "output_layer = Dense(output_vocab_size, activation=\"softmax\") #softmax output layer"
      ],
      "execution_count": 0,
      "outputs": []
    },
    {
      "cell_type": "code",
      "metadata": {
        "id": "lgdiChLPA2_v",
        "colab_type": "code",
        "colab": {}
      },
      "source": [
        "def model(Tx, Ty, n_h, n_s, vocab_size, machine_vocab_size):\n",
        "    \"\"\"\n",
        "    Arguments:\n",
        "    Tx -- length of the input sequence\n",
        "    Ty -- length of the output sequence\n",
        "    n_h -- hidden state size of the Bi-LSTM\n",
        "    n_s -- hidden state size of the post-attention LSTM\n",
        "    vocab_size -- size of the input vocab\n",
        "    output_vocab_size -- size of the output vocab\n",
        "\n",
        "    Returns:\n",
        "    model -- Keras model instance\n",
        "    \"\"\"\n",
        "    \n",
        "    # Define the input of your model\n",
        "    X = Input(shape=(Tx, vocab_size))\n",
        "    # Define hidden state and cell state for decoder_LSTM_Cell\n",
        "    s0 = Input(shape=(n_s,), name='s0')\n",
        "    c0 = Input(shape=(n_s,), name='c0')\n",
        "    s = s0\n",
        "    c = c0\n",
        "    \n",
        "    # Initialize empty list of outputs\n",
        "    outputs = list()\n",
        "\n",
        "    #Encoder Bi-LSTM\n",
        "    # h = Bidirectional(LSTM(n_h, return_sequences=True),input_shape=(-1, Tx, n_h*2))(X)\n",
        "    h = encoder_LSTM(X)\n",
        "    #Iterate for Ty steps (Decoding)\n",
        "    for t in range(Ty):\n",
        "    \n",
        "        #Perform one step of the attention mechanism to calculate the context vector at timestep t\n",
        "        context = one_step_attention(h, s)\n",
        "       \n",
        "        # Feed the context vector to the decoder LSTM cell\n",
        "        s, _, c = decoder_LSTM_cell(context,initial_state=[s,c])\n",
        "           \n",
        "        # Pass the decoder hidden output to the output layer (softmax)\n",
        "        out = output_layer(s)\n",
        "        \n",
        "        # Append an output list with the current output\n",
        "        outputs.append(out)\n",
        "    \n",
        "    #Create model instance\n",
        "    model = Model(inputs=[X,s0,c0],outputs=outputs)\n",
        "    \n",
        "    return model"
      ],
      "execution_count": 0,
      "outputs": []
    },
    {
      "cell_type": "code",
      "metadata": {
        "id": "pCQYI8BRB6y4",
        "colab_type": "code",
        "colab": {}
      },
      "source": [
        "model = model(Tx, Ty, n_h, n_s, output_vocab_size, output_vocab_size)"
      ],
      "execution_count": 0,
      "outputs": []
    },
    {
      "cell_type": "code",
      "metadata": {
        "id": "e5yAnz2mB7xk",
        "colab_type": "code",
        "outputId": "735ca227-742e-4e06-b124-075d2d520d38",
        "colab": {
          "base_uri": "https://localhost:8080/",
          "height": 1000
        }
      },
      "source": [
        "# from keras.utils import plot_model\n",
        "# plot_model(model, to_file='model.png',show_shapes=True)\n",
        "model.summary()"
      ],
      "execution_count": 0,
      "outputs": [
        {
          "output_type": "stream",
          "text": [
            "Model: \"model_2\"\n",
            "__________________________________________________________________________________________________\n",
            "Layer (type)                    Output Shape         Param #     Connected to                     \n",
            "==================================================================================================\n",
            "input_9 (InputLayer)            (None, 50, 20000)    0                                            \n",
            "__________________________________________________________________________________________________\n",
            "s0 (InputLayer)                 (None, 64)           0                                            \n",
            "__________________________________________________________________________________________________\n",
            "bidirectional_3 (Bidirectional) (None, 50, 64)       5128448     input_9[0][0]                    \n",
            "__________________________________________________________________________________________________\n",
            "repeat_vector_2 (RepeatVector)  (None, 50, 64)       0           s0[0][0]                         \n",
            "                                                                 lstm_94[0][0]                    \n",
            "                                                                 lstm_94[1][0]                    \n",
            "                                                                 lstm_94[2][0]                    \n",
            "                                                                 lstm_94[3][0]                    \n",
            "                                                                 lstm_94[4][0]                    \n",
            "                                                                 lstm_94[5][0]                    \n",
            "                                                                 lstm_94[6][0]                    \n",
            "                                                                 lstm_94[7][0]                    \n",
            "                                                                 lstm_94[8][0]                    \n",
            "                                                                 lstm_94[9][0]                    \n",
            "                                                                 lstm_94[10][0]                   \n",
            "                                                                 lstm_94[11][0]                   \n",
            "                                                                 lstm_94[12][0]                   \n",
            "                                                                 lstm_94[13][0]                   \n",
            "                                                                 lstm_94[14][0]                   \n",
            "                                                                 lstm_94[15][0]                   \n",
            "                                                                 lstm_94[16][0]                   \n",
            "                                                                 lstm_94[17][0]                   \n",
            "                                                                 lstm_94[18][0]                   \n",
            "__________________________________________________________________________________________________\n",
            "concatenate_3 (Concatenate)     (None, 50, 128)      0           bidirectional_3[0][0]            \n",
            "                                                                 repeat_vector_2[0][0]            \n",
            "                                                                 bidirectional_3[0][0]            \n",
            "                                                                 repeat_vector_2[1][0]            \n",
            "                                                                 bidirectional_3[0][0]            \n",
            "                                                                 repeat_vector_2[2][0]            \n",
            "                                                                 bidirectional_3[0][0]            \n",
            "                                                                 repeat_vector_2[3][0]            \n",
            "                                                                 bidirectional_3[0][0]            \n",
            "                                                                 repeat_vector_2[4][0]            \n",
            "                                                                 bidirectional_3[0][0]            \n",
            "                                                                 repeat_vector_2[5][0]            \n",
            "                                                                 bidirectional_3[0][0]            \n",
            "                                                                 repeat_vector_2[6][0]            \n",
            "                                                                 bidirectional_3[0][0]            \n",
            "                                                                 repeat_vector_2[7][0]            \n",
            "                                                                 bidirectional_3[0][0]            \n",
            "                                                                 repeat_vector_2[8][0]            \n",
            "                                                                 bidirectional_3[0][0]            \n",
            "                                                                 repeat_vector_2[9][0]            \n",
            "                                                                 bidirectional_3[0][0]            \n",
            "                                                                 repeat_vector_2[10][0]           \n",
            "                                                                 bidirectional_3[0][0]            \n",
            "                                                                 repeat_vector_2[11][0]           \n",
            "                                                                 bidirectional_3[0][0]            \n",
            "                                                                 repeat_vector_2[12][0]           \n",
            "                                                                 bidirectional_3[0][0]            \n",
            "                                                                 repeat_vector_2[13][0]           \n",
            "                                                                 bidirectional_3[0][0]            \n",
            "                                                                 repeat_vector_2[14][0]           \n",
            "                                                                 bidirectional_3[0][0]            \n",
            "                                                                 repeat_vector_2[15][0]           \n",
            "                                                                 bidirectional_3[0][0]            \n",
            "                                                                 repeat_vector_2[16][0]           \n",
            "                                                                 bidirectional_3[0][0]            \n",
            "                                                                 repeat_vector_2[17][0]           \n",
            "                                                                 bidirectional_3[0][0]            \n",
            "                                                                 repeat_vector_2[18][0]           \n",
            "                                                                 bidirectional_3[0][0]            \n",
            "                                                                 repeat_vector_2[19][0]           \n",
            "__________________________________________________________________________________________________\n",
            "dense_54 (Dense)                (None, 50, 10)       1290        concatenate_3[0][0]              \n",
            "                                                                 concatenate_3[1][0]              \n",
            "                                                                 concatenate_3[2][0]              \n",
            "                                                                 concatenate_3[3][0]              \n",
            "                                                                 concatenate_3[4][0]              \n",
            "                                                                 concatenate_3[5][0]              \n",
            "                                                                 concatenate_3[6][0]              \n",
            "                                                                 concatenate_3[7][0]              \n",
            "                                                                 concatenate_3[8][0]              \n",
            "                                                                 concatenate_3[9][0]              \n",
            "                                                                 concatenate_3[10][0]             \n",
            "                                                                 concatenate_3[11][0]             \n",
            "                                                                 concatenate_3[12][0]             \n",
            "                                                                 concatenate_3[13][0]             \n",
            "                                                                 concatenate_3[14][0]             \n",
            "                                                                 concatenate_3[15][0]             \n",
            "                                                                 concatenate_3[16][0]             \n",
            "                                                                 concatenate_3[17][0]             \n",
            "                                                                 concatenate_3[18][0]             \n",
            "                                                                 concatenate_3[19][0]             \n",
            "__________________________________________________________________________________________________\n",
            "dense_55 (Dense)                (None, 50, 1)        11          dense_54[0][0]                   \n",
            "                                                                 dense_54[1][0]                   \n",
            "                                                                 dense_54[2][0]                   \n",
            "                                                                 dense_54[3][0]                   \n",
            "                                                                 dense_54[4][0]                   \n",
            "                                                                 dense_54[5][0]                   \n",
            "                                                                 dense_54[6][0]                   \n",
            "                                                                 dense_54[7][0]                   \n",
            "                                                                 dense_54[8][0]                   \n",
            "                                                                 dense_54[9][0]                   \n",
            "                                                                 dense_54[10][0]                  \n",
            "                                                                 dense_54[11][0]                  \n",
            "                                                                 dense_54[12][0]                  \n",
            "                                                                 dense_54[13][0]                  \n",
            "                                                                 dense_54[14][0]                  \n",
            "                                                                 dense_54[15][0]                  \n",
            "                                                                 dense_54[16][0]                  \n",
            "                                                                 dense_54[17][0]                  \n",
            "                                                                 dense_54[18][0]                  \n",
            "                                                                 dense_54[19][0]                  \n",
            "__________________________________________________________________________________________________\n",
            "attention_scores (Activation)   (None, 50, 1)        0           dense_55[0][0]                   \n",
            "                                                                 dense_55[1][0]                   \n",
            "                                                                 dense_55[2][0]                   \n",
            "                                                                 dense_55[3][0]                   \n",
            "                                                                 dense_55[4][0]                   \n",
            "                                                                 dense_55[5][0]                   \n",
            "                                                                 dense_55[6][0]                   \n",
            "                                                                 dense_55[7][0]                   \n",
            "                                                                 dense_55[8][0]                   \n",
            "                                                                 dense_55[9][0]                   \n",
            "                                                                 dense_55[10][0]                  \n",
            "                                                                 dense_55[11][0]                  \n",
            "                                                                 dense_55[12][0]                  \n",
            "                                                                 dense_55[13][0]                  \n",
            "                                                                 dense_55[14][0]                  \n",
            "                                                                 dense_55[15][0]                  \n",
            "                                                                 dense_55[16][0]                  \n",
            "                                                                 dense_55[17][0]                  \n",
            "                                                                 dense_55[18][0]                  \n",
            "                                                                 dense_55[19][0]                  \n",
            "__________________________________________________________________________________________________\n",
            "dot_2 (Dot)                     (None, 1, 64)        0           attention_scores[0][0]           \n",
            "                                                                 bidirectional_3[0][0]            \n",
            "                                                                 attention_scores[1][0]           \n",
            "                                                                 bidirectional_3[0][0]            \n",
            "                                                                 attention_scores[2][0]           \n",
            "                                                                 bidirectional_3[0][0]            \n",
            "                                                                 attention_scores[3][0]           \n",
            "                                                                 bidirectional_3[0][0]            \n",
            "                                                                 attention_scores[4][0]           \n",
            "                                                                 bidirectional_3[0][0]            \n",
            "                                                                 attention_scores[5][0]           \n",
            "                                                                 bidirectional_3[0][0]            \n",
            "                                                                 attention_scores[6][0]           \n",
            "                                                                 bidirectional_3[0][0]            \n",
            "                                                                 attention_scores[7][0]           \n",
            "                                                                 bidirectional_3[0][0]            \n",
            "                                                                 attention_scores[8][0]           \n",
            "                                                                 bidirectional_3[0][0]            \n",
            "                                                                 attention_scores[9][0]           \n",
            "                                                                 bidirectional_3[0][0]            \n",
            "                                                                 attention_scores[10][0]          \n",
            "                                                                 bidirectional_3[0][0]            \n",
            "                                                                 attention_scores[11][0]          \n",
            "                                                                 bidirectional_3[0][0]            \n",
            "                                                                 attention_scores[12][0]          \n",
            "                                                                 bidirectional_3[0][0]            \n",
            "                                                                 attention_scores[13][0]          \n",
            "                                                                 bidirectional_3[0][0]            \n",
            "                                                                 attention_scores[14][0]          \n",
            "                                                                 bidirectional_3[0][0]            \n",
            "                                                                 attention_scores[15][0]          \n",
            "                                                                 bidirectional_3[0][0]            \n",
            "                                                                 attention_scores[16][0]          \n",
            "                                                                 bidirectional_3[0][0]            \n",
            "                                                                 attention_scores[17][0]          \n",
            "                                                                 bidirectional_3[0][0]            \n",
            "                                                                 attention_scores[18][0]          \n",
            "                                                                 bidirectional_3[0][0]            \n",
            "                                                                 attention_scores[19][0]          \n",
            "                                                                 bidirectional_3[0][0]            \n",
            "__________________________________________________________________________________________________\n",
            "c0 (InputLayer)                 (None, 64)           0                                            \n",
            "__________________________________________________________________________________________________\n",
            "lstm_94 (LSTM)                  [(None, 64), (None,  33024       dot_2[0][0]                      \n",
            "                                                                 s0[0][0]                         \n",
            "                                                                 c0[0][0]                         \n",
            "                                                                 dot_2[1][0]                      \n",
            "                                                                 lstm_94[0][0]                    \n",
            "                                                                 lstm_94[0][2]                    \n",
            "                                                                 dot_2[2][0]                      \n",
            "                                                                 lstm_94[1][0]                    \n",
            "                                                                 lstm_94[1][2]                    \n",
            "                                                                 dot_2[3][0]                      \n",
            "                                                                 lstm_94[2][0]                    \n",
            "                                                                 lstm_94[2][2]                    \n",
            "                                                                 dot_2[4][0]                      \n",
            "                                                                 lstm_94[3][0]                    \n",
            "                                                                 lstm_94[3][2]                    \n",
            "                                                                 dot_2[5][0]                      \n",
            "                                                                 lstm_94[4][0]                    \n",
            "                                                                 lstm_94[4][2]                    \n",
            "                                                                 dot_2[6][0]                      \n",
            "                                                                 lstm_94[5][0]                    \n",
            "                                                                 lstm_94[5][2]                    \n",
            "                                                                 dot_2[7][0]                      \n",
            "                                                                 lstm_94[6][0]                    \n",
            "                                                                 lstm_94[6][2]                    \n",
            "                                                                 dot_2[8][0]                      \n",
            "                                                                 lstm_94[7][0]                    \n",
            "                                                                 lstm_94[7][2]                    \n",
            "                                                                 dot_2[9][0]                      \n",
            "                                                                 lstm_94[8][0]                    \n",
            "                                                                 lstm_94[8][2]                    \n",
            "                                                                 dot_2[10][0]                     \n",
            "                                                                 lstm_94[9][0]                    \n",
            "                                                                 lstm_94[9][2]                    \n",
            "                                                                 dot_2[11][0]                     \n",
            "                                                                 lstm_94[10][0]                   \n",
            "                                                                 lstm_94[10][2]                   \n",
            "                                                                 dot_2[12][0]                     \n",
            "                                                                 lstm_94[11][0]                   \n",
            "                                                                 lstm_94[11][2]                   \n",
            "                                                                 dot_2[13][0]                     \n",
            "                                                                 lstm_94[12][0]                   \n",
            "                                                                 lstm_94[12][2]                   \n",
            "                                                                 dot_2[14][0]                     \n",
            "                                                                 lstm_94[13][0]                   \n",
            "                                                                 lstm_94[13][2]                   \n",
            "                                                                 dot_2[15][0]                     \n",
            "                                                                 lstm_94[14][0]                   \n",
            "                                                                 lstm_94[14][2]                   \n",
            "                                                                 dot_2[16][0]                     \n",
            "                                                                 lstm_94[15][0]                   \n",
            "                                                                 lstm_94[15][2]                   \n",
            "                                                                 dot_2[17][0]                     \n",
            "                                                                 lstm_94[16][0]                   \n",
            "                                                                 lstm_94[16][2]                   \n",
            "                                                                 dot_2[18][0]                     \n",
            "                                                                 lstm_94[17][0]                   \n",
            "                                                                 lstm_94[17][2]                   \n",
            "                                                                 dot_2[19][0]                     \n",
            "                                                                 lstm_94[18][0]                   \n",
            "                                                                 lstm_94[18][2]                   \n",
            "__________________________________________________________________________________________________\n",
            "dense_56 (Dense)                (None, 20000)        1300000     lstm_94[0][0]                    \n",
            "                                                                 lstm_94[1][0]                    \n",
            "                                                                 lstm_94[2][0]                    \n",
            "                                                                 lstm_94[3][0]                    \n",
            "                                                                 lstm_94[4][0]                    \n",
            "                                                                 lstm_94[5][0]                    \n",
            "                                                                 lstm_94[6][0]                    \n",
            "                                                                 lstm_94[7][0]                    \n",
            "                                                                 lstm_94[8][0]                    \n",
            "                                                                 lstm_94[9][0]                    \n",
            "                                                                 lstm_94[10][0]                   \n",
            "                                                                 lstm_94[11][0]                   \n",
            "                                                                 lstm_94[12][0]                   \n",
            "                                                                 lstm_94[13][0]                   \n",
            "                                                                 lstm_94[14][0]                   \n",
            "                                                                 lstm_94[15][0]                   \n",
            "                                                                 lstm_94[16][0]                   \n",
            "                                                                 lstm_94[17][0]                   \n",
            "                                                                 lstm_94[18][0]                   \n",
            "                                                                 lstm_94[19][0]                   \n",
            "==================================================================================================\n",
            "Total params: 6,462,773\n",
            "Trainable params: 6,462,773\n",
            "Non-trainable params: 0\n",
            "__________________________________________________________________________________________________\n"
          ],
          "name": "stdout"
        }
      ]
    },
    {
      "cell_type": "code",
      "metadata": {
        "id": "BjJisKNtCPKJ",
        "colab_type": "code",
        "outputId": "ed0dfd84-337a-4ad7-a47b-3ebe7fc379f2",
        "colab": {
          "base_uri": "https://localhost:8080/",
          "height": 710
        }
      },
      "source": [
        "model.fit_generator(generator=training_generator)"
      ],
      "execution_count": 0,
      "outputs": [
        {
          "output_type": "error",
          "ename": "RuntimeError",
          "evalue": "ignored",
          "traceback": [
            "\u001b[0;31m---------------------------------------------------------------------------\u001b[0m",
            "\u001b[0;31mRuntimeError\u001b[0m                              Traceback (most recent call last)",
            "\u001b[0;32m<ipython-input-213-582d7875c1f1>\u001b[0m in \u001b[0;36m<module>\u001b[0;34m()\u001b[0m\n\u001b[0;32m----> 1\u001b[0;31m \u001b[0mmodel\u001b[0m\u001b[0;34m.\u001b[0m\u001b[0mfit_generator\u001b[0m\u001b[0;34m(\u001b[0m\u001b[0mgenerator\u001b[0m\u001b[0;34m=\u001b[0m\u001b[0mtraining_generator\u001b[0m\u001b[0;34m)\u001b[0m\u001b[0;34m\u001b[0m\u001b[0;34m\u001b[0m\u001b[0m\n\u001b[0m",
            "\u001b[0;32m/usr/local/lib/python3.6/dist-packages/keras/legacy/interfaces.py\u001b[0m in \u001b[0;36mwrapper\u001b[0;34m(*args, **kwargs)\u001b[0m\n\u001b[1;32m     89\u001b[0m                 warnings.warn('Update your `' + object_name + '` call to the ' +\n\u001b[1;32m     90\u001b[0m                               'Keras 2 API: ' + signature, stacklevel=2)\n\u001b[0;32m---> 91\u001b[0;31m             \u001b[0;32mreturn\u001b[0m \u001b[0mfunc\u001b[0m\u001b[0;34m(\u001b[0m\u001b[0;34m*\u001b[0m\u001b[0margs\u001b[0m\u001b[0;34m,\u001b[0m \u001b[0;34m**\u001b[0m\u001b[0mkwargs\u001b[0m\u001b[0;34m)\u001b[0m\u001b[0;34m\u001b[0m\u001b[0;34m\u001b[0m\u001b[0m\n\u001b[0m\u001b[1;32m     92\u001b[0m         \u001b[0mwrapper\u001b[0m\u001b[0;34m.\u001b[0m\u001b[0m_original_function\u001b[0m \u001b[0;34m=\u001b[0m \u001b[0mfunc\u001b[0m\u001b[0;34m\u001b[0m\u001b[0;34m\u001b[0m\u001b[0m\n\u001b[1;32m     93\u001b[0m         \u001b[0;32mreturn\u001b[0m \u001b[0mwrapper\u001b[0m\u001b[0;34m\u001b[0m\u001b[0;34m\u001b[0m\u001b[0m\n",
            "\u001b[0;32m/usr/local/lib/python3.6/dist-packages/keras/engine/training.py\u001b[0m in \u001b[0;36mfit_generator\u001b[0;34m(self, generator, steps_per_epoch, epochs, verbose, callbacks, validation_data, validation_steps, validation_freq, class_weight, max_queue_size, workers, use_multiprocessing, shuffle, initial_epoch)\u001b[0m\n\u001b[1;32m   1730\u001b[0m             \u001b[0muse_multiprocessing\u001b[0m\u001b[0;34m=\u001b[0m\u001b[0muse_multiprocessing\u001b[0m\u001b[0;34m,\u001b[0m\u001b[0;34m\u001b[0m\u001b[0;34m\u001b[0m\u001b[0m\n\u001b[1;32m   1731\u001b[0m             \u001b[0mshuffle\u001b[0m\u001b[0;34m=\u001b[0m\u001b[0mshuffle\u001b[0m\u001b[0;34m,\u001b[0m\u001b[0;34m\u001b[0m\u001b[0;34m\u001b[0m\u001b[0m\n\u001b[0;32m-> 1732\u001b[0;31m             initial_epoch=initial_epoch)\n\u001b[0m\u001b[1;32m   1733\u001b[0m \u001b[0;34m\u001b[0m\u001b[0m\n\u001b[1;32m   1734\u001b[0m     \u001b[0;34m@\u001b[0m\u001b[0minterfaces\u001b[0m\u001b[0;34m.\u001b[0m\u001b[0mlegacy_generator_methods_support\u001b[0m\u001b[0;34m\u001b[0m\u001b[0;34m\u001b[0m\u001b[0m\n",
            "\u001b[0;32m/usr/local/lib/python3.6/dist-packages/keras/engine/training_generator.py\u001b[0m in \u001b[0;36mfit_generator\u001b[0;34m(model, generator, steps_per_epoch, epochs, verbose, callbacks, validation_data, validation_steps, validation_freq, class_weight, max_queue_size, workers, use_multiprocessing, shuffle, initial_epoch)\u001b[0m\n\u001b[1;32m     40\u001b[0m \u001b[0;34m\u001b[0m\u001b[0m\n\u001b[1;32m     41\u001b[0m     \u001b[0mdo_validation\u001b[0m \u001b[0;34m=\u001b[0m \u001b[0mbool\u001b[0m\u001b[0;34m(\u001b[0m\u001b[0mvalidation_data\u001b[0m\u001b[0;34m)\u001b[0m\u001b[0;34m\u001b[0m\u001b[0;34m\u001b[0m\u001b[0m\n\u001b[0;32m---> 42\u001b[0;31m     \u001b[0mmodel\u001b[0m\u001b[0;34m.\u001b[0m\u001b[0m_make_train_function\u001b[0m\u001b[0;34m(\u001b[0m\u001b[0;34m)\u001b[0m\u001b[0;34m\u001b[0m\u001b[0;34m\u001b[0m\u001b[0m\n\u001b[0m\u001b[1;32m     43\u001b[0m     \u001b[0;32mif\u001b[0m \u001b[0mdo_validation\u001b[0m\u001b[0;34m:\u001b[0m\u001b[0;34m\u001b[0m\u001b[0;34m\u001b[0m\u001b[0m\n\u001b[1;32m     44\u001b[0m         \u001b[0mmodel\u001b[0m\u001b[0;34m.\u001b[0m\u001b[0m_make_test_function\u001b[0m\u001b[0;34m(\u001b[0m\u001b[0;34m)\u001b[0m\u001b[0;34m\u001b[0m\u001b[0;34m\u001b[0m\u001b[0m\n",
            "\u001b[0;32m/usr/local/lib/python3.6/dist-packages/keras/engine/training.py\u001b[0m in \u001b[0;36m_make_train_function\u001b[0;34m(self)\u001b[0m\n\u001b[1;32m    301\u001b[0m     \u001b[0;32mdef\u001b[0m \u001b[0m_make_train_function\u001b[0m\u001b[0;34m(\u001b[0m\u001b[0mself\u001b[0m\u001b[0;34m)\u001b[0m\u001b[0;34m:\u001b[0m\u001b[0;34m\u001b[0m\u001b[0;34m\u001b[0m\u001b[0m\n\u001b[1;32m    302\u001b[0m         \u001b[0;32mif\u001b[0m \u001b[0;32mnot\u001b[0m \u001b[0mhasattr\u001b[0m\u001b[0;34m(\u001b[0m\u001b[0mself\u001b[0m\u001b[0;34m,\u001b[0m \u001b[0;34m'train_function'\u001b[0m\u001b[0;34m)\u001b[0m\u001b[0;34m:\u001b[0m\u001b[0;34m\u001b[0m\u001b[0;34m\u001b[0m\u001b[0m\n\u001b[0;32m--> 303\u001b[0;31m             \u001b[0;32mraise\u001b[0m \u001b[0mRuntimeError\u001b[0m\u001b[0;34m(\u001b[0m\u001b[0;34m'You must compile your model before using it.'\u001b[0m\u001b[0;34m)\u001b[0m\u001b[0;34m\u001b[0m\u001b[0;34m\u001b[0m\u001b[0m\n\u001b[0m\u001b[1;32m    304\u001b[0m         \u001b[0mself\u001b[0m\u001b[0;34m.\u001b[0m\u001b[0m_check_trainable_weights_consistency\u001b[0m\u001b[0;34m(\u001b[0m\u001b[0;34m)\u001b[0m\u001b[0;34m\u001b[0m\u001b[0;34m\u001b[0m\u001b[0m\n\u001b[1;32m    305\u001b[0m         \u001b[0;32mif\u001b[0m \u001b[0mself\u001b[0m\u001b[0;34m.\u001b[0m\u001b[0mtrain_function\u001b[0m \u001b[0;32mis\u001b[0m \u001b[0;32mNone\u001b[0m\u001b[0;34m:\u001b[0m\u001b[0;34m\u001b[0m\u001b[0;34m\u001b[0m\u001b[0m\n",
            "\u001b[0;31mRuntimeError\u001b[0m: You must compile your model before using it."
          ]
        }
      ]
    },
    {
      "cell_type": "code",
      "metadata": {
        "id": "MOv0AMk742bK",
        "colab_type": "code",
        "colab": {}
      },
      "source": [
        ""
      ],
      "execution_count": 0,
      "outputs": []
    }
  ]
}