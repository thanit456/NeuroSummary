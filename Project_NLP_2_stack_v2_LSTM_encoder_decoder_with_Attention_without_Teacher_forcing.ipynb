{
  "nbformat": 4,
  "nbformat_minor": 0,
  "metadata": {
    "colab": {
      "name": "Project_NLP_2-stack_v2_LSTM-encoder-decoder-with_Attention_without_Teacher_forcing.ipynb",
      "provenance": [],
      "collapsed_sections": [
        "xNM-iqXmIaah",
        "EGE9iPHgItx6",
        "7jrMN3adol7e"
      ],
      "machine_shape": "hm",
      "authorship_tag": "ABX9TyMjl4RwqxxBcJAzhbL/yd8n",
      "include_colab_link": true
    },
    "kernelspec": {
      "name": "python3",
      "display_name": "Python 3"
    },
    "accelerator": "GPU"
  },
  "cells": [
    {
      "cell_type": "markdown",
      "metadata": {
        "id": "view-in-github",
        "colab_type": "text"
      },
      "source": [
        "<a href=\"https://colab.research.google.com/github/thanit456/NeuroSummary/blob/master/Project_NLP_2_stack_v2_LSTM_encoder_decoder_with_Attention_without_Teacher_forcing.ipynb\" target=\"_parent\"><img src=\"https://colab.research.google.com/assets/colab-badge.svg\" alt=\"Open In Colab\"/></a>"
      ]
    },
    {
      "cell_type": "markdown",
      "metadata": {
        "id": "xNM-iqXmIaah",
        "colab_type": "text"
      },
      "source": [
        "# Data Prep"
      ]
    },
    {
      "cell_type": "markdown",
      "metadata": {
        "id": "S8sqn3w1InNE",
        "colab_type": "text"
      },
      "source": [
        "### Cleaning\n",
        "- remove special case"
      ]
    },
    {
      "cell_type": "code",
      "metadata": {
        "id": "ZCiIj5L53Y0J",
        "colab_type": "code",
        "colab": {}
      },
      "source": [
        "import re\n",
        "def basic_cleaner(text) :\n",
        "  special_char = '!|\"|#|%|&|\\'|,|-|/|:|;|<|=|>|@|_|`|~|\\.|\\$'.split(\"|\")# type(result)\n",
        "  nstr = text\n",
        "  for special in special_char :\n",
        "    nstr = re.sub(special+\"+\",special.replace('\\\\',''),nstr)\n",
        "  nstr = re.sub(\"|^||'\",\"\",nstr).replace(\"|\",\"\").replace(\"*\",\"\").replace(\"  \",\" \").replace(u'\\xa0', u' ')\n",
        "  return nstr"
      ],
      "execution_count": 0,
      "outputs": []
    },
    {
      "cell_type": "markdown",
      "metadata": {
        "id": "br2PJOehFSmB",
        "colab_type": "text"
      },
      "source": [
        ""
      ]
    },
    {
      "cell_type": "code",
      "metadata": {
        "id": "LtPGV2HuFShH",
        "colab_type": "code",
        "colab": {}
      },
      "source": [
        "df_content = thaigov_dataset.loc[:,'content'] "
      ],
      "execution_count": 0,
      "outputs": []
    },
    {
      "cell_type": "code",
      "metadata": {
        "id": "Lnd0AMbKRtsz",
        "colab_type": "code",
        "colab": {}
      },
      "source": [
        "df_content_clean = df_content.apply(basic_cleaner)\n",
        "df_content_diff = df_content_clean[df_content != df_content_clean]"
      ],
      "execution_count": 0,
      "outputs": []
    },
    {
      "cell_type": "code",
      "metadata": {
        "id": "juxlGrG6QS61",
        "colab_type": "code",
        "outputId": "581953c8-8302-4004-bf0a-61c40ed5b056",
        "colab": {
          "base_uri": "https://localhost:8080/"
        }
      },
      "source": [
        "text = \"asdasd. kk.... . .15%b%^&%$#$% 2$ $$$\"\n",
        "re.sub(\"\\$+\",\"$\",text)"
      ],
      "execution_count": 0,
      "outputs": [
        {
          "output_type": "execute_result",
          "data": {
            "text/plain": [
              "'asdasd. kk.... . .15%b%^&%$#$% 2$ $'"
            ]
          },
          "metadata": {
            "tags": []
          },
          "execution_count": 105
        }
      ]
    },
    {
      "cell_type": "markdown",
      "metadata": {
        "id": "EGE9iPHgItx6",
        "colab_type": "text"
      },
      "source": [
        "### Tokenize sentence by pythainlp"
      ]
    },
    {
      "cell_type": "code",
      "metadata": {
        "id": "gtDce2ojUwCd",
        "colab_type": "code",
        "outputId": "9f0dea2a-0d5f-44a5-b5aa-fbb4d53fbda2",
        "colab": {
          "base_uri": "https://localhost:8080/",
          "height": 161
        }
      },
      "source": [
        "df_content_diff[:10]"
      ],
      "execution_count": 0,
      "outputs": [
        {
          "output_type": "error",
          "ename": "NameError",
          "evalue": "ignored",
          "traceback": [
            "\u001b[0;31m---------------------------------------------------------------------------\u001b[0m",
            "\u001b[0;31mNameError\u001b[0m                                 Traceback (most recent call last)",
            "\u001b[0;32m<ipython-input-99-21f87acd427d>\u001b[0m in \u001b[0;36m<module>\u001b[0;34m()\u001b[0m\n\u001b[0;32m----> 1\u001b[0;31m \u001b[0mdf_content_diff\u001b[0m\u001b[0;34m[\u001b[0m\u001b[0;34m:\u001b[0m\u001b[0;36m10\u001b[0m\u001b[0;34m]\u001b[0m\u001b[0;34m\u001b[0m\u001b[0;34m\u001b[0m\u001b[0m\n\u001b[0m",
            "\u001b[0;31mNameError\u001b[0m: name 'df_content_diff' is not defined"
          ]
        }
      ]
    },
    {
      "cell_type": "code",
      "metadata": {
        "id": "KU9rTTNyTaQp",
        "colab_type": "code",
        "colab": {}
      },
      "source": [
        "df_content_clean.to_csv(\"b_thaigov_cleaner.csv\",index=False)"
      ],
      "execution_count": 0,
      "outputs": []
    },
    {
      "cell_type": "code",
      "metadata": {
        "id": "JJvxDzr0t1iF",
        "colab_type": "code",
        "outputId": "2df8d9d4-a18a-4e76-a482-e09d08551aeb",
        "colab": {
          "base_uri": "https://localhost:8080/",
          "height": 35
        }
      },
      "source": [
        "!ls"
      ],
      "execution_count": 0,
      "outputs": [
        {
          "output_type": "stream",
          "text": [
            "b_thaigov_cleaner.csv  b_thaigov.csv  drive  sample_data\n"
          ],
          "name": "stdout"
        }
      ]
    },
    {
      "cell_type": "code",
      "metadata": {
        "id": "kHffYSfws5Pv",
        "colab_type": "code",
        "colab": {}
      },
      "source": [
        "  !cp -r b_thaigov_cleaner.csv /content/drive/Shared\\ drives/NeuroSummary/data/b_data_playground/b_thaigov_cleaner.csv\n"
      ],
      "execution_count": 0,
      "outputs": []
    },
    {
      "cell_type": "code",
      "metadata": {
        "id": "a4eHYhj4uCL4",
        "colab_type": "code",
        "colab": {}
      },
      "source": [
        "thaigov_dataset.loc[:,'content']  = df_content_clean"
      ],
      "execution_count": 0,
      "outputs": []
    },
    {
      "cell_type": "code",
      "metadata": {
        "id": "UHo-t4zgvXcn",
        "colab_type": "code",
        "outputId": "f97a98a0-c955-4d11-dcf2-f81e8a2ffe08",
        "colab": {
          "base_uri": "https://localhost:8080/",
          "height": 35
        }
      },
      "source": [
        "thaigov_dataset.loc[1,'content'][-101:]"
      ],
      "execution_count": 0,
      "outputs": [
        {
          "output_type": "execute_result",
          "data": {
            "text/plain": [
              "'กับสิ่งแวดล้อม  น้อมนำศาสตร์พระราชามาประยุกต์ใช้อย่างเหมาะสม . กลุ่มประชาสัมพันธ์และเผยแพร่ สำนักโฆษก'"
            ]
          },
          "metadata": {
            "tags": []
          },
          "execution_count": 198
        }
      ]
    },
    {
      "cell_type": "code",
      "metadata": {
        "id": "y5r_UBvhvWiy",
        "colab_type": "code",
        "colab": {}
      },
      "source": [
        "thaigov_dataset.to_csv(\"b_thaigov.csv\", index=False)"
      ],
      "execution_count": 0,
      "outputs": []
    },
    {
      "cell_type": "code",
      "metadata": {
        "id": "wwo138kqwDUu",
        "colab_type": "code",
        "colab": {}
      },
      "source": [
        "!cp -r b_thaigov.csv /content/drive/Shared\\ drives/NeuroSummary/data/b_data_playground/b_thaigov.csv\n"
      ],
      "execution_count": 0,
      "outputs": []
    },
    {
      "cell_type": "code",
      "metadata": {
        "id": "h9zYuBEOwGZf",
        "colab_type": "code",
        "colab": {}
      },
      "source": [
        ""
      ],
      "execution_count": 0,
      "outputs": []
    },
    {
      "cell_type": "markdown",
      "metadata": {
        "id": "7jrMN3adol7e",
        "colab_type": "text"
      },
      "source": [
        "# Split Dataset\\"
      ]
    },
    {
      "cell_type": "code",
      "metadata": {
        "id": "0pCGbYTNseKu",
        "colab_type": "code",
        "outputId": "051efe34-fee8-4004-fbad-30416691ac25",
        "colab": {
          "base_uri": "https://localhost:8080/"
        }
      },
      "source": [
        "import pandas as pd\n",
        "import numpy as np\n",
        "import seaborn as sns\n",
        "import matplotlib.pyplot as plt\n",
        "from scipy import stats\n",
        "\n",
        "import re\n",
        "\n",
        "import matplotlib.pyplot as plt\n",
        "from sklearn.model_selection import train_test_split\n",
        "from tqdm import tqdm_notebook\n",
        "import copy"
      ],
      "execution_count": 0,
      "outputs": [
        {
          "output_type": "stream",
          "text": [
            "/usr/local/lib/python3.6/dist-packages/statsmodels/tools/_testing.py:19: FutureWarning: pandas.util.testing is deprecated. Use the functions in the public API at pandas.testing instead.\n",
            "  import pandas.util.testing as tm\n"
          ],
          "name": "stderr"
        }
      ]
    },
    {
      "cell_type": "code",
      "metadata": {
        "id": "-3tkL75Gonp8",
        "colab_type": "code",
        "colab": {}
      },
      "source": [
        "old_df = pd.read_pickle('/content/drive/Shared drives/NeuroSummary/data/all_deepcut_thaigov_1_24.pkl')\n",
        "df = pd.DataFrame({'content': old_df['tokenized_deepcut_content'], 'headline': old_df['tokenized_deepcut_headline'], 'class': old_df['class_name']})"
      ],
      "execution_count": 0,
      "outputs": []
    },
    {
      "cell_type": "code",
      "metadata": {
        "id": "qj09dZX_vsmp",
        "colab_type": "code",
        "outputId": "ede75509-79ea-4f76-f523-638fd8215f51",
        "colab": {
          "base_uri": "https://localhost:8080/"
        }
      },
      "source": [
        "print(old_df.columns)"
      ],
      "execution_count": 0,
      "outputs": [
        {
          "output_type": "stream",
          "text": [
            "Index(['file_name', 'raw_content', 'reference', 'headline', 'date', 'content',\n",
            "       'tokenized_deepcut_content', 'tokenized_deepcut_headline',\n",
            "       'removed_stopwords_content', 'removed_stopwords_headline',\n",
            "       'class_name'],\n",
            "      dtype='object')\n"
          ],
          "name": "stdout"
        }
      ]
    },
    {
      "cell_type": "code",
      "metadata": {
        "id": "ucJvxZkMvoau",
        "colab_type": "code",
        "colab": {}
      },
      "source": [
        "df_stop = pd.DataFrame({'content': old_df['removed_stopwords_content'], 'headline': old_df['removed_stopwords_headline'], 'class': old_df['class_name']})"
      ],
      "execution_count": 0,
      "outputs": []
    },
    {
      "cell_type": "code",
      "metadata": {
        "id": "YyKjBXWcsyuP",
        "colab_type": "code",
        "outputId": "5c1df85f-7cc6-448d-ca16-c136aac26233",
        "colab": {
          "base_uri": "https://localhost:8080/"
        }
      },
      "source": [
        "headline_dist = list(map(lambda x: len(x),list(df.headline)))\n",
        "sns.distplot(headline_dist);"
      ],
      "execution_count": 0,
      "outputs": [
        {
          "output_type": "display_data",
          "data": {
            "image/png": "[encoded data removed]",
            "text/plain": [
              "<Figure size 432x288 with 1 Axes>"
            ]
          },
          "metadata": {
            "tags": [],
            "needs_background": "light"
          }
        }
      ]
    },
    {
      "cell_type": "code",
      "metadata": {
        "id": "AtZkwIMrwWM5",
        "colab_type": "code",
        "outputId": "5f936e29-4250-4f64-884f-e0d33a5982ee",
        "colab": {
          "base_uri": "https://localhost:8080/"
        }
      },
      "source": [
        "headline_dist = list(map(lambda x: len(x),list(df_stop.headline)))\n",
        "sns.distplot(headline_dist);"
      ],
      "execution_count": 0,
      "outputs": [
        {
          "output_type": "display_data",
          "data": {
            "image/png": "[encoded data removed]",
            "text/plain": [
              "<Figure size 432x288 with 1 Axes>"
            ]
          },
          "metadata": {
            "tags": [],
            "needs_background": "light"
          }
        }
      ]
    },
    {
      "cell_type": "code",
      "metadata": {
        "id": "Mz2sM6vGIIV5",
        "colab_type": "code",
        "outputId": "2cf0cd47-23b7-4c13-c3eb-896989edcf0f",
        "colab": {
          "base_uri": "https://localhost:8080/"
        }
      },
      "source": [
        "content_dist = list(map(lambda x: len(x),list(df.content)))\n",
        "sns.distplot(content_dist);"
      ],
      "execution_count": 0,
      "outputs": [
        {
          "output_type": "display_data",
          "data": {
            "image/png": "[encoded data removed]",
            "text/plain": [
              "<Figure size 432x288 with 1 Axes>"
            ]
          },
          "metadata": {
            "tags": [],
            "needs_background": "light"
          }
        }
      ]
    },
    {
      "cell_type": "code",
      "metadata": {
        "id": "prOpbQGOwdri",
        "colab_type": "code",
        "outputId": "cfa8a835-bdcc-4589-cacf-3d6c4a4236f2",
        "colab": {
          "base_uri": "https://localhost:8080/"
        }
      },
      "source": [
        "content_dist = list(map(lambda x: len(x),list(df_stop.content)))\n",
        "sns.distplot(content_dist);"
      ],
      "execution_count": 0,
      "outputs": [
        {
          "output_type": "display_data",
          "data": {
            "image/png": "[encoded data removed]",
            "text/plain": [
              "<Figure size 432x288 with 1 Axes>"
            ]
          },
          "metadata": {
            "tags": [],
            "needs_background": "light"
          }
        }
      ]
    },
    {
      "cell_type": "code",
      "metadata": {
        "id": "dXcKgbRyOWWU",
        "colab_type": "code",
        "colab": {}
      },
      "source": [
        "def remove_space_special(content_arr) :\n",
        "  return list(filter(lambda x: x not in \" (){}!,'`<>=@_:;,\\'\\\"\\\\”“‘’\",np.array(content_arr)))\n",
        "# def replace_ห\n",
        "df.headline = df.headline.apply(remove_space_special)\n",
        "df.content = df.content.apply(remove_space_special)\n",
        "df_stop.headline = df_stop.headline.apply(remove_space_special)\n",
        "df_stop.content = df_stop.content.apply(remove_space_special)"
      ],
      "execution_count": 0,
      "outputs": []
    },
    {
      "cell_type": "code",
      "metadata": {
        "id": "RnoRDPpOdibu",
        "colab_type": "code",
        "outputId": "ab10d73f-6629-4416-c983-caeab914259e",
        "colab": {
          "base_uri": "https://localhost:8080/"
        }
      },
      "source": [
        "headline_dist = list(map(lambda x: len(x),list(df.headline)))\n",
        "sns.distplot(headline_dist);"
      ],
      "execution_count": 0,
      "outputs": [
        {
          "output_type": "display_data",
          "data": {
            "image/png": "[encoded data removed]",
            "text/plain": [
              "<Figure size 432x288 with 1 Axes>"
            ]
          },
          "metadata": {
            "tags": [],
            "needs_background": "light"
          }
        }
      ]
    },
    {
      "cell_type": "code",
      "metadata": {
        "id": "A57NTU0mwx9x",
        "colab_type": "code",
        "outputId": "239de293-7de5-4df4-de7c-5dcffd96d91f",
        "colab": {
          "base_uri": "https://localhost:8080/"
        }
      },
      "source": [
        "headline_dist = list(map(lambda x: len(x),list(df_stop.headline)))\n",
        "sns.distplot(headline_dist);"
      ],
      "execution_count": 0,
      "outputs": [
        {
          "output_type": "display_data",
          "data": {
            "image/png": "[encoded data removed]",
            "text/plain": [
              "<Figure size 432x288 with 1 Axes>"
            ]
          },
          "metadata": {
            "tags": [],
            "needs_background": "light"
          }
        }
      ]
    },
    {
      "cell_type": "code",
      "metadata": {
        "id": "uDsjcV-0dmTd",
        "colab_type": "code",
        "outputId": "c1869ef6-80ab-46c1-b73a-b548e1c3ec45",
        "colab": {
          "base_uri": "https://localhost:8080/"
        }
      },
      "source": [
        "content_dist = list(map(lambda x: len(x),list(df.content)))\n",
        "sns.distplot(content_dist);"
      ],
      "execution_count": 0,
      "outputs": [
        {
          "output_type": "display_data",
          "data": {
            "image/png": "[encoded data removed]",
            "text/plain": [
              "<Figure size 432x288 with 1 Axes>"
            ]
          },
          "metadata": {
            "tags": [],
            "needs_background": "light"
          }
        }
      ]
    },
    {
      "cell_type": "code",
      "metadata": {
        "id": "e6TCD4Rrwzc3",
        "colab_type": "code",
        "outputId": "8cee1864-85ba-4dba-fec1-de15946384d7",
        "colab": {
          "base_uri": "https://localhost:8080/"
        }
      },
      "source": [
        "content_dist = list(map(lambda x: len(x),list(df_stop.content)))\n",
        "sns.distplot(content_dist);"
      ],
      "execution_count": 0,
      "outputs": [
        {
          "output_type": "display_data",
          "data": {
            "image/png": "[encoded data removed]",
            "text/plain": [
              "<Figure size 432x288 with 1 Axes>"
            ]
          },
          "metadata": {
            "tags": [],
            "needs_background": "light"
          }
        }
      ]
    },
    {
      "cell_type": "code",
      "metadata": {
        "id": "_bBhhRPKeibZ",
        "colab_type": "code",
        "outputId": "7871ee2f-14f0-4147-fdc9-9139f272bc1e",
        "colab": {
          "base_uri": "https://localhost:8080/"
        }
      },
      "source": [
        "max_len_headline = max(df.headline.apply(lambda x: len(x)))\n",
        "print(\"max len headline : \",max_len_headline)\n",
        "max_len_content = max(df.content.apply(lambda x: len(x)))\n",
        "print(\"max len content : \",max_len_content)\n",
        "\n",
        "print(\"df shape :\" ,df.shape)\n",
        "max_len_headline_stop = max(df_stop.headline.apply(lambda x: len(x)))\n",
        "print(\"max len headline stop: \",max_len_headline_stop)\n",
        "max_len_content_stop = max(df_stop.content.apply(lambda x: len(x)))\n",
        "print(\"max len content stop: \",max_len_content_stop)\n",
        "# print(\"removed stop df shape :\" ,df_stop.shape)\n"
      ],
      "execution_count": 0,
      "outputs": [
        {
          "output_type": "stream",
          "text": [
            "max len headline :  48\n",
            "max len content :  16373\n",
            "df shape : (17367, 3)\n",
            "max len headline stop:  39\n",
            "max len content stop:  7242\n"
          ],
          "name": "stdout"
        }
      ]
    },
    {
      "cell_type": "code",
      "metadata": {
        "id": "ZuhRyekylAh6",
        "colab_type": "code",
        "outputId": "db26a23d-7397-4497-ee99-6e96e2c28161",
        "colab": {
          "base_uri": "https://localhost:8080/"
        }
      },
      "source": [
        "df = df[df.content.apply(lambda x: len(x) != 0)]\n",
        "df.shape"
      ],
      "execution_count": 0,
      "outputs": [
        {
          "output_type": "execute_result",
          "data": {
            "text/plain": [
              "(17337, 3)"
            ]
          },
          "metadata": {
            "tags": []
          },
          "execution_count": 31
        }
      ]
    },
    {
      "cell_type": "code",
      "metadata": {
        "id": "n9tJResJtLcS",
        "colab_type": "code",
        "colab": {}
      },
      "source": [
        "import pickle\n",
        "THAIGOV_PATH = '/content/drive/Shared drives/NeuroSummary/data/b_data_playground/'\n",
        "with open(THAIGOV_PATH + 'thai_gov_clean_cut.pkl', 'wb') as f:\n",
        "  pickle.dump(df, f)\n",
        "with open(THAIGOV_PATH + 'thai_gov_stop_clean_cut.pkl', 'wb') as f:\n",
        "  pickle.dump(df_stop, f)"
      ],
      "execution_count": 0,
      "outputs": []
    },
    {
      "cell_type": "code",
      "metadata": {
        "id": "liY5wlIrjcPu",
        "colab_type": "code",
        "colab": {}
      },
      "source": [
        "# content_len_dist = [(df.content[df.content.apply(lambda x: len(x) == n)].shape[0],n) for n in range(max_len_content)][0]\n",
        "# content_len_dist"
      ],
      "execution_count": 0,
      "outputs": []
    },
    {
      "cell_type": "code",
      "metadata": {
        "id": "P6nmNvCKyYck",
        "colab_type": "code",
        "outputId": "de3876e3-0f66-4797-b71f-b690636d1b5c",
        "colab": {
          "base_uri": "https://localhost:8080/"
        }
      },
      "source": [
        "headline_len_dist = [(df_stop.headline[df_stop.headline.apply(lambda x: len(x) <= n)].shape[0],n) for n in range(max_len_headline_stop)]\n",
        "headline_len_dist\n",
        "# sns.distplot(headline_len_dist);\n",
        "# len(df.content)"
      ],
      "execution_count": 0,
      "outputs": [
        {
          "output_type": "execute_result",
          "data": {
            "text/plain": [
              "[(0, 0),\n",
              " (9, 1),\n",
              " (41, 2),\n",
              " (147, 3),\n",
              " (357, 4),\n",
              " (802, 5),\n",
              " (1564, 6),\n",
              " (2618, 7),\n",
              " (4100, 8),\n",
              " (5497, 9),\n",
              " (6948, 10),\n",
              " (8376, 11),\n",
              " (9757, 12),\n",
              " (11027, 13),\n",
              " (12117, 14),\n",
              " (13029, 15),\n",
              " (13798, 16),\n",
              " (14471, 17),\n",
              " (15019, 18),\n",
              " (15478, 19),\n",
              " (15870, 20),\n",
              " (16217, 21),\n",
              " (16443, 22),\n",
              " (16683, 23),\n",
              " (16839, 24),\n",
              " (16970, 25),\n",
              " (17068, 26),\n",
              " (17149, 27),\n",
              " (17217, 28),\n",
              " (17263, 29),\n",
              " (17294, 30),\n",
              " (17318, 31),\n",
              " (17334, 32),\n",
              " (17344, 33),\n",
              " (17358, 34),\n",
              " (17360, 35),\n",
              " (17363, 36),\n",
              " (17364, 37),\n",
              " (17366, 38)]"
            ]
          },
          "metadata": {
            "tags": []
          },
          "execution_count": 36
        }
      ]
    },
    {
      "cell_type": "code",
      "metadata": {
        "id": "Cjkzn11dNKFd",
        "colab_type": "code",
        "outputId": "1a9f9131-f7dc-47c5-c45c-714a380807d0",
        "colab": {
          "base_uri": "https://localhost:8080/"
        }
      },
      "source": [
        "headline_len_dist = [(df.headline[df.headline.apply(lambda x: len(x) <= n)].shape[0],n) for n in range(max_len_headline)]\n",
        "headline_len_dist\n",
        "# sns.distplot(headline_len_dist);\n",
        "# len(df.content)"
      ],
      "execution_count": 0,
      "outputs": [
        {
          "output_type": "execute_result",
          "data": {
            "text/plain": [
              "[(0, 0),\n",
              " (1, 1),\n",
              " (12, 2),\n",
              " (55, 3),\n",
              " (119, 4),\n",
              " (221, 5),\n",
              " (400, 6),\n",
              " (754, 7),\n",
              " (1184, 8),\n",
              " (1903, 9),\n",
              " (2608, 10),\n",
              " (3346, 11),\n",
              " (4206, 12),\n",
              " (5162, 13),\n",
              " (6111, 14),\n",
              " (7079, 15),\n",
              " (8023, 16),\n",
              " (8928, 17),\n",
              " (9800, 18),\n",
              " (10611, 19),\n",
              " (11340, 20),\n",
              " (11936, 21),\n",
              " (12534, 22),\n",
              " (13061, 23),\n",
              " (13524, 24),\n",
              " (13908, 25),\n",
              " (14342, 26),\n",
              " (14696, 27),\n",
              " (15015, 28),\n",
              " (15336, 29),\n",
              " (15599, 30),\n",
              " (15846, 31),\n",
              " (16064, 32),\n",
              " (16269, 33),\n",
              " (16454, 34),\n",
              " (16614, 35),\n",
              " (16743, 36),\n",
              " (16883, 37),\n",
              " (16970, 38),\n",
              " (17103, 39),\n",
              " (17176, 40),\n",
              " (17225, 41),\n",
              " (17272, 42),\n",
              " (17296, 43),\n",
              " (17316, 44),\n",
              " (17326, 45),\n",
              " (17331, 46),\n",
              " (17336, 47)]"
            ]
          },
          "metadata": {
            "tags": []
          },
          "execution_count": 34
        }
      ]
    },
    {
      "cell_type": "code",
      "metadata": {
        "id": "A6whY-uDgjim",
        "colab_type": "code",
        "colab": {}
      },
      "source": [
        "df = df[df.headline.apply(lambda x: len(x) <= 20)]\n",
        "df_stop = df_stop[df_stop.headline.apply(lambda x: len(x) <= 20)]"
      ],
      "execution_count": 0,
      "outputs": []
    },
    {
      "cell_type": "code",
      "metadata": {
        "id": "4FgvntPeg2tU",
        "colab_type": "code",
        "outputId": "702acf98-015e-409d-ccab-1a0cd39239bd",
        "colab": {
          "base_uri": "https://localhost:8080/"
        }
      },
      "source": [
        "df.shape"
      ],
      "execution_count": 0,
      "outputs": [
        {
          "output_type": "execute_result",
          "data": {
            "text/plain": [
              "(11340, 3)"
            ]
          },
          "metadata": {
            "tags": []
          },
          "execution_count": 38
        }
      ]
    },
    {
      "cell_type": "code",
      "metadata": {
        "id": "33kxz5i12y_0",
        "colab_type": "code",
        "outputId": "7015bb45-e47d-497e-d5c0-62349dc5d97a",
        "colab": {
          "base_uri": "https://localhost:8080/"
        }
      },
      "source": [
        "df"
      ],
      "execution_count": 0,
      "outputs": [
        {
          "output_type": "execute_result",
          "data": {
            "text/html": [
              "<div>\n",
              "<style scoped>\n",
              "    .dataframe tbody tr th:only-of-type {\n",
              "        vertical-align: middle;\n",
              "    }\n",
              "\n",
              "    .dataframe tbody tr th {\n",
              "        vertical-align: top;\n",
              "    }\n",
              "\n",
              "    .dataframe thead th {\n",
              "        text-align: right;\n",
              "    }\n",
              "</style>\n",
              "<table border=\"1\" class=\"dataframe\">\n",
              "  <thead>\n",
              "    <tr style=\"text-align: right;\">\n",
              "      <th></th>\n",
              "      <th>content</th>\n",
              "      <th>headline</th>\n",
              "      <th>class</th>\n",
              "    </tr>\n",
              "  </thead>\n",
              "  <tbody>\n",
              "    <tr>\n",
              "      <th>1</th>\n",
              "      <td>[พลเอก ประยุทธ์ จันทร์โอชา, นายก, รัฐมนตรี, ได...</td>\n",
              "      <td>[สรุป, ประเด็น, นายก, รัฐมนตรี, กล่าว, ใน, ราย...</td>\n",
              "      <td>ข่าวทำเนียบรัฐบาล</td>\n",
              "    </tr>\n",
              "    <tr>\n",
              "      <th>2</th>\n",
              "      <td>[รมว., แรงงาน, ยื่น, สัตยาบัน, อนุสัญญา, ILO, ...</td>\n",
              "      <td>[บิ๊กอู๋, ยื่น, สัตยาบัน, C, 188, ต่อ, ILO, แส...</td>\n",
              "      <td>ด้านความมั่นคง</td>\n",
              "    </tr>\n",
              "    <tr>\n",
              "      <th>3</th>\n",
              "      <td>[ออมสิน, จัด, โปรพิเศษ, Thailand, Smart, Money...</td>\n",
              "      <td>[ออมสิน, จัด, โปรโมชั่น, พิเศษ, Thailand, Smar...</td>\n",
              "      <td>ด้านเศรษฐกิจ</td>\n",
              "    </tr>\n",
              "    <tr>\n",
              "      <th>7</th>\n",
              "      <td>[เผย, เป็น, ผล, งาน, สำคัญ, และ, พระไตรปิฎก, ย...</td>\n",
              "      <td>[วธ., ร่วม, กับ, 4, หน่วย, งาน, จัด, งาน, พิธี...</td>\n",
              "      <td>ด้านวัฒนธรรมท่องเที่ยวฯ</td>\n",
              "    </tr>\n",
              "    <tr>\n",
              "      <th>8</th>\n",
              "      <td>[ศาสตราจารย์พิเศษวิศิษฏ์ วิศิษฏ์สรอรรถ, ปลัด, ...</td>\n",
              "      <td>[กระทรวงยุติธรรม, พิจารณา, ร่าง, ระเบียบ, ฯ, ก...</td>\n",
              "      <td>ด้านกฎหมายฯ</td>\n",
              "    </tr>\n",
              "    <tr>\n",
              "      <th>...</th>\n",
              "      <td>...</td>\n",
              "      <td>...</td>\n",
              "      <td>...</td>\n",
              "    </tr>\n",
              "    <tr>\n",
              "      <th>17359</th>\n",
              "      <td>[นายปรัก สุคน, Mr. Prak Sokhonn, รัฐมนตรี, อาว...</td>\n",
              "      <td>[รัฐมนตรี, อาวุโส, และ, รัฐมนตรี, ว่าการ, กระท...</td>\n",
              "      <td>ข่าวทำเนียบรัฐบาล</td>\n",
              "    </tr>\n",
              "    <tr>\n",
              "      <th>17360</th>\n",
              "      <td>[นายก, รัฐมนตรี, เข้า, ร่วม, ประชุม, เพื่อ, ติ...</td>\n",
              "      <td>[นายก, รัฐมนตรี, ประชุม, พิจารณา, แนวทาง, การ,...</td>\n",
              "      <td>ข่าวทำเนียบรัฐบาล</td>\n",
              "    </tr>\n",
              "    <tr>\n",
              "      <th>17361</th>\n",
              "      <td>[วัน, นี้, 30, ส.ค., 59, เวลา, 09, ., 15, น., ...</td>\n",
              "      <td>[นรม., ชื่นชม, สมุนไพร, และ, ผลิตภัณฑ์, สมุนไพ...</td>\n",
              "      <td>ข่าวทำเนียบรัฐบาล</td>\n",
              "    </tr>\n",
              "    <tr>\n",
              "      <th>17362</th>\n",
              "      <td>[ที่, ประชุม, มี, มติ, เห็น, ชอบ, ร่าง, แผน, ป...</td>\n",
              "      <td>[รอง, นรม., พลเรือ, เอก ณรงค์, ฯ, เป็น, ประธาน...</td>\n",
              "      <td>ข่าวทำเนียบรัฐบาล</td>\n",
              "    </tr>\n",
              "    <tr>\n",
              "      <th>17364</th>\n",
              "      <td>[วัน, นี้, 22, สิงหาคม, 2559, เวลา, 14, ., 00,...</td>\n",
              "      <td>[นายก, รัฐมนตรี, ย้ำ, รัฐบาล, มุ่ง, พัฒนา, โคร...</td>\n",
              "      <td>ข่าวทำเนียบรัฐบาล</td>\n",
              "    </tr>\n",
              "  </tbody>\n",
              "</table>\n",
              "<p>11340 rows × 3 columns</p>\n",
              "</div>"
            ],
            "text/plain": [
              "                                                 content  ...                    class\n",
              "1      [พลเอก ประยุทธ์ จันทร์โอชา, นายก, รัฐมนตรี, ได...  ...        ข่าวทำเนียบรัฐบาล\n",
              "2      [รมว., แรงงาน, ยื่น, สัตยาบัน, อนุสัญญา, ILO, ...  ...           ด้านความมั่นคง\n",
              "3      [ออมสิน, จัด, โปรพิเศษ, Thailand, Smart, Money...  ...             ด้านเศรษฐกิจ\n",
              "7      [เผย, เป็น, ผล, งาน, สำคัญ, และ, พระไตรปิฎก, ย...  ...  ด้านวัฒนธรรมท่องเที่ยวฯ\n",
              "8      [ศาสตราจารย์พิเศษวิศิษฏ์ วิศิษฏ์สรอรรถ, ปลัด, ...  ...              ด้านกฎหมายฯ\n",
              "...                                                  ...  ...                      ...\n",
              "17359  [นายปรัก สุคน, Mr. Prak Sokhonn, รัฐมนตรี, อาว...  ...        ข่าวทำเนียบรัฐบาล\n",
              "17360  [นายก, รัฐมนตรี, เข้า, ร่วม, ประชุม, เพื่อ, ติ...  ...        ข่าวทำเนียบรัฐบาล\n",
              "17361  [วัน, นี้, 30, ส.ค., 59, เวลา, 09, ., 15, น., ...  ...        ข่าวทำเนียบรัฐบาล\n",
              "17362  [ที่, ประชุม, มี, มติ, เห็น, ชอบ, ร่าง, แผน, ป...  ...        ข่าวทำเนียบรัฐบาล\n",
              "17364  [วัน, นี้, 22, สิงหาคม, 2559, เวลา, 14, ., 00,...  ...        ข่าวทำเนียบรัฐบาล\n",
              "\n",
              "[11340 rows x 3 columns]"
            ]
          },
          "metadata": {
            "tags": []
          },
          "execution_count": 40
        }
      ]
    },
    {
      "cell_type": "code",
      "metadata": {
        "id": "QdYHX_r_23vs",
        "colab_type": "code",
        "outputId": "5ed80242-cbba-4663-8887-c08c0d312237",
        "colab": {
          "base_uri": "https://localhost:8080/"
        }
      },
      "source": [
        "df_stop"
      ],
      "execution_count": 0,
      "outputs": [
        {
          "output_type": "execute_result",
          "data": {
            "text/html": [
              "<div>\n",
              "<style scoped>\n",
              "    .dataframe tbody tr th:only-of-type {\n",
              "        vertical-align: middle;\n",
              "    }\n",
              "\n",
              "    .dataframe tbody tr th {\n",
              "        vertical-align: top;\n",
              "    }\n",
              "\n",
              "    .dataframe thead th {\n",
              "        text-align: right;\n",
              "    }\n",
              "</style>\n",
              "<table border=\"1\" class=\"dataframe\">\n",
              "  <thead>\n",
              "    <tr style=\"text-align: right;\">\n",
              "      <th></th>\n",
              "      <th>content</th>\n",
              "      <th>headline</th>\n",
              "      <th>class</th>\n",
              "    </tr>\n",
              "  </thead>\n",
              "  <tbody>\n",
              "    <tr>\n",
              "      <th>0</th>\n",
              "      <td>[ธนาคารอาคารสงเคราะห์, ธอส., ประกาศ, มาตรการ, ...</td>\n",
              "      <td>[ธอส., ประกาศ, มาตรการ, บรรเทา, เดือดร้อน, ลูก...</td>\n",
              "      <td>ด้านเศรษฐกิจ</td>\n",
              "    </tr>\n",
              "    <tr>\n",
              "      <th>1</th>\n",
              "      <td>[พลเอก ประยุทธ์ จันทร์โอชา, นายก, รัฐมนตรี, ปร...</td>\n",
              "      <td>[สรุป, ประเด็น, นายก, รัฐมนตรี, รายการศาสตร์, ...</td>\n",
              "      <td>ข่าวทำเนียบรัฐบาล</td>\n",
              "    </tr>\n",
              "    <tr>\n",
              "      <th>2</th>\n",
              "      <td>[รมว., แรงงาน, ยื่น, สัตยาบัน, อนุสัญญา, ILO, ...</td>\n",
              "      <td>[บิ๊กอู๋, ยื่น, สัตยาบัน, C, 188, ILO, เจตนารม...</td>\n",
              "      <td>ด้านความมั่นคง</td>\n",
              "    </tr>\n",
              "    <tr>\n",
              "      <th>3</th>\n",
              "      <td>[ออมสิน, โปรพิเศษ, Thailand, Smart, Money, กรุ...</td>\n",
              "      <td>[ออมสิน, โปรโมชั่น, พิเศษ, Thailand, Smart, Mo...</td>\n",
              "      <td>ด้านเศรษฐกิจ</td>\n",
              "    </tr>\n",
              "    <tr>\n",
              "      <th>4</th>\n",
              "      <td>[ศ.คลินิก,  นพ.อุดม คชินทร, รมช., ศธ., ประชุม,...</td>\n",
              "      <td>[ม., มหิดล, เตรียม, ม.บูรพา ผลิต, พัฒนา, คน, ส...</td>\n",
              "      <td>ด้านการศึกษาฯ</td>\n",
              "    </tr>\n",
              "    <tr>\n",
              "      <th>...</th>\n",
              "      <td>...</td>\n",
              "      <td>...</td>\n",
              "      <td>...</td>\n",
              "    </tr>\n",
              "    <tr>\n",
              "      <th>17361</th>\n",
              "      <td>[30, ส.ค., 59, เวลา, 09, ., 15, น., บริเวณ, หน...</td>\n",
              "      <td>[นรม., ชื่นชม, สมุนไพร, ผลิตภัณฑ์, สมุนไพร, ดี...</td>\n",
              "      <td>ข่าวทำเนียบรัฐบาล</td>\n",
              "    </tr>\n",
              "    <tr>\n",
              "      <th>17362</th>\n",
              "      <td>[ประชุม, มติ, ชอบ, ร่าง, แผน, ดำเนิน, ส่งเสริม...</td>\n",
              "      <td>[รอง, นรม., พลเรือ, เอก ณรงค์, ประธาน, ประชุม,...</td>\n",
              "      <td>ข่าวทำเนียบรัฐบาล</td>\n",
              "    </tr>\n",
              "    <tr>\n",
              "      <th>17363</th>\n",
              "      <td>[22, สิงหาคม, 2559, เวลา, 14, ., 00, น., บริเว...</td>\n",
              "      <td>[นายก, รัฐมนตรี, รัฐบาล, มุ่งมั่น, ปัญหา, พื้น...</td>\n",
              "      <td>ข่าวทำเนียบรัฐบาล</td>\n",
              "    </tr>\n",
              "    <tr>\n",
              "      <th>17364</th>\n",
              "      <td>[22, สิงหาคม, 2559, เวลา, 14, ., 00, น., บริเว...</td>\n",
              "      <td>[นายก, รัฐมนตรี, ย้ำ, รัฐบาล, พัฒนา, โครงสร้าง...</td>\n",
              "      <td>ข่าวทำเนียบรัฐบาล</td>\n",
              "    </tr>\n",
              "    <tr>\n",
              "      <th>17365</th>\n",
              "      <td>[25, ส.ค., 59, เวลา, 09, ., 00, น., ตึกสันติไม...</td>\n",
              "      <td>[คปท., ชอบ, แผน, ปฏิบัติการ, ทรัพย์สิน, ปัญญา,...</td>\n",
              "      <td>ข่าวทำเนียบรัฐบาล</td>\n",
              "    </tr>\n",
              "  </tbody>\n",
              "</table>\n",
              "<p>15870 rows × 3 columns</p>\n",
              "</div>"
            ],
            "text/plain": [
              "                                                 content  ...              class\n",
              "0      [ธนาคารอาคารสงเคราะห์, ธอส., ประกาศ, มาตรการ, ...  ...       ด้านเศรษฐกิจ\n",
              "1      [พลเอก ประยุทธ์ จันทร์โอชา, นายก, รัฐมนตรี, ปร...  ...  ข่าวทำเนียบรัฐบาล\n",
              "2      [รมว., แรงงาน, ยื่น, สัตยาบัน, อนุสัญญา, ILO, ...  ...     ด้านความมั่นคง\n",
              "3      [ออมสิน, โปรพิเศษ, Thailand, Smart, Money, กรุ...  ...       ด้านเศรษฐกิจ\n",
              "4      [ศ.คลินิก,  นพ.อุดม คชินทร, รมช., ศธ., ประชุม,...  ...      ด้านการศึกษาฯ\n",
              "...                                                  ...  ...                ...\n",
              "17361  [30, ส.ค., 59, เวลา, 09, ., 15, น., บริเวณ, หน...  ...  ข่าวทำเนียบรัฐบาล\n",
              "17362  [ประชุม, มติ, ชอบ, ร่าง, แผน, ดำเนิน, ส่งเสริม...  ...  ข่าวทำเนียบรัฐบาล\n",
              "17363  [22, สิงหาคม, 2559, เวลา, 14, ., 00, น., บริเว...  ...  ข่าวทำเนียบรัฐบาล\n",
              "17364  [22, สิงหาคม, 2559, เวลา, 14, ., 00, น., บริเว...  ...  ข่าวทำเนียบรัฐบาล\n",
              "17365  [25, ส.ค., 59, เวลา, 09, ., 00, น., ตึกสันติไม...  ...  ข่าวทำเนียบรัฐบาล\n",
              "\n",
              "[15870 rows x 3 columns]"
            ]
          },
          "metadata": {
            "tags": []
          },
          "execution_count": 41
        }
      ]
    },
    {
      "cell_type": "code",
      "metadata": {
        "id": "bQ_FpQEbh5Yv",
        "colab_type": "code",
        "outputId": "56f15dfb-ea66-455b-9e45-62172715dd7d",
        "colab": {
          "base_uri": "https://localhost:8080/",
          "height": 70
        }
      },
      "source": [
        "pd.set_option('display.max_rows', None)\n",
        "pd.set_option('display.max_columns', None)\n",
        "pd.set_option('display.width', None)\n",
        "pd.set_option('display.max_colwidth', -1)"
      ],
      "execution_count": 0,
      "outputs": [
        {
          "output_type": "stream",
          "text": [
            "/usr/local/lib/python3.6/dist-packages/ipykernel_launcher.py:4: FutureWarning: Passing a negative integer is deprecated in version 1.0 and will not be supported in future version. Instead, use None to not limit the column width.\n",
            "  after removing the cwd from sys.path.\n"
          ],
          "name": "stderr"
        }
      ]
    },
    {
      "cell_type": "code",
      "metadata": {
        "id": "XUmzxrj1mXJZ",
        "colab_type": "code",
        "colab": {}
      },
      "source": [
        "df.headline"
      ],
      "execution_count": 0,
      "outputs": []
    },
    {
      "cell_type": "code",
      "metadata": {
        "id": "lIi5FRM0hNYh",
        "colab_type": "code",
        "colab": {}
      },
      "source": [
        "df.content.apply(lambda x : x[:50])"
      ],
      "execution_count": 0,
      "outputs": []
    },
    {
      "cell_type": "code",
      "metadata": {
        "id": "kW1XDBIAgTok",
        "colab_type": "code",
        "colab": {}
      },
      "source": [
        "train_df, val_test_df = train_test_split(df, test_size=0.33, random_state=42)\n",
        "val_df, test_df = train_test_split(val_test_df, test_size=0.5, random_state=123)"
      ],
      "execution_count": 0,
      "outputs": []
    },
    {
      "cell_type": "code",
      "metadata": {
        "id": "qJ6mZ-m_KdLH",
        "colab_type": "code",
        "colab": {}
      },
      "source": [
        "import pickle\n",
        "THAIGOV_PATH = '/content/drive/Shared drives/NeuroSummary/data/b_data_playground/thai_gov_split/'\n",
        "with open(THAIGOV_PATH + 'train.pkl', 'wb') as f:\n",
        "  pickle.dump(train_df, f)\n",
        "\n",
        "with open(THAIGOV_PATH + 'val.pkl', 'wb') as f:\n",
        "  pickle.dump(val_df, f)\n",
        "\n",
        "with open(THAIGOV_PATH + 'test.pkl', 'wb') as f:\n",
        "  pickle.dump(test_df, f)"
      ],
      "execution_count": 0,
      "outputs": []
    },
    {
      "cell_type": "code",
      "metadata": {
        "id": "qcGCSqge2_4y",
        "colab_type": "code",
        "colab": {}
      },
      "source": [
        "train_df_stop, val_test_df_stop = train_test_split(df_stop, test_size=0.33, random_state=42)\n",
        "val_df_stop, test_df_stop = train_test_split(val_test_df_stop, test_size=0.5, random_state=123)"
      ],
      "execution_count": 0,
      "outputs": []
    },
    {
      "cell_type": "code",
      "metadata": {
        "id": "BBpkq_ZA3Ajf",
        "colab_type": "code",
        "colab": {}
      },
      "source": [
        "import pickle\n",
        "THAIGOV_PATH = '/content/drive/Shared drives/NeuroSummary/data/b_data_playground/thai_gov_split/'\n",
        "with open(THAIGOV_PATH + 'train_stop.pkl', 'wb') as f:\n",
        "  pickle.dump(train_df_stop, f)\n",
        "\n",
        "with open(THAIGOV_PATH + 'val_stop.pkl', 'wb') as f:\n",
        "  pickle.dump(val_df_stop, f)\n",
        "\n",
        "with open(THAIGOV_PATH + 'test_stop.pkl', 'wb') as f:\n",
        "  pickle.dump(test_df_stop, f)"
      ],
      "execution_count": 0,
      "outputs": []
    },
    {
      "cell_type": "markdown",
      "metadata": {
        "id": "gknmV4Hj_K0K",
        "colab_type": "text"
      },
      "source": [
        "# Creade Dictionary"
      ]
    },
    {
      "cell_type": "markdown",
      "metadata": {
        "id": "Q_nzsuy-BJ9H",
        "colab_type": "text"
      },
      "source": [
        "![alt text](https://)## load train,val,test_set"
      ]
    },
    {
      "cell_type": "code",
      "metadata": {
        "id": "3mC-XeejK9To",
        "colab_type": "code",
        "colab": {}
      },
      "source": [
        "import pickle\n",
        "import numpy as np\n",
        "import keras\n",
        "import numpy as np\n",
        "import pandas as pd\n",
        "from tensorflow.keras.preprocessing.sequence import pad_sequences\n",
        "THAIGOV_PATH = '/content/drive/Shared drives/NeuroSummary/data/b_data_playground/thai_gov_split/'\n",
        "from google.colab import drive\n",
        "drive.mount('/content/drive',force_remount=True)"
      ],
      "execution_count": 0,
      "outputs": []
    },
    {
      "cell_type": "markdown",
      "metadata": {
        "id": "vp73G0M_Dd4P",
        "colab_type": "text"
      },
      "source": [
        "**Choose *HAS_STOP_WORD* or *NO_STOP_WORD* `DATASET`**"
      ]
    },
    {
      "cell_type": "code",
      "metadata": {
        "id": "cohwyRK3Yxw_",
        "colab_type": "code",
        "colab": {}
      },
      "source": [
        "# with open(THAIGOV_PATH + 'train_v2.pkl', 'rb') as f:\n",
        "#   train_set = pickle.load(f)\n",
        "# with open(THAIGOV_PATH + 'val_v2.pkl', 'rb') as f:\n",
        "#   val_set = pickle.load(f)\n",
        "# with open(THAIGOV_PATH + 'test_v2.pkl', 'rb') as f:\n",
        "#   test_set = pickle.load(f)\n",
        "# version_dataset = \"not_remove_stopword\""
      ],
      "execution_count": 0,
      "outputs": []
    },
    {
      "cell_type": "code",
      "metadata": {
        "id": "YF8-pTf8bLTA",
        "colab_type": "code",
        "colab": {}
      },
      "source": [
        "with open(THAIGOV_PATH + 'train_stop_v2.pkl', 'rb') as f:\n",
        "  train_set = pickle.load(f)\n",
        "with open(THAIGOV_PATH + 'val_stop_v2.pkl', 'rb') as f:\n",
        "  val_set = pickle.load(f)\n",
        "with open(THAIGOV_PATH + 'test_stop_v2.pkl', 'rb') as f:\n",
        "  test_set = pickle.load(f)\n",
        "version_dataset = \"remove_stopword\""
      ],
      "execution_count": 0,
      "outputs": []
    },
    {
      "cell_type": "code",
      "metadata": {
        "id": "sux0VXZ7LN5k",
        "colab_type": "code",
        "colab": {}
      },
      "source": [
        "## ! use only n first words for headline generation\n",
        "def use_firt_n_words(df_content, n):\n",
        "  new_ls = []\n",
        "  for content in df_content:\n",
        "    new_ls.append(content[:n])\n",
        "  return new_ls\n",
        "\n",
        "#define_n_first_words\n",
        "n_first_content = 50\n",
        "n_first_headline = 20\n",
        "\n",
        "#trim sentence\n",
        "words_train_contents = use_firt_n_words(train_set['content'], n=n_first_content)\n",
        "words_train_headlines = use_firt_n_words(train_set['headline'], n=n_first_headline)\n",
        "words_val_contents = use_firt_n_words(val_set['content'], n=n_first_content)\n",
        "words_val_headlines = use_firt_n_words(val_set['headline'], n=n_first_headline)\n",
        "words_test_contents = use_firt_n_words(test_set['content'], n=n_first_content)\n",
        "words_test_headlines = use_firt_n_words(test_set['headline'], n=n_first_headline)\n",
        "\n",
        "# generate gold_sum\n",
        "gold_sum_train = list(map(lambda x: \" \".join(x),words_train_headlines))\n",
        "gold_sum_val = list(map(lambda x: \" \".join(x),words_val_headlines))\n",
        "gold_sum_test = list(map(lambda x: \" \".join(x),words_test_headlines))"
      ],
      "execution_count": 0,
      "outputs": []
    },
    {
      "cell_type": "code",
      "metadata": {
        "id": "T12laYRRLJlf",
        "colab_type": "code",
        "outputId": "fe4290d7-8195-4c47-c552-ff97e2c46253",
        "colab": {
          "base_uri": "https://localhost:8080/",
          "height": 185
        }
      },
      "source": [
        "import collections\n",
        "def create_index(input_data,threshold):\n",
        "    input_text = [data for data in input_data]\n",
        "    # counts of word type has to be above or equal threshold\n",
        "    words = [word for sublist in input_text for word in sublist]\n",
        "    print(\"words :\",words)\n",
        "    word_count_all = list()\n",
        "    word_count = list()\n",
        "    #use set and len to get the number of unique words\n",
        "    word_count_all.extend(collections.Counter(words).most_common(len(set(words))))\n",
        "    unkcnt = 0\n",
        "    for (word,cnt) in word_count_all:\n",
        "      if cnt >= threshold:\n",
        "        word_count.append((word,cnt))\n",
        "      else:\n",
        "        unkcnt+=cnt\n",
        "    #include a token for unknown word\n",
        "    word_count.append((\"UNK\",unkcnt))\n",
        "    #print out 10 most frequent words\n",
        "    # print(\"top 10: \",word_count[:10])\n",
        "    # print(\"bottom 10: \",word_count[-10:])\n",
        "    dictionary = dict()\n",
        "    dictionary[\"for_keras_zero_padding\"] = 0\n",
        "    for word in word_count:\n",
        "      dictionary[word[0]] = len(dictionary)\n",
        "    dictionary['<s>'] = len(dictionary) \n",
        "    dictionary['</s>'] = len(dictionary)\n",
        "    reverse_dictionary = dict(zip(dictionary.values(), dictionary.keys()))\n",
        "    \n",
        "    return dictionary, reverse_dictionary\n",
        "dict_t, rev_dict_t = create_index(input_data=words_train_contents+words_train_headlines,threshold=0)\n",
        "# dict_stop_t, rev_dict_stop_t = create_index(input_data=words_70_train_stop_contents+words_20_train_stop_headlines,threshold=0)\n",
        "print('Vocab size (Content): ',len(dict_t))\n",
        "# print('Vocab stop ?size (Content): ',len(dict_stop_t))\n"
      ],
      "execution_count": 0,
      "outputs": [
        {
          "output_type": "stream",
          "text": [
            "IOPub data rate exceeded.\n",
            "The notebook server will temporarily stop sending output\n",
            "to the client in order to avoid crashing it.\n",
            "To change this limit, set the config variable\n",
            "`--NotebookApp.iopub_data_rate_limit`.\n",
            "\n",
            "Current values:\n",
            "NotebookApp.iopub_data_rate_limit=1000000.0 (bytes/sec)\n",
            "NotebookApp.rate_limit_window=3.0 (secs)\n",
            "\n"
          ],
          "name": "stderr"
        }
      ]
    },
    {
      "cell_type": "code",
      "metadata": {
        "id": "IvINZ2LTVdGY",
        "colab_type": "code",
        "outputId": "df2bebfa-3429-4acc-c76c-e2344feb3cb0",
        "colab": {
          "base_uri": "https://localhost:8080/",
          "height": 34
        }
      },
      "source": [
        "print('Vocab size (Content): ',len(dict_t))\n",
        "# print('Vocab stop size (Content): ',len(dict_stop_t))\n",
        "maxlen_output = n_first_headline\n",
        "maxlen = n_first_content\n",
        "vocab_size = len(dict_t)\n",
        "output_vocab_size = vocab_size\n",
        "\n",
        "# m=15000\n",
        "# Tx=maxlen\n",
        "# Ty=maxlen_output"
      ],
      "execution_count": 0,
      "outputs": [
        {
          "output_type": "stream",
          "text": [
            "Vocab size (Content):  31180\n"
          ],
          "name": "stdout"
        }
      ]
    },
    {
      "cell_type": "code",
      "metadata": {
        "id": "NAKgPlBYeiVP",
        "colab_type": "code",
        "colab": {}
      },
      "source": [
        "def convert(input_data,dictionary) :\n",
        "  X = list()\n",
        "  for data in input_data:\n",
        "    sub_data = []\n",
        "    for word in data:\n",
        "      if word in dictionary:\n",
        "        sub_data.append(dictionary[word])\n",
        "      else:\n",
        "        sub_data.append(dictionary[\"UNK\"])\n",
        "    X.append(sub_data)\n",
        "  return np.array(X)"
      ],
      "execution_count": 0,
      "outputs": []
    },
    {
      "cell_type": "code",
      "metadata": {
        "id": "q9WDq2xU_-9k",
        "colab_type": "code",
        "colab": {}
      },
      "source": [
        "X_train = convert(words_train_contents,dict_t)\n",
        "y_train = convert(words_train_headlines,dict_t)\n",
        "X_val = convert(words_val_contents,dict_t)\n",
        "y_val = convert(words_val_headlines,dict_t)\n",
        "X_test = convert(words_test_contents,dict_t)\n",
        "y_test = convert(words_test_headlines,dict_t)"
      ],
      "execution_count": 0,
      "outputs": []
    },
    {
      "cell_type": "code",
      "metadata": {
        "id": "1LpcFB9Xi4N9",
        "colab_type": "code",
        "colab": {}
      },
      "source": [
        "X_train = pad_sequences(X_train,maxlen=maxlen,padding='post')\n",
        "y_train = pad_sequences(y_train,maxlen=maxlen_output,padding='post') \n",
        "X_val = pad_sequences(X_val,maxlen=maxlen,padding='post')\n",
        "y_val = pad_sequences(y_val,maxlen=maxlen_output,padding='post') \n",
        "X_test = pad_sequences(X_test,maxlen=maxlen,padding='post')\n",
        "# y_test = pad_sequences(y_test,maxlen=maxlen_output,padding='post') \n",
        "# y_val = list(y_val.swapaxes(0,1))"
      ],
      "execution_count": 0,
      "outputs": []
    },
    {
      "cell_type": "code",
      "metadata": {
        "id": "lJ1kLp1jzeji",
        "colab_type": "code",
        "colab": {}
      },
      "source": [
        "# # y_train = to_categorical(y_train, vocab_size)\n",
        "# # y_val = to_categorical(y_val, vocab_size)\n",
        "# # y_test = to_categorical(y_test, vocab_size)\n",
        "# y_train = np.array(keras.utils.to_categorical(y_train, num_classes=vocab_size))\n",
        "# y_val = np.array(keras.utils.to_categorical(y_val, num_classes=vocab_size))\n",
        "# # y_test = np.array(keras.utils.to_categorical(y_test, num_classes=vocab_size))"
      ],
      "execution_count": 0,
      "outputs": []
    },
    {
      "cell_type": "markdown",
      "metadata": {
        "id": "V2NFXsnnAKcz",
        "colab_type": "text"
      },
      "source": [
        "# Create Model"
      ]
    },
    {
      "cell_type": "code",
      "metadata": {
        "id": "LkmpayRN1y26",
        "colab_type": "code",
        "colab": {}
      },
      "source": [
        "import tensorflow as tf"
      ],
      "execution_count": 0,
      "outputs": []
    },
    {
      "cell_type": "code",
      "metadata": {
        "id": "R8DIEdEW1eBZ",
        "colab_type": "code",
        "outputId": "a5e13b20-b445-42a4-ab90-378b9970306c",
        "colab": {
          "base_uri": "https://localhost:8080/",
          "height": 34
        }
      },
      "source": [
        "tf.__version__"
      ],
      "execution_count": 0,
      "outputs": [
        {
          "output_type": "execute_result",
          "data": {
            "text/plain": [
              "'2.2.0'"
            ]
          },
          "metadata": {
            "tags": []
          },
          "execution_count": 71
        }
      ]
    },
    {
      "cell_type": "code",
      "metadata": {
        "id": "2WCYCKZSzyii",
        "colab_type": "code",
        "colab": {}
      },
      "source": [
        "%matplotlib inline\n",
        "from tensorflow.keras.preprocessing.sequence import pad_sequences\n",
        "from tensorflow.keras.models import Sequential\n",
        "from tensorflow.keras.layers import Bidirectional, Concatenate, Permute, Dot, Input, LSTM, Multiply,Add,Conv1D,GRU,TimeDistributed\n",
        "from tensorflow.keras.layers import RepeatVector, Dense, Activation, Lambda, Embedding,concatenate,Reshape\n",
        "from tensorflow.keras.optimizers import Adam, RMSprop\n",
        "from tensorflow.keras.utils import to_categorical\n",
        "from tensorflow.keras.callbacks import ModelCheckpoint,EarlyStopping,ReduceLROnPlateau\n",
        "from tensorflow.keras.models import load_model, Model\n",
        "import tensorflow.keras.backend as K\n",
        "import numpy as np"
      ],
      "execution_count": 0,
      "outputs": []
    },
    {
      "cell_type": "code",
      "metadata": {
        "id": "eZQFp3HqgLdT",
        "colab_type": "code",
        "colab": {}
      },
      "source": [
        "maxlen_output = n_first_headline\n",
        "maxlen = n_first_content\n",
        "vocab_size = len(dict_t)\n",
        "output_vocab_size = vocab_size\n",
        "\n",
        "# m=15000\n",
        "# Tx=maxlen\n",
        "# Ty=maxlen_output\n",
        "BATCH_SIZE = 64"
      ],
      "execution_count": 0,
      "outputs": []
    },
    {
      "cell_type": "code",
      "metadata": {
        "id": "nHRAgi9UHjU4",
        "colab_type": "code",
        "colab": {}
      },
      "source": [
        "from random import randrange\n",
        "from tensorflow.keras.activations import softmax\n",
        "from tensorflow.keras.layers import Lambda\n",
        "import tensorflow as tf\n",
        "def one_step_attention(a, s_prev, n_unit):\n",
        "    repeator = RepeatVector(maxlen)\n",
        "    s_prev = repeator(s_prev)\n",
        "    def softMaxAxis1(x):\n",
        "      return softmax(x,axis=1)\n",
        "\n",
        "    concatenator = Concatenate(axis=-1)\n",
        "    activatorSoftmax = Lambda(softMaxAxis1) \n",
        "    dotor = Dot(axes = 1) \n",
        "\n",
        "    concat = concatenator([s_prev, a[:,:,n_unit//2:]])\n",
        "    fattn_1 = Dense(n_unit//2)\n",
        "    fattn_2 = Dense(maxlen_output, activation = \"tanh\")\n",
        "    fattn_3 = Dense(1, activation = \"relu\")\n",
        "    M = fattn_2(fattn_1(concat))\n",
        "    attention_scores = activatorSoftmax(fattn_3(M))\n",
        "    context = dotor([attention_scores,a[:,:,:n_unit//2]])\n",
        "\n",
        "    return context # return whatever you need to complete this homework \n",
        "\n",
        "def define_attention_models(n_input=maxlen,n_output=maxlen_output,n_units=32,dropout_rate=0.0) :\n",
        "  #define training encoder model\n",
        "  encoder_inputs = Input(shape=(maxlen,), name=\"encoder_input\")\n",
        "  embed = Embedding(vocab_size, 200,  name=\"EMBEDDING\")\n",
        "  encoder_embedding = embed(encoder_inputs)\n",
        "  # add dropout to LSTM\n",
        "  # gru = Bidirectional(GRU(n_units//2,return_sequences=True, name=\"encoderGRU\"))\n",
        "  encoder_LSTM  = LSTM(n_units,return_state=True,return_sequences = True, dropout=dropout_rate, name=\"encoderLSTM\")\n",
        "\n",
        "  # gru_output =  gru(encoder_embedding)\n",
        "  h,s,c = encoder_LSTM(encoder_embedding)\n",
        "\n",
        "  # encoder_states = [s, c]\n",
        "  # define training decoder model\n",
        "  decoder_inputs = Input(shape=(maxlen_output, ), name=\"decoder_input\")\n",
        "  decoder_GRU_cell = GRU(n_units//2)\n",
        "  decoder_LSTM_cell = LSTM(n_units, return_state=True, dropout=dropout_rate, name=\"decoder_LSTM_CELL_1\")\n",
        "  decoder_LSTM_cell2 = LSTM(n_units, return_state=True, dropout=dropout_rate, name=\"decoder_LSTM_CELL_2\")\n",
        "  decoder_dense  = Dense(vocab_size, activation='softmax')\n",
        "  add_layer = tf.keras.layers.Add()\n",
        "#   s0 = Input(shape=(n_units,), name='s0')\n",
        "#   c0 = Input(shape=(n_units,), name='c0')\n",
        "  s1 = s\n",
        "  c1 = c\n",
        "  # Initialize empty list of outputs\n",
        "  start_input = Input(shape=(1,),name=\"START\")\n",
        "  outputs2 = list()\n",
        "  for t in range(maxlen_output) :\n",
        "    context = one_step_attention(h,c1,n_units)\n",
        "    s1, _, c1 = decoder_LSTM_cell(context, initial_state=[s1,c1])\n",
        "    if(len(outputs2) == 0):\n",
        "        # print(\"------start feed------\")\n",
        "        s2 = s1\n",
        "        c2 = c1\n",
        "        feed_input = embed(start_input)\n",
        "    elif(randrange(10) >= 0 ):\n",
        "      # print(\"------force feed------\")\n",
        "      feed_input = embed(decoder_inputs[:,t-1])\n",
        "      feed_input = tf.expand_dims(feed_input, axis=1)\n",
        "      s2 = add_layer([s1,s2])\n",
        "      c2 = add_layer([c1,c2])\n",
        "    else :\n",
        "      # print(\"------prev feed------\")\n",
        "      point = tf.math.argmax(decoder_output2, axis=1)\n",
        "      feed_input = embed(point)\n",
        "      feed_input = tf.expand_dims(feed_input, axis=1)\n",
        "      s2 = add_layer([s1,s2])\n",
        "      c2 = add_layer([c1,c2])\n",
        "    s2, _, c2 = decoder_LSTM_cell2(feed_input, initial_state=[s2,c2])\n",
        "    decoder_output2 = decoder_dense(s2)\n",
        "    outputs2.append(decoder_output2)\n",
        "  model = Model(inputs=[encoder_inputs,start_input, decoder_inputs],outputs=outputs2)\n",
        "\n",
        "  # define inference model 1\n",
        "  # define inference model 2\n",
        "  # s3 = s\n",
        "  # c3 = c\n",
        "  # c4 = c\n",
        "  s1 = s\n",
        "  c1 = c\n",
        "  outputs2 = list()\n",
        "  outputs1 = list()\n",
        "  for t in range(maxlen_output) :\n",
        "    context = one_step_attention(h,c1,n_units)\n",
        "    s1, _, c1 = decoder_LSTM_cell(context, initial_state=[s1,c1])\n",
        "    decoder_output1 = decoder_dense(s1)\n",
        "    outputs1.append(decoder_output1)\n",
        "    if(len(outputs2) == 0):\n",
        "        # print(\"------start feed------\")\n",
        "        s2 = s1\n",
        "        c2 = c1\n",
        "        feed_input = embed(start_input)\n",
        "    else :\n",
        "      # print(\"------prev feed------\")\n",
        "      point = tf.math.argmax(decoder_output2, axis=1)\n",
        "      feed_input = embed(point)\n",
        "      feed_input = tf.expand_dims(feed_input, axis=1)\n",
        "      s2 = add_layer([s1,s2])\n",
        "      c2 = add_layer([c1,c2])\n",
        "    s2, _, c2 = decoder_LSTM_cell2(feed_input, initial_state=[s2,c2])\n",
        "    decoder_output2 = decoder_dense(s2)\n",
        "    outputs2.append(decoder_output2)\n",
        "  inference_model1 = Model(inputs=[encoder_inputs,start_input],outputs=outputs1)\n",
        "  inference_model2 = Model(inputs=[encoder_inputs,start_input],outputs=outputs2)\n",
        "  return model,inference_model1, inference_model2"
      ],
      "execution_count": 0,
      "outputs": []
    },
    {
      "cell_type": "code",
      "metadata": {
        "id": "Hr_Ud0CKPFHK",
        "colab_type": "code",
        "outputId": "35d464e2-4cf6-48eb-ce6a-b2d0dd5d8e37",
        "colab": {
          "base_uri": "https://localhost:8080/",
          "height": 1000
        }
      },
      "source": [
        "model = define_attention_models(n_units=128)\n",
        "model[0].summary()"
      ],
      "execution_count": 0,
      "outputs": [
        {
          "output_type": "stream",
          "text": [
            "Model: \"model_15\"\n",
            "__________________________________________________________________________________________________\n",
            "Layer (type)                    Output Shape         Param #     Connected to                     \n",
            "==================================================================================================\n",
            "START (InputLayer)              [(None, 1)]          0                                            \n",
            "__________________________________________________________________________________________________\n",
            "encoder_input (InputLayer)      [(None, 50)]         0                                            \n",
            "__________________________________________________________________________________________________\n",
            "EMBEDDING (Embedding)           multiple             6236000     encoder_input[0][0]              \n",
            "                                                                 START[0][0]                      \n",
            "                                                                 tf_op_layer_strided_slice_499[0][\n",
            "                                                                 tf_op_layer_strided_slice_502[0][\n",
            "                                                                 tf_op_layer_strided_slice_505[0][\n",
            "                                                                 tf_op_layer_strided_slice_508[0][\n",
            "                                                                 tf_op_layer_strided_slice_511[0][\n",
            "                                                                 tf_op_layer_strided_slice_514[0][\n",
            "                                                                 tf_op_layer_strided_slice_517[0][\n",
            "                                                                 tf_op_layer_strided_slice_520[0][\n",
            "                                                                 tf_op_layer_strided_slice_523[0][\n",
            "                                                                 tf_op_layer_strided_slice_526[0][\n",
            "                                                                 tf_op_layer_strided_slice_529[0][\n",
            "                                                                 tf_op_layer_strided_slice_532[0][\n",
            "                                                                 tf_op_layer_strided_slice_535[0][\n",
            "                                                                 tf_op_layer_strided_slice_538[0][\n",
            "                                                                 tf_op_layer_strided_slice_541[0][\n",
            "                                                                 tf_op_layer_strided_slice_544[0][\n",
            "                                                                 tf_op_layer_strided_slice_547[0][\n",
            "                                                                 tf_op_layer_strided_slice_550[0][\n",
            "                                                                 tf_op_layer_strided_slice_553[0][\n",
            "__________________________________________________________________________________________________\n",
            "encoderLSTM (LSTM)              [(None, 50, 128), (N 168448      EMBEDDING[0][0]                  \n",
            "__________________________________________________________________________________________________\n",
            "repeat_vector_200 (RepeatVector (None, 50, 128)      0           encoderLSTM[0][2]                \n",
            "__________________________________________________________________________________________________\n",
            "tf_op_layer_strided_slice_495 ( [(None, 50, 64)]     0           encoderLSTM[0][0]                \n",
            "__________________________________________________________________________________________________\n",
            "concatenate_200 (Concatenate)   (None, 50, 192)      0           repeat_vector_200[0][0]          \n",
            "                                                                 tf_op_layer_strided_slice_495[0][\n",
            "__________________________________________________________________________________________________\n",
            "dense_606 (Dense)               (None, 50, 64)       12352       concatenate_200[0][0]            \n",
            "__________________________________________________________________________________________________\n",
            "dense_607 (Dense)               (None, 50, 20)       1300        dense_606[0][0]                  \n",
            "__________________________________________________________________________________________________\n",
            "dense_608 (Dense)               (None, 50, 1)        21          dense_607[0][0]                  \n",
            "__________________________________________________________________________________________________\n",
            "lambda_200 (Lambda)             (None, 50, 1)        0           dense_608[0][0]                  \n",
            "__________________________________________________________________________________________________\n",
            "tf_op_layer_strided_slice_496 ( [(None, 50, 64)]     0           encoderLSTM[0][0]                \n",
            "__________________________________________________________________________________________________\n",
            "dot_200 (Dot)                   (None, 1, 64)        0           lambda_200[0][0]                 \n",
            "                                                                 tf_op_layer_strided_slice_496[0][\n",
            "__________________________________________________________________________________________________\n",
            "decoder_LSTM_CELL_1 (LSTM)      [(None, 128), (None, 98816       dot_200[0][0]                    \n",
            "                                                                 encoderLSTM[0][1]                \n",
            "                                                                 encoderLSTM[0][2]                \n",
            "                                                                 dot_201[0][0]                    \n",
            "                                                                 decoder_LSTM_CELL_1[0][0]        \n",
            "                                                                 decoder_LSTM_CELL_1[0][2]        \n",
            "                                                                 dot_202[0][0]                    \n",
            "                                                                 decoder_LSTM_CELL_1[1][0]        \n",
            "                                                                 decoder_LSTM_CELL_1[1][2]        \n",
            "                                                                 dot_203[0][0]                    \n",
            "                                                                 decoder_LSTM_CELL_1[2][0]        \n",
            "                                                                 decoder_LSTM_CELL_1[2][2]        \n",
            "                                                                 dot_204[0][0]                    \n",
            "                                                                 decoder_LSTM_CELL_1[3][0]        \n",
            "                                                                 decoder_LSTM_CELL_1[3][2]        \n",
            "                                                                 dot_205[0][0]                    \n",
            "                                                                 decoder_LSTM_CELL_1[4][0]        \n",
            "                                                                 decoder_LSTM_CELL_1[4][2]        \n",
            "                                                                 dot_206[0][0]                    \n",
            "                                                                 decoder_LSTM_CELL_1[5][0]        \n",
            "                                                                 decoder_LSTM_CELL_1[5][2]        \n",
            "                                                                 dot_207[0][0]                    \n",
            "                                                                 decoder_LSTM_CELL_1[6][0]        \n",
            "                                                                 decoder_LSTM_CELL_1[6][2]        \n",
            "                                                                 dot_208[0][0]                    \n",
            "                                                                 decoder_LSTM_CELL_1[7][0]        \n",
            "                                                                 decoder_LSTM_CELL_1[7][2]        \n",
            "                                                                 dot_209[0][0]                    \n",
            "                                                                 decoder_LSTM_CELL_1[8][0]        \n",
            "                                                                 decoder_LSTM_CELL_1[8][2]        \n",
            "                                                                 dot_210[0][0]                    \n",
            "                                                                 decoder_LSTM_CELL_1[9][0]        \n",
            "                                                                 decoder_LSTM_CELL_1[9][2]        \n",
            "                                                                 dot_211[0][0]                    \n",
            "                                                                 decoder_LSTM_CELL_1[10][0]       \n",
            "                                                                 decoder_LSTM_CELL_1[10][2]       \n",
            "                                                                 dot_212[0][0]                    \n",
            "                                                                 decoder_LSTM_CELL_1[11][0]       \n",
            "                                                                 decoder_LSTM_CELL_1[11][2]       \n",
            "                                                                 dot_213[0][0]                    \n",
            "                                                                 decoder_LSTM_CELL_1[12][0]       \n",
            "                                                                 decoder_LSTM_CELL_1[12][2]       \n",
            "                                                                 dot_214[0][0]                    \n",
            "                                                                 decoder_LSTM_CELL_1[13][0]       \n",
            "                                                                 decoder_LSTM_CELL_1[13][2]       \n",
            "                                                                 dot_215[0][0]                    \n",
            "                                                                 decoder_LSTM_CELL_1[14][0]       \n",
            "                                                                 decoder_LSTM_CELL_1[14][2]       \n",
            "                                                                 dot_216[0][0]                    \n",
            "                                                                 decoder_LSTM_CELL_1[15][0]       \n",
            "                                                                 decoder_LSTM_CELL_1[15][2]       \n",
            "                                                                 dot_217[0][0]                    \n",
            "                                                                 decoder_LSTM_CELL_1[16][0]       \n",
            "                                                                 decoder_LSTM_CELL_1[16][2]       \n",
            "                                                                 dot_218[0][0]                    \n",
            "                                                                 decoder_LSTM_CELL_1[17][0]       \n",
            "                                                                 decoder_LSTM_CELL_1[17][2]       \n",
            "                                                                 dot_219[0][0]                    \n",
            "                                                                 decoder_LSTM_CELL_1[18][0]       \n",
            "                                                                 decoder_LSTM_CELL_1[18][2]       \n",
            "__________________________________________________________________________________________________\n",
            "repeat_vector_201 (RepeatVector (None, 50, 128)      0           decoder_LSTM_CELL_1[0][2]        \n",
            "__________________________________________________________________________________________________\n",
            "tf_op_layer_strided_slice_497 ( [(None, 50, 64)]     0           encoderLSTM[0][0]                \n",
            "__________________________________________________________________________________________________\n",
            "concatenate_201 (Concatenate)   (None, 50, 192)      0           repeat_vector_201[0][0]          \n",
            "                                                                 tf_op_layer_strided_slice_497[0][\n",
            "__________________________________________________________________________________________________\n",
            "dense_609 (Dense)               (None, 50, 64)       12352       concatenate_201[0][0]            \n",
            "__________________________________________________________________________________________________\n",
            "dense_610 (Dense)               (None, 50, 20)       1300        dense_609[0][0]                  \n",
            "__________________________________________________________________________________________________\n",
            "dense_611 (Dense)               (None, 50, 1)        21          dense_610[0][0]                  \n",
            "__________________________________________________________________________________________________\n",
            "lambda_201 (Lambda)             (None, 50, 1)        0           dense_611[0][0]                  \n",
            "__________________________________________________________________________________________________\n",
            "tf_op_layer_strided_slice_498 ( [(None, 50, 64)]     0           encoderLSTM[0][0]                \n",
            "__________________________________________________________________________________________________\n",
            "dot_201 (Dot)                   (None, 1, 64)        0           lambda_201[0][0]                 \n",
            "                                                                 tf_op_layer_strided_slice_498[0][\n",
            "__________________________________________________________________________________________________\n",
            "repeat_vector_202 (RepeatVector (None, 50, 128)      0           decoder_LSTM_CELL_1[1][2]        \n",
            "__________________________________________________________________________________________________\n",
            "tf_op_layer_strided_slice_500 ( [(None, 50, 64)]     0           encoderLSTM[0][0]                \n",
            "__________________________________________________________________________________________________\n",
            "concatenate_202 (Concatenate)   (None, 50, 192)      0           repeat_vector_202[0][0]          \n",
            "                                                                 tf_op_layer_strided_slice_500[0][\n",
            "__________________________________________________________________________________________________\n",
            "dense_612 (Dense)               (None, 50, 64)       12352       concatenate_202[0][0]            \n",
            "__________________________________________________________________________________________________\n",
            "dense_613 (Dense)               (None, 50, 20)       1300        dense_612[0][0]                  \n",
            "__________________________________________________________________________________________________\n",
            "dense_614 (Dense)               (None, 50, 1)        21          dense_613[0][0]                  \n",
            "__________________________________________________________________________________________________\n",
            "lambda_202 (Lambda)             (None, 50, 1)        0           dense_614[0][0]                  \n",
            "__________________________________________________________________________________________________\n",
            "tf_op_layer_strided_slice_501 ( [(None, 50, 64)]     0           encoderLSTM[0][0]                \n",
            "__________________________________________________________________________________________________\n",
            "dot_202 (Dot)                   (None, 1, 64)        0           lambda_202[0][0]                 \n",
            "                                                                 tf_op_layer_strided_slice_501[0][\n",
            "__________________________________________________________________________________________________\n",
            "repeat_vector_203 (RepeatVector (None, 50, 128)      0           decoder_LSTM_CELL_1[2][2]        \n",
            "__________________________________________________________________________________________________\n",
            "tf_op_layer_strided_slice_503 ( [(None, 50, 64)]     0           encoderLSTM[0][0]                \n",
            "__________________________________________________________________________________________________\n",
            "concatenate_203 (Concatenate)   (None, 50, 192)      0           repeat_vector_203[0][0]          \n",
            "                                                                 tf_op_layer_strided_slice_503[0][\n",
            "__________________________________________________________________________________________________\n",
            "dense_615 (Dense)               (None, 50, 64)       12352       concatenate_203[0][0]            \n",
            "__________________________________________________________________________________________________\n",
            "dense_616 (Dense)               (None, 50, 20)       1300        dense_615[0][0]                  \n",
            "__________________________________________________________________________________________________\n",
            "dense_617 (Dense)               (None, 50, 1)        21          dense_616[0][0]                  \n",
            "__________________________________________________________________________________________________\n",
            "lambda_203 (Lambda)             (None, 50, 1)        0           dense_617[0][0]                  \n",
            "__________________________________________________________________________________________________\n",
            "tf_op_layer_strided_slice_504 ( [(None, 50, 64)]     0           encoderLSTM[0][0]                \n",
            "__________________________________________________________________________________________________\n",
            "dot_203 (Dot)                   (None, 1, 64)        0           lambda_203[0][0]                 \n",
            "                                                                 tf_op_layer_strided_slice_504[0][\n",
            "__________________________________________________________________________________________________\n",
            "repeat_vector_204 (RepeatVector (None, 50, 128)      0           decoder_LSTM_CELL_1[3][2]        \n",
            "__________________________________________________________________________________________________\n",
            "tf_op_layer_strided_slice_506 ( [(None, 50, 64)]     0           encoderLSTM[0][0]                \n",
            "__________________________________________________________________________________________________\n",
            "concatenate_204 (Concatenate)   (None, 50, 192)      0           repeat_vector_204[0][0]          \n",
            "                                                                 tf_op_layer_strided_slice_506[0][\n",
            "__________________________________________________________________________________________________\n",
            "dense_618 (Dense)               (None, 50, 64)       12352       concatenate_204[0][0]            \n",
            "__________________________________________________________________________________________________\n",
            "dense_619 (Dense)               (None, 50, 20)       1300        dense_618[0][0]                  \n",
            "__________________________________________________________________________________________________\n",
            "dense_620 (Dense)               (None, 50, 1)        21          dense_619[0][0]                  \n",
            "__________________________________________________________________________________________________\n",
            "lambda_204 (Lambda)             (None, 50, 1)        0           dense_620[0][0]                  \n",
            "__________________________________________________________________________________________________\n",
            "tf_op_layer_strided_slice_507 ( [(None, 50, 64)]     0           encoderLSTM[0][0]                \n",
            "__________________________________________________________________________________________________\n",
            "dot_204 (Dot)                   (None, 1, 64)        0           lambda_204[0][0]                 \n",
            "                                                                 tf_op_layer_strided_slice_507[0][\n",
            "__________________________________________________________________________________________________\n",
            "repeat_vector_205 (RepeatVector (None, 50, 128)      0           decoder_LSTM_CELL_1[4][2]        \n",
            "__________________________________________________________________________________________________\n",
            "tf_op_layer_strided_slice_509 ( [(None, 50, 64)]     0           encoderLSTM[0][0]                \n",
            "__________________________________________________________________________________________________\n",
            "concatenate_205 (Concatenate)   (None, 50, 192)      0           repeat_vector_205[0][0]          \n",
            "                                                                 tf_op_layer_strided_slice_509[0][\n",
            "__________________________________________________________________________________________________\n",
            "dense_621 (Dense)               (None, 50, 64)       12352       concatenate_205[0][0]            \n",
            "__________________________________________________________________________________________________\n",
            "dense_622 (Dense)               (None, 50, 20)       1300        dense_621[0][0]                  \n",
            "__________________________________________________________________________________________________\n",
            "dense_623 (Dense)               (None, 50, 1)        21          dense_622[0][0]                  \n",
            "__________________________________________________________________________________________________\n",
            "lambda_205 (Lambda)             (None, 50, 1)        0           dense_623[0][0]                  \n",
            "__________________________________________________________________________________________________\n",
            "tf_op_layer_strided_slice_510 ( [(None, 50, 64)]     0           encoderLSTM[0][0]                \n",
            "__________________________________________________________________________________________________\n",
            "dot_205 (Dot)                   (None, 1, 64)        0           lambda_205[0][0]                 \n",
            "                                                                 tf_op_layer_strided_slice_510[0][\n",
            "__________________________________________________________________________________________________\n",
            "repeat_vector_206 (RepeatVector (None, 50, 128)      0           decoder_LSTM_CELL_1[5][2]        \n",
            "__________________________________________________________________________________________________\n",
            "tf_op_layer_strided_slice_512 ( [(None, 50, 64)]     0           encoderLSTM[0][0]                \n",
            "__________________________________________________________________________________________________\n",
            "concatenate_206 (Concatenate)   (None, 50, 192)      0           repeat_vector_206[0][0]          \n",
            "                                                                 tf_op_layer_strided_slice_512[0][\n",
            "__________________________________________________________________________________________________\n",
            "dense_624 (Dense)               (None, 50, 64)       12352       concatenate_206[0][0]            \n",
            "__________________________________________________________________________________________________\n",
            "dense_625 (Dense)               (None, 50, 20)       1300        dense_624[0][0]                  \n",
            "__________________________________________________________________________________________________\n",
            "dense_626 (Dense)               (None, 50, 1)        21          dense_625[0][0]                  \n",
            "__________________________________________________________________________________________________\n",
            "lambda_206 (Lambda)             (None, 50, 1)        0           dense_626[0][0]                  \n",
            "__________________________________________________________________________________________________\n",
            "tf_op_layer_strided_slice_513 ( [(None, 50, 64)]     0           encoderLSTM[0][0]                \n",
            "__________________________________________________________________________________________________\n",
            "dot_206 (Dot)                   (None, 1, 64)        0           lambda_206[0][0]                 \n",
            "                                                                 tf_op_layer_strided_slice_513[0][\n",
            "__________________________________________________________________________________________________\n",
            "repeat_vector_207 (RepeatVector (None, 50, 128)      0           decoder_LSTM_CELL_1[6][2]        \n",
            "__________________________________________________________________________________________________\n",
            "tf_op_layer_strided_slice_515 ( [(None, 50, 64)]     0           encoderLSTM[0][0]                \n",
            "__________________________________________________________________________________________________\n",
            "concatenate_207 (Concatenate)   (None, 50, 192)      0           repeat_vector_207[0][0]          \n",
            "                                                                 tf_op_layer_strided_slice_515[0][\n",
            "__________________________________________________________________________________________________\n",
            "dense_627 (Dense)               (None, 50, 64)       12352       concatenate_207[0][0]            \n",
            "__________________________________________________________________________________________________\n",
            "dense_628 (Dense)               (None, 50, 20)       1300        dense_627[0][0]                  \n",
            "__________________________________________________________________________________________________\n",
            "dense_629 (Dense)               (None, 50, 1)        21          dense_628[0][0]                  \n",
            "__________________________________________________________________________________________________\n",
            "lambda_207 (Lambda)             (None, 50, 1)        0           dense_629[0][0]                  \n",
            "__________________________________________________________________________________________________\n",
            "tf_op_layer_strided_slice_516 ( [(None, 50, 64)]     0           encoderLSTM[0][0]                \n",
            "__________________________________________________________________________________________________\n",
            "dot_207 (Dot)                   (None, 1, 64)        0           lambda_207[0][0]                 \n",
            "                                                                 tf_op_layer_strided_slice_516[0][\n",
            "__________________________________________________________________________________________________\n",
            "repeat_vector_208 (RepeatVector (None, 50, 128)      0           decoder_LSTM_CELL_1[7][2]        \n",
            "__________________________________________________________________________________________________\n",
            "tf_op_layer_strided_slice_518 ( [(None, 50, 64)]     0           encoderLSTM[0][0]                \n",
            "__________________________________________________________________________________________________\n",
            "concatenate_208 (Concatenate)   (None, 50, 192)      0           repeat_vector_208[0][0]          \n",
            "                                                                 tf_op_layer_strided_slice_518[0][\n",
            "__________________________________________________________________________________________________\n",
            "dense_630 (Dense)               (None, 50, 64)       12352       concatenate_208[0][0]            \n",
            "__________________________________________________________________________________________________\n",
            "dense_631 (Dense)               (None, 50, 20)       1300        dense_630[0][0]                  \n",
            "__________________________________________________________________________________________________\n",
            "dense_632 (Dense)               (None, 50, 1)        21          dense_631[0][0]                  \n",
            "__________________________________________________________________________________________________\n",
            "lambda_208 (Lambda)             (None, 50, 1)        0           dense_632[0][0]                  \n",
            "__________________________________________________________________________________________________\n",
            "tf_op_layer_strided_slice_519 ( [(None, 50, 64)]     0           encoderLSTM[0][0]                \n",
            "__________________________________________________________________________________________________\n",
            "dot_208 (Dot)                   (None, 1, 64)        0           lambda_208[0][0]                 \n",
            "                                                                 tf_op_layer_strided_slice_519[0][\n",
            "__________________________________________________________________________________________________\n",
            "repeat_vector_209 (RepeatVector (None, 50, 128)      0           decoder_LSTM_CELL_1[8][2]        \n",
            "__________________________________________________________________________________________________\n",
            "tf_op_layer_strided_slice_521 ( [(None, 50, 64)]     0           encoderLSTM[0][0]                \n",
            "__________________________________________________________________________________________________\n",
            "concatenate_209 (Concatenate)   (None, 50, 192)      0           repeat_vector_209[0][0]          \n",
            "                                                                 tf_op_layer_strided_slice_521[0][\n",
            "__________________________________________________________________________________________________\n",
            "dense_633 (Dense)               (None, 50, 64)       12352       concatenate_209[0][0]            \n",
            "__________________________________________________________________________________________________\n",
            "dense_634 (Dense)               (None, 50, 20)       1300        dense_633[0][0]                  \n",
            "__________________________________________________________________________________________________\n",
            "dense_635 (Dense)               (None, 50, 1)        21          dense_634[0][0]                  \n",
            "__________________________________________________________________________________________________\n",
            "lambda_209 (Lambda)             (None, 50, 1)        0           dense_635[0][0]                  \n",
            "__________________________________________________________________________________________________\n",
            "tf_op_layer_strided_slice_522 ( [(None, 50, 64)]     0           encoderLSTM[0][0]                \n",
            "__________________________________________________________________________________________________\n",
            "dot_209 (Dot)                   (None, 1, 64)        0           lambda_209[0][0]                 \n",
            "                                                                 tf_op_layer_strided_slice_522[0][\n",
            "__________________________________________________________________________________________________\n",
            "repeat_vector_210 (RepeatVector (None, 50, 128)      0           decoder_LSTM_CELL_1[9][2]        \n",
            "__________________________________________________________________________________________________\n",
            "tf_op_layer_strided_slice_524 ( [(None, 50, 64)]     0           encoderLSTM[0][0]                \n",
            "__________________________________________________________________________________________________\n",
            "concatenate_210 (Concatenate)   (None, 50, 192)      0           repeat_vector_210[0][0]          \n",
            "                                                                 tf_op_layer_strided_slice_524[0][\n",
            "__________________________________________________________________________________________________\n",
            "dense_636 (Dense)               (None, 50, 64)       12352       concatenate_210[0][0]            \n",
            "__________________________________________________________________________________________________\n",
            "dense_637 (Dense)               (None, 50, 20)       1300        dense_636[0][0]                  \n",
            "__________________________________________________________________________________________________\n",
            "dense_638 (Dense)               (None, 50, 1)        21          dense_637[0][0]                  \n",
            "__________________________________________________________________________________________________\n",
            "lambda_210 (Lambda)             (None, 50, 1)        0           dense_638[0][0]                  \n",
            "__________________________________________________________________________________________________\n",
            "tf_op_layer_strided_slice_525 ( [(None, 50, 64)]     0           encoderLSTM[0][0]                \n",
            "__________________________________________________________________________________________________\n",
            "dot_210 (Dot)                   (None, 1, 64)        0           lambda_210[0][0]                 \n",
            "                                                                 tf_op_layer_strided_slice_525[0][\n",
            "__________________________________________________________________________________________________\n",
            "repeat_vector_211 (RepeatVector (None, 50, 128)      0           decoder_LSTM_CELL_1[10][2]       \n",
            "__________________________________________________________________________________________________\n",
            "tf_op_layer_strided_slice_527 ( [(None, 50, 64)]     0           encoderLSTM[0][0]                \n",
            "__________________________________________________________________________________________________\n",
            "concatenate_211 (Concatenate)   (None, 50, 192)      0           repeat_vector_211[0][0]          \n",
            "                                                                 tf_op_layer_strided_slice_527[0][\n",
            "__________________________________________________________________________________________________\n",
            "dense_639 (Dense)               (None, 50, 64)       12352       concatenate_211[0][0]            \n",
            "__________________________________________________________________________________________________\n",
            "dense_640 (Dense)               (None, 50, 20)       1300        dense_639[0][0]                  \n",
            "__________________________________________________________________________________________________\n",
            "dense_641 (Dense)               (None, 50, 1)        21          dense_640[0][0]                  \n",
            "__________________________________________________________________________________________________\n",
            "lambda_211 (Lambda)             (None, 50, 1)        0           dense_641[0][0]                  \n",
            "__________________________________________________________________________________________________\n",
            "tf_op_layer_strided_slice_528 ( [(None, 50, 64)]     0           encoderLSTM[0][0]                \n",
            "__________________________________________________________________________________________________\n",
            "dot_211 (Dot)                   (None, 1, 64)        0           lambda_211[0][0]                 \n",
            "                                                                 tf_op_layer_strided_slice_528[0][\n",
            "__________________________________________________________________________________________________\n",
            "repeat_vector_212 (RepeatVector (None, 50, 128)      0           decoder_LSTM_CELL_1[11][2]       \n",
            "__________________________________________________________________________________________________\n",
            "tf_op_layer_strided_slice_530 ( [(None, 50, 64)]     0           encoderLSTM[0][0]                \n",
            "__________________________________________________________________________________________________\n",
            "concatenate_212 (Concatenate)   (None, 50, 192)      0           repeat_vector_212[0][0]          \n",
            "                                                                 tf_op_layer_strided_slice_530[0][\n",
            "__________________________________________________________________________________________________\n",
            "dense_642 (Dense)               (None, 50, 64)       12352       concatenate_212[0][0]            \n",
            "__________________________________________________________________________________________________\n",
            "dense_643 (Dense)               (None, 50, 20)       1300        dense_642[0][0]                  \n",
            "__________________________________________________________________________________________________\n",
            "dense_644 (Dense)               (None, 50, 1)        21          dense_643[0][0]                  \n",
            "__________________________________________________________________________________________________\n",
            "lambda_212 (Lambda)             (None, 50, 1)        0           dense_644[0][0]                  \n",
            "__________________________________________________________________________________________________\n",
            "tf_op_layer_strided_slice_531 ( [(None, 50, 64)]     0           encoderLSTM[0][0]                \n",
            "__________________________________________________________________________________________________\n",
            "dot_212 (Dot)                   (None, 1, 64)        0           lambda_212[0][0]                 \n",
            "                                                                 tf_op_layer_strided_slice_531[0][\n",
            "__________________________________________________________________________________________________\n",
            "repeat_vector_213 (RepeatVector (None, 50, 128)      0           decoder_LSTM_CELL_1[12][2]       \n",
            "__________________________________________________________________________________________________\n",
            "tf_op_layer_strided_slice_533 ( [(None, 50, 64)]     0           encoderLSTM[0][0]                \n",
            "__________________________________________________________________________________________________\n",
            "concatenate_213 (Concatenate)   (None, 50, 192)      0           repeat_vector_213[0][0]          \n",
            "                                                                 tf_op_layer_strided_slice_533[0][\n",
            "__________________________________________________________________________________________________\n",
            "dense_645 (Dense)               (None, 50, 64)       12352       concatenate_213[0][0]            \n",
            "__________________________________________________________________________________________________\n",
            "dense_646 (Dense)               (None, 50, 20)       1300        dense_645[0][0]                  \n",
            "__________________________________________________________________________________________________\n",
            "dense_647 (Dense)               (None, 50, 1)        21          dense_646[0][0]                  \n",
            "__________________________________________________________________________________________________\n",
            "lambda_213 (Lambda)             (None, 50, 1)        0           dense_647[0][0]                  \n",
            "__________________________________________________________________________________________________\n",
            "tf_op_layer_strided_slice_534 ( [(None, 50, 64)]     0           encoderLSTM[0][0]                \n",
            "__________________________________________________________________________________________________\n",
            "dot_213 (Dot)                   (None, 1, 64)        0           lambda_213[0][0]                 \n",
            "                                                                 tf_op_layer_strided_slice_534[0][\n",
            "__________________________________________________________________________________________________\n",
            "repeat_vector_214 (RepeatVector (None, 50, 128)      0           decoder_LSTM_CELL_1[13][2]       \n",
            "__________________________________________________________________________________________________\n",
            "tf_op_layer_strided_slice_536 ( [(None, 50, 64)]     0           encoderLSTM[0][0]                \n",
            "__________________________________________________________________________________________________\n",
            "concatenate_214 (Concatenate)   (None, 50, 192)      0           repeat_vector_214[0][0]          \n",
            "                                                                 tf_op_layer_strided_slice_536[0][\n",
            "__________________________________________________________________________________________________\n",
            "dense_648 (Dense)               (None, 50, 64)       12352       concatenate_214[0][0]            \n",
            "__________________________________________________________________________________________________\n",
            "dense_649 (Dense)               (None, 50, 20)       1300        dense_648[0][0]                  \n",
            "__________________________________________________________________________________________________\n",
            "dense_650 (Dense)               (None, 50, 1)        21          dense_649[0][0]                  \n",
            "__________________________________________________________________________________________________\n",
            "lambda_214 (Lambda)             (None, 50, 1)        0           dense_650[0][0]                  \n",
            "__________________________________________________________________________________________________\n",
            "tf_op_layer_strided_slice_537 ( [(None, 50, 64)]     0           encoderLSTM[0][0]                \n",
            "__________________________________________________________________________________________________\n",
            "dot_214 (Dot)                   (None, 1, 64)        0           lambda_214[0][0]                 \n",
            "                                                                 tf_op_layer_strided_slice_537[0][\n",
            "__________________________________________________________________________________________________\n",
            "repeat_vector_215 (RepeatVector (None, 50, 128)      0           decoder_LSTM_CELL_1[14][2]       \n",
            "__________________________________________________________________________________________________\n",
            "tf_op_layer_strided_slice_539 ( [(None, 50, 64)]     0           encoderLSTM[0][0]                \n",
            "__________________________________________________________________________________________________\n",
            "decoder_input (InputLayer)      [(None, 20)]         0                                            \n",
            "__________________________________________________________________________________________________\n",
            "concatenate_215 (Concatenate)   (None, 50, 192)      0           repeat_vector_215[0][0]          \n",
            "                                                                 tf_op_layer_strided_slice_539[0][\n",
            "__________________________________________________________________________________________________\n",
            "tf_op_layer_strided_slice_499 ( [(None,)]            0           decoder_input[0][0]              \n",
            "__________________________________________________________________________________________________\n",
            "dense_651 (Dense)               (None, 50, 64)       12352       concatenate_215[0][0]            \n",
            "__________________________________________________________________________________________________\n",
            "decoder_LSTM_CELL_2 (LSTM)      [(None, 128), (None, 168448      EMBEDDING[1][0]                  \n",
            "                                                                 decoder_LSTM_CELL_1[0][0]        \n",
            "                                                                 decoder_LSTM_CELL_1[0][2]        \n",
            "                                                                 tf_op_layer_ExpandDims_190[0][0] \n",
            "                                                                 add_5[0][0]                      \n",
            "                                                                 add_5[1][0]                      \n",
            "                                                                 tf_op_layer_ExpandDims_191[0][0] \n",
            "                                                                 add_5[2][0]                      \n",
            "                                                                 add_5[3][0]                      \n",
            "                                                                 tf_op_layer_ExpandDims_192[0][0] \n",
            "                                                                 add_5[4][0]                      \n",
            "                                                                 add_5[5][0]                      \n",
            "                                                                 tf_op_layer_ExpandDims_193[0][0] \n",
            "                                                                 add_5[6][0]                      \n",
            "                                                                 add_5[7][0]                      \n",
            "                                                                 tf_op_layer_ExpandDims_194[0][0] \n",
            "                                                                 add_5[8][0]                      \n",
            "                                                                 add_5[9][0]                      \n",
            "                                                                 tf_op_layer_ExpandDims_195[0][0] \n",
            "                                                                 add_5[10][0]                     \n",
            "                                                                 add_5[11][0]                     \n",
            "                                                                 tf_op_layer_ExpandDims_196[0][0] \n",
            "                                                                 add_5[12][0]                     \n",
            "                                                                 add_5[13][0]                     \n",
            "                                                                 tf_op_layer_ExpandDims_197[0][0] \n",
            "                                                                 add_5[14][0]                     \n",
            "                                                                 add_5[15][0]                     \n",
            "                                                                 tf_op_layer_ExpandDims_198[0][0] \n",
            "                                                                 add_5[16][0]                     \n",
            "                                                                 add_5[17][0]                     \n",
            "                                                                 tf_op_layer_ExpandDims_199[0][0] \n",
            "                                                                 add_5[18][0]                     \n",
            "                                                                 add_5[19][0]                     \n",
            "                                                                 tf_op_layer_ExpandDims_200[0][0] \n",
            "                                                                 add_5[20][0]                     \n",
            "                                                                 add_5[21][0]                     \n",
            "                                                                 tf_op_layer_ExpandDims_201[0][0] \n",
            "                                                                 add_5[22][0]                     \n",
            "                                                                 add_5[23][0]                     \n",
            "                                                                 tf_op_layer_ExpandDims_202[0][0] \n",
            "                                                                 add_5[24][0]                     \n",
            "                                                                 add_5[25][0]                     \n",
            "                                                                 tf_op_layer_ExpandDims_203[0][0] \n",
            "                                                                 add_5[26][0]                     \n",
            "                                                                 add_5[27][0]                     \n",
            "                                                                 tf_op_layer_ExpandDims_204[0][0] \n",
            "                                                                 add_5[28][0]                     \n",
            "                                                                 add_5[29][0]                     \n",
            "                                                                 tf_op_layer_ExpandDims_205[0][0] \n",
            "                                                                 add_5[30][0]                     \n",
            "                                                                 add_5[31][0]                     \n",
            "                                                                 tf_op_layer_ExpandDims_206[0][0] \n",
            "                                                                 add_5[32][0]                     \n",
            "                                                                 add_5[33][0]                     \n",
            "                                                                 tf_op_layer_ExpandDims_207[0][0] \n",
            "                                                                 add_5[34][0]                     \n",
            "                                                                 add_5[35][0]                     \n",
            "                                                                 tf_op_layer_ExpandDims_208[0][0] \n",
            "                                                                 add_5[36][0]                     \n",
            "                                                                 add_5[37][0]                     \n",
            "__________________________________________________________________________________________________\n",
            "dense_652 (Dense)               (None, 50, 20)       1300        dense_651[0][0]                  \n",
            "__________________________________________________________________________________________________\n",
            "tf_op_layer_ExpandDims_190 (Ten [(None, 1, 200)]     0           EMBEDDING[2][0]                  \n",
            "__________________________________________________________________________________________________\n",
            "add_5 (Add)                     (None, 128)          0           decoder_LSTM_CELL_1[1][0]        \n",
            "                                                                 decoder_LSTM_CELL_2[0][0]        \n",
            "                                                                 decoder_LSTM_CELL_1[1][2]        \n",
            "                                                                 decoder_LSTM_CELL_2[0][2]        \n",
            "                                                                 decoder_LSTM_CELL_1[2][0]        \n",
            "                                                                 decoder_LSTM_CELL_2[1][0]        \n",
            "                                                                 decoder_LSTM_CELL_1[2][2]        \n",
            "                                                                 decoder_LSTM_CELL_2[1][2]        \n",
            "                                                                 decoder_LSTM_CELL_1[3][0]        \n",
            "                                                                 decoder_LSTM_CELL_2[2][0]        \n",
            "                                                                 decoder_LSTM_CELL_1[3][2]        \n",
            "                                                                 decoder_LSTM_CELL_2[2][2]        \n",
            "                                                                 decoder_LSTM_CELL_1[4][0]        \n",
            "                                                                 decoder_LSTM_CELL_2[3][0]        \n",
            "                                                                 decoder_LSTM_CELL_1[4][2]        \n",
            "                                                                 decoder_LSTM_CELL_2[3][2]        \n",
            "                                                                 decoder_LSTM_CELL_1[5][0]        \n",
            "                                                                 decoder_LSTM_CELL_2[4][0]        \n",
            "                                                                 decoder_LSTM_CELL_1[5][2]        \n",
            "                                                                 decoder_LSTM_CELL_2[4][2]        \n",
            "                                                                 decoder_LSTM_CELL_1[6][0]        \n",
            "                                                                 decoder_LSTM_CELL_2[5][0]        \n",
            "                                                                 decoder_LSTM_CELL_1[6][2]        \n",
            "                                                                 decoder_LSTM_CELL_2[5][2]        \n",
            "                                                                 decoder_LSTM_CELL_1[7][0]        \n",
            "                                                                 decoder_LSTM_CELL_2[6][0]        \n",
            "                                                                 decoder_LSTM_CELL_1[7][2]        \n",
            "                                                                 decoder_LSTM_CELL_2[6][2]        \n",
            "                                                                 decoder_LSTM_CELL_1[8][0]        \n",
            "                                                                 decoder_LSTM_CELL_2[7][0]        \n",
            "                                                                 decoder_LSTM_CELL_1[8][2]        \n",
            "                                                                 decoder_LSTM_CELL_2[7][2]        \n",
            "                                                                 decoder_LSTM_CELL_1[9][0]        \n",
            "                                                                 decoder_LSTM_CELL_2[8][0]        \n",
            "                                                                 decoder_LSTM_CELL_1[9][2]        \n",
            "                                                                 decoder_LSTM_CELL_2[8][2]        \n",
            "                                                                 decoder_LSTM_CELL_1[10][0]       \n",
            "                                                                 decoder_LSTM_CELL_2[9][0]        \n",
            "                                                                 decoder_LSTM_CELL_1[10][2]       \n",
            "                                                                 decoder_LSTM_CELL_2[9][2]        \n",
            "                                                                 decoder_LSTM_CELL_1[11][0]       \n",
            "                                                                 decoder_LSTM_CELL_2[10][0]       \n",
            "                                                                 decoder_LSTM_CELL_1[11][2]       \n",
            "                                                                 decoder_LSTM_CELL_2[10][2]       \n",
            "                                                                 decoder_LSTM_CELL_1[12][0]       \n",
            "                                                                 decoder_LSTM_CELL_2[11][0]       \n",
            "                                                                 decoder_LSTM_CELL_1[12][2]       \n",
            "                                                                 decoder_LSTM_CELL_2[11][2]       \n",
            "                                                                 decoder_LSTM_CELL_1[13][0]       \n",
            "                                                                 decoder_LSTM_CELL_2[12][0]       \n",
            "                                                                 decoder_LSTM_CELL_1[13][2]       \n",
            "                                                                 decoder_LSTM_CELL_2[12][2]       \n",
            "                                                                 decoder_LSTM_CELL_1[14][0]       \n",
            "                                                                 decoder_LSTM_CELL_2[13][0]       \n",
            "                                                                 decoder_LSTM_CELL_1[14][2]       \n",
            "                                                                 decoder_LSTM_CELL_2[13][2]       \n",
            "                                                                 decoder_LSTM_CELL_1[15][0]       \n",
            "                                                                 decoder_LSTM_CELL_2[14][0]       \n",
            "                                                                 decoder_LSTM_CELL_1[15][2]       \n",
            "                                                                 decoder_LSTM_CELL_2[14][2]       \n",
            "                                                                 decoder_LSTM_CELL_1[16][0]       \n",
            "                                                                 decoder_LSTM_CELL_2[15][0]       \n",
            "                                                                 decoder_LSTM_CELL_1[16][2]       \n",
            "                                                                 decoder_LSTM_CELL_2[15][2]       \n",
            "                                                                 decoder_LSTM_CELL_1[17][0]       \n",
            "                                                                 decoder_LSTM_CELL_2[16][0]       \n",
            "                                                                 decoder_LSTM_CELL_1[17][2]       \n",
            "                                                                 decoder_LSTM_CELL_2[16][2]       \n",
            "                                                                 decoder_LSTM_CELL_1[18][0]       \n",
            "                                                                 decoder_LSTM_CELL_2[17][0]       \n",
            "                                                                 decoder_LSTM_CELL_1[18][2]       \n",
            "                                                                 decoder_LSTM_CELL_2[17][2]       \n",
            "                                                                 decoder_LSTM_CELL_1[19][0]       \n",
            "                                                                 decoder_LSTM_CELL_2[18][0]       \n",
            "                                                                 decoder_LSTM_CELL_1[19][2]       \n",
            "                                                                 decoder_LSTM_CELL_2[18][2]       \n",
            "__________________________________________________________________________________________________\n",
            "tf_op_layer_strided_slice_502 ( [(None,)]            0           decoder_input[0][0]              \n",
            "__________________________________________________________________________________________________\n",
            "dense_653 (Dense)               (None, 50, 1)        21          dense_652[0][0]                  \n",
            "__________________________________________________________________________________________________\n",
            "lambda_215 (Lambda)             (None, 50, 1)        0           dense_653[0][0]                  \n",
            "__________________________________________________________________________________________________\n",
            "tf_op_layer_strided_slice_540 ( [(None, 50, 64)]     0           encoderLSTM[0][0]                \n",
            "__________________________________________________________________________________________________\n",
            "tf_op_layer_ExpandDims_191 (Ten [(None, 1, 200)]     0           EMBEDDING[3][0]                  \n",
            "__________________________________________________________________________________________________\n",
            "tf_op_layer_strided_slice_505 ( [(None,)]            0           decoder_input[0][0]              \n",
            "__________________________________________________________________________________________________\n",
            "dot_215 (Dot)                   (None, 1, 64)        0           lambda_215[0][0]                 \n",
            "                                                                 tf_op_layer_strided_slice_540[0][\n",
            "__________________________________________________________________________________________________\n",
            "tf_op_layer_ExpandDims_192 (Ten [(None, 1, 200)]     0           EMBEDDING[4][0]                  \n",
            "__________________________________________________________________________________________________\n",
            "tf_op_layer_strided_slice_508 ( [(None,)]            0           decoder_input[0][0]              \n",
            "__________________________________________________________________________________________________\n",
            "repeat_vector_216 (RepeatVector (None, 50, 128)      0           decoder_LSTM_CELL_1[15][2]       \n",
            "__________________________________________________________________________________________________\n",
            "tf_op_layer_strided_slice_542 ( [(None, 50, 64)]     0           encoderLSTM[0][0]                \n",
            "__________________________________________________________________________________________________\n",
            "concatenate_216 (Concatenate)   (None, 50, 192)      0           repeat_vector_216[0][0]          \n",
            "                                                                 tf_op_layer_strided_slice_542[0][\n",
            "__________________________________________________________________________________________________\n",
            "tf_op_layer_ExpandDims_193 (Ten [(None, 1, 200)]     0           EMBEDDING[5][0]                  \n",
            "__________________________________________________________________________________________________\n",
            "tf_op_layer_strided_slice_511 ( [(None,)]            0           decoder_input[0][0]              \n",
            "__________________________________________________________________________________________________\n",
            "dense_654 (Dense)               (None, 50, 64)       12352       concatenate_216[0][0]            \n",
            "__________________________________________________________________________________________________\n",
            "dense_655 (Dense)               (None, 50, 20)       1300        dense_654[0][0]                  \n",
            "__________________________________________________________________________________________________\n",
            "tf_op_layer_ExpandDims_194 (Ten [(None, 1, 200)]     0           EMBEDDING[6][0]                  \n",
            "__________________________________________________________________________________________________\n",
            "tf_op_layer_strided_slice_514 ( [(None,)]            0           decoder_input[0][0]              \n",
            "__________________________________________________________________________________________________\n",
            "dense_656 (Dense)               (None, 50, 1)        21          dense_655[0][0]                  \n",
            "__________________________________________________________________________________________________\n",
            "lambda_216 (Lambda)             (None, 50, 1)        0           dense_656[0][0]                  \n",
            "__________________________________________________________________________________________________\n",
            "tf_op_layer_strided_slice_543 ( [(None, 50, 64)]     0           encoderLSTM[0][0]                \n",
            "__________________________________________________________________________________________________\n",
            "tf_op_layer_ExpandDims_195 (Ten [(None, 1, 200)]     0           EMBEDDING[7][0]                  \n",
            "__________________________________________________________________________________________________\n",
            "tf_op_layer_strided_slice_517 ( [(None,)]            0           decoder_input[0][0]              \n",
            "__________________________________________________________________________________________________\n",
            "dot_216 (Dot)                   (None, 1, 64)        0           lambda_216[0][0]                 \n",
            "                                                                 tf_op_layer_strided_slice_543[0][\n",
            "__________________________________________________________________________________________________\n",
            "tf_op_layer_ExpandDims_196 (Ten [(None, 1, 200)]     0           EMBEDDING[8][0]                  \n",
            "__________________________________________________________________________________________________\n",
            "tf_op_layer_strided_slice_520 ( [(None,)]            0           decoder_input[0][0]              \n",
            "__________________________________________________________________________________________________\n",
            "repeat_vector_217 (RepeatVector (None, 50, 128)      0           decoder_LSTM_CELL_1[16][2]       \n",
            "__________________________________________________________________________________________________\n",
            "tf_op_layer_strided_slice_545 ( [(None, 50, 64)]     0           encoderLSTM[0][0]                \n",
            "__________________________________________________________________________________________________\n",
            "concatenate_217 (Concatenate)   (None, 50, 192)      0           repeat_vector_217[0][0]          \n",
            "                                                                 tf_op_layer_strided_slice_545[0][\n",
            "__________________________________________________________________________________________________\n",
            "tf_op_layer_ExpandDims_197 (Ten [(None, 1, 200)]     0           EMBEDDING[9][0]                  \n",
            "__________________________________________________________________________________________________\n",
            "tf_op_layer_strided_slice_523 ( [(None,)]            0           decoder_input[0][0]              \n",
            "__________________________________________________________________________________________________\n",
            "dense_657 (Dense)               (None, 50, 64)       12352       concatenate_217[0][0]            \n",
            "__________________________________________________________________________________________________\n",
            "dense_658 (Dense)               (None, 50, 20)       1300        dense_657[0][0]                  \n",
            "__________________________________________________________________________________________________\n",
            "tf_op_layer_ExpandDims_198 (Ten [(None, 1, 200)]     0           EMBEDDING[10][0]                 \n",
            "__________________________________________________________________________________________________\n",
            "tf_op_layer_strided_slice_526 ( [(None,)]            0           decoder_input[0][0]              \n",
            "__________________________________________________________________________________________________\n",
            "dense_659 (Dense)               (None, 50, 1)        21          dense_658[0][0]                  \n",
            "__________________________________________________________________________________________________\n",
            "lambda_217 (Lambda)             (None, 50, 1)        0           dense_659[0][0]                  \n",
            "__________________________________________________________________________________________________\n",
            "tf_op_layer_strided_slice_546 ( [(None, 50, 64)]     0           encoderLSTM[0][0]                \n",
            "__________________________________________________________________________________________________\n",
            "tf_op_layer_ExpandDims_199 (Ten [(None, 1, 200)]     0           EMBEDDING[11][0]                 \n",
            "__________________________________________________________________________________________________\n",
            "tf_op_layer_strided_slice_529 ( [(None,)]            0           decoder_input[0][0]              \n",
            "__________________________________________________________________________________________________\n",
            "dot_217 (Dot)                   (None, 1, 64)        0           lambda_217[0][0]                 \n",
            "                                                                 tf_op_layer_strided_slice_546[0][\n",
            "__________________________________________________________________________________________________\n",
            "tf_op_layer_ExpandDims_200 (Ten [(None, 1, 200)]     0           EMBEDDING[12][0]                 \n",
            "__________________________________________________________________________________________________\n",
            "tf_op_layer_strided_slice_532 ( [(None,)]            0           decoder_input[0][0]              \n",
            "__________________________________________________________________________________________________\n",
            "repeat_vector_218 (RepeatVector (None, 50, 128)      0           decoder_LSTM_CELL_1[17][2]       \n",
            "__________________________________________________________________________________________________\n",
            "tf_op_layer_strided_slice_548 ( [(None, 50, 64)]     0           encoderLSTM[0][0]                \n",
            "__________________________________________________________________________________________________\n",
            "concatenate_218 (Concatenate)   (None, 50, 192)      0           repeat_vector_218[0][0]          \n",
            "                                                                 tf_op_layer_strided_slice_548[0][\n",
            "__________________________________________________________________________________________________\n",
            "tf_op_layer_ExpandDims_201 (Ten [(None, 1, 200)]     0           EMBEDDING[13][0]                 \n",
            "__________________________________________________________________________________________________\n",
            "tf_op_layer_strided_slice_535 ( [(None,)]            0           decoder_input[0][0]              \n",
            "__________________________________________________________________________________________________\n",
            "dense_660 (Dense)               (None, 50, 64)       12352       concatenate_218[0][0]            \n",
            "__________________________________________________________________________________________________\n",
            "dense_661 (Dense)               (None, 50, 20)       1300        dense_660[0][0]                  \n",
            "__________________________________________________________________________________________________\n",
            "tf_op_layer_ExpandDims_202 (Ten [(None, 1, 200)]     0           EMBEDDING[14][0]                 \n",
            "__________________________________________________________________________________________________\n",
            "tf_op_layer_strided_slice_538 ( [(None,)]            0           decoder_input[0][0]              \n",
            "__________________________________________________________________________________________________\n",
            "dense_662 (Dense)               (None, 50, 1)        21          dense_661[0][0]                  \n",
            "__________________________________________________________________________________________________\n",
            "lambda_218 (Lambda)             (None, 50, 1)        0           dense_662[0][0]                  \n",
            "__________________________________________________________________________________________________\n",
            "tf_op_layer_strided_slice_549 ( [(None, 50, 64)]     0           encoderLSTM[0][0]                \n",
            "__________________________________________________________________________________________________\n",
            "tf_op_layer_ExpandDims_203 (Ten [(None, 1, 200)]     0           EMBEDDING[15][0]                 \n",
            "__________________________________________________________________________________________________\n",
            "tf_op_layer_strided_slice_541 ( [(None,)]            0           decoder_input[0][0]              \n",
            "__________________________________________________________________________________________________\n",
            "dot_218 (Dot)                   (None, 1, 64)        0           lambda_218[0][0]                 \n",
            "                                                                 tf_op_layer_strided_slice_549[0][\n",
            "__________________________________________________________________________________________________\n",
            "tf_op_layer_ExpandDims_204 (Ten [(None, 1, 200)]     0           EMBEDDING[16][0]                 \n",
            "__________________________________________________________________________________________________\n",
            "tf_op_layer_strided_slice_544 ( [(None,)]            0           decoder_input[0][0]              \n",
            "__________________________________________________________________________________________________\n",
            "repeat_vector_219 (RepeatVector (None, 50, 128)      0           decoder_LSTM_CELL_1[18][2]       \n",
            "__________________________________________________________________________________________________\n",
            "tf_op_layer_strided_slice_551 ( [(None, 50, 64)]     0           encoderLSTM[0][0]                \n",
            "__________________________________________________________________________________________________\n",
            "concatenate_219 (Concatenate)   (None, 50, 192)      0           repeat_vector_219[0][0]          \n",
            "                                                                 tf_op_layer_strided_slice_551[0][\n",
            "__________________________________________________________________________________________________\n",
            "tf_op_layer_ExpandDims_205 (Ten [(None, 1, 200)]     0           EMBEDDING[17][0]                 \n",
            "__________________________________________________________________________________________________\n",
            "tf_op_layer_strided_slice_547 ( [(None,)]            0           decoder_input[0][0]              \n",
            "__________________________________________________________________________________________________\n",
            "dense_663 (Dense)               (None, 50, 64)       12352       concatenate_219[0][0]            \n",
            "__________________________________________________________________________________________________\n",
            "dense_664 (Dense)               (None, 50, 20)       1300        dense_663[0][0]                  \n",
            "__________________________________________________________________________________________________\n",
            "tf_op_layer_ExpandDims_206 (Ten [(None, 1, 200)]     0           EMBEDDING[18][0]                 \n",
            "__________________________________________________________________________________________________\n",
            "tf_op_layer_strided_slice_550 ( [(None,)]            0           decoder_input[0][0]              \n",
            "__________________________________________________________________________________________________\n",
            "dense_665 (Dense)               (None, 50, 1)        21          dense_664[0][0]                  \n",
            "__________________________________________________________________________________________________\n",
            "lambda_219 (Lambda)             (None, 50, 1)        0           dense_665[0][0]                  \n",
            "__________________________________________________________________________________________________\n",
            "tf_op_layer_strided_slice_552 ( [(None, 50, 64)]     0           encoderLSTM[0][0]                \n",
            "__________________________________________________________________________________________________\n",
            "tf_op_layer_ExpandDims_207 (Ten [(None, 1, 200)]     0           EMBEDDING[19][0]                 \n",
            "__________________________________________________________________________________________________\n",
            "tf_op_layer_strided_slice_553 ( [(None,)]            0           decoder_input[0][0]              \n",
            "__________________________________________________________________________________________________\n",
            "dot_219 (Dot)                   (None, 1, 64)        0           lambda_219[0][0]                 \n",
            "                                                                 tf_op_layer_strided_slice_552[0][\n",
            "__________________________________________________________________________________________________\n",
            "tf_op_layer_ExpandDims_208 (Ten [(None, 1, 200)]     0           EMBEDDING[20][0]                 \n",
            "__________________________________________________________________________________________________\n",
            "dense_605 (Dense)               (None, 31180)        4022220     decoder_LSTM_CELL_2[0][0]        \n",
            "                                                                 decoder_LSTM_CELL_2[1][0]        \n",
            "                                                                 decoder_LSTM_CELL_2[2][0]        \n",
            "                                                                 decoder_LSTM_CELL_2[3][0]        \n",
            "                                                                 decoder_LSTM_CELL_2[4][0]        \n",
            "                                                                 decoder_LSTM_CELL_2[5][0]        \n",
            "                                                                 decoder_LSTM_CELL_2[6][0]        \n",
            "                                                                 decoder_LSTM_CELL_2[7][0]        \n",
            "                                                                 decoder_LSTM_CELL_2[8][0]        \n",
            "                                                                 decoder_LSTM_CELL_2[9][0]        \n",
            "                                                                 decoder_LSTM_CELL_2[10][0]       \n",
            "                                                                 decoder_LSTM_CELL_2[11][0]       \n",
            "                                                                 decoder_LSTM_CELL_2[12][0]       \n",
            "                                                                 decoder_LSTM_CELL_2[13][0]       \n",
            "                                                                 decoder_LSTM_CELL_2[14][0]       \n",
            "                                                                 decoder_LSTM_CELL_2[15][0]       \n",
            "                                                                 decoder_LSTM_CELL_2[16][0]       \n",
            "                                                                 decoder_LSTM_CELL_2[17][0]       \n",
            "                                                                 decoder_LSTM_CELL_2[18][0]       \n",
            "                                                                 decoder_LSTM_CELL_2[19][0]       \n",
            "==================================================================================================\n",
            "Total params: 10,967,392\n",
            "Trainable params: 10,967,392\n",
            "Non-trainable params: 0\n",
            "__________________________________________________________________________________________________\n"
          ],
          "name": "stdout"
        }
      ]
    },
    {
      "cell_type": "code",
      "metadata": {
        "id": "SuBLvf6tnH8I",
        "colab_type": "code",
        "colab": {}
      },
      "source": [
        "import numpy as np\n",
        "import math\n",
        "from tensorflow.keras.utils import Sequence\n",
        "# Here, `x_set` is list of path to the images\n",
        "# and `y_set` are the associated classes.\n",
        "\n",
        "class SequenceGenerator(Sequence):\n",
        "\n",
        "    def __init__(self, x_set, y_set, batch_size,num_classes,pred_option):\n",
        "        self.x, self.y = x_set, y_set\n",
        "        self.batch_size = batch_size\n",
        "        self.num_classes = num_classes\n",
        "        self.pred_option = pred_option\n",
        "\n",
        "    def __len__(self):\n",
        "        return math.ceil(len(self.x) / self.batch_size)\n",
        "\n",
        "    def __getitem__(self, idx):\n",
        "        #  y = list(map(lambda mem :np.append(mem,[len(dict_t)-1]),y))\n",
        "        # y_shift = list(map(lambda mem :np.append([len(dict_t)-2], mem[:-1]),y))\n",
        "        # y_shift = pad_sequences(y_shift,maxlen=maxlen_output,padding='post')\n",
        "        # X = np.array(keras.utils.to_categorical(X, num_classes=self.n_classes), dtype=object)\n",
        "        # y_shift = np.array(keras.utils.to_categorical(y_shift, num_classes=self.n_classes))\n",
        "        batch_x = self.x[idx * self.batch_size:(idx + 1) * self.batch_size]\n",
        "        batch_now = len(batch_x)\n",
        "        start_input = np.array([dict_t[\"<s>\"]] * batch_now)\n",
        "        if(self.pred_option) :\n",
        "          return [np.array(batch_x), start_input]\n",
        "        batch_y = self.y[idx * self.batch_size:(idx + 1) * self.batch_size]\n",
        "        batch_y_cat = np.array(tf.keras.utils.to_categorical(batch_y, self.num_classes))\n",
        "        # print(\" ---- \")\n",
        "        # print(np.array(batch_x).shape)\n",
        "        # print(np.array(start_input).shape)\n",
        "        # print(np.array(batch_y).shape)\n",
        "\n",
        "        # s0 = np.zeros((self.batch_size, 64))\n",
        "        # c0 = np.zeros((self.batch_size, 64))\n",
        "        # print(np.array(list(batch_y.swapaxes(0,1).shape)))\n",
        "        # return [np.array(batch_x),s0,c0], list(batch_y.swapaxes(0,1))\n",
        "        return [np.array(batch_x),start_input,np.array(batch_y)], list(batch_y_cat.swapaxes(0,1))"
      ],
      "execution_count": 0,
      "outputs": []
    },
    {
      "cell_type": "code",
      "metadata": {
        "id": "8gN5cKYKVWrC",
        "colab_type": "code",
        "colab": {}
      },
      "source": [
        "drive_path = '/content/drive/Shared drives/NeuroSummary/evaluation/result/thai_gov/50_20/logB'\n",
        "optimizer = 'rmsprop'\n",
        "lr=0.01\n",
        "epoch_num=30\n",
        "batch_size = 64\n",
        "# units=256\n",
        "dropout_rate = 0.0\n",
        "type_dataset = \"train\""
      ],
      "execution_count": 0,
      "outputs": []
    },
    {
      "cell_type": "code",
      "metadata": {
        "id": "erzKmaTMb1HY",
        "colab_type": "code",
        "colab": {}
      },
      "source": [
        "# from my_classes import DataGenerator\n",
        "\n",
        "# Parameters\n",
        "params = {\n",
        "          'dimX': maxlen,\n",
        "          'dimY': maxlen_output,\n",
        "          'batch_size': batch_size,\n",
        "          'n_classes': vocab_size,\n",
        "          'n_channels': 1,\n",
        "          'shuffle': True\n",
        "          }\n",
        "units_to_train = [32,50,64,128,256]\n",
        "# Generators\n",
        "training_generator_seq = SequenceGenerator(np.array(X_train),np.array(y_train),batch_size,vocab_size,0)\n",
        "validation_generator_seq = SequenceGenerator(np.array(X_val),np.array(y_val),batch_size,vocab_size,0)\n",
        "# pred_generator_seq = SequenceGenerator(x_set=np.array(X_val),batch_size = batch_size,num_classes = vocab_size,pred_option=1)"
      ],
      "execution_count": 0,
      "outputs": []
    },
    {
      "cell_type": "code",
      "metadata": {
        "id": "RJxE5KIgER_O",
        "colab_type": "code",
        "outputId": "c65c0e74-7dea-4461-fa53-17fdbc107618",
        "colab": {
          "base_uri": "https://localhost:8080/",
          "height": 34
        }
      },
      "source": [
        "training_generator_seq[0][0][1].shape"
      ],
      "execution_count": 0,
      "outputs": [
        {
          "output_type": "execute_result",
          "data": {
            "text/plain": [
              "(64,)"
            ]
          },
          "metadata": {
            "tags": []
          },
          "execution_count": 80
        }
      ]
    },
    {
      "cell_type": "code",
      "metadata": {
        "id": "z_en43JeeK-w",
        "colab_type": "code",
        "colab": {}
      },
      "source": [
        "model[0].compile(loss='categorical_crossentropy', optimizer=Adam(lr=lr), metrics=['accuracy'],experimental_run_tf_function=False)\n",
        "unit = 128\n",
        "checkpoint_path=  drive_path + f'/v5_{n_first_content}_{n_first_headline}_attention_val_loss_watch:epoch:{epoch_num},lr={lr},{optimizer},batch_size:{batch_size},LSTM_units:{unit},dataset:{type_dataset},dropout:{dropout_rate}.hdf5'\n",
        "callback_list = [\n",
        "  ModelCheckpoint(checkpoint_path, monitor='val_loss', verbose=1, save_best_only=True, mode='min'), \n",
        "  EarlyStopping(monitor='val_loss', mode='min', verbose=1, patience=5),\n",
        "  # ReduceLROnPlateau(monitor='val_loss', factor=0.8, patience=2, min_lr=1e-10),\n",
        "]\n"
      ],
      "execution_count": 0,
      "outputs": []
    },
    {
      "cell_type": "code",
      "metadata": {
        "id": "uPo7PvVweFre",
        "colab_type": "code",
        "outputId": "38badfee-c81f-4845-b952-aa45cb406630",
        "colab": {
          "base_uri": "https://localhost:8080/",
          "height": 1000
        }
      },
      "source": [
        "for epoch,batch in [[30,128]] :\n",
        "  training_generator_seq = SequenceGenerator(np.array(X_train),np.array(y_train),batch,vocab_size,0)\n",
        "  validation_generator_seq = SequenceGenerator(np.array(X_val),np.array(y_val),batch,vocab_size,0)\n",
        "  model[0].fit(x=training_generator_seq,validation_data=validation_generator_seq,callbacks=callback_list,epochs=epoch)"
      ],
      "execution_count": 0,
      "outputs": [
        {
          "output_type": "stream",
          "text": [
            "Epoch 1/30\n",
            "91/91 [==============================] - ETA: 0s - loss: 107.1466 - dense_605_loss: 6.6137 - dense_605_1_loss: 7.2978 - dense_605_2_loss: 7.7621 - dense_605_3_loss: 7.9968 - dense_605_4_loss: 8.0934 - dense_605_5_loss: 8.0355 - dense_605_6_loss: 7.8359 - dense_605_7_loss: 7.4126 - dense_605_8_loss: 6.7887 - dense_605_9_loss: 6.1966 - dense_605_10_loss: 5.5722 - dense_605_11_loss: 4.9205 - dense_605_12_loss: 4.3683 - dense_605_13_loss: 3.7661 - dense_605_14_loss: 3.3016 - dense_605_15_loss: 2.8345 - dense_605_16_loss: 2.5236 - dense_605_17_loss: 2.2177 - dense_605_18_loss: 1.9176 - dense_605_19_loss: 1.6914 - dense_605_accuracy: 0.0308 - dense_605_1_accuracy: 0.0307 - dense_605_2_accuracy: 0.0152 - dense_605_3_accuracy: 0.0163 - dense_605_4_accuracy: 0.0264 - dense_605_5_accuracy: 0.0490 - dense_605_6_accuracy: 0.0893 - dense_605_7_accuracy: 0.1489 - dense_605_8_accuracy: 0.2320 - dense_605_9_accuracy: 0.3109 - dense_605_10_accuracy: 0.3921 - dense_605_11_accuracy: 0.4744 - dense_605_12_accuracy: 0.5523 - dense_605_13_accuracy: 0.6233 - dense_605_14_accuracy: 0.6842 - dense_605_15_accuracy: 0.7367 - dense_605_16_accuracy: 0.7809 - dense_605_17_accuracy: 0.8177 - dense_605_18_accuracy: 0.8509 - dense_605_19_accuracy: 0.8774\n",
            "Epoch 00001: val_loss improved from inf to 93.10865, saving model to /content/drive/Shared drives/NeuroSummary/evaluation/result/thai_gov/50_20/logB/v5_50_20_attention_val_loss_watch:epoch:30,lr=0.01,rmsprop,batch_size:64,LSTM_units:128,dataset:train,dropout:0.0.hdf5\n",
            "91/91 [==============================] - 56s 619ms/step - loss: 107.1466 - dense_605_loss: 6.6137 - dense_605_1_loss: 7.2978 - dense_605_2_loss: 7.7621 - dense_605_3_loss: 7.9968 - dense_605_4_loss: 8.0934 - dense_605_5_loss: 8.0355 - dense_605_6_loss: 7.8359 - dense_605_7_loss: 7.4126 - dense_605_8_loss: 6.7887 - dense_605_9_loss: 6.1966 - dense_605_10_loss: 5.5722 - dense_605_11_loss: 4.9205 - dense_605_12_loss: 4.3683 - dense_605_13_loss: 3.7661 - dense_605_14_loss: 3.3016 - dense_605_15_loss: 2.8345 - dense_605_16_loss: 2.5236 - dense_605_17_loss: 2.2177 - dense_605_18_loss: 1.9176 - dense_605_19_loss: 1.6914 - dense_605_accuracy: 0.0308 - dense_605_1_accuracy: 0.0307 - dense_605_2_accuracy: 0.0152 - dense_605_3_accuracy: 0.0163 - dense_605_4_accuracy: 0.0264 - dense_605_5_accuracy: 0.0490 - dense_605_6_accuracy: 0.0893 - dense_605_7_accuracy: 0.1489 - dense_605_8_accuracy: 0.2320 - dense_605_9_accuracy: 0.3109 - dense_605_10_accuracy: 0.3921 - dense_605_11_accuracy: 0.4744 - dense_605_12_accuracy: 0.5523 - dense_605_13_accuracy: 0.6233 - dense_605_14_accuracy: 0.6842 - dense_605_15_accuracy: 0.7367 - dense_605_16_accuracy: 0.7809 - dense_605_17_accuracy: 0.8177 - dense_605_18_accuracy: 0.8509 - dense_605_19_accuracy: 0.8774 - val_loss: 93.1087 - val_dense_605_loss: 5.7079 - val_dense_605_1_loss: 6.6442 - val_dense_605_2_loss: 7.2074 - val_dense_605_3_loss: 7.3881 - val_dense_605_4_loss: 7.3624 - val_dense_605_5_loss: 7.4474 - val_dense_605_6_loss: 7.2792 - val_dense_605_7_loss: 6.8942 - val_dense_605_8_loss: 6.2288 - val_dense_605_9_loss: 5.5545 - val_dense_605_10_loss: 4.9001 - val_dense_605_11_loss: 4.3304 - val_dense_605_12_loss: 3.5913 - val_dense_605_13_loss: 3.0554 - val_dense_605_14_loss: 2.4919 - val_dense_605_15_loss: 2.0068 - val_dense_605_16_loss: 1.6972 - val_dense_605_17_loss: 1.3188 - val_dense_605_18_loss: 1.1253 - val_dense_605_19_loss: 0.8774 - val_dense_605_accuracy: 0.0856 - val_dense_605_1_accuracy: 0.0839 - val_dense_605_2_accuracy: 0.0262 - val_dense_605_3_accuracy: 0.0350 - val_dense_605_4_accuracy: 0.0605 - val_dense_605_5_accuracy: 0.0598 - val_dense_605_6_accuracy: 0.1066 - val_dense_605_7_accuracy: 0.1615 - val_dense_605_8_accuracy: 0.2524 - val_dense_605_9_accuracy: 0.3307 - val_dense_605_10_accuracy: 0.4086 - val_dense_605_11_accuracy: 0.4862 - val_dense_605_12_accuracy: 0.5652 - val_dense_605_13_accuracy: 0.6379 - val_dense_605_14_accuracy: 0.7078 - val_dense_605_15_accuracy: 0.7574 - val_dense_605_16_accuracy: 0.8022 - val_dense_605_17_accuracy: 0.8459 - val_dense_605_18_accuracy: 0.8731 - val_dense_605_19_accuracy: 0.8972\n",
            "Epoch 2/30\n",
            "91/91 [==============================] - ETA: 0s - loss: 89.6103 - dense_605_loss: 5.4619 - dense_605_1_loss: 6.1395 - dense_605_2_loss: 6.7781 - dense_605_3_loss: 7.0350 - dense_605_4_loss: 7.1868 - dense_605_5_loss: 7.1619 - dense_605_6_loss: 6.9718 - dense_605_7_loss: 6.5501 - dense_605_8_loss: 5.9699 - dense_605_9_loss: 5.3747 - dense_605_10_loss: 4.7540 - dense_605_11_loss: 4.1003 - dense_605_12_loss: 3.5345 - dense_605_13_loss: 2.9575 - dense_605_14_loss: 2.4648 - dense_605_15_loss: 2.0291 - dense_605_16_loss: 1.7019 - dense_605_17_loss: 1.4055 - dense_605_18_loss: 1.1269 - dense_605_19_loss: 0.9060 - dense_605_accuracy: 0.0952 - dense_605_1_accuracy: 0.1144 - dense_605_2_accuracy: 0.0635 - dense_605_3_accuracy: 0.0591 - dense_605_4_accuracy: 0.0567 - dense_605_5_accuracy: 0.0696 - dense_605_6_accuracy: 0.1067 - dense_605_7_accuracy: 0.1689 - dense_605_8_accuracy: 0.2476 - dense_605_9_accuracy: 0.3225 - dense_605_10_accuracy: 0.4006 - dense_605_11_accuracy: 0.4845 - dense_605_12_accuracy: 0.5601 - dense_605_13_accuracy: 0.6332 - dense_605_14_accuracy: 0.6935 - dense_605_15_accuracy: 0.7471 - dense_605_16_accuracy: 0.7889 - dense_605_17_accuracy: 0.8276 - dense_605_18_accuracy: 0.8599 - dense_605_19_accuracy: 0.8881\n",
            "Epoch 00002: val_loss improved from 93.10865 to 87.84066, saving model to /content/drive/Shared drives/NeuroSummary/evaluation/result/thai_gov/50_20/logB/v5_50_20_attention_val_loss_watch:epoch:30,lr=0.01,rmsprop,batch_size:64,LSTM_units:128,dataset:train,dropout:0.0.hdf5\n",
            "91/91 [==============================] - 45s 495ms/step - loss: 89.6103 - dense_605_loss: 5.4619 - dense_605_1_loss: 6.1395 - dense_605_2_loss: 6.7781 - dense_605_3_loss: 7.0350 - dense_605_4_loss: 7.1868 - dense_605_5_loss: 7.1619 - dense_605_6_loss: 6.9718 - dense_605_7_loss: 6.5501 - dense_605_8_loss: 5.9699 - dense_605_9_loss: 5.3747 - dense_605_10_loss: 4.7540 - dense_605_11_loss: 4.1003 - dense_605_12_loss: 3.5345 - dense_605_13_loss: 2.9575 - dense_605_14_loss: 2.4648 - dense_605_15_loss: 2.0291 - dense_605_16_loss: 1.7019 - dense_605_17_loss: 1.4055 - dense_605_18_loss: 1.1269 - dense_605_19_loss: 0.9060 - dense_605_accuracy: 0.0952 - dense_605_1_accuracy: 0.1144 - dense_605_2_accuracy: 0.0635 - dense_605_3_accuracy: 0.0591 - dense_605_4_accuracy: 0.0567 - dense_605_5_accuracy: 0.0696 - dense_605_6_accuracy: 0.1067 - dense_605_7_accuracy: 0.1689 - dense_605_8_accuracy: 0.2476 - dense_605_9_accuracy: 0.3225 - dense_605_10_accuracy: 0.4006 - dense_605_11_accuracy: 0.4845 - dense_605_12_accuracy: 0.5601 - dense_605_13_accuracy: 0.6332 - dense_605_14_accuracy: 0.6935 - dense_605_15_accuracy: 0.7471 - dense_605_16_accuracy: 0.7889 - dense_605_17_accuracy: 0.8276 - dense_605_18_accuracy: 0.8599 - dense_605_19_accuracy: 0.8881 - val_loss: 87.8407 - val_dense_605_loss: 5.4383 - val_dense_605_1_loss: 5.9989 - val_dense_605_2_loss: 6.6713 - val_dense_605_3_loss: 6.9337 - val_dense_605_4_loss: 6.9141 - val_dense_605_5_loss: 7.0404 - val_dense_605_6_loss: 6.9011 - val_dense_605_7_loss: 6.5170 - val_dense_605_8_loss: 5.9406 - val_dense_605_9_loss: 5.2843 - val_dense_605_10_loss: 4.6728 - val_dense_605_11_loss: 4.1336 - val_dense_605_12_loss: 3.4269 - val_dense_605_13_loss: 2.9018 - val_dense_605_14_loss: 2.3766 - val_dense_605_15_loss: 1.9092 - val_dense_605_16_loss: 1.6286 - val_dense_605_17_loss: 1.2612 - val_dense_605_18_loss: 1.0590 - val_dense_605_19_loss: 0.8314 - val_dense_605_accuracy: 0.0860 - val_dense_605_1_accuracy: 0.1042 - val_dense_605_2_accuracy: 0.0622 - val_dense_605_3_accuracy: 0.0671 - val_dense_605_4_accuracy: 0.0828 - val_dense_605_5_accuracy: 0.0748 - val_dense_605_6_accuracy: 0.1171 - val_dense_605_7_accuracy: 0.1811 - val_dense_605_8_accuracy: 0.2593 - val_dense_605_9_accuracy: 0.3355 - val_dense_605_10_accuracy: 0.4128 - val_dense_605_11_accuracy: 0.4918 - val_dense_605_12_accuracy: 0.5655 - val_dense_605_13_accuracy: 0.6407 - val_dense_605_14_accuracy: 0.7074 - val_dense_605_15_accuracy: 0.7599 - val_dense_605_16_accuracy: 0.8001 - val_dense_605_17_accuracy: 0.8452 - val_dense_605_18_accuracy: 0.8735 - val_dense_605_19_accuracy: 0.8969\n",
            "Epoch 3/30\n",
            "91/91 [==============================] - ETA: 0s - loss: 81.7600 - dense_605_loss: 5.1422 - dense_605_1_loss: 5.2940 - dense_605_2_loss: 6.1216 - dense_605_3_loss: 6.4017 - dense_605_4_loss: 6.5086 - dense_605_5_loss: 6.5341 - dense_605_6_loss: 6.3706 - dense_605_7_loss: 5.9827 - dense_605_8_loss: 5.4828 - dense_605_9_loss: 4.9423 - dense_605_10_loss: 4.3866 - dense_605_11_loss: 3.7683 - dense_605_12_loss: 3.2533 - dense_605_13_loss: 2.7105 - dense_605_14_loss: 2.2599 - dense_605_15_loss: 1.8696 - dense_605_16_loss: 1.5672 - dense_605_17_loss: 1.2899 - dense_605_18_loss: 1.0406 - dense_605_19_loss: 0.8337 - dense_605_accuracy: 0.0974 - dense_605_1_accuracy: 0.1785 - dense_605_2_accuracy: 0.1006 - dense_605_3_accuracy: 0.1061 - dense_605_4_accuracy: 0.1034 - dense_605_5_accuracy: 0.1066 - dense_605_6_accuracy: 0.1323 - dense_605_7_accuracy: 0.1929 - dense_605_8_accuracy: 0.2617 - dense_605_9_accuracy: 0.3390 - dense_605_10_accuracy: 0.4149 - dense_605_11_accuracy: 0.4989 - dense_605_12_accuracy: 0.5696 - dense_605_13_accuracy: 0.6424 - dense_605_14_accuracy: 0.6994 - dense_605_15_accuracy: 0.7510 - dense_605_16_accuracy: 0.7929 - dense_605_17_accuracy: 0.8304 - dense_605_18_accuracy: 0.8616 - dense_605_19_accuracy: 0.8889\n",
            "Epoch 00003: val_loss improved from 87.84066 to 81.58503, saving model to /content/drive/Shared drives/NeuroSummary/evaluation/result/thai_gov/50_20/logB/v5_50_20_attention_val_loss_watch:epoch:30,lr=0.01,rmsprop,batch_size:64,LSTM_units:128,dataset:train,dropout:0.0.hdf5\n",
            "91/91 [==============================] - 45s 495ms/step - loss: 81.7600 - dense_605_loss: 5.1422 - dense_605_1_loss: 5.2940 - dense_605_2_loss: 6.1216 - dense_605_3_loss: 6.4017 - dense_605_4_loss: 6.5086 - dense_605_5_loss: 6.5341 - dense_605_6_loss: 6.3706 - dense_605_7_loss: 5.9827 - dense_605_8_loss: 5.4828 - dense_605_9_loss: 4.9423 - dense_605_10_loss: 4.3866 - dense_605_11_loss: 3.7683 - dense_605_12_loss: 3.2533 - dense_605_13_loss: 2.7105 - dense_605_14_loss: 2.2599 - dense_605_15_loss: 1.8696 - dense_605_16_loss: 1.5672 - dense_605_17_loss: 1.2899 - dense_605_18_loss: 1.0406 - dense_605_19_loss: 0.8337 - dense_605_accuracy: 0.0974 - dense_605_1_accuracy: 0.1785 - dense_605_2_accuracy: 0.1006 - dense_605_3_accuracy: 0.1061 - dense_605_4_accuracy: 0.1034 - dense_605_5_accuracy: 0.1066 - dense_605_6_accuracy: 0.1323 - dense_605_7_accuracy: 0.1929 - dense_605_8_accuracy: 0.2617 - dense_605_9_accuracy: 0.3390 - dense_605_10_accuracy: 0.4149 - dense_605_11_accuracy: 0.4989 - dense_605_12_accuracy: 0.5696 - dense_605_13_accuracy: 0.6424 - dense_605_14_accuracy: 0.6994 - dense_605_15_accuracy: 0.7510 - dense_605_16_accuracy: 0.7929 - dense_605_17_accuracy: 0.8304 - dense_605_18_accuracy: 0.8616 - dense_605_19_accuracy: 0.8889 - val_loss: 81.5850 - val_dense_605_loss: 5.3147 - val_dense_605_1_loss: 5.2826 - val_dense_605_2_loss: 6.1496 - val_dense_605_3_loss: 6.3891 - val_dense_605_4_loss: 6.3355 - val_dense_605_5_loss: 6.5034 - val_dense_605_6_loss: 6.3633 - val_dense_605_7_loss: 6.0253 - val_dense_605_8_loss: 5.5572 - val_dense_605_9_loss: 4.9472 - val_dense_605_10_loss: 4.3747 - val_dense_605_11_loss: 3.9044 - val_dense_605_12_loss: 3.1926 - val_dense_605_13_loss: 2.7393 - val_dense_605_14_loss: 2.2381 - val_dense_605_15_loss: 1.7714 - val_dense_605_16_loss: 1.5311 - val_dense_605_17_loss: 1.1946 - val_dense_605_18_loss: 0.9991 - val_dense_605_19_loss: 0.7718 - val_dense_605_accuracy: 0.0856 - val_dense_605_1_accuracy: 0.2017 - val_dense_605_2_accuracy: 0.1241 - val_dense_605_3_accuracy: 0.1433 - val_dense_605_4_accuracy: 0.1388 - val_dense_605_5_accuracy: 0.1300 - val_dense_605_6_accuracy: 0.1559 - val_dense_605_7_accuracy: 0.1996 - val_dense_605_8_accuracy: 0.2817 - val_dense_605_9_accuracy: 0.3590 - val_dense_605_10_accuracy: 0.4299 - val_dense_605_11_accuracy: 0.5012 - val_dense_605_12_accuracy: 0.5806 - val_dense_605_13_accuracy: 0.6487 - val_dense_605_14_accuracy: 0.7099 - val_dense_605_15_accuracy: 0.7686 - val_dense_605_16_accuracy: 0.8050 - val_dense_605_17_accuracy: 0.8487 - val_dense_605_18_accuracy: 0.8784 - val_dense_605_19_accuracy: 0.9025\n",
            "Epoch 4/30\n",
            "91/91 [==============================] - ETA: 0s - loss: 74.2326 - dense_605_loss: 5.0222 - dense_605_1_loss: 4.6126 - dense_605_2_loss: 5.4881 - dense_605_3_loss: 5.7510 - dense_605_4_loss: 5.8832 - dense_605_5_loss: 5.8858 - dense_605_6_loss: 5.7539 - dense_605_7_loss: 5.4156 - dense_605_8_loss: 4.9691 - dense_605_9_loss: 4.5062 - dense_605_10_loss: 4.0018 - dense_605_11_loss: 3.4223 - dense_605_12_loss: 2.9463 - dense_605_13_loss: 2.4758 - dense_605_14_loss: 2.0677 - dense_605_15_loss: 1.7065 - dense_605_16_loss: 1.4202 - dense_605_17_loss: 1.1856 - dense_605_18_loss: 0.9552 - dense_605_19_loss: 0.7635 - dense_605_accuracy: 0.0954 - dense_605_1_accuracy: 0.2314 - dense_605_2_accuracy: 0.1611 - dense_605_3_accuracy: 0.1693 - dense_605_4_accuracy: 0.1555 - dense_605_5_accuracy: 0.1577 - dense_605_6_accuracy: 0.1751 - dense_605_7_accuracy: 0.2283 - dense_605_8_accuracy: 0.2982 - dense_605_9_accuracy: 0.3666 - dense_605_10_accuracy: 0.4361 - dense_605_11_accuracy: 0.5213 - dense_605_12_accuracy: 0.5876 - dense_605_13_accuracy: 0.6544 - dense_605_14_accuracy: 0.7105 - dense_605_15_accuracy: 0.7611 - dense_605_16_accuracy: 0.8028 - dense_605_17_accuracy: 0.8362 - dense_605_18_accuracy: 0.8673 - dense_605_19_accuracy: 0.8946\n",
            "Epoch 00004: val_loss improved from 81.58503 to 77.79381, saving model to /content/drive/Shared drives/NeuroSummary/evaluation/result/thai_gov/50_20/logB/v5_50_20_attention_val_loss_watch:epoch:30,lr=0.01,rmsprop,batch_size:64,LSTM_units:128,dataset:train,dropout:0.0.hdf5\n",
            "91/91 [==============================] - 45s 492ms/step - loss: 74.2326 - dense_605_loss: 5.0222 - dense_605_1_loss: 4.6126 - dense_605_2_loss: 5.4881 - dense_605_3_loss: 5.7510 - dense_605_4_loss: 5.8832 - dense_605_5_loss: 5.8858 - dense_605_6_loss: 5.7539 - dense_605_7_loss: 5.4156 - dense_605_8_loss: 4.9691 - dense_605_9_loss: 4.5062 - dense_605_10_loss: 4.0018 - dense_605_11_loss: 3.4223 - dense_605_12_loss: 2.9463 - dense_605_13_loss: 2.4758 - dense_605_14_loss: 2.0677 - dense_605_15_loss: 1.7065 - dense_605_16_loss: 1.4202 - dense_605_17_loss: 1.1856 - dense_605_18_loss: 0.9552 - dense_605_19_loss: 0.7635 - dense_605_accuracy: 0.0954 - dense_605_1_accuracy: 0.2314 - dense_605_2_accuracy: 0.1611 - dense_605_3_accuracy: 0.1693 - dense_605_4_accuracy: 0.1555 - dense_605_5_accuracy: 0.1577 - dense_605_6_accuracy: 0.1751 - dense_605_7_accuracy: 0.2283 - dense_605_8_accuracy: 0.2982 - dense_605_9_accuracy: 0.3666 - dense_605_10_accuracy: 0.4361 - dense_605_11_accuracy: 0.5213 - dense_605_12_accuracy: 0.5876 - dense_605_13_accuracy: 0.6544 - dense_605_14_accuracy: 0.7105 - dense_605_15_accuracy: 0.7611 - dense_605_16_accuracy: 0.8028 - dense_605_17_accuracy: 0.8362 - dense_605_18_accuracy: 0.8673 - dense_605_19_accuracy: 0.8946 - val_loss: 77.7938 - val_dense_605_loss: 5.2769 - val_dense_605_1_loss: 4.8814 - val_dense_605_2_loss: 5.7913 - val_dense_605_3_loss: 6.0356 - val_dense_605_4_loss: 5.9981 - val_dense_605_5_loss: 6.2069 - val_dense_605_6_loss: 6.0457 - val_dense_605_7_loss: 5.7572 - val_dense_605_8_loss: 5.3295 - val_dense_605_9_loss: 4.7363 - val_dense_605_10_loss: 4.2061 - val_dense_605_11_loss: 3.7159 - val_dense_605_12_loss: 3.0386 - val_dense_605_13_loss: 2.6017 - val_dense_605_14_loss: 2.1285 - val_dense_605_15_loss: 1.6952 - val_dense_605_16_loss: 1.4855 - val_dense_605_17_loss: 1.1436 - val_dense_605_18_loss: 0.9653 - val_dense_605_19_loss: 0.7543 - val_dense_605_accuracy: 0.0989 - val_dense_605_1_accuracy: 0.2548 - val_dense_605_2_accuracy: 0.1695 - val_dense_605_3_accuracy: 0.1779 - val_dense_605_4_accuracy: 0.1846 - val_dense_605_5_accuracy: 0.1744 - val_dense_605_6_accuracy: 0.1936 - val_dense_605_7_accuracy: 0.2447 - val_dense_605_8_accuracy: 0.3111 - val_dense_605_9_accuracy: 0.3799 - val_dense_605_10_accuracy: 0.4425 - val_dense_605_11_accuracy: 0.5211 - val_dense_605_12_accuracy: 0.6033 - val_dense_605_13_accuracy: 0.6641 - val_dense_605_14_accuracy: 0.7232 - val_dense_605_15_accuracy: 0.7777 - val_dense_605_16_accuracy: 0.8113 - val_dense_605_17_accuracy: 0.8515 - val_dense_605_18_accuracy: 0.8815 - val_dense_605_19_accuracy: 0.9021\n",
            "Epoch 5/30\n",
            "91/91 [==============================] - ETA: 0s - loss: 68.3971 - dense_605_loss: 4.9701 - dense_605_1_loss: 4.1709 - dense_605_2_loss: 5.0494 - dense_605_3_loss: 5.2428 - dense_605_4_loss: 5.3853 - dense_605_5_loss: 5.3532 - dense_605_6_loss: 5.2584 - dense_605_7_loss: 4.9550 - dense_605_8_loss: 4.5559 - dense_605_9_loss: 4.1402 - dense_605_10_loss: 3.7114 - dense_605_11_loss: 3.1476 - dense_605_12_loss: 2.7177 - dense_605_13_loss: 2.2799 - dense_605_14_loss: 1.9010 - dense_605_15_loss: 1.5723 - dense_605_16_loss: 1.3096 - dense_605_17_loss: 1.0889 - dense_605_18_loss: 0.8808 - dense_605_19_loss: 0.7068 - dense_605_accuracy: 0.0993 - dense_605_1_accuracy: 0.2758 - dense_605_2_accuracy: 0.2029 - dense_605_3_accuracy: 0.2051 - dense_605_4_accuracy: 0.1915 - dense_605_5_accuracy: 0.1960 - dense_605_6_accuracy: 0.2175 - dense_605_7_accuracy: 0.2633 - dense_605_8_accuracy: 0.3298 - dense_605_9_accuracy: 0.3937 - dense_605_10_accuracy: 0.4582 - dense_605_11_accuracy: 0.5404 - dense_605_12_accuracy: 0.6028 - dense_605_13_accuracy: 0.6671 - dense_605_14_accuracy: 0.7223 - dense_605_15_accuracy: 0.7686 - dense_605_16_accuracy: 0.8085 - dense_605_17_accuracy: 0.8438 - dense_605_18_accuracy: 0.8721 - dense_605_19_accuracy: 0.8979\n",
            "Epoch 00005: val_loss improved from 77.79381 to 75.53461, saving model to /content/drive/Shared drives/NeuroSummary/evaluation/result/thai_gov/50_20/logB/v5_50_20_attention_val_loss_watch:epoch:30,lr=0.01,rmsprop,batch_size:64,LSTM_units:128,dataset:train,dropout:0.0.hdf5\n",
            "91/91 [==============================] - 45s 492ms/step - loss: 68.3971 - dense_605_loss: 4.9701 - dense_605_1_loss: 4.1709 - dense_605_2_loss: 5.0494 - dense_605_3_loss: 5.2428 - dense_605_4_loss: 5.3853 - dense_605_5_loss: 5.3532 - dense_605_6_loss: 5.2584 - dense_605_7_loss: 4.9550 - dense_605_8_loss: 4.5559 - dense_605_9_loss: 4.1402 - dense_605_10_loss: 3.7114 - dense_605_11_loss: 3.1476 - dense_605_12_loss: 2.7177 - dense_605_13_loss: 2.2799 - dense_605_14_loss: 1.9010 - dense_605_15_loss: 1.5723 - dense_605_16_loss: 1.3096 - dense_605_17_loss: 1.0889 - dense_605_18_loss: 0.8808 - dense_605_19_loss: 0.7068 - dense_605_accuracy: 0.0993 - dense_605_1_accuracy: 0.2758 - dense_605_2_accuracy: 0.2029 - dense_605_3_accuracy: 0.2051 - dense_605_4_accuracy: 0.1915 - dense_605_5_accuracy: 0.1960 - dense_605_6_accuracy: 0.2175 - dense_605_7_accuracy: 0.2633 - dense_605_8_accuracy: 0.3298 - dense_605_9_accuracy: 0.3937 - dense_605_10_accuracy: 0.4582 - dense_605_11_accuracy: 0.5404 - dense_605_12_accuracy: 0.6028 - dense_605_13_accuracy: 0.6671 - dense_605_14_accuracy: 0.7223 - dense_605_15_accuracy: 0.7686 - dense_605_16_accuracy: 0.8085 - dense_605_17_accuracy: 0.8438 - dense_605_18_accuracy: 0.8721 - dense_605_19_accuracy: 0.8979 - val_loss: 75.5346 - val_dense_605_loss: 5.2962 - val_dense_605_1_loss: 4.6630 - val_dense_605_2_loss: 5.6134 - val_dense_605_3_loss: 5.8294 - val_dense_605_4_loss: 5.7942 - val_dense_605_5_loss: 6.0011 - val_dense_605_6_loss: 5.8347 - val_dense_605_7_loss: 5.5989 - val_dense_605_8_loss: 5.1800 - val_dense_605_9_loss: 4.5918 - val_dense_605_10_loss: 4.0764 - val_dense_605_11_loss: 3.6098 - val_dense_605_12_loss: 2.9148 - val_dense_605_13_loss: 2.5272 - val_dense_605_14_loss: 2.0865 - val_dense_605_15_loss: 1.6546 - val_dense_605_16_loss: 1.4535 - val_dense_605_17_loss: 1.1232 - val_dense_605_18_loss: 0.9424 - val_dense_605_19_loss: 0.7436 - val_dense_605_accuracy: 0.0979 - val_dense_605_1_accuracy: 0.2894 - val_dense_605_2_accuracy: 0.1989 - val_dense_605_3_accuracy: 0.2059 - val_dense_605_4_accuracy: 0.2090 - val_dense_605_5_accuracy: 0.1926 - val_dense_605_6_accuracy: 0.2132 - val_dense_605_7_accuracy: 0.2653 - val_dense_605_8_accuracy: 0.3275 - val_dense_605_9_accuracy: 0.3960 - val_dense_605_10_accuracy: 0.4582 - val_dense_605_11_accuracy: 0.5295 - val_dense_605_12_accuracy: 0.6117 - val_dense_605_13_accuracy: 0.6707 - val_dense_605_14_accuracy: 0.7288 - val_dense_605_15_accuracy: 0.7822 - val_dense_605_16_accuracy: 0.8123 - val_dense_605_17_accuracy: 0.8556 - val_dense_605_18_accuracy: 0.8854 - val_dense_605_19_accuracy: 0.9042\n",
            "Epoch 6/30\n",
            "91/91 [==============================] - ETA: 0s - loss: 63.6966 - dense_605_loss: 4.9349 - dense_605_1_loss: 3.8574 - dense_605_2_loss: 4.7095 - dense_605_3_loss: 4.8420 - dense_605_4_loss: 4.9762 - dense_605_5_loss: 4.9489 - dense_605_6_loss: 4.8533 - dense_605_7_loss: 4.5714 - dense_605_8_loss: 4.2106 - dense_605_9_loss: 3.8405 - dense_605_10_loss: 3.4523 - dense_605_11_loss: 2.9237 - dense_605_12_loss: 2.5184 - dense_605_13_loss: 2.1205 - dense_605_14_loss: 1.7635 - dense_605_15_loss: 1.4619 - dense_605_16_loss: 1.2200 - dense_605_17_loss: 1.0127 - dense_605_18_loss: 0.8221 - dense_605_19_loss: 0.6565 - dense_605_accuracy: 0.0982 - dense_605_1_accuracy: 0.3036 - dense_605_2_accuracy: 0.2276 - dense_605_3_accuracy: 0.2361 - dense_605_4_accuracy: 0.2219 - dense_605_5_accuracy: 0.2273 - dense_605_6_accuracy: 0.2436 - dense_605_7_accuracy: 0.2924 - dense_605_8_accuracy: 0.3517 - dense_605_9_accuracy: 0.4143 - dense_605_10_accuracy: 0.4765 - dense_605_11_accuracy: 0.5558 - dense_605_12_accuracy: 0.6166 - dense_605_13_accuracy: 0.6769 - dense_605_14_accuracy: 0.7315 - dense_605_15_accuracy: 0.7769 - dense_605_16_accuracy: 0.8126 - dense_605_17_accuracy: 0.8492 - dense_605_18_accuracy: 0.8748 - dense_605_19_accuracy: 0.9001\n",
            "Epoch 00006: val_loss improved from 75.53461 to 74.21080, saving model to /content/drive/Shared drives/NeuroSummary/evaluation/result/thai_gov/50_20/logB/v5_50_20_attention_val_loss_watch:epoch:30,lr=0.01,rmsprop,batch_size:64,LSTM_units:128,dataset:train,dropout:0.0.hdf5\n",
            "91/91 [==============================] - 45s 493ms/step - loss: 63.6966 - dense_605_loss: 4.9349 - dense_605_1_loss: 3.8574 - dense_605_2_loss: 4.7095 - dense_605_3_loss: 4.8420 - dense_605_4_loss: 4.9762 - dense_605_5_loss: 4.9489 - dense_605_6_loss: 4.8533 - dense_605_7_loss: 4.5714 - dense_605_8_loss: 4.2106 - dense_605_9_loss: 3.8405 - dense_605_10_loss: 3.4523 - dense_605_11_loss: 2.9237 - dense_605_12_loss: 2.5184 - dense_605_13_loss: 2.1205 - dense_605_14_loss: 1.7635 - dense_605_15_loss: 1.4619 - dense_605_16_loss: 1.2200 - dense_605_17_loss: 1.0127 - dense_605_18_loss: 0.8221 - dense_605_19_loss: 0.6565 - dense_605_accuracy: 0.0982 - dense_605_1_accuracy: 0.3036 - dense_605_2_accuracy: 0.2276 - dense_605_3_accuracy: 0.2361 - dense_605_4_accuracy: 0.2219 - dense_605_5_accuracy: 0.2273 - dense_605_6_accuracy: 0.2436 - dense_605_7_accuracy: 0.2924 - dense_605_8_accuracy: 0.3517 - dense_605_9_accuracy: 0.4143 - dense_605_10_accuracy: 0.4765 - dense_605_11_accuracy: 0.5558 - dense_605_12_accuracy: 0.6166 - dense_605_13_accuracy: 0.6769 - dense_605_14_accuracy: 0.7315 - dense_605_15_accuracy: 0.7769 - dense_605_16_accuracy: 0.8126 - dense_605_17_accuracy: 0.8492 - dense_605_18_accuracy: 0.8748 - dense_605_19_accuracy: 0.9001 - val_loss: 74.2108 - val_dense_605_loss: 5.2700 - val_dense_605_1_loss: 4.5840 - val_dense_605_2_loss: 5.4754 - val_dense_605_3_loss: 5.7274 - val_dense_605_4_loss: 5.6777 - val_dense_605_5_loss: 5.8971 - val_dense_605_6_loss: 5.7273 - val_dense_605_7_loss: 5.4754 - val_dense_605_8_loss: 5.0829 - val_dense_605_9_loss: 4.5100 - val_dense_605_10_loss: 3.9780 - val_dense_605_11_loss: 3.5657 - val_dense_605_12_loss: 2.8675 - val_dense_605_13_loss: 2.4806 - val_dense_605_14_loss: 2.0557 - val_dense_605_15_loss: 1.6338 - val_dense_605_16_loss: 1.4318 - val_dense_605_17_loss: 1.1082 - val_dense_605_18_loss: 0.9272 - val_dense_605_19_loss: 0.7349 - val_dense_605_accuracy: 0.1007 - val_dense_605_1_accuracy: 0.2940 - val_dense_605_2_accuracy: 0.2181 - val_dense_605_3_accuracy: 0.2167 - val_dense_605_4_accuracy: 0.2237 - val_dense_605_5_accuracy: 0.2094 - val_dense_605_6_accuracy: 0.2254 - val_dense_605_7_accuracy: 0.2726 - val_dense_605_8_accuracy: 0.3362 - val_dense_605_9_accuracy: 0.4075 - val_dense_605_10_accuracy: 0.4694 - val_dense_605_11_accuracy: 0.5334 - val_dense_605_12_accuracy: 0.6120 - val_dense_605_13_accuracy: 0.6742 - val_dense_605_14_accuracy: 0.7295 - val_dense_605_15_accuracy: 0.7854 - val_dense_605_16_accuracy: 0.8158 - val_dense_605_17_accuracy: 0.8567 - val_dense_605_18_accuracy: 0.8864 - val_dense_605_19_accuracy: 0.9032\n",
            "Epoch 7/30\n",
            "91/91 [==============================] - ETA: 0s - loss: 60.9198 - dense_605_loss: 5.0012 - dense_605_1_loss: 3.7206 - dense_605_2_loss: 4.5196 - dense_605_3_loss: 4.6202 - dense_605_4_loss: 4.7188 - dense_605_5_loss: 4.6869 - dense_605_6_loss: 4.6142 - dense_605_7_loss: 4.3586 - dense_605_8_loss: 3.9878 - dense_605_9_loss: 3.6424 - dense_605_10_loss: 3.2726 - dense_605_11_loss: 2.7811 - dense_605_12_loss: 2.4032 - dense_605_13_loss: 2.0044 - dense_605_14_loss: 1.6749 - dense_605_15_loss: 1.3871 - dense_605_16_loss: 1.1592 - dense_605_17_loss: 0.9625 - dense_605_18_loss: 0.7857 - dense_605_19_loss: 0.6190 - dense_605_accuracy: 0.1023 - dense_605_1_accuracy: 0.3136 - dense_605_2_accuracy: 0.2413 - dense_605_3_accuracy: 0.2529 - dense_605_4_accuracy: 0.2468 - dense_605_5_accuracy: 0.2498 - dense_605_6_accuracy: 0.2623 - dense_605_7_accuracy: 0.3062 - dense_605_8_accuracy: 0.3676 - dense_605_9_accuracy: 0.4284 - dense_605_10_accuracy: 0.4893 - dense_605_11_accuracy: 0.5632 - dense_605_12_accuracy: 0.6241 - dense_605_13_accuracy: 0.6871 - dense_605_14_accuracy: 0.7365 - dense_605_15_accuracy: 0.7799 - dense_605_16_accuracy: 0.8173 - dense_605_17_accuracy: 0.8522 - dense_605_18_accuracy: 0.8789 - dense_605_19_accuracy: 0.9036\n",
            "Epoch 00007: val_loss improved from 74.21080 to 73.19738, saving model to /content/drive/Shared drives/NeuroSummary/evaluation/result/thai_gov/50_20/logB/v5_50_20_attention_val_loss_watch:epoch:30,lr=0.01,rmsprop,batch_size:64,LSTM_units:128,dataset:train,dropout:0.0.hdf5\n",
            "91/91 [==============================] - 45s 494ms/step - loss: 60.9198 - dense_605_loss: 5.0012 - dense_605_1_loss: 3.7206 - dense_605_2_loss: 4.5196 - dense_605_3_loss: 4.6202 - dense_605_4_loss: 4.7188 - dense_605_5_loss: 4.6869 - dense_605_6_loss: 4.6142 - dense_605_7_loss: 4.3586 - dense_605_8_loss: 3.9878 - dense_605_9_loss: 3.6424 - dense_605_10_loss: 3.2726 - dense_605_11_loss: 2.7811 - dense_605_12_loss: 2.4032 - dense_605_13_loss: 2.0044 - dense_605_14_loss: 1.6749 - dense_605_15_loss: 1.3871 - dense_605_16_loss: 1.1592 - dense_605_17_loss: 0.9625 - dense_605_18_loss: 0.7857 - dense_605_19_loss: 0.6190 - dense_605_accuracy: 0.1023 - dense_605_1_accuracy: 0.3136 - dense_605_2_accuracy: 0.2413 - dense_605_3_accuracy: 0.2529 - dense_605_4_accuracy: 0.2468 - dense_605_5_accuracy: 0.2498 - dense_605_6_accuracy: 0.2623 - dense_605_7_accuracy: 0.3062 - dense_605_8_accuracy: 0.3676 - dense_605_9_accuracy: 0.4284 - dense_605_10_accuracy: 0.4893 - dense_605_11_accuracy: 0.5632 - dense_605_12_accuracy: 0.6241 - dense_605_13_accuracy: 0.6871 - dense_605_14_accuracy: 0.7365 - dense_605_15_accuracy: 0.7799 - dense_605_16_accuracy: 0.8173 - dense_605_17_accuracy: 0.8522 - dense_605_18_accuracy: 0.8789 - dense_605_19_accuracy: 0.9036 - val_loss: 73.1974 - val_dense_605_loss: 5.3283 - val_dense_605_1_loss: 4.5177 - val_dense_605_2_loss: 5.4242 - val_dense_605_3_loss: 5.6335 - val_dense_605_4_loss: 5.5993 - val_dense_605_5_loss: 5.8318 - val_dense_605_6_loss: 5.6316 - val_dense_605_7_loss: 5.3857 - val_dense_605_8_loss: 4.9992 - val_dense_605_9_loss: 4.3989 - val_dense_605_10_loss: 3.8960 - val_dense_605_11_loss: 3.4986 - val_dense_605_12_loss: 2.8201 - val_dense_605_13_loss: 2.4514 - val_dense_605_14_loss: 2.0302 - val_dense_605_15_loss: 1.6079 - val_dense_605_16_loss: 1.4045 - val_dense_605_17_loss: 1.1011 - val_dense_605_18_loss: 0.9114 - val_dense_605_19_loss: 0.7260 - val_dense_605_accuracy: 0.0965 - val_dense_605_1_accuracy: 0.2891 - val_dense_605_2_accuracy: 0.2230 - val_dense_605_3_accuracy: 0.2279 - val_dense_605_4_accuracy: 0.2363 - val_dense_605_5_accuracy: 0.2157 - val_dense_605_6_accuracy: 0.2300 - val_dense_605_7_accuracy: 0.2814 - val_dense_605_8_accuracy: 0.3467 - val_dense_605_9_accuracy: 0.4166 - val_dense_605_10_accuracy: 0.4792 - val_dense_605_11_accuracy: 0.5369 - val_dense_605_12_accuracy: 0.6173 - val_dense_605_13_accuracy: 0.6746 - val_dense_605_14_accuracy: 0.7333 - val_dense_605_15_accuracy: 0.7840 - val_dense_605_16_accuracy: 0.8200 - val_dense_605_17_accuracy: 0.8570 - val_dense_605_18_accuracy: 0.8899 - val_dense_605_19_accuracy: 0.9060\n",
            "Epoch 8/30\n",
            "91/91 [==============================] - ETA: 0s - loss: 57.5239 - dense_605_loss: 4.8830 - dense_605_1_loss: 3.5012 - dense_605_2_loss: 4.2796 - dense_605_3_loss: 4.3486 - dense_605_4_loss: 4.4424 - dense_605_5_loss: 4.4018 - dense_605_6_loss: 4.3256 - dense_605_7_loss: 4.0897 - dense_605_8_loss: 3.7519 - dense_605_9_loss: 3.4285 - dense_605_10_loss: 3.0969 - dense_605_11_loss: 2.6179 - dense_605_12_loss: 2.2499 - dense_605_13_loss: 1.8915 - dense_605_14_loss: 1.5762 - dense_605_15_loss: 1.3058 - dense_605_16_loss: 1.0944 - dense_605_17_loss: 0.9072 - dense_605_18_loss: 0.7419 - dense_605_19_loss: 0.5899 - dense_605_accuracy: 0.1194 - dense_605_1_accuracy: 0.3329 - dense_605_2_accuracy: 0.2589 - dense_605_3_accuracy: 0.2721 - dense_605_4_accuracy: 0.2654 - dense_605_5_accuracy: 0.2710 - dense_605_6_accuracy: 0.2824 - dense_605_7_accuracy: 0.3241 - dense_605_8_accuracy: 0.3873 - dense_605_9_accuracy: 0.4426 - dense_605_10_accuracy: 0.4987 - dense_605_11_accuracy: 0.5760 - dense_605_12_accuracy: 0.6329 - dense_605_13_accuracy: 0.6933 - dense_605_14_accuracy: 0.7431 - dense_605_15_accuracy: 0.7845 - dense_605_16_accuracy: 0.8223 - dense_605_17_accuracy: 0.8566 - dense_605_18_accuracy: 0.8815 - dense_605_19_accuracy: 0.9044\n",
            "Epoch 00008: val_loss did not improve from 73.19738\n",
            "91/91 [==============================] - 43s 474ms/step - loss: 57.5239 - dense_605_loss: 4.8830 - dense_605_1_loss: 3.5012 - dense_605_2_loss: 4.2796 - dense_605_3_loss: 4.3486 - dense_605_4_loss: 4.4424 - dense_605_5_loss: 4.4018 - dense_605_6_loss: 4.3256 - dense_605_7_loss: 4.0897 - dense_605_8_loss: 3.7519 - dense_605_9_loss: 3.4285 - dense_605_10_loss: 3.0969 - dense_605_11_loss: 2.6179 - dense_605_12_loss: 2.2499 - dense_605_13_loss: 1.8915 - dense_605_14_loss: 1.5762 - dense_605_15_loss: 1.3058 - dense_605_16_loss: 1.0944 - dense_605_17_loss: 0.9072 - dense_605_18_loss: 0.7419 - dense_605_19_loss: 0.5899 - dense_605_accuracy: 0.1194 - dense_605_1_accuracy: 0.3329 - dense_605_2_accuracy: 0.2589 - dense_605_3_accuracy: 0.2721 - dense_605_4_accuracy: 0.2654 - dense_605_5_accuracy: 0.2710 - dense_605_6_accuracy: 0.2824 - dense_605_7_accuracy: 0.3241 - dense_605_8_accuracy: 0.3873 - dense_605_9_accuracy: 0.4426 - dense_605_10_accuracy: 0.4987 - dense_605_11_accuracy: 0.5760 - dense_605_12_accuracy: 0.6329 - dense_605_13_accuracy: 0.6933 - dense_605_14_accuracy: 0.7431 - dense_605_15_accuracy: 0.7845 - dense_605_16_accuracy: 0.8223 - dense_605_17_accuracy: 0.8566 - dense_605_18_accuracy: 0.8815 - dense_605_19_accuracy: 0.9044 - val_loss: 74.1769 - val_dense_605_loss: 5.4010 - val_dense_605_1_loss: 4.6421 - val_dense_605_2_loss: 5.4379 - val_dense_605_3_loss: 5.7065 - val_dense_605_4_loss: 5.6362 - val_dense_605_5_loss: 5.9052 - val_dense_605_6_loss: 5.6858 - val_dense_605_7_loss: 5.4453 - val_dense_605_8_loss: 5.0698 - val_dense_605_9_loss: 4.4468 - val_dense_605_10_loss: 3.9475 - val_dense_605_11_loss: 3.5444 - val_dense_605_12_loss: 2.8613 - val_dense_605_13_loss: 2.4912 - val_dense_605_14_loss: 2.0603 - val_dense_605_15_loss: 1.6622 - val_dense_605_16_loss: 1.4397 - val_dense_605_17_loss: 1.1196 - val_dense_605_18_loss: 0.9318 - val_dense_605_19_loss: 0.7424 - val_dense_605_accuracy: 0.0993 - val_dense_605_1_accuracy: 0.2915 - val_dense_605_2_accuracy: 0.2125 - val_dense_605_3_accuracy: 0.2335 - val_dense_605_4_accuracy: 0.2440 - val_dense_605_5_accuracy: 0.2195 - val_dense_605_6_accuracy: 0.2415 - val_dense_605_7_accuracy: 0.2884 - val_dense_605_8_accuracy: 0.3523 - val_dense_605_9_accuracy: 0.4100 - val_dense_605_10_accuracy: 0.4736 - val_dense_605_11_accuracy: 0.5400 - val_dense_605_12_accuracy: 0.6218 - val_dense_605_13_accuracy: 0.6735 - val_dense_605_14_accuracy: 0.7347 - val_dense_605_15_accuracy: 0.7843 - val_dense_605_16_accuracy: 0.8193 - val_dense_605_17_accuracy: 0.8546 - val_dense_605_18_accuracy: 0.8871 - val_dense_605_19_accuracy: 0.9060\n",
            "Epoch 9/30\n",
            "91/91 [==============================] - ETA: 0s - loss: 54.6750 - dense_605_loss: 4.7157 - dense_605_1_loss: 3.3601 - dense_605_2_loss: 4.0889 - dense_605_3_loss: 4.1455 - dense_605_4_loss: 4.2066 - dense_605_5_loss: 4.1557 - dense_605_6_loss: 4.1093 - dense_605_7_loss: 3.8643 - dense_605_8_loss: 3.5442 - dense_605_9_loss: 3.2460 - dense_605_10_loss: 2.9259 - dense_605_11_loss: 2.4868 - dense_605_12_loss: 2.1359 - dense_605_13_loss: 1.7916 - dense_605_14_loss: 1.4871 - dense_605_15_loss: 1.2449 - dense_605_16_loss: 1.0405 - dense_605_17_loss: 0.8609 - dense_605_18_loss: 0.7054 - dense_605_19_loss: 0.5596 - dense_605_accuracy: 0.1534 - dense_605_1_accuracy: 0.3441 - dense_605_2_accuracy: 0.2709 - dense_605_3_accuracy: 0.2888 - dense_605_4_accuracy: 0.2816 - dense_605_5_accuracy: 0.2877 - dense_605_6_accuracy: 0.2959 - dense_605_7_accuracy: 0.3402 - dense_605_8_accuracy: 0.4019 - dense_605_9_accuracy: 0.4591 - dense_605_10_accuracy: 0.5107 - dense_605_11_accuracy: 0.5832 - dense_605_12_accuracy: 0.6417 - dense_605_13_accuracy: 0.7002 - dense_605_14_accuracy: 0.7487 - dense_605_15_accuracy: 0.7899 - dense_605_16_accuracy: 0.8257 - dense_605_17_accuracy: 0.8585 - dense_605_18_accuracy: 0.8839 - dense_605_19_accuracy: 0.9060\n",
            "Epoch 00009: val_loss improved from 73.19738 to 72.28366, saving model to /content/drive/Shared drives/NeuroSummary/evaluation/result/thai_gov/50_20/logB/v5_50_20_attention_val_loss_watch:epoch:30,lr=0.01,rmsprop,batch_size:64,LSTM_units:128,dataset:train,dropout:0.0.hdf5\n",
            "91/91 [==============================] - 45s 490ms/step - loss: 54.6750 - dense_605_loss: 4.7157 - dense_605_1_loss: 3.3601 - dense_605_2_loss: 4.0889 - dense_605_3_loss: 4.1455 - dense_605_4_loss: 4.2066 - dense_605_5_loss: 4.1557 - dense_605_6_loss: 4.1093 - dense_605_7_loss: 3.8643 - dense_605_8_loss: 3.5442 - dense_605_9_loss: 3.2460 - dense_605_10_loss: 2.9259 - dense_605_11_loss: 2.4868 - dense_605_12_loss: 2.1359 - dense_605_13_loss: 1.7916 - dense_605_14_loss: 1.4871 - dense_605_15_loss: 1.2449 - dense_605_16_loss: 1.0405 - dense_605_17_loss: 0.8609 - dense_605_18_loss: 0.7054 - dense_605_19_loss: 0.5596 - dense_605_accuracy: 0.1534 - dense_605_1_accuracy: 0.3441 - dense_605_2_accuracy: 0.2709 - dense_605_3_accuracy: 0.2888 - dense_605_4_accuracy: 0.2816 - dense_605_5_accuracy: 0.2877 - dense_605_6_accuracy: 0.2959 - dense_605_7_accuracy: 0.3402 - dense_605_8_accuracy: 0.4019 - dense_605_9_accuracy: 0.4591 - dense_605_10_accuracy: 0.5107 - dense_605_11_accuracy: 0.5832 - dense_605_12_accuracy: 0.6417 - dense_605_13_accuracy: 0.7002 - dense_605_14_accuracy: 0.7487 - dense_605_15_accuracy: 0.7899 - dense_605_16_accuracy: 0.8257 - dense_605_17_accuracy: 0.8585 - dense_605_18_accuracy: 0.8839 - dense_605_19_accuracy: 0.9060 - val_loss: 72.2837 - val_dense_605_loss: 5.0347 - val_dense_605_1_loss: 4.4337 - val_dense_605_2_loss: 5.3437 - val_dense_605_3_loss: 5.5592 - val_dense_605_4_loss: 5.5402 - val_dense_605_5_loss: 5.7937 - val_dense_605_6_loss: 5.5846 - val_dense_605_7_loss: 5.3353 - val_dense_605_8_loss: 4.9555 - val_dense_605_9_loss: 4.3653 - val_dense_605_10_loss: 3.8601 - val_dense_605_11_loss: 3.4902 - val_dense_605_12_loss: 2.7867 - val_dense_605_13_loss: 2.4264 - val_dense_605_14_loss: 2.0186 - val_dense_605_15_loss: 1.6229 - val_dense_605_16_loss: 1.4038 - val_dense_605_17_loss: 1.1086 - val_dense_605_18_loss: 0.8948 - val_dense_605_19_loss: 0.7258 - val_dense_605_accuracy: 0.1660 - val_dense_605_1_accuracy: 0.3282 - val_dense_605_2_accuracy: 0.2426 - val_dense_605_3_accuracy: 0.2489 - val_dense_605_4_accuracy: 0.2422 - val_dense_605_5_accuracy: 0.2331 - val_dense_605_6_accuracy: 0.2506 - val_dense_605_7_accuracy: 0.3013 - val_dense_605_8_accuracy: 0.3635 - val_dense_605_9_accuracy: 0.4299 - val_dense_605_10_accuracy: 0.4855 - val_dense_605_11_accuracy: 0.5488 - val_dense_605_12_accuracy: 0.6225 - val_dense_605_13_accuracy: 0.6805 - val_dense_605_14_accuracy: 0.7389 - val_dense_605_15_accuracy: 0.7868 - val_dense_605_16_accuracy: 0.8207 - val_dense_605_17_accuracy: 0.8595 - val_dense_605_18_accuracy: 0.8916 - val_dense_605_19_accuracy: 0.9074\n",
            "Epoch 10/30\n",
            "91/91 [==============================] - ETA: 0s - loss: 51.7057 - dense_605_loss: 4.4676 - dense_605_1_loss: 3.1663 - dense_605_2_loss: 3.8963 - dense_605_3_loss: 3.9149 - dense_605_4_loss: 3.9630 - dense_605_5_loss: 3.9205 - dense_605_6_loss: 3.8884 - dense_605_7_loss: 3.6452 - dense_605_8_loss: 3.3499 - dense_605_9_loss: 3.0764 - dense_605_10_loss: 2.7758 - dense_605_11_loss: 2.3518 - dense_605_12_loss: 2.0166 - dense_605_13_loss: 1.6952 - dense_605_14_loss: 1.4102 - dense_605_15_loss: 1.1713 - dense_605_16_loss: 0.9858 - dense_605_17_loss: 0.8099 - dense_605_18_loss: 0.6725 - dense_605_19_loss: 0.5281 - dense_605_accuracy: 0.1836 - dense_605_1_accuracy: 0.3693 - dense_605_2_accuracy: 0.2882 - dense_605_3_accuracy: 0.3104 - dense_605_4_accuracy: 0.3097 - dense_605_5_accuracy: 0.3111 - dense_605_6_accuracy: 0.3155 - dense_605_7_accuracy: 0.3624 - dense_605_8_accuracy: 0.4211 - dense_605_9_accuracy: 0.4710 - dense_605_10_accuracy: 0.5236 - dense_605_11_accuracy: 0.5948 - dense_605_12_accuracy: 0.6514 - dense_605_13_accuracy: 0.7071 - dense_605_14_accuracy: 0.7551 - dense_605_15_accuracy: 0.7966 - dense_605_16_accuracy: 0.8292 - dense_605_17_accuracy: 0.8639 - dense_605_18_accuracy: 0.8866 - dense_605_19_accuracy: 0.9076\n",
            "Epoch 00010: val_loss improved from 72.28366 to 71.76607, saving model to /content/drive/Shared drives/NeuroSummary/evaluation/result/thai_gov/50_20/logB/v5_50_20_attention_val_loss_watch:epoch:30,lr=0.01,rmsprop,batch_size:64,LSTM_units:128,dataset:train,dropout:0.0.hdf5\n",
            "91/91 [==============================] - 45s 490ms/step - loss: 51.7057 - dense_605_loss: 4.4676 - dense_605_1_loss: 3.1663 - dense_605_2_loss: 3.8963 - dense_605_3_loss: 3.9149 - dense_605_4_loss: 3.9630 - dense_605_5_loss: 3.9205 - dense_605_6_loss: 3.8884 - dense_605_7_loss: 3.6452 - dense_605_8_loss: 3.3499 - dense_605_9_loss: 3.0764 - dense_605_10_loss: 2.7758 - dense_605_11_loss: 2.3518 - dense_605_12_loss: 2.0166 - dense_605_13_loss: 1.6952 - dense_605_14_loss: 1.4102 - dense_605_15_loss: 1.1713 - dense_605_16_loss: 0.9858 - dense_605_17_loss: 0.8099 - dense_605_18_loss: 0.6725 - dense_605_19_loss: 0.5281 - dense_605_accuracy: 0.1836 - dense_605_1_accuracy: 0.3693 - dense_605_2_accuracy: 0.2882 - dense_605_3_accuracy: 0.3104 - dense_605_4_accuracy: 0.3097 - dense_605_5_accuracy: 0.3111 - dense_605_6_accuracy: 0.3155 - dense_605_7_accuracy: 0.3624 - dense_605_8_accuracy: 0.4211 - dense_605_9_accuracy: 0.4710 - dense_605_10_accuracy: 0.5236 - dense_605_11_accuracy: 0.5948 - dense_605_12_accuracy: 0.6514 - dense_605_13_accuracy: 0.7071 - dense_605_14_accuracy: 0.7551 - dense_605_15_accuracy: 0.7966 - dense_605_16_accuracy: 0.8292 - dense_605_17_accuracy: 0.8639 - dense_605_18_accuracy: 0.8866 - dense_605_19_accuracy: 0.9076 - val_loss: 71.7661 - val_dense_605_loss: 4.8439 - val_dense_605_1_loss: 4.4062 - val_dense_605_2_loss: 5.3232 - val_dense_605_3_loss: 5.5366 - val_dense_605_4_loss: 5.5093 - val_dense_605_5_loss: 5.7537 - val_dense_605_6_loss: 5.5731 - val_dense_605_7_loss: 5.3098 - val_dense_605_8_loss: 4.9235 - val_dense_605_9_loss: 4.3488 - val_dense_605_10_loss: 3.8204 - val_dense_605_11_loss: 3.4691 - val_dense_605_12_loss: 2.7785 - val_dense_605_13_loss: 2.4311 - val_dense_605_14_loss: 2.0049 - val_dense_605_15_loss: 1.6066 - val_dense_605_16_loss: 1.4062 - val_dense_605_17_loss: 1.0994 - val_dense_605_18_loss: 0.8955 - val_dense_605_19_loss: 0.7261 - val_dense_605_accuracy: 0.1891 - val_dense_605_1_accuracy: 0.3471 - val_dense_605_2_accuracy: 0.2447 - val_dense_605_3_accuracy: 0.2566 - val_dense_605_4_accuracy: 0.2576 - val_dense_605_5_accuracy: 0.2321 - val_dense_605_6_accuracy: 0.2475 - val_dense_605_7_accuracy: 0.3013 - val_dense_605_8_accuracy: 0.3597 - val_dense_605_9_accuracy: 0.4289 - val_dense_605_10_accuracy: 0.4942 - val_dense_605_11_accuracy: 0.5505 - val_dense_605_12_accuracy: 0.6236 - val_dense_605_13_accuracy: 0.6816 - val_dense_605_14_accuracy: 0.7403 - val_dense_605_15_accuracy: 0.7878 - val_dense_605_16_accuracy: 0.8203 - val_dense_605_17_accuracy: 0.8619 - val_dense_605_18_accuracy: 0.8934 - val_dense_605_19_accuracy: 0.9088\n",
            "Epoch 11/30\n",
            "91/91 [==============================] - ETA: 0s - loss: 49.0718 - dense_605_loss: 4.2808 - dense_605_1_loss: 3.0183 - dense_605_2_loss: 3.7210 - dense_605_3_loss: 3.7107 - dense_605_4_loss: 3.7621 - dense_605_5_loss: 3.7129 - dense_605_6_loss: 3.6811 - dense_605_7_loss: 3.4457 - dense_605_8_loss: 3.1730 - dense_605_9_loss: 2.9141 - dense_605_10_loss: 2.6286 - dense_605_11_loss: 2.2270 - dense_605_12_loss: 1.9037 - dense_605_13_loss: 1.6013 - dense_605_14_loss: 1.3353 - dense_605_15_loss: 1.1112 - dense_605_16_loss: 0.9335 - dense_605_17_loss: 0.7711 - dense_605_18_loss: 0.6372 - dense_605_19_loss: 0.5032 - dense_605_accuracy: 0.2100 - dense_605_1_accuracy: 0.3876 - dense_605_2_accuracy: 0.3019 - dense_605_3_accuracy: 0.3256 - dense_605_4_accuracy: 0.3248 - dense_605_5_accuracy: 0.3291 - dense_605_6_accuracy: 0.3372 - dense_605_7_accuracy: 0.3833 - dense_605_8_accuracy: 0.4387 - dense_605_9_accuracy: 0.4874 - dense_605_10_accuracy: 0.5404 - dense_605_11_accuracy: 0.6053 - dense_605_12_accuracy: 0.6585 - dense_605_13_accuracy: 0.7166 - dense_605_14_accuracy: 0.7635 - dense_605_15_accuracy: 0.8033 - dense_605_16_accuracy: 0.8344 - dense_605_17_accuracy: 0.8690 - dense_605_18_accuracy: 0.8901 - dense_605_19_accuracy: 0.9100\n",
            "Epoch 00011: val_loss improved from 71.76607 to 71.56872, saving model to /content/drive/Shared drives/NeuroSummary/evaluation/result/thai_gov/50_20/logB/v5_50_20_attention_val_loss_watch:epoch:30,lr=0.01,rmsprop,batch_size:64,LSTM_units:128,dataset:train,dropout:0.0.hdf5\n",
            "91/91 [==============================] - 44s 487ms/step - loss: 49.0718 - dense_605_loss: 4.2808 - dense_605_1_loss: 3.0183 - dense_605_2_loss: 3.7210 - dense_605_3_loss: 3.7107 - dense_605_4_loss: 3.7621 - dense_605_5_loss: 3.7129 - dense_605_6_loss: 3.6811 - dense_605_7_loss: 3.4457 - dense_605_8_loss: 3.1730 - dense_605_9_loss: 2.9141 - dense_605_10_loss: 2.6286 - dense_605_11_loss: 2.2270 - dense_605_12_loss: 1.9037 - dense_605_13_loss: 1.6013 - dense_605_14_loss: 1.3353 - dense_605_15_loss: 1.1112 - dense_605_16_loss: 0.9335 - dense_605_17_loss: 0.7711 - dense_605_18_loss: 0.6372 - dense_605_19_loss: 0.5032 - dense_605_accuracy: 0.2100 - dense_605_1_accuracy: 0.3876 - dense_605_2_accuracy: 0.3019 - dense_605_3_accuracy: 0.3256 - dense_605_4_accuracy: 0.3248 - dense_605_5_accuracy: 0.3291 - dense_605_6_accuracy: 0.3372 - dense_605_7_accuracy: 0.3833 - dense_605_8_accuracy: 0.4387 - dense_605_9_accuracy: 0.4874 - dense_605_10_accuracy: 0.5404 - dense_605_11_accuracy: 0.6053 - dense_605_12_accuracy: 0.6585 - dense_605_13_accuracy: 0.7166 - dense_605_14_accuracy: 0.7635 - dense_605_15_accuracy: 0.8033 - dense_605_16_accuracy: 0.8344 - dense_605_17_accuracy: 0.8690 - dense_605_18_accuracy: 0.8901 - dense_605_19_accuracy: 0.9100 - val_loss: 71.5687 - val_dense_605_loss: 4.7491 - val_dense_605_1_loss: 4.3936 - val_dense_605_2_loss: 5.3257 - val_dense_605_3_loss: 5.5156 - val_dense_605_4_loss: 5.5032 - val_dense_605_5_loss: 5.7498 - val_dense_605_6_loss: 5.5560 - val_dense_605_7_loss: 5.2972 - val_dense_605_8_loss: 4.9255 - val_dense_605_9_loss: 4.3391 - val_dense_605_10_loss: 3.8234 - val_dense_605_11_loss: 3.4505 - val_dense_605_12_loss: 2.7679 - val_dense_605_13_loss: 2.4105 - val_dense_605_14_loss: 2.0094 - val_dense_605_15_loss: 1.6191 - val_dense_605_16_loss: 1.4139 - val_dense_605_17_loss: 1.1045 - val_dense_605_18_loss: 0.8892 - val_dense_605_19_loss: 0.7257 - val_dense_605_accuracy: 0.2087 - val_dense_605_1_accuracy: 0.3548 - val_dense_605_2_accuracy: 0.2447 - val_dense_605_3_accuracy: 0.2646 - val_dense_605_4_accuracy: 0.2695 - val_dense_605_5_accuracy: 0.2408 - val_dense_605_6_accuracy: 0.2611 - val_dense_605_7_accuracy: 0.3121 - val_dense_605_8_accuracy: 0.3635 - val_dense_605_9_accuracy: 0.4282 - val_dense_605_10_accuracy: 0.4939 - val_dense_605_11_accuracy: 0.5578 - val_dense_605_12_accuracy: 0.6267 - val_dense_605_13_accuracy: 0.6830 - val_dense_605_14_accuracy: 0.7403 - val_dense_605_15_accuracy: 0.7871 - val_dense_605_16_accuracy: 0.8221 - val_dense_605_17_accuracy: 0.8605 - val_dense_605_18_accuracy: 0.8920 - val_dense_605_19_accuracy: 0.9084\n",
            "Epoch 12/30\n",
            "91/91 [==============================] - ETA: 0s - loss: 46.9834 - dense_605_loss: 4.1567 - dense_605_1_loss: 2.9096 - dense_605_2_loss: 3.5784 - dense_605_3_loss: 3.5481 - dense_605_4_loss: 3.5803 - dense_605_5_loss: 3.5406 - dense_605_6_loss: 3.5099 - dense_605_7_loss: 3.2993 - dense_605_8_loss: 3.0293 - dense_605_9_loss: 2.7828 - dense_605_10_loss: 2.5132 - dense_605_11_loss: 2.1273 - dense_605_12_loss: 1.8222 - dense_605_13_loss: 1.5280 - dense_605_14_loss: 1.2753 - dense_605_15_loss: 1.0640 - dense_605_16_loss: 0.8925 - dense_605_17_loss: 0.7330 - dense_605_18_loss: 0.6111 - dense_605_19_loss: 0.4818 - dense_605_accuracy: 0.2225 - dense_605_1_accuracy: 0.4007 - dense_605_2_accuracy: 0.3112 - dense_605_3_accuracy: 0.3465 - dense_605_4_accuracy: 0.3451 - dense_605_5_accuracy: 0.3471 - dense_605_6_accuracy: 0.3526 - dense_605_7_accuracy: 0.3942 - dense_605_8_accuracy: 0.4514 - dense_605_9_accuracy: 0.4989 - dense_605_10_accuracy: 0.5477 - dense_605_11_accuracy: 0.6146 - dense_605_12_accuracy: 0.6689 - dense_605_13_accuracy: 0.7239 - dense_605_14_accuracy: 0.7690 - dense_605_15_accuracy: 0.8072 - dense_605_16_accuracy: 0.8399 - dense_605_17_accuracy: 0.8724 - dense_605_18_accuracy: 0.8906 - dense_605_19_accuracy: 0.9113\n",
            "Epoch 00012: val_loss did not improve from 71.56872\n",
            "91/91 [==============================] - 43s 471ms/step - loss: 46.9834 - dense_605_loss: 4.1567 - dense_605_1_loss: 2.9096 - dense_605_2_loss: 3.5784 - dense_605_3_loss: 3.5481 - dense_605_4_loss: 3.5803 - dense_605_5_loss: 3.5406 - dense_605_6_loss: 3.5099 - dense_605_7_loss: 3.2993 - dense_605_8_loss: 3.0293 - dense_605_9_loss: 2.7828 - dense_605_10_loss: 2.5132 - dense_605_11_loss: 2.1273 - dense_605_12_loss: 1.8222 - dense_605_13_loss: 1.5280 - dense_605_14_loss: 1.2753 - dense_605_15_loss: 1.0640 - dense_605_16_loss: 0.8925 - dense_605_17_loss: 0.7330 - dense_605_18_loss: 0.6111 - dense_605_19_loss: 0.4818 - dense_605_accuracy: 0.2225 - dense_605_1_accuracy: 0.4007 - dense_605_2_accuracy: 0.3112 - dense_605_3_accuracy: 0.3465 - dense_605_4_accuracy: 0.3451 - dense_605_5_accuracy: 0.3471 - dense_605_6_accuracy: 0.3526 - dense_605_7_accuracy: 0.3942 - dense_605_8_accuracy: 0.4514 - dense_605_9_accuracy: 0.4989 - dense_605_10_accuracy: 0.5477 - dense_605_11_accuracy: 0.6146 - dense_605_12_accuracy: 0.6689 - dense_605_13_accuracy: 0.7239 - dense_605_14_accuracy: 0.7690 - dense_605_15_accuracy: 0.8072 - dense_605_16_accuracy: 0.8399 - dense_605_17_accuracy: 0.8724 - dense_605_18_accuracy: 0.8906 - dense_605_19_accuracy: 0.9113 - val_loss: 71.8672 - val_dense_605_loss: 4.7663 - val_dense_605_1_loss: 4.3753 - val_dense_605_2_loss: 5.2985 - val_dense_605_3_loss: 5.5403 - val_dense_605_4_loss: 5.5422 - val_dense_605_5_loss: 5.7669 - val_dense_605_6_loss: 5.5958 - val_dense_605_7_loss: 5.3163 - val_dense_605_8_loss: 4.9427 - val_dense_605_9_loss: 4.3518 - val_dense_605_10_loss: 3.8149 - val_dense_605_11_loss: 3.4958 - val_dense_605_12_loss: 2.7934 - val_dense_605_13_loss: 2.4308 - val_dense_605_14_loss: 2.0347 - val_dense_605_15_loss: 1.6265 - val_dense_605_16_loss: 1.4247 - val_dense_605_17_loss: 1.1148 - val_dense_605_18_loss: 0.8932 - val_dense_605_19_loss: 0.7422 - val_dense_605_accuracy: 0.2006 - val_dense_605_1_accuracy: 0.3621 - val_dense_605_2_accuracy: 0.2576 - val_dense_605_3_accuracy: 0.2677 - val_dense_605_4_accuracy: 0.2730 - val_dense_605_5_accuracy: 0.2422 - val_dense_605_6_accuracy: 0.2628 - val_dense_605_7_accuracy: 0.3135 - val_dense_605_8_accuracy: 0.3681 - val_dense_605_9_accuracy: 0.4278 - val_dense_605_10_accuracy: 0.4960 - val_dense_605_11_accuracy: 0.5481 - val_dense_605_12_accuracy: 0.6250 - val_dense_605_13_accuracy: 0.6833 - val_dense_605_14_accuracy: 0.7420 - val_dense_605_15_accuracy: 0.7917 - val_dense_605_16_accuracy: 0.8182 - val_dense_605_17_accuracy: 0.8609 - val_dense_605_18_accuracy: 0.8913 - val_dense_605_19_accuracy: 0.9088\n",
            "Epoch 13/30\n",
            "91/91 [==============================] - ETA: 0s - loss: 45.0901 - dense_605_loss: 4.0326 - dense_605_1_loss: 2.8089 - dense_605_2_loss: 3.4727 - dense_605_3_loss: 3.3918 - dense_605_4_loss: 3.4297 - dense_605_5_loss: 3.3817 - dense_605_6_loss: 3.3618 - dense_605_7_loss: 3.1462 - dense_605_8_loss: 2.9015 - dense_605_9_loss: 2.6638 - dense_605_10_loss: 2.4030 - dense_605_11_loss: 2.0345 - dense_605_12_loss: 1.7368 - dense_605_13_loss: 1.4664 - dense_605_14_loss: 1.2184 - dense_605_15_loss: 1.0236 - dense_605_16_loss: 0.8672 - dense_605_17_loss: 0.7025 - dense_605_18_loss: 0.5828 - dense_605_19_loss: 0.4642 - dense_605_accuracy: 0.2423 - dense_605_1_accuracy: 0.4112 - dense_605_2_accuracy: 0.3198 - dense_605_3_accuracy: 0.3593 - dense_605_4_accuracy: 0.3598 - dense_605_5_accuracy: 0.3642 - dense_605_6_accuracy: 0.3638 - dense_605_7_accuracy: 0.4105 - dense_605_8_accuracy: 0.4608 - dense_605_9_accuracy: 0.5085 - dense_605_10_accuracy: 0.5573 - dense_605_11_accuracy: 0.6238 - dense_605_12_accuracy: 0.6757 - dense_605_13_accuracy: 0.7296 - dense_605_14_accuracy: 0.7718 - dense_605_15_accuracy: 0.8109 - dense_605_16_accuracy: 0.8408 - dense_605_17_accuracy: 0.8739 - dense_605_18_accuracy: 0.8937 - dense_605_19_accuracy: 0.9142\n",
            "Epoch 00013: val_loss did not improve from 71.56872\n",
            "91/91 [==============================] - 43s 468ms/step - loss: 45.0901 - dense_605_loss: 4.0326 - dense_605_1_loss: 2.8089 - dense_605_2_loss: 3.4727 - dense_605_3_loss: 3.3918 - dense_605_4_loss: 3.4297 - dense_605_5_loss: 3.3817 - dense_605_6_loss: 3.3618 - dense_605_7_loss: 3.1462 - dense_605_8_loss: 2.9015 - dense_605_9_loss: 2.6638 - dense_605_10_loss: 2.4030 - dense_605_11_loss: 2.0345 - dense_605_12_loss: 1.7368 - dense_605_13_loss: 1.4664 - dense_605_14_loss: 1.2184 - dense_605_15_loss: 1.0236 - dense_605_16_loss: 0.8672 - dense_605_17_loss: 0.7025 - dense_605_18_loss: 0.5828 - dense_605_19_loss: 0.4642 - dense_605_accuracy: 0.2423 - dense_605_1_accuracy: 0.4112 - dense_605_2_accuracy: 0.3198 - dense_605_3_accuracy: 0.3593 - dense_605_4_accuracy: 0.3598 - dense_605_5_accuracy: 0.3642 - dense_605_6_accuracy: 0.3638 - dense_605_7_accuracy: 0.4105 - dense_605_8_accuracy: 0.4608 - dense_605_9_accuracy: 0.5085 - dense_605_10_accuracy: 0.5573 - dense_605_11_accuracy: 0.6238 - dense_605_12_accuracy: 0.6757 - dense_605_13_accuracy: 0.7296 - dense_605_14_accuracy: 0.7718 - dense_605_15_accuracy: 0.8109 - dense_605_16_accuracy: 0.8408 - dense_605_17_accuracy: 0.8739 - dense_605_18_accuracy: 0.8937 - dense_605_19_accuracy: 0.9142 - val_loss: 72.0066 - val_dense_605_loss: 4.5963 - val_dense_605_1_loss: 4.4055 - val_dense_605_2_loss: 5.3051 - val_dense_605_3_loss: 5.5500 - val_dense_605_4_loss: 5.5266 - val_dense_605_5_loss: 5.8099 - val_dense_605_6_loss: 5.6435 - val_dense_605_7_loss: 5.3565 - val_dense_605_8_loss: 4.9682 - val_dense_605_9_loss: 4.3726 - val_dense_605_10_loss: 3.8443 - val_dense_605_11_loss: 3.5164 - val_dense_605_12_loss: 2.7957 - val_dense_605_13_loss: 2.4448 - val_dense_605_14_loss: 2.0419 - val_dense_605_15_loss: 1.6318 - val_dense_605_16_loss: 1.4339 - val_dense_605_17_loss: 1.1203 - val_dense_605_18_loss: 0.8958 - val_dense_605_19_loss: 0.7477 - val_dense_605_accuracy: 0.2268 - val_dense_605_1_accuracy: 0.3579 - val_dense_605_2_accuracy: 0.2524 - val_dense_605_3_accuracy: 0.2621 - val_dense_605_4_accuracy: 0.2670 - val_dense_605_5_accuracy: 0.2429 - val_dense_605_6_accuracy: 0.2562 - val_dense_605_7_accuracy: 0.3195 - val_dense_605_8_accuracy: 0.3726 - val_dense_605_9_accuracy: 0.4387 - val_dense_605_10_accuracy: 0.5002 - val_dense_605_11_accuracy: 0.5554 - val_dense_605_12_accuracy: 0.6274 - val_dense_605_13_accuracy: 0.6865 - val_dense_605_14_accuracy: 0.7427 - val_dense_605_15_accuracy: 0.7903 - val_dense_605_16_accuracy: 0.8249 - val_dense_605_17_accuracy: 0.8626 - val_dense_605_18_accuracy: 0.8923 - val_dense_605_19_accuracy: 0.9105\n",
            "Epoch 14/30\n",
            "91/91 [==============================] - ETA: 0s - loss: 43.4686 - dense_605_loss: 3.8784 - dense_605_1_loss: 2.7195 - dense_605_2_loss: 3.3669 - dense_605_3_loss: 3.2858 - dense_605_4_loss: 3.2963 - dense_605_5_loss: 3.2670 - dense_605_6_loss: 3.2384 - dense_605_7_loss: 3.0297 - dense_605_8_loss: 2.7895 - dense_605_9_loss: 2.5638 - dense_605_10_loss: 2.3064 - dense_605_11_loss: 1.9590 - dense_605_12_loss: 1.6818 - dense_605_13_loss: 1.4086 - dense_605_14_loss: 1.1728 - dense_605_15_loss: 0.9818 - dense_605_16_loss: 0.8292 - dense_605_17_loss: 0.6828 - dense_605_18_loss: 0.5649 - dense_605_19_loss: 0.4460 - dense_605_accuracy: 0.2706 - dense_605_1_accuracy: 0.4263 - dense_605_2_accuracy: 0.3332 - dense_605_3_accuracy: 0.3670 - dense_605_4_accuracy: 0.3727 - dense_605_5_accuracy: 0.3764 - dense_605_6_accuracy: 0.3791 - dense_605_7_accuracy: 0.4249 - dense_605_8_accuracy: 0.4708 - dense_605_9_accuracy: 0.5180 - dense_605_10_accuracy: 0.5687 - dense_605_11_accuracy: 0.6288 - dense_605_12_accuracy: 0.6796 - dense_605_13_accuracy: 0.7334 - dense_605_14_accuracy: 0.7772 - dense_605_15_accuracy: 0.8144 - dense_605_16_accuracy: 0.8438 - dense_605_17_accuracy: 0.8760 - dense_605_18_accuracy: 0.8946 - dense_605_19_accuracy: 0.9155\n",
            "Epoch 00014: val_loss did not improve from 71.56872\n",
            "91/91 [==============================] - 43s 473ms/step - loss: 43.4686 - dense_605_loss: 3.8784 - dense_605_1_loss: 2.7195 - dense_605_2_loss: 3.3669 - dense_605_3_loss: 3.2858 - dense_605_4_loss: 3.2963 - dense_605_5_loss: 3.2670 - dense_605_6_loss: 3.2384 - dense_605_7_loss: 3.0297 - dense_605_8_loss: 2.7895 - dense_605_9_loss: 2.5638 - dense_605_10_loss: 2.3064 - dense_605_11_loss: 1.9590 - dense_605_12_loss: 1.6818 - dense_605_13_loss: 1.4086 - dense_605_14_loss: 1.1728 - dense_605_15_loss: 0.9818 - dense_605_16_loss: 0.8292 - dense_605_17_loss: 0.6828 - dense_605_18_loss: 0.5649 - dense_605_19_loss: 0.4460 - dense_605_accuracy: 0.2706 - dense_605_1_accuracy: 0.4263 - dense_605_2_accuracy: 0.3332 - dense_605_3_accuracy: 0.3670 - dense_605_4_accuracy: 0.3727 - dense_605_5_accuracy: 0.3764 - dense_605_6_accuracy: 0.3791 - dense_605_7_accuracy: 0.4249 - dense_605_8_accuracy: 0.4708 - dense_605_9_accuracy: 0.5180 - dense_605_10_accuracy: 0.5687 - dense_605_11_accuracy: 0.6288 - dense_605_12_accuracy: 0.6796 - dense_605_13_accuracy: 0.7334 - dense_605_14_accuracy: 0.7772 - dense_605_15_accuracy: 0.8144 - dense_605_16_accuracy: 0.8438 - dense_605_17_accuracy: 0.8760 - dense_605_18_accuracy: 0.8946 - dense_605_19_accuracy: 0.9155 - val_loss: 72.2584 - val_dense_605_loss: 4.4836 - val_dense_605_1_loss: 4.3868 - val_dense_605_2_loss: 5.3539 - val_dense_605_3_loss: 5.5488 - val_dense_605_4_loss: 5.5620 - val_dense_605_5_loss: 5.8495 - val_dense_605_6_loss: 5.6626 - val_dense_605_7_loss: 5.3777 - val_dense_605_8_loss: 5.0006 - val_dense_605_9_loss: 4.3909 - val_dense_605_10_loss: 3.8752 - val_dense_605_11_loss: 3.5468 - val_dense_605_12_loss: 2.8014 - val_dense_605_13_loss: 2.4554 - val_dense_605_14_loss: 2.0696 - val_dense_605_15_loss: 1.6440 - val_dense_605_16_loss: 1.4502 - val_dense_605_17_loss: 1.1318 - val_dense_605_18_loss: 0.9072 - val_dense_605_19_loss: 0.7603 - val_dense_605_accuracy: 0.2552 - val_dense_605_1_accuracy: 0.3656 - val_dense_605_2_accuracy: 0.2433 - val_dense_605_3_accuracy: 0.2719 - val_dense_605_4_accuracy: 0.2716 - val_dense_605_5_accuracy: 0.2426 - val_dense_605_6_accuracy: 0.2660 - val_dense_605_7_accuracy: 0.3226 - val_dense_605_8_accuracy: 0.3743 - val_dense_605_9_accuracy: 0.4408 - val_dense_605_10_accuracy: 0.5023 - val_dense_605_11_accuracy: 0.5533 - val_dense_605_12_accuracy: 0.6309 - val_dense_605_13_accuracy: 0.6903 - val_dense_605_14_accuracy: 0.7417 - val_dense_605_15_accuracy: 0.7882 - val_dense_605_16_accuracy: 0.8203 - val_dense_605_17_accuracy: 0.8612 - val_dense_605_18_accuracy: 0.8916 - val_dense_605_19_accuracy: 0.9081\n",
            "Epoch 15/30\n",
            "91/91 [==============================] - ETA: 0s - loss: 41.8740 - dense_605_loss: 3.7168 - dense_605_1_loss: 2.6453 - dense_605_2_loss: 3.2682 - dense_605_3_loss: 3.1679 - dense_605_4_loss: 3.1727 - dense_605_5_loss: 3.1316 - dense_605_6_loss: 3.1279 - dense_605_7_loss: 2.9064 - dense_605_8_loss: 2.6877 - dense_605_9_loss: 2.4707 - dense_605_10_loss: 2.2259 - dense_605_11_loss: 1.8871 - dense_605_12_loss: 1.6169 - dense_605_13_loss: 1.3490 - dense_605_14_loss: 1.1273 - dense_605_15_loss: 0.9467 - dense_605_16_loss: 0.7991 - dense_605_17_loss: 0.6561 - dense_605_18_loss: 0.5414 - dense_605_19_loss: 0.4292 - dense_605_accuracy: 0.2919 - dense_605_1_accuracy: 0.4351 - dense_605_2_accuracy: 0.3450 - dense_605_3_accuracy: 0.3810 - dense_605_4_accuracy: 0.3844 - dense_605_5_accuracy: 0.3917 - dense_605_6_accuracy: 0.3882 - dense_605_7_accuracy: 0.4340 - dense_605_8_accuracy: 0.4854 - dense_605_9_accuracy: 0.5306 - dense_605_10_accuracy: 0.5697 - dense_605_11_accuracy: 0.6387 - dense_605_12_accuracy: 0.6886 - dense_605_13_accuracy: 0.7408 - dense_605_14_accuracy: 0.7816 - dense_605_15_accuracy: 0.8189 - dense_605_16_accuracy: 0.8463 - dense_605_17_accuracy: 0.8788 - dense_605_18_accuracy: 0.8957 - dense_605_19_accuracy: 0.9170\n",
            "Epoch 00015: val_loss did not improve from 71.56872\n",
            "91/91 [==============================] - 43s 470ms/step - loss: 41.8740 - dense_605_loss: 3.7168 - dense_605_1_loss: 2.6453 - dense_605_2_loss: 3.2682 - dense_605_3_loss: 3.1679 - dense_605_4_loss: 3.1727 - dense_605_5_loss: 3.1316 - dense_605_6_loss: 3.1279 - dense_605_7_loss: 2.9064 - dense_605_8_loss: 2.6877 - dense_605_9_loss: 2.4707 - dense_605_10_loss: 2.2259 - dense_605_11_loss: 1.8871 - dense_605_12_loss: 1.6169 - dense_605_13_loss: 1.3490 - dense_605_14_loss: 1.1273 - dense_605_15_loss: 0.9467 - dense_605_16_loss: 0.7991 - dense_605_17_loss: 0.6561 - dense_605_18_loss: 0.5414 - dense_605_19_loss: 0.4292 - dense_605_accuracy: 0.2919 - dense_605_1_accuracy: 0.4351 - dense_605_2_accuracy: 0.3450 - dense_605_3_accuracy: 0.3810 - dense_605_4_accuracy: 0.3844 - dense_605_5_accuracy: 0.3917 - dense_605_6_accuracy: 0.3882 - dense_605_7_accuracy: 0.4340 - dense_605_8_accuracy: 0.4854 - dense_605_9_accuracy: 0.5306 - dense_605_10_accuracy: 0.5697 - dense_605_11_accuracy: 0.6387 - dense_605_12_accuracy: 0.6886 - dense_605_13_accuracy: 0.7408 - dense_605_14_accuracy: 0.7816 - dense_605_15_accuracy: 0.8189 - dense_605_16_accuracy: 0.8463 - dense_605_17_accuracy: 0.8788 - dense_605_18_accuracy: 0.8957 - dense_605_19_accuracy: 0.9170 - val_loss: 72.4200 - val_dense_605_loss: 4.4131 - val_dense_605_1_loss: 4.3912 - val_dense_605_2_loss: 5.3506 - val_dense_605_3_loss: 5.5654 - val_dense_605_4_loss: 5.5686 - val_dense_605_5_loss: 5.8348 - val_dense_605_6_loss: 5.7054 - val_dense_605_7_loss: 5.4059 - val_dense_605_8_loss: 5.0332 - val_dense_605_9_loss: 4.4058 - val_dense_605_10_loss: 3.8907 - val_dense_605_11_loss: 3.5435 - val_dense_605_12_loss: 2.8393 - val_dense_605_13_loss: 2.4808 - val_dense_605_14_loss: 2.0829 - val_dense_605_15_loss: 1.6464 - val_dense_605_16_loss: 1.4531 - val_dense_605_17_loss: 1.1361 - val_dense_605_18_loss: 0.9107 - val_dense_605_19_loss: 0.7626 - val_dense_605_accuracy: 0.2695 - val_dense_605_1_accuracy: 0.3715 - val_dense_605_2_accuracy: 0.2513 - val_dense_605_3_accuracy: 0.2705 - val_dense_605_4_accuracy: 0.2786 - val_dense_605_5_accuracy: 0.2492 - val_dense_605_6_accuracy: 0.2681 - val_dense_605_7_accuracy: 0.3265 - val_dense_605_8_accuracy: 0.3695 - val_dense_605_9_accuracy: 0.4429 - val_dense_605_10_accuracy: 0.4970 - val_dense_605_11_accuracy: 0.5592 - val_dense_605_12_accuracy: 0.6257 - val_dense_605_13_accuracy: 0.6858 - val_dense_605_14_accuracy: 0.7400 - val_dense_605_15_accuracy: 0.7878 - val_dense_605_16_accuracy: 0.8235 - val_dense_605_17_accuracy: 0.8647 - val_dense_605_18_accuracy: 0.8899 - val_dense_605_19_accuracy: 0.9109\n",
            "Epoch 16/30\n",
            "91/91 [==============================] - ETA: 0s - loss: 40.5241 - dense_605_loss: 3.5641 - dense_605_1_loss: 2.5720 - dense_605_2_loss: 3.1803 - dense_605_3_loss: 3.0775 - dense_605_4_loss: 3.0778 - dense_605_5_loss: 3.0307 - dense_605_6_loss: 3.0085 - dense_605_7_loss: 2.8200 - dense_605_8_loss: 2.5959 - dense_605_9_loss: 2.3902 - dense_605_10_loss: 2.1459 - dense_605_11_loss: 1.8242 - dense_605_12_loss: 1.5631 - dense_605_13_loss: 1.3102 - dense_605_14_loss: 1.0952 - dense_605_15_loss: 0.9171 - dense_605_16_loss: 0.7700 - dense_605_17_loss: 0.6356 - dense_605_18_loss: 0.5276 - dense_605_19_loss: 0.4180 - dense_605_accuracy: 0.3120 - dense_605_1_accuracy: 0.4427 - dense_605_2_accuracy: 0.3533 - dense_605_3_accuracy: 0.3928 - dense_605_4_accuracy: 0.3991 - dense_605_5_accuracy: 0.4023 - dense_605_6_accuracy: 0.4046 - dense_605_7_accuracy: 0.4483 - dense_605_8_accuracy: 0.4929 - dense_605_9_accuracy: 0.5376 - dense_605_10_accuracy: 0.5791 - dense_605_11_accuracy: 0.6443 - dense_605_12_accuracy: 0.6916 - dense_605_13_accuracy: 0.7428 - dense_605_14_accuracy: 0.7861 - dense_605_15_accuracy: 0.8227 - dense_605_16_accuracy: 0.8509 - dense_605_17_accuracy: 0.8791 - dense_605_18_accuracy: 0.8975 - dense_605_19_accuracy: 0.9180\n",
            "Epoch 00016: val_loss did not improve from 71.56872\n",
            "91/91 [==============================] - 43s 470ms/step - loss: 40.5241 - dense_605_loss: 3.5641 - dense_605_1_loss: 2.5720 - dense_605_2_loss: 3.1803 - dense_605_3_loss: 3.0775 - dense_605_4_loss: 3.0778 - dense_605_5_loss: 3.0307 - dense_605_6_loss: 3.0085 - dense_605_7_loss: 2.8200 - dense_605_8_loss: 2.5959 - dense_605_9_loss: 2.3902 - dense_605_10_loss: 2.1459 - dense_605_11_loss: 1.8242 - dense_605_12_loss: 1.5631 - dense_605_13_loss: 1.3102 - dense_605_14_loss: 1.0952 - dense_605_15_loss: 0.9171 - dense_605_16_loss: 0.7700 - dense_605_17_loss: 0.6356 - dense_605_18_loss: 0.5276 - dense_605_19_loss: 0.4180 - dense_605_accuracy: 0.3120 - dense_605_1_accuracy: 0.4427 - dense_605_2_accuracy: 0.3533 - dense_605_3_accuracy: 0.3928 - dense_605_4_accuracy: 0.3991 - dense_605_5_accuracy: 0.4023 - dense_605_6_accuracy: 0.4046 - dense_605_7_accuracy: 0.4483 - dense_605_8_accuracy: 0.4929 - dense_605_9_accuracy: 0.5376 - dense_605_10_accuracy: 0.5791 - dense_605_11_accuracy: 0.6443 - dense_605_12_accuracy: 0.6916 - dense_605_13_accuracy: 0.7428 - dense_605_14_accuracy: 0.7861 - dense_605_15_accuracy: 0.8227 - dense_605_16_accuracy: 0.8509 - dense_605_17_accuracy: 0.8791 - dense_605_18_accuracy: 0.8975 - dense_605_19_accuracy: 0.9180 - val_loss: 72.7996 - val_dense_605_loss: 4.3381 - val_dense_605_1_loss: 4.4138 - val_dense_605_2_loss: 5.3801 - val_dense_605_3_loss: 5.6001 - val_dense_605_4_loss: 5.6136 - val_dense_605_5_loss: 5.8839 - val_dense_605_6_loss: 5.7363 - val_dense_605_7_loss: 5.4530 - val_dense_605_8_loss: 5.0537 - val_dense_605_9_loss: 4.4431 - val_dense_605_10_loss: 3.9238 - val_dense_605_11_loss: 3.5811 - val_dense_605_12_loss: 2.8444 - val_dense_605_13_loss: 2.4940 - val_dense_605_14_loss: 2.0900 - val_dense_605_15_loss: 1.6598 - val_dense_605_16_loss: 1.4658 - val_dense_605_17_loss: 1.1445 - val_dense_605_18_loss: 0.9125 - val_dense_605_19_loss: 0.7680 - val_dense_605_accuracy: 0.2831 - val_dense_605_1_accuracy: 0.3775 - val_dense_605_2_accuracy: 0.2614 - val_dense_605_3_accuracy: 0.2709 - val_dense_605_4_accuracy: 0.2800 - val_dense_605_5_accuracy: 0.2534 - val_dense_605_6_accuracy: 0.2649 - val_dense_605_7_accuracy: 0.3212 - val_dense_605_8_accuracy: 0.3705 - val_dense_605_9_accuracy: 0.4387 - val_dense_605_10_accuracy: 0.4970 - val_dense_605_11_accuracy: 0.5578 - val_dense_605_12_accuracy: 0.6239 - val_dense_605_13_accuracy: 0.6907 - val_dense_605_14_accuracy: 0.7407 - val_dense_605_15_accuracy: 0.7899 - val_dense_605_16_accuracy: 0.8238 - val_dense_605_17_accuracy: 0.8637 - val_dense_605_18_accuracy: 0.8902 - val_dense_605_19_accuracy: 0.9088\n",
            "Epoch 00016: early stopping\n"
          ],
          "name": "stdout"
        }
      ]
    },
    {
      "cell_type": "code",
      "metadata": {
        "id": "kvK0f_qSSLNw",
        "colab_type": "code",
        "colab": {}
      },
      "source": [
        " model[1].save(f\"/content/v5.0 _{version_dataset}_remove_stopword_{n_first_content}_{n_first_headline}_attention_best.h5\")"
      ],
      "execution_count": 0,
      "outputs": []
    },
    {
      "cell_type": "code",
      "metadata": {
        "id": "mCZM0S9Y8_96",
        "colab_type": "code",
        "colab": {}
      },
      "source": [
        "!pip install rouge\n",
        "from rouge import Rouge \n",
        "def evaluate_result(gold_sum,pred_sum) : \n",
        "  rouge = Rouge()\n",
        "  avg_scores = rouge.get_scores(pred_sum, gold_sum, avg=True)\n",
        "  return avg_scores\n"
      ],
      "execution_count": 0,
      "outputs": []
    },
    {
      "cell_type": "code",
      "metadata": {
        "id": "KLvpVDqLmfHo",
        "colab_type": "code",
        "colab": {}
      },
      "source": [
        "def pred(n_batch,generator,model) :\n",
        "  pred_sentences = []\n",
        "  for i in range(len(generator)) :\n",
        "    output = np.array(model.predict(generator[i])).swapaxes(0,1).tolist()\n",
        "    for pred in output:\n",
        "      # print(len(pred))\n",
        "      decoded_sentence  = ''\n",
        "      for token in pred :\n",
        "        # print(len(token))\n",
        "        sampled_token_index = np.argmax(token)\n",
        "        if(sampled_token_index == 0) :\n",
        "          continue\n",
        "        decoded_sentence = decoded_sentence + \" \" + rev_dict_t[sampled_token_index]\n",
        "      pred_sentences.append(decoded_sentence.strip())\n",
        "  return pred_sentences"
      ],
      "execution_count": 0,
      "outputs": []
    },
    {
      "cell_type": "code",
      "metadata": {
        "id": "ZV2h1KmhJb0v",
        "colab_type": "code",
        "colab": {}
      },
      "source": [
        "n_batch = 50\n",
        "training_generator = SequenceGenerator(np.array(X_train),np.array(y_train),n_batch,vocab_size,1)\n",
        "validation_generator = SequenceGenerator(np.array(X_val),np.array(y_val),n_batch,vocab_size,1)\n",
        "test_generator = SequenceGenerator(np.array(X_test),np.array(y_test),n_batch,vocab_size,1)\n",
        "\n",
        "rouge = {}\n",
        "test_pred_2 = pred(n_batch,test_generator,model[2])\n",
        "rouge[\"test2\"] = evaluate_result(test_pred_2,gold_sum_test)\n",
        "print(rouge[\"test2\"])\n",
        "rouge[\"train\"] = evaluate_result(train_pred,gold_sum_train,)\n",
        "print(rouge[\"train\"])\n",
        "val_pred = pred(n_batch,validation_generator,model[2])\n",
        "rouge[\"val\"] = evaluate_result(val_pred,gold_sum_val)\n",
        "print(rouge[\"val\"])"
      ],
      "execution_count": 0,
      "outputs": []
    },
    {
      "cell_type": "markdown",
      "metadata": {
        "id": "mF5oxk5u-uQa",
        "colab_type": "text"
      },
      "source": [
        "- load modelX"
      ]
    }
  ]
}